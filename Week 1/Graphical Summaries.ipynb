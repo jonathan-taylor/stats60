{
 "metadata": {
  "celltoolbar": "Slideshow",
  "name": "",
  "signature": "sha256:edeef1fb8d76395bbe0f4b3bd0f3d0b248d7f77ae8201fb9dd7e44fddc3d35fe"
 },
 "nbformat": 3,
 "nbformat_minor": 0,
 "worksheets": [
  {
   "cells": [
    {
     "cell_type": "heading",
     "level": 1,
     "metadata": {
      "slideshow": {
       "slide_type": "slide"
      }
     },
     "prompt_number": 1,
     "source": [
      "Graphical Summaries"
     ]
    },
    {
     "cell_type": "markdown",
     "metadata": {
      "slideshow": {
       "slide_type": "fragment"
      }
     },
     "prompt_number": 1,
     "source": [
      "### Different types of data\n",
      "\n",
      "* Categorical data (e.g. what type of high school) - also called *qualitative*.\n",
      "* Ordinal data (e.g. number of missed lectures) - sometimes called *discrete quantitative*.\n",
      "* Continuous data (e.g. age of incoming freshmen).\n",
      "\n",
      "Different types of data lend themselves to different\n",
      "descriptions and visualizations. \n",
      "  "
     ]
    },
    {
     "cell_type": "markdown",
     "metadata": {
      "slideshow": {
       "slide_type": "slide"
      }
     },
     "prompt_number": 1,
     "source": [
      "## Pie graph\n",
      "\n",
      "* Each category has a sector of the pie.\n",
      "* Area of wedges proportional to percentage.\n",
      "* If 58 % went to public school, wedge for public school has angle $\\frac{58}{100} * 360^{\\circ} \\approx 210^{\\circ}$"
     ]
    },
    {
     "cell_type": "code",
     "collapsed": false,
     "input": [
      "%%capture\n",
      "fracs = [10.2, 57.6, 31.8, 0.4]\n",
      "labels = ['International', 'Public', 'Private', 'Home School']\n",
      "pie_fig = plt.figure(figsize=(8,8))\n",
      "pie_plot = pie_fig.gca()\n",
      "pie_plot.pie(fracs, labels=labels, autopct='%1.0f%%')\n",
      "pie_plot.set_title(\"Where Stanford undergrads went to high school\", fontsize=25)"
     ],
     "language": "python",
     "metadata": {
      "slideshow": {
       "slide_type": "skip"
      }
     },
     "outputs": [],
     "prompt_number": 1
    },
    {
     "cell_type": "code",
     "collapsed": false,
     "input": [
      "pie_fig"
     ],
     "language": "python",
     "metadata": {
      "slideshow": {
       "slide_type": "fragment"
      }
     },
     "outputs": [],
     "prompt_number": 2
    },
    {
     "cell_type": "markdown",
     "metadata": {
      "slideshow": {
       "slide_type": "slide"
      }
     },
     "prompt_number": 3,
     "source": [
      "## Summarizing ordinal data\n",
      "\n",
      "### Missed lectures\n",
      "\n",
      "\n",
      "Courses | Percentage\n",
      "--- | ---\n",
      "0 | 75 %\n",
      "1 | 7 %\n",
      "2 | 3 %\n",
      "3 | 4 %\n",
      "4 | 6 %\n",
      "5 | 5 %\n",
      "\n",
      "This data can also be summarized in a bar plot or *histogram*."
     ]
    },
    {
     "cell_type": "code",
     "collapsed": false,
     "input": [
      "%%capture\n",
      "bar_fig = plt.figure(figsize=(8,8))\n",
      "bar_plot = bar_fig.gca()\n",
      "bar_plot.bar(np.arange(6),[75,7,3,4,6,5], width=1, facecolor='red', \n",
      "             alpha=0.7,\n",
      "             align='center')\n",
      "bar_plot.set_title('Summary of number of missed lectures', fontsize=20)\n",
      "bar_plot.set_ylabel('Percentage of students (%)', fontsize=18)\n",
      "bar_plot.set_xlabel('Number of lectures missed', fontsize=18)\n",
      "bar_plot.set_xlim([-0.5,5.5])"
     ],
     "language": "python",
     "metadata": {
      "slideshow": {
       "slide_type": "skip"
      }
     },
     "outputs": [],
     "prompt_number": 3
    },
    {
     "cell_type": "code",
     "collapsed": false,
     "input": [
      "bar_fig"
     ],
     "language": "python",
     "metadata": {
      "slideshow": {
       "slide_type": "slide"
      }
     },
     "outputs": [],
     "prompt_number": 4
    },
    {
     "cell_type": "markdown",
     "metadata": {
      "slideshow": {
       "slide_type": "slide"
      }
     },
     "prompt_number": 5,
     "source": [
      "## Summarizing continuous data\n",
      "\n",
      "### California population by age\n",
      "\n",
      "Age group | Count | Percentage\n",
      "--- | --- | ---\n",
      "0-20 | 10000000 | 29%\n",
      "20-55 | 17500000 | 17500000 / 34000000 = 52%\n",
      "55-75 | 4500000 | 13%\n",
      "75+ | 2000000 | 6%\n",
      "**Total** | 34000000 | 100 %\n"
     ]
    },
    {
     "cell_type": "markdown",
     "metadata": {
      "slideshow": {
       "slide_type": "slide"
      }
     },
     "prompt_number": 5,
     "source": [
      "## Histogram\n",
      "\n",
      "We summarize this information graphically with a special\n",
      "type of bar graph called a **histogram.**\n",
      "\n",
      "- Area of a bar corresponds to percentage.\n",
      "- Total area (percentage) should be 100%.\n",
      "- Height of bars is called **density**.\n",
      "- Area of each bar is\n",
      "    $$\n",
      "    \\text{area of bar = (height of bar) * (width of bar) }\n",
      "    $$\n",
      "\n"
     ]
    },
    {
     "cell_type": "code",
     "collapsed": false,
     "input": [
      "%%capture\n",
      "def CAdensity():\n",
      "    bins = [0,20,55,75,100]\n",
      "    count = [29,52,13,6]\n",
      "    hist_fig = plt.figure(figsize=(8,8))\n",
      "    data = np.array([10]*29 + [30]*52 + [60]*13 + [80.]*6)\n",
      "    hist_plot, dens, CDF = sample_density(data, bins=bins, alpha=0.5, ax=hist_fig.gca(),\n",
      "                            facecolor='gray',\n",
      "                            histtype='stepfilled')\n",
      "    hist_plot.set_ylabel('Percentage per year (%)', fontsize=20)\n",
      "    hist_plot.set_xlabel('Age (years)', fontsize=20)\n",
      "    hist_plot.set_title('California population by age groups', fontsize=22)\n",
      "    def area(a, b):\n",
      "        return CDF(b) - CDF(a)\n",
      "    return hist_fig, dens, area\n",
      "\n",
      "hist_fig, CAdens, CAarea = CAdensity()"
     ],
     "language": "python",
     "metadata": {
      "slideshow": {
       "slide_type": "skip"
      }
     },
     "outputs": [],
     "prompt_number": 5
    },
    {
     "cell_type": "code",
     "collapsed": false,
     "input": [
      "hist_fig"
     ],
     "language": "python",
     "metadata": {
      "slideshow": {
       "slide_type": "slide"
      }
     },
     "outputs": [],
     "prompt_number": 6
    },
    {
     "cell_type": "markdown",
     "metadata": {
      "slideshow": {
       "slide_type": "slide"
      }
     },
     "prompt_number": 7,
     "source": [
      "### Interpreting a histogram\n",
      "\n",
      "$$\\text{Percentage in 20-55 age group} = \\left(1.5 \\, \\frac{\\%}{\\text{year}} \\right) * \\left( 35 \\, \\text{years} \\right) \\approx 52 \\%$$"
     ]
    },
    {
     "cell_type": "code",
     "collapsed": false,
     "input": [
      "%%capture\n",
      "hist_fig2, dens2, area2 = CAdensity()\n",
      "ax = hist_fig2.gca()\n",
      "interval = np.linspace(20.001,54.999,20)\n",
      "ax.fill_between(interval, 0*interval, dens2(interval), \n",
      "                facecolor='yellow', hatch='/')\n"
     ],
     "language": "python",
     "metadata": {
      "slideshow": {
       "slide_type": "skip"
      }
     },
     "outputs": [],
     "prompt_number": 7
    },
    {
     "cell_type": "code",
     "collapsed": false,
     "input": [
      "hist_fig2"
     ],
     "language": "python",
     "metadata": {
      "slideshow": {
       "slide_type": "fragment"
      }
     },
     "outputs": [],
     "prompt_number": 8
    },
    {
     "cell_type": "code",
     "collapsed": false,
     "input": [
      "CAarea(20,55)"
     ],
     "language": "python",
     "metadata": {
      "slideshow": {
       "slide_type": "fragment"
      }
     },
     "outputs": [],
     "prompt_number": 9
    },
    {
     "cell_type": "markdown",
     "metadata": {
      "slideshow": {
       "slide_type": "slide"
      }
     },
     "prompt_number": 10,
     "source": [
      "### Interpreting a histogram\n",
      "\n",
      "$$\\text{Percentage in 20-40 age group} = \\left(1.5 \\, \\frac{\\%}{\\text{year}} \\right) * \\left( 20 \\, \\text{years} \\right) \\approx 30 \\%$$\n"
     ]
    },
    {
     "cell_type": "code",
     "collapsed": false,
     "input": [
      "%%capture\n",
      "hist_fig3, dens3, area3 = CAdensity()\n",
      "ax = hist_fig3.gca()\n",
      "interval = np.linspace(20.001,40.,20)\n",
      "ax.fill_between(interval, 0*interval, dens3(interval), \n",
      "                facecolor='green', hatch='/')\n"
     ],
     "language": "python",
     "metadata": {
      "slideshow": {
       "slide_type": "skip"
      }
     },
     "outputs": [],
     "prompt_number": 10
    },
    {
     "cell_type": "code",
     "collapsed": false,
     "input": [
      "hist_fig3"
     ],
     "language": "python",
     "metadata": {
      "slideshow": {
       "slide_type": "fragment"
      }
     },
     "outputs": [],
     "prompt_number": 11
    },
    {
     "cell_type": "code",
     "collapsed": false,
     "input": [
      "CAarea(20,40)"
     ],
     "language": "python",
     "metadata": {
      "slideshow": {
       "slide_type": "fragment"
      }
     },
     "outputs": [],
     "prompt_number": 12
    },
    {
     "cell_type": "markdown",
     "metadata": {
      "slideshow": {
       "slide_type": "slide"
      }
     },
     "prompt_number": 13,
     "source": [
      "### Interpreting a histogram \n",
      "\n",
      "$$\\text{Percentage in 40-60 age group} \\approx \\left(1.5 \\, \\frac{\\%}{\\text{year}} \\right) * \\left( 15 \\, \\text{years} \\right) + \\left(0.6 \\, \\frac{\\%}{\\text{year}} \\right) * \\left( 5 \\, \\text{years} \\right) \\approx 25 \\%$$"
     ]
    },
    {
     "cell_type": "code",
     "collapsed": false,
     "input": [
      "%%capture\n",
      "hist_fig4, dens4, area4 = CAdensity()\n",
      "ax = hist_fig4.gca()\n",
      "interval = np.linspace(40.001,60.,501)\n",
      "ax.fill_between(interval, 0*interval, dens3(interval), \n",
      "                facecolor='blue', hatch='/')\n"
     ],
     "language": "python",
     "metadata": {
      "slideshow": {
       "slide_type": "skip"
      }
     },
     "outputs": [],
     "prompt_number": 13
    },
    {
     "cell_type": "code",
     "collapsed": false,
     "input": [
      "hist_fig4"
     ],
     "language": "python",
     "metadata": {
      "slideshow": {
       "slide_type": "fragment"
      }
     },
     "outputs": [],
     "prompt_number": 14
    },
    {
     "cell_type": "code",
     "collapsed": false,
     "input": [
      "CAarea(40,60)"
     ],
     "language": "python",
     "metadata": {
      "slideshow": {
       "slide_type": "fragment"
      }
     },
     "outputs": [],
     "prompt_number": 15
    },
    {
     "cell_type": "markdown",
     "metadata": {
      "slideshow": {
       "slide_type": "slide"
      }
     },
     "prompt_number": 16,
     "source": [
      "## Continuous histograms\n",
      "\n",
      "The flat histograms we drew above can be thought of as\n",
      "*approximations* to a *continuous histogram*."
     ]
    },
    {
     "cell_type": "code",
     "collapsed": false,
     "input": [
      "%%capture\n",
      "sample = np.random.standard_normal((100000,))\n",
      "plt.figure(figsize=(8,8))\n",
      "hist_opts = {'facecolor':'gray', 'alpha':0.5, 'histtype':'stepfilled'}\n",
      "hist_coarse, _, CDF_coarse = sample_density(sample[:100], bins=10, **hist_opts)\n",
      "hist_coarse.set_xlabel('Units', fontsize=20)\n",
      "hist_coarse.set_ylabel('Density (% per unit change)', fontsize=20)"
     ],
     "language": "python",
     "metadata": {
      "slideshow": {
       "slide_type": "skip"
      }
     },
     "outputs": [],
     "prompt_number": 16
    },
    {
     "cell_type": "code",
     "collapsed": false,
     "input": [
      "hist_coarse.figure"
     ],
     "language": "python",
     "metadata": {
      "slideshow": {
       "slide_type": "fragment"
      }
     },
     "outputs": [],
     "prompt_number": 17
    },
    {
     "cell_type": "code",
     "collapsed": false,
     "input": [
      "%%capture\n",
      "plt.figure(figsize=(8,8))\n",
      "hist_fine, _, CDF_fine = sample_density(sample[:500], bins=20, **hist_opts)\n",
      "hist_fine.set_xlabel('Units', fontsize=20)\n",
      "hist_fine.set_ylabel('Density (% per unit change)', fontsize=20)"
     ],
     "language": "python",
     "metadata": {
      "slideshow": {
       "slide_type": "skip"
      }
     },
     "outputs": [],
     "prompt_number": 18
    },
    {
     "cell_type": "code",
     "collapsed": false,
     "input": [
      "hist_fine.figure"
     ],
     "language": "python",
     "metadata": {
      "slideshow": {
       "slide_type": "fragment"
      }
     },
     "outputs": [],
     "prompt_number": 19
    },
    {
     "cell_type": "code",
     "collapsed": false,
     "input": [
      "%%capture\n",
      "plt.figure(figsize=(8,8))\n",
      "hist_finer, _, CDF_finer = sample_density(sample[:10000], bins=50, **hist_opts)\n",
      "hist_finer.set_xlabel('Units', fontsize=20)\n",
      "hist_finer.set_ylabel('Density (% per unit change)', fontsize=20)"
     ],
     "language": "python",
     "metadata": {
      "slideshow": {
       "slide_type": "skip"
      }
     },
     "outputs": [],
     "prompt_number": 20
    },
    {
     "cell_type": "code",
     "collapsed": false,
     "input": [
      "hist_finer.figure"
     ],
     "language": "python",
     "metadata": {
      "slideshow": {
       "slide_type": "slide"
      }
     },
     "outputs": [],
     "prompt_number": 21
    },
    {
     "cell_type": "code",
     "collapsed": false,
     "input": [
      "%%capture\n",
      "from scipy.stats import norm as ndist\n",
      "X = np.linspace(-4,4,101)\n",
      "hist_finer.plot(X, ndist.pdf(X), c='k', linewidth=4)\n",
      "hist_finer.set_title('With more data, the discrete histogram converges to a curve', fontsize=15, color='red')\n"
     ],
     "language": "python",
     "metadata": {
      "slideshow": {
       "slide_type": "skip"
      }
     },
     "outputs": [],
     "prompt_number": 22
    },
    {
     "cell_type": "code",
     "collapsed": false,
     "input": [
      "hist_finer.figure"
     ],
     "language": "python",
     "metadata": {
      "slideshow": {
       "slide_type": "slide"
      }
     },
     "outputs": [],
     "prompt_number": 23
    },
    {
     "cell_type": "code",
     "collapsed": false,
     "input": [
      "%%capture\n",
      "plt.figure(figsize=(8,8))\n",
      "hist_finest, _, CDF_finest = sample_density(sample, bins=200, **hist_opts)\n",
      "hist_finest.set_xlabel('Units', fontsize=20)\n",
      "hist_finest.set_ylabel('Density (% per unit change)', fontsize=20)\n",
      "hist_finest.set_title('Even finer resolution...', fontsize=15, color='red')\n",
      "hist_finest.plot(X, ndist.pdf(X), c='k', linewidth=4)"
     ],
     "language": "python",
     "metadata": {
      "slideshow": {
       "slide_type": "skip"
      }
     },
     "outputs": [],
     "prompt_number": 24
    },
    {
     "cell_type": "code",
     "collapsed": false,
     "input": [
      "hist_finest.figure"
     ],
     "language": "python",
     "metadata": {
      "slideshow": {
       "slide_type": "slide"
      }
     },
     "outputs": [],
     "prompt_number": 25
    },
    {
     "cell_type": "markdown",
     "metadata": {
      "slideshow": {
       "slide_type": "slide"
      }
     },
     "prompt_number": 26,
     "source": [
      "## Area under a continuous histogram"
     ]
    },
    {
     "cell_type": "code",
     "collapsed": false,
     "input": [
      "%%capture\n",
      "hist_opts['alpha'] = 0.\n",
      "regions = [((-2,2,501), {'facecolor':'yellow', 'hatch':'/'})]\n",
      "ax = sample_density(sample[:100], bins=10, regions=regions, ax=hist_coarse, **hist_opts)[0]\n",
      "ax.set_title('Area: %0.1f' % (100 * (CDF_coarse(2) - CDF_coarse(-2))), fontsize=15)"
     ],
     "language": "python",
     "metadata": {
      "slideshow": {
       "slide_type": "skip"
      }
     },
     "outputs": [],
     "prompt_number": 26
    },
    {
     "cell_type": "code",
     "collapsed": false,
     "input": [
      "ax.figure"
     ],
     "language": "python",
     "metadata": {
      "slideshow": {
       "slide_type": "fragment"
      }
     },
     "outputs": [],
     "prompt_number": 27
    },
    {
     "cell_type": "code",
     "collapsed": false,
     "input": [
      "%%capture\n",
      "ax = sample_density(sample[:500], bins=20, regions=regions, \n",
      "                    ax=hist_fine, **hist_opts)[0]\n",
      "ax.set_title('Area: %0.1f' % (100 * (CDF_fine(2) - CDF_fine(-2))), fontsize=15)"
     ],
     "language": "python",
     "metadata": {
      "slideshow": {
       "slide_type": "skip"
      }
     },
     "outputs": [],
     "prompt_number": 28
    },
    {
     "cell_type": "code",
     "collapsed": false,
     "input": [
      "ax.figure"
     ],
     "language": "python",
     "metadata": {
      "slideshow": {
       "slide_type": "slide"
      }
     },
     "outputs": [],
     "prompt_number": 29
    },
    {
     "cell_type": "code",
     "collapsed": false,
     "input": [
      "%%capture\n",
      "interval = np.linspace(-6,6,501)\n",
      "ax = sample_density(sample[:10000], bins=50, regions=regions, ax=hist_finer, **hist_opts)[0]\n",
      "ax.plot(interval, ndist.pdf(interval), 'k', linewidth=4)\n",
      "ax.set_title('')\n",
      "ax.set_title('Area: %0.1f' % (100 * (CDF_finer(2) - CDF_finer(-2))), fontsize=15)"
     ],
     "language": "python",
     "metadata": {
      "slideshow": {
       "slide_type": "skip"
      }
     },
     "outputs": [],
     "prompt_number": 30
    },
    {
     "cell_type": "code",
     "collapsed": false,
     "input": [
      "ax.figure"
     ],
     "language": "python",
     "metadata": {
      "slideshow": {
       "slide_type": "slide"
      }
     },
     "outputs": [],
     "prompt_number": 31
    },
    {
     "cell_type": "code",
     "collapsed": false,
     "input": [
      "%%capture\n",
      "ax = sample_density(sample, bins=200, regions=regions, ax=hist_finest, **hist_opts)[0]\n",
      "ax.plot(interval, ndist.pdf(interval), 'k', linewidth=4)\n",
      "ax.set_title('')\n",
      "ax.set_title('Area: %0.1f' % (100 * (CDF_finest(2) - CDF_finest(-2))), fontsize=15)"
     ],
     "language": "python",
     "metadata": {
      "slideshow": {
       "slide_type": "skip"
      }
     },
     "outputs": [],
     "prompt_number": 32
    },
    {
     "cell_type": "code",
     "collapsed": false,
     "input": [
      "ax.figure"
     ],
     "language": "python",
     "metadata": {
      "slideshow": {
       "slide_type": "slide"
      }
     },
     "outputs": [],
     "prompt_number": 33
    },
    {
     "cell_type": "markdown",
     "metadata": {
      "slideshow": {
       "slide_type": "slide"
      }
     },
     "prompt_number": 34,
     "source": [
      "## Area under a continuous histogram\n",
      "\n",
      "As the width of the bins shrinks and the histogram converges\n",
      "to a continuous curve, the area also converges:\n",
      "$$\n",
      "\\begin{aligned}\n",
      "\\text{Area between $[-2,2]$} &= \\sum_{\\text{bins in $[-2,2]$}} \\text{width(bin) * density(bin)} \\\\\n",
      "&\\to \\int_{-2}^2 f(u) \\; du.\n",
      "\\end{aligned}\n",
      "$$\n",
      "\n",
      "This last quantity is called an *integral* (e.g. MATH41)"
     ]
    },
    {
     "cell_type": "markdown",
     "metadata": {
      "slideshow": {
       "slide_type": "slide"
      }
     },
     "prompt_number": 34,
     "source": [
      "### Shape of a histogram\n",
      "\n",
      "The shape of a histogram tells us something about the data.\n",
      "\n",
      "This histogram is **skewed left (i.e. long left tail)**"
     ]
    },
    {
     "cell_type": "code",
     "collapsed": false,
     "input": [
      "%%capture\n",
      "with plt.xkcd():\n",
      "    skew_left = plt.figure(figsize=(8,8))\n",
      "    sample = list(np.random.beta(2,1, size=15000)) + list(np.random.beta(10,1.5, size=15000)) \n",
      "    stylized_density(sample, ax=skew_left.gca())"
     ],
     "language": "python",
     "metadata": {
      "slideshow": {
       "slide_type": "skip"
      }
     },
     "outputs": [],
     "prompt_number": 34
    },
    {
     "cell_type": "code",
     "collapsed": false,
     "input": [
      "skew_left"
     ],
     "language": "python",
     "metadata": {
      "slideshow": {
       "slide_type": "fragment"
      }
     },
     "outputs": [],
     "prompt_number": 35
    },
    {
     "cell_type": "markdown",
     "metadata": {
      "slideshow": {
       "slide_type": "slide"
      }
     },
     "prompt_number": 36,
     "source": [
      "### Shape of a histogram\n",
      "\n",
      "This histogram is **skewed right (i.e. long right tail)**"
     ]
    },
    {
     "cell_type": "code",
     "collapsed": false,
     "input": [
      "%%capture\n",
      "with plt.xkcd():\n",
      "    skew_right = plt.figure(figsize=(8,8))\n",
      "    sample = list(np.random.beta(1, 2.2, size=25000)) + list(np.random.beta(1,1, size=5000)) \n",
      "    stylized_density(sample, ax=skew_right.gca())"
     ],
     "language": "python",
     "metadata": {
      "slideshow": {
       "slide_type": "skip"
      }
     },
     "outputs": [],
     "prompt_number": 36
    },
    {
     "cell_type": "code",
     "collapsed": false,
     "input": [
      "skew_right"
     ],
     "language": "python",
     "metadata": {
      "slideshow": {
       "slide_type": "fragment"
      }
     },
     "outputs": [],
     "prompt_number": 37
    },
    {
     "cell_type": "markdown",
     "metadata": {
      "slideshow": {
       "slide_type": "slide"
      }
     },
     "prompt_number": 38,
     "source": [
      "### Shape of a histogram\n",
      "\n",
      "This histogram is **symmetric**"
     ]
    },
    {
     "cell_type": "code",
     "collapsed": false,
     "input": [
      "%%capture\n",
      "with plt.xkcd():\n",
      "    symmetric = plt.figure(figsize=(8,8))\n",
      "    sample = np.random.standard_t(40, size=50000)\n",
      "    stylized_density(sample, ax=symmetric.gca())"
     ],
     "language": "python",
     "metadata": {
      "slideshow": {
       "slide_type": "skip"
      }
     },
     "outputs": [],
     "prompt_number": 38
    },
    {
     "cell_type": "code",
     "collapsed": false,
     "input": [
      "symmetric"
     ],
     "language": "python",
     "metadata": {
      "slideshow": {
       "slide_type": "fragment"
      }
     },
     "outputs": [],
     "prompt_number": 39
    },
    {
     "cell_type": "markdown",
     "metadata": {
      "slideshow": {
       "slide_type": "slide"
      }
     },
     "prompt_number": 40,
     "source": [
      "### Shape of a histogram\n",
      "\n",
      "This histogram is **has two peaks.** \n",
      "\n",
      "Statisticians call this **bimodal*."
     ]
    },
    {
     "cell_type": "code",
     "collapsed": false,
     "input": [
      "%%capture\n",
      "with plt.xkcd():\n",
      "    bimodal = plt.figure(figsize=(8,8))\n",
      "    sample = (list(np.random.standard_t(40, size=50000)) + \n",
      "              list(np.random.standard_t(30, size=20000) + 4))\n",
      "    stylized_density(sample, ax=bimodal.gca())\n"
     ],
     "language": "python",
     "metadata": {
      "slideshow": {
       "slide_type": "skip"
      }
     },
     "outputs": [],
     "prompt_number": 40
    },
    {
     "cell_type": "code",
     "collapsed": false,
     "input": [
      "bimodal"
     ],
     "language": "python",
     "metadata": {
      "slideshow": {
       "slide_type": "fragment"
      }
     },
     "outputs": [],
     "prompt_number": 41
    },
    {
     "cell_type": "markdown",
     "metadata": {
      "slideshow": {
       "slide_type": "slide"
      }
     },
     "prompt_number": 42,
     "source": [
      "### Shape of a histogram\n",
      "\n",
      "This histogram is **flat.**"
     ]
    },
    {
     "cell_type": "code",
     "collapsed": false,
     "input": [
      "%%capture\n",
      "with plt.xkcd():\n",
      "    flat = plt.figure(figsize=(8,8))\n",
      "    sample = np.random.sample(100000)\n",
      "    stylized_density(sample, ax=flat.gca())\n"
     ],
     "language": "python",
     "metadata": {
      "slideshow": {
       "slide_type": "skip"
      }
     },
     "outputs": [],
     "prompt_number": 42
    },
    {
     "cell_type": "code",
     "collapsed": false,
     "input": [
      "flat"
     ],
     "language": "python",
     "metadata": {
      "slideshow": {
       "slide_type": "fragment"
      }
     },
     "outputs": [],
     "prompt_number": 43
    },
    {
     "cell_type": "markdown",
     "metadata": {
      "slideshow": {
       "slide_type": "slide"
      }
     },
     "prompt_number": 44,
     "source": [
      "## Other important visual summaries\n",
      "\n",
      "### Scatter plot\n",
      "\n",
      "A plot with two axes:\n",
      "\n",
      "- X-axis is the *independent variable*;\n",
      "- Y-axis is the *dependent variable.*"
     ]
    },
    {
     "cell_type": "code",
     "collapsed": false,
     "input": [
      "%%capture\n",
      "with plt.xkcd():\n",
      "    wage_fig = plt.figure(figsize=(8,8))\n",
      "    wage_ax = wage_fig.gca()\n",
      "    wage = csv2rec(resource_stream('stats_lectures', 'data/wage.csv'))\n",
      "    wage_ax.scatter(wage['education'], wage['logwage'], facecolor='red', s=50)\n",
      "    wage_ax.set_xlabel('Education (years)', fontsize=20)\n",
      "    wage_ax.set_ylabel('log wage (log $)', fontsize=20)\n",
      "    wage_ax.set_title('Scatterplot', fontsize=20)"
     ],
     "language": "python",
     "metadata": {
      "slideshow": {
       "slide_type": "skip"
      }
     },
     "outputs": [],
     "prompt_number": 44
    },
    {
     "cell_type": "code",
     "collapsed": false,
     "input": [
      "wage_fig"
     ],
     "language": "python",
     "metadata": {
      "slideshow": {
       "slide_type": "fragment"
      }
     },
     "outputs": [],
     "prompt_number": 45
    },
    {
     "cell_type": "markdown",
     "metadata": {
      "slideshow": {
       "slide_type": "slide"
      }
     },
     "prompt_number": 46,
     "source": [
      "## Time series\n",
      "\n",
      "- X-axis is *time*\n",
      "- Y-axis is *dependent variable*.\n",
      "- Randomness is often **structured** through **(auto)correlation**."
     ]
    },
    {
     "cell_type": "code",
     "collapsed": false,
     "input": [
      "%%capture\n",
      "\n",
      "import ystockquote, time\n",
      "\n",
      "google_fig = plt.figure(figsize=(10,10))\n",
      "google_ax = google_fig.gca()\n",
      "google = ystockquote.get_historical_prices('GOOG', '2013-01-01', '2013-12-31')\n",
      "\n",
      "dates = []\n",
      "google_close = []\n",
      "for date in sorted(google.keys()):\n",
      "    dates.append(datetime.date(*time.strptime(date, '%Y-%m-%d')[:3]))\n",
      "    google_close.append(float(google[date]['Close']))\n",
      "    \n",
      "google_ax.set_ylabel('Price of \"GOOG\"', fontsize=20)\n",
      "google_ax.set_xlabel('Date', fontsize=20)\n",
      "google_close = np.array(google_close)\n",
      "google_ax.plot(dates, google_close, 'k', linewidth=3)"
     ],
     "language": "python",
     "metadata": {
      "slideshow": {
       "slide_type": "skip"
      }
     },
     "outputs": [],
     "prompt_number": 46
    },
    {
     "cell_type": "code",
     "collapsed": false,
     "input": [
      "google_fig"
     ],
     "language": "python",
     "metadata": {
      "slideshow": {
       "slide_type": "fragment"
      }
     },
     "outputs": [],
     "prompt_number": 47
    },
    {
     "cell_type": "code",
     "collapsed": false,
     "input": [
      "%%capture\n",
      "apple_fig = plt.figure(figsize=(10,10))\n",
      "apple_ax = apple_fig.gca()\n",
      "apple = ystockquote.get_historical_prices('AAPL', '2013-01-01', '2013-12-31')\n",
      "\n",
      "dates = []\n",
      "apple_close = []\n",
      "for date in sorted(google.keys()):\n",
      "    dates.append(datetime.date(*time.strptime(date, '%Y-%m-%d')[:3]))\n",
      "    apple_close.append(float(apple[date]['Close']))\n",
      "    \n",
      "apple_ax.set_ylabel('Price of \"AAPL\"', fontsize=20)\n",
      "apple_ax.set_xlabel('Date', fontsize=20)\n",
      "apple_close = np.array(apple_close)\n",
      "apple_ax.plot(dates, apple_close, 'k', linewidth=3)\n"
     ],
     "language": "python",
     "metadata": {
      "slideshow": {
       "slide_type": "skip"
      }
     },
     "outputs": [],
     "prompt_number": 48
    },
    {
     "cell_type": "code",
     "collapsed": false,
     "input": [
      "apple_fig"
     ],
     "language": "python",
     "metadata": {
      "slideshow": {
       "slide_type": "slide"
      }
     },
     "outputs": [],
     "prompt_number": 49
    },
    {
     "cell_type": "code",
     "collapsed": false,
     "input": [
      "%%capture\n",
      "scatter_fig = plt.figure(figsize=(10,10))\n",
      "scatter_ax = scatter_fig.gca()\n",
      "scatter_ax.scatter(google_close, apple_close, color='red', s=100)\n",
      "scatter_ax.set_xlabel('Price of \"GOOG\"', fontsize=20)\n",
      "scatter_ax.set_ylabel('Price of \"AAPL\"', fontsize=20)"
     ],
     "language": "python",
     "metadata": {
      "slideshow": {
       "slide_type": "skip"
      }
     },
     "outputs": [],
     "prompt_number": 50
    },
    {
     "cell_type": "code",
     "collapsed": false,
     "input": [
      "scatter_fig"
     ],
     "language": "python",
     "metadata": {
      "slideshow": {
       "slide_type": "slide"
      }
     },
     "outputs": [],
     "prompt_number": 51
    }
   ],
   "metadata": {}
  }
 ]
}
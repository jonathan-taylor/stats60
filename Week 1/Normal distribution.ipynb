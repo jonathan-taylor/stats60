{
 "metadata": {
  "celltoolbar": "Slideshow",
  "name": "",
  "signature": "sha256:f9a2f0802c3274550faa107cbd34c32fc487af45cc1946d5272c2f59d6e044d5"
 },
 "nbformat": 3,
 "nbformat_minor": 0,
 "worksheets": [
  {
   "cells": [
    {
     "cell_type": "markdown",
     "metadata": {
      "slideshow": {
       "slide_type": "slide"
      }
     },
     "prompt_number": 1,
     "source": [
      "## Standardized units\n",
      "\n",
      "- Many calculations we will do involve converting a *list* or *sample* to\n",
      "standardized units.\n",
      "\n",
      "- The procedure involves both `average(list)` and `SD(list)`.\n",
      "\n",
      "\n",
      "### Standardizing a list of numbers\n",
      "\n",
      "- Subtracting the average of a list of numbers from each entry yields a new list with average 0.\n",
      "- Dividing each entry in a list of numbers by its SD yields a new list with SD 1.\n",
      "- Combining the two operations yields a *standardized* list, where entries are in *standard units*.\n",
      "- Standard units describe how many SDs each each is above or below the average of the list."
     ]
    },
    {
     "cell_type": "heading",
     "level": 3,
     "metadata": {
      "slideshow": {
       "slide_type": "slide"
      }
     },
     "prompt_number": 1,
     "source": [
      "Standardized units"
     ]
    },
    {
     "cell_type": "markdown",
     "metadata": {
      "slideshow": {
       "slide_type": "slide"
      }
     },
     "prompt_number": 1,
     "source": [
      "### Rule for standardizing *list*\n",
      "\n",
      "The standardized list is\n",
      "\n",
      "    [(entry - average(list)) / SD(list) for entry in list]\n",
      "    \n",
      "### Example: standardize the list [161 , 166 , 171 , 172 ]\n",
      "\n",
      "#### Table for computing average and SD\n",
      "\n",
      "Entry | Data | Deviation | Deviation$^2$\n",
      "------|-----|-----------|---------------\n",
      "1     |  161 |    161-167.5=-6.5     |    (-6.5)^2=42.25\n",
      "2     |  166 |     166-167.5=-1.5     |    (-1.5)^2=2.25\n",
      "3     |  171 |     171-167.5=3.5     |    3.5^2=12.25\n",
      "4     |  172 |     172-167.5=4.5     |    4.5^2=20.25\n",
      "Total |  670 |    (not needed, but always 0)       |    77\n",
      "\n",
      "Average=670/4=167.5, SD = $\\sqrt{77/4}=\\sqrt{19.25}\\approx 4.4$."
     ]
    },
    {
     "cell_type": "markdown",
     "metadata": {
      "slideshow": {
       "slide_type": "slide"
      }
     },
     "prompt_number": 1,
     "source": [
      "#### Standardizing the list\n",
      "\n",
      "The standardized list can be added as a new column to the table.\n",
      "\n",
      "Entry | Data | Deviation | Deviation$^2$ | Standardized data\n",
      "------|-----|-----------|----------------|-------------------\n",
      "1     |  161 |    161-167.5=-6.5     |    (-6.5)^2=42.25 | -6.5/4.4=-1.5\n",
      "2     |  166 |     166-167.5=-1.5     |    (-1.5)^2=2.25 | -1.5/4.4=-0.3\n",
      "3     |  171 |     171-167.5=3.5     |    3.5^2=12.25    | 3.5 / 4.4=0.8\n",
      "4     |  172 |     172-167.5=4.5     |    4.5^2=20.25    | 4.5 / 4.4 = 1.\n",
      "Total |  670 |    (not needed, but always 0)       |    77\n"
     ]
    },
    {
     "cell_type": "markdown",
     "metadata": {
      "slideshow": {
       "slide_type": "slide"
      }
     },
     "prompt_number": 1,
     "source": [
      "### Standardized units in $\\Sigma$ notation\n",
      "\n",
      "* If our list is $X=[X_1, \\dots, X_n]$ and we call our standardized list $$Z=[Z_1, \\dots, Z_n].$$\n",
      "* Then, $$Z_i = \\frac{X_i - \\bar{X}}{\\text{SD}(X)}.$$"
     ]
    },
    {
     "cell_type": "code",
     "collapsed": false,
     "input": [
      "%%capture\n",
      "normal_fig = plt.figure(figsize=(10,10))\n",
      "ax = normal_curve()\n",
      "ax.set_title('The normal curve', fontsize=20)\n"
     ],
     "language": "python",
     "metadata": {
      "slideshow": {
       "slide_type": "skip"
      }
     },
     "outputs": [],
     "prompt_number": 1
    },
    {
     "cell_type": "code",
     "collapsed": false,
     "input": [
      "normal_fig"
     ],
     "language": "python",
     "metadata": {
      "slideshow": {
       "slide_type": "slide"
      }
     },
     "outputs": [],
     "prompt_number": 2
    },
    {
     "cell_type": "markdown",
     "metadata": {
      "slideshow": {
       "slide_type": "slide"
      }
     },
     "prompt_number": 3,
     "source": [
      "### The normal curve\n",
      "\n",
      "- Many (but not all) histograms follow the normal curve after standardizing.\n",
      "\n",
      "- Because standardizing doesn't change the general shape of the\n",
      "histogram, the original histogram must look like the \"normal curve\"."
     ]
    },
    {
     "cell_type": "markdown",
     "metadata": {
      "slideshow": {
       "slide_type": "fragment"
      }
     },
     "prompt_number": 3,
     "source": [
      "### Rules of thumb for SD\n",
      "\n",
      "Our rules of thumb for SD come from the normal curve:\n",
      "\n",
      "* The area under the normal curve between -1 and +1 is about $68\\%$.\n",
      "* The area under the normal curve between -2 and +2 is about $95\\%$.\n",
      "* The area under the normal curve between -3 and +3 is about $99.7\\%$."
     ]
    },
    {
     "cell_type": "markdown",
     "metadata": {
      "slideshow": {
       "slide_type": "slide"
      }
     },
     "prompt_number": 3,
     "source": [
      "### Sample rows of Table A-104\n",
      "\n",
      "\n",
      "$z$ | Height | Area\n",
      "--- | --- | ---\n",
      "0.70 | 31.23 | 51.61\n",
      "1.00 | 24.20 | 68.27\n",
      "2.00 | 5.40 | 95.45"
     ]
    },
    {
     "cell_type": "markdown",
     "metadata": {
      "slideshow": {
       "slide_type": "slide"
      }
     },
     "prompt_number": 3,
     "source": [
      "### Using Table A-104\n",
      "\n",
      "- The height at `z= 0.7` is 31.23% (per standardized unit).\n",
      "\n",
      "- The curve is symmetric, so the height at `z=-0.7` is also 31.23%."
     ]
    },
    {
     "cell_type": "code",
     "collapsed": false,
     "input": [
      "ax = normal_fig.gca()\n",
      "locs = [-.7,.7]\n",
      "ax.bar([loc-0.025 for loc in locs], [ndist.pdf(loc) for loc in locs], width=0.05, color='red')\n"
     ],
     "language": "python",
     "metadata": {
      "slideshow": {
       "slide_type": "skip"
      }
     },
     "outputs": [],
     "prompt_number": 3
    },
    {
     "cell_type": "code",
     "collapsed": false,
     "input": [
      "normal_fig"
     ],
     "language": "python",
     "metadata": {
      "slideshow": {
       "slide_type": "slide"
      }
     },
     "outputs": [],
     "prompt_number": 4
    },
    {
     "cell_type": "markdown",
     "metadata": {
      "slideshow": {
       "slide_type": "slide"
      }
     },
     "prompt_number": 5,
     "source": [
      "### Using table A-104\n"
     ]
    },
    {
     "cell_type": "code",
     "collapsed": false,
     "input": [
      "%%capture\n",
      "fill_1 = plt.figure(figsize=(10,10))\n",
      "ax = fill_1.gca()\n",
      "normal_curve(ax=ax)\n",
      "interval = np.linspace(-0.7,0.7,101)\n",
      "ax.fill_between(interval, 0*interval, ndist.pdf(interval), \n",
      "                hatch='/', facecolor='yellow')\n"
     ],
     "language": "python",
     "metadata": {
      "slideshow": {
       "slide_type": "skip"
      }
     },
     "outputs": [],
     "prompt_number": 5
    },
    {
     "cell_type": "code",
     "collapsed": false,
     "input": [
      "fill_1"
     ],
     "language": "python",
     "metadata": {
      "slideshow": {
       "slide_type": "slide"
      }
     },
     "outputs": [],
     "prompt_number": 6
    },
    {
     "cell_type": "markdown",
     "metadata": {
      "slideshow": {
       "slide_type": "fragment"
      }
     },
     "prompt_number": 7,
     "source": [
      "The area between $z=-0.7$ and $z=0.7$ is 51.61%. This is the \n",
      "entry in Table A-104.\n",
      "\n",
      "Other areas can be computed by symmetry and other considerations."
     ]
    },
    {
     "cell_type": "code",
     "collapsed": false,
     "input": [
      "%%capture\n",
      "fill_2 = plt.figure(figsize=(10,10))\n",
      "ax = normal_curve()\n",
      "interval = np.linspace(-0.7,0.,101)\n",
      "ax.fill_between(interval, 0*interval, ndist.pdf(interval), \n",
      "                hatch='/', facecolor='yellow')\n"
     ],
     "language": "python",
     "metadata": {
      "slideshow": {
       "slide_type": "skip"
      }
     },
     "outputs": [],
     "prompt_number": 7
    },
    {
     "cell_type": "code",
     "collapsed": false,
     "input": [
      "fill_2"
     ],
     "language": "python",
     "metadata": {
      "slideshow": {
       "slide_type": "slide"
      }
     },
     "outputs": [],
     "prompt_number": 8
    },
    {
     "cell_type": "markdown",
     "metadata": {
      "slideshow": {
       "slide_type": "fragment"
      }
     },
     "prompt_number": 9,
     "source": [
      "The area between $z=-0.7$ and $z=0$ is ?????\n"
     ]
    },
    {
     "cell_type": "code",
     "collapsed": false,
     "input": [
      "%%capture\n",
      "fill_3 = plt.figure(figsize=(10,10))\n",
      "ax = normal_curve()\n",
      "interval = np.linspace(0.7,4,101)\n",
      "ax.fill_between(interval, 0*interval, ndist.pdf(interval), \n",
      "                hatch='/', facecolor='yellow')\n"
     ],
     "language": "python",
     "metadata": {
      "slideshow": {
       "slide_type": "skip"
      }
     },
     "outputs": [],
     "prompt_number": 9
    },
    {
     "cell_type": "code",
     "collapsed": false,
     "input": [
      "fill_3"
     ],
     "language": "python",
     "metadata": {
      "slideshow": {
       "slide_type": "slide"
      }
     },
     "outputs": [],
     "prompt_number": 10
    },
    {
     "cell_type": "markdown",
     "metadata": {
      "slideshow": {
       "slide_type": "fragment"
      }
     },
     "prompt_number": 11,
     "source": [
      "The area between $z=0.7$ and $z=\\infty$ is ?????\n"
     ]
    },
    {
     "cell_type": "code",
     "collapsed": false,
     "input": [
      "%%capture\n",
      "fill_4 = plt.figure(figsize=(10,10))\n",
      "ax = normal_curve()\n",
      "interval = np.linspace(0.7,4,101)\n",
      "ax.fill_between(interval, 0*interval, ndist.pdf(interval), \n",
      "                hatch='/', facecolor='#820000')\n",
      "ax.fill_between(-interval, 0*(-interval), ndist.pdf(-interval), \n",
      "                hatch='/', facecolor='#820000')\n"
     ],
     "language": "python",
     "metadata": {
      "slideshow": {
       "slide_type": "skip"
      }
     },
     "outputs": [],
     "prompt_number": 11
    },
    {
     "cell_type": "code",
     "collapsed": false,
     "input": [
      "fill_4"
     ],
     "language": "python",
     "metadata": {
      "slideshow": {
       "slide_type": "slide"
      }
     },
     "outputs": [],
     "prompt_number": 12
    },
    {
     "cell_type": "markdown",
     "metadata": {
      "slideshow": {
       "slide_type": "fragment"
      }
     },
     "prompt_number": 13,
     "source": [
      "<font color=\"#820000\">\n",
      "Area = ????\n",
      "</font>"
     ]
    },
    {
     "cell_type": "code",
     "collapsed": false,
     "input": [
      "%%capture\n",
      "fill_5 = plt.figure(figsize=(10,10))\n",
      "ax = normal_curve()\n",
      "interval = np.linspace(-4,0.7,101)\n",
      "ax.fill_between(interval, 0*interval, ndist.pdf(interval), \n",
      "                hatch='/', facecolor='#820000')\n"
     ],
     "language": "python",
     "metadata": {
      "slideshow": {
       "slide_type": "skip"
      }
     },
     "outputs": [],
     "prompt_number": 13
    },
    {
     "cell_type": "code",
     "collapsed": false,
     "input": [
      "fill_5"
     ],
     "language": "python",
     "metadata": {
      "slideshow": {
       "slide_type": "slide"
      }
     },
     "outputs": [],
     "prompt_number": 14
    },
    {
     "cell_type": "markdown",
     "metadata": {
      "slideshow": {
       "slide_type": "fragment"
      }
     },
     "prompt_number": 15,
     "source": [
      "<font color=\"#820000\">\n",
      "Area = ????\n",
      "</font>"
     ]
    },
    {
     "cell_type": "code",
     "collapsed": false,
     "input": [
      "%%capture\n",
      "height_fig = plt.figure(figsize=(10,10))\n",
      "ax = normal_curve()\n",
      "interval = np.linspace(-2,1,101)\n",
      "ax.fill_between(interval, 0*interval, ndist.pdf(interval), \n",
      "                hatch='/', facecolor='#820000')\n"
     ],
     "language": "python",
     "metadata": {
      "slideshow": {
       "slide_type": "skip"
      }
     },
     "outputs": [],
     "prompt_number": 15
    },
    {
     "cell_type": "code",
     "collapsed": false,
     "input": [
      "height_fig"
     ],
     "language": "python",
     "metadata": {
      "slideshow": {
       "slide_type": "slide"
      }
     },
     "outputs": [],
     "prompt_number": 16
    },
    {
     "cell_type": "markdown",
     "metadata": {
      "slideshow": {
       "slide_type": "fragment"
      }
     },
     "prompt_number": 17,
     "source": [
      "<font color=\"#820000\">\n",
      "It will be easiest to first break the region into two parts,\n",
      "each of which we can use Table A-104 for.\n",
      "</font>"
     ]
    },
    {
     "cell_type": "code",
     "collapsed": false,
     "input": [
      "%%capture\n",
      "height_fig_split = plt.figure(figsize=(10,10))\n",
      "ax = normal_curve()\n",
      "interval = np.linspace(-2,0,101)\n",
      "ax.fill_between(interval, 0*interval, ndist.pdf(interval), \n",
      "                hatch='+', facecolor='blue')\n",
      "interval = np.linspace(0,1,101)\n",
      "ax.fill_between(interval, 0*interval, ndist.pdf(interval), \n",
      "                hatch='o', facecolor='green')\n"
     ],
     "language": "python",
     "metadata": {
      "slideshow": {
       "slide_type": "skip"
      }
     },
     "outputs": [],
     "prompt_number": 17
    },
    {
     "cell_type": "code",
     "collapsed": false,
     "input": [
      "height_fig_split"
     ],
     "language": "python",
     "metadata": {
      "slideshow": {
       "slide_type": "slide"
      }
     },
     "outputs": [],
     "prompt_number": 18
    },
    {
     "cell_type": "markdown",
     "metadata": {
      "slideshow": {
       "slide_type": "fragment"
      }
     },
     "prompt_number": 19,
     "source": [
      "<font color=\"blue\">\n",
      "Area = ????\n",
      "</font>\n",
      "<br>\n",
      "<font color=\"green\">\n",
      "Area = ????\n",
      "</font>\n",
      "<br>"
     ]
    },
    {
     "cell_type": "markdown",
     "metadata": {
      "slideshow": {
       "slide_type": "slide"
      }
     },
     "prompt_number": 19,
     "source": [
      "## Normal approximation for data\n",
      "\n",
      "If we assume data follow the normal curve, then we can use Table\n",
      "A-104 to approximate percentages.\n",
      "\n",
      "\n",
      "### Example: heights of freshmen at Stanford\n",
      "\n",
      "The heights of the male freshmen at Stanford averaged 68 inches with an SD of 3 inches. Use the normal curve to estimate the percentage of these men between 62 inches and 71 inches.\n",
      "\n"
     ]
    },
    {
     "cell_type": "markdown",
     "metadata": {
      "slideshow": {
       "slide_type": "slide"
      }
     },
     "prompt_number": 19,
     "source": [
      "### Normal approximation for data\n",
      "\n",
      "#### Step 1: draw the interval"
     ]
    },
    {
     "cell_type": "code",
     "collapsed": false,
     "input": [
      "%%capture\n",
      "with plt.xkcd():\n",
      "    bar_fig = plt.figure(figsize=(10,3))\n",
      "    ax = bar_fig.gca() \n",
      "    standardize_interval(62,71,68,3, units='Inches', \n",
      "                        facecolor='#820000')\n",
      "    "
     ],
     "language": "python",
     "metadata": {
      "slideshow": {
       "slide_type": "skip"
      }
     },
     "outputs": [],
     "prompt_number": 19
    },
    {
     "cell_type": "code",
     "collapsed": false,
     "input": [
      "bar_fig"
     ],
     "language": "python",
     "metadata": {
      "slideshow": {
       "slide_type": "fragment"
      }
     },
     "outputs": [],
     "prompt_number": 20
    },
    {
     "cell_type": "markdown",
     "metadata": {
      "slideshow": {
       "slide_type": "slide"
      }
     },
     "prompt_number": 21,
     "source": [
      "#### Step 2: add the average to the interval"
     ]
    },
    {
     "cell_type": "code",
     "collapsed": false,
     "input": [
      "%%capture\n",
      "with plt.xkcd():\n",
      "    bar_fig = plt.figure(figsize=(10,3))\n",
      "    ax = bar_fig.gca() \n",
      "    standardize_interval(62,71,68,3, units='Inches', include_mean=True,\n",
      "                         facecolor='#820000')\n",
      "    "
     ],
     "language": "python",
     "metadata": {
      "slideshow": {
       "slide_type": "skip"
      }
     },
     "outputs": [],
     "prompt_number": 21
    },
    {
     "cell_type": "code",
     "collapsed": false,
     "input": [
      "bar_fig"
     ],
     "language": "python",
     "metadata": {
      "slideshow": {
       "slide_type": "fragment"
      }
     },
     "outputs": [],
     "prompt_number": 22
    },
    {
     "cell_type": "markdown",
     "metadata": {
      "slideshow": {
       "slide_type": "slide"
      }
     },
     "prompt_number": 23,
     "source": [
      "#### Step 3: standardize the endpoints"
     ]
    },
    {
     "cell_type": "code",
     "collapsed": false,
     "input": [
      "%%capture\n",
      "with plt.xkcd():\n",
      "    bar_fig = plt.figure(figsize=(10,3))\n",
      "    ax = bar_fig.gca() \n",
      "    standardize_interval(62,71,68,3, units='Inches', include_mean=True,\n",
      "                         facecolor='#820000',\n",
      "                         standardized=True)\n",
      "    "
     ],
     "language": "python",
     "metadata": {
      "slideshow": {
       "slide_type": "skip"
      }
     },
     "outputs": [],
     "prompt_number": 23
    },
    {
     "cell_type": "code",
     "collapsed": false,
     "input": [
      "bar_fig"
     ],
     "language": "python",
     "metadata": {
      "slideshow": {
       "slide_type": "fragment"
      }
     },
     "outputs": [],
     "prompt_number": 24
    },
    {
     "cell_type": "markdown",
     "metadata": {
      "slideshow": {
       "slide_type": "slide"
      }
     },
     "prompt_number": 25,
     "source": [
      "#### Step 4: look up percentage using Table A-104\n"
     ]
    },
    {
     "cell_type": "code",
     "collapsed": false,
     "input": [
      "height_fig"
     ],
     "language": "python",
     "metadata": {
      "slideshow": {
       "slide_type": "fragment"
      }
     },
     "outputs": [],
     "prompt_number": 25
    },
    {
     "cell_type": "code",
     "collapsed": false,
     "input": [
      "a = height_fig_split.gca()\n",
      "a.set_title('Area is approximately %d %%' % (100 * (ndist.cdf(1) - ndist.cdf(-2))),\n",
      "            fontsize=20, color='red')\n",
      "height_fig_split"
     ],
     "language": "python",
     "metadata": {
      "slideshow": {
       "slide_type": "fragment"
      }
     },
     "outputs": [],
     "prompt_number": 26
    },
    {
     "cell_type": "heading",
     "level": 3,
     "metadata": {
      "slideshow": {
       "slide_type": "slide"
      }
     },
     "prompt_number": 27,
     "source": [
      "The normal approximation doesn\u2019t always work"
     ]
    },
    {
     "cell_type": "code",
     "collapsed": false,
     "input": [
      "%%capture\n",
      "with plt.xkcd():\n",
      "    bimodal = plt.figure(figsize=(8,8))\n",
      "    sample = (list(np.random.standard_t(40, size=50000)) + \n",
      "              list(np.random.standard_t(30, size=30000) + 7))\n",
      "    stylized_density(sample, ax=bimodal.gca())\n"
     ],
     "language": "python",
     "metadata": {
      "slideshow": {
       "slide_type": "skip"
      }
     },
     "outputs": [],
     "prompt_number": 27
    },
    {
     "cell_type": "code",
     "collapsed": false,
     "input": [
      "bimodal"
     ],
     "language": "python",
     "metadata": {
      "slideshow": {
       "slide_type": "slide"
      }
     },
     "outputs": [],
     "prompt_number": 28
    },
    {
     "cell_type": "code",
     "collapsed": false,
     "input": [
      "%%capture\n",
      "income_fig = plt.figure(figsize=(10,10))\n",
      "data = csv2rec(resource_stream('stats_lectures', 'data/householdincome2006.csv'), delimiter=';')      \n",
      "breaks = np.array([0,10,20,30,40,50,60,70,80,90,100,150,200,300])*1000\n",
      "sample = []                                                                 \n",
      "for l, u in zip(breaks, breaks[1:]):                                       \n",
      "        g = (data['lower'] < u) * (data['upper'] >= l)                               \n",
      "        sample.extend(np.random.uniform(l, u, size=int(data['count'][g].sum())))\n",
      "sample = np.array(sample) / 1000\n",
      "breaks[-1] = 300000  \n",
      "ax, density, CDF = sample_density(sample, bins=breaks / 1000.,\n",
      "            histtype='stepfilled', facecolor='gray')                                                 \n",
      "ax.set_xlabel('Income (1000$)')\n"
     ],
     "language": "python",
     "metadata": {
      "slideshow": {
       "slide_type": "skip"
      }
     },
     "outputs": [],
     "prompt_number": 29
    },
    {
     "cell_type": "code",
     "collapsed": false,
     "input": [
      "income_fig"
     ],
     "language": "python",
     "metadata": {
      "slideshow": {
       "slide_type": "slide"
      }
     },
     "outputs": [],
     "prompt_number": 30
    },
    {
     "cell_type": "markdown",
     "metadata": {
      "slideshow": {
       "slide_type": "slide"
      }
     },
     "prompt_number": 31,
     "source": [
      "## Percentiles\n",
      "\n",
      "### Definition\n",
      "\n",
      "* The 1st percentile of a histogram is the number with 1 % of the area to the left and 99 % of the area to the right.\n",
      "* The 10th percentile of a histogram is the number with 10 % of the area to the left and 90 % of the area to the right.\n",
      "* **The median is the 50th percentile.**\n",
      "* The **first quartile**\n",
      "   is the 25th percentile; the **third quartile**\n",
      "   is the 75th percentile.\n",
      "* The **inter-quartile range**\n",
      "   is the difference between the third and first quartiles."
     ]
    },
    {
     "cell_type": "heading",
     "level": 3,
     "metadata": {
      "slideshow": {
       "slide_type": "slide"
      }
     },
     "prompt_number": 31,
     "source": [
      "Percentiles"
     ]
    },
    {
     "cell_type": "code",
     "collapsed": false,
     "input": [
      "[(p, int(find_percentile(density, p/100.)))\n",
      "            for p in [2,25,50,75,90,99]]\n"
     ],
     "language": "python",
     "metadata": {
      "slideshow": {
       "slide_type": "fragment"
      }
     },
     "outputs": [],
     "prompt_number": 31
    },
    {
     "cell_type": "markdown",
     "metadata": {
      "slideshow": {
       "slide_type": "fragment"
      }
     },
     "prompt_number": 32,
     "source": [
      "The interquartile range is 58,000. The median is 47,000."
     ]
    },
    {
     "cell_type": "markdown",
     "metadata": {
      "slideshow": {
       "slide_type": "slide"
      }
     },
     "prompt_number": 32,
     "source": [
      "### Percentiles for the normal curve"
     ]
    },
    {
     "cell_type": "code",
     "collapsed": false,
     "input": [
      "[(p, ndist.ppf(p/100.))\n",
      "  for p in [2,25,50,75,90,95,97.5,99]]\n",
      "\n"
     ],
     "language": "python",
     "metadata": {
      "slideshow": {
       "slide_type": "fragment"
      }
     },
     "outputs": [],
     "prompt_number": 32
    },
    {
     "cell_type": "markdown",
     "metadata": {
      "slideshow": {
       "slide_type": "fragment"
      }
     },
     "prompt_number": 33,
     "source": [
      "The interquartile range is 1.34. The median is 0."
     ]
    },
    {
     "cell_type": "code",
     "collapsed": false,
     "input": [
      "%%capture\n",
      "percentile_fig = plt.figure(figsize=(10,10))\n",
      "ax = normal_curve()\n",
      "interval = np.linspace(-4, ndist.ppf(0.95), 101)\n",
      "ax.fill_between(interval, 0*interval, ndist.pdf(interval),\n",
      "                hatch='+', color='green', alpha=0.5)\n",
      "ax.set_title('The green area is 95%', fontsize=20, color='green')\n",
      "ax.annotate('95th percentile=1.65', xy=(ndist.ppf(0.95),0),\n",
      "            xytext=(ndist.ppf(0.95),-0.1), fontsize=20,\n",
      "            arrowprops=dict(facecolor='black'),\n",
      "            horizontalalignment='center')"
     ],
     "language": "python",
     "metadata": {
      "slideshow": {
       "slide_type": "skip"
      }
     },
     "outputs": [],
     "prompt_number": 33
    },
    {
     "cell_type": "code",
     "collapsed": false,
     "input": [
      "percentile_fig"
     ],
     "language": "python",
     "metadata": {
      "slideshow": {
       "slide_type": "slide"
      }
     },
     "outputs": [],
     "prompt_number": 34
    },
    {
     "cell_type": "code",
     "collapsed": false,
     "input": [
      "interval = np.linspace(ndist.ppf(0.95), 4, 101)\n",
      "ax.fill_between(interval, 0*interval, ndist.pdf(interval),\n",
      "                hatch='o', color='red', alpha=0.5)\n",
      "ax.set_title('The red area is 5%', fontsize=20, color='red')\n"
     ],
     "language": "python",
     "metadata": {
      "slideshow": {
       "slide_type": "skip"
      }
     },
     "outputs": [],
     "prompt_number": 35
    },
    {
     "cell_type": "code",
     "collapsed": false,
     "input": [
      "percentile_fig"
     ],
     "language": "python",
     "metadata": {
      "slideshow": {
       "slide_type": "slide"
      }
     },
     "outputs": [],
     "prompt_number": 36
    },
    {
     "cell_type": "code",
     "collapsed": false,
     "input": [
      "%%capture\n",
      "percentile_fig2 = plt.figure(figsize=(10,10))\n",
      "ax = normal_curve()\n",
      "interval = np.linspace(-4, ndist.ppf(0.975), 101)\n",
      "ax.fill_between(interval, 0*interval, ndist.pdf(interval),\n",
      "                hatch='+', color='green', alpha=0.5)\n",
      "ax.set_title('The green area is 97.5%', fontsize=20, color='green')\n",
      "ax.annotate('97.5th percentile=1.96', xy=(ndist.ppf(0.975),0),\n",
      "            xytext=(ndist.ppf(0.975),-0.1), fontsize=20,\n",
      "            arrowprops=dict(facecolor='black'),\n",
      "            horizontalalignment='center')"
     ],
     "language": "python",
     "metadata": {
      "slideshow": {
       "slide_type": "skip"
      }
     },
     "outputs": [],
     "prompt_number": 37
    },
    {
     "cell_type": "code",
     "collapsed": false,
     "input": [
      "percentile_fig2"
     ],
     "language": "python",
     "metadata": {
      "slideshow": {
       "slide_type": "slide"
      }
     },
     "outputs": [],
     "prompt_number": 38
    },
    {
     "cell_type": "code",
     "collapsed": false,
     "input": [
      "interval = np.linspace(ndist.ppf(0.975), 4, 101)\n",
      "ax.fill_between(interval, 0*interval, ndist.pdf(interval),\n",
      "                hatch='o', color='red', alpha=0.5)\n",
      "ax.set_title('The red area is 2.5%', fontsize=20, color='red')\n"
     ],
     "language": "python",
     "metadata": {
      "slideshow": {
       "slide_type": "skip"
      }
     },
     "outputs": [],
     "prompt_number": 39
    },
    {
     "cell_type": "code",
     "collapsed": false,
     "input": [
      "percentile_fig2"
     ],
     "language": "python",
     "metadata": {
      "slideshow": {
       "slide_type": "slide"
      }
     },
     "outputs": [],
     "prompt_number": 40
    },
    {
     "cell_type": "code",
     "collapsed": false,
     "input": [
      "%%capture\n",
      "percentile_fig3 = plt.figure(figsize=(10,10))\n",
      "ax = normal_curve()\n",
      "interval = np.linspace(ndist.ppf(0.025), ndist.ppf(0.975), 101)\n",
      "ax.fill_between(interval, 0*interval, ndist.pdf(interval),\n",
      "                hatch='+', color='#1C2045', alpha=0.5)\n",
      "ax.set_title('The blue area is 95%', fontsize=20, color='#1C2045')\n",
      "ax.annotate('97.5th percentile=1.96', xy=(ndist.ppf(0.975),0),\n",
      "            xytext=(ndist.ppf(0.975),-0.1), fontsize=20,\n",
      "            arrowprops=dict(facecolor='black'),\n",
      "            horizontalalignment='center')"
     ],
     "language": "python",
     "metadata": {
      "slideshow": {
       "slide_type": "skip"
      }
     },
     "outputs": [],
     "prompt_number": 41
    },
    {
     "cell_type": "code",
     "collapsed": false,
     "input": [
      "percentile_fig3"
     ],
     "language": "python",
     "metadata": {
      "slideshow": {
       "slide_type": "slide"
      }
     },
     "outputs": [],
     "prompt_number": 42
    },
    {
     "cell_type": "code",
     "collapsed": false,
     "input": [
      "interval = np.linspace(ndist.ppf(0.975), 4, 101)\n",
      "ax.fill_between(interval, 0*interval, ndist.pdf(interval),\n",
      "                hatch='o', color='#8c1515', alpha=0.5)\n",
      "interval = np.linspace(-4, ndist.ppf(0.025), 101)\n",
      "ax.fill_between(interval, 0*interval, ndist.pdf(interval),\n",
      "                hatch='o', color='#8c1515', alpha=0.5)\n",
      "\n",
      "ax.set_title('Each red area is 2.5%', fontsize=20, color='#8c1515')\n"
     ],
     "language": "python",
     "metadata": {
      "slideshow": {
       "slide_type": "skip"
      }
     },
     "outputs": [],
     "prompt_number": 43
    },
    {
     "cell_type": "code",
     "collapsed": false,
     "input": [
      "percentile_fig3"
     ],
     "language": "python",
     "metadata": {
      "slideshow": {
       "slide_type": "slide"
      }
     },
     "outputs": [],
     "prompt_number": 44
    },
    {
     "cell_type": "markdown",
     "metadata": {
      "slideshow": {
       "slide_type": "slide"
      }
     },
     "prompt_number": 45,
     "source": [
      "### Estimating percentiles\n",
      "\n",
      "Among all applicants to Stanford the Math SAT scores averaged 560 with an SD of 100. The scores followed the normal distribution quite well. Estimate the 90th percentile of the score distribution.\n",
      "Solution\n",
      "\n",
      "**The estimated quantile is** \n",
      "\n",
      "     560 + 100 * 90th quantile of normal curve \n",
      "     = 560 + 100 * 1.28 \n",
      "     = 688\n",
      "     \n",
      "**This is essentially the inverse of forming standardized units.**\n",
      "   "
     ]
    },
    {
     "cell_type": "markdown",
     "metadata": {
      "slideshow": {
       "slide_type": "slide"
      }
     },
     "prompt_number": 45,
     "source": [
      "### Example: SAT scores\n",
      "\n",
      "SAT usually follow a normal curve. Assume the average score is 1100 with an SD of 150. **What percent of students score above 1400?**"
     ]
    },
    {
     "cell_type": "markdown",
     "metadata": {
      "slideshow": {
       "slide_type": "fragment"
      }
     },
     "prompt_number": 45,
     "source": [
      "As we are told the scores follow a normal curve, we\n",
      "convert 1400 to standardized units and find the area\n",
      "above 1400."
     ]
    },
    {
     "cell_type": "code",
     "collapsed": false,
     "input": [
      "%%capture\n",
      "with plt.xkcd():\n",
      "    SAT_fig = plt.figure(figsize=(10,5))\n",
      "    standardize_right(1400, 1100, 150, units=\"SAT\")"
     ],
     "language": "python",
     "metadata": {
      "slideshow": {
       "slide_type": "skip"
      }
     },
     "outputs": [],
     "prompt_number": 45
    },
    {
     "cell_type": "code",
     "collapsed": false,
     "input": [
      "SAT_fig"
     ],
     "language": "python",
     "metadata": {
      "slideshow": {
       "slide_type": "fragment"
      }
     },
     "outputs": [],
     "prompt_number": 46
    },
    {
     "cell_type": "code",
     "collapsed": false,
     "input": [
      "%%capture\n",
      "with plt.xkcd():\n",
      "    SAT_fig = plt.figure(figsize=(10,6))\n",
      "    standardize_right(1400, 1100, 150, standardized=True, units='SAT')"
     ],
     "language": "python",
     "metadata": {
      "slideshow": {
       "slide_type": "skip"
      }
     },
     "outputs": [],
     "prompt_number": 47
    },
    {
     "cell_type": "code",
     "collapsed": false,
     "input": [
      "SAT_fig"
     ],
     "language": "python",
     "metadata": {
      "slideshow": {
       "slide_type": "fragment"
      }
     },
     "outputs": [],
     "prompt_number": 48
    },
    {
     "cell_type": "code",
     "collapsed": false,
     "input": [
      "%%capture\n",
      "percentile_fig4 = plt.figure(figsize=(10,10))\n",
      "ax = normal_curve()\n",
      "interval = np.linspace(2., 4, 101)\n",
      "ax.fill_between(interval, 0*interval, ndist.pdf(interval),\n",
      "                hatch='o', color='green', alpha=0.5)\n",
      "ax.set_title('Area is about 2.5%', color='green', fontsize=20)"
     ],
     "language": "python",
     "metadata": {
      "slideshow": {
       "slide_type": "skip"
      }
     },
     "outputs": [],
     "prompt_number": 49
    },
    {
     "cell_type": "code",
     "collapsed": false,
     "input": [
      "percentile_fig4"
     ],
     "language": "python",
     "metadata": {
      "slideshow": {
       "slide_type": "slide"
      }
     },
     "outputs": [],
     "prompt_number": 50
    },
    {
     "cell_type": "markdown",
     "metadata": {
      "slideshow": {
       "slide_type": "slide"
      }
     },
     "prompt_number": 51,
     "source": [
      "### Example: SAT scores\n",
      "\n",
      "**What percent of students score above between 1000 and 1200?**\n",
      "\n"
     ]
    },
    {
     "cell_type": "code",
     "collapsed": false,
     "input": [
      "%%capture\n",
      "with plt.xkcd():\n",
      "    SAT_fig = plt.figure(figsize=(12,7))\n",
      "    standardize_interval(1000,1200,1100,150, units='SAT')"
     ],
     "language": "python",
     "metadata": {
      "slideshow": {
       "slide_type": "skip"
      }
     },
     "outputs": [],
     "prompt_number": 51
    },
    {
     "cell_type": "code",
     "collapsed": false,
     "input": [
      "SAT_fig"
     ],
     "language": "python",
     "metadata": {
      "slideshow": {
       "slide_type": "fragment"
      }
     },
     "outputs": [],
     "prompt_number": 52
    },
    {
     "cell_type": "code",
     "collapsed": false,
     "input": [
      "%%capture\n",
      "with plt.xkcd():\n",
      "    SAT_fig = plt.figure(figsize=(12,7))\n",
      "    standardize_interval(1000.,1200,1100.,150, units='SAT', \n",
      "                         standardized=True,\n",
      "                         fontsize=14)"
     ],
     "language": "python",
     "metadata": {
      "slideshow": {
       "slide_type": "skip"
      }
     },
     "outputs": [],
     "prompt_number": 53
    },
    {
     "cell_type": "code",
     "collapsed": false,
     "input": [
      "SAT_fig"
     ],
     "language": "python",
     "metadata": {
      "slideshow": {
       "slide_type": "fragment"
      }
     },
     "outputs": [],
     "prompt_number": 54
    },
    {
     "cell_type": "code",
     "collapsed": false,
     "input": [
      "%%capture\n",
      "percentile_fig5 = plt.figure(figsize=(10,10))\n",
      "ax = normal_curve()\n",
      "interval = np.linspace(-0.67, 0.67, 101)\n",
      "ax.fill_between(interval, 0*interval, ndist.pdf(interval),\n",
      "                hatch='o', color='orange', alpha=0.5)\n",
      "ax.set_title('Area is about %d%%' % np.round(100*(ndist.cdf(0.67)-\n",
      "                                             ndist.cdf(-0.67))), \n",
      "             color='orange', fontsize=20)"
     ],
     "language": "python",
     "metadata": {
      "slideshow": {
       "slide_type": "skip"
      }
     },
     "outputs": [],
     "prompt_number": 55
    },
    {
     "cell_type": "code",
     "collapsed": false,
     "input": [
      "percentile_fig5"
     ],
     "language": "python",
     "metadata": {
      "slideshow": {
       "slide_type": "slide"
      }
     },
     "outputs": [],
     "prompt_number": 56
    },
    {
     "cell_type": "markdown",
     "metadata": {
      "slideshow": {
       "slide_type": "slide"
      }
     },
     "prompt_number": 57,
     "source": [
      "### Estimating percentiles using normal curve\n",
      "\n",
      "**What is the 60th percentile of the scores?**"
     ]
    },
    {
     "cell_type": "code",
     "collapsed": false,
     "input": [
      "%%capture\n",
      "sixty_fig = plt.figure(figsize=(10,10))\n",
      "percentile_figure(0.6, 1100, 150, units=\"SAT\", hatch='+', facecolor='red')"
     ],
     "language": "python",
     "metadata": {
      "slideshow": {
       "slide_type": "skip"
      }
     },
     "outputs": [],
     "prompt_number": 57
    },
    {
     "cell_type": "code",
     "collapsed": false,
     "input": [
      "sixty_fig"
     ],
     "language": "python",
     "metadata": {
      "slideshow": {
       "slide_type": "slide"
      }
     },
     "outputs": [],
     "prompt_number": 58
    },
    {
     "cell_type": "code",
     "collapsed": false,
     "input": [
      "%%capture\n",
      "sixty_fig = plt.figure(figsize=(10,10))\n",
      "percentile_figure(0.6, 1100, 150, \n",
      "                  standardized=True,\n",
      "                  units=\"SAT\", hatch='+', facecolor='red')"
     ],
     "language": "python",
     "metadata": {
      "slideshow": {
       "slide_type": "skip"
      }
     },
     "outputs": [],
     "prompt_number": 59
    },
    {
     "cell_type": "code",
     "collapsed": false,
     "input": [
      "sixty_fig"
     ],
     "language": "python",
     "metadata": {
      "slideshow": {
       "slide_type": "slide"
      }
     },
     "outputs": [],
     "prompt_number": 60
    }
   ],
   "metadata": {}
  }
 ]
}
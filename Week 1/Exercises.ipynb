{
 "metadata": {
  "celltoolbar": "Slideshow",
  "name": "",
  "signature": "sha256:39c94b0524902ad7f8c288e23813745c066ea7bbe61e2e49807adc7c9faed12d"
 },
 "nbformat": 3,
 "nbformat_minor": 0,
 "worksheets": [
  {
   "cells": [
    {
     "cell_type": "markdown",
     "metadata": {
      "slideshow": {
       "slide_type": "slide"
      }
     },
     "source": [
      "## Problem like 3.8.4\n",
      "\n",
      "Below is a (fictional) histogram of weight measurements\n",
      "for a large sample of female patients.\n",
      "\n",
      "All questions below refer only to the population from which this\n",
      "sample was taken."
     ]
    },
    {
     "cell_type": "code",
     "collapsed": false,
     "input": [
      "%%capture\n",
      "weight_sample = np.random.standard_normal(1000)*18 + 130\n",
      "weight_fig = plt.figure(figsize=(8,8))\n",
      "weight_ax = weight_fig.gca()\n",
      "sample_density(weight_sample, bins=[90,110,120,130,140,150,160,180,200])\n",
      "weight_ax.set_xlabel('Weight (pounds)', fontsize=15)\n",
      "weight_ax.set_ylabel('Percent per pound', fontsize=15)"
     ],
     "language": "python",
     "metadata": {
      "slideshow": {
       "slide_type": "skip"
      }
     },
     "outputs": [],
     "prompt_number": 1
    },
    {
     "cell_type": "code",
     "collapsed": false,
     "input": [
      "weight_fig"
     ],
     "language": "python",
     "metadata": {
      "slideshow": {
       "slide_type": "fragment"
      }
     },
     "outputs": [],
     "prompt_number": 2
    },
    {
     "cell_type": "markdown",
     "metadata": {
      "slideshow": {
       "slide_type": "fragment"
      }
     },
     "source": [
      "1. Is the percentage of females in this population with weight above\n",
      "150 pounds roughly\n",
      "25%,50% or 75%?\n",
      "\n",
      "2. Is the percentage of females between 90 and 180 pounds 1%, 50% or 99%?\n",
      "\n",
      "3. In which interval are there more females: 135-140 pounds or 140-150 pounds?\n",
      "\n",
      "4. Which interval is more crowded: 150-160 pounds or 160-180 pounds?\n",
      "\n",
      "5. On the interval 120-130 pounds, the height of the histogram is about 2.2% per pound. What percentage of the women had weights in this class interval?\n",
      "\n",
      "6. Which interval has more women: 115-116 pounds or 122-123 pounds?\n",
      "\n",
      "7. Which is the most crowded pound of all?"
     ]
    },
    {
     "cell_type": "markdown",
     "metadata": {
      "slideshow": {
       "slide_type": "slide"
      }
     },
     "source": [
      "## Like 3.8.9\n",
      "\n",
      "In a survey carried out at Stanford, a sample of students were interviewd and asked what their GPA was. A histogram of the results is shown below."
     ]
    },
    {
     "cell_type": "code",
     "collapsed": false,
     "input": [
      "%%capture\n",
      "with plt.xkcd():\n",
      "    bimodal = plt.figure(figsize=(8,8))\n",
      "    sample = (list(0.35 * np.random.standard_t(40, size=50000) + 3) +\n",
      "              list(0.25 * np.random.standard_t(30, size=20000) + 2))\n",
      "    stylized_density(sample, ax=bimodal.gca())\n",
      "    bimodal_ax = bimodal.gca()\n",
      "    bimodal_ax.set_xticks(range(5))\n",
      "    bimodal_ax.set_xlim([0,4])\n",
      "    bimodal_ax.set_xlabel('GPA')\n",
      "    bimodal_ax.set_ylabel('Percent per unit GPA')"
     ],
     "language": "python",
     "metadata": {
      "slideshow": {
       "slide_type": "skip"
      }
     },
     "outputs": [],
     "prompt_number": 3
    },
    {
     "cell_type": "code",
     "collapsed": false,
     "input": [
      "bimodal"
     ],
     "language": "python",
     "metadata": {
      "slideshow": {
       "slide_type": "fragment"
      }
     },
     "outputs": [],
     "prompt_number": 4
    },
    {
     "cell_type": "markdown",
     "metadata": {
      "slideshow": {
       "slide_type": "fragment"
      }
     },
     "source": [
      "1. True or false: more students reported a GPA in the range 2.0 to 2.1 than in the range 1.5 to 1.6.\n",
      "\n",
      "2. True or false: more students reported a GPA in the range 2.0 to 2.1 than in the range 2.5 to 2.6.\n",
      "\n",
      "3. True or false: more students reported a GPA in the range 2.0 to 2.1 than in the range 3.0 to 3.1.\n",
      "\n",
      "4. What accounts for the spikes at 2 and 3?"
     ]
    },
    {
     "cell_type": "code",
     "collapsed": false,
     "input": [],
     "language": "python",
     "metadata": {},
     "outputs": [],
     "prompt_number": 5
    }
   ],
   "metadata": {}
  }
 ]
}
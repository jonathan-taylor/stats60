{
 "metadata": {
  "name": "",
  "signature": "sha256:a1fd16f00739512a1a0f537838de0935585b88d97241802bd2c223ddb3cc5ccb"
 },
 "nbformat": 3,
 "nbformat_minor": 0,
 "worksheets": [
  {
   "cells": [
    {
     "cell_type": "markdown",
     "metadata": {},
     "prompt_number": 1,
     "source": [
      "## Problem like 3.8.4\n",
      "\n",
      "Below is a (fictional) histogram of  blood pressure measurements\n",
      "for a large sample of patients."
     ]
    },
    {
     "cell_type": "code",
     "collapsed": false,
     "input": [
      "%%capture\n",
      "BP_sample = np.random.standard_normal(1000)*12 + 115\n",
      "BP_fig = plt.figure(figsize=(8,8))\n",
      "BP_ax = BP_fig.gca()\n",
      "sample_density(BP_sample, bins=[90,100,105,110,115,120,125,130,135,140,150,160])\n",
      "BP_ax.set_xlabel('Blood Pressure (mm)', fontsize=15)\n",
      "BP_ax.set_ylabel('Percent per mm', fontsize=15)"
     ],
     "language": "python",
     "metadata": {},
     "outputs": [],
     "prompt_number": 1
    },
    {
     "cell_type": "code",
     "collapsed": false,
     "input": [
      "BP_fig"
     ],
     "language": "python",
     "metadata": {},
     "outputs": [],
     "prompt_number": 2
    },
    {
     "cell_type": "markdown",
     "metadata": {},
     "prompt_number": 3,
     "source": [
      "1. Is the percentage of women with blood pressurer above 130mm around\n",
      "25%,50% or 75%?\n",
      "\n",
      "2. Is the percentage of women with blood pressures between 90mm and 160mm 1%, 50% or 99%?\n",
      "\n",
      "3. In which interval are there more women: 135-140mm or 140-150mm?\n",
      "\n",
      "4. Which interval is more crowded: 1350-140mm or 140-150mm?\n",
      "\n",
      "5. On the interval 125-130mm, the height of the histogram is about 2.2% per mm. What percentage of the women had blood pressures in this class interval?\n",
      "\n",
      "6. Which interval has more women: 97-98mm or 102-103mm?\n",
      "\n",
      "7. Which is the most crowded millimeter of all?"
     ]
    },
    {
     "cell_type": "markdown",
     "metadata": {},
     "prompt_number": 3,
     "source": [
      "## Like 3.8.9\n",
      "\n",
      "In a survey carried out at UC Berkeley, a sample of students were interviewd and asked what their GPA was. A histogram of the results is shown below."
     ]
    },
    {
     "cell_type": "code",
     "collapsed": false,
     "input": [
      "%%capture\n",
      "with plt.xkcd():\n",
      "    bimodal = plt.figure(figsize=(8,8))\n",
      "    sample = (list(0.35 * np.random.standard_t(40, size=50000) + 3) +\n",
      "              list(0.25 * np.random.standard_t(30, size=20000) + 2))\n",
      "    stylized_density(sample, ax=bimodal.gca())\n",
      "    bimodal_ax = bimodal.gca()\n",
      "    bimodal_ax.set_xticks(range(5))\n",
      "    bimodal_ax.set_xlim([0,4])\n",
      "    bimodal_ax.set_xlabel('GPA')\n",
      "    bimodal_ax.set_ylabel('Percent per unit GPA')"
     ],
     "language": "python",
     "metadata": {},
     "outputs": [],
     "prompt_number": 3
    },
    {
     "cell_type": "code",
     "collapsed": false,
     "input": [
      "bimodal"
     ],
     "language": "python",
     "metadata": {},
     "outputs": [],
     "prompt_number": 4
    },
    {
     "cell_type": "markdown",
     "metadata": {},
     "prompt_number": 5,
     "source": [
      "1. True or false: more students reported a GPA in the range 2.0 to 2.1 than in the range 1.5 to 1.6.\n",
      "\n",
      "2. True or false: more students reported a GPA in the range 2.0 to 2.1 than in the range 2.5 to 2.6.\n",
      "\n",
      "3. True or false: more students reported a GPA in the range 2.0 to 2.1 than in the range 3.0 to 3.1.\n",
      "\n",
      "4. What accounts for the spikes at 2 and 3?"
     ]
    },
    {
     "cell_type": "code",
     "collapsed": false,
     "input": [],
     "language": "python",
     "metadata": {},
     "outputs": [],
     "prompt_number": 5
    }
   ],
   "metadata": {}
  }
 ]
}
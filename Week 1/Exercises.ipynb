{
 "metadata": {
  "celltoolbar": "Slideshow",
  "name": "",
  "signature": "sha256:a6d51a89eefacd518c7ea855dfd6c9bcffdf142530f770f9194899897b282157"
 },
 "nbformat": 3,
 "nbformat_minor": 0,
 "worksheets": [
  {
   "cells": [
    {
     "cell_type": "markdown",
     "metadata": {
      "slideshow": {
       "slide_type": "slide"
      }
     },
     "source": [
      "## Problem like 3.B.1\n",
      "\n",
      "Below is a table of educational level for persons age 25 and over in the US in\n",
      "the year 2000. Interpret \"16 or more\" as 16-17 years of schooling.\n",
      "\n",
      "Education level (years of schooling) | 2000\n",
      "-------------------------------------|-----\n",
      "0-5 | 2\n",
      "5-8 | 3\n",
      "8-9 | 5\n",
      "9-12 | 10\n",
      "12-13 | 40\n",
      "13-16 | 19\n",
      "16 or more | 20\n",
      "\n",
      "1. Draw the histogram\n",
      "\n",
      "2. Why does your histogram have spikes at 8, 12 and 16 years of schooling?"
     ]
    },
    {
     "cell_type": "markdown",
     "metadata": {
      "slideshow": {
       "slide_type": "slide"
      }
     },
     "source": [
      "## Problem like 3.8.4\n",
      "\n",
      "Below is a (fictional) histogram of weight measurements\n",
      "for a large sample of female patients.\n",
      "\n",
      "All questions below refer only to the population from which this\n",
      "sample was taken."
     ]
    },
    {
     "cell_type": "code",
     "collapsed": false,
     "input": [
      "%%capture\n",
      "weight_sample = np.random.standard_normal(1000)*18 + 130\n",
      "weight_fig = plt.figure(figsize=(8,8))\n",
      "weight_ax = weight_fig.gca()\n",
      "sample_density(weight_sample, bins=[90,110,120,130,140,150,160,180,200])\n",
      "weight_ax.set_xlabel('Weight (pounds)', fontsize=15)\n",
      "weight_ax.set_ylabel('Percent per pound', fontsize=15)"
     ],
     "language": "python",
     "metadata": {
      "slideshow": {
       "slide_type": "skip"
      }
     },
     "outputs": [],
     "prompt_number": 1
    },
    {
     "cell_type": "code",
     "collapsed": false,
     "input": [
      "weight_fig"
     ],
     "language": "python",
     "metadata": {
      "slideshow": {
       "slide_type": "fragment"
      }
     },
     "outputs": [],
     "prompt_number": 2
    },
    {
     "cell_type": "markdown",
     "metadata": {
      "slideshow": {
       "slide_type": "fragment"
      }
     },
     "source": [
      "1. Is the percentage of females in this population with weight above\n",
      "150 pounds roughly\n",
      "25%,50% or 75%?\n",
      "\n",
      "2. Is the percentage of females between 90 and 180 pounds 1%, 50% or 99%?\n",
      "\n",
      "3. In which interval are there more females: 135-140 pounds or 140-150 pounds?\n",
      "\n",
      "4. Which interval is more crowded: 150-160 pounds or 160-180 pounds?\n",
      "\n",
      "5. On the interval 120-130 pounds, the height of the histogram is about 2.2% per pound. What percentage of the women had weights in this class interval?\n",
      "\n",
      "6. Which interval has more women: 115-116 pounds or 122-123 pounds?\n",
      "\n",
      "7. Which is the most crowded pound of all?"
     ]
    },
    {
     "cell_type": "markdown",
     "metadata": {
      "slideshow": {
       "slide_type": "slide"
      }
     },
     "source": [
      "## Like 3.8.9\n",
      "\n",
      "In a survey carried out at Stanford, a sample of students were interviewd and asked what their GPA was. A histogram of the results is shown below."
     ]
    },
    {
     "cell_type": "code",
     "collapsed": false,
     "input": [
      "%%capture\n",
      "with plt.xkcd():\n",
      "    bimodal = plt.figure(figsize=(8,8))\n",
      "    sample = (list(0.35 * np.random.standard_t(40, size=50000) + 3) +\n",
      "              list(0.25 * np.random.standard_t(30, size=20000) + 2))\n",
      "    stylized_density(sample, ax=bimodal.gca())\n",
      "    bimodal_ax = bimodal.gca()\n",
      "    bimodal_ax.set_xticks(range(5))\n",
      "    bimodal_ax.set_xlim([0,4])\n",
      "    bimodal_ax.set_xlabel('GPA')\n",
      "    bimodal_ax.set_ylabel('Percent per unit GPA')"
     ],
     "language": "python",
     "metadata": {
      "slideshow": {
       "slide_type": "skip"
      }
     },
     "outputs": [],
     "prompt_number": 3
    },
    {
     "cell_type": "code",
     "collapsed": false,
     "input": [
      "bimodal"
     ],
     "language": "python",
     "metadata": {
      "slideshow": {
       "slide_type": "fragment"
      }
     },
     "outputs": [],
     "prompt_number": 4
    },
    {
     "cell_type": "markdown",
     "metadata": {
      "slideshow": {
       "slide_type": "fragment"
      }
     },
     "source": [
      "1. True or false: more students reported a GPA in the range 2.0 to 2.1 than in the range 1.5 to 1.6.\n",
      "\n",
      "2. True or false: more students reported a GPA in the range 2.0 to 2.1 than in the range 2.5 to 2.6.\n",
      "\n",
      "3. True or false: more students reported a GPA in the range 2.0 to 2.1 than in the range 3.0 to 3.1.\n",
      "\n",
      "4. What accounts for the spikes at 2 and 3?"
     ]
    },
    {
     "cell_type": "code",
     "collapsed": false,
     "input": [],
     "language": "python",
     "metadata": {},
     "outputs": [],
     "prompt_number": 5
    }
   ],
   "metadata": {}
  }
 ]
}
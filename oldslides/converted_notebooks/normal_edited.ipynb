{
 "metadata": {
  "name": ""
 },
 "nbformat": 3,
 "nbformat_minor": 0,
 "worksheets": [
  {
   "cells": [
    {
     "cell_type": "code",
     "collapsed": false,
     "input": [
      "%load_ext rmagic"
     ],
     "language": "python",
     "metadata": {
      "slideshow": {
       "slide_type": "skip"
      }
     },
     "outputs": []
    },
    {
     "cell_type": "heading",
     "level": 3,
     "metadata": {
      "slideshow": {
       "slide_type": "slide"
      }
     },
     "source": [
      "Standardized units"
     ]
    },
    {
     "cell_type": "markdown",
     "metadata": {},
     "source": [
      "\n",
      "Standardizing a list of numbers\n",
      "\n",
      "* Subtracting the average of a list of numbers from each entry yields a new list with average 0.\n",
      "* Dividing each entry in a list of numbers by its SD yields a new list with SD 1.\n",
      "* Combining the two operations yields a *standardized*\n",
      "   list, where entries are in *standard units*\n",
      "  .\n",
      "* Standard units describe how many SDs each each is above or below the average of the list."
     ]
    },
    {
     "cell_type": "heading",
     "level": 3,
     "metadata": {
      "slideshow": {
       "slide_type": "slide"
      }
     },
     "source": [
      "Standardized units"
     ]
    },
    {
     "cell_type": "markdown",
     "metadata": {},
     "source": [
      "\n",
      "Rule for standardizing *list*\n",
      "\n",
      " $\\text{new entry ({\\em list})} = \\frac{\\text{old entry({\\em list})} - \\text{average({\\em list})}}{\\text{SD({\\em list})}}$\n",
      "Example: [161 , 166 , 171 , 172 ]\n",
      "\n",
      "The average is 167.5 and the SD is $\\approx 4.4 \\text{lbs}$ $\\begin{aligned}\n",
      "   \\text{standardized list} &= [(161-167.5)/4.4,   (166-167.5)/4.4, \\\\\n",
      "   & \\qquad (171-167.5)/4.4, (172-167.5)/4.4] \\\\\n",
      "   &= [-1.5,-0.3,0.8,1.0]\n",
      "   \\end{aligned}$"
     ]
    },
    {
     "cell_type": "heading",
     "level": 3,
     "metadata": {
      "slideshow": {
       "slide_type": "slide"
      }
     },
     "source": [
      "Standardized units"
     ]
    },
    {
     "cell_type": "markdown",
     "metadata": {},
     "source": [
      "\n",
      "$\\Sigma$ notation\n",
      "\n",
      "* If our list is $X=[X_1, \\dots, X_n]$ and we call our standardized list $Z=[Z_1, \\dots, Z_n]$.\n",
      "* Then, $Z_i = \\frac{X_i - \\bar{X}}{\\text{SD}(X)}.$"
     ]
    },
    {
     "cell_type": "heading",
     "level": 3,
     "metadata": {
      "slideshow": {
       "slide_type": "slide"
      }
     },
     "source": [
      "The normal curve"
     ]
    },
    {
     "cell_type": "code",
     "collapsed": false,
     "input": [
      "from matplotlib import rc\n",
      "import pylab, numpy as np, sys\n",
      "np.random.seed(0);import random; random.seed(0)\n",
      "import pylab, numpy as np\n",
      "x = np.linspace(-4,4,101)\n",
      "y = np.exp(-x**2/2) / np.sqrt(2*np.pi)\n",
      "pylab.plot(x,y*100, linewidth=2)\n",
      "pylab.gca().set_xlabel('standardized units')\n",
      "pylab.gca().set_ylabel('% per standardized unit')\n",
      "#pylab.gca().set_xlim([-2,4])\n",
      "#pylab.gca().set_yticks([])"
     ],
     "language": "python",
     "metadata": {},
     "outputs": []
    },
    {
     "cell_type": "markdown",
     "metadata": {},
     "source": [
      "\n",
      "Many histograms follow the normal curve after standardizing"
     ]
    },
    {
     "cell_type": "heading",
     "level": 3,
     "metadata": {
      "slideshow": {
       "slide_type": "slide"
      }
     },
     "source": [
      "The normal curve"
     ]
    },
    {
     "cell_type": "markdown",
     "metadata": {},
     "source": [
      "\n",
      "Rules of thumb for SD\n",
      "\n",
      "* The area under the normal curve between -1 and +1 is about $68\\%$.\n",
      "* The area under the normal curve between -2 and +2 is about $95\\%$.\n",
      "* The area under the normal curve between -3 and +3 is about $99.7\\%$."
     ]
    },
    {
     "cell_type": "heading",
     "level": 3,
     "metadata": {
      "slideshow": {
       "slide_type": "slide"
      }
     },
     "source": [
      "The normal table: A-104"
     ]
    },
    {
     "cell_type": "markdown",
     "metadata": {},
     "source": [
      "\n",
      "Sample rows of the table look like\n",
      "\n",
      "\n",
      "$z$ | Height | Area\n",
      "--- | --- | ---\n",
      "0.70 | 31.23 | 51.61\n",
      "1.00 | 24.20 | 68.27\n",
      "2.00 | 5.40 | 95.45"
     ]
    },
    {
     "cell_type": "heading",
     "level": 3,
     "metadata": {
      "slideshow": {
       "slide_type": "slide"
      }
     },
     "source": [
      "Using table A-104"
     ]
    },
    {
     "cell_type": "code",
     "collapsed": false,
     "input": [
      "from matplotlib import rc\n",
      "import pylab, numpy as np, sys\n",
      "np.random.seed(0);import random; random.seed(0)\n",
      "import pylab, numpy as np\n",
      "x = np.linspace(-4,4,101)\n",
      "y = np.exp(-x**2/2) / np.sqrt(2*np.pi)\n",
      "pylab.bar([-0.75,0.65], [31.23,31.23], width=0.1, color='red')\n",
      "pylab.plot(x,y*100, linewidth=2)\n",
      "pylab.gca().set_xlabel('standardized units')\n",
      "pylab.gca().set_ylabel('% per standardized unit')\n",
      "#pylab.gca().set_xlim([-2,4])\n",
      "#pylab.gca().set_yticks([])"
     ],
     "language": "python",
     "metadata": {},
     "outputs": []
    },
    {
     "cell_type": "markdown",
     "metadata": {},
     "source": [
      "\n",
      "The height at $z= \\pm 0.7$ is $31.23\\%$ (per standardized unit)"
     ]
    },
    {
     "cell_type": "heading",
     "level": 3,
     "metadata": {
      "slideshow": {
       "slide_type": "slide"
      }
     },
     "source": [
      "Using table A-104"
     ]
    },
    {
     "cell_type": "code",
     "collapsed": false,
     "input": [
      "from matplotlib import rc\n",
      "import pylab, numpy as np, sys\n",
      "np.random.seed(0);import random; random.seed(0)\n",
      "import pylab, numpy as np\n",
      "x = np.linspace(-4,4,101)\n",
      "y = np.exp(-x**2/2) / np.sqrt(2*np.pi)\n",
      "x2 = np.linspace(-0.7,0.7,101)\n",
      "y2 = np.exp(-x2**2/2) / np.sqrt(2*np.pi)\n",
      "pylab.plot(x,y*100, linewidth=2)\n",
      "xf, yf = pylab.poly_between(x2, 0*x2, y2*100)\n",
      "pylab.fill(xf, yf, facecolor='r', hatch='\\\\', alpha=0.5)\n",
      "pylab.gca().set_xlabel('standardized units')\n",
      "pylab.gca().set_ylabel('% per standardized unit')\n",
      "#pylab.gca().set_xlim([-2,4])\n",
      "#pylab.gca().set_yticks([])"
     ],
     "language": "python",
     "metadata": {},
     "outputs": []
    },
    {
     "cell_type": "markdown",
     "metadata": {},
     "source": [
      "\n",
      "The area between $z=-0.7$ and $z=0.7$ is $51.61\\%$"
     ]
    },
    {
     "cell_type": "heading",
     "level": 3,
     "metadata": {
      "slideshow": {
       "slide_type": "slide"
      }
     },
     "source": [
      "Computing area under the normal curve"
     ]
    },
    {
     "cell_type": "code",
     "collapsed": false,
     "input": [
      "from matplotlib import rc\n",
      "import pylab, numpy as np, sys\n",
      "np.random.seed(0);import random; random.seed(0)\n",
      "import pylab, numpy as np\n",
      "x = np.linspace(-4,4,101)\n",
      "y = np.exp(-x**2/2) / np.sqrt(2*np.pi)\n",
      "x2 = np.linspace(0,0.7,101)\n",
      "y2 = np.exp(-x2**2/2) / np.sqrt(2*np.pi)\n",
      "pylab.plot(x,y*100, linewidth=2)\n",
      "xf, yf = pylab.poly_between(x2, 0*x2, y2*100)\n",
      "pylab.fill(xf, yf, facecolor='r', hatch='\\\\', alpha=0.5)\n",
      "pylab.gca().set_xlabel('standardized units')\n",
      "pylab.gca().set_ylabel('% per standardized unit')\n",
      "#pylab.gca().set_xlim([-2,4])\n",
      "#pylab.gca().set_yticks([])"
     ],
     "language": "python",
     "metadata": {},
     "outputs": []
    },
    {
     "cell_type": "markdown",
     "metadata": {},
     "source": [
      "\n",
      "Area = ????"
     ]
    },
    {
     "cell_type": "heading",
     "level": 3,
     "metadata": {
      "slideshow": {
       "slide_type": "slide"
      }
     },
     "source": [
      "Computing area under the normal curve"
     ]
    },
    {
     "cell_type": "code",
     "collapsed": false,
     "input": [
      "from matplotlib import rc\n",
      "import pylab, numpy as np, sys\n",
      "np.random.seed(0);import random; random.seed(0)\n",
      "import pylab, numpy as np\n",
      "x = np.linspace(-4,4,101)\n",
      "y = np.exp(-x**2/2) / np.sqrt(2*np.pi)\n",
      "x2 = np.array([0.7] + list(np.linspace(0.7,4,101)) + [4])\n",
      "y2 = np.exp(-x2**2/2) / np.sqrt(2*np.pi)\n",
      "y2[0] = 0; y2[-1] = 0\n",
      "pylab.plot(x,y*100, linewidth=2)\n",
      "xf, yf = pylab.poly_between(x2, 0 * x2, y2*100)\n",
      "pylab.fill(xf, yf, facecolor='r', hatch='\\\\', alpha=0.5)\n",
      "pylab.gca().set_xlabel('standardized units')\n",
      "pylab.gca().set_ylabel('% per standardized unit')\n",
      "#pylab.gca().set_xlim([-2,4])\n",
      "#pylab.gca().set_yticks([])"
     ],
     "language": "python",
     "metadata": {},
     "outputs": []
    },
    {
     "cell_type": "markdown",
     "metadata": {},
     "source": [
      "\n",
      "Area = ????"
     ]
    },
    {
     "cell_type": "heading",
     "level": 3,
     "metadata": {
      "slideshow": {
       "slide_type": "slide"
      }
     },
     "source": [
      "Computing area under the normal curve"
     ]
    },
    {
     "cell_type": "code",
     "collapsed": false,
     "input": [
      "from matplotlib import rc\n",
      "import pylab, numpy as np, sys\n",
      "np.random.seed(0);import random; random.seed(0)\n",
      "import pylab, numpy as np\n",
      "x = np.linspace(-4,4,101)\n",
      "y = np.exp(-x**2/2) / np.sqrt(2*np.pi)\n",
      "x2 = np.linspace(0.7,4,101)\n",
      "y2 = np.exp(-x2**2/2) / np.sqrt(2*np.pi)\n",
      "pylab.plot(x,y*100, linewidth=2)\n",
      "xf, yf = pylab.poly_between(x2, 0*x2, y2*100)\n",
      "xf2, yf2 = pylab.poly_between(-x2, 0*x2, y2*100)\n",
      "pylab.fill(xf, yf, facecolor='r', hatch='\\\\', alpha=0.5)\n",
      "pylab.fill(xf2, yf2, facecolor='r', hatch='\\\\', alpha=0.5)\n",
      "pylab.gca().set_xlabel('standardized units')\n",
      "pylab.gca().set_ylabel('% per standardized unit')\n",
      "#pylab.gca().set_xlim([-2,4])\n",
      "#pylab.gca().set_yticks([])"
     ],
     "language": "python",
     "metadata": {},
     "outputs": []
    },
    {
     "cell_type": "markdown",
     "metadata": {},
     "source": [
      "\n",
      "Area = ????"
     ]
    },
    {
     "cell_type": "heading",
     "level": 3,
     "metadata": {
      "slideshow": {
       "slide_type": "slide"
      }
     },
     "source": [
      "Computing area under the normal curve"
     ]
    },
    {
     "cell_type": "code",
     "collapsed": false,
     "input": [
      "from matplotlib import rc\n",
      "import pylab, numpy as np, sys\n",
      "np.random.seed(0);import random; random.seed(0)\n",
      "import pylab, numpy as np\n",
      "x = np.linspace(-4,4,101)\n",
      "y = np.exp(-x**2/2) / np.sqrt(2*np.pi)\n",
      "x2 = np.linspace(-4,0.7,101)\n",
      "y2 = np.exp(-x2**2/2) / np.sqrt(2*np.pi)\n",
      "pylab.plot(x,y*100, linewidth=2)\n",
      "xf, yf = pylab.poly_between(x2, 0*x2, y2*100)\n",
      "pylab.fill(xf, yf, facecolor='r', hatch='\\\\', alpha=0.5)\n",
      "pylab.gca().set_xlabel('standardized units')\n",
      "pylab.gca().set_ylabel('% per standardized unit')\n",
      "#pylab.gca().set_xlim([-2,4])\n",
      "#pylab.gca().set_yticks([])"
     ],
     "language": "python",
     "metadata": {},
     "outputs": []
    },
    {
     "cell_type": "markdown",
     "metadata": {},
     "source": [
      "\n",
      "Area = ????"
     ]
    },
    {
     "cell_type": "heading",
     "level": 3,
     "metadata": {
      "slideshow": {
       "slide_type": "slide"
      }
     },
     "source": [
      "Computing area under the normal curve"
     ]
    },
    {
     "cell_type": "code",
     "collapsed": false,
     "input": [
      "from matplotlib import rc\n",
      "import pylab, numpy as np, sys\n",
      "np.random.seed(0);import random; random.seed(0)\n",
      "import pylab, numpy as np\n",
      "x = np.linspace(-4,4,101)\n",
      "y = np.exp(-x**2/2) / np.sqrt(2*np.pi)\n",
      "x2 = np.linspace(-2,1,101)\n",
      "y2 = np.exp(-x2**2/2) / np.sqrt(2*np.pi)\n",
      "pylab.plot(x,y*100, linewidth=2)\n",
      "xf, yf = pylab.poly_between(x2, 0*x2, y2*100)\n",
      "pylab.fill(xf, yf, facecolor='r', hatch='\\\\', alpha=0.5)\n",
      "pylab.gca().set_xlabel('standardized units')\n",
      "pylab.gca().set_ylabel('% per standardized unit')\n",
      "#pylab.gca().set_xlim([-2,4])\n",
      "#pylab.gca().set_yticks([])"
     ],
     "language": "python",
     "metadata": {},
     "outputs": []
    },
    {
     "cell_type": "markdown",
     "metadata": {},
     "source": [
      "\n",
      "Area = ????"
     ]
    },
    {
     "cell_type": "heading",
     "level": 3,
     "metadata": {
      "slideshow": {
       "slide_type": "slide"
      }
     },
     "source": [
      "Computing area under the normal curve"
     ]
    },
    {
     "cell_type": "code",
     "collapsed": false,
     "input": [
      "from matplotlib import rc\n",
      "import pylab, numpy as np, sys\n",
      "np.random.seed(0);import random; random.seed(0)\n",
      "import pylab, numpy as np\n",
      "x = np.linspace(-4,4,101)\n",
      "y = np.exp(-x**2/2) / np.sqrt(2*np.pi)\n",
      "x2 = np.linspace(-2,0,101)\n",
      "y2 = np.exp(-x2**2/2) / np.sqrt(2*np.pi)\n",
      "pylab.plot(x,y*100, linewidth=2)\n",
      "xf, yf = pylab.poly_between(x2, 0*x2, y2*100)\n",
      "pylab.fill(xf, yf, facecolor='green', hatch='\\\\', alpha=0.5)\n",
      "x2 = np.linspace(0,1,101)\n",
      "y2 = np.exp(-x2**2/2) / np.sqrt(2*np.pi)\n",
      "xf, yf = pylab.poly_between(x2, 0*x2, y2*100)\n",
      "pylab.fill(xf, yf, facecolor='blue', hatch='o', alpha=0.5)\n",
      "pylab.gca().set_xlabel('standardized units')\n",
      "pylab.gca().set_ylabel('% per standardized unit')\n",
      "#pylab.gca().set_xlim([-2,4])\n",
      "#pylab.gca().set_yticks([])"
     ],
     "language": "python",
     "metadata": {},
     "outputs": []
    },
    {
     "cell_type": "markdown",
     "metadata": {},
     "source": [
      "\n",
      "Can be solved by breaking the region up into two \u2026"
     ]
    },
    {
     "cell_type": "heading",
     "level": 3,
     "metadata": {
      "slideshow": {
       "slide_type": "slide"
      }
     },
     "source": [
      "Normal approximation for data"
     ]
    },
    {
     "cell_type": "markdown",
     "metadata": {},
     "source": [
      "\n",
      "Example\n",
      " The heights of the male freshmen at Stanford averaged 68 inches with an SD of 3 inches. Use the normal curve to estimate the percentage of these men between 62 inches and 71 inches."
     ]
    },
    {
     "cell_type": "heading",
     "level": 3,
     "metadata": {
      "slideshow": {
       "slide_type": "slide"
      }
     },
     "source": [
      "Normal approximation for data"
     ]
    },
    {
     "cell_type": "code",
     "collapsed": false,
     "input": [
      "from matplotlib import rc\n",
      "import pylab, numpy as np, sys\n",
      "np.random.seed(0);import random; random.seed(0)\n",
      "xf,yf = pylab.poly_between([62,68,71],[-0.1,-0.1,-0.1],[0,0,0])\n",
      "pylab.fill(xf,yf, hatch='/', alpha=0.5)\n",
      "pylab.gca().set_ylim([-1,1])\n",
      "pylab.gca().set_xlim([60,72])\n",
      "pylab.gca().set_xticks([62,71])\n",
      "pylab.gca().set_xlabel('Inches')\n",
      "pylab.gca().set_yticks([])"
     ],
     "language": "python",
     "metadata": {},
     "outputs": []
    },
    {
     "cell_type": "markdown",
     "metadata": {},
     "source": [
      "\n",
      "Step 1: draw the interval"
     ]
    },
    {
     "cell_type": "heading",
     "level": 3,
     "metadata": {
      "slideshow": {
       "slide_type": "slide"
      }
     },
     "source": [
      "Normal approximation for data"
     ]
    },
    {
     "cell_type": "code",
     "collapsed": false,
     "input": [
      "from matplotlib import rc\n",
      "import pylab, numpy as np, sys\n",
      "np.random.seed(0);import random; random.seed(0)\n",
      "xf,yf = pylab.poly_between([62,68,71],[-0.1,-0.1,-0.1],[0,0,0])\n",
      "pylab.fill(xf,yf, hatch='/', alpha=0.5)\n",
      "pylab.plot([68,68], [-0.1,0], linewidth=3, c='r')\n",
      "pylab.gca().set_ylim([-1,1])\n",
      "pylab.gca().set_xlim([60,72])\n",
      "pylab.gca().set_xticks([62,68,71])\n",
      "pylab.gca().set_xlabel('Inches')\n",
      "pylab.gca().set_yticks([])"
     ],
     "language": "python",
     "metadata": {},
     "outputs": []
    },
    {
     "cell_type": "markdown",
     "metadata": {},
     "source": [
      "\n",
      "Step 2: add the average to the interval"
     ]
    },
    {
     "cell_type": "heading",
     "level": 3,
     "metadata": {
      "slideshow": {
       "slide_type": "slide"
      }
     },
     "source": [
      "Normal approximation for data"
     ]
    },
    {
     "cell_type": "code",
     "collapsed": false,
     "input": [
      "from matplotlib import rc\n",
      "import pylab, numpy as np, sys\n",
      "np.random.seed(0);import random; random.seed(0)\n",
      "xf,yf = pylab.poly_between([-2,0,1],[-0.1,-0.1,-0.1],[0,0,0])\n",
      "pylab.fill(xf,yf, hatch='/', alpha=0.5)\n",
      "pylab.plot([0,0], [-0.1,0], linewidth=3, c='r')\n",
      "pylab.gca().set_ylim([-1,1])\n",
      "pylab.gca().set_xlim([(60-68)/3.,(72-68)/3.])\n",
      "pylab.gca().set_xticks([-2,0,1])\n",
      "pylab.gca().set_xlabel('Standardized units')\n",
      "pylab.gca().set_yticks([])"
     ],
     "language": "python",
     "metadata": {},
     "outputs": []
    },
    {
     "cell_type": "markdown",
     "metadata": {},
     "source": [
      "\n",
      "Step 3: convert to standardized units"
     ]
    },
    {
     "cell_type": "heading",
     "level": 3,
     "metadata": {
      "slideshow": {
       "slide_type": "slide"
      }
     },
     "source": [
      "Computing area under the normal curve"
     ]
    },
    {
     "cell_type": "code",
     "collapsed": false,
     "input": [
      "from matplotlib import rc\n",
      "import pylab, numpy as np, sys\n",
      "np.random.seed(0);import random; random.seed(0)\n",
      "import pylab, numpy as np\n",
      "x = np.linspace(-4,4,101)\n",
      "y = np.exp(-x**2/2) / np.sqrt(2*np.pi)\n",
      "x2 = np.linspace(-2,0,101)\n",
      "y2 = np.exp(-x2**2/2) / np.sqrt(2*np.pi)\n",
      "pylab.plot(x,y*100, linewidth=2)\n",
      "xf, yf = pylab.poly_between(x2, 0*x2, y2*100)\n",
      "pylab.fill(xf, yf, facecolor='green', hatch='\\\\', alpha=0.5)\n",
      "x2 = np.linspace(0,1,101)\n",
      "y2 = np.exp(-x2**2/2) / np.sqrt(2*np.pi)\n",
      "xf, yf = pylab.poly_between(x2, 0*x2, y2*100)\n",
      "pylab.fill(xf, yf, facecolor='blue', hatch='o', alpha=0.5)\n",
      "pylab.gca().set_xlabel('standardized units')\n",
      "pylab.gca().set_ylabel('% per standardized unit')\n",
      "#pylab.gca().set_xlim([-2,4])\n",
      "#pylab.gca().set_yticks([])"
     ],
     "language": "python",
     "metadata": {},
     "outputs": []
    },
    {
     "cell_type": "markdown",
     "metadata": {},
     "source": [
      "\n",
      "Can be solved by breaking the region up into two \u2026"
     ]
    },
    {
     "cell_type": "heading",
     "level": 3,
     "metadata": {
      "slideshow": {
       "slide_type": "slide"
      }
     },
     "source": [
      "Computing area under the normal curve"
     ]
    },
    {
     "cell_type": "code",
     "collapsed": false,
     "input": [
      "from matplotlib import rc\n",
      "import pylab, numpy as np, sys\n",
      "np.random.seed(0);import random; random.seed(0)\n",
      "import pylab, numpy as np\n",
      "x = np.linspace(-4,4,101)\n",
      "y = np.exp(-x**2/2) / np.sqrt(2*np.pi)\n",
      "x2 = np.linspace(-2,0,101)\n",
      "y2 = np.exp(-x2**2/2) / np.sqrt(2*np.pi)\n",
      "pylab.plot(x,y*100, linewidth=2)\n",
      "xf, yf = pylab.poly_between(x2, 0*x2, y2*100)\n",
      "pylab.fill(xf, yf, facecolor='green', hatch='\\\\', alpha=0.5)\n",
      "x2 = np.linspace(0,1,101)\n",
      "y2 = np.exp(-x2**2/2) / np.sqrt(2*np.pi)\n",
      "xf, yf = pylab.poly_between(x2, 0*x2, y2*100)\n",
      "pylab.fill(xf, yf, facecolor='blue', hatch='o', alpha=0.5)\n",
      "pylab.gca().set_xlabel('standardized units')\n",
      "pylab.gca().set_ylabel('% per standardized unit')\n",
      "#pylab.gca().set_xlim([-2,4])\n",
      "#pylab.gca().set_yticks([])"
     ],
     "language": "python",
     "metadata": {},
     "outputs": []
    },
    {
     "cell_type": "markdown",
     "metadata": {},
     "source": [
      "\n",
      "Area =  \n",
      "+ $\\approx$ 82 %"
     ]
    },
    {
     "cell_type": "heading",
     "level": 3,
     "metadata": {
      "slideshow": {
       "slide_type": "slide"
      }
     },
     "source": [
      "Sometimes the normal approximation doesn\u2019t work"
     ]
    },
    {
     "cell_type": "code",
     "collapsed": false,
     "input": [
      "from matplotlib import rc\n",
      "import pylab, numpy as np, sys\n",
      "np.random.seed(0);import random; random.seed(0)\n",
      "import matplotlib.mlab as ML\n",
      "A = ML.csv2rec('%s/householdincome2006.csv' % datadir, delimiter=';')\n",
      "breaks = np.array([0, 10,20,30,40,50,60,70,80,90,100,150,200,np.inf])*1000\n",
      "count = []\n",
      "for l, u in zip(breaks, breaks[1:]):\n",
      "    g = (A['lower'] < u) * (A['upper'] >= l)\n",
      "    count.append(A['count'][g].sum())\n",
      "breaks[-1] = 300000\n",
      "PL_density(count, breaks)\n",
      "pylab.gca().set_yticks([])\n",
      "pylab.gca().set_xticks(np.arange(13)*25000)\n",
      "pylab.gca().set_xticklabels(np.arange(13)*25)\n",
      "pylab.gca().set_xlabel('Income (1000s)')"
     ],
     "language": "python",
     "metadata": {},
     "outputs": []
    },
    {
     "cell_type": "markdown",
     "metadata": {},
     "source": [
      "\n",
      "http://pubdb3.census.gov/macro/032007/hhinc/new06<sup>0</sup>00.htm"
     ]
    },
    {
     "cell_type": "heading",
     "level": 3,
     "metadata": {
      "slideshow": {
       "slide_type": "slide"
      }
     },
     "source": [
      "Percentiles"
     ]
    },
    {
     "cell_type": "markdown",
     "metadata": {},
     "source": [
      "\n",
      "Definition\n",
      "\n",
      "* The 1st percentile of a histogram is the number with 1 % of the area to the left and 99 % of the area to the right.\n",
      "* The 10th percentile of a histogram is the number with 10 % of the area to the left and 90 % of the area to the right.\n",
      "* The median is the 50th percentie.\n",
      "* The *first quartile*\n",
      "   is the 25th percentile; the *third quartile*\n",
      "   is the 75th percentile.\n",
      "* The *inter-quartile range*\n",
      "   is the difference between the third and first quartiles."
     ]
    },
    {
     "cell_type": "heading",
     "level": 3,
     "metadata": {
      "slideshow": {
       "slide_type": "slide"
      }
     },
     "source": [
      "Percentiles"
     ]
    },
    {
     "cell_type": "markdown",
     "metadata": {},
     "source": [
      "\n",
      "Example: income distribution\n",
      "\n",
      "\n",
      " | \n",
      "--- | ---\n",
      "Percent | Income percentile\n",
      "2 | $2,500\n",
      "25 | $25,000\n",
      "50 | $ 49,000\n",
      "75 | $ 85,000\n",
      "90 | $ 135,000\n",
      "99 | $ 250,000\n",
      "The interquartile range is $60,000. The median is $49,000."
     ]
    },
    {
     "cell_type": "heading",
     "level": 3,
     "metadata": {
      "slideshow": {
       "slide_type": "slide"
      }
     },
     "source": [
      "Percentiles: normal curve"
     ]
    },
    {
     "cell_type": "code",
     "collapsed": false,
     "input": [
      "from matplotlib import rc\n",
      "import pylab, numpy as np, sys\n",
      "np.random.seed(0);import random; random.seed(0)\n",
      "import pylab, numpy as np\n",
      "x = np.linspace(-4,4,101)\n",
      "y = np.exp(-x**2/2) / np.sqrt(2*np.pi)\n",
      "x2 = np.linspace(-4,1.65,101)\n",
      "y2 = np.exp(-x2**2/2) / np.sqrt(2*np.pi)\n",
      "pylab.plot(x,y*100, linewidth=2)\n",
      "xf, yf = pylab.poly_between(x2, 0*x2, y2*100)\n",
      "pylab.fill(xf, yf, facecolor='red', hatch='\\\\', alpha=0.5)\n",
      "pylab.gca().set_xlabel('standardized units')\n",
      "pylab.gca().set_ylabel('% per standardized unit')\n",
      "#pylab.gca().set_xlim([-2,4])\n",
      "#pylab.gca().set_yticks([])"
     ],
     "language": "python",
     "metadata": {},
     "outputs": []
    },
    {
     "cell_type": "markdown",
     "metadata": {},
     "source": [
      "\n",
      "95%-ile is 1.65 (or,  red area is 95 %\n",
      ")"
     ]
    },
    {
     "cell_type": "heading",
     "level": 3,
     "metadata": {
      "slideshow": {
       "slide_type": "slide"
      }
     },
     "source": [
      "Percentiles"
     ]
    },
    {
     "cell_type": "markdown",
     "metadata": {},
     "source": [
      "\n",
      "Example: normal curve\n",
      "\n",
      "\n",
      " | \n",
      "--- | ---\n",
      "Percent | Normal percentile\n",
      "2.5 | -1.96\n",
      "5 | -1.65\n",
      "25 | -0.68\n",
      "50 | 0\n",
      "75 | 0.68\n",
      "90 | 1.28\n",
      "95 | 1.65\n",
      "97.5 | 1.96\n",
      "The interquartile range is 1.34. The median is 0."
     ]
    },
    {
     "cell_type": "heading",
     "level": 3,
     "metadata": {
      "slideshow": {
       "slide_type": "slide"
      }
     },
     "source": [
      "Percentiles"
     ]
    },
    {
     "cell_type": "markdown",
     "metadata": {},
     "source": [
      "\n",
      "Example: estimating percentiles\n",
      "\n",
      "Among all applicants to Stanford the Math SAT scores averaged 560 with an SD of 100. The scores followed the normal distribution quite well. Estimate the 90th percentile of the score distribution.\n",
      "Solution\n",
      "\n",
      "The estimated quantile is $\\begin{aligned}\n",
      "   \\lefteqn{560 + 100 \\times \\text{90 \\%-ile of the normal curve}} \\\\\n",
      "   & \\qquad =  560 + 100 \\times 1.28 \\\\\n",
      "   & \\qquad = 688\n",
      "   \\end{aligned}$"
     ]
    }
   ],
   "metadata": {}
  }
 ]
}
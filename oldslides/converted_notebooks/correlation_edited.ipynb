{
 "metadata": {
  "name": ""
 },
 "nbformat": 3,
 "nbformat_minor": 0,
 "worksheets": [
  {
   "cells": [
    {
     "cell_type": "code",
     "collapsed": false,
     "input": [
      "%load_ext rmagic"
     ],
     "language": "python",
     "metadata": {
      "slideshow": {
       "slide_type": "skip"
      }
     },
     "outputs": []
    },
    {
     "cell_type": "heading",
     "level": 3,
     "metadata": {
      "slideshow": {
       "slide_type": "slide"
      }
     },
     "source": [
      "Correlation"
     ]
    },
    {
     "cell_type": "code",
     "collapsed": false,
     "input": [
      "from matplotlib import rc\n",
      "import pylab, numpy as np, sys\n",
      "np.random.seed(0);import random; random.seed(0)\n",
      "import matplotlib.mlab as ML\n",
      "H = ML.csv2rec('%s/pearson_lee.csv' % datadir)\n",
      "M = H['mother']\n",
      "D = H['daughter']\n",
      "pylab.scatter(M, D, c='red')\n",
      "pylab.gca().set_xlabel(\"Mother's height (inches)\")\n",
      "pylab.gca().set_ylabel(\"Daughter's height (inches)\")"
     ],
     "language": "python",
     "metadata": {},
     "outputs": []
    },
    {
     "cell_type": "markdown",
     "metadata": {},
     "source": [
      "\n",
      "There is a *positive association*\n"
     ]
    },
    {
     "cell_type": "heading",
     "level": 3,
     "metadata": {
      "slideshow": {
       "slide_type": "slide"
      }
     },
     "source": [
      "Scatterplot"
     ]
    },
    {
     "cell_type": "markdown",
     "metadata": {},
     "source": [
      "\n",
      "Drawing a scatter plot\n",
      " Given two lists: $X, Y$ of length $n$\n",
      "Coordinate system: * Draw a coordinate system between roughly $[\\min(X), \\max(X)]$ on the $x$-axis and between roughly $[\\min(Y), \\max(Y)]$ on the $y$-axis.\n",
      "Plotting points * Each pair $(X_i, Y_i)$ gets a point with those corresponding coordinates."
     ]
    },
    {
     "cell_type": "heading",
     "level": 3,
     "metadata": {
      "slideshow": {
       "slide_type": "slide"
      }
     },
     "source": [
      "Scatterplot example: $X=[1,4,6], Y=[-2,2,8]$"
     ]
    },
    {
     "cell_type": "code",
     "collapsed": false,
     "input": [
      "from matplotlib import rc\n",
      "import pylab, numpy as np, sys\n",
      "np.random.seed(0);import random; random.seed(0)\n",
      "pylab.scatter([1,4,6],[-2,2,8], c='r')\n",
      "pylab.gca().set_xlabel('X')\n",
      "pylab.gca().set_ylabel('Y')"
     ],
     "language": "python",
     "metadata": {},
     "outputs": []
    },
    {
     "cell_type": "heading",
     "level": 3,
     "metadata": {
      "slideshow": {
       "slide_type": "slide"
      }
     },
     "source": [
      "Dependent and independent variables"
     ]
    },
    {
     "cell_type": "code",
     "collapsed": false,
     "input": [
      "from matplotlib import rc\n",
      "import pylab, numpy as np, sys\n",
      "np.random.seed(0);import random; random.seed(0)\n",
      "pylab.scatter([1,4,6],[-2,2,8], c='r')\n",
      "pylab.gca().set_xlabel('Independent')\n",
      "pylab.gca().set_ylabel('Dependent')"
     ],
     "language": "python",
     "metadata": {},
     "outputs": []
    },
    {
     "cell_type": "heading",
     "level": 3,
     "metadata": {
      "slideshow": {
       "slide_type": "slide"
      }
     },
     "source": [
      "Correlation"
     ]
    },
    {
     "cell_type": "code",
     "collapsed": false,
     "input": [
      "from matplotlib import rc\n",
      "import pylab, numpy as np, sys\n",
      "np.random.seed(0);import random; random.seed(0)\n",
      "import matplotlib.mlab as ML\n",
      "H = ML.csv2rec('%s/pearson_lee.csv' % datadir)\n",
      "M = H['mother']\n",
      "D = H['daughter']\n",
      "pylab.scatter(M, D, c='red')\n",
      "xf, yf = pylab.poly_between([64.5,65.5], [50,50], [75, 75])\n",
      "pylab.fill(xf, yf, facecolor='blue', alpha=0.4, hatch='/')\n",
      "pylab.gca().set_xlabel(\"Mother's height (inches)\")\n",
      "pylab.gca().set_ylabel(\"Daughter's height (inches)\")"
     ],
     "language": "python",
     "metadata": {},
     "outputs": []
    },
    {
     "cell_type": "markdown",
     "metadata": {},
     "source": [
      "\n",
      "What if we want to guess daughter\u2019s height when mother = 65 in?"
     ]
    },
    {
     "cell_type": "heading",
     "level": 3,
     "metadata": {
      "slideshow": {
       "slide_type": "slide"
      }
     },
     "source": [
      "Correlation"
     ]
    },
    {
     "cell_type": "code",
     "collapsed": false,
     "input": [
      "from matplotlib import rc\n",
      "import pylab, numpy as np, sys\n",
      "np.random.seed(0);import random; random.seed(0)\n",
      "import matplotlib.mlab as ML\n",
      "H = ML.csv2rec('%s/pearson_lee.csv' % datadir)\n",
      "M = H['mother']\n",
      "D = H['daughter']\n",
      "pylab.scatter(M, D, c='red')\n",
      "xf, yf = pylab.poly_between([64.5,65.5], [50,50], [75, 75])\n",
      "pylab.fill(xf, yf, facecolor='blue', alpha=0.4, hatch='/')\n",
      "pylab.gca().set_xlim([64.5,65.5])\n",
      "pylab.gca().set_xlabel(\"Mother's height (inches)\")\n",
      "pylab.gca().set_ylabel(\"Daughter's height (inches)\")"
     ],
     "language": "python",
     "metadata": {},
     "outputs": []
    },
    {
     "cell_type": "markdown",
     "metadata": {},
     "source": [
      "\n",
      "Still some variability, not completely linear \u2026"
     ]
    },
    {
     "cell_type": "heading",
     "level": 3,
     "metadata": {
      "slideshow": {
       "slide_type": "slide"
      }
     },
     "source": [
      "Correlation"
     ]
    },
    {
     "cell_type": "markdown",
     "metadata": {},
     "source": [
      "\n",
      "Conceptual definition\n",
      "\n",
      "* A numerical summary of a scatterplot, i.e. a pair of lists.\n",
      "* If there is a strong association between two variables, then knowing one helps a lot in predicting the other. But when there is a weak association, information about one variable does not help much in guessing the other.\n",
      "* The *correlation coefficient*\n",
      "  , $r$ is a measure of the strength of this association.\n",
      "* $r=+1$ if the variables are perfectly positively associated.\n",
      "* $r=-1$ if the variables are perfectly negatively associated."
     ]
    },
    {
     "cell_type": "heading",
     "level": 3,
     "metadata": {
      "slideshow": {
       "slide_type": "slide"
      }
     },
     "source": [
      "Perfectly positively correlated"
     ]
    },
    {
     "cell_type": "code",
     "collapsed": false,
     "input": [
      "from matplotlib import rc\n",
      "import pylab, numpy as np, sys\n",
      "np.random.seed(0);import random; random.seed(0)\n",
      "X = np.random.standard_normal(50)\n",
      "Y = np.random.standard_normal(50)\n",
      "pylab.scatter(X, X)\n",
      "pylab.gca().set_xticks([])\n",
      "pylab.gca().set_yticks([])\n",
      "pylab.title('r=+1')"
     ],
     "language": "python",
     "metadata": {},
     "outputs": []
    },
    {
     "cell_type": "heading",
     "level": 3,
     "metadata": {
      "slideshow": {
       "slide_type": "slide"
      }
     },
     "source": [
      "Perfectly negatively correlated, $r=-1$"
     ]
    },
    {
     "cell_type": "code",
     "collapsed": false,
     "input": [
      "from matplotlib import rc\n",
      "import pylab, numpy as np, sys\n",
      "np.random.seed(0);import random; random.seed(0)\n",
      "X = np.random.standard_normal(50)\n",
      "Y = np.random.standard_normal(50)\n",
      "pylab.scatter(X, -X)\n",
      "pylab.gca().set_xticks([])\n",
      "pylab.gca().set_yticks([])\n",
      "pylab.title('r=-1')"
     ],
     "language": "python",
     "metadata": {},
     "outputs": []
    },
    {
     "cell_type": "heading",
     "level": 3,
     "metadata": {
      "slideshow": {
       "slide_type": "slide"
      }
     },
     "source": [
      "Uncorrelated variables (no relation) $r=0$"
     ]
    },
    {
     "cell_type": "code",
     "collapsed": false,
     "input": [
      "from matplotlib import rc\n",
      "import pylab, numpy as np, sys\n",
      "np.random.seed(0);import random; random.seed(0)\n",
      "X = np.random.standard_normal(50)\n",
      "Y = np.random.standard_normal(50)\n",
      "pylab.scatter(X, Y)\n",
      "pylab.gca().set_xticks([])\n",
      "pylab.gca().set_yticks([])\n",
      "pylab.title('r=0')"
     ],
     "language": "python",
     "metadata": {},
     "outputs": []
    },
    {
     "cell_type": "heading",
     "level": 3,
     "metadata": {
      "slideshow": {
       "slide_type": "slide"
      }
     },
     "source": [
      "Positive and negative correlation"
     ]
    },
    {
     "cell_type": "code",
     "collapsed": false,
     "input": [
      "from matplotlib import rc\n",
      "import pylab, numpy as np, sys\n",
      "np.random.seed(0);import random; random.seed(0)\n",
      "def c_from_r(r):\n",
      "   return np.sqrt(r**2 / (1.-r**2)) * np.sign(r)\n",
      "\n",
      "X = np.random.standard_normal(50)\n",
      "Y = np.random.standard_normal(50)\n",
      "for i, r in zip([1,2,3,4], [0.5,0.9,-0.5,-0.9]):\n",
      "   pylab.subplot(2,2,i)\n",
      "   pylab.scatter(X, Y + c_from_r(r) * X); pylab.gca().set_xticks([]); pylab.gca().set_yticks([]);\n",
      "   pylab.title('r=%0.1f' % r)"
     ],
     "language": "python",
     "metadata": {},
     "outputs": []
    },
    {
     "cell_type": "heading",
     "level": 3,
     "metadata": {
      "slideshow": {
       "slide_type": "slide"
      }
     },
     "source": [
      "Correlation"
     ]
    },
    {
     "cell_type": "markdown",
     "metadata": {},
     "source": [
      "\n",
      "Computing $r$, the correlation coefficient\n",
      "\n",
      "* Given two lists, $X, Y$, convert them each to standardized units. Call these new lists $Z_X, Z_Y$.\n",
      "* Make a new list $Z_{XY}$ whose entries are the products of the entries of $Z_X, Z_Y$.\n",
      "* Then, $r = \\text{average}(Z_{XY}).$\n",
      "* Another way, $$ r = . $$"
     ]
    },
    {
     "cell_type": "heading",
     "level": 3,
     "metadata": {
      "slideshow": {
       "slide_type": "slide"
      }
     },
     "source": [
      "Correlation"
     ]
    },
    {
     "cell_type": "markdown",
     "metadata": {},
     "source": [
      "\n",
      "$\\Sigma$ notation\n",
      "\n",
      "* The entries of the lists $Z_X, Z_Y, Z_{XY}$ are: $\\begin{aligned}\n",
      "     Z_{X,i} &= \\frac{X_i - \\bar{X}}{\\text{SD}(X)} \\\\\n",
      "     Z_{Y,i} &= \\frac{Y_i - \\bar{Y}}{\\text{SD}(Y)} \\\\\n",
      "     Z_{XY,i} &= Z_{X,i} \\times Z_{Y,i}\n",
      "     \\end{aligned}$\n",
      "* Then, $r = r(X,Y) = \\bar{Z}_{XY} = \\frac{1}{n} \\sum_{i=1}^n Z_{XY,i}.$"
     ]
    },
    {
     "cell_type": "heading",
     "level": 3,
     "metadata": {
      "slideshow": {
       "slide_type": "slide"
      }
     },
     "source": [
      "Correlation"
     ]
    },
    {
     "cell_type": "markdown",
     "metadata": {},
     "source": [
      "\n",
      "$\\Sigma$ notation\n",
      "\n",
      "* Another way: if $XY$ is the list with entries $X_i \\times Y_i$, then $r = \\frac{\\overline{XY} - \\bar{X} \\times \\bar{Y}}{\\text{SD}(X) \\times \\text{SD}(y)}.$\n",
      "Example: $X=[1,4,6], Y=[-2,2,8]$\n",
      " $\\begin{aligned}\n",
      "   \\bar{X} &= 3.66 & \\text{SD}(X) &= 2.05 \\\\\n",
      "   \\bar{Y} &= 2.66 & \\text{SD}(Y) &= 4.10 \\\\\n",
      "   \\end{aligned}$\n",
      "The only thing new to compute is $\\overline{XY}$. $XY = [-2,8,48], \\qquad \\overline{XY}=(-2+8+48)/3=18$ Therefore,$ r = \\frac{18 - 3.66 \\times 2.66}{2.05 \\times 4.10} \\approx 0.97$"
     ]
    },
    {
     "cell_type": "heading",
     "level": 3,
     "metadata": {
      "slideshow": {
       "slide_type": "slide"
      }
     },
     "source": [
      "Correlation"
     ]
    },
    {
     "cell_type": "markdown",
     "metadata": {},
     "source": [
      "\n",
      "Properties\n",
      "\n",
      "* Correlation is unitless.\n",
      "* Changing units of $X$ or $Y$ does not change the correlation.\n",
      "* Correlation does not change if we interchange $X$ and $Y$."
     ]
    },
    {
     "cell_type": "heading",
     "level": 3,
     "metadata": {
      "slideshow": {
       "slide_type": "slide"
      }
     },
     "source": [
      "Correlation"
     ]
    },
    {
     "cell_type": "code",
     "collapsed": false,
     "input": [
      "from matplotlib import rc\n",
      "import pylab, numpy as np, sys\n",
      "np.random.seed(0);import random; random.seed(0)\n",
      "import matplotlib.mlab as ML\n",
      "H = ML.csv2rec('%s/pearson_lee.csv' % datadir)\n",
      "M = H['mother']\n",
      "D = H['daughter']\n",
      "pylab.scatter(M, D, c='red')\n",
      "pylab.gca().set_xlabel(\"Mother's height (inches)\")\n",
      "pylab.gca().set_ylabel(\"Daughter's height (inches)\")\n",
      "pylab.title(\"r=%0.2f\" % np.corrcoef([D,M])[0,1])"
     ],
     "language": "python",
     "metadata": {},
     "outputs": []
    },
    {
     "cell_type": "markdown",
     "metadata": {},
     "source": [
      "\n",
      "Correlation is symmetric"
     ]
    },
    {
     "cell_type": "heading",
     "level": 3,
     "metadata": {
      "slideshow": {
       "slide_type": "slide"
      }
     },
     "source": [
      "Correlation"
     ]
    },
    {
     "cell_type": "code",
     "collapsed": false,
     "input": [
      "from matplotlib import rc\n",
      "import pylab, numpy as np, sys\n",
      "np.random.seed(0);import random; random.seed(0)\n",
      "import matplotlib.mlab as ML\n",
      "H = ML.csv2rec('%s/pearson_lee.csv' % datadir)\n",
      "M = H['mother']\n",
      "D = H['daughter']\n",
      "pylab.scatter(D, M, c='red')\n",
      "pylab.gca().set_ylabel(\"Mother's height (inches)\")\n",
      "pylab.gca().set_xlabel(\"Daughter's height (inches)\")\n",
      "pylab.title(\"r=%0.2f\" % np.corrcoef([D,M])[0,1])"
     ],
     "language": "python",
     "metadata": {},
     "outputs": []
    },
    {
     "cell_type": "markdown",
     "metadata": {},
     "source": [
      "\n",
      "Correlation is symmetric"
     ]
    },
    {
     "cell_type": "heading",
     "level": 3,
     "metadata": {
      "slideshow": {
       "slide_type": "slide"
      }
     },
     "source": [
      "Correlation"
     ]
    },
    {
     "cell_type": "code",
     "collapsed": false,
     "input": [
      "from matplotlib import rc\n",
      "import pylab, numpy as np, sys\n",
      "np.random.seed(0);import random; random.seed(0)\n",
      "import matplotlib.mlab as ML\n",
      "H = ML.csv2rec('%s/pearson_lee.csv' % datadir)\n",
      "M = H['mother']\n",
      "D = H['daughter']\n",
      "pylab.scatter(D, M, c='red')\n",
      "pylab.gca().set_ylabel(\"Mother's height (inches)\")\n",
      "pylab.gca().set_xlabel(\"Daughter's height (inches)\")\n",
      "pylab.title(\"r=%0.2f\" % np.corrcoef([D,M])[0,1])"
     ],
     "language": "python",
     "metadata": {},
     "outputs": []
    },
    {
     "cell_type": "markdown",
     "metadata": {},
     "source": [
      "\n",
      "Correlation is not causation"
     ]
    },
    {
     "cell_type": "heading",
     "level": 3,
     "metadata": {
      "slideshow": {
       "slide_type": "slide"
      }
     },
     "source": [
      "Correlation"
     ]
    },
    {
     "cell_type": "code",
     "collapsed": false,
     "input": [
      "from matplotlib import rc\n",
      "import pylab, numpy as np, sys\n",
      "np.random.seed(0);import random; random.seed(0)\n",
      "X = np.random.standard_normal(30)\n",
      "X.sort()\n",
      "\n",
      "pylab.clf()\n",
      "e = np.random.standard_normal(30)\n",
      "Y = 2 + 2.5 * X + 0.5 * e\n",
      "Z = Y * 1.\n",
      "Z[-1] = -3\n",
      "pylab.scatter(X[-1],Z[-1], s=55, c='r')\n",
      "pylab.scatter(X[:-1],Y[:-1], s=40)\n",
      "pylab.gca().set_title('r=%0.2f with outlier, %0.2f without' % (np.corrcoef(X,Z)[0,1], np.corrcoef(X[:-1],Y[:-1])[0,1]))\n",
      "pylab.gca().set_xlim([1.1*X.min(),1.1*X.max()])"
     ],
     "language": "python",
     "metadata": {},
     "outputs": []
    },
    {
     "cell_type": "markdown",
     "metadata": {},
     "source": [
      "\n",
      "Outliers affect correlation"
     ]
    },
    {
     "cell_type": "heading",
     "level": 3,
     "metadata": {
      "slideshow": {
       "slide_type": "slide"
      }
     },
     "source": [
      "Correlation"
     ]
    },
    {
     "cell_type": "code",
     "collapsed": false,
     "input": [
      "from matplotlib import rc\n",
      "import pylab, numpy as np, sys\n",
      "np.random.seed(0);import random; random.seed(0)\n",
      "X = np.linspace(-2,2,50)\n",
      "X += 0.1 * np.random.uniform(0,0.1,(50,)) - 0.05\n",
      "X.sort()\n",
      "\n",
      "pylab.clf()\n",
      "e = np.random.standard_normal(50)\n",
      "Y = - 1.5 * X**2 + 0.5 * e\n",
      "pylab.scatter(X,Y, c='r', s=40)\n",
      "pylab.gca().set_title('r=%0.2f' % np.corrcoef(X,Y)[0,1])"
     ],
     "language": "python",
     "metadata": {},
     "outputs": []
    },
    {
     "cell_type": "markdown",
     "metadata": {},
     "source": [
      "\n",
      "Correlation is a linear measure of association"
     ]
    },
    {
     "cell_type": "heading",
     "level": 3,
     "metadata": {
      "slideshow": {
       "slide_type": "slide"
      }
     },
     "source": [
      "Correlation"
     ]
    },
    {
     "cell_type": "markdown",
     "metadata": {},
     "source": [
      "\n",
      "The SD line\n",
      "\n",
      "* The SD line passes through the point of averages $(\\bar{X}, \\bar{Y})$ and has $\\text{slope(SD line)} = \\frac{\\text{SD}(Y)}{\\text{SD}(X)} \\times \\text{sign}(r(X,Y))$\n",
      "* For every one standardized unit increase of $X$, the SD line changes by one standardized unit of $Y$. The direction of change is positive if $X$ and $Y$ are positively correlated, and negative if they are negatively correlated."
     ]
    },
    {
     "cell_type": "heading",
     "level": 3,
     "metadata": {
      "slideshow": {
       "slide_type": "slide"
      }
     },
     "source": [
      "Correlation"
     ]
    },
    {
     "cell_type": "code",
     "collapsed": false,
     "input": [
      "from matplotlib import rc\n",
      "import pylab, numpy as np, sys\n",
      "np.random.seed(0);import random; random.seed(0)\n",
      "import matplotlib.mlab as ML\n",
      "H = ML.csv2rec('%s/pearson_lee.csv' % datadir)\n",
      "M = H['mother']\n",
      "D = H['daughter']\n",
      "pylab.scatter(M, D, c='red')\n",
      "pylab.gca().set_xlabel(\"Mother's height (inches)\")\n",
      "pylab.gca().set_ylabel(\"Daughter's height (inches)\")\n",
      "Dbar = D.mean(); Dsd = np.sqrt(((D - Dbar)**2).mean())\n",
      "Mbar = M.mean(); Msd = np.sqrt(((M - Mbar)**2).mean())\n",
      "pylab.plot([Mbar-3.5*Msd,Mbar,Mbar+3.5*Msd],\n",
      "           [Dbar-3.5*Dsd,Dbar,Dbar+3.5*Dsd], 'b--', linewidth=3, label='SD line')\n",
      "pylab.legend(['SD line'])"
     ],
     "language": "python",
     "metadata": {},
     "outputs": []
    },
    {
     "cell_type": "markdown",
     "metadata": {},
     "source": [
      "\n",
      "The cloud seems to cluster around the SD line"
     ]
    },
    {
     "cell_type": "heading",
     "level": 3,
     "metadata": {
      "slideshow": {
       "slide_type": "slide"
      }
     },
     "source": [
      "Correlation"
     ]
    },
    {
     "cell_type": "markdown",
     "metadata": {},
     "source": [
      "\n",
      "Ecological correlations\n",
      "\n",
      "* Plots of averages vs. averages can exaggerate correlations.\n",
      "* This is because this is a plot of averages of X versus averages of Y, so the points are less variable.\n",
      "* Example: in the next Figure, I divided heights into groups based on mother\u2019s height, then averaged both mother\u2019s height and daughter\u2019s height within that group."
     ]
    },
    {
     "cell_type": "heading",
     "level": 3,
     "metadata": {
      "slideshow": {
       "slide_type": "slide"
      }
     },
     "source": [
      "Correlation"
     ]
    },
    {
     "cell_type": "code",
     "collapsed": false,
     "input": [
      "from matplotlib import rc\n",
      "import pylab, numpy as np, sys\n",
      "np.random.seed(0);import random; random.seed(0)\n",
      "import numpy as np, pylab\n",
      "import matplotlib.mlab as ML\n",
      "H = ML.csv2rec('%s/pearson_lee.csv' % datadir)\n",
      "M = H['mother']\n",
      "D = H['daughter']\n",
      "\n",
      "Mm = []\n",
      "Dm = []\n",
      "for ml in range(56,68):\n",
      "    g = (M >= ml-0.5) * (M < ml+0.5)\n",
      "    Mm.append(M[g].mean())\n",
      "    Dm.append(D[g].mean())\n",
      "\n",
      "\n",
      "pylab.scatter(Mm, Dm, s=60, c='red')\n",
      "pylab.gca().set_xlabel(\"Average mother's height within group (inches)\")\n",
      "pylab.gca().set_ylabel(\"Average daughter's height within group (inches)\")\n",
      "pylab.gca().set_title('r=%0.2f' % np.corrcoef(Mm,Dm)[0,1])\n",
      "\n",
      "g = (M >= 64.5) * (M < 65.5)\n",
      "pylab.scatter(M[g], D[g], c='blue')\n",
      "xf, yf = pylab.poly_between([64.5,65.5], [50,50], [75, 75])\n",
      "pylab.fill(xf, yf, facecolor='yellow', alpha=0.4, hatch='/')"
     ],
     "language": "python",
     "metadata": {},
     "outputs": []
    },
    {
     "cell_type": "markdown",
     "metadata": {},
     "source": [
      "\n",
      "Ecological correlations ignore variability \u2026"
     ]
    },
    {
     "cell_type": "heading",
     "level": 3,
     "metadata": {
      "slideshow": {
       "slide_type": "slide"
      }
     },
     "source": [
      "Correlation"
     ]
    },
    {
     "cell_type": "code",
     "collapsed": false,
     "input": [
      "from matplotlib import rc\n",
      "import pylab, numpy as np, sys\n",
      "np.random.seed(0);import random; random.seed(0)\n",
      "import matplotlib.mlab as ML\n",
      "D = ML.csv2rec('%s/independent_example.csv' % datadir)\n",
      "X = D['x']\n",
      "Y = D['y']\n",
      "\n",
      "pylab.scatter(X,Y, c='r')"
     ],
     "language": "python",
     "metadata": {},
     "outputs": []
    },
    {
     "cell_type": "markdown",
     "metadata": {},
     "source": [
      "\n",
      "Uncorrelated $X$ and $Y$"
     ]
    },
    {
     "cell_type": "heading",
     "level": 3,
     "metadata": {
      "slideshow": {
       "slide_type": "slide"
      }
     },
     "source": [
      "Correlation"
     ]
    },
    {
     "cell_type": "code",
     "collapsed": false,
     "input": [
      "from matplotlib import rc\n",
      "import pylab, numpy as np, sys\n",
      "np.random.seed(0);import random; random.seed(0)\n",
      "import matplotlib.mlab as ML\n",
      "D = ML.csv2rec('%s/independent_example.csv' % datadir)\n",
      "X = D['x']\n",
      "Y = D['y']\n",
      "xf, yf = pylab.poly_between([-4,4], [3.8,-4.2], [4.2, -3.8])\n",
      "g = (X + Y >= -0.2) * (X + Y <= 0.2)\n",
      "pylab.fill(xf, yf, facecolor='yellow', alpha=0.4, hatch='/')\n",
      "\n",
      "pylab.scatter(X[g],Y[g], c='black')\n",
      "pylab.scatter(X[~g],Y[~g], c='r')\n",
      "pylab.gca().set_xlim([-4,4])\n",
      "pylab.gca().set_ylim([-4,4])"
     ],
     "language": "python",
     "metadata": {},
     "outputs": []
    },
    {
     "cell_type": "markdown",
     "metadata": {},
     "source": [
      "\n",
      "Fixing the sum selects this diagonal strip"
     ]
    },
    {
     "cell_type": "heading",
     "level": 3,
     "metadata": {
      "slideshow": {
       "slide_type": "slide"
      }
     },
     "source": [
      "Correlation"
     ]
    },
    {
     "cell_type": "code",
     "collapsed": false,
     "input": [
      "from matplotlib import rc\n",
      "import pylab, numpy as np, sys\n",
      "np.random.seed(0);import random; random.seed(0)\n",
      "import matplotlib.mlab as ML\n",
      "D = ML.csv2rec('%s/independent_example.csv' % datadir)\n",
      "X = D['x']\n",
      "Y = D['y']\n",
      "g = (X + Y >= -0.2) * (X + Y <= 0.2)\n",
      "pylab.scatter(X[g], Y[g], c='black')\n",
      "pylab.title(\"r=%0.2f\" % np.corrcoef([X[g],Y[g]])[0,1])\n",
      "pylab.gca().set_xlim([-4,4])\n",
      "pylab.gca().set_ylim([-4,4])"
     ],
     "language": "python",
     "metadata": {},
     "outputs": []
    },
    {
     "cell_type": "markdown",
     "metadata": {},
     "source": [
      "\n",
      "Fixing the sum selects this diagonal strip"
     ]
    }
   ],
   "metadata": {}
  }
 ]
}
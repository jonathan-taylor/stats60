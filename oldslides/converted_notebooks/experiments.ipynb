{
 "metadata": {
  "name": ""
 },
 "nbformat": 3,
 "nbformat_minor": 0,
 "worksheets": [
  {
   "cells": [
    {
     "cell_type": "code",
     "collapsed": false,
     "input": [
      "%load_ext rmagic"
     ],
     "language": "python",
     "metadata": {
      "slideshow": {
       "slide_type": "skip"
      }
     },
     "outputs": []
    },
    {
     "cell_type": "heading",
     "level": 3,
     "metadata": {
      "slideshow": {
       "slide_type": "slide"
      }
     },
     "source": [
      "Experiments"
     ]
    },
    {
     "cell_type": "markdown",
     "metadata": {},
     "source": [
      "\n",
      "Prototypical examples\n",
      "\n",
      "* Does smoking cause lung cancer?\n",
      "* How can this be established \u2013 by comparing smokers to non-smokers?\n",
      "* Is a vaccine effective against some infectious disease?"
     ]
    },
    {
     "cell_type": "heading",
     "level": 3,
     "metadata": {
      "slideshow": {
       "slide_type": "slide"
      }
     },
     "source": [
      "Experiments"
     ]
    },
    {
     "cell_type": "markdown",
     "metadata": {},
     "source": [
      "\n",
      "Treatment and control groups\n",
      "\n",
      "* In the smoking study: ** treatment = smokers**\n",
      "  , ** control = non-smokers**\n",
      "  .\n",
      "* In a vaccine study: ** treatment = patients who are vaccinated**\n",
      "  , ** control = non-vaccinated**\n",
      "  .\n",
      "* Ideally, the only difference between ** treatment**\n",
      "   and ** control**\n",
      "   is whether or not they receive the treatment.\n",
      "Randomized controlled experiments\n",
      "\n",
      "* The best way to establish smoking causes lung cancer is a *randomized controlled*\n",
      "   experiment.\n",
      "* In such a study, patients would be assigned randomly to smoking or non-smoking group.\n",
      "* Obviously, these experiments are not always possible: we can\u2019t force people to smoke."
     ]
    },
    {
     "cell_type": "heading",
     "level": 3,
     "metadata": {
      "slideshow": {
       "slide_type": "slide"
      }
     },
     "source": [
      "Randomized Controlled Experiments"
     ]
    },
    {
     "cell_type": "markdown",
     "metadata": {},
     "source": [
      "\n",
      "Why randomize?\n",
      "\n",
      "* In the polio vaccine example described in the book, wealthy families whose children were more vulnerable to polio also were more likely to volunteer for vaccination.\n",
      "* If ** treatment**\n",
      "   is assigned based on whoever volunteers, this biases the experiment against the vaccine, i.e. its apparent effectiveness is diminished.\n",
      "* This means there will be differences between ** treatment**\n",
      "   and ** control**\n",
      "   groups other than just the vaccine."
     ]
    },
    {
     "cell_type": "heading",
     "level": 3,
     "metadata": {
      "slideshow": {
       "slide_type": "slide"
      }
     },
     "source": [
      "Randomized Controlled Experiments"
     ]
    },
    {
     "cell_type": "markdown",
     "metadata": {},
     "source": [
      "\n",
      "Placebo effect: blinding\n",
      "\n",
      "* Subjects in the ** control**\n",
      "   group should be given a \"treatment\" with no effect. That is, they should be *blinded*\n",
      "  .\n",
      "* Why? So the response is not due to the idea of a vaccine, but the vaccine itself.\n",
      "* In the vaccination example, children were given an injection of salt and water.\n",
      "* This treatment is called a ** placebo**\n",
      "  ."
     ]
    },
    {
     "cell_type": "heading",
     "level": 3,
     "metadata": {
      "slideshow": {
       "slide_type": "slide"
      }
     },
     "source": [
      "Randomized Controlled Experiments"
     ]
    },
    {
     "cell_type": "markdown",
     "metadata": {},
     "source": [
      "\n",
      "Why randomize?\n",
      "\n",
      "* In the polio vaccine example described in the book, wealthy families whose children were more vulnerable to polio also were more likely to volunteer for vaccination.\n",
      "* If treatment is assigned based on whoever volunteers, this biases the experiment against the vaccine, i.e. its apparent effectiveness is diminished."
     ]
    },
    {
     "cell_type": "heading",
     "level": 3,
     "metadata": {
      "slideshow": {
       "slide_type": "slide"
      }
     },
     "source": [
      "Randomized Controlled Experiments"
     ]
    },
    {
     "cell_type": "markdown",
     "metadata": {},
     "source": [
      "\n",
      "Double blinding\n",
      "\n",
      "* If the doctors know who receives treatment and who receives placebo, they may also bias the results by their reporting.\n",
      "* For example, polio diagnosis is not perfect, a doctor with interest in the success of the vaccine may declare a treated child with mild polio as healthy; or an untreated (placebo) child who is close to healthy as having mild polio.\n",
      "* This bias may be conscious or unconscious on the doctors\u2019 part."
     ]
    },
    {
     "cell_type": "heading",
     "level": 3,
     "metadata": {
      "slideshow": {
       "slide_type": "slide"
      }
     },
     "source": [
      "Randomized controlled experiments"
     ]
    },
    {
     "cell_type": "markdown",
     "metadata": {},
     "source": [
      "\n",
      "NFIP study\n",
      "\n",
      "\n",
      "Group | Size | Rate\n",
      "--- | --- | ---\n",
      "Treatment | 225,000 | 25\n",
      "Control | 725,000 | 54\n",
      "No consent | 125,000 | 44\n",
      "Double-blind study\n",
      "\n",
      "\n",
      "Group | Size | Rate\n",
      "--- | --- | ---\n",
      "Treatment | 200,000 | 28\n",
      "Control | 200,000 | 71\n",
      "No consent | 350,000 | 46"
     ]
    },
    {
     "cell_type": "heading",
     "level": 3,
     "metadata": {
      "slideshow": {
       "slide_type": "slide"
      }
     },
     "source": [
      "Randomized controlled experiments"
     ]
    },
    {
     "cell_type": "markdown",
     "metadata": {},
     "source": [
      "\n",
      "Another advantage\n",
      "\n",
      "* As we\u2019ll see later, the other advantage of the randomized controlled experiment is that the only thing that the difference in rates between ** treatment**\n",
      "   and ** control**\n",
      "   is randomness.\n",
      "* We will compute the chances of this later on. They will be small \u2026"
     ]
    },
    {
     "cell_type": "heading",
     "level": 3,
     "metadata": {
      "slideshow": {
       "slide_type": "slide"
      }
     },
     "source": [
      "Observational studies"
     ]
    },
    {
     "cell_type": "markdown",
     "metadata": {},
     "source": [
      "\n",
      "Observational studies\n",
      "\n",
      "* Unlike in randomized controlled experiments, in *observational studies*\n",
      "  , the subjects are assigned to ** treatment**\n",
      "   or ** control**\n",
      "   by an *uncontrolled*\n",
      "   mechanism.\n",
      "* In a smoking / lung cancer study, subjects choose to smoke or not.\n",
      "* Very often ** treatment**\n",
      "   or ** control**\n",
      "   groups differ by more than just the treatment."
     ]
    },
    {
     "cell_type": "heading",
     "level": 3,
     "metadata": {
      "slideshow": {
       "slide_type": "slide"
      }
     },
     "source": [
      "Observational studies"
     ]
    },
    {
     "cell_type": "markdown",
     "metadata": {},
     "source": [
      "\n",
      "Smoking & socio-economic status\n",
      "\n",
      "Smoking is related to socio-economic status, then\n",
      "* those in lower socio-economic status groups have less access to medical care\n",
      "* will tend to have higher incidence of some diseases based on this fact alone\n",
      "Association is not causation\n",
      "\n",
      "* In children, shoe size is associated to reading ability.\n",
      "* However, having big feet does not cause children to score high on reading tests."
     ]
    },
    {
     "cell_type": "heading",
     "level": 3,
     "metadata": {
      "slideshow": {
       "slide_type": "slide"
      }
     },
     "source": [
      "Observational studies"
     ]
    },
    {
     "cell_type": "markdown",
     "metadata": {},
     "source": [
      "\n",
      "Confounding (excerpt from book)\n",
      " *Confounding means there is a difference between the treatment and control groups \u2013 other than treatment \u2013 which affects the response being studied. A confounder is a third variable, associated with exposure and with disease.*\n"
     ]
    },
    {
     "cell_type": "heading",
     "level": 3,
     "metadata": {
      "slideshow": {
       "slide_type": "slide"
      }
     },
     "source": [
      "Observational studies"
     ]
    },
    {
     "cell_type": "markdown",
     "metadata": {},
     "source": [
      "\n",
      "Confounding\n",
      "\n",
      "* Both reading and ability are associated to age.\n",
      "* As children age, their feet grow.\n",
      "* As children age, their reading improves.\n",
      "The problem with confounding\n",
      "\n",
      "* As it is impossible to rule out all possible confounding variables, establishing a causal link between, e.g. smoking and lung cancer can be difficult.\n",
      "* Fisher, one of the greatest statisticians believed there was a confounding variable."
     ]
    },
    {
     "cell_type": "heading",
     "level": 3,
     "metadata": {
      "slideshow": {
       "slide_type": "slide"
      }
     },
     "source": [
      "Simpson\u2019s paradox"
     ]
    },
    {
     "cell_type": "markdown",
     "metadata": {},
     "source": [
      "\n",
      "Simpson\u2019s paradox\n",
      " Another difficulty with observational studies in which conclusions can be reversed \u2026\n",
      "Sex bias in graduate admissions\n",
      "\n",
      "c|rr|rr\n",
      " Major & # (Male) & % (Male) & # (Female) & % (Female)\n",
      "& & &\n",
      "Total & 2691 & 44 & 1835 & 35"
     ]
    },
    {
     "cell_type": "heading",
     "level": 3,
     "metadata": {
      "slideshow": {
       "slide_type": "slide"
      }
     },
     "source": [
      "Simpson\u2019s paradox"
     ]
    },
    {
     "cell_type": "markdown",
     "metadata": {},
     "source": [
      "\n",
      "Sex bias in graduate admissions\n",
      "\n",
      "\n",
      "Major | # (Male) | % (Male) | # (Female) | % (Female)\n",
      "--- | --- | --- | --- | ---\n",
      "A | 825 | 62 | 108 | 82\n",
      "B | 560 | 63 | 25 | 68\n",
      "C | 325 | 37 | 593 | 34\n",
      "D | 417 | 33 | 375 | 33\n",
      "E | 191 | 28 | 393 | 24\n",
      "F | 373 | 6 | 341 | 7\n",
      "Total | 2691 | 44 | 1835 | 35"
     ]
    },
    {
     "cell_type": "heading",
     "level": 3,
     "metadata": {
      "slideshow": {
       "slide_type": "slide"
      }
     },
     "source": [
      "Simpson\u2019s paradox"
     ]
    },
    {
     "cell_type": "markdown",
     "metadata": {},
     "source": [
      "\n",
      "Weighted average\n",
      " $\\begin{aligned}\n",
      "   \\text{Male} &= \\frac{0.62 \\times 933 + 0.63 \\times 585 + 0.37 \\times 918}{4526} \\\\\n",
      "   & \\qquad  +  \\ \\frac{0.33 \\times 792 + 0.28 \\times 584 + 0.06 \\times 714}{4526} \\\\\n",
      "   &= 39 \\% \\\\\n",
      "   \\text{Female} &= \\frac{0.82 \\times 933 + 0.68 \\times 585 + 0.34 \\times 918}{4526} \\\\\n",
      "   & \\qquad + \\  \\frac{0.35 \\times 792 + 0.24 \\times 584 + 0.07 \\times 714}{4526} \\\\\n",
      "   &= 43 \\%\n",
      "   \\end{aligned}$ \n",
      "\n",
      "The women were applying to harder majors \u2026"
     ]
    }
   ],
   "metadata": {}
  }
 ]
}
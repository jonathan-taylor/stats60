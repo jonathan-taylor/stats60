{
 "metadata": {
  "name": ""
 },
 "nbformat": 3,
 "nbformat_minor": 0,
 "worksheets": [
  {
   "cells": [
    {
     "cell_type": "code",
     "collapsed": false,
     "input": [
      "%load_ext rmagic"
     ],
     "language": "python",
     "metadata": {
      "slideshow": {
       "slide_type": "skip"
      }
     },
     "outputs": []
    },
    {
     "cell_type": "heading",
     "level": 3,
     "metadata": {
      "slideshow": {
       "slide_type": "slide"
      }
     },
     "source": [
      "Average"
     ]
    },
    {
     "cell_type": "markdown",
     "metadata": {},
     "source": [
      "\n",
      "Definition\n",
      "\n",
      "The average of a list of numbers equals their sum, divided by how many there are. Average is also called the *mean*\n",
      ".\n",
      "Example: [1,4,6,7,8]\n",
      "\n",
      "$\\text{Average} = \\frac{1+4+6+7+8}{5} = \\frac{26}{5} = 5.2$"
     ]
    },
    {
     "cell_type": "heading",
     "level": 3,
     "metadata": {
      "slideshow": {
       "slide_type": "slide"
      }
     },
     "source": [
      "Average"
     ]
    },
    {
     "cell_type": "markdown",
     "metadata": {},
     "source": [
      "\n",
      "$\\Sigma$ notation\n",
      "\n",
      "* Call our list $X=[X_1, \\dots, X_n]$.\n",
      "* We often write the sum $X_1 + X_2 + \\dots + X_n = \\sum_{i=1}^n X_i.$\n",
      "* The mean of a list $X = [X_1, \\dots, X_n]$ is often written as $\\bar{X} = \\frac{1}{n} \\sum_{i=1}^n X_i.$"
     ]
    },
    {
     "cell_type": "heading",
     "level": 3,
     "metadata": {
      "slideshow": {
       "slide_type": "slide"
      }
     },
     "source": [
      "Average"
     ]
    },
    {
     "cell_type": "code",
     "collapsed": false,
     "input": [
      "from matplotlib import rc\n",
      "import pylab, numpy as np, sys\n",
      "np.random.seed(0);import random; random.seed(0)\n",
      "import pylab\n",
      "bins = []; count = []\n",
      "data = np.array([1,4,6,7,8])\n",
      "for n in data:\n",
      "    bins += [n-0.05,n+0.05]\n",
      "    count += [1,0]\n",
      "count = count[:-1]\n",
      "mean = data.mean()\n",
      "PL_density(count, bins)\n",
      "pylab.arrow(mean, 10, 0, -10,color='r')\n",
      "pylab.gca().set_xlim([0,11.])\n",
      "pylab.gca().set_yticks([])\n",
      "pylab.gca().set_ylim([0,220.])"
     ],
     "language": "python",
     "metadata": {},
     "outputs": []
    },
    {
     "cell_type": "heading",
     "level": 3,
     "metadata": {
      "slideshow": {
       "slide_type": "slide"
      }
     },
     "source": [
      "Average of [1,4]"
     ]
    },
    {
     "cell_type": "code",
     "collapsed": false,
     "input": [
      "from matplotlib import rc\n",
      "import pylab, numpy as np, sys\n",
      "np.random.seed(0);import random; random.seed(0)\n",
      "import pylab\n",
      "bins = []; count = []\n",
      "data = np.array([1,4])\n",
      "bins = [0.95,1.05,3.95,4.05]\n",
      "count = [2,0,2]\n",
      "mean = (2*1+2*4) / 4.\n",
      "PL_density(count, bins)\n",
      "pylab.arrow(mean, 60, 0, -60,color='r')\n",
      "pylab.gca().set_xlim([0,5.])\n",
      "pylab.gca().set_yticks([])\n",
      "pylab.gca().set_ylim([0,520.])"
     ],
     "language": "python",
     "metadata": {},
     "outputs": []
    },
    {
     "cell_type": "heading",
     "level": 3,
     "metadata": {
      "slideshow": {
       "slide_type": "slide"
      }
     },
     "source": [
      "Average of [1,1,1,1,4,4]"
     ]
    },
    {
     "cell_type": "code",
     "collapsed": false,
     "input": [
      "from matplotlib import rc\n",
      "import pylab, numpy as np, sys\n",
      "np.random.seed(0);import random; random.seed(0)\n",
      "import pylab\n",
      "bins = []; count = []\n",
      "data = np.array([1,4])\n",
      "bins = [0.95,1.05,3.95,4.05]\n",
      "count = [4,0,2]\n",
      "mean = (4*1+2*4) / 6.\n",
      "PL_density(count, bins)\n",
      "pylab.arrow(mean, 70, 0, -70,color='r')\n",
      "pylab.gca().set_xlim([0,5.])\n",
      "pylab.gca().set_yticks([])\n",
      "pylab.gca().set_ylim([0,750.])"
     ],
     "language": "python",
     "metadata": {},
     "outputs": []
    },
    {
     "cell_type": "heading",
     "level": 3,
     "metadata": {
      "slideshow": {
       "slide_type": "slide"
      }
     },
     "source": [
      "Average of a list"
     ]
    },
    {
     "cell_type": "markdown",
     "metadata": {},
     "source": [
      "\n",
      "Average balances the list\n",
      " The sum of the deviations from average is always zero.\n",
      "Example: [1,1,1,1,4,4]\n",
      "\n",
      "* The average is 2.\n",
      "* Deviations from average is $[-1,-1,-1,-1,2,2]$.\n",
      "* Sum of deviations from average: 0. This is always true.\n",
      "* In $\\Sigma$ notation $\\sum_{i=1}^n (X_i - \\bar{X}) = 0.$"
     ]
    },
    {
     "cell_type": "heading",
     "level": 3,
     "metadata": {
      "slideshow": {
       "slide_type": "slide"
      }
     },
     "source": [
      "Average of a list"
     ]
    },
    {
     "cell_type": "markdown",
     "metadata": {},
     "source": [
      "\n",
      "Average balances the list\n",
      " The sum of the deviations from average is always zero.\n",
      "Example: [1,1,1,1,4,4]\n",
      "\n",
      "* With repeats, we can think of having a \"weight\" of 4 at 1 and 2 at 4.\n",
      "* Deviations from average is $-1=(1-2)$ at $2=(4-2)$ at 4.\n",
      "* Weighted sum of deviations from average: $4 \\times (-1) + 2 \\times 2 = 0$.\n",
      "* This is how to compute the average of a histogram."
     ]
    },
    {
     "cell_type": "heading",
     "level": 3,
     "metadata": {
      "slideshow": {
       "slide_type": "slide"
      }
     },
     "source": [
      "Average of a histogram"
     ]
    },
    {
     "cell_type": "code",
     "collapsed": false,
     "input": [
      "from matplotlib import rc\n",
      "import pylab, numpy as np, sys\n",
      "np.random.seed(0);import random; random.seed(0)\n",
      "import pylab\n",
      "bins = []; count = []\n",
      "data = np.array([1,4])\n",
      "bins = np.linspace(0,1,21)\n",
      "X = np.random.beta(2,6,10000)\n",
      "count = np.histogram(X, bins)[0]\n",
      "mean = X.mean()\n",
      "PL_density(count, bins)\n",
      "pylab.arrow(mean, 70, 0, -70,color='r', linewidth=3)\n",
      "#   pylab.gca().set_xlim([0,1.])\n",
      "pylab.gca().set_yticks([])\n",
      "#   pylab.gca().set_ylim([0,750.])"
     ],
     "language": "python",
     "metadata": {},
     "outputs": []
    },
    {
     "cell_type": "markdown",
     "metadata": {},
     "source": [
      "\n",
      "A histogram is balanced at the average"
     ]
    },
    {
     "cell_type": "heading",
     "level": 3,
     "metadata": {
      "slideshow": {
       "slide_type": "slide"
      }
     },
     "source": [
      "Median"
     ]
    },
    {
     "cell_type": "markdown",
     "metadata": {},
     "source": [
      "\n",
      "Another measure of center\n",
      " The *median*\n",
      " of a histogram is the number with half the area to the left and half the area to the right.\n",
      "Median of a list of numbers\n",
      "\n",
      "Step 1: * Sort the numbers for smallest to largest.\n",
      "Step 2a: * If the length of the list is odd, the median is the middle entry of the sorted values.\n",
      "Step 2b: * If the length of the list is even, the median is the average of the two middle entries."
     ]
    },
    {
     "cell_type": "heading",
     "level": 3,
     "metadata": {
      "slideshow": {
       "slide_type": "slide"
      }
     },
     "source": [
      "Median"
     ]
    },
    {
     "cell_type": "markdown",
     "metadata": {},
     "source": [
      "\n",
      "Example: median of $[1,4,2,9,8]$\n",
      "\n",
      "Step 1: * The sorted values are $[1,2,4,8,9]$.\n",
      "Step 2a: * Since the length of the list is 5, the median is the middle entry of the sorted values. The median is 4.\n",
      "Example: median of $[1,11,3,7,8,3]$\n",
      "\n",
      "Step 1: * The sorted values are $[1,3,3,7,8,11]$.\n",
      "Step 2a: * Since the length of the list is 6, the median is the average of the middle entries. The median is $(3+7)/2=5$."
     ]
    },
    {
     "cell_type": "heading",
     "level": 3,
     "metadata": {
      "slideshow": {
       "slide_type": "slide"
      }
     },
     "source": [
      "Median and average"
     ]
    },
    {
     "cell_type": "markdown",
     "metadata": {},
     "source": [
      "\n",
      "Examples\n",
      "\n",
      "* Q: What is the mean of $[3,7,4,11,5]$? The median?\n",
      "* A: The mean is 6. The median is 5."
     ]
    },
    {
     "cell_type": "heading",
     "level": 3,
     "metadata": {
      "slideshow": {
       "slide_type": "slide"
      }
     },
     "source": [
      "Median and average"
     ]
    },
    {
     "cell_type": "markdown",
     "metadata": {},
     "source": [
      "\n",
      "Examples\n",
      "\n",
      "* Q: What is the mean of $[3,37,4,41,5]$? The median?\n",
      "* A: The mean is 18. The median is 5.\n",
      "What\u2019s the difference?\n",
      " The median is less sensitive to changes away from the center than the mean is."
     ]
    },
    {
     "cell_type": "heading",
     "level": 3,
     "metadata": {
      "slideshow": {
       "slide_type": "slide"
      }
     },
     "source": [
      "Symmetric histogram"
     ]
    },
    {
     "cell_type": "markdown",
     "metadata": {},
     "source": [
      "\n",
      "Average $=$ Median"
     ]
    },
    {
     "cell_type": "heading",
     "level": 3,
     "metadata": {
      "slideshow": {
       "slide_type": "slide"
      }
     },
     "source": [
      "Skewed left histogram"
     ]
    },
    {
     "cell_type": "markdown",
     "metadata": {},
     "source": [
      "\n",
      "Average $<$ Median"
     ]
    },
    {
     "cell_type": "heading",
     "level": 3,
     "metadata": {
      "slideshow": {
       "slide_type": "slide"
      }
     },
     "source": [
      "Skewed right histogram"
     ]
    },
    {
     "cell_type": "markdown",
     "metadata": {},
     "source": [
      "\n",
      "Average $>$ Median"
     ]
    },
    {
     "cell_type": "heading",
     "level": 3,
     "metadata": {
      "slideshow": {
       "slide_type": "slide"
      }
     },
     "source": [
      "Scale or spread of a data set"
     ]
    },
    {
     "cell_type": "code",
     "collapsed": false,
     "input": [
      "from matplotlib import rc\n",
      "import pylab, numpy as np, sys\n",
      "np.random.seed(0);import random; random.seed(0)\n",
      "import pylab, numpy as np\n",
      "bins = np.linspace(-2,4,51)\n",
      "X = np.random.standard_normal(5000) + 1\n",
      "Y = (X - 1) * 0.5 + 1\n",
      "pylab.hist(X, bins)\n",
      "pylab.gca().set_yticks([])\n",
      "pylab.gca().set_xlim([-2,4])"
     ],
     "language": "python",
     "metadata": {},
     "outputs": []
    },
    {
     "cell_type": "heading",
     "level": 3,
     "metadata": {
      "slideshow": {
       "slide_type": "slide"
      }
     },
     "source": [
      "Scale or spread of a data set"
     ]
    },
    {
     "cell_type": "code",
     "collapsed": false,
     "input": [
      "from matplotlib import rc\n",
      "import pylab, numpy as np, sys\n",
      "np.random.seed(0);import random; random.seed(0)\n",
      "import pylab, numpy as np\n",
      "bins = np.linspace(-2,4,51)\n",
      "X = np.random.standard_normal(5000) + 1\n",
      "Y = (X - 1) * 0.5 + 1\n",
      "pylab.hist(Y, bins)\n",
      "pylab.gca().set_xlim([-2,4])\n",
      "pylab.gca().set_yticks([])"
     ],
     "language": "python",
     "metadata": {},
     "outputs": []
    },
    {
     "cell_type": "markdown",
     "metadata": {},
     "source": [
      "\n",
      "Average of both histograms is the same but spread is different."
     ]
    },
    {
     "cell_type": "heading",
     "level": 3,
     "metadata": {
      "slideshow": {
       "slide_type": "slide"
      }
     },
     "source": [
      "Standard deviation"
     ]
    },
    {
     "cell_type": "markdown",
     "metadata": {},
     "source": [
      "\n",
      "Conceptual definition\n",
      "\n",
      "* The SD says how far numbers on a list are away from their average.\n",
      "* Its units are in the original units if the list.\n",
      "* Most entries on the list will be somehere around one SD away from the average. Very few will be more than two or three SDs away."
     ]
    },
    {
     "cell_type": "heading",
     "level": 3,
     "metadata": {
      "slideshow": {
       "slide_type": "slide"
      }
     },
     "source": [
      "Standard deviation"
     ]
    },
    {
     "cell_type": "markdown",
     "metadata": {},
     "source": [
      "\n",
      "Rules of thumb\n",
      "\n",
      "* Roughly 68 % of the entries on a list are within one SD of the average.\n",
      "* Roughly 95 % of the entries on a list are within two SDs of the average.\n",
      "* These rules hold for many data sets, not all."
     ]
    },
    {
     "cell_type": "heading",
     "level": 3,
     "metadata": {
      "slideshow": {
       "slide_type": "slide"
      }
     },
     "source": [
      "Rules of thumb"
     ]
    },
    {
     "cell_type": "code",
     "collapsed": false,
     "input": [
      "from matplotlib import rc\n",
      "import pylab, numpy as np, sys\n",
      "np.random.seed(0);import random; random.seed(0)\n",
      "import pylab, numpy as np\n",
      "X = np.random.standard_normal(5000) + 1\n",
      "Y = (X - 1) * 0.5 + 1 + np.random.uniform(size=X.shape[0]) * 2.\n",
      "mean = Y.mean()\n",
      "SD = np.sqrt(((Y - Y.mean())**2).mean())\n",
      "pylab.hist(Y, bins=30, alpha=0.5)\n",
      "pylab.arrow(mean, 70, 0, -70,color='r', linewidth=3)\n",
      "pylab.arrow(mean-SD, 70, 0, -70,color='y', linewidth=3)\n",
      "pylab.arrow(mean+SD, 70, 0, -70,color='y', linewidth=3)\n",
      "pylab.arrow(mean-2*SD, 70, 0, -70,color='y', linewidth=3)\n",
      "pylab.arrow(mean+2*SD, 70, 0, -70,color='y', linewidth=3)\n",
      "standY = (Y - mean) / SD\n",
      "within1 = (np.fabs(standY) <= 1).sum() * 1. / Y.shape[0] * 100\n",
      "within2 = (np.fabs(standY) <= 2).sum() * 1. / Y.shape[0] * 100\n",
      "pylab.title('Within 1 SD %d %%, Within 2 SD %d %%' % (int(within1), int(within2)))\n",
      "pylab.gca().set_yticks([])"
     ],
     "language": "python",
     "metadata": {},
     "outputs": []
    },
    {
     "cell_type": "heading",
     "level": 3,
     "metadata": {
      "slideshow": {
       "slide_type": "slide"
      }
     },
     "source": [
      "Rules of thumb"
     ]
    },
    {
     "cell_type": "code",
     "collapsed": false,
     "input": [
      "from matplotlib import rc\n",
      "import pylab, numpy as np, sys\n",
      "np.random.seed(0);import random; random.seed(0)\n",
      "import pylab, numpy as np\n",
      "Y = np.random.exponential(size=5000) * 2 + np.random.uniform(size=5000) * 2.\n",
      "pylab.clf()\n",
      "mean = Y.mean()\n",
      "SD = np.sqrt(((Y - Y.mean())**2).mean())\n",
      "pylab.hist(Y, bins=30, alpha=0.5)\n",
      "pylab.arrow(mean, 70, 0, -70,color='r', linewidth=3)\n",
      "pylab.arrow(mean-SD, 70, 0, -70,color='y', linewidth=3)\n",
      "pylab.arrow(mean+SD, 70, 0, -70,color='y', linewidth=3)\n",
      "pylab.arrow(mean-2*SD, 70, 0, -70,color='y', linewidth=3)\n",
      "pylab.arrow(mean+2*SD, 70, 0, -70,color='y', linewidth=3)\n",
      "standY = (Y - mean) / SD\n",
      "within1 = (np.fabs(standY) <= 1).sum() * 1. / Y.shape[0] * 100\n",
      "within2 = (np.fabs(standY) <= 2).sum() * 1. / Y.shape[0] * 100\n",
      "pylab.title('Within 1 SD %d %%, Within 2 SD %d %%' % (int(within1), int(within2)))\n",
      "pylab.gca().set_xlim([-2,15])\n",
      "pylab.gca().set_yticks([])"
     ],
     "language": "python",
     "metadata": {},
     "outputs": []
    },
    {
     "cell_type": "heading",
     "level": 3,
     "metadata": {
      "slideshow": {
       "slide_type": "slide"
      }
     },
     "source": [
      "Root Mean Square"
     ]
    },
    {
     "cell_type": "markdown",
     "metadata": {},
     "source": [
      "\n",
      "Definition\n",
      "\n",
      "$$ = $\\end{block}\n",
      "\n",
      "\n",
      "   \\begin{block}\n",
      "   {Example}$\n",
      "&=\n",
      "&=\n",
      "&= / 2\n",
      "& 4.9\n",
      "$$"
     ]
    },
    {
     "cell_type": "heading",
     "level": 3,
     "metadata": {
      "slideshow": {
       "slide_type": "slide"
      }
     },
     "source": [
      "Root Mean Square"
     ]
    },
    {
     "cell_type": "markdown",
     "metadata": {},
     "source": [
      "\n",
      "$\\Sigma$ notation\n",
      "\n",
      "* Call our list $X=[X_1, \\dots, X_n]$.\n",
      "* Then, $\\text{r.m.s.}(X) = \\sqrt{\\frac{1}{n}\\sum_{i=1}^n X_i^2}$"
     ]
    },
    {
     "cell_type": "heading",
     "level": 3,
     "metadata": {
      "slideshow": {
       "slide_type": "slide"
      }
     },
     "source": [
      "Standard deviation"
     ]
    },
    {
     "cell_type": "markdown",
     "metadata": {},
     "source": [
      "\n",
      "Computing the SD\n",
      "\n",
      "* Given a list, define $\\text{deviation from average(list)} = \\text{entry - average(list)}.$\n",
      "* The SD is computed as $\\text{SD (list)} = \\text{r.m.s.(deviation from average(list))}$\n",
      "$\\Sigma$ notation\n",
      "\n",
      "* Call our list $X=[X_1, \\dots, X_n]$.\n",
      "* Then, $\\text{SD}(X) = \\sqrt{\\frac{1}{n}\\sum_{i=1}^n (X_i-\\bar{X})^2}$"
     ]
    },
    {
     "cell_type": "heading",
     "level": 3,
     "metadata": {
      "slideshow": {
       "slide_type": "slide"
      }
     },
     "source": [
      "Standard deviation"
     ]
    },
    {
     "cell_type": "markdown",
     "metadata": {},
     "source": [
      "\n",
      "Example: SD([20,30,25,25])\n",
      "\n",
      "Step 1: compute the average * $\\text{average} = \\frac{20+30+25+25}{4} = \\frac{100}{4} = 25.$\n",
      "Step 2: compute deviation from average * $\\begin{aligned}\n",
      "     \\lefteqn{\\text{deviation from average}([20,30,25,25])} \\\\\n",
      "     & \\qquad = [20-25,30-25,25-25,25-25] \\\\\n",
      "     & \\qquad = [-5,5,0,0].\n",
      "     \\end{aligned}$"
     ]
    },
    {
     "cell_type": "heading",
     "level": 3,
     "metadata": {
      "slideshow": {
       "slide_type": "slide"
      }
     },
     "source": [
      "Standard deviation"
     ]
    },
    {
     "cell_type": "markdown",
     "metadata": {},
     "source": [
      "\n",
      "Example continued\n",
      "\n",
      "Step 3: compute r.m.s of deviation from average * $\\begin{aligned}\n",
      "     \\text{SD} &= \\text{r.m.s}([-5,5,0,0]) \\\\\n",
      "     &= \\sqrt{\\frac{(-5)^2+5^2+0^2+0^2}{4}} \\\\\n",
      "     &= \\sqrt{\\frac{50}{4}} \\approx 3.5\n",
      "     \\end{aligned}$"
     ]
    },
    {
     "cell_type": "heading",
     "level": 3,
     "metadata": {
      "slideshow": {
       "slide_type": "slide"
      }
     },
     "source": [
      "Standard deviation"
     ]
    },
    {
     "cell_type": "markdown",
     "metadata": {},
     "source": [
      "\n",
      "SD versus SD$^+$\n",
      "\n",
      "* Some calculators (and software) compute a different version of SD than we will use.\n",
      "* The difference depends on the length of the list.\n",
      "* If the length of the list is $n$, then $$\n",
      "* \n",
      "  & =\n",
      "* $$\n",
      "* Or, in $\\Sigma$ notation with list $X=[X_1,\\dots, X_n]$ $\\text{SD}^+   = \\sqrt{\\frac{1}{n-1}\\sum_{i=1}^n (X_i-\\bar{X})^2}$ $$"
     ]
    },
    {
     "cell_type": "heading",
     "level": 3,
     "metadata": {
      "slideshow": {
       "slide_type": "slide"
      }
     },
     "source": [
      "Standard deviation"
     ]
    },
    {
     "cell_type": "markdown",
     "metadata": {},
     "source": [
      "\n",
      "Example: SD$^+$([20,30,25,25]) \n",
      "\n",
      "$\\begin{aligned}\n",
      "   \\text{SD}^+([20,30,25,25]) &= \\sqrt{\\frac{4}{3}} \\times \\text{SD}([20,30,25,25])  \\\\\n",
      "   &= \\sqrt{\\frac{4}{3}} \\times \\sqrt{\\frac{50}{4}} \\\\\n",
      "   &= \\sqrt{\\frac{50}{3}} \\\\\n",
      "   &\\approx 4.1\n",
      "   \\end{aligned}$"
     ]
    },
    {
     "cell_type": "heading",
     "level": 3,
     "metadata": {
      "slideshow": {
       "slide_type": "slide"
      }
     },
     "source": [
      "Changing location / scale"
     ]
    },
    {
     "cell_type": "markdown",
     "metadata": {},
     "source": [
      "\n",
      "Example: temperature conversion\n",
      "\n",
      "* Suppose you are told that the average max temperature in Palo Alto for March 28 over the last 20 years is 70$^{\\circ} F$ with an SD of 6 $^{\\circ} F$.\n",
      "* What would the average and SD be if you used $^{\\circ} C$ instead?\n",
      "* The rule for converting Farhenheit to Celsius is $$ = ( - 32<sup></sup> F) $$"
     ]
    },
    {
     "cell_type": "heading",
     "level": 3,
     "metadata": {
      "slideshow": {
       "slide_type": "slide"
      }
     },
     "source": [
      "Changing location / scale"
     ]
    },
    {
     "cell_type": "markdown",
     "metadata": {},
     "source": [
      "\n",
      "Example: temperature conversion\n",
      "\n",
      "* Subtracting $32 ^{\\circ} F$ changes the mean of our list by 32, but does not change the SD. (Check this\n",
      "  )\n",
      "* Multiplying this new list by $5/9$ changes the SD by a factor of 5/9. (Check this\n",
      "  )\n",
      "* Answer: new mean is $(70-32)*5/9\\approx 21^{\\circ} C$ with an SD of $6*5/9 \\approx 3.3 ^{\\circ} C$."
     ]
    }
   ],
   "metadata": {}
  }
 ]
}
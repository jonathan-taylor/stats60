{
 "metadata": {
  "name": ""
 },
 "nbformat": 3,
 "nbformat_minor": 0,
 "worksheets": [
  {
   "cells": [
    {
     "cell_type": "code",
     "collapsed": false,
     "input": [
      "%load_ext rmagic"
     ],
     "language": "python",
     "metadata": {
      "slideshow": {
       "slide_type": "skip"
      }
     },
     "outputs": []
    },
    {
     "cell_type": "heading",
     "level": 3,
     "metadata": {
      "slideshow": {
       "slide_type": "slide"
      }
     },
     "source": [
      "Box with 4 red balls"
     ]
    },
    {
     "cell_type": "code",
     "collapsed": false,
     "input": [
      "from matplotlib import rc\n",
      "import pylab, numpy as np, sys\n",
      "np.random.seed(0);import random; random.seed(0)\n",
      "dx = 0.02\n",
      "X, Y = np.mgrid[0:1:4j,0:1:1j]\n",
      "X += np.random.uniform(0,1,X.shape) * dx - dx / 2\n",
      "Y += np.random.uniform(0,1,Y.shape) * dx - dx / 2\n",
      "\n",
      "X.shape = -1; Y.shape = -1\n",
      "\n",
      "g = np.arange(24)\n",
      "np.random.shuffle(g)\n",
      "pylab.scatter(X,Y,s=900, c='r', alpha=0.5)\n",
      "for i in range(4):\n",
      "    pylab.text(X[i], Y[i], `i+1`, color='black', ha='center', va='center')\n",
      "pylab.gca().set_xticks([])\n",
      "pylab.gca().set_yticks([])\n",
      "pylab.gca().set_xlim([X.min()-0.1,X.max()+0.1])\n",
      "pylab.gca().set_ylim([Y.min()-0.1,Y.max()+0.1])\n",
      "\n",
      "pylab.show()"
     ],
     "language": "python",
     "metadata": {},
     "outputs": []
    },
    {
     "cell_type": "heading",
     "level": 3,
     "metadata": {
      "slideshow": {
       "slide_type": "slide"
      }
     },
     "source": [
      "Box with 4 red balls"
     ]
    },
    {
     "cell_type": "code",
     "collapsed": false,
     "input": [
      "from matplotlib import rc\n",
      "import pylab, numpy as np, sys\n",
      "np.random.seed(0);import random; random.seed(0)\n",
      "import itertools\n",
      "\n",
      "dx = 0.02\n",
      "Yl = np.linspace(0,1,24)\n",
      "Xl = np.linspace(0,1,4)\n",
      "X, Y = np.mgrid[0:1:4j,0:1:24j]\n",
      "# X += np.random.uniform(0,1,X.shape) * dx - dx / 2\n",
      "# Y += np.random.uniform(0,1,Y.shape) * dx - dx / 2\n",
      "\n",
      "X.shape = -1; Y.shape = -1\n",
      "\n",
      "g = np.arange(24)\n",
      "pylab.scatter(X,Y,s=130, c='r', alpha=0.5)\n",
      "cs = [c for c in itertools.permutations(range(4))][::-1]\n",
      "for i, c in enumerate(cs):\n",
      "    for j in range(4):\n",
      "        pylab.text(Xl[j], Y[i], `c[j]`, color='black', ha='center', va='center')\n",
      "for j in range(4):\n",
      "    pylab.text(Xl[j], 1.1, \"Draw %d\" % (j+1), color='black', ha='center', va='center')\n",
      "pylab.gca().set_xticks([])\n",
      "pylab.gca().set_yticks([])\n",
      "pylab.gca().set_xlim([X.min()-0.1,X.max()+0.1])\n",
      "pylab.gca().set_ylim([Y.min()-0.1,Y.max()+0.2])\n",
      "\n",
      "pylab.show()"
     ],
     "language": "python",
     "metadata": {},
     "outputs": []
    },
    {
     "cell_type": "markdown",
     "metadata": {},
     "source": [
      "\n",
      "There are 24 possible ways to order the 4 balls."
     ]
    },
    {
     "cell_type": "heading",
     "level": 3,
     "metadata": {
      "slideshow": {
       "slide_type": "slide"
      }
     },
     "source": [
      "Binomial formula"
     ]
    },
    {
     "cell_type": "markdown",
     "metadata": {},
     "source": [
      "\n",
      "Counting the ways of ordering the balls\n",
      " We arrive at 24 as follows:\n",
      "Draw 1 * There are 4 choices.\n",
      "Draw 2 * There are 3 choices.\n",
      "Draw 3 * There are 2 choices.\n",
      "Draw 4 * There is only one choice.\n",
      "Hence, there are $4 \\times 3 \\times 2 \\times 1 = 24$ ways of ordering the balls.\n",
      "Factorial\n",
      "\n",
      "For an integer, $n$ $n! = n \\times (n-1) \\times (n-2) \\times \\dots \\times 3 \\times 2 \\times 1.$\n",
      "Example: $5! = 5 \\times 4 \\times 3 \\times 2 \\times 1 = 120$."
     ]
    },
    {
     "cell_type": "heading",
     "level": 3,
     "metadata": {
      "slideshow": {
       "slide_type": "slide"
      }
     },
     "source": [
      "Box with 4 red balls"
     ]
    },
    {
     "cell_type": "code",
     "collapsed": false,
     "input": [
      "from matplotlib import rc\n",
      "import pylab, numpy as np, sys\n",
      "np.random.seed(0);import random; random.seed(0)\n",
      "import itertools\n",
      "dx = 0.02\n",
      "X, Y = np.mgrid[0.3:0.7:2j,0:1:12j]\n",
      "\n",
      "X.shape = -1; Y.shape = -1\n",
      "Xl = [0.3, 0.7]\n",
      "g = np.arange(12)\n",
      "pylab.scatter(X,Y,s=300, c='r', alpha=0.5)\n",
      "cs = []\n",
      "for d in [c for c in itertools.combinations(range(4), 2)][::-1]:\n",
      "    cs.append(d); cs.append(d[::-1])\n",
      "for i, c in enumerate(cs):\n",
      "    for j in range(2):\n",
      "        pylab.text(Xl[j], Y[i], `c[j]`, color='black', ha='center', va='center')\n",
      "for j in range(2):\n",
      "    pylab.text(Xl[j], 1.1, \"Draw %d\" % (j+1), color='black', ha='center', va='center')\n",
      "pylab.gca().set_xticks([])\n",
      "pylab.gca().set_yticks([])\n",
      "pylab.gca().set_xlim([X.min()-0.1,X.max()+0.1])\n",
      "pylab.gca().set_ylim([Y.min()-0.1,Y.max()+0.2])\n",
      "\n",
      "pylab.show()"
     ],
     "language": "python",
     "metadata": {},
     "outputs": []
    },
    {
     "cell_type": "markdown",
     "metadata": {},
     "source": [
      "\n",
      "There are 12 possible ways to draw two balls in order."
     ]
    },
    {
     "cell_type": "heading",
     "level": 3,
     "metadata": {
      "slideshow": {
       "slide_type": "slide"
      }
     },
     "source": [
      "Binomial formula"
     ]
    },
    {
     "cell_type": "markdown",
     "metadata": {},
     "source": [
      "\n",
      "Counting the ways of ordering the balls\n",
      " We arrive at 12 as follows:\n",
      "Draw 1 * There are 4 choices.\n",
      "Draw 2 * There are 3 choices.\n",
      "Hence, there are $4 \\times 3 = 12 = 4! / 2!$ ways of ordering the balls.\n",
      "Drawing $k$ balls out of $n$, in order\n",
      "\n",
      "The number of ways of drawing $k$ balls without replacement (in order) from $n$ is $\\frac{n!}{(n-k)!}$\n",
      "Example: the number of ways of choosing 5 balls from 7 in order is $7! / 5! = 7 \\times 6 = 42.$"
     ]
    },
    {
     "cell_type": "heading",
     "level": 3,
     "metadata": {
      "slideshow": {
       "slide_type": "slide"
      }
     },
     "source": [
      "Box with 4 red balls"
     ]
    },
    {
     "cell_type": "code",
     "collapsed": false,
     "input": [
      "from matplotlib import rc\n",
      "import pylab, numpy as np, sys\n",
      "np.random.seed(0);import random; random.seed(0)\n",
      "import itertools\n",
      "\n",
      "dx = 0.02\n",
      "X, Y = np.mgrid[0.4:0.6:2j,0:1:6j]\n",
      "\n",
      "X.shape = -1; Y.shape = -1\n",
      "Xl = [0.4, 0.6]\n",
      "g = np.arange(12)\n",
      "pylab.scatter(X,Y,s=500, c='r', alpha=0.8)\n",
      "cs = []\n",
      "for d in [c for c in itertools.combinations(range(4), 2)][::-1]:\n",
      "    cs.append(d)\n",
      "for i, c in enumerate(cs):\n",
      "    xf, yf = pylab.poly_between([Xl[0]-0.07,Xl[1]+0.07], [Y[i]-0.07]*2, [Y[i]+0.07]*2)\n",
      "    pylab.fill(xf,yf, color='gray', alpha=0.1, edgecolor='black', linewidth=3)\n",
      "    for j in range(2):\n",
      "        pylab.text(Xl[j], Y[i], `c[j]`, color='black', ha='center', va='center')\n",
      "\n",
      "pylab.text(0.5, 1.1, \"Draw (ignoring order)\" , color='black', ha='center', va='center')\n",
      "pylab.gca().set_xticks([])\n",
      "pylab.gca().set_yticks([])\n",
      "pylab.gca().set_xlim([X.min()-0.1,X.max()+0.1])\n",
      "pylab.gca().set_ylim([Y.min()-0.1,Y.max()+0.2])\n",
      "\n",
      "pylab.show()"
     ],
     "language": "python",
     "metadata": {},
     "outputs": []
    },
    {
     "cell_type": "markdown",
     "metadata": {},
     "source": [
      "\n",
      "There are 6 possible ways to draw two balls ignoring order."
     ]
    },
    {
     "cell_type": "heading",
     "level": 3,
     "metadata": {
      "slideshow": {
       "slide_type": "slide"
      }
     },
     "source": [
      "Binomial formula"
     ]
    },
    {
     "cell_type": "markdown",
     "metadata": {},
     "source": [
      "\n",
      "Counting the ways of ordering the balls\n",
      " We arrive at 6 as follows:\n",
      "Draw 1 * There are 4 choices.\n",
      "Draw 2 * There are 3 choices.\n",
      "Ignoring order * When we ignore the order, each possible unordered draw corresponds to 2! ordered draws.\n",
      "Hence, there are $4 \\times 3 / 2! = 12 / 2 = 6$ ways of drawing 2 balls out of 4, ignoring order."
     ]
    },
    {
     "cell_type": "heading",
     "level": 3,
     "metadata": {
      "slideshow": {
       "slide_type": "slide"
      }
     },
     "source": [
      "Binomial formula"
     ]
    },
    {
     "cell_type": "markdown",
     "metadata": {},
     "source": [
      "\n",
      "Drawing $k$ balls out of $n$, ignoring order\n",
      "\n",
      "The number of ways of drawing $k$ balls without replacement (ignoring order) from $n$ is $\\frac{n!}{k! \\times (n-k)!}$\n",
      "Example: the number of ways of choosing 5 balls from 7 ignoring order is $7! / (5! 2!) = 7 \\times 6 /2  = 21.$\n",
      "Binomial coefficient\n",
      "\n",
      "Defined as $\\binom{n}{k} = \\frac{n!}{k! \\times (n-k)!} \\quad \\left(= \\binom{n}{n-k} \\right)$"
     ]
    },
    {
     "cell_type": "heading",
     "level": 3,
     "metadata": {
      "slideshow": {
       "slide_type": "slide"
      }
     },
     "source": [
      "Binomial formula"
     ]
    },
    {
     "cell_type": "markdown",
     "metadata": {},
     "source": [
      "\n",
      "Example\n",
      "\n",
      "Q * When flipping a coin 10 times, how many outcomes are there with 7 heads?\n",
      "A * We can represent this as drawing 7 out of a possible 10 slots for the heads, without order. There are $\\binom{10}{7} = \\frac{10 \\times 9 \\times 8}{3 \\times 2 \\times 1} = 120 \\\n",
      "     \\text{outcomes}$"
     ]
    },
    {
     "cell_type": "heading",
     "level": 3,
     "metadata": {
      "slideshow": {
       "slide_type": "slide"
      }
     },
     "source": [
      "Binomial formula"
     ]
    },
    {
     "cell_type": "markdown",
     "metadata": {},
     "source": [
      "\n",
      "Example (continued)\n",
      "\n",
      "Q * What are the chances when flipping a coin 10 times that there are 7 heads?\n",
      "A * We know that there are 120 such outcomes and each has probability $(1/2)^{10}$ (Why?). The chances are therefore $120 \\times \\left(\\frac{1}{2} \\right)^{10} \\approx 11 \\%.$"
     ]
    },
    {
     "cell_type": "heading",
     "level": 3,
     "metadata": {
      "slideshow": {
       "slide_type": "slide"
      }
     },
     "source": [
      "Binomial formula"
     ]
    },
    {
     "cell_type": "markdown",
     "metadata": {},
     "source": [
      "\n",
      "Example\n",
      "\n",
      "Q * When rolling a fair die 20 times, what are the chances that you will roll exactly 5 $\\epsdice{1}$\u2019s?\n",
      "A * There are $\\binom{20}{5} = 15504$ such outcomes (use a calculator). Each outcome has probability $(\\frac{1}{6})^5 (\\frac{5}{6})^{15}$. Therefore, the chances are $\\binom{20}{5} \\left(\\frac{1}{6} \\right)^5 \\left(\\frac{5}{6} \\right)^{15} \\approx 12\\%.$"
     ]
    },
    {
     "cell_type": "heading",
     "level": 3,
     "metadata": {
      "slideshow": {
       "slide_type": "slide"
      }
     },
     "source": [
      "Binomial formula"
     ]
    },
    {
     "cell_type": "markdown",
     "metadata": {},
     "source": [
      "\n",
      "Independent trials\n",
      "\n",
      "1. A *trial*\n",
      "    is an experiment with two possible outcomes:  *success*\n",
      "    or  *failure*\n",
      "   .\n",
      "1. The same experiment is repeated *independently*\n",
      "   .\n",
      "1. Each time the experiment is repeated, the chances of success are the same: ${\\color{pink} p}$.\n",
      "Binomial formula for computing probabilities\n",
      " When performing $n$ independent trials, each with probability of success $p$, the probability of observing exactly $k$ successes is $\\binom{n}{ k} { p^k} {(1-p)^ {n-k}} = \\binom{n}{{\\color{pink} k}} {\\color{pink} p^k} {\\color{yellow}(1-p)^ {n-k}}$"
     ]
    },
    {
     "cell_type": "heading",
     "level": 3,
     "metadata": {
      "slideshow": {
       "slide_type": "slide"
      }
     },
     "source": [
      "Roulette"
     ]
    },
    {
     "cell_type": "heading",
     "level": 3,
     "metadata": {
      "slideshow": {
       "slide_type": "slide"
      }
     },
     "source": [
      "Binomial formula"
     ]
    },
    {
     "cell_type": "markdown",
     "metadata": {},
     "source": [
      "\n",
      "Example\n",
      "\n",
      "Q * Suppose we bet on  5\n",
      "   for 6 spins of the roulette wheel. What are the chances we win exactly 3 times?\n",
      "Step 1 * Make a box model.\n",
      "Step 2 * For your box, compute the probability of success of each trial. Call this $p$.\n",
      "A * The answer is $\\binom{6}{3} p^3 (1-p)^3.$"
     ]
    },
    {
     "cell_type": "heading",
     "level": 3,
     "metadata": {
      "slideshow": {
       "slide_type": "slide"
      }
     },
     "source": [
      "Roulette"
     ]
    },
    {
     "cell_type": "code",
     "collapsed": false,
     "input": [
      "from matplotlib import rc\n",
      "import pylab, numpy as np, sys\n",
      "np.random.seed(0);import random; random.seed(0)\n",
      "dx = 0.02\n",
      "X, Y = np.mgrid[0.2:0.8:5j,0:1:8j]\n",
      "X += np.random.uniform(0,1,X.shape) * dx - dx / 2\n",
      "Y += np.random.uniform(0,1,Y.shape) * dx - dx / 2\n",
      "tt = range(1,37) + ['0', '00']\n",
      "black = [2,4,6,8,10,11,13,15,17,19,20,22,24,26,29,31,33,35]\n",
      "red = sorted(set(range(1,37)).difference(black))\n",
      "black = list(np.array(black)-1)\n",
      "red = list(np.array(red)-1)\n",
      "green = [36,37]\n",
      "#np.random.shuffle(tt)\n",
      "X.shape = -1; Y.shape = -1\n",
      "pylab.scatter(X[:38][black],Y[:38][black],s=500, c='gray', alpha=0.8)\n",
      "pylab.scatter(X[:38][red],Y[:38][red],s=500, c='red', alpha=0.5)\n",
      "pylab.scatter(X[:38][green],Y[:38][green],s=500, c='green', alpha=0.5)\n",
      "t = range(1,37) + ['0', '00']\n",
      "for i, t in enumerate(tt):\n",
      "    pylab.text(X[i], Y[i], t, color='black', ha='center', va='center')\n",
      "\n",
      "pylab.gca().set_xticks([])\n",
      "pylab.gca().set_yticks([])\n",
      "pylab.gca().set_xlim([X.min()-0.1,X.max()+0.1])\n",
      "pylab.gca().set_ylim([Y.min()-0.1,Y.max()+0.2])"
     ],
     "language": "python",
     "metadata": {},
     "outputs": []
    },
    {
     "cell_type": "markdown",
     "metadata": {},
     "source": [
      "\n",
      "Possible outcomes: balls numbered 1 to 36, plus [0, 00]."
     ]
    },
    {
     "cell_type": "heading",
     "level": 3,
     "metadata": {
      "slideshow": {
       "slide_type": "slide"
      }
     },
     "source": [
      "Roulette"
     ]
    },
    {
     "cell_type": "code",
     "collapsed": false,
     "input": [
      "from matplotlib import rc\n",
      "import pylab, numpy as np, sys\n",
      "np.random.seed(0);import random; random.seed(0)\n",
      "dx = 0.02\n",
      "X, Y = np.mgrid[0.2:0.8:5j,0:1:8j]\n",
      "X += np.random.uniform(0,1,X.shape) * dx - dx / 2\n",
      "Y += np.random.uniform(0,1,Y.shape) * dx - dx / 2\n",
      "ts = range(1,37) + ['0', '00']\n",
      "tt = [('F', 'pink')] * 38\n",
      "tt[ts.index(5)] = ('S', 'yellow')\n",
      "#np.random.shuffle(tt)\n",
      "X.shape = -1; Y.shape = -1\n",
      "g = np.array([t[1] == 'pink' for t in tt])\n",
      "pylab.scatter(X[:38][g],Y[:38][g],s=500, c='pink', alpha=0.5)\n",
      "pylab.scatter(X[:38][~g],Y[:38][~g],s=500, c='yellow', alpha=0.5)\n",
      "for i, t in enumerate(tt):\n",
      "    pylab.text(X[i], Y[i], t[0], color='black', ha='center', va='center')\n",
      "\n",
      "pylab.gca().set_xticks([])\n",
      "pylab.gca().set_yticks([])\n",
      "pylab.gca().set_xlim([X.min()-0.1,X.max()+0.1])\n",
      "pylab.gca().set_ylim([Y.min()-0.1,Y.max()+0.2])"
     ],
     "language": "python",
     "metadata": {},
     "outputs": []
    },
    {
     "cell_type": "markdown",
     "metadata": {},
     "source": [
      "\n",
      "Betting on  5\n",
      ": only one ball is a success."
     ]
    },
    {
     "cell_type": "heading",
     "level": 3,
     "metadata": {
      "slideshow": {
       "slide_type": "slide"
      }
     },
     "source": [
      "Binomial formula"
     ]
    },
    {
     "cell_type": "markdown",
     "metadata": {},
     "source": [
      "\n",
      "Example (continued)\n",
      "\n",
      "Q * Suppose we bet on  5\n",
      "   for 6 spins of the roulette wheel. What are the chances we win exactly 3 times?\n",
      "Step 1 * Make a box model.\n",
      "Step 2 * From the box model, we see that $p = \\frac{1}{38}$\n",
      "A * The answer is $\\binom{6}{3} \\times \\left(\\frac{1}{38}\\right)^3 \\times \\left( \\frac{37}{38} \\right)^3 \\approx 0.03\\%$"
     ]
    },
    {
     "cell_type": "heading",
     "level": 3,
     "metadata": {
      "slideshow": {
       "slide_type": "slide"
      }
     },
     "source": [
      "Binomial formula"
     ]
    },
    {
     "cell_type": "markdown",
     "metadata": {},
     "source": [
      "\n",
      "Example\n",
      "\n",
      "Q * Suppose we bet on  RED\n",
      "   for 8 spins of the roulette wheel. What are the chances we win exactly 2 times?\n",
      "Step 1 * Make a box model.\n",
      "Step 2 * For your box, compute the probability of success of each trial. Call this $p$.\n",
      "A * The answer is $\\binom{8}{2} p^2 (1-p)^6.$"
     ]
    },
    {
     "cell_type": "heading",
     "level": 3,
     "metadata": {
      "slideshow": {
       "slide_type": "slide"
      }
     },
     "source": [
      "Roulette"
     ]
    },
    {
     "cell_type": "code",
     "collapsed": false,
     "input": [
      "from matplotlib import rc\n",
      "import pylab, numpy as np, sys\n",
      "np.random.seed(0);import random; random.seed(0)\n",
      "dx = 0.02\n",
      "X, Y = np.mgrid[0.2:0.8:5j,0:1:8j]\n",
      "X += np.random.uniform(0,1,X.shape) * dx - dx / 2\n",
      "Y += np.random.uniform(0,1,Y.shape) * dx - dx / 2\n",
      "ts = range(1,37) + ['0', '00']\n",
      "black = [2,4,6,8,10,11,13,15,17,19,20,22,24,26,29,31,33,35]\n",
      "red = sorted(set(range(1,37)).difference(black))\n",
      "black = list(np.array(black)-1)\n",
      "red = list(np.array(red)-1)\n",
      "tt = [('F', 'yellow')] * 38\n",
      "for r in red:\n",
      "    tt[r] = ('S', 'pink')\n",
      "#np.random.shuffle(tt)\n",
      "X.shape = -1; Y.shape = -1\n",
      "g = np.array([t[1] == 'pink' for t in tt])\n",
      "pylab.scatter(X[:38][g],Y[:38][g],s=500, c='pink', alpha=0.5)\n",
      "pylab.scatter(X[:38][~g],Y[:38][~g],s=500, c='yellow', alpha=0.5)\n",
      "for i, t in enumerate(tt):\n",
      "    pylab.text(X[i], Y[i], t[0], color='black', ha='center', va='center')\n",
      "\n",
      "pylab.gca().set_xticks([])\n",
      "pylab.gca().set_yticks([])\n",
      "pylab.gca().set_xlim([X.min()-0.1,X.max()+0.1])\n",
      "pylab.gca().set_ylim([Y.min()-0.1,Y.max()+0.2])"
     ],
     "language": "python",
     "metadata": {},
     "outputs": []
    },
    {
     "cell_type": "markdown",
     "metadata": {},
     "source": [
      "\n",
      "Betting on  RED\n",
      ": 18 balls are success."
     ]
    },
    {
     "cell_type": "heading",
     "level": 3,
     "metadata": {
      "slideshow": {
       "slide_type": "slide"
      }
     },
     "source": [
      "Binomial formula"
     ]
    },
    {
     "cell_type": "markdown",
     "metadata": {},
     "source": [
      "\n",
      "Example (continued)\n",
      "\n",
      "Q * Suppose we bet on  RED\n",
      "   for 8 spins of the roulette wheel. What are the chances we win exactly 2 times?\n",
      "Step 1 * Make a box model.\n",
      "Step 2 * From the box model, we see that $p = \\frac{18}{38}$\n",
      "A * The answer is $\\binom{8}{2} \\times \\left(\\frac{18}{38}\\right)^2 \\times \\left( \\frac{20}{38} \\right)^6 \\approx 13\\%$"
     ]
    },
    {
     "cell_type": "heading",
     "level": 3,
     "metadata": {
      "slideshow": {
       "slide_type": "slide"
      }
     },
     "source": [
      "Binomial formula"
     ]
    },
    {
     "cell_type": "markdown",
     "metadata": {},
     "source": [
      "\n",
      "Example (continued)\n",
      "\n",
      "Q * Suppose we bet on  RED\n",
      "   for 8 spins of the roulette wheel. What are the chances we win less than or equal to 2 times?\n",
      "A * To win less than or equal to 2 times, we can win 0, 1 or 2 times. These events are mutually exclusive. So the chances are $\\begin{aligned}\n",
      "     \\lefteqn{\\binom{8}{2} \\times \\left(\\frac{18}{38}\\right)^2 \\times \\left( \\frac{20}{38} \\right)^6} \\\\\n",
      "     & \\qquad + \\ \\binom{8}{1} \\times \\left(\\frac{18}{38}\\right)^1 \\times \\left( \\frac{20}{38} \\right)^7 \\\\\n",
      "     & \\qquad + \\ \\binom{8}{0} \\times \\left(\\frac{18}{38}\\right)^0 \\times \\left( \\frac{20}{38} \\right)^8 \\\\\n",
      "     & \\approx 18 \\%\n",
      "     \\end{aligned}$"
     ]
    },
    {
     "cell_type": "heading",
     "level": 3,
     "metadata": {
      "slideshow": {
       "slide_type": "slide"
      }
     },
     "source": [
      "Box model for winnings"
     ]
    },
    {
     "cell_type": "code",
     "collapsed": false,
     "input": [
      "from matplotlib import rc\n",
      "import pylab, numpy as np, sys\n",
      "np.random.seed(0);import random; random.seed(0)\n",
      "dx = 0.02\n",
      "X, Y = np.mgrid[0.2:0.8:5j,0:1:8j]\n",
      "X += np.random.uniform(0,1,X.shape) * dx - dx / 2\n",
      "Y += np.random.uniform(0,1,Y.shape) * dx - dx / 2\n",
      "ts = range(1,37) + ['0', '00']\n",
      "black = [2,4,6,8,10,11,13,15,17,19,20,22,24,26,29,31,33,35]\n",
      "red = sorted(set(range(1,37)).difference(black))\n",
      "black = list(np.array(black)-1)\n",
      "red = list(np.array(red)-1)\n",
      "tt = [('-10\\$', 'yellow')] * 38\n",
      "for r in red:\n",
      "    tt[r] = ('+10\\$', 'pink')\n",
      "#np.random.shuffle(tt)\n",
      "X.shape = -1; Y.shape = -1\n",
      "g = np.array([t[1] == 'pink' for t in tt])\n",
      "pylab.scatter(X[:38][g],Y[:38][g],s=700, c='pink', alpha=0.5)\n",
      "pylab.scatter(X[:38][~g],Y[:38][~g],s=700, c='yellow', alpha=0.5)\n",
      "for i, t in enumerate(tt):\n",
      "    pylab.text(X[i], Y[i], t[0], color='black', ha='center', va='center',\n",
      "               fontsize=10)\n",
      "\n",
      "pylab.gca().set_xticks([])\n",
      "pylab.gca().set_yticks([])\n",
      "pylab.gca().set_xlim([X.min()-0.1,X.max()+0.1])\n",
      "pylab.gca().set_ylim([Y.min()-0.1,Y.max()+0.2])"
     ],
     "language": "python",
     "metadata": {},
     "outputs": []
    },
    {
     "cell_type": "markdown",
     "metadata": {},
     "source": [
      "\n",
      "Betting 10$ on  RED\n",
      ": win 10$ with probability 9/19."
     ]
    },
    {
     "cell_type": "heading",
     "level": 3,
     "metadata": {
      "slideshow": {
       "slide_type": "slide"
      }
     },
     "source": [
      "Binomial formula"
     ]
    },
    {
     "cell_type": "markdown",
     "metadata": {},
     "source": [
      "\n",
      "Drawing without replacement\n",
      "\n",
      "Q * Suppose we go back to Box # 1 with 30 blue balls and 20 red balls. When drawing 5 balls without replacement, what are the chances that we draw 3 red balls?\n",
      "A * Let\u2019s count the number of subsets of size 5 of the balls with exactly 3 red balls in them. Call this number $N$. The answer is then $\\frac{N}{\\text{number of subsets of size 5 from 50 balls}} = \\frac{N}{\\binom{50}{5}}$"
     ]
    },
    {
     "cell_type": "heading",
     "level": 3,
     "metadata": {
      "slideshow": {
       "slide_type": "slide"
      }
     },
     "source": [
      "Box # 1: 30 blue, 20 red"
     ]
    },
    {
     "cell_type": "code",
     "collapsed": false,
     "input": [
      "from matplotlib import rc\n",
      "import pylab, numpy as np, sys\n",
      "np.random.seed(0);import random; random.seed(0)\n",
      "dx = 0.02\n",
      "X, Y = np.mgrid[0:1:5j,0:1:10j]\n",
      "X += np.random.uniform(0,1,X.shape) * dx - dx / 2\n",
      "Y += np.random.uniform(0,1,Y.shape) * dx - dx / 2\n",
      "\n",
      "X.shape = -1; Y.shape = -1\n",
      "\n",
      "g = np.arange(50)\n",
      "pylab.scatter(X[g[:30]],Y[g[:30]],s=300, c='b')\n",
      "pylab.scatter(X[g[30:]],Y[g[30:]],s=300, c='r')\n",
      "pylab.gca().set_xticks([])\n",
      "pylab.gca().set_yticks([])\n",
      "pylab.gca().set_xlim([X.min()-0.1,X.max()+0.1])\n",
      "pylab.gca().set_ylim([Y.min()-0.1,Y.max()+0.1])"
     ],
     "language": "python",
     "metadata": {},
     "outputs": []
    },
    {
     "cell_type": "heading",
     "level": 3,
     "metadata": {
      "slideshow": {
       "slide_type": "slide"
      }
     },
     "source": [
      "Box # 1: 30 blue, 20 red"
     ]
    },
    {
     "cell_type": "code",
     "collapsed": false,
     "input": [
      "from matplotlib import rc\n",
      "import pylab, numpy as np, sys\n",
      "np.random.seed(0);import random; random.seed(0)\n",
      "dx = 0.02\n",
      "X, Y = np.mgrid[0:1:5j,0:1:10j]\n",
      "X += np.random.uniform(0,1,X.shape) * dx - dx / 2\n",
      "Y += np.random.uniform(0,1,Y.shape) * dx - dx / 2\n",
      "\n",
      "X.shape = -1; Y.shape = -1\n",
      "\n",
      "g = np.arange(50)\n",
      "pylab.scatter(X[g[:30]],Y[g[:30]],s=300, c='b', alpha=0.5)\n",
      "pylab.scatter(X[g[30:]],Y[g[30:]],s=300, c='r', alpha=0.5)\n",
      "for i in range(50):\n",
      "    pylab.text(X[i], Y[i], i+1, ha='center', va='center')\n",
      "pylab.gca().set_xticks([])\n",
      "pylab.gca().set_yticks([])\n",
      "pylab.gca().set_xlim([X.min()-0.1,X.max()+0.1])\n",
      "pylab.gca().set_ylim([Y.min()-0.1,Y.max()+0.1])"
     ],
     "language": "python",
     "metadata": {},
     "outputs": []
    },
    {
     "cell_type": "markdown",
     "metadata": {},
     "source": [
      "\n",
      "Let\u2019s number the balls to emphasize they\u2019re distinct."
     ]
    },
    {
     "cell_type": "heading",
     "level": 3,
     "metadata": {
      "slideshow": {
       "slide_type": "slide"
      }
     },
     "source": [
      "Binomial formula"
     ]
    },
    {
     "cell_type": "markdown",
     "metadata": {},
     "source": [
      "\n",
      "Drawing without replacement\n",
      "\n",
      "Step 1 * There are ${\\color{red} \\binom{20}{3}}$ ways of choosing 3 of the red balls, i.e. 3 of the balls numbered 31 to 50.\n",
      "Step 2 * There are ${\\color{blue} \\binom{30}{2}}$ ways of choosing 2 of the blue balls, i.e. 2 of the balls numbered 1 to 30.\n",
      "Step 3 * The answer is $\\frac{{\\color{red} \\binom{20}{3}}{\\color{blue} \\binom{30}{2}}}{\\binom{50}{5}} \\approx  23\\%$"
     ]
    }
   ],
   "metadata": {}
  }
 ]
}
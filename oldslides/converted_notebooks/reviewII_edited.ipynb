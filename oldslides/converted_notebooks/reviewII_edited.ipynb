{
 "metadata": {
  "name": ""
 },
 "nbformat": 3,
 "nbformat_minor": 0,
 "worksheets": [
  {
   "cells": [
    {
     "cell_type": "code",
     "collapsed": false,
     "input": [
      "%load_ext rmagic"
     ],
     "language": "python",
     "metadata": {
      "slideshow": {
       "slide_type": "skip"
      }
     },
     "outputs": []
    },
    {
     "cell_type": "heading",
     "level": 3,
     "metadata": {
      "slideshow": {
       "slide_type": "slide"
      }
     },
     "source": [
      "Probability histogram of successes"
     ]
    },
    {
     "cell_type": "code",
     "collapsed": false,
     "input": [
      "from matplotlib import rc\n",
      "import pylab, numpy as np, sys\n",
      "np.random.seed(0);import random; random.seed(0)\n",
      "p = 1./2\n",
      "x, p = conv_binom(p, 5)\n",
      "cp = np.cumsum(p)\n",
      "k = (cp >= 0)\n",
      "pylab.bar(x[k],p[k], width=1, align='center', alpha=0.7)"
     ],
     "language": "python",
     "metadata": {},
     "outputs": []
    },
    {
     "cell_type": "markdown",
     "metadata": {},
     "source": [
      "\n",
      "Tossing a fair coin 5 times, counting heads"
     ]
    },
    {
     "cell_type": "heading",
     "level": 3,
     "metadata": {
      "slideshow": {
       "slide_type": "slide"
      }
     },
     "source": [
      "Empirical histogram of successes"
     ]
    },
    {
     "cell_type": "code",
     "collapsed": false,
     "input": [
      "from matplotlib import rc\n",
      "import pylab, numpy as np, sys\n",
      "np.random.seed(0);import random; random.seed(0)\n",
      "X = np.random.binomial(5,0.5,1000)\n",
      "p = np.array([(X == i).sum() for i in range(6)])/1000.\n",
      "pylab.bar(np.arange(6),p, width=1, align='center', alpha=0.7,\n",
      "          color='orange')\n",
      "a = pylab.gca()\n",
      "# a.set_ylim([0,0.6])\n",
      "a.set_xlim([-0.6,5.6])"
     ],
     "language": "python",
     "metadata": {},
     "outputs": []
    },
    {
     "cell_type": "markdown",
     "metadata": {},
     "source": [
      "\n",
      "Tossing a fair coin 5 times, repeating 1000 times."
     ]
    },
    {
     "cell_type": "heading",
     "level": 3,
     "metadata": {
      "slideshow": {
       "slide_type": "slide"
      }
     },
     "source": [
      "Normal approximation"
     ]
    },
    {
     "cell_type": "markdown",
     "metadata": {},
     "source": [
      "\n",
      "Example\n",
      "\n",
      "Q * Roulette, betting on  5\n",
      "   100 times, 10$ each bet starting with 100 $. What are the chances we will finish with more than 200 $?\n",
      "A * We know\n",
      "*     * $\\text{average({\\bf sum of draws})} = 100 \\times (-0.52)\\$ = -52\\$ $\n",
      "      * $\\text{SE({\\bf sum of draws})} = \\sqrt{100} \\times 360 \\times \\sqrt{\\frac{1}{38} \\times \\frac{37}{38}} \\approx 570\\$ $\n",
      "      * Finishing with more than 200$ means the **sum of draws**\n",
      "         was greater than 100$ .\n",
      "      * In standardized units, this is $\\frac{100-(-52)}{570} \\approx 0.27$"
     ]
    },
    {
     "cell_type": "heading",
     "level": 3,
     "metadata": {
      "slideshow": {
       "slide_type": "slide"
      }
     },
     "source": [
      "Normal approximation"
     ]
    },
    {
     "cell_type": "code",
     "collapsed": false,
     "input": [
      "from matplotlib import rc\n",
      "import pylab, numpy as np, sys\n",
      "np.random.seed(0);import random; random.seed(0)\n",
      "from scipy.stats import norm\n",
      "\n",
      "p = 1./2\n",
      "n = 100\n",
      "x, p = conv_binom(p, n)\n",
      "cp = np.cumsum(p)\n",
      "k = (cp >= 0)\n",
      "XX = np.zeros(x.shape[0]+1)\n",
      "XX[:-1] = x\n",
      "XX[-1] = XX[-2] + 10\n",
      "XY = XX-(XX[3]-XX[2])/2.\n",
      "PL_density(p, XY)\n",
      "pylab.gca().set_ylabel('$\\%$ per head')\n",
      "pylab.gca().set_xlabel('# heads')\n",
      "\n",
      "mu = n * np.mean([1,0])\n",
      "SD = np.sqrt(n) * np.std([0,1])\n",
      "pylab.plot(XX, 100 * norm.pdf((XX-mu)/SD) / SD, linewidth=4, color='red')\n",
      "\n",
      "x2 = np.linspace(40.5,100,1001)\n",
      "y2 = 100 * norm.pdf((x2-mu)/SD) / SD\n",
      "xf, yf = pylab.poly_between(x2, 0*x2, y2)\n",
      "pylab.fill(xf, yf, facecolor='red', hatch='\\\\', alpha=0.7)\n",
      "\n",
      "\n",
      "pylab.gca().set_xlim([35,65])"
     ],
     "language": "python",
     "metadata": {},
     "outputs": []
    },
    {
     "cell_type": "markdown",
     "metadata": {},
     "source": [
      "\n",
      "Observing more than 40 heads using continuity correction"
     ]
    },
    {
     "cell_type": "heading",
     "level": 3,
     "metadata": {
      "slideshow": {
       "slide_type": "slide"
      }
     },
     "source": [
      "Opinion polls & percentages"
     ]
    },
    {
     "cell_type": "markdown",
     "metadata": {},
     "source": [
      "\n",
      "Model for percentages\n",
      "\n",
      "* An opinion poll to estimate a percentage is based on a sample of size $N$. We assume this is a *simple random sample*\n",
      "  : a sample of size $N$ without replacement.\n",
      "* The sample is from a box with one ball per population member, each having a 0-1 label.\n",
      "* The estimated percentage is $$ = $\\end{itemize}\n",
      "     \\end{block}\n",
      "     \\end{frame}\n",
      "  \n",
      "  \n",
      "     \\begin{frame}\n",
      "     \\frametitle{Sample of 500 without replacement from a large box}\n",
      "     \\begin{center}\n",
      "  \\begin{verbatim}\n",
      "  from matplotlib import rc\n",
      "  import pylab, numpy as np, sys\n",
      "  np.random.seed(0);import random; random.seed(0)\n",
      "  import random\n",
      "  X = np.random.sample((10000,2))\n",
      "  c = ['red'] * 4800 + ['blue'] * 5200\n",
      "  s = random.sample(xrange(10000), 500)\n",
      "  for col, marker in zip(['red', 'blue'], ['>', '<']):\n",
      "     subs = [i for i in s if c[i] == col]\n",
      "     pylab.scatter(X[subs,0], X[subs,1], s=100, color=col, alpha=.5, marker=marker)\n",
      "  \n",
      "  pylab.gca().set_xticks([]);    pylab.gca().set_xlim([-0.01,1.01])\n",
      "  pylab.gca().set_yticks([]);    pylab.gca().set_ylim([-0.01,1.01])\n",
      "  nred = np.array([c[ss] == 'red' for ss in s]).sum()\n",
      "  pylab.title(\"# Red=\n",
      "  \\end{verbatim}\n",
      "     \\end{center}\n",
      "  \n",
      "     \\end{frame}\n",
      "  \n",
      "  \n",
      "     \\begin{frame}\n",
      "     \\frametitle{Sampling variability: (N=4800, Y=5200)}\n",
      "     \\begin{center}\n",
      "  \\begin{verbatim}\n",
      "  from matplotlib import rc\n",
      "  import pylab, numpy as np, sys\n",
      "  np.random.seed(0);import random; random.seed(0)\n",
      "  import random\n",
      "  n = 10000\n",
      "  s = 500\n",
      "  X = np.ones(n, np.float)\n",
      "  X[:int(.48*n)] = 0.\n",
      "  data = [100 * np.array(random.sample(X, s)).sum() / s for _ in range(2000)]\n",
      "  pylab.hist(data, color='orange')\n",
      "  pylab.gca().set_xlabel('Support (pylab.gca().set_ylabel('Count (out of 2000)')\n",
      "  pylab.title(\"average=\n",
      "  \\end{verbatim}\n",
      "     \\end{center}\n",
      "     Drawing 500 with 2000 repeats\n",
      "     \\end{frame}\n",
      "  \n",
      "     \n",
      "     \\begin{frame} \\frametitle{Percentages}\n",
      "  \n",
      "     \\begin{block}\n",
      "     {Accuracy of percentages}\n",
      "     \\begin{itemize}\n",
      "     \\item Since the observed proportion is random, it has its own SE.\n",
      "     \\item The rule for computing the SE of a percentage\n",
      "     for a simple random sample is related to SE of drawing\n",
      "     from a box of 0's and 1's.$\n",
      "* \n",
      "  &  \n",
      "  \n",
      "  &=\n",
      "* $\\item {\\bf Note:} the SE does not depend on how many tickets are in the box.\n",
      "     \\end{itemize}\n",
      "     \\end{block}\n",
      "     \\end{frame}\n",
      "  \n",
      "     \n",
      "     \\begin{frame} \\frametitle{Estimating SE when proportions unknown}\n",
      "  \n",
      "     \\begin{block}\n",
      "     {A second statistic}\n",
      "     \\begin{itemize}\n",
      "     \\item Given a poll, we can work out the {\\em observed}\n",
      "     proportion of 1's. Call this$  \n",
      "   = = $\\item We can estimate the SE of observed proportion of 1's$\n",
      "*  ()\n",
      "  &\n",
      "  & =\n",
      "  \n",
      "* $$\n",
      "* We call the estimate ${\\color{orange} \\sqrt{\\widehat{p} \\times (1 - \\widehat{p})}}$ of the SD of the box a  *bootstrap*\n",
      "  \n",
      "   estimate."
     ]
    },
    {
     "cell_type": "heading",
     "level": 3,
     "metadata": {
      "slideshow": {
       "slide_type": "slide"
      }
     },
     "source": [
      "Estimating percentages"
     ]
    },
    {
     "cell_type": "markdown",
     "metadata": {},
     "source": [
      "\n",
      "Normal approximation\n",
      "\n",
      "* Conversion to percentage points just changes the units.\n",
      "* We can use normal approximation to approximate chances, as long as we standardize correctly.\n",
      "Example\n",
      "\n",
      "Q * What are the chances a poll of 1000 voting age Californians would show an estimated approval rating for Brown less than 50%?"
     ]
    },
    {
     "cell_type": "heading",
     "level": 3,
     "metadata": {
      "slideshow": {
       "slide_type": "slide"
      }
     },
     "source": [
      "Confidence intervals"
     ]
    },
    {
     "cell_type": "markdown",
     "metadata": {},
     "source": [
      "\n",
      "Confidence interval for true proportion\n",
      "\n",
      "* Recall our model ${\\color{orange} \\text{observed proportion}} = {\\color{blue} \\text{true proportion}} + \\text{chance error}.$\n",
      "* Let\u2019s call ${\\color{blue} \\text{true proportion}=p}$, and recall ${\\color{orange} \\text{observed proportion}} = {\\color{orange} \\widehat{p}}$.\n",
      "* The confidence interval satisfies $$\n",
      "* () &95%\n",
      "  \n",
      "* $\\end{itemize}\n",
      "     \\end{block}\n",
      "     \\end{frame}\n",
      "  \n",
      "  \n",
      "     \\begin{frame}\n",
      "     \\frametitle{An illustration of confidence intervals}\n",
      "     \\begin{center}\n",
      "  \\begin{verbatim}\n",
      "  from matplotlib import rc\n",
      "  import pylab, numpy as np, sys\n",
      "  np.random.seed(0);import random; random.seed(0)\n",
      "  import random\n",
      "  # need a different string to make a new version of plot\n",
      "  approval = [0] * 48000 + [1] * 52000\n",
      "  \n",
      "  def interval(box=approval, nsample=1000):\n",
      "      prop = np.array(random.sample(approval, nsample)).mean()\n",
      "      SE = np.sqrt(prop * (1 - prop) / nsample)\n",
      "      return 100 * (prop-2*SE), 100 * (prop+2*SE)\n",
      "  \n",
      "  intervals = []\n",
      "  missed = 0\n",
      "  for i in range(200):\n",
      "      L, U = interval()\n",
      "      in_interval = (L <= 52) * (U >= 52)\n",
      "      if in_interval:\n",
      "          pylab.plot([L,U], [i,i], color='gray')\n",
      "      else:\n",
      "          missed += 1\n",
      "          pylab.plot([L,U], [i,i], color='red', linewidth=10)\n",
      "  \n",
      "  pylab.plot([52,52],[0,200], linestyle='--', linewidth=4, color='blue')\n",
      "  pylab.gca().set_yticks([])\n",
      "  pylab.title(\"# covering 52\n",
      "  \\end{verbatim}\n",
      "     \\end{center}\n",
      "     The {\\color{blue} true proportion} doesn't change.\n",
      "     \\end{frame}\n",
      "  \n",
      "     \\part{Chapter 23 \\& 24: The accuracy of averages and the Gauss model}\n",
      "     \\frame{\\partpage}\n",
      "  \n",
      "     \n",
      "     \\begin{frame} \\frametitle{Average of draws from a box}\n",
      "  \n",
      "     \\begin{block}\n",
      "     {Average of draws}\n",
      "     \\begin{itemize}\n",
      "     \\item The {\\em average of the draws} is$ = $\\item The expected value is the average of the box$ = $\\item The SE is$\n",
      "* &=\n",
      "  &=\n",
      "  \n",
      "* $$"
     ]
    },
    {
     "cell_type": "heading",
     "level": 3,
     "metadata": {
      "slideshow": {
       "slide_type": "slide"
      }
     },
     "source": [
      "Example of a box model"
     ]
    },
    {
     "cell_type": "code",
     "collapsed": false,
     "input": [
      "from matplotlib import rc\n",
      "import pylab, numpy as np, sys\n",
      "np.random.seed(0);import random; random.seed(0)\n",
      "dx = 0.02\n",
      "X, Y = np.mgrid[0.2:0.8:5j,0:1:8j]\n",
      "X += np.random.uniform(0,1,X.shape) * dx - dx / 2\n",
      "Y += np.random.uniform(0,1,Y.shape) * dx - dx / 2\n",
      "ts = range(1,37) + ['0', '00']\n",
      "success = [5]\n",
      "tt = [('-10\\$', 'yellow')] * 38\n",
      "for r in success:\n",
      "    tt[r] = ('+350\\$', 'pink')\n",
      "#np.random.shuffle(tt)\n",
      "X.shape = -1; Y.shape = -1\n",
      "g = np.array([t[1] == 'pink' for t in tt])\n",
      "pylab.scatter(X[:38][g],Y[:38][g],s=700, c='red')\n",
      "pylab.scatter(X[:38][~g],Y[:38][~g],s=700, c='yellow')\n",
      "for i, t in enumerate(tt):\n",
      "    pylab.text(X[i], Y[i], t[0], color='black', ha='center', va='center',\n",
      "               fontsize=10)\n",
      "\n",
      "pylab.gca().set_xticks([])\n",
      "pylab.gca().set_yticks([])\n",
      "pylab.gca().set_xlim([X.min()-0.1,X.max()+0.1])\n",
      "pylab.gca().set_ylim([Y.min()-0.1,Y.max()+0.2])"
     ],
     "language": "python",
     "metadata": {},
     "outputs": []
    },
    {
     "cell_type": "markdown",
     "metadata": {},
     "source": [
      "\n",
      "Betting 10$ on  5\n",
      ": win 350$ with probability 1/38"
     ]
    },
    {
     "cell_type": "heading",
     "level": 3,
     "metadata": {
      "slideshow": {
       "slide_type": "slide"
      }
     },
     "source": [
      "Estimating SE when content of box is unknown"
     ]
    },
    {
     "cell_type": "markdown",
     "metadata": {},
     "source": [
      "\n",
      "Accuracy of averages second statistic\n",
      "\n",
      "* Given a sample ${\\color{orange}[X_1, \\dots, X_n]}$ of $n$ draws, we can compute the *sample mean*\n",
      "   $$  |X\n",
      "  \n",
      "   = = $\\item We use {\\color{orange} plug-in / bootstrap} estimate$ = = $\\end{itemize}\n",
      "     \\end{block}\n",
      "     \\end{frame}\n",
      "  \n",
      "     \n",
      "     \\begin{frame} \\frametitle{Estimating {\\color{blue} average({\\bf box})}}\n",
      "  \n",
      "     \\begin{block}\n",
      "     {Normal approximation}\n",
      "     \\begin{itemize}\n",
      "     \\item Conversion to average just changes the units.\n",
      "     \\item We can use normal approximation to approximate chances,\n",
      "     as long as we standardize correctly.\n",
      "     \\item For example, a 90\\% confidence interval can be found using$\n",
      "* () &90%\n",
      "  \n",
      "* $\\end{itemize}\n",
      "     \\end{block}\n",
      "     \\end{frame}\n",
      "  \n",
      "     \n",
      "     \\begin{frame} \\frametitle{Gauss model}\n",
      "  \n",
      "     \\begin{block}\n",
      "       {Gauss model}\n",
      "       \\begin{itemize}\n",
      "       \\item The Gauss model assume that each measurement has the form$  \n",
      "   =  \n",
      "   +  \n",
      "   $\\item When the Gauss model holds, taking a measurement corresponds\n",
      "       to drawing from an {\\color{orange} error box} and adding\n",
      "       a {\\color{blue} true value}.\n",
      "  \n",
      "       \\item If the measurement is biased, the Gauss model is$  \n",
      "   =  \n",
      "   +  \n",
      "   +  \n",
      "   $$"
     ]
    },
    {
     "cell_type": "heading",
     "level": 3,
     "metadata": {
      "slideshow": {
       "slide_type": "slide"
      }
     },
     "source": [
      "Gauss model"
     ]
    },
    {
     "cell_type": "markdown",
     "metadata": {},
     "source": [
      "\n",
      "No box, no inference\n",
      "\n",
      "* If you can\u2019t accurately describe your chance process as drawing from a box you can\u2019t use these formulae for SE because they were all based on drawing from a box."
     ]
    },
    {
     "cell_type": "heading",
     "level": 3,
     "metadata": {
      "slideshow": {
       "slide_type": "slide"
      }
     },
     "source": [
      "Testing hypotheses"
     ]
    },
    {
     "cell_type": "markdown",
     "metadata": {},
     "source": [
      "\n",
      "Online gaming\n",
      "\n",
      "* If you play online poker or roulette, how do you know it\u2019s fair?\n",
      "* I placed 10 bets on  RED\n",
      "   on [http://www.roulette4fun.com/roulette-games/classic-roulette](http://www.roulette4fun.com/roulette-games/classic-roulette).\n",
      "* These are the results: [0,0,1,0,1,0,0,1,0,1].\n",
      "* If the roulette wheel is fair, I would expect to see $10 \\times 18/ 38=4.7$ successes, give or take $\\sqrt{10} \\times \\sqrt{18/38 \\times 20/38}=1.4$.\n",
      "* In standardized units, my observed 4 successes converts to $\\frac{{\\color{orange} 4} - {\\color{blue} 4.7}}{{\\color{blue} 1.4}} = {\\color{orange} -0.5}$"
     ]
    },
    {
     "cell_type": "heading",
     "level": 3,
     "metadata": {
      "slideshow": {
       "slide_type": "slide"
      }
     },
     "source": [
      "Sample of blood pressures"
     ]
    },
    {
     "cell_type": "code",
     "collapsed": false,
     "input": [
      "from matplotlib import rc\n",
      "import pylab, numpy as np, sys\n",
      "np.random.seed(0);import random; random.seed(0)\n",
      "import random\n",
      "X = np.mgrid[0:1:10j,0:1:5j].reshape((2,50)) + np.random.sample((2,50)) * 0.05\n",
      "X = X.T\n",
      "sample = [random.randint(-15,0) for _  in range(50)]\n",
      "for i in range(50):\n",
      "    pylab.text(X[i,0], X[i,1], '%d' % sample[i])\n",
      "\n",
      "    pylab.gca().set_xticks([]);    pylab.gca().set_xlim([-0.1,1.1])\n",
      "    pylab.gca().set_yticks([]);    pylab.gca().set_ylim([-0.1,1.1])\n",
      "pylab.title(\"average(sample)=-7.4, SD(sample)=4.8\") # % (np.mean(sample), np.std(sample)))"
     ],
     "language": "python",
     "metadata": {},
     "outputs": []
    },
    {
     "cell_type": "markdown",
     "metadata": {},
     "source": [
      "\n",
      "Sample of 50"
     ]
    },
    {
     "cell_type": "heading",
     "level": 3,
     "metadata": {
      "slideshow": {
       "slide_type": "slide"
      }
     },
     "source": [
      "Testing hypotheses"
     ]
    },
    {
     "cell_type": "markdown",
     "metadata": {},
     "source": [
      "\n",
      "Setting up the test\n",
      "\n",
      "* We could set this up as drawing from a box of *differences in blood pressure*\n",
      "  .\n",
      "* The *null hypothesis*\n",
      "  , $H_0$ is: \"the average difference is zero.\"\n",
      "* The *alternative hypothesis*\n",
      "  , $H_a$, is: \"the average difference is less than zero.\"\n",
      "* We test the null with observed data by estimating the average difference and converting to standardized units."
     ]
    },
    {
     "cell_type": "heading",
     "level": 3,
     "metadata": {
      "slideshow": {
       "slide_type": "slide"
      }
     },
     "source": [
      "Testing hypotheses"
     ]
    },
    {
     "cell_type": "markdown",
     "metadata": {},
     "source": [
      "\n",
      "Evaluating the test\n",
      "\n",
      "* Our observed average is ${-\\color{orange} 7.4}$. We estimate its SE to be ${\\color{orange} 4.8 / \\sqrt{50}=0.7}$.\n",
      "* In standardized units, our observed average converts to $\\frac{{\\color{orange}-7.4} - {\\color{blue} 0}}{\\color{orange} 0.7} \\approx - 10$\n",
      "* The  $P$-value\n",
      "   is 0: there is virtually no chance a standard normal would ever be so small. We reject the null hypothesis $H_0$ and conclude $H_a$: \"the average difference is negative.\""
     ]
    },
    {
     "cell_type": "heading",
     "level": 3,
     "metadata": {
      "slideshow": {
       "slide_type": "slide"
      }
     },
     "source": [
      "Testing hypotheses"
     ]
    },
    {
     "cell_type": "markdown",
     "metadata": {},
     "source": [
      "\n",
      "Rejection rule\n",
      "\n",
      "* Knowing the null and alternative hypotheses and the size of the test, we can define a * rejection rule*\n",
      "  .\n",
      "* For example, if the size is 5%, and $\\begin{aligned}\n",
      "       H_0 &= \\text{average difference is 0 mm Hg} \\\\\n",
      "       H_a &= \\text{average difference is negative} \\\\\n",
      "     \\end{aligned}$\n",
      "* Then, we reject $H_0$ if our $z$ statistic is less than  -1.65\n",
      "  ."
     ]
    },
    {
     "cell_type": "heading",
     "level": 3,
     "metadata": {
      "slideshow": {
       "slide_type": "slide"
      }
     },
     "source": [
      "One sided test"
     ]
    },
    {
     "cell_type": "code",
     "collapsed": false,
     "input": [
      "from matplotlib import rc\n",
      "import pylab, numpy as np, sys\n",
      "np.random.seed(0);import random; random.seed(0)\n",
      "import pylab, numpy as np\n",
      "x = np.linspace(-4,4,101)\n",
      "y = np.exp(-x**2/2) / np.sqrt(2*np.pi)\n",
      "x2 = np.linspace(-4,-1.65,101)\n",
      "y2 = np.exp(-x2**2/2) / np.sqrt(2*np.pi)\n",
      "pylab.plot(x,y*100, linewidth=2)\n",
      "xf, yf = pylab.poly_between(x2, 0*x2, y2*100)\n",
      "pylab.fill(xf, yf, facecolor='red', hatch='\\\\', alpha=0.5)\n",
      "pylab.gca().set_xlabel('standardized units')\n",
      "pylab.gca().set_ylabel('% per standardized unit')\n",
      "#pylab.gca().set_xlim([-2,4])\n",
      "#pylab.gca().set_yticks([])"
     ],
     "language": "python",
     "metadata": {},
     "outputs": []
    },
    {
     "cell_type": "markdown",
     "metadata": {},
     "source": [
      "\n",
      " 5% rejection rule\n",
      " when alternative is negative \u2026"
     ]
    },
    {
     "cell_type": "heading",
     "level": 3,
     "metadata": {
      "slideshow": {
       "slide_type": "slide"
      }
     },
     "source": [
      "Two sided test"
     ]
    },
    {
     "cell_type": "code",
     "collapsed": false,
     "input": [
      "from matplotlib import rc\n",
      "import pylab, numpy as np, sys\n",
      "np.random.seed(0);import random; random.seed(0)\n",
      "import pylab, numpy as np\n",
      "x = np.linspace(-4,4,101)\n",
      "y = np.exp(-x**2/2) / np.sqrt(2*np.pi)\n",
      "\n",
      "x2 = np.linspace(2,4,101)\n",
      "y2 = np.exp(-x2**2/2) / np.sqrt(2*np.pi)\n",
      "xf, yf = pylab.poly_between(x2, 0*x2, y2*100)\n",
      "pylab.fill(xf, yf, facecolor='red', hatch='\\\\', alpha=0.5)\n",
      "\n",
      "\n",
      "x2 = np.linspace(-4,-2,101)\n",
      "y2 = np.exp(-x2**2/2) / np.sqrt(2*np.pi)\n",
      "xf, yf = pylab.poly_between(x2, 0*x2, y2*100)\n",
      "pylab.fill(xf, yf, facecolor='red', hatch='\\\\', alpha=0.5)\n",
      "\n",
      "pylab.plot(x,y*100, linewidth=2)\n",
      "pylab.gca().set_xlabel('standardized units')\n",
      "pylab.gca().set_ylabel('% per standardized unit')\n",
      "#pylab.gca().set_xlim([-2,4])\n",
      "#pylab.gca().set_yticks([])"
     ],
     "language": "python",
     "metadata": {},
     "outputs": []
    },
    {
     "cell_type": "markdown",
     "metadata": {},
     "source": [
      "\n",
      " 5% rejection rule\n",
      " when alternative is positive or negative \u2026"
     ]
    },
    {
     "cell_type": "heading",
     "level": 3,
     "metadata": {
      "slideshow": {
       "slide_type": "slide"
      }
     },
     "source": [
      "One sided test"
     ]
    },
    {
     "cell_type": "code",
     "collapsed": false,
     "input": [
      "from matplotlib import rc\n",
      "import pylab, numpy as np, sys\n",
      "np.random.seed(0);import random; random.seed(0)\n",
      "import pylab, numpy as np\n",
      "x = np.linspace(-4,4,101)\n",
      "y = np.exp(-x**2/2) / np.sqrt(2*np.pi)\n",
      "x2 = np.linspace(1.65,4,101)\n",
      "y2 = np.exp(-x2**2/2) / np.sqrt(2*np.pi)\n",
      "pylab.plot(x,y*100, linewidth=2)\n",
      "xf, yf = pylab.poly_between(x2, 0*x2, y2*100)\n",
      "pylab.fill(xf, yf, facecolor='red', hatch='\\\\', alpha=0.5)\n",
      "pylab.gca().set_xlabel('standardized units')\n",
      "pylab.gca().set_ylabel('% per standardized unit')\n",
      "#pylab.gca().set_xlim([-2,4])\n",
      "#pylab.gca().set_yticks([])"
     ],
     "language": "python",
     "metadata": {},
     "outputs": []
    },
    {
     "cell_type": "markdown",
     "metadata": {},
     "source": [
      "\n",
      " 5% rejection rule\n",
      " when alternative is positive \u2026"
     ]
    },
    {
     "cell_type": "heading",
     "level": 3,
     "metadata": {
      "slideshow": {
       "slide_type": "slide"
      }
     },
     "source": [
      "Student\u2019s $T$"
     ]
    },
    {
     "cell_type": "markdown",
     "metadata": {},
     "source": [
      "\n",
      "Tests for small samples\n",
      "\n",
      "* Suppose the Gauss model holds ${\\color{orange} \\text{measurement}} = {\\color{blue} \\text{true value}} + {\\color{orange} \\text{chance error}}$\n",
      "* **And, the histogram of the error box is not too different from a normal probability histogram or curve**\n",
      "  \n",
      "* The $T$ statistic replaces the SD of the list with SD$^+$ of the list, but uses a different curve based on *degrees of freedom*\n",
      "  "
     ]
    },
    {
     "cell_type": "heading",
     "level": 3,
     "metadata": {
      "slideshow": {
       "slide_type": "slide"
      }
     },
     "source": [
      "Student\u2019s $T$ table: A-105"
     ]
    },
    {
     "cell_type": "markdown",
     "metadata": {},
     "source": [
      "\n",
      "Sample rows of the table look like\n",
      "\n",
      "ccccccc\n",
      " degrees of freedom\n",
      " & 25% & 10% & 5% & 2.5% & 1% & 0.5 %\n",
      "\n",
      "4 & 0.74 & 1.53 & 2.13 & 2.78 & 3.75 & 4.60\n",
      "20 & 0.69 & 1.33 & 1.72 & 2.09 & 2.53 & 2.85\n"
     ]
    },
    {
     "cell_type": "heading",
     "level": 3,
     "metadata": {
      "slideshow": {
       "slide_type": "slide"
      }
     },
     "source": [
      "Student\u2019s $T$"
     ]
    },
    {
     "cell_type": "code",
     "collapsed": false,
     "input": [
      "from matplotlib import rc\n",
      "import pylab, numpy as np, sys\n",
      "np.random.seed(0);import random; random.seed(0)\n",
      "import pylab, numpy as np\n",
      "import scipy.stats\n",
      "\n",
      "df = 4\n",
      "\n",
      "# The t region\n",
      "\n",
      "x = np.linspace(-4,4,101)\n",
      "pylab.plot(x,scipy.stats.t.pdf(x, df)*100, linewidth=2, label=r'$T$, df=%d, 10%%' % df, color='black')\n",
      "x2 = np.linspace(scipy.stats.t.isf(0.10,df),4, 101)\n",
      "y2 = scipy.stats.t.pdf(x2, df)\n",
      "xf, yf = pylab.poly_between(x2, 0*x2, y2*100)\n",
      "pylab.fill(xf, yf, facecolor='gray', hatch='\\\\', alpha=0.5)\n",
      "pylab.text(scipy.stats.t.isf(0.10,df), -3, r'$t$', size=20)\n",
      "# pylab.gca().set_xlabel('standardized units')\n",
      "# pylab.gca().set_ylabel('% per standardized unit')\n",
      "# pylab.legend()\n",
      "pylab.gca().set_yticks([])\n",
      "# pylab.gca().set_xticks([])\n",
      "pylab.gca().set_xlim([-3,3])"
     ],
     "language": "python",
     "metadata": {},
     "outputs": []
    },
    {
     "cell_type": "markdown",
     "metadata": {},
     "source": [
      "\n",
      "A-105, for $df=4$, the 10% one-sided cutoff is 1.53"
     ]
    },
    {
     "cell_type": "heading",
     "level": 3,
     "metadata": {
      "slideshow": {
       "slide_type": "slide"
      }
     },
     "source": [
      "Comparing two samples"
     ]
    },
    {
     "cell_type": "markdown",
     "metadata": {},
     "source": [
      "\n",
      "NAEP reading test\n",
      "\n",
      "* In 1990, sample average was 290.\n",
      "* In 2004, sample average was 285.\n",
      "* One box for 1990, average(1990 sample) = 290, SD(2004 sample) = 37.\n",
      "* A second box for 2004, average(2004 sample) = 285, SD(2004 sample) = 40.\n",
      "* So, $\\begin{aligned}\n",
      "     \\text{SE(average(1990 sample))} &\\approx 37 / \\sqrt{1000} \\\\\n",
      "      &\\approx 1.2\\\\\n",
      "     \\text{SE(average(2004 sample))} &\\approx 40 / \\sqrt{1000} \\\\\n",
      "     &\\approx 1.3\\\\\n",
      "     \\end{aligned}$"
     ]
    },
    {
     "cell_type": "heading",
     "level": 3,
     "metadata": {
      "slideshow": {
       "slide_type": "slide"
      }
     },
     "source": [
      "Comparing two samples"
     ]
    },
    {
     "cell_type": "markdown",
     "metadata": {},
     "source": [
      "\n",
      "SE of a difference\n",
      "\n",
      "* So, the denominator should be ${\\color{blue} \\text{SE}}({\\color{orange} \\text{average(2004 sample) -\n",
      "     average(1990 sample)}}).$\n",
      "* The SE of the difference of two **independent**\n",
      "   quantities can be found from the individual SEs.\n",
      "* The rule is $\\begin{aligned}\n",
      "     \\lefteqn{{\\color{blue} \\text{SE}}({\\color{orange}\n",
      "     \\text{average(2004 sample) -\n",
      "     average(1990 sample)}})} \\\\\n",
      "     & \\qquad \\quad = \\sqrt{{\\color{blue}\\text{SE}}({\\color{orange} \\text{1990 sample}})^2 + {\\color{blue}\\text{SE}}({\\color{orange} \\text{2004 sample}})^2}.\n",
      "     \\end{aligned}$"
     ]
    },
    {
     "cell_type": "heading",
     "level": 3,
     "metadata": {
      "slideshow": {
       "slide_type": "slide"
      }
     },
     "source": [
      "Comparing two samples"
     ]
    },
    {
     "cell_type": "markdown",
     "metadata": {},
     "source": [
      "\n",
      "Example\n",
      "\n",
      "* In 1999, 13% of the 17 year-old students had taken calculus compared to 17% in 2004 according to the NAEP samples. Is the difference real or chance variation?\n",
      "* This question asks us to compare two proportions. We can take the null hypothesis to be \"the proportion of 17 year olds who took calculus in 1999 is equal to (or greater than or equal to) the proportion who took calculus in 2004.\"\n",
      "* The alternative is \"the proportion of 17 year olds who took calculus in 1999 is less than the proportion who took calculus in 2004.\""
     ]
    },
    {
     "cell_type": "heading",
     "level": 3,
     "metadata": {
      "slideshow": {
       "slide_type": "slide"
      }
     },
     "source": [
      "Randomized experiments"
     ]
    },
    {
     "cell_type": "markdown",
     "metadata": {},
     "source": [
      "\n",
      "Randomized experiments\n",
      "\n",
      "* This *two-sample $z$-test*\n",
      "   can also be used for randomized controlled experiments.\n",
      "* Example: 200 subjects are split randomly into treatment and placebo in a study on vitamin C on the number of colds.\n",
      "* In the treatment group average(treatment group)=2.3, SD(treatment group) = 3.1.\n",
      "* In the placebo group average(placebo group)=2.6, SD(placebo group) = 2.9.\n",
      "* Is there a difference in the number of colds in treatment vs. placebo group?"
     ]
    },
    {
     "cell_type": "heading",
     "level": 3,
     "metadata": {
      "slideshow": {
       "slide_type": "slide"
      }
     },
     "source": [
      "Randomized experiments"
     ]
    },
    {
     "cell_type": "markdown",
     "metadata": {},
     "source": [
      "\n",
      "Example (continued)\n",
      "\n",
      "* Naively applying the two sample $z$-test to this situation, yields $z = \\frac{(2.3 - 2.6) - 0}{\\sqrt{\\left(\\frac{3.1}{\\sqrt{100}}\\right)^2 + \\left(\\frac{2.9}{\\sqrt{100}}\\right)^2}} = \\frac{-0.3}{0.42} \\approx -0.7.$\n",
      "* If we had taken a one-sided alternative, this would be a $P$-value of about 25%."
     ]
    },
    {
     "cell_type": "heading",
     "level": 3,
     "metadata": {
      "slideshow": {
       "slide_type": "slide"
      }
     },
     "source": [
      "Box model (hypothetical data)"
     ]
    },
    {
     "cell_type": "code",
     "collapsed": false,
     "input": [
      "from matplotlib import rc\n",
      "import pylab, numpy as np, sys\n",
      "np.random.seed(0);import random; random.seed(0)\n",
      "import numpy as np, pylab\n",
      "import random\n",
      "\n",
      "## sample2 = [np.random.randint(0,6) for _  in range(200)]\n",
      "## sample = [np.random.randint(0,6) for _  in range(200)]\n",
      "## X = np.array([(s1,s2) for s1, s2 in zip(sample, sample2)], np.dtype([('sample1', np.int), ('sample2', np.int)]))\n",
      "## treatment = random.sample(range(200), 100)\n",
      "## treatment_bool = np.zeros(X.shape, np.bool)\n",
      "## for i in treatment:\n",
      "##     treatment_bool[i] = True\n",
      "## X = pylab.rec_append_fields(X, 'treatment', treatment_bool)\n",
      "## pylab.rec2csv(X, '%s/twosample.csv' % datadir)\n",
      "\n",
      "import random\n",
      "X = np.mgrid[0:10:10j,0:20:20j].reshape((2,200))   + np.random.sample((2,200)) * 0.05\n",
      "X = X.T\n",
      "sample = pylab.csv2rec('%s/twosample.csv' % datadir)\n",
      "\n",
      "treatment = sample['treatment'].astype(np.bool)\n",
      "treatment_sample = sample[treatment]['sample1']\n",
      "placebo_sample = sample[~treatment]['sample2']\n",
      "\n",
      "\n",
      "for i in range(200):\n",
      "   pylab.fill_between([X[i,0]-.4,X[i,0]], [X[i,1]-.4,X[i,1]-.4], [X[i,1]+.3,X[i,1]+.3], facecolor='green', alpha=0.3)\n",
      "   pylab.fill_between([X[i,0],X[i,0]+.4], [X[i,1]-.4,X[i,1]-.4], [X[i,1]+.3,X[i,1]+.3], facecolor='red', alpha=0.3)\n",
      "   pylab.text(X[i,0]-0.2, X[i,1], '%d' % sample['sample1'][i], ha='center', va='center', size=10)\n",
      "   pylab.text(X[i,0]+0.2, X[i,1], '%d' % sample['sample2'][i], ha='center', va='center', size=10)\n",
      "   pylab.gca().set_xticks([]);    pylab.gca().set_xlim([-1,11])\n",
      "   pylab.gca().set_yticks([]);    pylab.gca().set_ylim([-1,21])"
     ],
     "language": "python",
     "metadata": {},
     "outputs": []
    },
    {
     "cell_type": "markdown",
     "metadata": {},
     "source": [
      "\n",
      "The complete data (unobserved)"
     ]
    },
    {
     "cell_type": "heading",
     "level": 3,
     "metadata": {
      "slideshow": {
       "slide_type": "slide"
      }
     },
     "source": [
      "Box model (hypothetical data)"
     ]
    },
    {
     "cell_type": "code",
     "collapsed": false,
     "input": [
      "from matplotlib import rc\n",
      "import pylab, numpy as np, sys\n",
      "np.random.seed(0);import random; random.seed(0)\n",
      "import numpy as np, pylab\n",
      "import random\n",
      "\n",
      "## sample2 = [np.random.randint(0,6) for _  in range(200)]\n",
      "## sample = [np.random.randint(0,6) for _  in range(200)]\n",
      "## X = np.array([(s1,s2) for s1, s2 in zip(sample, sample2)], np.dtype([('sample1', np.int), ('sample2', np.int)]))\n",
      "## treatment = random.sample(range(200), 100)\n",
      "## treatment_bool = np.zeros(X.shape, np.bool)\n",
      "## for i in treatment:\n",
      "##     treatment_bool[i] = True\n",
      "## X = pylab.rec_append_fields(X, 'treatment', treatment_bool)\n",
      "## pylab.rec2csv(X, '%s/twosample.csv' % datadir)\n",
      "\n",
      "import random\n",
      "X = np.mgrid[0:10:10j,0:20:20j].reshape((2,200))   + np.random.sample((2,200)) * 0.05\n",
      "X = X.T\n",
      "sample = pylab.csv2rec('%s/twosample.csv' % datadir)\n",
      "\n",
      "treatment = sample['treatment'].astype(np.bool)\n",
      "treatment_sample = sample[treatment]['sample1']\n",
      "placebo_sample = sample[~treatment]['sample2']\n",
      "\n",
      "\n",
      "for i in range(200):\n",
      "   pylab.fill_between([X[i,0]-.4,X[i,0]], [X[i,1]-.4,X[i,1]-.4], [X[i,1]+.3,X[i,1]+.3], facecolor='green', alpha=0.3)\n",
      "   pylab.fill_between([X[i,0],X[i,0]+.4], [X[i,1]-.4,X[i,1]-.4], [X[i,1]+.3,X[i,1]+.3], facecolor='red', alpha=0.3)\n",
      "   if treatment[i]:\n",
      "       pylab.text(X[i,0]-0.2, X[i,1], '%d' % sample['sample1'][i], ha='center', va='center', size=10)\n",
      "   elif not treatment[i]:\n",
      "       pylab.text(X[i,0]+0.2, X[i,1], '%d' % sample['sample2'][i], ha='center', va='center', size=10)\n",
      "pylab.gca().set_xticks([]);    pylab.gca().set_xlim([-1,11])\n",
      "pylab.gca().set_yticks([]);    pylab.gca().set_ylim([-1,21])"
     ],
     "language": "python",
     "metadata": {},
     "outputs": []
    },
    {
     "cell_type": "markdown",
     "metadata": {},
     "source": [
      "\n",
      "The entire sample (observed)."
     ]
    },
    {
     "cell_type": "heading",
     "level": 3,
     "metadata": {
      "slideshow": {
       "slide_type": "slide"
      }
     },
     "source": [
      "Randomized experiments"
     ]
    },
    {
     "cell_type": "markdown",
     "metadata": {},
     "source": [
      "\n",
      "Binary responses\n",
      "\n",
      "* The randomization model is not applicable only to quantitative things like the number of colds. The tickets can have 0-1 values.\n",
      "* Suppose the experiment tests an experimental cancer treatment and our outcome is whether or not the subject is remission free 5 years after treatment.\n",
      "* Each subject has a  1 or 0\n",
      "   for their outcome if they are treated, and a  1 or 0\n",
      "   for their outcome if they receive placebo (or, more likely, standard of care)."
     ]
    },
    {
     "cell_type": "heading",
     "level": 3,
     "metadata": {
      "slideshow": {
       "slide_type": "slide"
      }
     },
     "source": [
      "Box model (for binary outcome)"
     ]
    },
    {
     "cell_type": "code",
     "collapsed": false,
     "input": [
      "from matplotlib import rc\n",
      "import pylab, numpy as np, sys\n",
      "np.random.seed(0);import random; random.seed(0)\n",
      "## import random\n",
      "## sample2 = np.random.binomial(1, 0.6, (200,))\n",
      "## sample = np.random.binomial(1, 0.8, (200,))\n",
      "## X = np.array([(s1,s2) for s1, s2 in zip(sample, sample2)], np.dtype([('sample1', np.int), ('sample2', np.int)]))\n",
      "## treatment = random.sample(range(200), 100)\n",
      "## treatment_bool = np.zeros(X.shape, np.bool)\n",
      "## for i in treatment:\n",
      "##     treatment_bool[i] = True\n",
      "## X = pylab.rec_append_fields(X, 'treatment', treatment_bool)\n",
      "## pylab.rec2csv(X, 'data/twosample_binary.csv')\n",
      "\n",
      "X = np.mgrid[0:10:10j,0:20:20j].reshape((2,200))   + np.random.sample((2,200)) * 0.05\n",
      "X = X.T\n",
      "sample = pylab.csv2rec('%s/twosample_binary.csv' % datadir)\n",
      "\n",
      "treatment = sample['treatment'].astype(np.bool)\n",
      "treatment_sample = sample[treatment]['sample1']\n",
      "placebo_sample = sample[~treatment]['sample2']\n",
      "\n",
      "\n",
      "for i in range(200):\n",
      "   pylab.fill_between([X[i,0]-.4,X[i,0]], [X[i,1]-.4,X[i,1]-.4], [X[i,1]+.3,X[i,1]+.3], facecolor='green', alpha=0.3)\n",
      "   pylab.fill_between([X[i,0],X[i,0]+.4], [X[i,1]-.4,X[i,1]-.4], [X[i,1]+.3,X[i,1]+.3], facecolor='red', alpha=0.3)\n",
      "   pylab.text(X[i,0]-0.2, X[i,1], '%d' % sample['sample1'][i], ha='center', va='center', size=10)\n",
      "   pylab.text(X[i,0]+0.2, X[i,1], '%d' % sample['sample2'][i], ha='center', va='center', size=10)\n",
      "   pylab.gca().set_xticks([]);    pylab.gca().set_xlim([-1,11])\n",
      "   pylab.gca().set_yticks([]);    pylab.gca().set_ylim([-1,21])"
     ],
     "language": "python",
     "metadata": {},
     "outputs": []
    },
    {
     "cell_type": "heading",
     "level": 3,
     "metadata": {
      "slideshow": {
       "slide_type": "slide"
      }
     },
     "source": [
      "Box model (for binary outcome)"
     ]
    },
    {
     "cell_type": "code",
     "collapsed": false,
     "input": [
      "from matplotlib import rc\n",
      "import pylab, numpy as np, sys\n",
      "np.random.seed(0);import random; random.seed(0)\n",
      "# import random\n",
      "## sample2 = np.random.binomial(1, 0.6, (200,))\n",
      "## sample = np.random.binomial(1, 0.8, (200,))\n",
      "## X = np.array([(s1,s2) for s1, s2 in zip(sample, sample2)], np.dtype([('sample1', np.int), ('sample2', np.int)]))\n",
      "## treatment = random.sample(range(200), 100)\n",
      "## treatment_bool = np.zeros(X.shape, np.bool)\n",
      "## for i in treatment:\n",
      "##     treatment_bool[i] = True\n",
      "## X = pylab.rec_append_fields(X, 'treatment', treatment_bool)\n",
      "## pylab.rec2csv(X, 'data/twosample_binary.csv')\n",
      "\n",
      "X = np.mgrid[0:10:10j,0:20:20j].reshape((2,200))   + np.random.sample((2,200)) * 0.05\n",
      "X = X.T\n",
      "sample = pylab.csv2rec('%s/twosample_binary.csv' % datadir)\n",
      "\n",
      "treatment = sample['treatment'].astype(np.bool)\n",
      "treatment_sample = sample[treatment]['sample1']\n",
      "placebo_sample = sample[~treatment]['sample2']\n",
      "\n",
      "\n",
      "for i in range(200):\n",
      "   pylab.fill_between([X[i,0]-.4,X[i,0]], [X[i,1]-.4,X[i,1]-.4], [X[i,1]+.3,X[i,1]+.3], facecolor='green', alpha=0.3)\n",
      "   pylab.fill_between([X[i,0],X[i,0]+.4], [X[i,1]-.4,X[i,1]-.4], [X[i,1]+.3,X[i,1]+.3], facecolor='red', alpha=0.3)\n",
      "   if treatment[i]:\n",
      "       pylab.text(X[i,0]-0.2, X[i,1], '%d' % sample['sample1'][i], ha='center', va='center', size=10)\n",
      "   elif not treatment[i]:\n",
      "       pylab.text(X[i,0]+0.2, X[i,1], '%d' % sample['sample2'][i], ha='center', va='center', size=10)\n",
      "pylab.gca().set_xticks([]);    pylab.gca().set_xlim([-1,11])\n",
      "pylab.gca().set_yticks([]);    pylab.gca().set_ylim([-1,21])"
     ],
     "language": "python",
     "metadata": {},
     "outputs": []
    },
    {
     "cell_type": "markdown",
     "metadata": {},
     "source": [
      "\n",
      "The entire sample (observed)."
     ]
    },
    {
     "cell_type": "heading",
     "level": 3,
     "metadata": {
      "slideshow": {
       "slide_type": "slide"
      }
     },
     "source": [
      "$\\chi^2$ goodness of fit tests"
     ]
    },
    {
     "cell_type": "markdown",
     "metadata": {},
     "source": [
      "\n",
      "Is the die fair?\n",
      "\n",
      "* It seems there are too many 3\u2019s, and too few 1\u2019s..."
     ]
    },
    {
     "cell_type": "heading",
     "level": 3,
     "metadata": {
      "slideshow": {
       "slide_type": "slide"
      }
     },
     "source": [
      "Goodness of fit tests"
     ]
    },
    {
     "cell_type": "markdown",
     "metadata": {},
     "source": [
      "\n",
      "$\\chi^2$ statistic\n",
      "\n",
      "* To get an overall tests, we combine the rows into *Pearson\u2019s $\\chi^2$*\n",
      "   $$\n",
      "*  <sup>2</sup>\n",
      "   &=  ()\n",
      "   =  <sup>i=1</sup><sup>6</sup> \n",
      "  \n",
      "* $\\item In the die example,$\n",
      "*  <sup>2</sup>\n",
      "   &=  + + + + + \n",
      "  \n",
      "  &=  \n",
      "  \n",
      "  &=  14.2\n",
      "  \n",
      "* $$"
     ]
    },
    {
     "cell_type": "heading",
     "level": 3,
     "metadata": {
      "slideshow": {
       "slide_type": "slide"
      }
     },
     "source": [
      "What are the chances?"
     ]
    },
    {
     "cell_type": "code",
     "collapsed": false,
     "input": [
      "from matplotlib import rc\n",
      "import pylab, numpy as np, sys\n",
      "np.random.seed(0);import random; random.seed(0)\n",
      "import pylab, numpy as np\n",
      "import scipy.stats\n",
      "x = np.linspace(0,20,101)\n",
      "y = scipy.stats.chi2.pdf(x, 5)\n",
      "x2 = np.linspace(14.2,20,101)\n",
      "y2 = scipy.stats.chi2.pdf(x2, 5)\n",
      "pylab.plot(x,y*100, linewidth=2)\n",
      "xf, yf = pylab.poly_between(x2, 0*x2, y2*100)\n",
      "pylab.fill(xf, yf, facecolor='red', hatch='\\\\', alpha=0.5)\n",
      "pylab.gca().set_xlabel('standardized units')\n",
      "pylab.gca().set_ylabel('% per standardized unit')"
     ],
     "language": "python",
     "metadata": {},
     "outputs": []
    },
    {
     "cell_type": "markdown",
     "metadata": {},
     "source": [
      "\n",
      "The $\\chi^2_5$ probability histogram, the area is 1.4%"
     ]
    },
    {
     "cell_type": "heading",
     "level": 3,
     "metadata": {
      "slideshow": {
       "slide_type": "slide"
      }
     },
     "source": [
      "$\\chi^2$ curves"
     ]
    },
    {
     "cell_type": "markdown",
     "metadata": {},
     "source": [
      "\n",
      "Using the $\\chi^2$ test\n",
      "\n",
      "* A general rule of thumb: every expected value should be 5 or more for the $\\chi^2$ curve to approximate the probability histogram of the ${\\color{orange} \\chi^2}$ statistic.\n",
      "* Would not apply to 100 draws from $\\fbox{ \\fbox{1} \\ \\fbox{2} \\  \\fbox{3} \\ \\ 96 \\fbox{4}'s}$\n",
      "Difference between $\\chi^2$ test and $z$ test\n",
      "\n",
      "* The $z$ test is a statement about the average of the box.\n",
      "* The $\\chi^2$ is a test whether the observed data follow the box model.\n",
      "* If there are only two values in the box, then the $\\chi^2$ test is identical to the (two-sided) $z$ test."
     ]
    },
    {
     "cell_type": "heading",
     "level": 3,
     "metadata": {
      "slideshow": {
       "slide_type": "slide"
      }
     },
     "source": [
      "$\\chi^2$ table: A-106"
     ]
    },
    {
     "cell_type": "markdown",
     "metadata": {},
     "source": [
      "\n",
      "Sample rows of the table look like\n",
      "\n",
      "cccccccccc\n",
      " degrees of freedom\n",
      " & \u2026& 70%\n",
      " & 50%\n",
      " & 30%\n",
      " & 10%\n",
      " & 5 %\n",
      " & 1 %\n",
      "\n",
      "5 & \u2026& 3.00 & 4.35 & 6.06 & 9.24 & 11.07 & 15.09\n"
     ]
    },
    {
     "cell_type": "heading",
     "level": 3,
     "metadata": {
      "slideshow": {
       "slide_type": "slide"
      }
     },
     "source": [
      "$\\chi^2$ curves"
     ]
    },
    {
     "cell_type": "code",
     "collapsed": false,
     "input": [
      "from matplotlib import rc\n",
      "import pylab, numpy as np, sys\n",
      "np.random.seed(0);import random; random.seed(0)\n",
      "import pylab, numpy as np\n",
      "import scipy.stats\n",
      "df = 5\n",
      "x = np.linspace(0,20,501)\n",
      "y = scipy.stats.chi2.pdf(x, df)\n",
      "q = scipy.stats.chi2.isf(0.05, df)\n",
      "x2 = np.linspace(q,20,501)\n",
      "y2 = scipy.stats.chi2.pdf(x2, df)\n",
      "pylab.plot(x,y*100, linewidth=2, color='black')\n",
      "xf, yf = pylab.poly_between(x2, 0*x2, y2*100)\n",
      "pylab.fill(xf, yf, facecolor='gray', hatch='\\\\', alpha=0.5)\n",
      "#pylab.gca().set_xlabel('standardized units')\n",
      "#pylab.gca().set_ylabel('% per standardized unit')\n",
      "#pylab.gca().set_xticks([])\n",
      "pylab.gca().set_yticks([])\n",
      "pylab.gca().set_xlim([0,15])\n",
      "\n",
      "pylab.text(q, -1.5, r'$\\chi^2$', size=20)"
     ],
     "language": "python",
     "metadata": {},
     "outputs": []
    },
    {
     "cell_type": "markdown",
     "metadata": {},
     "source": [
      "\n",
      "The 5% rejection rule for $\\chi^2_5$: reject if ${\\color{orange} \\chi^2} > 11.07$"
     ]
    }
   ],
   "metadata": {}
  }
 ]
}
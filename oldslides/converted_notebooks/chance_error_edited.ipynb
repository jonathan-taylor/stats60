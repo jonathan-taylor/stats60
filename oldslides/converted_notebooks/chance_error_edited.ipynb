{
 "metadata": {
  "name": ""
 },
 "nbformat": 3,
 "nbformat_minor": 0,
 "worksheets": [
  {
   "cells": [
    {
     "cell_type": "code",
     "collapsed": false,
     "input": [
      "%load_ext rmagic"
     ],
     "language": "python",
     "metadata": {
      "slideshow": {
       "slide_type": "skip"
      }
     },
     "outputs": []
    },
    {
     "cell_type": "heading",
     "level": 3,
     "metadata": {
      "slideshow": {
       "slide_type": "slide"
      }
     },
     "source": [
      "Roulette"
     ]
    },
    {
     "cell_type": "code",
     "collapsed": false,
     "input": [
      "from matplotlib import rc\n",
      "import pylab, numpy as np, sys\n",
      "np.random.seed(0);import random; random.seed(0)\n",
      "dx = 0.02\n",
      "X, Y = np.mgrid[0.2:0.8:5j,0:1:8j]\n",
      "X += np.random.uniform(0,1,X.shape) * dx - dx / 2\n",
      "Y += np.random.uniform(0,1,Y.shape) * dx - dx / 2\n",
      "tt = range(1,37) + ['0', '00']\n",
      "black = [2,4,6,8,10,11,13,15,17,19,20,22,24,26,29,31,33,35]\n",
      "red = sorted(set(range(1,37)).difference(black))\n",
      "black = list(np.array(black)-1)\n",
      "red = list(np.array(red)-1)\n",
      "green = [36,37]\n",
      "#np.random.shuffle(tt)\n",
      "X.shape = -1; Y.shape = -1\n",
      "pylab.scatter(X[:38][black],Y[:38][black],s=500, c='gray', alpha=0.8)\n",
      "pylab.scatter(X[:38][red],Y[:38][red],s=500, c='red', alpha=0.5)\n",
      "pylab.scatter(X[:38][green],Y[:38][green],s=500, c='green', alpha=0.5)\n",
      "t = range(1,37) + ['0', '00']\n",
      "for i, t in enumerate(tt):\n",
      "    pylab.text(X[i], Y[i], t, color='black', ha='center', va='center')\n",
      "\n",
      "pylab.gca().set_xticks([])\n",
      "pylab.gca().set_yticks([])\n",
      "pylab.gca().set_xlim([X.min()-0.1,X.max()+0.1])\n",
      "pylab.gca().set_ylim([Y.min()-0.1,Y.max()+0.2])"
     ],
     "language": "python",
     "metadata": {},
     "outputs": []
    },
    {
     "cell_type": "markdown",
     "metadata": {},
     "source": [
      "\n",
      "Possible outcomes: balls numbered 1 to 36, plus [0, 00]."
     ]
    },
    {
     "cell_type": "heading",
     "level": 3,
     "metadata": {
      "slideshow": {
       "slide_type": "slide"
      }
     },
     "source": [
      "Roulette"
     ]
    },
    {
     "cell_type": "code",
     "collapsed": false,
     "input": [
      "from matplotlib import rc\n",
      "import pylab, numpy as np, sys\n",
      "np.random.seed(0);import random; random.seed(0)\n",
      "dx = 0.02\n",
      "X, Y = np.mgrid[0.2:0.8:5j,0:1:8j]\n",
      "X += np.random.uniform(0,1,X.shape) * dx - dx / 2\n",
      "Y += np.random.uniform(0,1,Y.shape) * dx - dx / 2\n",
      "ts = range(1,37) + ['0', '00']\n",
      "black = [2,4,6,8,10,11,13,15,17,19,20,22,24,26,29,31,33,35]\n",
      "red = sorted(set(range(1,37)).difference(black))\n",
      "black = list(np.array(black)-1)\n",
      "red = list(np.array(red)-1)\n",
      "tt = [('F', 'yellow')] * 38\n",
      "for r in red:\n",
      "    tt[r] = ('S', 'pink')\n",
      "#np.random.shuffle(tt)\n",
      "X.shape = -1; Y.shape = -1\n",
      "g = np.array([t[1] == 'pink' for t in tt])\n",
      "pylab.scatter(X[:38][g],Y[:38][g],s=500, c='pink', alpha=0.5)\n",
      "pylab.scatter(X[:38][~g],Y[:38][~g],s=500, c='yellow', alpha=0.5)\n",
      "for i, t in enumerate(tt):\n",
      "    pylab.text(X[i], Y[i], t[0], color='black', ha='center', va='center')\n",
      "\n",
      "pylab.gca().set_xticks([])\n",
      "pylab.gca().set_yticks([])\n",
      "pylab.gca().set_xlim([X.min()-0.1,X.max()+0.1])\n",
      "pylab.gca().set_ylim([Y.min()-0.1,Y.max()+0.2])"
     ],
     "language": "python",
     "metadata": {},
     "outputs": []
    },
    {
     "cell_type": "markdown",
     "metadata": {},
     "source": [
      "\n",
      "Betting on  RED\n",
      ": 18 balls are success."
     ]
    },
    {
     "cell_type": "heading",
     "level": 3,
     "metadata": {
      "slideshow": {
       "slide_type": "slide"
      }
     },
     "source": [
      "Box model for winnings"
     ]
    },
    {
     "cell_type": "code",
     "collapsed": false,
     "input": [
      "from matplotlib import rc\n",
      "import pylab, numpy as np, sys\n",
      "np.random.seed(0);import random; random.seed(0)\n",
      "dx = 0.02\n",
      "X, Y = np.mgrid[0.2:0.8:5j,0:1:8j]\n",
      "X += np.random.uniform(0,1,X.shape) * dx - dx / 2\n",
      "Y += np.random.uniform(0,1,Y.shape) * dx - dx / 2\n",
      "ts = range(1,37) + ['0', '00']\n",
      "black = [2,4,6,8,10,11,13,15,17,19,20,22,24,26,29,31,33,35]\n",
      "red = sorted(set(range(1,37)).difference(black))\n",
      "black = list(np.array(black)-1)\n",
      "red = list(np.array(red)-1)\n",
      "tt = [('-10\\$', 'yellow')] * 38\n",
      "for r in red:\n",
      "    tt[r] = ('+10\\$', 'pink')\n",
      "#np.random.shuffle(tt)\n",
      "X.shape = -1; Y.shape = -1\n",
      "g = np.array([t[1] == 'pink' for t in tt])\n",
      "pylab.scatter(X[:38][g],Y[:38][g],s=700, c='red')\n",
      "pylab.scatter(X[:38][~g],Y[:38][~g],s=700, c='yellow', alpha=0.5)\n",
      "for i, t in enumerate(tt):\n",
      "    pylab.text(X[i], Y[i], t[0], color='black', ha='center', va='center',\n",
      "               fontsize=10)\n",
      "\n",
      "pylab.gca().set_xticks([])\n",
      "pylab.gca().set_yticks([])\n",
      "pylab.gca().set_xlim([X.min()-0.1,X.max()+0.1])\n",
      "pylab.gca().set_ylim([Y.min()-0.1,Y.max()+0.2])"
     ],
     "language": "python",
     "metadata": {},
     "outputs": []
    },
    {
     "cell_type": "markdown",
     "metadata": {},
     "source": [
      "\n",
      "Betting 10$ on  RED\n",
      ": win 10$ with probability 9/19."
     ]
    },
    {
     "cell_type": "heading",
     "level": 3,
     "metadata": {
      "slideshow": {
       "slide_type": "slide"
      }
     },
     "source": [
      "Box model for winnings"
     ]
    },
    {
     "cell_type": "code",
     "collapsed": false,
     "input": [
      "from matplotlib import rc\n",
      "import pylab, numpy as np, sys\n",
      "np.random.seed(0);import random; random.seed(0)\n",
      "dx = 0.02\n",
      "X, Y = np.mgrid[0.2:0.8:5j,0:1:8j]\n",
      "X += np.random.uniform(0,1,X.shape) * dx - dx / 2\n",
      "Y += np.random.uniform(0,1,Y.shape) * dx - dx / 2\n",
      "ts = range(1,37) + ['0', '00']\n",
      "black = [2,4,6,8,10,11,13,15,17,19,20,22,24,26,29,31,33,35]\n",
      "red = sorted(set(range(1,37)).difference(black))\n",
      "black = list(np.array(black)-1)\n",
      "red = list(np.array(red)-1)\n",
      "tt = [('-10\\$', 'yellow')] * 38\n",
      "for r in red:\n",
      "    tt[r] = ('+10\\$', 'pink')\n",
      "#np.random.shuffle(tt)\n",
      "X.shape = -1; Y.shape = -1\n",
      "g = np.array([t[1] == 'pink' for t in tt])\n",
      "pylab.scatter(X[:38][g],Y[:38][g],s=700, c='pink', alpha=0.5)\n",
      "pylab.scatter(X[:38][~g],Y[:38][~g],s=700, c='yellow')\n",
      "for i, t in enumerate(tt):\n",
      "    pylab.text(X[i], Y[i], t[0], color='black', ha='center', va='center',\n",
      "               fontsize=10)\n",
      "\n",
      "pylab.gca().set_xticks([])\n",
      "pylab.gca().set_yticks([])\n",
      "pylab.gca().set_xlim([X.min()-0.1,X.max()+0.1])\n",
      "pylab.gca().set_ylim([Y.min()-0.1,Y.max()+0.2])"
     ],
     "language": "python",
     "metadata": {},
     "outputs": []
    },
    {
     "cell_type": "markdown",
     "metadata": {},
     "source": [
      "\n",
      "Betting 10$ on  RED\n",
      ": lose 10$ with probability 10/19."
     ]
    },
    {
     "cell_type": "heading",
     "level": 3,
     "metadata": {
      "slideshow": {
       "slide_type": "slide"
      }
     },
     "source": [
      "The law of averages"
     ]
    },
    {
     "cell_type": "markdown",
     "metadata": {},
     "source": [
      "\n",
      "Example\n",
      "\n",
      "* Suppose we start with 100$ in a Las Vegas casino and bet 10 $ on  RED\n",
      "   100 times.\n",
      "* If the ball lands  RED\n",
      "   we are up 10 $. If not, we are down 10 $.\n",
      "* About how much money should we have after 100 bets?"
     ]
    },
    {
     "cell_type": "heading",
     "level": 3,
     "metadata": {
      "slideshow": {
       "slide_type": "slide"
      }
     },
     "source": [
      "Betting on  RED\n",
      " 100 times, starting with 100$"
     ]
    },
    {
     "cell_type": "code",
     "collapsed": false,
     "input": [
      "from matplotlib import rc\n",
      "import pylab, numpy as np, sys\n",
      "np.random.seed(0);import random; random.seed(0)\n",
      "initial = 100\n",
      "\n",
      "results = []\n",
      "n = 100\n",
      "for _ in range(20000):\n",
      "    draws = np.random.binomial(n, 18/38.)\n",
      "    results.append(initial + 10 * draws - 10 * (n - draws))\n",
      "\n",
      "pylab.hist(results, bins=10)\n",
      "results = np.array(results)\n",
      "pylab.title(\"average=%d, SD=%d\" % (int(results.mean()), int(results.std())))"
     ],
     "language": "python",
     "metadata": {},
     "outputs": []
    },
    {
     "cell_type": "markdown",
     "metadata": {},
     "source": [
      "\n",
      "Histogram based on 20000 simulated results."
     ]
    },
    {
     "cell_type": "heading",
     "level": 3,
     "metadata": {
      "slideshow": {
       "slide_type": "slide"
      }
     },
     "source": [
      "Betting on  RED\n",
      " 1000 times, starting with 100$"
     ]
    },
    {
     "cell_type": "code",
     "collapsed": false,
     "input": [
      "from matplotlib import rc\n",
      "import pylab, numpy as np, sys\n",
      "np.random.seed(0);import random; random.seed(0)\n",
      "initial = 100\n",
      "\n",
      "results = []\n",
      "n = 1000\n",
      "for _ in range(20000):\n",
      "    draws = np.random.binomial(n, 18/38.)\n",
      "    results.append(initial + 10 * draws - 10 * (n - draws))\n",
      "\n",
      "pylab.hist(results, bins=10)\n",
      "results = np.array(results)\n",
      "pylab.title(\"average=%d, SD=%d\" % (int(results.mean()), int(results.std())))"
     ],
     "language": "python",
     "metadata": {},
     "outputs": []
    },
    {
     "cell_type": "markdown",
     "metadata": {},
     "source": [
      "\n",
      "Histogram based on 20000 simulated results."
     ]
    },
    {
     "cell_type": "heading",
     "level": 3,
     "metadata": {
      "slideshow": {
       "slide_type": "slide"
      }
     },
     "source": [
      "The law of averages"
     ]
    },
    {
     "cell_type": "markdown",
     "metadata": {},
     "source": [
      "\n",
      "Average winnings\n",
      "\n",
      "* There is 18/38 chance of winning 10$, and 20/38 chance of losing 10$.\n",
      "* On average, each bet we \"gain\" $\\frac{18}{38} \\times 10\\$ + \\frac{20}{38} \\times (-10\\$) = -\\frac{1}{19} \\times 10\\$ \\approx -0.52\\$$\n",
      "* This is the average of the 38 outcomes in our \"box model\".\n",
      "* Our average winnings after 100 bets is approximately -52$ so we should finish with about 48 $.\n",
      "* Our average winnings after 1000 bets is approximately -520$ so we should finish about 420$ in debt."
     ]
    },
    {
     "cell_type": "heading",
     "level": 3,
     "metadata": {
      "slideshow": {
       "slide_type": "slide"
      }
     },
     "source": [
      "Average and standard deviation"
     ]
    },
    {
     "cell_type": "markdown",
     "metadata": {},
     "source": [
      "\n",
      "Average when drawing from a box\n",
      "\n",
      "* Draw a ticket (with replacement) from a box of balls with values assigned to them (i.e. 10$, -10$).\n",
      "* Repeat this process $n$ times and compute the sum of all the results, calling this the **sum of draws**\n",
      "  .\n",
      "* On average, the **sum of draws**\n",
      "   should be $n \\times \\text{average(values in the box)}$"
     ]
    },
    {
     "cell_type": "heading",
     "level": 3,
     "metadata": {
      "slideshow": {
       "slide_type": "slide"
      }
     },
     "source": [
      "Average and standard deviation"
     ]
    },
    {
     "cell_type": "markdown",
     "metadata": {},
     "source": [
      "\n",
      "Average when drawing from a box\n",
      "\n",
      "* Formula: $\\begin{aligned}\n",
      "       \\text{average({\\bf sum of draws})}\n",
      "       &= n \\times \\text{average(values in the box)}\n",
      "     \\end{aligned}$\n",
      "* We also call the average the expected value $\\text{expected({\\bf sum of draws})} = \\text{average({\\bf sum of draws})}$\n",
      "* Example: when betting  RED\n",
      "   on roulette, the average **sum of 100 bet results**\n",
      "   is -52$."
     ]
    },
    {
     "cell_type": "heading",
     "level": 3,
     "metadata": {
      "slideshow": {
       "slide_type": "slide"
      }
     },
     "source": [
      "Average and standard deviation"
     ]
    },
    {
     "cell_type": "markdown",
     "metadata": {},
     "source": [
      "\n",
      "Chance error\n",
      "\n",
      "* Of course, we don\u2019t always end up with 48$ after one hundred bets.\n",
      "* I simulated the entire experiment 20000 times and recorded the results in **simulation results**\n",
      "  , a reasonable guess for how close to 48$ we would be $\\text{SD({\\bf simulation results})}$\n",
      "* It turns out that this is $\\approx 100 \\$ $.\n",
      "* Even though, on average, we should have 48$ after 100 bets, our winnings can fluctuate on the order of 100$.\n",
      "* Even though, on average, we should have -420$, our winnings can fluctuate on the order of 300$."
     ]
    },
    {
     "cell_type": "heading",
     "level": 3,
     "metadata": {
      "slideshow": {
       "slide_type": "slide"
      }
     },
     "source": [
      "Average and standard deviation"
     ]
    },
    {
     "cell_type": "markdown",
     "metadata": {},
     "source": [
      "\n",
      "Chance error\n",
      "\n",
      "* We define the *chance error*\n",
      "   of the experiment by $\\text{{\\bf sum of draws}} = \\text{expected({\\bf sum of draws})} + \\text{chance error}.$\n",
      "* Example:\n",
      "*     * We are going to flip a fair coin 100 times and record the number of heads.\n",
      "      * After 100 flips we observe 56 heads.\n",
      "      * The chance error is 6 because the expected number of heads is 50."
     ]
    },
    {
     "cell_type": "heading",
     "level": 3,
     "metadata": {
      "slideshow": {
       "slide_type": "slide"
      }
     },
     "source": [
      "Average and standard error"
     ]
    },
    {
     "cell_type": "markdown",
     "metadata": {},
     "source": [
      "\n",
      "Square root rule\n",
      "\n",
      "* Draw a ticket (with replacement) from a box of balls with values assigned to them (i.e. 10$, -10$).\n",
      "* Repeat this process $n$ times and compute the **sum of draws**\n",
      "  .\n",
      "* The **sum of draws**\n",
      "   should be near the average but likely to be off by $\\text{SE({\\bf sum of draws})} = \\sqrt{n} \\times \\text{SD}(\\text{values in the box})$\n",
      "* We call this the *standard error*\n",
      "  . It measures the typical size of *chance error*\n",
      "  ."
     ]
    },
    {
     "cell_type": "heading",
     "level": 3,
     "metadata": {
      "slideshow": {
       "slide_type": "slide"
      }
     },
     "source": [
      "Average and standard error"
     ]
    },
    {
     "cell_type": "markdown",
     "metadata": {},
     "source": [
      "\n",
      "Difference between SD and SE\n",
      "\n",
      "SD is for data * It is a function that take a list of numbers and returns a number.\n",
      "SE is for chance * It takes a chance process like drawing 10 balls from a box of numbers and returns a number."
     ]
    },
    {
     "cell_type": "heading",
     "level": 3,
     "metadata": {
      "slideshow": {
       "slide_type": "slide"
      }
     },
     "source": [
      "Average and standard error"
     ]
    },
    {
     "cell_type": "markdown",
     "metadata": {},
     "source": [
      "\n",
      "Short cut\n",
      "\n",
      "* Suppose there are only two values on the tickets, say, $V_1, V_2$ with proportion $p$ having value $V_1$.\n",
      "* Then $\\text{SD(values in the box)} = |V_1-V_2| \\times \\sqrt{p \\times (1-p)}$"
     ]
    },
    {
     "cell_type": "heading",
     "level": 3,
     "metadata": {
      "slideshow": {
       "slide_type": "slide"
      }
     },
     "source": [
      "Average and standard error"
     ]
    },
    {
     "cell_type": "markdown",
     "metadata": {},
     "source": [
      "\n",
      "Example\n",
      "\n",
      "* In our  RED\n",
      "   roulette example, $V_1=10 \\$, V_2=-10\\$ $ and $p=18/38$.\n",
      "* The shortcut says that $\\text{SD(values in the box)} = 20 \\$ \\times \\sqrt{\\frac{18}{38} \\times \\frac{20}{38}} \\approx 10\\$.$\n",
      "* The square root rule says that $\\text{SE(sum of 100 bet results)} = \\sqrt{100} \\times 10\\$ \\approx 100\\$.$\n",
      "* The square root rule says that $\\text{SE(sum of 1000 bet results)} = \\sqrt{1000} \\times 10\\$ \\approx 300\\$.$"
     ]
    },
    {
     "cell_type": "heading",
     "level": 3,
     "metadata": {
      "slideshow": {
       "slide_type": "slide"
      }
     },
     "source": [
      "Roulette"
     ]
    },
    {
     "cell_type": "code",
     "collapsed": false,
     "input": [
      "from matplotlib import rc\n",
      "import pylab, numpy as np, sys\n",
      "np.random.seed(0);import random; random.seed(0)\n",
      "dx = 0.02\n",
      "X, Y = np.mgrid[0.2:0.8:5j,0:1:8j]\n",
      "X += np.random.uniform(0,1,X.shape) * dx - dx / 2\n",
      "Y += np.random.uniform(0,1,Y.shape) * dx - dx / 2\n",
      "ts = range(1,37) + ['0', '00']\n",
      "success = [5]\n",
      "tt = [('F', 'yellow')] * 38\n",
      "for r in success:\n",
      "    tt[r] = ('S', 'pink')\n",
      "#np.random.shuffle(tt)\n",
      "X.shape = -1; Y.shape = -1\n",
      "g = np.array([t[1] == 'pink' for t in tt])\n",
      "pylab.scatter(X[:38][g],Y[:38][g],s=500, c='pink', alpha=0.5)\n",
      "pylab.scatter(X[:38][~g],Y[:38][~g],s=500, c='yellow', alpha=0.5)\n",
      "for i, t in enumerate(tt):\n",
      "    pylab.text(X[i], Y[i], t[0], color='black', ha='center', va='center')\n",
      "\n",
      "pylab.gca().set_xticks([])\n",
      "pylab.gca().set_yticks([])\n",
      "pylab.gca().set_xlim([X.min()-0.1,X.max()+0.1])\n",
      "pylab.gca().set_ylim([Y.min()-0.1,Y.max()+0.2])"
     ],
     "language": "python",
     "metadata": {},
     "outputs": []
    },
    {
     "cell_type": "markdown",
     "metadata": {},
     "source": [
      "\n",
      "Betting on  5\n",
      ": 1 balls is a success."
     ]
    },
    {
     "cell_type": "heading",
     "level": 3,
     "metadata": {
      "slideshow": {
       "slide_type": "slide"
      }
     },
     "source": [
      "Box model for winnings"
     ]
    },
    {
     "cell_type": "code",
     "collapsed": false,
     "input": [
      "from matplotlib import rc\n",
      "import pylab, numpy as np, sys\n",
      "np.random.seed(0);import random; random.seed(0)\n",
      "dx = 0.02\n",
      "X, Y = np.mgrid[0.2:0.8:5j,0:1:8j]\n",
      "X += np.random.uniform(0,1,X.shape) * dx - dx / 2\n",
      "Y += np.random.uniform(0,1,Y.shape) * dx - dx / 2\n",
      "ts = range(1,37) + ['0', '00']\n",
      "success = [5]\n",
      "tt = [('-10\\$', 'yellow')] * 38\n",
      "for r in success:\n",
      "    tt[r] = ('+350\\$', 'pink')\n",
      "#np.random.shuffle(tt)\n",
      "X.shape = -1; Y.shape = -1\n",
      "g = np.array([t[1] == 'pink' for t in tt])\n",
      "pylab.scatter(X[:38][g],Y[:38][g],s=700, c='red')\n",
      "pylab.scatter(X[:38][~g],Y[:38][~g],s=700, c='yellow', alpha=0.5)\n",
      "for i, t in enumerate(tt):\n",
      "    pylab.text(X[i], Y[i], t[0], color='black', ha='center', va='center',\n",
      "               fontsize=10)\n",
      "\n",
      "pylab.gca().set_xticks([])\n",
      "pylab.gca().set_yticks([])\n",
      "pylab.gca().set_xlim([X.min()-0.1,X.max()+0.1])\n",
      "pylab.gca().set_ylim([Y.min()-0.1,Y.max()+0.2])"
     ],
     "language": "python",
     "metadata": {},
     "outputs": []
    },
    {
     "cell_type": "markdown",
     "metadata": {},
     "source": [
      "\n",
      "Betting 10$ on  5\n",
      ": win 350$ with probability 1/38"
     ]
    },
    {
     "cell_type": "heading",
     "level": 3,
     "metadata": {
      "slideshow": {
       "slide_type": "slide"
      }
     },
     "source": [
      "Box model for winnings"
     ]
    },
    {
     "cell_type": "code",
     "collapsed": false,
     "input": [
      "from matplotlib import rc\n",
      "import pylab, numpy as np, sys\n",
      "np.random.seed(0);import random; random.seed(0)\n",
      "dx = 0.02\n",
      "X, Y = np.mgrid[0.2:0.8:5j,0:1:8j]\n",
      "X += np.random.uniform(0,1,X.shape) * dx - dx / 2\n",
      "Y += np.random.uniform(0,1,Y.shape) * dx - dx / 2\n",
      "ts = range(1,37) + ['0', '00']\n",
      "success = [5]\n",
      "tt = [('-10\\$', 'yellow')] * 38\n",
      "for r in success:\n",
      "    tt[r] = ('+350\\$', 'pink')\n",
      "#np.random.shuffle(tt)\n",
      "X.shape = -1; Y.shape = -1\n",
      "g = np.array([t[1] == 'pink' for t in tt])\n",
      "pylab.scatter(X[:38][g],Y[:38][g],s=700, c='pink', alpha=0.5)\n",
      "pylab.scatter(X[:38][~g],Y[:38][~g],s=700, c='yellow')\n",
      "for i, t in enumerate(tt):\n",
      "    pylab.text(X[i], Y[i], t[0], color='black', ha='center', va='center',\n",
      "               fontsize=10)\n",
      "\n",
      "pylab.gca().set_xticks([])\n",
      "pylab.gca().set_yticks([])\n",
      "pylab.gca().set_xlim([X.min()-0.1,X.max()+0.1])\n",
      "pylab.gca().set_ylim([Y.min()-0.1,Y.max()+0.2])"
     ],
     "language": "python",
     "metadata": {},
     "outputs": []
    },
    {
     "cell_type": "markdown",
     "metadata": {},
     "source": [
      "\n",
      "Betting 10$ on  5\n",
      ": lose 10$ with probability 37/38"
     ]
    },
    {
     "cell_type": "heading",
     "level": 3,
     "metadata": {
      "slideshow": {
       "slide_type": "slide"
      }
     },
     "source": [
      "Betting on  5\n",
      " 10 times, starting with 100$"
     ]
    },
    {
     "cell_type": "code",
     "collapsed": false,
     "input": [
      "from matplotlib import rc\n",
      "import pylab, numpy as np, sys\n",
      "np.random.seed(0);import random; random.seed(0)\n",
      "initial = 100\n",
      "\n",
      "results = []\n",
      "n = 10\n",
      "for _ in range(20000):\n",
      "    draws = np.random.binomial(n, 1/38.)\n",
      "    results.append(initial + 350 * draws - 10 * (n - draws))\n",
      "\n",
      "pylab.hist(results, bins=10)\n",
      "results = np.array(results)\n",
      "pylab.title(\"average=%d, SD=%d\" % (int(results.mean()), int(results.std())))"
     ],
     "language": "python",
     "metadata": {},
     "outputs": []
    },
    {
     "cell_type": "markdown",
     "metadata": {},
     "source": [
      "\n",
      "Histogram based on 20000 simulated results."
     ]
    },
    {
     "cell_type": "heading",
     "level": 3,
     "metadata": {
      "slideshow": {
       "slide_type": "slide"
      }
     },
     "source": [
      "Betting on  5\n",
      " 100 times, starting with 100$"
     ]
    },
    {
     "cell_type": "code",
     "collapsed": false,
     "input": [
      "from matplotlib import rc\n",
      "import pylab, numpy as np, sys\n",
      "np.random.seed(0);import random; random.seed(0)\n",
      "initial = 100\n",
      "\n",
      "results = []\n",
      "n = 100\n",
      "for _ in range(20000):\n",
      "    draws = np.random.binomial(n, 1/38.)\n",
      "    results.append(initial + 350 * draws - 10 * (n - draws))\n",
      "\n",
      "pylab.hist(results, bins=10)\n",
      "results = np.array(results)\n",
      "pylab.title(\"average=%d, SD=%d\" % (int(results.mean()), int(results.std())))"
     ],
     "language": "python",
     "metadata": {},
     "outputs": []
    },
    {
     "cell_type": "markdown",
     "metadata": {},
     "source": [
      "\n",
      "Histogram based on 20000 simulated results."
     ]
    },
    {
     "cell_type": "heading",
     "level": 3,
     "metadata": {
      "slideshow": {
       "slide_type": "slide"
      }
     },
     "source": [
      "Betting on  5\n",
      " 1000 times, starting with 100$"
     ]
    },
    {
     "cell_type": "code",
     "collapsed": false,
     "input": [
      "from matplotlib import rc\n",
      "import pylab, numpy as np, sys\n",
      "np.random.seed(0);import random; random.seed(0)\n",
      "initial = 100\n",
      "\n",
      "results = []\n",
      "n = 1000\n",
      "for _ in range(20000):\n",
      "    draws = np.random.binomial(n, 1/38.)\n",
      "    results.append(initial + 350 * draws - 10 * (n - draws))\n",
      "\n",
      "pylab.hist(results, bins=10)\n",
      "results = np.array(results)\n",
      "pylab.title(\"average=%d, SD=%d\" % (int(results.mean()), int(results.std())))"
     ],
     "language": "python",
     "metadata": {},
     "outputs": []
    },
    {
     "cell_type": "markdown",
     "metadata": {},
     "source": [
      "\n",
      "Histogram based on 20000 simulated results."
     ]
    }
   ],
   "metadata": {}
  }
 ]
}
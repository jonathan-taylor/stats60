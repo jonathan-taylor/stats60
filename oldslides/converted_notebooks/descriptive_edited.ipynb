{
 "metadata": {
  "name": ""
 },
 "nbformat": 3,
 "nbformat_minor": 0,
 "worksheets": [
  {
   "cells": [
    {
     "cell_type": "code",
     "collapsed": false,
     "input": [
      "%load_ext rmagic"
     ],
     "language": "python",
     "metadata": {
      "slideshow": {
       "slide_type": "skip"
      }
     },
     "outputs": []
    },
    {
     "cell_type": "heading",
     "level": 3,
     "metadata": {
      "slideshow": {
       "slide_type": "slide"
      }
     },
     "source": [
      "Descriptive statistics"
     ]
    },
    {
     "cell_type": "markdown",
     "metadata": {},
     "source": [
      "\n",
      "Different types of data\n",
      "\n",
      "* Categorical data (e.g. what type of high school).\n",
      "* Ordinal data (e.g. number of missed lectures).\n",
      "* Continuous data (e.g. age of incoming freshmen).\n",
      "* Categorical also called *qualitative*\n",
      "  \n",
      "* Ordinal also called *discrete quantitative*\n",
      "  "
     ]
    },
    {
     "cell_type": "heading",
     "level": 3,
     "metadata": {
      "slideshow": {
       "slide_type": "slide"
      }
     },
     "source": [
      "Summarizing categorical data"
     ]
    },
    {
     "cell_type": "markdown",
     "metadata": {},
     "source": [
      "\n",
      "Pie graph\n",
      "\n",
      "* Each category has a sector of the pie.\n",
      "* Area of wedges proportional to percentage.\n",
      "* If 58 % went to public school, wedge for public school has angle $\\frac{58}{100} * 360^{\\circ} \\approx 210^{\\circ}$"
     ]
    },
    {
     "cell_type": "heading",
     "level": 3,
     "metadata": {
      "slideshow": {
       "slide_type": "slide"
      }
     },
     "source": [
      "Where Stanford undergrads went to high school"
     ]
    },
    {
     "cell_type": "code",
     "collapsed": false,
     "input": [
      "from matplotlib import rc\n",
      "import pylab, numpy as np, sys\n",
      "np.random.seed(0);import random; random.seed(0)\n",
      "fracs = [10.2, 57.6, 31.8, 0.4]\n",
      "labels = ['International', 'Public', 'Private', 'Home School']\n",
      "pylab.pie(fracs, labels=labels, autopct='%1.0f%%', shadow=True)"
     ],
     "language": "python",
     "metadata": {},
     "outputs": []
    },
    {
     "cell_type": "heading",
     "level": 3,
     "metadata": {
      "slideshow": {
       "slide_type": "slide"
      }
     },
     "source": [
      "Summarizing ordinal data"
     ]
    },
    {
     "cell_type": "markdown",
     "metadata": {},
     "source": [
      "\n",
      "Missed lectures\n",
      "\n",
      "\n",
      "Courses | Percentage\n",
      "--- | ---\n",
      "0 | 75 %\n",
      "1 | 7 %\n",
      "2 | 3 %\n",
      "3 | 4 %\n",
      "4 | 6 %\n",
      "5 | 5 %"
     ]
    },
    {
     "cell_type": "heading",
     "level": 3,
     "metadata": {
      "slideshow": {
       "slide_type": "slide"
      }
     },
     "source": [
      "Number of missed lectures."
     ]
    },
    {
     "cell_type": "code",
     "collapsed": false,
     "input": [
      "from matplotlib import rc\n",
      "import pylab, numpy as np, sys\n",
      "np.random.seed(0);import random; random.seed(0)\n",
      "pylab.bar(range(6),[75,7,3,4,6,5], width=0.1); pylab.show()"
     ],
     "language": "python",
     "metadata": {},
     "outputs": []
    },
    {
     "cell_type": "heading",
     "level": 3,
     "metadata": {
      "slideshow": {
       "slide_type": "slide"
      }
     },
     "source": [
      "Summarizing continuous data"
     ]
    },
    {
     "cell_type": "markdown",
     "metadata": {},
     "source": [
      "\n",
      "California age demographics\n",
      "\n",
      "\n",
      "Age group | Count | Percentage\n",
      "--- | --- | ---\n",
      "0-20 | 10000000 | 29%\n",
      "20-55 | 17500000 | 17500000 / 34000000 = 52%\n",
      "55-75 | 4500000 | 13%\n",
      "75+ | 2000000 | 6%\n",
      "Total | 34000000 | 100 %\n",
      "Summarizing a continuous variable\n",
      "\n",
      "* Special type of bar graph: histogram.\n",
      "* Areas of bars correspond to percentage.\n",
      "* Total percentage is 100%.\n",
      "* Height of bars is *density*\n",
      "  .\n",
      "* Area is *density*\n",
      "   * *width*\n",
      "  ."
     ]
    },
    {
     "cell_type": "heading",
     "level": 3,
     "metadata": {
      "slideshow": {
       "slide_type": "slide"
      }
     },
     "source": [
      "Histogram"
     ]
    },
    {
     "cell_type": "code",
     "collapsed": false,
     "input": [
      "from matplotlib import rc\n",
      "import pylab, numpy as np, sys\n",
      "np.random.seed(0);import random; random.seed(0)\n",
      "import pylab\n",
      "bins = [0,20,55,75,100]\n",
      "count = [29,52,13,6]\n",
      "PL_density(count, bins)\n",
      "pylab.gca().set_xlim([0,100])\n",
      "pylab.gca().set_ylim([0,2.])\n",
      "pylab.gca().set_ylabel('Percent per year')\n",
      "pylab.gca().set_xlabel('Age (years)')"
     ],
     "language": "python",
     "metadata": {},
     "outputs": []
    },
    {
     "cell_type": "markdown",
     "metadata": {},
     "source": [
      "\n",
      "Histogram example\n",
      "\n",
      "$\\text{Percentage in 20-55 age group} = \\left(1.5 \\, \\frac{\\%}{\\text{year}} \\right) * \\left( 35 \\, \\text{years} \\right) \\approx 52 \\%.$"
     ]
    },
    {
     "cell_type": "heading",
     "level": 3,
     "metadata": {
      "slideshow": {
       "slide_type": "slide"
      }
     },
     "source": [
      "Cautions about visualization"
     ]
    },
    {
     "cell_type": "markdown",
     "metadata": {},
     "source": [
      "\n",
      "[Wikipedia](http://en.wikipedia.org/wiki/Household_income_in_the_United_States)"
     ]
    },
    {
     "cell_type": "heading",
     "level": 3,
     "metadata": {
      "slideshow": {
       "slide_type": "slide"
      }
     },
     "source": [
      "Corrected plot"
     ]
    },
    {
     "cell_type": "code",
     "collapsed": false,
     "input": [
      "from matplotlib import rc\n",
      "import pylab, numpy as np, sys\n",
      "np.random.seed(0);import random; random.seed(0)\n",
      "import matplotlib.mlab as ML\n",
      "A = ML.csv2rec('%s/householdincome2006.csv' % datadir, delimiter=';')\n",
      "breaks = np.array([0, 10,20,30,40,50,60,70,80,90,100,150,200,np.inf])*1000\n",
      "count = []\n",
      "for l, u in zip(breaks, breaks[1:]):\n",
      "    g = (A['lower'] < u) * (A['upper'] >= l)\n",
      "    count.append(A['count'][g].sum())\n",
      "breaks[-1] = 300000\n",
      "PL_density(count, breaks)\n",
      "pylab.gca().set_yticks([])\n",
      "pylab.gca().set_xticks(np.arange(13)*25000)\n",
      "pylab.gca().set_xticklabels(np.arange(13)*25)\n",
      "pylab.gca().set_xlabel('Income (1000s)')"
     ],
     "language": "python",
     "metadata": {},
     "outputs": []
    },
    {
     "cell_type": "markdown",
     "metadata": {},
     "source": [
      "\n",
      "http://pubdb3.census.gov/macro/032007/hhinc/new06<sup>0</sup>00.htm"
     ]
    },
    {
     "cell_type": "heading",
     "level": 3,
     "metadata": {
      "slideshow": {
       "slide_type": "slide"
      }
     },
     "source": [
      "Cautions about visualization"
     ]
    },
    {
     "cell_type": "markdown",
     "metadata": {},
     "source": [
      "\n",
      "[http://lilt.ilstu.edu/jpda/](http://lilt.ilstu.edu/jpda/)"
     ]
    },
    {
     "cell_type": "heading",
     "level": 3,
     "metadata": {
      "slideshow": {
       "slide_type": "slide"
      }
     },
     "source": [
      "Cautions about visualization"
     ]
    },
    {
     "cell_type": "markdown",
     "metadata": {},
     "source": [
      "\n",
      "[http://lilt.ilstu.edu/jpda/](http://lilt.ilstu.edu/jpda/)"
     ]
    },
    {
     "cell_type": "heading",
     "level": 3,
     "metadata": {
      "slideshow": {
       "slide_type": "slide"
      }
     },
     "source": [
      "Cautions about visualization"
     ]
    },
    {
     "cell_type": "markdown",
     "metadata": {},
     "source": [
      "\n",
      "[http://lilt.ilstu.edu/jpda/](http://lilt.ilstu.edu/jpda/)"
     ]
    },
    {
     "cell_type": "heading",
     "level": 3,
     "metadata": {
      "slideshow": {
       "slide_type": "slide"
      }
     },
     "source": [
      "Cautions about visualization"
     ]
    },
    {
     "cell_type": "markdown",
     "metadata": {},
     "source": [
      "\n",
      "[http://lilt.ilstu.edu/jpda/](http://lilt.ilstu.edu/jpda/)"
     ]
    }
   ],
   "metadata": {}
  }
 ]
}
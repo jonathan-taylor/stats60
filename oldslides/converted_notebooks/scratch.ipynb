{
 "metadata": {
  "name": ""
 },
 "nbformat": 3,
 "nbformat_minor": 0,
 "worksheets": [
  {
   "cells": [
    {
     "cell_type": "code",
     "collapsed": false,
     "input": [
      "%load_ext rmagic"
     ],
     "language": "python",
     "metadata": {
      "slideshow": {
       "slide_type": "skip"
      }
     },
     "outputs": []
    },
    {
     "cell_type": "heading",
     "level": 3,
     "metadata": {
      "slideshow": {
       "slide_type": "slide"
      }
     },
     "source": [
      "What we know after polling \u2026"
     ]
    },
    {
     "cell_type": "code",
     "collapsed": false,
     "input": [
      "from matplotlib import rc\n",
      "import pylab, numpy as np, sys\n",
      "np.random.seed(0);import random; random.seed(0)\n",
      "sys.path.append('/private/var/folders/dq/4_9bwd013ln6vvf_q110mwrh0000gn/T/tmpbHetqW')\n",
      "f=pylab.gcf(); f.set_size_inches(8.0,6.0)\n",
      "datadir ='/private/var/folders/dq/4_9bwd013ln6vvf_q110mwrh0000gn/T/tmpbHetqW/data'\n",
      "import random\n",
      "n = 10000\n",
      "s = 500\n",
      "X = np.ones(n, np.float)\n",
      "X[:int(.48*n)] = 0.\n",
      "data = [100 * np.array(random.sample(X, s)).sum() / s for _ in range(2000)]\n",
      "pylab.hist(data, color='orange')\n",
      "pylab.gca().set_xlabel('Support (%)')\n",
      "pylab.gca().set_ylabel('Count (out of 2000)')\n",
      "pylab.title(\"average=%0.1f, SD=%0.1f\" % (np.mean(data), np.std(data)))"
     ],
     "language": "python",
     "metadata": {},
     "outputs": []
    },
    {
     "cell_type": "markdown",
     "metadata": {},
     "source": [
      "\n",
      "Sample of 500 with replacement"
     ]
    }
   ],
   "metadata": {}
  }
 ]
}
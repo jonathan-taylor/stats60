{
 "metadata": {
  "name": ""
 },
 "nbformat": 3,
 "nbformat_minor": 0,
 "worksheets": [
  {
   "cells": [
    {
     "cell_type": "code",
     "collapsed": false,
     "input": [
      "%load_ext rmagic"
     ],
     "language": "python",
     "metadata": {
      "slideshow": {
       "slide_type": "skip"
      }
     },
     "outputs": []
    },
    {
     "cell_type": "heading",
     "level": 3,
     "metadata": {
      "slideshow": {
       "slide_type": "slide"
      }
     },
     "source": [
      "Testing hypotheses"
     ]
    },
    {
     "cell_type": "markdown",
     "metadata": {},
     "source": [
      "\n",
      "Online gaming\n",
      "\n",
      "* If you play online poker or roulette, how do you know it\u2019s fair?\n",
      "* I placed 10 bets on  RED\n",
      "   on [http://www.roulette4fun.com/roulette-games/classic-roulette](http://www.roulette4fun.com/roulette-games/classic-roulette).\n",
      "* These are the results: [0,0,1,0,1,0,0,1,0,1].\n",
      "* Is the game fair?"
     ]
    },
    {
     "cell_type": "heading",
     "level": 3,
     "metadata": {
      "slideshow": {
       "slide_type": "slide"
      }
     },
     "source": [
      "Testing hypotheses"
     ]
    },
    {
     "cell_type": "markdown",
     "metadata": {},
     "source": [
      "\n",
      "Example (continued)\n",
      "\n",
      "* I *observed*\n",
      "   4 successes.\n",
      "* If the roulette wheel is fair, I would expect to see $10 \\times 18/ 38=4.7$ successes, give or take $\\sqrt{10} \\times \\sqrt{18/38 \\times 20/38}=1.4$.\n",
      "* In standardized units, my observed 4 successes converts to $\\frac{{\\color{orange} 4} - {\\color{blue} 4.7}}{{\\color{blue} 1.4}} = {\\color{orange} -0.5}$\n",
      "* This seems reasonable, it is not very large relative to 1 and it could be just a chance error. After all, chance errors are typically size 1 in standardized units."
     ]
    },
    {
     "cell_type": "heading",
     "level": 3,
     "metadata": {
      "slideshow": {
       "slide_type": "slide"
      }
     },
     "source": [
      "Testing hypotheses"
     ]
    },
    {
     "cell_type": "markdown",
     "metadata": {},
     "source": [
      "\n",
      "Example (continued)\n",
      "\n",
      "* I placed 10 more identical bets, with results [1,0,1,1,1,1,0,1,0,0]. So, in 20 bets, I have observed 10 successes.\n",
      "* If the roulette game is fair, I would expect to see $20 \\times 18/ 38=9.5$ successes, give or take $\\sqrt{20} \\times \\sqrt{18/38 \\times 20/38}=2.2$.\n",
      "* In standardized units, my observed 10 successes converts to $\\frac{{\\color{orange} 10} - {\\color{blue} 9.5}}{{\\color{blue} 2.3}} = {\\color{orange} 0.2}$\n",
      "* Again, this seems reasonable, it is not very large relative to 1 and it could be just a chance error. After all, chance errors are typically size 1 in standardized units."
     ]
    },
    {
     "cell_type": "heading",
     "level": 3,
     "metadata": {
      "slideshow": {
       "slide_type": "slide"
      }
     },
     "source": [
      "Testing hypotheses"
     ]
    },
    {
     "cell_type": "markdown",
     "metadata": {},
     "source": [
      "\n",
      "What can I conclude?\n",
      "\n",
      "* Based on betting on  RED\n",
      "  , I cannot conclude that the roulette wheel is rigged.\n",
      "* It is possible that some other bets might not have matched the expected number of successes as well. I can only draw a conclusion based on my 20 bets on  RED\n",
      "  .\n",
      "* In statistical terms, the statement \"the roulette game is rigged\" is called a *hypothesis*\n",
      "  . In this case, we call it the *alternative hypothesis*\n",
      "  .\n",
      "* Alternative to what? It is an alternative to the *null hypothesis*\n",
      "   which is \"the roulette game is fair.\""
     ]
    },
    {
     "cell_type": "heading",
     "level": 3,
     "metadata": {
      "slideshow": {
       "slide_type": "slide"
      }
     },
     "source": [
      "Testing hypotheses"
     ]
    },
    {
     "cell_type": "markdown",
     "metadata": {},
     "source": [
      "\n",
      "Null and alternative hypotheses\n",
      "\n",
      "* The naming of the hypotheses corresponds to an \"innocent until proven guilty\" approach.\n",
      "* Since our observations (in standardized units) seem attributable to chance variation, we decided we cannot declare the null hypothesis to be false. Or, we cannot reject the null hypothesis.\n",
      "* In legalese, \"there is reasonable doubt to the guilt of the roulette game so we do not convict\"."
     ]
    },
    {
     "cell_type": "heading",
     "level": 3,
     "metadata": {
      "slideshow": {
       "slide_type": "slide"
      }
     },
     "source": [
      "Testing hypotheses"
     ]
    },
    {
     "cell_type": "markdown",
     "metadata": {},
     "source": [
      "\n",
      "A different scenario\n",
      "\n",
      "* What if the second 10 results were [0,0,0,0,0,0,0,0,0,0]? Then, we would have observed only 4 successes in 20 draws from our 0-1 box.\n",
      "* In standardized units, this 4 converts to $\\frac{{\\color{orange} 4} - {\\color{blue} 9.5}}{{\\color{blue} 2.3}} = {\\color{orange} -2.5}$\n",
      "* This would be a little suspect \u2026\n",
      "* In fact, if the roulette wheel were fair, there is only a 1.2% chance that I would have had so few successes in 20 bets."
     ]
    },
    {
     "cell_type": "heading",
     "level": 3,
     "metadata": {
      "slideshow": {
       "slide_type": "slide"
      }
     },
     "source": [
      "What are the chances?"
     ]
    },
    {
     "cell_type": "code",
     "collapsed": false,
     "input": [
      "from matplotlib import rc\n",
      "import pylab, numpy as np, sys\n",
      "np.random.seed(0);import random; random.seed(0)\n",
      "sys.path.append('/private/var/folders/dq/4_9bwd013ln6vvf_q110mwrh0000gn/T/tmpAnmGpx')\n",
      "f=pylab.gcf(); f.set_size_inches(8.0,6.0)\n",
      "datadir ='/private/var/folders/dq/4_9bwd013ln6vvf_q110mwrh0000gn/T/tmpAnmGpx/data'\n",
      "import pylab, numpy as np\n",
      "x = np.linspace(-4,4,101)\n",
      "y = np.exp(-x**2/2) / np.sqrt(2*np.pi)\n",
      "x2 = np.linspace(-4,-2.25,101)\n",
      "y2 = np.exp(-x2**2/2) / np.sqrt(2*np.pi)\n",
      "pylab.plot(x,y*100, linewidth=2)\n",
      "xf, yf = pylab.poly_between(x2, 0*x2, y2*100)\n",
      "pylab.fill(xf, yf, facecolor='red', hatch='\\\\', alpha=0.5)\n",
      "pylab.gca().set_xlabel('standardized units')\n",
      "pylab.gca().set_ylabel('% per standardized unit')\n",
      "#pylab.gca().set_xlim([-2,4])\n",
      "#pylab.gca().set_yticks([])"
     ],
     "language": "python",
     "metadata": {},
     "outputs": []
    },
    {
     "cell_type": "markdown",
     "metadata": {},
     "source": [
      "\n",
      "Continuity correction yields $z=-2.25$, area is 1.2%."
     ]
    },
    {
     "cell_type": "heading",
     "level": 3,
     "metadata": {
      "slideshow": {
       "slide_type": "slide"
      }
     },
     "source": [
      "Testing hypotheses"
     ]
    },
    {
     "cell_type": "markdown",
     "metadata": {},
     "source": [
      "\n",
      "$P$-values\n",
      "\n",
      "* The chances we computed are the chances, if the roulette game was fair, that we would observe a standardized less than our observed standardized value of  -2.5\n",
      "  .\n",
      "* In general, if we test a null hypothesis with some  observed data\n",
      "   or  observed test statistic\n",
      "  , the  $P$-value\n",
      "   is the chance, assuming the null hypothesis is true, that we would observe such an extreme test statistic.\n",
      "* In this test, we call the  observed test statistic\n",
      "   a  $z$-statistic\n",
      "   or  $z$-score\n",
      "  .\n",
      "* These tests are called * $z$ tests*\n",
      "  .\n",
      "* Why color the  $P$-value\n",
      "   orange? Because it is random \u2026"
     ]
    },
    {
     "cell_type": "heading",
     "level": 3,
     "metadata": {
      "slideshow": {
       "slide_type": "slide"
      }
     },
     "source": [
      "Testing hypotheses"
     ]
    },
    {
     "cell_type": "markdown",
     "metadata": {},
     "source": [
      "\n",
      "$P$-values\n",
      "\n",
      "* ** The P-value is NOT the chances that the null hypothesis is correct!**\n",
      "  \n",
      "* Why not?\n",
      "*     * The online roulette game is fair or it is not. The null hypothesis is true or it is false.\n",
      "      * If the  $P$-value\n",
      "         were the chances the null hypothesis is correct, these chances would be  random\n",
      "         \u2026\n",
      "* There is a methodology, called Bayesian statistics in which one *can*\n",
      "   compute the chances the null hypothesis is correct \u2026"
     ]
    },
    {
     "cell_type": "heading",
     "level": 3,
     "metadata": {
      "slideshow": {
       "slide_type": "slide"
      }
     },
     "source": [
      "Testing hypotheses"
     ]
    },
    {
     "cell_type": "markdown",
     "metadata": {},
     "source": [
      "\n",
      "Chances the roulette wheel is fair\n",
      "\n",
      "* Suppose we declare, before seeing data: \"the probability the success rate on  RED\n",
      "   is 18/38 is 70%, and the probability the success rate on  RED\n",
      "   is 12/38 is 30%\".\n",
      "* Call these two hypotheses $H_0, H_1$ and we have just said $P({\\color{orange} \\text{$H<sup>0</sup>$ is true}})=0.7, P({\\color{orange} \\text{$H<sup>1</sup>$ is true}})=0.3$."
     ]
    },
    {
     "cell_type": "heading",
     "level": 3,
     "metadata": {
      "slideshow": {
       "slide_type": "slide"
      }
     },
     "source": [
      "Testing hypotheses"
     ]
    },
    {
     "cell_type": "markdown",
     "metadata": {},
     "source": [
      "\n",
      "Chances the roulette wheel is fair\n",
      "\n",
      "* Suppose now, we observe 4 success from 20 bets but we do not know whether they were from the fair game, $H_0$ or the unfair game $H_1$.\n",
      "* Bayes\u2019 rule says $$\n",
      "* \n",
      "  & =\n",
      "  & = 15%.\n",
      "* $$\n",
      "* Are the chances above  not random\n",
      "   or  random\n",
      "  ?"
     ]
    },
    {
     "cell_type": "heading",
     "level": 3,
     "metadata": {
      "slideshow": {
       "slide_type": "slide"
      }
     },
     "source": [
      "Testing hypotheses"
     ]
    },
    {
     "cell_type": "markdown",
     "metadata": {},
     "source": [
      "\n",
      "A second testing scenario\n",
      "\n",
      "* Suppose now we want to see the efficacy of a new drug on blood pressure.\n",
      "* Our study design is: we will treat a large patient population with the drug and measure their blood pressure before and after taking the drug.\n",
      "* One way to conclude that the drug is effective if the blood pressure has decreased. That is, if the average difference is negative."
     ]
    },
    {
     "cell_type": "heading",
     "level": 3,
     "metadata": {
      "slideshow": {
       "slide_type": "slide"
      }
     },
     "source": [
      "Testing hypotheses"
     ]
    },
    {
     "cell_type": "markdown",
     "metadata": {},
     "source": [
      "\n",
      "Setting up the test\n",
      "\n",
      "* We could set this up as drawing from a box of *differences in blood pressure*\n",
      "  .\n",
      "* The *null hypothesis*\n",
      "  , $H_0$ is: \"the average difference is zero.\"\n",
      "* The *alternative hypothesis*\n",
      "  , $H_a$, is: \"the average difference is less than zero.\"\n",
      "* Sometimes, people will test the alternative, $H_a$: \"the average difference is not zero.\"\n",
      "* We test the null with observed data by estimating the average difference and converting to standardized units."
     ]
    },
    {
     "cell_type": "heading",
     "level": 3,
     "metadata": {
      "slideshow": {
       "slide_type": "slide"
      }
     },
     "source": [
      "Sample of blood pressures"
     ]
    },
    {
     "cell_type": "code",
     "collapsed": false,
     "input": [
      "from matplotlib import rc\n",
      "import pylab, numpy as np, sys\n",
      "np.random.seed(0);import random; random.seed(0)\n",
      "sys.path.append('/private/var/folders/dq/4_9bwd013ln6vvf_q110mwrh0000gn/T/tmpAnmGpx')\n",
      "f=pylab.gcf(); f.set_size_inches(8.0,6.0)\n",
      "datadir ='/private/var/folders/dq/4_9bwd013ln6vvf_q110mwrh0000gn/T/tmpAnmGpx/data'\n",
      "import random\n",
      "X = np.mgrid[0:1:10j,0:1:5j].reshape((2,50)) + np.random.sample((2,50)) * 0.05\n",
      "X = X.T\n",
      "sample = [random.randint(-15,0) for _  in range(50)]\n",
      "for i in range(50):\n",
      "    pylab.text(X[i,0], X[i,1], '%d' % sample[i])\n",
      "\n",
      "    pylab.gca().set_xticks([]);    pylab.gca().set_xlim([-0.1,1.1])\n",
      "    pylab.gca().set_yticks([]);    pylab.gca().set_ylim([-0.1,1.1])\n",
      "pylab.title(\"average(sample)=-7.4, SD(sample)=4.8\") # % (np.mean(sample), np.std(sample)))"
     ],
     "language": "python",
     "metadata": {},
     "outputs": []
    },
    {
     "cell_type": "markdown",
     "metadata": {},
     "source": [
      "\n",
      "Sample of 50"
     ]
    },
    {
     "cell_type": "heading",
     "level": 3,
     "metadata": {
      "slideshow": {
       "slide_type": "slide"
      }
     },
     "source": [
      "Testing hypotheses"
     ]
    },
    {
     "cell_type": "markdown",
     "metadata": {},
     "source": [
      "\n",
      "Evaluating the test\n",
      "\n",
      "* Our observed average is ${-\\color{orange} 7.4}$. We estimate its SE to be ${\\color{orange} 4.8 / \\sqrt{50}=0.7}$.\n",
      "* In standardized units, our observed average converts to $\\frac{{\\color{orange}-7.4} - {\\color{blue} 0}}{\\color{orange} 0.7} \\approx - 10$\n",
      "* The  $P$-value\n",
      "   is 0: there is virtually no chance a standard normal would ever be so small. We reject the null hypothesis $H_0$ and conclude $H_a$: \"the average difference is negative.\""
     ]
    },
    {
     "cell_type": "heading",
     "level": 3,
     "metadata": {
      "slideshow": {
       "slide_type": "slide"
      }
     },
     "source": [
      "Testing hypotheses"
     ]
    },
    {
     "cell_type": "markdown",
     "metadata": {},
     "source": [
      "\n",
      "Example (continued)\n",
      "\n",
      "* Suppose that our null hypothesis was different. We might have begun with the null hypothesis $H_0$: \"the average decrease in blood pressure will be 7 mm Hg\" with alternative $H_a$: \"the average decrease in blood pressure is not 7mm Hg\".\n",
      "* How do we test this hypothesis?\n",
      "* Well, under this null hypothesis our observed average converts to $\\frac{{\\color{orange}-7.4} - ({\\color{blue} -7})}{\\color{orange} 0.7} \\approx -0.6$\n",
      "* This test is *two-sided*\n",
      "  : we did not say greater than or larger than \u2026"
     ]
    },
    {
     "cell_type": "heading",
     "level": 3,
     "metadata": {
      "slideshow": {
       "slide_type": "slide"
      }
     },
     "source": [
      "What are the chances?"
     ]
    },
    {
     "cell_type": "code",
     "collapsed": false,
     "input": [
      "from matplotlib import rc\n",
      "import pylab, numpy as np, sys\n",
      "np.random.seed(0);import random; random.seed(0)\n",
      "sys.path.append('/private/var/folders/dq/4_9bwd013ln6vvf_q110mwrh0000gn/T/tmpAnmGpx')\n",
      "f=pylab.gcf(); f.set_size_inches(8.0,6.0)\n",
      "datadir ='/private/var/folders/dq/4_9bwd013ln6vvf_q110mwrh0000gn/T/tmpAnmGpx/data'\n",
      "import pylab, numpy as np\n",
      "x = np.linspace(-4,4,101)\n",
      "y = np.exp(-x**2/2) / np.sqrt(2*np.pi)\n",
      "x2 = np.linspace(-4,-.6,101)\n",
      "y2 = np.exp(-x2**2/2) / np.sqrt(2*np.pi)\n",
      "pylab.plot(x,y*100, linewidth=2)\n",
      "xf, yf = pylab.poly_between(x2, 0*x2, y2*100)\n",
      "pylab.fill(xf, yf, facecolor='red', hatch='\\\\', alpha=0.5)\n",
      "\n",
      "x2 = np.linspace(.6,4,101)\n",
      "y2 = np.exp(-x2**2/2) / np.sqrt(2*np.pi)\n",
      "pylab.plot(x,y*100, linewidth=2)\n",
      "xf, yf = pylab.poly_between(x2, 0*x2, y2*100)\n",
      "pylab.fill(xf, yf, facecolor='red', hatch='\\\\', alpha=0.5)\n",
      "\n",
      "pylab.gca().set_xlabel('standardized units')\n",
      "pylab.gca().set_ylabel('% per standardized unit')\n",
      "#pylab.gca().set_xlim([-2,4])\n",
      "#pylab.gca().set_yticks([])"
     ],
     "language": "python",
     "metadata": {},
     "outputs": []
    },
    {
     "cell_type": "markdown",
     "metadata": {},
     "source": [
      "\n",
      "Area is 55%, we cannot reject $H_0: \\text{average(difference)}=-7$."
     ]
    },
    {
     "cell_type": "heading",
     "level": 3,
     "metadata": {
      "slideshow": {
       "slide_type": "slide"
      }
     },
     "source": [
      "Testing hypotheses"
     ]
    },
    {
     "cell_type": "markdown",
     "metadata": {},
     "source": [
      "\n",
      "How small should the chances be?\n",
      "\n",
      "* In our examples so far, it has been fairly clear which of the null or alternative is more believable.\n",
      "* In practice, we must decide a threshold at which to reject $H_0$.\n",
      "* A common choice is to use a threshold of 5%. We call this threshold the *level*\n",
      "   or *size*\n",
      "   of the test.\n",
      "* The book declares a * $P$-value*\n",
      "   of $5\\%$ or less to be \"significant\", $1\\%$ or less to be \"highly significant.\""
     ]
    },
    {
     "cell_type": "heading",
     "level": 3,
     "metadata": {
      "slideshow": {
       "slide_type": "slide"
      }
     },
     "source": [
      "Testing hypotheses"
     ]
    },
    {
     "cell_type": "markdown",
     "metadata": {},
     "source": [
      "\n",
      "Rejection rule\n",
      "\n",
      "* Knowing the null and alternative hypotheses and the size of the test, we can define a * rejection rule*\n",
      "  .\n",
      "* For example, if the size is 5%, and $\\begin{aligned}\n",
      "       H_0 &= \\text{average difference is 0 mm Hg} \\\\\n",
      "       H_a &= \\text{average difference is negative} \\\\\n",
      "     \\end{aligned}$\n",
      "* Then, we reject $H_0$ if our $z$ statistic is less than  -1.65\n",
      "  ."
     ]
    },
    {
     "cell_type": "heading",
     "level": 3,
     "metadata": {
      "slideshow": {
       "slide_type": "slide"
      }
     },
     "source": [
      "One sided test"
     ]
    },
    {
     "cell_type": "code",
     "collapsed": false,
     "input": [
      "from matplotlib import rc\n",
      "import pylab, numpy as np, sys\n",
      "np.random.seed(0);import random; random.seed(0)\n",
      "sys.path.append('/private/var/folders/dq/4_9bwd013ln6vvf_q110mwrh0000gn/T/tmpAnmGpx')\n",
      "f=pylab.gcf(); f.set_size_inches(8.0,6.0)\n",
      "datadir ='/private/var/folders/dq/4_9bwd013ln6vvf_q110mwrh0000gn/T/tmpAnmGpx/data'\n",
      "import pylab, numpy as np\n",
      "x = np.linspace(-4,4,101)\n",
      "y = np.exp(-x**2/2) / np.sqrt(2*np.pi)\n",
      "x2 = np.linspace(-4,-1.65,101)\n",
      "y2 = np.exp(-x2**2/2) / np.sqrt(2*np.pi)\n",
      "pylab.plot(x,y*100, linewidth=2)\n",
      "xf, yf = pylab.poly_between(x2, 0*x2, y2*100)\n",
      "pylab.fill(xf, yf, facecolor='red', hatch='\\\\', alpha=0.5)\n",
      "pylab.gca().set_xlabel('standardized units')\n",
      "pylab.gca().set_ylabel('% per standardized unit')\n",
      "#pylab.gca().set_xlim([-2,4])\n",
      "#pylab.gca().set_yticks([])"
     ],
     "language": "python",
     "metadata": {},
     "outputs": []
    },
    {
     "cell_type": "markdown",
     "metadata": {},
     "source": [
      "\n",
      " 5% rejection rule\n",
      " when alternative is negative \u2026"
     ]
    },
    {
     "cell_type": "heading",
     "level": 3,
     "metadata": {
      "slideshow": {
       "slide_type": "slide"
      }
     },
     "source": [
      "Testing hypotheses"
     ]
    },
    {
     "cell_type": "markdown",
     "metadata": {},
     "source": [
      "\n",
      "Example (continued)\n",
      "\n",
      "* Suppose the alternative is now $H_a$: \"the average difference is not 0mm Hg\".\n",
      "* Do we reject $H_0$:\"the average difference is 0mm Hg\"?\n",
      "* In standardized units, our observed average converts to $\\frac{{\\color{orange}-7.4} - {\\color{blue} 0}}{\\color{orange} 0.7} \\approx -10$\n",
      "* Now, -10 is extremely unlikely under $H_0$ but it is likely for values some values of the average difference under $H_a$.\n",
      "* We reject this $H_0$ when the $z$-score is large in absolute value."
     ]
    },
    {
     "cell_type": "heading",
     "level": 3,
     "metadata": {
      "slideshow": {
       "slide_type": "slide"
      }
     },
     "source": [
      "Two sided test"
     ]
    },
    {
     "cell_type": "code",
     "collapsed": false,
     "input": [
      "from matplotlib import rc\n",
      "import pylab, numpy as np, sys\n",
      "np.random.seed(0);import random; random.seed(0)\n",
      "sys.path.append('/private/var/folders/dq/4_9bwd013ln6vvf_q110mwrh0000gn/T/tmpAnmGpx')\n",
      "f=pylab.gcf(); f.set_size_inches(8.0,6.0)\n",
      "datadir ='/private/var/folders/dq/4_9bwd013ln6vvf_q110mwrh0000gn/T/tmpAnmGpx/data'\n",
      "import pylab, numpy as np\n",
      "x = np.linspace(-4,4,101)\n",
      "y = np.exp(-x**2/2) / np.sqrt(2*np.pi)\n",
      "\n",
      "x2 = np.linspace(2,4,101)\n",
      "y2 = np.exp(-x2**2/2) / np.sqrt(2*np.pi)\n",
      "xf, yf = pylab.poly_between(x2, 0*x2, y2*100)\n",
      "pylab.fill(xf, yf, facecolor='red', hatch='\\\\', alpha=0.5)\n",
      "\n",
      "\n",
      "x2 = np.linspace(-4,-2,101)\n",
      "y2 = np.exp(-x2**2/2) / np.sqrt(2*np.pi)\n",
      "xf, yf = pylab.poly_between(x2, 0*x2, y2*100)\n",
      "pylab.fill(xf, yf, facecolor='red', hatch='\\\\', alpha=0.5)\n",
      "\n",
      "pylab.plot(x,y*100, linewidth=2)\n",
      "pylab.gca().set_xlabel('standardized units')\n",
      "pylab.gca().set_ylabel('% per standardized unit')\n",
      "#pylab.gca().set_xlim([-2,4])\n",
      "#pylab.gca().set_yticks([])"
     ],
     "language": "python",
     "metadata": {},
     "outputs": []
    },
    {
     "cell_type": "markdown",
     "metadata": {},
     "source": [
      "\n",
      " 5% rejection rule\n",
      " when alternative is positive or negative \u2026"
     ]
    },
    {
     "cell_type": "heading",
     "level": 3,
     "metadata": {
      "slideshow": {
       "slide_type": "slide"
      }
     },
     "source": [
      "Testing hypotheses"
     ]
    },
    {
     "cell_type": "markdown",
     "metadata": {},
     "source": [
      "\n",
      "Example (continued)\n",
      "\n",
      "* Suppose the alternative is now $H_a$: \"the average difference is positive\".\n",
      "* Do we reject $H_0$:\"the average difference is 0mm Hg\"?\n",
      "* In standardized units, our observed average converts to $\\frac{{\\color{orange}-7.4} - {\\color{blue} 0}}{\\color{orange} 0.7} \\approx -10$\n",
      "* While -10 is extremely unlikely under $H_0$ it is even more unlikely under $H_a$.\n",
      "* It seems reasonable to conclude that neither $H_0$ nor $H_a$ is true.\n",
      "* But, to conclude $H_a$ is true, we should only reject this $H_0$ when the $z$-score is positive \u2026"
     ]
    },
    {
     "cell_type": "heading",
     "level": 3,
     "metadata": {
      "slideshow": {
       "slide_type": "slide"
      }
     },
     "source": [
      "One sided test"
     ]
    },
    {
     "cell_type": "code",
     "collapsed": false,
     "input": [
      "from matplotlib import rc\n",
      "import pylab, numpy as np, sys\n",
      "np.random.seed(0);import random; random.seed(0)\n",
      "sys.path.append('/private/var/folders/dq/4_9bwd013ln6vvf_q110mwrh0000gn/T/tmpAnmGpx')\n",
      "f=pylab.gcf(); f.set_size_inches(8.0,6.0)\n",
      "datadir ='/private/var/folders/dq/4_9bwd013ln6vvf_q110mwrh0000gn/T/tmpAnmGpx/data'\n",
      "import pylab, numpy as np\n",
      "x = np.linspace(-4,4,101)\n",
      "y = np.exp(-x**2/2) / np.sqrt(2*np.pi)\n",
      "x2 = np.linspace(1.65,4,101)\n",
      "y2 = np.exp(-x2**2/2) / np.sqrt(2*np.pi)\n",
      "pylab.plot(x,y*100, linewidth=2)\n",
      "xf, yf = pylab.poly_between(x2, 0*x2, y2*100)\n",
      "pylab.fill(xf, yf, facecolor='red', hatch='\\\\', alpha=0.5)\n",
      "pylab.gca().set_xlabel('standardized units')\n",
      "pylab.gca().set_ylabel('% per standardized unit')\n",
      "#pylab.gca().set_xlim([-2,4])\n",
      "#pylab.gca().set_yticks([])"
     ],
     "language": "python",
     "metadata": {},
     "outputs": []
    },
    {
     "cell_type": "markdown",
     "metadata": {},
     "source": [
      "\n",
      " 5% rejection rule\n",
      " when alternative is positive \u2026"
     ]
    },
    {
     "cell_type": "heading",
     "level": 3,
     "metadata": {
      "slideshow": {
       "slide_type": "slide"
      }
     },
     "source": [
      "Testing hypotheses"
     ]
    },
    {
     "cell_type": "markdown",
     "metadata": {},
     "source": [
      "\n",
      "One-sided vs. two-sided\n",
      "\n",
      "* If we want to conclude a one-sided alternative like $H_a$:\"the average difference in blood pressure is less than -7 mm Hg\".\n",
      "* Then, we can take the null hypothesis to be $H_0$:\"the average difference in blood pressure is greater than or equal to -7 mm Hg\". We reject for $z$-scores that are negative and large in absolute value.\n",
      "* On the other hand, if we want to conclude a two-sided alternative like $H_a$:\"the average difference in blood pressure is not -7 mm Hg\".\n",
      "* Then, we can take the null hypothesis to be $H_0$:\"the average difference in blood pressure is equal to -7 mm Hg\". We reject for large $z$-scores in absolute value."
     ]
    },
    {
     "cell_type": "heading",
     "level": 3,
     "metadata": {
      "slideshow": {
       "slide_type": "slide"
      }
     },
     "source": [
      "Normal approximation"
     ]
    },
    {
     "cell_type": "markdown",
     "metadata": {},
     "source": [
      "\n",
      "Normal approximation and hypothesis tests\n",
      "\n",
      "* If a normal approximation holds for ${\\color{orange} \\widehat{\\theta}}$ then we can test the null hypothesis $H_0: {\\color{blue} \\theta=\\theta_0}$ against $H_a: {\\color{blue} \\theta \\neq \\theta_0}$.\n",
      "* For instance, our first null hypothesis was $\\theta_0=0$. In the second, $\\theta_0=-7$.\n",
      "* The test statistic, called a  $z$ score\n",
      "   for testing $H_0:{\\color{blue} \\theta=\\theta_0}$ is ${\\color{orange} z} = \\frac{{\\color{orange} \\widehat{\\theta}} - {\\color{blue} \\theta_0}}{{\\color{blue}\\text{SE}({\\color{orange} \\widehat{\\theta}})}}  \\approx \\frac{{\\color{orange} \\widehat{\\theta}} - {\\color{blue} \\theta_0}}{{\\color{orange}\\widehat{\\text{SE}({ \\widehat{\\theta}})}}}$\n",
      "* We call ${\\color{orange} z}$ a $Z$-statistic or a $Z$-score.\n",
      "* If $H_0$ is true, then ${\\color{orange} z}$ follows the standard normal curve.\n",
      "* If $H_0$ is not true, then ${\\color{orange} z}$ does not usually follow the standard normal curve. If it does, you have a very poor test \u2026"
     ]
    },
    {
     "cell_type": "heading",
     "level": 3,
     "metadata": {
      "slideshow": {
       "slide_type": "slide"
      }
     },
     "source": [
      "Normal approximation"
     ]
    },
    {
     "cell_type": "markdown",
     "metadata": {},
     "source": [
      "\n",
      "Normal approximation and hypothesis tests\n",
      "\n",
      "* If $H_0$ is not true, then ${\\color{orange} z}$ does not usually follow the standard normal curve. If it does, you have a very poor test \u2026\n",
      "* It may follow a normal curve with mean $\\neq 0$.\n",
      "* The logic of the hypothesis test is as follows: if $H_0$ is true, then our observed test statistic should be a \"typical value\" under $H_0$.\n",
      "* The  $P$-value\n",
      "   depends on what $H_a$ is.\n",
      "* It is often easier to use the rejection rule instead of the $P$-value.\n",
      "* For null hypotheses like $H_0:{\\color{blue} \\theta \\leq \\theta_0}$ and $H_0:{\\color{blue} \\theta \\geq \\theta_0}$ we use the rejection rules with the * same $z$-score*\n",
      "   \u2026"
     ]
    },
    {
     "cell_type": "heading",
     "level": 3,
     "metadata": {
      "slideshow": {
       "slide_type": "slide"
      }
     },
     "source": [
      "One sided test"
     ]
    },
    {
     "cell_type": "code",
     "collapsed": false,
     "input": [
      "from matplotlib import rc\n",
      "import pylab, numpy as np, sys\n",
      "np.random.seed(0);import random; random.seed(0)\n",
      "sys.path.append('/private/var/folders/dq/4_9bwd013ln6vvf_q110mwrh0000gn/T/tmpAnmGpx')\n",
      "f=pylab.gcf(); f.set_size_inches(8.0,6.0)\n",
      "datadir ='/private/var/folders/dq/4_9bwd013ln6vvf_q110mwrh0000gn/T/tmpAnmGpx/data'\n",
      "import pylab, numpy as np\n",
      "x = np.linspace(-4,4,101)\n",
      "y = np.exp(-x**2/2) / np.sqrt(2*np.pi)\n",
      "x2 = np.linspace(-4,-1.65,101)\n",
      "y2 = np.exp(-x2**2/2) / np.sqrt(2*np.pi)\n",
      "pylab.plot(x,y*100, linewidth=2)\n",
      "xf, yf = pylab.poly_between(x2, 0*x2, y2*100)\n",
      "pylab.fill(xf, yf, facecolor='red', hatch='\\\\', alpha=0.5)\n",
      "pylab.gca().set_xlabel('standardized units')\n",
      "pylab.gca().set_ylabel('% per standardized unit')\n",
      "#pylab.gca().set_xlim([-2,4])\n",
      "#pylab.gca().set_yticks([])"
     ],
     "language": "python",
     "metadata": {},
     "outputs": []
    },
    {
     "cell_type": "markdown",
     "metadata": {},
     "source": [
      "\n",
      " 5% rejection rule\n",
      " for $H_a: \\theta < \\theta_0, H_0:\\theta \\geq \\theta_0$"
     ]
    },
    {
     "cell_type": "heading",
     "level": 3,
     "metadata": {
      "slideshow": {
       "slide_type": "slide"
      }
     },
     "source": [
      "One sided test"
     ]
    },
    {
     "cell_type": "code",
     "collapsed": false,
     "input": [
      "from matplotlib import rc\n",
      "import pylab, numpy as np, sys\n",
      "np.random.seed(0);import random; random.seed(0)\n",
      "sys.path.append('/private/var/folders/dq/4_9bwd013ln6vvf_q110mwrh0000gn/T/tmpAnmGpx')\n",
      "f=pylab.gcf(); f.set_size_inches(8.0,6.0)\n",
      "datadir ='/private/var/folders/dq/4_9bwd013ln6vvf_q110mwrh0000gn/T/tmpAnmGpx/data'\n",
      "import pylab, numpy as np\n",
      "x = np.linspace(-4,4,101)\n",
      "y = np.exp(-x**2/2) / np.sqrt(2*np.pi)\n",
      "x2 = np.linspace(1.65,4,101)\n",
      "y2 = np.exp(-x2**2/2) / np.sqrt(2*np.pi)\n",
      "pylab.plot(x,y*100, linewidth=2)\n",
      "xf, yf = pylab.poly_between(x2, 0*x2, y2*100)\n",
      "pylab.fill(xf, yf, facecolor='red', hatch='\\\\', alpha=0.5)\n",
      "pylab.gca().set_xlabel('standardized units')\n",
      "pylab.gca().set_ylabel('% per standardized unit')\n",
      "#pylab.gca().set_xlim([-2,4])\n",
      "#pylab.gca().set_yticks([])"
     ],
     "language": "python",
     "metadata": {},
     "outputs": []
    },
    {
     "cell_type": "markdown",
     "metadata": {},
     "source": [
      "\n",
      " 5% rejection rule\n",
      " for $H_a: \\theta > \\theta_0, H_0:\\theta \\leq \\theta_0$"
     ]
    },
    {
     "cell_type": "heading",
     "level": 3,
     "metadata": {
      "slideshow": {
       "slide_type": "slide"
      }
     },
     "source": [
      "Two sided test"
     ]
    },
    {
     "cell_type": "code",
     "collapsed": false,
     "input": [
      "from matplotlib import rc\n",
      "import pylab, numpy as np, sys\n",
      "np.random.seed(0);import random; random.seed(0)\n",
      "sys.path.append('/private/var/folders/dq/4_9bwd013ln6vvf_q110mwrh0000gn/T/tmpAnmGpx')\n",
      "f=pylab.gcf(); f.set_size_inches(8.0,6.0)\n",
      "datadir ='/private/var/folders/dq/4_9bwd013ln6vvf_q110mwrh0000gn/T/tmpAnmGpx/data'\n",
      "import pylab, numpy as np\n",
      "x = np.linspace(-4,4,101)\n",
      "y = np.exp(-x**2/2) / np.sqrt(2*np.pi)\n",
      "\n",
      "x2 = np.linspace(2,4,101)\n",
      "y2 = np.exp(-x2**2/2) / np.sqrt(2*np.pi)\n",
      "xf, yf = pylab.poly_between(x2, 0*x2, y2*100)\n",
      "pylab.fill(xf, yf, facecolor='red', hatch='\\\\', alpha=0.5)\n",
      "\n",
      "\n",
      "x2 = np.linspace(-4,-2,101)\n",
      "y2 = np.exp(-x2**2/2) / np.sqrt(2*np.pi)\n",
      "xf, yf = pylab.poly_between(x2, 0*x2, y2*100)\n",
      "pylab.fill(xf, yf, facecolor='red', hatch='\\\\', alpha=0.5)\n",
      "\n",
      "pylab.plot(x,y*100, linewidth=2)\n",
      "pylab.gca().set_xlabel('standardized units')\n",
      "pylab.gca().set_ylabel('% per standardized unit')\n",
      "#pylab.gca().set_xlim([-2,4])\n",
      "#pylab.gca().set_yticks([])"
     ],
     "language": "python",
     "metadata": {},
     "outputs": []
    },
    {
     "cell_type": "markdown",
     "metadata": {},
     "source": [
      "\n",
      " 5% rejection rule\n",
      " for $H_a: \\theta \\neq \\theta_0, H_0: \\theta = \\theta_0$"
     ]
    },
    {
     "cell_type": "heading",
     "level": 3,
     "metadata": {
      "slideshow": {
       "slide_type": "slide"
      }
     },
     "source": [
      "Testing hypotheses"
     ]
    },
    {
     "cell_type": "markdown",
     "metadata": {},
     "source": [
      "\n",
      "Relation between hypothesis tests and confidence intervals\n",
      "\n",
      "* Which values are reasonable?\n",
      "* Well, -7.4 is certainly a reasonable value if the true average difference were -7.4 because our $z$ score would be 0.\n",
      "* Hence, we would not reject $H_0$:\"the average difference is -7.4\" if we observed a sample average of -7.4\n",
      "* The set of all values $\\theta$ we would not reject $H_0$: \"the average difference is $\\theta$\" at level 5% is essentially the standard 95% confidence interval!\n",
      "* Therefore, one can test $H_0:$\"the average difference is 0\" by checking to see whether 0 is in the confidence interval."
     ]
    },
    {
     "cell_type": "heading",
     "level": 3,
     "metadata": {
      "slideshow": {
       "slide_type": "slide"
      }
     },
     "source": [
      "Back to roulette"
     ]
    },
    {
     "cell_type": "markdown",
     "metadata": {},
     "source": [
      "\n",
      "Testing fairness via a confidence interval\n",
      "\n",
      "* A 95% confidence for the true  RED\n",
      "   success rate (fair or not) based on our first 10 bets is ${\\color{orange} 0.4 \\pm \\sqrt{0.4 \\times 0.6} / {\\sqrt{10}}} =\n",
      "     {\\color{orange} 0.4 \\pm 0.15}$ (This assumes the online roulette game is doing independent trials, thought not necessarily fair trials)\n",
      "* The success rate for  RED\n",
      "   in the fair model is ${\\color{blue} 18/38 \\approx 0.47}$.\n",
      "* 0.47 is within our 95% confidence interval. Therefore, we would not reject $H_0$:\"the roulette table is fair\" at level 5%.\n",
      "* **Note:**\n",
      "   In this example, we only have 10 trials \u2013 to apply this logic we should have enough trials so the normal approximation holds."
     ]
    },
    {
     "cell_type": "heading",
     "level": 3,
     "metadata": {
      "slideshow": {
       "slide_type": "slide"
      }
     },
     "source": [
      "Student\u2019s $T$"
     ]
    },
    {
     "cell_type": "markdown",
     "metadata": {},
     "source": [
      "\n",
      "Tests and confidence intervals for small samples\n",
      "\n",
      "* Our tests (and confidence intervals) have so far relied on normal approximations (i.e. we have used A-104 to compute all chances).\n",
      "* If the sample size is small, the normal approximations may not be very good.\n",
      "* If the sample size is small, we can sometimes get good confidence intervals using a $T$ statistic.\n",
      "* The formula for the $T$ statistic is almost identical to the $z$ statistic, it is the *chances*\n",
      "   that can be quite different."
     ]
    },
    {
     "cell_type": "heading",
     "level": 3,
     "metadata": {
      "slideshow": {
       "slide_type": "slide"
      }
     },
     "source": [
      "Student\u2019s $T$"
     ]
    },
    {
     "cell_type": "markdown",
     "metadata": {},
     "source": [
      "\n",
      "Tests and confidence intervals for small samples\n",
      "\n",
      "* Suppose the Gauss model holds ${\\color{orange} \\text{measurement}} = {\\color{blue} \\text{true value}} + {\\color{orange} \\text{chance error}}$\n",
      "* **And, the histogram of the error box is not too different from a normal probability histogram or curve**\n",
      "  \n",
      "* Then, there are very good confidence intervals even for very small samples \u2026\n",
      "* If the histogram of the error box is exactly a normal probability histogram, then these tests and confidence intervals are *exact*\n",
      "  ."
     ]
    },
    {
     "cell_type": "heading",
     "level": 3,
     "metadata": {
      "slideshow": {
       "slide_type": "slide"
      }
     },
     "source": [
      "Student\u2019s $T$"
     ]
    },
    {
     "cell_type": "markdown",
     "metadata": {},
     "source": [
      "\n",
      "Example\n",
      "\n",
      "* Suppose we observed only 5 blood pressure changes: [-4,-6,-8,-2,-1].\n",
      "* The average is -4.2 mm Hg, and the SD of the list is 2.6 mm Hg.\n",
      "* Our usual $z$ score to test $H_0$: average difference $\\geq 0$ against $H_a$: average difference $<0$ ${\\color{orange} z = \\frac{-4.2}{2.6 / \\sqrt{5}} \\approx -3.7}$\n",
      "* The $T$ statistic replaces the SD of the list with SD$^+$ of the list which is 2.9 mm Hg. The $T$ statistic is ${\\color{orange} T = \\frac{-4.2}{2.9 / \\sqrt{5}} \\approx -3.3}$"
     ]
    },
    {
     "cell_type": "heading",
     "level": 3,
     "metadata": {
      "slideshow": {
       "slide_type": "slide"
      }
     },
     "source": [
      "Student\u2019s $T$"
     ]
    },
    {
     "cell_type": "markdown",
     "metadata": {},
     "source": [
      "\n",
      "What\u2019s different about the $T$ statistic?\n",
      "\n",
      "* It uses ${\\color{orange} \\text{SD}^+}$ instead of ${\\color{orange} \\text{SD}}$.\n",
      "* Why does it use ${\\color{orange} \\text{SD}^+}$?\n",
      "* Because for small samples, it is a better estimate of ${\\color{blue} \\text{SD(box)}}$ than ${\\color{orange} \\text{SD}}$.\n",
      "* Unfortunately, though, the $T$ statistic does not follow the normal curve."
     ]
    },
    {
     "cell_type": "heading",
     "level": 3,
     "metadata": {
      "slideshow": {
       "slide_type": "slide"
      }
     },
     "source": [
      "Student\u2019s $T$"
     ]
    },
    {
     "cell_type": "markdown",
     "metadata": {},
     "source": [
      "\n",
      "Computing the chances for the $T$ test\n",
      "\n",
      "* It *almost*\n",
      "   follows the normal curve. For large samples, it gets closer and closer.\n",
      "* For each sample size, there is a different curve, or probability histogram.\n",
      "* These curves are indexed by what we call *degrees of freedom*\n",
      "  .\n",
      "* In this example, the degrees of freedom are $\\# \\text{sample}-1$."
     ]
    },
    {
     "cell_type": "heading",
     "level": 3,
     "metadata": {
      "slideshow": {
       "slide_type": "slide"
      }
     },
     "source": [
      "Student\u2019s $T$"
     ]
    },
    {
     "cell_type": "code",
     "collapsed": false,
     "input": [
      "from matplotlib import rc\n",
      "import pylab, numpy as np, sys\n",
      "np.random.seed(0);import random; random.seed(0)\n",
      "sys.path.append('/private/var/folders/dq/4_9bwd013ln6vvf_q110mwrh0000gn/T/tmpAnmGpx')\n",
      "f=pylab.gcf(); f.set_size_inches(8.0,6.0)\n",
      "datadir ='/private/var/folders/dq/4_9bwd013ln6vvf_q110mwrh0000gn/T/tmpAnmGpx/data'\n",
      "import pylab, numpy as np\n",
      "import scipy.stats\n",
      "\n",
      "df = 4\n",
      "x = np.linspace(-4,4,101)\n",
      "y = np.exp(-x**2/2) / np.sqrt(2*np.pi)\n",
      "pylab.plot(x,y*100, linewidth=2, label='Normal')\n",
      "pylab.plot(x,scipy.stats.t.pdf(x, df)*100, linewidth=2, label=r'$T$, df=4')\n",
      "\n",
      "pylab.gca().set_xlabel('standardized units')\n",
      "pylab.gca().set_ylabel('% per standardized unit')\n",
      "pylab.legend()\n",
      "#pylab.gca().set_xlim([-2,4])\n",
      "#pylab.gca().set_yticks([])"
     ],
     "language": "python",
     "metadata": {},
     "outputs": []
    },
    {
     "cell_type": "markdown",
     "metadata": {},
     "source": [
      "\n",
      "Comparison with normal curve, degrees of freedom = 4"
     ]
    },
    {
     "cell_type": "heading",
     "level": 3,
     "metadata": {
      "slideshow": {
       "slide_type": "slide"
      }
     },
     "source": [
      "Student\u2019s $T$"
     ]
    },
    {
     "cell_type": "code",
     "collapsed": false,
     "input": [
      "from matplotlib import rc\n",
      "import pylab, numpy as np, sys\n",
      "np.random.seed(0);import random; random.seed(0)\n",
      "sys.path.append('/private/var/folders/dq/4_9bwd013ln6vvf_q110mwrh0000gn/T/tmpAnmGpx')\n",
      "f=pylab.gcf(); f.set_size_inches(8.0,6.0)\n",
      "datadir ='/private/var/folders/dq/4_9bwd013ln6vvf_q110mwrh0000gn/T/tmpAnmGpx/data'\n",
      "import pylab, numpy as np\n",
      "import scipy.stats\n",
      "\n",
      "df = 4\n",
      "x = np.linspace(-4,4,101)\n",
      "y = np.exp(-x**2/2) / np.sqrt(2*np.pi)\n",
      "pylab.plot(x,y*100, linewidth=2, label='Normal')\n",
      "pylab.plot(x,scipy.stats.t.pdf(x, df)*100, linewidth=2, label=r'$T$, df=4')\n",
      "\n",
      "x2 = np.linspace(2,4,101)\n",
      "y2 = np.exp(-x2**2/2) / np.sqrt(2*np.pi)\n",
      "xf, yf = pylab.poly_between(x2, 0*x2, y2*100)\n",
      "pylab.fill(xf, yf, facecolor='red', hatch='\\\\', alpha=0.5)\n",
      "\n",
      "\n",
      "x2 = np.linspace(-4,-2,101)\n",
      "y2 = np.exp(-x2**2/2) / np.sqrt(2*np.pi)\n",
      "xf, yf = pylab.poly_between(x2, 0*x2, y2*100)\n",
      "pylab.fill(xf, yf, facecolor='red', hatch='\\\\', alpha=0.5)\n",
      "\n",
      "# The t region\n",
      "\n",
      "x2 = np.linspace(scipy.stats.t.isf(0.025,df),4, 101)\n",
      "y2 = scipy.stats.t.pdf(x2, df)\n",
      "xf, yf = pylab.poly_between(x2, 0*x2, y2*100)\n",
      "pylab.fill(xf, yf, facecolor='gray', hatch='\\\\', alpha=0.5)\n",
      "\n",
      "\n",
      "\n",
      "x2 = np.linspace(-4,-scipy.stats.t.isf(0.025,df), 101)\n",
      "y2 = scipy.stats.t.pdf(x2, df)\n",
      "xf, yf = pylab.poly_between(x2, 0*x2, y2*100)\n",
      "pylab.fill(xf, yf, facecolor='gray', hatch='\\\\', alpha=0.5)\n",
      "\n",
      "pylab.gca().set_xlabel('standardized units')\n",
      "pylab.gca().set_ylabel('% per standardized unit')\n",
      "pylab.legend()\n",
      "#pylab.gca().set_xlim([-2,4])\n",
      "#pylab.gca().set_yticks([])"
     ],
     "language": "python",
     "metadata": {},
     "outputs": []
    },
    {
     "cell_type": "markdown",
     "metadata": {},
     "source": [
      "\n",
      "Comparison of two-sided  5% rejection rule\n",
      ", df=4"
     ]
    },
    {
     "cell_type": "heading",
     "level": 3,
     "metadata": {
      "slideshow": {
       "slide_type": "slide"
      }
     },
     "source": [
      "Student\u2019s $T$"
     ]
    },
    {
     "cell_type": "code",
     "collapsed": false,
     "input": [
      "from matplotlib import rc\n",
      "import pylab, numpy as np, sys\n",
      "np.random.seed(0);import random; random.seed(0)\n",
      "sys.path.append('/private/var/folders/dq/4_9bwd013ln6vvf_q110mwrh0000gn/T/tmpAnmGpx')\n",
      "f=pylab.gcf(); f.set_size_inches(8.0,6.0)\n",
      "datadir ='/private/var/folders/dq/4_9bwd013ln6vvf_q110mwrh0000gn/T/tmpAnmGpx/data'\n",
      "import pylab, numpy as np\n",
      "import scipy.stats\n",
      "\n",
      "df = 20\n",
      "x = np.linspace(-4,4,101)\n",
      "y = np.exp(-x**2/2) / np.sqrt(2*np.pi)\n",
      "pylab.plot(x,y*100, linewidth=2, label='Normal')\n",
      "pylab.plot(x,scipy.stats.t.pdf(x, df)*100, linewidth=2, label=r'$T$, df=20')\n",
      "\n",
      "pylab.gca().set_xlabel('standardized units')\n",
      "pylab.gca().set_ylabel('% per standardized unit')\n",
      "pylab.legend()\n",
      "#pylab.gca().set_xlim([-2,4])\n",
      "#pylab.gca().set_yticks([])"
     ],
     "language": "python",
     "metadata": {},
     "outputs": []
    },
    {
     "cell_type": "markdown",
     "metadata": {},
     "source": [
      "\n",
      "Comparison with normal curve, degrees of freedom = 20"
     ]
    },
    {
     "cell_type": "heading",
     "level": 3,
     "metadata": {
      "slideshow": {
       "slide_type": "slide"
      }
     },
     "source": [
      "Student\u2019s $T$"
     ]
    },
    {
     "cell_type": "code",
     "collapsed": false,
     "input": [
      "from matplotlib import rc\n",
      "import pylab, numpy as np, sys\n",
      "np.random.seed(0);import random; random.seed(0)\n",
      "sys.path.append('/private/var/folders/dq/4_9bwd013ln6vvf_q110mwrh0000gn/T/tmpAnmGpx')\n",
      "f=pylab.gcf(); f.set_size_inches(8.0,6.0)\n",
      "datadir ='/private/var/folders/dq/4_9bwd013ln6vvf_q110mwrh0000gn/T/tmpAnmGpx/data'\n",
      "import pylab, numpy as np\n",
      "import scipy.stats\n",
      "\n",
      "df = 20\n",
      "x = np.linspace(-4,4,101)\n",
      "y = np.exp(-x**2/2) / np.sqrt(2*np.pi)\n",
      "pylab.plot(x,y*100, linewidth=2, label='Normal')\n",
      "pylab.plot(x,scipy.stats.t.pdf(x, df)*100, linewidth=2, label=r'$T$, df=20')\n",
      "\n",
      "x2 = np.linspace(2,4,101)\n",
      "y2 = np.exp(-x2**2/2) / np.sqrt(2*np.pi)\n",
      "xf, yf = pylab.poly_between(x2, 0*x2, y2*100)\n",
      "pylab.fill(xf, yf, facecolor='red', hatch='\\\\', alpha=0.5)\n",
      "\n",
      "\n",
      "x2 = np.linspace(-4,-2,101)\n",
      "y2 = np.exp(-x2**2/2) / np.sqrt(2*np.pi)\n",
      "xf, yf = pylab.poly_between(x2, 0*x2, y2*100)\n",
      "pylab.fill(xf, yf, facecolor='red', hatch='\\\\', alpha=0.5)\n",
      "\n",
      "# The t region\n",
      "\n",
      "x2 = np.linspace(scipy.stats.t.isf(0.025,df),4, 101)\n",
      "y2 = scipy.stats.t.pdf(x2, df)\n",
      "xf, yf = pylab.poly_between(x2, 0*x2, y2*100)\n",
      "pylab.fill(xf, yf, facecolor='gray', hatch='\\\\', alpha=0.5)\n",
      "\n",
      "\n",
      "\n",
      "x2 = np.linspace(-4,-scipy.stats.t.isf(0.025,df), 101)\n",
      "y2 = scipy.stats.t.pdf(x2, df)\n",
      "xf, yf = pylab.poly_between(x2, 0*x2, y2*100)\n",
      "pylab.fill(xf, yf, facecolor='gray', hatch='\\\\', alpha=0.5)\n",
      "\n",
      "pylab.gca().set_xlabel('standardized units')\n",
      "pylab.gca().set_ylabel('% per standardized unit')\n",
      "pylab.legend()\n",
      "#pylab.gca().set_xlim([-2,4])\n",
      "#pylab.gca().set_yticks([])"
     ],
     "language": "python",
     "metadata": {},
     "outputs": []
    },
    {
     "cell_type": "markdown",
     "metadata": {},
     "source": [
      "\n",
      "Comparison of two-sided  5% rejection rule\n",
      ", df=20"
     ]
    }
   ],
   "metadata": {}
  }
 ]
}
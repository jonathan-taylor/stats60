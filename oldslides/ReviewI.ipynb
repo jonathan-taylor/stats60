{
 "metadata": {
  "name": ""
 },
 "nbformat": 3,
 "nbformat_minor": 0,
 "worksheets": [
  {
   "cells": [
    {
     "cell_type": "heading",
     "level": 3,
     "metadata": {
      "slideshow": {
       "slide_type": "slide"
      }
     },
     "prompt_number": 1,
     "source": [
      "Histogram"
     ]
    },
    {
     "cell_type": "code",
     "collapsed": false,
     "input": [
      "bins = [0,20,55,75,100]\n",
      "count = [29,52,13,6]\n",
      "PL_density(count, bins)\n",
      "pylab.gca().set_xlim([0,100])\n",
      "pylab.gca().set_ylim([0,2.])\n",
      "pylab.gca().set_ylabel('Percent per year')\n",
      "pylab.gca().set_xlabel('Age (years)')"
     ],
     "language": "python",
     "metadata": {},
     "outputs": [],
     "prompt_number": 1
    },
    {
     "cell_type": "heading",
     "level": 3,
     "metadata": {
      "slideshow": {
       "slide_type": "slide"
      }
     },
     "prompt_number": 2,
     "source": [
      "Numeric summaries of a data set / histogram"
     ]
    },
    {
     "cell_type": "markdown",
     "metadata": {},
     "prompt_number": 2,
     "source": [
      "\n",
      "Examples\n",
      "\n",
      "* Average: $\\bar{X} = \\frac{1}{n} \\sum_{i=1}^n X_i$.\n",
      "* Standard deviation: $\\text{SD}(X)=\\sqrt{\\frac{1}{n}\\sum_{i=1}^n (X_i-\\bar{X})^2}.$\n",
      "* The *median*\n",
      "   of a histogram is the number with half the area to the left and half the area to the right.\n",
      "* The *first quartile*\n",
      "   is the 25th percentile; the *third quartile*\n",
      "   is the 75th percentile.\n",
      "* The *inter-quartile range*\n",
      "   is the difference between the third and first quartiles."
     ]
    },
    {
     "cell_type": "heading",
     "level": 3,
     "metadata": {
      "slideshow": {
       "slide_type": "slide"
      }
     },
     "prompt_number": 2,
     "source": [
      "The normal curve"
     ]
    },
    {
     "cell_type": "markdown",
     "metadata": {},
     "prompt_number": 2,
     "source": [
      "\n",
      "Rules of thumb for SD\n",
      "\n",
      "* The area under the normal curve between -1 and +1 is about $68\\%$.\n",
      "* The area under the normal curve between -2 and +2 is about $95\\%$.\n",
      "* The area under the normal curve between -3 and +3 is about $99.7\\%$."
     ]
    },
    {
     "cell_type": "heading",
     "level": 3,
     "metadata": {
      "slideshow": {
       "slide_type": "slide"
      }
     },
     "prompt_number": 2,
     "source": [
      "The normal table: A-104"
     ]
    },
    {
     "cell_type": "markdown",
     "metadata": {},
     "prompt_number": 2,
     "source": [
      "\n",
      "Sample rows of the table look like\n",
      "\n",
      "\n",
      "$z$ | Height | Area\n",
      "--- | --- | ---\n",
      "0.70 | 31.23 | 51.61\n",
      "1.00 | 24.20 | 68.27\n",
      "2.00 | 5.40 | 95.45"
     ]
    },
    {
     "cell_type": "heading",
     "level": 3,
     "metadata": {
      "slideshow": {
       "slide_type": "slide"
      }
     },
     "prompt_number": 2,
     "source": [
      "Using table A-104"
     ]
    },
    {
     "cell_type": "code",
     "collapsed": false,
     "input": [
      "x = np.linspace(-4,4,101)\n",
      "y = np.exp(-x**2/2) / np.sqrt(2*np.pi)\n",
      "pylab.bar([-0.75,0.65], [31.23,31.23], width=0.1, color='red')\n",
      "pylab.plot(x,y*100, linewidth=2)\n",
      "pylab.gca().set_xlabel('standardized units')\n",
      "pylab.gca().set_ylabel('% per standardized unit')\n"
     ],
     "language": "python",
     "metadata": {},
     "outputs": [],
     "prompt_number": 2
    },
    {
     "cell_type": "markdown",
     "metadata": {},
     "prompt_number": 3,
     "source": [
      "\n",
      "The height at $z= \\pm 0.7$ is $31.23\\%$ (per standardized unit)"
     ]
    },
    {
     "cell_type": "heading",
     "level": 3,
     "metadata": {
      "slideshow": {
       "slide_type": "slide"
      }
     },
     "prompt_number": 3,
     "source": [
      "Using table A-104"
     ]
    },
    {
     "cell_type": "code",
     "collapsed": false,
     "input": [
      "x = np.linspace(-4,4,101)\n",
      "y = np.exp(-x**2/2) / np.sqrt(2*np.pi)\n",
      "x2 = np.linspace(-0.7,0.7,101)\n",
      "y2 = np.exp(-x2**2/2) / np.sqrt(2*np.pi)\n",
      "pylab.plot(x,y*100, linewidth=2)\n",
      "xf, yf = pylab.poly_between(x2, 0*x2, y2*100)\n",
      "pylab.fill(xf, yf, facecolor='r', hatch='\\\\', alpha=0.5)\n",
      "pylab.gca().set_xlabel('standardized units')\n",
      "pylab.gca().set_ylabel('% per standardized unit')\n"
     ],
     "language": "python",
     "metadata": {},
     "outputs": [],
     "prompt_number": 3
    },
    {
     "cell_type": "markdown",
     "metadata": {},
     "prompt_number": 4,
     "source": [
      "\n",
      "The area between $z=-0.7$ and $z=0.7$ is $51.61\\%$"
     ]
    },
    {
     "cell_type": "heading",
     "level": 3,
     "metadata": {
      "slideshow": {
       "slide_type": "slide"
      }
     },
     "prompt_number": 4,
     "source": [
      "Measurement"
     ]
    },
    {
     "cell_type": "markdown",
     "metadata": {},
     "prompt_number": 4,
     "source": [
      "\n",
      "Measurement model\n",
      "\n",
      "* $\n",
      "     \\text{individual measurement} = \\text{exact value} + \\text{bias} + \\text{chance error}\n",
      "     $\n",
      "* $\n",
      "     M = \\mu + B + \\epsilon\n",
      "     $\n",
      "Concepts\n",
      "\n",
      "* Treatment and control group.\n",
      "* Randomized controlled experiment.\n",
      "* Observational study.\n",
      "* Double blind studies.\n",
      "* Confounding."
     ]
    },
    {
     "cell_type": "heading",
     "level": 3,
     "metadata": {
      "slideshow": {
       "slide_type": "slide"
      }
     },
     "prompt_number": 4,
     "source": [
      "Correlation & scatterplots"
     ]
    },
    {
     "cell_type": "code",
     "collapsed": false,
     "input": [
      "datadir = '/Users/jonathantaylor/stats-lecture-notes/data/'\n",
      "H = csv2rec('%s/pearson_lee.csv' % datadir)\n",
      "M = H['mother']\n",
      "D = H['daughter']\n",
      "pylab.scatter(M, D, c='red')\n",
      "pylab.gca().set_xlabel(\"Mother's height (inches)\")\n",
      "pylab.gca().set_ylabel(\"Daughter's height (inches)\")"
     ],
     "language": "python",
     "metadata": {},
     "outputs": [],
     "prompt_number": 4
    },
    {
     "cell_type": "markdown",
     "metadata": {},
     "prompt_number": 5,
     "source": [
      "\n",
      "Correlation: a measure of *association*\n"
     ]
    },
    {
     "cell_type": "heading",
     "level": 3,
     "metadata": {
      "slideshow": {
       "slide_type": "slide"
      }
     },
     "prompt_number": 5,
     "source": [
      "Correlation"
     ]
    },
    {
     "cell_type": "markdown",
     "metadata": {},
     "prompt_number": 5,
     "source": [
      "\n",
      "Conceptual definition\n",
      "\n",
      "* A numerical summary of a scatterplot, i.e. a pair of lists.\n",
      "* If there is a strong association between two variables, then knowing one helps a lot in predicting the other. But when there is a weak association, information about one variable does not help much in guessing the other.\n",
      "* The *correlation coefficient*\n",
      "  , $r$ is a measure of the strength of this association.\n",
      "* $r=+1$ if the variables are perfectly positively associated.\n",
      "* $r=-1$ if the variables are perfectly negatively associated."
     ]
    },
    {
     "cell_type": "heading",
     "level": 3,
     "metadata": {
      "slideshow": {
       "slide_type": "slide"
      }
     },
     "prompt_number": 5,
     "source": [
      "Correlation"
     ]
    },
    {
     "cell_type": "markdown",
     "metadata": {},
     "prompt_number": 5,
     "source": [
      "\n",
      "Computing $r$, the correlation coefficient\n",
      "\n",
      "* Given two lists, $X, Y$, convert them each to standardized units. Call these new lists $Z_X, Z_Y$.\n",
      "* Make a new list $Z_{XY}$ whose entries are the products of the entries of $Z_X, Z_Y$.\n",
      "* Then, $r = \\text{average}(Z_{XY}).$\n",
      "* Another way, $$ r = . $\\end{itemize}\n",
      "     \\end{block}\n",
      "     \\end{frame}\n",
      "  \n",
      "  \n",
      "     \\begin{frame}\n",
      "     \\frametitle{Correlation}\n",
      "     \\begin{center}\n",
      "  \\begin{verbatim}\n",
      "  from matplotlib import rc\n",
      "  import pylab, numpy as np, sys\n",
      "  np.random.seed(0);import random; random.seed(0)\n",
      "  import matplotlib.mlab as ML\n",
      "  H = ML.csv2rec('M = H['mother']\n",
      "  D = H['daughter']\n",
      "  pylab.scatter(M, D, c='red')\n",
      "  pylab.gca().set_xlabel(\"Mother's height (inches)\")\n",
      "  pylab.gca().set_ylabel(\"Daughter's height (inches)\")\n",
      "  pylab.title(\"r=\n",
      "  \\end{verbatim}\n",
      "     \\end{center}\n",
      "     Correlation is symmetric\n",
      "     \\end{frame}\n",
      "  \n",
      "  \n",
      "     \\begin{frame}\n",
      "     \\frametitle{Correlation}\n",
      "     \\begin{center}\n",
      "  \\begin{verbatim}\n",
      "  from matplotlib import rc\n",
      "  import pylab, numpy as np, sys\n",
      "  np.random.seed(0);import random; random.seed(0)\n",
      "  import matplotlib.mlab as ML\n",
      "  H = ML.csv2rec('M = H['mother']\n",
      "  D = H['daughter']\n",
      "  pylab.scatter(D, M, c='red')\n",
      "  pylab.gca().set_ylabel(\"Mother's height (inches)\")\n",
      "  pylab.gca().set_xlabel(\"Daughter's height (inches)\")\n",
      "  pylab.title(\"r=\n",
      "  \\end{verbatim}\n",
      "     \\end{center}\n",
      "     Correlation is symmetric\n",
      "     \\end{frame}\n",
      "  \n",
      "  \n",
      "     \\begin{frame}\n",
      "     \\frametitle{Correlation}\n",
      "     \\begin{center}\n",
      "  \\begin{verbatim}\n",
      "  from matplotlib import rc\n",
      "  import pylab, numpy as np, sys\n",
      "  np.random.seed(0);import random; random.seed(0)\n",
      "  import matplotlib.mlab as ML\n",
      "  H = ML.csv2rec('M = H['mother']\n",
      "  D = H['daughter']\n",
      "  pylab.scatter(D, M, c='red')\n",
      "  pylab.gca().set_ylabel(\"Mother's height (inches)\")\n",
      "  pylab.gca().set_xlabel(\"Daughter's height (inches)\")\n",
      "  pylab.title(\"r=\n",
      "  \\end{verbatim}\n",
      "     \\end{center}\n",
      "     Correlation is not causation\n",
      "     \\end{frame}\n",
      "  \n",
      "     \n",
      "     \\begin{frame} \\frametitle{Regression}\n",
      "  \n",
      "     \\begin{block}\n",
      "     {Regression line}\n",
      "     \\begin{itemize}\n",
      "     \\item    The best fitting regression line\n",
      "     passes through\n",
      "     the point of averages and has slope$ = r(X,Y) . $\\item The intercept is$ = |Y\n",
      "   - |X\n",
      "  . $$"
     ]
    },
    {
     "cell_type": "heading",
     "level": 3,
     "metadata": {
      "slideshow": {
       "slide_type": "slide"
      }
     },
     "prompt_number": 5,
     "source": [
      "Regression"
     ]
    },
    {
     "cell_type": "code",
     "collapsed": false,
     "input": [
      "H = csv2rec('%s/pearson_lee.csv' % datadir)\n",
      "M = H['mother']\n",
      "D = H['daughter']\n",
      "pylab.scatter(M, D, c='red')\n",
      "pylab.gca().set_xlabel(\"Mother's height (inches)\")\n",
      "pylab.gca().set_ylabel(\"Daughter's height (inches)\")\n",
      "Dbar = D.mean(); Dsd = np.sqrt(((D - Dbar)**2).mean())\n",
      "Mbar = M.mean(); Msd = np.sqrt(((M - Mbar)**2).mean())\n",
      "r = np.corrcoef([M, D])[0,1]\n",
      "\n",
      "xf, yf = pylab.poly_between([67.5,68.5], [50,50], [75, 75])\n",
      "g = (M < 68.5) * (M >= 67.5)\n",
      "pylab.fill(xf, yf, facecolor='blue', alpha=0.4, hatch='/', label='_nolegend_')\n",
      "\n",
      "pylab.plot([Mbar-3.5*Msd,Mbar,Mbar+3.5*Msd],\n",
      "           [Dbar-3.5*Dsd,Dbar,Dbar+3.5*Dsd], 'b-', linewidth=3, label='SD line')\n",
      "pylab.plot([Mbar-3.5*Msd,Mbar,Mbar+3.5*Msd],\n",
      "           [Dbar-r*3.5*Dsd,Dbar,Dbar+r*3.5*Dsd], '-', linewidth=3, label='regression', color='black')\n",
      "pylab.legend(['SD line', 'regression'])\n",
      "\n",
      "def error(a,b):\n",
      "    F = a*M+b\n",
      "    return np.sqrt(np.sum((D-F)**2))\n",
      "\n",
      "slope_SD = D.std() / M.std()\n",
      "intercept_SD = D.mean() - slope_SD * M.mean()\n",
      "\n",
      "slope_r = np.corrcoef([D,M])[0,1] * D.std() / M.std()\n",
      "intercept_r = D.mean() - slope_r * M.mean()\n",
      "\n",
      "pylab.title('Error(SD line)=%0.1f, Error(regression)=%0.1f' %\n",
      "            (error(slope_SD, intercept_SD),\n",
      "            error(slope_r, intercept_r)))\n",
      "s = pylab.scatter([68],D[g].mean(), s=130, c='black', marker='^')"
     ],
     "language": "python",
     "metadata": {},
     "outputs": [],
     "prompt_number": 5
    },
    {
     "cell_type": "markdown",
     "metadata": {},
     "prompt_number": 6,
     "source": [
      "\n",
      "The regression line is closer to the mean of 68 in group."
     ]
    },
    {
     "cell_type": "heading",
     "level": 3,
     "metadata": {
      "slideshow": {
       "slide_type": "slide"
      }
     },
     "prompt_number": 6,
     "source": [
      "Regression"
     ]
    },
    {
     "cell_type": "markdown",
     "metadata": {},
     "prompt_number": 6,
     "source": [
      "\n",
      "Working with regressions\n",
      " The following quantities are enough to do all regression problems\n",
      "* $\\text{average}(X), \\text{SD}(X)$\n",
      "* $\\text{average}(X), \\text{SD}(Y)$\n",
      "* $r(X,Y)$\n",
      "Example\n",
      " It is believed that the more alcohol there is in a person\u2019s blood stream, the slower is that person\u2019s reaction times. An experiment with 10 subjects yields\n",
      "* average amount of alcohol in blood $0.14\\%$ with SD $0.04\\%$\n",
      "* average reaction time 0.42 seconds, SD 0.1 seconds\n",
      "* correlation coefficient 0.8"
     ]
    },
    {
     "cell_type": "heading",
     "level": 3,
     "metadata": {
      "slideshow": {
       "slide_type": "slide"
      }
     },
     "prompt_number": 6,
     "source": [
      "Regression"
     ]
    },
    {
     "cell_type": "markdown",
     "metadata": {},
     "prompt_number": 6,
     "source": [
      "\n",
      "Question a)\n",
      "\n",
      "Q * Predict the reaction time of a person with an amount of alcohol of 0.22%.\n",
      "A1 * One way is to first compute the slope, intercept $\\begin{aligned}\n",
      "     \\text{slope} &= \\frac{0.8 \\times 0.1}{0.04} = 2.0 \\frac{\\text{seconds}}{\\%}     \\\\\n",
      "     \\text{intercept} &= 0.42 - 2. \\times 0.14 = 0.14 \\, \\text{seconds}\n",
      "     \\end{aligned}$ So, the predicted time is $2 \\times 0.22 + 0.14 = 0.58 \\, \\text{seconds}$\n",
      "A2 * $0.42 + (0.22 - 0.14) \\times 2. = 0.58 \\, \\text{seconds}$"
     ]
    },
    {
     "cell_type": "heading",
     "level": 3,
     "metadata": {
      "slideshow": {
       "slide_type": "slide"
      }
     },
     "prompt_number": 6,
     "source": [
      "Regression"
     ]
    },
    {
     "cell_type": "markdown",
     "metadata": {},
     "prompt_number": 6,
     "source": [
      "\n",
      "Question b)\n",
      "\n",
      "Q * Find the regression line for regressing reaction time on alcohol level.\n",
      "A * From part A1 on previous slide: the predicted reaction time as a function of alcohol level is $0.14 + 2. \\times \\text{alcohol level in \\%}$"
     ]
    },
    {
     "cell_type": "heading",
     "level": 3,
     "metadata": {
      "slideshow": {
       "slide_type": "slide"
      }
     },
     "prompt_number": 6,
     "source": [
      "Regression"
     ]
    },
    {
     "cell_type": "markdown",
     "metadata": {},
     "prompt_number": 6,
     "source": [
      "\n",
      "Question c)\n",
      "\n",
      "Q * Predict the reaction time of a person whose alcohol level is at the 20th percentile. What percentile does that correspond to in reaction time?\n",
      "A * The 20th percentile of blood alcohol is (using normal approximation) $\\begin{aligned}\n",
      "     \\lefteqn{0.14 + 0.04 \\times \\text{20th percentile of normal}} \\\\\n",
      "     & \\qquad = 0.14 + 0.04 \\times (-0.84) \\\\\n",
      "     & \\qquad = 0.11\n",
      "     \\end{aligned}$ So, we predict a reaction time of $0.14 + 2 \\times 0.11 = 0.36$"
     ]
    },
    {
     "cell_type": "heading",
     "level": 3,
     "metadata": {
      "slideshow": {
       "slide_type": "slide"
      }
     },
     "prompt_number": 6,
     "source": [
      "Regression"
     ]
    },
    {
     "cell_type": "markdown",
     "metadata": {},
     "prompt_number": 6,
     "source": [
      "\n",
      "Question c) continued\n",
      "\n",
      "This is $(0.36-0.42)/0.1=-0.6$ in standardized units, so it corresponds to roughly the 30th percentile (from A-104)\n",
      "Question d)\n",
      "\n",
      "Q * Predict the amount of alcohol a person has in her bloodstream if the reaction time is 0.37 seconds.\n",
      "A * Using the A2 form from part a), we predict $0.14 + 0.8 \\times \\frac{0.04}{0.1} (0.37-0.42) = 0.124 \\%$"
     ]
    },
    {
     "cell_type": "heading",
     "level": 3,
     "metadata": {
      "slideshow": {
       "slide_type": "slide"
      }
     },
     "prompt_number": 6,
     "source": [
      "Regression"
     ]
    },
    {
     "cell_type": "markdown",
     "metadata": {},
     "prompt_number": 6,
     "source": [
      "\n",
      "Regression fallacy\n",
      "\n",
      "* Note that someone in the 20th percentile of alcohol level had predicted 30th percentile in reaction time.\n",
      "* This is a general phenomenon, Galton referred to it as \"regression to mediocrity.\"\n",
      "Test-retest version of regression fallacy\n",
      " In a test-retest situation, usually the bottom group on the first test will show some improvement, and the top group will fall back."
     ]
    },
    {
     "cell_type": "heading",
     "level": 3,
     "metadata": {
      "slideshow": {
       "slide_type": "slide"
      }
     },
     "prompt_number": 6,
     "source": [
      "Regression"
     ]
    },
    {
     "cell_type": "markdown",
     "metadata": {},
     "prompt_number": 6,
     "source": [
      "\n",
      " of regression\n",
      "\n",
      "* Regression line is chosen to minimize the r.m.s. of the residuals of all ines $$\n",
      "* () &=\n",
      "  &=\n",
      "  \n",
      "* $$\n",
      "* This r.m.s. is always less than the SD of the dependent variable ($Y$) alone $$ () = (Y) $\\item Useful if data cloud is {\\em football shaped}.\n",
      "     \\end{itemize}\n",
      "     \\end{block}\n",
      "     \\end{frame}\n",
      "  \n",
      "     \n",
      "     \\begin{frame} \\frametitle{Regression}\n",
      "  \n",
      "     \\begin{block}\n",
      "     {Example: using regression r.m.s. in vertical strips}\n",
      "     \\begin{itemize}\n",
      "     \\item Given the following$\n",
      "* &= 62.4\n",
      "   &= 2.3\n",
      "   &= 63.8\n",
      "   &= 2.6\n",
      "   &= 0.49\n",
      "* $Of mothers of height 66in, what percentage\n",
      "     of their daughters will have height above 67in?\n",
      "  \n",
      "     \\end{itemize}\n",
      "     \\end{block}\n",
      "     \\end{frame}\n",
      "  \n",
      "     \n",
      "     \\begin{frame} \\frametitle{Regression}\n",
      "  \n",
      "     \\begin{block}\n",
      "     {Answer}\n",
      "     \\begin{itemize}\n",
      "     \\item Slope of regression line is$ = 0.49 = 0.54 $\\item The average height of daughters of\n",
      "     mothers of height 66in is$ 63.8 + 0.54 (66 - 62.4) = 65.7 $\\item The SD is taken to be r.m.s. of regression$ 0.87 2.6 = 2.3. $$\n",
      "* 67 in corresponds to $(67-65.7)/2.3=0.6$ standardized units.\n",
      "* From A-104, the percentage is roughly 27%."
     ]
    },
    {
     "cell_type": "heading",
     "level": 3,
     "metadata": {
      "slideshow": {
       "slide_type": "slide"
      }
     },
     "prompt_number": 6,
     "source": [
      "Probability"
     ]
    },
    {
     "cell_type": "markdown",
     "metadata": {},
     "prompt_number": 6,
     "source": [
      "\n",
      "Multiplication rule\n",
      "\n",
      "* $P(A \\cap B) = P(B|A) \\times P(A).$\n",
      "* Independence: two events $A$ and $B$ are independent if $P(A \\cap B) = P(B) \\times P(A).$"
     ]
    },
    {
     "cell_type": "heading",
     "level": 3,
     "metadata": {
      "slideshow": {
       "slide_type": "slide"
      }
     },
     "prompt_number": 6,
     "source": [
      "Probability"
     ]
    },
    {
     "cell_type": "markdown",
     "metadata": {},
     "prompt_number": 6,
     "source": [
      "\n",
      "Addition rule\n",
      "\n",
      "* If the events $E_1, E_2$ are mutually exclusive, then $$ P() = P(E<sup>1</sup>) + P(E<sup>2</sup>). $$\n",
      "* This rule works for more than two: if $[E_1, \\dots, E_n]$ are mutually exclusive, then $$ P() = <sup>i=1</sup><sup>n</sup> P(E<sup>i</sup>). $\\item If not mutually exclusive$ P(E<sup>1</sup> E<sup>2</sup>) = P(E<sup>1</sup>) + P(E<sup>2</sup>) - P(E<sup>1</sup> E<sup>2</sup>) $$"
     ]
    },
    {
     "cell_type": "heading",
     "level": 3,
     "metadata": {
      "slideshow": {
       "slide_type": "slide"
      }
     },
     "prompt_number": 6,
     "source": [
      "Non-mutually exclusive events"
     ]
    },
    {
     "cell_type": "code",
     "collapsed": false,
     "input": [
      "\n",
      "cir = matplotlib.patches.Circle\n",
      "\n",
      "a = pylab.gca()\n",
      "# add a circle\n",
      "E1 = cir((0.5,0.5), 0.4,ec=\"black\", facecolor='yellow',lw=2, alpha=0.4)\n",
      "E2 = cir((0.2,0.2), 0.4,ec=\"black\", facecolor='blue',lw=2, alpha=0.4)\n",
      "a.add_patch(E1)\n",
      "a.add_patch(E2)\n",
      "a.set_xticks([])\n",
      "a.set_yticks([])\n",
      "a.set_xlim([-0.3,1])\n",
      "a.set_ylim([-0.3,1])"
     ],
     "language": "python",
     "metadata": {},
     "outputs": [],
     "prompt_number": 6
    },
    {
     "cell_type": "heading",
     "level": 3,
     "metadata": {
      "slideshow": {
       "slide_type": "slide"
      }
     },
     "prompt_number": 7,
     "source": [
      "Probability"
     ]
    },
    {
     "cell_type": "markdown",
     "metadata": {},
     "prompt_number": 7,
     "source": [
      "\n",
      "What are the chances the sum will be greater than or equal to 7?\n",
      "\n",
      "\n",
      " |  |  |  |  | \n",
      "--- | --- | --- | --- | --- | ---\n",
      " |  |  |  |  |  \n",
      "\n",
      " |  |  |  |  \n",
      " |  \n",
      "\n",
      " |  |  |  \n",
      " |  \n",
      " |  \n",
      "\n",
      " |  |  \n",
      " |  \n",
      " |  \n",
      " |  \n",
      "\n",
      " |  \n",
      " |  \n",
      " |  \n",
      " |  \n",
      " |  \n",
      "\n",
      " \n",
      " |  \n",
      " |  \n",
      " |  \n",
      " |  \n",
      " |  \n",
      "\n",
      "There are 21 outcomes whose sum is greater than or equal to 7. Therefore, the chances are $\\frac{21}{36}=\\frac{7}{12}$."
     ]
    },
    {
     "cell_type": "heading",
     "level": 3,
     "metadata": {
      "slideshow": {
       "slide_type": "slide"
      }
     },
     "prompt_number": 7,
     "source": [
      "Probability"
     ]
    },
    {
     "cell_type": "markdown",
     "metadata": {},
     "prompt_number": 7,
     "source": [
      "\n",
      "Complement of an event\n",
      "\n",
      "* Formally, the \"opposite\" rule is the rule of *complements*\n",
      "  .\n",
      "* We write the complement of an event $E$ as $E^c$ $P(\\text{not} \\, E) = P(E^c).$\n",
      "* The rule of *complements*\n",
      "   says $P(E^c) = 1 - P(E)$"
     ]
    },
    {
     "cell_type": "heading",
     "level": 3,
     "metadata": {
      "slideshow": {
       "slide_type": "slide"
      }
     },
     "prompt_number": 7,
     "source": [
      "Probability"
     ]
    },
    {
     "cell_type": "markdown",
     "metadata": {},
     "prompt_number": 7,
     "source": [
      "\n",
      "Bayes\u2019 theorem\n",
      "\n",
      "* Given two events $A$ and $B$ $\\begin{aligned}\n",
      "     P(A|B) &= \\frac{P(B \\, \\text{and} \\,  A)}{P(B)} \\\\\n",
      "     &= \\frac{P(B|A)\\times P(A)}{P(B)} \\\\\n",
      "     &= \\frac{P(B|A) \\times P(A)}{P(B|A) \\times P(A) + P(B|A^c) \\times P(A^c)     } \\\\\n",
      "     \\end{aligned}$\n",
      "* A consequence of the multiplication rule \u2026"
     ]
    },
    {
     "cell_type": "heading",
     "level": 3,
     "metadata": {
      "slideshow": {
       "slide_type": "slide"
      }
     },
     "prompt_number": 7,
     "source": [
      "Binomial formula"
     ]
    },
    {
     "cell_type": "markdown",
     "metadata": {},
     "prompt_number": 7,
     "source": [
      "\n",
      "Drawing $k$ balls out of $n$, ignoring order\n",
      "\n",
      "The number of ways of drawing $k$ balls without replacement (ignoring order) from $n$ is $\\binom{n}{k} = \\frac{n!}{k! \\times (n-k)!}$"
     ]
    },
    {
     "cell_type": "heading",
     "level": 3,
     "metadata": {
      "slideshow": {
       "slide_type": "slide"
      }
     },
     "prompt_number": 7,
     "source": [
      "Binomial formula"
     ]
    },
    {
     "cell_type": "markdown",
     "metadata": {},
     "prompt_number": 7,
     "source": [
      "\n",
      "Example\n",
      "\n",
      "Q * When flipping a coin 10 times, how many outcomes are there with 7 heads?\n",
      "A * We can represent this as drawing 7 out of a possible 10 slots for the heads, without order. There are $\\binom{10}{7} = \\frac{10 \\times 9 \\times 8}{3 \\times 2 \\times 1} = 120 \\\n",
      "     \\text{outcomes}$\n",
      "Binomial formula for computing probabilities\n",
      " When performing $n$ independent trials, each with probability of success $p$, the probability of observing exactly $k$ successes is $\\binom{n}{ k} { p^k} {(1-p)^ {n-k}}$"
     ]
    }
   ],
   "metadata": {}
  }
 ]
}
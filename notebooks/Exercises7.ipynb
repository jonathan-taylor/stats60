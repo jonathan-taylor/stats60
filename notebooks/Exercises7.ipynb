{
 "cells": [
  {
   "cell_type": "code",
   "execution_count": null,
   "metadata": {
    "collapsed": false,
    "slideshow": {
     "slide_type": "skip"
    }
   },
   "outputs": [],
   "source": [
    "%matplotlib inline\n",
    "import matplotlib.pyplot as plt\n",
    "from code.utils import probability_histogram\n",
    "from code.probability import SumIntegerRV"
   ]
  },
  {
   "cell_type": "markdown",
   "metadata": {
    "slideshow": {
     "slide_type": "slide"
    }
   },
   "source": [
    "# Chapter 23\n",
    "\n",
    "## Like 23.A.9\n",
    "\n",
    "Two hundred draws are made at random with replacement from [3,4,4,5]. True or False. Explain.\n",
    "\n",
    "1. The expected value for the average of the draws is exactly 4.\n",
    "\n",
    "2. The expected value for the average of the draws is around 4, give or take\n",
    "0.05 or so.\n",
    "\n",
    "3. The average of the draws will be around 4, give or take 0.05 or so.\n",
    "\n",
    "4. The average of the draws will be exactly 4.\n",
    "\n",
    "5. The average of the box is exactly 4.\n",
    "\n",
    "6. The average of the box is around 4, give or take 0.05 or so.\n"
   ]
  },
  {
   "cell_type": "code",
   "execution_count": null,
   "metadata": {
    "collapsed": false,
    "slideshow": {
     "slide_type": "fragment"
    }
   },
   "outputs": [],
   "source": []
  },
  {
   "cell_type": "markdown",
   "metadata": {
    "slideshow": {
     "slide_type": "slide"
    }
   },
   "source": [
    "## Like 23.A.10\n",
    "\n",
    "The figure below is a probability histogram for the sum of 25 draws from the box [2,3,4]. However, an investigator needs the probability\n",
    "histogram for the average of these draws, by midnight. A research\n",
    "assistant sys, \"There's nothing to it. All we have to do is change the\n",
    "numbers on the horizontal axis.\" Is that right? If so, the\n",
    "assistant should change 65 to $\\bbox[5px,border:2px solid red]{ }$,\n",
    "75 to $\\bbox[5px,border:2px solid red]{ }$ and 80 to $\\bbox[5px,border:2px solid red]{ }$."
   ]
  },
  {
   "cell_type": "code",
   "execution_count": null,
   "metadata": {
    "collapsed": false,
    "slideshow": {
     "slide_type": "skip"
    }
   },
   "outputs": [],
   "source": [
    "%%capture\n",
    "box = [2,3,4]\n",
    "ax = probability_histogram(SumIntegerRV([0,0,1/3.,1/3.,1/3.], 25))[0]\n",
    "fig = plt.gcf()\n",
    "ax.set_xlabel('Value of the sum')"
   ]
  },
  {
   "cell_type": "code",
   "execution_count": null,
   "metadata": {
    "collapsed": false,
    "slideshow": {
     "slide_type": "fragment"
    }
   },
   "outputs": [],
   "source": [
    "fig"
   ]
  },
  {
   "cell_type": "markdown",
   "metadata": {
    "slideshow": {
     "slide_type": "slide"
    }
   },
   "source": [
    "## 23.B.6\n",
    "\n",
    "A university has 30,000 registered students. As part of a survey, 900 of these students are chosen at random. The average age of the sample students\n",
    "turns out to be 22.3 years, and the SD is 4.5 years.\n",
    "\n",
    "1. The average age of all 30,000 students is estimated as $\\bbox[5px,border:2px solid red]{  22.3 }$  . This estimate is likely to be off by $\\bbox[5px,border:2px solid red]{4.5/30=.15  }$  or so.\n",
    "\n",
    "2. Find a 95% confidence interval for the average age of all 30,000 registered students.\n",
    "\n",
    "**[22.3-2*.15,22.3+2*.15]=[22.0,22.6]**"
   ]
  },
  {
   "cell_type": "markdown",
   "metadata": {
    "slideshow": {
     "slide_type": "slide"
    }
   },
   "source": [
    "## Like 23.C.4\n",
    "\n",
    "Forty draws are made at random with replacement from the box [2,3,4,6].\n",
    "Fill in the blanks with a word or phrase: the SE for the\n",
    "$\\bbox[5px,border:2px solid red]{ sum of draws }$ is 9.4, and the SE for the\n",
    "$\\bbox[5px,border:2px solid red]{ average of draws }$ is 1.4.\n",
    "\n",
    "\n",
    "\n",
    "What is the expected value of the sum of the draws?\n",
    "\n",
    "**3.75*40=150**"
   ]
  },
  {
   "cell_type": "markdown",
   "metadata": {
    "slideshow": {
     "slide_type": "slide"
    }
   },
   "source": [
    "## Like 23.5.6 \n",
    "\n",
    "The NAEP periodically administers tests on different subjects to high school\n",
    "students. In 2004, the grade 12 students in the sample averaged 311 on the\n",
    "mathematics test, the SD was 32. The likely size of the chance error\n",
    "in the 311 is about $\\bbox[5px,border:2px solid red]{}$.\n",
    "\n",
    "1. Can you fill in the blank if a simple random sample of 1,000 students was tested? If so, what is the answer? If not, why not?\n",
    "          \n",
    "2. Can you fill in the blank if a cluster sample of 1,000 students was tested (Cluster sampling is a different type of sampling described in Chapter 22). If so, what is the answer? If not, why not?\n",
    "          "
   ]
  },
  {
   "cell_type": "markdown",
   "metadata": {
    "slideshow": {
     "slide_type": "slide"
    }
   },
   "source": [
    "## 23.5.12\n",
    "\n",
    "One term at the University of California, Berkeley, 400 students\n",
    "took the final in Statistics 2. Their scores averaged 65.3 out of 100, and the SD was 25. Now,\n",
    "$$\n",
    "\\sqrt{400} \\times 25 = 500, \\qquad 500/400 = 1.25.\n",
    "$$\n",
    "Is $65.3 \\pm 2.5$ a 95% confidence interval? If so, for what? If not, why not?\n",
    "\n",
    "**Not a confidence interval. For one thing, we don't know what chance process it uses. This is a sample of convenience not a simple random sample.**"
   ]
  },
  {
   "cell_type": "markdown",
   "metadata": {
    "slideshow": {
     "slide_type": "slide"
    }
   },
   "source": [
    "## 24.B.2\n",
    "\n",
    "In San Francisco, it rains on about 17% of the days in an average year.\n",
    "Someone proposes the following chance model for the sequence of dry\n",
    "and rainy days: draw with replacement from a box containing\n",
    "one card marked \"rainy\" and five cards marked \"dry\". Is this a good model?\n",
    "\n"
   ]
  },
  {
   "cell_type": "markdown",
   "metadata": {
    "slideshow": {
     "slide_type": "slide"
    }
   },
   "source": [
    "## 24.C.5\n",
    "\n",
    "The Bureau is about to weigh a one-kilogram checkweight 100 times,\n",
    "and take the average of the measurements. They are willing to assume\n",
    "the Gauss model, with no bias, and on the basis of past experience\n",
    "they estimate the SD of the error box to be 50 micrograms.\n",
    "\n",
    "1. The average of all 100 measurements is likely to be off the exact\n",
    "weight by $\\bbox[5px,border:2px solid red]{  }$  or so.\n",
    "\n",
    "2. The SD of all 100 measurements is likely to be around $\\bbox[5px,border:2px solid red]{  }$ .\n",
    "\n",
    "3. Estimate the probability that the average of all 100 measurements\n",
    "will be within 10 micrograms of the exact weight.\n",
    " \n"
   ]
  },
  {
   "cell_type": "markdown",
   "metadata": {
    "slideshow": {
     "slide_type": "slide"
    }
   },
   "source": [
    "## 24.5.6\n",
    "\n",
    "In 2005, the average of the daily maximum temperature at San Francisco airport was 65.8 degrees, and the SD was 7.0 degrees. Now,\n",
    "$$\n",
    "\\sqrt{365} \\times 7.0 \\approx 134, \\qquad 134 / 365 \\approx 0.4.\n",
    "$$\n",
    "True or false: a 95% confidence interval for the average daily maximum temperature at San Francisco airport is $65.8 \\pm 0.8$ degrees. Explain briefly.\n",
    "\n",
    "        "
   ]
  },
  {
   "cell_type": "code",
   "execution_count": null,
   "metadata": {
    "collapsed": false,
    "slideshow": {
     "slide_type": "fragment"
    }
   },
   "outputs": [],
   "source": []
  },
  {
   "cell_type": "markdown",
   "metadata": {
    "slideshow": {
     "slide_type": "slide"
    }
   },
   "source": [
    "## Like 24.5.9\n",
    "\n",
    "A machine makes chocolate bars whose average weight is 4.0 ounces, the SD of the weights is 0.1 ounces. There is no trend or pattern in the data.\n",
    "There are 2 bars to a box.\n",
    "\n",
    "1. A package weighs $\\bbox[5px,border:2px solid red]{  }$  give or take $\\bbox[5px,border:2px solid red]{  }$  or so.\n",
    "\n",
    "2. A store buys 100 packages. Estimate the chance taht they get 50 pounds of chocolate, to within 2 ounces."
   ]
  },
  {
   "cell_type": "markdown",
   "metadata": {
    "slideshow": {
     "slide_type": "slide"
    }
   },
   "source": [
    "## 26.C.2\n",
    "\n",
    "According to one investigator's model, the data are like 50\n",
    "draws made at random from a large box. The null hypothesis says that the average of the box equals 100.\n",
    "The alternative says that the average of the box is more than 100. The average of the draws is 107.3 and the SD is 22.1. The SE for the sample average is 3.1.\n",
    "\n",
    "Now, $$\n",
    "z = (107.3-100)/3.1=2.35, \\qquad P=1\\%\n",
    "$$\n",
    "\n",
    "True or false.\n",
    "\n",
    "1. If the null hypothesis is right, there is only a 1% chance of getting a $z$ bigger than 2.35.  **True.**\n",
    "\n",
    "2. The probability of the null hypothesis  is true given the data is 1%. **False. P-value is not the probability the null hypothesis is true!**"
   ]
  },
  {
   "cell_type": "markdown",
   "metadata": {
    "slideshow": {
     "slide_type": "slide"
    }
   },
   "source": [
    "## 26.C.4\n",
    "\n",
    "According to one investigator's model, the data are like\n",
    "400 draws made at random from a large box. The null\n",
    "hypothesis says that the average of the box equals 50;\n",
    "the alternative says that the average of the box is more than 50. In fact, the data averaged out to 52.7, and the SD was 25. Compute \n",
    "$z$ and the $p$-value. What do you conclude?"
   ]
  },
  {
   "cell_type": "code",
   "execution_count": null,
   "metadata": {
    "collapsed": false,
    "slideshow": {
     "slide_type": "fragment"
    }
   },
   "outputs": [],
   "source": [
    "Z = (52.7 - 50) / (25 / 20)\n",
    "Z"
   ]
  },
  {
   "cell_type": "markdown",
   "metadata": {
    "slideshow": {
     "slide_type": "slide"
    }
   },
   "source": [
    "## 26.D.2\n",
    "\n",
    "True or false:\n",
    "\n",
    "1. If $P$ is 43% the null hypothesis looks plausible.\n",
    "\n",
    "2. If $P$ is 0.43 of 1% the null hypothesis looks implausible."
   ]
  },
  {
   "cell_type": "markdown",
   "metadata": {
    "slideshow": {
     "slide_type": "slide"
    }
   },
   "source": [
    "## 26.E.7\n",
    "\n",
    "A coin is tossed 10,000 times and it lands heads 5,167 times. Is the chance of heads equal to 50%? Or are there too many heads for that?\n",
    "\n",
    "1. Formulate the null and alternative hypotheses in terms of a box model.\n",
    "     \n",
    "2. Compute $z$ and the $p$-value.\n",
    "\n",
    "3. What do you conclude?\n"
   ]
  },
  {
   "cell_type": "code",
   "execution_count": null,
   "metadata": {
    "collapsed": false,
    "slideshow": {
     "slide_type": "fragment"
    }
   },
   "outputs": [],
   "source": []
  },
  {
   "cell_type": "markdown",
   "metadata": {
    "slideshow": {
     "slide_type": "slide"
    }
   },
   "source": [
    "## 26.E.9\n",
    "\n",
    "One hundred draws are made at random with replacement from a box\n",
    "of tickets; each ticket has a number written on it. The average of the draws is 29 and the SD of the draws is 40. You see a statistician make\n",
    "the following calculation:\n",
    "$$\n",
    "z = \\frac{29-20}{4} = 2.25, \\qquad P=1\\%\n",
    "$$\n",
    "\n",
    "1. She seems to be testing something about the average of the $\\bbox[5px,border:2px solid red]{box  }$. (Options: sample, box).\n",
    "\n",
    "2. What would you say is the null hypothesis in the above test?\n",
    "\n",
    "   **H_0: average of the box is 20.**\n",
    "\n",
    "3. True or false: there is about a 1% chance for the null hypothesis\n",
    "to be right.\n",
    "    **False. P-value is not the probability the null is true.**"
   ]
  },
  {
   "cell_type": "markdown",
   "metadata": {
    "slideshow": {
     "slide_type": "slide"
    }
   },
   "source": [
    "## 26.7.1\n",
    "\n",
    "True or false, and explain.\n",
    "\n",
    "1. The $P$-value of a test equals its observed significance level.\n",
    "\n",
    "   **True.**\n",
    "2. The alternative hypothesis is another way of explaining the results; it says the difference is due to chance.\n",
    "\n",
    "    **False. It is the null hypothesis that attributes the difference to chacne.**"
   ]
  },
  {
   "cell_type": "markdown",
   "metadata": {
    "slideshow": {
     "slide_type": "slide"
    }
   },
   "source": [
    "## Like 26.7.2 \n",
    "\n",
    "With a perfectly balanced roulette wheel, in the long run, odd numbers\n",
    "should turn up 18 times in 36 when the result is not\n",
    "a 0 or 00. To test its wheel, one casino records\n",
    "the results of 4000 plays, 3825 outcomes that were not 0 our 00\n",
    "of which 2,001 were odd numbers. Is that too many odds?\n",
    "Or chance variation?\n",
    "\n",
    "1. Formulate the null and alternative hypotheses as statements about a box model.\n",
    "\n",
    "2. The null says that the percentage of odds in the box is $\\bbox[5px,border:2px solid red]{  }$.\n",
    "the alternative says that the percentage of odds in the box is $\\bbox[5px,border:2px solid red]{  }$. Fill in the blanks.\n",
    "\n",
    "3. Compute $z$ and the $P$-value.\n",
    "\n",
    "4. Were there too many odd numbers?"
   ]
  },
  {
   "cell_type": "code",
   "execution_count": null,
   "metadata": {
    "collapsed": false,
    "slideshow": {
     "slide_type": "fragment"
    }
   },
   "outputs": [],
   "source": []
  }
 ],
 "metadata": {
  "celltoolbar": "Slideshow",
  "kernelspec": {
   "display_name": "Python 2",
   "language": "python",
   "name": "python2"
  },
  "language_info": {
   "codemirror_mode": {
    "name": "ipython",
    "version": 2
   },
   "file_extension": ".py",
   "mimetype": "text/x-python",
   "name": "python",
   "nbconvert_exporter": "python",
   "pygments_lexer": "ipython2",
   "version": "2.7.11"
  }
 },
 "nbformat": 4,
 "nbformat_minor": 0
}

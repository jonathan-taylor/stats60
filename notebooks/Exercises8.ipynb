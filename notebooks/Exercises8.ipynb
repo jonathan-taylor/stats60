{
 "cells": [
  {
   "cell_type": "code",
   "execution_count": null,
   "metadata": {
    "collapsed": true
   },
   "outputs": [],
   "source": [
    "import numpy as np"
   ]
  },
  {
   "cell_type": "markdown",
   "metadata": {},
   "source": [
    "## 26.F.3\n",
    "\n",
    "True or False. To make a $t$-test with 4 measurements, use \n",
    "Student's curve with 4 degrees of freedom.\n"
   ]
  },
  {
   "cell_type": "markdown",
   "metadata": {},
   "source": [
    "## 26.C.2\n",
    "\n",
    "Is Wheaties a power breakfast? A study is done in an elementary\n",
    "statistics class; 499 students agree to participate.\n",
    "After the midterm, 250 are randomized to the treatment group and \n",
    "249 to the control group. The treatment group is fed Wheaties\n",
    "for breakfast 7 days a week. The control group gets Sugar Pops.\n",
    "\n",
    "1. Final scores averaged 66 for the treatment group; the SD was 21.\n",
    "For the control group, the figures were 59 and 20. What do you conclude?\n"
   ]
  },
  {
   "cell_type": "code",
   "execution_count": null,
   "metadata": {
    "collapsed": false
   },
   "outputs": [],
   "source": []
  },
  {
   "cell_type": "markdown",
   "metadata": {},
   "source": [
    "## 26.C.5\n",
    "\n",
    "In the box below, each ticket has a left-hand number and a right-hand number:"
   ]
  },
  {
   "cell_type": "code",
   "execution_count": null,
   "metadata": {
    "collapsed": false
   },
   "outputs": [],
   "source": [
    "box = np.array([(0,4), (2,0), (3,6), (4,12), (6,8)])"
   ]
  },
  {
   "cell_type": "markdown",
   "metadata": {},
   "source": [
    "(For instance, the left hand number on `(0,4)` is 0 and the right hand number is 4). One hundred draws are made at random with replacement from this box.\n",
    "One investigator computes the average of the left-hand numbers. A second \n",
    "investigator computes the average of the right-hand numbers. True or false, and explain:\n",
    "\n",
    "1. The SE for the first average is 0.2.\n",
    "\n",
    "2. The SE for the second average is 0.4.\n",
    "\n",
    "3. The SE for the difference of the two averages is $\\sqrt{0.2^2+0.4^2}$.\n",
    "\n"
   ]
  },
  {
   "cell_type": "code",
   "execution_count": null,
   "metadata": {
    "collapsed": false
   },
   "outputs": [],
   "source": [
    "left, right = box[:,0], box[:,1]\n"
   ]
  },
  {
   "cell_type": "code",
   "execution_count": null,
   "metadata": {
    "collapsed": false
   },
   "outputs": [],
   "source": []
  },
  {
   "cell_type": "markdown",
   "metadata": {},
   "source": [
    "## Example of a $t$-test\n",
    "\n",
    "A new device is being calibrated by weighing a 100g weight. Based on previous work, the errors\n",
    "follow the normal curve quite closely. The measurements are:"
   ]
  },
  {
   "cell_type": "code",
   "execution_count": null,
   "metadata": {
    "collapsed": false
   },
   "outputs": [],
   "source": [
    "measurements = [101.,   96.,  101.,  102.,  102.,  103.,  108.,   99.,   97.,  103.]"
   ]
  },
  {
   "cell_type": "markdown",
   "metadata": {},
   "source": [
    "Is the device biased? Set the problem up as a hypothesis test.\n",
    "\n",
    "1. What is the null hypothesis? The alternative?\n",
    "\n",
    "       H_0: true value (i.e. expected(measurement)) =100,\n",
    "       H_a: expected(measurement) != 100\n",
    "\n",
    "2. Compute the $t$-statistic and your conclusion."
   ]
  },
  {
   "cell_type": "code",
   "execution_count": null,
   "metadata": {
    "collapsed": false
   },
   "outputs": [],
   "source": []
  },
  {
   "cell_type": "markdown",
   "metadata": {},
   "source": [
    "For degrees of freedom =9, the 5% cutoff is 2.26 in absolute value. We do not reject H_0 at the 5% level.\n",
    "\n",
    "What if we wanted to form a 95% confidence interval for the expected measurement\n",
    "based on our sample?\n",
    "\n",
    "A 95% confidence interval is $101.2 \\pm 2.26 * 1.07$."
   ]
  },
  {
   "cell_type": "markdown",
   "metadata": {},
   "source": [
    "## 27.D.2\n",
    "\n",
    "In the Salk vaccine trial, 400,000 children were part of a randomized\n",
    "controlled double-blind experiment. Just about half of them\n",
    "were assigned at random to the vaccine group, and the other half\n",
    "to the placebo. In the vaccine group, there were 57\n",
    "cases of polio, compared to 142 in the placebo group.\n",
    "\n",
    "Is this difference due to chance? If not, what explains it?"
   ]
  },
  {
   "cell_type": "code",
   "execution_count": null,
   "metadata": {
    "collapsed": false
   },
   "outputs": [],
   "source": []
  },
  {
   "cell_type": "markdown",
   "metadata": {},
   "source": [
    "                  "
   ]
  },
  {
   "cell_type": "markdown",
   "metadata": {},
   "source": [
    "## 27.D.5\n",
    "\n",
    "A geography test was given to a simple random sample of 250\n",
    "high-school students in a certain large school district.\n",
    "One question involved an outline of a map of Europe, with\n",
    "the countries identified only by number. As it turned out,\n",
    "65.6% could find France, compared to 70.4% or Great Britain.\n",
    "Is the difference statistically significant? Or can this be determined\n",
    "from the information given?"
   ]
  },
  {
   "cell_type": "code",
   "execution_count": null,
   "metadata": {
    "collapsed": false
   },
   "outputs": [],
   "source": []
  }
 ],
 "metadata": {
  "kernelspec": {
   "display_name": "Python 2",
   "language": "python",
   "name": "python2"
  },
  "language_info": {
   "codemirror_mode": {
    "name": "ipython",
    "version": 2
   },
   "file_extension": ".py",
   "mimetype": "text/x-python",
   "name": "python",
   "nbconvert_exporter": "python",
   "pygments_lexer": "ipython2",
   "version": "2.7.11"
  }
 },
 "nbformat": 4,
 "nbformat_minor": 0
}

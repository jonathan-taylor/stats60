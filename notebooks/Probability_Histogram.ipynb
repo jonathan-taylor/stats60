{
 "cells": [
  {
   "cell_type": "code",
   "execution_count": null,
   "metadata": {
    "collapsed": false,
    "slideshow": {
     "slide_type": "skip"
    }
   },
   "outputs": [],
   "source": [
    "%matplotlib inline\n",
    "import matplotlib.pyplot as plt\n",
    "import numpy as np\n",
    "from numpy import mean, sqrt\n",
    "from scipy.stats import norm as ndist\n",
    "\n",
    "# stats60 specific\n",
    "from code.probability import BoxModel, Binomial, RandomVariable, SumIntegerRV\n",
    "from code import roulette\n",
    "from code.week1 import standardize_right, standardize_left, normal_curve\n",
    "from code.utils import probability_histogram\n",
    "figsize = (8,8)"
   ]
  },
  {
   "cell_type": "markdown",
   "metadata": {
    "slideshow": {
     "slide_type": "slide"
    }
   },
   "source": [
    "# Probability histogram & normal approximation\n",
    "\n",
    "- This chapter considers a histogram\n",
    "approximation what we have been calling the `mass_function`\n",
    "of the `sum of draws`.\n",
    "\n",
    "- It turns out, that with enough draws, the sample histogram begins to follow\n",
    "the normal curve."
   ]
  },
  {
   "cell_type": "markdown",
   "metadata": {
    "slideshow": {
     "slide_type": "slide"
    }
   },
   "source": [
    "## Probability histogram for tossing a fair coin\n",
    "\n",
    "- When tossing a fair coin, there is 1/2 probability of getting 1 head, 1/2 of getting 0 heads.\n",
    "- We can make a histogram with an rectangle of width 1, area 1/2 around 0, and an identical rectangle around 1."
   ]
  },
  {
   "cell_type": "code",
   "execution_count": null,
   "metadata": {
    "collapsed": false,
    "slideshow": {
     "slide_type": "fragment"
    }
   },
   "outputs": [],
   "source": [
    "coin_trial = BoxModel(['H','T'])\n",
    "coin_trial.mass_function"
   ]
  },
  {
   "cell_type": "markdown",
   "metadata": {
    "slideshow": {
     "slide_type": "slide"
    }
   },
   "source": [
    "### Probability histogram of successes"
   ]
  },
  {
   "cell_type": "code",
   "execution_count": null,
   "metadata": {
    "collapsed": false,
    "slideshow": {
     "slide_type": "skip"
    }
   },
   "outputs": [],
   "source": [
    "%%capture\n",
    "one_toss = plt.figure(figsize=figsize)\n",
    "one_toss_ax = probability_histogram(Binomial(1, coin_trial, ['H']),\n",
    "                                    draw_bins=np.arange(2)-0.5,\n",
    "                                    alpha=0.5, facecolor='gray',\n",
    "                                    xlabel='Number of heads',\n",
    "                                    ylabel='% per head')[0]\n",
    "one_toss_ax.set_xlim([-0.6,1.6])"
   ]
  },
  {
   "cell_type": "code",
   "execution_count": null,
   "metadata": {
    "collapsed": false,
    "slideshow": {
     "slide_type": "fragment"
    }
   },
   "outputs": [],
   "source": [
    "one_toss"
   ]
  },
  {
   "cell_type": "markdown",
   "metadata": {
    "slideshow": {
     "slide_type": "slide"
    }
   },
   "source": [
    "## Difference between probability histogram and mass function\n",
    "\n",
    "- The `mass_function` tells us the exact chances of either 0 or 1 success\n",
    "in our trial.\n",
    "\n",
    "- The probability histogram is based on breaking the numbers into bins (like\n",
    "we did with sample data earlier). \n",
    "\n",
    "- It then finds all the `mass` in those bins.\n",
    "\n",
    "- In our example, we have two bins: [-0.5,0.5) and [0.5,1.5).\n",
    "\n",
    "- There is chances 1/2 for the successes to be in the first bin, and \n",
    "chances 1/2 in the second.\n",
    "\n",
    "- Just as in a histogram for data, areas of bars represents percentages (chances).\n"
   ]
  },
  {
   "cell_type": "markdown",
   "metadata": {
    "slideshow": {
     "slide_type": "slide"
    }
   },
   "source": [
    "## Tossing a fair coin twice\n",
    "\n",
    "* When tossing a fair coin twice , there is\n",
    "*     * 1/4 probability of getting 2 heads\n",
    "      * 1/2 probability of getting 1 head\n",
    "      * 1/4 probability of getting 0 heads\n",
    "* We can make similarly make a histogram for this experiment.\n",
    "* This histogram is called a *probability histogram*.\n"
   ]
  },
  {
   "cell_type": "markdown",
   "metadata": {
    "slideshow": {
     "slide_type": "slide"
    }
   },
   "source": [
    "### Probability histogram of successes"
   ]
  },
  {
   "cell_type": "code",
   "execution_count": null,
   "metadata": {
    "collapsed": false,
    "slideshow": {
     "slide_type": "skip"
    }
   },
   "outputs": [],
   "source": [
    "%%capture\n",
    "two_toss = plt.figure(figsize=figsize)\n",
    "two_toss_ax = probability_histogram(Binomial(2, coin_trial, ['H']),\n",
    "                                    draw_bins=np.arange(3)-0.5,\n",
    "                                    alpha=0.5, facecolor='gray',\n",
    "                                    xlabel='Number of heads',\n",
    "                                    ylabel='% per head')[0]\n",
    "two_toss_ax.set_xlim([-0.6,2.6])\n",
    "two_toss_ax.legend()\n"
   ]
  },
  {
   "cell_type": "code",
   "execution_count": null,
   "metadata": {
    "collapsed": false,
    "slideshow": {
     "slide_type": "fragment"
    }
   },
   "outputs": [],
   "source": [
    "two_toss"
   ]
  },
  {
   "cell_type": "markdown",
   "metadata": {
    "slideshow": {
     "slide_type": "slide"
    }
   },
   "source": [
    "Let's compare this with\n",
    "the actual number of successes if we toss a fair coin many times."
   ]
  },
  {
   "cell_type": "code",
   "execution_count": null,
   "metadata": {
    "collapsed": false,
    "slideshow": {
     "slide_type": "fragment"
    }
   },
   "outputs": [],
   "source": [
    "two_draws = Binomial(2, BoxModel(['H','T']), ['H'])\n",
    "two_draws.mass_function"
   ]
  },
  {
   "cell_type": "code",
   "execution_count": null,
   "metadata": {
    "collapsed": false,
    "slideshow": {
     "slide_type": "fragment"
    }
   },
   "outputs": [],
   "source": [
    "two_draws.sample(5)"
   ]
  },
  {
   "cell_type": "code",
   "execution_count": null,
   "metadata": {
    "collapsed": false,
    "slideshow": {
     "slide_type": "skip"
    }
   },
   "outputs": [],
   "source": [
    "%%capture\n",
    "two_toss = plt.figure(figsize=figsize)\n",
    "two_toss_ax = probability_histogram(Binomial(2, coin_trial, ['H']),\n",
    "                                    bins=np.arange(4)-0.5,\n",
    "                                    alpha=0.5, facecolor='gray',\n",
    "                                    xlabel='Number of heads',\n",
    "                                    ylabel='% per head',\n",
    "                                    ndraws=500)[0]\n",
    "two_toss_ax.set_xlim([-0.6,2.6])\n",
    "two_toss_ax.legend()\n"
   ]
  },
  {
   "cell_type": "code",
   "execution_count": null,
   "metadata": {
    "collapsed": false,
    "slideshow": {
     "slide_type": "fragment"
    }
   },
   "outputs": [],
   "source": [
    "two_toss"
   ]
  },
  {
   "cell_type": "markdown",
   "metadata": {
    "slideshow": {
     "slide_type": "fragment"
    }
   },
   "source": [
    "- The sample histogram looks close to the probability histogram.\n",
    "\n",
    "- As we take a larger sample, the closer it gets."
   ]
  },
  {
   "cell_type": "markdown",
   "metadata": {
    "slideshow": {
     "slide_type": "slide"
    }
   },
   "source": [
    "## Probability histogram: law of large numbers\n",
    "\n",
    "* Choose an experiment (e.g. tossing a fair coin twice and counting the number of heads, $H$).\n",
    "* Repeat the experiment 500 times creating a list $[H_1, H_2, \\dots, H_{500}].$\n",
    "* The frequentist view of probability tells us that the histogram of the list $[H_1, H_2, \\dots, H_{500}]$ should look like the *probability histogram*.\n",
    "* Or, the empirical histogram *converges* to the probability histogram.\n",
    "* We call this the *Law of Large Numbers*\n",
    "  "
   ]
  },
  {
   "cell_type": "code",
   "execution_count": null,
   "metadata": {
    "collapsed": false,
    "slideshow": {
     "slide_type": "skip"
    }
   },
   "outputs": [],
   "source": [
    "%%capture\n",
    "tosses = {}\n",
    "ntoss = 5\n",
    "tosses[ntoss] = plt.figure(figsize=figsize)\n",
    "probability_histogram(Binomial(ntoss, coin_trial, ['H']),\n",
    "                                    bins=np.arange(7)-0.5,\n",
    "                                    alpha=0.5, facecolor='gray',\n",
    "                                    xlabel='Number of heads',\n",
    "                                    ylabel='% per heads',\n",
    "                                    ndraws=500)\n",
    "tosses[ntoss].gca().set_xlim([-0.6,5.6])\n",
    "tosses[ntoss].gca().legend()\n"
   ]
  },
  {
   "cell_type": "code",
   "execution_count": null,
   "metadata": {
    "collapsed": false,
    "slideshow": {
     "slide_type": "fragment"
    }
   },
   "outputs": [],
   "source": [
    "tosses[5]"
   ]
  },
  {
   "cell_type": "markdown",
   "metadata": {
    "slideshow": {
     "slide_type": "slide"
    }
   },
   "source": [
    "### Probability histogram of successes"
   ]
  },
  {
   "cell_type": "code",
   "execution_count": null,
   "metadata": {
    "collapsed": false,
    "slideshow": {
     "slide_type": "skip"
    }
   },
   "outputs": [],
   "source": [
    "%%capture\n",
    "ntoss = 30\n",
    "tosses[ntoss] = plt.figure(figsize=figsize)\n",
    "probability_histogram(Binomial(ntoss, coin_trial, ['H']),\n",
    "                                    bins=np.arange(32)-0.5,\n",
    "                                    alpha=0.5, facecolor='gray',\n",
    "                                    xlabel='Number of heads',\n",
    "                                    ylabel='% per heads',\n",
    "                                    ndraws=500)\n",
    "tosses[ntoss].gca().set_xlim([5.6,25.6])\n",
    "tosses[ntoss].gca().legend()\n"
   ]
  },
  {
   "cell_type": "code",
   "execution_count": null,
   "metadata": {
    "collapsed": false,
    "slideshow": {
     "slide_type": "fragment"
    }
   },
   "outputs": [],
   "source": [
    "tosses[30]"
   ]
  },
  {
   "cell_type": "markdown",
   "metadata": {
    "slideshow": {
     "slide_type": "fragment"
    }
   },
   "source": [
    "The probability histogram looks a lot like a normal curve!\n",
    "\n",
    "**This is not an accident!**"
   ]
  },
  {
   "cell_type": "markdown",
   "metadata": {
    "slideshow": {
     "slide_type": "slide"
    }
   },
   "source": [
    "## Roulette\n",
    "\n",
    "Let's look at another of our usual games: roulette.\n",
    "\n",
    "The numbers [2,24,29] are my lucky numbers. I think I will try betting on them!"
   ]
  },
  {
   "cell_type": "code",
   "execution_count": null,
   "metadata": {
    "collapsed": false,
    "slideshow": {
     "slide_type": "fragment"
    }
   },
   "outputs": [],
   "source": [
    "roulette.examples['lucky numbers']"
   ]
  },
  {
   "cell_type": "markdown",
   "metadata": {
    "slideshow": {
     "slide_type": "slide"
    }
   },
   "source": [
    "### Probability histogram of successes"
   ]
  },
  {
   "cell_type": "code",
   "execution_count": null,
   "metadata": {
    "collapsed": false,
    "slideshow": {
     "slide_type": "skip"
    }
   },
   "outputs": [],
   "source": [
    "%%capture\n",
    "lucky_numbers = {}\n",
    "nbet = 10\n",
    "lucky_trial = roulette.examples['lucky numbers'].model\n",
    "lucky_numbers[nbet] = plt.figure(figsize=figsize)\n",
    "probability_histogram(Binomial(nbet, lucky_trial, None),\n",
    "                                    bins=np.arange(12)-0.5,\n",
    "                                    alpha=0.5, facecolor='gray',\n",
    "                                    xlabel='Number of successes',\n",
    "                                    ylabel='% per success')\n",
    "lucky_numbers[nbet].gca().set_xlim([-0.6,5.6])\n",
    "lucky_numbers[nbet].gca().set_title('After %d bets' % nbet, fontsize=15)\n",
    "lucky_numbers[nbet].gca().legend()\n"
   ]
  },
  {
   "cell_type": "code",
   "execution_count": null,
   "metadata": {
    "collapsed": false,
    "slideshow": {
     "slide_type": "fragment"
    }
   },
   "outputs": [],
   "source": [
    "lucky_numbers[10]\n"
   ]
  },
  {
   "cell_type": "code",
   "execution_count": null,
   "metadata": {
    "collapsed": false,
    "slideshow": {
     "slide_type": "skip"
    }
   },
   "outputs": [],
   "source": [
    "%%capture\n",
    "nbet = 100\n",
    "lucky_numbers[nbet] = plt.figure(figsize=figsize)\n",
    "probability_histogram(Binomial(nbet, lucky_trial, None),\n",
    "                                    bins=np.arange(12)-0.5,\n",
    "                                    alpha=0.5, facecolor='gray',\n",
    "                                    xlabel='Number of successes',\n",
    "                                    ylabel='% per success')\n",
    "lucky_numbers[nbet].gca().set_xlim([-0.6,20.6])\n",
    "lucky_numbers[nbet].gca().set_title('After %d bets' % nbet, fontsize=15)\n",
    "lucky_numbers[nbet].gca().legend()\n",
    "\n"
   ]
  },
  {
   "cell_type": "code",
   "execution_count": null,
   "metadata": {
    "collapsed": false,
    "slideshow": {
     "slide_type": "fragment"
    }
   },
   "outputs": [],
   "source": [
    "lucky_numbers[100]"
   ]
  },
  {
   "cell_type": "markdown",
   "metadata": {
    "slideshow": {
     "slide_type": "slide"
    }
   },
   "source": [
    "### Probability histogram of successes"
   ]
  },
  {
   "cell_type": "code",
   "execution_count": null,
   "metadata": {
    "collapsed": false,
    "slideshow": {
     "slide_type": "skip"
    }
   },
   "outputs": [],
   "source": [
    "%%capture\n",
    "nbet = 1000\n",
    "lucky_numbers[nbet] = plt.figure(figsize=figsize)\n",
    "probability_histogram(Binomial(nbet, lucky_trial, None),\n",
    "                                    bins=np.arange(12)-0.5,\n",
    "                                    alpha=0.5, facecolor='gray',\n",
    "                                    xlabel='Number of successes',\n",
    "                                    ylabel='% per success')\n",
    "lucky_numbers[nbet].gca().set_xlim([50.6,110.6])\n",
    "lucky_numbers[nbet].gca().set_title('After %d bets' % nbet, fontsize=15)\n",
    "lucky_numbers[nbet].gca().legend()\n",
    "\n",
    "\n"
   ]
  },
  {
   "cell_type": "code",
   "execution_count": null,
   "metadata": {
    "collapsed": false,
    "slideshow": {
     "slide_type": "fragment"
    }
   },
   "outputs": [],
   "source": [
    "lucky_numbers[1000]"
   ]
  },
  {
   "cell_type": "markdown",
   "metadata": {
    "slideshow": {
     "slide_type": "fragment"
    }
   },
   "source": [
    "- After 10 bets, the histogram doesn't look like the normal curve.\n",
    "\n",
    "- Eventually, it looks very close to the normal curve."
   ]
  },
  {
   "cell_type": "markdown",
   "metadata": {
    "slideshow": {
     "slide_type": "slide"
    }
   },
   "source": [
    "# Betting money in roulette\n",
    "\n",
    "- Suppose we start with 100\\$ and use my lucky numbers bet.\n",
    "\n",
    "- In this case, the outcome is now \\$ (and we'll eventually lose to the casino...)"
   ]
  },
  {
   "cell_type": "code",
   "execution_count": null,
   "metadata": {
    "collapsed": false,
    "slideshow": {
     "slide_type": "skip"
    }
   },
   "outputs": [],
   "source": [
    "%%capture\n",
    "winnings = {}\n",
    "nbet = 10\n",
    "winnings[nbet] = plt.figure(figsize=figsize)\n",
    "\n",
    "successes = Binomial(nbet, roulette.examples['lucky numbers'])\n",
    "total = RandomVariable(successes, lambda wins : 100 + 110 * wins - 10 * (nbet - wins) )\n",
    "probability_histogram(total, width=120, facecolor='gray',\n",
    "                      xlabel='Total (\\$)', ylabel='% per \\$')\n",
    "winnings[nbet].gca().set_xlim([-60,610])\n",
    "winnings[nbet].gca().set_title('After %d bets of 10\\$' % nbet, fontsize=15)\n"
   ]
  },
  {
   "cell_type": "code",
   "execution_count": null,
   "metadata": {
    "collapsed": false,
    "slideshow": {
     "slide_type": "slide"
    }
   },
   "outputs": [],
   "source": [
    "winnings[10]"
   ]
  },
  {
   "cell_type": "code",
   "execution_count": null,
   "metadata": {
    "collapsed": false,
    "slideshow": {
     "slide_type": "skip"
    }
   },
   "outputs": [],
   "source": [
    "%%capture\n",
    "winnings = {}\n",
    "nbet = 100\n",
    "winnings[nbet] = plt.figure(figsize=figsize)\n",
    "\n",
    "successes = Binomial(nbet, roulette.examples['lucky numbers'])\n",
    "total = RandomVariable(successes, lambda wins : 100 + 110 * wins - 10 * (nbet - wins) )\n",
    "probability_histogram(total, width=120, facecolor='gray',\n",
    "                      xlabel='Total (\\$)', ylabel='% per \\$')\n",
    "\n",
    "winnings[nbet].gca().set_title('After %d bets of 10\\$' % nbet, fontsize=15)\n"
   ]
  },
  {
   "cell_type": "code",
   "execution_count": null,
   "metadata": {
    "collapsed": false,
    "slideshow": {
     "slide_type": "slide"
    }
   },
   "outputs": [],
   "source": [
    "winnings[100]\n"
   ]
  },
  {
   "cell_type": "code",
   "execution_count": null,
   "metadata": {
    "collapsed": false,
    "slideshow": {
     "slide_type": "skip"
    }
   },
   "outputs": [],
   "source": [
    "%%capture\n",
    "winnings = {}\n",
    "nbet = 1000\n",
    "winnings[nbet] = plt.figure(figsize=figsize)\n",
    "\n",
    "successes = Binomial(nbet, roulette.examples['lucky numbers'])\n",
    "total = RandomVariable(successes, lambda wins : 100 + 110 * wins - 10 * (nbet - wins) )\n",
    "probability_histogram(total, width=120, facecolor='gray',\n",
    "                      xlabel='Total (\\$)', ylabel='% per \\$')\n",
    "\n",
    "winnings[nbet].gca().set_title('After %d bets of 10\\$' % nbet, fontsize=15)\n"
   ]
  },
  {
   "cell_type": "code",
   "execution_count": null,
   "metadata": {
    "collapsed": false,
    "slideshow": {
     "slide_type": "slide"
    }
   },
   "outputs": [],
   "source": [
    "winnings[1000]"
   ]
  },
  {
   "cell_type": "markdown",
   "metadata": {
    "slideshow": {
     "slide_type": "slide"
    }
   },
   "source": [
    "## Normal approximation\n",
    "\n",
    "### Central limit theorem\n",
    "\n",
    "* When making many independent draws from a box, the central limit theorem says that we can use the normal curve to approximate probabilities of things for the **sum of draws**\n",
    "  .\n",
    "* Specifically, the normal curve applies to \n",
    "$$\\frac{\\text{ sum of draws} - \\text{expected( sum of draws)}}{\\text{SE( sum of draws)}}$$"
   ]
  },
  {
   "cell_type": "markdown",
   "metadata": {
    "slideshow": {
     "slide_type": "slide"
    }
   },
   "source": [
    "### Example\n",
    "\n",
    "In roulette, betting on  5\n",
    "   100 times, 10\\$ each bet starting with 100\\$. \n",
    "   \n",
    "What are the chances we will finish with more than 200 \\$?\n",
    "\n",
    "Here is the box:"
   ]
  },
  {
   "cell_type": "code",
   "execution_count": null,
   "metadata": {
    "collapsed": false,
    "slideshow": {
     "slide_type": "skip"
    }
   },
   "outputs": [],
   "source": [
    "places = {}\n",
    "for i in range(1,37) + ['0','00']:\n",
    "    if i in [5]:\n",
    "        places[i] = roulette.roulette_position(350,\n",
    "                                               facecolor='green',\n",
    "                                               bg_alpha=None,\n",
    "                                               fontsize=90)\n",
    "    else:\n",
    "        places[i] = roulette.roulette_position(-10,\n",
    "                                               facecolor='red',\n",
    "                                               bg_alpha=None,\n",
    "                                               fontsize=90)\n",
    "winnings = roulette.roulette_table(places)\n",
    "from IPython.core.display import HTML"
   ]
  },
  {
   "cell_type": "code",
   "execution_count": null,
   "metadata": {
    "collapsed": false,
    "slideshow": {
     "slide_type": "fragment"
    }
   },
   "outputs": [],
   "source": [
    "HTML(winnings)"
   ]
  },
  {
   "cell_type": "markdown",
   "metadata": {
    "slideshow": {
     "slide_type": "slide"
    }
   },
   "source": [
    "We can now compute:\n",
    "- $\\text{average( sum of 100 draws)} = 100 \\times (-0.52)\\$ = -52\\$ $\n",
    "- $$\\text{SE( sum of  100 draws)} = \\sqrt{100} \\times 360 \\times \\sqrt{\\frac{1}{38} \\times \\frac{37}{38}} \\approx 576\\$ $$\n",
    "- Finishing with more than 200\\$ means the **sum of draws** was greater than 100\\$ .\n",
    "- In standardized units, this is $$\\frac{100-(-52)}{576} \\approx 0.27$$"
   ]
  },
  {
   "cell_type": "code",
   "execution_count": null,
   "metadata": {
    "collapsed": false,
    "slideshow": {
     "slide_type": "skip"
    }
   },
   "outputs": [],
   "source": [
    "%%capture\n",
    "with plt.xkcd():\n",
    "    winnings_stand = plt.figure(figsize=(10,5))\n",
    "    standardize_right(100, -52, 576, units=\"Total amount\", standardized=True,\n",
    "                      data=False)"
   ]
  },
  {
   "cell_type": "code",
   "execution_count": null,
   "metadata": {
    "collapsed": false,
    "slideshow": {
     "slide_type": "slide"
    }
   },
   "outputs": [],
   "source": [
    "winnings_stand"
   ]
  },
  {
   "cell_type": "code",
   "execution_count": null,
   "metadata": {
    "collapsed": false,
    "slideshow": {
     "slide_type": "skip"
    }
   },
   "outputs": [],
   "source": [
    "%%capture\n",
    "normal_fig = plt.figure(figsize=figsize)\n",
    "ax = normal_curve()\n",
    "interval = np.linspace(0.26, 4, 101)\n",
    "ax.fill_between(interval, 0*interval, ndist.pdf(interval),\n",
    "                hatch='+', color='green', alpha=0.5)\n",
    "ax.set_title('The green area is %0.1f%%' % (100 * ndist.sf(0.27)), fontsize=20, color='green')\n"
   ]
  },
  {
   "cell_type": "code",
   "execution_count": null,
   "metadata": {
    "collapsed": false,
    "slideshow": {
     "slide_type": "slide"
    }
   },
   "outputs": [],
   "source": [
    "normal_fig"
   ]
  },
  {
   "cell_type": "markdown",
   "metadata": {
    "slideshow": {
     "slide_type": "slide"
    }
   },
   "source": [
    "### Probability histogram of successes"
   ]
  },
  {
   "cell_type": "code",
   "execution_count": null,
   "metadata": {
    "collapsed": false,
    "slideshow": {
     "slide_type": "skip"
    }
   },
   "outputs": [],
   "source": [
    "%%capture\n",
    "winnings = {}\n",
    "nbet = 10\n",
    "winnings[nbet] = plt.figure(figsize=figsize)\n",
    "\n",
    "successes = Binomial(nbet, roulette.examples['lucky numbers'])\n",
    "total = RandomVariable(successes, lambda wins : 100 + 110 * wins - 10 * (nbet - wins) )\n",
    "ax, avg, sd = probability_histogram(total, width=120, facecolor='gray',\n",
    "                      xlabel='Total (\\$)', ylabel='% per \\$')\n",
    "\n",
    "winnings[nbet].gca().set_title('After %d bets of 10\\$' % nbet, fontsize=15)\n",
    "normal_curve(mean=avg, SD=sd, ax=ax, alpha=0.3, facecolor='green', color='green',\n",
    "             xlabel=None, ylabel=None)\n"
   ]
  },
  {
   "cell_type": "code",
   "execution_count": null,
   "metadata": {
    "collapsed": false,
    "slideshow": {
     "slide_type": "slide"
    }
   },
   "outputs": [],
   "source": [
    "winnings[10]"
   ]
  },
  {
   "cell_type": "code",
   "execution_count": null,
   "metadata": {
    "collapsed": false,
    "slideshow": {
     "slide_type": "skip"
    }
   },
   "outputs": [],
   "source": [
    "%%capture\n",
    "winnings = {}\n",
    "nbet = 100\n",
    "winnings[nbet] = plt.figure(figsize=figsize)\n",
    "\n",
    "successes = Binomial(nbet, roulette.examples['lucky numbers'])\n",
    "total = RandomVariable(successes, lambda wins : 100 + 110 * wins - 10 * (nbet - wins) )\n",
    "ax, avg, sd = probability_histogram(total, width=120, facecolor='gray',\n",
    "                      xlabel='Total (\\$)', ylabel='% per \\$')\n",
    "\n",
    "winnings[nbet].gca().set_title('After %d bets of 10\\$' % nbet, fontsize=15)\n",
    "normal_curve(mean=avg, SD=sd, ax=ax, alpha=0.3, facecolor='green', color='green',\n",
    "             xlabel=None, ylabel=None)\n"
   ]
  },
  {
   "cell_type": "code",
   "execution_count": null,
   "metadata": {
    "collapsed": false,
    "slideshow": {
     "slide_type": "slide"
    }
   },
   "outputs": [],
   "source": [
    "winnings[100]"
   ]
  },
  {
   "cell_type": "code",
   "execution_count": null,
   "metadata": {
    "collapsed": false,
    "slideshow": {
     "slide_type": "skip"
    }
   },
   "outputs": [],
   "source": [
    "%%capture\n",
    "winnings = {}\n",
    "nbet = 1000\n",
    "winnings[nbet] = plt.figure(figsize=figsize)\n",
    "\n",
    "successes = Binomial(nbet, roulette.examples['lucky numbers'])\n",
    "total = RandomVariable(successes, lambda wins : 100 + 110 * wins - 10 * (nbet - wins) )\n",
    "ax, avg, sd = probability_histogram(total, width=120, facecolor='gray',\n",
    "                      xlabel='Total (\\$)', ylabel='% per \\$')\n",
    "\n",
    "winnings[nbet].gca().set_title('After %d bets of 10\\$' % nbet, fontsize=15)\n",
    "normal_curve(mean=avg, SD=sd, ax=ax, alpha=0.3, facecolor='green', color='green',\n",
    "             xlabel=None, ylabel=None)\n"
   ]
  },
  {
   "cell_type": "code",
   "execution_count": null,
   "metadata": {
    "collapsed": false,
    "slideshow": {
     "slide_type": "slide"
    }
   },
   "outputs": [],
   "source": [
    "winnings[1000]"
   ]
  },
  {
   "cell_type": "code",
   "execution_count": null,
   "metadata": {
    "collapsed": false,
    "slideshow": {
     "slide_type": "skip"
    }
   },
   "outputs": [],
   "source": [
    "%%capture\n",
    "tosses = {}\n",
    "ntoss = 100\n",
    "tosses[ntoss] = plt.figure(figsize=figsize)\n",
    "ax, avg, sd = probability_histogram(Binomial(ntoss, coin_trial, ['H']),\n",
    "                                    bins=np.arange(7)-0.5,\n",
    "                                    alpha=0.5, facecolor='gray',\n",
    "                                    xlabel='Number of heads',\n",
    "                                    ylabel='% per head',\n",
    "                                    ndraws=500)\n",
    "normal_curve(mean=avg, SD=sd, ax=ax, alpha=0.3, facecolor='green', color='green',\n",
    "             xlabel=None, ylabel=None)\n"
   ]
  },
  {
   "cell_type": "code",
   "execution_count": null,
   "metadata": {
    "collapsed": false,
    "slideshow": {
     "slide_type": "slide"
    }
   },
   "outputs": [],
   "source": [
    "tosses[100]"
   ]
  },
  {
   "cell_type": "markdown",
   "metadata": {
    "slideshow": {
     "slide_type": "slide"
    }
   },
   "source": [
    "## Continuity correction\n",
    "\n",
    "- When using the normal approximation to the sum of draws, we sometimes use the *continuity correction*.\n",
    "- This means we might add or subtract 1/2 at the endpoints.\n",
    "\n",
    "- For example \n",
    "   - {observing more than 40 heads in 100 flips} = {observing more than 40.5 heads in 100 flips}\n",
    "   - {observing less than 45 heads in 100 flips} = {observing less than 44.5 heads in 100 flips}\n",
    "   - {observing exactly 40 heads in 100 flips} = {observing between 39.5 and 40.5 heads in 100 flips}\n",
    "   - {observing greater than or equal to 41 heads but less than 52 heads in 100 flips } = {observing between 40.5 and 51.5 heads in 100 flips}\n",
    "   \n",
    "   - {observing greater than 41 heads but less than 52 heads in 100 flips } = {observing between 41.5 and 51.5 heads in 100 flips}"
   ]
  },
  {
   "cell_type": "markdown",
   "metadata": {
    "slideshow": {
     "slide_type": "slide"
    }
   },
   "source": [
    "### Normal approximation"
   ]
  },
  {
   "cell_type": "code",
   "execution_count": null,
   "metadata": {
    "collapsed": false,
    "slideshow": {
     "slide_type": "skip"
    }
   },
   "outputs": [],
   "source": [
    "interval = np.linspace(0, 44.5, 101)\n",
    "ax.fill_between(interval, 0*interval, ndist.pdf((interval - avg) / sd) / sd,\n",
    "                hatch='+', color='red', alpha=0.5)\n",
    "ax.set_title('Using continuity correction', fontsize=20, color='red')\n",
    "ax.set_xlim([ax.get_xlim()[0],50])"
   ]
  },
  {
   "cell_type": "markdown",
   "metadata": {
    "slideshow": {
     "slide_type": "slide"
    }
   },
   "source": [
    "## Less than 45 heads with continuity correction"
   ]
  },
  {
   "cell_type": "code",
   "execution_count": null,
   "metadata": {
    "collapsed": false,
    "slideshow": {
     "slide_type": "fragment"
    }
   },
   "outputs": [],
   "source": [
    "tosses[100]"
   ]
  },
  {
   "cell_type": "code",
   "execution_count": null,
   "metadata": {
    "collapsed": false,
    "slideshow": {
     "slide_type": "skip"
    }
   },
   "outputs": [],
   "source": [
    "%%capture\n",
    "with plt.xkcd():\n",
    "    heads_stand = plt.figure(figsize=figsize)\n",
    "    standardize_left(44.5, avg, sd, units=\"Heads\", standardized=True,\n",
    "                     data=False)"
   ]
  },
  {
   "cell_type": "code",
   "execution_count": null,
   "metadata": {
    "collapsed": false,
    "slideshow": {
     "slide_type": "slide"
    }
   },
   "outputs": [],
   "source": [
    "from numpy import sqrt\n",
    "SE = sqrt(100) * (1-0) * sqrt(1/2. * 1/2.)\n",
    "print SE\n",
    "heads_stand"
   ]
  },
  {
   "cell_type": "code",
   "execution_count": null,
   "metadata": {
    "collapsed": false,
    "slideshow": {
     "slide_type": "skip"
    }
   },
   "outputs": [],
   "source": [
    "%%capture\n",
    "normal_fig = plt.figure(figsize=figsize)\n",
    "ax = normal_curve()\n",
    "interval = np.linspace(-4,-1.10, 101)\n",
    "ax.fill_between(interval, 0*interval, ndist.pdf(interval),\n",
    "                hatch='+', color='green', alpha=0.5)\n",
    "ax.set_title('The green area is %0.1f%%' % (100 * ndist.cdf(-1.10)), fontsize=20, color='green')\n"
   ]
  },
  {
   "cell_type": "code",
   "execution_count": null,
   "metadata": {
    "collapsed": false,
    "slideshow": {
     "slide_type": "slide"
    }
   },
   "outputs": [],
   "source": [
    "normal_fig"
   ]
  },
  {
   "cell_type": "markdown",
   "metadata": {
    "slideshow": {
     "slide_type": "slide"
    }
   },
   "source": [
    "## Observing exactly 40 heads using continuity correction\n",
    "\n",
    "The standardized units are\n",
    "\n",
    "- (39.5 - 50) / 5 = -2.1\n",
    "- (40.5 - 50) / 5 = -1.9"
   ]
  },
  {
   "cell_type": "code",
   "execution_count": null,
   "metadata": {
    "collapsed": false,
    "slideshow": {
     "slide_type": "skip"
    }
   },
   "outputs": [],
   "source": [
    "%%capture\n",
    "normal_fig = plt.figure(figsize=figsize)\n",
    "ax = normal_curve()\n",
    "interval = np.linspace(-2.1,-1.9, 101)\n",
    "ax.fill_between(interval, 0*interval, ndist.pdf(interval),\n",
    "                hatch='+', color='green', alpha=0.5)\n",
    "ax.set_title('The green area is %0.1f%%' % (100 * (ndist.cdf(-1.9) - ndist.cdf(-2.10))), fontsize=20, color='green')\n",
    "\n"
   ]
  },
  {
   "cell_type": "code",
   "execution_count": null,
   "metadata": {
    "collapsed": false,
    "slideshow": {
     "slide_type": "slide"
    }
   },
   "outputs": [],
   "source": [
    "normal_fig"
   ]
  },
  {
   "cell_type": "markdown",
   "metadata": {
    "slideshow": {
     "slide_type": "fragment"
    }
   },
   "source": [
    "Compare this to the true value:\n",
    "\n",
    "$$\n",
    "\\binom{100}{40} \\left(\\frac{1}{2} \\right)^{40} \\left(\\frac{1}{2}\\right)^{60}\n",
    "$$"
   ]
  },
  {
   "cell_type": "code",
   "execution_count": null,
   "metadata": {
    "collapsed": false,
    "slideshow": {
     "slide_type": "fragment"
    }
   },
   "outputs": [],
   "source": [
    "Binomial(100, coin_trial, ['H']).mass_function[40]"
   ]
  },
  {
   "cell_type": "markdown",
   "metadata": {
    "slideshow": {
     "slide_type": "slide"
    }
   },
   "source": [
    "## Example\n",
    "\n",
    "Use the normal approximation to estimate the probability of observing greater than or equal to 45 heads in 80 flips of a fair coin.\n",
    "\n",
    "We know\n",
    "\n",
    "- $\\text{expected(sum of draws)} = 80 \\times 0.5 = 40 $\n",
    "- $\\text{SE( sum of draws)} = \\sqrt{80} \\times (1 - 0) \\times \\sqrt{\\frac{1}{2}  \\times \\frac{1}{2}} \\approx 4.5 $\n",
    "- Observing more than or equal to 45 heads is the same as observing more than 44.5 heads\n",
    "- In standardized units, this is $\\frac{44.5-40}{4.5} \\approx 1$"
   ]
  },
  {
   "cell_type": "code",
   "execution_count": null,
   "metadata": {
    "collapsed": false,
    "slideshow": {
     "slide_type": "skip"
    }
   },
   "outputs": [],
   "source": [
    "%%capture\n",
    "normal_fig = plt.figure(figsize=figsize)\n",
    "ax = normal_curve()\n",
    "interval = np.linspace(4.5 / np.sqrt(20), 4, 101)\n",
    "ax.fill_between(interval, 0*interval, ndist.pdf(interval),\n",
    "                hatch='+', color='green', alpha=0.5)\n",
    "ax.set_title('The green area is %0.1f%%' % (100 * ndist.sf(4.5 / np.sqrt(20))), fontsize=20, color='green')\n"
   ]
  },
  {
   "cell_type": "code",
   "execution_count": null,
   "metadata": {
    "collapsed": false,
    "slideshow": {
     "slide_type": "slide"
    }
   },
   "outputs": [],
   "source": [
    "normal_fig"
   ]
  },
  {
   "cell_type": "markdown",
   "metadata": {
    "slideshow": {
     "slide_type": "slide"
    }
   },
   "source": [
    "## Example (continued)\n",
    "\n",
    "\n",
    "Use the normal approximation to estimate the probability of observing exactly 45 heads in 80 flips of a fair coin.\n",
    "\n",
    "- Observing 45 heads is the same as observing between 44.5 and 45.5 heads.\n",
    "- In standardized units, this is endpoints are $$\\begin{aligned}\n",
    "               \\text{lower}&= \\frac{44.5-40}{4.5}    \\approx 1 \\\\\n",
    "               \\text{upper}&= \\frac{45.5-40}{4.5}    \\approx 1.2 \\\\\n",
    "               \\end{aligned}$$"
   ]
  },
  {
   "cell_type": "code",
   "execution_count": null,
   "metadata": {
    "collapsed": false,
    "slideshow": {
     "slide_type": "skip"
    }
   },
   "outputs": [],
   "source": [
    "%%capture\n",
    "normal_fig = plt.figure(figsize=figsize)\n",
    "ax = normal_curve()\n",
    "interval = np.linspace(4.5 / np.sqrt(20), 5.5 / np.sqrt(20), 101)\n",
    "ax.fill_between(interval, 0*interval, ndist.pdf(interval),\n",
    "                hatch='+', color='green', alpha=0.5)\n",
    "ax.set_title('The green area is %0.1f%%' % (100 * (ndist.sf(4.5 / np.sqrt(20)) - ndist.sf(5.5 / np.sqrt(20)))), fontsize=20, color='green')\n",
    "\n",
    "\n"
   ]
  },
  {
   "cell_type": "code",
   "execution_count": null,
   "metadata": {
    "collapsed": false,
    "slideshow": {
     "slide_type": "slide"
    }
   },
   "outputs": [],
   "source": [
    "normal_fig"
   ]
  },
  {
   "cell_type": "markdown",
   "metadata": {
    "slideshow": {
     "slide_type": "fragment"
    }
   },
   "source": [
    "Compare this to the true value:\n",
    "\n",
    "$$\n",
    "\\binom{80}{45} \\left(\\frac{1}{2} \\right)^{45}  \\left(\\frac{1}{2} \\right)^{35}\n",
    "$$"
   ]
  },
  {
   "cell_type": "code",
   "execution_count": null,
   "metadata": {
    "collapsed": false,
    "slideshow": {
     "slide_type": "fragment"
    }
   },
   "outputs": [],
   "source": [
    "Binomial(80, coin_trial, ['H']).mass_function[45]"
   ]
  },
  {
   "cell_type": "markdown",
   "metadata": {
    "slideshow": {
     "slide_type": "slide"
    }
   },
   "source": [
    "## Central limit theorem\n",
    "\n",
    "* The central limit theorem applies to **sum of draws**.\n",
    "* The number of draws should be reasonably large.\n",
    "* The more lopsided the values are, the more draws needed for reasonable approximation (compare the approximations of rolling  5\n",
    "   in roulette to flipping a fair coin).\n",
    "* It is another type of *convergence*\n",
    "  : as the number of draws grows, the normal approximation gets better."
   ]
  },
  {
   "cell_type": "code",
   "execution_count": null,
   "metadata": {
    "collapsed": false,
    "slideshow": {
     "slide_type": "skip"
    }
   },
   "outputs": [],
   "source": [
    "%%capture\n",
    "lopsided = {}\n",
    "ndraw = 3 \n",
    "lopsided[ndraw] = plt.figure(figsize=figsize)\n",
    "mass = np.array([0,1,1,0,0,0,0,1])/3.\n",
    "rv = SumIntegerRV(mass, 3)\n",
    "ax, avg, sd = probability_histogram(rv,\n",
    "                                    facecolor='gray')\n",
    "normal_curve(mean=avg, SD=sd, ax=ax, alpha=0.3, facecolor='green', color='green',\n",
    "             xlabel=None, ylabel=None)\n",
    "ax.set_ylim([0,1.1*max(rv.mass_function.values())])\n",
    "ax.set_title('%d draws from [1,2,7]' % ndraw, fontsize=17)"
   ]
  },
  {
   "cell_type": "code",
   "execution_count": null,
   "metadata": {
    "collapsed": false,
    "slideshow": {
     "slide_type": "slide"
    }
   },
   "outputs": [],
   "source": [
    "lopsided[3]"
   ]
  },
  {
   "cell_type": "code",
   "execution_count": null,
   "metadata": {
    "collapsed": false,
    "slideshow": {
     "slide_type": "skip"
    }
   },
   "outputs": [],
   "source": [
    "%%capture\n",
    "ndraw = 10\n",
    "\n",
    "lopsided[ndraw] = plt.figure(figsize=figsize)\n",
    "mass = np.array([0,1,1,0,0,0,0,1])/3.\n",
    "rv = SumIntegerRV(mass, ndraw)\n",
    "ax, avg, sd = probability_histogram(rv,\n",
    "                                    facecolor='gray')\n",
    "normal_curve(mean=avg, SD=sd, ax=ax, alpha=0.3, facecolor='green', color='green',\n",
    "             xlabel=None, ylabel=None)\n",
    "ax.set_ylim([0,1.1*max(rv.mass_function.values())])\n",
    "ax.set_title('%d draws from [1,2,7]' % ndraw, fontsize=17)"
   ]
  },
  {
   "cell_type": "code",
   "execution_count": null,
   "metadata": {
    "collapsed": false,
    "slideshow": {
     "slide_type": "slide"
    }
   },
   "outputs": [],
   "source": [
    "lopsided[10]"
   ]
  },
  {
   "cell_type": "code",
   "execution_count": null,
   "metadata": {
    "collapsed": false,
    "slideshow": {
     "slide_type": "skip"
    }
   },
   "outputs": [],
   "source": [
    "%%capture\n",
    "ndraw = 30\n",
    "\n",
    "lopsided[ndraw] = plt.figure(figsize=figsize)\n",
    "mass = np.array([0,1,1,0,0,0,0,1])/3.\n",
    "rv = SumIntegerRV(mass, ndraw)\n",
    "ax, avg, sd = probability_histogram(rv,\n",
    "                                    facecolor='gray')\n",
    "normal_curve(mean=avg, SD=sd, ax=ax, alpha=0.3, facecolor='green', color='green',\n",
    "             xlabel=None, ylabel=None)\n",
    "ax.set_ylim([0,1.1*max(rv.mass_function.values())])\n",
    "ax.set_title('%d draws from [1,2,7]' % ndraw, fontsize=17)"
   ]
  },
  {
   "cell_type": "code",
   "execution_count": null,
   "metadata": {
    "collapsed": false,
    "slideshow": {
     "slide_type": "slide"
    }
   },
   "outputs": [],
   "source": [
    "lopsided[30]"
   ]
  },
  {
   "cell_type": "code",
   "execution_count": null,
   "metadata": {
    "collapsed": false,
    "slideshow": {
     "slide_type": "skip"
    }
   },
   "outputs": [],
   "source": [
    "%%capture\n",
    "ndraw = 50\n",
    "\n",
    "lopsided[ndraw] = plt.figure(figsize=figsize)\n",
    "mass = np.array([0,1,1,0,0,0,0,1])/3.\n",
    "rv = SumIntegerRV(mass, ndraw)\n",
    "ax, avg, sd = probability_histogram(rv,\n",
    "                                    facecolor='gray')\n",
    "normal_curve(mean=avg, SD=sd, ax=ax, alpha=0.3, facecolor='green', color='green',\n",
    "             xlabel=None, ylabel=None)\n",
    "ax.set_ylim([0,1.1*max(rv.mass_function.values())])\n",
    "ax.set_title('%d draws from [1,2,7]' % ndraw, fontsize=17)"
   ]
  },
  {
   "cell_type": "code",
   "execution_count": null,
   "metadata": {
    "collapsed": false,
    "slideshow": {
     "slide_type": "slide"
    }
   },
   "outputs": [],
   "source": [
    "lopsided[50]\n"
   ]
  },
  {
   "cell_type": "markdown",
   "metadata": {
    "slideshow": {
     "slide_type": "fragment"
    }
   },
   "source": [
    "## Take away \n",
    "\n",
    "- If the box is lopsided, convergence to normal curve may be slower.\n",
    "\n",
    "- But it still happens (and can be used)!"
   ]
  },
  {
   "cell_type": "markdown",
   "metadata": {
    "slideshow": {
     "slide_type": "slide"
    }
   },
   "source": [
    "## How many samples should we take?\n",
    "\n",
    "- The normal approximation works when we take enough\n",
    "samples.\n",
    "- But how many should we take?\n",
    "- There have been various rules proposed...\n",
    "- For counts, a [rule of thumb](http://en.wikipedia.org/wiki/Binomial_distribution#Normal_approximation) says the Normal approximation to the Binomial is OK when $np \\geq k$ and $n(1-p) \\geq k$\n",
    "where $k$ is of the order of 5 or 10.\n",
    "- **For concreteness, we take $k=10$.**\n"
   ]
  }
 ],
 "metadata": {
  "celltoolbar": "Slideshow",
  "kernelspec": {
   "display_name": "Python 2",
   "language": "python",
   "name": "python2"
  },
  "language_info": {
   "codemirror_mode": {
    "name": "ipython",
    "version": 2
   },
   "file_extension": ".py",
   "mimetype": "text/x-python",
   "name": "python",
   "nbconvert_exporter": "python",
   "pygments_lexer": "ipython2",
   "version": "2.7.11"
  }
 },
 "nbformat": 4,
 "nbformat_minor": 0
}

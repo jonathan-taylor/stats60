{
 "cells": [
  {
   "cell_type": "code",
   "execution_count": null,
   "metadata": {
    "collapsed": true,
    "slideshow": {
     "slide_type": "skip"
    }
   },
   "outputs": [],
   "source": [
    "%matplotlib inline\n",
    "import matplotlib.pyplot as plt\n",
    "from matplotlib.mlab import csv2rec\n",
    "import numpy as np\n",
    "from numpy import mean, sqrt, std\n",
    "import matplotlib\n",
    "from scipy.stats import norm as ndist\n",
    "from ipy_table import make_table\n",
    "\n",
    "# stats60 specific\n",
    "from code.utils import (sample_density, \n",
    "                        probability_histogram)\n",
    "from code.week1 import (stylized_density, \n",
    "                        standardize_right,\n",
    "                        standardize_left,\n",
    "                        standardize_interval,\n",
    "                        CAdensity,\n",
    "                        normal_curve,\n",
    "                        SD_rule_of_thumb_normal,\n",
    "                        percentile_figure)\n",
    "from code.week7 import studentT_curve\n",
    "from code.probability import (Sample,\n",
    "                              BoxModel, \n",
    "                              SampleMean, \n",
    "                              SampleSD,\n",
    "                              Binomial,\n",
    "                              Uniform)\n",
    "figsize = (8,8)"
   ]
  },
  {
   "cell_type": "markdown",
   "metadata": {
    "slideshow": {
     "slide_type": "slide"
    }
   },
   "source": [
    "## Presidential approval ratings\n",
    "\n",
    "* If you ever watch CNN / Fox News / MSNBC you don't have\n",
    "to wait too long until your hear reports about opinion polls.\n",
    "\n",
    "* [Rasmussen](http://www.rasmussenreports.com/public_content/politics/obama_administration/daily_presidential_tracking_poll) tracks presidential approval rating.\n",
    " \n",
    "* So does [Gallup](http://www.gallup.com/poll/113980/gallup-daily-obama-job-approval.aspx)\n",
    "\n",
    "* Both polls are trying to measure the same thing.\n",
    "* Why don’t they agree?\n",
    "* Polls are sometimes wrong: [Truman / Dewey 1948](http://www.chicagotribune.com/news/politics/chi-chicagodays-deweydefeats-story,0,6484067.story)\n",
    "    - Part of the error in this poll was due to the sampling: *quota sampling*.\n",
    "    - A random sample might have reduced this bias."
   ]
  },
  {
   "cell_type": "markdown",
   "metadata": {
    "slideshow": {
     "slide_type": "slide"
    }
   },
   "source": [
    "## Model for percentages\n",
    "\n",
    "* An opinion poll to estimate a percentage is based on a sample of size $N$. \n",
    "\n",
    "* We assume this is a **simple random sample**: a sample of size $N$ without replacement.\n",
    "\n",
    "* We will draw from boxes with `B`=blue and `R`=red marbles. Our goal\n",
    "is to estimate the percentage of blue marbles in the box.\n",
    "\n",
    "* The sample is from a box with one ball per population member, each having a 0-1 label with `B` corresponding to 1 and `R` corresponding to 0.\n",
    "\n",
    "* The estimated percentage is \n",
    "\n",
    "       estimated percentage of B = (sum of N draws from box) / N\n",
    "  \n",
    " \n",
    "  \n",
    "  "
   ]
  },
  {
   "cell_type": "markdown",
   "metadata": {
    "slideshow": {
     "slide_type": "slide"
    }
   },
   "source": [
    "## Estimating a percentage     \n",
    "\n",
    "- In our boxes, the proportion of blue to red is fixed: there\n",
    "     are 50% blue and 50% red. Our goal is to estimate\n",
    "     the proportion of blue.\n",
    "- When we sample, we don't recover exactly 50%. Our observed\n",
    "     proportion is a *chance process* (i.e. a\n",
    "     random variable).\n",
    "     \n",
    "- We also call this random variable a *statistic*. A statistic is a \n",
    "chance process (random variable) computed on a sample.\n",
    "     \n",
    "- Here is a (hopefully familiar) model:\n",
    "\n",
    "      estimated percentage of B = 50% + chance error\n",
    "\n",
    "  \n",
    "- **Note:** If poll is biased, a better model is\n",
    "\n",
    "      estimated percentage of B = 50% + bias + chance error"
   ]
  },
  {
   "cell_type": "markdown",
   "metadata": {
    "slideshow": {
     "slide_type": "slide"
    }
   },
   "source": [
    "## Accuracy of percentages\n",
    "\n",
    "\n",
    "- How big is the chance error?\n",
    "   \n",
    "- Since the observed proportion is random, it has its own SE.\n",
    "- The rule for computing the SE of a percentage\n",
    "     for a simple random sample is related to SE of drawing\n",
    "     from a box of 0's and 1's.\n",
    "- The standard error after drawing `N=1000` times with replacement\n",
    "from a box with p=50% `B` marbles\n",
    "would be:\n",
    "\n",
    "      SE(estimated percentage of B) = sqrt(p * (1 - p)) / sqrt(N)\n",
    "                                    = sqrt(1/2 * (1 - 1/2)) / \n",
    "                                        sqrt(1000)\n",
    "\n",
    "- The standard error after drawing `N=1000` times with replacement\n",
    "from a box with p=57% `B` marbles\n",
    "would be:\n",
    "\n",
    "      SE(estimated percentage of B) = sqrt(p * (1 - p)) / sqrt(N)\n",
    "                                    = sqrt(0.57 * (1 - 0.57)) / \n",
    "                                         sqrt(1000)\n",
    "\n",
    "\n",
    "- If sampling with replacement, the SE does not depend on how many tickets are in the box.\n",
    "\n",
    "- When sampling without replacement, this SE is approximate (but quite accurate\n",
    "if the population is large enough).\n"
   ]
  },
  {
   "cell_type": "markdown",
   "metadata": {
    "slideshow": {
     "slide_type": "slide"
    }
   },
   "source": [
    "## Correction factor for SE\n",
    "\n",
    "* To get the actual SE when we sample without replacement, we should multiply by a correction factor.\n",
    "* If there are $N_{pop}$ people in the population and we sample $N_{sample}$\n",
    "then\n",
    "$$\n",
    "\\begin{aligned}\n",
    "\\text{correction factor} &= \\sqrt{\\frac{N_{pop}-N_{sample}}{N_{pop}-1}} \\\\\n",
    "&= \\sqrt{\\frac{10000-1000}{9999}} \\\\\n",
    "\\end{aligned}$$\n",
    "* For example, in our largest boxes, $N_{pop}=10000, N_{sample}=1000$\n",
    "the correction factor is 0.95.\n",
    "* An organization like Gallup samples from a MUCH BIGGER population, so this\n",
    "correction factor is virtually 1.\n",
    "\n",
    "          SE(drawing WITHOUT replacement) = \n",
    "               correction factor * (SE drawing WITH replacement)"
   ]
  },
  {
   "cell_type": "markdown",
   "metadata": {
    "slideshow": {
     "slide_type": "slide"
    }
   },
   "source": [
    "## Example\n",
    "\n",
    "- Suppose  57% of voting age Californians approve of Governorn Brown’s job performance. \n",
    "\n",
    "- If we sample 100 voting age Californians at random, we expect the percentage who approve of Brown’s performance $\\bbox[5px,border:2px solid red]{57\\%}$ to be give or take $\\bbox[5px,border:2px solid red]{\\sqrt{0.57 ( 1 - 0.57) / 100} * 100\\%}$."
   ]
  },
  {
   "cell_type": "markdown",
   "metadata": {
    "slideshow": {
     "slide_type": "slide"
    }
   },
   "source": [
    "## Example\n",
    "\n",
    "- **Answer** The expected percentage or proportion is 57%. The SE is (ignoring the correction factor) \n",
    "\n",
    "$$\\text{ SE(estimated percentage)} = \n",
    "\\sqrt{0.57 * 0.43} / \\sqrt{100} \\approx 5\\%$$  \n",
    "     \n",
    "\n",
    "* We expect the percentage to be 57% give or take 5%."
   ]
  },
  {
   "cell_type": "markdown",
   "metadata": {
    "slideshow": {
     "slide_type": "slide"
    }
   },
   "source": [
    "## Example (continued)\n",
    "\n",
    "- What if we had sampled 1000 voting age Californians?\n",
    "- The expected proportion is the same. The SE is now (ignoring the correction factor) \n",
    "\n",
    "$$\\text{ SE(estimated percentage)} = \n",
    "\\sqrt{0.57 * 0.43} / \\sqrt{1000} \\approx 1.6\\%$$\n",
    "\n",
    "- A sample size of 1000 is quite commonly used because in a balanced box, the\n",
    "SE is roughly 1.6% so the 2 SD rule is $\\pm 3.2\\%$."
   ]
  },
  {
   "cell_type": "markdown",
   "metadata": {
    "slideshow": {
     "slide_type": "slide"
    }
   },
   "source": [
    "## A more realistic picture\n",
    "\n",
    "* In practice, when a poll is carried out, we don’t know how many `B` or `R`\n",
    "there are in the population.\n",
    "\n",
    "* Taking a sample of size 500, say, gives us information on 500 of this population.\n",
    "* Our goal, as statisticians, is to give the politicians some idea of the *true*\n",
    "   proportion of `B` vs. `R` \n",
    "   in the box\n",
    "\n",
    "* This is our first true *statistics*\n",
    "   problem …"
   ]
  },
  {
   "cell_type": "markdown",
   "metadata": {
    "slideshow": {
     "slide_type": "slide"
    }
   },
   "source": [
    "### Box we will poll …"
   ]
  },
  {
   "cell_type": "code",
   "execution_count": null,
   "metadata": {
    "collapsed": false,
    "slideshow": {
     "slide_type": "skip"
    }
   },
   "outputs": [],
   "source": [
    "%%capture\n",
    "brown_approval = Sample(5700, 4300, 500)\n",
    "brown_approval.alpha = 0.1\n",
    "brown_approval.ptsize = 10\n",
    "brown_approval.draw(color={'R':'gray','B':'gray'})"
   ]
  },
  {
   "cell_type": "code",
   "execution_count": null,
   "metadata": {
    "collapsed": false,
    "slideshow": {
     "slide_type": "fragment"
    }
   },
   "outputs": [],
   "source": [
    "brown_approval.figure"
   ]
  },
  {
   "cell_type": "markdown",
   "metadata": {
    "slideshow": {
     "slide_type": "slide"
    }
   },
   "source": [
    "### Poll sample"
   ]
  },
  {
   "cell_type": "code",
   "execution_count": null,
   "metadata": {
    "collapsed": false,
    "slideshow": {
     "slide_type": "fragment"
    }
   },
   "outputs": [],
   "source": [
    "prop = brown_approval.trial(bgcolor={'R':'gray','B':'gray'},\n",
    "                            color={'R':'red','B':'blue'})\n",
    "brown_approval.figure"
   ]
  },
  {
   "cell_type": "markdown",
   "metadata": {},
   "source": [
    "## Can we use the normal approximation?\n",
    "\n",
    "- Applying the rule $np > 10$ and $n(1-p)>10$ to the sample proportion\n",
    "suggest we should have at least 10 votes for Brown and 10 votes against Brown in our poll.\n",
    "- This is not quite the same rule because we don't know the true $p$, we only\n",
    "observe $\\hat{p}$...\n",
    "- Nevertheless, this is roughly how points were awarded on assignments."
   ]
  },
  {
   "cell_type": "markdown",
   "metadata": {
    "slideshow": {
     "slide_type": "slide"
    }
   },
   "source": [
    "## Estimating SE when proportions unknown\n",
    "\n",
    "\n",
    "- Given a poll, we can work out the *observed*\n",
    "   proportion of 1’s. Call this \n",
    "   $$\\bbox[5px,border:2px solid orange]{\\widehat{p}} = \\text{observed proportion} = \\frac{\\text{$\\#$ B's in sample}}{\\text{$\\#$ in sample}}$$\n",
    "\n",
    "- If we knew the true proportion of Brown's supportors, say, $p$ we would use\n",
    "$$\n",
    " \\text{SE}(\\bbox[5px,border:2px solid orange]{\\widehat{p}}) \\approx  \\sqrt{\\bbox[5px,border:2px solid blue]{p} \\times (1 - \\bbox[5px,border:2px solid blue]{p})} / \\sqrt{\\text{$\\#$ in sample}}.\n",
    "$$\n",
    "\n",
    "- We do not know $p$. BUT we can **estimate** the SE of observed proportion of B’s \n",
    "$$\\begin{aligned}\n",
    "     \\text{SE}(\\bbox[5px,border:2px solid orange]{\\widehat{p}})& \\approx  \\sqrt{\\bbox[5px,border:2px solid orange]{\\widehat{p}} \\times (1 - \\bbox[5px,border:2px solid orange]{ \\widehat{p}})} / \\sqrt{\\text{$\\#$ in sample}} \\\\\n",
    "         \\end{aligned}$$\n",
    "\n",
    "- The quantity $\\sqrt{\\widehat{p} \\times (1 - \\widehat{p})}$ is an estimate of the SD of the box. \n",
    "\n",
    "     - It depends on the poll we used to estimate $\\bbox[5px,border:2px solid blue]{p}$. \n",
    "     - It is not a number because it changes with the poll.\n",
    "\n",
    "\n",
    "- We call this the **bootstrap** estimate of the SD of the box.\n",
    "\n"
   ]
  },
  {
   "cell_type": "markdown",
   "metadata": {
    "slideshow": {
     "slide_type": "slide"
    }
   },
   "source": [
    "## Our first confidence interval\n",
    "\n",
    "- Since we don't know $\\bbox[2px,border:2px solid blue]{p}$, we can't compute \n",
    "$SE(\\widehat{p})$.\n",
    "\n",
    "- We use the **boostrap estimate** instead.\n",
    "\n",
    "- We call the interval:\n",
    "$$\n",
    "\\bbox[2px,border:2px solid red]{\n",
    "\\left[\\widehat{p} - \\frac{2\\sqrt{\\widehat{p}(1-\\widehat{p})}}{\\sqrt{1000}},                                                                                            \n",
    "    \\widehat{p} + \\frac{2\\sqrt{\\widehat{p}(1-\\widehat{p})}}{\\sqrt{1000}}\\right] }\n",
    "$$\n",
    "an (approximate) 95% confidence interval for the true proportion  $\\bbox[2px,border:2px solid blue]{p}$.\n",
    " "
   ]
  },
  {
   "cell_type": "markdown",
   "metadata": {
    "slideshow": {
     "slide_type": "slide"
    }
   },
   "source": [
    "## Example\n",
    "\n",
    "- Find a 95% confidence interval for Governor Brown’s approval rating given 549 out of 1000 voting age Californians polled approved of his job performance.\n",
    "\n",
    "\n",
    "         We already saw the estimated SE of the proportion \n",
    "         was approximately 1.6%.\n",
    "         \n",
    "         A 95% confidence interval is therefore: \n",
    "         \n",
    " $$\\bbox[5px,border:2px solid red]{[54.9-2 \\times 1.6, 54.9+2\\times 1.6] = [51.7,58.1]}$$\n",
    " "
   ]
  },
  {
   "cell_type": "markdown",
   "metadata": {
    "slideshow": {
     "slide_type": "slide"
    }
   },
   "source": [
    "### An illustration of confidence intervals"
   ]
  },
  {
   "cell_type": "code",
   "execution_count": null,
   "metadata": {
    "collapsed": false,
    "slideshow": {
     "slide_type": "skip"
    }
   },
   "outputs": [],
   "source": [
    "%%capture\n",
    "from random import sample as random_sample\n",
    "\n",
    "def interval(approval, nsample=1000):\n",
    "    prop = np.array(random_sample(approval, nsample)).mean()\n",
    "    SE = np.sqrt(prop * (1 - prop) / nsample)\n",
    "    return 100 * (prop-2*SE), 100 * (prop+2*SE)\n",
    "\n",
    "def confidence_intervals(num_intervals=100, true_proportion=.57,\n",
    "                         npop=100000,\n",
    "                         nsample=1000):\n",
    "    blue = int(npop*true_proportion)\n",
    "    approval = [0] * (npop-blue) + [1] * blue\n",
    "\n",
    "    confidence_intervals = plt.figure(figsize=figsize)\n",
    "    ax = confidence_intervals.gca()\n",
    "    intervals = []\n",
    "    missed = 0\n",
    "    for i in range(num_intervals):\n",
    "        L, U = interval(approval, nsample=nsample)\n",
    "        in_interval = (L <= 100*true_proportion) * (U >= 100*true_proportion)\n",
    "        if in_interval:\n",
    "            ax.plot([L,U], [i,i], color='gray', linewidth=2)\n",
    "        else:\n",
    "            missed += 1\n",
    "            ax.plot([L,U], [i,i], color='red', linewidth=5)\n",
    "        \n",
    "\n",
    "    ax.plot([100*true_proportion]*2,[0,num_intervals], 'k--', linewidth=4)\n",
    "    ax.set_yticks([])\n",
    "    ax.set_ylabel('Different polls of size 1000', rotation='vertical', fontsize=15)\n",
    "    ax.set_xlabel('Percent who support Governorn Brown', fontsize=15)\n",
    "    ax.set_title(\"# covering %0.2d%%=%d, # not covering %0.2d%%=%d\" % (round(100*true_proportion),\n",
    "                                                                     num_intervals-missed,\n",
    "                                                                     round(100*true_proportion),\n",
    "                                                                     missed))"
   ]
  },
  {
   "cell_type": "code",
   "execution_count": null,
   "metadata": {
    "collapsed": false,
    "slideshow": {
     "slide_type": "fragment"
    }
   },
   "outputs": [],
   "source": [
    "confidence_intervals()"
   ]
  },
  {
   "cell_type": "markdown",
   "metadata": {
    "slideshow": {
     "slide_type": "slide"
    }
   },
   "source": [
    "## Average of draws\n",
    "\n",
    "- The **average of n draws** (or sample average) is\n",
    "\n",
    "         average of n draws = (sum of n draws) / n\n",
    "         \n",
    "- The expected value of the average of n draws is\n",
    "\n",
    "         expected(average of n draws) = average(box)\n",
    "         \n",
    "- The SE for the average of n draws is\n",
    "\n",
    "         SE(average of n draws) = SD(box) / sqrt(n)\n",
    "- Just like the SE of sample proportion – it decreases as # draws increase."
   ]
  },
  {
   "cell_type": "markdown",
   "metadata": {
    "slideshow": {
     "slide_type": "slide"
    }
   },
   "source": [
    "## Bootstrap estimate\n",
    "\n",
    "\n",
    "- Given a sample ${[X_1, \\dots, X_n]}$ of $n$ draws, we can compute the {\\em sample mean}\n",
    "   Call this\n",
    "   $$\n",
    "   { \\bar{X}}  = \\frac{{ \\text{ sum of draws}}}{{ \\text{$\\#$ of draws}}}  = \\frac{{ \\sum_{i=1}^n X_i}}{{ n}}\n",
    "   $$\n",
    "   - We know\n",
    "   $$\n",
    "   \\begin{aligned}\n",
    "   { \\text{SE}(\\bar{X})} = \\frac{{\\text{SD( box)}}}{{ \\sqrt{\\text{$\\#$ of draws}}}}\n",
    "   \\end{aligned}\n",
    "   $$\n",
    "\n",
    "   - Unfortunately, we don't know ${\\text{SD( box)}}$.\n",
    "\n",
    "   - Use **plug-in / bootstrap** estimate\n",
    "   $$\n",
    "   {\\widehat{ \\text{SE}(\\bar{X})}} = \\frac{{\\text{SD($[X_1, \\dots, X_n]$)}}}{{\\sqrt{ \\text{$\\#$ of draws}}}} =  \\frac{{ \\sqrt{\\frac{1}{n}\\sum\\\n",
    "_{i=1}^n (X_i - \\bar{X})^2}}}{ \\sqrt{n}}\n",
    "   $$\n",
    "\n",
    "\n"
   ]
  },
  {
   "cell_type": "markdown",
   "metadata": {
    "slideshow": {
     "slide_type": "slide"
    }
   },
   "source": [
    "## Using our bootstrap estimate of SE\n",
    "\n",
    "- Even though we don't know  SD( box) we estimated\n",
    "$$\n",
    "   \\frac{ \\text{SD( box)}}{ \\sqrt{100}}                                                                   $$     \n",
    "   by the bootstrap estimate of SE  \n",
    "   $$ \\frac{\\text{SD}([X_1, \\dots, X_{100}])}{ \\sqrt{100}}$$\n",
    "   \n",
    "   \n",
    "- If we can plug this in (and we can if sample is large enough), we see that\n",
    "   $$\n",
    "   \\begin{aligned}\n",
    "   \\text{P} \\left(\\text{$\\mu$ between ${ \\bar{X} \\pm 2 \\times \\; \\text{SD}([X_1, \\dots, X_{100}]) / \\sqrt{100\\\n",
    "}}$}\\right) &\\approx 95\\% \\\\\n",
    "   \\end{aligned}\n",
    "   $$\n"
   ]
  },
  {
   "cell_type": "markdown",
   "metadata": {
    "slideshow": {
     "slide_type": "slide"
    }
   },
   "source": [
    "## Different rules of computing SE\n",
    "\n",
    "- We have seen various different rules for computing SE.\n",
    "\n",
    "         SE(sum of B marbles in n draws) = \\\n",
    "               sqrt(n) * sqrt(p[B] * (1 - p[B])) \n",
    "         \n",
    "         SE(proportion of B marbles in n draws) = \\\n",
    "               sqrt(p[B] * (1 - p[B])) / sqrt(n)\n",
    "         \n",
    "         SE(sum of n draws) = sqrt(n) * SD(box)\n",
    "         \n",
    "         SE(average of n draws) = SD(box) / sqrt(n)\n",
    "         \n",
    "         \n",
    "- They are all examples of the first rule for $\\text{SE( sum of draws)}$ followed by unit conversion.\n",
    "\n",
    "- Once we have figured out the appropriate SE and expected value, we can use normal approximation if # of draws is large enough."
   ]
  },
  {
   "cell_type": "markdown",
   "metadata": {
    "slideshow": {
     "slide_type": "slide"
    }
   },
   "source": [
    "## Normal approximation for $\\bbox[5px,border:2px solid orange]{ \\widehat{\\theta}}$\n",
    "\n",
    "* Suppose we are trying to estimate *something about a chance\n",
    "process*\n",
    "   called $\\bbox[5px,border:2px solid blue]{\\theta}$ with an estimator $\\bbox[5px,border:2px solid orange]{ \\widehat{\\theta}}$.\n",
    "* Under the appropriate conditions, a normal approximation may hold $\\bbox[5px,border:2px solid orange]{ \\widehat{\\theta}}$.\n",
    "* If $E(\\bbox[5px,border:2px solid orange]{\\widehat{\\theta}} )= \\bbox[5px,border:2px solid blue]{ \\theta}$ and the normal approximation holds, then $$P \\left(\\frac{\\bbox[5px,border:2px solid orange]{  \\widehat{\\theta}} - \\bbox[5px,border:2px solid blue]{ \\theta}}{SE(\\bbox[5px,border:2px solid orange] { \\widehat{\\theta}})} \\leq c \\right)$$ \n",
    "can be expressed as the area under the standard normal curve, i.e. it can be computed using table A-104 from the book.\n",
    "* For example, suppose $c=-1.5$, then …"
   ]
  },
  {
   "cell_type": "code",
   "execution_count": null,
   "metadata": {
    "collapsed": false,
    "slideshow": {
     "slide_type": "skip"
    }
   },
   "outputs": [],
   "source": [
    "%%capture\n",
    "normal_fig = plt.figure(figsize=figsize)\n",
    "ax = normal_curve()\n",
    "interval = np.linspace(-4,-1.5,101)\n",
    "ax.fill_between(interval, 0*interval, ndist.pdf(interval), \n",
    "                hatch='+', facecolor='red')\n",
    "ax.set_title('Area is about 6.7%', fontsize=15)\n"
   ]
  },
  {
   "cell_type": "code",
   "execution_count": null,
   "metadata": {
    "collapsed": false,
    "slideshow": {
     "slide_type": "slide"
    }
   },
   "outputs": [],
   "source": [
    "normal_fig"
   ]
  },
  {
   "cell_type": "markdown",
   "metadata": {
    "slideshow": {
     "slide_type": "slide"
    }
   },
   "source": [
    "## Normal approximation and confidence intervals\n",
    "\n",
    "- If a normal approximation holds for \n",
    "$\\bbox[5px,border:2px solid orange]{ \\widehat{\\theta}}$\n",
    " then, for example, \n",
    " $$ \\bbox[5px,border:2px solid orange]{ \\widehat{\\theta}}\n",
    "  \\pm 1.65 \\times SE(\\bbox[5px,border:2px solid orange]{ \\widehat{\\theta}})\n",
    "  $$\n",
    "   is a 90% confidence interval for $\\bbox[5px,border:2px solid blue]{ \\theta}$.\n",
    "- Often, we only have an estimate $\\bbox[5px,border:2px solid orange]\n",
    "{\\widehat{\\text{SE}(\\widehat{\\theta})}}$\n",
    "\n",
    "- We can then compute an approximate 90% confidence interval:\n",
    "$$ \\bbox[5px,border:2px solid orange]{ \\widehat{\\theta}}\n",
    "  \\pm 1.65 \\times \\bbox[5px,border:2px solid orange]\n",
    "{\\widehat{\\text{SE}(\\widehat{\\theta})}}\n",
    "  $$\n",
    "\n",
    "- An approximate 95% confidence interval is:\n",
    "$$ \\bbox[5px,border:2px solid orange]{ \\widehat{\\theta}}\n",
    "  \\pm 2 \\times \\bbox[5px,border:2px solid orange]\n",
    "{\\widehat{\\text{SE}(\\widehat{\\theta})}}\n",
    "  $$\n",
    "  \n",
    "- **Caution: if the normal approximation does not hold, then we cannot use these rules for confidence intervals.**\n",
    "  "
   ]
  },
  {
   "cell_type": "markdown",
   "metadata": {
    "slideshow": {
     "slide_type": "slide"
    }
   },
   "source": [
    "## Gauss model\n",
    "\n",
    "- The Gauss model assume that each measurement has the form\n",
    "\n",
    "         measurement = true value + chance error\n",
    "         \n",
    "      \n",
    "- When the Gauss model holds, taking a measurement corresponds to drawing from an  error box and adding a  true value.\n",
    "\n",
    "- If the measurement is biased, the Gauss model is\n",
    "\n",
    "\n",
    "         measurement = bias + true value\n",
    "                       + chance error\n"
   ]
  },
  {
   "cell_type": "markdown",
   "metadata": {
    "slideshow": {
     "slide_type": "slide"
    }
   },
   "source": [
    "## Sampling from the Gauss model\n",
    "\n",
    "- Suppose we observe a sample of $n$ draws $[X_1, \\dots, X_n]$ from the Gauss model.\n",
    "- Then, $$\\begin{aligned}\n",
    "       E(\\bar{X}) &= \\text{true value} \\\\\n",
    "       \\text{SE}(X_1) &= \\text{SE(one draw from error box)} \\\\\n",
    "       \\text{SE}(\\bar{X}) &= \\frac{1}{\\sqrt{n}}  \\text{SE(one draw from error box)}\n",
    "       \\end{aligned}$$\n",
    "- A reasonable estimate of $\\text{SE}(\\bar{X})$ is\n",
    "$$\n",
    "\\text{SE}(\\bar{X}) \\approx \\frac{1}{\\sqrt{n}} \\text{SD}([X_1, \\dots, X_n]).\n",
    "$$\n",
    "\n",
    "- If you know the SE from previous data, use the true SE rather than the bootstrap estimate."
   ]
  },
  {
   "cell_type": "markdown",
   "metadata": {
    "slideshow": {
     "slide_type": "slide"
    }
   },
   "source": [
    "## A special case of the Gauss model\n",
    "\n",
    "- A special case of the Gauss model is when the errors\n",
    "follow a normal curve.\n",
    "\n",
    "- The normal curve is also called the *Gaussian* distribution.\n",
    "\n",
    "- The book does not assume the errors follow the normal curve, but\n",
    "tells you when they do.\n"
   ]
  },
  {
   "cell_type": "markdown",
   "metadata": {
    "slideshow": {
     "slide_type": "slide"
    }
   },
   "source": [
    "## Sample averages with normal errors\n"
   ]
  },
  {
   "cell_type": "code",
   "execution_count": null,
   "metadata": {
    "collapsed": false,
    "slideshow": {
     "slide_type": "fragment"
    }
   },
   "outputs": [],
   "source": [
    "other_model = Uniform(3, 2)\n",
    "sample_mean = SampleMean(other_model, 3)\n",
    "sample_mean.trial()"
   ]
  },
  {
   "cell_type": "code",
   "execution_count": null,
   "metadata": {
    "collapsed": false,
    "slideshow": {
     "slide_type": "fragment"
    }
   },
   "outputs": [],
   "source": [
    "std(sample_mean.sample(5000)), 2 / sqrt(3)"
   ]
  },
  {
   "cell_type": "code",
   "execution_count": null,
   "metadata": {
    "collapsed": false,
    "slideshow": {
     "slide_type": "skip"
    }
   },
   "outputs": [],
   "source": [
    "%%capture\n",
    "sample_mean_fig = plt.figure(figsize=figsize)\n",
    "ax = sample_density(sample_mean.sample(15000), bins=30, facecolor='orange')[0]\n",
    "ax.set_title(r'True value = 3, sample size 3, sample mean SE = 2 / $\\sqrt{3}$')"
   ]
  },
  {
   "cell_type": "code",
   "execution_count": null,
   "metadata": {
    "collapsed": false,
    "slideshow": {
     "slide_type": "slide"
    }
   },
   "outputs": [],
   "source": [
    "sample_mean_fig"
   ]
  },
  {
   "cell_type": "markdown",
   "metadata": {},
   "source": [
    "# Testing hypotheses "
   ]
  },
  {
   "cell_type": "markdown",
   "metadata": {
    "slideshow": {
     "slide_type": "slide"
    }
   },
   "source": [
    "## Null and alternative hypotheses\n",
    "\n",
    "- The naming of the hypotheses corresponds to an \"innocent until proven guilty\" approach.\n",
    "- Since our observations (in standardized units) seem attributable to chance variation, we decided we cannot declare the null hypothesis to be false. Or, we cannot reject the null hypothesis.\n",
    "- In legalese, \"there is reasonable doubt to the guilt of the roulette game so we do not convict\"."
   ]
  },
  {
   "cell_type": "markdown",
   "metadata": {
    "slideshow": {
     "slide_type": "slide"
    }
   },
   "source": [
    "## $Z$-scores\n",
    "\n",
    "- In this hypothesis test, the quantity\n",
    "$$\n",
    "Z = \\frac{\\text{observed} - \\text{expected}}{\\text{SE(observed)}}\n",
    "$$\n",
    "is called a **$z$-score**.\n",
    "\n",
    "- The quantities **expected, SE(observed)** are computed **assuming the null hypothesis is true.**\n",
    "\n",
    "- It measures how many standardiazed units the **observed** value is from what\n",
    "is expected (if the null hypothesis were true)."
   ]
  },
  {
   "cell_type": "markdown",
   "metadata": {
    "slideshow": {
     "slide_type": "slide"
    }
   },
   "source": [
    "## $P$-values\n",
    "\n",
    "- The chances we computed are the chances, if the roulette game was fair, that we would observe a standardized less than our observed standardized value of  -2.2.\n",
    "- In general, if we test a null hypothesis with some  observed data\n",
    "  or  observed test statistic, the  $P$-value\n",
    "   is the chance, assuming the null hypothesis is true, that we would observe such an extreme test statistic.\n",
    "* When computing chances using a $z$ score, the test is called **$z$ tests.**\n",
    "* **Note:**  $\\bbox[5px,border:2px solid orange]{P-value}$ is random!\n",
    "** The P-value is NOT the chances that the null hypothesis is correct!**"
   ]
  },
  {
   "cell_type": "markdown",
   "metadata": {
    "slideshow": {
     "slide_type": "slide"
    }
   },
   "source": [
    "## One-sided vs. two-sided\n",
    "\n",
    "* If we want to conclude a one-sided alternative like $H_a$:\"the average difference in blood pressure is less than -7 mm Hg\".\n",
    "* Then, we can take the null hypothesis to be $H_0$:\"the average difference in blood pressure is greater than or equal to -7 mm Hg\". We reject for $z$-scores that are negative and large in absolute value.\n",
    "* On the other hand, if we want to conclude a two-sided alternative like $H_a$:\"the average difference in blood pressure is not -7 mm Hg\".\n",
    "* Then, we can take the null hypothesis to be $H_0$:\"the average difference in blood pressure is equal to -7 mm Hg\". We reject for large $z$-scores in absolute value."
   ]
  },
  {
   "cell_type": "markdown",
   "metadata": {
    "slideshow": {
     "slide_type": "slide"
    }
   },
   "source": [
    "\n",
    "## Normal approximation and hypothesis tests\n",
    "\n",
    "* If a normal approximation holds for $\\bbox[5px,border:2px solid orange]{\\widehat{\\theta}}$\n",
    "(i.e. $E(\\widehat{\\theta}) \\approx \\bbox[5px,border:2px solid blue]{\\theta}$ and $\\widehat{\\theta}-\\theta$ follows a normal curve with an SE we can approximate). \n",
    "\n",
    "* Then, we can test the null hypothesis $H_0:  \\theta=\\theta_0$ against $H_a:  \\theta \\neq \\theta_0$ (or any variation of one-sided vs. two-sided).\n",
    "* For instance, our first null hypothesis was $\\theta_0=0$. In the second, $\\theta_0=-7$.\n",
    "* The test statistic, called a  $z$ score\n",
    "   for testing $H_0: \\theta=\\theta_0$ is \n",
    "   $$z = \\frac{\\bbox[5px,border:2px solid orange]{\\widehat{\\theta}} - \\bbox[5px,border:2px solid blue]{\\theta_0}}{\\text{SE}(\\bbox[5px,border:2px solid orange]{\\widehat{\\theta}})}\n",
    "   $$\n",
    "   \n",
    "* We call $z$ a $Z$-statistic or a $Z$-score.\n",
    "* If $H_0$ is true, then $ z$ follows the standard normal curve.\n"
   ]
  },
  {
   "cell_type": "markdown",
   "metadata": {
    "slideshow": {
     "slide_type": "slide"
    }
   },
   "source": [
    "## Normal approximation and hypothesis tests\n",
    "\n",
    "* If $H_0$ is not true, then $Z$ does not usually follow the standard normal curve. If it does, you have a very poor test...\n",
    "* It may follow a normal curve with mean $\\neq 0$.\n",
    "* The logic of the hypothesis test is as follows: if $H_0$ is true, then our observed test statistic should be a \"typical value\" under $H_0$.\n",
    "* The  $P$-value\n",
    "   depends on what $H_a$ is.\n",
    "* It is often easier to use the rejection rule instead of the $P$-value.\n",
    "* For null hypotheses like $H_0:\\theta \\leq \\theta_0$ and $H_0:{ \\theta \\geq \\theta_0}$ we use the rejection rules with the *same $z$-score* but whether we reject or not depends on whether the $z$-score is positive or negative.\n"
   ]
  },
  {
   "cell_type": "markdown",
   "metadata": {
    "slideshow": {
     "slide_type": "slide"
    }
   },
   "source": [
    "### One sided test (alternative negative)"
   ]
  },
  {
   "cell_type": "code",
   "execution_count": null,
   "metadata": {
    "collapsed": false,
    "slideshow": {
     "slide_type": "skip"
    }
   },
   "outputs": [],
   "source": [
    "%%capture\n",
    "normal_fig3 = plt.figure(figsize=figsize)\n",
    "ax = normal_curve()\n",
    "interval = np.linspace(-4,-1.65, 101)\n",
    "ax.fill_between(interval, 0*interval, ndist.pdf(interval),\n",
    "                hatch='+', color='green', alpha=0.5)\n",
    "ax.set_title('The green area is %0.0f%%' % (100 * ndist.cdf(-1.65)), fontsize=20, color='green')\n"
   ]
  },
  {
   "cell_type": "code",
   "execution_count": null,
   "metadata": {
    "collapsed": false,
    "slideshow": {
     "slide_type": "fragment"
    }
   },
   "outputs": [],
   "source": [
    "normal_fig3"
   ]
  },
  {
   "cell_type": "markdown",
   "metadata": {
    "slideshow": {
     "slide_type": "fragment"
    }
   },
   "source": [
    "\n",
    " 5% rejection rule\n",
    " for $H_0:\\theta \\geq \\theta_0, H_a: \\theta < \\theta_0.$"
   ]
  },
  {
   "cell_type": "markdown",
   "metadata": {
    "slideshow": {
     "slide_type": "slide"
    }
   },
   "source": [
    "### One sided test (alternative positive)"
   ]
  },
  {
   "cell_type": "code",
   "execution_count": null,
   "metadata": {
    "collapsed": false,
    "slideshow": {
     "slide_type": "skip"
    }
   },
   "outputs": [],
   "source": [
    "%%capture\n",
    "normal_fig5 = plt.figure(figsize=figsize)\n",
    "ax = normal_curve()\n",
    "interval = np.linspace(1.65,4, 101)\n",
    "ax.fill_between(interval, 0*interval, ndist.pdf(interval),\n",
    "                hatch='+', color='green', alpha=0.5)\n",
    "ax.set_title('The green area is %0.0f%%' % (100 * ndist.sf(1.65)), fontsize=20, color='green')\n"
   ]
  },
  {
   "cell_type": "code",
   "execution_count": null,
   "metadata": {
    "collapsed": false,
    "slideshow": {
     "slide_type": "fragment"
    }
   },
   "outputs": [],
   "source": [
    "normal_fig5"
   ]
  },
  {
   "cell_type": "markdown",
   "metadata": {
    "slideshow": {
     "slide_type": "fragment"
    }
   },
   "source": [
    "\n",
    " 5% rejection rule\n",
    " for $H_0:\\theta \\leq \\theta_0, H_a: \\theta > \\theta_0.$"
   ]
  },
  {
   "cell_type": "markdown",
   "metadata": {
    "slideshow": {
     "slide_type": "slide"
    }
   },
   "source": [
    "### Two sided test"
   ]
  },
  {
   "cell_type": "code",
   "execution_count": null,
   "metadata": {
    "collapsed": false,
    "slideshow": {
     "slide_type": "skip"
    }
   },
   "outputs": [],
   "source": [
    "%%capture\n",
    "normal_fig4 = plt.figure(figsize=figsize)\n",
    "ax = normal_curve()\n",
    "interval = np.linspace(-4,-2, 101)\n",
    "ax.fill_between(interval, 0*interval, ndist.pdf(interval),\n",
    "                hatch='+', color='green', alpha=0.5)\n",
    "interval = np.linspace(2,4, 101)\n",
    "ax.fill_between(interval, 0*interval, ndist.pdf(interval),\n",
    "                hatch='+', color='green', alpha=0.5)\n",
    "\n",
    "ax.set_title('The green area is %0.0f%%' % (2 * 100 * ndist.cdf(-2)), fontsize=20, color='green')\n"
   ]
  },
  {
   "cell_type": "code",
   "execution_count": null,
   "metadata": {
    "collapsed": false,
    "slideshow": {
     "slide_type": "fragment"
    }
   },
   "outputs": [],
   "source": [
    "normal_fig4"
   ]
  },
  {
   "cell_type": "markdown",
   "metadata": {
    "slideshow": {
     "slide_type": "fragment"
    }
   },
   "source": [
    "\n",
    " 5% rejection rule\n",
    " for $ H_0: \\theta = \\theta_0, H_a: \\theta \\neq \\theta_0.$"
   ]
  },
  {
   "cell_type": "markdown",
   "metadata": {
    "slideshow": {
     "slide_type": "slide"
    }
   },
   "source": [
    "## Interpretation of 5% rejection rules\n",
    "\n",
    "- Call the rejection rules \n",
    "$$\n",
    "\\begin{aligned}\n",
    "R^+ &= [\\theta_0 + 1.65 \\cdot SE(\\hat{\\theta}), \\infty) \\\\\n",
    "R^- &= (-\\infty, \\theta_0 - 1.65 \\cdot SE(\\hat{\\theta})] \\\\\n",
    "R^{\\pm} &= (-\\infty, \\theta_0 - 2 \\cdot SE(\\hat{\\theta})] \\cup [\\theta_0 + 2 \\cdot SE(\\hat{\\theta}), \\infty)\n",
    "\\end{aligned}\n",
    "$$\n",
    "- So, $R^+$ corresponds to the pair $H_0: \\theta \\leq \\theta_0, \n",
    "H_a: \\theta > \\theta_0$.\n",
    "- The rejection rules are set up so that, for instance,\n",
    "$$\n",
    "\\begin{aligned}\n",
    "P(\\hat{\\theta} \\in R^+) \\leq 5\\%, &\\qquad \\text{if $H_0: \\theta \\leq \\theta_0$ is true.} \\\\\n",
    "P(\\hat{\\theta} \\in R^-) \\leq 5\\%, &\\qquad \\text{if $H_0: \\theta \\geq \\theta_0$ is true.} \\\\\n",
    "P(\\hat{\\theta} \\in R^{\\pm}) = 5\\%, &\\qquad \\text{if $H_0: \\theta = \\theta_0$ is true.}\n",
    "\\end{aligned}\n",
    "$$\n",
    "\n",
    "- In other words, the rejection regions are set up so that there is less than a 5% chance of declaring a false positive.\n",
    "\n",
    "- Here's an illustration of the $R^+$ rejection region. "
   ]
  },
  {
   "cell_type": "markdown",
   "metadata": {
    "slideshow": {
     "slide_type": "slide"
    }
   },
   "source": [
    "## Relation between hypothesis tests and confidence intervals\n",
    "\n",
    "* Which values are reasonable?\n",
    "* Well, -7.0 is certainly a reasonable value if the true average difference were -7 because our $z$ score would be 0.\n",
    "* Hence, we would not reject $H_0$:\"the average difference is -7\" if we observed a sample average of -7\n",
    "* The set of all values $\\theta$ we would not reject $H_0$: \"the average difference is $\\theta$\" at level 5% is basically the standard 95% confidence interval!\n",
    "* Therefore, one can test $H_0:$\"the average difference is 0\" by checking to see whether 0 is in the confidence interval."
   ]
  },
  {
   "cell_type": "markdown",
   "metadata": {
    "slideshow": {
     "slide_type": "slide"
    }
   },
   "source": [
    "## Testing fairness via a confidence interval\n",
    "\n",
    "- Let's go back to our roulette example. Suppose we make an additional 10 bets\n",
    "and won 3 more times, making a total of 13 successes in 30 bets.\n",
    "- An approximate 95% confidence for the true  RED\n",
    "   success rate (fair or not) based on our 20 bets is $$ \\frac{13}{30} \\pm 2 * \\sqrt{\\frac{13}{30} \\times \\frac{17}{30} \\frac{1}{30}} =  0.43 \\pm 0.18$$\n",
    "      \n",
    "- (This assumes the online roulette game is doing independent trials, thought not necessarily fair trials)\n",
    "- The success rate for  RED\n",
    "   in the fair model is ${ 18/38 \\approx 0.47}$.\n",
    "- We see that 0.47 is within our 95% confidence interval. Therefore, we would not reject $H_0$:\"the roulette table is fair\" at level 5%.\n",
    "* **Note:** we should ensure that we have enough trials so the normal approximation holds. "
   ]
  },
  {
   "cell_type": "markdown",
   "metadata": {
    "slideshow": {
     "slide_type": "slide"
    }
   },
   "source": [
    "## Tests and confidence intervals for small samples\n",
    "\n",
    "* Our tests (and confidence intervals) have so far relied on normal approximations (i.e. we have used A-104 to compute all chances).\n",
    "* If the sample size is small, the normal approximations may not be very good.\n",
    "* If the sample size is small, we can sometimes get good confidence intervals using something called a $T$ statistic.\n",
    "* The formula for the $T$ statistic is almost identical to the $z$ statistic, it is the *chances*\n",
    "   that can be quite different."
   ]
  },
  {
   "cell_type": "markdown",
   "metadata": {
    "slideshow": {
     "slide_type": "slide"
    }
   },
   "source": [
    "## Tests and confidence intervals for small samples\n",
    "\n",
    "* Suppose the Gauss model holds \n",
    "\n",
    "           measurement = true value + chance error\n",
    "\n",
    "* **And, the histogram of the error box is not too different from a normal probability histogram or curve!**\n",
    "  \n",
    "* Then, there are very good confidence intervals even for very small samples.\n",
    "* If the histogram of the error box is exactly a normal probability histogram, then these tests and confidence intervals are *exact*."
   ]
  },
  {
   "cell_type": "markdown",
   "metadata": {
    "slideshow": {
     "slide_type": "slide"
    }
   },
   "source": [
    "## The $T$ statistic\n",
    "\n",
    "* Suppose we observed only 5 blood pressure changes: [-4,-6,-8,-2,-1].\n",
    "* The average is -4.2 mm Hg, and the SD of the list is 2.6 mm Hg.\n",
    "* Our usual $z$ score to test $H_0$: average difference $\\geq 0$ against $H_a$: average difference $<0$ $${ z = \\frac{-4.2}{2.6 / \\sqrt{5}} \\approx -3.7}$$\n",
    "* The $T$ statistic replaces the SD of the list with SD$^+$ of the list which is 2.9 mm Hg. \n",
    "* The $T$ statistic is $${ \\bbox[5px,border:2px solid orange]{ T} = \\frac{-4.2}{2.9 / \\sqrt{5}} \\approx -3.3}$$"
   ]
  },
  {
   "cell_type": "markdown",
   "metadata": {
    "slideshow": {
     "slide_type": "slide"
    }
   },
   "source": [
    "## What’s different about the $T$ statistic?\n",
    "\n",
    "* For one thing, it uses $\\text{SD}^+$ instead of $\\text{SD}$.\n",
    "* Why does it use $\\text{SD}^+$?\n",
    "* For small samples, $\\text{SD}^+$ it is a better estimate of SD(box) than SD.\n",
    "* Unfortunately, though, the $T$ statistic does not follow the normal curve. This is the biggest difference."
   ]
  },
  {
   "cell_type": "markdown",
   "metadata": {
    "slideshow": {
     "slide_type": "slide"
    }
   },
   "source": [
    "## Computing the chances for the $T$ test\n",
    "\n",
    "* It *almost*\n",
    "   follows the normal curve. For large samples, it gets closer and closer.\n",
    "* For each sample size, there is a different curve, or probability histogram.\n",
    "* These curves are indexed by what we call *degrees of freedom*.\n",
    "* In this example, the degrees of freedom are $n-1$."
   ]
  },
  {
   "cell_type": "markdown",
   "metadata": {
    "slideshow": {
     "slide_type": "slide"
    }
   },
   "source": [
    "### Student’s $T$"
   ]
  },
  {
   "cell_type": "code",
   "execution_count": null,
   "metadata": {
    "collapsed": false,
    "slideshow": {
     "slide_type": "skip"
    }
   },
   "outputs": [],
   "source": [
    "%%capture\n",
    "df=4\n",
    "normal_fig6 = plt.figure(figsize=figsize)\n",
    "ax = normal_fig6.gca()\n",
    "normal_curve(ax=ax, label='Normal', color='blue', alpha=0.)\n",
    "studentT_curve(ax=ax, label='$T_{%d}$' % df, color='green', alpha=0., df=df)\n",
    "ax.set_title('Comparison of normal curve to $T_{%d}$' % df, fontsize=15)\n",
    "ax.legend()"
   ]
  },
  {
   "cell_type": "code",
   "execution_count": null,
   "metadata": {
    "collapsed": false,
    "slideshow": {
     "slide_type": "fragment"
    }
   },
   "outputs": [],
   "source": [
    "normal_fig6"
   ]
  },
  {
   "cell_type": "markdown",
   "metadata": {
    "slideshow": {
     "slide_type": "slide"
    }
   },
   "source": [
    "## SE of a difference\n",
    "\n",
    "* The denominator should be \n",
    "$$ \\text{SE[average(2004 sample) -\n",
    "     average(1990 sample)]}.$$\n",
    "* The SE of the difference of two **independent**\n",
    "   quantities can be found from the individual SEs.\n",
    "* For our two box model, the  **average(1990 sample)**\n",
    "   is independent of the  **average(2004 sample)**.\n",
    "* The rule is \n",
    "$$\\begin{aligned}\n",
    "   \\text{SE[average(2004 sample) -\n",
    "     average(1990 sample)]} = \\sqrt{\\text{SE(1990 sample)^2 + SE(2004 sample)^2}}\n",
    "     \\end{aligned}$$"
   ]
  },
  {
   "cell_type": "markdown",
   "metadata": {
    "slideshow": {
     "slide_type": "slide"
    }
   },
   "source": [
    "## An example with proportions\n",
    "\n",
    "* In 1999, 13% of the 17 year-old students had taken calculus compared to 17% in 2004 according to the NAEP samples. Is the difference real or chance variation?\n",
    "* This question asks us to compare two proportions. We can take the null hypothesis to be \"the proportion of 17 year olds who took calculus in 1999 is equal to (or greater than or equal to) the proportion who took calculus in 2004.\"\n",
    "* The alternative is \"the proportion of 17 year olds who took calculus in 1999 is less than the proportion who took calculus in 2004.\"\n",
    "* This is another example of choosing the hypothesis after seeing the data. Bad."
   ]
  },
  {
   "cell_type": "markdown",
   "metadata": {
    "slideshow": {
     "slide_type": "slide"
    }
   },
   "source": [
    "## SE of the difference of two propotions\n",
    "\n",
    "* We could rewrite this as $H_0: p_{1999} \\geq p_{2004}$ vs. $H_a:p_{1999} < p_{2004}$.\n",
    "* Our sample estimates are $\\widehat{p}_{1999}=13\\%, \\widehat{p}_{2004}=17\\%$.\n",
    "* They have estimated standard errors: $$\\text{SE}(\\widehat{p}_{1999}) \\approx \\sqrt{0.13 \\times 0.87 / 1000} = 1.1\\%,$$\n",
    "$$\\text{SE}(\\widehat{p}_{2004}) \\approx \\sqrt{0.17 \\times 0.83 / 1000} = 1.2\\%.$$\n",
    "\n",
    "* The of the difference is $\\text{SE}(\\widehat{p}_{1999} - \\widehat{p}_{2004}) \\approx \\sqrt{1.1^2 + 1.2^2} \\approx 1.6\\%.$\n",
    "\n",
    "* The $z$-score is $$z = \\frac{13 - 17 - 0}{1.6} \\approx -2.5$$\n",
    "* The one-sided $P$-value is about 1%.\n",
    "* The two-sided $P$-value (the better one to use, in my opinion) is about 2%."
   ]
  },
  {
   "cell_type": "markdown",
   "metadata": {
    "slideshow": {
     "slide_type": "slide"
    }
   },
   "source": [
    "## Randomized experiments\n",
    "\n",
    "* This *two-sample $z$-test*\n",
    "   can also be used for randomized controlled experiments.\n",
    "* Example: 200 subjects are split randomly into treatment and placebo in a study on vitamin C on the number of colds.\n",
    "* In the treatment group **average(treatment group)=2.3, SD(treatment group) = 3.1.**\n",
    "* In the placebo group **average(placebo group)=2.6, SD(placebo group) = 2.9.**\n",
    "* Is there a difference in the number of colds in treatment vs. placebo group?"
   ]
  },
  {
   "cell_type": "markdown",
   "metadata": {
    "slideshow": {
     "slide_type": "slide"
    }
   },
   "source": [
    "## Box model for experiment\n",
    "\n",
    "* The best box model for this randomized experiment is a box with 200 tickets.\n",
    "* Each ticket has two responses for each subject:\n",
    "*     * $A$: the number of colds if they receive the vitamin C;\n",
    "      * $B$: the number of colds if they receive the placebo.\n",
    "* In the experiment, we only observe $A$ or $B$ for each subject.\n",
    "* Which one we see depends on the randomization.\n",
    "* Statistical theory says the $z$-test is applicable if the sample is large enough to decide between the hypotheses\n",
    "    - $H_0: \\text{average of all $A$'s $\\geq$ average of all $B$'s}$ \n",
    "    - $H_a: \\text{average of all $A$'s $<$ average of all $B$'s}$ \n",
    "    "
   ]
  },
  {
   "cell_type": "markdown",
   "metadata": {
    "slideshow": {
     "slide_type": "slide"
    }
   },
   "source": [
    "## Complete data"
   ]
  },
  {
   "cell_type": "code",
   "execution_count": null,
   "metadata": {
    "collapsed": false,
    "slideshow": {
     "slide_type": "skip"
    }
   },
   "outputs": [],
   "source": [
    "%%capture\n",
    "sample_fig = plt.figure(figsize=(8,8))\n",
    "ax = sample_fig.gca()\n",
    "np.random.seed(0)\n",
    "X = np.mgrid[0:10:10j,0:20:20j].reshape((2,200))   + np.random.sample((2,200)) * 0.05\n",
    "X = X.T\n",
    "sample = np.random.sample(200) \n",
    "\n",
    "data = csv2rec('data/vitaminC.csv')\n",
    "treatment_sample = data['treatment']\n",
    "placebo_sample = data['placebo']\n",
    "placebo = np.array([t == 'placebo' for t in data['group']], np.bool)\n",
    "\n",
    "idx = np.arange(200)\n",
    "np.random.shuffle(idx)\n",
    "\n",
    "placebo = placebo[idx]\n",
    "placebo_sample = placebo_sample[idx]\n",
    "treatment_sample = treatment_sample[idx]\n",
    "\n",
    "for i in range(200):\n",
    "   ax.fill_between([X[i,0]-.4,X[i,0]], [X[i,1]-.4,X[i,1]-.4], [X[i,1]+.3,X[i,1]+.3], facecolor='red', alpha=0.3)\n",
    "   ax.fill_between([X[i,0],X[i,0]+.4], [X[i,1]-.4,X[i,1]-.4], [X[i,1]+.3,X[i,1]+.3], facecolor='green', alpha=0.3)\n",
    "   ax.text(X[i,0]-0.2, X[i,1], '%d' % treatment_sample[i], ha='center', va='center', size=10)\n",
    "   ax.text(X[i,0]+0.2, X[i,1], '%d' % placebo_sample[i], ha='center', va='center', size=10)\n",
    "ax.set_xticks([]);    ax.set_xlim([-1,11])\n",
    "ax.set_yticks([]);    ax.set_ylim([-1,21])\n",
    "ax.set_title('Complete data (unobserved)', fontsize=15)"
   ]
  },
  {
   "cell_type": "code",
   "execution_count": null,
   "metadata": {
    "collapsed": false,
    "slideshow": {
     "slide_type": "fragment"
    }
   },
   "outputs": [],
   "source": [
    "sample_fig"
   ]
  },
  {
   "cell_type": "markdown",
   "metadata": {
    "slideshow": {
     "slide_type": "slide"
    }
   },
   "source": [
    "## Placebo group"
   ]
  },
  {
   "cell_type": "code",
   "execution_count": null,
   "metadata": {
    "collapsed": false,
    "slideshow": {
     "slide_type": "skip"
    }
   },
   "outputs": [],
   "source": [
    "%%capture\n",
    "placebo_fig = plt.figure(figsize=(8,8))\n",
    "ax = placebo_fig.gca()\n",
    "for i in range(200):\n",
    "   if placebo[i]:\n",
    "       ax.fill_between([X[i,0]-.4,X[i,0]], [X[i,1]-.4,X[i,1]-.4], [X[i,1]+.3,X[i,1]+.3], facecolor='red', alpha=0.3)\n",
    "       ax.fill_between([X[i,0],X[i,0]+.4], [X[i,1]-.4,X[i,1]-.4], [X[i,1]+.3,X[i,1]+.3], facecolor='green', alpha=0.3)\n",
    "       ax.text(X[i,0]-0.2, X[i,1], '%d' % placebo_sample[i], ha='center', va='center', size=10)\n",
    "ax.set_xticks([]);    ax.set_xlim([-1,11])\n",
    "ax.set_yticks([]);    ax.set_ylim([-1,21])\n",
    "plt.title(\"Placebo sample: average(placebo)=%0.1f, SD(placebo)=%0.1f\" % (np.around(placebo_sample[placebo].mean(),1), np.around(placebo_sample[placebo].std(),1)))"
   ]
  },
  {
   "cell_type": "code",
   "execution_count": null,
   "metadata": {
    "collapsed": false,
    "slideshow": {
     "slide_type": "fragment"
    }
   },
   "outputs": [],
   "source": [
    "placebo_fig"
   ]
  },
  {
   "cell_type": "markdown",
   "metadata": {
    "slideshow": {
     "slide_type": "slide"
    }
   },
   "source": [
    "## Treatment group"
   ]
  },
  {
   "cell_type": "code",
   "execution_count": null,
   "metadata": {
    "collapsed": false,
    "slideshow": {
     "slide_type": "skip"
    }
   },
   "outputs": [],
   "source": [
    "%%capture\n",
    "treatment_fig = plt.figure(figsize=(8,8))\n",
    "ax = treatment_fig.gca()\n",
    "for i in range(200):\n",
    "   if not placebo[i]:\n",
    "       ax.fill_between([X[i,0]-.4,X[i,0]], [X[i,1]-.4,X[i,1]-.4], [X[i,1]+.3,X[i,1]+.3], facecolor='red', alpha=0.3)\n",
    "       ax.fill_between([X[i,0],X[i,0]+.4], [X[i,1]-.4,X[i,1]-.4], [X[i,1]+.3,X[i,1]+.3], facecolor='green', alpha=0.3)\n",
    "       ax.text(X[i,0]+0.2, X[i,1], '%d' % treatment_sample[i], ha='center', va='center', size=10)\n",
    "ax.set_xticks([]);    ax.set_xlim([-1,11])\n",
    "ax.set_yticks([]);    ax.set_ylim([-1,21])\n",
    "plt.title(\"Treatment sample: average(treatment)=%0.1f, SD(treatment)=%0.1f\" % (treatment_sample[~placebo].mean(), treatment_sample[~placebo].std()))\n"
   ]
  },
  {
   "cell_type": "code",
   "execution_count": null,
   "metadata": {
    "collapsed": false,
    "slideshow": {
     "slide_type": "fragment"
    }
   },
   "outputs": [],
   "source": [
    "treatment_fig"
   ]
  },
  {
   "cell_type": "markdown",
   "metadata": {
    "slideshow": {
     "slide_type": "slide"
    }
   },
   "source": [
    "## Observed data"
   ]
  },
  {
   "cell_type": "code",
   "execution_count": null,
   "metadata": {
    "collapsed": false,
    "slideshow": {
     "slide_type": "skip"
    }
   },
   "outputs": [],
   "source": [
    "%%capture\n",
    "observed_fig = plt.figure(figsize=(8,8))\n",
    "ax = observed_fig.gca()\n",
    "for i in range(200):\n",
    "   ax.fill_between([X[i,0]-.4,X[i,0]], [X[i,1]-.4,X[i,1]-.4], [X[i,1]+.3,X[i,1]+.3], facecolor='red', alpha=0.3)\n",
    "   ax.fill_between([X[i,0],X[i,0]+.4], [X[i,1]-.4,X[i,1]-.4], [X[i,1]+.3,X[i,1]+.3], facecolor='green', alpha=0.3)\n",
    "   if not placebo[i]:\n",
    "       ax.text(X[i,0]-0.2, X[i,1], '%d' % treatment_sample[i], ha='center', va='center', size=10)\n",
    "   elif placebo[i]:\n",
    "       ax.text(X[i,0]+0.2, X[i,1], '%d' % placebo_sample[i], ha='center', va='center', size=10)\n",
    "ax.set_xticks([]);    ax.set_xlim([-1,11])\n",
    "ax.set_yticks([]);    ax.set_ylim([-1,21])"
   ]
  },
  {
   "cell_type": "code",
   "execution_count": null,
   "metadata": {
    "collapsed": false,
    "slideshow": {
     "slide_type": "fragment"
    }
   },
   "outputs": [],
   "source": [
    "observed_fig"
   ]
  },
  {
   "cell_type": "markdown",
   "metadata": {
    "slideshow": {
     "slide_type": "slide"
    }
   },
   "source": [
    "## Carrying out the test\n",
    "\n",
    "* We know $$\\begin{aligned}\n",
    "       \\text{average(treatment)} &= 2.6 \\\\\n",
    "       \\text{SE(average(treatment))} &= 2.9 / \\sqrt{100} = 0.29 \\\\\n",
    "       \\text{average(placebo)} &= 2.3 \\\\\n",
    "       \\text{SE(average(placebo))} &= 3.1 / \\sqrt{100} = 0.31 \\\\\n",
    "       \\end{aligned}$$\n",
    "       \n",
    "* Therefore, $$\\begin{aligned}\n",
    "       \\text{SE(average(treatment)-average(placebo))}\n",
    "       & = \\sqrt{0.31^2+0.29^2} \\\\\n",
    "       &= 0.42\n",
    "       \\end{aligned}$$\n",
    " and $$z = \\frac{2.3-2.6}{0.42} = -0.7$$\n",
    "       \n",
    "* The one-sided $P$-value is 18%, when we test $$H_0: \\text{average of all $A$'s $\\geq$ average of all $B$'s}.$$\n"
   ]
  },
  {
   "cell_type": "markdown",
   "metadata": {
    "slideshow": {
     "slide_type": "slide"
    }
   },
   "source": [
    "## Is the die fair?\n",
    "\n",
    "* Suppose we have a die and we want to\n",
    "decide whether it is fair or not.\n",
    "\n",
    "* We roll the die 60 times. These are the outcomes:"
   ]
  },
  {
   "cell_type": "code",
   "execution_count": null,
   "metadata": {
    "collapsed": false,
    "slideshow": {
     "slide_type": "skip"
    }
   },
   "outputs": [],
   "source": [
    "%%capture\n",
    "data_table = make_table([('Value', 'Observed'), (1,4), (2,6), (3,17), (4,16), (5,8), (6,9), ('Total', 60)])"
   ]
  },
  {
   "cell_type": "code",
   "execution_count": null,
   "metadata": {
    "collapsed": false,
    "slideshow": {
     "slide_type": "fragment"
    }
   },
   "outputs": [],
   "source": [
    "data_table"
   ]
  },
  {
   "cell_type": "markdown",
   "metadata": {
    "slideshow": {
     "slide_type": "fragment"
    }
   },
   "source": [
    "\n",
    "* Looks like the number of 3's and 4's might be a little high (though\n",
    "we already decided we were going to form this test...)"
   ]
  },
  {
   "cell_type": "markdown",
   "metadata": {
    "slideshow": {
     "slide_type": "slide"
    }
   },
   "source": [
    "## Comparison to expected\n",
    "\n",
    "* If the die is unfair, the expected\n",
    "counts in some cells might be higher or lower.\n",
    "\n",
    "* We use the square of the difference instead of the difference.\n",
    "  "
   ]
  },
  {
   "cell_type": "code",
   "execution_count": null,
   "metadata": {
    "collapsed": false,
    "slideshow": {
     "slide_type": "skip"
    }
   },
   "outputs": [],
   "source": [
    "%%capture\n",
    "data_table3 = make_table([('Value', 'Observed', 'Expected', '(Observed - Expected)^2'), \n",
    "                          (1,4,10, '(4-10)^2=36'), \n",
    "                          (2,6,10, '(6-10)^2=16'), \n",
    "                          (3,17,10, '(17-10)^2=49'), \n",
    "                          (4,16,10, '(16-10)^2=36'), \n",
    "                          (5,8,10, '(8-10)^2=4'), \n",
    "                          (6,9,10, '(9-10)^2=1'), ('Total', 60,60, '' )])"
   ]
  },
  {
   "cell_type": "code",
   "execution_count": null,
   "metadata": {
    "collapsed": false,
    "slideshow": {
     "slide_type": "fragment"
    }
   },
   "outputs": [],
   "source": [
    "data_table3"
   ]
  },
  {
   "cell_type": "markdown",
   "metadata": {
    "slideshow": {
     "slide_type": "slide"
    }
   },
   "source": [
    "## Pearson's $X^2$ statistic\n",
    "\n",
    "* To get an overall test, we combine the rows into *Pearson’s $X^2$*\n",
    "   $$\n",
    "   \\begin{aligned}\n",
    "X^2 &= \\sum_i \\frac{\\text{(observed[i]-expected[i])}^2}{\\text{expected[i]}}\\\\\n",
    " &= \\sum_i \\frac{(O_i-E_i)^2}{E_i}\\\\\n",
    "\\end{aligned}\n",
    "$$\n",
    "* In our die example,\n",
    "$$\n",
    "\\begin{aligned}\n",
    "X^2 &= \\frac{36}{10} + \\frac{16}{10} + \\frac{49}{10} + \\frac{36}{10} + \\frac{4}{10} + \\frac{1}{10} \\\\\n",
    "&= \\frac{142}{10} \\\\\n",
    "&= 14.2\n",
    "\\end{aligned}\n",
    "$$\n",
    "\n",
    "* Is this big, or could the statistic be this big by chance?"
   ]
  },
  {
   "cell_type": "code",
   "execution_count": null,
   "metadata": {
    "collapsed": false,
    "slideshow": {
     "slide_type": "skip"
    }
   },
   "outputs": [],
   "source": [
    "%%capture\n",
    "from scipy.stats import chi2\n",
    "from pylab import fill_between\n",
    "\n",
    "def tail_chi2(observed, df, upper_lim=None):\n",
    "    if upper_lim is None:\n",
    "        upper_lim = 10*df\n",
    "\n",
    "    X = np.linspace(1.e-10, upper_lim, 201)\n",
    "    D = chi2.pdf(X, df)\n",
    "    fig = plt.figure(figsize=(6,6))\n",
    "    ax = fig.gca()\n",
    "    ax.plot(X, D, 'k', linewidth=5)\n",
    "    cutoff = chi2.ppf(0.95, df)\n",
    "    x = np.linspace(cutoff, upper_lim, 501)\n",
    "    ax.fill_between(x, 0, chi2.pdf(x, df), hatch='\\\\', facecolor='green', label='5% cutoff',\n",
    "                    alpha=0.5)\n",
    "    x = np.linspace(observed, upper_lim, 501)\n",
    "    ax.fill_between(x, 0, chi2.pdf(x, df), hatch='\\\\', facecolor='red', label='observed',\n",
    "                    alpha=0.5)\n",
    "    ax.set_xlabel('$\\chi^2$ units', fontsize=15)\n",
    "    ax.set_ylabel('Percent per $\\chi^2$ units', fontsize=15)\n",
    "    ax.set_xlim([0, upper_lim])\n",
    "    ax.legend(loc='upper right')\n",
    "    return fig, ax\n",
    "\n",
    "die_fig, die_ax = tail_chi2(14.2, 5, upper_lim=20)"
   ]
  },
  {
   "cell_type": "markdown",
   "metadata": {
    "slideshow": {
     "slide_type": "slide"
    }
   },
   "source": [
    "### What are the chances?"
   ]
  },
  {
   "cell_type": "code",
   "execution_count": null,
   "metadata": {
    "collapsed": false,
    "slideshow": {
     "slide_type": "fragment"
    }
   },
   "outputs": [],
   "source": [
    "die_fig"
   ]
  },
  {
   "cell_type": "markdown",
   "metadata": {
    "slideshow": {
     "slide_type": "fragment"
    }
   },
   "source": [
    "\n",
    "The $\\chi^2_5$ probability histogram, the <font color='red'> red area </font> is 1.4%.\n",
    "The <font color=\"green\"> green area </font> is the 5% rejection rule for $\\chi^2_5$."
   ]
  },
  {
   "cell_type": "markdown",
   "metadata": {
    "slideshow": {
     "slide_type": "slide"
    }
   },
   "source": [
    "## Using the $\\chi^2$ test\n",
    "\n",
    "* A general rule of thumb: every expected value should be 5 or more for the $\\chi^2$ curve to approximate the probability histogram of the $X^2$ statistic.\n",
    "* Would not apply to 100 draws from the box below:"
   ]
  },
  {
   "cell_type": "code",
   "execution_count": null,
   "metadata": {
    "collapsed": false,
    "slideshow": {
     "slide_type": "fragment"
    }
   },
   "outputs": [],
   "source": [
    "box = [0,1,2,3] + [4]*96"
   ]
  },
  {
   "cell_type": "markdown",
   "metadata": {
    "slideshow": {
     "slide_type": "slide"
    }
   },
   "source": [
    "## Difference between $\\chi^2$ test and $z$ test\n",
    "\n",
    "* The $z$ test is a statement about the average of the box.\n",
    "* The $\\chi^2$ is a test whether the observed data follow the box model.\n",
    "* If there are only two values in the box, then the $\\chi^2$ test is identical to the (two-sided) $z$ test."
   ]
  },
  {
   "cell_type": "markdown",
   "metadata": {
    "slideshow": {
     "slide_type": "slide"
    }
   },
   "source": [
    "## Structure of a $\\chi^2$ test\n",
    "\n",
    "- The number of draws, $N$ and the resulting draws.\n",
    "\n",
    "- Data: \n",
    "\n",
    "Value | Observed Count\n",
    "----|----\n",
    "  1 | 4\n",
    "  2 | 6\n",
    "  3 | 17\n",
    "  4 | 16\n",
    "  5 | 8\n",
    "  6 | 9\n",
    "  Total | 60 (=$N$)\n",
    "\n",
    "- Box: [1,2,3,4,5,6]\n",
    "\n",
    "- Degrees of freedom: In our example, this was 5 which was the number of \"free parameters.\" Call this number\n",
    "`df`. This number is 5 in our example.\n",
    "\n",
    "- $P$-value: Computed using the $\\chi^2_{df}$ curve. This was about 1.4% in our example."
   ]
  },
  {
   "cell_type": "markdown",
   "metadata": {
    "slideshow": {
     "slide_type": "slide"
    }
   },
   "source": [
    "## Testing independence: another $\\chi^2$ test\n",
    "\n",
    "### Handedness and gender\n",
    "\n",
    "* Data example from book:\n",
    " \n",
    "Handedness   | Male | Female\n",
    "-------------|------|-------\n",
    "Right        | 934  | 1070\n",
    "Left         | 113  | 92\n",
    "Ambidextrous | 20   | 8\n",
    "\n",
    "* Is handedness related to gender (or not)?"
   ]
  },
  {
   "cell_type": "markdown",
   "metadata": {
    "slideshow": {
     "slide_type": "slide"
    }
   },
   "source": [
    "## Test of independence\n",
    "\n",
    "* The null hypothesis is  **$H_0$: handedness is independent from gender.**\n",
    "* This means that the probability a person (drawn at random) from the population is, say, a left-handed male, is the product of two probabilities: the probability a person is left-handed and the probability a person is male.\n",
    "* Or, \n",
    "$$P(\\text{left-handed and male}) = P(\\text{left-handed}) \\times P(\\text{male})$$"
   ]
  },
  {
   "cell_type": "markdown",
   "metadata": {
    "slideshow": {
     "slide_type": "slide"
    }
   },
   "source": [
    "## Expected counts under $H_0$\n",
    "\n",
    "* Continuing for all 6 cases yields a table of \"Expected Counts\"\n",
    "\n",
    "\n",
    "\n",
    "\n",
    "Handedness   | Male | Female | Total(Handedness)\n",
    "-------------|------|--------|----------\n",
    "Right        | 956  | 1048   | 2004\n",
    "Left         | 98   | 107    | 205\n",
    "Ambidextrous | 13   | 15     |   28\n",
    "Total(Gender)| 1067 | 1170   | 2237\n",
    "\n"
   ]
  },
  {
   "cell_type": "markdown",
   "metadata": {
    "slideshow": {
     "slide_type": "slide"
    }
   },
   "source": [
    "## Computing the $X^2$ statistic\n",
    "\n",
    "* The $X^2$ statistic is computed in exactly the same way $\\begin{aligned}\n",
    "           \\chi^2 &= \\frac{(934-956)^2}{956} + \\frac{(1070-1048)^2}{1048} +\n",
    "            \\frac{(113-98)^2}{98} \\\\\n",
    "           & \\qquad +  \\frac{(92-107)^2}{107} + \\frac{(20-13)^2}{13} + \\frac{(8-15)^2}{15}  \\\\\n",
    "           &\\approx 12\n",
    "         \\end{aligned}$\n",
    "* In symbols, $\\chi^2 = \\sum_{i=1}^3 \\sum_{j=1}^2 \\frac{(O_{ij}-E_{ij})^2}{E_{ij}}$"
   ]
  },
  {
   "cell_type": "markdown",
   "metadata": {
    "slideshow": {
     "slide_type": "slide"
    }
   },
   "source": [
    "## Tests of independence in two-way tables\n",
    "\n",
    "- We could have looked at a different table. The table\n",
    "may have more than 2 columns or three rows.\n",
    "\n",
    "- For example, instead of gender\n",
    "we might have looked at sexual orientation (even though handedness may not be an\n",
    "interesting question). This would add more columns to our table.\n",
    "\n",
    "- In general, we might have a $R \\times C$ table with $R$ categories\n",
    "in the rows and $C$ categories in the columns.\n",
    "\n",
    "- The calculation of the $X^2$ is identical:\n",
    "     \n",
    "\n",
    "- The degrees of freedom is $(R-1)*(C-1)$."
   ]
  }
 ],
 "metadata": {
  "celltoolbar": "Slideshow",
  "kernelspec": {
   "display_name": "Python 2",
   "language": "python",
   "name": "python2"
  },
  "language_info": {
   "codemirror_mode": {
    "name": "ipython",
    "version": 2
   },
   "file_extension": ".py",
   "mimetype": "text/x-python",
   "name": "python",
   "nbconvert_exporter": "python",
   "pygments_lexer": "ipython2",
   "version": "2.7.11"
  }
 },
 "nbformat": 4,
 "nbformat_minor": 0
}

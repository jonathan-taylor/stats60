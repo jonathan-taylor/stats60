{
 "cells": [
  {
   "cell_type": "code",
   "execution_count": null,
   "metadata": {
    "collapsed": false,
    "slideshow": {
     "slide_type": "skip"
    }
   },
   "outputs": [],
   "source": [
    "%matplotlib inline\n",
    "import matplotlib.pyplot as plt\n",
    "import numpy as np\n",
    "\n",
    "# stats60 specific\n",
    "from code import marbles, dice, roulette\n",
    "figsize = (8,8)"
   ]
  },
  {
   "cell_type": "markdown",
   "metadata": {
    "slideshow": {
     "slide_type": "slide"
    }
   },
   "source": [
    "# Binomial (Chapter 15)\n",
    "\n",
    "In this chapter, we talk about tools and tricks for counting in probability \n",
    "calculations."
   ]
  },
  {
   "cell_type": "markdown",
   "metadata": {
    "slideshow": {
     "slide_type": "fragment"
    }
   },
   "source": [
    "## Box with 4 red balls\n",
    "\n",
    "Here is our usual box."
   ]
  },
  {
   "cell_type": "code",
   "execution_count": null,
   "metadata": {
    "collapsed": false,
    "slideshow": {
     "slide_type": "skip"
    }
   },
   "outputs": [],
   "source": [
    "from IPython.core.display import HTML\n",
    "unlabelled = marbles._html_box(['R','R','R', 'R'], grid=(2,2))\n",
    "labelled = marbles._html_box([marbles.numbered_marble('red',i) for i in range(1,5)], \n",
    "                             grid=(2,2))"
   ]
  },
  {
   "cell_type": "code",
   "execution_count": null,
   "metadata": {
    "collapsed": false,
    "slideshow": {
     "slide_type": "slide"
    }
   },
   "outputs": [],
   "source": [
    "HTML(unlabelled)"
   ]
  },
  {
   "cell_type": "markdown",
   "metadata": {
    "slideshow": {
     "slide_type": "slide"
    }
   },
   "source": [
    "In reality, these balls are actually different.\n",
    "\n",
    "Let's emphasize this by putting numbers on them."
   ]
  },
  {
   "cell_type": "code",
   "execution_count": null,
   "metadata": {
    "collapsed": false,
    "slideshow": {
     "slide_type": "fragment"
    }
   },
   "outputs": [],
   "source": [
    "HTML(labelled)"
   ]
  },
  {
   "cell_type": "markdown",
   "metadata": {
    "slideshow": {
     "slide_type": "fragment"
    }
   },
   "source": [
    "Suppose we draw all 4 balls from this box without replacement and record the numbers on the balls.\n",
    "\n",
    "How many ways of doing this are there?"
   ]
  },
  {
   "cell_type": "code",
   "execution_count": null,
   "metadata": {
    "collapsed": false,
    "slideshow": {
     "slide_type": "skip"
    }
   },
   "outputs": [],
   "source": [
    "from itertools import permutations, combinations\n",
    "values = []\n",
    "for comb in permutations(range(1,5), 4):\n",
    "    values += [marbles.numbered_marble('red', i) for i in comb] \n",
    "\n",
    "orderings = marbles._html_box(values, grid=(24,4))"
   ]
  },
  {
   "cell_type": "code",
   "execution_count": null,
   "metadata": {
    "collapsed": false,
    "slideshow": {
     "slide_type": "slide"
    }
   },
   "outputs": [],
   "source": [
    "HTML(orderings)\n"
   ]
  },
  {
   "cell_type": "markdown",
   "metadata": {
    "slideshow": {
     "slide_type": "fragment"
    }
   },
   "source": [
    "\n",
    "There are 24 possible ways to order the 4 balls."
   ]
  },
  {
   "cell_type": "markdown",
   "metadata": {
    "slideshow": {
     "slide_type": "slide"
    }
   },
   "source": [
    "## Binomial formula\n",
    "\n",
    "### Counting the ways of ordering the balls\n",
    " \n",
    "We arrive at 24 as follows:\n",
    "- Draw 1: There are 4 choices.\n",
    "- Draw 2: There are 3 choices.\n",
    "- Draw 3: There are 2 choices.\n",
    "- Draw 4: There is only one choice.\n",
    "\n",
    "Therefore, there are $4 \\times 3 \\times 2 \\times 1 = 24$ ways of ordering the balls."
   ]
  },
  {
   "cell_type": "markdown",
   "metadata": {
    "slideshow": {
     "slide_type": "slide"
    }
   },
   "source": [
    "## Factorial\n",
    "\n",
    "For an integer, $n$ its *factorial* is \n",
    "$$n! = n \\times (n-1) \\times (n-2) \\times \\dots \\times 3 \\times 2 \\times 1.$$\n",
    "\n",
    "Example: $5! = 5 \\times 4 \\times 3 \\times 2 \\times 1 = 120$.\n",
    "\n",
    "** There are $n!$ orderings of $n$ distinct objects.**"
   ]
  },
  {
   "cell_type": "markdown",
   "metadata": {
    "slideshow": {
     "slide_type": "slide"
    }
   },
   "source": [
    "### Box with 4 red balls"
   ]
  },
  {
   "cell_type": "code",
   "execution_count": null,
   "metadata": {
    "collapsed": false,
    "slideshow": {
     "slide_type": "fragment"
    }
   },
   "outputs": [],
   "source": [
    "HTML(labelled)"
   ]
  },
  {
   "cell_type": "markdown",
   "metadata": {
    "slideshow": {
     "slide_type": "slide"
    }
   },
   "source": [
    "What if we only draw two balls?"
   ]
  },
  {
   "cell_type": "code",
   "execution_count": null,
   "metadata": {
    "collapsed": false,
    "slideshow": {
     "slide_type": "skip"
    }
   },
   "outputs": [],
   "source": [
    "values = []\n",
    "for comb in permutations(range(1,5), 2):\n",
    "    values += [marbles.numbered_marble('red', i) for i in comb] \n",
    "\n",
    "draw_two_ordered = marbles._html_box(values, grid=(12,2))"
   ]
  },
  {
   "cell_type": "code",
   "execution_count": null,
   "metadata": {
    "collapsed": false,
    "slideshow": {
     "slide_type": "fragment"
    }
   },
   "outputs": [],
   "source": [
    "HTML(draw_two_ordered)"
   ]
  },
  {
   "cell_type": "markdown",
   "metadata": {
    "slideshow": {
     "slide_type": "fragment"
    }
   },
   "source": [
    "\n",
    "There are 12 possible ways to draw two balls in order."
   ]
  },
  {
   "cell_type": "markdown",
   "metadata": {
    "slideshow": {
     "slide_type": "slide"
    }
   },
   "source": [
    "## Counting the ways of ordering the balls\n",
    "\n",
    "We arrive at 12 as follows:\n",
    "- Draw 1: There are 4 choices.\n",
    "- Draw 2: There are 3 choices.\n",
    "\n",
    "Hence, there are $$4 \\times 3 = 12 = 4! / 2!$$ ways of ordering the balls."
   ]
  },
  {
   "cell_type": "markdown",
   "metadata": {
    "slideshow": {
     "slide_type": "slide"
    }
   },
   "source": [
    "## Drawing $k$ balls out of $n$, in order\n",
    "\n",
    "The number of ways of drawing $k$ balls without replacement (in order) from $n$ is $$\\frac{n!}{(n-k)!}$$\n",
    "\n",
    "Example: the number of ways of choosing 2 balls from 7 in order is \n",
    "$$\\frac{7!}{ 5!} = 7 \\times 6 = 42.$$"
   ]
  },
  {
   "cell_type": "markdown",
   "metadata": {
    "slideshow": {
     "slide_type": "slide"
    }
   },
   "source": [
    "### Box with 4 red balls"
   ]
  },
  {
   "cell_type": "code",
   "execution_count": null,
   "metadata": {
    "collapsed": false,
    "slideshow": {
     "slide_type": "skip"
    }
   },
   "outputs": [],
   "source": [
    "values = []\n",
    "for comb in combinations(range(1,5), 2):\n",
    "    values += [marbles.numbered_marble('red', i) for i in comb] \n",
    "\n",
    "draw_two_unordered = marbles._html_box(values, grid=(12,2))"
   ]
  },
  {
   "cell_type": "code",
   "execution_count": null,
   "metadata": {
    "collapsed": false,
    "slideshow": {
     "slide_type": "fragment"
    }
   },
   "outputs": [],
   "source": [
    "HTML(draw_two_unordered)"
   ]
  },
  {
   "cell_type": "markdown",
   "metadata": {
    "slideshow": {
     "slide_type": "fragment"
    }
   },
   "source": [
    "\n",
    "There are 6 possible ways to draw two balls ignoring order."
   ]
  },
  {
   "cell_type": "markdown",
   "metadata": {
    "slideshow": {
     "slide_type": "slide"
    }
   },
   "source": [
    "## Counting \n",
    "\n",
    "We arrive at 6 as follows:\n",
    "- Draw 1: There are 4 choices.\n",
    "- Draw 2: There are 3 choices.\n",
    "\n",
    "### Ignoring order \n",
    "\n",
    "When we ignore the order, each possible unordered draw of 2 corresponds to 2! ordered draws.\n",
    "Hence, there are $$\\frac{4 \\times 3}{ 2!} = \\frac{12}{2} = 6$$ ways of drawing 2 balls out of 4, ignoring order."
   ]
  },
  {
   "cell_type": "markdown",
   "metadata": {
    "slideshow": {
     "slide_type": "slide"
    }
   },
   "source": [
    "## Binomial coefficient\n",
    "\n",
    "The number of ways of drawing $k$ balls without replacement and ignoring order from $n$ is \n",
    "$$\\frac{n!}{k! \\times (n-k)!}$$\n",
    "\n",
    "Example: the number of ways of choosing 2 balls from 7 ignoring order is \n",
    "$$\\frac{7!}{5! 2!} = \\frac{7 \\times 6 }{2}  = 21.$$\n",
    "\n",
    "We define the **binomial coefficient** as\n",
    "$$\\binom{n}{k} = \\binom{n}{n-k} = \\frac{n!}{k! \\times (n-k)!}.$$"
   ]
  },
  {
   "cell_type": "markdown",
   "metadata": {
    "slideshow": {
     "slide_type": "slide"
    }
   },
   "source": [
    "### Example\n",
    "\n",
    "- When flipping a coin 10 times, how many outcomes are there with 7 heads?\n",
    "\n",
    "- We can represent this as drawing 7 out of a possible 10 slots for the heads, without order. There are $\\binom{10}{7} = \\frac{10 \\times 9 \\times 8}{3 \\times 2 \\times 1} = 120 \\\n",
    "     \\text{outcomes}$"
   ]
  },
  {
   "cell_type": "markdown",
   "metadata": {
    "slideshow": {
     "slide_type": "slide"
    }
   },
   "source": [
    "## Example \n",
    "\n",
    "- What are the chances when flipping a coin 10 times that there are 7 heads?\n",
    "\n",
    "- We know that there are 120 such outcomes and each has probability $(1/2)^{10}$ (Why?). \n",
    "\n",
    "- The chances are therefore $120 \\times \\left(\\frac{1}{2} \\right)^{10} \\approx 11 \\%.$"
   ]
  },
  {
   "cell_type": "markdown",
   "metadata": {
    "slideshow": {
     "slide_type": "slide"
    }
   },
   "source": [
    "## Example\n",
    "\n",
    "When rolling a fair die 20 times, what are the chances that you will roll exactly 5 1s?"
   ]
  },
  {
   "cell_type": "code",
   "execution_count": null,
   "metadata": {
    "collapsed": false,
    "slideshow": {
     "slide_type": "skip"
    }
   },
   "outputs": [],
   "source": [
    "five_ones = '''\n",
    "<table>\n",
    "<tr>%s</tr>\n",
    "</table>''' % ' '.join(['<td>%s</td>' % dice.die_html(1, height=100, width=100)]*5)\n"
   ]
  },
  {
   "cell_type": "code",
   "execution_count": null,
   "metadata": {
    "collapsed": false,
    "slideshow": {
     "slide_type": "fragment"
    }
   },
   "outputs": [],
   "source": [
    "HTML(five_ones)"
   ]
  },
  {
   "cell_type": "markdown",
   "metadata": {
    "slideshow": {
     "slide_type": "fragment"
    }
   },
   "source": [
    "- There are $\\binom{20}{5} = 15504$ such outcomes (use a calculator). \n",
    "\n",
    "- Each outcome has probability $$\\left(\\frac{1}{6} \\right)^5 \\left(\\frac{5}{6}\\right)^{15}.$$\n",
    "\n",
    "- Therefore, the chances are \n",
    "$$\\binom{20}{5} \\left(\\frac{1}{6} \\right)^5 \\left(\\frac{5}{6} \\right)^{15} \\approx 13\\%.$$"
   ]
  },
  {
   "cell_type": "markdown",
   "metadata": {
    "slideshow": {
     "slide_type": "slide"
    }
   },
   "source": [
    "## Independent trials\n",
    "\n",
    "1. A **trial**  is an experiment with two possible outcomes:  **success**\n",
    "    or  **failure**.\n",
    "2. The same experiment is repeated *independently*.\n",
    "3. Each time the experiment is repeated, the chances of success are the same: $p$."
   ]
  },
  {
   "cell_type": "markdown",
   "metadata": {
    "slideshow": {
     "slide_type": "slide"
    }
   },
   "source": [
    "## Binomial formula for computing probabilities\n",
    "\n",
    "When performing $n$ independent trials, each with probability of success $p$, the probability of observing exactly $k$ successes is \n",
    "$$\\binom{n}{ k} { p^k} {(1-p)^ {n-k}}.$$"
   ]
  },
  {
   "cell_type": "markdown",
   "metadata": {},
   "source": [
    "## Roulette\n",
    "\n",
    "<img src=\"http://introductorystats.files.wordpress.com/2010/11/roulette-wheel.jpg\">\n",
    "\n",
    "Source: http://introductorystats.wordpress.com."
   ]
  },
  {
   "cell_type": "markdown",
   "metadata": {
    "slideshow": {
     "slide_type": "slide"
    }
   },
   "source": [
    "## Example\n",
    "\n",
    "- Suppose we bet on  5\n",
    "   for 6 spins of the roulette wheel. \n",
    "   \n",
    "- What are the chances we win exactly 3 times?\n",
    "\n",
    "1. Make a box model.\n",
    "2. For your box, compute the probability of success of each trial. Call this $p$.\n",
    "3.  **The answer is $\\binom{6}{3} p^3 (1-p)^3.$**"
   ]
  },
  {
   "cell_type": "code",
   "execution_count": null,
   "metadata": {
    "collapsed": false,
    "slideshow": {
     "slide_type": "fragment"
    }
   },
   "outputs": [],
   "source": [
    "roulette.five"
   ]
  },
  {
   "cell_type": "code",
   "execution_count": null,
   "metadata": {
    "collapsed": false,
    "slideshow": {
     "slide_type": "fragment"
    }
   },
   "outputs": [],
   "source": [
    "roulette.five.mass_function"
   ]
  },
  {
   "cell_type": "code",
   "execution_count": null,
   "metadata": {
    "collapsed": false,
    "slideshow": {
     "slide_type": "slide"
    }
   },
   "outputs": [],
   "source": [
    "p = roulette.five.mass_function[True]\n",
    "6*5*4 / (3*2*1) * p**3 * (1 - p)**3"
   ]
  },
  {
   "cell_type": "markdown",
   "metadata": {
    "slideshow": {
     "slide_type": "slide"
    }
   },
   "source": [
    "## Filling in the details\n",
    "\n",
    "- From the box model, we see that $p = \\frac{1}{38}$\n",
    "- The answer is $$\\binom{6}{3} \\times \\left(\\frac{1}{38}\\right)^3 \\times \\left( \\frac{37}{38} \\right)^3 \\approx 0.03\\%$$\n",
    "- We could ask the chances of any number of successes."
   ]
  },
  {
   "cell_type": "code",
   "execution_count": null,
   "metadata": {
    "collapsed": false,
    "slideshow": {
     "slide_type": "fragment"
    }
   },
   "outputs": [],
   "source": [
    "roulette.sixplays_five.mass_function[2], (6*5/2)*(1/38.)**2*(37/38.)**4\n"
   ]
  },
  {
   "cell_type": "markdown",
   "metadata": {
    "slideshow": {
     "slide_type": "slide"
    }
   },
   "source": [
    "## Example\n",
    "\n",
    " Suppose we bet on  RED\n",
    " for 8 spins of the roulette wheel. What are the chances we win exactly 2 times?\n"
   ]
  },
  {
   "cell_type": "code",
   "execution_count": null,
   "metadata": {
    "collapsed": false,
    "slideshow": {
     "slide_type": "fragment"
    }
   },
   "outputs": [],
   "source": [
    "roulette.red"
   ]
  },
  {
   "cell_type": "markdown",
   "metadata": {
    "slideshow": {
     "slide_type": "slide"
    }
   },
   "source": [
    "## Filling in the details\n",
    "\n",
    "- From the box model, we see that $p = \\frac{18}{38}$\n",
    "- **The answer is** $$\\binom{8}{2} \\times \\left(\\frac{18}{38}\\right)^2 \\times \\left( \\frac{20}{38} \\right)^6 \\approx 13\\%$$"
   ]
  },
  {
   "cell_type": "code",
   "execution_count": null,
   "metadata": {
    "collapsed": false,
    "slideshow": {
     "slide_type": "fragment"
    }
   },
   "outputs": [],
   "source": [
    "roulette.eightplays_red.mass_function[2]"
   ]
  },
  {
   "cell_type": "markdown",
   "metadata": {
    "slideshow": {
     "slide_type": "slide"
    }
   },
   "source": [
    "## Eight bets on red continued\n",
    "\n",
    "- Suppose we bet on  RED\n",
    "   for 8 spins of the roulette wheel. What are the chances we win less than or equal to 2 times?\n",
    "- To win less than or equal to 2 times, we can win 0, 1 or 2 times. These events are mutually exclusive. So the chances are \n",
    "$$\\begin{aligned}\n",
    "\\text{chances we win 2 or less times} &=    \\binom{8}{2} \\times \\left(\\frac{18}{38}\\right)^2 \\times \\left( \\frac{20}{38} \\right)^6\\\\\n",
    "     & + \\ \\binom{8}{1} \\times \\left(\\frac{18}{38}\\right)^1 \\times \\left( \\frac{20}{38} \\right)^7 \\\\\n",
    "     & + \\ \\binom{8}{0} \\times \\left(\\frac{18}{38}\\right)^0 \\times \\left( \\frac{20}{38} \\right)^8 \\\\\n",
    "     & \\approx 18 \\%\n",
    "     \\end{aligned}$$"
   ]
  },
  {
   "cell_type": "code",
   "execution_count": null,
   "metadata": {
    "collapsed": false,
    "slideshow": {
     "slide_type": "fragment"
    }
   },
   "outputs": [],
   "source": [
    "E = roulette.eightplays_red\n",
    "E.mass_function[0] + E.mass_function[1] + E.mass_function[2]"
   ]
  },
  {
   "cell_type": "markdown",
   "metadata": {
    "slideshow": {
     "slide_type": "slide"
    }
   },
   "source": [
    "## Box model for winnings\n",
    "\n",
    "- In a real casino, one actually bets money.\n",
    "\n",
    "- We could describe the procedure by drawing from a box with values [-10,10] with different probabilities."
   ]
  },
  {
   "cell_type": "code",
   "execution_count": null,
   "metadata": {
    "collapsed": false,
    "slideshow": {
     "slide_type": "fragment"
    }
   },
   "outputs": [],
   "source": [
    "roulette.red_bet10.sample(5)"
   ]
  },
  {
   "cell_type": "code",
   "execution_count": null,
   "metadata": {
    "collapsed": false,
    "slideshow": {
     "slide_type": "fragment"
    }
   },
   "outputs": [],
   "source": [
    "roulette.red_bet10.mass_function"
   ]
  },
  {
   "cell_type": "markdown",
   "metadata": {
    "slideshow": {
     "slide_type": "slide"
    }
   },
   "source": [
    "## Drawing without replacement\n",
    "\n",
    "The binomial formula is useful for many things, including\n",
    "drawing without replacement.\n",
    "\n",
    "- Suppose we go back to our box with 30 blue balls and 20 red balls. When drawing 5 balls without replacement, what are the chances that we draw 3 red balls?\n",
    "- Let’s count the number of subsets of size 5 of the balls with exactly 3 red balls in them. \n",
    "- Call this number $N$. The answer is then \n",
    "$$\\frac{N}{\\text{number of subsets of size 5 from 50 balls}} = \\frac{N}{\\binom{50}{5}}$$"
   ]
  },
  {
   "cell_type": "code",
   "execution_count": null,
   "metadata": {
    "collapsed": false,
    "slideshow": {
     "slide_type": "skip"
    }
   },
   "outputs": [],
   "source": [
    "values = []\n",
    "values = ([marbles.numbered_marble('red', i) for i in range(1,21)] + \n",
    "          [marbles.numbered_marble('blue', i) for i in range(1,31)])\n",
    "\n",
    "red_and_blue = marbles._html_box(values, grid=(5,10))"
   ]
  },
  {
   "cell_type": "code",
   "execution_count": null,
   "metadata": {
    "collapsed": false,
    "slideshow": {
     "slide_type": "fragment"
    }
   },
   "outputs": [],
   "source": [
    "HTML(red_and_blue)"
   ]
  },
  {
   "cell_type": "markdown",
   "metadata": {
    "slideshow": {
     "slide_type": "slide"
    }
   },
   "source": [
    "## Drawing without replacement\n",
    "\n",
    "- There are $$\\binom{20}{3}$$ ways of choosing 3 of the red balls, i.e. 3 of the balls numbered 31 to 50.\n",
    "- There are $$\\binom{30}{2}$$ ways of choosing 2 of the blue balls, i.e. 2 of the balls numbered 1 to 30.\n",
    "- The answer is $$\\frac{\\binom{20}{3} \\binom{30}{2}}{\\binom{50}{5}} \\approx  23\\%.$$"
   ]
  }
 ],
 "metadata": {
  "celltoolbar": "Slideshow",
  "kernelspec": {
   "display_name": "Python 2",
   "language": "python",
   "name": "python2"
  },
  "language_info": {
   "codemirror_mode": {
    "name": "ipython",
    "version": 2
   },
   "file_extension": ".py",
   "mimetype": "text/x-python",
   "name": "python",
   "nbconvert_exporter": "python",
   "pygments_lexer": "ipython2",
   "version": "2.7.11"
  }
 },
 "nbformat": 4,
 "nbformat_minor": 0
}

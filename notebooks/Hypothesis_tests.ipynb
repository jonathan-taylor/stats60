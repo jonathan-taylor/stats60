{
 "cells": [
  {
   "cell_type": "code",
   "execution_count": null,
   "metadata": {
    "collapsed": false,
    "slideshow": {
     "slide_type": "skip"
    }
   },
   "outputs": [],
   "source": [
    "%matplotlib inline\n",
    "%load_ext rpy2.ipython\n",
    "import matplotlib.pyplot as plt\n",
    "import numpy as np\n",
    "from numpy import mean, sqrt, std, fabs\n",
    "from scipy.stats import t as tdist\n",
    "\n",
    "# stats60 specific\n",
    "from scipy.stats import norm as ndist\n",
    "from code import roulette\n",
    "from code.week1 import normal_curve\n",
    "from code.probability import ProbabilitySpace, BoxModel, Normal\n",
    "from code.week7 import studentT_curve\n",
    "figsize = (8,8)"
   ]
  },
  {
   "cell_type": "markdown",
   "metadata": {
    "slideshow": {
     "slide_type": "slide"
    }
   },
   "source": [
    "\n",
    "## Testing hypotheses \n",
    "\n",
    "### Is online gaming fair?\n",
    "\n",
    "* If you play online poker or roulette, how do you know it’s fair?\n",
    "* I placed 10 bets on  RED.\n",
    "* These are the results: [0,0,1,0,1,0,0,1,0,1].\n",
    "* Is the game fair?"
   ]
  },
  {
   "cell_type": "markdown",
   "metadata": {
    "slideshow": {
     "slide_type": "slide"
    }
   },
   "source": [
    "### Example (continued)\n",
    "\n",
    "- I *observed*\n",
    "   4 successes.\n",
    "- If the roulette wheel is fair, I would expect to see $10 \\times 18/ 38=4.7$ successes, give or take $\\sqrt{10} \\times \\sqrt{18/38 \\times 20/38}=1.4$.\n",
    "- In standardized units, my observed 4 successes converts to $$\\frac{4 - 4.7}{1.4} = -0.5$$\n",
    "- This seems reasonable, it is not very large relative to 1 and it could be just a chance error. After all, chance errors are typically size 1 in standardized units."
   ]
  },
  {
   "cell_type": "markdown",
   "metadata": {
    "slideshow": {
     "slide_type": "slide"
    }
   },
   "source": [
    "### Example (continued)\n",
    "\n",
    "- I placed 10 more identical bets, with results [1,0,1,1,1,1,0,1,0,0]. So, in 20 bets, I have observed 10 successes.\n",
    "- If the roulette game is fair, I would expect to see \n",
    "$$20 \\times 18/ 38=9.5$$ successes, give or take $$\\sqrt{20} \\times \\sqrt{18/38 \\times 20/38}=2.2$$\n",
    "- In standardized units, my observed 10 successes converts to $$\\frac{10 - 9.5}{2.2} = 0.2$$\n",
    "- Again, this seems reasonable, it is not very large relative to 1 and it could be just a chance error. After all, chance errors are typically size 1 in standardized units."
   ]
  },
  {
   "cell_type": "markdown",
   "metadata": {
    "slideshow": {
     "slide_type": "slide"
    }
   },
   "source": [
    "### What can I conclude?\n",
    "\n",
    "- Based on betting on  RED, I cannot conclude that the roulette wheel is rigged.\n",
    "- It is possible that some other bets might not have matched the expected number of successes as well. I can only draw a conclusion based on my 20 bets on  RED.\n",
    "- In statistical terms, the statement \"the roulette game is rigged\" is called a **hypothesis.**\n",
    "- In this case, we call it the **alternative hypothesis**.\n",
    "- Alternative to what? It is an alternative to the **null hypothesis**\n",
    "   which is \"the roulette game is fair.\""
   ]
  },
  {
   "cell_type": "markdown",
   "metadata": {
    "slideshow": {
     "slide_type": "slide"
    }
   },
   "source": [
    "## Null and alternative hypotheses\n",
    "\n",
    "- The naming of the hypotheses corresponds to an \"innocent until proven guilty\" approach.\n",
    "- Since our observations (in standardized units) seem attributable to chance variation, we decided we cannot declare the null hypothesis to be false. Or, we cannot reject the null hypothesis.\n",
    "- In legalese, \"there is reasonable doubt to the guilt of the roulette game so we do not convict\"."
   ]
  },
  {
   "cell_type": "markdown",
   "metadata": {
    "slideshow": {
     "slide_type": "slide"
    }
   },
   "source": [
    "### A different scenario\n",
    "\n",
    "- What if the second 10 results were [0,0,0,0,0,0,0,0,0,0]? Then, we would have observed only 4 successes in 20 draws from our 0-1 box.\n",
    "- In standardized units, this 4 converts to \n",
    "$$ \\frac{4 - 9.5}{2.2} \\approx -2.5$$\n",
    "- This would be a little suspect...\n",
    "- In fact, if the roulette wheel were fair, there is only approximately a 1.4% chance (after continuity correction) that I would have had so few successes in 20 bets."
   ]
  },
  {
   "cell_type": "markdown",
   "metadata": {
    "slideshow": {
     "slide_type": "slide"
    }
   },
   "source": [
    "### What are the chances?"
   ]
  },
  {
   "cell_type": "code",
   "execution_count": null,
   "metadata": {
    "collapsed": false,
    "slideshow": {
     "slide_type": "skip"
    }
   },
   "outputs": [],
   "source": [
    "%%capture\n",
    "normal_fig = plt.figure(figsize=figsize)\n",
    "ax = normal_curve()\n",
    "interval = np.linspace(-4,-2.2, 101)\n",
    "ax.fill_between(interval, 0*interval, ndist.pdf(interval),\n",
    "                hatch='+', color='green', alpha=0.5)\n",
    "ax.set_title('The green area is %0.1f%%' % (100 * ndist.cdf(-2.2)), fontsize=20, color='green')\n"
   ]
  },
  {
   "cell_type": "code",
   "execution_count": null,
   "metadata": {
    "collapsed": false,
    "slideshow": {
     "slide_type": "fragment"
    }
   },
   "outputs": [],
   "source": [
    "normal_fig"
   ]
  },
  {
   "cell_type": "markdown",
   "metadata": {
    "slideshow": {
     "slide_type": "slide"
    }
   },
   "source": [
    "## $Z$-scores\n",
    "\n",
    "- In this hypothesis test, the quantity\n",
    "$$\n",
    "Z = \\frac{\\text{observed} - \\text{expected}}{\\text{SE(observed)}}\n",
    "$$\n",
    "is called a **$z$-score**.\n",
    "\n",
    "- The quantities **expected, SE(observed)** are computed **assuming the null hypothesis is true.**\n",
    "\n",
    "- It measures how many standardiazed units the **observed** value is from what\n",
    "is expected (if the null hypothesis were true)."
   ]
  },
  {
   "cell_type": "markdown",
   "metadata": {
    "slideshow": {
     "slide_type": "slide"
    }
   },
   "source": [
    "## $P$-values\n",
    "\n",
    "- The chances we computed are the chances, if the roulette game was fair, that we would observe a standardized less than our observed standardized value of  -2.2.\n",
    "- In general, if we test a null hypothesis with some  observed data\n",
    "  or  observed test statistic, the  $P$-value\n",
    "   is the chance, assuming the null hypothesis is true, that we would observe such an extreme test statistic.\n",
    "* When computing chances using a $z$ score, the test is called **$z$ tests.**\n",
    "* **Note:**  $\\bbox[5px,border:2px solid orange]{P-value}$ is random!\n"
   ]
  },
  {
   "cell_type": "markdown",
   "metadata": {
    "slideshow": {
     "slide_type": "slide"
    }
   },
   "source": [
    "## More about $P$-values\n",
    "\n",
    "* ** The P-value is NOT the chances that the null hypothesis is correct!**\n",
    "  \n",
    "* Why not?\n",
    "     - The online roulette game is fair or it is not. The null hypothesis is true or it is false.\n",
    "     - If the  $P$-value\n",
    "         were the chances the null hypothesis is correct, these chances would be  random...\n",
    "         \n",
    "* In Bayesian statistics, one *can*\n",
    "   compute the chances the null hypothesis is correct, but we have not addressed\n",
    "   this methodology yet.\n",
    "   \n",
    "* The book uses two thresholds:\n",
    "    - If the $P$-value is less than 5%, the result is *statistically significant*.\n",
    "    - If the $P$-value is less than 1%, the result is called *highly significant*."
   ]
  },
  {
   "cell_type": "markdown",
   "metadata": {
    "slideshow": {
     "slide_type": "slide"
    }
   },
   "source": [
    "## A Bayesian calculation\n",
    "\n",
    "- Suppose we declare, before seeing data: \"the probability the success rate on  RED\n",
    "   is 18/38 is 70%, and the probability the success rate on  RED\n",
    "   is 12/38 is 30%\".\n",
    "- Call these two hypotheses $H_0, H_1$ and we have just said $P(\\text{$H_0$ is true})=0.7, P(\\text{$H_1$ is true}) = 0.3.$\n",
    "\n",
    "- Suppose now, we observe 4 success from 20 bets but we\n",
    "   do not know whether they were from the fair game, $H_0$ or\n",
    "   the unfair game $H_1$.\n",
    "\n",
    "- Bayes' rule says\n",
    "   $$\n",
    "   \\begin{aligned}\n",
    "   P(\\text{$H_0$ is true} | \\text{4 out of 20 successes})\n",
    "   &= \n",
    "   \\frac{0.7 \\times \\binom{20}{4} (\\frac{18}{38})^4 (\\frac{20}{38})^{16}}{0.7 \\times \\binom{20}{4} (\\frac{18}{38})^4 (\\frac{20}{38})^{16} + 0.3 \\times \\binom{20}{4} (\\frac{12}{38})^4 (\\frac{26}{38})^{16}} \\\\\n",
    "   & \\qquad = 15\\%.\n",
    "   \\end{aligned}\n",
    "   $$\n",
    "  \n",
    "- Are the chances above random or not random?\n"
   ]
  },
  {
   "cell_type": "markdown",
   "metadata": {
    "slideshow": {
     "slide_type": "slide"
    }
   },
   "source": [
    "## A second testing scenario\n",
    "\n",
    "* Suppose now we want to see the efficacy of a new drug on blood pressure.\n",
    "* Our study design is: we will treat a large patient population with the drug and measure their blood pressure before and after taking the drug.\n",
    "* One way to conclude that the drug is effective if the blood pressure has decreased. That is, if the average difference is negative."
   ]
  },
  {
   "cell_type": "markdown",
   "metadata": {
    "slideshow": {
     "slide_type": "slide"
    }
   },
   "source": [
    "## Setting up the test\n",
    "\n",
    "* We could set this up as drawing from a box of *differences in blood pressure*.\n",
    "* The *null hypothesis*, $H_0$ is: \"the average difference is zero.\"\n",
    "* The *alternative hypothesis*, $H_a$, is: \"the average difference in the box is less than zero.\"\n",
    "* Sometimes, people will test the alternative, $H_a$: \"the average difference in the box is not zero.\"\n",
    "* We test the null with observed data by estimating the average difference and converting to standardized units."
   ]
  },
  {
   "cell_type": "markdown",
   "metadata": {
    "slideshow": {
     "slide_type": "slide"
    }
   },
   "source": [
    "### Sample of blood pressures"
   ]
  },
  {
   "cell_type": "code",
   "execution_count": null,
   "metadata": {
    "collapsed": false,
    "slideshow": {
     "slide_type": "skip"
    }
   },
   "outputs": [],
   "source": [
    "class BloodPressure(ProbabilitySpace):\n",
    "\n",
    "    alpha = 0.1\n",
    "    ptsize = 5\n",
    "    sample_ptsize = 60\n",
    "\n",
    "    def __init__(self, draw_fig=True):\n",
    "        self.npop, self.ndraw = 5000, 50\n",
    "        self.box = BoxModel(np.random.random_integers(-15, 0,\n",
    "                                                       size=(self.npop,)),\n",
    "                                                       replace=True)\n",
    "        self.X = (np.mgrid[0:1:10j,0:1:5j].reshape((2,50)) +\n",
    "                  np.random.sample((2,50)) * 0.05)\n",
    "        self.BG = np.random.sample((self.npop,2))\n",
    "        self.X = self.X.T\n",
    "        self.draw_fig = draw_fig\n",
    "        if draw_fig:\n",
    "            self.draw()\n",
    "\n",
    "    def draw(self, color={'R':'red','B':'blue'}):\n",
    "        self.figure.clf()\n",
    "        ax, X, BG = self.axes, self.X, self.BG\n",
    "        ax.scatter(BG[:,0], BG[:,1], s=self.ptsize, color='gray', alpha=self.alpha)\n",
    "        ax.set_xticks([]);    ax.set_xlim([-0.1,1.1])\n",
    "        ax.set_yticks([]);    ax.set_ylim([-0.1,1.1])\n",
    "\n",
    "    @property\n",
    "    def figure(self):\n",
    "        if not hasattr(self, \"_figure\"):\n",
    "            self._figure = plt.figure(figsize=figsize)\n",
    "        self._axes = self._figure.gca()\n",
    "        return self._figure\n",
    "\n",
    "    @property\n",
    "    def axes(self):\n",
    "        self.figure\n",
    "        return self._axes\n",
    "    \n",
    "    def draw_sample_pts(self, bgcolor={'R':'red','B':'blue'},\n",
    "                        color={'R':'red','B':'blue'}):\n",
    "        self.draw(color=bgcolor)\n",
    "        ax, X, sample = self.axes, self.X, self._sample\n",
    "        mean, sd = self.outcome\n",
    "        for i in range(50):\n",
    "            ax.text(X[i,0], X[i,1], '%d' % sample[i], color='red')\n",
    "        ax.set_title(\"average(sample)=%0.1f, SD(sample)=%0.1f\" % (np.mean(sample), np.std(sample)), fontsize=15)\n",
    "        return self.figure\n",
    "\n",
    "    def trial(self, bgcolor={'R':'red','B':'blue'},\n",
    "              color={'R':'red','B':'blue'}):\n",
    "        self._sample = self.box.sample(self.ndraw)\n",
    "        self.outcome = np.mean(self._sample), np.std(self._sample)\n",
    "        if self.draw_fig:\n",
    "            self.draw_sample_pts(color=color, bgcolor=bgcolor)\n",
    "        return self.outcome\n",
    "\n",
    "    \n",
    "BP = BloodPressure()\n"
   ]
  },
  {
   "cell_type": "code",
   "execution_count": null,
   "metadata": {
    "collapsed": false,
    "slideshow": {
     "slide_type": "fragment"
    }
   },
   "outputs": [],
   "source": [
    "np.random.seed(0)\n",
    "print BP.trial()\n",
    "BP.figure"
   ]
  },
  {
   "cell_type": "markdown",
   "metadata": {
    "slideshow": {
     "slide_type": "slide"
    }
   },
   "source": [
    "## Evaluating the test\n",
    "\n",
    "- Our observed average is $-7.0$. We estimate its SE to be $4.5 / \\sqrt{50} = 0.64$.\n",
    "- In standardized units, our observed average converts to $$\\frac{-7.0 - 0}{0.64}  \\approx - 11$$\n",
    "- The  $P$-value\n",
    "   is 0: there is virtually no chance a standard normal would ever be so small. \n",
    "\n",
    "- We reject the null hypothesis $H_0$ and conclude $H_a$: \"the average difference of the box is negative.\""
   ]
  },
  {
   "cell_type": "code",
   "execution_count": null,
   "metadata": {
    "collapsed": false,
    "slideshow": {
     "slide_type": "fragment"
    }
   },
   "outputs": [],
   "source": [
    "5.1 / sqrt(50)"
   ]
  },
  {
   "cell_type": "markdown",
   "metadata": {
    "slideshow": {
     "slide_type": "slide"
    }
   },
   "source": [
    "## Example (continued)\n",
    "\n",
    "* Suppose that our null hypothesis was different. We might have begun with the null hypothesis $H_0$: \"the average decrease in blood pressure will be 7 mm Hg\" with alternative $H_a$: \"the average decrease in blood pressure is not 7mm Hg\".\n",
    "* How do we test this hypothesis?\n",
    "* Well, under this null hypothesis our observed average converts to $$\\frac{-7.0 -(- 7)}{0.64}  \\approx 0$$\n",
    "\n",
    "* This test is **two-sided**: we did not specify the alternative as greater than or larger than..."
   ]
  },
  {
   "cell_type": "markdown",
   "metadata": {
    "slideshow": {
     "slide_type": "slide"
    }
   },
   "source": [
    "### What are the chances?"
   ]
  },
  {
   "cell_type": "code",
   "execution_count": null,
   "metadata": {
    "collapsed": false,
    "slideshow": {
     "slide_type": "skip"
    }
   },
   "outputs": [],
   "source": [
    "%%capture\n",
    "normal_fig2 = plt.figure(figsize=figsize)\n",
    "ax = normal_curve()\n",
    "interval = np.linspace(-4,-0.6, 101)\n",
    "ax.fill_between(interval, 0*interval, ndist.pdf(interval),\n",
    "                hatch='+', color='green', alpha=0.5)\n",
    "interval = np.linspace(0.6,4, 101)\n",
    "ax.fill_between(interval, 0*interval, ndist.pdf(interval),\n",
    "                hatch='+', color='green', alpha=0.5)\n",
    "\n",
    "ax.set_title('The green area is %0.1f%%' % (2 * 100 * ndist.sf(0.6)), fontsize=20, color='green')\n",
    "\n"
   ]
  },
  {
   "cell_type": "code",
   "execution_count": null,
   "metadata": {
    "collapsed": false,
    "slideshow": {
     "slide_type": "slide"
    }
   },
   "outputs": [],
   "source": [
    "normal_fig2"
   ]
  },
  {
   "cell_type": "markdown",
   "metadata": {
    "slideshow": {
     "slide_type": "fragment"
    }
   },
   "source": [
    "\n",
    "Area is 55%, we cannot reject $H_0: \\text{average(difference)}=-7$."
   ]
  },
  {
   "cell_type": "markdown",
   "metadata": {
    "slideshow": {
     "slide_type": "slide"
    }
   },
   "source": [
    "## How small should the chances be?\n",
    "\n",
    "* In our examples so far, it has been fairly clear which of the null or alternative is more believable.\n",
    "* In practice, we must decide a threshold at which to reject $H_0$.\n",
    "This is the *size of the test.*\n",
    "* A common choice is to use a threshold of 5%. We call this threshold the *level*\n",
    "   or *size*\n",
    "   of the test.\n",
    "* The book declares a *$P$-value*\n",
    "   of $5\\%$ or less to be \"significant\", $1\\%$ or less to be \"highly significant.\""
   ]
  },
  {
   "cell_type": "markdown",
   "metadata": {
    "slideshow": {
     "slide_type": "slide"
    }
   },
   "source": [
    "## Rejection rule\n",
    "\n",
    "* Knowing the null and alternative hypotheses and the size of the test, we can define a * rejection rule*.\n",
    "* For example, if the size is 5%, and $$\\begin{aligned}\n",
    "       H_0 &= \\text{average difference is 0 mm Hg} \\\\\n",
    "       H_a &= \\text{average difference is negative} \\\\\n",
    "     \\end{aligned}$$\n",
    "* Then, we reject $H_0$ if our $z$ statistic is less than  -1.65."
   ]
  },
  {
   "cell_type": "markdown",
   "metadata": {
    "slideshow": {
     "slide_type": "slide"
    }
   },
   "source": [
    "### One sided test (alternative negative)"
   ]
  },
  {
   "cell_type": "code",
   "execution_count": null,
   "metadata": {
    "collapsed": false,
    "slideshow": {
     "slide_type": "skip"
    }
   },
   "outputs": [],
   "source": [
    "%%capture\n",
    "normal_fig3 = plt.figure(figsize=figsize)\n",
    "ax = normal_curve()\n",
    "interval = np.linspace(-4,-1.65, 101)\n",
    "ax.fill_between(interval, 0*interval, ndist.pdf(interval),\n",
    "                hatch='+', color='green', alpha=0.5)\n",
    "ax.set_title('The green area is %0.0f%%' % (100 * ndist.cdf(-1.65)), fontsize=20, color='green')\n"
   ]
  },
  {
   "cell_type": "code",
   "execution_count": null,
   "metadata": {
    "collapsed": false,
    "slideshow": {
     "slide_type": "slide"
    }
   },
   "outputs": [],
   "source": [
    "normal_fig3"
   ]
  },
  {
   "cell_type": "markdown",
   "metadata": {
    "slideshow": {
     "slide_type": "fragment"
    }
   },
   "source": [
    "\n",
    " 5% rejection rule\n",
    " when alternative is negative …"
   ]
  },
  {
   "cell_type": "markdown",
   "metadata": {
    "slideshow": {
     "slide_type": "slide"
    }
   },
   "source": [
    "## Blood pressure continued\n",
    "\n",
    "* Suppose the alternative is now $H_a$: \"the average difference is not 0mm Hg\".\n",
    "* Do we reject $H_0$:\"the average difference is 0mm Hg\"?\n",
    "* In standardized units, our observed average converts to $$\\frac{-7.0 - 0}{0.64}  \\approx - 11$$\n",
    "* Now, -11 is extremely unlikely under $H_0$ but it is likely for values some values of the average difference under $H_a$.\n",
    "* We reject this $H_0$ when the $z$-score is large in absolute value."
   ]
  },
  {
   "cell_type": "markdown",
   "metadata": {
    "slideshow": {
     "slide_type": "slide"
    }
   },
   "source": [
    "### Two sided test"
   ]
  },
  {
   "cell_type": "code",
   "execution_count": null,
   "metadata": {
    "collapsed": false,
    "slideshow": {
     "slide_type": "skip"
    }
   },
   "outputs": [],
   "source": [
    "%%capture\n",
    "normal_fig4 = plt.figure(figsize=figsize)\n",
    "ax = normal_curve()\n",
    "interval = np.linspace(-4,-2, 101)\n",
    "ax.fill_between(interval, 0*interval, ndist.pdf(interval),\n",
    "                hatch='+', color='green', alpha=0.5)\n",
    "interval = np.linspace(2,4, 101)\n",
    "ax.fill_between(interval, 0*interval, ndist.pdf(interval),\n",
    "                hatch='+', color='green', alpha=0.5)\n",
    "\n",
    "ax.set_title('The green area is %0.0f%%' % (2 * 100 * ndist.cdf(-2)), fontsize=20, color='green')\n"
   ]
  },
  {
   "cell_type": "code",
   "execution_count": null,
   "metadata": {
    "collapsed": false,
    "slideshow": {
     "slide_type": "fragment"
    }
   },
   "outputs": [],
   "source": [
    "normal_fig4"
   ]
  },
  {
   "cell_type": "markdown",
   "metadata": {
    "slideshow": {
     "slide_type": "fragment"
    }
   },
   "source": [
    "\n",
    " 5% rejection rule\n",
    " when alternative does not specify the sign (i.e. could be positive or negative...)"
   ]
  },
  {
   "cell_type": "markdown",
   "metadata": {
    "slideshow": {
     "slide_type": "slide"
    }
   },
   "source": [
    "## Blood pressure again \n",
    "\n",
    "* Suppose the alternative is now $H_a$: \"the average difference is positive\".\n",
    "* Do we reject $H_0$:\"the average difference is 0mm Hg\"?\n",
    "* In standardized units, our observed average converts to $$\\frac{-7.0 - 0}{0.64}  \\approx - 11$$\n",
    "* While -11 is extremely unlikely under $H_0$ it is even more unlikely under $H_a$.\n",
    "* It seems reasonable to conclude that neither $H_0$ nor $H_a$ is true.\n",
    "* But, to conclude $H_a$ is true, we should only reject this $H_0$ when the $z$-score is positive …"
   ]
  },
  {
   "cell_type": "markdown",
   "metadata": {
    "slideshow": {
     "slide_type": "slide"
    }
   },
   "source": [
    "### One sided test (alternative positive)"
   ]
  },
  {
   "cell_type": "code",
   "execution_count": null,
   "metadata": {
    "collapsed": false,
    "slideshow": {
     "slide_type": "skip"
    }
   },
   "outputs": [],
   "source": [
    "%%capture\n",
    "normal_fig5 = plt.figure(figsize=figsize)\n",
    "ax = normal_curve()\n",
    "interval = np.linspace(1.65,4, 101)\n",
    "ax.fill_between(interval, 0*interval, ndist.pdf(interval),\n",
    "                hatch='+', color='green', alpha=0.5)\n",
    "ax.set_title('The green area is %0.0f%%' % (100 * ndist.sf(1.65)), fontsize=20, color='green')\n"
   ]
  },
  {
   "cell_type": "code",
   "execution_count": null,
   "metadata": {
    "collapsed": false,
    "slideshow": {
     "slide_type": "fragment"
    }
   },
   "outputs": [],
   "source": [
    "normal_fig5"
   ]
  },
  {
   "cell_type": "markdown",
   "metadata": {
    "slideshow": {
     "slide_type": "fragment"
    }
   },
   "source": [
    "\n",
    " 5% rejection rule\n",
    " when alternative is positive …"
   ]
  },
  {
   "cell_type": "markdown",
   "metadata": {
    "slideshow": {
     "slide_type": "slide"
    }
   },
   "source": [
    "## One-sided vs. two-sided\n",
    "\n",
    "* If we want to conclude a one-sided alternative like $H_a$:\"the average difference in blood pressure is less than -7 mm Hg\".\n",
    "* Then, we can take the null hypothesis to be $H_0$:\"the average difference in blood pressure is greater than or equal to -7 mm Hg\". We reject for $z$-scores that are negative and large in absolute value.\n",
    "* On the other hand, if we want to conclude a two-sided alternative like $H_a$:\"the average difference in blood pressure is not -7 mm Hg\".\n",
    "* Then, we can take the null hypothesis to be $H_0$:\"the average difference in blood pressure is equal to -7 mm Hg\". We reject for large $z$-scores in absolute value."
   ]
  },
  {
   "cell_type": "markdown",
   "metadata": {
    "slideshow": {
     "slide_type": "slide"
    }
   },
   "source": [
    "\n",
    "## Normal approximation and hypothesis tests\n",
    "\n",
    "* If a normal approximation holds for $\\bbox[5px,border:2px solid orange]{\\widehat{\\theta}}$\n",
    "(i.e. $E(\\widehat{\\theta}) \\approx \\bbox[5px,border:2px solid blue]{\\theta}$ and $\\widehat{\\theta}-\\theta$ follows a normal curve with an SE we can approximate). \n",
    "\n",
    "* Then, we can test the null hypothesis $H_0:  \\theta=\\theta_0$ against $H_a:  \\theta \\neq \\theta_0$ (or any variation of one-sided vs. two-sided).\n",
    "* For instance, our first null hypothesis was $\\theta_0=0$. In the second, $\\theta_0=-7$.\n",
    "* The test statistic, called a  $z$ score\n",
    "   for testing $H_0: \\theta=\\theta_0$ is \n",
    "   $$z = \\frac{\\bbox[5px,border:2px solid orange]{\\widehat{\\theta}} - \\bbox[5px,border:2px solid blue]{\\theta_0}}{\\text{SE}(\\bbox[5px,border:2px solid orange]{\\widehat{\\theta}})}\n",
    "   $$\n",
    "   \n",
    "* We call $z$ a $Z$-statistic or a $Z$-score.\n",
    "* If $H_0$ is true, then $ z$ follows the standard normal curve.\n",
    "* If $H_0$ is not true, then $z$ does not usually follow the standard normal curve. If it does, you have a very poor test."
   ]
  },
  {
   "cell_type": "markdown",
   "metadata": {
    "slideshow": {
     "slide_type": "slide"
    }
   },
   "source": [
    "## Normal approximation and hypothesis tests\n",
    "\n",
    "* If $H_0$ is not true, then $Z$ does not usually follow the standard normal curve. If it does, you have a very poor test...\n",
    "* It may follow a normal curve with mean $\\neq 0$.\n",
    "* The logic of the hypothesis test is as follows: if $H_0$ is true, then our observed test statistic should be a \"typical value\" under $H_0$.\n",
    "* The  $P$-value\n",
    "   depends on what $H_a$ is.\n",
    "* It is often easier to use the rejection rule instead of the $P$-value.\n",
    "* For null hypotheses like $H_0:\\theta \\leq \\theta_0$ and $H_0:{ \\theta \\geq \\theta_0}$ we use the rejection rules with the *same $z$-score* but whether we reject or not depends on whether the $z$-score is positive or negative.\n"
   ]
  },
  {
   "cell_type": "markdown",
   "metadata": {
    "slideshow": {
     "slide_type": "slide"
    }
   },
   "source": [
    "### One sided test (alternative negative)"
   ]
  },
  {
   "cell_type": "code",
   "execution_count": null,
   "metadata": {
    "collapsed": false,
    "slideshow": {
     "slide_type": "fragment"
    }
   },
   "outputs": [],
   "source": [
    "normal_fig3"
   ]
  },
  {
   "cell_type": "markdown",
   "metadata": {
    "slideshow": {
     "slide_type": "fragment"
    }
   },
   "source": [
    "\n",
    " 5% rejection rule\n",
    " for $H_0:\\theta \\geq \\theta_0, H_a: \\theta < \\theta_0.$"
   ]
  },
  {
   "cell_type": "markdown",
   "metadata": {
    "slideshow": {
     "slide_type": "slide"
    }
   },
   "source": [
    "### One sided test (alternative positive)"
   ]
  },
  {
   "cell_type": "code",
   "execution_count": null,
   "metadata": {
    "collapsed": false,
    "slideshow": {
     "slide_type": "fragment"
    }
   },
   "outputs": [],
   "source": [
    "normal_fig5"
   ]
  },
  {
   "cell_type": "markdown",
   "metadata": {
    "slideshow": {
     "slide_type": "fragment"
    }
   },
   "source": [
    "\n",
    " 5% rejection rule\n",
    " for $H_0:\\theta \\leq \\theta_0, H_a: \\theta > \\theta_0.$"
   ]
  },
  {
   "cell_type": "markdown",
   "metadata": {
    "slideshow": {
     "slide_type": "slide"
    }
   },
   "source": [
    "### Two sided test"
   ]
  },
  {
   "cell_type": "code",
   "execution_count": null,
   "metadata": {
    "collapsed": false,
    "slideshow": {
     "slide_type": "fragment"
    }
   },
   "outputs": [],
   "source": [
    "normal_fig4"
   ]
  },
  {
   "cell_type": "markdown",
   "metadata": {
    "slideshow": {
     "slide_type": "fragment"
    }
   },
   "source": [
    "\n",
    " 5% rejection rule\n",
    " for $ H_0: \\theta = \\theta_0, H_a: \\theta \\neq \\theta_0.$"
   ]
  },
  {
   "cell_type": "markdown",
   "metadata": {
    "slideshow": {
     "slide_type": "slide"
    }
   },
   "source": [
    "## Interpretation of 5% rejection rules\n",
    "\n",
    "- Call the rejection rules \n",
    "$$\n",
    "\\begin{aligned}\n",
    "R^+ &= [\\theta_0 + 1.65 \\cdot SE(\\hat{\\theta}), \\infty) \\\\\n",
    "R^- &= (-\\infty, \\theta_0 - 1.65 \\cdot SE(\\hat{\\theta})] \\\\\n",
    "R^{\\pm} &= (-\\infty, \\theta_0 - 2 \\cdot SE(\\hat{\\theta})] \\cup [\\theta_0 + 2 \\cdot SE(\\hat{\\theta}), \\infty)\n",
    "\\end{aligned}\n",
    "$$\n",
    "- So, $R^+$ corresponds to the pair $H_0: \\theta \\leq \\theta_0, \n",
    "H_a: \\theta > \\theta_0$.\n",
    "- The rejection rules are set up so that, for instance,\n",
    "$$\n",
    "\\begin{aligned}\n",
    "P(\\hat{\\theta} \\in R^+) \\leq 5\\%, &\\qquad \\text{if $H_0: \\theta \\leq \\theta_0$ is true.} \\\\\n",
    "P(\\hat{\\theta} \\in R^-) \\leq 5\\%, &\\qquad \\text{if $H_0: \\theta \\geq \\theta_0$ is true.} \\\\\n",
    "P(\\hat{\\theta} \\in R^{\\pm}) = 5\\%, &\\qquad \\text{if $H_0: \\theta = \\theta_0$ is true.}\n",
    "\\end{aligned}\n",
    "$$\n",
    "\n",
    "- In other words, the rejection regions are set up so that there is less than a 5% chance of declaring a false positive.\n",
    "\n",
    "- Here's an illustration of the $R^+$ rejection region. "
   ]
  },
  {
   "cell_type": "code",
   "execution_count": null,
   "metadata": {
    "collapsed": false,
    "slideshow": {
     "slide_type": "slide"
    }
   },
   "outputs": [],
   "source": [
    "def Rplus(thetahat, theta0, SE_thetahat):\n",
    "    return np.greater(thetahat, theta0 + 1.65 * SE_thetahat)\n",
    "theta = Normal(2, 3)\n",
    "thetahat = theta.trial()\n",
    "thetahat, Rplus(thetahat, 2, 3), 2 + 1.65*3"
   ]
  },
  {
   "cell_type": "markdown",
   "metadata": {
    "slideshow": {
     "slide_type": "fragment"
    }
   },
   "source": [
    "Now, let's generate some data where $H_0$ is true."
   ]
  },
  {
   "cell_type": "code",
   "execution_count": null,
   "metadata": {
    "collapsed": false,
    "slideshow": {
     "slide_type": "fragment"
    }
   },
   "outputs": [],
   "source": [
    "Tsample = theta.sample(10000)\n",
    "mean(Rplus(Tsample, 2, 3))"
   ]
  },
  {
   "cell_type": "markdown",
   "metadata": {
    "slideshow": {
     "slide_type": "fragment"
    }
   },
   "source": [
    "The null hypothesis is also true if the mean is below 2. Our `Zsample`\n",
    "above has its estimate of $\\hat{\\theta}$ equal to 2.\n",
    "\n",
    "If we look at the rejection rate for $\\theta_0=4$, it should still be less than 5%."
   ]
  },
  {
   "cell_type": "code",
   "execution_count": null,
   "metadata": {
    "collapsed": false,
    "slideshow": {
     "slide_type": "fragment"
    }
   },
   "outputs": [],
   "source": [
    "mean(Rplus(Tsample, 4, 3))"
   ]
  },
  {
   "cell_type": "markdown",
   "metadata": {
    "slideshow": {
     "slide_type": "slide"
    }
   },
   "source": [
    "## One-sided vs. two-sided\n",
    "\n",
    "- The book often reports the one-sided $P$ values. \n",
    "- There is no problem with this, in principle, UNLESS you choose\n",
    "$H_0$ (or, respectively $H_a$) AFTER seeing the $Z$ score.\n",
    "- Most examples in the book (and solutions) seem to do this.\n",
    "- The problem with this is that the 5% above roughly doubles to 10% \n",
    "so you are declaring more false positives than you think...\n",
    "- Let's also define the test for $R^-$ and see what happens\n",
    "when we decide which test to use after snooping at the sign of the data."
   ]
  },
  {
   "cell_type": "code",
   "execution_count": null,
   "metadata": {
    "collapsed": false,
    "slideshow": {
     "slide_type": "fragment"
    }
   },
   "outputs": [],
   "source": [
    "def Rminus(thetahat, theta0, SE_thetahat):\n",
    "    return np.less(thetahat, theta0 - 1.65 * SE_thetahat)\n",
    "mean(Rminus(Tsample, 2, 3))"
   ]
  },
  {
   "cell_type": "code",
   "execution_count": null,
   "metadata": {
    "collapsed": false,
    "slideshow": {
     "slide_type": "fragment"
    }
   },
   "outputs": [],
   "source": [
    "def snooping_test(thetahat, theta0, SD_thetahat):\n",
    "    test_pos = np.greater(thetahat, theta0) * Rplus(thetahat, theta0, SD_thetahat)\n",
    "    test_neg = np.less(thetahat, theta0) * Rminus(thetahat, theta0, SD_thetahat)\n",
    "    return test_pos + test_neg\n",
    "\n",
    "mean(snooping_test(Tsample, 2, 3))"
   ]
  },
  {
   "cell_type": "markdown",
   "metadata": {
    "slideshow": {
     "slide_type": "slide"
    }
   },
   "source": [
    "## Relation between hypothesis tests and confidence intervals\n",
    "\n",
    "* Which values are reasonable?\n",
    "* Well, -7.0 is certainly a reasonable value if the true average difference were -7 because our $z$ score would be 0.\n",
    "* Hence, we would not reject $H_0$:\"the average difference is -7\" if we observed a sample average of -7\n",
    "* The set of all values $\\theta$ we would not reject $H_0$: \"the average difference is $\\theta$\" at level 5% is basically the standard 95% confidence interval!\n",
    "* Therefore, one can test $H_0:$\"the average difference is 0\" by checking to see whether 0 is in the confidence interval."
   ]
  },
  {
   "cell_type": "markdown",
   "metadata": {
    "slideshow": {
     "slide_type": "slide"
    }
   },
   "source": [
    "## Testing fairness via a confidence interval\n",
    "\n",
    "- Let's go back to our roulette example. Suppose we make an additional 10 bets\n",
    "and won 3 more times, making a total of 13 successes in 30 bets.\n",
    "- An approximate 95% confidence for the true  RED\n",
    "   success rate (fair or not) based on our 20 bets is $$ \\frac{13}{30} \\pm 2 * \\sqrt{\\frac{13}{30} \\times \\frac{17}{30} \\frac{1}{30}} =  0.43 \\pm 0.18$$\n",
    "      \n",
    "- (This assumes the online roulette game is doing independent trials, thought not necessarily fair trials)\n",
    "- The success rate for  RED\n",
    "   in the fair model is ${ 18/38 \\approx 0.47}$.\n",
    "- We see that 0.47 is within our 95% confidence interval. Therefore, we would not reject $H_0$:\"the roulette table is fair\" at level 5%.\n",
    "* **Note:** we should ensure that we have enough trials so the normal approximation holds. "
   ]
  },
  {
   "cell_type": "markdown",
   "metadata": {
    "slideshow": {
     "slide_type": "slide"
    }
   },
   "source": [
    "## Tests and confidence intervals for small samples\n",
    "\n",
    "* Our tests (and confidence intervals) have so far relied on normal approximations (i.e. we have used A-104 to compute all chances).\n",
    "* If the sample size is small, the normal approximations may not be very good.\n",
    "* If the sample size is small, we can sometimes get good confidence intervals using something called a $T$ statistic.\n",
    "* The formula for the $T$ statistic is almost identical to the $z$ statistic, it is the *chances*\n",
    "   that can be quite different."
   ]
  },
  {
   "cell_type": "markdown",
   "metadata": {
    "slideshow": {
     "slide_type": "slide"
    }
   },
   "source": [
    "## Tests and confidence intervals for small samples\n",
    "\n",
    "* Suppose the Gauss model holds \n",
    "\n",
    "           measurement = true value + chance error\n",
    "\n",
    "* **And, the histogram of the error box is not too different from a normal probability histogram or curve!**\n",
    "  \n",
    "* Then, there are very good confidence intervals even for very small samples.\n",
    "* If the histogram of the error box is exactly a normal probability histogram, then these tests and confidence intervals are *exact*."
   ]
  },
  {
   "cell_type": "markdown",
   "metadata": {
    "slideshow": {
     "slide_type": "slide"
    }
   },
   "source": [
    "## The $T$ statistic\n",
    "\n",
    "* Suppose we observed only 5 blood pressure changes: [-4,-6,-8,-2,-1].\n",
    "* The average is -4.2 mm Hg, and the SD of the list is 2.6 mm Hg.\n",
    "* Our usual $z$ score to test $H_0$: average difference $\\geq 0$ against $H_a$: average difference $<0$ $${ z = \\frac{-4.2}{2.6 / \\sqrt{5}} \\approx -3.7}$$\n",
    "* The $T$ statistic replaces the SD of the list with SD$^+$ of the list which is 2.9 mm Hg. \n",
    "* The $T$ statistic is $${ \\bbox[5px,border:2px solid orange]{ T} = \\frac{-4.2}{2.9 / \\sqrt{5}} \\approx -3.3}$$"
   ]
  },
  {
   "cell_type": "markdown",
   "metadata": {
    "slideshow": {
     "slide_type": "slide"
    }
   },
   "source": [
    "## What’s different about the $T$ statistic?\n",
    "\n",
    "* For one thing, it uses $\\text{SD}^+$ instead of $\\text{SD}$.\n",
    "* Why does it use $\\text{SD}^+$?\n",
    "* For small samples, $\\text{SD}^+$ it is a better estimate of SD(box) than SD.\n",
    "* Unfortunately, though, the $T$ statistic does not follow the normal curve. This is the biggest difference."
   ]
  },
  {
   "cell_type": "markdown",
   "metadata": {
    "slideshow": {
     "slide_type": "slide"
    }
   },
   "source": [
    "## Computing the chances for the $T$ test\n",
    "\n",
    "* It *almost*\n",
    "   follows the normal curve. For large samples, it gets closer and closer.\n",
    "* For each sample size, there is a different curve, or probability histogram.\n",
    "* These curves are indexed by what we call *degrees of freedom*.\n",
    "* In this example, the degrees of freedom are $n-1$."
   ]
  },
  {
   "cell_type": "markdown",
   "metadata": {
    "slideshow": {
     "slide_type": "slide"
    }
   },
   "source": [
    "### Student’s $T$"
   ]
  },
  {
   "cell_type": "code",
   "execution_count": null,
   "metadata": {
    "collapsed": false,
    "slideshow": {
     "slide_type": "skip"
    }
   },
   "outputs": [],
   "source": [
    "%%capture\n",
    "df=4\n",
    "normal_fig6 = plt.figure(figsize=figsize)\n",
    "ax = normal_fig6.gca()\n",
    "normal_curve(ax=ax, label='Normal', color='blue', alpha=0.)\n",
    "studentT_curve(ax=ax, label='$T_{%d}$' % df, color='green', alpha=0., df=df)\n",
    "ax.set_title('Comparison of normal curve to $T_{%d}$' % df, fontsize=15)\n",
    "ax.legend()"
   ]
  },
  {
   "cell_type": "code",
   "execution_count": null,
   "metadata": {
    "collapsed": false,
    "slideshow": {
     "slide_type": "fragment"
    }
   },
   "outputs": [],
   "source": [
    "normal_fig6"
   ]
  },
  {
   "cell_type": "markdown",
   "metadata": {
    "slideshow": {
     "slide_type": "slide"
    }
   },
   "source": [
    "### Student’s $T$"
   ]
  },
  {
   "cell_type": "code",
   "execution_count": null,
   "metadata": {
    "collapsed": false,
    "slideshow": {
     "slide_type": "skip"
    }
   },
   "outputs": [],
   "source": [
    "%%capture\n",
    "df = 4 \n",
    "normal_fig7 = plt.figure(figsize=figsize)\n",
    "ax = normal_curve(alpha=0., color='blue')\n",
    "interval = np.linspace(-4,ndist.ppf(0.025), 101)\n",
    "ax.fill_between(interval, 0*interval, ndist.pdf(interval),\n",
    "                hatch='+', color='blue', alpha=0.5)\n",
    "interval = np.linspace(ndist.ppf(0.975),4, 101)\n",
    "ax.fill_between(interval, 0*interval, ndist.pdf(interval),\n",
    "                hatch='+', color='blue', alpha=0.5)\n",
    "\n",
    "studentT_curve(ax=ax, alpha=0., color='green', df=df)\n",
    "interval = np.linspace(-4,tdist.ppf(0.025, df), 101)\n",
    "ax.fill_between(interval, 0*interval, tdist.pdf(interval, df),\n",
    "                hatch='+', color='green', alpha=0.2)\n",
    "interval = np.linspace(tdist.ppf(0.975, df),4, 101)\n",
    "ax.fill_between(interval, 0*interval, tdist.pdf(interval, df),\n",
    "                hatch='+', color='green', alpha=0.2)\n",
    "\n"
   ]
  },
  {
   "cell_type": "code",
   "execution_count": null,
   "metadata": {
    "collapsed": false,
    "slideshow": {
     "slide_type": "fragment"
    }
   },
   "outputs": [],
   "source": [
    "normal_fig7"
   ]
  },
  {
   "cell_type": "markdown",
   "metadata": {
    "slideshow": {
     "slide_type": "fragment"
    }
   },
   "source": [
    "\n",
    "Comparison of two-sided  5% rejection rule\n",
    ", df=4"
   ]
  },
  {
   "cell_type": "markdown",
   "metadata": {
    "slideshow": {
     "slide_type": "slide"
    }
   },
   "source": [
    "### Student’s $T$"
   ]
  },
  {
   "cell_type": "code",
   "execution_count": null,
   "metadata": {
    "collapsed": false,
    "slideshow": {
     "slide_type": "skip"
    }
   },
   "outputs": [],
   "source": [
    "%%capture\n",
    "df=20\n",
    "normal_fig8 = plt.figure(figsize=figsize)\n",
    "ax = normal_fig8.gca()\n",
    "normal_curve(ax=ax, label='Normal', color='blue', alpha=0.)\n",
    "studentT_curve(ax=ax, label='$T_{%d}$' % df, color='green', alpha=0., df=df)\n",
    "ax.set_title('Comparison of normal curve to $T_{%d}$' % df, fontsize=15)\n",
    "ax.legend()\n",
    "\n"
   ]
  },
  {
   "cell_type": "code",
   "execution_count": null,
   "metadata": {
    "collapsed": false,
    "slideshow": {
     "slide_type": "fragment"
    }
   },
   "outputs": [],
   "source": [
    "normal_fig8"
   ]
  },
  {
   "cell_type": "markdown",
   "metadata": {
    "slideshow": {
     "slide_type": "fragment"
    }
   },
   "source": [
    "\n",
    "Comparison with normal curve, degrees of freedom = 20"
   ]
  },
  {
   "cell_type": "markdown",
   "metadata": {
    "slideshow": {
     "slide_type": "slide"
    }
   },
   "source": [
    "### Student’s $T$"
   ]
  },
  {
   "cell_type": "code",
   "execution_count": null,
   "metadata": {
    "collapsed": false,
    "slideshow": {
     "slide_type": "skip"
    }
   },
   "outputs": [],
   "source": [
    "%%capture\n",
    "df = 20\n",
    "normal_fig9 = plt.figure(figsize=figsize)\n",
    "ax = normal_curve(alpha=0., color='blue')\n",
    "interval = np.linspace(-4,ndist.ppf(0.025), 101)\n",
    "ax.fill_between(interval, 0*interval, ndist.pdf(interval),\n",
    "                hatch='+', color='blue', alpha=0.5)\n",
    "interval = np.linspace(ndist.ppf(0.975),4, 101)\n",
    "ax.fill_between(interval, 0*interval, ndist.pdf(interval),\n",
    "                hatch='+', color='blue', alpha=0.5)\n",
    "\n",
    "studentT_curve(ax=ax, alpha=0., color='green', df=df)\n",
    "interval = np.linspace(-4,tdist.ppf(0.025, df), 101)\n",
    "ax.fill_between(interval, 0*interval, tdist.pdf(interval, df),\n",
    "                hatch='+', color='green', alpha=0.2)\n",
    "interval = np.linspace(tdist.ppf(0.975, df),4, 101)\n",
    "ax.fill_between(interval, 0*interval, tdist.pdf(interval, df),\n",
    "                hatch='+', color='green', alpha=0.2)\n",
    "\n"
   ]
  },
  {
   "cell_type": "code",
   "execution_count": null,
   "metadata": {
    "collapsed": false,
    "slideshow": {
     "slide_type": "fragment"
    }
   },
   "outputs": [],
   "source": [
    "normal_fig9"
   ]
  },
  {
   "cell_type": "markdown",
   "metadata": {
    "slideshow": {
     "slide_type": "fragment"
    }
   },
   "source": [
    "\n",
    "Comparison of two-sided  5% rejection rule\n",
    ", df=20"
   ]
  }
 ],
 "metadata": {
  "celltoolbar": "Slideshow",
  "kernelspec": {
   "display_name": "Python 2",
   "language": "python",
   "name": "python2"
  },
  "language_info": {
   "codemirror_mode": {
    "name": "ipython",
    "version": 2
   },
   "file_extension": ".py",
   "mimetype": "text/x-python",
   "name": "python",
   "nbconvert_exporter": "python",
   "pygments_lexer": "ipython2",
   "version": "2.7.11"
  }
 },
 "nbformat": 4,
 "nbformat_minor": 0
}

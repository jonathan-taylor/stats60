{
 "cells": [
  {
   "cell_type": "markdown",
   "metadata": {
    "slideshow": {
     "slide_type": "slide"
    }
   },
   "source": [
    "# Chapter 3\n",
    "\n",
    "## Problem like 3.B.1\n",
    "\n",
    "Below is a table of educational level for persons age 25 and over in the US in\n",
    "the year 2000. Interpret \"16 or more\" as 16-17 years of schooling.\n",
    "\n",
    "Education level (years of schooling) | 2000\n",
    "-------------------------------------|-----\n",
    "0-5 | 2\n",
    "5-8 | 3\n",
    "8-9 | 5\n",
    "9-12 | 10\n",
    "12-13 | 40\n",
    "13-16 | 19\n",
    "16 or more | 20\n",
    "\n",
    "1. Draw the histogram\n",
    "\n",
    "2. Why does your histogram have spikes at 8, 12 and 16 years of schooling?"
   ]
  },
  {
   "cell_type": "markdown",
   "metadata": {
    "slideshow": {
     "slide_type": "slide"
    }
   },
   "source": [
    "### Answer\n",
    "\n",
    "1. The height of each bar is the percentage divided by the bin width:\n",
    "\n",
    "Education level (years of schooling) | 2000  |  Height of bar\n",
    "-------------------------------------|-------|----------------\n",
    "0-5 | 2 | 2/5=0.4\n",
    "5-8 | 3 | 3/3 = 1.\n",
    "8-9 | 5 | 5 / 1 = 5.\n",
    "9-12 | 8 | 8 / 3 = 2.7\n",
    "12-13 | 40 | 40/1 = 40.\n",
    "13-16 | 21 | 21 / 3 = 7\n",
    "16 or more | 20 | 20 / 1 = 20\n",
    "\n",
    "The last endpoint was 17 because of how we were told to interpret \"16 or more\" above.\n",
    "\n",
    "2. There are spikes at 8, 12 and 16 because these correspond to the end of middle school, high school and college (Bachelor's degree), respectively. "
   ]
  },
  {
   "cell_type": "code",
   "execution_count": 1,
   "metadata": {
    "collapsed": false,
    "slideshow": {
     "slide_type": "skip"
    }
   },
   "outputs": [
    {
     "data": {
      "text/plain": [
       "<matplotlib.text.Text at 0x1127d0350>"
      ]
     },
     "execution_count": 1,
     "metadata": {},
     "output_type": "execute_result"
    }
   ],
   "source": [
    "%%capture\n",
    "%matplotlib inline\n",
    "import matplotlib.pyplot as plt\n",
    "from numpy import mean, std, sqrt\n",
    "import numpy as np\n",
    "from code.week1 import sample_density, stylized_density\n",
    "\n",
    "hist_fig = plt.figure(figsize=(8,8))\n",
    "sample = [3]*2 + [7]*3 + [8.5]*5 + [10]*8 + [12.5]*40 + [14.5]*21 + [16.5]*20\n",
    "sample_density(sample, bins=[0,5,8,9,12,13,16,17])\n",
    "hist_fig.gca().set_xlabel('Education (years)')\n",
    "hist_fig.gca().set_ylabel('Percentage per year (%/year)')"
   ]
  },
  {
   "cell_type": "code",
   "execution_count": 2,
   "metadata": {
    "collapsed": false,
    "slideshow": {
     "slide_type": "fragment"
    }
   },
   "outputs": [
    {
     "data": {
      "image/png": "[encoded data removed]",
      "text/plain": [
       "<matplotlib.figure.Figure at 0x106e7e650>"
      ]
     },
     "execution_count": 2,
     "metadata": {},
     "output_type": "execute_result"
    }
   ],
   "source": [
    "hist_fig"
   ]
  },
  {
   "cell_type": "markdown",
   "metadata": {
    "slideshow": {
     "slide_type": "slide"
    }
   },
   "source": [
    "## Problem like 3.8.4\n",
    "\n",
    "Below is a (fictional) histogram of weight measurements\n",
    "for a large sample of patients.\n",
    "\n",
    "All questions below refer only to the population from which this\n",
    "sample was taken."
   ]
  },
  {
   "cell_type": "code",
   "execution_count": 3,
   "metadata": {
    "collapsed": false,
    "slideshow": {
     "slide_type": "skip"
    }
   },
   "outputs": [
    {
     "data": {
      "text/plain": [
       "<matplotlib.text.Text at 0x1127b1c90>"
      ]
     },
     "execution_count": 3,
     "metadata": {},
     "output_type": "execute_result"
    }
   ],
   "source": [
    "%%capture\n",
    "weight_sample = np.random.standard_normal(1000)*18 + 130\n",
    "weight_fig = plt.figure(figsize=(8,8))\n",
    "weight_ax = weight_fig.gca()\n",
    "sample_density(weight_sample, bins=[90,110,120,130,140,150,160,180,200])\n",
    "weight_ax.set_xlabel('Weight (pounds)', fontsize=15)\n",
    "weight_ax.set_ylabel('Percent per pound', fontsize=15)"
   ]
  },
  {
   "cell_type": "code",
   "execution_count": 4,
   "metadata": {
    "collapsed": false,
    "slideshow": {
     "slide_type": "fragment"
    }
   },
   "outputs": [
    {
     "data": {
      "image/png": "[encoded data removed]",
      "text/plain": [
       "<matplotlib.figure.Figure at 0x112863f50>"
      ]
     },
     "execution_count": 4,
     "metadata": {},
     "output_type": "execute_result"
    }
   ],
   "source": [
    "weight_fig"
   ]
  },
  {
   "cell_type": "markdown",
   "metadata": {
    "slideshow": {
     "slide_type": "fragment"
    }
   },
   "source": [
    "1. Is the percentage of patients in this population with weight above\n",
    "150 pounds roughly\n",
    "25%,50% or 75%?\n",
    "\n",
    "2. Is the percentage of patients between 90 and 180 pounds 1%, 50% or 99%?\n",
    "\n",
    "3. In which interval are there more patients: 135-140 pounds or 140-150 pounds?\n",
    "\n",
    "4. Which interval is more crowded: 150-160 pounds or 160-180 pounds?\n",
    "\n",
    "5. On the interval 120-130 pounds, the height of the histogram is about 2.2% per pound. What percentage of the patients had weights in this class interval?\n",
    "\n",
    "6. Which interval has more patients: 115-116 pounds or 122-123 pounds?\n",
    "\n",
    "7. Which is the most crowded pound of all?"
   ]
  },
  {
   "cell_type": "markdown",
   "metadata": {
    "slideshow": {
     "slide_type": "slide"
    }
   },
   "source": [
    "## Like 3.8.9\n",
    "\n",
    "In a survey carried out at Stanford, a sample of students were interviewd and asked what their GPA was. A histogram of the results is shown below."
   ]
  },
  {
   "cell_type": "code",
   "execution_count": 5,
   "metadata": {
    "collapsed": false,
    "slideshow": {
     "slide_type": "skip"
    }
   },
   "outputs": [],
   "source": [
    "%%capture\n",
    "with plt.xkcd():\n",
    "    bimodal = plt.figure(figsize=(8,8))\n",
    "    sample = (list(0.35 * np.random.standard_t(40, size=50000) + 3) +\n",
    "              list(0.25 * np.random.standard_t(30, size=20000) + 2))\n",
    "    stylized_density(sample, ax=bimodal.gca())\n",
    "    bimodal_ax = bimodal.gca()\n",
    "    bimodal_ax.set_xticks(range(5))\n",
    "    bimodal_ax.set_xlim([0,4])\n",
    "    bimodal_ax.set_xlabel('GPA')\n",
    "    bimodal_ax.set_ylabel('Percent per unit GPA')"
   ]
  },
  {
   "cell_type": "code",
   "execution_count": 6,
   "metadata": {
    "collapsed": false,
    "slideshow": {
     "slide_type": "fragment"
    }
   },
   "outputs": [
    {
     "data": {
      "image/png": "[encoded data removed]",
      "text/plain": [
       "<matplotlib.figure.Figure at 0x112dede50>"
      ]
     },
     "execution_count": 6,
     "metadata": {},
     "output_type": "execute_result"
    }
   ],
   "source": [
    "bimodal"
   ]
  },
  {
   "cell_type": "markdown",
   "metadata": {
    "slideshow": {
     "slide_type": "fragment"
    }
   },
   "source": [
    "1. True or false: more students reported a GPA in the range 2.0 to 2.1 than in the range 1.5 to 1.6.\n",
    "\n",
    "2. True or false: more students reported a GPA in the range 2.0 to 2.1 than in the range 2.5 to 2.6.\n",
    "\n",
    "3. True or false: more students reported a GPA in the range 2.0 to 2.1 than in the range 3.0 to 3.1.\n",
    "\n",
    "4. What accounts for the spikes at 2 and 3?\n",
    "\n",
    "### Answer\n",
    "\n"
   ]
  },
  {
   "cell_type": "markdown",
   "metadata": {},
   "source": [
    "# Chapter 4\n",
    "\n",
    "## Like 4.E.5\n",
    "\n",
    "1. For each list below, work out the average, the deviations from average, and the SD.\n",
    "\n",
    "- [2,4,5,6,8]\n",
    "- [11,13,14,15,17]\n",
    "\n",
    "2. How is the first list related to the second? How does this relationship carry over to the average? the deviations from the average? the SD?"
   ]
  },
  {
   "cell_type": "markdown",
   "metadata": {},
   "source": [
    "### Answer"
   ]
  },
  {
   "cell_type": "code",
   "execution_count": 7,
   "metadata": {
    "collapsed": false
   },
   "outputs": [
    {
     "data": {
      "text/plain": [
       "(5.0, [-3.0, -1.0, 0.0, 1.0, 3.0], 4.0, 2.0)"
      ]
     },
     "execution_count": 7,
     "metadata": {},
     "output_type": "execute_result"
    }
   ],
   "source": [
    "data = [2,4,5,6,8]\n",
    "mean_data = mean(data)\n",
    "deviations = [entry - mean_data for entry in data]\n",
    "deviations_squared = [dev**2 for dev in deviations]\n",
    "mean_squared_deviations = mean(deviations_squared)\n",
    "SD = sqrt(mean_squared_deviations)\n",
    "mean_data, deviations, mean_squared_deviations, SD"
   ]
  },
  {
   "cell_type": "markdown",
   "metadata": {
    "slideshow": {
     "slide_type": "slide"
    }
   },
   "source": [
    "For 2., **We didn't have to make this second table.**\n",
    "This list is just a shifted version of the lift above (each entry has 9 added to it). The average shifts by 9, and the deviations are identical. So, the SD is identical: 2."
   ]
  },
  {
   "cell_type": "markdown",
   "metadata": {
    "slideshow": {
     "slide_type": "slide"
    }
   },
   "source": [
    "## 4.8.2\n",
    "\n",
    "1. Both of the following lists have the same average of 50. Which one has the smaller SD, and why? No computations are necessary:\n",
    "\n",
    "   - [50,40,60,30,70,25,75]\n",
    "   - [50,40,60,30,70,25,75,50,50,50]\n",
    "    \n",
    "2. Repeat, for the following two lists:\n",
    "\n",
    "   - [50,40,60,30,70,25,75]\n",
    "   - [50,40,60,30,70,25,75,99,1]\n",
    "   \n",
    "### Answer\n"
   ]
  },
  {
   "cell_type": "markdown",
   "metadata": {
    "slideshow": {
     "slide_type": "slide"
    }
   },
   "source": [
    "## Like 4.8.9\n",
    "\n",
    "An investigator has a file listing incomes for a sample of 500 families. The\n",
    "incomes range from 4000\\$ to 250000\\$ (all the entries are distinct). By accident, on family with an income of 250000\\$ was recorded as 2500000\\$.\n",
    "\n",
    "1. Does this affect the average. If so, by how much?\n",
    "\n",
    "2. Does this affect the median. If so, by how much?"
   ]
  },
  {
   "cell_type": "markdown",
   "metadata": {
    "slideshow": {
     "slide_type": "slide"
    }
   },
   "source": [
    "# Chapter 5\n",
    "\n",
    "## Like 5.8.6 \n",
    "\n",
    "Among applicants to one law school, the average LSAT score was about 169, the\n",
    "SD was about 9 and the highest score was 178. Did the LSAT scores\n",
    "follow the normal curve?"
   ]
  },
  {
   "cell_type": "markdown",
   "metadata": {
    "slideshow": {
     "slide_type": "slide"
    }
   },
   "source": [
    "## Like 5.8.7\n",
    "\n",
    "Among sophomores at a certain university, scores on the Math SAT\n",
    "followed the normal curve, with an average of 600 and an SD of 80. \n",
    "\n",
    "1. A student who scored 520 on the MATH was at what percentile of the score distribution?\n",
    "\n",
    "2. Roughly what score did a student need to be at the 80th percentile of the distribution?\n",
    "\n"
   ]
  },
  {
   "cell_type": "markdown",
   "metadata": {
    "slideshow": {
     "slide_type": "slide"
    }
   },
   "source": [
    "## Like 5.8.8\n",
    "\n",
    "True or false, explain briefly.\n",
    "\n",
    "1. If you add 8 to each entry on a list, that adds 8 to the average.\n",
    "\n",
    "2. If you add 8 to each entry on a list, that adds 8 to the SD. \n",
    "\n",
    "3. If you double each entry on a list, that doubles the average.\n",
    "\n",
    "4. If you double each entry on a list, that doubles the SD. \n",
    "\n",
    "5. If you multiply each entry on a list by -2, this multiplies\n",
    "the average by -2.  \n",
    "\n",
    "6. If you multiply each entry on a list by -2, this multiplies\n",
    "the SD by -2.  \n",
    "\n"
   ]
  }
 ],
 "metadata": {
  "kernelspec": {
   "display_name": "Python 2",
   "language": "python",
   "name": "python2"
  },
  "language_info": {
   "codemirror_mode": {
    "name": "ipython",
    "version": 2
   },
   "file_extension": ".py",
   "mimetype": "text/x-python",
   "name": "python",
   "nbconvert_exporter": "python",
   "pygments_lexer": "ipython2",
   "version": "2.7.11"
  }
 },
 "nbformat": 4,
 "nbformat_minor": 0
}

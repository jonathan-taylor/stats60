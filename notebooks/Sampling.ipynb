{
 "cells": [
  {
   "cell_type": "code",
   "execution_count": null,
   "metadata": {
    "collapsed": false,
    "slideshow": {
     "slide_type": "skip"
    }
   },
   "outputs": [],
   "source": [
    "%matplotlib inline\n",
    "import matplotlib.pyplot as plt\n",
    "import numpy as np\n",
    "from numpy import mean, sqrt, std\n",
    "\n",
    "# stats60 specific\n",
    "from code.utils import sample_density\n",
    "from code.probability import Sample\n",
    "figsize = (8,8)"
   ]
  },
  {
   "cell_type": "markdown",
   "metadata": {
    "slideshow": {
     "slide_type": "slide"
    }
   },
   "source": [
    "## Presidential approval ratings\n",
    "\n",
    "* If you ever watch CNN / Fox News / MSNBC you don't have\n",
    "to wait too long until your hear reports about opinion polls.\n",
    "\n",
    "* [Rasmussen](http://www.rasmussenreports.com/public_content/politics/obama_administration/daily_presidential_tracking_poll) tracks presidential approval rating.\n",
    " \n",
    "* So does [Gallup](http://www.gallup.com/poll/113980/gallup-daily-obama-job-approval.aspx)\n",
    "\n",
    "* Both polls are trying to measure the same thing.\n",
    "* Why don’t they agree?\n",
    "* Polls are sometimes wrong: [Truman / Dewey 1948](http://www.chicagotribune.com/news/politics/chi-chicagodays-deweydefeats-story,0,6484067.story)\n",
    "    - Part of the error in this poll was due to the sampling: *quota sampling*.\n",
    "    - A random sample might have reduced this bias."
   ]
  },
  {
   "cell_type": "markdown",
   "metadata": {
    "slideshow": {
     "slide_type": "slide"
    }
   },
   "source": [
    "## Sources of bias\n",
    "\n",
    "* Some would say that Rasmussen is biased (others might say \n",
    "Gallup is biased).\n",
    "\n",
    "* In the last presidential election, Mitt Romney thought\n",
    "the [polls were wrong](http://www.thewire.com/politics/2012/11/whole-romney-ticket-believed-unskewed-polls/58852/)\n",
    "\n",
    "* It is possible the polls were somewhat biased.\n",
    "* Some examples of bias:\n",
    "     * If what you measure differs from employed and unemployed, then calling during the daytime can bias sample towards unemployed.\n",
    "     * If what you measure differs from cell-phone users and land line user then using a telephone book can bias sample towards land-line owners.\n",
    "\n",
    "* Cannot be remedied by taking a bigger poll: see [1936 election](http://en.wikipedia.org/wiki/United_States_presidential_election,_1936).\n",
    "\n",
    "* **Read Chapter 19 of the textbook for discussion of sampling bias.**"
   ]
  },
  {
   "cell_type": "markdown",
   "metadata": {
    "slideshow": {
     "slide_type": "slide"
    }
   },
   "source": [
    "## Model for percentages\n",
    "\n",
    "* An opinion poll to estimate a percentage is based on a sample of size $N$. \n",
    "\n",
    "* We assume this is a **simple random sample**: a sample of size $N$ without replacement.\n",
    "\n",
    "* We will draw from boxes with `B`=blue and `R`=red marbles. Our goal\n",
    "is to estimate the percentage of blue marbles in the box.\n",
    "\n",
    "* The sample is from a box with one ball per population member, each having a 0-1 label with `B` corresponding to 1 and `R` corresponding to 0.\n",
    "\n",
    "* The estimated percentage is \n",
    "\n",
    "       estimated percentage of B = (sum of N draws from box) / N\n",
    "  \n",
    " \n",
    "  \n",
    "  "
   ]
  },
  {
   "cell_type": "markdown",
   "metadata": {
    "slideshow": {
     "slide_type": "slide"
    }
   },
   "source": [
    "## A population with 500 Red, 500 Blue"
   ]
  },
  {
   "cell_type": "code",
   "execution_count": null,
   "metadata": {
    "collapsed": false,
    "slideshow": {
     "slide_type": "fragment"
    }
   },
   "outputs": [],
   "source": [
    "opinion_poll = Sample(500, 500, 20)\n"
   ]
  },
  {
   "cell_type": "code",
   "execution_count": null,
   "metadata": {
    "collapsed": false,
    "slideshow": {
     "slide_type": "fragment"
    }
   },
   "outputs": [],
   "source": [
    "opinion_poll.nblue, opinion_poll.nred, opinion_poll.ndraw"
   ]
  },
  {
   "cell_type": "code",
   "execution_count": null,
   "metadata": {
    "collapsed": false,
    "slideshow": {
     "slide_type": "fragment"
    }
   },
   "outputs": [],
   "source": [
    "opinion_poll.trial()"
   ]
  },
  {
   "cell_type": "code",
   "execution_count": null,
   "metadata": {
    "collapsed": false,
    "slideshow": {
     "slide_type": "slide"
    }
   },
   "outputs": [],
   "source": [
    "opinion_poll.figure"
   ]
  },
  {
   "cell_type": "markdown",
   "metadata": {
    "slideshow": {
     "slide_type": "slide"
    }
   },
   "source": [
    "## Sampling variability in opinion polls"
   ]
  },
  {
   "cell_type": "code",
   "execution_count": null,
   "metadata": {
    "collapsed": false,
    "slideshow": {
     "slide_type": "fragment"
    }
   },
   "outputs": [],
   "source": [
    "opinion_poll.draw_fig = False\n",
    "opinion_poll.sample(5)"
   ]
  },
  {
   "cell_type": "code",
   "execution_count": null,
   "metadata": {
    "collapsed": false,
    "slideshow": {
     "slide_type": "slide"
    }
   },
   "outputs": [],
   "source": [
    "fig = plt.figure(figsize=figsize)\n",
    "ax = sample_density(opinion_poll.sample(10000), facecolor='orange')[0]\n",
    "ax.set_title('10000 repeats of drawing 20 from box', fontsize=15)"
   ]
  },
  {
   "cell_type": "markdown",
   "metadata": {
    "slideshow": {
     "slide_type": "slide"
    }
   },
   "source": [
    "## Sampling variability\n",
    "\n",
    "- As expected, with a larger sample, there is less variability.\n",
    "\n",
    "- There may also be an effect due to the fact that we are sampling without\n",
    "replacement.\n",
    "\n",
    "- We will see later that this effect is relatively small"
   ]
  },
  {
   "cell_type": "code",
   "execution_count": null,
   "metadata": {
    "collapsed": false,
    "slideshow": {
     "slide_type": "fragment"
    }
   },
   "outputs": [],
   "source": [
    "opinion100 = Sample(500, 500, 100)\n",
    "opinion100.sample(5)"
   ]
  },
  {
   "cell_type": "code",
   "execution_count": null,
   "metadata": {
    "collapsed": false,
    "slideshow": {
     "slide_type": "slide"
    }
   },
   "outputs": [],
   "source": [
    "opinion100.draw_fig = False\n",
    "fig100 = plt.figure(figsize=figsize)\n",
    "ax100 = sample_density(opinion100.sample(10000), facecolor='orange')[0]\n",
    "ax100.set_title('10000 repeats of drawing 100 from box', fontsize=15)"
   ]
  },
  {
   "cell_type": "markdown",
   "metadata": {
    "slideshow": {
     "slide_type": "slide"
    }
   },
   "source": [
    "## Larger box: 5000 blue, 5000 red"
   ]
  },
  {
   "cell_type": "code",
   "execution_count": null,
   "metadata": {
    "collapsed": false,
    "slideshow": {
     "slide_type": "fragment"
    }
   },
   "outputs": [],
   "source": [
    "opinion100_larger = Sample(5000, 5000, 100)\n",
    "opinion100_larger.alpha = 0.1\n",
    "opinion100_larger.ptsize = 10\n",
    "opinion100_larger.sample(5)"
   ]
  },
  {
   "cell_type": "code",
   "execution_count": null,
   "metadata": {
    "collapsed": false,
    "slideshow": {
     "slide_type": "slide"
    }
   },
   "outputs": [],
   "source": [
    "opinion100_larger.draw_fig = False\n",
    "fig100_larger = plt.figure(figsize=figsize)\n",
    "ax100_larger = sample_density(opinion100_larger.sample(10000), facecolor='orange')[0]\n",
    "ax100_larger.set_title('10000 repeats of drawing 100 from larger box', fontsize=15)"
   ]
  },
  {
   "cell_type": "markdown",
   "metadata": {
    "slideshow": {
     "slide_type": "slide"
    }
   },
   "source": [
    "## Taking a sample of size 1000"
   ]
  },
  {
   "cell_type": "code",
   "execution_count": null,
   "metadata": {
    "collapsed": false,
    "slideshow": {
     "slide_type": "fragment"
    }
   },
   "outputs": [],
   "source": [
    "opinion1000 = Sample(5000, 5000, 1000)\n",
    "opinion1000.alpha = 0.1\n",
    "opinion1000.ptsize = 3\n",
    "opinion1000.sample_ptsize = 30\n",
    "opinion1000.sample(5)"
   ]
  },
  {
   "cell_type": "code",
   "execution_count": null,
   "metadata": {
    "collapsed": false,
    "slideshow": {
     "slide_type": "slide"
    }
   },
   "outputs": [],
   "source": [
    "opinion1000.draw_fig = False\n",
    "fig1000 = plt.figure(figsize=figsize)\n",
    "ax1000 = sample_density(opinion1000.sample(2000), facecolor='orange')[0]\n",
    "ax1000.set_title('2000 repeats of drawing 1000 from larger box', fontsize=15)"
   ]
  },
  {
   "cell_type": "markdown",
   "metadata": {
    "slideshow": {
     "slide_type": "slide"
    }
   },
   "source": [
    "## Estimating a percentage     \n",
    "\n",
    "- In our boxes, the proportion of blue to red is fixed: there\n",
    "     are 50% blue and 50% red. Our goal is to estimate\n",
    "     the proportion of blue.\n",
    "- When we sample, we don't recover exactly 50%. Our observed\n",
    "     proportion is a *chance process* (i.e. a\n",
    "     random variable).\n",
    "     \n",
    "- We also call this random variable a *statistic*. A statistic is a \n",
    "chance process (random variable) computed on a sample.\n",
    "     \n",
    "- Here is a (hopefully familiar) model:\n",
    "\n",
    "      estimated percentage of B = 50% + chance error\n",
    "\n",
    "  \n",
    "- **Note:** If poll is biased, a better model is\n",
    "\n",
    "      estimated percentage of B = 50% + bias + chance error"
   ]
  },
  {
   "cell_type": "markdown",
   "metadata": {
    "slideshow": {
     "slide_type": "slide"
    }
   },
   "source": [
    "## Accuracy of percentages\n",
    "\n",
    "\n",
    "- How big is the chance error?\n",
    "   \n",
    "- Since the observed proportion is random, it has its own SE.\n",
    "- The rule for computing the SE of a percentage\n",
    "     for a simple random sample is related to SE of drawing\n",
    "     from a box of 0's and 1's.\n",
    "- The standard error after drawing `N=1000` times with replacement\n",
    "from a box with p=50% `B` marbles\n",
    "would be:\n",
    "\n",
    "      SE(estimated percentage of B) = sqrt(p * (1 - p)) / sqrt(N)\n",
    "                                    = sqrt(1/2 * (1 - 1/2)) / \n",
    "                                        sqrt(1000)\n",
    "\n",
    "- The standard error after drawing `N=1000` times with replacement\n",
    "from a box with p=57% `B` marbles\n",
    "would be:\n",
    "\n",
    "      SE(estimated percentage of B) = sqrt(p * (1 - p)) / sqrt(N)\n",
    "                                    = sqrt(0.57 * (1 - 0.57)) / \n",
    "                                         sqrt(1000)\n",
    "\n",
    "\n",
    "- If sampling with replacement, the SE does not depend on how many tickets are in the box.\n",
    "\n",
    "- When sampling without replacement, this SE is approximate (but quite accurate\n",
    "if the population is large enough).\n"
   ]
  },
  {
   "cell_type": "markdown",
   "metadata": {
    "slideshow": {
     "slide_type": "slide"
    }
   },
   "source": [
    "## Unbalanced boxes\n",
    "\n",
    "- Not all populations are evenly split between `B` and `R`.\n",
    "\n",
    "- How do we compute the expected percentage and its SE for unbalanced\n",
    "boxes?\n",
    "\n",
    "         expected(estimated percentage of B) = proportion B in box\n",
    "                                             = p[B]\n",
    "         \n",
    "- As for the SE:\n",
    "\n",
    "         SE(estimated percentage of B) = sqrt(p[B] * (1-p[B])) \n",
    "                                         / sqrt(N)."
   ]
  },
  {
   "cell_type": "markdown",
   "metadata": {
    "slideshow": {
     "slide_type": "slide"
    }
   },
   "source": [
    "## Correction factor for SE\n",
    "\n",
    "* To get the actual SE when we sample without replacement, we should multiply by a correction factor.\n",
    "* If there are $N_{pop}$ people in the population and we sample $N_{sample}$\n",
    "then\n",
    "$$\n",
    "\\begin{aligned}\n",
    "\\text{correction factor} &= \\sqrt{\\frac{N_{pop}-N_{sample}}{N_{pop}-1}} \\\\\n",
    "&= \\sqrt{\\frac{10000-1000}{9999}} \\\\\n",
    "\\end{aligned}$$\n",
    "* For example, in our largest boxes, $N_{pop}=10000, N_{sample}=1000$\n",
    "the correction factor is 0.95.\n",
    "* An organization like Gallup samples from a MUCH BIGGER population, so this\n",
    "correction factor is virtually 1.\n",
    "\n",
    "          SE(drawing WITHOUT replacement) = \n",
    "               correction factor * (SE drawing WITH replacement)"
   ]
  },
  {
   "cell_type": "code",
   "execution_count": null,
   "metadata": {
    "collapsed": false,
    "slideshow": {
     "slide_type": "fragment"
    }
   },
   "outputs": [],
   "source": [
    "sqrt((10000 - 1000) / (10000 - 1.))"
   ]
  },
  {
   "cell_type": "markdown",
   "metadata": {
    "slideshow": {
     "slide_type": "slide"
    }
   },
   "source": [
    "## Example\n",
    "\n",
    "- Suppose  57% of voting age Californians approve of Governorn Brown’s job performance. \n",
    "\n",
    "- If we sample 100 voting age Californians at random, we expect the percentage who approve of Brown’s performance $\\bbox[5px,border:2px solid red]{57\\%}$ to be give or take $\\bbox[5px,border:2px solid red]{\\sqrt{0.57 ( 1 - 0.57) / 100} * 100\\%}$."
   ]
  },
  {
   "cell_type": "markdown",
   "metadata": {
    "slideshow": {
     "slide_type": "slide"
    }
   },
   "source": [
    "## Example\n",
    "\n",
    "- **Answer** The expected percentage or proportion is 57%. The SE is (ignoring the correction factor) \n",
    "\n",
    "$$\\text{ SE(estimated percentage)} = \n",
    "\\sqrt{0.57 * 0.43} / \\sqrt{100} \\approx 5\\%$$  \n",
    "     \n",
    "\n",
    "* We expect the percentage to be 57% give or take 5%."
   ]
  },
  {
   "cell_type": "markdown",
   "metadata": {
    "slideshow": {
     "slide_type": "slide"
    }
   },
   "source": [
    "## Example (continued)\n",
    "\n",
    "- What if we had sampled 1000 voting age Californians?\n",
    "- The expected proportion is the same. The SE is now (ignoring the correction factor) \n",
    "\n",
    "$$\\text{ SE(estimated percentage)} = \n",
    "\\sqrt{0.57 * 0.43} / \\sqrt{1000} \\approx 1.6\\%$$\n",
    "\n",
    "- A sample size of 1000 is quite commonly used because in a balanced box, the\n",
    "SE is roughly 1.6% so the 2 SD rule is $\\pm 3.2\\%$."
   ]
  },
  {
   "cell_type": "markdown",
   "metadata": {
    "slideshow": {
     "slide_type": "slide"
    }
   },
   "source": [
    "## A more realistic picture\n",
    "\n",
    "* In practice, when a poll is carried out, we don’t know how many `B` or `R`\n",
    "there are in the population.\n",
    "\n",
    "* Taking a sample of size 500, say, gives us information on 500 of this population.\n",
    "* Our goal, as statisticians, is to give the politicians some idea of the *true*\n",
    "   proportion of `B` vs. `R` \n",
    "   in the box\n",
    "\n",
    "* This is our first true *statistics*\n",
    "   problem …"
   ]
  },
  {
   "cell_type": "markdown",
   "metadata": {
    "slideshow": {
     "slide_type": "slide"
    }
   },
   "source": [
    "### Box we will poll …"
   ]
  },
  {
   "cell_type": "code",
   "execution_count": null,
   "metadata": {
    "collapsed": false,
    "slideshow": {
     "slide_type": "skip"
    }
   },
   "outputs": [],
   "source": [
    "%%capture\n",
    "brown_approval = Sample(5700, 4300, 500)\n",
    "brown_approval.alpha = 0.1\n",
    "brown_approval.ptsize = 10\n",
    "brown_approval.draw(color={'R':'gray','B':'gray'})"
   ]
  },
  {
   "cell_type": "code",
   "execution_count": null,
   "metadata": {
    "collapsed": false,
    "slideshow": {
     "slide_type": "fragment"
    }
   },
   "outputs": [],
   "source": [
    "brown_approval.figure"
   ]
  },
  {
   "cell_type": "markdown",
   "metadata": {
    "slideshow": {
     "slide_type": "slide"
    }
   },
   "source": [
    "### Poll sample"
   ]
  },
  {
   "cell_type": "code",
   "execution_count": null,
   "metadata": {
    "collapsed": false,
    "slideshow": {
     "slide_type": "fragment"
    }
   },
   "outputs": [],
   "source": [
    "prop = brown_approval.trial(bgcolor={'R':'gray','B':'gray'},\n",
    "                            color={'R':'red','B':'blue'})\n",
    "brown_approval.figure"
   ]
  },
  {
   "cell_type": "markdown",
   "metadata": {
    "slideshow": {
     "slide_type": "slide"
    }
   },
   "source": [
    "## Can we use the normal approximation?\n",
    "\n",
    "- Applying the rule $np > 10$ and $n(1-p)>10$ to the sample proportion\n",
    "suggest we should have at least 10 votes for Brown and 10 votes against Brown in our poll.\n",
    "- This is not quite the same rule because we don't know the true $p$, we only\n",
    "observe $\\hat{p}$...\n"
   ]
  }
 ],
 "metadata": {
  "celltoolbar": "Slideshow",
  "kernelspec": {
   "display_name": "Python 2",
   "language": "python",
   "name": "python2"
  },
  "language_info": {
   "codemirror_mode": {
    "name": "ipython",
    "version": 2
   },
   "file_extension": ".py",
   "mimetype": "text/x-python",
   "name": "python",
   "nbconvert_exporter": "python",
   "pygments_lexer": "ipython2",
   "version": "2.7.11"
  }
 },
 "nbformat": 4,
 "nbformat_minor": 0
}

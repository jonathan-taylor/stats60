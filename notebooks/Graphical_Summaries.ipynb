{
 "cells": [
  {
   "cell_type": "code",
   "execution_count": null,
   "metadata": {
    "collapsed": false,
    "slideshow": {
     "slide_type": "skip"
    }
   },
   "outputs": [],
   "source": [
    "%matplotlib inline\n",
    "%load_ext rpy2.ipython\n",
    "import matplotlib.pyplot as plt\n",
    "from matplotlib.mlab import csv2rec\n",
    "import numpy as np\n",
    "import scipy.stats\n",
    "from numpy import mean, median, sqrt, std\n",
    "\n",
    "# stats60 specific\n",
    "from code.week1 import stylized_density\n",
    "from code.utils import sample_density\n",
    "figsize = (8,8)"
   ]
  },
  {
   "cell_type": "markdown",
   "metadata": {
    "slideshow": {
     "slide_type": "slide"
    }
   },
   "source": [
    "# Graphical Summaries"
   ]
  },
  {
   "cell_type": "markdown",
   "metadata": {
    "slideshow": {
     "slide_type": "fragment"
    }
   },
   "source": [
    "### Different types of data\n",
    "\n",
    "* Categorical data (e.g. what type of high school) - also called *qualitative*.\n",
    "* Ordinal data (e.g. number of missed lectures) - sometimes called *discrete quantitative*.\n",
    "* Continuous data (e.g. age of incoming freshmen).\n",
    "\n",
    "Different types of data lend themselves to different\n",
    "descriptions and visualizations. \n",
    "  "
   ]
  },
  {
   "cell_type": "markdown",
   "metadata": {
    "slideshow": {
     "slide_type": "slide"
    }
   },
   "source": [
    "## Pie graph\n",
    "\n",
    "* Each category has a sector of the pie.\n",
    "* Area of wedges proportional to percentage.\n",
    "* If 58 % went to public school, wedge for public school has angle $\\frac{58}{100} * 360^{\\circ} \\approx 210^{\\circ}$"
   ]
  },
  {
   "cell_type": "code",
   "execution_count": null,
   "metadata": {
    "collapsed": false,
    "slideshow": {
     "slide_type": "skip"
    }
   },
   "outputs": [],
   "source": [
    "%%capture\n",
    "fracs = [10.2, 57.6, 31.8, 0.4]\n",
    "labels = ['International', 'Public', 'Private', 'Home School']\n",
    "pie_fig = plt.figure(figsize=figsize)\n",
    "pie_plot = pie_fig.gca()\n",
    "pie_plot.pie(fracs, labels=labels, autopct='%1.0f%%')\n",
    "pie_plot.set_title(\"Where Stanford undergrads went to high school\", fontsize=25)"
   ]
  },
  {
   "cell_type": "code",
   "execution_count": null,
   "metadata": {
    "collapsed": false,
    "slideshow": {
     "slide_type": "slide"
    }
   },
   "outputs": [],
   "source": [
    "pie_fig"
   ]
  },
  {
   "cell_type": "markdown",
   "metadata": {
    "slideshow": {
     "slide_type": "slide"
    }
   },
   "source": [
    "## Summarizing ordinal data\n",
    "\n",
    "### Missed lectures\n",
    "\n",
    "\n",
    "Courses | Percentage\n",
    "--- | ---\n",
    "0 | 75 %\n",
    "1 | 7 %\n",
    "2 | 3 %\n",
    "3 | 4 %\n",
    "4 | 6 %\n",
    "5 | 5 %\n",
    "\n",
    "This data can also be summarized in a **bar plot**."
   ]
  },
  {
   "cell_type": "code",
   "execution_count": null,
   "metadata": {
    "collapsed": false,
    "slideshow": {
     "slide_type": "skip"
    }
   },
   "outputs": [],
   "source": [
    "%%capture\n",
    "bar_fig = plt.figure(figsize=figsize)\n",
    "bar_plot = bar_fig.gca()\n",
    "bar_plot.bar(np.arange(6),[75,7,3,4,6,5], width=1, facecolor='red', \n",
    "             alpha=0.7,\n",
    "             align='center')\n",
    "bar_plot.set_title('Summary of number of missed lectures', fontsize=20)\n",
    "bar_plot.set_ylabel('Percentage of students (%)', fontsize=18)\n",
    "bar_plot.set_xlabel('Number of lectures missed', fontsize=18)\n",
    "bar_plot.set_xlim([-0.5,5.5])"
   ]
  },
  {
   "cell_type": "code",
   "execution_count": null,
   "metadata": {
    "collapsed": false,
    "slideshow": {
     "slide_type": "slide"
    }
   },
   "outputs": [],
   "source": [
    "bar_fig"
   ]
  },
  {
   "cell_type": "markdown",
   "metadata": {
    "slideshow": {
     "slide_type": "slide"
    }
   },
   "source": [
    "## Summarizing continuous data\n",
    "\n",
    "### California population by age\n",
    "\n",
    "Age group | Count (1000s)| Percentage\n",
    "--- | --- | ---\n",
    "0-20 | 10000 | 29%\n",
    "20-55 | 17500 | 17500 / 34000 = 52%\n",
    "55-75 | 4500 | 13%\n",
    "75+ | 2000 | 6%\n",
    "**Total** | 34000 | 100 %\n"
   ]
  },
  {
   "cell_type": "markdown",
   "metadata": {
    "slideshow": {
     "slide_type": "slide"
    }
   },
   "source": [
    "## Histogram\n",
    "\n",
    "We summarize this information graphically with a special\n",
    "type of bar graph called a **histogram.**\n",
    "\n",
    "- **Key concept for course!**\n",
    "- Area of a bar corresponds to percentage.\n",
    "- Total area (percentage) should be 100%.\n",
    "- Height of bars is called **density**.\n",
    "- Area of each bar is\n",
    "    $$\n",
    "    \\text{area of bar = (height of bar) * (width of bar) }\n",
    "    $$\n",
    "\n"
   ]
  },
  {
   "cell_type": "code",
   "execution_count": null,
   "metadata": {
    "collapsed": false,
    "slideshow": {
     "slide_type": "skip"
    }
   },
   "outputs": [],
   "source": [
    "%%capture\n",
    "def CAdensity():\n",
    "    bins = [0,20,55,75,100]\n",
    "    count = [29,52,13,6]\n",
    "    hist_fig = plt.figure(figsize=figsize)\n",
    "    data = np.array([10]*29 + [30]*52 + [60]*13 + [80.]*6)\n",
    "    hist_plot, dens, CDF = sample_density(data, bins=bins, alpha=0.5, ax=hist_fig.gca(),\n",
    "                            facecolor='gray')\n",
    "    hist_plot.set_ylabel('Percentage per year (%/year)', fontsize=20)\n",
    "    hist_plot.set_xlabel('Age (years)', fontsize=20)\n",
    "    hist_plot.set_title('California population by age groups', fontsize=22)\n",
    "    def area(a, b):\n",
    "        return np.round(100*(CDF(b) - CDF(a)), 1)\n",
    "    return hist_fig, dens, area\n",
    "\n",
    "hist_fig, CAdens, CAarea = CAdensity()"
   ]
  },
  {
   "cell_type": "code",
   "execution_count": null,
   "metadata": {
    "collapsed": false,
    "slideshow": {
     "slide_type": "slide"
    }
   },
   "outputs": [],
   "source": [
    "hist_fig"
   ]
  },
  {
   "cell_type": "markdown",
   "metadata": {
    "slideshow": {
     "slide_type": "slide"
    }
   },
   "source": [
    "### Interpreting a histogram\n",
    "\n",
    "#### Percentage in 20-55 age group is\n",
    "\n",
    "$$\\left(1.5 \\, \\frac{\\%}{\\text{year}} \\right) * \\left( 35 \\, \\text{years} \\right) \\approx 52 \\%$$"
   ]
  },
  {
   "cell_type": "code",
   "execution_count": null,
   "metadata": {
    "collapsed": false,
    "slideshow": {
     "slide_type": "skip"
    }
   },
   "outputs": [],
   "source": [
    "%%capture\n",
    "hist_fig2, dens2, area2 = CAdensity()\n",
    "ax = hist_fig2.gca()\n",
    "interval = np.linspace(20.001,54.999,20)\n",
    "ax.fill_between(interval, 0*interval, dens2(interval), \n",
    "                facecolor='yellow', hatch='/')\n"
   ]
  },
  {
   "cell_type": "code",
   "execution_count": null,
   "metadata": {
    "collapsed": false,
    "slideshow": {
     "slide_type": "slide"
    }
   },
   "outputs": [],
   "source": [
    "hist_fig2"
   ]
  },
  {
   "cell_type": "code",
   "execution_count": null,
   "metadata": {
    "collapsed": false,
    "slideshow": {
     "slide_type": "fragment"
    }
   },
   "outputs": [],
   "source": [
    "CAarea(20,55)"
   ]
  },
  {
   "cell_type": "markdown",
   "metadata": {
    "slideshow": {
     "slide_type": "slide"
    }
   },
   "source": [
    "### Interpreting a histogram\n",
    "\n",
    "#### Percentage in 20-40 age group is\n",
    "\n",
    "$$\\left(1.5 \\, \\frac{\\%}{\\text{year}} \\right) * \\left( 20 \\, \\text{years} \\right) \\approx 30 \\%$$\n"
   ]
  },
  {
   "cell_type": "code",
   "execution_count": null,
   "metadata": {
    "collapsed": false,
    "slideshow": {
     "slide_type": "skip"
    }
   },
   "outputs": [],
   "source": [
    "%%capture\n",
    "hist_fig3, dens3, area3 = CAdensity()\n",
    "ax = hist_fig3.gca()\n",
    "interval = np.linspace(20.001,40.,20)\n",
    "ax.fill_between(interval, 0*interval, dens3(interval), \n",
    "                facecolor='green', hatch='/')\n"
   ]
  },
  {
   "cell_type": "code",
   "execution_count": null,
   "metadata": {
    "collapsed": false,
    "slideshow": {
     "slide_type": "slide"
    }
   },
   "outputs": [],
   "source": [
    "hist_fig3"
   ]
  },
  {
   "cell_type": "code",
   "execution_count": null,
   "metadata": {
    "collapsed": false,
    "slideshow": {
     "slide_type": "fragment"
    }
   },
   "outputs": [],
   "source": [
    "CAarea(20,40)"
   ]
  },
  {
   "cell_type": "markdown",
   "metadata": {
    "slideshow": {
     "slide_type": "slide"
    }
   },
   "source": [
    "### Interpreting a histogram \n",
    "\n",
    "#### Percentage in 40-60 age group is about\n",
    "\n",
    "$$ \\left(1.5 \\, \\frac{\\%}{\\text{year}} \\right) * \\left( 15 \\, \\text{years} \\right) + \\left(0.6 \\, \\frac{\\%}{\\text{year}} \\right) * \\left( 5 \\, \\text{years} \\right) \\approx 25 \\%$$"
   ]
  },
  {
   "cell_type": "code",
   "execution_count": null,
   "metadata": {
    "collapsed": false,
    "slideshow": {
     "slide_type": "skip"
    }
   },
   "outputs": [],
   "source": [
    "%%capture\n",
    "hist_fig4, dens4, area4 = CAdensity()\n",
    "ax = hist_fig4.gca()\n",
    "interval = np.linspace(40.001,60.,501)\n",
    "ax.fill_between(interval, 0*interval, dens3(interval), \n",
    "                facecolor='blue', hatch='/')\n"
   ]
  },
  {
   "cell_type": "code",
   "execution_count": null,
   "metadata": {
    "collapsed": false,
    "slideshow": {
     "slide_type": "slide"
    }
   },
   "outputs": [],
   "source": [
    "hist_fig4"
   ]
  },
  {
   "cell_type": "code",
   "execution_count": null,
   "metadata": {
    "collapsed": false,
    "slideshow": {
     "slide_type": "fragment"
    }
   },
   "outputs": [],
   "source": [
    "CAarea(40,60)"
   ]
  },
  {
   "cell_type": "markdown",
   "metadata": {
    "slideshow": {
     "slide_type": "slide"
    }
   },
   "source": [
    "## Histograms from a list of numbers\n",
    "\n",
    "- Given a *sample*, i.e. a list of numbers $X=[X_1,..., X_n]$ \n",
    "and a set of break points $[B_1,..., B_k]$. \n",
    "\n",
    "- We can form a histogram by\n",
    "computing percentages for a bin $[B_j,B_{j+1})$\n",
    "\n",
    "- Each bar's width is $B_{j+1} - B_j$.\n",
    "\n",
    "- Each bar's height is percentage of numbers in X greater than our equal to $B_j$    but less than $B_{j+1}$ divided by the width $B_{j+1}-B_j$.\n"
   ]
  },
  {
   "cell_type": "markdown",
   "metadata": {
    "slideshow": {
     "slide_type": "slide"
    }
   },
   "source": [
    "The following is a sample of mothers' and daughters' heights recorded in the early 20th\n",
    "century in a study by Karl Pearson:"
   ]
  },
  {
   "cell_type": "code",
   "execution_count": null,
   "metadata": {
    "collapsed": false,
    "slideshow": {
     "slide_type": "skip"
    }
   },
   "outputs": [],
   "source": [
    "mother = csv2rec('data/pearson_lee.csv')['mother']"
   ]
  },
  {
   "cell_type": "code",
   "execution_count": null,
   "metadata": {
    "collapsed": false,
    "slideshow": {
     "slide_type": "fragment"
    }
   },
   "outputs": [],
   "source": [
    "mother[:10]"
   ]
  },
  {
   "cell_type": "code",
   "execution_count": null,
   "metadata": {
    "collapsed": false,
    "slideshow": {
     "slide_type": "fragment"
    }
   },
   "outputs": [],
   "source": [
    "len(mother)"
   ]
  },
  {
   "cell_type": "markdown",
   "metadata": {
    "slideshow": {
     "slide_type": "slide"
    }
   },
   "source": [
    "Now, let's make some bins:"
   ]
  },
  {
   "cell_type": "code",
   "execution_count": null,
   "metadata": {
    "collapsed": false,
    "slideshow": {
     "slide_type": "fragment"
    }
   },
   "outputs": [],
   "source": [
    "binpoints = range(50,80)\n",
    "binpoints[:5]"
   ]
  },
  {
   "cell_type": "code",
   "execution_count": null,
   "metadata": {
    "collapsed": false,
    "slideshow": {
     "slide_type": "skip"
    }
   },
   "outputs": [],
   "source": [
    "%%capture\n",
    "mother_fig = plt.figure(figsize=(7,7))\n",
    "sample_density(mother, bins=binpoints, facecolor='gray')\n",
    "ax = mother_fig.gca()\n",
    "ax.set_xlabel('Height (inches)', fontsize=15)\n",
    "ax.set_ylabel('Percentage per inch (%/inch)', fontsize=15)"
   ]
  },
  {
   "cell_type": "code",
   "execution_count": null,
   "metadata": {
    "collapsed": false,
    "slideshow": {
     "slide_type": "fragment"
    }
   },
   "outputs": [],
   "source": [
    "mother_fig"
   ]
  },
  {
   "cell_type": "code",
   "execution_count": null,
   "metadata": {
    "collapsed": false,
    "slideshow": {
     "slide_type": "skip"
    }
   },
   "outputs": [],
   "source": [
    "%%capture\n",
    "mother_coarse_fig = plt.figure(figsize=(7,7))\n",
    "sample_density(mother, bins=binpoints[::2], facecolor='gray')\n",
    "ax = mother_coarse_fig.gca()\n",
    "ax.set_xlabel('Height (inches)', fontsize=15)\n",
    "ax.set_ylabel('Percentage per inch (%/inch)', fontsize=15)"
   ]
  },
  {
   "cell_type": "code",
   "execution_count": null,
   "metadata": {
    "collapsed": false,
    "slideshow": {
     "slide_type": "slide"
    }
   },
   "outputs": [],
   "source": [
    "mother_coarse_fig"
   ]
  },
  {
   "cell_type": "markdown",
   "metadata": {
    "slideshow": {
     "slide_type": "slide"
    }
   },
   "source": [
    "## Continuous histograms\n",
    "\n",
    "- The flat histograms we drew above can be thought of as *approximations* to a **continuous** histogram.\n",
    "\n",
    "- If the population of people we used gets larger and larger, the histogram might settle down to a curve.\n"
   ]
  },
  {
   "cell_type": "code",
   "execution_count": null,
   "metadata": {
    "collapsed": false,
    "slideshow": {
     "slide_type": "skip"
    }
   },
   "outputs": [],
   "source": [
    "%%capture\n",
    "sample = np.random.standard_normal((100000,))\n",
    "plt.figure(figsize=figsize)\n",
    "hist_opts = {'facecolor':'gray', 'alpha':0.5, 'histtype':'stepfilled'}\n",
    "hist_coarse, _, CDF_coarse = sample_density(sample[:100], bins=10, **hist_opts)\n",
    "hist_coarse.set_xlabel('Units', fontsize=20)\n",
    "hist_coarse.set_ylabel('Density (% per unit)', fontsize=20)"
   ]
  },
  {
   "cell_type": "code",
   "execution_count": null,
   "metadata": {
    "collapsed": false,
    "slideshow": {
     "slide_type": "slide"
    }
   },
   "outputs": [],
   "source": [
    "hist_coarse.figure"
   ]
  },
  {
   "cell_type": "code",
   "execution_count": null,
   "metadata": {
    "collapsed": false,
    "slideshow": {
     "slide_type": "skip"
    }
   },
   "outputs": [],
   "source": [
    "%%capture\n",
    "plt.figure(figsize=figsize)\n",
    "hist_fine, _, CDF_fine = sample_density(sample[:500], bins=20, **hist_opts)\n",
    "hist_fine.set_xlabel('Units', fontsize=20)\n",
    "hist_fine.set_ylabel('Density (% per unit change)', fontsize=20)"
   ]
  },
  {
   "cell_type": "code",
   "execution_count": null,
   "metadata": {
    "collapsed": false,
    "slideshow": {
     "slide_type": "slide"
    }
   },
   "outputs": [],
   "source": [
    "hist_fine.figure"
   ]
  },
  {
   "cell_type": "code",
   "execution_count": null,
   "metadata": {
    "collapsed": false,
    "slideshow": {
     "slide_type": "skip"
    }
   },
   "outputs": [],
   "source": [
    "%%capture\n",
    "plt.figure(figsize=figsize)\n",
    "hist_finer, _, CDF_finer = sample_density(sample[:10000], bins=50, **hist_opts)\n",
    "hist_finer.set_xlabel('Units', fontsize=20)\n",
    "hist_finer.set_ylabel('Density (% per unit change)', fontsize=20)"
   ]
  },
  {
   "cell_type": "code",
   "execution_count": null,
   "metadata": {
    "collapsed": false,
    "slideshow": {
     "slide_type": "slide"
    }
   },
   "outputs": [],
   "source": [
    "hist_finer.figure"
   ]
  },
  {
   "cell_type": "code",
   "execution_count": null,
   "metadata": {
    "collapsed": false,
    "slideshow": {
     "slide_type": "skip"
    }
   },
   "outputs": [],
   "source": [
    "%%capture\n",
    "from scipy.stats import norm as ndist\n",
    "X = np.linspace(-4,4,101)\n",
    "hist_finer.plot(X, ndist.pdf(X), c='k', linewidth=4)\n",
    "hist_finer.set_title('With more data, the discrete histogram converges to a curve', fontsize=15, color='red')\n"
   ]
  },
  {
   "cell_type": "code",
   "execution_count": null,
   "metadata": {
    "collapsed": false,
    "slideshow": {
     "slide_type": "slide"
    }
   },
   "outputs": [],
   "source": [
    "hist_finer.figure"
   ]
  },
  {
   "cell_type": "code",
   "execution_count": null,
   "metadata": {
    "collapsed": false,
    "slideshow": {
     "slide_type": "skip"
    }
   },
   "outputs": [],
   "source": [
    "%%capture\n",
    "plt.figure(figsize=figsize)\n",
    "hist_finest, _, CDF_finest = sample_density(sample, bins=200, **hist_opts)\n",
    "hist_finest.set_xlabel('Units', fontsize=20)\n",
    "hist_finest.set_ylabel('Density (% per unit)', fontsize=20)\n",
    "hist_finest.set_title('Even finer resolution...', fontsize=15, color='red')\n",
    "hist_finest.plot(X, ndist.pdf(X), c='k', linewidth=4)"
   ]
  },
  {
   "cell_type": "code",
   "execution_count": null,
   "metadata": {
    "collapsed": false,
    "slideshow": {
     "slide_type": "slide"
    }
   },
   "outputs": [],
   "source": [
    "hist_finest.figure"
   ]
  },
  {
   "cell_type": "markdown",
   "metadata": {
    "slideshow": {
     "slide_type": "slide"
    }
   },
   "source": [
    "## Area under a continuous histogram"
   ]
  },
  {
   "cell_type": "code",
   "execution_count": null,
   "metadata": {
    "collapsed": false,
    "slideshow": {
     "slide_type": "skip"
    }
   },
   "outputs": [],
   "source": [
    "%%capture\n",
    "hist_opts['alpha'] = 0.\n",
    "regions = [((-2,2,501), {'facecolor':'yellow', 'hatch':'/'})]\n",
    "ax = sample_density(sample[:100], bins=10, regions=regions, ax=hist_coarse, **hist_opts)[0]\n",
    "ax.set_title('Area: %0.1f' % (100 * (CDF_coarse(2) - CDF_coarse(-2))), fontsize=15)"
   ]
  },
  {
   "cell_type": "code",
   "execution_count": null,
   "metadata": {
    "collapsed": false,
    "slideshow": {
     "slide_type": "fragment"
    }
   },
   "outputs": [],
   "source": [
    "ax.figure"
   ]
  },
  {
   "cell_type": "code",
   "execution_count": null,
   "metadata": {
    "collapsed": false,
    "slideshow": {
     "slide_type": "skip"
    }
   },
   "outputs": [],
   "source": [
    "%%capture\n",
    "ax = sample_density(sample[:500], bins=20, regions=regions, \n",
    "                    ax=hist_fine, **hist_opts)[0]\n",
    "ax.set_title('Area: %0.1f' % (100 * (CDF_fine(2) - CDF_fine(-2))), fontsize=15)"
   ]
  },
  {
   "cell_type": "code",
   "execution_count": null,
   "metadata": {
    "collapsed": false,
    "slideshow": {
     "slide_type": "slide"
    }
   },
   "outputs": [],
   "source": [
    "ax.figure"
   ]
  },
  {
   "cell_type": "code",
   "execution_count": null,
   "metadata": {
    "collapsed": false,
    "slideshow": {
     "slide_type": "skip"
    }
   },
   "outputs": [],
   "source": [
    "%%capture\n",
    "interval = np.linspace(-6,6,501)\n",
    "ax = sample_density(sample[:10000], bins=50, regions=regions, ax=hist_finer, **hist_opts)[0]\n",
    "ax.plot(interval, ndist.pdf(interval), 'k', linewidth=4)\n",
    "ax.set_title('')\n",
    "ax.set_title('Area: %0.1f' % (100 * (CDF_finer(2) - CDF_finer(-2))), fontsize=15)"
   ]
  },
  {
   "cell_type": "code",
   "execution_count": null,
   "metadata": {
    "collapsed": false,
    "slideshow": {
     "slide_type": "slide"
    }
   },
   "outputs": [],
   "source": [
    "ax.figure"
   ]
  },
  {
   "cell_type": "code",
   "execution_count": null,
   "metadata": {
    "collapsed": false,
    "slideshow": {
     "slide_type": "skip"
    }
   },
   "outputs": [],
   "source": [
    "%%capture\n",
    "ax = sample_density(sample, bins=200, regions=regions, ax=hist_finest, **hist_opts)[0]\n",
    "ax.plot(interval, ndist.pdf(interval), 'k', linewidth=4)\n",
    "ax.set_title('')\n",
    "ax.set_title('Area: %0.1f' % (100 * (CDF_finest(2) - CDF_finest(-2))), fontsize=15)"
   ]
  },
  {
   "cell_type": "code",
   "execution_count": null,
   "metadata": {
    "collapsed": false,
    "slideshow": {
     "slide_type": "slide"
    }
   },
   "outputs": [],
   "source": [
    "ax.figure"
   ]
  },
  {
   "cell_type": "markdown",
   "metadata": {
    "slideshow": {
     "slide_type": "slide"
    }
   },
   "source": [
    "## Area under a continuous histogram\n",
    "\n",
    "As the width of the bins shrinks and the histogram converges\n",
    "to a continuous curve, the area also converges:\n",
    "$$\n",
    "\\begin{aligned}\n",
    "\\text{Area between -2 and 2} &= \\sum_{\\text{bins in $[-2,2]$}} \\text{width(bin) * density(bin)} \\\\\n",
    "&\\to \\int_{-2}^2 f(u) \\; du.\n",
    "\\end{aligned}\n",
    "$$\n",
    "\n",
    "This last quantity is called an *integral* (e.g. MATH41)"
   ]
  },
  {
   "cell_type": "markdown",
   "metadata": {
    "slideshow": {
     "slide_type": "slide"
    }
   },
   "source": [
    "### Shape of a histogram\n",
    "\n",
    "The shape of a histogram tells us something about the data.\n",
    "\n",
    "This histogram is **skewed left (i.e. long left tail)**"
   ]
  },
  {
   "cell_type": "code",
   "execution_count": null,
   "metadata": {
    "collapsed": false,
    "slideshow": {
     "slide_type": "skip"
    }
   },
   "outputs": [],
   "source": [
    "%%capture\n",
    "\n",
    "with plt.xkcd():\n",
    "    skew_left = plt.figure(figsize=(6,6))\n",
    "    sample = list(np.random.beta(2,1, size=15000)) + list(np.random.beta(10,1.5, size=15000)) \n",
    "    stylized_density(sample, ax=skew_left.gca())"
   ]
  },
  {
   "cell_type": "code",
   "execution_count": null,
   "metadata": {
    "collapsed": false,
    "slideshow": {
     "slide_type": "fragment"
    }
   },
   "outputs": [],
   "source": [
    "skew_left"
   ]
  },
  {
   "cell_type": "markdown",
   "metadata": {
    "slideshow": {
     "slide_type": "slide"
    }
   },
   "source": [
    "### Shape of a histogram\n",
    "\n",
    "This histogram is **skewed right (i.e. long right tail)**"
   ]
  },
  {
   "cell_type": "code",
   "execution_count": null,
   "metadata": {
    "collapsed": false,
    "slideshow": {
     "slide_type": "skip"
    }
   },
   "outputs": [],
   "source": [
    "%%capture\n",
    "with plt.xkcd():\n",
    "    skew_right = plt.figure(figsize=figsize)\n",
    "    sample = list(np.random.beta(1, 2.2, size=25000)) + list(np.random.beta(1,1, size=5000)) \n",
    "    stylized_density(sample, ax=skew_right.gca())"
   ]
  },
  {
   "cell_type": "code",
   "execution_count": null,
   "metadata": {
    "collapsed": false,
    "slideshow": {
     "slide_type": "fragment"
    }
   },
   "outputs": [],
   "source": [
    "skew_right"
   ]
  },
  {
   "cell_type": "markdown",
   "metadata": {
    "slideshow": {
     "slide_type": "slide"
    }
   },
   "source": [
    "### Shape of a histogram\n",
    "\n",
    "This histogram is **symmetric**"
   ]
  },
  {
   "cell_type": "code",
   "execution_count": null,
   "metadata": {
    "collapsed": false,
    "slideshow": {
     "slide_type": "skip"
    }
   },
   "outputs": [],
   "source": [
    "%%capture\n",
    "with plt.xkcd():\n",
    "    symmetric = plt.figure(figsize=figsize)\n",
    "    sample = np.random.standard_t(40, size=50000)\n",
    "    stylized_density(sample, ax=symmetric.gca())"
   ]
  },
  {
   "cell_type": "code",
   "execution_count": null,
   "metadata": {
    "collapsed": false,
    "slideshow": {
     "slide_type": "fragment"
    }
   },
   "outputs": [],
   "source": [
    "symmetric"
   ]
  },
  {
   "cell_type": "markdown",
   "metadata": {
    "slideshow": {
     "slide_type": "slide"
    }
   },
   "source": [
    "### Shape of a histogram\n",
    "\n",
    "This histogram is **has two peaks.** Statisticians call this **bimodal**."
   ]
  },
  {
   "cell_type": "code",
   "execution_count": null,
   "metadata": {
    "collapsed": false,
    "slideshow": {
     "slide_type": "skip"
    }
   },
   "outputs": [],
   "source": [
    "%%capture\n",
    "with plt.xkcd():\n",
    "    bimodal = plt.figure(figsize=(7,7))\n",
    "    sample = (list(np.random.standard_t(40, size=50000)) + \n",
    "              list(np.random.standard_t(30, size=20000) + 4))\n",
    "    stylized_density(sample, ax=bimodal.gca())\n"
   ]
  },
  {
   "cell_type": "code",
   "execution_count": null,
   "metadata": {
    "collapsed": false,
    "slideshow": {
     "slide_type": "fragment"
    }
   },
   "outputs": [],
   "source": [
    "bimodal"
   ]
  },
  {
   "cell_type": "markdown",
   "metadata": {
    "slideshow": {
     "slide_type": "slide"
    }
   },
   "source": [
    "### Shape of a histogram\n",
    "\n",
    "This histogram is **flat.**"
   ]
  },
  {
   "cell_type": "code",
   "execution_count": null,
   "metadata": {
    "collapsed": false,
    "slideshow": {
     "slide_type": "skip"
    }
   },
   "outputs": [],
   "source": [
    "%%capture\n",
    "with plt.xkcd():\n",
    "    flat = plt.figure(figsize=figsize)\n",
    "    sample = np.random.sample(100000)\n",
    "    stylized_density(sample, ax=flat.gca())\n"
   ]
  },
  {
   "cell_type": "code",
   "execution_count": null,
   "metadata": {
    "collapsed": false,
    "slideshow": {
     "slide_type": "fragment"
    }
   },
   "outputs": [],
   "source": [
    "flat"
   ]
  },
  {
   "cell_type": "markdown",
   "metadata": {
    "slideshow": {
     "slide_type": "slide"
    }
   },
   "source": [
    "## Other important visual summaries\n",
    "\n",
    "### Scatter plot\n",
    "\n",
    "A plot with two axes:\n",
    "\n",
    "- X-axis is the *independent variable*;\n",
    "- Y-axis is the *dependent variable.*"
   ]
  },
  {
   "cell_type": "code",
   "execution_count": null,
   "metadata": {
    "collapsed": false,
    "slideshow": {
     "slide_type": "skip"
    }
   },
   "outputs": [],
   "source": [
    "%%capture\n",
    "with plt.xkcd():\n",
    "    wage_fig = plt.figure(figsize=figsize)\n",
    "    wage_ax = wage_fig.gca()\n",
    "    wage = csv2rec('data/wage.csv')\n",
    "    wage_ax.scatter(wage['education'], wage['logwage'], facecolor='red', s=50)\n",
    "    wage_ax.set_xlabel('Education (years)', fontsize=20)\n",
    "    wage_ax.set_ylabel('log wage (log $)', fontsize=20)\n",
    "    wage_ax.set_title('Scatterplot', fontsize=20)"
   ]
  },
  {
   "cell_type": "code",
   "execution_count": null,
   "metadata": {
    "collapsed": false,
    "slideshow": {
     "slide_type": "slide"
    }
   },
   "outputs": [],
   "source": [
    "wage_fig"
   ]
  },
  {
   "cell_type": "markdown",
   "metadata": {
    "slideshow": {
     "slide_type": "slide"
    }
   },
   "source": [
    "## Time series\n",
    "\n",
    "- X-axis is *time*\n",
    "- Y-axis is *dependent variable*.\n",
    "- Randomness is often **structured** through **(auto)correlation**."
   ]
  },
  {
   "cell_type": "code",
   "execution_count": null,
   "metadata": {
    "collapsed": false,
    "slideshow": {
     "slide_type": "skip"
    }
   },
   "outputs": [],
   "source": [
    "%%capture\n",
    "stocks = csv2rec('data/stocks.csv')\n",
    "facebook = stocks['facebook']\n",
    "apple = stocks['apple']\n",
    "dates = stocks['date']\n",
    "facebook_fig = plt.figure(figsize=figsize)\n",
    "facebook_ax = facebook_fig.gca()\n",
    "facebook_ax.set_ylabel('Price of \"FB\"', fontsize=20)\n",
    "facebook_ax.set_xlabel('Date', fontsize=20)\n",
    "facebook_ax.plot(dates, facebook, 'k', linewidth=3)"
   ]
  },
  {
   "cell_type": "code",
   "execution_count": null,
   "metadata": {
    "collapsed": false,
    "slideshow": {
     "slide_type": "slide"
    }
   },
   "outputs": [],
   "source": [
    "facebook_fig"
   ]
  },
  {
   "cell_type": "code",
   "execution_count": null,
   "metadata": {
    "collapsed": false,
    "slideshow": {
     "slide_type": "skip"
    }
   },
   "outputs": [],
   "source": [
    "%%capture\n",
    "apple_fig = plt.figure(figsize=figsize)\n",
    "apple_ax = apple_fig.gca()\n",
    "apple_ax.set_ylabel('Price of \"AAPL\"', fontsize=20)\n",
    "apple_ax.set_xlabel('Date', fontsize=20)\n",
    "apple_ax.plot(dates, apple, 'k', linewidth=3)\n"
   ]
  },
  {
   "cell_type": "code",
   "execution_count": null,
   "metadata": {
    "collapsed": false,
    "slideshow": {
     "slide_type": "slide"
    }
   },
   "outputs": [],
   "source": [
    "apple_fig"
   ]
  },
  {
   "cell_type": "code",
   "execution_count": null,
   "metadata": {
    "collapsed": false,
    "slideshow": {
     "slide_type": "skip"
    }
   },
   "outputs": [],
   "source": [
    "%%capture\n",
    "scatter_fig = plt.figure(figsize=figsize)\n",
    "scatter_ax = scatter_fig.gca()\n",
    "scatter_ax.scatter(facebook, apple, color='red', s=100,\n",
    "                   edgecolor='gray')\n",
    "scatter_ax.set_xlabel('Price of \"FB\"', fontsize=20)\n",
    "scatter_ax.set_ylabel('Price of \"AAPL\"', fontsize=20)"
   ]
  },
  {
   "cell_type": "code",
   "execution_count": null,
   "metadata": {
    "collapsed": false,
    "slideshow": {
     "slide_type": "slide"
    }
   },
   "outputs": [],
   "source": [
    "scatter_fig"
   ]
  }
 ],
 "metadata": {
  "celltoolbar": "Slideshow",
  "kernelspec": {
   "display_name": "Python 2",
   "language": "python",
   "name": "python2"
  },
  "language_info": {
   "codemirror_mode": {
    "name": "ipython",
    "version": 2
   },
   "file_extension": ".py",
   "mimetype": "text/x-python",
   "name": "python",
   "nbconvert_exporter": "python",
   "pygments_lexer": "ipython2",
   "version": "2.7.11"
  }
 },
 "nbformat": 4,
 "nbformat_minor": 0
}

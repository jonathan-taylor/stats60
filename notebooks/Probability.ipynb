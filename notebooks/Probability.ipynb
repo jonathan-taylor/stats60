{
 "cells": [
  {
   "cell_type": "code",
   "execution_count": null,
   "metadata": {
    "collapsed": false,
    "slideshow": {
     "slide_type": "skip"
    }
   },
   "outputs": [],
   "source": [
    "%matplotlib inline\n",
    "import matplotlib.pyplot as plt\n",
    "import matplotlib\n",
    "import numpy as np\n",
    "from numpy import mean, std\n",
    "from matplotlib.mlab import csv2rec\n",
    "from pylab import poly_between\n",
    "\n",
    "# stats60 specific\n",
    "\n",
    "from code import dice, marbles, monty_hall, examples\n",
    "figsize = (8,8)"
   ]
  },
  {
   "cell_type": "markdown",
   "metadata": {
    "slideshow": {
     "slide_type": "slide"
    }
   },
   "source": [
    "## Probability\n",
    "\n",
    "### Frequency definition of chances\n",
    "\n",
    "* If you flip a fair coin many times, the long-run proportion of heads will be 50%.\n",
    "* Rolling a fair 6-sided die,\n",
    "will result in a long-run proportion of 1’s of \n",
    "$$1/6=16 \\frac{2}{3}\\%.$$"
   ]
  },
  {
   "cell_type": "code",
   "execution_count": null,
   "metadata": {
    "collapsed": false,
    "slideshow": {
     "slide_type": "slide"
    }
   },
   "outputs": [],
   "source": [
    "dice.roll_one_die.trial()\n",
    "dice.roll_one_die"
   ]
  },
  {
   "cell_type": "code",
   "execution_count": null,
   "metadata": {
    "collapsed": false,
    "slideshow": {
     "slide_type": "fragment"
    }
   },
   "outputs": [],
   "source": [
    "dice.roll_one_die.sample(10)"
   ]
  },
  {
   "cell_type": "markdown",
   "metadata": {
    "slideshow": {
     "slide_type": "slide"
    }
   },
   "source": [
    "### Probability as frequency"
   ]
  },
  {
   "cell_type": "code",
   "execution_count": null,
   "metadata": {
    "collapsed": false,
    "slideshow": {
     "slide_type": "fragment"
    }
   },
   "outputs": [],
   "source": [
    "dice_sample = dice.roll_one_die.sample(5000)\n",
    "sum([d == 1 for d in dice_sample]) / 5000., 1/6."
   ]
  },
  {
   "cell_type": "markdown",
   "metadata": {
    "slideshow": {
     "slide_type": "slide"
    }
   },
   "source": [
    "## Some rules of probability\n",
    "\n",
    "- *Range of values:* Chances are between 0 % and 100 %.\n",
    "\n",
    "- *Opposites:* The chance of something equals 100 % minus the chance of the opposite thing. \n",
    "\n",
    "### Example: \n",
    "\n",
    "The chance of not getting a 1 when rolling a die is $(100 - 16 \\frac{2}{3})\\% = 83 \\frac{1}{3} \\%$.\n"
   ]
  },
  {
   "cell_type": "markdown",
   "metadata": {
    "slideshow": {
     "slide_type": "slide"
    }
   },
   "source": [
    "## Drawing marbles from a box\n",
    "\n",
    "- Box #1 :30 blue, 20 red\n",
    "\n",
    "- Box #2: 3 blue, 2 red\n",
    "\n",
    "- If you have to draw a blue marble to win, which box would you choose?"
   ]
  },
  {
   "cell_type": "code",
   "execution_count": null,
   "metadata": {
    "collapsed": false,
    "slideshow": {
     "slide_type": "slide"
    }
   },
   "outputs": [],
   "source": [
    "large = marbles.Marbles(['B']*30 + ['R']*20, grid=(5,10))\n",
    "large"
   ]
  },
  {
   "cell_type": "code",
   "execution_count": null,
   "metadata": {
    "collapsed": false,
    "slideshow": {
     "slide_type": "fragment"
    }
   },
   "outputs": [],
   "source": [
    "large.trial()"
   ]
  },
  {
   "cell_type": "code",
   "execution_count": null,
   "metadata": {
    "collapsed": false,
    "slideshow": {
     "slide_type": "slide"
    }
   },
   "outputs": [],
   "source": [
    "print large.trial()\n",
    "large.last_draw()"
   ]
  },
  {
   "cell_type": "code",
   "execution_count": null,
   "metadata": {
    "collapsed": false,
    "slideshow": {
     "slide_type": "slide"
    }
   },
   "outputs": [],
   "source": [
    "small = marbles.Marbles(['B']*3 + ['R']*2)\n",
    "small"
   ]
  },
  {
   "cell_type": "code",
   "execution_count": null,
   "metadata": {
    "collapsed": false,
    "slideshow": {
     "slide_type": "fragment"
    }
   },
   "outputs": [],
   "source": [
    "small.trial()"
   ]
  },
  {
   "cell_type": "code",
   "execution_count": null,
   "metadata": {
    "collapsed": false,
    "slideshow": {
     "slide_type": "slide"
    }
   },
   "outputs": [],
   "source": [
    "print small.trial()\n",
    "small.last_draw()"
   ]
  },
  {
   "cell_type": "markdown",
   "metadata": {
    "slideshow": {
     "slide_type": "fragment"
    }
   },
   "source": [
    "##  They both have the same chance of winning: 0.6"
   ]
  },
  {
   "cell_type": "code",
   "execution_count": null,
   "metadata": {
    "collapsed": false
   },
   "outputs": [],
   "source": [
    "sum([d == 'B' for d in small.sample(10000)]), sum([d == 'B' for d in large.sample(10000)])"
   ]
  },
  {
   "cell_type": "markdown",
   "metadata": {
    "slideshow": {
     "slide_type": "slide"
    }
   },
   "source": [
    "## Drawing marbles\n",
    "\n",
    "- When drawing one marble, the important number was \n",
    "$$\\frac{\\# \\ \\text{blue marbles}}{\\# \\ \\text{marbles}} = 60\\%$$\n",
    "- What if you draw 5 marbles without replacement?\n",
    "- With replacement?"
   ]
  },
  {
   "cell_type": "markdown",
   "metadata": {
    "slideshow": {
     "slide_type": "slide"
    }
   },
   "source": [
    "## Sampling with replacement\n",
    "\n",
    "Let's do with replacement first"
   ]
  },
  {
   "cell_type": "code",
   "execution_count": null,
   "metadata": {
    "collapsed": false,
    "slideshow": {
     "slide_type": "fragment"
    }
   },
   "outputs": [],
   "source": [
    "small = marbles.Marbles(['B']*3 + ['R']*2)\n",
    "small.sample(5)"
   ]
  },
  {
   "cell_type": "code",
   "execution_count": null,
   "metadata": {
    "collapsed": false,
    "slideshow": {
     "slide_type": "fragment"
    }
   },
   "outputs": [],
   "source": [
    "small.current_state()"
   ]
  },
  {
   "cell_type": "markdown",
   "metadata": {
    "slideshow": {
     "slide_type": "slide"
    }
   },
   "source": [
    "## Sampling without replacement"
   ]
  },
  {
   "cell_type": "code",
   "execution_count": null,
   "metadata": {
    "collapsed": false,
    "slideshow": {
     "slide_type": "fragment"
    }
   },
   "outputs": [],
   "source": [
    "small_noreplace = marbles.Marbles(['B']*3 + ['R']*2)\n",
    "small_noreplace.replace = False\n",
    "small_noreplace"
   ]
  },
  {
   "cell_type": "code",
   "execution_count": null,
   "metadata": {
    "collapsed": false,
    "slideshow": {
     "slide_type": "slide"
    }
   },
   "outputs": [],
   "source": [
    "small_noreplace.sample(3)"
   ]
  },
  {
   "cell_type": "code",
   "execution_count": null,
   "metadata": {
    "collapsed": false,
    "slideshow": {
     "slide_type": "fragment"
    }
   },
   "outputs": [],
   "source": [
    "small_noreplace.current_state()"
   ]
  },
  {
   "cell_type": "code",
   "execution_count": null,
   "metadata": {
    "collapsed": false,
    "slideshow": {
     "slide_type": "slide"
    }
   },
   "outputs": [],
   "source": [
    "large_noreplace = marbles.Marbles(['B']*30 + ['R']*20)\n",
    "large_noreplace.replace = False\n",
    "large_noreplace"
   ]
  },
  {
   "cell_type": "code",
   "execution_count": null,
   "metadata": {
    "collapsed": false
   },
   "outputs": [],
   "source": [
    "large_noreplace.sample(3)"
   ]
  },
  {
   "cell_type": "code",
   "execution_count": null,
   "metadata": {
    "collapsed": false
   },
   "outputs": [],
   "source": [
    "large_noreplace.current_state()"
   ]
  },
  {
   "cell_type": "markdown",
   "metadata": {
    "slideshow": {
     "slide_type": "slide"
    }
   },
   "source": [
    "## Drawing five marbles from Box # 1 or # 2\n",
    "\n",
    "* If drawing without replacement, Box # 2 will be easier to win.\n",
    "* We’re even guaranteed to win with Box # 2. **Why?**"
   ]
  },
  {
   "cell_type": "markdown",
   "metadata": {
    "slideshow": {
     "slide_type": "slide"
    }
   },
   "source": [
    "## Example\n",
    "\n",
    "Suppose our experiment consists of drawing a ticket out of a hat with 20\n",
    "tickets in it. We are going to draw 3 tickets.\n",
    "\n",
    "- Describe the hat after each draw if we draw *with replacement*. \n",
    "What are the possible outcomes of the experiment?\n",
    "\n",
    "         Before and after each draw, the hat has 20 tickets in it.\n",
    "         The possible outcomes are triples of numbers from 1 to 20:\n",
    "         (1,1,4),(2,3,4), etc.\n",
    "\n",
    "-  Describe the hat after each draw if we draw *without replacement*. \n",
    "What are possible outcomes of the experiment?\n",
    "\n",
    "         After the first draw, the hat has 19 tickets in it,\n",
    "         after the second 18, and after the third 17.\n",
    "         The possible outcomes are all triples of numbers from\n",
    "         1 to 20 but there can be no ties: (1,1,4) is impossible."
   ]
  },
  {
   "cell_type": "markdown",
   "metadata": {
    "slideshow": {
     "slide_type": "slide"
    }
   },
   "source": [
    "## Conditional probability\n",
    "\n",
    "* Observing some information can *change*\n",
    "   the chances of something.\n",
    "* We already saw this in the marble example. If drawing without replacement, suppose the first draw was red. What are the chances a blue marble is drawn on the second draw?\n",
    "* What if we draw with replacement?\n",
    "* In this examples, we are *given*\n",
    "   that the first draw was red. These chances are *conditioned*\n",
    "   on knowing the first draw was red."
   ]
  },
  {
   "cell_type": "markdown",
   "metadata": {
    "slideshow": {
     "slide_type": "slide"
    }
   },
   "source": [
    "## Multiplication rule\n",
    "\n",
    "The chance that two things will both happen equals the chance that the first will happen, multiplied by the chance that the second will happen *given* the first has happened."
   ]
  },
  {
   "cell_type": "markdown",
   "metadata": {
    "slideshow": {
     "slide_type": "fragment"
    }
   },
   "source": [
    "### Example\n",
    "\n",
    "- *In the box with 3 blue and 2 red marbles, what is the probability the first blue marble drawn is on the second draw when drawing without replacement?*\n",
    "- If the first blue marble drawn was the second, then we know\n",
    "     - the first was red;\n",
    "     - the second was blue.\n",
    "- By the multiplication rule \n",
    "$$\\mathrm{chances} = \\frac{2}{5} \\times \\frac{3}{4} = \\frac{3}{10}$$"
   ]
  },
  {
   "cell_type": "markdown",
   "metadata": {
    "slideshow": {
     "slide_type": "slide"
    }
   },
   "source": [
    "## Mathematical notation\n",
    "\n",
    "* \"first blue drawn is on the second draw\" is called an *event*\n",
    "  ;\n",
    "* \"first draw is red\" and \"second draw is blue\" are also events;\n",
    "* We usually write $P$ for \"chances\". For an event $E$ \n",
    "$$ P(E) = \\mathrm{chances} \\ E \\ \\mathrm{occurs}. $$\n",
    "* Conditional probability of an event $A$ given $B$, i.e.  \n",
    "the chances $A$ occurs given $B$ occurs, is\n",
    "written as \n",
    "$$\n",
    "P(A \\vert B).\n",
    "$$\n",
    "\n",
    "- Multiplication rule can be written as \n",
    "$$P(A \\cap B) = P(A \\, \\text{and} \\, B) = P(A \\vert B) * P(B). $$"
   ]
  },
  {
   "cell_type": "markdown",
   "metadata": {
    "slideshow": {
     "slide_type": "slide"
    }
   },
   "source": [
    "## Law of total mass\n",
    "\n",
    "* The chances of *something* occuring are 100%.\n",
    "\n",
    "* Example: when we drew marbles, the chances we draw a marble whose color is blue or red is 100 %.\n",
    "* In mathematical notation, we often use $S$ for \"something\" or the \"sample space\" $$P(S) = 100\\% \\qquad (= 1)$$.\n"
   ]
  },
  {
   "cell_type": "code",
   "execution_count": null,
   "metadata": {
    "collapsed": false,
    "slideshow": {
     "slide_type": "slide"
    }
   },
   "outputs": [],
   "source": [
    "small = marbles.Marbles(['B']*3 + ['R']*2)\n",
    "small.sample_space"
   ]
  },
  {
   "cell_type": "code",
   "execution_count": null,
   "metadata": {
    "collapsed": false,
    "slideshow": {
     "slide_type": "fragment"
    }
   },
   "outputs": [],
   "source": [
    "small.mass_function"
   ]
  },
  {
   "cell_type": "markdown",
   "metadata": {
    "slideshow": {
     "slide_type": "slide"
    }
   },
   "source": [
    "Let's take a trial without replacement."
   ]
  },
  {
   "cell_type": "code",
   "execution_count": null,
   "metadata": {
    "collapsed": false,
    "slideshow": {
     "slide_type": "fragment"
    }
   },
   "outputs": [],
   "source": [
    "small = marbles.Marbles(['B']*3 + ['R']*2, replace=False)\n",
    "small.trial()"
   ]
  },
  {
   "cell_type": "code",
   "execution_count": null,
   "metadata": {
    "collapsed": false,
    "slideshow": {
     "slide_type": "fragment"
    }
   },
   "outputs": [],
   "source": [
    "small.current_state()"
   ]
  },
  {
   "cell_type": "code",
   "execution_count": null,
   "metadata": {
    "collapsed": false,
    "slideshow": {
     "slide_type": "fragment"
    }
   },
   "outputs": [],
   "source": [
    "small.sample_space"
   ]
  },
  {
   "cell_type": "code",
   "execution_count": null,
   "metadata": {
    "collapsed": false,
    "slideshow": {
     "slide_type": "fragment"
    }
   },
   "outputs": [],
   "source": [
    "small.mass_function"
   ]
  },
  {
   "cell_type": "markdown",
   "metadata": {
    "slideshow": {
     "slide_type": "slide"
    }
   },
   "source": [
    "## Mass function\n",
    "\n",
    "- What is `mass_function`? \n",
    "\n",
    "- It is a description of the probabilities of the various possible\n",
    "outcomes.\n",
    "\n",
    "- Later, the book will call this a *probability histogram*."
   ]
  },
  {
   "cell_type": "markdown",
   "metadata": {
    "slideshow": {
     "slide_type": "slide"
    }
   },
   "source": [
    "## Law of total mass\n",
    "\n",
    "- When drawing from `small` without replacement, we will draw a blue ball within the first three draws. \n",
    "$$P(\\text{one of the first three balls is blue}) = 100 \\%$$\n",
    "\n",
    "- Let's verify the law of total mass \n",
    " $$\\begin{aligned}\n",
    "     P(\\text{first blue ball is on 1st draw }) &= \\frac{3}{5} \\\\\n",
    "     P(\\text{first blue ball is on 2nd draw}) &= \\frac{2}{5} \\times \\frac{3}{4} = \\frac{3}{10}  \\\\\n",
    "     P(\\text{first blue ball is on 3rd draw}) &= \\frac{2}{5} \\times \\frac{1}{4} = \\frac{1}{10}  \\\\\n",
    "  \\end{aligned}$$\n",
    "- Summing the probablities $$\\frac{3}{5} + \\frac{3}{10} +\n",
    " \\frac{1}{10} = 1.$$"
   ]
  },
  {
   "cell_type": "markdown",
   "metadata": {
    "slideshow": {
     "slide_type": "slide"
    }
   },
   "source": [
    "## Addition rule\n",
    "\n",
    "**When can we add probabilities of different events?**\n",
    "\n",
    "\n",
    "We can add probabilities of events when the events are *disjoint*\n",
    "   or *mutually exclusive*\n",
    "\n",
    "### Example \n",
    "\n",
    "When rolling a die, the events $E_1= \\,${roll is 4} , $E_2=\\, ${roll is 3} are mutually exclusive because the result of the roll cannot be and simultaneously."
   ]
  },
  {
   "cell_type": "markdown",
   "metadata": {
    "slideshow": {
     "slide_type": "slide"
    }
   },
   "source": [
    "### Mutually exclusive events"
   ]
  },
  {
   "cell_type": "code",
   "execution_count": null,
   "metadata": {
    "collapsed": false,
    "slideshow": {
     "slide_type": "skip"
    }
   },
   "outputs": [],
   "source": [
    "%%capture\n",
    "disjoint = plt.figure(figsize=figsize)\n",
    "cir = matplotlib.patches.Circle\n",
    "ax = plt.gca()\n",
    "E1 = cir((0.5,0.5), 0.4,ec=\"black\", facecolor='yellow',lw=2, alpha=0.4)\n",
    "E2 = cir((-0.2,-0.2), 0.4,ec=\"black\", facecolor='blue',lw=2, alpha=0.4)\n",
    "ax.add_patch(E1)\n",
    "ax.add_patch(E2)\n",
    "ax.set_xticks([])\n",
    "ax.set_yticks([])\n",
    "ax.set_xlim([-0.7,1])\n",
    "ax.set_ylim([-0.7,1])\n",
    "ax.set_title('Two mutually exclusive events. Addition OK.', fontsize=15, color='green')"
   ]
  },
  {
   "cell_type": "code",
   "execution_count": null,
   "metadata": {
    "collapsed": false
   },
   "outputs": [],
   "source": [
    "disjoint"
   ]
  },
  {
   "cell_type": "markdown",
   "metadata": {
    "slideshow": {
     "slide_type": "slide"
    }
   },
   "source": [
    "### Non-mutually exclusive events"
   ]
  },
  {
   "cell_type": "code",
   "execution_count": null,
   "metadata": {
    "collapsed": false,
    "slideshow": {
     "slide_type": "skip"
    }
   },
   "outputs": [],
   "source": [
    "%%capture\n",
    "nondisjoint = plt.figure(figsize=figsize)\n",
    "cir = matplotlib.patches.Circle\n",
    "ax = plt.gca()\n",
    "E1 = cir((0.5,0.5), 0.4,ec=\"black\", facecolor='yellow',lw=2, alpha=0.4)\n",
    "E2 = cir((0.2,0.2), 0.4,ec=\"black\", facecolor='blue',lw=2, alpha=0.4)\n",
    "ax.add_patch(E1)\n",
    "ax.add_patch(E2)\n",
    "ax.set_xticks([])\n",
    "ax.set_yticks([])\n",
    "ax.set_xlim([-0.7,1])\n",
    "ax.set_ylim([-0.7,1])\n",
    "ax.set_title('Two non-mutually exclusive events. Addition not OK.', \n",
    "             fontsize=15, color='red')\n"
   ]
  },
  {
   "cell_type": "code",
   "execution_count": null,
   "metadata": {
    "collapsed": false,
    "slideshow": {
     "slide_type": "fragment"
    }
   },
   "outputs": [],
   "source": [
    "nondisjoint"
   ]
  },
  {
   "cell_type": "markdown",
   "metadata": {
    "slideshow": {
     "slide_type": "slide"
    }
   },
   "source": [
    "## Addition rule\n",
    "\n",
    "- If the events $E_1, E_2$ are mutually exclusive, then \n",
    "$$ P(E_1 \\ \\mathrm{or} \\ E_2 \\  \\mathrm{occurs}) = P(E_1) + P(E_2).$$\n",
    "- This rule works for more than two: if $[E_1, \\dots, E_n]$ are mutually exclusive, then $$ P(E_1  \\ \\mathrm{or} \\  E_2  \\ \\mathrm{or} \\  \\dots  \\ \\mathrm{or} \\  E_n) = \\sum_{i=1}^nP(E_i).$$\n",
    "\n",
    "- The events $E_1, E_2$ are mutually exclusive if $E_1 \\cap E_2$ is empty.\n",
    "- We often write \"$E_1$ or $E_2$\" as $E_1 \\cup E_2$ and \n",
    "\"$E_1$ and $E_2$\" as $E_1 \\cap E_2$.\n",
    "\n",
    "- From the Venn diagram, we can deduce the general form of the addition rule\n",
    "$$P(E_1 \\cup E_2) = P(E_1) + P(E_2) - P(E_1 \\cap E_2).$$\n",
    "\n",
    "- There are also rules that involve more than 2 events."
   ]
  },
  {
   "cell_type": "code",
   "execution_count": null,
   "metadata": {
    "collapsed": false,
    "slideshow": {
     "slide_type": "skip"
    }
   },
   "outputs": [],
   "source": [
    "%%capture\n",
    "three_events = plt.figure(figsize=figsize)\n",
    "ax = three_events.gca()\n",
    "E1 = cir((0.5,0.5), 0.4,ec=\"black\", facecolor='yellow',lw=2, alpha=0.4)\n",
    "E2 = cir((0.2,0.2), 0.4,ec=\"black\", facecolor='blue',lw=2, alpha=0.4)\n",
    "E3 = cir((0.2,0.5), 0.4,ec=\"black\", facecolor='red',lw=2, alpha=0.4)\n",
    "ax.add_patch(E1)\n",
    "ax.add_patch(E2)\n",
    "ax.add_patch(E3)\n",
    "ax.set_xticks([])\n",
    "ax.set_yticks([])\n",
    "ax.set_xlim([-0.3,1])\n",
    "ax.set_ylim([-0.3,1])\n",
    "ax.set_title('Three intersecting events.', \n",
    "             fontsize=15)\n"
   ]
  },
  {
   "cell_type": "code",
   "execution_count": null,
   "metadata": {
    "collapsed": false,
    "slideshow": {
     "slide_type": "fragment"
    }
   },
   "outputs": [],
   "source": [
    "three_events"
   ]
  },
  {
   "cell_type": "markdown",
   "metadata": {
    "slideshow": {
     "slide_type": "fragment"
    }
   },
   "source": [
    "$$\n",
    "\\begin{aligned}\n",
    "P(A \\cup B \\cup C) &= P(A) + P(B) + P(C) \\\\\n",
    "& - P(A \\cap B) - P(A \\cap C) - P(B \\cap C) \\\\\n",
    "& + P(A \\cap B \\cap C)\n",
    "\\end{aligned}\n",
    "$$"
   ]
  },
  {
   "cell_type": "markdown",
   "metadata": {
    "slideshow": {
     "slide_type": "slide"
    }
   },
   "source": [
    "## A more complicated Venn diagram: four events\n",
    "\n",
    "<img src=\"https://pbs.twimg.com/media/BkihFcZIcAA0E5D.jpg\"/>"
   ]
  },
  {
   "cell_type": "markdown",
   "metadata": {
    "slideshow": {
     "slide_type": "slide"
    }
   },
   "source": [
    "## A simple bound on probabilities\n",
    "\n",
    "Because chances (or probabilities) are between 0% and 100%,\n",
    "     we can deduce\n",
    "     $$\n",
    "    \\begin{aligned}\n",
    "    P(E_1 \\cup E_2) &\\leq P(E_1) + P(E_2) \\\\\n",
    "    P\\left(\\cup_{i=1}^n E_i \\right) & \\leq \\sum_{i=1}^n P(E_i).\n",
    "    \\end{aligned}\n",
    "$$\n",
    "     "
   ]
  },
  {
   "cell_type": "markdown",
   "metadata": {
    "slideshow": {
     "slide_type": "slide"
    }
   },
   "source": [
    "## Multiplication rule & independence\n",
    "\n",
    "* Intuitively, an event $A$ is independent of $B$ if given $B$, the odds of $A$ are unaffected.\n",
    "* In mathematical notation, we express this notion as \n",
    "$$P(A \\vert B)=P(A)$$\n",
    "* If this is true, we say $A$ and $B$ are *independent*.\n",
    "* Otherwise, $A$ and $B$ are *dependent*.\n",
    "* The multiplication rule, combined with independence tells us \n",
    "$$P(A \\cap B) = P(A \\vert B) * P(B) = P(A) * P(B).$$"
   ]
  },
  {
   "cell_type": "markdown",
   "metadata": {
    "slideshow": {
     "slide_type": "slide"
    }
   },
   "source": [
    "## Example\n",
    "\n",
    "Let's go back to drawing marbles from a box.\n",
    "\n",
    "* When drawing marbles *with replacement*\n",
    "   the events $$\\begin{aligned}\n",
    " A &= \\mathrm{first \\ draw \\    is \\ red} \\\\\n",
    " B &= \\mathrm{second \\ draw \\ is \\ blue}\n",
    " \\end{aligned}$$ are *independent*\n",
    "  \n",
    "* We can even conclude that the draws are independent in this case.\n",
    "* When drawing *without replacement*\n",
    "   the events $A$ and $B$ are dependent. **Show this.**"
   ]
  },
  {
   "cell_type": "markdown",
   "metadata": {
    "slideshow": {
     "slide_type": "slide"
    }
   },
   "source": [
    "## Counting and probability\n",
    "\n",
    "* When performing an experiment where each outcome is equally likely, we can compute probabilities by counting.\n",
    "* Example: when rolling two dice, what is the probability of obtaining a sum of 9?\n",
    "* We call these counting problems *combinatorial*\n",
    "  .\n",
    "* For such experiments $$P(E) = \\frac{\\# E}{\\# S}$$ where $S$ is the set of all possible outcomes (our *sample space*)."
   ]
  },
  {
   "cell_type": "markdown",
   "metadata": {
    "slideshow": {
     "slide_type": "slide"
    }
   },
   "source": [
    "## Example\n",
    "\n",
    "Consider rolling a pair of dice. \n",
    "\n",
    "**What is the sample space?**\n",
    "\n"
   ]
  },
  {
   "cell_type": "code",
   "execution_count": null,
   "metadata": {
    "collapsed": false,
    "slideshow": {
     "slide_type": "slide"
    }
   },
   "outputs": [],
   "source": [
    "examples.dice['pair of dice']"
   ]
  },
  {
   "cell_type": "markdown",
   "metadata": {
    "slideshow": {
     "slide_type": "slide"
    }
   },
   "source": [
    "### Example\n",
    "\n",
    "What are the chances the sum will be equal to 9?\n"
   ]
  },
  {
   "cell_type": "code",
   "execution_count": null,
   "metadata": {
    "collapsed": false,
    "slideshow": {
     "slide_type": "skip"
    }
   },
   "outputs": [],
   "source": [
    "%%capture\n",
    "examples.dice['sum to 9'] = dice.dice_example(event_spec = lambda ij: ij[0]+ij[1]==9)\n"
   ]
  },
  {
   "cell_type": "code",
   "execution_count": null,
   "metadata": {
    "collapsed": false,
    "slideshow": {
     "slide_type": "fragment"
    }
   },
   "outputs": [],
   "source": [
    "examples.dice['sum to 9']"
   ]
  },
  {
   "cell_type": "markdown",
   "metadata": {
    "slideshow": {
     "slide_type": "fragment"
    }
   },
   "source": [
    "\n",
    "There are 4 outcomes whose sum is 9. Therefore, the chances are $\\frac{4}{36}=\\frac{1}{9}$."
   ]
  },
  {
   "cell_type": "code",
   "execution_count": null,
   "metadata": {
    "collapsed": false,
    "slideshow": {
     "slide_type": "slide"
    }
   },
   "outputs": [],
   "source": [
    "examples.dice['sum to 9'].trial()\n",
    "examples.dice['sum to 9']"
   ]
  },
  {
   "cell_type": "code",
   "execution_count": null,
   "metadata": {
    "collapsed": false,
    "slideshow": {
     "slide_type": "fragment"
    }
   },
   "outputs": [],
   "source": [
    "examples.dice['sum to 9'].mass_function"
   ]
  },
  {
   "cell_type": "code",
   "execution_count": null,
   "metadata": {
    "collapsed": false,
    "slideshow": {
     "slide_type": "fragment"
    }
   },
   "outputs": [],
   "source": [
    "examples.dice['sum to 9'].sample(10)"
   ]
  },
  {
   "cell_type": "code",
   "execution_count": null,
   "metadata": {
    "collapsed": false,
    "slideshow": {
     "slide_type": "fragment"
    }
   },
   "outputs": [],
   "source": [
    "mean(examples.dice['sum to 9'].sample(10000))"
   ]
  },
  {
   "cell_type": "markdown",
   "metadata": {
    "slideshow": {
     "slide_type": "slide"
    }
   },
   "source": [
    "## Example\n",
    "\n",
    "What are the chances the sum will be greater than or equal to 7?"
   ]
  },
  {
   "cell_type": "code",
   "execution_count": null,
   "metadata": {
    "collapsed": false,
    "slideshow": {
     "slide_type": "skip"
    }
   },
   "outputs": [],
   "source": [
    "%%capture\n",
    "examples.dice['sum geq 7'] = dice.dice_example(event_spec = lambda ij: ij[0]+ij[1]>=7)\n"
   ]
  },
  {
   "cell_type": "code",
   "execution_count": null,
   "metadata": {
    "collapsed": false,
    "slideshow": {
     "slide_type": "slide"
    }
   },
   "outputs": [],
   "source": [
    "examples.dice['sum geq 7']"
   ]
  },
  {
   "cell_type": "markdown",
   "metadata": {
    "slideshow": {
     "slide_type": "fragment"
    }
   },
   "source": [
    "There are 21 outcomes whose sum is greater than or equal to 7. Therefore, the chances are $\\frac{21}{36}=\\frac{7}{12}$."
   ]
  },
  {
   "cell_type": "code",
   "execution_count": null,
   "metadata": {
    "collapsed": false,
    "slideshow": {
     "slide_type": "fragment"
    }
   },
   "outputs": [],
   "source": [
    "examples.dice['sum geq 7'].mass_function"
   ]
  },
  {
   "cell_type": "markdown",
   "metadata": {
    "slideshow": {
     "slide_type": "slide"
    }
   },
   "source": [
    "## Example\n",
    "\n",
    "What are the chances the summ will be less than 7?\n",
    "\n",
    "- The chances that the sum is greater than or equal to 7 are $\\frac{7}{12}$. \n",
    "Therefore, by the \"opposite\" rule, the chances are chances are \n",
    "$$1−\\frac{7}{12}=\\frac{5}{12}.$$"
   ]
  },
  {
   "cell_type": "code",
   "execution_count": null,
   "metadata": {
    "collapsed": false,
    "slideshow": {
     "slide_type": "skip"
    }
   },
   "outputs": [],
   "source": [
    "%%capture\n",
    "examples.dice['sum lt 7'] = dice.dice_example(event_spec = lambda ij: ij[0]+ij[1]<7)\n"
   ]
  },
  {
   "cell_type": "code",
   "execution_count": null,
   "metadata": {
    "collapsed": false,
    "slideshow": {
     "slide_type": "fragment"
    }
   },
   "outputs": [],
   "source": [
    "examples.dice['sum lt 7']"
   ]
  },
  {
   "cell_type": "code",
   "execution_count": null,
   "metadata": {
    "collapsed": false,
    "slideshow": {
     "slide_type": "fragment"
    }
   },
   "outputs": [],
   "source": [
    "examples.dice['sum lt 7'].mass_function"
   ]
  },
  {
   "cell_type": "markdown",
   "metadata": {
    "slideshow": {
     "slide_type": "slide"
    }
   },
   "source": [
    "## Complement of an event\n",
    "\n",
    "* Formally, the \"opposite\" rule is the rule of *complements*.\n",
    "* We write the complement of an event $E$ as $E^c$ \n",
    "$$P(\\mathrm{not} \\, E) = P(E^c).$$\n",
    "* The rule of *complements*\n",
    "   says $$P(E^c) = 1 - P(E)$$"
   ]
  },
  {
   "cell_type": "markdown",
   "metadata": {
    "slideshow": {
     "slide_type": "slide"
    }
   },
   "source": [
    "### An event $E$ and its complement $E^c$"
   ]
  },
  {
   "cell_type": "code",
   "execution_count": null,
   "metadata": {
    "collapsed": false,
    "slideshow": {
     "slide_type": "skip"
    }
   },
   "outputs": [],
   "source": [
    "%%capture\n",
    "complement = plt.figure(figsize=figsize)\n",
    "ax = complement.gca()\n",
    "ax.set_alpha(0.4)\n",
    "ax.patch.set_facecolor('#cccccc')\n",
    "E1 = cir((0.5,0.5), 0.4,\n",
    "         ec=\"black\", facecolor='yellow', lw=2, alpha=0.4)\n",
    "ax.add_patch(E1)\n",
    "\n",
    "ax.set_xticks([])\n",
    "ax.set_yticks([])\n",
    "ax.set_xlim([-0.3,1])\n",
    "ax.set_ylim([-0.3,1])\n",
    "\n",
    "t = ax.text(0.5, 0.5, '$E$', size=40, color='black', va='center', ha='center')\n",
    "t = ax.text(-0.05, -0.05, r'$E^c$', size=40, color='black', va='center', ha='center')\n",
    "complement.text(0.8, 0.04, '$S$', size=40, ha='center', va='center')"
   ]
  },
  {
   "cell_type": "code",
   "execution_count": null,
   "metadata": {
    "collapsed": false,
    "slideshow": {
     "slide_type": "fragment"
    }
   },
   "outputs": [],
   "source": [
    "complement"
   ]
  },
  {
   "cell_type": "markdown",
   "metadata": {
    "slideshow": {
     "slide_type": "slide"
    }
   },
   "source": [
    "## Properties of complements\n",
    "\n",
    "* For any event $E$, $E$ and $E^c$ are mutually exclusive.\n",
    "* For any event $E$, $S = E \\cup E^c$.\n",
    "* For any two events $A, B$ \n",
    "$$\\begin{aligned}\n",
    "     B &= B \\cap S \\\\\n",
    "     &=   B \\cap (A \\cup A^c) \\\\\n",
    "     &=   (B \\cap A) \\cup (B \\cap A^c)\n",
    "     \\end{aligned}$$ where $B \\cap A$ and $B \\cap A^c$ are mutually exclusive."
   ]
  },
  {
   "cell_type": "markdown",
   "metadata": {
    "slideshow": {
     "slide_type": "slide"
    }
   },
   "source": [
    "### Non-mutually exclusive events"
   ]
  },
  {
   "cell_type": "code",
   "execution_count": null,
   "metadata": {
    "collapsed": false,
    "slideshow": {
     "slide_type": "skip"
    }
   },
   "outputs": [],
   "source": [
    "%%capture\n",
    "partition = plt.figure(figsize=figsize)\n",
    "ax = partition.gca()\n",
    "# add a circle\n",
    "E1 = cir((0.5,0.5), 0.4,ec=\"black\", facecolor='yellow',lw=2, alpha=0.4)\n",
    "E2 = cir((0.2,0.2), 0.4,ec=\"black\", facecolor='blue',lw=2, alpha=0.4)\n",
    "ax.text(0.35,0.35, r'$B \\cap A$', va='center', ha='center', fontsize=15)\n",
    "ax.text(0.10,0.10, r'$B \\cap A^c$', va='center', ha='center', fontsize=15)\n",
    "ax.add_patch(E1)\n",
    "ax.add_patch(E2)\n",
    "ax.set_xticks([])\n",
    "ax.set_yticks([])\n",
    "ax.set_xlim([-0.3,1])\n",
    "ax.set_ylim([-0.3,1])"
   ]
  },
  {
   "cell_type": "code",
   "execution_count": null,
   "metadata": {
    "collapsed": false,
    "slideshow": {
     "slide_type": "fragment"
    }
   },
   "outputs": [],
   "source": [
    "partition"
   ]
  },
  {
   "cell_type": "markdown",
   "metadata": {
    "slideshow": {
     "slide_type": "slide"
    }
   },
   "source": [
    "### Using complements\n",
    "\n",
    "* For the `small` box, if we draw with replacement, what are the chances it will take less than 5 draws to draw 1st blue marble?\n",
    "* If $E$={takes less than 5 draws to draw 1st blue marble}, then \n",
    "$$\\begin{aligned}\n",
    "     E^c &=\\{\\text{takes 5 or more draws to draw 1st blue marble}\\} \\\\\n",
    "     &=\\{\\text{first 4 draws are red}\\} \\\\\n",
    "     \\end{aligned}$$\n",
    "* By independence, $$\n",
    "     P(\\text{first 4 draws are red}) = \\left(\\frac{2}{5}\\right)^4\n",
    "     $$\n",
    "* Therefore, $$P(\\text{takes less than 5 draws to draw 1st blue marble}) = 1 -  \\left(\\frac{2}{5}\\right)^4 = 97\\%$$"
   ]
  },
  {
   "cell_type": "markdown",
   "metadata": {
    "slideshow": {
     "slide_type": "slide"
    }
   },
   "source": [
    "## Bayes’ theorem\n",
    "\n",
    "- Credited to [Reverend Thomas Bayes](http://en.wikipedia.org/wiki/Thomas_Bayes)\n",
    "- The foundation of important sub-branch of statistics: *Bayesian statistics.*\n",
    "- Given two events $A$ and $B$ $$\\begin{aligned}\n",
    "     P(A \\vert B) &= \\frac{P(B \\, \\mathrm{and} \\,  A)}{P(B)} \\\\\n",
    "     &= \\frac{P(A \\cap B)}{P(B)} \\\\\n",
    "     &= \\frac{P(B \\vert A)\\times P(A)}{P(B)}\n",
    "     \\end{aligned}$$\n",
    "- The formula is a direct consequence of the multiplication rule.\n",
    "- Even though it is used in *Bayesian statistics*, it is just part of \n",
    "the calculus of probability so even non-Bayesians use it."
   ]
  },
  {
   "cell_type": "markdown",
   "metadata": {
    "slideshow": {
     "slide_type": "slide"
    }
   },
   "source": [
    "### Alternate versions\n",
    "\n",
    "* By the properties of complements $$\\begin{aligned}\n",
    "     P(B) &= P(B \\cap A) + P(B \\cap A^c) \\\\\n",
    "     &=  P(B \\vert A) \\times P(A) + P(B \\vert A^c) \\times P(A^c)\n",
    "     \\end{aligned}$$\n",
    "* Another version of Bayes’ theorem $$\\begin{aligned}\n",
    "     P(A \\vert B) &= \\frac{P(B \\vert A) \\times P(A)}{P(B \\vert A) \\times P(A) + P(B \\vert A^c) \\times P(A^c)     } \\\\\n",
    "     \\end{aligned}$$"
   ]
  },
  {
   "cell_type": "markdown",
   "metadata": {
    "slideshow": {
     "slide_type": "slide"
    }
   },
   "source": [
    "## Drawing marbles without replacement from `small` box\n",
    "\n",
    "* Let $$\\begin{aligned}\n",
    "     A&=\\{\\text{draw a red marble on first draw}\\} \\\\\n",
    "     B&=\\{\\text{draw a blue marble on second draw}\\} \\\\\n",
    "     \\end{aligned}$$\n",
    "     **Compute $P(A \\vert B)$.**\n",
    "\n",
    "* What do we know? $$\\begin{aligned}\n",
    "     P(A) &= \\frac{2}{5} \\\\\n",
    "     P(B \\vert A) &= \\frac{3}{4} \\\\\n",
    "     \\end{aligned}$$\n",
    "\n",
    "* We need $$P(B) = P(B \\vert A) \\times P(A) + P(B \\vert A^c) \\times P(A^c).$$\n",
    "\n",
    "\n",
    "* Note that $A^c=\\{\\text{draw a blue marble on first draw}\\}$.\n",
    "* We know $$\\begin{aligned}\n",
    "     P(A^c) &= \\frac{3}{5} \\\\\n",
    "     P(B \\vert A^c) &= \\frac{1}{2} \\\\\n",
    "     \\end{aligned}$$\n",
    "* Therefore, $$\\begin{aligned}\n",
    "     P(B) &= \\frac{3}{4} \\times \\frac{2}{5}  + \\frac{1}{2} \\times \\frac{3}{5} = \\frac{3}{10}     \\\\\n",
    "     P(A \\vert B) &= \\frac{ \\frac{3}{4} \\times \\frac{2}{5}}{\\frac{3}{4} \\times \\frac{2}{5}  + \\frac{1}{2} \\times \\frac{3}{5}} = \\frac{1}{2}\n",
    "     \\end{aligned}$$"
   ]
  },
  {
   "cell_type": "markdown",
   "metadata": {
    "slideshow": {
     "slide_type": "slide"
    }
   },
   "source": [
    "## Diagnostic testing\n",
    "\n",
    "* Suppose a patient from some population is tested for a disease based on some diagnostic test.\n",
    "* The prevalence of the disease is 0.1% in the population.\n",
    "* If a patient has the disease, the test result is positive with probability 95 %. (*True positive*\n",
    "  )\n",
    "* If a patient does not have the disease, the test result is positive with probability 1 %. (*False positive*\n",
    "  ).\n",
    "* What is the probability a patient has the disease given a positive test result? What if the false positive rate were 0.1%?"
   ]
  },
  {
   "cell_type": "markdown",
   "metadata": {
    "slideshow": {
     "slide_type": "fragment"
    }
   },
   "source": [
    "\n",
    "* Let $$\\begin{aligned}\n",
    "     D &= \\{\\text{patient has disease}\\}     \\\\\n",
    "     T^+ &= \\{\\text{test result is positive}\\}     \\\\\n",
    "     \\end{aligned}$$\n",
    "* We are given $$\\begin{aligned}\n",
    "     P(D) &= 0.001 \\\\\n",
    "     P(T^+ \\vert D) &= 0.95 \\\\\n",
    "     P(T^+ \\vert D^c) &= 0.01 \\\\\n",
    "     \\end{aligned}$$\n",
    "* We want to compute $P(D \\vert T^+)$.\n",
    "\n",
    "* By Bayes’ theorem $$\\begin{aligned}\n",
    "     P(D \\vert T^+) &= \\frac{P(T^+ \\vert D) \\times P(D)}{P(T^+ \\vert D) \\times P(D) + P(T^+ \\vert D^c) \\times P(D^c)} \\\\\n",
    "     &= \\frac{0.95 \\times 0.001}{0.95 \\times 0.001 + 0.01 \\times 0.999} \\\\\n",
    "     &= 8.7 \\%\n",
    "     \\end{aligned}$$\n",
    "* If the test makers improve their false positive rate to 0.001 then $$\\begin{aligned}\n",
    "     P(D \\vert T^+)\n",
    "     &= \\frac{0.95 \\times 0.001}{0.95 \\times 0.001 + 0.001 \\times 0.999} \\\\\n",
    "     &= 48.7 \\%\n",
    "     \\end{aligned}$$"
   ]
  }
 ],
 "metadata": {
  "celltoolbar": "Slideshow",
  "kernelspec": {
   "display_name": "Python 2",
   "language": "python",
   "name": "python2"
  },
  "language_info": {
   "codemirror_mode": {
    "name": "ipython",
    "version": 2
   },
   "file_extension": ".py",
   "mimetype": "text/x-python",
   "name": "python",
   "nbconvert_exporter": "python",
   "pygments_lexer": "ipython2",
   "version": "2.7.11"
  }
 },
 "nbformat": 4,
 "nbformat_minor": 0
}

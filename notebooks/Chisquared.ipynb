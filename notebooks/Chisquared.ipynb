{
 "cells": [
  {
   "cell_type": "code",
   "execution_count": null,
   "metadata": {
    "collapsed": false,
    "slideshow": {
     "slide_type": "skip"
    }
   },
   "outputs": [],
   "source": [
    "%matplotlib inline\n",
    "import matplotlib.pyplot as plt\n",
    "import numpy as np\n",
    "from scipy.stats import chi2\n",
    "from pylab import fill_between\n",
    "\n",
    "# stats60 specific\n",
    "figsize = (8,8)"
   ]
  },
  {
   "cell_type": "markdown",
   "metadata": {
    "slideshow": {
     "slide_type": "slide"
    }
   },
   "source": [
    "\n",
    "## Is the roulette game fair?\n",
    "\n",
    "* In an earlier example, we considered the question about whether a roulette wheel was rigged based on the results from betting in  RED.\n",
    "* We came up with a test of \"rigged\" or \"not rigged\" based on one bet on the wheel.\n",
    "* But, we could have looked at more than just this bet, we could have looked at all of the outcomes.\n",
    "* Tests like this are called \"goodness of fit\" tests."
   ]
  },
  {
   "cell_type": "markdown",
   "metadata": {
    "slideshow": {
     "slide_type": "slide"
    }
   },
   "source": [
    "## A simpler example than roulette\n",
    "\n",
    "* Suppose we have a die and we want to\n",
    "decide whether it is fair or not.\n",
    "\n",
    "* We roll the die 60 times. These are the outcomes:"
   ]
  },
  {
   "cell_type": "code",
   "execution_count": null,
   "metadata": {
    "collapsed": false,
    "slideshow": {
     "slide_type": "skip"
    }
   },
   "outputs": [],
   "source": [
    "%%capture\n",
    "from ipy_table import make_table\n",
    "data_table = make_table([('Value', 'Observed'), (1,4), (2,6), (3,17), (4,16), (5,8), (6,9), ('Total', 60)])"
   ]
  },
  {
   "cell_type": "code",
   "execution_count": null,
   "metadata": {
    "collapsed": false,
    "slideshow": {
     "slide_type": "fragment"
    }
   },
   "outputs": [],
   "source": [
    "data_table"
   ]
  },
  {
   "cell_type": "markdown",
   "metadata": {
    "slideshow": {
     "slide_type": "fragment"
    }
   },
   "source": [
    "\n",
    "* Looks like the number of 3's and 4's might be a little high (though\n",
    "we already decided we were going to form this test...)"
   ]
  },
  {
   "cell_type": "markdown",
   "metadata": {
    "slideshow": {
     "slide_type": "slide"
    }
   },
   "source": [
    "## Comparing to expected\n",
    "\n",
    "* We can add another column: the expected\n",
    "counts **if the die is fair**.\n",
    "* This is the null hypothesis: $H_0: \\text{die is fair}$."
   ]
  },
  {
   "cell_type": "code",
   "execution_count": null,
   "metadata": {
    "collapsed": false,
    "slideshow": {
     "slide_type": "skip"
    }
   },
   "outputs": [],
   "source": [
    "%%capture\n",
    "data_table2 = make_table([('Value', 'Observed', 'Expected'), (1,4,10), (2,6,10), (3,17,10), (4,16,10), (5,8,10), (6,9,10), ('Total', 60,60)])"
   ]
  },
  {
   "cell_type": "code",
   "execution_count": null,
   "metadata": {
    "collapsed": false,
    "slideshow": {
     "slide_type": "fragment"
    }
   },
   "outputs": [],
   "source": [
    "data_table2"
   ]
  },
  {
   "cell_type": "markdown",
   "metadata": {
    "slideshow": {
     "slide_type": "slide"
    }
   },
   "source": [
    "## Comparison to expected\n",
    "\n",
    "* If the die is unfair, the expected\n",
    "counts in some cells might be higher or lower.\n",
    "\n",
    "* We use the square of the difference instead of the difference.\n",
    "  "
   ]
  },
  {
   "cell_type": "code",
   "execution_count": null,
   "metadata": {
    "collapsed": false,
    "slideshow": {
     "slide_type": "skip"
    }
   },
   "outputs": [],
   "source": [
    "%%capture\n",
    "data_table3 = make_table([('Value', 'Observed', 'Expected', '(Observed - Expected)^2'), \n",
    "                          (1,4,10, '(4-10)^2=36'), \n",
    "                          (2,6,10, '(6-10)^2=16'), \n",
    "                          (3,17,10, '(17-10)^2=49'), \n",
    "                          (4,16,10, '(16-10)^2=36'), \n",
    "                          (5,8,10, '(8-10)^2=4'), \n",
    "                          (6,9,10, '(9-10)^2=1'), ('Total', 60,60, '' )])"
   ]
  },
  {
   "cell_type": "code",
   "execution_count": null,
   "metadata": {
    "collapsed": false,
    "slideshow": {
     "slide_type": "fragment"
    }
   },
   "outputs": [],
   "source": [
    "data_table3"
   ]
  },
  {
   "cell_type": "markdown",
   "metadata": {
    "slideshow": {
     "slide_type": "slide"
    }
   },
   "source": [
    "## Pearson's $X^2$ statistic\n",
    "\n",
    "* To get an overall test, we combine the rows into *Pearson’s $X^2$*\n",
    "   $$\n",
    "   \\begin{aligned}\n",
    "X^2 &= \\sum_i \\frac{\\text{(observed[i]-expected[i])}^2}{\\text{expected[i]}}\\\\\n",
    " &= \\sum_i \\frac{(O_i-E_i)^2}{E_i}\\\\\n",
    "\\end{aligned}\n",
    "$$\n",
    "* In our die example,\n",
    "$$\n",
    "\\begin{aligned}\n",
    "X^2 &= \\frac{36}{10} + \\frac{16}{10} + \\frac{49}{10} + \\frac{36}{10} + \\frac{4}{10} + \\frac{1}{10} \\\\\n",
    "&= \\frac{142}{10} \\\\\n",
    "&= 14.2\n",
    "\\end{aligned}\n",
    "$$\n",
    "\n",
    "* Is this big, or could the statistic be this big by chance?"
   ]
  },
  {
   "cell_type": "code",
   "execution_count": null,
   "metadata": {
    "collapsed": false,
    "slideshow": {
     "slide_type": "skip"
    }
   },
   "outputs": [],
   "source": [
    "%%capture\n",
    "\n",
    "def tail_chi2(observed, df, upper_lim=None):\n",
    "    if upper_lim is None:\n",
    "        upper_lim = 10*df\n",
    "\n",
    "    X = np.linspace(1.e-10, upper_lim, 201)\n",
    "    D = chi2.pdf(X, df)\n",
    "    fig = plt.figure(figsize=(6,6))\n",
    "    ax = fig.gca()\n",
    "    ax.plot(X, D, 'k', linewidth=5)\n",
    "    cutoff = chi2.ppf(0.95, df)\n",
    "    x = np.linspace(cutoff, upper_lim, 501)\n",
    "    ax.fill_between(x, 0, chi2.pdf(x, df), hatch='\\\\', facecolor='green', label='5% cutoff',\n",
    "                    alpha=0.5)\n",
    "    x = np.linspace(observed, upper_lim, 501)\n",
    "    ax.fill_between(x, 0, chi2.pdf(x, df), hatch='\\\\', facecolor='red', label='observed',\n",
    "                    alpha=0.5)\n",
    "    ax.set_xlabel('$\\chi^2$ units', fontsize=15)\n",
    "    ax.set_ylabel('Percent per $\\chi^2$ units', fontsize=15)\n",
    "    ax.set_xlim([0, upper_lim])\n",
    "    ax.legend(loc='upper right')\n",
    "    return fig, ax\n",
    "\n",
    "die_fig, die_ax = tail_chi2(14.2, 5, upper_lim=20)"
   ]
  },
  {
   "cell_type": "markdown",
   "metadata": {
    "slideshow": {
     "slide_type": "slide"
    }
   },
   "source": [
    "### What are the chances?"
   ]
  },
  {
   "cell_type": "code",
   "execution_count": null,
   "metadata": {
    "collapsed": false,
    "slideshow": {
     "slide_type": "fragment"
    }
   },
   "outputs": [],
   "source": [
    "die_fig"
   ]
  },
  {
   "cell_type": "markdown",
   "metadata": {
    "slideshow": {
     "slide_type": "fragment"
    }
   },
   "source": [
    "\n",
    "The $\\chi^2_5$ probability histogram, the <font color='red'> red area </font> is 1.4%.\n",
    "The <font color=\"green\"> green area </font> is the 5% rejection rule for $\\chi^2_5$."
   ]
  },
  {
   "cell_type": "markdown",
   "metadata": {
    "slideshow": {
     "slide_type": "slide"
    }
   },
   "source": [
    "## What was that last histogram?\n",
    "\n",
    "* It is a new kind of probability histogram, called a $\\chi^2$ probability histogram or curve.\n",
    "* The $\\chi^2$ probability histogram or curve also has *degrees of freedom*\n",
    "   associated to it.\n",
    "* To figure out the degrees of freedom, we need a box."
   ]
  },
  {
   "cell_type": "markdown",
   "metadata": {
    "slideshow": {
     "slide_type": "slide"
    }
   },
   "source": [
    "## Degrees of freedom\n",
    "\n",
    "* Our box is [1,2,3,4,5,6].\n",
    "* Our goal is to see if our observed data fit the box. Our data is supposed to be 60 draws with replacement from our box.\n",
    "* There are 6 different objects in the box and we have an observation for each object. Maybe the degrees of freedom is 6?\n",
    "* Not quite, it is 6-1=5. Why the -1? Because when we roll 60 times, the observed counts must sum to 60 – there are only 5 free variables."
   ]
  },
  {
   "cell_type": "markdown",
   "metadata": {
    "slideshow": {
     "slide_type": "slide"
    }
   },
   "source": [
    "## The $\\chi^2$ curve\n",
    "\n",
    "* Even if the die is fair, the $X^2$ statistic will have some variability in it.\n",
    "* The $\\chi^2_5$ probability histogram describes this variability under $${H_0: \\text{the die is fair}}.$$\n",
    "* The 1.4% is the  $P$-value, or the observed significance level.\n",
    "* It is the probability we would observe a $X^2$ statistic as large as our observed  value\n",
    "   if ${H_0}$ is true.\n",
    "* **It is not the probability $H_0$ is true.**\n",
    "  "
   ]
  },
  {
   "cell_type": "markdown",
   "metadata": {
    "slideshow": {
     "slide_type": "slide"
    }
   },
   "source": [
    "### $\\chi^2$ curves"
   ]
  },
  {
   "cell_type": "code",
   "execution_count": null,
   "metadata": {
    "collapsed": false,
    "slideshow": {
     "slide_type": "skip"
    }
   },
   "outputs": [],
   "source": [
    "%%capture\n",
    "df5_fig, df5_ax = tail_chi2(chi2.ppf(0.95,5), 5, upper_lim=20)\n",
    "df5_ax.set_title(r'5%% rejection rule for $\\chi^2_5$: %0.1f' % chi2.ppf(0.95,5),\n",
    "                  fontsize=15)"
   ]
  },
  {
   "cell_type": "code",
   "execution_count": null,
   "metadata": {
    "collapsed": false,
    "slideshow": {
     "slide_type": "fragment"
    }
   },
   "outputs": [],
   "source": [
    "df5_fig"
   ]
  },
  {
   "cell_type": "code",
   "execution_count": null,
   "metadata": {
    "collapsed": false,
    "slideshow": {
     "slide_type": "skip"
    }
   },
   "outputs": [],
   "source": [
    "%%capture\n",
    "df10_fig, df10_ax = tail_chi2(chi2.ppf(0.95,10), 10, upper_lim=30)\n",
    "df10_ax.set_title(r'5%% rejection rule for $\\chi^2_{10}: %0.1f$' % chi2.ppf(0.95,10),\n",
    "                  fontsize=15)"
   ]
  },
  {
   "cell_type": "code",
   "execution_count": null,
   "metadata": {
    "collapsed": false,
    "slideshow": {
     "slide_type": "slide"
    }
   },
   "outputs": [],
   "source": [
    "df10_fig"
   ]
  },
  {
   "cell_type": "markdown",
   "metadata": {
    "slideshow": {
     "slide_type": "slide"
    }
   },
   "source": [
    "## Using the $\\chi^2$ test\n",
    "\n",
    "* A general rule of thumb: every expected value should be 5 or more for the $\\chi^2$ curve to approximate the probability histogram of the $X^2$ statistic.\n",
    "* Would not apply to 100 draws from the box below:"
   ]
  },
  {
   "cell_type": "code",
   "execution_count": null,
   "metadata": {
    "collapsed": false,
    "slideshow": {
     "slide_type": "fragment"
    }
   },
   "outputs": [],
   "source": [
    "box = [0,1,2,3] + [4]*96"
   ]
  },
  {
   "cell_type": "markdown",
   "metadata": {
    "slideshow": {
     "slide_type": "slide"
    }
   },
   "source": [
    "## Difference between $\\chi^2$ test and $z$ test\n",
    "\n",
    "* The $z$ test is a statement about the average of the box.\n",
    "* The $\\chi^2$ is a test whether the observed data follow the box model.\n",
    "* If there are only two values in the box, then the $\\chi^2$ test is identical to the (two-sided) $z$ test."
   ]
  },
  {
   "cell_type": "markdown",
   "metadata": {
    "slideshow": {
     "slide_type": "slide"
    }
   },
   "source": [
    "## Example\n",
    "\n",
    "* Suppose the box is `[A,A,B,B,B]`.\n",
    "* In 100 draws with replacement, we observe 46 `A`’s (and 54 `B`’s).\n",
    "* The $X^2$ test statistic is \n",
    "$$X^2 = \\frac{(46-40)^2}{40} + \\frac{(54-60)^2}{60} = 1.5$$\n",
    "* The $z$ statistic for testing $H_0:$ the expected proportion of `A`’s = 0.4 is\n",
    "$$z = \\frac{0.46-0.40}{\\sqrt{0.4 \\times 0.6} / \\sqrt{100}} = 1.224$$\n",
    "* Finally, $z^2 = (1.224)^2 = 1.5$. This is not a coincidence..."
   ]
  },
  {
   "cell_type": "code",
   "execution_count": null,
   "metadata": {
    "collapsed": false,
    "slideshow": {
     "slide_type": "skip"
    }
   },
   "outputs": [],
   "source": [
    "%%capture\n",
    "df1_fig, df1_ax = tail_chi2(chi2.ppf(0.95, 1), 1, upper_lim=5)\n",
    "df1_ax.set_title(r'5%% rejection rule for $\\chi^2_{1}: %0.2f$' % chi2.ppf(0.95,1),\n",
    "                  fontsize=15)\n",
    "df1_ax.set_ylim([0,.3])"
   ]
  },
  {
   "cell_type": "code",
   "execution_count": null,
   "metadata": {
    "collapsed": false,
    "slideshow": {
     "slide_type": "slide"
    }
   },
   "outputs": [],
   "source": [
    "df1_fig"
   ]
  },
  {
   "cell_type": "code",
   "execution_count": null,
   "metadata": {
    "collapsed": false,
    "slideshow": {
     "slide_type": "fragment"
    }
   },
   "outputs": [],
   "source": [
    "1.96**2, chi2.ppf(0.95,1)"
   ]
  },
  {
   "cell_type": "markdown",
   "metadata": {
    "slideshow": {
     "slide_type": "slide"
    }
   },
   "source": [
    "## Structure of a $\\chi^2$ test\n",
    "\n",
    "### Basic Data \n",
    "\n",
    "- The number of draws, $N$ and the resulting draws.\n",
    "\n",
    "- Data: \n",
    "\n",
    "Value | Observed Count\n",
    "----|----\n",
    "  1 | 4\n",
    "  2 | 6\n",
    "  3 | 17\n",
    "  4 | 16\n",
    "  5 | 8\n",
    "  6 | 9\n",
    "  Total | 60 (=$N$)\n",
    "\n",
    "- Box: [1,2,3,4,5,6]\n",
    "\n",
    "- Degrees of freedom: In our example, this was 5 which was the number of \"free parameters.\" Call this number\n",
    "`df`. This number is 5 in our example.\n",
    "\n",
    "- $P$-value: Computed using the $\\chi^2_{df}$ curve. This was about 1.4% in our example."
   ]
  },
  {
   "cell_type": "markdown",
   "metadata": {
    "slideshow": {
     "slide_type": "slide"
    }
   },
   "source": [
    "## Testing independence: another $\\chi^2$ test\n",
    "\n",
    "### Handedness and gender\n",
    "\n",
    "* Data example from book:\n",
    " \n",
    "Handedness   | Male | Female\n",
    "-------------|------|-------\n",
    "Right        | 934  | 1070\n",
    "Left         | 113  | 92\n",
    "Ambidextrous | 20   | 8\n",
    "\n",
    "* Is handedness related to gender (or not)?"
   ]
  },
  {
   "cell_type": "markdown",
   "metadata": {
    "slideshow": {
     "slide_type": "slide"
    }
   },
   "source": [
    "## Marginal totals\n",
    "\n",
    "* There are both \"row totals\" and \"column totals\", these are called *marginals*.\n",
    "   \n",
    "\n",
    "Handedness   | Male | Female | Total(Handedness)\n",
    "-------------|------|--------|----------\n",
    "Right        | 934  | 1070   | 2004\n",
    "Left         | 113  | 92     | 205\n",
    "Ambidextrous | 20   | 8      |   28\n",
    "Total(Gender)| 1067 | 1170   | 2237\n"
   ]
  },
  {
   "cell_type": "markdown",
   "metadata": {
    "slideshow": {
     "slide_type": "slide"
    }
   },
   "source": [
    "## Test of independence\n",
    "\n",
    "* The null hypothesis is  **$H_0$: handedness is independent from gender.**\n",
    "* This means that the probability a person (drawn at random) from the population is, say, a left-handed male, is the product of two probabilities: the probability a person is left-handed and the probability a person is male.\n",
    "* Or, \n",
    "$$P(\\text{left-handed and male}) = P(\\text{left-handed}) \\times P(\\text{male})$$"
   ]
  },
  {
   "cell_type": "markdown",
   "metadata": {
    "slideshow": {
     "slide_type": "slide"
    }
   },
   "source": [
    "## Expected value under $H_0$\n",
    "\n",
    "* Having specified the box, we can express ${H_0}$ via some equalities about the tickets in the box: $$\\begin{aligned}\n",
    "       p_{L,M} &= p_L \\times p_M \\\\\n",
    "       p_{R,M} &= p_R \\times p_M \\\\\n",
    "       p_{A,M} &= p_A \\times p_M \\\\\n",
    "       p_{L,F} &= p_L \\times p_F \\\\\n",
    "       p_{R,F} &= p_R \\times p_F \\\\\n",
    "       p_{A,F} &= p_A \\times p_F \\\\\n",
    "       \\end{aligned}$$\n",
    "* Some of these equalities are redundant. This affects the degrees of freedom."
   ]
  },
  {
   "cell_type": "markdown",
   "metadata": {
    "slideshow": {
     "slide_type": "slide"
    }
   },
   "source": [
    "## Idea behind the test of independence\n",
    "\n",
    "* If $H_0$ is true, the observed counts should follow a similar structure: the proportion of left-handed males should be close to the proportion of left-handed females, etc.\n",
    "* This is our model for the Expected\n",
    "   or $E$ part of the $\\chi^2$ statistic which we use to construct the frequency table.\n",
    "* The sample proportion of men is  48%\n",
    "  , the sample proportion of left-handed is  9.2%\n",
    "  .\n",
    "* Under $H_0$, the independence model, we estimate that, in a sample of size 2237, we would see $2237 \\times 0.48 \\times 0.092 \\approx 98$ left handed males."
   ]
  },
  {
   "cell_type": "markdown",
   "metadata": {
    "slideshow": {
     "slide_type": "slide"
    }
   },
   "source": [
    "## Expected counts under $H_0$\n",
    "\n",
    "* Continuing for all 6 cases yields a table of \"Expected Counts\"\n",
    "\n",
    "\n",
    "\n",
    "\n",
    "Handedness   | Male | Female | Total(Handedness)\n",
    "-------------|------|--------|----------\n",
    "Right        | 956  | 1048   | 2004\n",
    "Left         | 98   | 107    | 205\n",
    "Ambidextrous | 13   | 15     |   28\n",
    "Total(Gender)| 1067 | 1170   | 2237\n",
    "\n"
   ]
  },
  {
   "cell_type": "markdown",
   "metadata": {
    "slideshow": {
     "slide_type": "slide"
    }
   },
   "source": [
    "## Computing the $X^2$ statistic\n",
    "\n",
    "* The $X^2$ statistic is computed in exactly the same way $\\begin{aligned}\n",
    "           \\chi^2 &= \\frac{(934-956)^2}{956} + \\frac{(1070-1048)^2}{1048} +\n",
    "            \\frac{(113-98)^2}{98} \\\\\n",
    "           & \\qquad +  \\frac{(92-107)^2}{107} + \\frac{(20-13)^2}{13} + \\frac{(8-15)^2}{15}  \\\\\n",
    "           &\\approx 12\n",
    "         \\end{aligned}$\n",
    "* In symbols, $\\chi^2 = \\sum_{i=1}^3 \\sum_{j=1}^2 \\frac{(O_{ij}-E_{ij})^2}{E_{ij}}$"
   ]
  },
  {
   "cell_type": "markdown",
   "metadata": {
    "slideshow": {
     "slide_type": "slide"
    }
   },
   "source": [
    "### Degrees of freedom and $P$-value\n",
    "\n",
    "* This leaves the last two parts of the $\\chi^2$ test: degrees of freedom and the $P$-value.\n",
    "* The degrees of freedom for this test are actually only 2. This can be seen in the difference table\n",
    "* \n",
    "\n",
    "\n",
    "Handedness   | Male | Female | Total(Handedness)\n",
    "-------------|------|--------|----------\n",
    "Right        | -22  | 22     | 0\n",
    "Left         | 15   | -15    | 0\n",
    "Ambidextrous | 7    | 7      | 0\n",
    "Total(Gender)| 0    | 0      | 0\n",
    "\n",
    "\n",
    "* By construction all the marginal totals of the difference table are 0. So, we can only set two of the values freely."
   ]
  },
  {
   "cell_type": "markdown",
   "metadata": {
    "slideshow": {
     "slide_type": "slide"
    }
   },
   "source": [
    "### $\\chi^2_2$ probability histogram"
   ]
  },
  {
   "cell_type": "code",
   "execution_count": null,
   "metadata": {
    "collapsed": false,
    "slideshow": {
     "slide_type": "skip"
    }
   },
   "outputs": [],
   "source": [
    "%%capture\n",
    "df2_fig, df2_ax = tail_chi2(chi2.ppf(0.95, 2), 2, upper_lim=8)\n",
    "df2_ax.set_title(r'5%% rejection rule for $\\chi^2_{2}: %0.1f$' % chi2.ppf(0.95,2),\n",
    "                  fontsize=15)\n",
    "df2_ax.set_ylim([0,.3])"
   ]
  },
  {
   "cell_type": "code",
   "execution_count": null,
   "metadata": {
    "collapsed": false,
    "slideshow": {
     "slide_type": "fragment"
    }
   },
   "outputs": [],
   "source": [
    "df2_fig"
   ]
  },
  {
   "cell_type": "markdown",
   "metadata": {
    "slideshow": {
     "slide_type": "fragment"
    }
   },
   "source": [
    "At level 5%, we reject the independence null hypothesis and conclude\n",
    "that handedness is related to gender (in this population)."
   ]
  },
  {
   "cell_type": "markdown",
   "metadata": {
    "slideshow": {
     "slide_type": "slide"
    }
   },
   "source": [
    "## Tests of independence in two-way tables\n",
    "\n",
    "- We could have looked at a different table. The table\n",
    "may have more than 2 columns or three rows.\n",
    "\n",
    "- For example, instead of gender\n",
    "we might have looked at sexual orientation (even though handedness may not be an\n",
    "interesting question). This would add more columns to our table.\n",
    "\n",
    "- In general, we might have a $R \\times C$ table with $R$ categories\n",
    "in the rows and $C$ categories in the columns.\n",
    "\n",
    "- The calculation of the $X^2$ is identical:\n",
    "     \n",
    "\n",
    "- The degrees of freedom is $(R-1)*(C-1)$."
   ]
  },
  {
   "cell_type": "markdown",
   "metadata": {
    "slideshow": {
     "slide_type": "slide"
    }
   },
   "source": [
    "## Details of the calculations\n",
    "\n",
    "- Let $O[i,j]$ be the observations and\n",
    "$$\n",
    "N = \\sum_{i=1}^R \\sum_{j=1}^C O[i,j]\n",
    "$$\n",
    "- Compute marginal proportions\n",
    "$$\n",
    "\\begin{aligned}\n",
    "\\pi_R[i] &= \\frac{\\sum_{j=1}^C O[i,j]}{N} \n",
    "\\pi_C[j] &= \\frac{\\sum_{i=1}^R O[i,j]}{N} \\\\\n",
    "\\end{aligned}\n",
    "$$\n",
    "- Compute expected values\n",
    "$$\n",
    "E[i,j] = N \\pi_R[i] \\pi_C[j].\n",
    "$$\n",
    "- The statistic:\n",
    "$$\n",
    "\\sum_{i=1}^R \\sum_{j=1}^C \\frac{\\left(O[i,j] - E[i,j]\\right)^2}{E[i,j]}.\n",
    "$$\n",
    "- Compute chances with $\\chi^2_{(R-1)*(C-1)}$ curve."
   ]
  }
 ],
 "metadata": {
  "celltoolbar": "Slideshow",
  "kernelspec": {
   "display_name": "Python 2",
   "language": "python",
   "name": "python2"
  },
  "language_info": {
   "codemirror_mode": {
    "name": "ipython",
    "version": 2
   },
   "file_extension": ".py",
   "mimetype": "text/x-python",
   "name": "python",
   "nbconvert_exporter": "python",
   "pygments_lexer": "ipython2",
   "version": "2.7.11"
  }
 },
 "nbformat": 4,
 "nbformat_minor": 0
}

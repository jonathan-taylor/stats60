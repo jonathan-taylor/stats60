{
 "cells": [
  {
   "cell_type": "markdown",
   "metadata": {
    "slideshow": {
     "slide_type": "slide"
    }
   },
   "source": [
    "# Tail area $\\chi^2$ table"
   ]
  },
  {
   "cell_type": "code",
   "execution_count": null,
   "metadata": {
    "collapsed": false,
    "slideshow": {
     "slide_type": "skip"
    }
   },
   "outputs": [],
   "source": [
    "%%capture\n",
    "%matplotlib inline\n",
    "from pylab import fill_between\n",
    "import matplotlib.pyplot as plt\n",
    "import numpy as np\n",
    "from scipy.stats import chi2 as chidist\n",
    "\n",
    "def tail_chi():\n",
    "    df = 20\n",
    "    X = np.linspace(0,50,101)\n",
    "    D = chidist.pdf(X, df)\n",
    "    fig = plt.figure(figsize=(6,6))\n",
    "    ax = fig.gca()\n",
    "    ax.plot(X, D, 'k', linewidth=5)\n",
    "    X = chidist.ppf(0.95,20)\n",
    "    x = np.linspace(X,45,201)\n",
    "    ax.fill_between(x, 0, chidist.pdf(x, df), facecolor='gray')\n",
    "    ax.set_xlabel(r'$\\chi^2$ units', fontsize=15)\n",
    "    ax.set_ylabel(r'Percent per $\\chi^2$ units', fontsize=15)\n",
    "    ax.set_ylim([0,.09])\n",
    "    ax.annotate('Area\\n(%/unit): top row in table\\n 5%', xy=(X+4, 0.5 * chidist.pdf(X+4, df)),\n",
    "               arrowprops=dict(facecolor='red'), xytext=(X-10,0.06),\n",
    "               fontsize=15)\n",
    "    ax.annotate('Quantile: entries in table, (%0.2f for df=20)' % X, xy=(X, 0),\n",
    "               arrowprops=dict(facecolor='red'), xytext=(X,-0.02),\n",
    "               fontsize=15)\n",
    "    ax.set_xlim([0,50])\n",
    "    return fig\n",
    "\n",
    "with plt.xkcd():\n",
    "    fig = tail_chi()"
   ]
  },
  {
   "cell_type": "code",
   "execution_count": null,
   "metadata": {
    "collapsed": false,
    "slideshow": {
     "slide_type": "fragment"
    }
   },
   "outputs": [],
   "source": [
    "fig"
   ]
  },
  {
   "cell_type": "code",
   "execution_count": null,
   "metadata": {
    "collapsed": false,
    "slideshow": {
     "slide_type": "skip"
    }
   },
   "outputs": [],
   "source": [
    "from ipy_table import make_table\n",
    "qs = [0.99,0.95,0.9,0.7,0.5,0.3,0.1,0.05,0.01]\n",
    "dfs = np.arange(1,21)\n",
    "tail = ([['df'] + ['%0.1f' % (100*q) for q in qs]] +\n",
    "        [[df] + ['%0.2f' % chidist.ppf(1-q, df) for q in qs] for df in dfs])\n",
    "Chi_Table = make_table(tail)\n",
    "tex_table = r'''\n",
    "\\begin{tabular}{c|c|c|c|c|c|c|c|c|c}\n",
    "%s\n",
    "\\end{tabular}\n",
    "''' % '\\n'.join( [' & ' .join([str(s) for s in r]) + r' \\\\'  for r in tail])\n",
    "file('tail_table_chi.tex', 'w').write(tex_table)"
   ]
  },
  {
   "cell_type": "code",
   "execution_count": null,
   "metadata": {
    "collapsed": false,
    "slideshow": {
     "slide_type": "fragment"
    }
   },
   "outputs": [],
   "source": [
    "Chi_Table"
   ]
  },
  {
   "cell_type": "code",
   "execution_count": null,
   "metadata": {
    "collapsed": false,
    "slideshow": {
     "slide_type": "skip"
    }
   },
   "outputs": [],
   "source": [
    "%%capture\n",
    "import os\n",
    "if not os.path.exists('tail_chi.pdf'):\n",
    "    fig = tail_chi()\n",
    "    fig.savefig('tail_chi.pdf')"
   ]
  },
  {
   "cell_type": "code",
   "execution_count": null,
   "metadata": {
    "collapsed": false
   },
   "outputs": [],
   "source": []
  }
 ],
 "metadata": {
  "kernelspec": {
   "display_name": "Python 2",
   "language": "python",
   "name": "python2"
  },
  "language_info": {
   "codemirror_mode": {
    "name": "ipython",
    "version": 2
   },
   "file_extension": ".py",
   "mimetype": "text/x-python",
   "name": "python",
   "nbconvert_exporter": "python",
   "pygments_lexer": "ipython2",
   "version": "2.7.11"
  }
 },
 "nbformat": 4,
 "nbformat_minor": 0
}

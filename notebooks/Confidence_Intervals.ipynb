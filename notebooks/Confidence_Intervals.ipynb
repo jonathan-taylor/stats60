{
 "cells": [
  {
   "cell_type": "code",
   "execution_count": null,
   "metadata": {
    "collapsed": false,
    "slideshow": {
     "slide_type": "skip"
    }
   },
   "outputs": [],
   "source": [
    "%matplotlib inline\n",
    "import matplotlib.pyplot as plt\n",
    "import numpy as np\n",
    "from numpy import mean, sqrt, std\n",
    "from scipy.stats import norm as ndist\n",
    "\n",
    "# stats60 specific\n",
    "from code.probability import Sample\n",
    "from code.week1 import standardize_left, normal_curve\n",
    "figsize = (8,8)"
   ]
  },
  {
   "cell_type": "markdown",
   "metadata": {
    "slideshow": {
     "slide_type": "slide"
    }
   },
   "source": [
    "## A more realistic picture\n",
    "\n",
    "* In practice, when a poll is carried out, we don’t know how many `B` or `R`\n",
    "there are in the population.\n",
    "\n",
    "* Taking a sample of size 500, say, gives us information on 500 of this population.\n",
    "* Our goal, as statisticians, is to give the politicians some idea of the *true*\n",
    "   proportion of `B` vs. `R` \n",
    "   in the box\n",
    "\n",
    "* This is our first true *statistics*\n",
    "   problem...\n",
    "   \n"
   ]
  },
  {
   "cell_type": "markdown",
   "metadata": {
    "slideshow": {
     "slide_type": "slide"
    }
   },
   "source": [
    "## Box we will poll: 57% support Gov. Brown\n",
    "\n",
    "- But we don't know which are his supporters.\n",
    "\n",
    "- A sample of 1000 should estimate the percentage with an SE of\n",
    "$$\n",
    "\\sqrt{.57 * .43 / 1000.} \\approx 1.6\\%.\n",
    "$$"
   ]
  },
  {
   "cell_type": "code",
   "execution_count": null,
   "metadata": {
    "collapsed": false,
    "slideshow": {
     "slide_type": "skip"
    }
   },
   "outputs": [],
   "source": [
    "%%capture\n",
    "brown_approval = Sample(5700, 4300, 500)\n",
    "brown_approval.alpha = 0.1\n",
    "brown_approval.ptsize = 10\n",
    "brown_approval.draw(color={'R':'gray','B':'gray'})\n"
   ]
  },
  {
   "cell_type": "code",
   "execution_count": null,
   "metadata": {
    "collapsed": false,
    "slideshow": {
     "slide_type": "fragment"
    }
   },
   "outputs": [],
   "source": [
    "brown_approval.figure"
   ]
  },
  {
   "cell_type": "markdown",
   "metadata": {
    "slideshow": {
     "slide_type": "slide"
    }
   },
   "source": [
    "### Poll sample"
   ]
  },
  {
   "cell_type": "code",
   "execution_count": null,
   "metadata": {
    "collapsed": false,
    "slideshow": {
     "slide_type": "fragment"
    }
   },
   "outputs": [],
   "source": [
    "prop = brown_approval.trial(bgcolor={'R':'gray','B':'gray'},\n",
    "                            color={'R':'red','B':'blue'})\n",
    "brown_approval.figure\n"
   ]
  },
  {
   "cell_type": "markdown",
   "metadata": {
    "slideshow": {
     "slide_type": "slide"
    }
   },
   "source": [
    "## Normal approximation for estimated percentages\n",
    "\n",
    "- Estimated percentages are just averaes.\n",
    "\n",
    "- We can use the normal approximation on them: we need to know the\n",
    "**expected(estimated percentage)** and **SE(estimated percentage)**.\n",
    "\n",
    "\n",
    "- What are the chances a poll of 1000 voting age Californians would show an estimated approval rating for Brown less than 54%? (Remember, his true approval is  57% for the purposes of these notes.)"
   ]
  },
  {
   "cell_type": "code",
   "execution_count": null,
   "metadata": {
    "collapsed": false,
    "slideshow": {
     "slide_type": "skip"
    }
   },
   "outputs": [],
   "source": [
    "%%capture\n",
    "with plt.xkcd():\n",
    "    fig = plt.figure(figsize=(10,3))\n",
    "    ax = fig.gca() \n",
    "    standardize_left(54, 57, sqrt(57*43./1000), data=False, standardized=True)"
   ]
  },
  {
   "cell_type": "code",
   "execution_count": null,
   "metadata": {
    "collapsed": false,
    "slideshow": {
     "slide_type": "fragment"
    }
   },
   "outputs": [],
   "source": [
    "fig"
   ]
  },
  {
   "cell_type": "code",
   "execution_count": null,
   "metadata": {
    "collapsed": false,
    "slideshow": {
     "slide_type": "skip"
    }
   },
   "outputs": [],
   "source": [
    "%%capture\n",
    "normal_fig = plt.figure(figsize=(10,10))\n",
    "ax = normal_curve()\n",
    "interval = np.linspace(-4,-1.9,101)\n",
    "ax.fill_between(interval, 0*interval, ndist.pdf(interval), \n",
    "                hatch='+', facecolor='red')\n",
    "ax.set_title('Area is about 2.8%', fontsize=15)\n"
   ]
  },
  {
   "cell_type": "code",
   "execution_count": null,
   "metadata": {
    "collapsed": false,
    "slideshow": {
     "slide_type": "slide"
    }
   },
   "outputs": [],
   "source": [
    "normal_fig"
   ]
  },
  {
   "cell_type": "markdown",
   "metadata": {
    "slideshow": {
     "slide_type": "slide"
    }
   },
   "source": [
    "## Estimating SE when proportions unknown\n",
    "\n",
    "\n",
    "- Given a poll, we can work out the *observed*\n",
    "   proportion of 1’s. Call this \n",
    "   $$\\bbox[5px,border:2px solid orange]{\\widehat{p}} = \\text{observed proportion} = \\frac{\\text{$\\#$ B's in sample}}{\\text{$\\#$ in sample}}$$\n",
    "\n",
    "- If we knew the true proportion of Brown's supportors, say, $p$ we would use\n",
    "$$\n",
    " \\text{SE}(\\bbox[5px,border:2px solid orange]{\\widehat{p}}) \\approx  \\sqrt{\\bbox[5px,border:2px solid blue]{p} \\times (1 - \\bbox[5px,border:2px solid blue]{p})} / \\sqrt{\\text{$\\#$ in sample}}.\n",
    "$$\n",
    "\n",
    "- We do not know $p$. BUT we can **estimate** the SE of observed proportion of B’s \n",
    "$$\\begin{aligned}\n",
    "     \\text{SE}(\\bbox[5px,border:2px solid orange]{\\widehat{p}})& \\approx  \\sqrt{\\bbox[5px,border:2px solid orange]{\\widehat{p}} \\times (1 - \\bbox[5px,border:2px solid orange]{ \\widehat{p}})} / \\sqrt{\\text{$\\#$ in sample}} \\\\\n",
    "         \\end{aligned}$$\n",
    "\n",
    "- The quantity $\\sqrt{\\widehat{p} \\times (1 - \\widehat{p})}$ is an estimate of the SD of the box. \n",
    "\n",
    "     - It depends on the poll we used to estimate $\\bbox[5px,border:2px solid blue]{p}$. \n",
    "     - It is not a number because it changes with the poll.\n",
    "\n",
    "\n",
    "- We call this the **bootstrap** estimate of the SD of the box.\n",
    "\n"
   ]
  },
  {
   "cell_type": "markdown",
   "metadata": {
    "slideshow": {
     "slide_type": "slide"
    }
   },
   "source": [
    "\n",
    "## Example\n",
    "\n",
    "-  A poll is undertaken to measure Governor Brown’s job approval rating: 1000 Californians of voting age are polled, of whom 549 approve of his job performance. What is the estimated approval rating? Estimate its SE.\n",
    "\n",
    "- The estimated approval rating is 54.9%. We can estimate its SE as $$\\bbox[5px,border:2px solid red]{\\begin{aligned}\n",
    "      \\text{SE( approval rating)} & \\approx \\frac{\\sqrt{0.549 \\times 0.451} }{\\sqrt{1000}} \n",
    "     & \\approx 1.6 \\%.\n",
    "     \\end{aligned}}$$\n",
    "     \n",
    "- Note that this is *very close* to the actual SE which is $\\sqrt{.57 * .43 / 1000}$.\n",
    "\n",
    "- If we were to compute the area under the normal curve above using the *estimated SE* our answer would be almost the same!"
   ]
  },
  {
   "cell_type": "markdown",
   "metadata": {
    "slideshow": {
     "slide_type": "slide"
    }
   },
   "source": [
    "## A new statistical concept: confidence intervals\n",
    "\n",
    "- If we knew Governor Brown’s true approval rating (57%), we know that when we poll 1000 voting age Californians, we expect a 57% approval rating give or take 1.6%.\n",
    "\n",
    "- Using the normal curve, there is 95% probability that a poll of 1000 voting age Californians will yield an estimated approval rating in the interval $\\bbox[2px,border:2px solid red]{[53.8,60.2]}$. So,\n",
    "$$\n",
    "P (\\text{$\\bbox[5px,border:2px solid orange]{\\widehat{p}}$ between [53.8,60.2]}) \\approx 95\\%.\n",
    "$$\n",
    "\n",
    "- A confidence interval reverses this process: **given a poll of 1000 voting age Californians, what can we say about Governor Brown’s true approval rating?**"
   ]
  },
  {
   "cell_type": "markdown",
   "metadata": {
    "slideshow": {
     "slide_type": "slide"
    }
   },
   "source": [
    "## Reversing the picture\n",
    "\n",
    "- Recall our model \n",
    "\n",
    "$$\\text{observed proportion} =  \\text{true proportion} + \\text{chance error}.$$\n",
    "      \n",
    "- Or, \n",
    "\n",
    "$$ \\bbox[5px,border:2px solid orange]{\\widehat{p}} = \\bbox[5px,border:2px solid blue]{p} + \\text{chance error}.\n",
    "$$\n",
    "\n",
    "- We know (if we have a simple random sample):\n",
    "     - $\\text{expected}(\\bbox[5px,border:2px solid orange]{\\widehat{p}}) = E(\\bbox[5px,border:2px solid orange]{\\widehat{p}}) = \\bbox[5px,border:2px solid blue]{p}.$\n",
    "     - $\\text{SE}(\\bbox[5px,border:2px solid orange]{\\widehat{p}}) = \\sqrt{\\bbox[5px,border:2px solid blue]{p} * (1-\\bbox[5px,border:2px solid blue]{p}) / 1000}.$"
   ]
  },
  {
   "cell_type": "markdown",
   "metadata": {
    "slideshow": {
     "slide_type": "slide"
    }
   },
   "source": [
    "## Reversing the picture\n",
    "\n",
    "- The normal approximation says:\n",
    "\n",
    "$$\n",
    "   \\begin{aligned}\n",
    "   \\text{P} \\left(\\text{$\\bbox[5px,border:2px solid orange]{\\widehat{p}}$ greater than $\\bbox[5px,border:2px solid blue]{{p}} + \\frac{2\\sqrt{\\bbox[5px,border:2px solid blue]{{p}} \\times (1-\\bbox[5px,border:2px solid blue]{{p}})}}{\\sqrt{1000}}$}\\right) &\\approx 2.5\\% \\\\\n",
    "   \\text{P} \\left(\\text{$\\bbox[5px,border:2px solid orange]{\\widehat{p}}$ less than $\\bbox[5px,border:2px solid blue]{{p}} - \\frac{2\\sqrt{\\bbox[5px,border:2px solid blue]{{p}} \\times (1-\\bbox[5px,border:2px solid blue]{{p}})}}{\\sqrt{1000}}$}\\right) &\\approx 2.5\\% \\\\\n",
    "   \\end{aligned}\n",
    "   $$\n",
    "   \n",
    "- This is the same as saying                                                                                                                                                \n",
    "   $$\n",
    "   \\begin{aligned}\n",
    "   \\text{P} \\left(\\text{$\\bbox[5px,border:2px solid blue]{{p}}$ less than $\\bbox[5px,border:2px solid orange]{\\widehat{p}} - \\frac{2\\sqrt{\\bbox[5px,border:2px solid blue]{{p}} \\times (1-\\bbox[5px,border:2px solid blue]{{p}})}}{\\sqrt{1000}}$}\\right) &\\approx 2.5\\% \\\\\n",
    "   \\text{P} \\left(\\text{$\\bbox[5px,border:2px solid blue]{{p}}$ greater than $\\bbox[5px,border:2px solid orange]{\\widehat{p}} + \\frac{2\\sqrt{\\bbox[5px,border:2px solid blue]{{p}} \\times (1-\\bbox[5px,border:2px solid blue]{{p}})}}{\\sqrt{1000}}$}\\right) &\\approx 2.5\\% \\\\\n",
    "   \\end{aligned}\n",
    "   $$\n",
    "   \n",
    "- Or,\n",
    "in other words,\n",
    "   $$\n",
    "   \\begin{aligned}\n",
    "   \\text{P} \\left(\\text{$\\bbox[5px,border:2px solid blue]{{p}}$ between $\\bbox[5px,border:2px solid orange]{\\widehat{p}} \\pm \\frac{2\\sqrt{\\bbox[5px,border:2px solid blue]{{p}} \\times (1-\\bbox[5px,border:2px solid blue]{{p}})}}{\\sqrt{1000}}$}\\right) &\\approx 95\\% \\\\\n",
    "   \\end{aligned}\n",
    "   $$   \n",
    "   \n",
    "- If we knew $\\bbox[2px,border:2px solid blue]{p}$ we would have an interval on the right based on the  observed proportion\n",
    "   that says something about  true proportion.\n",
    "\n",
    "- But we don't know $\\bbox[2px,border:2px solid blue]{p}$."
   ]
  },
  {
   "cell_type": "markdown",
   "metadata": {
    "slideshow": {
     "slide_type": "slide"
    }
   },
   "source": [
    "## Our first confidence interval\n",
    "\n",
    "- Since we don't know $\\bbox[2px,border:2px solid blue]{p}$, we can't compute \n",
    "$SE(\\widehat{p})$.\n",
    "\n",
    "- We use the **boostrap estimate** instead.\n",
    "\n",
    "- We call the interval:\n",
    "$$\n",
    "\\bbox[2px,border:2px solid red]{\n",
    "\\left[\\widehat{p} - \\frac{2\\sqrt{\\widehat{p}(1-\\widehat{p})}}{\\sqrt{1000}},                                                                                            \n",
    "    \\widehat{p} + \\frac{2\\sqrt{\\widehat{p}(1-\\widehat{p})}}{\\sqrt{1000}}\\right] }\n",
    "$$\n",
    "an (approximate) 95% confidence interval for the true proportion  $\\bbox[2px,border:2px solid blue]{p}$.\n",
    " \n",
    "- We emphasize that this depends only on the estimated proportion and not the true proportion:\n",
    "$$\n",
    "\\bbox[2px,border:2px solid red]{\n",
    "\\left[\\bbox[2px,border:2px solid orange]{\\widehat{p}} - \\frac{2\\sqrt{\\bbox[2px,border:2px solid orange]{\\widehat{p}}(1-\\bbox[2px,border:2px solid orange]{\\widehat{p}})}}{\\sqrt{1000}},   \n",
    "\\bbox[2px,border:2px solid orange]{\\widehat{p}} + \\frac{2\\sqrt{\\bbox[2px,border:2px solid orange]{\\widehat{p}}(1-\\bbox[2px,border:2px solid orange]{\\widehat{p}})}}{\\sqrt{1000}} \\right] }\n",
    "$$\n",
    "\n",
    "- The chances that the true $\\bbox[2px,border:2px solid blue]{p}$ is in this  random interval\n",
    "   are about 95%.\n",
    "   \n",
    "- **Note:**\n",
    "   I will often drop the *approximate*\n",
    "   when we talk about confidence intervals."
   ]
  },
  {
   "cell_type": "markdown",
   "metadata": {
    "slideshow": {
     "slide_type": "slide"
    }
   },
   "source": [
    "## Example\n",
    "\n",
    "- Find a 95% confidence interval for Governor Brown’s approval rating given 549 out of 1000 voting age Californians polled approved of his job performance.\n",
    "\n",
    "\n",
    "         We already saw the estimated SE of the proportion \n",
    "         was approximately 1.6%.\n",
    "         \n",
    "         A 95% confidence interval is therefore: \n",
    "         \n",
    " $$\\bbox[5px,border:2px solid red]{[54.9-2 \\times 1.6, 54.9+2\\times 1.6] = [51.7,58.1]}$$\n",
    " \n",
    "- This interval does include the 57% (which is his  true approval).\n",
    "We say this interval \"covers\" the true proportion. \n",
    "\n",
    "- Not all 95% confidence intervals do: only about 95% of them do.\n",
    "\n",
    "- Recall the other interval we computed $[53.8,60.2]$: this was an interval in which there is a 95% probability the  observed proportion\n",
    "   would be in if the  true proportion\n",
    "   was  57%.\n",
    "- These intervals are different: one is based on an  observed proportion, the other is based on a box model with the true proportion known to be 57%."
   ]
  },
  {
   "cell_type": "markdown",
   "metadata": {
    "slideshow": {
     "slide_type": "slide"
    }
   },
   "source": [
    "### An illustration of confidence intervals"
   ]
  },
  {
   "cell_type": "code",
   "execution_count": null,
   "metadata": {
    "collapsed": false,
    "slideshow": {
     "slide_type": "skip"
    }
   },
   "outputs": [],
   "source": [
    "%%capture\n",
    "from random import sample as random_sample\n",
    "\n",
    "def interval(approval, nsample=1000):\n",
    "    prop = np.array(random_sample(approval, nsample)).mean()\n",
    "    SE = np.sqrt(prop * (1 - prop) / nsample)\n",
    "    return 100 * (prop-2*SE), 100 * (prop+2*SE)\n",
    "\n",
    "def confidence_intervals(num_intervals=100, true_proportion=.57,\n",
    "                         npop=100000,\n",
    "                         nsample=1000):\n",
    "    blue = int(npop*true_proportion)\n",
    "    approval = [0] * (npop-blue) + [1] * blue\n",
    "\n",
    "    confidence_intervals = plt.figure(figsize=figsize)\n",
    "    ax = confidence_intervals.gca()\n",
    "    intervals = []\n",
    "    missed = 0\n",
    "    for i in range(num_intervals):\n",
    "        L, U = interval(approval, nsample=nsample)\n",
    "        in_interval = (L <= 100*true_proportion) * (U >= 100*true_proportion)\n",
    "        if in_interval:\n",
    "            plt.plot([L,U], [i,i], color='gray', linewidth=2)\n",
    "        else:\n",
    "            missed += 1\n",
    "            ax.plot([L,U], [i,i], color='red', linewidth=5)\n",
    "        \n",
    "\n",
    "    ax.plot([100*true_proportion]*2,[0,num_intervals], 'k--', linewidth=4)\n",
    "    ax.set_yticks([])\n",
    "    ax.set_ylabel('Different polls of size 1000', rotation='vertical', fontsize=15)\n",
    "    ax.set_xlabel('Percent who support Governorn Brown', fontsize=15)\n",
    "    ax.set_title(\"# covering %0.2d%%=%d, # not covering %0.2d%%=%d\" % (round(100*true_proportion),\n",
    "                                                                     num_intervals-missed,\n",
    "                                                                     round(100*true_proportion),\n",
    "                                                                     missed))"
   ]
  },
  {
   "cell_type": "code",
   "execution_count": null,
   "metadata": {
    "collapsed": false,
    "slideshow": {
     "slide_type": "fragment"
    }
   },
   "outputs": [],
   "source": [
    "confidence_intervals()"
   ]
  },
  {
   "cell_type": "markdown",
   "metadata": {
    "slideshow": {
     "slide_type": "fragment"
    }
   },
   "source": [
    "- The  true proportion\n",
    " doesn’t change for each poll.\n",
    " \n",
    "- The interval changes with each poll. \n",
    "\n",
    "- **The confidence intervals are random.**\n",
    "\n",
    "\n",
    "- Each  random interval\n",
    " either covers  true proportion\n",
    " or not."
   ]
  },
  {
   "cell_type": "markdown",
   "metadata": {},
   "source": [
    "## Interpreting a confidence interval\n",
    "\n",
    "- Recall that our confidence interval above was $[51.7,58.1]$.\n",
    "\n",
    "- It is a 95% confidence interval, but what does that mean?\n",
    "\n",
    "- It is tempting to say\n",
    "\n",
    "         There is a 95% chance that the true proportion\n",
    "         of Brown supporters is in the interval [51.7,58.1].\n",
    "         \n",
    "- **This is wrong!**\n",
    "\n",
    "- Either the true proportion (57%) is in the interval $[51.7,58.1]$ or it\n",
    "is not. In this case, it happens to be in the interval.\n",
    "\n",
    "- The 95% refers to making more intervals: if we go back and sample another\n",
    "1000 voters, and form intervals each time. Then, over many repetitions\n",
    "of this process 95% of the intervals will contain 57%."
   ]
  }
 ],
 "metadata": {
  "celltoolbar": "Slideshow",
  "kernelspec": {
   "display_name": "Python 2",
   "language": "python",
   "name": "python2"
  },
  "language_info": {
   "codemirror_mode": {
    "name": "ipython",
    "version": 2
   },
   "file_extension": ".py",
   "mimetype": "text/x-python",
   "name": "python",
   "nbconvert_exporter": "python",
   "pygments_lexer": "ipython2",
   "version": "2.7.11"
  }
 },
 "nbformat": 4,
 "nbformat_minor": 0
}

{
 "cells": [
  {
   "cell_type": "code",
   "execution_count": null,
   "metadata": {
    "collapsed": false,
    "slideshow": {
     "slide_type": "skip"
    }
   },
   "outputs": [],
   "source": [
    "%matplotlib inline\n",
    "%load_ext rpy2.ipython\n",
    "import matplotlib.pyplot as plt\n",
    "import numpy as np\n",
    "from numpy import mean, sqrt, std, fabs\n",
    "\n",
    "# stats60 specific\n",
    "from code import roulette\n",
    "from code.probability import Normal, SampleMean, Uniform\n",
    "from code.utils import sample_density\n",
    "figsize = (8,8)"
   ]
  },
  {
   "cell_type": "markdown",
   "metadata": {
    "slideshow": {
     "slide_type": "slide"
    }
   },
   "source": [
    "## Measurement models and draws from a box\n",
    "\n",
    "- We have seen how to deal with average from a box.\n",
    "- Not all measurements in reality fit this model, so our SE rules do not apply.\n",
    "- Examples for which our rule does not apply:\n",
    "     - [Population of U.S.](http://www.census.gov/popclock/) by year: it is always increasing.\n",
    "     - Daily max temperature in Palo Alto: there is a seasonal trend in it."
   ]
  },
  {
   "cell_type": "code",
   "execution_count": null,
   "metadata": {
    "collapsed": false,
    "slideshow": {
     "slide_type": "slide"
    }
   },
   "outputs": [],
   "source": [
    "%%R -h 800 -w 800\n",
    "PA.temp <- read.table('http://stats191.stanford.edu/data/paloaltoT.table', header=F, skip=2)\n",
    "plot(PA.temp[,3], xlab='Day', ylab='Average Max Temp (F)', pch=23, bg='orange')"
   ]
  },
  {
   "cell_type": "markdown",
   "metadata": {
    "slideshow": {
     "slide_type": "slide"
    }
   },
   "source": [
    "## Gauss model\n",
    "\n",
    "- The Gauss model assume that each measurement has the form\n",
    "\n",
    "         measurement = true value + chance error\n",
    "         \n",
    "      \n",
    "- When the Gauss model holds, taking a measurement corresponds to drawing from an  error box and adding a  true value.\n",
    "\n",
    "- If the measurement is biased, the Gauss model is\n",
    "\n",
    "\n",
    "         measurement = bias + true value\n",
    "                       + chance error\n"
   ]
  },
  {
   "cell_type": "markdown",
   "metadata": {
    "slideshow": {
     "slide_type": "slide"
    }
   },
   "source": [
    "## Sampling from the Gauss model\n",
    "\n",
    "- Suppose we observe a sample of $n$ draws $[X_1, \\dots, X_n]$ from the Gauss model.\n",
    "- Then, $$\\begin{aligned}\n",
    "       E(\\bar{X}) &= \\text{true value} \\\\\n",
    "       \\text{SE}(X_1) &= \\text{SE(one draw from error box)} \\\\\n",
    "       \\text{SE}(\\bar{X}) &= \\frac{1}{\\sqrt{n}}  \\text{SE(one draw from error box)}\n",
    "       \\end{aligned}$$\n",
    "- A reasonable estimate of $\\text{SE}(\\bar{X})$ is\n",
    "$$\n",
    "\\text{SE}(\\bar{X}) \\approx \\frac{1}{\\sqrt{n}} \\text{SD}([X_1, \\dots, X_n]).\n",
    "$$\n",
    "\n",
    "- If you know the SE from previous data, use the true SE rather than the bootstrap estimate."
   ]
  },
  {
   "cell_type": "markdown",
   "metadata": {
    "slideshow": {
     "slide_type": "slide"
    }
   },
   "source": [
    "## No box, no inference\n",
    "\n",
    "- If you can’t accurately describe your chance process as drawing from a box you can’t use these formulae for SE because they were all based on drawing from a box.\n",
    "- Example: suppose that you have some problem with your computer and instead of inserting the draw from a box only once in your list, it inserts it twice. \n",
    "- Suppose the box is [1,3,5,7] and you observe $[1,1,3,3,5,5]$. The usual estimate for the SE for a sum of 6 draws will yield an estimated SD(box) of \n",
    "of \n",
    "$$\\widehat{\\text{SD(box)}} = \\sqrt{\\frac{1}{6} (2 \\times (-2)^2 + 2 \\times 0^2 + 2 \\times 2^2)} = 1.63$$\n",
    "- The bootstrap rule for estimating  SE(sum of 6 draws from box)\n",
    "   will yield $$\\widehat{\\text{SE(sum of 6 draws)}} = \\sqrt{6} \\times 1.63 = \\sqrt{6} \\times \\sqrt{\\frac{16}{6}} = 4.$$"
   ]
  },
  {
   "cell_type": "markdown",
   "metadata": {
    "slideshow": {
     "slide_type": "slide"
    }
   },
   "source": [
    "## Example (continued)\n",
    "\n",
    "- ** But**, the sum of these 6 draws is actually like twice the sum of 3 draws. So its SE is $$2 \\times \\sqrt{3} \\times  \\text{SD(box)} = 2 \\times \\sqrt{3} \\times \\sqrt{8} = 5.65$$\n",
    "- So we will have underestimated the actual SE.\n",
    "- This is not an artifact of only taking 6 draws.\n",
    "- Ignoring the duplicates will yield an estimate that is too small by a factor of $1/\\sqrt{2}$.\n",
    "- The normal approximation will still hold for the sum of draws with duplicates, but we will have the wrong SE.\n",
    "- Our confidence intervals will be too small!"
   ]
  },
  {
   "cell_type": "markdown",
   "metadata": {
    "slideshow": {
     "slide_type": "slide"
    }
   },
   "source": [
    "## A special case of the Gauss model\n",
    "\n",
    "- A special case of the Gauss model is when the errors\n",
    "follow a normal curve.\n",
    "\n",
    "- The normal curve is also called the *Gaussian* distribution.\n",
    "\n",
    "- The book does not assume the errors follow the normal curve, but\n",
    "tells you when they do.\n",
    "\n",
    "- I often use the Gaussian distribution in the Gauss model and the Gauss model interchangeably."
   ]
  },
  {
   "cell_type": "code",
   "execution_count": null,
   "metadata": {
    "collapsed": false,
    "slideshow": {
     "slide_type": "fragment"
    }
   },
   "outputs": [],
   "source": [
    "true_value = 3\n",
    "SE_error_box = 2\n",
    "normal_model = Normal(true_value, SE_error_box)\n",
    "print normal_model.trial()\n",
    "mean(normal_model.sample(2000)), std(normal_model.sample(2000))"
   ]
  },
  {
   "cell_type": "code",
   "execution_count": null,
   "metadata": {
    "collapsed": false,
    "slideshow": {
     "slide_type": "skip"
    }
   },
   "outputs": [],
   "source": [
    "%%capture\n",
    "normal_model_fig = plt.figure(figsize=figsize)\n",
    "ax = sample_density(normal_model.sample(15000), bins=30, facecolor='orange')[0]\n",
    "ax.set_title('True value = 3, normal error box SE = 2')"
   ]
  },
  {
   "cell_type": "code",
   "execution_count": null,
   "metadata": {
    "collapsed": false,
    "slideshow": {
     "slide_type": "slide"
    }
   },
   "outputs": [],
   "source": [
    "normal_model_fig"
   ]
  },
  {
   "cell_type": "markdown",
   "metadata": {
    "slideshow": {
     "slide_type": "slide"
    }
   },
   "source": [
    "## Sample averages with normal errors\n",
    "\n",
    "- A sample of any size has a normal histogram if the errors\n",
    "in the box follow the normal curve."
   ]
  },
  {
   "cell_type": "code",
   "execution_count": null,
   "metadata": {
    "collapsed": false,
    "slideshow": {
     "slide_type": "fragment"
    }
   },
   "outputs": [],
   "source": [
    "sample_mean = SampleMean(normal_model, 3)\n",
    "sample_mean.trial()"
   ]
  },
  {
   "cell_type": "code",
   "execution_count": null,
   "metadata": {
    "collapsed": false,
    "slideshow": {
     "slide_type": "fragment"
    }
   },
   "outputs": [],
   "source": [
    "std(sample_mean.sample(5000)), 2 / sqrt(3)"
   ]
  },
  {
   "cell_type": "code",
   "execution_count": null,
   "metadata": {
    "collapsed": false,
    "slideshow": {
     "slide_type": "skip"
    }
   },
   "outputs": [],
   "source": [
    "%%capture\n",
    "sample_mean_fig = plt.figure(figsize=figsize)\n",
    "ax = sample_density(sample_mean.sample(15000), bins=30, facecolor='orange')[0]\n",
    "ax.set_title(r'True value = 3, sample size 3, sample mean SE = 2 / $\\sqrt{3}$')"
   ]
  },
  {
   "cell_type": "code",
   "execution_count": null,
   "metadata": {
    "collapsed": false,
    "slideshow": {
     "slide_type": "slide"
    }
   },
   "outputs": [],
   "source": [
    "sample_mean_fig"
   ]
  },
  {
   "cell_type": "markdown",
   "metadata": {
    "slideshow": {
     "slide_type": "slide"
    }
   },
   "source": [
    "## A different measurement error\n",
    "\n",
    "- Not all chance processes will have errors that follow the\n",
    "normal curve."
   ]
  },
  {
   "cell_type": "code",
   "execution_count": null,
   "metadata": {
    "collapsed": false,
    "slideshow": {
     "slide_type": "fragment"
    }
   },
   "outputs": [],
   "source": [
    "other_model = Uniform(true_value, SE_error_box)\n",
    "mean(other_model.sample(2000)), std(other_model.sample(2000))"
   ]
  },
  {
   "cell_type": "code",
   "execution_count": null,
   "metadata": {
    "collapsed": false,
    "slideshow": {
     "slide_type": "skip"
    }
   },
   "outputs": [],
   "source": [
    "%%capture\n",
    "other_model_fig = plt.figure(figsize=figsize)\n",
    "ax = sample_density(other_model.sample(15000), bins=30, facecolor='orange')[0]\n",
    "ax.set_title('True value = 3, error box SE = 2')"
   ]
  },
  {
   "cell_type": "code",
   "execution_count": null,
   "metadata": {
    "collapsed": false,
    "slideshow": {
     "slide_type": "slide"
    }
   },
   "outputs": [],
   "source": [
    "other_model_fig"
   ]
  },
  {
   "cell_type": "code",
   "execution_count": null,
   "metadata": {
    "collapsed": false,
    "slideshow": {
     "slide_type": "skip"
    }
   },
   "outputs": [],
   "source": [
    "%%capture\n",
    "other_mean = SampleMean(other_model, 3)\n",
    "other_mean_fig = plt.figure(figsize=figsize)\n",
    "ax = sample_density(other_mean.sample(15000), bins=30, facecolor='orange')[0]\n",
    "ax.set_title(r'True value = 3, sample size 3, sample mean SE = 2 / $\\sqrt{3}$')"
   ]
  },
  {
   "cell_type": "code",
   "execution_count": null,
   "metadata": {
    "collapsed": false,
    "slideshow": {
     "slide_type": "slide"
    }
   },
   "outputs": [],
   "source": [
    "other_mean_fig"
   ]
  },
  {
   "cell_type": "code",
   "execution_count": null,
   "metadata": {
    "collapsed": false,
    "slideshow": {
     "slide_type": "skip"
    }
   },
   "outputs": [],
   "source": [
    "%%capture\n",
    "other_mean = SampleMean(other_model, 20)\n",
    "other_mean_fig20 = plt.figure(figsize=figsize)\n",
    "ax = sample_density(other_mean.sample(15000), bins=30, facecolor='orange')[0]\n",
    "ax.set_title(r'True value = 3, sample size 3, sample mean SE = 2 / $\\sqrt{3}$')"
   ]
  },
  {
   "cell_type": "code",
   "execution_count": null,
   "metadata": {
    "collapsed": false,
    "slideshow": {
     "slide_type": "slide"
    }
   },
   "outputs": [],
   "source": [
    "other_mean_fig20"
   ]
  },
  {
   "cell_type": "markdown",
   "metadata": {
    "slideshow": {
     "slide_type": "slide"
    }
   },
   "source": [
    "## 2 SD rule revisited\n",
    "\n",
    "- Earlier in the quarter, we saw the 2SD rule for lists that said:\n",
    "\n",
    "        For many lists, 95% of the entries will be within 2SD(list) of\n",
    "        the average(list).\n",
    "        \n",
    "- How does that relate to the Gauss model? Suppose we make\n",
    "$n$ measurements with the Gauss model.\n",
    "\n",
    "- If the errors\n",
    "are normally distributed then this statement is true **for every $n$** if\n",
    "we replace `average(list)` with `true value` and `SD(list)` with `SE(error box)`\n",
    "\n",
    "- Even with the sample quantities, this statement holds if we take enough samples."
   ]
  },
  {
   "cell_type": "code",
   "execution_count": null,
   "metadata": {
    "collapsed": false,
    "slideshow": {
     "slide_type": "fragment"
    }
   },
   "outputs": [],
   "source": [
    "def twoSD_proportion(sample_list):\n",
    "    return mean([fabs(sample_list - mean(sample_list)) < 2 * std(sample_list)])\n",
    "twoSD_proportion(normal_model.sample(500))"
   ]
  },
  {
   "cell_type": "markdown",
   "metadata": {
    "slideshow": {
     "slide_type": "fragment"
    }
   },
   "source": [
    "It is generally conservative for small $n$, but by $n=25$ its coverage is\n",
    "pretty accurate."
   ]
  },
  {
   "cell_type": "code",
   "execution_count": null,
   "metadata": {
    "collapsed": false,
    "slideshow": {
     "slide_type": "fragment"
    }
   },
   "outputs": [],
   "source": [
    "print 'sample size 5', mean([twoSD_proportion(normal_model.sample(5)) for _ in range(1000)])\n",
    "print 'sample size 25', mean([twoSD_proportion(normal_model.sample(25)) for _ in range(1000)])"
   ]
  }
 ],
 "metadata": {
  "celltoolbar": "Slideshow",
  "kernelspec": {
   "display_name": "Python 2",
   "language": "python",
   "name": "python2"
  },
  "language_info": {
   "codemirror_mode": {
    "name": "ipython",
    "version": 2
   },
   "file_extension": ".py",
   "mimetype": "text/x-python",
   "name": "python",
   "nbconvert_exporter": "python",
   "pygments_lexer": "ipython2",
   "version": "2.7.11"
  }
 },
 "nbformat": 4,
 "nbformat_minor": 0
}

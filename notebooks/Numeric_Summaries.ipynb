{
 "cells": [
  {
   "cell_type": "code",
   "execution_count": null,
   "metadata": {
    "collapsed": false,
    "slideshow": {
     "slide_type": "skip"
    }
   },
   "outputs": [],
   "source": [
    "%matplotlib inline\n",
    "%load_ext rpy2.ipython\n",
    "import matplotlib.pyplot as plt\n",
    "import numpy as np\n",
    "import scipy.stats\n",
    "from numpy import mean, median, sqrt, std\n",
    "\n",
    "# stats60 specific\n",
    "from code.week1 import (stylized_density,\n",
    "                        SD_rule_of_thumb_normal, \n",
    "                        SD_rule_of_thumb_skewed)\n",
    "from code.week2 import pearson_lee\n",
    "from code.week1 import find_percentile\n",
    "from code.utils import sample_density\n",
    "figsize = (8,8)"
   ]
  },
  {
   "cell_type": "markdown",
   "metadata": {
    "slideshow": {
     "slide_type": "slide"
    }
   },
   "source": [
    "## Numeric summaries\n",
    "\n",
    "In the last set of notes, we saw *histograms* as a useful\n",
    "way to summarize a *sample* of numbers.\n",
    "\n",
    "In this set of notes, we will look at numeric summaries that boil\n",
    "down the histogram to a set of a few numbers.\n",
    "\n",
    "In particular, we will look at:\n",
    "    \n",
    "- **average** or **mean**;\n",
    "- **SD** and **SD+**;\n",
    "- **median**.\n",
    "    \n",
    "Along the way, we will discuss **standardized units.**"
   ]
  },
  {
   "cell_type": "markdown",
   "metadata": {
    "slideshow": {
     "slide_type": "slide"
    }
   },
   "source": [
    "## Average\n",
    "\n",
    "- ** The average of a list of numbers equals their sum, divided by how many there are. Average is also called the *mean*.**\n",
    "\n",
    "- <font color=\"#820000\">Example: Compute the average of the sample: [1,4,6,7,8].\n",
    "</font>\n",
    "\n",
    "- <font color=\"blue\">\n",
    "The answer is (1+4+6+7+8)/5 = 26/5 = 5.2\n",
    "</font>\n"
   ]
  },
  {
   "cell_type": "code",
   "execution_count": null,
   "metadata": {
    "collapsed": false,
    "slideshow": {
     "slide_type": "fragment"
    }
   },
   "outputs": [],
   "source": [
    "mean([1,4,6,7,8])"
   ]
  },
  {
   "cell_type": "markdown",
   "metadata": {
    "slideshow": {
     "slide_type": "slide"
    }
   },
   "source": [
    "### Summation notation\n",
    "\n",
    "We will sometimes use summation notation known with the greek\n",
    "symbol [\"Sigma\"](http://en.wikipedia.org/wiki/Summation).\n",
    "\n",
    "* Call our list $X=[X_1, \\dots, X_n]$.\n",
    "* We often write the sum $$X_1 + X_2 + \\dots + X_n = \\sum_{i=1}^n X_i.$$\n",
    "* The mean of a list $X = [X_1, \\dots, X_n]$ is often written as $$\\bar{X} = \\frac{1}{n} \\sum_{i=1}^n X_i.$$"
   ]
  },
  {
   "cell_type": "markdown",
   "metadata": {
    "slideshow": {
     "slide_type": "slide"
    }
   },
   "source": [
    "## Average\n",
    "\n",
    "The average can be thought of as the \"balancing point\" of the sample."
   ]
  },
  {
   "cell_type": "code",
   "execution_count": null,
   "metadata": {
    "collapsed": false,
    "slideshow": {
     "slide_type": "skip"
    }
   },
   "outputs": [],
   "source": [
    "%%capture\n",
    "hist_opts=dict(align='mid', color='#820000', \n",
    "       normed=False, histtype='stepfilled')\n",
    "\n",
    "with plt.xkcd():\n",
    "    average_fig = plt.figure(figsize=(7,7))\n",
    "    a = plt.gca()\n",
    "    data = [1,4,6,7,8]\n",
    "    a.hist(data, bins=np.linspace(0,10,101), **hist_opts) \n",
    "    annotation = a.annotate('Balance point', xy=(np.mean(data), 0),\n",
    "                  arrowprops=dict(facecolor='black'), xytext=(np.mean(data),-0.2),\n",
    "                  fontsize=30,\n",
    "                  horizontalalignment='center')\n",
    "    a.set_yticks([])\n",
    "    a.set_ylim([0,1.2])"
   ]
  },
  {
   "cell_type": "code",
   "execution_count": null,
   "metadata": {
    "collapsed": false,
    "slideshow": {
     "slide_type": "fragment"
    }
   },
   "outputs": [],
   "source": [
    "average_fig"
   ]
  },
  {
   "cell_type": "markdown",
   "metadata": {
    "slideshow": {
     "slide_type": "slide"
    }
   },
   "source": [
    "### Average as balancing point\n",
    "\n",
    "- Let's try to balance the sample [1,4,6,7,8] at some point $m$. \n",
    "\n",
    "- For each $m$, some of the sample points greater than or equal\n",
    "to $m$ while the rest are less than $m$. Call these lists $U(m), L(m)$ respectively.\n",
    "\n",
    "- <font color=\"#820000\">\n",
    "Example: Suppose $m=6.5$,  then $U(6.5) = [7,8]$ and $L(6.5) = [1,4,6]$.\n",
    "</font>\n",
    "\n",
    "- We say the sample is balanced at $m$ if \n",
    "<font color=\"#820000\">\n",
    "    sum([v-m for v in U(m)]) = sum([m-v for v in L(m)])\n",
    "</font>"
   ]
  },
  {
   "cell_type": "markdown",
   "metadata": {
    "slideshow": {
     "slide_type": "slide"
    }
   },
   "source": [
    "### Average as balancing point\n",
    "\n",
    "- **Example: Suppose `m=6.5`**  then \n",
    "   * sum([v-m for v in U(m)]) = sum([7-6.5, 8-6.5]) = 2\n",
    "   * sum([m-v for v in L(m)]) = sum([6.5-1, 6.5-4, 6.5-6] = 8.5\n",
    "\n",
    "- **Example: Suppose `m=5.2`** then \n",
    "   * sum([v-m for v in U(m)]) = sum([6-5.2, 7-5.2, 8-5.2]) = 5.4\n",
    "   * sum([m-v for v in L(m)]) = sum([5.2-4, 5.2-1]) = 5.4\n"
   ]
  },
  {
   "cell_type": "code",
   "execution_count": null,
   "metadata": {
    "collapsed": false,
    "slideshow": {
     "slide_type": "slide"
    }
   },
   "outputs": [],
   "source": [
    "annotation.set_text('Average')\n",
    "average_fig"
   ]
  },
  {
   "cell_type": "markdown",
   "metadata": {
    "slideshow": {
     "slide_type": "slide"
    }
   },
   "source": [
    "### Average of [1,4]"
   ]
  },
  {
   "cell_type": "code",
   "execution_count": null,
   "metadata": {
    "collapsed": false,
    "slideshow": {
     "slide_type": "skip"
    }
   },
   "outputs": [],
   "source": [
    "%%capture\n",
    "with plt.xkcd():\n",
    "    average_fig2 = plt.figure(figsize=figsize)\n",
    "    a = plt.gca()\n",
    "    data = [1,4]\n",
    "    a.hist(data, bins=np.linspace(0,10,101), **hist_opts)\n",
    "    a.annotate('Average', xy=(np.mean(data), 0),\n",
    "                  arrowprops=dict(facecolor='black'), xytext=(np.mean(data),-0.2),\n",
    "                  fontsize=20,\n",
    "                  horizontalalignment='center')\n",
    "    a.set_yticks([])\n",
    "    a.set_ylim([0,1.2])\n",
    "    a.set_xlim([0,5])"
   ]
  },
  {
   "cell_type": "code",
   "execution_count": null,
   "metadata": {
    "collapsed": false,
    "slideshow": {
     "slide_type": "fragment"
    }
   },
   "outputs": [],
   "source": [
    "average_fig2"
   ]
  },
  {
   "cell_type": "markdown",
   "metadata": {
    "slideshow": {
     "slide_type": "slide"
    }
   },
   "source": [
    "### Average of [1,1,1,1,4,4]"
   ]
  },
  {
   "cell_type": "code",
   "execution_count": null,
   "metadata": {
    "collapsed": false,
    "slideshow": {
     "slide_type": "skip"
    }
   },
   "outputs": [],
   "source": [
    "%%capture\n",
    "with plt.xkcd():\n",
    "    average_fig3 = plt.figure(figsize=figsize)\n",
    "    a = plt.gca()\n",
    "    data = [1]*4+[4]*2\n",
    "    a.hist(data, bins=np.linspace(0,10,101), **hist_opts)\n",
    "    a.annotate('Average', xy=(np.mean(data), 0),\n",
    "                  arrowprops=dict(facecolor='black'), \n",
    "                  xytext=(np.mean(data),-0.7),\n",
    "                  fontsize=20,\n",
    "                  horizontalalignment='center')\n",
    "    a.set_yticks([])\n",
    "    a.set_ylim([0,4.3])\n",
    "    a.set_xlim([0,5])"
   ]
  },
  {
   "cell_type": "code",
   "execution_count": null,
   "metadata": {
    "collapsed": false,
    "slideshow": {
     "slide_type": "fragment"
    }
   },
   "outputs": [],
   "source": [
    "average_fig3"
   ]
  },
  {
   "cell_type": "markdown",
   "metadata": {
    "slideshow": {
     "slide_type": "slide"
    }
   },
   "source": [
    "## Average balances the list\n",
    " \n",
    "- Another way to say that the average balances the list is:\n",
    "**the sum of the deviations from average is always zero.**\n",
    "\n",
    "\n",
    "### Example: [1,1,1,1,4,4]\n",
    "\n",
    "- The average is 2.\n",
    "- Deviations from average are [-1,-1,-1,-1,2,2].\n",
    "- Sum of deviations from average: 0. **This is always true.**\n",
    "- In $\\Sigma$ notation: for any list $[X_1, \\dots, X_n]$:\n",
    "$$\\sum_{i=1}^n (X_i - \\bar{X}) = 0.$$\n"
   ]
  },
  {
   "cell_type": "markdown",
   "metadata": {
    "slideshow": {
     "slide_type": "slide"
    }
   },
   "source": [
    "## Average balances the list"
   ]
  },
  {
   "cell_type": "code",
   "execution_count": null,
   "metadata": {
    "collapsed": false,
    "slideshow": {
     "slide_type": "fragment"
    }
   },
   "outputs": [],
   "source": [
    "data = [1,1,1,1,4,4]\n",
    "data_average = mean(data)\n",
    "data_average"
   ]
  },
  {
   "cell_type": "code",
   "execution_count": null,
   "metadata": {
    "collapsed": false,
    "slideshow": {
     "slide_type": "fragment"
    }
   },
   "outputs": [],
   "source": [
    "deviations = [d - data_average for d in data]\n",
    "deviations"
   ]
  },
  {
   "cell_type": "code",
   "execution_count": null,
   "metadata": {
    "collapsed": false,
    "slideshow": {
     "slide_type": "fragment"
    }
   },
   "outputs": [],
   "source": [
    "sum(deviations)"
   ]
  },
  {
   "cell_type": "markdown",
   "metadata": {
    "slideshow": {
     "slide_type": "slide"
    }
   },
   "source": [
    "### Lists with repeated entries\n",
    "\n",
    "* With repeats, we can think of having a \"weight\" of 4/6 at 1 and 2/6 at 4.\n",
    "\n",
    "* The weight is the area of the histogram near 4. \n",
    "    \n",
    "* Average is the weighted sum $4/6*1 + 2/6*4 = 2$.\n",
    "\n",
    "* Deviations from average is $-1=(1-2)$ at 1 and $2=(4-2)$ at 4.\n",
    "\n",
    "* Weighted sum of deviations from average: $$4/6 \\times (-1) + 2/6 \\times 2 = 0.$$\n",
    "* This is how we can compute the average of a histogram.\n"
   ]
  },
  {
   "cell_type": "markdown",
   "metadata": {
    "slideshow": {
     "slide_type": "slide"
    }
   },
   "source": [
    "## Average of a histogram\n",
    "\n",
    "- Each bar in a histogram has a midpoint $M$ and an area $A$.\n",
    "\n",
    "- The average of the histogram is \n",
    "          sum([M*A for M, A in histogram])\n",
    "    \n",
    "- When the bars get shorter and shorter this looks like the\n",
    "[midpoint rule](http://en.wikipedia.org/wiki/Rectangle_rule) for integrating\n",
    "$$\n",
    "\\int_{-\\infty}^{\\infty} u \\cdot f(u) \\; du.\n",
    "$$"
   ]
  },
  {
   "cell_type": "code",
   "execution_count": null,
   "metadata": {
    "collapsed": false,
    "slideshow": {
     "slide_type": "skip"
    }
   },
   "outputs": [],
   "source": [
    "%%capture\n",
    "hist_opts['normed'] = True\n",
    "hist_fig = plt.figure(figsize=figsize)\n",
    "a = plt.gca()\n",
    "data = np.random.beta(2,6,10000)\n",
    "a.hist(data, bins=np.linspace(0,1,21), **hist_opts)\n",
    "a.annotate('Average', xy=(np.mean(data), 0),\n",
    "           arrowprops=dict(facecolor='black'), xytext=(np.mean(data),-0.5),\n",
    "           fontsize=20)\n",
    "a.set_yticks([])\n",
    "hist_ax = a"
   ]
  },
  {
   "cell_type": "code",
   "execution_count": null,
   "metadata": {
    "collapsed": false,
    "slideshow": {
     "slide_type": "slide"
    }
   },
   "outputs": [],
   "source": [
    "hist_fig"
   ]
  },
  {
   "cell_type": "markdown",
   "metadata": {
    "slideshow": {
     "slide_type": "slide"
    }
   },
   "source": [
    "## Median\n",
    "\n",
    "- This is another summary of a sample or a histogram.\n",
    "\n",
    "- Like \n",
    "the average, it gives a quantitative *center* or *location* to the sample.\n",
    "\n",
    "\n",
    "**The median\n",
    " of a histogram is the number with half the area to the left and half the area to the right.**\n",
    " "
   ]
  },
  {
   "cell_type": "code",
   "execution_count": null,
   "metadata": {
    "collapsed": false,
    "slideshow": {
     "slide_type": "skip"
    }
   },
   "outputs": [],
   "source": [
    "hist_ax.annotate('Median', xy=(np.median(data), 0),\n",
    "               arrowprops=dict(facecolor='black'), xytext=(np.median(data)+0.1,2.5),\n",
    "               fontsize=20)"
   ]
  },
  {
   "cell_type": "code",
   "execution_count": null,
   "metadata": {
    "collapsed": false,
    "slideshow": {
     "slide_type": "slide"
    }
   },
   "outputs": [],
   "source": [
    "hist_fig"
   ]
  },
  {
   "cell_type": "markdown",
   "metadata": {
    "slideshow": {
     "slide_type": "slide"
    }
   },
   "source": [
    "### California population by age\n",
    "\n",
    "Age group | Count | Percentage\n",
    "--- | --- | ---\n",
    "0-20 | 10000000 | 29%\n",
    "20-55 | 17500000 | 17500000 / 34000000 = 52%\n",
    "55-75 | 4500000 | 13%\n",
    "75+ | 2000000 | 6%\n",
    "**Total** | 34000000 | 100 %"
   ]
  },
  {
   "cell_type": "code",
   "execution_count": null,
   "metadata": {
    "collapsed": false,
    "slideshow": {
     "slide_type": "skip"
    }
   },
   "outputs": [],
   "source": [
    "%%capture\n",
    "\n",
    "def CAdensity(figsize=(8,8)):\n",
    "    bins = [0,20,55,75,100]\n",
    "    count = [29,52,13,6]\n",
    "    hist_fig = plt.figure(figsize=(6,6))\n",
    "    data = np.array([10]*29 + [30]*52 + [60]*13 + [80.]*6)\n",
    "    hist_plot, dens, CDF = sample_density(data, bins=bins, alpha=0.5, ax=hist_fig.gca(),\n",
    "                            facecolor='gray')\n",
    "    hist_plot.set_ylabel('Percentage per year (%/year)', fontsize=20)\n",
    "    hist_plot.set_xlabel('Age (years)', fontsize=20)\n",
    "    hist_plot.set_title('California population by age groups', fontsize=22)\n",
    "    def area(a, b):\n",
    "        return np.round(100*(CDF(b) - CDF(a)), 1)\n",
    "    return hist_fig, dens, area\n",
    "\n",
    "CAhist, CAdens, CAarea = CAdensity(figsize=figsize)"
   ]
  },
  {
   "cell_type": "code",
   "execution_count": null,
   "metadata": {
    "collapsed": false,
    "slideshow": {
     "slide_type": "slide"
    }
   },
   "outputs": [],
   "source": [
    "CAhist"
   ]
  },
  {
   "cell_type": "code",
   "execution_count": null,
   "metadata": {
    "collapsed": false,
    "slideshow": {
     "slide_type": "fragment"
    }
   },
   "outputs": [],
   "source": [
    "CAmedian = 20 + (0.21 / 0.52) * (55-20) \n",
    "print ('The median is: %0.1f' % CAmedian)\n",
    "print ('The gray area between 0 and the median is: %0.1f' % CAarea(0, CAmedian))"
   ]
  },
  {
   "cell_type": "code",
   "execution_count": null,
   "metadata": {
    "collapsed": false,
    "slideshow": {
     "slide_type": "skip"
    }
   },
   "outputs": [],
   "source": [
    "%%capture\n",
    "ax = CAhist.gca()\n",
    "interval = np.linspace(0.,CAmedian,501)\n",
    "ax.fill_between(interval, 0*interval, CAdens(interval), \n",
    "                facecolor='blue', hatch='/')"
   ]
  },
  {
   "cell_type": "code",
   "execution_count": null,
   "metadata": {
    "collapsed": false,
    "slideshow": {
     "slide_type": "slide"
    }
   },
   "outputs": [],
   "source": [
    "CAhist"
   ]
  },
  {
   "cell_type": "markdown",
   "metadata": {
    "slideshow": {
     "slide_type": "fragment"
    }
   },
   "source": [
    "According to this histogram, the median age of Californians is 34.1 years.\n",
    "\n"
   ]
  },
  {
   "cell_type": "markdown",
   "metadata": {
    "slideshow": {
     "slide_type": "slide"
    }
   },
   "source": [
    "### Examples of medians of histograms\n",
    "\n",
    "\n",
    "- ** When the histogram is symmetric, the average and the median are equal. **\n",
    "\n",
    "- Let's look at a more skewed example.\n"
   ]
  },
  {
   "cell_type": "code",
   "execution_count": null,
   "metadata": {
    "collapsed": false,
    "slideshow": {
     "slide_type": "skip"
    }
   },
   "outputs": [],
   "source": [
    "%%capture\n",
    "hist_fig2 = plt.figure(figsize=figsize)\n",
    "a = plt.gca()\n",
    "data = np.random.beta(5,2.2,25000) + np.random.standard_exponential(25000)\n",
    "a.hist(data, bins=np.linspace(0,5,21), **hist_opts)\n",
    "a.annotate('Average', xy=(np.mean(data), 0),\n",
    "           arrowprops=dict(facecolor='black'), xytext=(np.mean(data),-0.1),\n",
    "           fontsize=20)\n",
    "a.set_yticks([])\n",
    "a.annotate('Median', xy=(np.median(data), 0),\n",
    "           arrowprops=dict(facecolor='black'), xytext=(np.median(data)+0.2,0.6),\n",
    "           fontsize=20)"
   ]
  },
  {
   "cell_type": "code",
   "execution_count": null,
   "metadata": {
    "collapsed": false,
    "slideshow": {
     "slide_type": "slide"
    }
   },
   "outputs": [],
   "source": [
    "hist_fig2"
   ]
  },
  {
   "cell_type": "markdown",
   "metadata": {
    "slideshow": {
     "slide_type": "slide"
    }
   },
   "source": [
    "### Median of a list of numbers\n",
    "\n",
    "Defined similarly to a histogram: put half the data on the left and half the\n",
    "data on the right.\n",
    "\n",
    "1. Sort the numbers for smallest to largest.\n",
    "2.  If the length of the list is odd, the median is the middle entry of the sorted values.\n",
    "3. Else, the median is the average of the two middle entries."
   ]
  },
  {
   "cell_type": "markdown",
   "metadata": {
    "slideshow": {
     "slide_type": "slide"
    }
   },
   "source": [
    "<h3>\n",
    "<font color=\"#820000\">\n",
    "Example: median of [1,4,2,9,8]\n",
    "</font>\n",
    "</h3>\n",
    "\n",
    "1. The sorted values are [1,2,4,8,9].\n",
    "\n",
    "2. Since the length of the list is 5, the median is the middle entry of the sorted values. **The median is 4.**\n",
    "\n",
    "<h3>\n",
    "<font color=\"#820000\">\n",
    "Example: median of [1,11,3,7,8,3]\n",
    "</font>\n",
    "</h3>\n",
    "\n",
    "1. The sorted values are [1,3,3,7,8,11].\n",
    "2. Since the length of the list is 6, the median is the average of the middle entries. **The median is (3+7)/2=5.**"
   ]
  },
  {
   "cell_type": "code",
   "execution_count": null,
   "metadata": {
    "collapsed": false,
    "slideshow": {
     "slide_type": "fragment"
    }
   },
   "outputs": [],
   "source": [
    "sorted([1,4,2,9,8]), median([1,4,2,9,8])"
   ]
  },
  {
   "cell_type": "code",
   "execution_count": null,
   "metadata": {
    "collapsed": false,
    "slideshow": {
     "slide_type": "fragment"
    }
   },
   "outputs": [],
   "source": [
    "sorted([1,11,3,7,8,3]), median([1,11,3,7,8,3])"
   ]
  },
  {
   "cell_type": "markdown",
   "metadata": {
    "slideshow": {
     "slide_type": "slide"
    }
   },
   "source": [
    "### Medians of lists vs. medians of histograms\n",
    "\n",
    "- **The median of the list of ages of all Californians might be different from 34.1. Why?**\n",
    "\n",
    "- Below is an example using the heights of mothers from Pearson's study and\n",
    "a rather coarse histogram."
   ]
  },
  {
   "cell_type": "code",
   "execution_count": null,
   "metadata": {
    "collapsed": false,
    "slideshow": {
     "slide_type": "skip"
    }
   },
   "outputs": [],
   "source": [
    "%%capture\n",
    "np.random.seed(10)\n",
    "height = pearson_lee()\n",
    "mother = height.M #+ np.random.sample(height.M.size)\n",
    "mother_fig = plt.figure(figsize=figsize)\n",
    "mother_dens = sample_density(mother, bins=5)[1]\n",
    "median_mother_hist = find_percentile(mother_dens, 0.5)\n",
    "ax = mother_fig.gca()\n",
    "ax.set_xlabel('Height (inches)', fontsize=15)\n",
    "ax.set_ylabel('Percentage per inch (%/inch)', fontsize=15)\n",
    "ax.set_title('Median of the histogram is %0.2f' % median_mother_hist, fontsize=15)"
   ]
  },
  {
   "cell_type": "code",
   "execution_count": null,
   "metadata": {
    "collapsed": false,
    "slideshow": {
     "slide_type": "slide"
    }
   },
   "outputs": [],
   "source": [
    "mother_fig"
   ]
  },
  {
   "cell_type": "markdown",
   "metadata": {
    "slideshow": {
     "slide_type": "slide"
    }
   },
   "source": [
    "But, the median of the list of mother's heights is slightly different."
   ]
  },
  {
   "cell_type": "code",
   "execution_count": null,
   "metadata": {
    "collapsed": false,
    "slideshow": {
     "slide_type": "fragment"
    }
   },
   "outputs": [],
   "source": [
    "median(mother)"
   ]
  },
  {
   "cell_type": "markdown",
   "metadata": {
    "slideshow": {
     "slide_type": "slide"
    }
   },
   "source": [
    "### Median and average\n",
    "\n",
    "- **What is the mean of [3,7,4,11,5]? The median?**\n",
    "\n",
    "- **What is the mean of [3,37,4,41,5]? The median?**\n",
    "\n",
    "- **What do these examples tell us about the mean and median?**"
   ]
  },
  {
   "cell_type": "markdown",
   "metadata": {
    "slideshow": {
     "slide_type": "fragment"
    }
   },
   "source": [
    "This tells us that the mean is more sensitive to changes away from \n",
    "the center than the median. Statisticians call this **robustness**."
   ]
  },
  {
   "cell_type": "markdown",
   "metadata": {
    "slideshow": {
     "slide_type": "slide"
    }
   },
   "source": [
    "### Symmetric histogram"
   ]
  },
  {
   "cell_type": "code",
   "execution_count": null,
   "metadata": {
    "collapsed": false,
    "slideshow": {
     "slide_type": "skip"
    }
   },
   "outputs": [],
   "source": [
    "%%capture\n",
    "with plt.xkcd():\n",
    "    symmetric = plt.figure(figsize=figsize)\n",
    "    a = plt.gca()\n",
    "    data = np.random.standard_normal(25000) + 3\n",
    "    a.hist(data, bins=np.linspace(-1,7,21), **hist_opts)\n",
    "    a.annotate('Average', xy=(np.mean(data), 0),\n",
    "               arrowprops=dict(facecolor='black'), xytext=(np.mean(data),-0.08),\n",
    "               fontsize=20)\n",
    "    a.set_yticks([])\n",
    "    a.annotate('Median', xy=(np.median(data), 0),\n",
    "               arrowprops=dict(facecolor='black'), xytext=(np.median(data)+1.5,0.2),\n",
    "               fontsize=20)\n",
    "    a.set_title(\"Symmetric histogram: average = median\", fontsize=20, color='red')"
   ]
  },
  {
   "cell_type": "code",
   "execution_count": null,
   "metadata": {
    "collapsed": false,
    "slideshow": {
     "slide_type": "fragment"
    }
   },
   "outputs": [],
   "source": [
    "symmetric"
   ]
  },
  {
   "cell_type": "code",
   "execution_count": null,
   "metadata": {
    "collapsed": false,
    "slideshow": {
     "slide_type": "skip"
    }
   },
   "outputs": [],
   "source": [
    "%%capture\n",
    "with plt.xkcd():\n",
    "    skewed_right = plt.figure(figsize=figsize)\n",
    "    a = plt.gca()\n",
    "    data = np.random.beta(5,2.2,25000) + np.random.standard_exponential(25000)\n",
    "    a.hist(data, bins=np.linspace(0,5,21), **hist_opts)\n",
    "    a.annotate('Average', xy=(np.mean(data), 0),\n",
    "               arrowprops=dict(facecolor='black'), xytext=(np.mean(data),-0.1),\n",
    "               fontsize=20)\n",
    "    a.set_yticks([])\n",
    "    a.annotate('Median', xy=(np.median(data), 0),\n",
    "               arrowprops=dict(facecolor='black'), xytext=(np.median(data)+0.2,0.6),\n",
    "               fontsize=20)\n",
    "    a.set_title(\"Skewed right histogram: average > median\", fontsize=20, color='red')"
   ]
  },
  {
   "cell_type": "code",
   "execution_count": null,
   "metadata": {
    "collapsed": false,
    "slideshow": {
     "slide_type": "slide"
    }
   },
   "outputs": [],
   "source": [
    "skewed_right"
   ]
  },
  {
   "cell_type": "code",
   "execution_count": null,
   "metadata": {
    "collapsed": false,
    "slideshow": {
     "slide_type": "skip"
    }
   },
   "outputs": [],
   "source": [
    "%%capture\n",
    "with plt.xkcd():\n",
    "    skewed_left = plt.figure(figsize=figsize)\n",
    "    a = plt.gca()\n",
    "    data = np.random.beta(5,2.2,25000) - 0.5 * np.random.standard_exponential(25000)\n",
    "    a.hist(data, bins=np.linspace(-5,2, 41), **hist_opts)\n",
    "    a.annotate('Average', xy=(np.mean(data), 0),\n",
    "               arrowprops=dict(facecolor='black'), xytext=(np.mean(data),-0.2),\n",
    "               fontsize=20)\n",
    "    a.set_yticks([])\n",
    "    a.annotate('Median', xy=(np.median(data), 0),\n",
    "               arrowprops=dict(facecolor='black'), xytext=(np.median(data)-2.2,0.6),\n",
    "               fontsize=20)\n",
    "    a.set_title(\"Skewed left histogram: average < median\", fontsize=20, color='red')"
   ]
  },
  {
   "cell_type": "code",
   "execution_count": null,
   "metadata": {
    "collapsed": false,
    "slideshow": {
     "slide_type": "slide"
    }
   },
   "outputs": [],
   "source": [
    "skewed_left"
   ]
  },
  {
   "cell_type": "markdown",
   "metadata": {
    "slideshow": {
     "slide_type": "slide"
    }
   },
   "source": [
    "## Scale or spread of a data set\n",
    "\n",
    "- Both average and median summarize the *center* or **location** of a sample.\n",
    "\n",
    "- Is this everything there is to say about a sample?"
   ]
  },
  {
   "cell_type": "code",
   "execution_count": null,
   "metadata": {
    "collapsed": false,
    "slideshow": {
     "slide_type": "skip"
    }
   },
   "outputs": [],
   "source": [
    "%%capture\n",
    "with plt.xkcd():\n",
    "    wide_fig = plt.figure(figsize=figsize)\n",
    "    X = np.random.standard_normal(5000) + 1\n",
    "    a1 = sample_density(X, bins=50, histtype='stepfilled')[0] \n",
    "    a1.set_yticks([])\n",
    "    a1.set_xlim([-2,4])\n",
    "    a1.set_title('Histogram of a sample', fontsize=20)"
   ]
  },
  {
   "cell_type": "code",
   "execution_count": null,
   "metadata": {
    "collapsed": false,
    "slideshow": {
     "slide_type": "slide"
    }
   },
   "outputs": [],
   "source": [
    "wide_fig"
   ]
  },
  {
   "cell_type": "code",
   "execution_count": null,
   "metadata": {
    "collapsed": false,
    "slideshow": {
     "slide_type": "skip"
    }
   },
   "outputs": [],
   "source": [
    "%%capture\n",
    "with plt.xkcd():\n",
    "    narrow = plt.figure(figsize=figsize)\n",
    "    Y = (X-1)*0.5 + 1\n",
    "    a = sample_density(Y, bins=50, histtype='stepfilled',\n",
    "                     facecolor='#1C2045')[0] \n",
    "    a.set_yticks([])\n",
    "    a.set_xlim([-2,4])\n",
    "    a.set_title('A sample with less spread then previous', fontsize=20)"
   ]
  },
  {
   "cell_type": "code",
   "execution_count": null,
   "metadata": {
    "collapsed": false,
    "slideshow": {
     "slide_type": "slide"
    }
   },
   "outputs": [],
   "source": [
    "narrow"
   ]
  },
  {
   "cell_type": "code",
   "execution_count": null,
   "metadata": {
    "collapsed": false,
    "slideshow": {
     "slide_type": "skip"
    }
   },
   "outputs": [],
   "source": [
    "%%capture\n",
    "with plt.xkcd():\n",
    "    f = plt.figure(figsize=figsize)\n",
    "    Y = (X-1)*0.5 + 1\n",
    "    a = sample_density(Y, bins=50, histtype='stepfilled',\n",
    "                     facecolor='#1C2045', ax=a1, alpha=0.5)[0] \n",
    "    a.set_yticks([])\n",
    "    a.set_xlim([-2,4])\n",
    "    a.set_title('Both samples have the same mean...', fontsize=20)\n"
   ]
  },
  {
   "cell_type": "code",
   "execution_count": null,
   "metadata": {
    "collapsed": false,
    "slideshow": {
     "slide_type": "slide"
    }
   },
   "outputs": [],
   "source": [
    "wide_fig"
   ]
  },
  {
   "cell_type": "code",
   "execution_count": null,
   "metadata": {
    "collapsed": false,
    "slideshow": {
     "slide_type": "skip"
    }
   },
   "outputs": [],
   "source": [
    "%%capture\n",
    "a1.set_title('But their spread is different...', fontsize=20)\n"
   ]
  },
  {
   "cell_type": "code",
   "execution_count": null,
   "metadata": {
    "collapsed": false,
    "slideshow": {
     "slide_type": "slide"
    }
   },
   "outputs": [],
   "source": [
    "wide_fig"
   ]
  },
  {
   "cell_type": "markdown",
   "metadata": {
    "slideshow": {
     "slide_type": "slide"
    }
   },
   "source": [
    "## Standard deviation\n",
    "\n",
    "### Concept:\n",
    "\n",
    "* A measure of **spread**. The larger the SD the more **spread out** the sample is.\n",
    "* The SD says how far numbers on a list are away from their average.\n",
    "* Its units are in the original units of the list.\n",
    "* It is always a positive number.\n",
    "* Most entries on the list will be somehere around one SD away from the average. Very few will be more than two or three SDs away.\n"
   ]
  },
  {
   "cell_type": "markdown",
   "metadata": {
    "slideshow": {
     "slide_type": "slide"
    }
   },
   "source": [
    "### Rules of thumb based on SD\n",
    "\n",
    "* **Roughly 68 % of the entries on a list are within one SD of the average.**\n",
    "* **Roughly 95 % of the entries on a list are within two SDs of the average.**\n",
    "* These rules hold for many data sets, not all.\n"
   ]
  },
  {
   "cell_type": "markdown",
   "metadata": {
    "slideshow": {
     "slide_type": "slide"
    }
   },
   "source": [
    "### Rules of thumb"
   ]
  },
  {
   "cell_type": "code",
   "execution_count": null,
   "metadata": {
    "collapsed": false,
    "slideshow": {
     "slide_type": "skip"
    }
   },
   "outputs": [],
   "source": [
    "%%capture\n",
    "sd_fig1 = plt.figure(figsize=figsize)\n",
    "ax_sd1 = SD_rule_of_thumb_normal(1, facecolor='gray', alpha=0.5)"
   ]
  },
  {
   "cell_type": "code",
   "execution_count": null,
   "metadata": {
    "collapsed": false,
    "slideshow": {
     "slide_type": "fragment"
    }
   },
   "outputs": [],
   "source": [
    "sd_fig1"
   ]
  },
  {
   "cell_type": "code",
   "execution_count": null,
   "metadata": {
    "collapsed": false,
    "slideshow": {
     "slide_type": "skip"
    }
   },
   "outputs": [],
   "source": [
    "%%capture\n",
    "sd_fig2 = plt.figure(figsize=figsize)\n",
    "ax_sd2 = SD_rule_of_thumb_normal(2, facecolor='gray', alpha=0.5)\n"
   ]
  },
  {
   "cell_type": "code",
   "execution_count": null,
   "metadata": {
    "collapsed": false,
    "slideshow": {
     "slide_type": "slide"
    }
   },
   "outputs": [],
   "source": [
    "sd_fig2"
   ]
  },
  {
   "cell_type": "code",
   "execution_count": null,
   "metadata": {
    "collapsed": false,
    "slideshow": {
     "slide_type": "skip"
    }
   },
   "outputs": [],
   "source": [
    "%%capture\n",
    "sd_fig3 = plt.figure(figsize=figsize)\n",
    "ax_sd1 = SD_rule_of_thumb_skewed(1, facecolor='gray', alpha=0.5)\n"
   ]
  },
  {
   "cell_type": "code",
   "execution_count": null,
   "metadata": {
    "collapsed": false,
    "slideshow": {
     "slide_type": "slide"
    }
   },
   "outputs": [],
   "source": [
    "sd_fig3"
   ]
  },
  {
   "cell_type": "code",
   "execution_count": null,
   "metadata": {
    "collapsed": false,
    "slideshow": {
     "slide_type": "skip"
    }
   },
   "outputs": [],
   "source": [
    "%%capture\n",
    "sd_fig4 = plt.figure(figsize=figsize)\n",
    "ax_sd1 = SD_rule_of_thumb_skewed(2, facecolor='gray', alpha=0.5)\n"
   ]
  },
  {
   "cell_type": "code",
   "execution_count": null,
   "metadata": {
    "collapsed": false,
    "slideshow": {
     "slide_type": "slide"
    }
   },
   "outputs": [],
   "source": [
    "sd_fig4"
   ]
  },
  {
   "cell_type": "markdown",
   "metadata": {
    "slideshow": {
     "slide_type": "slide"
    }
   },
   "source": [
    "Let's try with some of our earlier examples of continuous\n",
    "histograms."
   ]
  },
  {
   "cell_type": "code",
   "execution_count": null,
   "metadata": {
    "collapsed": false,
    "slideshow": {
     "slide_type": "skip"
    }
   },
   "outputs": [],
   "source": [
    "%%capture\n",
    "\n",
    "with plt.xkcd():\n",
    "    skew_left = plt.figure(figsize=figsize)\n",
    "    sample = list(np.random.beta(2,1, size=15000)) + list(np.random.beta(10,1.5, size=15000)) \n",
    "    stylized_density(sample, ax=skew_left.gca(), alpha=0.5, mult=1)"
   ]
  },
  {
   "cell_type": "code",
   "execution_count": null,
   "metadata": {
    "collapsed": false,
    "slideshow": {
     "slide_type": "fragment"
    }
   },
   "outputs": [],
   "source": [
    "skew_left"
   ]
  },
  {
   "cell_type": "code",
   "execution_count": null,
   "metadata": {
    "collapsed": false,
    "slideshow": {
     "slide_type": "skip"
    }
   },
   "outputs": [],
   "source": [
    "%%capture\n",
    "with plt.xkcd():\n",
    "    skew_right = plt.figure(figsize=figsize)\n",
    "    sample = list(np.random.beta(1, 2.2, size=25000)) + list(np.random.beta(1,1, size=5000)) \n",
    "    stylized_density(sample, ax=skew_right.gca(), mult=2)"
   ]
  },
  {
   "cell_type": "code",
   "execution_count": null,
   "metadata": {
    "collapsed": false,
    "slideshow": {
     "slide_type": "slide"
    }
   },
   "outputs": [],
   "source": [
    "skew_right"
   ]
  },
  {
   "cell_type": "code",
   "execution_count": null,
   "metadata": {
    "collapsed": false,
    "slideshow": {
     "slide_type": "skip"
    }
   },
   "outputs": [],
   "source": [
    "%%capture\n",
    "with plt.xkcd():\n",
    "    bimodal = plt.figure(figsize=figsize)\n",
    "    sample = (list(np.random.standard_t(40, size=50000)) + \n",
    "              list(np.random.standard_t(30, size=20000) + 5))\n",
    "    stylized_density(sample, ax=bimodal.gca(), mult=1)\n"
   ]
  },
  {
   "cell_type": "code",
   "execution_count": null,
   "metadata": {
    "collapsed": false,
    "slideshow": {
     "slide_type": "slide"
    }
   },
   "outputs": [],
   "source": [
    "bimodal"
   ]
  },
  {
   "cell_type": "markdown",
   "metadata": {
    "slideshow": {
     "slide_type": "slide"
    }
   },
   "source": [
    "### Root Mean Square"
   ]
  },
  {
   "cell_type": "markdown",
   "metadata": {
    "slideshow": {
     "slide_type": "fragment"
    }
   },
   "source": [
    "\n",
    "    r.m.s.(list) = square_root(\n",
    "                    mean([value^2 for \n",
    "                          value in list]))\n",
    "\n",
    "\n",
    "Example: `r.m.s.([0, 5, 8, -3])`\n",
    "\n",
    "1. First compute `mean([0,5^2,8^2,(-3)^2]) = mean([0,25,64,9]) = 98/4 = 24.5`.\n",
    "\n",
    "2. Take square root: $\\sqrt{24.5} \\approx 4.9$.\n",
    "\n",
    "3. **The answer is 4.9.**"
   ]
  },
  {
   "cell_type": "code",
   "execution_count": null,
   "metadata": {
    "collapsed": false,
    "slideshow": {
     "slide_type": "fragment"
    }
   },
   "outputs": [],
   "source": [
    "sqrt(mean([v**2 for v in [0,5,8,-3]]))"
   ]
  },
  {
   "cell_type": "markdown",
   "metadata": {
    "slideshow": {
     "slide_type": "slide"
    }
   },
   "source": [
    "### Root Mean Square in summation notation\n",
    "\n",
    "* Call our list $X=[X_1, \\dots, X_n]$.\n",
    "* Then, using our summation notation:\n",
    "$$\\text{r.m.s.}(X) = \\sqrt{\\frac{1}{n}\\sum_{i=1}^n X_i^2} = \\left(\\frac{1}{n}\\sum_{i=1}^n X_i^2 \\right)^{1/2}.$$"
   ]
  },
  {
   "cell_type": "markdown",
   "metadata": {
    "slideshow": {
     "slide_type": "slide"
    }
   },
   "source": [
    "### Computing the SD\n",
    "\n",
    "Now that we've learnt about the rule of thumb, let's compute the\n",
    "SD of a list.\n",
    "\n",
    "* Given a list, define \n",
    "\n",
    "      deviations from average(list) = \\\n",
    "        [entry - average(list) for entry in list]\n",
    "    \n",
    "    \n",
    "* The SD is computed as \n",
    "\n",
    "      SD(list) = r.m.s.(deviations from average(list))\n",
    "  "
   ]
  },
  {
   "cell_type": "markdown",
   "metadata": {
    "slideshow": {
     "slide_type": "slide"
    }
   },
   "source": [
    "### Computing the SD\n",
    "\n",
    "\n",
    "* In $\\Sigma$ notation: \n",
    "$$\n",
    "\\text{SD}([X_1,\\dots,X_n]) = \\sqrt{\\frac{1}{n}\\sum_{i=1}^n (X_i-\\bar{X})^2}.$$"
   ]
  },
  {
   "cell_type": "markdown",
   "metadata": {
    "slideshow": {
     "slide_type": "slide"
    }
   },
   "source": [
    "## Example: Compute SD([20,30,25,25])\n",
    "\n",
    "1. Compute the average: \n",
    "\n",
    "    average([20,30,25,25]) = (20+30+25+25)/4 = 100/4 = 25\n",
    "    \n",
    "2. Compute deviations from average:\n",
    "\n",
    "    deviations from average([20,30,25,25]) = [20-25, 30-25, 25-25, 25-25] = [-5, 5, 0, 0]\n",
    "    \n",
    "3. Compute the root mean square of this last list:\n",
    "$$\n",
    "    \\text{r.m.s.}([-5, 5, 0, 0]) = \\sqrt{((-5)^2 + 5^2 + 0^2 + 0^2)/4} = \\sqrt{50/4} \\approx 3.5 $$\n",
    "    \n",
    "4. **The answer is 3.5.**"
   ]
  },
  {
   "cell_type": "markdown",
   "metadata": {
    "slideshow": {
     "slide_type": "slide"
    }
   },
   "source": [
    "### Calculation in table form\n",
    "\n",
    "#### Step 1: Compute the average\n",
    "\n",
    "Entry | Data | Deviation | Deviation$^2$\n",
    "------|-----|-----------|---------------\n",
    "1     |  20 |           |   \n",
    "2     |  30 |           |   \n",
    "3     |  25 |           | \n",
    "4     |  25 |           | \n",
    "Total |  100\n",
    "\n",
    "**The average is 100/4 = 25.**"
   ]
  },
  {
   "cell_type": "markdown",
   "metadata": {
    "slideshow": {
     "slide_type": "slide"
    }
   },
   "source": [
    "#### Step 2: Compute the deviations and the squared deviations\n",
    "\n",
    "Entry | Data | Deviation | Deviation$^2$\n",
    "------|-----|-----------|---------------\n",
    "1     |  20 |    -5     |    25\n",
    "2     |  30 |     5     |    25\n",
    "3     |  25 |     0     |    0\n",
    "4     |  25 |     0     |    0\n",
    "Total | 100 |    (not needed, but always 0)       |    50\n",
    "\n",
    "#### Step 3: Compute the root mean square\n",
    "\n",
    "The mean square of the squared deviations is 50/4, so the root\n",
    "mean square is $\\sqrt{50/4}\\approx 3.5$."
   ]
  },
  {
   "cell_type": "code",
   "execution_count": null,
   "metadata": {
    "collapsed": false,
    "slideshow": {
     "slide_type": "slide"
    }
   },
   "outputs": [],
   "source": [
    "data = [20,30,25,25]\n",
    "data_average = mean(data)\n",
    "print 'average is:', data_average\n",
    "deviations = [value - data_average for value in data]\n",
    "print 'deviations are:', deviations\n",
    "SD = sqrt(mean([value**2 for value in deviations]))\n",
    "print 'SD is:', (SD, std(data))"
   ]
  },
  {
   "cell_type": "markdown",
   "metadata": {
    "slideshow": {
     "slide_type": "slide"
    }
   },
   "source": [
    "### SD versus SD$^+$\n",
    "\n",
    "- Some calculators (and software) compute a different version of SD than we will use.\n",
    "- The difference depends on the length of the list.\n",
    "- If the length of the list is $n$, then \n",
    "$$\n",
    "\\text{SD(list)} = \\sqrt{\\frac{n-1}{n}} \\cdot \\text{SD$^+$(list)}.\n",
    "$$\n",
    "\n",
    "- In $\\Sigma$ notation\n",
    "$$\n",
    "\\text{SD$^+$}([X_1, \\dots, X_n]) = \\sqrt{\\frac{1}{n-1}\\sum_{i=1}^n (X_i-\\bar{X})^2}.\n",
    "$$\n"
   ]
  },
  {
   "cell_type": "markdown",
   "metadata": {
    "slideshow": {
     "slide_type": "slide"
    }
   },
   "source": [
    "### Example: Compute SD$^+$([20,30,25,25]) \n",
    "\n",
    "- We already saw that \n",
    "$\\text{SD}([20,30,25,25])=\\sqrt{50/4}$.\n",
    "\n",
    "- So, by our new definition $\\text{SD}^+([20,30,25,25])=\\sqrt{50/4} \\cdot \\sqrt{4/3} = \\sqrt{50/3} \\approx 4.1$.\n",
    "\n",
    "- In small samples, there is a big difference between the two, but as the sample\n",
    "gets larger, the two quantities get closer and closer."
   ]
  },
  {
   "cell_type": "markdown",
   "metadata": {
    "slideshow": {
     "slide_type": "slide"
    }
   },
   "source": [
    "### Changing location and scale\n",
    "\n",
    "It is useful to see how `average` and `SD` change when we switch units.\n",
    "\n",
    "- Suppose you are told that the average max temperature in Palo Alto for April 1  over the last 20 years is 70F with an SD of 6F.\n",
    "The rule for converting Farhenheit to Celsius is \n",
    "$$\n",
    "T_C = \\frac{5}{9} ( T_F - 32).\n",
    "$$\n",
    "\n",
    "**What would the average and SD be if you used C (Celsius) instead?**\n",
    "\n"
   ]
  },
  {
   "cell_type": "markdown",
   "metadata": {
    "slideshow": {
     "slide_type": "slide"
    }
   },
   "source": [
    "### Example solution\n",
    "\n",
    "1. Subtracting 32F changes the mean of our list by 32, but does not change the SD. (Check this)\n",
    "\n",
    "2. Multiplying this new list by  5/9 changes the SD by a factor of 5/9. (Check this)\n",
    "\n",
    "3. **The mean in Celsius is $(70-32)*5/9\\approx 21 C$ with an SD of $6*5/9 C \\approx 3.3C$.**"
   ]
  },
  {
   "cell_type": "markdown",
   "metadata": {
    "slideshow": {
     "slide_type": "slide"
    }
   },
   "source": [
    "## Mean and SD under change of units\n",
    "\n",
    "- Suppose we have a list of 50 measurements in \"old units\"\n",
    "\n",
    "       [m_1, ..., m_50]\n",
    "\n",
    "- We want to convert to new units\n",
    "\n",
    "       [t_1, ...., t_50]\n",
    "\n",
    "- The transformation of units can be represented as:\n",
    "\n",
    "       t = a * m + b\n",
    "       "
   ]
  },
  {
   "cell_type": "markdown",
   "metadata": {
    "slideshow": {
     "slide_type": "slide"
    }
   },
   "source": [
    "## Mean and SD under change of units\n",
    "\n",
    "- The average transforms like\n",
    "\n",
    "       mean([t[i] for i in range(50)]) = \n",
    "                a * mean([m[i] for i in range(50)]) + b\n",
    "       \n",
    "- The SD transforms like:\n",
    "\n",
    "       SD([t[i] for i in range(50)]) =\n",
    "                |a| * SD([m[i] for i in range(50)])"
   ]
  }
 ],
 "metadata": {
  "celltoolbar": "Slideshow",
  "kernelspec": {
   "display_name": "Python 2",
   "language": "python",
   "name": "python2"
  },
  "language_info": {
   "codemirror_mode": {
    "name": "ipython",
    "version": 2
   },
   "file_extension": ".py",
   "mimetype": "text/x-python",
   "name": "python",
   "nbconvert_exporter": "python",
   "pygments_lexer": "ipython2",
   "version": "2.7.11"
  }
 },
 "nbformat": 4,
 "nbformat_minor": 0
}

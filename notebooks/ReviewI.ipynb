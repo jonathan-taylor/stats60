{
 "cells": [
  {
   "cell_type": "code",
   "execution_count": null,
   "metadata": {
    "collapsed": false
   },
   "outputs": [],
   "source": [
    "%matplotlib inline\n",
    "import matplotlib.pyplot as plt\n",
    "from matplotlib.mlab import csv2rec\n",
    "import numpy as np\n",
    "from numpy import mean, sqrt, std\n",
    "import matplotlib\n",
    "from scipy.stats import norm as ndist\n",
    "\n",
    "# stats60 specific\n",
    "from code.utils import (sample_density, \n",
    "                        probability_histogram)\n",
    "from code.week1 import (stylized_density, \n",
    "                        standardize_right,\n",
    "                        standardize_left,\n",
    "                        standardize_interval,\n",
    "                        CAdensity,\n",
    "                        normal_curve,\n",
    "                        SD_rule_of_thumb_normal,\n",
    "                        percentile_figure)\n",
    "from code.week2 import pearson_lee\n",
    "from code import dice\n",
    "from code.probability import (BoxModel, \n",
    "                              SampleMean, \n",
    "                              SampleSD,\n",
    "                              Binomial)\n",
    "figsize = (8,8)"
   ]
  },
  {
   "cell_type": "markdown",
   "metadata": {
    "slideshow": {
     "slide_type": "slide"
    }
   },
   "source": [
    "## Summarizing continuous data\n",
    "\n",
    "### California population by age\n",
    "\n",
    "Age group | Count | Percentage\n",
    "--- | --- | ---\n",
    "0-20 | 10000000 | 29%\n",
    "20-55 | 17500000 | 17500000 / 34000000 = 52%\n",
    "55-75 | 4500000 | 13%\n",
    "75+ | 2000000 | 6%\n",
    "**Total** | 34000000 | 100 %\n"
   ]
  },
  {
   "cell_type": "markdown",
   "metadata": {
    "slideshow": {
     "slide_type": "slide"
    }
   },
   "source": [
    "## Histogram\n",
    "\n",
    "We summarize this information graphically with a special\n",
    "type of bar graph called a **histogram.**\n",
    "\n",
    "- Area of a bar corresponds to percentage.\n",
    "- Total area (percentage) should be 100%.\n",
    "- Height of bars is called **density**.\n",
    "- Area of each bar is\n",
    "    $$\n",
    "    \\text{area of bar = (height of bar) * (width of bar) }\n",
    "    $$\n",
    "\n"
   ]
  },
  {
   "cell_type": "code",
   "execution_count": null,
   "metadata": {
    "collapsed": false,
    "slideshow": {
     "slide_type": "skip"
    }
   },
   "outputs": [],
   "source": [
    "%%capture\n",
    "def CAdensity():\n",
    "    bins = [0,20,55,75,100]\n",
    "    count = [29,52,13,6]\n",
    "    hist_fig = plt.figure(figsize=figsize)\n",
    "    data = np.array([10]*29 + [30]*52 + [60]*13 + [80.]*6)\n",
    "    hist_plot, dens, CDF = sample_density(data, bins=bins, alpha=0.5, ax=hist_fig.gca(),\n",
    "                            facecolor='gray')\n",
    "    hist_plot.set_ylabel('Percentage per year (%/year)', fontsize=20)\n",
    "    hist_plot.set_xlabel('Age (years)', fontsize=20)\n",
    "    hist_plot.set_title('California population by age groups', fontsize=22)\n",
    "    def area(a, b):\n",
    "        return np.round(100*(CDF(b) - CDF(a)), 1)\n",
    "    return hist_fig, dens, area\n",
    "\n",
    "hist_fig, CAdens, CAarea = CAdensity()"
   ]
  },
  {
   "cell_type": "code",
   "execution_count": null,
   "metadata": {
    "collapsed": false,
    "slideshow": {
     "slide_type": "slide"
    }
   },
   "outputs": [],
   "source": [
    "hist_fig"
   ]
  },
  {
   "cell_type": "markdown",
   "metadata": {
    "slideshow": {
     "slide_type": "slide"
    }
   },
   "source": [
    "### Interpreting a histogram\n",
    "\n",
    "$$\\text{Percentage in 20-55 age group} = \\left(1.5 \\, \\frac{\\%}{\\text{year}} \\right) * \\left( 35 \\, \\text{years} \\right) \\approx 52 \\%$$"
   ]
  },
  {
   "cell_type": "code",
   "execution_count": null,
   "metadata": {
    "collapsed": false,
    "slideshow": {
     "slide_type": "skip"
    }
   },
   "outputs": [],
   "source": [
    "%%capture\n",
    "hist_fig2, dens2, area2 = CAdensity()\n",
    "ax = hist_fig2.gca()\n",
    "interval = np.linspace(20.001,54.999,20)\n",
    "ax.fill_between(interval, 0*interval, dens2(interval), \n",
    "                facecolor='yellow', hatch='/')\n"
   ]
  },
  {
   "cell_type": "code",
   "execution_count": null,
   "metadata": {
    "collapsed": false,
    "slideshow": {
     "slide_type": "fragment"
    }
   },
   "outputs": [],
   "source": [
    "hist_fig2"
   ]
  },
  {
   "cell_type": "code",
   "execution_count": null,
   "metadata": {
    "collapsed": false,
    "slideshow": {
     "slide_type": "fragment"
    }
   },
   "outputs": [],
   "source": [
    "CAarea(20,55)"
   ]
  },
  {
   "cell_type": "markdown",
   "metadata": {
    "slideshow": {
     "slide_type": "slide"
    }
   },
   "source": [
    "## Histograms from a list of numbers\n",
    "\n",
    "Given a *sample*, i.e. a list of numbers $X=[X_1,..., X_n]$ \n",
    "and a set of break points $[B_1,..., B_k]$ we can form a histogram by\n",
    "computing percentages for a bin $[B_j,B_{j+1})$\n",
    "\n",
    "      percentage of numbers in X greater than our equal to B[j] \n",
    "      but less than B[j+1]\n"
   ]
  },
  {
   "cell_type": "markdown",
   "metadata": {
    "slideshow": {
     "slide_type": "fragment"
    }
   },
   "source": [
    "The following is a sample of women's heights recorded in the early 20th\n",
    "century in a study by Karl Pearson:"
   ]
  },
  {
   "cell_type": "code",
   "execution_count": null,
   "metadata": {
    "collapsed": false,
    "slideshow": {
     "slide_type": "fragment"
    }
   },
   "outputs": [],
   "source": [
    "mother = pearson_lee().M\n",
    "mother[:10]"
   ]
  },
  {
   "cell_type": "code",
   "execution_count": null,
   "metadata": {
    "collapsed": false,
    "slideshow": {
     "slide_type": "fragment"
    }
   },
   "outputs": [],
   "source": [
    "len(mother)"
   ]
  },
  {
   "cell_type": "markdown",
   "metadata": {
    "slideshow": {
     "slide_type": "slide"
    }
   },
   "source": [
    "Now, let's make some bins:"
   ]
  },
  {
   "cell_type": "code",
   "execution_count": null,
   "metadata": {
    "collapsed": false,
    "slideshow": {
     "slide_type": "fragment"
    }
   },
   "outputs": [],
   "source": [
    "binpoints = range(50,80)\n",
    "binpoints[:5]"
   ]
  },
  {
   "cell_type": "code",
   "execution_count": null,
   "metadata": {
    "collapsed": false,
    "slideshow": {
     "slide_type": "skip"
    }
   },
   "outputs": [],
   "source": [
    "%%capture\n",
    "mother_fig = plt.figure(figsize=figsize)\n",
    "sample_density(mother, bins=binpoints, facecolor='gray')\n",
    "ax = mother_fig.gca()\n",
    "ax.set_xlabel('Height (inches)', fontsize=15)\n",
    "ax.set_ylabel('Percentage per inch (%/inch)', fontsize=15)"
   ]
  },
  {
   "cell_type": "code",
   "execution_count": null,
   "metadata": {
    "collapsed": false,
    "slideshow": {
     "slide_type": "fragment"
    }
   },
   "outputs": [],
   "source": [
    "mother_fig"
   ]
  },
  {
   "cell_type": "markdown",
   "metadata": {
    "slideshow": {
     "slide_type": "slide"
    }
   },
   "source": [
    "## Continuous histograms\n",
    "\n",
    "The flat histograms we drew above can be thought of as\n",
    "*approximations* to a *continuous histogram*.\n",
    "\n",
    "If the population of people we used gets larger and larger, the histogram\n",
    "might settle down to a curve.\n"
   ]
  },
  {
   "cell_type": "code",
   "execution_count": null,
   "metadata": {
    "collapsed": false,
    "slideshow": {
     "slide_type": "skip"
    }
   },
   "outputs": [],
   "source": [
    "%%capture\n",
    "sample = np.random.standard_normal(50000)\n",
    "plt.figure(figsize=figsize)\n",
    "hist_finer, _, CDF_finer = sample_density(sample[:10000], bins=50)\n",
    "hist_finer.set_xlabel('Units', fontsize=20)\n",
    "hist_finer.set_ylabel('Density (% per unit change)', fontsize=20)"
   ]
  },
  {
   "cell_type": "code",
   "execution_count": null,
   "metadata": {
    "collapsed": false,
    "slideshow": {
     "slide_type": "slide"
    }
   },
   "outputs": [],
   "source": [
    "hist_finer.figure"
   ]
  },
  {
   "cell_type": "code",
   "execution_count": null,
   "metadata": {
    "collapsed": false,
    "slideshow": {
     "slide_type": "skip"
    }
   },
   "outputs": [],
   "source": [
    "%%capture\n",
    "from scipy.stats import norm as ndist\n",
    "X = np.linspace(-4,4,101)\n",
    "hist_finer.plot(X, ndist.pdf(X), c='k', linewidth=4)\n",
    "hist_finer.set_title('With more data, the discrete histogram converges to a curve', fontsize=15, color='red')\n"
   ]
  },
  {
   "cell_type": "code",
   "execution_count": null,
   "metadata": {
    "collapsed": false,
    "slideshow": {
     "slide_type": "slide"
    }
   },
   "outputs": [],
   "source": [
    "hist_finer.figure"
   ]
  },
  {
   "cell_type": "code",
   "execution_count": null,
   "metadata": {
    "collapsed": false,
    "slideshow": {
     "slide_type": "skip"
    }
   },
   "outputs": [],
   "source": [
    "%%capture\n",
    "plt.figure(figsize=figsize)\n",
    "hist_finest, _, CDF_finest = sample_density(sample, bins=200)\n",
    "hist_finest.set_xlabel('Units', fontsize=20)\n",
    "hist_finest.set_ylabel('Density (% per unit)', fontsize=20)\n",
    "hist_finest.set_title('Even finer resolution...', fontsize=15, color='red')\n",
    "hist_finest.plot(X, ndist.pdf(X), c='k', linewidth=4)"
   ]
  },
  {
   "cell_type": "code",
   "execution_count": null,
   "metadata": {
    "collapsed": false,
    "slideshow": {
     "slide_type": "slide"
    }
   },
   "outputs": [],
   "source": [
    "hist_finest.figure"
   ]
  },
  {
   "cell_type": "markdown",
   "metadata": {
    "slideshow": {
     "slide_type": "slide"
    }
   },
   "source": [
    "### Shape of a histogram\n",
    "\n",
    "This histogram is **skewed right (i.e. long right tail)**"
   ]
  },
  {
   "cell_type": "code",
   "execution_count": null,
   "metadata": {
    "collapsed": false,
    "slideshow": {
     "slide_type": "skip"
    }
   },
   "outputs": [],
   "source": [
    "%%capture\n",
    "with plt.xkcd():\n",
    "    skew_right = plt.figure(figsize=figsize)\n",
    "    sample = list(np.random.beta(1, 2.2, size=25000)) + list(np.random.beta(1,1, size=5000)) \n",
    "    stylized_density(sample, ax=skew_right.gca())"
   ]
  },
  {
   "cell_type": "code",
   "execution_count": null,
   "metadata": {
    "collapsed": false,
    "slideshow": {
     "slide_type": "fragment"
    }
   },
   "outputs": [],
   "source": [
    "skew_right"
   ]
  },
  {
   "cell_type": "markdown",
   "metadata": {
    "slideshow": {
     "slide_type": "slide"
    }
   },
   "source": [
    "## Other important visual summaries\n",
    "\n",
    "### Scatter plot\n",
    "\n",
    "A plot with two axes:\n",
    "\n",
    "- X-axis is the *independent variable*;\n",
    "- Y-axis is the *dependent variable.*"
   ]
  },
  {
   "cell_type": "code",
   "execution_count": null,
   "metadata": {
    "collapsed": false,
    "slideshow": {
     "slide_type": "skip"
    }
   },
   "outputs": [],
   "source": [
    "%%capture\n",
    "with plt.xkcd():\n",
    "    wage_fig = plt.figure(figsize=figsize)\n",
    "    wage_ax = wage_fig.gca()\n",
    "    wage = csv2rec('data/wage.csv')\n",
    "    wage_ax.scatter(wage['education'], wage['logwage'], facecolor='red', s=50)\n",
    "    wage_ax.set_xlabel('Education (years)', fontsize=20)\n",
    "    wage_ax.set_ylabel('log wage (log $)', fontsize=20)\n",
    "    wage_ax.set_title('Scatterplot', fontsize=20)"
   ]
  },
  {
   "cell_type": "code",
   "execution_count": null,
   "metadata": {
    "collapsed": false,
    "slideshow": {
     "slide_type": "fragment"
    }
   },
   "outputs": [],
   "source": [
    "wage_fig"
   ]
  },
  {
   "cell_type": "markdown",
   "metadata": {
    "slideshow": {
     "slide_type": "slide"
    }
   },
   "source": [
    "## Numeric summaries\n",
    "\n",
    "In the last set of notes, we saw *histograms* as a useful\n",
    "way to summarize a *sample* of numbers.\n",
    "\n",
    "In this set of notes, we will look at numeric summaries that boil\n",
    "down the histogram to a set of a few numbers.\n",
    "\n",
    "In particular, we will look at:\n",
    "    \n",
    "- **average** or **mean**;\n",
    "- **SD** and **SD+**;\n",
    "- **median**.\n",
    "    \n",
    "Along the way, we will discuss **standardized units.**"
   ]
  },
  {
   "cell_type": "markdown",
   "metadata": {
    "slideshow": {
     "slide_type": "slide"
    }
   },
   "source": [
    "## Average\n",
    "\n",
    "### Definition\n",
    "\n",
    "The average of a list of numbers equals their sum, divided by how many there are. Average is also called the *mean*.\n",
    "\n",
    "<font color=\"#820000\">\n",
    "Example: Compute the average of the sample: [1,4,6,7,8].\n",
    "</font>\n",
    "<br>\n",
    "<font color=\"blue\">\n",
    "The answer is\n",
    "$$\\text{Average}([1,4,6,7,8]) = \\frac{1+4+6+7+8}{5} = \\frac{26}{5} = 5.2$$\n",
    "</font>"
   ]
  },
  {
   "cell_type": "code",
   "execution_count": null,
   "metadata": {
    "collapsed": false,
    "slideshow": {
     "slide_type": "skip"
    }
   },
   "outputs": [],
   "source": [
    "mean([1,4,6,7,8])"
   ]
  },
  {
   "cell_type": "markdown",
   "metadata": {
    "slideshow": {
     "slide_type": "slide"
    }
   },
   "source": [
    "## Median\n",
    "\n",
    "This is another summary of a sample or a histogram. Like \n",
    "the average, it gives a quantitative *center* or *location* to the sample.\n",
    "\n",
    "\n",
    "**The median\n",
    " of a histogram is the number with half the area to the left and half the area to the right.**\n",
    " "
   ]
  },
  {
   "cell_type": "code",
   "execution_count": null,
   "metadata": {
    "collapsed": false,
    "slideshow": {
     "slide_type": "skip"
    }
   },
   "outputs": [],
   "source": [
    "%%capture\n",
    "from code.week1 import CAdensity\n",
    "CAhist, CAdens, CAarea = CAdensity(figsize=figsize)"
   ]
  },
  {
   "cell_type": "code",
   "execution_count": null,
   "metadata": {
    "collapsed": false,
    "slideshow": {
     "slide_type": "slide"
    }
   },
   "outputs": [],
   "source": [
    "CAhist"
   ]
  },
  {
   "cell_type": "code",
   "execution_count": null,
   "metadata": {
    "collapsed": false,
    "slideshow": {
     "slide_type": "fragment"
    }
   },
   "outputs": [],
   "source": [
    "CAmedian = 20 + (0.21 / 0.52) * (55-20) \n",
    "CAmedian, CAarea(0, CAmedian)"
   ]
  },
  {
   "cell_type": "code",
   "execution_count": null,
   "metadata": {
    "collapsed": false,
    "slideshow": {
     "slide_type": "skip"
    }
   },
   "outputs": [],
   "source": [
    "%%capture\n",
    "ax = CAhist.gca()\n",
    "interval = np.linspace(0.,CAmedian,501)\n",
    "ax.fill_between(interval, 0*interval, CAdens(interval), \n",
    "                facecolor='blue', hatch='/')"
   ]
  },
  {
   "cell_type": "code",
   "execution_count": null,
   "metadata": {
    "collapsed": false,
    "slideshow": {
     "slide_type": "slide"
    }
   },
   "outputs": [],
   "source": [
    "CAhist"
   ]
  },
  {
   "cell_type": "markdown",
   "metadata": {
    "slideshow": {
     "slide_type": "fragment"
    }
   },
   "source": [
    "According to this histogram, the median age of Californias is 34.1 years.\n",
    "\n"
   ]
  },
  {
   "cell_type": "markdown",
   "metadata": {
    "slideshow": {
     "slide_type": "subslide"
    }
   },
   "source": [
    "### Median of a list of numbers\n",
    "\n",
    "Defined similarly to a histogram: put half the data on the left and half the\n",
    "data on the right.\n",
    "\n",
    "1. Sort the numbers for smallest to largest.\n",
    "2.  If the length of the list is odd, the median is the middle entry of the sorted values.\n",
    "3. Else, the median is the average of the two middle entries."
   ]
  },
  {
   "cell_type": "markdown",
   "metadata": {
    "slideshow": {
     "slide_type": "subslide"
    }
   },
   "source": [
    "<font color=\"#820000\">\n",
    "Example: median of $[1,4,2,9,8]$\n",
    "</font>\n",
    "\n",
    "1. The sorted values are [1,2,4,8,9].\n",
    "\n",
    "2. Since the length of the list is 5, the median is the middle entry of the sorted values. **The median is 4.**\n",
    "\n",
    "<font color=\"#820000\">\n",
    "Example: median of $[1,11,3,7,8,3]$\n",
    "</font>\n",
    "\n",
    "1. The sorted values are [1,3,3,7,8,11].\n",
    "2. Since the length of the list is 6, the median is the average of the middle entries. **The median is (3+7)/2=5.**"
   ]
  },
  {
   "cell_type": "markdown",
   "metadata": {
    "slideshow": {
     "slide_type": "slide"
    }
   },
   "source": [
    "### Median and average\n",
    "\n",
    "Examples\n",
    "\n",
    "- **What is the mean of $[3,7,4,11,5]$? The median?**\n",
    "\n",
    "- **What is the mean of $[3,37,4,41,5]$? The median?**\n",
    "\n",
    "- **What do these examples tell us about the mean and median?**"
   ]
  },
  {
   "cell_type": "markdown",
   "metadata": {
    "slideshow": {
     "slide_type": "fragment"
    }
   },
   "source": [
    "This tells us that the mean is more sensitive to changes away from \n",
    "the center than the mean. Statisticians call this *robustness*."
   ]
  },
  {
   "cell_type": "markdown",
   "metadata": {
    "slideshow": {
     "slide_type": "slide"
    }
   },
   "source": [
    "## Standard deviation\n",
    "\n",
    "### Concept:\n",
    "\n",
    "* A measure of **spread**. The larger the SD the more *spread out* the sample is.\n",
    "* The SD says how far numbers on a list are away from their average.\n",
    "* Its units are in the original units if the list.\n",
    "* It is always a positive number.\n",
    "* Most entries on the list will be somehere around one SD away from the average. Very few will be more than two or three SDs away.\n"
   ]
  },
  {
   "cell_type": "markdown",
   "metadata": {
    "slideshow": {
     "slide_type": "slide"
    }
   },
   "source": [
    "### Rules of thumb based on SD\n",
    "\n",
    "* **Roughly 68 % of the entries on a list are within one SD of the average.**\n",
    "* **Roughly 95 % of the entries on a list are within two SDs of the average.**\n",
    "* These rules hold for many data sets, not all."
   ]
  },
  {
   "cell_type": "markdown",
   "metadata": {
    "slideshow": {
     "slide_type": "slide"
    }
   },
   "source": [
    "### Rules of thumb"
   ]
  },
  {
   "cell_type": "code",
   "execution_count": null,
   "metadata": {
    "collapsed": false,
    "slideshow": {
     "slide_type": "skip"
    }
   },
   "outputs": [],
   "source": [
    "%%capture\n",
    "sd_fig1 = plt.figure(figsize=figsize)\n",
    "ax_sd1 = SD_rule_of_thumb_normal(1, facecolor='gray', alpha=0.5)"
   ]
  },
  {
   "cell_type": "code",
   "execution_count": null,
   "metadata": {
    "collapsed": false,
    "slideshow": {
     "slide_type": "fragment"
    }
   },
   "outputs": [],
   "source": [
    "sd_fig1"
   ]
  },
  {
   "cell_type": "markdown",
   "metadata": {
    "slideshow": {
     "slide_type": "slide"
    }
   },
   "source": [
    "### Root Mean Square"
   ]
  },
  {
   "cell_type": "markdown",
   "metadata": {
    "slideshow": {
     "slide_type": "fragment"
    }
   },
   "source": [
    "### Root Mean Square\n",
    "\n",
    "    r.m.s.(list) = square_root(mean([value^2 for value in list]))\n",
    "                 = mean([value^2 for value in list])**(1/2)\n",
    "\n",
    "\n",
    "Example: `r.m.s.([0, 5, 8, -3])`\n",
    "\n",
    "1. First compute `mean([0,5^2,8^2,(-3^2)]) = mean([0,25,64,9]) = 98/4 = 24.5`.\n",
    "\n",
    "2. Take square root: $\\sqrt{24.5} \\approx 4.9$.\n",
    "\n",
    "3. **The answer is 4.9.**"
   ]
  },
  {
   "cell_type": "code",
   "execution_count": null,
   "metadata": {
    "collapsed": false,
    "slideshow": {
     "slide_type": "fragment"
    }
   },
   "outputs": [],
   "source": [
    "sqrt(mean([v**2 for v in [0,5,8,-3]]))"
   ]
  },
  {
   "cell_type": "markdown",
   "metadata": {
    "slideshow": {
     "slide_type": "slide"
    }
   },
   "source": [
    "### Computing the SD\n",
    "\n",
    "Now that we've learnt about the rule of thumb, let's compute the\n",
    "SD of a list.\n",
    "\n",
    "* Given a list, define \n",
    "\n",
    "      deviations from average(list) = [entry - average(list) for entry in list]\n",
    "    \n",
    "    \n",
    "* The SD is computed as \n",
    "\n",
    "      SD(list) = r.m.s.(deviations from average(list))\n",
    "    \n",
    "* In $\\Sigma$ notation: \n",
    "$$\n",
    "\\text{SD}([X_1,\\dots,X_n]) = \\sqrt{\\frac{1}{n}\\sum_{i=1}^n (X_i-\\bar{X})^2}.$$"
   ]
  },
  {
   "cell_type": "markdown",
   "metadata": {
    "slideshow": {
     "slide_type": "slide"
    }
   },
   "source": [
    "### Standard deviation"
   ]
  },
  {
   "cell_type": "markdown",
   "metadata": {
    "slideshow": {
     "slide_type": "slide"
    }
   },
   "source": [
    "Example: Compute SD([20,30,25,25])\n",
    "\n",
    "1. Compute the average: \n",
    "\n",
    "    average([20,30,25,25]) = (20+30+25+25)/4 = 100/4 = 25\n",
    "    \n",
    "2. Compute deviations from average:\n",
    "\n",
    "    deviations from average([20,30,25,25]) = [20-25, 30-25, 25-25, 25-25] = [-5, 5, 0, 0]\n",
    "    \n",
    "3. Compute the root mean square of this last list:\n",
    "$$\n",
    "    \\text{r.m.s.}([-5, 5, 0, 0]) = \\sqrt{(-5)^2 + 5^2 + 0^2 + 0^2))/4} = \\sqrt{50/4} \\approx 3.5 $$\n",
    "    \n",
    "4. **The answer is 3.5.**"
   ]
  },
  {
   "cell_type": "markdown",
   "metadata": {
    "slideshow": {
     "slide_type": "slide"
    }
   },
   "source": [
    "### SD versus SD$^+$\n",
    "\n",
    "- Some calculators (and software) compute a different version of SD than we will use.\n",
    "- The difference depends on the length of the list.\n",
    "- If the length of the list is $n$, then \n",
    "$$\n",
    "\\text{SD(list)} = \\sqrt{\\frac{n-1}{n}} \\cdot \\text{SD$^+$(list)}.\n",
    "$$\n",
    "\n",
    "- In $\\Sigma$ notation\n",
    "$$\n",
    "\\text{SD$^+$}([X_1, \\dots, X_n]) = \\sqrt{\\frac{1}{n-1}\\sum_{i=1}^n (X_i-\\bar{X})^2}.\n",
    "$$\n"
   ]
  },
  {
   "cell_type": "markdown",
   "metadata": {
    "slideshow": {
     "slide_type": "slide"
    }
   },
   "source": [
    "## Mean and SD under change of units\n",
    "\n",
    "- Suppose we have a list of 50 measurements in \"old units\"\n",
    "\n",
    "       [m_1, ..., m_50]\n",
    "\n",
    "- We want to convert to new units\n",
    "\n",
    "       [t_1, ...., t_50]\n",
    "\n",
    "- The transformation of units can be represented as:\n",
    "\n",
    "       t = a * m + b\n",
    "       \n",
    "- Then, the mean or average transforms like\n",
    "\n",
    "       mean([t[i] for i in range(50)]) = \n",
    "                a * mean([m[i] for i in range(50)]) + b\n",
    "       \n",
    "- The SD transforms like:\n",
    "\n",
    "       SD([t[i] for i in range(50)]) =\n",
    "                |a| * SD([m[i] for i in range(50)])"
   ]
  },
  {
   "cell_type": "markdown",
   "metadata": {
    "slideshow": {
     "slide_type": "slide"
    }
   },
   "source": [
    "## Standardized units\n",
    "\n",
    "- Many calculations we will do involve converting a *list* or *sample* to\n",
    "standardized units.\n",
    "\n",
    "- The procedure involves both `average(list)` and `SD(list)`.\n",
    "\n",
    "\n",
    "### Standardizing a list of numbers\n",
    "\n",
    "- Subtracting the average of a list of numbers from each entry yields a new list with average 0.\n",
    "- Dividing each entry in a list of numbers by its SD yields a new list with SD 1.\n",
    "- Combining the two operations yields a *standardized* list, where entries are in *standard units*.\n",
    "- Standard units describe how many SDs each each is above or below the average of the list."
   ]
  },
  {
   "cell_type": "markdown",
   "metadata": {
    "slideshow": {
     "slide_type": "slide"
    }
   },
   "source": [
    "### Rule for standardizing a *list*\n",
    "\n",
    "The standardized list is\n",
    "\n",
    "    [(entry - mean(list)) / SD(list) for entry in list]\n",
    "    \n",
    "### Example: standardize the list [161 , 166 , 171 , 172 ]\n",
    "\n",
    "#### Table for computing average and SD\n",
    "\n",
    "Entry | Data | Deviation | Deviation$^2$\n",
    "------|-----|-----------|---------------\n",
    "1     |  161 |    161-167.5=-6.5     |    (-6.5)^2=42.25\n",
    "2     |  166 |     166-167.5=-1.5     |    (-1.5)^2=2.25\n",
    "3     |  171 |     171-167.5=3.5     |    3.5^2=12.25\n",
    "4     |  172 |     172-167.5=4.5     |    4.5^2=20.25\n",
    "Total |  670 |    (not needed, but always 0)       |    77\n",
    "\n",
    "Average=670/4=167.5, SD = $\\sqrt{77/4}=\\sqrt{19.25}\\approx 4.4$."
   ]
  },
  {
   "cell_type": "markdown",
   "metadata": {
    "slideshow": {
     "slide_type": "slide"
    }
   },
   "source": [
    "### Standardized units in $\\Sigma$ notation\n",
    "\n",
    "* If our list is $X=[X_1, \\dots, X_n]$ and we call our standardized list $$Z=[Z_1, \\dots, Z_n].$$\n",
    "* Then, $$Z_i = \\frac{X_i - \\bar{X}}{\\text{SD}(X)}.$$"
   ]
  },
  {
   "cell_type": "code",
   "execution_count": null,
   "metadata": {
    "collapsed": false,
    "slideshow": {
     "slide_type": "skip"
    }
   },
   "outputs": [],
   "source": [
    "%%capture\n",
    "normal_fig = plt.figure(figsize=(10,10))\n",
    "ax = normal_curve()\n",
    "ax.set_title('The normal curve', fontsize=20)\n"
   ]
  },
  {
   "cell_type": "code",
   "execution_count": null,
   "metadata": {
    "collapsed": false,
    "slideshow": {
     "slide_type": "slide"
    }
   },
   "outputs": [],
   "source": [
    "normal_fig"
   ]
  },
  {
   "cell_type": "markdown",
   "metadata": {
    "slideshow": {
     "slide_type": "slide"
    }
   },
   "source": [
    "## Normal approximation for data\n",
    "\n",
    "If we assume data follow the normal curve, then we can use Table\n",
    "A-104 to approximate percentages.\n",
    "\n",
    "\n",
    "### Example: heights of freshmen at Stanford\n",
    "\n",
    "The heights of the male freshmen at Stanford averaged 68 inches with an SD of 3 inches. Use the normal curve to estimate the percentage of these men between 62 inches and 71 inches.\n",
    "\n"
   ]
  },
  {
   "cell_type": "markdown",
   "metadata": {
    "slideshow": {
     "slide_type": "slide"
    }
   },
   "source": [
    "### Normal approximation for data\n",
    "\n",
    "#### Step 1: draw the interval"
   ]
  },
  {
   "cell_type": "code",
   "execution_count": null,
   "metadata": {
    "collapsed": false,
    "slideshow": {
     "slide_type": "skip"
    }
   },
   "outputs": [],
   "source": [
    "%%capture\n",
    "with plt.xkcd():\n",
    "    bar_fig = plt.figure(figsize=(10,3))\n",
    "    ax = bar_fig.gca() \n",
    "    standardize_interval(62,71,68,3, units='Inches', \n",
    "                        facecolor='#820000')\n",
    "    "
   ]
  },
  {
   "cell_type": "code",
   "execution_count": null,
   "metadata": {
    "collapsed": false,
    "slideshow": {
     "slide_type": "fragment"
    }
   },
   "outputs": [],
   "source": [
    "bar_fig"
   ]
  },
  {
   "cell_type": "markdown",
   "metadata": {
    "slideshow": {
     "slide_type": "slide"
    }
   },
   "source": [
    "#### Step 2: add the average to the interval"
   ]
  },
  {
   "cell_type": "code",
   "execution_count": null,
   "metadata": {
    "collapsed": false,
    "slideshow": {
     "slide_type": "skip"
    }
   },
   "outputs": [],
   "source": [
    "%%capture\n",
    "with plt.xkcd():\n",
    "    bar_fig = plt.figure(figsize=(10,3))\n",
    "    ax = bar_fig.gca() \n",
    "    standardize_interval(62,71,68,3, units='Inches', include_mean=True,\n",
    "                         facecolor='#820000')\n",
    "    "
   ]
  },
  {
   "cell_type": "code",
   "execution_count": null,
   "metadata": {
    "collapsed": false,
    "slideshow": {
     "slide_type": "fragment"
    }
   },
   "outputs": [],
   "source": [
    "bar_fig"
   ]
  },
  {
   "cell_type": "markdown",
   "metadata": {
    "slideshow": {
     "slide_type": "slide"
    }
   },
   "source": [
    "#### Step 3: standardize the endpoints"
   ]
  },
  {
   "cell_type": "code",
   "execution_count": null,
   "metadata": {
    "collapsed": false,
    "slideshow": {
     "slide_type": "skip"
    }
   },
   "outputs": [],
   "source": [
    "%%capture\n",
    "with plt.xkcd():\n",
    "    bar_fig = plt.figure(figsize=(10,3))\n",
    "    ax = bar_fig.gca() \n",
    "    standardize_interval(62,71,68,3, units='Inches', include_mean=True,\n",
    "                         facecolor='#820000',\n",
    "                         standardized=True)\n",
    "    "
   ]
  },
  {
   "cell_type": "code",
   "execution_count": null,
   "metadata": {
    "collapsed": false,
    "slideshow": {
     "slide_type": "fragment"
    }
   },
   "outputs": [],
   "source": [
    "bar_fig"
   ]
  },
  {
   "cell_type": "markdown",
   "metadata": {
    "slideshow": {
     "slide_type": "slide"
    }
   },
   "source": [
    "#### Step 4: look up percentage using Table A-104\n"
   ]
  },
  {
   "cell_type": "markdown",
   "metadata": {
    "slideshow": {
     "slide_type": "slide"
    }
   },
   "source": [
    "## Percentiles\n",
    "\n",
    "### Definition\n",
    "\n",
    "* The 1st percentile of a histogram is the number with 1 % of the area to the left and 99 % of the area to the right.\n",
    "* The 10th percentile of a histogram is the number with 10 % of the area to the left and 90 % of the area to the right.\n",
    "* **The median is the 50th percentile.**\n",
    "* The **first quartile**\n",
    "   is the 25th percentile; the **third quartile**\n",
    "   is the 75th percentile.\n",
    "* The **inter-quartile range**\n",
    "   is the difference between the third and first quartiles."
   ]
  },
  {
   "cell_type": "markdown",
   "metadata": {
    "slideshow": {
     "slide_type": "slide"
    }
   },
   "source": [
    "### Estimating percentiles\n",
    "\n",
    "Among all applicants to Stanford the Math SAT scores averaged 560 with an SD of 100. The scores followed the normal distribution quite well. Estimate the 90th percentile of the score distribution.\n",
    "Solution\n",
    "\n",
    "**The estimated quantile is** \n",
    "\n",
    "     560 + 100 * 90th quantile of normal curve \n",
    "     = 560 + 100 * 1.28 \n",
    "     = 688\n",
    "     \n",
    "**This is essentially the inverse of forming standardized units.**\n",
    "   \n",
    "We find the 90th quantile by looking at Table A-104 and finding an entry\n",
    "with Area about 80%. **Why?** Above, my calculator computed this to be 1.28."
   ]
  },
  {
   "cell_type": "markdown",
   "metadata": {
    "slideshow": {
     "slide_type": "slide"
    }
   },
   "source": [
    "### Example: SAT scores\n",
    "\n",
    "SAT usually follow a normal curve. Assume the average score is 1100 with an SD of 150. **What percent of students score above 1400?**"
   ]
  },
  {
   "cell_type": "markdown",
   "metadata": {
    "slideshow": {
     "slide_type": "fragment"
    }
   },
   "source": [
    "As we are told the scores follow a normal curve, we\n",
    "convert 1400 to standardized units and find the area\n",
    "above 1400."
   ]
  },
  {
   "cell_type": "code",
   "execution_count": null,
   "metadata": {
    "collapsed": false,
    "slideshow": {
     "slide_type": "skip"
    }
   },
   "outputs": [],
   "source": [
    "%%capture\n",
    "with plt.xkcd():\n",
    "    SAT_fig = plt.figure(figsize=(10,5))\n",
    "    standardize_right(1400, 1100, 150, units=\"SAT\")"
   ]
  },
  {
   "cell_type": "code",
   "execution_count": null,
   "metadata": {
    "collapsed": false,
    "slideshow": {
     "slide_type": "fragment"
    }
   },
   "outputs": [],
   "source": [
    "SAT_fig"
   ]
  },
  {
   "cell_type": "code",
   "execution_count": null,
   "metadata": {
    "collapsed": false,
    "slideshow": {
     "slide_type": "skip"
    }
   },
   "outputs": [],
   "source": [
    "%%capture\n",
    "with plt.xkcd():\n",
    "    SAT_fig = plt.figure(figsize=(10,6))\n",
    "    standardize_right(1400, 1100, 150, standardized=True, units='SAT')"
   ]
  },
  {
   "cell_type": "code",
   "execution_count": null,
   "metadata": {
    "collapsed": false,
    "slideshow": {
     "slide_type": "fragment"
    }
   },
   "outputs": [],
   "source": [
    "SAT_fig"
   ]
  },
  {
   "cell_type": "code",
   "execution_count": null,
   "metadata": {
    "collapsed": false,
    "slideshow": {
     "slide_type": "skip"
    }
   },
   "outputs": [],
   "source": [
    "%%capture\n",
    "percentile_fig4 = plt.figure(figsize=(10,10))\n",
    "ax = normal_curve()\n",
    "interval = np.linspace(2., 4, 101)\n",
    "ax.fill_between(interval, 0*interval, ndist.pdf(interval),\n",
    "                hatch='o', color='green', alpha=0.5)\n",
    "ax.set_title('Area is about 2.5%', color='green', fontsize=20)"
   ]
  },
  {
   "cell_type": "code",
   "execution_count": null,
   "metadata": {
    "collapsed": false,
    "slideshow": {
     "slide_type": "slide"
    }
   },
   "outputs": [],
   "source": [
    "percentile_fig4"
   ]
  },
  {
   "cell_type": "markdown",
   "metadata": {
    "slideshow": {
     "slide_type": "slide"
    }
   },
   "source": [
    "### Estimating percentiles using normal curve\n",
    "\n",
    "**What is the 60th percentile of the scores?**"
   ]
  },
  {
   "cell_type": "code",
   "execution_count": null,
   "metadata": {
    "collapsed": false,
    "slideshow": {
     "slide_type": "skip"
    }
   },
   "outputs": [],
   "source": [
    "%%capture\n",
    "sixty_fig = plt.figure(figsize=(10,10))\n",
    "percentile_figure(0.6, 1100, 150, units=\"SAT\", hatch='+', facecolor='red')"
   ]
  },
  {
   "cell_type": "code",
   "execution_count": null,
   "metadata": {
    "collapsed": false,
    "slideshow": {
     "slide_type": "slide"
    }
   },
   "outputs": [],
   "source": [
    "sixty_fig"
   ]
  },
  {
   "cell_type": "code",
   "execution_count": null,
   "metadata": {
    "collapsed": false,
    "slideshow": {
     "slide_type": "skip"
    }
   },
   "outputs": [],
   "source": [
    "%%capture\n",
    "sixty_fig = plt.figure(figsize=(10,10))\n",
    "percentile_figure(0.6, 1100, 150, \n",
    "                  standardized=True,\n",
    "                  units=\"SAT\", hatch='+', facecolor='red')"
   ]
  },
  {
   "cell_type": "code",
   "execution_count": null,
   "metadata": {
    "collapsed": false,
    "slideshow": {
     "slide_type": "slide"
    }
   },
   "outputs": [],
   "source": [
    "sixty_fig"
   ]
  },
  {
   "cell_type": "markdown",
   "metadata": {
    "slideshow": {
     "slide_type": "slide"
    }
   },
   "source": [
    "### Treatment and control groups\n",
    "\n",
    "* In the smoking study: ** treatment = smokers**, ** control = non-smokers**\n",
    "  .\n",
    "* In a vaccine study: ** treatment = patients who are vaccinated**, ** control = non-vaccinated**.\n",
    "\n",
    "* Ideally, the only difference between ** treatment**\n",
    "   and ** control**\n",
    "   is whether or not they receive the treatment."
   ]
  },
  {
   "cell_type": "markdown",
   "metadata": {
    "slideshow": {
     "slide_type": "slide"
    }
   },
   "source": [
    "### Randomized controlled experiments\n",
    "\n",
    "* The best way to establish smoking causes lung cancer is a *randomized controlled* experiment.\n",
    "* In such a study, patients would be assigned randomly to smoking or non-smoking group.\n",
    "* Obviously, these experiments are not always possible: we can't force people to smoke."
   ]
  },
  {
   "cell_type": "markdown",
   "metadata": {
    "slideshow": {
     "slide_type": "slide"
    }
   },
   "source": [
    "### Why randomize?\n",
    "\n",
    "* In the polio vaccine example described in the book, wealthy families whose children were more vulnerable to polio also were more likely to volunteer for vaccination.\n",
    "* If ** treatment**\n",
    "   is assigned based on whoever volunteers, this could bias the experiment against the vaccine, i.e. its apparent effectiveness is diminished.\n",
    "\n",
    "* This means there will be differences between ** treatment**\n",
    "   and ** control**\n",
    "   groups other than just the vaccine."
   ]
  },
  {
   "cell_type": "markdown",
   "metadata": {
    "slideshow": {
     "slide_type": "fragment"
    }
   },
   "source": [
    "## NFIP study\n",
    "\n",
    "\n",
    "Group | Size | Rate\n",
    "--- | --- | ---\n",
    "Treatment | 225,000 | 25\n",
    "Control | 725,000 | 54\n",
    "No consent | 125,000 | 44"
   ]
  },
  {
   "cell_type": "markdown",
   "metadata": {
    "slideshow": {
     "slide_type": "slide"
    }
   },
   "source": [
    "### Placebo effect and blinding\n",
    "\n",
    "* Subjects in the ** control**\n",
    "   group should be given a \"treatment\" with no effect. That is, they should ideally be *blinded*.\n",
    "* Why? So the response is not due to the idea of a vaccine, but the vaccine itself.\n",
    "* In the vaccination example, children were given an injection of salt and water.\n",
    "* This treatment is called a ** placebo**."
   ]
  },
  {
   "cell_type": "markdown",
   "metadata": {
    "slideshow": {
     "slide_type": "slide"
    }
   },
   "source": [
    "## Smoking & socio-economic status\n",
    "\n",
    "Smoking is related to socio-economic status. \n",
    "\n",
    "As a consequence, smokers:\n",
    "* tend to be in  lower socio-economic status groups with less access to medical care;\n",
    "* will tend to have higher incidence of some diseases based on this fact alone."
   ]
  },
  {
   "cell_type": "markdown",
   "metadata": {
    "slideshow": {
     "slide_type": "slide"
    }
   },
   "source": [
    "## Association is not causation\n",
    "\n",
    "* In children, shoe size is associated to reading ability.\n",
    "* However, having big feet does not cause children to score high on reading tests."
   ]
  },
  {
   "cell_type": "markdown",
   "metadata": {
    "slideshow": {
     "slide_type": "slide"
    }
   },
   "source": [
    "## Confounding\n",
    "\n",
    "The big problem with observational studies is **confounding**\n",
    "\n",
    "      Confounding means there is a difference between \n",
    "      the treatment and control groups – other than treatment – \n",
    "      which affects the response being studied. \n",
    "      \n",
    "      A confounder is a third variable, associated with \n",
    "      exposure and with disease.\n"
   ]
  },
  {
   "cell_type": "markdown",
   "metadata": {
    "slideshow": {
     "slide_type": "slide"
    }
   },
   "source": [
    "## Confounding in reading ability\n",
    "\n",
    "In our example with show size and reading ability, **age is a confounder.**\n",
    "\n",
    "- Both reading and ability are associated to age.\n",
    "- As children age, their feet grow.\n",
    "- As children age, their reading improves."
   ]
  },
  {
   "cell_type": "markdown",
   "metadata": {
    "slideshow": {
     "slide_type": "slide"
    }
   },
   "source": [
    "### Measurement"
   ]
  },
  {
   "cell_type": "markdown",
   "metadata": {
    "slideshow": {
     "slide_type": "slide"
    }
   },
   "source": [
    "\n",
    "Measurement error (excerpt from book):\n",
    "\n",
    "      No matter how carefully it was made, \n",
    "      a measurement could have come out a bit differently.\n",
    "\n",
    "**But how much?**\n",
    "\n",
    "\n",
    "- The best way to find out is to replicate the measurement.\n",
    "\n",
    "- The SD of the replicates estimates the likely size of the chance error in a single measurement."
   ]
  },
  {
   "cell_type": "markdown",
   "metadata": {
    "slideshow": {
     "slide_type": "slide"
    }
   },
   "source": [
    "## Measurement model\n",
    "\n",
    "The basic measurement model is\n",
    "\n",
    "     individual measurement = exact value + chance error\n"
   ]
  },
  {
   "cell_type": "markdown",
   "metadata": {
    "slideshow": {
     "slide_type": "slide"
    }
   },
   "source": [
    "### Repeated measurements\n",
    "\n",
    "This is a situation in which an experiment is \n",
    "repeated several times.\n",
    "\n",
    "Produces a list with $n$ entries \n",
    "\n",
    "$$\\text{individual measurement}_i = \\text{exact value} + \\text{chance error}_i$$\n",
    "\n",
    "### Greek notation\n",
    "\n",
    "- Call our list of measurements $[M_1, \\dots, M_n]$. \n",
    "- Then, $$M_i = \\mu + \\epsilon_i$$"
   ]
  },
  {
   "cell_type": "markdown",
   "metadata": {
    "slideshow": {
     "slide_type": "slide"
    }
   },
   "source": [
    "### Histogram of the measurements\n",
    "\n",
    "- Our measurement model says that the only thing changing between measurements is the chance error.\n",
    "-  The histogram of the measurements will be the histogram of the *chance error*\n",
    "  , shifted by the *exact value*.\n",
    "- In standard units, the histogram of the *measurements*\n",
    "   will look like the histogram of the *chance error*\n",
    "   in standard units.\n",
    "- If the normal curve fits the histogram of the *chance error*\n",
    "   well, it will fit the histogram of the *measurements*\n",
    "   well as well."
   ]
  },
  {
   "cell_type": "markdown",
   "metadata": {
    "slideshow": {
     "slide_type": "slide"
    }
   },
   "source": [
    "### Example: Weighing an apple\n",
    "\n",
    "* Suppose we have an apple that weights exactly 8 ounces.\n",
    "* Experiment: weigh the apple 100 different times.\n",
    "* If we know the exact weight of the apple is 8 ounces, we can find the chance errors."
   ]
  },
  {
   "cell_type": "markdown",
   "metadata": {
    "slideshow": {
     "slide_type": "slide"
    }
   },
   "source": [
    "### Histogram of apples"
   ]
  },
  {
   "cell_type": "code",
   "execution_count": null,
   "metadata": {
    "collapsed": false,
    "slideshow": {
     "slide_type": "skip"
    }
   },
   "outputs": [],
   "source": [
    "%%capture\n",
    "apple = np.random.standard_normal(5000)*1.2 + 8\n",
    "apple_fig = plt.figure(figsize=(10,10))\n",
    "apple_ax = apple_fig.gca()\n",
    "sample_density(apple, bins=25, ax=apple_ax, alpha=0.5, \n",
    "             facecolor='green')\n",
    "\n",
    "apple_ax.set_yticks([])\n",
    "apple_ax.set_xlabel('Weight of apple (ounces)', fontsize=20)\n",
    "apple_ax.set_title('Mean: %0.1f, SD: %0.1f' % (apple.mean(), apple.std()),\n",
    "                   fontsize=20)"
   ]
  },
  {
   "cell_type": "code",
   "execution_count": null,
   "metadata": {
    "collapsed": false,
    "slideshow": {
     "slide_type": "fragment"
    }
   },
   "outputs": [],
   "source": [
    "apple_fig"
   ]
  },
  {
   "cell_type": "markdown",
   "metadata": {
    "slideshow": {
     "slide_type": "slide"
    }
   },
   "source": [
    "### Histogram of chance error"
   ]
  },
  {
   "cell_type": "code",
   "execution_count": null,
   "metadata": {
    "collapsed": false,
    "slideshow": {
     "slide_type": "skip"
    }
   },
   "outputs": [],
   "source": [
    "%%capture\n",
    "error = apple - 8\n",
    "error_fig = plt.figure(figsize=(10,10))\n",
    "error_ax = error_fig.gca()\n",
    "sample_density(error, bins=25, ax=error_ax, alpha=0.5, \n",
    "             facecolor='red')\n",
    "\n",
    "error_ax.set_yticks([])\n",
    "error_ax.set_xlabel('Chance error (ounces)', fontsize=20)\n",
    "error_ax.set_title('Mean: %0.1f, SD: %0.1f' % (error.mean(), error.std()),\n",
    "                   fontsize=20)\n"
   ]
  },
  {
   "cell_type": "code",
   "execution_count": null,
   "metadata": {
    "collapsed": false,
    "slideshow": {
     "slide_type": "fragment"
    }
   },
   "outputs": [],
   "source": [
    "error_fig"
   ]
  },
  {
   "cell_type": "markdown",
   "metadata": {
    "slideshow": {
     "slide_type": "fragment"
    }
   },
   "source": [
    "The chance error *averages out* to be about 0."
   ]
  },
  {
   "cell_type": "markdown",
   "metadata": {
    "slideshow": {
     "slide_type": "slide"
    }
   },
   "source": [
    "## Outliers\n",
    "\n",
    "- Not all individual measurements fit the normal curve.\n",
    "- This could be because the histogram of measurements *shouldn’t*\n",
    "   fit the normal curve exactly ...\n",
    "- Or, an error was made in some of the measurements ...\n",
    "- Usually impossible to tell which ..."
   ]
  },
  {
   "cell_type": "markdown",
   "metadata": {
    "slideshow": {
     "slide_type": "slide"
    }
   },
   "source": [
    "### Bias or systematic error\n",
    "\n",
    "Conceptual definition (excerpt from book):\n",
    "\n",
    "       Bias affects all measurements the same way, pushing them \n",
    "       in the same direction. Chance errors change from measurement \n",
    "       to measurement, sometimes up and sometimes down.\n"
   ]
  },
  {
   "cell_type": "markdown",
   "metadata": {
    "slideshow": {
     "slide_type": "slide"
    }
   },
   "source": [
    "## Measurement model\n",
    "\n",
    "In light of the possibility of bias, we should\n",
    "rephrase our measurement model as:\n",
    "\n",
    "     individual measurement = exact value + bias + chance error\n",
    "\n",
    "### Greek notation\n",
    "\n",
    "- Call the bias $B$. Then\n",
    "$$M = \\mu + B + \\epsilon$$"
   ]
  },
  {
   "cell_type": "markdown",
   "metadata": {
    "slideshow": {
     "slide_type": "slide"
    }
   },
   "source": [
    "\n",
    "** A measurement has three parts:**\n",
    "\n",
    "- **True value.** This is what we care about.\n",
    "- **Chance error.** This is something unavoidable in the measurement process. With many measurements, this should average out.\n",
    "- **Bias.** This is undesirable."
   ]
  },
  {
   "cell_type": "markdown",
   "metadata": {
    "slideshow": {
     "slide_type": "slide"
    }
   },
   "source": [
    "## Correlation (Chapters 8 and 9)\n",
    "\n",
    "In the early 1900s Karl Pearson collected data on [heights](http://www.stat.cmu.edu/~roeder/stat707/=data/=data/data/Rlibraries/alr3/html/heights.html) of mothers\n",
    "and daughters."
   ]
  },
  {
   "cell_type": "code",
   "execution_count": null,
   "metadata": {
    "collapsed": false,
    "slideshow": {
     "slide_type": "skip"
    }
   },
   "outputs": [],
   "source": [
    "height = pearson_lee()\n",
    "height.draw()\n"
   ]
  },
  {
   "cell_type": "code",
   "execution_count": null,
   "metadata": {
    "collapsed": false,
    "slideshow": {
     "slide_type": "fragment"
    }
   },
   "outputs": [],
   "source": [
    "height.figure"
   ]
  },
  {
   "cell_type": "markdown",
   "metadata": {
    "slideshow": {
     "slide_type": "fragment"
    }
   },
   "source": [
    "\n",
    "There is a *positive association* between the two.\n"
   ]
  },
  {
   "cell_type": "markdown",
   "metadata": {
    "slideshow": {
     "slide_type": "slide"
    }
   },
   "source": [
    "\n",
    "### What can correlation tell us? \n",
    "\n",
    "- From the plot, daughters born to taller mothers tend to be taller. \n",
    "\n",
    "- It has more concrete information that allows us to estimate\n",
    "the *average* height of daughters born to mothers of a *given height*."
   ]
  },
  {
   "cell_type": "code",
   "execution_count": null,
   "metadata": {
    "collapsed": false,
    "slideshow": {
     "slide_type": "slide"
    }
   },
   "outputs": [],
   "source": [
    "height.strip = 65\n",
    "height.draw()\n",
    "height.figure"
   ]
  },
  {
   "cell_type": "markdown",
   "metadata": {
    "slideshow": {
     "slide_type": "fragment"
    }
   },
   "source": [
    "\n",
    "What if we want to guess daughter’s height when mother = 65 in?"
   ]
  },
  {
   "cell_type": "markdown",
   "metadata": {
    "slideshow": {
     "slide_type": "slide"
    }
   },
   "source": [
    "### Average within a strip"
   ]
  },
  {
   "cell_type": "code",
   "execution_count": null,
   "metadata": {
    "collapsed": false,
    "slideshow": {
     "slide_type": "slide"
    }
   },
   "outputs": [],
   "source": [
    "height.axes.set_xlim([64.5,65.5])\n",
    "height.axes.set_title('Zooming in on the strip...', color='red', fontsize=15)\n",
    "height.figure"
   ]
  },
  {
   "cell_type": "markdown",
   "metadata": {
    "slideshow": {
     "slide_type": "slide"
    }
   },
   "source": [
    "\n",
    "We see some variability within the strip: the scatter plot is not exactly a line.\n",
    "\n",
    "However, we can compute the average height within a given strip."
   ]
  },
  {
   "cell_type": "code",
   "execution_count": null,
   "metadata": {
    "collapsed": false,
    "slideshow": {
     "slide_type": "fragment"
    }
   },
   "outputs": [],
   "source": [
    "height.axes.set_title('The average within the strip is %0.1f' % height.mean_strip, fontsize=15)\n",
    "height.figure"
   ]
  },
  {
   "cell_type": "code",
   "execution_count": null,
   "metadata": {
    "collapsed": false,
    "slideshow": {
     "slide_type": "slide"
    }
   },
   "outputs": [],
   "source": [
    "height.axes.set_xlim([54,72])\n",
    "height.figure"
   ]
  },
  {
   "cell_type": "markdown",
   "metadata": {
    "slideshow": {
     "slide_type": "slide"
    }
   },
   "source": [
    "Let's collect these averages within many strips"
   ]
  },
  {
   "cell_type": "code",
   "execution_count": null,
   "metadata": {
    "collapsed": false,
    "slideshow": {
     "slide_type": "skip"
    }
   },
   "outputs": [],
   "source": [
    "%%capture\n",
    "averages = []\n",
    "height.draw()\n",
    "mother_heights = range(56,69)\n",
    "for mother in mother_heights:\n",
    "    height.strip = mother\n",
    "    averages.append(height.mean_strip)\n",
    "\n",
    "height.strip = None\n",
    "height.axes.plot(mother_heights, averages, linewidth=5, c='k')\n",
    "height.axes.set_title(\"Relationship is almost a straight line.\", fontsize=15)\n",
    "height.axes.scatter(mother_heights, averages, s=300, c='yellow', label='Average(strip)')\n",
    "height.axes.legend(loc='lower right') "
   ]
  },
  {
   "cell_type": "code",
   "execution_count": null,
   "metadata": {
    "collapsed": false,
    "slideshow": {
     "slide_type": "slide"
    }
   },
   "outputs": [],
   "source": [
    "height.figure"
   ]
  },
  {
   "cell_type": "code",
   "execution_count": null,
   "metadata": {
    "collapsed": false,
    "slideshow": {
     "slide_type": "slide"
    }
   },
   "outputs": [],
   "source": [
    "height.axes.set_title('Slope of the line is predicted by correlation...', fontsize=15)\n",
    "height.axes.figure"
   ]
  },
  {
   "cell_type": "markdown",
   "metadata": {
    "slideshow": {
     "slide_type": "slide"
    }
   },
   "source": [
    "## Correlation\n",
    "\n",
    "### Conceptual definition\n",
    "\n",
    "- A numerical summary of a scatterplot, i.e. a pair of lists.\n",
    "- If there is a strong association between two variables, then knowing one helps a lot in predicting the other. But when there is a weak association, information about one variable does not help much in guessing the other.\n",
    "\n",
    "The *correlation coefficient*\n",
    "  , $r$ is a measure of the strength of this association.\n",
    "* $r=+1$ if the variables are perfectly positively associated.\n",
    "* $r=-1$ if the variables are perfectly negatively associated."
   ]
  },
  {
   "cell_type": "markdown",
   "metadata": {
    "slideshow": {
     "slide_type": "slide"
    }
   },
   "source": [
    "## Computing $r$, the correlation coefficient\n",
    "\n",
    "* Given two lists, $X, Y$, convert them each to standardized units. Call these new lists $Z_X, Z_Y$.\n",
    "* Make a new list $Z_{XY}$ whose entries are the products of the entries of $Z_X, Z_Y$.\n",
    "* Then, $r = \\text{average}(Z_{XY}).$\n",
    "* Another way:\n",
    "$$\n",
    "   r = \\frac{\\text{average(products $X, Y$)} - \\text{average}(X) \\times \\text{average}(Y)}{\\text{SD}(X) \\times \\text{SD}(Y)}.\n",
    "   $$\n",
    "   "
   ]
  },
  {
   "cell_type": "markdown",
   "metadata": {
    "slideshow": {
     "slide_type": "slide"
    }
   },
   "source": [
    "## Example\n",
    "\n",
    "Take X = [1,4,6,9,3],\n",
    "Y = [-2,2,8,0,1].\n",
    "\n",
    " $$\\begin{aligned}\n",
    "   \\bar{X} &= 4.6 & \\text{SD}(X) &= 2.72 \\\\\n",
    "   \\bar{Y} &= 1.8 & \\text{SD}(Y) &= 3.37 \\\\\n",
    "   \\end{aligned}$$\n",
    "   \n",
    "The only thing new to compute is $\\overline{XY}$. \n",
    "$$XY = [-2,8,48,0,3], \\qquad \\overline{XY}=(-2+8+48+3)/5=11.4$$\n",
    "\n",
    "Therefore\n",
    "$$ r = \\frac{11.4 - 4.6 * 1.8}{2.72 * 3.37} \\approx 0.34$$"
   ]
  },
  {
   "cell_type": "code",
   "execution_count": null,
   "metadata": {
    "collapsed": false,
    "slideshow": {
     "slide_type": "fragment"
    }
   },
   "outputs": [],
   "source": [
    "X = [1,4,6,9,3]\n",
    "Y = [-2,2,8,0,1]\n",
    "print (mean(X), mean(Y), std(X), std(Y), mean([x*y for x,y in zip(X,Y)]))\n",
    "R = (mean([x*y for x,y in zip(X,Y)]) - mean(X) * mean(Y)) / (std(X) * std(Y))\n",
    "R, (11.4 - 4.6 * 1.8)/(2.72 * 3.37)"
   ]
  },
  {
   "cell_type": "markdown",
   "metadata": {
    "slideshow": {
     "slide_type": "slide"
    }
   },
   "source": [
    "### Properties of correlation\n",
    "\n",
    "* Correlation is unitless.\n",
    "* Changing units of $X$ or $Y$ does not change the correlation.\n",
    "* Correlation does not change if we interchange $X$ and $Y$: it is *symmetric*."
   ]
  },
  {
   "cell_type": "code",
   "execution_count": null,
   "metadata": {
    "collapsed": false,
    "slideshow": {
     "slide_type": "skip"
    }
   },
   "outputs": [],
   "source": [
    "height.draw()\n",
    "height.axes.set_title(\"$r=%0.2f$\" % np.corrcoef([height.D, height.M])[0,1], fontsize=20)"
   ]
  },
  {
   "cell_type": "code",
   "execution_count": null,
   "metadata": {
    "collapsed": false,
    "slideshow": {
     "slide_type": "skip"
    }
   },
   "outputs": [],
   "source": [
    "%%capture\n",
    "swapped = plt.figure(figsize=(8,8))\n",
    "ax = swapped.gca()\n",
    "ax.scatter(height.D, height.M, c='red', s=100, edgecolor='gray')\n",
    "ax.set_ylabel(\"Mother's height (inches)\", fontsize=15)\n",
    "ax.set_xlabel(\"Daughter's height (inches)\", fontsize=15)\n",
    "ax.set_title(\"$r=%0.2f$\" % np.corrcoef([height.D, height.M])[0,1], fontsize=20)"
   ]
  },
  {
   "cell_type": "code",
   "execution_count": null,
   "metadata": {
    "collapsed": false,
    "slideshow": {
     "slide_type": "fragment"
    }
   },
   "outputs": [],
   "source": [
    "swapped"
   ]
  },
  {
   "cell_type": "markdown",
   "metadata": {
    "slideshow": {
     "slide_type": "fragment"
    }
   },
   "source": [
    "**This plot also illustrates the important principle:**\n",
    "\n",
    "     Correlation is not causality!\n",
    "     \n",
    "Why?\n"
   ]
  },
  {
   "cell_type": "markdown",
   "metadata": {
    "slideshow": {
     "slide_type": "slide"
    }
   },
   "source": [
    "### The SD line\n",
    "\n",
    "* The SD line passes through the point of averages $(\\bar{X}, \\bar{Y})$ and has $\\text{slope(SD line)} = \\frac{\\text{SD}(Y)}{\\text{SD}(X)} \\times \\text{sign}(r(X,Y))$\n",
    "* For every one standardized unit increase of $X$, the SD line changes by one standardized unit of $Y$. The direction of change is positive if $X$ and $Y$ are positively correlated, and negative if they are negatively correlated."
   ]
  },
  {
   "cell_type": "markdown",
   "metadata": {
    "slideshow": {
     "slide_type": "slide"
    }
   },
   "source": [
    "### Correlation"
   ]
  },
  {
   "cell_type": "code",
   "execution_count": null,
   "metadata": {
    "collapsed": false,
    "slideshow": {
     "slide_type": "fragment"
    }
   },
   "outputs": [],
   "source": [
    "height.SDline()\n",
    "height.figure\n"
   ]
  },
  {
   "cell_type": "markdown",
   "metadata": {
    "slideshow": {
     "slide_type": "fragment"
    }
   },
   "source": [
    "The point cloud seems to cluster around the SD line"
   ]
  },
  {
   "cell_type": "markdown",
   "metadata": {
    "slideshow": {
     "slide_type": "slide"
    }
   },
   "source": [
    "Let's look at those means we computed within each strip above.\n",
    "\n",
    "While the points are almost on a line, **they do not lie on the SD line.**"
   ]
  },
  {
   "cell_type": "code",
   "execution_count": null,
   "metadata": {
    "collapsed": false,
    "slideshow": {
     "slide_type": "skip"
    }
   },
   "outputs": [],
   "source": [
    "height.axes.plot(mother_heights, averages, linewidth=5, c='k', label='Strip averages')\n",
    "height.axes.scatter(mother_heights, averages, s=300, c='yellow', label='Average(strip)')\n",
    "height.axes.legend(loc='lower right', scatterpoints=1) "
   ]
  },
  {
   "cell_type": "code",
   "execution_count": null,
   "metadata": {
    "collapsed": false,
    "slideshow": {
     "slide_type": "fragment"
    }
   },
   "outputs": [],
   "source": [
    "height.figure"
   ]
  },
  {
   "cell_type": "markdown",
   "metadata": {},
   "source": [
    "# Regression (Chapters 10-12)"
   ]
  },
  {
   "cell_type": "code",
   "execution_count": null,
   "metadata": {
    "collapsed": false,
    "slideshow": {
     "slide_type": "skip"
    }
   },
   "outputs": [],
   "source": [
    "%%capture\n",
    "hfig = plt.figure(figsize=figsize)\n",
    "height = pearson_lee()\n",
    "height._figure = hfig\n",
    "height.strip = 65\n",
    "height.SDline()\n",
    "height.axes.scatter([65], [height.mean_strip], s=300, c='yellow', label='Average(strip)')\n",
    "height.axes.set_title('The average within the strip is %0.1f' % height.mean_strip, fontsize=15)\n",
    "matplotlib.rcParams['legend.scatterpoints'] = 1\n",
    "height.axes.legend(loc='lower right') \n",
    "daughter = height.D\n",
    "mother = height.M"
   ]
  },
  {
   "cell_type": "code",
   "execution_count": null,
   "metadata": {
    "collapsed": false,
    "slideshow": {
     "slide_type": "fragment"
    }
   },
   "outputs": [],
   "source": [
    "height.figure"
   ]
  },
  {
   "cell_type": "markdown",
   "metadata": {
    "slideshow": {
     "slide_type": "fragment"
    }
   },
   "source": [
    "Note that the average in the strip at 65in is below the SD line. Why?\n"
   ]
  },
  {
   "cell_type": "markdown",
   "metadata": {
    "slideshow": {
     "slide_type": "slide"
    }
   },
   "source": [
    "## Regression line\n",
    "\n",
    "- Instead of the SD line we choose a line that minimizes the \"vertical distances\" from each point to the line.\n",
    "- The quality of a line is measured by the r.m.s. of these distances, called ** residuals**.\n",
    "  \n",
    "- Each choice of slope / intercept yields a new set of residuals.\n",
    "- The regression line has the residuals with smallest r.m.s.\n",
    "- This is using the **method of least squares**\n",
    "   to choose the slope and intercept."
   ]
  },
  {
   "cell_type": "markdown",
   "metadata": {
    "slideshow": {
     "slide_type": "slide"
    }
   },
   "source": [
    "## Regression line\n",
    "\n",
    "- The **regression line** is the line whose slope and intercept have the smallest\n",
    "`r.m.s.` for the vertical deviations from that line.\n",
    "\n",
    "- Define the **point of averages** of two lists $X$ and $Y$ as\n",
    "\n",
    "      point of averages(X, Y) = (average(X), average(Y))\n",
    "\n",
    "- The regression line passes through the point of averages and has slope:\n",
    "$$\\text{slope} = r(X,Y) \\times \\frac{SD(Y)}{SD(X)}.$$\n",
    "\n",
    "- The intercept of the regression line is\n",
    " \n",
    "      intercept = average(Y) - slope * average(X)"
   ]
  },
  {
   "cell_type": "markdown",
   "metadata": {
    "slideshow": {
     "slide_type": "fragment"
    }
   },
   "source": [
    "The regression line has better `r.m.s.` for the vertical deviations!\n",
    "\n"
   ]
  },
  {
   "cell_type": "code",
   "execution_count": null,
   "metadata": {
    "collapsed": false,
    "slideshow": {
     "slide_type": "skip"
    }
   },
   "outputs": [],
   "source": [
    "%%capture\n",
    "\n",
    "def error(D,a,b):\n",
    "    F = a*M+b\n",
    "    return np.sqrt(np.sum((D-F)**2)/D.shape[0])\n",
    "\n",
    "D, M = daughter, mother\n",
    "r = np.corrcoef([D,M])[0,1]\n",
    "slope_SD = D.std() / M.std()\n",
    "intercept_SD = D.mean() - slope_SD * M.mean()\n",
    "\n",
    "slope_r = r * D.std() / M.std()\n",
    "intercept_r = D.mean() - slope_r * M.mean()\n",
    "\n",
    "height.axes.set_title('Error(SD line)=%0.1f, Error(regression)=%0.1f' %\n",
    "            (error(D, slope_SD, intercept_SD),\n",
    "            error(D, slope_r, intercept_r)), fontsize=15)\n",
    "height.regline(draw=False)\n",
    "height.axes.legend(loc=('upper left'))\n",
    "del(D); del(M)"
   ]
  },
  {
   "cell_type": "code",
   "execution_count": null,
   "metadata": {
    "collapsed": false,
    "slideshow": {
     "slide_type": "slide"
    }
   },
   "outputs": [],
   "source": [
    "height.figure"
   ]
  },
  {
   "cell_type": "markdown",
   "metadata": {
    "slideshow": {
     "slide_type": "slide"
    }
   },
   "source": [
    "Let's look at those strip averages we computed in the notes on correlation."
   ]
  },
  {
   "cell_type": "code",
   "execution_count": null,
   "metadata": {
    "collapsed": false,
    "slideshow": {
     "slide_type": "skip"
    }
   },
   "outputs": [],
   "source": [
    "mother_heights = range(56,69)\n",
    "averages = []\n",
    "for mother in mother_heights:\n",
    "    height.strip = mother\n",
    "    averages.append(height.mean_strip)\n",
    "height.axes.scatter(mother_heights, averages, s=300, c='yellow')"
   ]
  },
  {
   "cell_type": "code",
   "execution_count": null,
   "metadata": {
    "collapsed": false,
    "slideshow": {
     "slide_type": "fragment"
    }
   },
   "outputs": [],
   "source": [
    "height.figure"
   ]
  },
  {
   "cell_type": "markdown",
   "metadata": {
    "slideshow": {
     "slide_type": "fragment"
    }
   },
   "source": [
    "**The regression line almost sits on top of the strip averages!**\n"
   ]
  },
  {
   "cell_type": "markdown",
   "metadata": {
    "slideshow": {
     "slide_type": "slide"
    }
   },
   "source": [
    "## Working with regression problems\n",
    "\n",
    " The following quantities are enough to do all regression problems\n",
    "* $\\text{average}(X), \\text{SD}(X)$\n",
    "* $\\text{average}(Y), \\text{SD}(Y)$\n",
    "* $r(X,Y)$"
   ]
  },
  {
   "cell_type": "markdown",
   "metadata": {
    "slideshow": {
     "slide_type": "slide"
    }
   },
   "source": [
    "### Blood alcohol example\n",
    "\n",
    "It is believed that the more alcohol there is in a person’s blood stream, the slower is that person’s reaction times. An experiment with 10 subjects yields\n",
    "- average amount of alcohol in blood $0.14\\%$ with SD $0.04\\%$;\n",
    "- average reaction time 0.42 seconds, SD 0.1 seconds;\n",
    "- correlation coefficient 0.8.\n",
    "\n",
    "**Predict the reaction time of a person with an amount of alcohol of 0.22%.**\n",
    "\n",
    "#### Answer\n",
    "\n",
    "- We first compute the slope, intercept \n",
    "    $$\\begin{aligned}\n",
    "     \\text{slope} &= \\frac{0.8 \\times 0.1}{0.04} = 2.0 \\frac{\\text{seconds}}{\\%}     \\\\\n",
    "     \\text{intercept} &= 0.42 - 2. \\times 0.14 = 0.14 \\, \\text{seconds}\n",
    "     \\end{aligned}$$ \n",
    "     \n",
    "     Plugging in an alcohol level of 0.22 yields a predicted time of\n",
    "     $$2 \\times 0.22 + 0.14 = 0.58 \\, \\text{seconds}.$$\n",
    "     \n",
    "- Another way to arrive at the same answer is to note that $(0.14,0.42)$\n",
    "is the point of averages which is on the regression line. For any other value of blood alcohol, $B$, the corresponding point $y$-value of reaction time on the regression line is \n",
    "$$\n",
    "0.42 + (B - 0.14) * 2.\n",
    "$$\n",
    "Substituting $B=0.22$ yields\n",
    "$$\n",
    "0.42 + (0.22-0.14)*2. = 0.42 + 0.16 = 0.58.\n",
    "$$"
   ]
  },
  {
   "cell_type": "markdown",
   "metadata": {
    "slideshow": {
     "slide_type": "slide"
    }
   },
   "source": [
    "## Regression fallacy\n",
    "\n",
    "* Note that someone in the 20th percentile of `blood alcohol` had predicted 27th percentile in `reaction time`.\n",
    "\n",
    "* This is a general phenomenon, Galton referred to it as \"regression to mediocrity.\"\n",
    "\n",
    "### Test-retest version of regression fallacy (from book)\n",
    "\n",
    "In a test-retest situation, usually the bottom group on the \n",
    "first test will show some improvement, and the top group will fall back.\n",
    "\n",
    "It can also be seen from the regression of `daughter` on `mother`..."
   ]
  },
  {
   "cell_type": "code",
   "execution_count": null,
   "metadata": {
    "collapsed": false,
    "slideshow": {
     "slide_type": "slide"
    }
   },
   "outputs": [],
   "source": [
    "height.figure"
   ]
  },
  {
   "cell_type": "markdown",
   "metadata": {
    "slideshow": {
     "slide_type": "fragment"
    }
   },
   "source": [
    "The height of a daughter whose mother is 2 SD above the average height of mothers is only $0.49*2 \\approx 1$ SD above the average height of daughters."
   ]
  },
  {
   "cell_type": "markdown",
   "metadata": {
    "slideshow": {
     "slide_type": "slide"
    }
   },
   "source": [
    "## Prediction and regression\n",
    "\n",
    "- While there are two regression lines, the right way to remember which to use is **what do you want to predict?**\n",
    "- The variable you want to predict goes on the vertical axis ($Y$-axis).\n",
    "- The variable you want to base your prediction on goes on the vertical axis ($X$-axis).\n",
    "- In many situations, it will be more natural to predict one variable instead of another."
   ]
  },
  {
   "cell_type": "markdown",
   "metadata": {
    "slideshow": {
     "slide_type": "slide"
    }
   },
   "source": [
    "# Accuracy of prediction (Chapter 11)\n",
    "\n",
    "- In discussing experiments, we discussed the average of a set of measurements.\n",
    "\n",
    "- These can be used to predict a new measurement: our best guess is just the average of the previous meausrements.\n",
    "\n",
    "- A similar calculation is possible with regression."
   ]
  },
  {
   "cell_type": "markdown",
   "metadata": {
    "slideshow": {
     "slide_type": "fragment"
    }
   },
   "source": [
    "## SD as a measure of accuracy\n",
    "\n",
    "- The SD of the set of measurements gives us some idea of how accurate our prediction is \n",
    "$$\\text{SD(list) = r.m.s.(deviations from average)}$$\n",
    "- If our prediction is the average, then \n",
    "$$\\text{SD(list) = r.m.s.(deviations from predictions)}$$\n",
    "- With regression, we have a new way to predict: using the regression line."
   ]
  },
  {
   "cell_type": "markdown",
   "metadata": {
    "slideshow": {
     "slide_type": "slide"
    }
   },
   "source": [
    "## Accuracy of prediction in regression\n",
    "\n",
    "- In regression, we are using more information: the fact that tall mothers tend to give birth to taller daughters (but not quite as tall).\n",
    "- This should improve the accuracy of our prediction of the daughter’s height (which uses the mother’s height).\n",
    "- Our regression line was chosen to minimize\n",
    "   the r.m.s. of the residuals of all ines\n",
    "   $$\n",
    "   \\begin{aligned}\n",
    "   \\text{r.m.s.}(\\text{regression $Y$ on $X$}) &= \\text{r.m.s.(residuals)} \\\\\n",
    "   &= \\sqrt{\\text{average}(\\text{residuals}^2)} \\\\\n",
    "   \\end{aligned}\n",
    "   $$\n",
    "- This r.m.s. is always less than the SD of\n",
    "   the dependent variable ($Y$) alone\n",
    "   $$\n",
    "   \\text{r.m.s.}(\\text{regression $Y$ on $X$}) = \\sqrt{1-r^2} \\times \\text{SD}(Y)\n",
    "   $$\n",
    "- In mother/daughter example, this factor is 2.3 / 2.6 $\\approx$ 87% = $\\sqrt{1 - 0.49^2}$."
   ]
  },
  {
   "cell_type": "markdown",
   "metadata": {
    "slideshow": {
     "slide_type": "slide"
    }
   },
   "source": [
    "## Example: using regression r.m.s. in vertical strips\n",
    "\n",
    "* Given the following information:\n",
    "\n",
    "\n",
    "Variable | Average | SD\n",
    "---------|---------|----\n",
    "mother   | 62.4in    | 2.3in\n",
    "daughter   | 63.8in   | 2.6in\n",
    "\n",
    "Correlation $r=0.49$.\n",
    "\n",
    "** Of mothers of height 66in, what percentage of their daughters will have height above 67in?**"
   ]
  },
  {
   "cell_type": "markdown",
   "metadata": {
    "slideshow": {
     "slide_type": "slide"
    }
   },
   "source": [
    "### Answer\n",
    "\n",
    "* Slope of regression line is $$\\text{slope} = 0.49 \\times \\frac{2.6}{2.3} = 0.54$$\n",
    "* The average height of daughters of mothers of height 66in is $$63.8 + 0.54 \\times (66 - 62.4) = 65.7$$\n",
    "* The SD is taken to be r.m.s. of regression $$\\sqrt{1 - 0.49^2} \\times 2.6 = 0.87 \\times 2.6 = 2.3.$$\n",
    "* 67 in corresponds to \n",
    "$$(67-65.7)/2.3=0.6$$ standardized units.\n",
    "* From the normal table (like Table A-104), the percentage is roughly 27%."
   ]
  },
  {
   "cell_type": "markdown",
   "metadata": {
    "slideshow": {
     "slide_type": "slide"
    }
   },
   "source": [
    "## Probability\n",
    "\n",
    "### Frequency definition of chances\n",
    "\n",
    "* If you flip a fair coin many times, the long-run proportion of heads will be 50%.\n",
    "* Rolling a fair 6-sided die,\n",
    "will result in a long-run proportion of 1’s of \n",
    "$$1/6=16 \\frac{2}{3}\\%.$$"
   ]
  },
  {
   "cell_type": "code",
   "execution_count": null,
   "metadata": {
    "collapsed": false,
    "slideshow": {
     "slide_type": "slide"
    }
   },
   "outputs": [],
   "source": [
    "dice.roll_one_die.trial()\n",
    "dice.roll_one_die"
   ]
  },
  {
   "cell_type": "code",
   "execution_count": null,
   "metadata": {
    "collapsed": false,
    "slideshow": {
     "slide_type": "fragment"
    }
   },
   "outputs": [],
   "source": [
    "dice.roll_one_die.sample(10)"
   ]
  },
  {
   "cell_type": "markdown",
   "metadata": {
    "slideshow": {
     "slide_type": "slide"
    }
   },
   "source": [
    "### Probability as frequency"
   ]
  },
  {
   "cell_type": "code",
   "execution_count": null,
   "metadata": {
    "collapsed": false,
    "slideshow": {
     "slide_type": "fragment"
    }
   },
   "outputs": [],
   "source": [
    "dice_sample = dice.roll_one_die.sample(5000)\n",
    "sum([d == 1 for d in dice_sample]) / 5000., 1/6."
   ]
  },
  {
   "cell_type": "markdown",
   "metadata": {
    "slideshow": {
     "slide_type": "slide"
    }
   },
   "source": [
    "## Some rules of probability\n",
    "\n",
    "- *Range of values:* Chances are between 0 % and 100 %.\n",
    "\n",
    "- *Opposites:* The chance of something equals 100 % minus the chance of the opposite thing. \n",
    "\n",
    "### Example: \n",
    "\n",
    "The chance of not getting a 1 when rolling a die is $(100 - 16 \\frac{2}{3})\\% = 83 \\frac{1}{3} \\%$.\n"
   ]
  },
  {
   "cell_type": "markdown",
   "metadata": {
    "slideshow": {
     "slide_type": "slide"
    }
   },
   "source": [
    "## Example\n",
    "\n",
    "Suppose our experiment consists of drawing a ticket out of a hat with 20\n",
    "tickets in it. We are going to draw 3 tickets.\n",
    "\n",
    "- Describe the hat after each draw if we draw *with replacement*. \n",
    "What are the possible outcomes of the experiment?\n",
    "\n",
    "         Before and after each draw, the hat has 20 tickets in it.\n",
    "         The possible outcomes are triples of numbers from 1 to 20:\n",
    "         (1,1,4),(2,3,4), etc.\n",
    "\n",
    "-  Describe the hat after each draw if we draw *without replacement*. \n",
    "What are possible outcomes of the experiment?\n",
    "\n",
    "         After the first draw, the hat has 19 tickets in it,\n",
    "         after the second 18, and after the third 17.\n",
    "         The possible outcomes are all triples of numbers from\n",
    "         1 to 20 but there can be no ties: (1,1,4) is impossible."
   ]
  },
  {
   "cell_type": "markdown",
   "metadata": {
    "slideshow": {
     "slide_type": "slide"
    }
   },
   "source": [
    "## Conditional probability\n",
    "\n",
    "* Observing some information can *change*\n",
    "   the chances of something.\n",
    "* We already saw this in the marble example. If drawing without replacement, suppose the first draw was red. What are the chances a blue marble is drawn on the second draw?\n",
    "* What if we draw with replacement?\n",
    "* In this examples, we are *given*\n",
    "   that the first draw was red. These chances are *conditioned*\n",
    "   on knowing the first draw was red."
   ]
  },
  {
   "cell_type": "markdown",
   "metadata": {
    "slideshow": {
     "slide_type": "slide"
    }
   },
   "source": [
    "## Multiplication rule\n",
    "\n",
    "The chance that two things will both happen equals the chance that the first will happen, multiplied by the chance that the second will happen *given* the first has happened."
   ]
  },
  {
   "cell_type": "markdown",
   "metadata": {
    "slideshow": {
     "slide_type": "fragment"
    }
   },
   "source": [
    "### Example\n",
    "\n",
    "- *In the box with 3 blue and 2 red marbles, what is the probability the first blue marble drawn is on the second draw when drawing without replacement?*\n",
    "- If the first blue marble drawn was the second, then we know\n",
    "     - the first was red;\n",
    "     - the second was blue.\n",
    "- By the multiplication rule \n",
    "$$\\mathrm{chances} = \\frac{2}{5} \\times \\frac{3}{4} = \\frac{3}{10}$$"
   ]
  },
  {
   "cell_type": "markdown",
   "metadata": {
    "slideshow": {
     "slide_type": "slide"
    }
   },
   "source": [
    "## Mathematical notation\n",
    "\n",
    "* \"first blue drawn is on the second draw\" is called an *event*\n",
    "  ;\n",
    "* \"first draw is red\" and \"second draw is blue\" are also events;\n",
    "* We usually write $P$ for \"chances\". For an event $E$ \n",
    "$$ P(E) = \\mathrm{chances} \\ E \\ \\mathrm{occurs}. $$\n",
    "* Conditional probability of an event $A$ given $B$, i.e.  \n",
    "the chances $A$ occurs given $B$ occurs, is\n",
    "written as \n",
    "$$\n",
    "P(A \\vert B).\n",
    "$$\n",
    "\n",
    "- Multiplication rule can be written as \n",
    "$$P(A \\cap B) = P(A \\, \\text{and} \\, B) = P(A \\vert B) * P(B). $$"
   ]
  },
  {
   "cell_type": "markdown",
   "metadata": {
    "slideshow": {
     "slide_type": "slide"
    }
   },
   "source": [
    "## Law of total mass\n",
    "\n",
    "* The chances of *something* occuring are 100%.\n",
    "\n",
    "* Example: when we drew marbles, the chances we draw a marble whose color is blue or red is 100 %.\n",
    "* In mathematical notation, we often use $S$ for \"something\" or the \"sample space\" $$P(S) = 100\\% \\qquad (= 1)$$.\n"
   ]
  },
  {
   "cell_type": "markdown",
   "metadata": {
    "slideshow": {
     "slide_type": "slide"
    }
   },
   "source": [
    "## Mass function\n",
    "\n",
    "- What is `mass_function`? \n",
    "\n",
    "- It is a description of the probabilities of the various possible\n",
    "outcomes.\n",
    "\n",
    "- Later, the book will call this a *probability histogram*."
   ]
  },
  {
   "cell_type": "markdown",
   "metadata": {
    "slideshow": {
     "slide_type": "slide"
    }
   },
   "source": [
    "## Law of total mass\n",
    "\n",
    "- When drawing from `small` without replacement, we will draw a blue ball within the first three draws. \n",
    "$$P(\\text{one of the first three balls is blue}) = 100 \\%$$\n",
    "\n",
    "- Let's verify the law of total mass \n",
    " $$\\begin{aligned}\n",
    "     P(\\text{first blue ball is on 1st draw }) &= \\frac{3}{5} \\\\\n",
    "     P(\\text{first blue ball is on 2nd draw}) &= \\frac{2}{5} \\times \\frac{3}{4} = \\frac{3}{10}  \\\\\n",
    "     P(\\text{first blue ball is on 3rd draw}) &= \\frac{2}{5} \\times \\frac{1}{4} = \\frac{1}{10}  \\\\\n",
    "  \\end{aligned}$$\n",
    "- Summing the probablities $$\\frac{3}{5} + \\frac{3}{10} +\n",
    " \\frac{1}{10} = 1.$$"
   ]
  },
  {
   "cell_type": "markdown",
   "metadata": {
    "slideshow": {
     "slide_type": "slide"
    }
   },
   "source": [
    "## Addition rule\n",
    "\n",
    "**When can we add probabilities of different events?**\n",
    "\n",
    "\n",
    "We can add probabilities of events when the events are *disjoint*\n",
    "   or *mutually exclusive*\n",
    "\n",
    "### Example \n",
    "\n",
    "When rolling a die, the events $E_1= \\,${roll is 4} , $E_2=\\, ${roll is 3} are mutually exclusive because the result of the roll cannot be and simultaneously."
   ]
  },
  {
   "cell_type": "markdown",
   "metadata": {
    "slideshow": {
     "slide_type": "slide"
    }
   },
   "source": [
    "### Mutually exclusive events"
   ]
  },
  {
   "cell_type": "code",
   "execution_count": null,
   "metadata": {
    "collapsed": false,
    "slideshow": {
     "slide_type": "skip"
    }
   },
   "outputs": [],
   "source": [
    "%%capture\n",
    "disjoint = plt.figure(figsize=figsize)\n",
    "cir = matplotlib.patches.Circle\n",
    "ax = plt.gca()\n",
    "E1 = cir((0.5,0.5), 0.4,ec=\"black\", facecolor='yellow',lw=2, alpha=0.4)\n",
    "E2 = cir((-0.2,-0.2), 0.4,ec=\"black\", facecolor='blue',lw=2, alpha=0.4)\n",
    "ax.add_patch(E1)\n",
    "ax.add_patch(E2)\n",
    "ax.set_xticks([])\n",
    "ax.set_yticks([])\n",
    "ax.set_xlim([-0.7,1])\n",
    "ax.set_ylim([-0.7,1])\n",
    "ax.set_title('Two mutually exclusive events. Addition OK.', fontsize=15, color='green')"
   ]
  },
  {
   "cell_type": "code",
   "execution_count": null,
   "metadata": {
    "collapsed": false
   },
   "outputs": [],
   "source": [
    "disjoint"
   ]
  },
  {
   "cell_type": "markdown",
   "metadata": {
    "slideshow": {
     "slide_type": "slide"
    }
   },
   "source": [
    "### Non-mutually exclusive events"
   ]
  },
  {
   "cell_type": "code",
   "execution_count": null,
   "metadata": {
    "collapsed": false,
    "slideshow": {
     "slide_type": "skip"
    }
   },
   "outputs": [],
   "source": [
    "%%capture\n",
    "nondisjoint = plt.figure(figsize=figsize)\n",
    "cir = matplotlib.patches.Circle\n",
    "ax = plt.gca()\n",
    "E1 = cir((0.5,0.5), 0.4,ec=\"black\", facecolor='yellow',lw=2, alpha=0.4)\n",
    "E2 = cir((0.2,0.2), 0.4,ec=\"black\", facecolor='blue',lw=2, alpha=0.4)\n",
    "ax.add_patch(E1)\n",
    "ax.add_patch(E2)\n",
    "ax.set_xticks([])\n",
    "ax.set_yticks([])\n",
    "ax.set_xlim([-0.7,1])\n",
    "ax.set_ylim([-0.7,1])\n",
    "ax.set_title('Two non-mutually exclusive events. Addition not OK.', \n",
    "             fontsize=15, color='red')\n"
   ]
  },
  {
   "cell_type": "code",
   "execution_count": null,
   "metadata": {
    "collapsed": false,
    "slideshow": {
     "slide_type": "fragment"
    }
   },
   "outputs": [],
   "source": [
    "nondisjoint"
   ]
  },
  {
   "cell_type": "markdown",
   "metadata": {
    "slideshow": {
     "slide_type": "slide"
    }
   },
   "source": [
    "## Addition rule\n",
    "\n",
    "- If the events $E_1, E_2$ are mutually exclusive, then \n",
    "$$ P(E_1 \\ \\mathrm{or} \\ E_2 \\  \\mathrm{occurs}) = P(E_1) + P(E_2).$$\n",
    "- This rule works for more than two: if $[E_1, \\dots, E_n]$ are mutually exclusive, then $$ P(E_1  \\ \\mathrm{or} \\  E_2  \\ \\mathrm{or} \\  \\dots  \\ \\mathrm{or} \\  E_n) = \\sum_{i=1}^nP(E_i).$$\n",
    "\n",
    "- The events $E_1, E_2$ are mutually exclusive if $E_1 \\cap E_2$ is empty.\n",
    "- We often write \"$E_1$ or $E_2$\" as $E_1 \\cup E_2$ and \n",
    "\"$E_1$ and $E_2$\" as $E_1 \\cap E_2$.\n",
    "\n",
    "- From the Venn diagram, we can deduce the general form of the addition rule\n",
    "$$P(E_1 \\cup E_2) = P(E_1) + P(E_2) - P(E_1 \\cap E_2).$$\n",
    "\n",
    "- There are also rules that involve more than 2 events."
   ]
  },
  {
   "cell_type": "code",
   "execution_count": null,
   "metadata": {
    "collapsed": false,
    "slideshow": {
     "slide_type": "skip"
    }
   },
   "outputs": [],
   "source": [
    "%%capture\n",
    "three_events = plt.figure(figsize=figsize)\n",
    "ax = three_events.gca()\n",
    "E1 = cir((0.5,0.5), 0.4,ec=\"black\", facecolor='yellow',lw=2, alpha=0.4)\n",
    "E2 = cir((0.2,0.2), 0.4,ec=\"black\", facecolor='blue',lw=2, alpha=0.4)\n",
    "E3 = cir((0.2,0.5), 0.4,ec=\"black\", facecolor='red',lw=2, alpha=0.4)\n",
    "ax.add_patch(E1)\n",
    "ax.add_patch(E2)\n",
    "ax.add_patch(E3)\n",
    "ax.set_xticks([])\n",
    "ax.set_yticks([])\n",
    "ax.set_xlim([-0.3,1])\n",
    "ax.set_ylim([-0.3,1])\n",
    "ax.set_title('Three intersecting events.', \n",
    "             fontsize=15)\n"
   ]
  },
  {
   "cell_type": "code",
   "execution_count": null,
   "metadata": {
    "collapsed": false,
    "slideshow": {
     "slide_type": "fragment"
    }
   },
   "outputs": [],
   "source": [
    "three_events"
   ]
  },
  {
   "cell_type": "markdown",
   "metadata": {
    "slideshow": {
     "slide_type": "fragment"
    }
   },
   "source": [
    "$$\n",
    "\\begin{aligned}\n",
    "P(A \\cup B \\cup C) &= P(A) + P(B) + P(C) \\\\\n",
    "& - P(A \\cap B) - P(A \\cap C) - P(B \\cap C) \\\\\n",
    "& + P(A \\cap B \\cap C)\n",
    "\\end{aligned}\n",
    "$$"
   ]
  },
  {
   "cell_type": "markdown",
   "metadata": {
    "slideshow": {
     "slide_type": "slide"
    }
   },
   "source": [
    "## Multiplication rule & independence\n",
    "\n",
    "* Intuitively, an event $A$ is independent of $B$ if given $B$, the odds of $A$ are unaffected.\n",
    "* In mathematical notation, we express this notion as \n",
    "$$P(A \\vert B)=P(A)$$\n",
    "* If this is true, we say $A$ and $B$ are *independent*.\n",
    "* Otherwise, $A$ and $B$ are *dependent*.\n",
    "* The multiplication rule, combined with independence tells us \n",
    "$$P(A \\cap B) = P(A \\vert B) * P(B) = P(A) * P(B).$$"
   ]
  },
  {
   "cell_type": "markdown",
   "metadata": {
    "slideshow": {
     "slide_type": "slide"
    }
   },
   "source": [
    "## Example\n",
    "\n",
    "Let's go back to drawing marbles from a box.\n",
    "\n",
    "* When drawing marbles *with replacement*\n",
    "   the events $$\\begin{aligned}\n",
    " A &= \\mathrm{first \\ draw \\    is \\ red} \\\\\n",
    " B &= \\mathrm{second \\ draw \\ is \\ blue}\n",
    " \\end{aligned}$$ are *independent*\n",
    "  \n",
    "* We can even conclude that the draws are independent in this case.\n",
    "* When drawing *without replacement*\n",
    "   the events $A$ and $B$ are dependent. "
   ]
  },
  {
   "cell_type": "markdown",
   "metadata": {
    "slideshow": {
     "slide_type": "slide"
    }
   },
   "source": [
    "## Counting and probability\n",
    "\n",
    "* When performing an experiment where each outcome is equally likely, we can compute probabilities by counting.\n",
    "* Example: when rolling two dice, what is the probability of obtaining a sum of 9?\n",
    "* We call these counting problems *combinatorial*\n",
    "  .\n",
    "* For such experiments $$P(E) = \\frac{\\# E}{\\# S}$$ where $S$ is the set of all possible outcomes (our *sample space*)."
   ]
  },
  {
   "cell_type": "markdown",
   "metadata": {
    "slideshow": {
     "slide_type": "slide"
    }
   },
   "source": [
    "## Example\n",
    "\n",
    "What are the chances the sum will be greater than or equal to 7?"
   ]
  },
  {
   "cell_type": "code",
   "execution_count": null,
   "metadata": {
    "collapsed": false,
    "slideshow": {
     "slide_type": "skip"
    }
   },
   "outputs": [],
   "source": [
    "%%capture\n",
    "dice.examples['sum geq 7'] = dice.dice_example(event_spec = lambda ij: ij[0]+ij[1]>=7)\n"
   ]
  },
  {
   "cell_type": "code",
   "execution_count": null,
   "metadata": {
    "collapsed": false,
    "slideshow": {
     "slide_type": "slide"
    }
   },
   "outputs": [],
   "source": [
    "dice.examples['sum geq 7']"
   ]
  },
  {
   "cell_type": "markdown",
   "metadata": {
    "slideshow": {
     "slide_type": "fragment"
    }
   },
   "source": [
    "There are 21 outcomes whose sum is greater than or equal to 7. Therefore, the chances are $\\frac{21}{36}=\\frac{7}{12}$."
   ]
  },
  {
   "cell_type": "code",
   "execution_count": null,
   "metadata": {
    "collapsed": false,
    "slideshow": {
     "slide_type": "fragment"
    }
   },
   "outputs": [],
   "source": [
    "dice.examples['sum geq 7'].mass_function"
   ]
  },
  {
   "cell_type": "markdown",
   "metadata": {
    "slideshow": {
     "slide_type": "slide"
    }
   },
   "source": [
    "## Complement of an event\n",
    "\n",
    "* Formally, the \"opposite\" rule is the rule of *complements*.\n",
    "* We write the complement of an event $E$ as $E^c$ \n",
    "$$P(\\mathrm{not} \\, E) = P(E^c).$$\n",
    "* The rule of *complements*\n",
    "   says $$P(E^c) = 1 - P(E)$$"
   ]
  },
  {
   "cell_type": "markdown",
   "metadata": {
    "slideshow": {
     "slide_type": "slide"
    }
   },
   "source": [
    "### An event $E$ and its complement $E^c$"
   ]
  },
  {
   "cell_type": "code",
   "execution_count": null,
   "metadata": {
    "collapsed": false,
    "slideshow": {
     "slide_type": "skip"
    }
   },
   "outputs": [],
   "source": [
    "%%capture\n",
    "complement = plt.figure(figsize=figsize)\n",
    "ax = complement.gca()\n",
    "ax.set_alpha(0.4)\n",
    "ax.patch.set_facecolor('#cccccc')\n",
    "E1 = cir((0.5,0.5), 0.4,\n",
    "         ec=\"black\", facecolor='yellow', lw=2, alpha=0.4)\n",
    "ax.add_patch(E1)\n",
    "\n",
    "ax.set_xticks([])\n",
    "ax.set_yticks([])\n",
    "ax.set_xlim([-0.3,1])\n",
    "ax.set_ylim([-0.3,1])\n",
    "\n",
    "t = ax.text(0.5, 0.5, '$E$', size=40, color='black', va='center', ha='center')\n",
    "t = ax.text(-0.05, -0.05, r'$E^c$', size=40, color='black', va='center', ha='center')\n",
    "complement.text(0.8, 0.04, '$S$', size=40, ha='center', va='center')"
   ]
  },
  {
   "cell_type": "code",
   "execution_count": null,
   "metadata": {
    "collapsed": false,
    "slideshow": {
     "slide_type": "fragment"
    }
   },
   "outputs": [],
   "source": [
    "complement"
   ]
  },
  {
   "cell_type": "markdown",
   "metadata": {},
   "source": [
    "## Properties of complements\n",
    "\n",
    "* For any event $E$, $E$ and $E^c$ are mutually exclusive.\n",
    "* For any event $E$, $S = E \\cup E^c$.\n",
    "* For any two events $A, B$ \n",
    "$$\\begin{aligned}\n",
    "     B &= B \\cap S \\\\\n",
    "     &=   B \\cap (A \\cup A^c) \\\\\n",
    "     &=   (B \\cap A) \\cup (B \\cap A^c)\n",
    "     \\end{aligned}$$ where $B \\cap A$ and $B \\cap A^c$ are mutually exclusive."
   ]
  },
  {
   "cell_type": "markdown",
   "metadata": {
    "slideshow": {
     "slide_type": "slide"
    }
   },
   "source": [
    "### Using complements\n",
    "\n",
    "* For the `small` box, if we draw with replacement, what are the chances it will take less than 5 draws to draw 1st blue marble?\n",
    "* If $E$={takes less than 5 draws to draw 1st blue marble}, then \n",
    "$$\\begin{aligned}\n",
    "     E^c &=\\{\\text{takes 5 or more draws to draw 1st blue marble}\\} \\\\\n",
    "     &=\\{\\text{first 4 draws are red}\\} \\\\\n",
    "     \\end{aligned}$$\n",
    "* By independence, $$\n",
    "     P(\\text{first 4 draws are red}) = \\left(\\frac{2}{5}\\right)^4\n",
    "     $$\n",
    "* Therefore, $$P(\\text{takes less than 5 draws to draw 1st blue marble}) = 1 -  \\left(\\frac{2}{5}\\right)^4 = 97\\%$$"
   ]
  },
  {
   "cell_type": "markdown",
   "metadata": {
    "slideshow": {
     "slide_type": "slide"
    }
   },
   "source": [
    "## Bayes’ theorem\n",
    "\n",
    "- Credited to [Reverend Thomas Bayes](http://en.wikipedia.org/wiki/Thomas_Bayes)\n",
    "- The foundation of important sub-branch of statistics: *Bayesian statistics.*\n",
    "- Given two events $A$ and $B$ $$\\begin{aligned}\n",
    "     P(A \\vert B) &= \\frac{P(B \\, \\mathrm{and} \\,  A)}{P(B)} \\\\\n",
    "     &= \\frac{P(A \\cap B)}{P(B)} \\\\\n",
    "     &= \\frac{P(B \\vert A)\\times P(A)}{P(B)}\n",
    "     \\end{aligned}$$\n",
    "- The formula is a direct consequence of the multiplication rule.\n",
    "- Even though it is used in *Bayesian statistics*, it is just part of \n",
    "the calculus of probability so even non-Bayesians use it."
   ]
  },
  {
   "cell_type": "markdown",
   "metadata": {
    "slideshow": {
     "slide_type": "slide"
    }
   },
   "source": [
    "### Alternate versions\n",
    "\n",
    "* By the properties of complements $$\\begin{aligned}\n",
    "     P(B) &= P(B \\cap A) + P(B \\cap A^c) \\\\\n",
    "     &=  P(B \\vert A) \\times P(A) + P(B \\vert A^c) \\times P(A^c)\n",
    "     \\end{aligned}$$\n",
    "* Another version of Bayes’ theorem $$\\begin{aligned}\n",
    "     P(A \\vert B) &= \\frac{P(B \\vert A) \\times P(A)}{P(B \\vert A) \\times P(A) + P(B \\vert A^c) \\times P(A^c)     } \\\\\n",
    "     \\end{aligned}$$"
   ]
  },
  {
   "cell_type": "markdown",
   "metadata": {
    "slideshow": {
     "slide_type": "slide"
    }
   },
   "source": [
    "## Diagnostic testing\n",
    "\n",
    "* Suppose a patient from some population is tested for a disease based on some diagnostic test.\n",
    "* The prevalence of the disease is 0.1% in the population.\n",
    "* If a patient has the disease, the test result is positive with probability 95 %. (*True positive*\n",
    "  )\n",
    "* If a patient does not have the disease, the test result is positive with probability 1 %. (*False positive*\n",
    "  ).\n",
    "* What is the probability a patient has the disease given a positive test result? What if the false positive rate were 0.1%?"
   ]
  },
  {
   "cell_type": "markdown",
   "metadata": {
    "slideshow": {
     "slide_type": "fragment"
    }
   },
   "source": [
    "\n",
    "* Let $$\\begin{aligned}\n",
    "     D &= \\{\\text{patient has disease}\\}     \\\\\n",
    "     T^+ &= \\{\\text{test result is positive}\\}     \\\\\n",
    "     \\end{aligned}$$\n",
    "* We are given $$\\begin{aligned}\n",
    "     P(D) &= 0.001 \\\\\n",
    "     P(T^+ \\vert D) &= 0.95 \\\\\n",
    "     P(T^+ \\vert D^c) &= 0.01 \\\\\n",
    "     \\end{aligned}$$\n",
    "* We want to compute $P(D \\vert T^+)$.\n",
    "\n",
    "* By Bayes’ theorem $$\\begin{aligned}\n",
    "     P(D \\vert T^+) &= \\frac{P(T^+ \\vert D) \\times P(D)}{P(T^+ \\vert D) \\times P(D) + P(T^+ \\vert D^c) \\times P(D^c)} \\\\\n",
    "     &= \\frac{0.95 \\times 0.001}{0.95 \\times 0.001 + 0.01 \\times 0.999} \\\\\n",
    "     &= 8.7 \\%\n",
    "     \\end{aligned}$$\n",
    "* If the test makers improve their false positive rate to 0.001 then $$\\begin{aligned}\n",
    "     P(D \\vert T^+)\n",
    "     &= \\frac{0.95 \\times 0.001}{0.95 \\times 0.001 + 0.001 \\times 0.999} \\\\\n",
    "     &= 48.7 \\%\n",
    "     \\end{aligned}$$"
   ]
  },
  {
   "cell_type": "markdown",
   "metadata": {
    "slideshow": {
     "slide_type": "slide"
    }
   },
   "source": [
    "## Binomial formula\n",
    "\n"
   ]
  },
  {
   "cell_type": "markdown",
   "metadata": {
    "slideshow": {
     "slide_type": "slide"
    }
   },
   "source": [
    "## Factorial\n",
    "\n",
    "For an integer, $n$ its *factorial* is \n",
    "$$n! = n \\times (n-1) \\times (n-2) \\times \\dots \\times 3 \\times 2 \\times 1.$$\n",
    "\n",
    "Example: $5! = 5 \\times 4 \\times 3 \\times 2 \\times 1 = 120$.\n",
    "\n",
    "** There are $n!$ orderings of $n$ distinct objects.**"
   ]
  },
  {
   "cell_type": "markdown",
   "metadata": {
    "slideshow": {
     "slide_type": "slide"
    }
   },
   "source": [
    "## Drawing $k$ balls out of $n$, in order\n",
    "\n",
    "The number of ways of drawing $k$ balls without replacement (in order) from $n$ is $$\\frac{n!}{(n-k)!}$$\n",
    "\n",
    "Example: the number of ways of choosing 2 balls from 7 in order is \n",
    "$$\\frac{7!}{ 5!} = 7 \\times 6 = 42.$$"
   ]
  },
  {
   "cell_type": "markdown",
   "metadata": {
    "slideshow": {
     "slide_type": "slide"
    }
   },
   "source": [
    "## Binomial coefficient\n",
    "\n",
    "The number of ways of drawing $k$ balls without replacement and ignoring order from $n$ is \n",
    "$$\\frac{n!}{k! \\times (n-k)!}$$\n",
    "\n",
    "Example: the number of ways of choosing 2 balls from 7 ignoring order is \n",
    "$$\\frac{7!}{5! 2!} = \\frac{7 \\times 6 }{2}  = 21.$$\n",
    "\n",
    "We define the **binomial coefficient** as\n",
    "$$\\binom{n}{k} = \\binom{n}{n-k} = \\frac{n!}{k! \\times (n-k)!}.$$"
   ]
  },
  {
   "cell_type": "markdown",
   "metadata": {
    "slideshow": {
     "slide_type": "slide"
    }
   },
   "source": [
    "### Example\n",
    "\n",
    "- When flipping a coin 10 times, how many outcomes are there with 7 heads?\n",
    "\n",
    "- We can represent this as drawing 7 out of a possible 10 slots for the heads, without order. There are $\\binom{10}{7} = \\frac{10 \\times 9 \\times 8}{3 \\times 2 \\times 1} = 120 \\\n",
    "     \\text{outcomes}$"
   ]
  },
  {
   "cell_type": "markdown",
   "metadata": {
    "slideshow": {
     "slide_type": "slide"
    }
   },
   "source": [
    "## Independent trials\n",
    "\n",
    "1. A **trial**  is an experiment with two possible outcomes:  **success**\n",
    "    or  **failure**.\n",
    "2. The same experiment is repeated *independently*.\n",
    "3. Each time the experiment is repeated, the chances of success are the same: $p$."
   ]
  },
  {
   "cell_type": "markdown",
   "metadata": {
    "slideshow": {
     "slide_type": "slide"
    }
   },
   "source": [
    "## Binomial formula for computing probabilities\n",
    "\n",
    "When performing $n$ independent trials, each with probability of success $p$, the probability of observing exactly $k$ successes is \n",
    "$$\\binom{n}{ k} { p^k} {(1-p)^ {n-k}}.$$"
   ]
  },
  {
   "cell_type": "markdown",
   "metadata": {},
   "source": [
    "## Roulette\n",
    "\n",
    "<img src=\"http://introductorystats.files.wordpress.com/2010/11/roulette-wheel.jpg\">\n",
    "\n",
    "Source: http://introductorystats.wordpress.com."
   ]
  },
  {
   "cell_type": "markdown",
   "metadata": {
    "slideshow": {
     "slide_type": "slide"
    }
   },
   "source": [
    "## Example\n",
    "\n",
    "- Suppose we bet on  5\n",
    "   for 6 spins of the roulette wheel. \n",
    "   \n",
    "- What are the chances we win exactly 3 times?\n",
    "\n",
    "1. Make a box model.\n",
    "2. For your box, compute the probability of success of each trial. Call this $p$.\n",
    "3.  **The answer is $\\binom{6}{3} p^3 (1-p)^3.$**"
   ]
  },
  {
   "cell_type": "markdown",
   "metadata": {},
   "source": [
    "# Chance Variability (Chapters 16 and 17)\n",
    "\n",
    "In these chapters, we consider the behaviour of the\n",
    "average when drawing from a box multiple times.\n",
    "\n",
    "Two key concepts are:\n",
    "- *expected value*: what is the \"average\" value when we draw from a box?\n",
    "- *SE (standard error)*: \n",
    "     - How variable is a draw from a box?\n",
    "     - How variable is the average of several draws?"
   ]
  },
  {
   "cell_type": "markdown",
   "metadata": {
    "slideshow": {
     "slide_type": "slide"
    }
   },
   "source": [
    "## The law of averages\n",
    "\n",
    "* There is 18/38 chance of winning 10\\$, and 20/38 chance of losing 10\\$.\n",
    "* On average, each bet we \"gain\" $$\\frac{18}{38} \\times 10\\$ + \\frac{20}{38} \\times (-10\\$) = -\\frac{1}{19} \\times 10\\$ \\approx -0.52\\$ $$\n",
    "* This is the average of the 38 outcomes in our \"box model\".\n",
    "* Our average winnings after 20 bets is approximately -10.50\\$ so we should finish on average with about 89.50 \\$.\n",
    "* Our average winnings after 100 bets is approximately -52\\$ so we should finish on average with about 48 \\$.\n",
    "* Our average winnings after 1000 bets is approximately -520\\$ so we should finish on average about 420\\$ in debt."
   ]
  },
  {
   "cell_type": "markdown",
   "metadata": {
    "slideshow": {
     "slide_type": "slide"
    }
   },
   "source": [
    "## Expected value and standard error\n",
    "\n",
    "### Sum of draws\n",
    "\n",
    "* Draw a ticket (with replacement) from a box of balls with values assigned to them (i.e. 10\\$, -10\\$).\n",
    "\n",
    "* Repeat this process $n$ times and compute the sum of all the results, calling this the **sum of draws**.\n",
    "\n",
    "* On average, the **sum of draws**\n",
    "   should be about \n",
    "   \n",
    "        n * average(values in the box)\n",
    "   \n",
    "* The (theoretical) average of draws is **sum of draws**\n",
    "\n",
    "        \"theoretical average\"(sum of n draws) = n * average(values in the box)\n",
    "        \n",
    "* We call this \"theoretical average\" the \"expected value\"\n",
    "\n",
    "        expected(sum of n draws) = n * average(values in the box)\n",
    "        \n",
    "* Roulette example\n",
    "\n",
    "        expected(sum of 100 bets of 10$ on RED) = -52$"
   ]
  },
  {
   "cell_type": "markdown",
   "metadata": {
    "slideshow": {
     "slide_type": "slide"
    }
   },
   "source": [
    "## Chance error\n",
    "\n",
    "* Of course, we don’t always end up with 48\\$ after one hundred bets.\n",
    "* I simulated the entire experiment 10000 times and recorded the results in `winnings_sample100`.\n",
    "* A reasonable guess for how close to 48\\$ we would be \n",
    "      \n",
    "      SD(winnings_sample100) = 100$\n",
    "\n",
    "* Even though, on average, we should have 48\\$ after 100 bets, our winnings can fluctuate on the order of 100\\$.\n",
    "* Even though, on average, we should have on average -420\\$ after 1000 bets, our winnings can fluctuate on the order of 315\\$."
   ]
  },
  {
   "cell_type": "markdown",
   "metadata": {
    "slideshow": {
     "slide_type": "slide"
    }
   },
   "source": [
    "### Chance error\n",
    "\n",
    "* We define the *chance error*\n",
    "   of the experiment by \n",
    "   \n",
    "      sum of n draws = expected(sum of n draws) + chance error(sum of n draws)\n",
    "      \n",
    "* Example:\n",
    "     - We are going to flip a fair coin 100 times and record the number of heads.\n",
    "     - After 100 flips we observe 56 heads.\n",
    "     - The chance error in these 100 draws is 6 because the expected number of heads is 50."
   ]
  },
  {
   "cell_type": "markdown",
   "metadata": {
    "slideshow": {
     "slide_type": "slide"
    }
   },
   "source": [
    "### Square root rule\n",
    "\n",
    "\n",
    "* The **sum of draws**\n",
    "   should be near the average but likely to be off by \n",
    "   $$\\text{SE(sum of n draws)} = \\sqrt{n} \\times \\text{SD(values in the box)}$$\n",
    "* We call this the *standard error*. It measures the typical size of *chance error*."
   ]
  },
  {
   "cell_type": "markdown",
   "metadata": {
    "slideshow": {
     "slide_type": "slide"
    }
   },
   "source": [
    "### Difference between SD and SE\n",
    "\n",
    "- **SD is for data.** It is a function that take a list of numbers and returns a number.\n",
    "- **SE is for chance.** It takes a chance process like drawing 10 balls from a box of numbers and returns a number."
   ]
  },
  {
   "cell_type": "markdown",
   "metadata": {
    "slideshow": {
     "slide_type": "slide"
    }
   },
   "source": [
    "## Expected value and SE for average of draws\n",
    "\n",
    "- The **average of n draws** (or sample average) is\n",
    "\n",
    "         average of n draws = (sum of n draws) / n\n",
    "         \n",
    "- The expected value of the average of n draws is\n",
    "\n",
    "         expected(average of n draws) = average(box)\n",
    "         \n",
    "- The SE for the average of n draws is\n",
    "\n",
    "         SE(average of n draws) = SD(box) / sqrt(n)"
   ]
  },
  {
   "cell_type": "markdown",
   "metadata": {
    "slideshow": {
     "slide_type": "slide"
    }
   },
   "source": [
    "# Example: box = [1,2,3,4]\n",
    "\n"
   ]
  },
  {
   "cell_type": "code",
   "execution_count": null,
   "metadata": {
    "collapsed": false,
    "slideshow": {
     "slide_type": "fragment"
    }
   },
   "outputs": [],
   "source": [
    "box = [1,2,3,4]\n",
    "model = BoxModel(box)\n",
    "model.trial()"
   ]
  },
  {
   "cell_type": "markdown",
   "metadata": {
    "slideshow": {
     "slide_type": "fragment"
    }
   },
   "source": [
    "We can take a sample of size 5 from our box:"
   ]
  },
  {
   "cell_type": "code",
   "execution_count": null,
   "metadata": {
    "collapsed": false,
    "slideshow": {
     "slide_type": "fragment"
    }
   },
   "outputs": [],
   "source": [
    "model.sample(5)"
   ]
  },
  {
   "cell_type": "markdown",
   "metadata": {
    "slideshow": {
     "slide_type": "slide"
    }
   },
   "source": [
    "Let's make a new chance process that computes the sample mean\n",
    "after 10 draws from the box. This chance process computes the sample mean\n",
    "and SD of 10 draws from the box."
   ]
  },
  {
   "cell_type": "code",
   "execution_count": null,
   "metadata": {
    "collapsed": false,
    "slideshow": {
     "slide_type": "fragment"
    }
   },
   "outputs": [],
   "source": [
    "sample_mean = SampleMean(model, 10)\n",
    "sample_SD = SampleSD(model, 10)\n",
    "sample_mean.trial(), sample_SD.trial()\n"
   ]
  },
  {
   "cell_type": "markdown",
   "metadata": {
    "slideshow": {
     "slide_type": "fragment"
    }
   },
   "source": [
    "The expected value for this chance process is the mean of the values in the box."
   ]
  },
  {
   "cell_type": "code",
   "execution_count": null,
   "metadata": {
    "collapsed": false,
    "slideshow": {
     "slide_type": "fragment"
    }
   },
   "outputs": [],
   "source": [
    "expected_mean = np.mean(box)\n",
    "expected_mean, sum(box) / 4."
   ]
  },
  {
   "cell_type": "markdown",
   "metadata": {
    "slideshow": {
     "slide_type": "fragment"
    }
   },
   "source": [
    "The typical size of chance error for this chance process (i.e. its SE or standard error) is:"
   ]
  },
  {
   "cell_type": "code",
   "execution_count": null,
   "metadata": {
    "collapsed": false,
    "slideshow": {
     "slide_type": "fragment"
    }
   },
   "outputs": [],
   "source": [
    "SE_mean = np.std(box) / np.sqrt(10)\n",
    "SE_mean"
   ]
  },
  {
   "cell_type": "markdown",
   "metadata": {
    "slideshow": {
     "slide_type": "fragment"
    }
   },
   "source": [
    "So, a trial from `sample_mean` will be off by about 0.35 or so."
   ]
  },
  {
   "cell_type": "markdown",
   "metadata": {
    "slideshow": {
     "slide_type": "slide"
    }
   },
   "source": [
    "## Mathematical notation\n",
    "\n",
    "- We call a draw from a box a **random variable**, labelling it $X$, say.\n",
    "\n",
    "- Drawing with replacement at random from the box gives us *independent* random variables, $X_1, \\dots, X_n$\n",
    "\n",
    "- The sum of $n$ draws can be written as\n",
    "$$\n",
    "\\text{sum of $n$ draws} = \\sum_{i=1}^n X_i   \\quad (\\text{with $X_i$ independent draws from our box})\n",
    "$$\n",
    "\n",
    "- The average of $n$ draws can be written as\n",
    "$$\n",
    "\\text{average of $n$ draws} = \\frac{1}{n}\\sum_{i=1}^n X_i.\n",
    "$$\n",
    "\n",
    "### Why is the notation the same as for lists (or samples) of numbers?\n",
    "   \n",
    "- This is similar to the relationship between SE and SD.\n",
    "\n",
    "- One thing refers to sample values (SD, or the sample average), while the other refers to the chance process.\n"
   ]
  },
  {
   "cell_type": "markdown",
   "metadata": {
    "slideshow": {
     "slide_type": "slide"
    }
   },
   "source": [
    "### Example\n",
    "\n",
    "* In our  RED\n",
    "   roulette example, $V_1=10 \\$, V_2=-10\\$ $ and $p=18/38$.\n",
    "* The shortcut says that $$\\text{SD(values in the box)} = 20 \\$ \\times \\sqrt{\\frac{18}{38} \\times \\frac{20}{38}} \\approx 10\\$.$$\n",
    "* The square root rule says that $$\\text{SE(sum of 100 bet results)} = \\sqrt{100} \\times 10\\$ \\approx 100\\$.$$\n",
    "* The square root rule says that $$\\text{SE(sum of 1000 bet results)} = \\sqrt{1000} \\times 10\\$ \\approx 315\\$.$$"
   ]
  },
  {
   "cell_type": "markdown",
   "metadata": {
    "slideshow": {
     "slide_type": "slide"
    }
   },
   "source": [
    "# Probability histogram & normal approximation\n",
    "\n",
    "- This chapter considers a histogram\n",
    "approximation what we have been calling the `mass_function`\n",
    "of the `sum of draws`.\n",
    "\n",
    "- It turns out, that with enough draws, the sample histogram begins to follow\n",
    "the normal curve."
   ]
  },
  {
   "cell_type": "markdown",
   "metadata": {
    "slideshow": {
     "slide_type": "slide"
    }
   },
   "source": [
    "## Probability histogram for tossing a fair coin\n",
    "\n",
    "- When tossing a fair coin, there is 1/2 probability of getting 1 head, 1/2 of getting 0 heads.\n",
    "- We can make a histogram with an rectangle of width 1, area 1/2 around 0, and an identical rectangle around 1."
   ]
  },
  {
   "cell_type": "code",
   "execution_count": null,
   "metadata": {
    "collapsed": false,
    "slideshow": {
     "slide_type": "fragment"
    }
   },
   "outputs": [],
   "source": [
    "coin_trial = BoxModel(['H','T'])\n",
    "coin_trial.mass_function"
   ]
  },
  {
   "cell_type": "markdown",
   "metadata": {
    "slideshow": {
     "slide_type": "slide"
    }
   },
   "source": [
    "## Difference between probability histogram and mass function\n",
    "\n",
    "- The `mass_function` tells us the exact chances of either 0 or 1 success\n",
    "in our trial.\n",
    "\n",
    "- The probability histogram is based on breaking the numbers into bins (like\n",
    "we did with sample data earlier). \n",
    "\n",
    "- It then finds all the `mass` in those bins.\n",
    "\n",
    "- In our example, we have two bins: [-0.5,0.5) and [0.5,1.5).\n",
    "\n",
    "- There is chances 1/2 for the successes to be in the first bin, and \n",
    "chances 1/2 in the second.\n",
    "\n",
    "- Just as in a histogram for data, areas of bars represents percentages (chances).\n"
   ]
  },
  {
   "cell_type": "markdown",
   "metadata": {
    "slideshow": {
     "slide_type": "slide"
    }
   },
   "source": [
    "## Probability histogram: law of large numbers\n",
    "\n",
    "* Choose an experiment (e.g. tossing a fair coin twice and counting the number of heads, $H$).\n",
    "* Repeat the experiment 500 times creating a list $[H_1, H_2, \\dots, H_{500}].$\n",
    "* The frequentist view of probability tells us that the histogram of the list $[H_1, H_2, \\dots, H_{500}]$ should look like the *probability histogram*.\n",
    "* Or, the empirical histogram *converges* to the probability histogram.\n",
    "* We call this the *Law of Large Numbers*\n",
    "  "
   ]
  },
  {
   "cell_type": "code",
   "execution_count": null,
   "metadata": {
    "collapsed": false,
    "slideshow": {
     "slide_type": "skip"
    }
   },
   "outputs": [],
   "source": [
    "%%capture\n",
    "tosses = {}\n",
    "ntoss = 5\n",
    "tosses[ntoss] = plt.figure(figsize=figsize)\n",
    "probability_histogram(Binomial(ntoss, coin_trial, ['H']),\n",
    "                                    bins=np.arange(7)-0.5,\n",
    "                                    alpha=0.5, facecolor='gray',\n",
    "                                    xlabel='Number of heads',\n",
    "                                    ylabel='% per heads',\n",
    "                                    ndraws=500)\n",
    "tosses[ntoss].gca().set_xlim([-0.6,5.6])\n",
    "tosses[ntoss].gca().legend()\n"
   ]
  },
  {
   "cell_type": "code",
   "execution_count": null,
   "metadata": {
    "collapsed": false,
    "slideshow": {
     "slide_type": "fragment"
    }
   },
   "outputs": [],
   "source": [
    "tosses[5]"
   ]
  },
  {
   "cell_type": "markdown",
   "metadata": {
    "slideshow": {
     "slide_type": "slide"
    }
   },
   "source": [
    "### Probability histogram of successes"
   ]
  },
  {
   "cell_type": "code",
   "execution_count": null,
   "metadata": {
    "collapsed": false,
    "slideshow": {
     "slide_type": "skip"
    }
   },
   "outputs": [],
   "source": [
    "%%capture\n",
    "ntoss = 100\n",
    "tosses[ntoss] = plt.figure(figsize=figsize)\n",
    "probability_histogram(Binomial(ntoss, coin_trial, ['H']),\n",
    "                                    bins=np.arange(35,65)-0.5,\n",
    "                                    alpha=0.5, facecolor='gray',\n",
    "                                    xlabel='Number of heads',\n",
    "                                    ylabel='% per heads',\n",
    "                                    ndraws=500)\n",
    "tosses[ntoss].gca().set_xlim([35,65])\n",
    "tosses[ntoss].gca().legend()\n"
   ]
  },
  {
   "cell_type": "code",
   "execution_count": null,
   "metadata": {
    "collapsed": false,
    "slideshow": {
     "slide_type": "fragment"
    }
   },
   "outputs": [],
   "source": [
    "tosses[100]"
   ]
  },
  {
   "cell_type": "markdown",
   "metadata": {
    "slideshow": {
     "slide_type": "fragment"
    }
   },
   "source": [
    "The probability histogram looks a lot like a normal curve!\n",
    "\n",
    "**This is not an accident!**"
   ]
  },
  {
   "cell_type": "markdown",
   "metadata": {
    "slideshow": {
     "slide_type": "slide"
    }
   },
   "source": [
    "## Normal approximation\n",
    "\n",
    "### Central limit theorem\n",
    "\n",
    "* When making many independent draws from a box, the central limit theorem says that we can use the normal curve to approximate probabilities of things for the **sum of draws**\n",
    "  .\n",
    "* Specifically, the normal curve applies to \n",
    "$$\\frac{\\text{ sum of draws} - \\text{expected( sum of draws)}}{\\text{SE( sum of draws)}}$$"
   ]
  },
  {
   "cell_type": "markdown",
   "metadata": {
    "slideshow": {
     "slide_type": "slide"
    }
   },
   "source": [
    "We can now compute:\n",
    "- $\\text{average( sum of 100 draws)} = 100 \\times (-0.52)\\$ = -52\\$ $\n",
    "- $$\\text{SE( sum of  100 draws)} = \\sqrt{100} \\times 360 \\times \\sqrt{\\frac{1}{38} \\times \\frac{37}{38}} \\approx 576\\$ $$\n",
    "- Finishing with more than 200\\$ means the **sum of draws** was greater than 100\\$ .\n",
    "- In standardized units, this is $$\\frac{100-(-52)}{576} \\approx 0.27$$"
   ]
  },
  {
   "cell_type": "code",
   "execution_count": null,
   "metadata": {
    "collapsed": false,
    "slideshow": {
     "slide_type": "skip"
    }
   },
   "outputs": [],
   "source": [
    "%%capture\n",
    "with plt.xkcd():\n",
    "    winnings_stand = plt.figure(figsize=(10,5))\n",
    "    standardize_right(100, -52, 576, units=\"Total amount\", standardized=True,\n",
    "                      data=False)"
   ]
  },
  {
   "cell_type": "code",
   "execution_count": null,
   "metadata": {
    "collapsed": false,
    "slideshow": {
     "slide_type": "slide"
    }
   },
   "outputs": [],
   "source": [
    "winnings_stand"
   ]
  },
  {
   "cell_type": "code",
   "execution_count": null,
   "metadata": {
    "collapsed": false,
    "slideshow": {
     "slide_type": "skip"
    }
   },
   "outputs": [],
   "source": [
    "%%capture\n",
    "normal_fig = plt.figure(figsize=figsize)\n",
    "ax = normal_curve()\n",
    "interval = np.linspace(0.26, 4, 101)\n",
    "ax.fill_between(interval, 0*interval, ndist.pdf(interval),\n",
    "                hatch='+', color='green', alpha=0.5)\n",
    "ax.set_title('The green area is %0.1f%%' % (100 * ndist.sf(0.27)), fontsize=20, color='green')\n"
   ]
  },
  {
   "cell_type": "code",
   "execution_count": null,
   "metadata": {
    "collapsed": false,
    "slideshow": {
     "slide_type": "slide"
    }
   },
   "outputs": [],
   "source": [
    "normal_fig"
   ]
  },
  {
   "cell_type": "markdown",
   "metadata": {
    "slideshow": {
     "slide_type": "slide"
    }
   },
   "source": [
    "## Continuity correction\n",
    "\n",
    "- When using the normal approximation to the sum of draws, we sometimes use the *continuity correction*.\n",
    "- This means we might add or subtract 1/2 at the endpoints.\n",
    "\n",
    "- For example \n",
    "   - {observing more than 40 heads in 100 flips} = {observing more than 40.5 heads in 100 flips}\n",
    "   - {observing less than 45 heads in 100 flips} = {observing less than 44.5 heads in 100 flips}\n",
    "   - {observing exactly 40 heads in 100 flips} = {observing between 39.5 and 40.5 heads in 100 flips}\n",
    "   - {observing greater than or equal to 41 heads but less than 52 heads in 100 flips } = {observing between 40.5 and 51.5 heads in 100 flips}\n",
    "   \n",
    "   - {observing greater than 41 heads but less than 52 heads in 100 flips } = {observing between 41.5 and 51.5 heads in 100 flips}"
   ]
  },
  {
   "cell_type": "markdown",
   "metadata": {
    "slideshow": {
     "slide_type": "slide"
    }
   },
   "source": [
    "## Less than 45 heads with continuity correction"
   ]
  },
  {
   "cell_type": "code",
   "execution_count": null,
   "metadata": {
    "collapsed": false,
    "slideshow": {
     "slide_type": "fragment"
    }
   },
   "outputs": [],
   "source": [
    "tosses[100]"
   ]
  },
  {
   "cell_type": "code",
   "execution_count": null,
   "metadata": {
    "collapsed": false,
    "slideshow": {
     "slide_type": "skip"
    }
   },
   "outputs": [],
   "source": [
    "%%capture\n",
    "with plt.xkcd():\n",
    "    avg = 50\n",
    "    sd = sqrt(0.5**2*100)\n",
    "    heads_stand = plt.figure(figsize=(10,5))\n",
    "    standardize_left(44.5, avg, sd, units=\"Heads\", standardized=True,\n",
    "                     data=False)"
   ]
  },
  {
   "cell_type": "code",
   "execution_count": null,
   "metadata": {
    "collapsed": false,
    "slideshow": {
     "slide_type": "slide"
    }
   },
   "outputs": [],
   "source": [
    "SE = sqrt(100) * (1-0) * sqrt(1/2. * 1/2.)\n",
    "print SE\n",
    "heads_stand"
   ]
  },
  {
   "cell_type": "code",
   "execution_count": null,
   "metadata": {
    "collapsed": false,
    "slideshow": {
     "slide_type": "skip"
    }
   },
   "outputs": [],
   "source": [
    "%%capture\n",
    "normal_fig = plt.figure(figsize=figsize)\n",
    "ax = normal_curve()\n",
    "interval = np.linspace(-4,-1.10, 101)\n",
    "ax.fill_between(interval, 0*interval, ndist.pdf(interval),\n",
    "                hatch='+', color='green', alpha=0.5)\n",
    "ax.set_title('The green area is %0.1f%%' % (100 * ndist.cdf(-1.10)), fontsize=20, color='green')\n"
   ]
  },
  {
   "cell_type": "code",
   "execution_count": null,
   "metadata": {
    "collapsed": false,
    "slideshow": {
     "slide_type": "slide"
    }
   },
   "outputs": [],
   "source": [
    "normal_fig"
   ]
  },
  {
   "cell_type": "markdown",
   "metadata": {
    "slideshow": {
     "slide_type": "slide"
    }
   },
   "source": [
    "## Observing exactly 40 heads using continuity correction\n",
    "\n",
    "The standardized units are\n",
    "\n",
    "- (39.5 - 50) / 5 = -2.1\n",
    "- (40.5 - 50) / 5 = -1.9"
   ]
  },
  {
   "cell_type": "code",
   "execution_count": null,
   "metadata": {
    "collapsed": false,
    "slideshow": {
     "slide_type": "skip"
    }
   },
   "outputs": [],
   "source": [
    "%%capture\n",
    "normal_fig = plt.figure(figsize=figsize)\n",
    "ax = normal_curve()\n",
    "interval = np.linspace(-2.1,-1.9, 101)\n",
    "ax.fill_between(interval, 0*interval, ndist.pdf(interval),\n",
    "                hatch='+', color='green', alpha=0.5)\n",
    "ax.set_title('The green area is %0.1f%%' % (100 * (ndist.cdf(-1.9) - ndist.cdf(-2.10))), fontsize=20, color='green')\n",
    "\n"
   ]
  },
  {
   "cell_type": "code",
   "execution_count": null,
   "metadata": {
    "collapsed": false,
    "slideshow": {
     "slide_type": "slide"
    }
   },
   "outputs": [],
   "source": [
    "normal_fig"
   ]
  },
  {
   "cell_type": "markdown",
   "metadata": {
    "slideshow": {
     "slide_type": "fragment"
    }
   },
   "source": [
    "Compare this to the true value:\n",
    "\n",
    "$$\n",
    "\\binom{100}{40} \\left(\\frac{1}{2} \\right)^{40} \\left(\\frac{1}{2}\\right)^{60}\n",
    "$$"
   ]
  },
  {
   "cell_type": "code",
   "execution_count": null,
   "metadata": {
    "collapsed": false,
    "slideshow": {
     "slide_type": "fragment"
    }
   },
   "outputs": [],
   "source": [
    "Binomial(100, coin_trial, ['H']).mass_function[40]"
   ]
  },
  {
   "cell_type": "markdown",
   "metadata": {
    "slideshow": {
     "slide_type": "slide"
    }
   },
   "source": [
    "## Central limit theorem\n",
    "\n",
    "* The central limit theorem applies to **sum of draws**.\n",
    "* The number of draws should be reasonably large.\n",
    "* The more lopsided the values are, the more draws needed for reasonable approximation (compare the approximations of rolling  5\n",
    "   in roulette to flipping a fair coin).\n",
    "* It is another type of *convergence*\n",
    "  : as the number of draws grows, the normal approximation gets better."
   ]
  },
  {
   "cell_type": "markdown",
   "metadata": {
    "slideshow": {
     "slide_type": "fragment"
    }
   },
   "source": [
    "## Take away \n",
    "\n",
    "- If the box is lopsided, convergence to normal curve may be slower.\n",
    "\n",
    "- But it still happens (and can be used)!"
   ]
  },
  {
   "cell_type": "markdown",
   "metadata": {
    "slideshow": {
     "slide_type": "slide"
    }
   },
   "source": [
    "## How many samples should we take?\n",
    "\n",
    "- The normal approximation works when we take enough\n",
    "samples.\n",
    "- But how many should we take?\n",
    "- There have been various rules proposed...\n",
    "- For counts, a [rule of thumb](http://en.wikipedia.org/wiki/Binomial_distribution#Normal_approximation) says the Normal approximation to the Binomial is OK when $np \\geq k$ and $n(1-p) \\geq k$\n",
    "where $k$ is of the order of 5 or 10.\n",
    "- **For concreteness, we take $k=10$.**\n"
   ]
  }
 ],
 "metadata": {
  "celltoolbar": "Slideshow",
  "kernelspec": {
   "display_name": "Python 2",
   "language": "python",
   "name": "python2"
  },
  "language_info": {
   "codemirror_mode": {
    "name": "ipython",
    "version": 2
   },
   "file_extension": ".py",
   "mimetype": "text/x-python",
   "name": "python",
   "nbconvert_exporter": "python",
   "pygments_lexer": "ipython2",
   "version": "2.7.11"
  }
 },
 "nbformat": 4,
 "nbformat_minor": 0
}

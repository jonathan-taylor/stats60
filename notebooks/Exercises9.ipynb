{
 "cells": [
  {
   "cell_type": "markdown",
   "metadata": {},
   "source": [
    "## Like 29.A.3\n",
    "\n",
    "Suppose we roll a 4-sided die 50 times and observe the following \n",
    "in our rolls:\n",
    "\n",
    "Value  | Frequency\n",
    "-------|-----------\n",
    "1   |    24%\n",
    "2   |   34%\n",
    "3   |   20%\n",
    "4   |   22%\n",
    "\n",
    "Can we conclude the die is unfair?"
   ]
  },
  {
   "cell_type": "code",
   "execution_count": null,
   "metadata": {
    "collapsed": false
   },
   "outputs": [],
   "source": [
    "freq = array([24,34.,20,22.]) / 100.\n",
    "observed = freq * 50\n",
    "expected = array([0.25,0.25,0.25,0.25]) * 50\n"
   ]
  },
  {
   "cell_type": "markdown",
   "metadata": {},
   "source": []
  },
  {
   "cell_type": "markdown",
   "metadata": {},
   "source": [
    "## 29.C.3\n",
    "\n",
    "The table below shows the distribution of marital\n",
    "status by sex for persons of age 25-34 in Wyoming.\n",
    "\n",
    "Question: are the distributions really different for men and women?\n",
    "\n",
    "Status     |    Men   |   Women\n",
    "------|----------|----------\n",
    "Never married |   31.5%   | 19.2%\n",
    "Married       |   60.1%   | 67.3%\n",
    "Widowed, divorced, separated | 8.4%  | 13.5%\n"
   ]
  },
  {
   "cell_type": "markdown",
   "metadata": {},
   "source": [
    "You may assume the data are from a simple random sample\n",
    "of 299 persons, of whom 143 were men and 156 were women. To answer\n",
    "the question, you use:\n",
    "\n",
    "1. the one-sample $z$-test\n",
    "\n",
    "2. the two-sample $z$-test\n",
    "\n",
    "3. the $\\chi^2$-tes with a null hypothesis that tells you the\n",
    "contents of the box;\n",
    "\n",
    "4. the $\\chi^2$ test for independence."
   ]
  },
  {
   "cell_type": "code",
   "execution_count": null,
   "metadata": {
    "collapsed": false
   },
   "outputs": [],
   "source": [
    "data = array([[31.5,19.2], [60.1, 67.3], [8.4,13.5]])\n",
    "men, women = 143, 156"
   ]
  },
  {
   "cell_type": "code",
   "execution_count": null,
   "metadata": {
    "collapsed": false
   },
   "outputs": [],
   "source": []
  }
 ],
 "metadata": {
  "kernelspec": {
   "display_name": "Python 2",
   "language": "python",
   "name": "python2"
  },
  "language_info": {
   "codemirror_mode": {
    "name": "ipython",
    "version": 2
   },
   "file_extension": ".py",
   "mimetype": "text/x-python",
   "name": "python",
   "nbconvert_exporter": "python",
   "pygments_lexer": "ipython2",
   "version": "2.7.11"
  }
 },
 "nbformat": 4,
 "nbformat_minor": 0
}

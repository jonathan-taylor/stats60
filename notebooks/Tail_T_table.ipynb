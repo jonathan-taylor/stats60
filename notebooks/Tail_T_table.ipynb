{
 "cells": [
  {
   "cell_type": "markdown",
   "metadata": {
    "slideshow": {
     "slide_type": "slide"
    }
   },
   "source": [
    "# Tail area Student's $T$ table"
   ]
  },
  {
   "cell_type": "code",
   "execution_count": null,
   "metadata": {
    "collapsed": false,
    "slideshow": {
     "slide_type": "skip"
    }
   },
   "outputs": [],
   "source": [
    "%%capture\n",
    "%matplotlib inline\n",
    "from pylab import fill_between\n",
    "import matplotlib.pyplot as plt\n",
    "import numpy as np\n",
    "from scipy.stats import t as tdist\n",
    "\n",
    "def tail_t():\n",
    "    df = 20\n",
    "    X = np.linspace(-3.5,3.5,101)\n",
    "    D = tdist.pdf(X, df)\n",
    "    fig = plt.figure(figsize=(6,6))\n",
    "    ax = fig.gca()\n",
    "    ax.plot(X, D, 'k', linewidth=5)\n",
    "    x = np.linspace(1.72,5,201)\n",
    "    ax.fill_between(x, 0, tdist.pdf(x, df), facecolor='gray')\n",
    "    ax.set_xlabel('$T$ units', fontsize=15)\n",
    "    ax.set_ylabel('Percent per $T$ units', fontsize=15)\n",
    "    ax.set_ylim([0,.45])\n",
    "    ax.annotate('Area\\n(%/unit): top row in table\\n 5%', xy=(2.0, 0.3 * tdist.pdf(1.72, df)),\n",
    "               arrowprops=dict(facecolor='red'), xytext=(2,0.3),\n",
    "               fontsize=15)\n",
    "    ax.annotate('Quantile: entries in table, (1.72 for df=20)', xy=(1.72, 0),\n",
    "               arrowprops=dict(facecolor='red'), xytext=(2,-0.1),\n",
    "               fontsize=15)\n",
    "    ax.set_xlim([-4,4])\n",
    "    return fig\n",
    "\n",
    "with plt.xkcd():\n",
    "    fig = tail_t()"
   ]
  },
  {
   "cell_type": "code",
   "execution_count": null,
   "metadata": {
    "collapsed": false,
    "slideshow": {
     "slide_type": "fragment"
    }
   },
   "outputs": [],
   "source": [
    "fig"
   ]
  },
  {
   "cell_type": "code",
   "execution_count": null,
   "metadata": {
    "collapsed": false,
    "slideshow": {
     "slide_type": "skip"
    }
   },
   "outputs": [],
   "source": [
    "from ipy_table import make_table\n",
    "qs = [0.25,0.1,0.05,0.025,0.01,0.005]\n",
    "dfs = np.arange(1,26)\n",
    "tail = ([['df'] + ['%0.1f' % (100*q) for q in qs]] +\n",
    "        [[df] + ['%0.2f' % tdist.ppf(1-q, df) for q in qs] for df in dfs])\n",
    "Tail_Table = make_table(tail)\n",
    "tex_table = r'''\n",
    "\\begin{tabular}{c|cccccc}\n",
    "%s\n",
    "\\end{tabular}\n",
    "''' % '\\n'.join([' & ' .join([str(s) for s in r]) + r' \\\\' for r in tail])\n",
    "file('tail_table_T.tex', 'w').write(tex_table)"
   ]
  },
  {
   "cell_type": "code",
   "execution_count": null,
   "metadata": {
    "collapsed": false,
    "slideshow": {
     "slide_type": "fragment"
    }
   },
   "outputs": [],
   "source": [
    "Tail_Table"
   ]
  },
  {
   "cell_type": "code",
   "execution_count": null,
   "metadata": {
    "collapsed": false,
    "slideshow": {
     "slide_type": "skip"
    }
   },
   "outputs": [],
   "source": [
    "%%capture\n",
    "import os\n",
    "if not os.path.exists('tail_T.pdf'):\n",
    "    fig = tail_t()\n",
    "    fig.savefig('tail_T.pdf')"
   ]
  },
  {
   "cell_type": "code",
   "execution_count": null,
   "metadata": {
    "collapsed": false
   },
   "outputs": [],
   "source": []
  }
 ],
 "metadata": {
  "celltoolbar": "Slideshow",
  "kernelspec": {
   "display_name": "Python 2",
   "language": "python",
   "name": "python2"
  },
  "language_info": {
   "codemirror_mode": {
    "name": "ipython",
    "version": 2
   },
   "file_extension": ".py",
   "mimetype": "text/x-python",
   "name": "python",
   "nbconvert_exporter": "python",
   "pygments_lexer": "ipython2",
   "version": "2.7.11"
  }
 },
 "nbformat": 4,
 "nbformat_minor": 0
}

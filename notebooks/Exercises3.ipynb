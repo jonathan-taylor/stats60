{
 "cells": [
  {
   "cell_type": "markdown",
   "metadata": {
    "slideshow": {
     "slide_type": "slide"
    }
   },
   "source": [
    "# Chapter 10\n",
    "\n",
    "## 10.A.2\n",
    "\n",
    "- For the men age 18 and over in HANES5 we have the following\n",
    "information:\n",
    "\n",
    "Variable | Average | SD\n",
    "---------|---------|----\n",
    "Height   | 69in    | 3in\n",
    "Weight   | 190lb   | 42lb\n",
    "\n",
    "The correlation was $r=0.41$.\n",
    "\n",
    "Estimate the average weight of the men whose heights were\n",
    "\n",
    "1. 69in\n",
    "2. 66in\n",
    "3. 24in\n",
    "4. 0in.\n",
    "\n",
    "Comment on 3. and 4."
   ]
  },
  {
   "cell_type": "code",
   "execution_count": null,
   "metadata": {
    "collapsed": false,
    "slideshow": {
     "slide_type": "slide"
    }
   },
   "outputs": [],
   "source": [
    "slope = 0.41 * 42 / 3\n",
    "intercept = 190 - slope*69\n",
    "print(slope, intercept)\n",
    "# 1\n",
    "print(slope * 69 + intercept)\n",
    "# 2\n",
    "print(slope * 66 + intercept)\n",
    "# 3, 4\n",
    "print('these are severe extrapolations -- regression line probably not good')"
   ]
  },
  {
   "cell_type": "markdown",
   "metadata": {
    "slideshow": {
     "slide_type": "slide"
    }
   },
   "source": [
    "## 10.A.5\n",
    "\n",
    "Suppose $r=-1$. Can you explain why a one-SD increase in $x$ is \n",
    "matched by a one-SD decrease in $y$?"
   ]
  },
  {
   "cell_type": "markdown",
   "metadata": {
    "slideshow": {
     "slide_type": "slide"
    }
   },
   "source": [
    "## Like  10.6.2\n",
    "\n",
    "In a study of IQ scores, Stanford students had their\n",
    "IQ score recorded at freshman year and they were \n",
    "retested at their 20 year reunions.\n",
    "The following results are obtained\n",
    "\n",
    "Age | Average | SD\n",
    "---------|---------|----\n",
    "Freshman   | 110    | 18\n",
    "20 year alumni   | 110   | 20\n",
    "\n",
    "The correlation was $r=0.8$.\n",
    "\n",
    "1. Estimate the average score as alumni for all the individuals\n",
    "who scored 115 as freshmen.\n",
    "\n",
    "2. Predict the score for an alumni who scored 115 as a freshman.\n",
    "\n",
    "**For 1.  we would find regression line as above.**\n",
    "\n",
    "**For 2., not knowing anything else about the particular alumni\n",
    "our \"best guess\" is the same as the answer for part 1. This is assuming\n",
    "the scatter plot is \"football\" shaped.**"
   ]
  },
  {
   "cell_type": "code",
   "execution_count": null,
   "metadata": {
    "collapsed": false,
    "slideshow": {
     "slide_type": "slide"
    }
   },
   "outputs": [],
   "source": [
    "from scipy.stats import norm\n",
    "norm.cdf(5/18.)"
   ]
  },
  {
   "cell_type": "markdown",
   "metadata": {
    "slideshow": {
     "slide_type": "slide"
    }
   },
   "source": [
    "## Like 10.D.2\n",
    "\n",
    "An instructor standardizes her midterm and final each\n",
    "semester so the class average is 60 and the SD is 15 on both \n",
    "tests. The correlation between the tests\n",
    "is around 0.50. \n",
    "\n",
    "One semester, she took all the students who scored around\n",
    "30 at the midterm and gave them special tutoring. \n",
    "\n",
    "1. Suppose they all scored around 45 on the final. Can this be\n",
    "explained by the regression effect?\n",
    "\n",
    "2. Suppose they all scored around 60 on the final. Can this be\n",
    "explained by the regression effect?\n",
    "\n",
    "**The regression effect says that part 1 is about what we expect (assuming scatterplot is football. Part 2. is not explainable by regression effect, so maybe tutoring worked.**"
   ]
  },
  {
   "cell_type": "markdown",
   "metadata": {
    "slideshow": {
     "slide_type": "slide"
    }
   },
   "source": [
    "## Like 11.D.3\n",
    "\n",
    "In our wage vs. education plot we have the following information:\n",
    "\n",
    "\n",
    "Variable | Average | SD\n",
    "---------|---------|----\n",
    "wage (1000\\$)  | 10.3    | 4.9\n",
    "education  (years) | 12.7   | 2.0\n",
    "\n",
    "The correlation was $r=0.38$.\n",
    "\n",
    "1. Find the r.m.s. error of the regression for predicting `wage` from\n",
    "`education`.     \n",
    "\n",
    "2. Predict the wage of someone with 16 years of education.\n",
    "       \n",
    "3. This prediction is likely to be off by how much? If more information is needed,\n",
    "say what it is, and why.\n",
    "\n",
    "4. Repeat parts 2. and 3. for someone with 8 years of education.\n",
    "\n",
    "       \n"
   ]
  },
  {
   "cell_type": "markdown",
   "metadata": {
    "slideshow": {
     "slide_type": "slide"
    }
   },
   "source": [
    "## 12.4.3\n",
    "\n",
    "For men age 18-24 in the HANES5 sample, the regression equation for \n",
    "predicting height from weight is\n",
    "\n",
    "      predicted height = (0.0267 inches per pound) * weight + 65.2 inches\n",
    "      \n",
    "1. True or False. If someone puts on 20 pounds, he will get taller by\n",
    "\n",
    "      20 * 0.0267 = 0.5 inches?\n",
    "      \n",
    "2. If not, what does the slope mean?\n",
    "\n",
    "     "
   ]
  },
  {
   "cell_type": "markdown",
   "metadata": {
    "slideshow": {
     "slide_type": "slide"
    }
   },
   "source": [
    "## Like 12.4.7\n",
    "\n",
    "A statistician is doing a study on a group of undergraduates.\n",
    "On average, these students drink 6 beers a month with an SD of 5.\n",
    "They eat 5 pizzas a month with an SD of 3. There is some positive\n",
    "association between beer and pizza and the regression equation is\n",
    "\n",
    "      predicted number of beers = _______ * number of pizzas + 3\n",
    "      \n",
    "However, the statistician lost the data and forgot the slope. Can you\n",
    "help him remember the slope? Explain.\n",
    "\n",
    "\n",
    "       \n",
    "       "
   ]
  },
  {
   "cell_type": "code",
   "execution_count": null,
   "metadata": {
    "collapsed": false,
    "slideshow": {
     "slide_type": "fragment"
    }
   },
   "outputs": [],
   "source": [
    "m = slope = (6 - 3.) / 5\n",
    "m"
   ]
  },
  {
   "cell_type": "markdown",
   "metadata": {
    "slideshow": {
     "slide_type": "slide"
    }
   },
   "source": [
    "## Like 12.4.8\n",
    "\n",
    "An investigator wants to use a straight line to predict\n",
    "IQ levels from parental income, for a representative\n",
    "group of children aged 5-9. There is a weak\n",
    "positive association in the data. True or false, and explain.\n",
    "\n",
    "1. He can use many different lines.\n",
    "\n",
    "2. He has to use the regression line. \n",
    "\n",
    "3. Only the regression line has an r.m.s. error. \n",
    "\n",
    "4. Any line he uses will have an r.m.s. error. \n",
    "\n",
    "5. Among all lines, the regression line has the smallest r.m.s. error."
   ]
  },
  {
   "cell_type": "markdown",
   "metadata": {
    "slideshow": {
     "slide_type": "slide"
    }
   },
   "source": [
    "1. True. He does not need to use regression line.\n",
    "\n",
    "2. False. There are many ways to choose a line.\n",
    "\n",
    "3. False. Every line has an r.m.s. error.\n",
    "\n",
    "4. True.\n",
    "\n",
    "5. True. (We didn't prove it but we were told it was true...)"
   ]
  },
  {
   "cell_type": "markdown",
   "metadata": {
    "slideshow": {
     "slide_type": "slide"
    }
   },
   "source": [
    "## 11.4.7\n",
    "\n",
    "In one study of identical male twins, the average height was found to be\n",
    "68 inches with an SD of about 3 inches. The correlation between\n",
    "the heights of the twins was about 0.95, and the scatter diagram\n",
    "was football shaped.\n",
    "\n",
    "1. You have to guess the height of one of these twins, without\n",
    "any further information. What method would you use?\n",
    "\n",
    "     \n",
    "\n",
    "2. Find the r.m.s. error for the method in 1.\n",
    "\n",
    "     \n",
    "\n",
    "3. One twin of a pair is standing in front of you. You have to \n",
    "guess the height of the other twin. What method would you use? (Suppose the\n",
    "twin in front of you was 6 feet 6 inches).\n",
    "\n",
    "\n",
    "4. Find the r.m.s. error for the method in 3.\n",
    "\n",
    "        \n"
   ]
  },
  {
   "cell_type": "markdown",
   "metadata": {
    "slideshow": {
     "slide_type": "slide"
    }
   },
   "source": [
    "## 13.A.1\n",
    "\n",
    "A computer program is programmed to compute\n",
    "various chances. Match the numerical answers\n",
    "with the verbal answers (which may be used\n",
    "more than once).\n",
    "\n",
    "Choice | Numeric   | Verbal      | Answer\n",
    "-------|---------|----------------------\n",
    "A      |  -50%     |  This is as likely to happen as not.                 |\n",
    "B      |0%       |  This is very likely to happen but it's not certain. | \n",
    "C      |10%      |  This won't happen.                                  |\n",
    "D      |50%      | This may happen, but it's not likely.                |\n",
    "E      |90%      | This will happen, for sure.                          |\n",
    "F      |100%     | There's a bug in the program.                        |\n",
    "G      |200%     |                                                      |"
   ]
  },
  {
   "cell_type": "markdown",
   "metadata": {
    "slideshow": {
     "slide_type": "slide"
    }
   },
   "source": [
    "## 13.A.4\n",
    "\n",
    "In five-card draw poker, the chance of being dealt a full\n",
    "house (one pair and three of a kind) is 0.14 of 1%.\n",
    "If 10000 hands are dealt, about how many will be a full house?\n",
    "\n",
    "\n",
    "      "
   ]
  },
  {
   "cell_type": "markdown",
   "metadata": {
    "slideshow": {
     "slide_type": "slide"
    }
   },
   "source": [
    "## 13.B.4\n",
    "\n",
    "Five cards are dealt off the top of a well-shuffled deck.\n",
    "\n",
    "1. Find the chance that the 5th card is the queen of spades.\n",
    "\n",
    "        \n",
    "\n",
    "2. Find the chance that the 5th card is the queen of spades, given\n",
    "that the first 4 cards are hearts.\n",
    "\n",
    "        "
   ]
  },
  {
   "cell_type": "markdown",
   "metadata": {
    "slideshow": {
     "slide_type": "slide"
    }
   },
   "source": [
    "## 13.6.4\n",
    "\n",
    "A poker hand is dealt. Find the chance that the first four cards\n",
    "are aces and the fifth is a king."
   ]
  }
 ],
 "metadata": {
  "celltoolbar": "Slideshow",
  "kernelspec": {
   "display_name": "Python 2",
   "language": "python",
   "name": "python2"
  },
  "language_info": {
   "codemirror_mode": {
    "name": "ipython",
    "version": 2
   },
   "file_extension": ".py",
   "mimetype": "text/x-python",
   "name": "python",
   "nbconvert_exporter": "python",
   "pygments_lexer": "ipython2",
   "version": "2.7.11"
  }
 },
 "nbformat": 4,
 "nbformat_minor": 0
}

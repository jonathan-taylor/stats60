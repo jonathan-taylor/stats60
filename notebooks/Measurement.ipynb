{
 "cells": [
  {
   "cell_type": "code",
   "execution_count": null,
   "metadata": {
    "collapsed": false,
    "slideshow": {
     "slide_type": "skip"
    }
   },
   "outputs": [],
   "source": [
    "%matplotlib inline\n",
    "import matplotlib.pyplot as plt\n",
    "import numpy as np\n",
    "from numpy import mean, std\n",
    "from matplotlib.mlab import csv2rec\n",
    "from pylab import poly_between\n",
    "\n",
    "# stats60 specific\n",
    "from code.utils import sample_density\n",
    "figsize = (8,8)"
   ]
  },
  {
   "cell_type": "markdown",
   "metadata": {
    "slideshow": {
     "slide_type": "slide"
    }
   },
   "source": [
    "## Measurements and Data (Chapter 6)\n",
    "\n",
    "* We’ve talked about summaries of a list of numbers so far...\n",
    "* All such numbers come from some **measurement**.\n",
    "* For example, Stanford frosh SAT scores were **measured**\n",
    "   when you had your best SAT score.\n",
    "* Book uses the example of $K_{20}$ the US national prototype kilogram."
   ]
  },
  {
   "cell_type": "markdown",
   "metadata": {
    "slideshow": {
     "slide_type": "slide"
    }
   },
   "source": [
    "## Measurement\n",
    "\n",
    "\n",
    "<h3>\n",
    "No matter how carefully it was made, \n",
    "a measurement could have come out a bit differently.\n",
    "</h3>\n",
    "\n",
    "**But how much?**\n",
    "\n",
    "\n",
    "- The best way to find out is to replicate the measurement.\n",
    "\n",
    "- The SD of the replicates estimates the likely size of the chance error in a single measurement."
   ]
  },
  {
   "cell_type": "markdown",
   "metadata": {
    "slideshow": {
     "slide_type": "slide"
    }
   },
   "source": [
    "## Measurement model\n",
    "\n",
    "The basic measurement model is\n",
    "\n",
    "     measurement = exact value + chance error\n",
    "\n",
    "### Greek notation\n",
    "\n",
    "- Call the individual measurement $M$\n",
    "- the exact value $\\mu$\n",
    "- the chance error $\\epsilon$\n",
    "\n",
    "The measurement model is\n",
    "$$M = \\mu + \\epsilon$$"
   ]
  },
  {
   "cell_type": "markdown",
   "metadata": {
    "slideshow": {
     "slide_type": "slide"
    }
   },
   "source": [
    "### Repeated measurements\n",
    "\n",
    "- This is a situation in which an experiment is \n",
    "repeated several times.\n",
    "\n",
    "- Produces a list with $n$ entries \n",
    "\n",
    "$$\\text{measurement}_i = \\text{exact value} + \\text{chance error}_i$$\n",
    "\n",
    "### Greek notation\n",
    "\n",
    "- Call our list of measurements $[M_1, \\dots, M_n]$. \n",
    "- Then, $$M_i = \\mu + \\epsilon_i$$"
   ]
  },
  {
   "cell_type": "markdown",
   "metadata": {
    "slideshow": {
     "slide_type": "slide"
    }
   },
   "source": [
    "### Histogram of the measurements\n",
    "\n",
    "- Our measurement model says that the only thing changing between measurements is the chance error.\n",
    "-  The histogram of the measurements will be the histogram of the *chance error*\n",
    "  , shifted by the *exact value*.\n",
    "- In standard units, the histogram of the *measurements*\n",
    "   will look like the histogram of the *chance error*\n",
    "   in standard units.\n",
    "- If the normal curve fits the histogram of the *chance error*\n",
    "   well, it will fit the histogram of the *measurements*\n",
    "   well as well."
   ]
  },
  {
   "cell_type": "markdown",
   "metadata": {
    "slideshow": {
     "slide_type": "slide"
    }
   },
   "source": [
    "### Example: Weighing an apple\n",
    "\n",
    "* Suppose we have an apple that weights exactly 8 ounces.\n",
    "* Experiment: weigh the apple 100 different times.\n",
    "* If we know the exact weight of the apple is 8 ounces, we can find the chance errors."
   ]
  },
  {
   "cell_type": "markdown",
   "metadata": {
    "slideshow": {
     "slide_type": "slide"
    }
   },
   "source": [
    "### Histogram of apples"
   ]
  },
  {
   "cell_type": "code",
   "execution_count": null,
   "metadata": {
    "collapsed": false,
    "slideshow": {
     "slide_type": "skip"
    }
   },
   "outputs": [],
   "source": [
    "%%capture\n",
    "apple = np.random.standard_normal(5000)*1.2 + 8\n",
    "apple_fig = plt.figure(figsize=(10,10))\n",
    "apple_ax = apple_fig.gca()\n",
    "sample_density(apple, bins=25, ax=apple_ax, alpha=0.5, \n",
    "             facecolor='green')\n",
    "\n",
    "apple_ax.set_yticks([])\n",
    "apple_ax.set_xlabel('Weight of apple (ounces)', fontsize=20)\n",
    "apple_ax.set_title('Mean: %0.1f, SD: %0.1f' % (apple.mean(), apple.std()),\n",
    "                   fontsize=20)"
   ]
  },
  {
   "cell_type": "code",
   "execution_count": null,
   "metadata": {
    "collapsed": false,
    "slideshow": {
     "slide_type": "fragment"
    }
   },
   "outputs": [],
   "source": [
    "apple_fig"
   ]
  },
  {
   "cell_type": "markdown",
   "metadata": {
    "slideshow": {
     "slide_type": "slide"
    }
   },
   "source": [
    "### Histogram of chance error"
   ]
  },
  {
   "cell_type": "code",
   "execution_count": null,
   "metadata": {
    "collapsed": false,
    "slideshow": {
     "slide_type": "skip"
    }
   },
   "outputs": [],
   "source": [
    "%%capture\n",
    "error = apple - 8\n",
    "error_fig = plt.figure(figsize=(6,6))\n",
    "error_ax = error_fig.gca()\n",
    "sample_density(error, bins=25, ax=error_ax, alpha=0.5, \n",
    "             facecolor='red')\n",
    "\n",
    "error_ax.set_yticks([])\n",
    "error_ax.set_xlabel('Chance error (ounces)', fontsize=20)\n",
    "error_ax.set_title('Mean: %0.1f, SD: %0.1f' % (error.mean(), error.std()),\n",
    "                   fontsize=20)\n"
   ]
  },
  {
   "cell_type": "code",
   "execution_count": null,
   "metadata": {
    "collapsed": false,
    "slideshow": {
     "slide_type": "fragment"
    }
   },
   "outputs": [],
   "source": [
    "error_fig"
   ]
  },
  {
   "cell_type": "markdown",
   "metadata": {
    "slideshow": {
     "slide_type": "fragment"
    }
   },
   "source": [
    "The chance error *averages out* to be about 0."
   ]
  },
  {
   "cell_type": "markdown",
   "metadata": {
    "slideshow": {
     "slide_type": "slide"
    }
   },
   "source": [
    "## Wisdom of crowds (crowdsourcing)\n",
    "\n",
    "In 1906, while visiting a livestock fair, Sir Francis Galton stumbled upon an intriguing contest: \n",
    "\n",
    "[An ox was on display](http://en.wikipedia.org/wiki/The_Wisdom_of_Crowds#cite_note-1), and the villagers were invited to guess the animal's weight after it was slaughtered and dressed.\n",
    "\n",
    "- ~800 participants. No one hit the exact mark: 1,198 pounds.\n",
    "- However: the average was 1,197!\n",
    "- The chance error in 800 measurements averaged out to close to 0!\n",
    "- Villagers' bias seems very close to 0."
   ]
  },
  {
   "cell_type": "markdown",
   "metadata": {
    "slideshow": {
     "slide_type": "slide"
    }
   },
   "source": [
    "## Size of chance error\n",
    "\n",
    "- The likely size (in absolute value) of a chance error in a single\n",
    "measurement can be estimated by the SD of a sequence\n",
    "of repeated measurements."
   ]
  },
  {
   "cell_type": "markdown",
   "metadata": {
    "slideshow": {
     "slide_type": "slide"
    }
   },
   "source": [
    "## Normality of chance errors\n",
    "\n",
    "- Chance errors typically have a normal histogram, and the mean of the measurements is the exact value.\n",
    "- To get rid of chance error: repeat the measurement, and take average.\n",
    "- <font color=\"red\">But, how many observations before the average is accurate? </font>\n",
    "- This is why the normal approximation is useful! More on this later..."
   ]
  },
  {
   "cell_type": "markdown",
   "metadata": {
    "slideshow": {
     "slide_type": "slide"
    }
   },
   "source": [
    "## Outliers\n",
    "\n",
    "- Not all individual measurements fit the normal curve.\n",
    "- This could be because the histogram of measurements *shouldn’t*\n",
    "   fit the normal curve exactly ...\n",
    "- Or, an error was made in some of the measurements ...\n",
    "- Usually impossible to tell which ..."
   ]
  },
  {
   "cell_type": "markdown",
   "metadata": {
    "slideshow": {
     "slide_type": "slide"
    }
   },
   "source": [
    "## Bias or systematic error\n",
    "\n",
    "Conceptual definition (excerpt from book):\n",
    "\n",
    "\n",
    "- <h3> Bias affects all measurements the same way, pushing them \n",
    "in the same direction</h3>\n",
    "\n",
    "- <h3> Chance errors change from measurement \n",
    "to measurement, sometimes up and sometimes down.</h3>\n"
   ]
  },
  {
   "cell_type": "markdown",
   "metadata": {
    "slideshow": {
     "slide_type": "slide"
    }
   },
   "source": [
    "## Measurement model\n",
    "\n",
    "In light of the possibility of bias, we should\n",
    "rephrase our measurement model as:\n",
    "\n",
    "     measurement = exact value + bias + chance error\n",
    "\n",
    "### Greek notation\n",
    "\n",
    "- Call the bias $B$. Then\n",
    "$$M = \\mu + B + \\epsilon$$"
   ]
  },
  {
   "cell_type": "markdown",
   "metadata": {
    "slideshow": {
     "slide_type": "slide"
    }
   },
   "source": [
    "## Repeated measurements\n",
    "\n",
    "- Produces a list with $n$ entries \n",
    "$$\\text{measurement}_i = \\text{exact value} + \\text{bias} + \\text{chance error}_i$$\n",
    "\n",
    "### Greek notation\n",
    "\n",
    "- Call our list of measurements $[M_1, \\dots, M_n]$. Then, \n",
    "$$M_i = \\mu + B + \\epsilon_i$$"
   ]
  },
  {
   "cell_type": "markdown",
   "metadata": {
    "slideshow": {
     "slide_type": "slide"
    }
   },
   "source": [
    "## Take away\n",
    "\n",
    "** A measurement has three parts:**\n",
    "\n",
    "- **True value.** This is what we care about.\n",
    "- **Chance error.** This is something unavoidable in the measurement process. With many measurements, this should average out.\n",
    "- **Bias.** This is undesirable."
   ]
  },
  {
   "cell_type": "markdown",
   "metadata": {
    "slideshow": {
     "slide_type": "slide"
    }
   },
   "source": [
    "### Selection bias\n",
    "\n",
    "Suppose that the height of all female freshman at U.S. colleges follows a normal\n",
    "curve with average 68 inches and SD 3 inches.\n",
    "\n",
    "- What would you expect the histogram to look like if you tried to \n",
    "measure the average height by choosing names of students \n",
    "at random from [http://stanfordwho.edu](http://stanfordwho.edu)?\n",
    "\n",
    "- **What if you made your sample by choosing to measure height\n",
    "of all female basketball players?** We will assume that these are chosen from females 72 inches or taller (which is of course a gross simplification)."
   ]
  },
  {
   "cell_type": "code",
   "execution_count": null,
   "metadata": {
    "collapsed": false,
    "slideshow": {
     "slide_type": "skip"
    }
   },
   "outputs": [],
   "source": [
    "%%capture\n",
    "female_fig = plt.figure(figsize=(10,10))\n",
    "female_ax = female_fig.gca()\n",
    "female_sample = np.random.standard_normal(5000)*3+68\n",
    "sample_density(female_sample,\n",
    "             bins=30, ax=female_ax)\n",
    "female_ax.set_title('Choosing from http://stanfordwho.edu', fontsize=20)"
   ]
  },
  {
   "cell_type": "code",
   "execution_count": null,
   "metadata": {
    "collapsed": false,
    "slideshow": {
     "slide_type": "slide"
    }
   },
   "outputs": [],
   "source": [
    "female_fig"
   ]
  },
  {
   "cell_type": "code",
   "execution_count": null,
   "metadata": {
    "collapsed": false,
    "slideshow": {
     "slide_type": "slide"
    }
   },
   "outputs": [],
   "source": [
    "female_ax.set_title('Mean: %0.1f, SD: %0.1f' % (female_sample.mean(), \n",
    "                                                female_sample.std()),\n",
    "                   fontsize=20)\n",
    "female_fig"
   ]
  },
  {
   "cell_type": "code",
   "execution_count": null,
   "metadata": {
    "collapsed": false,
    "slideshow": {
     "slide_type": "skip"
    }
   },
   "outputs": [],
   "source": [
    "%%capture\n",
    "biased_sample = np.random.standard_normal(17000)*3+68\n",
    "biased_sample = biased_sample[biased_sample > 72]\n",
    "biased_fig = plt.figure(figsize=(10,10))\n",
    "biased_ax = biased_fig.gca()\n",
    "sample_density(biased_sample, \n",
    "             bins=25, ax=biased_ax, facecolor='gray')\n",
    "biased_ax.set_title('Choosing from basketball players', fontsize=20)\n"
   ]
  },
  {
   "cell_type": "code",
   "execution_count": null,
   "metadata": {
    "collapsed": false,
    "slideshow": {
     "slide_type": "slide"
    }
   },
   "outputs": [],
   "source": [
    "biased_fig"
   ]
  },
  {
   "cell_type": "code",
   "execution_count": null,
   "metadata": {
    "collapsed": false,
    "slideshow": {
     "slide_type": "slide"
    }
   },
   "outputs": [],
   "source": [
    "biased_ax.set_title('Mean: %0.1f, SD: %0.1f' % (biased_sample.mean(), \n",
    "                                                biased_sample.std()),\n",
    "                   fontsize=20)\n",
    "biased_fig"
   ]
  },
  {
   "cell_type": "markdown",
   "metadata": {
    "slideshow": {
     "slide_type": "slide"
    }
   },
   "source": [
    "## Take away from basketball example\n",
    "\n",
    "- This way of measuring introduced **bias** in that\n",
    "the average of the gray histogram is roughly 73, about 5 inches\n",
    "larger than the true average of 68.\n",
    "\n",
    "- It also changed the histogram of the **chance error**. It is now *skewed right.*\n",
    "\n",
    "- Computing mean from a biased sample won't generally be able to tell\n",
    "you much about the **exact value.**\n",
    "\n",
    "- Would you say this bias is similar to bias we discussed in NFIP study?"
   ]
  },
  {
   "cell_type": "code",
   "execution_count": null,
   "metadata": {
    "collapsed": false,
    "slideshow": {
     "slide_type": "skip"
    }
   },
   "outputs": [],
   "source": [
    "%%capture\n",
    "biased_error_fig = plt.figure(figsize=(10,10))\n",
    "biased_ax = biased_error_fig.gca()\n",
    "biased_error = biased_sample - biased_sample.mean()\n",
    "sample_density(biased_error, \n",
    "             bins=25, ax=biased_ax, facecolor='gray')\n",
    "biased_ax.set_title('Mean: %0.1f, SD: %0.1f' % (biased_error.mean(), \n",
    "                                                biased_error.std()),\n",
    "                   fontsize=20)\n",
    "\n"
   ]
  },
  {
   "cell_type": "code",
   "execution_count": null,
   "metadata": {
    "collapsed": false,
    "slideshow": {
     "slide_type": "slide"
    }
   },
   "outputs": [],
   "source": [
    "biased_error_fig"
   ]
  },
  {
   "cell_type": "markdown",
   "metadata": {
    "slideshow": {
     "slide_type": "slide"
    }
   },
   "source": [
    "## Problems encountered with bias\n",
    "\n",
    "* Bias doesn’t disappear with repeated measurements $$\\text{average}(\\text{list with bias}) = \\text{average}(\\text{unbiased list}) + \\text{bias}$$\n",
    "\n",
    "### Greek notation\n",
    "\n",
    "* In this notation $\\bar{M} = \\mu + B + \\bar{\\epsilon}$\n",
    "* Becomes very worrying when trying to compare two averages."
   ]
  },
  {
   "cell_type": "markdown",
   "metadata": {
    "slideshow": {
     "slide_type": "slide"
    }
   },
   "source": [
    "## Example: Weighing an apple and an orange with biased scales\n",
    "\n",
    "* Suppose we also have an orange that weighs exactly 8 ounces.\n",
    "* We weigh the apple and orange 100 different times each.\n",
    "* The scale we use for the orange has same SD, but, without knowing\n",
    "it we use our biased scale for the oranges and an unbiased scale for the apples."
   ]
  },
  {
   "cell_type": "code",
   "execution_count": null,
   "metadata": {
    "collapsed": false,
    "slideshow": {
     "slide_type": "skip"
    }
   },
   "outputs": [],
   "source": [
    "%%capture\n",
    "bias = 2 \n",
    "biased_apple = apple + bias\n",
    "biased_fig = plt.figure(figsize=(8,8))\n",
    "biased_ax = biased_fig.gca()\n",
    "sample_density(biased_apple, bins=25, ax=biased_ax, alpha=0.5, \n",
    "             facecolor='orange')\n",
    "\n",
    "biased_ax.set_yticks([])\n",
    "biased_ax.set_xlabel('Weight of orange using biased scale (ounces)', fontsize=20)\n",
    "biased_ax.set_title('Mean: %0.1f, SD: %0.1f' % (biased_apple.mean(), \n",
    "                                                        biased_apple.std()),\n",
    "                   fontsize=20)"
   ]
  },
  {
   "cell_type": "code",
   "execution_count": null,
   "metadata": {
    "collapsed": false,
    "slideshow": {
     "slide_type": "slide"
    }
   },
   "outputs": [],
   "source": [
    "biased_fig"
   ]
  },
  {
   "cell_type": "markdown",
   "metadata": {
    "slideshow": {
     "slide_type": "slide"
    }
   },
   "source": [
    "### Histogram of apples and oranges"
   ]
  },
  {
   "cell_type": "code",
   "execution_count": null,
   "metadata": {
    "collapsed": false,
    "slideshow": {
     "slide_type": "skip"
    }
   },
   "outputs": [],
   "source": [
    "%%capture\n",
    "orange = np.random.standard_normal(5000)*1.4 + 8\n",
    "sample_density(orange + bias, ax=apple_ax, bins=25,\n",
    "            facecolor='orange')\n",
    "apple_ax.set_title('')\n",
    "apple_ax.set_xlabel('Weight (ounces)')\n"
   ]
  },
  {
   "cell_type": "code",
   "execution_count": null,
   "metadata": {
    "collapsed": false,
    "slideshow": {
     "slide_type": "fragment"
    }
   },
   "outputs": [],
   "source": [
    "apple_fig"
   ]
  },
  {
   "cell_type": "markdown",
   "metadata": {
    "slideshow": {
     "slide_type": "slide"
    }
   },
   "source": [
    "### Dealing with bias\n",
    "\n",
    "* What if we weighed the apple half the time on one scale and half on the other?\n",
    "* And did the same with the oranges ...\n",
    "* Will the histogram still look like a normal curve?\n",
    "* Would you say that this is similar to randomization in NFIP study?"
   ]
  },
  {
   "cell_type": "markdown",
   "metadata": {
    "slideshow": {
     "slide_type": "slide"
    }
   },
   "source": [
    "### Histogram of apples on two scales"
   ]
  },
  {
   "cell_type": "code",
   "execution_count": null,
   "metadata": {
    "collapsed": false,
    "slideshow": {
     "slide_type": "skip"
    }
   },
   "outputs": [],
   "source": [
    "%%capture\n",
    "apple_random = apple + 2 * np.random.binomial(1, 0.5, size=apple.size)\n",
    "orange_random = orange + 2 * np.random.binomial(1, 0.5, size=apple.size)\n",
    "random_fig = plt.figure(figsize=(10,10))\n",
    "random_ax = random_fig.gca()\n",
    "sample_density(apple_random, ax=random_ax, bins=30,\n",
    "            facecolor='green')\n",
    "sample_density(orange_random, ax=random_ax, bins=30,\n",
    "            facecolor='orange')\n",
    "random_ax.set_xlabel('Weight (ounces)', fontsize=20)"
   ]
  },
  {
   "cell_type": "code",
   "execution_count": null,
   "metadata": {
    "collapsed": false,
    "slideshow": {
     "slide_type": "fragment"
    }
   },
   "outputs": [],
   "source": [
    "random_fig"
   ]
  },
  {
   "cell_type": "markdown",
   "metadata": {
    "slideshow": {
     "slide_type": "slide"
    }
   },
   "source": [
    "### Take-away from the randomization experiment\n",
    "\n",
    "\n",
    "- Both histograms have had the average shifted by 1 (half the bias).\n",
    "\n",
    "- The bias in the difference we saw when we used one scale exclusively\n",
    "for oranges has been reduced.\n",
    "\n",
    "- The weights of the apples and oranges are *confounded*\n",
    "   by the difference between the scales.\n",
    "\n",
    "- The variable that says which scale was used to make each weight is a *confounding variable*.\n",
    "\n",
    "- Randomization allowed us to eliminate this confounder.\n",
    "\n",
    "- Close to a normal curve, but not quite.\n"
   ]
  },
  {
   "cell_type": "markdown",
   "metadata": {
    "slideshow": {
     "slide_type": "slide"
    }
   },
   "source": [
    "### Other example of measurements\n",
    "\n",
    "\n",
    "* Opinion polls. (Does our measurement model work here? What is bias?)\n",
    "* Weighing 100 different apples on Scale 1 instead of 1 apple 100 times. (Would you get the same SD? Would it be larger? Smaller?)\n",
    "* The SAT test is a measurement of \"aptitude\". \n",
    "* An MRI scan is a measurement (actually, several 100,000 measurements).\n",
    "* Body weight is a measurement."
   ]
  }
 ],
 "metadata": {
  "celltoolbar": "Slideshow",
  "kernelspec": {
   "display_name": "Python 2",
   "language": "python",
   "name": "python2"
  },
  "language_info": {
   "codemirror_mode": {
    "name": "ipython",
    "version": 2
   },
   "file_extension": ".py",
   "mimetype": "text/x-python",
   "name": "python",
   "nbconvert_exporter": "python",
   "pygments_lexer": "ipython2",
   "version": "2.7.11"
  }
 },
 "nbformat": 4,
 "nbformat_minor": 0
}

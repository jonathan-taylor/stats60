{
 "cells": [
  {
   "cell_type": "markdown",
   "metadata": {
    "slideshow": {
     "slide_type": "slide"
    }
   },
   "source": [
    "# Chapter 16\n",
    "\n",
    "## 16.5.10\n",
    "\n",
    "Two hundred draws will be made at random with replacement from:"
   ]
  },
  {
   "cell_type": "code",
   "execution_count": null,
   "metadata": {
    "collapsed": false,
    "slideshow": {
     "slide_type": "skip"
    }
   },
   "outputs": [],
   "source": [
    "%matplotlib inline\n",
    "import matplotlib.pyplot as plt\n",
    "from numpy import std, sqrt, mean\n",
    "from code.probability import BoxModel, SumOfDraws, SumIntegerRV\n",
    "from code.utils import probability_histogram"
   ]
  },
  {
   "cell_type": "code",
   "execution_count": null,
   "metadata": {
    "collapsed": false,
    "slideshow": {
     "slide_type": "fragment"
    }
   },
   "outputs": [],
   "source": [
    "box = [-3,-2,-1,0,1,2,3]"
   ]
  },
  {
   "cell_type": "markdown",
   "metadata": {
    "slideshow": {
     "slide_type": "slide"
    }
   },
   "source": [
    "1. If the sum of the 200 numbers is 30, what is their average?\n",
    "\n",
    "2. If the sum of the 200 numbers drawn is -20, what is their average?      \n",
    "      \n",
    "3. In general, how can you figure the average of the 200 draws, if you are told their sum?\n",
    "       \n",
    "4. There are two alternatives. Which is better? Explain.\n",
    "\n",
    "    - Winning 1\\$ if the sum of the 200 numbers drawn is between -5 and 5.\n",
    "    - Winning 1\\$ if the average of the 200 numbers drawn is between -0.025 and 0.025.\n",
    "         \n",
    "5. What is the SE of the sum of the 200 draws? What about the average?\n",
    "\n",
    "\n"
   ]
  },
  {
   "cell_type": "code",
   "execution_count": null,
   "metadata": {
    "collapsed": false,
    "slideshow": {
     "slide_type": "fragment"
    }
   },
   "outputs": [],
   "source": [
    "sqrt(200) * std(box), std(box) / sqrt(200)"
   ]
  },
  {
   "cell_type": "markdown",
   "metadata": {
    "slideshow": {
     "slide_type": "slide"
    }
   },
   "source": [
    "## Like 17.B.1\n",
    "\n",
    "One hundred draws are going to be made at random with replacement from \n",
    "the box"
   ]
  },
  {
   "cell_type": "code",
   "execution_count": null,
   "metadata": {
    "collapsed": false,
    "slideshow": {
     "slide_type": "fragment"
    }
   },
   "outputs": [],
   "source": [
    "box1 = [1,3,5,7,9,11,13]\n",
    "E, S = mean(box1), std(box1)\n",
    "E, S"
   ]
  },
  {
   "cell_type": "markdown",
   "metadata": {
    "slideshow": {
     "slide_type": "slide"
    }
   },
   "source": [
    "1. Find the expected value and standard error for the sum.\n",
    "\n",
    "**Expected=700, SE=sqrt(100)*4=40. **\n",
    "\n",
    "2. The sum of the draws will be around **700** give or take   **40** or so.\n",
    "\n",
    "3. Suppose you had to guess what the sum was going to be. What would you guess? Would you expect to be off by around 4, 8 or 40? \n",
    "\n",
    "**We would guess 700, and be off by around 40 or so.**\n"
   ]
  },
  {
   "cell_type": "markdown",
   "metadata": {
    "slideshow": {
     "slide_type": "slide"
    }
   },
   "source": [
    "\n",
    "## 17.6.1\n",
    "\n",
    "One hundred draws will be made at random with replacement from the box:"
   ]
  },
  {
   "cell_type": "code",
   "execution_count": null,
   "metadata": {
    "collapsed": false,
    "slideshow": {
     "slide_type": "fragment"
    }
   },
   "outputs": [],
   "source": [
    "box2 = [1,6,7,9,9,10]\n",
    "E2, S2 = mean(box2), std(box2)\n",
    "E2, S2"
   ]
  },
  {
   "cell_type": "markdown",
   "metadata": {
    "slideshow": {
     "slide_type": "fragment"
    }
   },
   "source": [
    "- How small can the sum of the draws be? How large?\n",
    "\n",
    "**Smallest: 100, Largest: 1000 **\n",
    "\n",
    "- The sum is between 650 and 750 with a chance of about (choose one from): [1%,10%,50%,90%,99%]?\n",
    "\n",
    "**Expect to be around 700 give or take 30. \n",
    "In standardized units, interval is (-1.65,1.65). Chances are around 90%.**\n"
   ]
  },
  {
   "cell_type": "code",
   "execution_count": null,
   "metadata": {
    "collapsed": false,
    "slideshow": {
     "slide_type": "slide"
    }
   },
   "outputs": [],
   "source": [
    "model = BoxModel(box2)\n",
    "sum_100 = SumOfDraws(model, 100)\n",
    "S = sum_100.sample(10000)\n",
    "mean([(s > 650) * (s < 750) for s in S])"
   ]
  },
  {
   "cell_type": "markdown",
   "metadata": {
    "slideshow": {
     "slide_type": "slide"
    }
   },
   "source": [
    "## Like 17.6.8\n",
    "\n",
    "A die is rolled 100 times. The outcome we are interested in is the difference between\n",
    "the number of 1's and the number of 6's. \n",
    "\n",
    "1. Describe the box model for this chance process.\n",
    "\n",
    "2. Find the expected value and standard error for the difference.\n"
   ]
  },
  {
   "cell_type": "code",
   "execution_count": null,
   "metadata": {
    "collapsed": false,
    "slideshow": {
     "slide_type": "fragment"
    }
   },
   "outputs": [],
   "source": [
    "std([1,0,0,0,0,-1])"
   ]
  },
  {
   "cell_type": "markdown",
   "metadata": {
    "slideshow": {
     "slide_type": "slide"
    }
   },
   "source": [
    "## Like 17.6.11\n",
    "\n",
    "One hundred draws are made at random with replacement from the box"
   ]
  },
  {
   "cell_type": "code",
   "execution_count": null,
   "metadata": {
    "collapsed": false,
    "slideshow": {
     "slide_type": "fragment"
    }
   },
   "outputs": [],
   "source": [
    "box3 = [-3,-2,0,2,4]"
   ]
  },
  {
   "cell_type": "markdown",
   "metadata": {
    "slideshow": {
     "slide_type": "fragment"
    }
   },
   "source": [
    "Find the expected value and standard error of the sum of the **positive** numbers."
   ]
  },
  {
   "cell_type": "code",
   "execution_count": null,
   "metadata": {
    "collapsed": false,
    "slideshow": {
     "slide_type": "fragment"
    }
   },
   "outputs": [],
   "source": [
    "std([0,0,0,2,4])"
   ]
  },
  {
   "cell_type": "markdown",
   "metadata": {
    "slideshow": {
     "slide_type": "slide"
    }
   },
   "source": [
    "## 17.6.7\n",
    "\n",
    "One hundred draws are made at random with replacement from the box"
   ]
  },
  {
   "cell_type": "code",
   "execution_count": null,
   "metadata": {
    "collapsed": false,
    "slideshow": {
     "slide_type": "fragment"
    }
   },
   "outputs": [],
   "source": [
    "box4 = [1,2,3,4,5,6]"
   ]
  },
  {
   "cell_type": "markdown",
   "metadata": {
    "slideshow": {
     "slide_type": "fragment"
    }
   },
   "source": [
    "1. If the sum of the draws is 321, what is their average? \n",
    "\n",
    "2. If the average of the draws is 3.78 what is their sum?\n",
    "\n",
    "3. Estimate the chance that the average is between 3 and 4.\n",
    "\n",
    "            "
   ]
  },
  {
   "cell_type": "code",
   "execution_count": null,
   "metadata": {
    "collapsed": false,
    "slideshow": {
     "slide_type": "fragment"
    }
   },
   "outputs": [],
   "source": [
    "expected_100 = mean(box4)\n",
    "SE_100 = std(box4) / sqrt(100)\n",
    "expected_100, SE_100"
   ]
  },
  {
   "cell_type": "code",
   "execution_count": null,
   "metadata": {
    "collapsed": false,
    "slideshow": {
     "slide_type": "fragment"
    }
   },
   "outputs": [],
   "source": [
    "upper_limit = (4-expected_100) / SE_100\n",
    "lower_limit = (3 - expected_100) / SE_100\n",
    "lower_limit, upper_limit"
   ]
  },
  {
   "cell_type": "markdown",
   "metadata": {
    "slideshow": {
     "slide_type": "slide"
    }
   },
   "source": [
    "# Chapter 18"
   ]
  },
  {
   "cell_type": "markdown",
   "metadata": {
    "slideshow": {
     "slide_type": "fragment"
    }
   },
   "source": [
    "## Like 18.B.5\n",
    "\n",
    "A coin is tossed 20,000 times. Estimate the chance of getting\n",
    "\n",
    "1. 9,800 to 10,100 heads.\n",
    "\n",
    "2. 9,800 heads or fewer.\n",
    "\n",
    "3. 10,100 heads or more."
   ]
  },
  {
   "cell_type": "markdown",
   "metadata": {
    "slideshow": {
     "slide_type": "slide"
    }
   },
   "source": [
    "## Like 18.C.5\n",
    "\n",
    "The histogram below is the probability histogram for 25 draws\n",
    "made at random with replacement from one of the boxes below.\n",
    "\n",
    "1. [0,1]\n",
    "\n",
    "2. [0,0,0,0,0,0,0,0,0,1]\n",
    "\n",
    "3. [1,1,1,1,1,1,1,1,1,0]\n",
    "\n",
    "Which box is it?"
   ]
  },
  {
   "cell_type": "code",
   "execution_count": null,
   "metadata": {
    "collapsed": false,
    "slideshow": {
     "slide_type": "skip"
    }
   },
   "outputs": [],
   "source": [
    "%%capture\n",
    "rv = SumIntegerRV([0.1,0.9],25)\n",
    "hist_fig = plt.figure(figsize=(6,6))\n",
    "ax = hist_fig.gca()\n",
    "probability_histogram(rv, ax=ax)"
   ]
  },
  {
   "cell_type": "code",
   "execution_count": null,
   "metadata": {
    "collapsed": false,
    "slideshow": {
     "slide_type": "slide"
    }
   },
   "outputs": [],
   "source": [
    "hist_fig"
   ]
  },
  {
   "cell_type": "markdown",
   "metadata": {
    "slideshow": {
     "slide_type": "slide"
    }
   },
   "source": [
    "## Like 18.7.2\n",
    "\n",
    "Four hundred draws will be made at random with replacement from the box"
   ]
  },
  {
   "cell_type": "code",
   "execution_count": null,
   "metadata": {
    "collapsed": false,
    "slideshow": {
     "slide_type": "fragment"
    }
   },
   "outputs": [],
   "source": [
    "box5 = [2,4,6,8]"
   ]
  },
  {
   "cell_type": "markdown",
   "metadata": {
    "slideshow": {
     "slide_type": "fragment"
    }
   },
   "source": [
    "1. Estimate the chance that the sum of draws will be more than 1900.\n",
    "\n",
    "2. Estimate the chance that there will be fewer than 90 `4`s."
   ]
  },
  {
   "cell_type": "markdown",
   "metadata": {
    "slideshow": {
     "slide_type": "slide"
    }
   },
   "source": [
    "## 18.7.7\n",
    "\n",
    "A pair of dice are thrown. The total number of spots is like:\n",
    "\n",
    "1. One draw from the box [2,3,4,5,6,7,8,9,10,11,12], OR, the sum of two draws from the box [1,2,3,4,5,6]. Explain.\n",
    "\n",
    "2. Suppose you throw two dice 1000 times and record their sum. Estimate the chance of getting more than 200 outcomes whose sum is 7.\n",
    "\n",
    "        "
   ]
  },
  {
   "cell_type": "code",
   "execution_count": null,
   "metadata": {
    "collapsed": false,
    "slideshow": {
     "slide_type": "fragment"
    }
   },
   "outputs": [],
   "source": [
    "sqrt(1000 * 5 / 36.), (200 - 1000 / 6.) / sqrt(1000 * 5 / 36.)"
   ]
  },
  {
   "cell_type": "markdown",
   "metadata": {
    "slideshow": {
     "slide_type": "slide"
    }
   },
   "source": [
    "## 18.7.10\n",
    "\n",
    "Ten thousand draws are made at random with replacement from a box with \n",
    "ninety-nine tickets marked \"`0`\" and one ticket marked \"`1`\".\n",
    "True or false, and explain:\n",
    "\n",
    "1. The sum will be around 100, give or take 10 or so.\n",
    "\n",
    "2. There is about a 68% chance that the sum will be in the range 90 to 100.\n"
   ]
  }
 ],
 "metadata": {
  "celltoolbar": "Slideshow",
  "kernelspec": {
   "display_name": "Python 2",
   "language": "python",
   "name": "python2"
  },
  "language_info": {
   "codemirror_mode": {
    "name": "ipython",
    "version": 2
   },
   "file_extension": ".py",
   "mimetype": "text/x-python",
   "name": "python",
   "nbconvert_exporter": "python",
   "pygments_lexer": "ipython2",
   "version": "2.7.11"
  }
 },
 "nbformat": 4,
 "nbformat_minor": 0
}

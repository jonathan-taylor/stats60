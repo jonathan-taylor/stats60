{
 "metadata": {
  "celltoolbar": "Slideshow",
  "name": "",
  "signature": "sha256:7b97312d55f47fbe66db47d41d9703aa86870c8fc3c9ba9abca99edb72df3f61"
 },
 "nbformat": 3,
 "nbformat_minor": 0,
 "worksheets": [
  {
   "cells": [
    {
     "cell_type": "markdown",
     "metadata": {
      "slideshow": {
       "slide_type": "slide"
      }
     },
     "prompt_number": 1,
     "source": [
      "# Probability histogram & normal approximation\n",
      "\n",
      "- This chapter considers a histogram\n",
      "approximation what we have been calling the `mass_function`\n",
      "of the `sum of draws`.\n",
      "\n",
      "- It turns out, that with enough draws, the sample histogram begins to follow\n",
      "the normal curve."
     ]
    },
    {
     "cell_type": "markdown",
     "metadata": {
      "slideshow": {
       "slide_type": "slide"
      }
     },
     "prompt_number": 1,
     "source": [
      "## Probability histogram for tossing a fair coin\n",
      "\n",
      "- When tossing a fair coin, there is 1/2 probability of getting 1 head, 1/2 of getting 0 heads.\n",
      "- We can make a histogram with an rectangle of width 1, area 1/2 around 0, and an identical rectangle around 1."
     ]
    },
    {
     "cell_type": "code",
     "collapsed": false,
     "input": [
      "from stats_lectures.stats60.api import BoxModel\n",
      "coin_trial = BoxModel(['H','T'])\n",
      "coin_trial.mass_function"
     ],
     "language": "python",
     "metadata": {
      "slideshow": {
       "slide_type": "fragment"
      }
     },
     "outputs": [],
     "prompt_number": 1
    },
    {
     "cell_type": "heading",
     "level": 3,
     "metadata": {
      "slideshow": {
       "slide_type": "slide"
      }
     },
     "prompt_number": 2,
     "source": [
      "Probability histogram of successes"
     ]
    },
    {
     "cell_type": "code",
     "collapsed": false,
     "input": [
      "%%capture\n",
      "one_toss = plt.figure(figsize=stats60_figsize)\n",
      "one_toss_ax = probability_histogram(Binomial(1, coin_trial, ['H']),\n",
      "                                    draw_bins=np.arange(2)-0.5,\n",
      "                                    alpha=0.5, facecolor='gray',\n",
      "                                    xlabel='Number of heads',\n",
      "                                    ylabel='% per head')[0]\n",
      "one_toss_ax.set_xlim([-0.6,1.6])"
     ],
     "language": "python",
     "metadata": {
      "slideshow": {
       "slide_type": "skip"
      }
     },
     "outputs": [],
     "prompt_number": 2
    },
    {
     "cell_type": "code",
     "collapsed": false,
     "input": [
      "one_toss"
     ],
     "language": "python",
     "metadata": {
      "slideshow": {
       "slide_type": "fragment"
      }
     },
     "outputs": [],
     "prompt_number": 3
    },
    {
     "cell_type": "markdown",
     "metadata": {
      "slideshow": {
       "slide_type": "slide"
      }
     },
     "prompt_number": 4,
     "source": [
      "## Difference between probability histogram and mass function\n",
      "\n",
      "- The `mass_function` tells us the exact chances of either 0 or 1 success\n",
      "in our trial.\n",
      "\n",
      "- The probability histogram is based on breaking the numbers into bins (like\n",
      "we did with sample data earlier). \n",
      "\n",
      "- It then finds all the `mass` in those bins.\n",
      "\n",
      "- In our example, we have two bins: [-0.5,0.5) and [0.5,1.5).\n",
      "\n",
      "- There is chances 1/2 for the successes to be in the first bin, and \n",
      "chances 1/2 in the second.\n",
      "\n",
      "- Just as in a histogram for data, areas of bars represents percentages (chances).\n"
     ]
    },
    {
     "cell_type": "markdown",
     "metadata": {
      "slideshow": {
       "slide_type": "slide"
      }
     },
     "prompt_number": 4,
     "source": [
      "## Tossing a fair coin twice\n",
      "\n",
      "* When tossing a fair coin twice , there is\n",
      "*     * 1/4 probability of getting 2 heads\n",
      "      * 1/2 probability of getting 1 head\n",
      "      * 1/4 probability of getting 0 heads\n",
      "* We can make similarly make a histogram for this experiment.\n",
      "* This histogram is called a *probability histogram*.\n"
     ]
    },
    {
     "cell_type": "heading",
     "level": 3,
     "metadata": {
      "slideshow": {
       "slide_type": "slide"
      }
     },
     "prompt_number": 4,
     "source": [
      "Probability histogram of successes"
     ]
    },
    {
     "cell_type": "code",
     "collapsed": false,
     "input": [
      "%%capture\n",
      "two_toss = plt.figure(figsize=stats60_figsize)\n",
      "two_toss_ax = probability_histogram(Binomial(2, coin_trial, ['H']),\n",
      "                                    draw_bins=np.arange(3)-0.5,\n",
      "                                    alpha=0.5, facecolor='gray',\n",
      "                                    xlabel='Number of heads',\n",
      "                                    ylabel='% per head')[0]\n",
      "two_toss_ax.set_xlim([-0.6,2.6])\n",
      "two_toss_ax.legend()\n"
     ],
     "language": "python",
     "metadata": {
      "slideshow": {
       "slide_type": "skip"
      }
     },
     "outputs": [],
     "prompt_number": 4
    },
    {
     "cell_type": "code",
     "collapsed": false,
     "input": [
      "two_toss"
     ],
     "language": "python",
     "metadata": {
      "slideshow": {
       "slide_type": "fragment"
      }
     },
     "outputs": [],
     "prompt_number": 5
    },
    {
     "cell_type": "markdown",
     "metadata": {
      "slideshow": {
       "slide_type": "slide"
      }
     },
     "prompt_number": 6,
     "source": [
      "Let's compare this with\n",
      "the actual number of successes if we toss a fair coin many times."
     ]
    },
    {
     "cell_type": "code",
     "collapsed": false,
     "input": [
      "two_draws = Binomial(2, BoxModel(['H','T']), ['H'])\n",
      "two_draws.mass_function"
     ],
     "language": "python",
     "metadata": {
      "slideshow": {
       "slide_type": "fragment"
      }
     },
     "outputs": [],
     "prompt_number": 6
    },
    {
     "cell_type": "code",
     "collapsed": false,
     "input": [
      "two_draws.sample(5)"
     ],
     "language": "python",
     "metadata": {
      "slideshow": {
       "slide_type": "fragment"
      }
     },
     "outputs": [],
     "prompt_number": 7
    },
    {
     "cell_type": "code",
     "collapsed": false,
     "input": [
      "%%capture\n",
      "two_toss = plt.figure(figsize=stats60_figsize)\n",
      "two_toss_ax = probability_histogram(Binomial(2, coin_trial, ['H']),\n",
      "                                    bins=np.arange(4)-0.5,\n",
      "                                    alpha=0.5, facecolor='gray',\n",
      "                                    xlabel='Number of heads',\n",
      "                                    ylabel='% per head',\n",
      "                                    ndraws=500)[0]\n",
      "two_toss_ax.set_xlim([-0.6,2.6])\n",
      "two_toss_ax.legend()\n"
     ],
     "language": "python",
     "metadata": {
      "slideshow": {
       "slide_type": "skip"
      }
     },
     "outputs": [],
     "prompt_number": 8
    },
    {
     "cell_type": "code",
     "collapsed": false,
     "input": [
      "two_toss"
     ],
     "language": "python",
     "metadata": {
      "slideshow": {
       "slide_type": "fragment"
      }
     },
     "outputs": [],
     "prompt_number": 9
    },
    {
     "cell_type": "markdown",
     "metadata": {
      "slideshow": {
       "slide_type": "fragment"
      }
     },
     "prompt_number": 10,
     "source": [
      "- The sample histogram looks close to the probability histogram.\n",
      "\n",
      "- As we take a larger sample, the closer it gets."
     ]
    },
    {
     "cell_type": "markdown",
     "metadata": {
      "slideshow": {
       "slide_type": "slide"
      }
     },
     "prompt_number": 10,
     "source": [
      "## Probability histogram: law of large numbers\n",
      "\n",
      "* Choose an experiment (e.g. tossing a fair coin twice and counting the number of heads, $H$).\n",
      "* Repeat the experiment 500 times creating a list $[H_1, H_2, \\dots, H_{500}].$\n",
      "* The frequentist view of probability tells us that the histogram of the list $[H_1, H_2, \\dots, H_{500}]$ should look like the *probability histogram*.\n",
      "* Or, the empirical histogram *converges* to the probability histogram.\n",
      "* We call this the *Law of Large Numbers*\n",
      "  "
     ]
    },
    {
     "cell_type": "code",
     "collapsed": false,
     "input": [
      "%%capture\n",
      "tosses = {}\n",
      "ntoss = 5\n",
      "tosses[ntoss] = plt.figure(figsize=stats60_figsize)\n",
      "probability_histogram(Binomial(ntoss, coin_trial, ['H']),\n",
      "                                    bins=np.arange(7)-0.5,\n",
      "                                    alpha=0.5, facecolor='gray',\n",
      "                                    xlabel='Number of heads',\n",
      "                                    ylabel='% per heads',\n",
      "                                    ndraws=500)\n",
      "tosses[ntoss].gca().set_xlim([-0.6,5.6])\n",
      "tosses[ntoss].gca().legend()\n"
     ],
     "language": "python",
     "metadata": {
      "slideshow": {
       "slide_type": "skip"
      }
     },
     "outputs": [],
     "prompt_number": 10
    },
    {
     "cell_type": "code",
     "collapsed": false,
     "input": [
      "tosses[5]"
     ],
     "language": "python",
     "metadata": {
      "slideshow": {
       "slide_type": "fragment"
      }
     },
     "outputs": [],
     "prompt_number": 11
    },
    {
     "cell_type": "heading",
     "level": 3,
     "metadata": {
      "slideshow": {
       "slide_type": "slide"
      }
     },
     "prompt_number": 12,
     "source": [
      "Probability histogram of successes"
     ]
    },
    {
     "cell_type": "code",
     "collapsed": false,
     "input": [
      "%%capture\n",
      "ntoss = 30\n",
      "tosses[ntoss] = plt.figure(figsize=stats60_figsize)\n",
      "probability_histogram(Binomial(ntoss, coin_trial, ['H']),\n",
      "                                    bins=np.arange(32)-0.5,\n",
      "                                    alpha=0.5, facecolor='gray',\n",
      "                                    xlabel='Number of heads',\n",
      "                                    ylabel='% per heads',\n",
      "                                    ndraws=500)\n",
      "tosses[ntoss].gca().set_xlim([5.6,25.6])\n",
      "tosses[ntoss].gca().legend()\n"
     ],
     "language": "python",
     "metadata": {
      "slideshow": {
       "slide_type": "skip"
      }
     },
     "outputs": [],
     "prompt_number": 12
    },
    {
     "cell_type": "code",
     "collapsed": false,
     "input": [
      "tosses[30]"
     ],
     "language": "python",
     "metadata": {
      "slideshow": {
       "slide_type": "fragment"
      }
     },
     "outputs": [],
     "prompt_number": 13
    },
    {
     "cell_type": "markdown",
     "metadata": {
      "slideshow": {
       "slide_type": "fragment"
      }
     },
     "prompt_number": 14,
     "source": [
      "The probability histogram looks a lot like a normal curve!\n",
      "\n",
      "**This is not an accident!**"
     ]
    },
    {
     "cell_type": "markdown",
     "metadata": {
      "slideshow": {
       "slide_type": "slide"
      }
     },
     "prompt_number": 14,
     "source": [
      "## Roulette\n",
      "\n",
      "Let's look at another of our usual games: roulette.\n",
      "\n",
      "The numbers [2,24,29] are my lucky numbers. I think I will try betting on them!"
     ]
    },
    {
     "cell_type": "code",
     "collapsed": false,
     "input": [
      "roulette.examples['lucky numbers']"
     ],
     "language": "python",
     "metadata": {
      "slideshow": {
       "slide_type": "fragment"
      }
     },
     "outputs": [],
     "prompt_number": 14
    },
    {
     "cell_type": "heading",
     "level": 3,
     "metadata": {
      "slideshow": {
       "slide_type": "slide"
      }
     },
     "prompt_number": 15,
     "source": [
      "Probability histogram of successes"
     ]
    },
    {
     "cell_type": "code",
     "collapsed": false,
     "input": [
      "%%capture\n",
      "lucky_numbers = {}\n",
      "nbet = 10\n",
      "lucky_trial = roulette.examples['lucky numbers'].model\n",
      "lucky_numbers[nbet] = plt.figure(figsize=stats60_figsize)\n",
      "probability_histogram(Binomial(nbet, lucky_trial, None),\n",
      "                                    bins=np.arange(12)-0.5,\n",
      "                                    alpha=0.5, facecolor='gray',\n",
      "                                    xlabel='Number of successes',\n",
      "                                    ylabel='% per success')\n",
      "lucky_numbers[nbet].gca().set_xlim([-0.6,5.6])\n",
      "lucky_numbers[nbet].gca().set_title('After %d bets' % nbet, fontsize=15)\n",
      "lucky_numbers[nbet].gca().legend()\n"
     ],
     "language": "python",
     "metadata": {
      "slideshow": {
       "slide_type": "skip"
      }
     },
     "outputs": [],
     "prompt_number": 15
    },
    {
     "cell_type": "code",
     "collapsed": false,
     "input": [
      "lucky_numbers[10]\n"
     ],
     "language": "python",
     "metadata": {
      "slideshow": {
       "slide_type": "fragment"
      }
     },
     "outputs": [],
     "prompt_number": 16
    },
    {
     "cell_type": "code",
     "collapsed": false,
     "input": [
      "%%capture\n",
      "nbet = 100\n",
      "lucky_numbers[nbet] = plt.figure(figsize=stats60_figsize)\n",
      "probability_histogram(Binomial(nbet, lucky_trial, None),\n",
      "                                    bins=np.arange(12)-0.5,\n",
      "                                    alpha=0.5, facecolor='gray',\n",
      "                                    xlabel='Number of successes',\n",
      "                                    ylabel='% per success')\n",
      "lucky_numbers[nbet].gca().set_xlim([-0.6,20.6])\n",
      "lucky_numbers[nbet].gca().set_title('After %d bets' % nbet, fontsize=15)\n",
      "lucky_numbers[nbet].gca().legend()\n",
      "\n"
     ],
     "language": "python",
     "metadata": {
      "slideshow": {
       "slide_type": "skip"
      }
     },
     "outputs": [],
     "prompt_number": 17
    },
    {
     "cell_type": "code",
     "collapsed": false,
     "input": [
      "lucky_numbers[100]"
     ],
     "language": "python",
     "metadata": {
      "slideshow": {
       "slide_type": "fragment"
      }
     },
     "outputs": [],
     "prompt_number": 18
    },
    {
     "cell_type": "heading",
     "level": 3,
     "metadata": {
      "slideshow": {
       "slide_type": "slide"
      }
     },
     "prompt_number": 19,
     "source": [
      "Probability histogram of successes"
     ]
    },
    {
     "cell_type": "code",
     "collapsed": false,
     "input": [
      "%%capture\n",
      "nbet = 1000\n",
      "lucky_numbers[nbet] = plt.figure(figsize=stats60_figsize)\n",
      "probability_histogram(Binomial(nbet, lucky_trial, None),\n",
      "                                    bins=np.arange(12)-0.5,\n",
      "                                    alpha=0.5, facecolor='gray',\n",
      "                                    xlabel='Number of successes',\n",
      "                                    ylabel='% per success')\n",
      "lucky_numbers[nbet].gca().set_xlim([50.6,110.6])\n",
      "lucky_numbers[nbet].gca().set_title('After %d bets' % nbet, fontsize=15)\n",
      "lucky_numbers[nbet].gca().legend()\n",
      "\n",
      "\n"
     ],
     "language": "python",
     "metadata": {
      "slideshow": {
       "slide_type": "skip"
      }
     },
     "outputs": [],
     "prompt_number": 19
    },
    {
     "cell_type": "code",
     "collapsed": false,
     "input": [
      "lucky_numbers[1000]"
     ],
     "language": "python",
     "metadata": {
      "slideshow": {
       "slide_type": "fragment"
      }
     },
     "outputs": [],
     "prompt_number": 20
    },
    {
     "cell_type": "markdown",
     "metadata": {
      "slideshow": {
       "slide_type": "fragment"
      }
     },
     "prompt_number": 21,
     "source": [
      "- After 10 bets, the histogram doesn't look like the normal curve.\n",
      "\n",
      "- Eventually, it looks very close to the normal curve."
     ]
    },
    {
     "cell_type": "markdown",
     "metadata": {
      "slideshow": {
       "slide_type": "slide"
      }
     },
     "prompt_number": 21,
     "source": [
      "# Betting money in roulette\n",
      "\n",
      "- Suppose we start with 100\\$ and use my lucky numbers bet.\n",
      "\n",
      "- In this case, the outcome is now \\$ (and we'll eventually lose to the casino...)"
     ]
    },
    {
     "cell_type": "code",
     "collapsed": false,
     "input": [
      "%%capture\n",
      "winnings = {}\n",
      "nbet = 10\n",
      "winnings[nbet] = plt.figure(figsize=stats60_figsize)\n",
      "\n",
      "successes = Binomial(nbet, roulette.examples['lucky numbers'])\n",
      "total = RandomVariable(successes, lambda wins : 100 + 110 * wins - 10 * (nbet - wins) )\n",
      "probability_histogram(total, width=120, facecolor='gray',\n",
      "                      xlabel='Total (\\$)', ylabel='% per \\$')\n",
      "winnings[nbet].gca().set_xlim([-60,610])\n",
      "winnings[nbet].gca().set_title('After %d bets of 10\\$' % nbet, fontsize=15)\n"
     ],
     "language": "python",
     "metadata": {
      "slideshow": {
       "slide_type": "skip"
      }
     },
     "outputs": [],
     "prompt_number": 21
    },
    {
     "cell_type": "code",
     "collapsed": false,
     "input": [
      "winnings[10]"
     ],
     "language": "python",
     "metadata": {
      "slideshow": {
       "slide_type": "slide"
      }
     },
     "outputs": [],
     "prompt_number": 22
    },
    {
     "cell_type": "code",
     "collapsed": false,
     "input": [
      "%%capture\n",
      "winnings = {}\n",
      "nbet = 100\n",
      "winnings[nbet] = plt.figure(figsize=stats60_figsize)\n",
      "\n",
      "successes = Binomial(nbet, roulette.examples['lucky numbers'])\n",
      "total = RandomVariable(successes, lambda wins : 100 + 110 * wins - 10 * (nbet - wins) )\n",
      "probability_histogram(total, width=120, facecolor='gray',\n",
      "                      xlabel='Total (\\$)', ylabel='% per \\$')\n",
      "\n",
      "winnings[nbet].gca().set_title('After %d bets of 10\\$' % nbet, fontsize=15)\n"
     ],
     "language": "python",
     "metadata": {
      "slideshow": {
       "slide_type": "skip"
      }
     },
     "outputs": [],
     "prompt_number": 23
    },
    {
     "cell_type": "code",
     "collapsed": false,
     "input": [
      "winnings[100]\n"
     ],
     "language": "python",
     "metadata": {
      "slideshow": {
       "slide_type": "slide"
      }
     },
     "outputs": [],
     "prompt_number": 24
    },
    {
     "cell_type": "code",
     "collapsed": false,
     "input": [
      "%%capture\n",
      "winnings = {}\n",
      "nbet = 1000\n",
      "winnings[nbet] = plt.figure(figsize=stats60_figsize)\n",
      "\n",
      "successes = Binomial(nbet, roulette.examples['lucky numbers'])\n",
      "total = RandomVariable(successes, lambda wins : 100 + 110 * wins - 10 * (nbet - wins) )\n",
      "probability_histogram(total, width=120, facecolor='gray',\n",
      "                      xlabel='Total (\\$)', ylabel='% per \\$')\n",
      "\n",
      "winnings[nbet].gca().set_title('After %d bets of 10\\$' % nbet, fontsize=15)\n"
     ],
     "language": "python",
     "metadata": {
      "slideshow": {
       "slide_type": "skip"
      }
     },
     "outputs": [],
     "prompt_number": 25
    },
    {
     "cell_type": "code",
     "collapsed": false,
     "input": [
      "winnings[1000]"
     ],
     "language": "python",
     "metadata": {
      "slideshow": {
       "slide_type": "slide"
      }
     },
     "outputs": [],
     "prompt_number": 26
    },
    {
     "cell_type": "markdown",
     "metadata": {
      "slideshow": {
       "slide_type": "slide"
      }
     },
     "prompt_number": 27,
     "source": [
      "## Normal approximation\n",
      "\n",
      "### Central limit theorem\n",
      "\n",
      "* When making many independent draws from a box, the central limit theorem says that we can use the normal curve to approximate probabilities of things for the **sum of draws**\n",
      "  .\n",
      "* Specifically, the normal curve applies to \n",
      "$$\\frac{\\text{ sum of draws} - \\text{expected( sum of draws)}}{\\text{SE( sum of draws)}}$$"
     ]
    },
    {
     "cell_type": "markdown",
     "metadata": {
      "slideshow": {
       "slide_type": "slide"
      }
     },
     "prompt_number": 27,
     "source": [
      "### Example\n",
      "\n",
      "In roulette, betting on  5\n",
      "   100 times, 10\\$ each bet starting with 100\\$. \n",
      "   \n",
      "What are the chances we will finish with more than 200 \\$?\n",
      "\n",
      "Here is the box:"
     ]
    },
    {
     "cell_type": "code",
     "collapsed": false,
     "input": [
      "places = {}\n",
      "for i in range(1,37) + ['0','00']:\n",
      "    if i in [5]:\n",
      "        places[i] = roulette.roulette_position(350,\n",
      "                                               facecolor='green',\n",
      "                                               bg_alpha=None,\n",
      "                                               fontsize=90)\n",
      "    else:\n",
      "        places[i] = roulette.roulette_position(-10,\n",
      "                                               facecolor='red',\n",
      "                                               bg_alpha=None,\n",
      "                                               fontsize=90)\n",
      "winnings = roulette.roulette_table(places)\n",
      "from IPython.core.display import HTML"
     ],
     "language": "python",
     "metadata": {
      "slideshow": {
       "slide_type": "skip"
      }
     },
     "outputs": [],
     "prompt_number": 27
    },
    {
     "cell_type": "code",
     "collapsed": false,
     "input": [
      "HTML(winnings)"
     ],
     "language": "python",
     "metadata": {
      "slideshow": {
       "slide_type": "fragment"
      }
     },
     "outputs": [],
     "prompt_number": 28
    },
    {
     "cell_type": "markdown",
     "metadata": {
      "slideshow": {
       "slide_type": "slide"
      }
     },
     "prompt_number": 29,
     "source": [
      "We can now compute:\n",
      "- $\\text{average( sum of 100 draws)} = 100 \\times (-0.52)\\$ = -52\\$ $\n",
      "- $$\\text{SE( sum of  100 draws)} = \\sqrt{100} \\times 360 \\times \\sqrt{\\frac{1}{38} \\times \\frac{37}{38}} \\approx 576\\$ $$\n",
      "- Finishing with more than 200\\$ means the **sum of draws** was greater than 100\\$ .\n",
      "- In standardized units, this is $$\\frac{100-(-52)}{576} \\approx 0.27$$"
     ]
    },
    {
     "cell_type": "code",
     "collapsed": false,
     "input": [
      "%%capture\n",
      "with plt.xkcd():\n",
      "    winnings_stand = plt.figure(figsize=(10,5))\n",
      "    standardize_right(100, -52, 576, units=\"Total amount\", standardized=True,\n",
      "                      data=False)"
     ],
     "language": "python",
     "metadata": {
      "slideshow": {
       "slide_type": "skip"
      }
     },
     "outputs": [],
     "prompt_number": 29
    },
    {
     "cell_type": "code",
     "collapsed": false,
     "input": [
      "winnings_stand"
     ],
     "language": "python",
     "metadata": {
      "slideshow": {
       "slide_type": "slide"
      }
     },
     "outputs": [],
     "prompt_number": 30
    },
    {
     "cell_type": "code",
     "collapsed": false,
     "input": [
      "%%capture\n",
      "normal_fig = plt.figure(figsize=stats60_figsize)\n",
      "ax = normal_curve()\n",
      "interval = np.linspace(0.26, 4, 101)\n",
      "ax.fill_between(interval, 0*interval, ndist.pdf(interval),\n",
      "                hatch='+', color='green', alpha=0.5)\n",
      "ax.set_title('The green area is %0.1f%%' % (100 * ndist.sf(0.27)), fontsize=20, color='green')\n"
     ],
     "language": "python",
     "metadata": {
      "slideshow": {
       "slide_type": "skip"
      }
     },
     "outputs": [],
     "prompt_number": 31
    },
    {
     "cell_type": "code",
     "collapsed": false,
     "input": [
      "normal_fig"
     ],
     "language": "python",
     "metadata": {
      "slideshow": {
       "slide_type": "slide"
      }
     },
     "outputs": [],
     "prompt_number": 32
    },
    {
     "cell_type": "heading",
     "level": 3,
     "metadata": {
      "slideshow": {
       "slide_type": "slide"
      }
     },
     "prompt_number": 33,
     "source": [
      "Probability histogram of successes"
     ]
    },
    {
     "cell_type": "code",
     "collapsed": false,
     "input": [
      "%%capture\n",
      "winnings = {}\n",
      "nbet = 10\n",
      "winnings[nbet] = plt.figure(figsize=stats60_figsize)\n",
      "\n",
      "successes = Binomial(nbet, roulette.examples['lucky numbers'])\n",
      "total = RandomVariable(successes, lambda wins : 100 + 110 * wins - 10 * (nbet - wins) )\n",
      "ax, avg, sd = probability_histogram(total, width=120, facecolor='gray',\n",
      "                      xlabel='Total (\\$)', ylabel='% per \\$')\n",
      "\n",
      "winnings[nbet].gca().set_title('After %d bets of 10\\$' % nbet, fontsize=15)\n",
      "normal_curve(mean=avg, SD=sd, ax=ax, alpha=0.3, facecolor='green', color='green',\n",
      "             xlabel=None, ylabel=None)\n"
     ],
     "language": "python",
     "metadata": {
      "slideshow": {
       "slide_type": "skip"
      }
     },
     "outputs": [],
     "prompt_number": 33
    },
    {
     "cell_type": "code",
     "collapsed": false,
     "input": [
      "winnings[10]"
     ],
     "language": "python",
     "metadata": {
      "slideshow": {
       "slide_type": "slide"
      }
     },
     "outputs": [],
     "prompt_number": 34
    },
    {
     "cell_type": "code",
     "collapsed": false,
     "input": [
      "%%capture\n",
      "winnings = {}\n",
      "nbet = 100\n",
      "winnings[nbet] = plt.figure(figsize=stats60_figsize)\n",
      "\n",
      "successes = Binomial(nbet, roulette.examples['lucky numbers'])\n",
      "total = RandomVariable(successes, lambda wins : 100 + 110 * wins - 10 * (nbet - wins) )\n",
      "ax, avg, sd = probability_histogram(total, width=120, facecolor='gray',\n",
      "                      xlabel='Total (\\$)', ylabel='% per \\$')\n",
      "\n",
      "winnings[nbet].gca().set_title('After %d bets of 10\\$' % nbet, fontsize=15)\n",
      "normal_curve(mean=avg, SD=sd, ax=ax, alpha=0.3, facecolor='green', color='green',\n",
      "             xlabel=None, ylabel=None)\n"
     ],
     "language": "python",
     "metadata": {
      "slideshow": {
       "slide_type": "skip"
      }
     },
     "outputs": [],
     "prompt_number": 35
    },
    {
     "cell_type": "code",
     "collapsed": false,
     "input": [
      "winnings[100]"
     ],
     "language": "python",
     "metadata": {
      "slideshow": {
       "slide_type": "slide"
      }
     },
     "outputs": [],
     "prompt_number": 36
    },
    {
     "cell_type": "code",
     "collapsed": false,
     "input": [
      "%%capture\n",
      "winnings = {}\n",
      "nbet = 1000\n",
      "winnings[nbet] = plt.figure(figsize=stats60_figsize)\n",
      "\n",
      "successes = Binomial(nbet, roulette.examples['lucky numbers'])\n",
      "total = RandomVariable(successes, lambda wins : 100 + 110 * wins - 10 * (nbet - wins) )\n",
      "ax, avg, sd = probability_histogram(total, width=120, facecolor='gray',\n",
      "                      xlabel='Total (\\$)', ylabel='% per \\$')\n",
      "\n",
      "winnings[nbet].gca().set_title('After %d bets of 10\\$' % nbet, fontsize=15)\n",
      "normal_curve(mean=avg, SD=sd, ax=ax, alpha=0.3, facecolor='green', color='green',\n",
      "             xlabel=None, ylabel=None)\n"
     ],
     "language": "python",
     "metadata": {
      "slideshow": {
       "slide_type": "skip"
      }
     },
     "outputs": [],
     "prompt_number": 37
    },
    {
     "cell_type": "code",
     "collapsed": false,
     "input": [
      "winnings[1000]"
     ],
     "language": "python",
     "metadata": {
      "slideshow": {
       "slide_type": "slide"
      }
     },
     "outputs": [],
     "prompt_number": 38
    },
    {
     "cell_type": "code",
     "collapsed": false,
     "input": [
      "%%capture\n",
      "tosses = {}\n",
      "ntoss = 100\n",
      "tosses[ntoss] = plt.figure(figsize=stats60_figsize)\n",
      "ax, avg, sd = probability_histogram(Binomial(ntoss, coin_trial, ['H']),\n",
      "                                    bins=np.arange(7)-0.5,\n",
      "                                    alpha=0.5, facecolor='gray',\n",
      "                                    xlabel='Number of heads',\n",
      "                                    ylabel='% per head',\n",
      "                                    ndraws=500)\n",
      "normal_curve(mean=avg, SD=sd, ax=ax, alpha=0.3, facecolor='green', color='green',\n",
      "             xlabel=None, ylabel=None)\n"
     ],
     "language": "python",
     "metadata": {
      "slideshow": {
       "slide_type": "skip"
      }
     },
     "outputs": [],
     "prompt_number": 39
    },
    {
     "cell_type": "code",
     "collapsed": false,
     "input": [
      "tosses[100]"
     ],
     "language": "python",
     "metadata": {
      "slideshow": {
       "slide_type": "slide"
      }
     },
     "outputs": [],
     "prompt_number": 40
    },
    {
     "cell_type": "markdown",
     "metadata": {
      "slideshow": {
       "slide_type": "slide"
      }
     },
     "prompt_number": 41,
     "source": [
      "## Continuity correction\n",
      "\n",
      "- When using the normal approximation to the sum of draws, we sometimes use the *continuity correction*.\n",
      "- This means we might add or subtract 1/2 at the endpoints.\n",
      "\n",
      "- For example \n",
      "   - {observing more than 40 heads in 100 flips} = {observing more than 40.5 heads in 100 flips}\n",
      "   - {observing less than 45 heads in 100 flips} = {observing less than 44.5 heads in 100 flips}\n",
      "   - {observing exactly 40 heads in 100 flips} = {observing between 39.5 and 40.5 heads in 100 flips}\n",
      "   - {observing greater than or equal to 41 heads but less than 52 heads in 100 flips } = {observing between 40.5 and 51.5 heads in 100 flips}\n",
      "   \n",
      "   - {observing greater than 41 heads but less than 52 heads in 100 flips } = {observing between 41.5 and 51.5 heads in 100 flips}"
     ]
    },
    {
     "cell_type": "heading",
     "level": 3,
     "metadata": {
      "slideshow": {
       "slide_type": "slide"
      }
     },
     "prompt_number": 41,
     "source": [
      "Normal approximation"
     ]
    },
    {
     "cell_type": "code",
     "collapsed": false,
     "input": [
      "interval = np.linspace(0, 44.5, 101)\n",
      "ax.fill_between(interval, 0*interval, ndist.pdf((interval - avg) / sd) / sd,\n",
      "                hatch='+', color='red', alpha=0.5)\n",
      "ax.set_title('Using continuity correction', fontsize=20, color='red')\n",
      "ax.set_xlim([ax.get_xlim()[0],50])"
     ],
     "language": "python",
     "metadata": {
      "slideshow": {
       "slide_type": "skip"
      }
     },
     "outputs": [],
     "prompt_number": 41
    },
    {
     "cell_type": "markdown",
     "metadata": {
      "slideshow": {
       "slide_type": "slide"
      }
     },
     "prompt_number": 42,
     "source": [
      "## Less than 45 heads with continuity correction"
     ]
    },
    {
     "cell_type": "code",
     "collapsed": false,
     "input": [
      "tosses[100]"
     ],
     "language": "python",
     "metadata": {
      "slideshow": {
       "slide_type": "fragment"
      }
     },
     "outputs": [],
     "prompt_number": 42
    },
    {
     "cell_type": "code",
     "collapsed": false,
     "input": [
      "%%capture\n",
      "with plt.xkcd():\n",
      "    heads_stand = plt.figure(figsize=(10,5))\n",
      "    standardize_left(44.5, avg, sd, units=\"Heads\", standardized=True,\n",
      "                     data=False)"
     ],
     "language": "python",
     "metadata": {
      "slideshow": {
       "slide_type": "skip"
      }
     },
     "outputs": [],
     "prompt_number": 43
    },
    {
     "cell_type": "code",
     "collapsed": false,
     "input": [
      "SE = sqrt(100) * (1-0) * sqrt(1/2. * 1/2.)\n",
      "print SE\n",
      "heads_stand"
     ],
     "language": "python",
     "metadata": {
      "slideshow": {
       "slide_type": "slide"
      }
     },
     "outputs": [],
     "prompt_number": 44
    },
    {
     "cell_type": "code",
     "collapsed": false,
     "input": [
      "%%capture\n",
      "normal_fig = plt.figure(figsize=stats60_figsize)\n",
      "ax = normal_curve()\n",
      "interval = np.linspace(-4,-1.10, 101)\n",
      "ax.fill_between(interval, 0*interval, ndist.pdf(interval),\n",
      "                hatch='+', color='green', alpha=0.5)\n",
      "ax.set_title('The green area is %0.1f%%' % (100 * ndist.cdf(-1.10)), fontsize=20, color='green')\n"
     ],
     "language": "python",
     "metadata": {
      "slideshow": {
       "slide_type": "skip"
      }
     },
     "outputs": [],
     "prompt_number": 45
    },
    {
     "cell_type": "code",
     "collapsed": false,
     "input": [
      "normal_fig"
     ],
     "language": "python",
     "metadata": {
      "slideshow": {
       "slide_type": "slide"
      }
     },
     "outputs": [],
     "prompt_number": 46
    },
    {
     "cell_type": "markdown",
     "metadata": {
      "slideshow": {
       "slide_type": "slide"
      }
     },
     "prompt_number": 47,
     "source": [
      "## Observing exactly 40 heads using continuity correction\n",
      "\n",
      "The standardized units are\n",
      "\n",
      "- (39.5 - 50) / 5 = -2.1\n",
      "- (40.5 - 50) / 5 = -1.9"
     ]
    },
    {
     "cell_type": "code",
     "collapsed": false,
     "input": [
      "%%capture\n",
      "normal_fig = plt.figure(figsize=stats60_figsize)\n",
      "ax = normal_curve()\n",
      "interval = np.linspace(-2.1,-1.9, 101)\n",
      "ax.fill_between(interval, 0*interval, ndist.pdf(interval),\n",
      "                hatch='+', color='green', alpha=0.5)\n",
      "ax.set_title('The green area is %0.1f%%' % (100 * (ndist.cdf(-1.9) - ndist.cdf(-2.10))), fontsize=20, color='green')\n",
      "\n"
     ],
     "language": "python",
     "metadata": {
      "slideshow": {
       "slide_type": "skip"
      }
     },
     "outputs": [],
     "prompt_number": 47
    },
    {
     "cell_type": "code",
     "collapsed": false,
     "input": [
      "normal_fig"
     ],
     "language": "python",
     "metadata": {
      "slideshow": {
       "slide_type": "slide"
      }
     },
     "outputs": [],
     "prompt_number": 48
    },
    {
     "cell_type": "markdown",
     "metadata": {
      "slideshow": {
       "slide_type": "fragment"
      }
     },
     "prompt_number": 49,
     "source": [
      "Compare this to the true value:\n",
      "\n",
      "$$\n",
      "\\binom{100}{40} \\left(\\frac{1}{2} \\right)^{40} \\left(\\frac{1}{2}\\right)^{60}\n",
      "$$"
     ]
    },
    {
     "cell_type": "code",
     "collapsed": false,
     "input": [
      "Binomial(100, coin_trial, ['H']).mass_function[40]"
     ],
     "language": "python",
     "metadata": {
      "slideshow": {
       "slide_type": "fragment"
      }
     },
     "outputs": [],
     "prompt_number": 49
    },
    {
     "cell_type": "markdown",
     "metadata": {
      "slideshow": {
       "slide_type": "slide"
      }
     },
     "prompt_number": 50,
     "source": [
      "## Example\n",
      "\n",
      "Use the normal approximation to estimate the probability of observing greater than or equal to 45 heads in 80 flips of a fair coin.\n",
      "\n",
      "We know\n",
      "\n",
      "- $\\text{expected(sum of draws)} = 80 \\times 0.5 = 40 $\n",
      "- $\\text{SE( sum of draws)} = \\sqrt{80} \\times (1 - 0) \\times \\sqrt{\\frac{1}{2}  \\times \\frac{1}{2}} \\approx 4.5 $\n",
      "- Observing more than or equal to 45 heads is the same as observing more than 44.5 heads\n",
      "- In standardized units, this is $\\frac{44.5-40}{4.5} \\approx 1$"
     ]
    },
    {
     "cell_type": "code",
     "collapsed": false,
     "input": [
      "%%capture\n",
      "normal_fig = plt.figure(figsize=stats60_figsize)\n",
      "ax = normal_curve()\n",
      "interval = np.linspace(4.5 / np.sqrt(20), 4, 101)\n",
      "ax.fill_between(interval, 0*interval, ndist.pdf(interval),\n",
      "                hatch='+', color='green', alpha=0.5)\n",
      "ax.set_title('The green area is %0.1f%%' % (100 * ndist.sf(4.5 / np.sqrt(20))), fontsize=20, color='green')\n"
     ],
     "language": "python",
     "metadata": {
      "slideshow": {
       "slide_type": "skip"
      }
     },
     "outputs": [],
     "prompt_number": 50
    },
    {
     "cell_type": "code",
     "collapsed": false,
     "input": [
      "normal_fig"
     ],
     "language": "python",
     "metadata": {
      "slideshow": {
       "slide_type": "slide"
      }
     },
     "outputs": [],
     "prompt_number": 51
    },
    {
     "cell_type": "markdown",
     "metadata": {
      "slideshow": {
       "slide_type": "slide"
      }
     },
     "prompt_number": 52,
     "source": [
      "## Example (continued)\n",
      "\n",
      "\n",
      "Use the normal approximation to estimate the probability of observing exactly 45 heads in 80 flips of a fair coin.\n",
      "\n",
      "- Observing 45 heads is the same as observing between 44.5 and 45.5 heads.\n",
      "- In standardized units, this is endpoints are $$\\begin{aligned}\n",
      "               \\text{lower}&= \\frac{44.5-40}{4.5}    \\approx 1 \\\\\n",
      "               \\text{upper}&= \\frac{45.5-40}{4.5}    \\approx 1.2 \\\\\n",
      "               \\end{aligned}$$"
     ]
    },
    {
     "cell_type": "code",
     "collapsed": false,
     "input": [
      "%%capture\n",
      "normal_fig = plt.figure(figsize=stats60_figsize)\n",
      "ax = normal_curve()\n",
      "interval = np.linspace(4.5 / np.sqrt(20), 5.5 / np.sqrt(20), 101)\n",
      "ax.fill_between(interval, 0*interval, ndist.pdf(interval),\n",
      "                hatch='+', color='green', alpha=0.5)\n",
      "ax.set_title('The green area is %0.1f%%' % (100 * (ndist.sf(4.5 / np.sqrt(20)) - ndist.sf(5.5 / np.sqrt(20)))), fontsize=20, color='green')\n",
      "\n",
      "\n"
     ],
     "language": "python",
     "metadata": {
      "slideshow": {
       "slide_type": "skip"
      }
     },
     "outputs": [],
     "prompt_number": 52
    },
    {
     "cell_type": "code",
     "collapsed": false,
     "input": [
      "normal_fig"
     ],
     "language": "python",
     "metadata": {
      "slideshow": {
       "slide_type": "slide"
      }
     },
     "outputs": [],
     "prompt_number": 53
    },
    {
     "cell_type": "markdown",
     "metadata": {
      "slideshow": {
       "slide_type": "fragment"
      }
     },
     "prompt_number": 54,
     "source": [
      "Compare this to the true value:\n",
      "\n",
      "$$\n",
      "\\binom{80}{45} \\left(\\frac{1}{2} \\right)^{45}  \\left(\\frac{1}{2} \\right)^{35}\n",
      "$$"
     ]
    },
    {
     "cell_type": "code",
     "collapsed": false,
     "input": [
      "Binomial(80, coin_trial, ['H']).mass_function[45]"
     ],
     "language": "python",
     "metadata": {
      "slideshow": {
       "slide_type": "fragment"
      }
     },
     "outputs": [],
     "prompt_number": 54
    },
    {
     "cell_type": "markdown",
     "metadata": {
      "slideshow": {
       "slide_type": "slide"
      }
     },
     "prompt_number": 55,
     "source": [
      "## Central limit theorem\n",
      "\n",
      "* The central limit theorem applies to **sum of draws**.\n",
      "* The number of draws should be reasonably large.\n",
      "* The more lopsided the values are, the more draws needed for reasonable approximation (compare the approximations of rolling  5\n",
      "   in roulette to flipping a fair coin).\n",
      "* It is another type of *convergence*\n",
      "  : as the number of draws grows, the normal approximation gets better."
     ]
    },
    {
     "cell_type": "code",
     "collapsed": false,
     "input": [
      "%%capture\n",
      "lopsided = {}\n",
      "ndraw = 3 \n",
      "lopsided[ndraw] = plt.figure(figsize=stats60_figsize)\n",
      "mass = np.array([0,1,1,0,0,0,0,1])/3.\n",
      "rv = SumIntegerRV(mass, 3)\n",
      "ax, avg, sd = probability_histogram(rv,\n",
      "                                    facecolor='gray')\n",
      "normal_curve(mean=avg, SD=sd, ax=ax, alpha=0.3, facecolor='green', color='green',\n",
      "             xlabel=None, ylabel=None)\n",
      "ax.set_ylim([0,1.1*max(rv.mass_function.values())])\n",
      "ax.set_title('%d draws from [1,2,7]' % ndraw, fontsize=17)"
     ],
     "language": "python",
     "metadata": {
      "slideshow": {
       "slide_type": "skip"
      }
     },
     "outputs": [],
     "prompt_number": 55
    },
    {
     "cell_type": "code",
     "collapsed": false,
     "input": [
      "lopsided[3]"
     ],
     "language": "python",
     "metadata": {
      "slideshow": {
       "slide_type": "slide"
      }
     },
     "outputs": [],
     "prompt_number": 56
    },
    {
     "cell_type": "code",
     "collapsed": false,
     "input": [
      "%%capture\n",
      "ndraw = 10\n",
      "\n",
      "lopsided[ndraw] = plt.figure(figsize=stats60_figsize)\n",
      "mass = np.array([0,1,1,0,0,0,0,1])/3.\n",
      "rv = SumIntegerRV(mass, ndraw)\n",
      "ax, avg, sd = probability_histogram(rv,\n",
      "                                    facecolor='gray')\n",
      "normal_curve(mean=avg, SD=sd, ax=ax, alpha=0.3, facecolor='green', color='green',\n",
      "             xlabel=None, ylabel=None)\n",
      "ax.set_ylim([0,1.1*max(rv.mass_function.values())])\n",
      "ax.set_title('%d draws from [1,2,7]' % ndraw, fontsize=17)"
     ],
     "language": "python",
     "metadata": {
      "slideshow": {
       "slide_type": "skip"
      }
     },
     "outputs": [],
     "prompt_number": 57
    },
    {
     "cell_type": "code",
     "collapsed": false,
     "input": [
      "lopsided[10]"
     ],
     "language": "python",
     "metadata": {
      "slideshow": {
       "slide_type": "slide"
      }
     },
     "outputs": [],
     "prompt_number": 58
    },
    {
     "cell_type": "code",
     "collapsed": false,
     "input": [
      "%%capture\n",
      "ndraw = 30\n",
      "\n",
      "lopsided[ndraw] = plt.figure(figsize=stats60_figsize)\n",
      "mass = np.array([0,1,1,0,0,0,0,1])/3.\n",
      "rv = SumIntegerRV(mass, ndraw)\n",
      "ax, avg, sd = probability_histogram(rv,\n",
      "                                    facecolor='gray')\n",
      "normal_curve(mean=avg, SD=sd, ax=ax, alpha=0.3, facecolor='green', color='green',\n",
      "             xlabel=None, ylabel=None)\n",
      "ax.set_ylim([0,1.1*max(rv.mass_function.values())])\n",
      "ax.set_title('%d draws from [1,2,7]' % ndraw, fontsize=17)"
     ],
     "language": "python",
     "metadata": {
      "slideshow": {
       "slide_type": "skip"
      }
     },
     "outputs": [],
     "prompt_number": 59
    },
    {
     "cell_type": "code",
     "collapsed": false,
     "input": [
      "lopsided[30]"
     ],
     "language": "python",
     "metadata": {
      "slideshow": {
       "slide_type": "slide"
      }
     },
     "outputs": [],
     "prompt_number": 60
    },
    {
     "cell_type": "code",
     "collapsed": false,
     "input": [
      "%%capture\n",
      "ndraw = 50\n",
      "\n",
      "lopsided[ndraw] = plt.figure(figsize=stats60_figsize)\n",
      "mass = np.array([0,1,1,0,0,0,0,1])/3.\n",
      "rv = SumIntegerRV(mass, ndraw)\n",
      "ax, avg, sd = probability_histogram(rv,\n",
      "                                    facecolor='gray')\n",
      "normal_curve(mean=avg, SD=sd, ax=ax, alpha=0.3, facecolor='green', color='green',\n",
      "             xlabel=None, ylabel=None)\n",
      "ax.set_ylim([0,1.1*max(rv.mass_function.values())])\n",
      "ax.set_title('%d draws from [1,2,7]' % ndraw, fontsize=17)"
     ],
     "language": "python",
     "metadata": {
      "slideshow": {
       "slide_type": "skip"
      }
     },
     "outputs": [],
     "prompt_number": 61
    },
    {
     "cell_type": "code",
     "collapsed": false,
     "input": [
      "lopsided[50]\n"
     ],
     "language": "python",
     "metadata": {
      "slideshow": {
       "slide_type": "slide"
      }
     },
     "outputs": [],
     "prompt_number": 62
    },
    {
     "cell_type": "markdown",
     "metadata": {
      "slideshow": {
       "slide_type": "fragment"
      }
     },
     "prompt_number": 63,
     "source": [
      "## Take away \n",
      "\n",
      "- If the box is lopsided, convergence to normal curve may be slower.\n",
      "\n",
      "- But it still happens (and can be used)!"
     ]
    },
    {
     "cell_type": "markdown",
     "metadata": {
      "slideshow": {
       "slide_type": "slide"
      }
     },
     "prompt_number": 63,
     "source": [
      "## How many samples should we take?\n",
      "\n",
      "- The normal approximation works when we take enough\n",
      "samples.\n",
      "- But how many should we take?\n",
      "- There have been various rules proposed...\n",
      "- For counts, a [rule of thumb](http://en.wikipedia.org/wiki/Binomial_distribution#Normal_approximation) says the Normal approximation to the Binomial is OK when $np \\geq k$ and $n(1-p) \\geq k$\n",
      "where $k$ is of the order of 5 or 10.\n",
      "- **For concreteness, we take $k=10$.**\n"
     ]
    },
    {
     "cell_type": "code",
     "collapsed": false,
     "input": [],
     "language": "python",
     "metadata": {},
     "outputs": [],
     "prompt_number": 63
    }
   ],
   "metadata": {}
  }
 ]
}
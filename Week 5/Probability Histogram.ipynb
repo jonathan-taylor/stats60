{
 "metadata": {
  "name": ""
 },
 "nbformat": 3,
 "nbformat_minor": 0,
 "worksheets": [
  {
   "cells": [
    {
     "cell_type": "heading",
     "level": 3,
     "metadata": {
      "slideshow": {
       "slide_type": "slide"
      }
     },
     "prompt_number": 1,
     "source": [
      "Probability histogram"
     ]
    },
    {
     "cell_type": "markdown",
     "metadata": {},
     "prompt_number": 1,
     "source": [
      "\n",
      "Tossing a fair coin\n",
      "\n",
      "* When tossing a fair coin, there is 1/2 probability of getting 1 head, 1/2 of getting 0 heads.\n",
      "* We can make a histogram with an rectangle of width 1, area 1/2 around 0, and an identical rectangle around 1."
     ]
    },
    {
     "cell_type": "heading",
     "level": 3,
     "metadata": {
      "slideshow": {
       "slide_type": "slide"
      }
     },
     "prompt_number": 1,
     "source": [
      "Probability histogram of successes"
     ]
    },
    {
     "cell_type": "code",
     "collapsed": false,
     "input": [
      "p = 1./2\n",
      "x, p = conv_binom(p, 1)\n",
      "cp = np.cumsum(p)\n",
      "k = (cp >= 0)\n",
      "pylab.bar(x[k],p[k], width=1, align='center', alpha=0.7)\n",
      "a = pylab.gca()\n",
      "a.set_ylim([0,0.6])\n",
      "a.set_xlim([-0.6,1.6])"
     ],
     "language": "python",
     "metadata": {},
     "outputs": [],
     "prompt_number": 1
    },
    {
     "cell_type": "markdown",
     "metadata": {},
     "prompt_number": 2,
     "source": [
      "\n",
      "Tossing a fair coin 1 time, counting heads"
     ]
    },
    {
     "cell_type": "heading",
     "level": 3,
     "metadata": {
      "slideshow": {
       "slide_type": "slide"
      }
     },
     "prompt_number": 2,
     "source": [
      "Probability histogram"
     ]
    },
    {
     "cell_type": "markdown",
     "metadata": {},
     "prompt_number": 2,
     "source": [
      "\n",
      "Tossing a fair coin\n",
      "\n",
      "* When tossing a fair coin twice , there is\n",
      "*     * 1/4 probability of getting 2 heads\n",
      "      * 1/2 probability of getting 1 head\n",
      "      * 1/4 probability of getting 0 heads\n",
      "* We can make similarly make a histogram for this experiment.\n",
      "* This histogram is called a *probability histogram*\n",
      "  ."
     ]
    },
    {
     "cell_type": "heading",
     "level": 3,
     "metadata": {
      "slideshow": {
       "slide_type": "slide"
      }
     },
     "prompt_number": 2,
     "source": [
      "Probability histogram of successes"
     ]
    },
    {
     "cell_type": "code",
     "collapsed": false,
     "input": [
      "\n",
      "p = 1./2\n",
      "x, p = conv_binom(p, 2)\n",
      "cp = np.cumsum(p)\n",
      "k = (cp >= 0)\n",
      "pylab.bar(x[k],p[k], width=1, align='center', alpha=0.7)\n",
      "a = pylab.gca()\n",
      "a.set_ylim([0,0.6])\n",
      "a.set_xlim([-0.6,2.6])"
     ],
     "language": "python",
     "metadata": {},
     "outputs": [],
     "prompt_number": 2
    },
    {
     "cell_type": "markdown",
     "metadata": {},
     "prompt_number": 3,
     "source": [
      "\n",
      "Tossing a fair coin 2 times, counting heads"
     ]
    },
    {
     "cell_type": "heading",
     "level": 3,
     "metadata": {
      "slideshow": {
       "slide_type": "slide"
      }
     },
     "prompt_number": 3,
     "source": [
      "Probability histogram"
     ]
    },
    {
     "cell_type": "markdown",
     "metadata": {},
     "prompt_number": 3,
     "source": [
      "\n",
      "Probability histogram\n",
      "\n",
      "* Choose an experiment (e.g. tossing a fair coin twice and counting the number of heads, $H$).\n",
      "* Repeat the experiment many times, say, 1000, creating a list $[H_1, H_2, \\dots, H_{1000}].$\n",
      "* The frequentist view of probability tells us that the histogram of the list $[H_1, H_2, \\dots, H_{1000}]$ should look like the *probability histogram*\n",
      "  .\n",
      "* Or, the empirical histogram *converges*\n",
      "   to the probability histogram.\n",
      "* We call this the *Law of Large Numbers*\n",
      "  "
     ]
    },
    {
     "cell_type": "heading",
     "level": 3,
     "metadata": {
      "slideshow": {
       "slide_type": "slide"
      }
     },
     "prompt_number": 3,
     "source": [
      "Empirical histogram of successes"
     ]
    },
    {
     "cell_type": "code",
     "collapsed": false,
     "input": [
      "\n",
      "X = np.random.binomial(2,0.5,1000)\n",
      "p = np.array([(X == i).sum() for i in range(3)])/1000.\n",
      "pylab.bar(np.arange(3),p, width=1, align='center', alpha=0.7,\n",
      "          color='orange')\n",
      "a = pylab.gca()\n",
      "a.set_ylim([0,0.6])\n",
      "a.set_xlim([-0.6,2.6])"
     ],
     "language": "python",
     "metadata": {},
     "outputs": [],
     "prompt_number": 3
    },
    {
     "cell_type": "markdown",
     "metadata": {},
     "prompt_number": 4,
     "source": [
      "\n",
      "Tossing a fair coin 2 times, repeating 1000 times, counting heads"
     ]
    },
    {
     "cell_type": "heading",
     "level": 3,
     "metadata": {
      "slideshow": {
       "slide_type": "slide"
      }
     },
     "prompt_number": 4,
     "source": [
      "Probability histogram of successes"
     ]
    },
    {
     "cell_type": "code",
     "collapsed": false,
     "input": [
      "\n",
      "p = 1./2\n",
      "x, p = conv_binom(p, 5)\n",
      "cp = np.cumsum(p)\n",
      "k = (cp >= 0)\n",
      "pylab.bar(x[k],p[k], width=1, align='center', alpha=0.7)"
     ],
     "language": "python",
     "metadata": {},
     "outputs": [],
     "prompt_number": 4
    },
    {
     "cell_type": "markdown",
     "metadata": {},
     "prompt_number": 5,
     "source": [
      "\n",
      "Tossing a fair coin 5 times, counting heads"
     ]
    },
    {
     "cell_type": "heading",
     "level": 3,
     "metadata": {
      "slideshow": {
       "slide_type": "slide"
      }
     },
     "prompt_number": 5,
     "source": [
      "Empirical histogram of successes"
     ]
    },
    {
     "cell_type": "code",
     "collapsed": false,
     "input": [
      "\n",
      "X = np.random.binomial(5,0.5,1000)\n",
      "p = np.array([(X == i).sum() for i in range(6)])/1000.\n",
      "pylab.bar(np.arange(6),p, width=1, align='center', alpha=0.7,\n",
      "          color='orange')\n",
      "a = pylab.gca()\n",
      "# a.set_ylim([0,0.6])\n",
      "a.set_xlim([-0.6,5.6])"
     ],
     "language": "python",
     "metadata": {},
     "outputs": [],
     "prompt_number": 5
    },
    {
     "cell_type": "markdown",
     "metadata": {},
     "prompt_number": 6,
     "source": [
      "\n",
      "Tossing a fair coin 5 times, repeating 1000 times."
     ]
    },
    {
     "cell_type": "heading",
     "level": 3,
     "metadata": {
      "slideshow": {
       "slide_type": "slide"
      }
     },
     "prompt_number": 6,
     "source": [
      "Probability histogram of successes"
     ]
    },
    {
     "cell_type": "code",
     "collapsed": false,
     "input": [
      "\n",
      "p = 1./2\n",
      "x, p = conv_binom(p, 100)\n",
      "cp = np.cumsum(p)\n",
      "k = (cp <= 0.999) * (cp >= 0.001)\n",
      "pylab.bar(x[k],p[k], width=1, align='center', alpha=0.7)"
     ],
     "language": "python",
     "metadata": {},
     "outputs": [],
     "prompt_number": 6
    },
    {
     "cell_type": "markdown",
     "metadata": {},
     "prompt_number": 7,
     "source": [
      "\n",
      "Tossing a fair coin 100 times, counting heads"
     ]
    },
    {
     "cell_type": "heading",
     "level": 3,
     "metadata": {
      "slideshow": {
       "slide_type": "slide"
      }
     },
     "prompt_number": 7,
     "source": [
      "Roulette"
     ]
    },
    {
     "cell_type": "code",
     "collapsed": false,
     "input": [
      "dx = 0.02\n",
      "X, Y = np.mgrid[0.2:0.8:5j,0:1:8j]\n",
      "X += np.random.uniform(0,1,X.shape) * dx - dx / 2\n",
      "Y += np.random.uniform(0,1,Y.shape) * dx - dx / 2\n",
      "ts = range(1,37) + ['0', '00']\n",
      "success = [5]\n",
      "tt = [('F', 'yellow')] * 38\n",
      "for r in success:\n",
      "    tt[r] = ('S', 'orange')\n",
      "#np.random.shuffle(tt)\n",
      "X.shape = -1; Y.shape = -1\n",
      "g = np.array([t[1] == 'orange' for t in tt])\n",
      "pylab.scatter(X[:38][g],Y[:38][g],s=500, c='orange', alpha=0.5)\n",
      "pylab.scatter(X[:38][~g],Y[:38][~g],s=500, c='yellow', alpha=0.5)\n",
      "for i, t in enumerate(tt):\n",
      "    pylab.text(X[i], Y[i], t[0], color='black', ha='center', va='center')\n",
      "\n",
      "pylab.gca().set_xticks([])\n",
      "pylab.gca().set_yticks([])\n",
      "pylab.gca().set_xlim([X.min()-0.1,X.max()+0.1])\n",
      "pylab.gca().set_ylim([Y.min()-0.1,Y.max()+0.2])"
     ],
     "language": "python",
     "metadata": {},
     "outputs": [],
     "prompt_number": 7
    },
    {
     "cell_type": "markdown",
     "metadata": {},
     "prompt_number": 8,
     "source": [
      "\n",
      "Betting on  5\n",
      ": 1 ball is a success."
     ]
    },
    {
     "cell_type": "heading",
     "level": 3,
     "metadata": {
      "slideshow": {
       "slide_type": "slide"
      }
     },
     "prompt_number": 8,
     "source": [
      "Probability histogram of successes"
     ]
    },
    {
     "cell_type": "code",
     "collapsed": false,
     "input": [
      "\n",
      "p = 1./38\n",
      "x, p = conv_binom(p, 10)\n",
      "cp = np.cumsum(p)\n",
      "k = (cp >= 0)\n",
      "pylab.bar(x[k],p[k], width=1, align='center', alpha=0.7)"
     ],
     "language": "python",
     "metadata": {},
     "outputs": [],
     "prompt_number": 8
    },
    {
     "cell_type": "markdown",
     "metadata": {},
     "prompt_number": 9,
     "source": [
      "\n",
      "Betting on  5\n",
      " 10 times, counting wins."
     ]
    },
    {
     "cell_type": "heading",
     "level": 3,
     "metadata": {
      "slideshow": {
       "slide_type": "slide"
      }
     },
     "prompt_number": 9,
     "source": [
      "Probability histogram of successes"
     ]
    },
    {
     "cell_type": "code",
     "collapsed": false,
     "input": [
      "\n",
      "p = 1./38\n",
      "\n",
      "x, p = conv_binom(p, 100)\n",
      "cp = np.cumsum(p)\n",
      "k = (cp <= 0.999) * (cp >= 0.001)\n",
      "pylab.bar(x[k],p[k], width=1, align='center', alpha=0.7)"
     ],
     "language": "python",
     "metadata": {},
     "outputs": [],
     "prompt_number": 9
    },
    {
     "cell_type": "markdown",
     "metadata": {},
     "prompt_number": 10,
     "source": [
      "\n",
      "Betting on  5\n",
      " 100 times, counting wins."
     ]
    },
    {
     "cell_type": "heading",
     "level": 3,
     "metadata": {
      "slideshow": {
       "slide_type": "slide"
      }
     },
     "prompt_number": 10,
     "source": [
      "Probability histogram of successes"
     ]
    },
    {
     "cell_type": "code",
     "collapsed": false,
     "input": [
      "\n",
      "p = 1./38\n",
      "x, p = conv_binom(p, 1000)\n",
      "cp = np.cumsum(p)\n",
      "k = (cp <= 0.999) * (cp >= 0.001)\n",
      "pylab.bar(x[k],p[k], width=1, align='center', alpha=0.7)"
     ],
     "language": "python",
     "metadata": {},
     "outputs": [],
     "prompt_number": 10
    },
    {
     "cell_type": "markdown",
     "metadata": {},
     "prompt_number": 11,
     "source": [
      "\n",
      "Betting on  5\n",
      " 1000 times, counting wins."
     ]
    },
    {
     "cell_type": "heading",
     "level": 3,
     "metadata": {
      "slideshow": {
       "slide_type": "slide"
      }
     },
     "prompt_number": 11,
     "source": [
      "Probability histogram of successes"
     ]
    },
    {
     "cell_type": "code",
     "collapsed": false,
     "input": [
      "\n",
      "p = 1./38\n",
      "n = 10\n",
      "x, p = conv_binom(p, n)\n",
      "cp = np.cumsum(p)\n",
      "k = (cp >= 0)\n",
      "XX = np.zeros(x.shape[0]+1)\n",
      "XX[:-1] = 100 + 350 * x - 10 * (n - x)\n",
      "XX[-1] = XX[-2] + 100\n",
      "PL_density(p, XX-170)\n",
      "pylab.gca().set_xlim([-300,1200])\n",
      "pylab.gca().set_ylabel('$\\%$ per \\$')\n",
      "pylab.gca().set_xlabel('\\$')"
     ],
     "language": "python",
     "metadata": {},
     "outputs": [],
     "prompt_number": 11
    },
    {
     "cell_type": "markdown",
     "metadata": {},
     "prompt_number": 12,
     "source": [
      "\n",
      "Betting on  5\n",
      " 10 times, counting total balance."
     ]
    },
    {
     "cell_type": "heading",
     "level": 3,
     "metadata": {
      "slideshow": {
       "slide_type": "slide"
      }
     },
     "prompt_number": 12,
     "source": [
      "Probability histogram of successes"
     ]
    },
    {
     "cell_type": "code",
     "collapsed": false,
     "input": [
      "\n",
      "p = 1./38\n",
      "n = 100\n",
      "x, p = conv_binom(p, n)\n",
      "cp = np.cumsum(p)\n",
      "k = (cp >= 0)\n",
      "XX = np.zeros(x.shape[0]+1)\n",
      "XX[:-1] = 100 + 350 * x - 10 * (n - x)\n",
      "XX[-1] = XX[-2] + 100\n",
      "PL_density(p, XX-170)\n",
      "pylab.gca().set_ylabel('$\\%$ per \\$')\n",
      "pylab.gca().set_xlim([-1000,3000])\n",
      "pylab.gca().set_xlabel('\\$')"
     ],
     "language": "python",
     "metadata": {},
     "outputs": [],
     "prompt_number": 12
    },
    {
     "cell_type": "markdown",
     "metadata": {},
     "prompt_number": 13,
     "source": [
      "\n",
      "Betting on  5\n",
      " 100 times, counting total balance."
     ]
    },
    {
     "cell_type": "heading",
     "level": 3,
     "metadata": {
      "slideshow": {
       "slide_type": "slide"
      }
     },
     "prompt_number": 13,
     "source": [
      "Probability histogram of successes"
     ]
    },
    {
     "cell_type": "code",
     "collapsed": false,
     "input": [
      "\n",
      "p = 1./38\n",
      "n = 1000\n",
      "x, p = conv_binom(p, n)\n",
      "cp = np.cumsum(p)\n",
      "k = (cp >= 0)\n",
      "XX = np.zeros(x.shape[0]+1)\n",
      "XX[:-1] = 100 + 350 * x - 10 * (n - x)\n",
      "XX[-1] = XX[-2] + 100\n",
      "PL_density(p, XX-170)\n",
      "pylab.gca().set_ylabel('$\\%$ per \\$')\n",
      "pylab.gca().set_xlim([-6000,6000])\n",
      "pylab.gca().set_xlabel('\\$')"
     ],
     "language": "python",
     "metadata": {},
     "outputs": [],
     "prompt_number": 13
    },
    {
     "cell_type": "markdown",
     "metadata": {},
     "prompt_number": 14,
     "source": [
      "\n",
      "Betting on  5\n",
      " 1000 times, counting total money"
     ]
    },
    {
     "cell_type": "heading",
     "level": 3,
     "metadata": {
      "slideshow": {
       "slide_type": "slide"
      }
     },
     "prompt_number": 14,
     "source": [
      "Normal approximation"
     ]
    },
    {
     "cell_type": "markdown",
     "metadata": {},
     "prompt_number": 14,
     "source": [
      "\n",
      "Central limit theorem\n",
      "\n",
      "* When making many independent draws from a box, the central limit theorem says that we can use the normal curve to approximate probabilities of things for the **sum of draws**\n",
      "  .\n",
      "* Specifically, the normal curve applies to $\\frac{\\text{{\\bf sum of draws}} - \\text{average({\\bf sum of draws})}}{\\text{SE({\\bf sum of draws})}}$"
     ]
    },
    {
     "cell_type": "heading",
     "level": 3,
     "metadata": {
      "slideshow": {
       "slide_type": "slide"
      }
     },
     "prompt_number": 14,
     "source": [
      "Normal approximation"
     ]
    },
    {
     "cell_type": "markdown",
     "metadata": {},
     "prompt_number": 14,
     "source": [
      "\n",
      "Example\n",
      "\n",
      "Q * Roulette, betting on  5\n",
      "   10 times, 10$ each bet starting with 100 $. What are the chances we will finish with more than 200 $?\n",
      "A * We know\n",
      "*     * $\\text{average({\\bf sum of draws})} = 100 \\times (-0.52)\\$ = -52\\$ $\n",
      "      * $\\text{SE({\\bf sum of draws})} = \\sqrt{100} \\times 360 \\times \\sqrt{\\frac{1}{38} \\times \\frac{37}{38}} \\approx 570\\$ $\n",
      "      * Finishing with more than 200$ means the **sum of draws**\n",
      "         was greater than 100$ .\n",
      "      * In standardized units, this is $\\frac{100-(-52)}{570} \\approx 0.27$"
     ]
    },
    {
     "cell_type": "heading",
     "level": 3,
     "metadata": {
      "slideshow": {
       "slide_type": "slide"
      }
     },
     "prompt_number": 14,
     "source": [
      "Normal approximation"
     ]
    },
    {
     "cell_type": "code",
     "collapsed": false,
     "input": [
      "x = np.linspace(-4,4,101)\n",
      "y = np.exp(-x**2/2) / np.sqrt(2*np.pi)\n",
      "x2 = np.linspace(0.264,4,101)\n",
      "y2 = np.exp(-x2**2/2) / np.sqrt(2*np.pi)\n",
      "pylab.plot(x,y*100, linewidth=2)\n",
      "xf, yf = pylab.poly_between(x2, 0*x2, y2*100)\n",
      "pylab.fill(xf, yf, facecolor='red', hatch='\\\\', alpha=0.5)\n",
      "pylab.gca().set_xlabel('standardized units')\n",
      "pylab.gca().set_ylabel('% per standardized unit')\n",
      "#pylab.gca().set_xlim([-2,4])\n",
      "#pylab.gca().set_yticks([])"
     ],
     "language": "python",
     "metadata": {},
     "outputs": [],
     "prompt_number": 14
    },
    {
     "cell_type": "markdown",
     "metadata": {},
     "prompt_number": 15,
     "source": [
      "\n",
      "From A-104, chances are approximately 40%"
     ]
    },
    {
     "cell_type": "heading",
     "level": 3,
     "metadata": {
      "slideshow": {
       "slide_type": "slide"
      }
     },
     "prompt_number": 15,
     "source": [
      "Probability histogram of successes"
     ]
    },
    {
     "cell_type": "code",
     "collapsed": false,
     "input": [
      "\n",
      "p = 1./38\n",
      "n = 100\n",
      "x, p = conv_binom(p, n)\n",
      "cp = np.cumsum(p)\n",
      "k = (cp >= 0)\n",
      "XX = np.zeros(x.shape[0]+1)\n",
      "XX[:-1] = 100 + 350 * x - 10 * (n - x)\n",
      "XX[-1] = XX[-2] + 1000\n",
      "XY = XX-(XX[3]-XX[2])/2\n",
      "PL_density(p, XY)\n",
      "pylab.gca().set_ylabel('$\\%$ per \\$')\n",
      "pylab.gca().set_xlim([-6000,6000])\n",
      "pylab.gca().set_xlabel('\\$')\n",
      "\n",
      "mu = 100 + n * np.mean([-10]*37+[350])\n",
      "SD = np.sqrt(n) * np.std([-10]*37+[350])\n",
      "from scipy.stats import norm\n",
      "XZ = np.linspace(XX.min(), XX.max(), 2000)\n",
      "pylab.plot(XZ, 100 * norm.pdf((XZ-mu)/SD) / SD, linewidth=4, color='red')\n",
      "pylab.gca().set_xlim([-6000,6000])"
     ],
     "language": "python",
     "metadata": {},
     "outputs": [],
     "prompt_number": 15
    },
    {
     "cell_type": "markdown",
     "metadata": {},
     "prompt_number": 16,
     "source": [
      "\n",
      "Normal approximation using average, SE of sum of 100 draws"
     ]
    },
    {
     "cell_type": "heading",
     "level": 3,
     "metadata": {
      "slideshow": {
       "slide_type": "slide"
      }
     },
     "prompt_number": 16,
     "source": [
      "Probability histogram of successes"
     ]
    },
    {
     "cell_type": "code",
     "collapsed": false,
     "input": [
      "\n",
      "p = 1./38\n",
      "n = 1000\n",
      "x, p = conv_binom(p, n)\n",
      "cp = np.cumsum(p)\n",
      "k = (cp >= 0)\n",
      "XX = np.zeros(x.shape[0]+1)\n",
      "XX[:-1] = 100 + 350 * x - 10 * (n - x)\n",
      "XX[-1] = XX[-2] + 1000\n",
      "XY = XX-(XX[3]-XX[2])/2\n",
      "PL_density(p, XY)\n",
      "pylab.gca().set_ylabel('$\\%$ per \\$')\n",
      "pylab.gca().set_xlim([-6000,6000])\n",
      "pylab.gca().set_xlabel('\\$')\n",
      "\n",
      "mu = 100 + n * np.mean([-10]*37+[350])\n",
      "SD = np.sqrt(n) * np.std([-10]*37+[350])\n",
      "from scipy.stats import norm\n",
      "pylab.plot(XX, 100 * norm.pdf((XX-mu)/SD) / SD, linewidth=4, color='red')\n",
      "pylab.gca().set_xlim([-6000,6000])"
     ],
     "language": "python",
     "metadata": {},
     "outputs": [],
     "prompt_number": 16
    },
    {
     "cell_type": "markdown",
     "metadata": {},
     "prompt_number": 17,
     "source": [
      "\n",
      "Normal approximation using average, SE of sum of 1000 draws"
     ]
    },
    {
     "cell_type": "heading",
     "level": 3,
     "metadata": {
      "slideshow": {
       "slide_type": "slide"
      }
     },
     "prompt_number": 17,
     "source": [
      "Probability histogram of successes"
     ]
    },
    {
     "cell_type": "code",
     "collapsed": false,
     "input": [
      "\n",
      "p = 1./2\n",
      "n = 100\n",
      "x, p = conv_binom(p, n)\n",
      "cp = np.cumsum(p)\n",
      "k = (cp >= 0)\n",
      "XX = np.zeros(x.shape[0]+1)\n",
      "XX[:-1] = x\n",
      "XX[-1] = XX[-2] + 10\n",
      "XY = XX-(XX[3]-XX[2])/2.\n",
      "PL_density(p, XY)\n",
      "pylab.gca().set_ylabel('$\\%$ per head')\n",
      "pylab.gca().set_xlabel('# heads')\n",
      "\n",
      "mu = n * np.mean([1,0])\n",
      "SD = np.sqrt(n) * np.std([0,1])\n",
      "from scipy.stats import norm\n",
      "pylab.plot(XX, 100 * norm.pdf((XX-mu)/SD) / SD, linewidth=4, color='red')\n",
      "\n",
      "pylab.gca().set_xlim([35,65])"
     ],
     "language": "python",
     "metadata": {},
     "outputs": [],
     "prompt_number": 17
    },
    {
     "cell_type": "markdown",
     "metadata": {},
     "prompt_number": 18,
     "source": [
      "\n",
      "Normal approximation of number of heads in 100 flips"
     ]
    },
    {
     "cell_type": "heading",
     "level": 3,
     "metadata": {
      "slideshow": {
       "slide_type": "slide"
      }
     },
     "prompt_number": 18,
     "source": [
      "Probability histogram of successes"
     ]
    },
    {
     "cell_type": "code",
     "collapsed": false,
     "input": [
      "p = 1./2\n",
      "n = 400\n",
      "x, p = conv_binom(p, n)\n",
      "cp = np.cumsum(p)\n",
      "k = (cp >= 0)\n",
      "XX = np.zeros(x.shape[0]+1)\n",
      "XX[:-1] = x\n",
      "XX[-1] = XX[-2] + 10\n",
      "XY = XX-(XX[3]-XX[2])/2.\n",
      "PL_density(p, XY)\n",
      "pylab.gca().set_ylabel('$\\%$ per head')\n",
      "pylab.gca().set_xlabel('# heads')\n",
      "\n",
      "mu = n * np.mean([1,0])\n",
      "SD = np.sqrt(n) * np.std([0,1])\n",
      "from scipy.stats import norm\n",
      "pylab.plot(XX, 100 * norm.pdf((XX-mu)/SD) / SD, linewidth=4, color='red')\n",
      "\n",
      "pylab.gca().set_xlim([170,230])"
     ],
     "language": "python",
     "metadata": {},
     "outputs": [],
     "prompt_number": 18
    },
    {
     "cell_type": "markdown",
     "metadata": {},
     "prompt_number": 19,
     "source": [
      "\n",
      "Normal approximation of number of heads in 400 flips"
     ]
    },
    {
     "cell_type": "heading",
     "level": 3,
     "metadata": {
      "slideshow": {
       "slide_type": "slide"
      }
     },
     "prompt_number": 19,
     "source": [
      "Probability histogram of successes"
     ]
    },
    {
     "cell_type": "code",
     "collapsed": false,
     "input": [
      "\n",
      "p = 1./2\n",
      "n = 900\n",
      "x, p = conv_binom(p, n)\n",
      "cp = np.cumsum(p)\n",
      "k = (cp >= 0)\n",
      "XX = np.zeros(x.shape[0]+1)\n",
      "XX[:-1] = x\n",
      "XX[-1] = XX[-2] + 10\n",
      "XY = XX-(XX[3]-XX[2])/2.\n",
      "PL_density(p, XY)\n",
      "pylab.gca().set_ylabel('$\\%$ per head')\n",
      "pylab.gca().set_xlabel('# heads')\n",
      "\n",
      "mu = n * np.mean([1,0])\n",
      "SD = np.sqrt(n) * np.std([0,1])\n",
      "from scipy.stats import norm\n",
      "pylab.plot(XX, 100 * norm.pdf((XX-mu)/SD) / SD, linewidth=4, color='red')\n",
      "\n",
      "pylab.gca().set_xlim([405,495])"
     ],
     "language": "python",
     "metadata": {},
     "outputs": [],
     "prompt_number": 19
    },
    {
     "cell_type": "markdown",
     "metadata": {},
     "prompt_number": 20,
     "source": [
      "\n",
      "Normal approximation of number of heads in 400 flips"
     ]
    },
    {
     "cell_type": "heading",
     "level": 3,
     "metadata": {
      "slideshow": {
       "slide_type": "slide"
      }
     },
     "prompt_number": 20,
     "source": [
      "Normal approximation"
     ]
    },
    {
     "cell_type": "markdown",
     "metadata": {},
     "prompt_number": 20,
     "source": [
      "\n",
      "Continuity correction\n",
      "\n",
      "* When using the normal approximation to the sum of draws, we sometimes use the *continuity correction*\n",
      "  .\n",
      "*     * {observing more than 40 heads in 100 flips} = {observing more than 40.5 heads in 100 flips}\n",
      "      * {observing less than 40 heads in 100 flips} = {observing less than 39.5 heads in 100 flips}\n",
      "      * {observing exactly 40 heads in 100 flips} = {observing between 39.5 and 40.5 heads in 100 flips}\n",
      "      * {observing greater than or equal to 41 heads but less than 52 heads in 100 flips } = {observing between 40.5 and 51.5 heads in 100 flips}"
     ]
    },
    {
     "cell_type": "heading",
     "level": 3,
     "metadata": {
      "slideshow": {
       "slide_type": "slide"
      }
     },
     "prompt_number": 20,
     "source": [
      "Normal approximation"
     ]
    },
    {
     "cell_type": "code",
     "collapsed": false,
     "input": [
      "from scipy.stats import norm\n",
      "\n",
      "p = 1./2\n",
      "n = 100\n",
      "x, p = conv_binom(p, n)\n",
      "cp = np.cumsum(p)\n",
      "k = (cp >= 0)\n",
      "XX = np.zeros(x.shape[0]+1)\n",
      "XX[:-1] = x\n",
      "XX[-1] = XX[-2] + 10\n",
      "XY = XX-(XX[3]-XX[2])/2.\n",
      "PL_density(p, XY)\n",
      "pylab.gca().set_ylabel('$\\%$ per head')\n",
      "pylab.gca().set_xlabel('# heads')\n",
      "\n",
      "mu = n * np.mean([1,0])\n",
      "SD = np.sqrt(n) * np.std([0,1])\n",
      "pylab.plot(XX, 100 * norm.pdf((XX-mu)/SD) / SD, linewidth=4, color='red')\n",
      "\n",
      "x2 = np.linspace(40.5,100,1001)\n",
      "y2 = 100 * norm.pdf((x2-mu)/SD) / SD\n",
      "xf, yf = pylab.poly_between(x2, 0*x2, y2)\n",
      "pylab.fill(xf, yf, facecolor='red', hatch='\\\\', alpha=0.7)\n",
      "\n",
      "\n",
      "pylab.gca().set_xlim([35,65])"
     ],
     "language": "python",
     "metadata": {},
     "outputs": [],
     "prompt_number": 20
    },
    {
     "cell_type": "markdown",
     "metadata": {},
     "prompt_number": 21,
     "source": [
      "\n",
      "Observing more than 40 heads using continuity correction"
     ]
    },
    {
     "cell_type": "heading",
     "level": 3,
     "metadata": {
      "slideshow": {
       "slide_type": "slide"
      }
     },
     "prompt_number": 21,
     "source": [
      "Normal approximation"
     ]
    },
    {
     "cell_type": "code",
     "collapsed": false,
     "input": [
      "\n",
      "p = 1./2\n",
      "n = 100\n",
      "x, p = conv_binom(p, n)\n",
      "cp = np.cumsum(p)\n",
      "k = (cp >= 0)\n",
      "XX = np.zeros(x.shape[0]+1)\n",
      "XX[:-1] = x\n",
      "XX[-1] = XX[-2] + 10\n",
      "XY = XX-(XX[3]-XX[2])/2.\n",
      "PL_density(p, XY)\n",
      "pylab.gca().set_ylabel('$\\%$ per head')\n",
      "pylab.gca().set_xlabel('# heads')\n",
      "\n",
      "mu = n * np.mean([1,0])\n",
      "SD = np.sqrt(n) * np.std([0,1])\n",
      "pylab.plot(XX, 100 * norm.pdf((XX-mu)/SD) / SD, linewidth=4, color='red')\n",
      "\n",
      "x2 = np.linspace(0,39.5,1001)\n",
      "y2 = 100 * norm.pdf((x2-mu)/SD) / SD\n",
      "xf, yf = pylab.poly_between(x2, 0*x2, y2)\n",
      "pylab.fill(xf, yf, facecolor='red', hatch='\\\\', alpha=0.7)\n",
      "\n",
      "\n",
      "pylab.gca().set_xlim([35,65])"
     ],
     "language": "python",
     "metadata": {},
     "outputs": [],
     "prompt_number": 21
    },
    {
     "cell_type": "markdown",
     "metadata": {},
     "prompt_number": 22,
     "source": [
      "\n",
      "Observing less than 40 heads using continuity correction"
     ]
    },
    {
     "cell_type": "heading",
     "level": 3,
     "metadata": {
      "slideshow": {
       "slide_type": "slide"
      }
     },
     "prompt_number": 22,
     "source": [
      "Normal approximation"
     ]
    },
    {
     "cell_type": "code",
     "collapsed": false,
     "input": [
      "\n",
      "p = 1./2\n",
      "n = 100\n",
      "x, p = conv_binom(p, n)\n",
      "cp = np.cumsum(p)\n",
      "k = (cp >= 0)\n",
      "XX = np.zeros(x.shape[0]+1)\n",
      "XX[:-1] = x\n",
      "XX[-1] = XX[-2] + 10\n",
      "XY = XX-(XX[3]-XX[2])/2.\n",
      "PL_density(p, XY)\n",
      "pylab.gca().set_ylabel('$\\%$ per head')\n",
      "pylab.gca().set_xlabel('# heads')\n",
      "\n",
      "mu = n * np.mean([1,0])\n",
      "SD = np.sqrt(n) * np.std([0,1])\n",
      "pylab.plot(XX, 100 * norm.pdf((XX-mu)/SD) / SD, linewidth=4, color='red')\n",
      "\n",
      "x2 = np.linspace(39.5,40.5,101)\n",
      "y2 = 100 * norm.pdf((x2-mu)/SD) / SD\n",
      "xf, yf = pylab.poly_between(x2, 0*x2, y2)\n",
      "pylab.fill(xf, yf, facecolor='red', hatch='\\\\', alpha=0.7)\n",
      "\n",
      "\n",
      "pylab.gca().set_xlim([35,65])"
     ],
     "language": "python",
     "metadata": {},
     "outputs": [],
     "prompt_number": 22
    },
    {
     "cell_type": "markdown",
     "metadata": {},
     "prompt_number": 23,
     "source": [
      "\n",
      "Observing exactly 40 heads using continuity correction"
     ]
    },
    {
     "cell_type": "heading",
     "level": 3,
     "metadata": {
      "slideshow": {
       "slide_type": "slide"
      }
     },
     "prompt_number": 23,
     "source": [
      "Normal approximation"
     ]
    },
    {
     "cell_type": "code",
     "collapsed": false,
     "input": [
      "\n",
      "p = 1./2\n",
      "n = 100\n",
      "x, p = conv_binom(p, n)\n",
      "cp = np.cumsum(p)\n",
      "k = (cp >= 0)\n",
      "XX = np.zeros(x.shape[0]+1)\n",
      "XX[:-1] = x\n",
      "XX[-1] = XX[-2] + 10\n",
      "XY = XX-(XX[3]-XX[2])/2.\n",
      "PL_density(p, XY)\n",
      "pylab.gca().set_ylabel('$\\%$ per head')\n",
      "pylab.gca().set_xlabel('# heads')\n",
      "\n",
      "mu = n * np.mean([1,0])\n",
      "SD = np.sqrt(n) * np.std([0,1])\n",
      "pylab.plot(XX, 100 * norm.pdf((XX-mu)/SD) / SD, linewidth=4, color='red')\n",
      "\n",
      "x2 = np.linspace(40.5,51.5,101)\n",
      "y2 = 100 * norm.pdf((x2-mu)/SD) / SD\n",
      "xf, yf = pylab.poly_between(x2, 0*x2, y2)\n",
      "pylab.fill(xf, yf, facecolor='red', hatch='\\\\', alpha=0.7)\n",
      "\n",
      "\n",
      "pylab.gca().set_xlim([35,65])"
     ],
     "language": "python",
     "metadata": {},
     "outputs": [],
     "prompt_number": 23
    },
    {
     "cell_type": "markdown",
     "metadata": {},
     "prompt_number": 24,
     "source": [
      "\n",
      "Observing greater than or equal to 41 but less than 52."
     ]
    },
    {
     "cell_type": "heading",
     "level": 3,
     "metadata": {
      "slideshow": {
       "slide_type": "slide"
      }
     },
     "prompt_number": 24,
     "source": [
      "Normal approximation"
     ]
    },
    {
     "cell_type": "markdown",
     "metadata": {},
     "prompt_number": 24,
     "source": [
      "\n",
      "Example\n",
      "\n",
      "Q * Use the normal approximation to estimate the probability of observing more than or equal to 45 heads in 80 flips of a fair coin.\n",
      "A * We know\n",
      "*     * $\\text{average({\\bf sum of draws})} = 80 \\times 0.5 = 40 $\n",
      "      * $\\text{SE({\\bf sum of draws})} = \\sqrt{80} \\times \\sqrt{\\frac{1}{2}  \\times \\frac{1}{2}} \\approx 4.5 $\n",
      "      * Observing more than or equal to 45 heads is the same as observing more than 44.5 heads\n",
      "      * In standardized units, this is $\\frac{44.5-40}{4.5} \\approx 1$"
     ]
    },
    {
     "cell_type": "heading",
     "level": 3,
     "metadata": {
      "slideshow": {
       "slide_type": "slide"
      }
     },
     "prompt_number": 24,
     "source": [
      "Normal approximation"
     ]
    },
    {
     "cell_type": "code",
     "collapsed": false,
     "input": [
      "x = np.linspace(-4,4,101)\n",
      "y = np.exp(-x**2/2) / np.sqrt(2*np.pi)\n",
      "x2 = np.linspace(1,4,101)\n",
      "y2 = np.exp(-x2**2/2) / np.sqrt(2*np.pi)\n",
      "pylab.plot(x,y*100, linewidth=2)\n",
      "xf, yf = pylab.poly_between(x2, 0*x2, y2*100)\n",
      "pylab.fill(xf, yf, facecolor='red', hatch='\\\\', alpha=0.5)\n",
      "pylab.gca().set_xlabel('standardized units')\n",
      "pylab.gca().set_ylabel('% per standardized unit')\n"
     ],
     "language": "python",
     "metadata": {},
     "outputs": [],
     "prompt_number": 24
    },
    {
     "cell_type": "markdown",
     "metadata": {},
     "prompt_number": 25,
     "source": [
      "\n",
      "From A-104, chances are approximately 16%"
     ]
    },
    {
     "cell_type": "heading",
     "level": 3,
     "metadata": {
      "slideshow": {
       "slide_type": "slide"
      }
     },
     "prompt_number": 25,
     "source": [
      "Normal approximation"
     ]
    },
    {
     "cell_type": "markdown",
     "metadata": {},
     "prompt_number": 25,
     "source": [
      "\n",
      "Example (continued)\n",
      "\n",
      "Q * Use the normal approximation to estimate the probability of observing exactly 45 heads in 80 flips of a fair coin.\n",
      "A * We know\n",
      "*     * $\\text{average({\\bf sum of draws})} = 80 \\times 0.5 = 40 $\n",
      "      * $\\text{SE({\\bf sum of draws})} = \\sqrt{80} \\times \\sqrt{\\frac{1}{2} \\times  \\frac{1}{2}} \\approx 4.5 $\n",
      "      * Observing 45 heads is the same as observing between 44.5 and 45.5 heads.\n",
      "      * In standardized units, this is endpoints are $\\begin{aligned}\n",
      "               \\text{lower}&= \\frac{44.5-40}{4.5}    \\approx 1 \\\\\n",
      "               \\text{upper}&= \\frac{45.5-40}{4.5}    \\approx 1.2 \\\\\n",
      "               \\end{aligned}$"
     ]
    },
    {
     "cell_type": "heading",
     "level": 3,
     "metadata": {
      "slideshow": {
       "slide_type": "slide"
      }
     },
     "prompt_number": 25,
     "source": [
      "Normal approximation"
     ]
    },
    {
     "cell_type": "code",
     "collapsed": false,
     "input": [
      "x = np.linspace(-4,4,101)\n",
      "y = np.exp(-x**2/2) / np.sqrt(2*np.pi)\n",
      "x2 = np.linspace(1,1.2,101)\n",
      "y2 = np.exp(-x2**2/2) / np.sqrt(2*np.pi)\n",
      "pylab.plot(x,y*100, linewidth=2)\n",
      "xf, yf = pylab.poly_between(x2, 0*x2, y2*100)\n",
      "pylab.fill(xf, yf, facecolor='red', hatch='\\\\', alpha=0.5)\n",
      "pylab.gca().set_xlabel('standardized units')\n",
      "pylab.gca().set_ylabel('% per standardized unit')\n"
     ],
     "language": "python",
     "metadata": {},
     "outputs": [],
     "prompt_number": 25
    },
    {
     "cell_type": "markdown",
     "metadata": {},
     "prompt_number": 26,
     "source": [
      "\n",
      "From A-104: approximately 4.8%, (actual 4.8%)"
     ]
    },
    {
     "cell_type": "heading",
     "level": 3,
     "metadata": {
      "slideshow": {
       "slide_type": "slide"
      }
     },
     "prompt_number": 26,
     "source": [
      "Normal approximation"
     ]
    },
    {
     "cell_type": "markdown",
     "metadata": {},
     "prompt_number": 26,
     "source": [
      "\n",
      "Central limit theorem\n",
      "\n",
      "* The central limit theorem applies to **sum of draws**\n",
      "  .\n",
      "* The number of draws should be reasonably large.\n",
      "* The more lopsided the values are, the more draws needed for reasonable approximation (compare the approximations of rolling  5\n",
      "   in roulette to flipping a fair coin).\n",
      "* It is another type of *convergence*\n",
      "  : as the number of draws grows, the approximation gets better."
     ]
    },
    {
     "cell_type": "heading",
     "level": 3,
     "metadata": {
      "slideshow": {
       "slide_type": "slide"
      }
     },
     "prompt_number": 26,
     "source": [
      "Normal approximation"
     ]
    },
    {
     "cell_type": "code",
     "collapsed": false,
     "input": [
      "\n",
      "d = np.array([0,1,1.,0,0,0,0,1])/3\n",
      "n = 10\n",
      "x, d = conv_integer_rv(d, n)\n",
      "cp = np.cumsum(d)\n",
      "k = (cp >= 0.001) * (cp <= 0.999)\n",
      "\n",
      "pylab.bar(x[k],d[k] * 100, width=1, align='center', alpha=0.7)\n",
      "mu = n * np.mean([1,2,7])\n",
      "SD = np.sqrt(n) * np.std([1,2,7])\n",
      "pylab.plot(x[k],norm.pdf((x[k]-mu)/SD) / SD * 100, linewidth=4, color='red')"
     ],
     "language": "python",
     "metadata": {},
     "outputs": [],
     "prompt_number": 26
    },
    {
     "cell_type": "markdown",
     "metadata": {},
     "prompt_number": 27,
     "source": [
      "\n",
      "10 draws from a lopsided box: [1,2,7]"
     ]
    },
    {
     "cell_type": "heading",
     "level": 3,
     "metadata": {
      "slideshow": {
       "slide_type": "slide"
      }
     },
     "prompt_number": 27,
     "source": [
      "Normal approximation"
     ]
    },
    {
     "cell_type": "code",
     "collapsed": false,
     "input": [
      "\n",
      "d = np.array([0,1,1.,0,0,0,0,1])/3\n",
      "n = 30\n",
      "x, d = conv_integer_rv(d, n)\n",
      "cp = np.cumsum(d)\n",
      "k = (cp >= 0.001) * (cp <= 0.999)\n",
      "\n",
      "pylab.bar(x[k],d[k] * 100, width=1, align='center', alpha=0.7)\n",
      "mu = n * np.mean([1,2,7])\n",
      "SD = np.sqrt(n) * np.std([1,2,7])\n",
      "pylab.plot(x[k],norm.pdf((x[k]-mu)/SD) / SD * 100, linewidth=4, color='red')"
     ],
     "language": "python",
     "metadata": {},
     "outputs": [],
     "prompt_number": 27
    },
    {
     "cell_type": "markdown",
     "metadata": {},
     "prompt_number": 28,
     "source": [
      "\n",
      "30 draws from a lopsided box: [1,2,7]"
     ]
    },
    {
     "cell_type": "heading",
     "level": 3,
     "metadata": {
      "slideshow": {
       "slide_type": "slide"
      }
     },
     "prompt_number": 28,
     "source": [
      "Normal approximation"
     ]
    },
    {
     "cell_type": "code",
     "collapsed": false,
     "input": [
      "\n",
      "d = np.array([0,1,1.,0,0,0,0,1])/3\n",
      "n = 50\n",
      "x, d = conv_integer_rv(d, n)\n",
      "cp = np.cumsum(d)\n",
      "k = (cp >= 0.001) * (cp <= 0.999)\n",
      "\n",
      "pylab.bar(x[k],d[k] * 100, width=1, align='center', alpha=0.7)\n",
      "mu = n * np.mean([1,2,7])\n",
      "SD = np.sqrt(n) * np.std([1,2,7])\n",
      "pylab.plot(x[k],norm.pdf((x[k]-mu)/SD) / SD * 100, linewidth=4, color='red')"
     ],
     "language": "python",
     "metadata": {},
     "outputs": [],
     "prompt_number": 28
    },
    {
     "cell_type": "markdown",
     "metadata": {},
     "prompt_number": 29,
     "source": [
      "\n",
      "50 draws from a lopsided box: [1,2,7]"
     ]
    }
   ],
   "metadata": {}
  }
 ]
}
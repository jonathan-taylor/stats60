{
 "metadata": {
  "celltoolbar": "Slideshow",
  "name": "",
  "signature": "sha256:29035a652024d64411520a09843691a717fe06cac74dc50fa9b8f38df6001635"
 },
 "nbformat": 3,
 "nbformat_minor": 0,
 "worksheets": [
  {
   "cells": [
    {
     "cell_type": "markdown",
     "metadata": {},
     "prompt_number": 1,
     "source": [
      "# Chance Variability (Chapters 16 and 17)\n",
      "\n",
      "In these chapters, we consider the behaviour of the\n",
      "average when drawing from a box multiple times.\n",
      "\n",
      "Two key concepts are:\n",
      "- *expected value*: what is the \"average\" value when we draw from a box?\n",
      "- *SE (standard error)*: \n",
      "     - How variable is a draw from a box?\n",
      "     - How variable is the average of several draws?"
     ]
    },
    {
     "cell_type": "markdown",
     "metadata": {
      "slideshow": {
       "slide_type": "slide"
      }
     },
     "prompt_number": 1,
     "source": [
      "## Roulette\n",
      "\n"
     ]
    },
    {
     "cell_type": "code",
     "collapsed": false,
     "input": [
      "roulette.red"
     ],
     "language": "python",
     "metadata": {
      "slideshow": {
       "slide_type": "slide"
      }
     },
     "outputs": [],
     "prompt_number": 1
    },
    {
     "cell_type": "markdown",
     "metadata": {
      "slideshow": {
       "slide_type": "slide"
      }
     },
     "prompt_number": 2,
     "source": [
      "Suppose now, we bet 10 \\$ on red.\n",
      "The casino pays as follows:\n",
      "- If the ball lands on a red position, we keep our 10 \\$ and receive an additional 10\\$. \n",
      "- If the ball lands on a black position, the casino keeps our 10\\$."
     ]
    },
    {
     "cell_type": "code",
     "collapsed": false,
     "input": [
      "places = {}\n",
      "for i in range(1,37) + ['0','00']:\n",
      "    if i in roulette.red_numbers:\n",
      "        places[i] = roulette.roulette_position(10,\n",
      "                                               facecolor='green',\n",
      "                                               bg_alpha=None,\n",
      "                                               fontsize=90)\n",
      "    else:\n",
      "        places[i] = roulette.roulette_position(-10,\n",
      "                                               facecolor='red',\n",
      "                                               bg_alpha=None,\n",
      "                                               fontsize=90)\n",
      "winnings = roulette.roulette_table(places)\n",
      "from IPython.core.display import HTML"
     ],
     "language": "python",
     "metadata": {
      "slideshow": {
       "slide_type": "skip"
      }
     },
     "outputs": [],
     "prompt_number": 2
    },
    {
     "cell_type": "code",
     "collapsed": false,
     "input": [
      "HTML(winnings)"
     ],
     "language": "python",
     "metadata": {
      "slideshow": {
       "slide_type": "fragment"
      }
     },
     "outputs": [],
     "prompt_number": 3
    },
    {
     "cell_type": "markdown",
     "metadata": {
      "slideshow": {
       "slide_type": "slide"
      }
     },
     "prompt_number": 4,
     "source": [
      "## The law of averages\n",
      "\n",
      "* Suppose we start with 100\\$ in a Las Vegas casino and bet 10 \\$ on  RED\n",
      "   20 times.\n",
      "* Each time, the ball lands  RED\n",
      "   we are up 10 \\$. If not, we are down 10\\$.\n",
      "* About how much money should we have after 20 bets?"
     ]
    },
    {
     "cell_type": "code",
     "collapsed": false,
     "input": [
      "bet20 = roulette.bet(roulette.red_numbers, 10, 20, initial_amount=100)\n",
      "bet20.sample(5)"
     ],
     "language": "python",
     "metadata": {
      "slideshow": {
       "slide_type": "fragment"
      }
     },
     "outputs": [],
     "prompt_number": 4
    },
    {
     "cell_type": "markdown",
     "metadata": {
      "slideshow": {
       "slide_type": "slide"
      }
     },
     "prompt_number": 5,
     "source": [
      "### Betting on  RED 20 times, starting with 100$ (10000 replicates)"
     ]
    },
    {
     "cell_type": "code",
     "collapsed": false,
     "input": [
      "%%capture\n",
      "winnings_hist20 = plt.figure(figsize=stats60_figsize)\n",
      "winnings_ax20 = winnings_hist20.gca()\n",
      "winnings_sample20 = bet20.sample(10000)\n",
      "sample_density(winnings_sample20, bins=15, facecolor='orange', ax=winnings_ax20)                                "
     ],
     "language": "python",
     "metadata": {
      "slideshow": {
       "slide_type": "skip"
      }
     },
     "outputs": [],
     "prompt_number": 5
    },
    {
     "cell_type": "code",
     "collapsed": false,
     "input": [
      "winnings_hist20"
     ],
     "language": "python",
     "metadata": {
      "slideshow": {
       "slide_type": "slide"
      }
     },
     "outputs": [],
     "prompt_number": 6
    },
    {
     "cell_type": "markdown",
     "metadata": {
      "slideshow": {
       "slide_type": "slide"
      }
     },
     "prompt_number": 7,
     "source": [
      "### Betting on  RED 100 times, starting with 100$  (10000 replicates)"
     ]
    },
    {
     "cell_type": "code",
     "collapsed": false,
     "input": [
      "%%capture\n",
      "bet100 = roulette.bet(roulette.red_numbers, 10, 100, initial_amount=100)\n",
      "winnings_hist100 = plt.figure(figsize=stats60_figsize)\n",
      "winnings_ax100 = winnings_hist100.gca()\n",
      "winnings_sample100 = bet100.sample(10000)\n",
      "sample_density(winnings_sample100, bins=15, facecolor='orange', ax=winnings_ax100)  \n"
     ],
     "language": "python",
     "metadata": {
      "slideshow": {
       "slide_type": "skip"
      }
     },
     "outputs": [],
     "prompt_number": 7
    },
    {
     "cell_type": "code",
     "collapsed": false,
     "input": [
      "winnings_hist100"
     ],
     "language": "python",
     "metadata": {
      "slideshow": {
       "slide_type": "fragment"
      }
     },
     "outputs": [],
     "prompt_number": 8
    },
    {
     "cell_type": "markdown",
     "metadata": {
      "slideshow": {
       "slide_type": "slide"
      }
     },
     "prompt_number": 9,
     "source": [
      "### Betting on  RED 1000 times, starting with 100$ (10000 replicates)"
     ]
    },
    {
     "cell_type": "code",
     "collapsed": false,
     "input": [
      "%%capture\n",
      "bet1000 = roulette.bet(roulette.red_numbers, 10, 1000, initial_amount=100)\n",
      "winnings_hist1000 = plt.figure(figsize=stats60_figsize)\n",
      "winnings_ax1000 = winnings_hist1000.gca()\n",
      "winnings_sample1000 = bet1000.sample(10000)\n",
      "sample_density(winnings_sample1000, bins=15, facecolor='orange', ax=winnings_ax1000)  \n",
      "\n",
      "\n"
     ],
     "language": "python",
     "metadata": {
      "slideshow": {
       "slide_type": "skip"
      }
     },
     "outputs": [],
     "prompt_number": 9
    },
    {
     "cell_type": "code",
     "collapsed": false,
     "input": [
      "winnings_hist1000"
     ],
     "language": "python",
     "metadata": {
      "slideshow": {
       "slide_type": "fragment"
      }
     },
     "outputs": [],
     "prompt_number": 10
    },
    {
     "cell_type": "markdown",
     "metadata": {
      "slideshow": {
       "slide_type": "slide"
      }
     },
     "prompt_number": 11,
     "source": [
      "## The law of averages\n",
      "\n",
      "* There is 18/38 chance of winning 10\\$, and 20/38 chance of losing 10\\$.\n",
      "* On average, each bet we \"gain\" $$\\frac{18}{38} \\times 10\\$ + \\frac{20}{38} \\times (-10\\$) = -\\frac{1}{19} \\times 10\\$ \\approx -0.52\\$ $$\n",
      "* This is the average of the 38 outcomes in our \"box model\".\n",
      "* Our average winnings after 20 bets is approximately -10.50\\$ so we should finish on average with about 89.50 \\$.\n",
      "* Our average winnings after 100 bets is approximately -52\\$ so we should finish on average with about 48 \\$.\n",
      "* Our average winnings after 1000 bets is approximately -520\\$ so we should finish on average about 420\\$ in debt."
     ]
    },
    {
     "cell_type": "code",
     "collapsed": false,
     "input": [
      "winnings_ax20.set_title('Average=%0.2f' % mean(winnings_sample20), fontsize=15)"
     ],
     "language": "python",
     "metadata": {
      "slideshow": {
       "slide_type": "skip"
      }
     },
     "outputs": [],
     "prompt_number": 11
    },
    {
     "cell_type": "code",
     "collapsed": false,
     "input": [
      "winnings_hist20"
     ],
     "language": "python",
     "metadata": {
      "slideshow": {
       "slide_type": "slide"
      }
     },
     "outputs": [],
     "prompt_number": 12
    },
    {
     "cell_type": "code",
     "collapsed": false,
     "input": [
      "winnings_ax100.set_title('Average=%0.2f' % mean(winnings_sample100), fontsize=15)"
     ],
     "language": "python",
     "metadata": {
      "slideshow": {
       "slide_type": "skip"
      }
     },
     "outputs": [],
     "prompt_number": 13
    },
    {
     "cell_type": "code",
     "collapsed": false,
     "input": [
      "winnings_hist100"
     ],
     "language": "python",
     "metadata": {
      "slideshow": {
       "slide_type": "slide"
      }
     },
     "outputs": [],
     "prompt_number": 14
    },
    {
     "cell_type": "code",
     "collapsed": false,
     "input": [
      "winnings_ax1000.set_title('Average=%0.2f' % mean(winnings_sample1000), fontsize=15)"
     ],
     "language": "python",
     "metadata": {
      "slideshow": {
       "slide_type": "skip"
      }
     },
     "outputs": [],
     "prompt_number": 15
    },
    {
     "cell_type": "code",
     "collapsed": false,
     "input": [
      "winnings_hist1000"
     ],
     "language": "python",
     "metadata": {
      "slideshow": {
       "slide_type": "slide"
      }
     },
     "outputs": [],
     "prompt_number": 16
    },
    {
     "cell_type": "markdown",
     "metadata": {
      "slideshow": {
       "slide_type": "slide"
      }
     },
     "prompt_number": 17,
     "source": [
      "## Expected value and standard error\n",
      "\n",
      "### Sum of draws\n",
      "\n",
      "* Draw a ticket (with replacement) from a box of balls with values assigned to them (i.e. 10\\$, -10\\$).\n",
      "\n",
      "* Repeat this process $n$ times and compute the sum of all the results, calling this the **sum of draws**.\n",
      "\n",
      "* On average, the **sum of draws**\n",
      "   should be about \n",
      "   \n",
      "        n * average(values in the box)\n",
      "   \n",
      "* The (theoretical) average of draws is **sum of draws**\n",
      "\n",
      "        \"theoretical average\"(sum of n draws) = n * average(values in the box)\n",
      "        \n",
      "* We call this \"theoretical average\" the \"expected value\"\n",
      "\n",
      "        expected(sum of n draws) = n * average(values in the box)\n",
      "        \n",
      "* Roulette example\n",
      "\n",
      "        expected(sum of 100 bets of 10$ on RED) = -52$"
     ]
    },
    {
     "cell_type": "markdown",
     "metadata": {
      "slideshow": {
       "slide_type": "slide"
      }
     },
     "prompt_number": 17,
     "source": [
      "## Chance error\n",
      "\n",
      "* Of course, we don\u2019t always end up with 48\\$ after one hundred bets.\n",
      "* I simulated the entire experiment 10000 times and recorded the results in `winnings_sample100`.\n",
      "* A reasonable guess for how close to 48\\$ we would be \n",
      "      \n",
      "      SD(winnings_sample100) = 100$\n",
      "\n",
      "* Even though, on average, we should have 48\\$ after 100 bets, our winnings can fluctuate on the order of 100\\$.\n",
      "* Even though, on average, we should have on average -420\\$ after 1000 bets, our winnings can fluctuate on the order of 315\\$."
     ]
    },
    {
     "cell_type": "code",
     "collapsed": false,
     "input": [
      "len(winnings_sample100)"
     ],
     "language": "python",
     "metadata": {},
     "outputs": [],
     "prompt_number": 17
    },
    {
     "cell_type": "code",
     "collapsed": false,
     "input": [
      "std(winnings_sample100), std(winnings_sample1000)"
     ],
     "language": "python",
     "metadata": {
      "slideshow": {
       "slide_type": "fragment"
      }
     },
     "outputs": [],
     "prompt_number": 18
    },
    {
     "cell_type": "markdown",
     "metadata": {
      "slideshow": {
       "slide_type": "slide"
      }
     },
     "prompt_number": 19,
     "source": [
      "### Chance error\n",
      "\n",
      "* We define the *chance error*\n",
      "   of the experiment by \n",
      "   \n",
      "      sum of n draws = expected(sum of n draws) + chance error(sum of n draws)\n",
      "      \n",
      "* Example:\n",
      "     - We are going to flip a fair coin 100 times and record the number of heads.\n",
      "     - After 100 flips we observe 56 heads.\n",
      "     - The chance error in these 100 draws is 6 because the expected number of heads is 50."
     ]
    },
    {
     "cell_type": "markdown",
     "metadata": {
      "slideshow": {
       "slide_type": "slide"
      }
     },
     "prompt_number": 19,
     "source": [
      "### Square root rule\n",
      "\n",
      "\n",
      "* The **sum of draws**\n",
      "   should be near the average but likely to be off by \n",
      "   $$\\text{SE(sum of n draws)} = \\sqrt{n} \\times \\text{SD(values in the box)}$$\n",
      "* We call this the *standard error*. It measures the typical size of *chance error*."
     ]
    },
    {
     "cell_type": "markdown",
     "metadata": {
      "slideshow": {
       "slide_type": "slide"
      }
     },
     "prompt_number": 19,
     "source": [
      "## Short cut for the square root rule\n",
      "\n",
      "* Suppose there are only two values on the tickets, say, $V_1, V_2$ with proportion $p$ having value $V_1$.\n",
      "* Then $$\\text{SD(values in the box)} = |V_1-V_2| \\times \\sqrt{p \\times (1-p)}.$$"
     ]
    },
    {
     "cell_type": "markdown",
     "metadata": {
      "slideshow": {
       "slide_type": "slide"
      }
     },
     "prompt_number": 19,
     "source": [
      "### Difference between SD and SE\n",
      "\n",
      "- **SD is for data.** It is a function that take a list of numbers and returns a number.\n",
      "- **SE is for chance.** It takes a chance process like drawing 10 balls from a box of numbers and returns a number."
     ]
    },
    {
     "cell_type": "markdown",
     "metadata": {
      "slideshow": {
       "slide_type": "slide"
      }
     },
     "prompt_number": 19,
     "source": [
      "## Expected value and SE for average of draws\n",
      "\n",
      "- The **average of n draws** (or sample average) is\n",
      "\n",
      "         average of n draws = (sum of n draws) / n\n",
      "         \n",
      "- The expected value of the average of n draws is\n",
      "\n",
      "         expected(average of n draws) = average(box)\n",
      "         \n",
      "- The SE for the average of n draws is\n",
      "\n",
      "         SE(average of n draws) = SD(box) / sqrt(n)"
     ]
    },
    {
     "cell_type": "markdown",
     "metadata": {
      "slideshow": {
       "slide_type": "slide"
      }
     },
     "prompt_number": 19,
     "source": [
      "# Example: box = [1,2,3,4]\n",
      "\n"
     ]
    },
    {
     "cell_type": "code",
     "collapsed": false,
     "input": [
      "box = [1,2,3,4]\n",
      "model = BoxModel(box)\n",
      "model.trial()"
     ],
     "language": "python",
     "metadata": {
      "slideshow": {
       "slide_type": "fragment"
      }
     },
     "outputs": [],
     "prompt_number": 19
    },
    {
     "cell_type": "markdown",
     "metadata": {
      "slideshow": {
       "slide_type": "fragment"
      }
     },
     "prompt_number": 20,
     "source": [
      "We can take a sample of size 5 from our box:"
     ]
    },
    {
     "cell_type": "code",
     "collapsed": false,
     "input": [
      "model.sample(5)"
     ],
     "language": "python",
     "metadata": {
      "slideshow": {
       "slide_type": "fragment"
      }
     },
     "outputs": [],
     "prompt_number": 20
    },
    {
     "cell_type": "markdown",
     "metadata": {
      "slideshow": {
       "slide_type": "slide"
      }
     },
     "prompt_number": 21,
     "source": [
      "Let's make a new chance process that computes the sample mean\n",
      "after 10 draws from the box. This chance process computes the sample mean\n",
      "and SD of 10 draws from the box."
     ]
    },
    {
     "cell_type": "code",
     "collapsed": false,
     "input": [
      "sample_mean = SampleMean(model, 10)\n",
      "sample_mean.trial()"
     ],
     "language": "python",
     "metadata": {
      "slideshow": {
       "slide_type": "fragment"
      }
     },
     "outputs": [],
     "prompt_number": 21
    },
    {
     "cell_type": "markdown",
     "metadata": {
      "slideshow": {
       "slide_type": "fragment"
      }
     },
     "prompt_number": 22,
     "source": [
      "The expected value for this chance process is the mean of the values in the box."
     ]
    },
    {
     "cell_type": "code",
     "collapsed": false,
     "input": [
      "expected_mean = np.mean(box)\n",
      "expected_mean, sum(box) / 4."
     ],
     "language": "python",
     "metadata": {
      "slideshow": {
       "slide_type": "fragment"
      }
     },
     "outputs": [],
     "prompt_number": 22
    },
    {
     "cell_type": "markdown",
     "metadata": {
      "slideshow": {
       "slide_type": "fragment"
      }
     },
     "prompt_number": 23,
     "source": [
      "The typical size of chance error for this chance process (i.e. its SE or standard error) is:"
     ]
    },
    {
     "cell_type": "code",
     "collapsed": false,
     "input": [
      "SE_mean = np.std(box) / np.sqrt(10)\n",
      "SE_mean"
     ],
     "language": "python",
     "metadata": {
      "slideshow": {
       "slide_type": "fragment"
      }
     },
     "outputs": [],
     "prompt_number": 23
    },
    {
     "cell_type": "markdown",
     "metadata": {
      "slideshow": {
       "slide_type": "fragment"
      }
     },
     "prompt_number": 24,
     "source": [
      "So, a trial from `sample_mean` will be off by about 0.35 or so."
     ]
    },
    {
     "cell_type": "markdown",
     "metadata": {
      "slideshow": {
       "slide_type": "slide"
      }
     },
     "prompt_number": 24,
     "source": [
      "## Mathematical notation\n",
      "\n",
      "- We call a draw from a box a **random variable**, labelling it $X$, say.\n",
      "\n",
      "- Drawing with replacement at random from the box gives us *independent* random variables, $X_1, \\dots, X_n$\n",
      "\n",
      "- The sum of $n$ draws can be written as\n",
      "$$\n",
      "\\text{sum of $n$ draws} = \\sum_{i=1}^n X_i   \\quad (\\text{with $X_i$ independent draws from our box})\n",
      "$$\n",
      "\n",
      "- The average of $n$ draws can be written as\n",
      "$$\n",
      "\\text{average of $n$ draws} = \\frac{1}{n}\\sum_{i=1}^n X_i.\n",
      "$$\n",
      "\n",
      "### Why is the notation the same as for lists (or samples) of numbers?\n",
      "   \n",
      "- This is similar to the relationship between SE and SD.\n",
      "\n",
      "- One thing refers to sample values (SD, or the sample average), while the other refers to the chance process.\n"
     ]
    },
    {
     "cell_type": "markdown",
     "metadata": {
      "slideshow": {
       "slide_type": "slide"
      }
     },
     "prompt_number": 24,
     "source": [
      "### Example\n",
      "\n",
      "* In our  RED\n",
      "   roulette example, $V_1=10 \\$, V_2=-10\\$ $ and $p=18/38$.\n",
      "* The shortcut says that $$\\text{SD(values in the box)} = 20 \\$ \\times \\sqrt{\\frac{18}{38} \\times \\frac{20}{38}} \\approx 10\\$.$$\n",
      "* The square root rule says that $$\\text{SE(sum of 100 bet results)} = \\sqrt{100} \\times 10\\$ \\approx 100\\$.$$\n",
      "* The square root rule says that $$\\text{SE(sum of 1000 bet results)} = \\sqrt{1000} \\times 10\\$ \\approx 315\\$.$$"
     ]
    },
    {
     "cell_type": "markdown",
     "metadata": {
      "slideshow": {
       "slide_type": "slide"
      }
     },
     "prompt_number": 24,
     "source": [
      "## Roulette\n",
      "\n",
      "- Let's bet 10\\$ on 5 so only one ball is a winner. The payout is 35-to-1.\n",
      "\n",
      "- We still start at 100\\$."
     ]
    },
    {
     "cell_type": "code",
     "collapsed": false,
     "input": [
      "places = {}\n",
      "for i in range(1,37) + ['0','00']:\n",
      "    if i in [5]:\n",
      "        places[i] = roulette.roulette_position(350,\n",
      "                                               facecolor='green',\n",
      "                                               bg_alpha=None,\n",
      "                                               fontsize=90)\n",
      "    else:\n",
      "        places[i] = roulette.roulette_position(-10,\n",
      "                                               facecolor='red',\n",
      "                                               bg_alpha=None,\n",
      "                                               fontsize=90)\n",
      "winnings = roulette.roulette_table(places)\n",
      "from IPython.core.display import HTML"
     ],
     "language": "python",
     "metadata": {
      "slideshow": {
       "slide_type": "skip"
      }
     },
     "outputs": [],
     "prompt_number": 24
    },
    {
     "cell_type": "code",
     "collapsed": false,
     "input": [
      "HTML(winnings)"
     ],
     "language": "python",
     "metadata": {
      "slideshow": {
       "slide_type": "fragment"
      }
     },
     "outputs": [],
     "prompt_number": 25
    },
    {
     "cell_type": "markdown",
     "metadata": {
      "slideshow": {
       "slide_type": "slide"
      }
     },
     "prompt_number": 26,
     "source": [
      "## Betting on 5 20 times"
     ]
    },
    {
     "cell_type": "code",
     "collapsed": false,
     "input": [
      "%%capture\n",
      "bet20 = roulette.bet([5], 10, 20, initial_amount=100)\n",
      "winnings_hist20 = plt.figure(figsize=stats60_figsize)\n",
      "winnings_ax20 = winnings_hist20.gca()\n",
      "winnings_sample20 = bet20.sample(10000)\n",
      "winnings_ax20.set_title('Average(sample):%0.1f, SD(sample):%0.1f' % \n",
      "                          (mean(winnings_sample20), std(winnings_sample20)))\n",
      "sample_density(winnings_sample20, bins=15, facecolor='orange', ax=winnings_ax20)  \n",
      "\n"
     ],
     "language": "python",
     "metadata": {
      "slideshow": {
       "slide_type": "skip"
      }
     },
     "outputs": [],
     "prompt_number": 26
    },
    {
     "cell_type": "code",
     "collapsed": false,
     "input": [
      "winnings_hist20  \n"
     ],
     "language": "python",
     "metadata": {
      "slideshow": {
       "slide_type": "slide"
      }
     },
     "outputs": [],
     "prompt_number": 27
    },
    {
     "cell_type": "code",
     "collapsed": false,
     "input": [
      "gain = (350 / 38. - 10 * 37 / 38.)\n",
      "winnings_ax20.set_title('Expected(sum of 20 draws):%0.1f, SE(sum of 20 draws):%0.1f' % \n",
      "                        (100 + 20 * gain, 360 * np.sqrt(20*37/(38.**2))))\n"
     ],
     "language": "python",
     "metadata": {
      "slideshow": {
       "slide_type": "skip"
      }
     },
     "outputs": [],
     "prompt_number": 28
    },
    {
     "cell_type": "code",
     "collapsed": false,
     "input": [
      "winnings_hist20"
     ],
     "language": "python",
     "metadata": {
      "slideshow": {
       "slide_type": "slide"
      }
     },
     "outputs": [],
     "prompt_number": 29
    },
    {
     "cell_type": "markdown",
     "metadata": {
      "slideshow": {
       "slide_type": "slide"
      }
     },
     "prompt_number": 30,
     "source": [
      "## Betting on 5 100 times"
     ]
    },
    {
     "cell_type": "code",
     "collapsed": false,
     "input": [
      "%%capture\n",
      "bet100 = roulette.bet([5], 10, 100, initial_amount=100)\n",
      "winnings_hist100 = plt.figure(figsize=stats60_figsize)\n",
      "winnings_ax100 = winnings_hist100.gca()\n",
      "winnings_sample100 = bet100.sample(10000)\n",
      "winnings_ax100.set_title('Average(sample):%0.1f, SD(sample):%0.1f' % \n",
      "                          (mean(winnings_sample100), std(winnings_sample100)))\n",
      "sample_density(winnings_sample100, bins=15, facecolor='orange', ax=winnings_ax100)  \n"
     ],
     "language": "python",
     "metadata": {
      "slideshow": {
       "slide_type": "skip"
      }
     },
     "outputs": [],
     "prompt_number": 30
    },
    {
     "cell_type": "code",
     "collapsed": false,
     "input": [
      "winnings_hist100  \n"
     ],
     "language": "python",
     "metadata": {
      "slideshow": {
       "slide_type": "fragment"
      }
     },
     "outputs": [],
     "prompt_number": 31
    },
    {
     "cell_type": "code",
     "collapsed": false,
     "input": [
      "gain = (350 / 38. - 10 * 37 / 38.)\n",
      "winnings_ax100.set_title('Expected(sum of 100 draws):%0.1f, SE(sum of 100 draws):%0.1f' % \n",
      "                        (100 + 100 * gain, 360 * np.sqrt(100*37/(38.**2))))\n"
     ],
     "language": "python",
     "metadata": {
      "slideshow": {
       "slide_type": "skip"
      }
     },
     "outputs": [],
     "prompt_number": 32
    },
    {
     "cell_type": "code",
     "collapsed": false,
     "input": [
      "winnings_hist100"
     ],
     "language": "python",
     "metadata": {
      "slideshow": {
       "slide_type": "slide"
      }
     },
     "outputs": [],
     "prompt_number": 33
    },
    {
     "cell_type": "markdown",
     "metadata": {
      "slideshow": {
       "slide_type": "slide"
      }
     },
     "prompt_number": 34,
     "source": [
      "## Betting on 5 2000 times"
     ]
    },
    {
     "cell_type": "code",
     "collapsed": false,
     "input": [
      "%%capture\n",
      "bet2000 = roulette.bet([5], 10, 2000, initial_amount=100)\n",
      "winnings_hist2000 = plt.figure(figsize=stats60_figsize)\n",
      "winnings_ax2000 = winnings_hist2000.gca()\n",
      "winnings_sample2000 = bet2000.sample(10000)\n",
      "winnings_ax2000.set_title('Average(sample):%0.1f, SD(sample):%0.1f' % \n",
      "                          (mean(winnings_sample2000), std(winnings_sample2000)))\n",
      "sample_density(winnings_sample2000, bins=15, facecolor='orange', ax=winnings_ax2000)  \n"
     ],
     "language": "python",
     "metadata": {
      "slideshow": {
       "slide_type": "skip"
      }
     },
     "outputs": [],
     "prompt_number": 34
    },
    {
     "cell_type": "code",
     "collapsed": false,
     "input": [
      "winnings_hist2000"
     ],
     "language": "python",
     "metadata": {
      "slideshow": {
       "slide_type": "fragment"
      }
     },
     "outputs": [],
     "prompt_number": 35
    },
    {
     "cell_type": "code",
     "collapsed": false,
     "input": [
      "gain = (350 / 38. - 10 * 37 / 38.)\n",
      "winnings_ax2000.set_title('Expected(sum of 2000 draws):%0.1f, SE(sum of 2000 draws):%0.1f' % \n",
      "                        (100 + 2000 * gain, 360 * np.sqrt(2000*37/(38.**2))))"
     ],
     "language": "python",
     "metadata": {
      "slideshow": {
       "slide_type": "skip"
      }
     },
     "outputs": [],
     "prompt_number": 36
    },
    {
     "cell_type": "code",
     "collapsed": false,
     "input": [
      "winnings_hist2000"
     ],
     "language": "python",
     "metadata": {
      "slideshow": {
       "slide_type": "slide"
      }
     },
     "outputs": [],
     "prompt_number": 37
    }
   ],
   "metadata": {}
  }
 ]
}
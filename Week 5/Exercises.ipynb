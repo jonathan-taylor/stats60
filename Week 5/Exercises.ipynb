{
 "metadata": {
  "name": "",
  "signature": "sha256:962fa53a87607c46f0296843eb8e3e08cb08999d9c89fa96fe8181ec0e44dba8"
 },
 "nbformat": 3,
 "nbformat_minor": 0,
 "worksheets": [
  {
   "cells": [
    {
     "cell_type": "code",
     "collapsed": false,
     "input": [],
     "language": "python",
     "metadata": {},
     "outputs": []
    }
   ],
   "metadata": {}
  }
 ]
}
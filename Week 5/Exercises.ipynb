{
 "metadata": {
  "name": "",
  "signature": "sha256:f0be1aad75c3a2ce90af43f332538128cc1a34e4804cbacbfd93227bdd6e8d4e"
 },
 "nbformat": 3,
 "nbformat_minor": 0,
 "worksheets": [
  {
   "cells": [
    {
     "cell_type": "markdown",
     "metadata": {},
     "source": [
      "# Chapter 16\n",
      "\n",
      "## 16.5.10\n",
      "\n",
      "Two hundred draws will be made at random with replacement from:"
     ]
    },
    {
     "cell_type": "code",
     "collapsed": false,
     "input": [
      "box = [-3,-2,-1,0,1,2,3]"
     ],
     "language": "python",
     "metadata": {},
     "outputs": [],
     "prompt_number": 1
    },
    {
     "cell_type": "markdown",
     "metadata": {},
     "source": [
      "1. If the sum of the 200 numbers is 30, what is their average?\n",
      "\n",
      "      Average is 30/200.\n",
      "\n",
      "2. If the sum of the 200 numbers drawn is -20, what is their average?\n",
      "\n",
      "      Average is -20/200.\n",
      "      \n",
      "3. In general, how can you figure the average of the 200 draws, if you are told their sum?\n",
      "\n",
      "       Average is total / 200.\n",
      "       \n",
      "4. There are two alternatives. Which is better? Explain.\n",
      "\n",
      "    - Winning 1\\$ if the sum of the 200 numbers drawn is between -5 and 5.\n",
      "    - Winning 1\\$ if the average of the 200 numbers drawn is between -0.025 and 0.025.\n",
      "    \n",
      "      Neither one is better: they are the same game.\n",
      "      \n",
      "5. What is the SE of the sum of the 200 draws? What about the average?\n",
      "\n",
      "\n",
      "       SE(average of n draws) = SE(sum of n draws) / n = sqrt(n) * SD(box) / n = SD(box) / sqrt(n)\n",
      "       \n",
      "       Finally,\n",
      "       \n",
      "       SE(average of n draws) = SD(box) / sqrt(n)"
     ]
    },
    {
     "cell_type": "code",
     "collapsed": false,
     "input": [
      "sqrt(200) * std(box), std(box) / sqrt(200)"
     ],
     "language": "python",
     "metadata": {},
     "outputs": [],
     "prompt_number": 2
    },
    {
     "cell_type": "markdown",
     "metadata": {},
     "source": [
      "## Like 17.B.1\n",
      "\n",
      "One hundred draws are going to be made at random with replacement from \n",
      "the box"
     ]
    },
    {
     "cell_type": "code",
     "collapsed": false,
     "input": [
      "box1 = [1,3,5,7,9,11,13]\n",
      "std(box1), mean(box1)"
     ],
     "language": "python",
     "metadata": {},
     "outputs": [],
     "prompt_number": 3
    },
    {
     "cell_type": "markdown",
     "metadata": {},
     "source": [
      "1. Find the expected value and standard error for the sum.\n",
      "\n",
      "      The expected value is 100 x 7.0 = 700. The standard error is sqrt(100) x 4. = 40.\n",
      "\n",
      "2. The sum of the draws will be around ${\\underline{\\ \\ \\ 700  \\ \\    }}$ give or take  ${\\underline{\\ \\ \\ 40 \\ \\    }}$ or so.\n",
      "\n",
      "3. Suppose you had to guess what the sum was going to be. What would you guess? Would you expect to be off by around 4, 8 or 40? \n",
      "\n",
      "       Our best guess is 700, and we should be off by around 40.\n"
     ]
    },
    {
     "cell_type": "markdown",
     "metadata": {},
     "source": [
      "\n",
      "## 17.6.1\n",
      "\n",
      "One hundred draws will be made at random with replacement from the box:"
     ]
    },
    {
     "cell_type": "code",
     "collapsed": false,
     "input": [
      "box2 = [1,6,7,9,9,10]"
     ],
     "language": "python",
     "metadata": {},
     "outputs": [],
     "prompt_number": 4
    },
    {
     "cell_type": "markdown",
     "metadata": {},
     "source": [
      "1. How small can the sum o the draws be? How large?\n",
      "\n",
      "2. The sum is between 650 and 750 with a chance of about (choose one from): [1%,10%,50%,90%,99%]?\n"
     ]
    },
    {
     "cell_type": "code",
     "collapsed": false,
     "input": [
      "model = BoxModel(box2)\n",
      "sum_100 = SumOfDraws(model, 100)\n",
      "S = sum_100.sample(10000)\n",
      "mean([(s > 650) * (s < 750) for s in S])"
     ],
     "language": "python",
     "metadata": {},
     "outputs": [],
     "prompt_number": 5
    },
    {
     "cell_type": "markdown",
     "metadata": {},
     "source": [
      "## Like 17.6.8\n",
      "\n",
      "A die is rolled 100 times. The outcome we are interested in is the difference between\n",
      "the number of 1's and the number of 6's. \n",
      "\n",
      "1. Describe the box model for this chance process.\n",
      "\n",
      "       Make box = [1,-1,0,0,0,0]\n",
      "\n",
      "2. Find the expected value and standard error for the difference.\n",
      "\n",
      "       Expected value is 100 x average(box) = 0.\n",
      "       SE is sqrt(100) x SD(box) = 10 * SD(box) = about 5.7\n"
     ]
    },
    {
     "cell_type": "code",
     "collapsed": false,
     "input": [
      "std([1,-1,0,0,0,0])"
     ],
     "language": "python",
     "metadata": {},
     "outputs": [],
     "prompt_number": 6
    },
    {
     "cell_type": "markdown",
     "metadata": {},
     "source": [
      "## Like 17.6.11\n",
      "\n",
      "One hundred draws are made at random with replacement from the box"
     ]
    },
    {
     "cell_type": "code",
     "collapsed": false,
     "input": [
      "box3 = [-3,-2,0,2,4]"
     ],
     "language": "python",
     "metadata": {},
     "outputs": [],
     "prompt_number": 7
    },
    {
     "cell_type": "markdown",
     "metadata": {},
     "source": [
      "Find the expected value and standard error of the sum of the **positive** numbers."
     ]
    },
    {
     "cell_type": "markdown",
     "metadata": {},
     "source": [
      "              Make box model with box = [0,0,0,2,4].\n",
      "\n",
      "              Expected value is 100 x average([0,0,0,2,4]) = 100 x 6/5. = 120.\n",
      "              SE is sqrt(100) x SD([0,0,0,2,4]) = 10 * 1.6 = 16."
     ]
    },
    {
     "cell_type": "code",
     "collapsed": false,
     "input": [
      "std([0,0,0,2,4])"
     ],
     "language": "python",
     "metadata": {},
     "outputs": [],
     "prompt_number": 8
    },
    {
     "cell_type": "markdown",
     "metadata": {},
     "source": [
      "## 17.6.7\n",
      "\n",
      "One hundred draws are made at random with replacement from the box"
     ]
    },
    {
     "cell_type": "code",
     "collapsed": false,
     "input": [
      "box4 = [1,2,3,4,5,6]"
     ],
     "language": "python",
     "metadata": {},
     "outputs": [],
     "prompt_number": 9
    },
    {
     "cell_type": "markdown",
     "metadata": {},
     "source": [
      "1. If the sum of the draws is 321, what is their average?\n",
      "\n",
      "\n",
      "           Average is 321/100 = 3.21\n",
      "\n",
      "2. If the average of the draws is 3.78 what is their sum?\n",
      "\n",
      "\n",
      "           Sum of draws is 378\n",
      "\n",
      "3. Estimate the chance that the average is between 3 and 4.\n",
      "\n",
      "          In standardized units, the interval [3,4] is roughly [-3,3].\n",
      "          A normal approximation would be about 99.7%.\n",
      "  \n",
      "            "
     ]
    },
    {
     "cell_type": "code",
     "collapsed": false,
     "input": [
      "expected_100 = np.mean(box4)\n",
      "SE_100 = np.std(box4) / np.sqrt(100)\n",
      "expected_100, SE_100"
     ],
     "language": "python",
     "metadata": {},
     "outputs": [],
     "prompt_number": 10
    },
    {
     "cell_type": "code",
     "collapsed": false,
     "input": [
      "upper_limit = (4-expected_100) / SE_100\n",
      "lower_limit = (3 - expected_100) / SE_100\n",
      "lower_limit, upper_limit"
     ],
     "language": "python",
     "metadata": {},
     "outputs": [],
     "prompt_number": 11
    },
    {
     "cell_type": "markdown",
     "metadata": {},
     "source": [
      "# Chapter 18"
     ]
    },
    {
     "cell_type": "markdown",
     "metadata": {},
     "source": [
      "## Like 18.B.5\n",
      "\n",
      "A coin is tossed 20,000 times. Estimate the chance of getting\n",
      "\n",
      "1. 9,800 to 10,100 heads.\n",
      "\n",
      "2. 9,800 heads or fewer.\n",
      "\n",
      "3. 10,100 heads or more."
     ]
    },
    {
     "cell_type": "markdown",
     "metadata": {},
     "source": [
      "## Like 18.C.5\n",
      "\n",
      "The histogram below is the probability histogram for 25 draws\n",
      "made at random with replacement from one of the boxes below.\n",
      "\n",
      "1. [0,1]\n",
      "\n",
      "2. [0,0,0,0,0,0,0,0,0,1]\n",
      "\n",
      "3. [1,1,1,1,1,1,1,1,1,0]\n",
      "\n",
      "Which box is it?"
     ]
    },
    {
     "cell_type": "code",
     "collapsed": false,
     "input": [
      "%%capture\n",
      "rv = SumIntegerRV([0.1,0.9],25)\n",
      "hist_fig = plt.figure(figsize=stats60_figsize)\n",
      "ax = hist_fig.gca()\n",
      "probability_histogram(rv, ax=ax)"
     ],
     "language": "python",
     "metadata": {
      "slideshow": {
       "slide_type": "skip"
      }
     },
     "outputs": [],
     "prompt_number": 12
    },
    {
     "cell_type": "code",
     "collapsed": false,
     "input": [
      "hist_fig"
     ],
     "language": "python",
     "metadata": {},
     "outputs": [],
     "prompt_number": 13
    },
    {
     "cell_type": "markdown",
     "metadata": {},
     "source": [
      "## Like 18.7.2\n",
      "\n",
      "Four hundred draws will be made at random with replacement from the box"
     ]
    },
    {
     "cell_type": "code",
     "collapsed": false,
     "input": [
      "box5 = [2,4,6,8]"
     ],
     "language": "python",
     "metadata": {},
     "outputs": [],
     "prompt_number": 14
    },
    {
     "cell_type": "markdown",
     "metadata": {},
     "source": [
      "1. Estimate the chance that the sum of draws will be more than 1900.\n",
      "\n",
      "2. Estimate the chance that there will be fewer than 90 `4`s."
     ]
    },
    {
     "cell_type": "markdown",
     "metadata": {},
     "source": [
      "## 18.7.7\n",
      "\n",
      "A pair of dice are thrown. The total number of spots is like:\n",
      "\n",
      "1. One draw from the box [2,3,4,5,6,7,8,9,10,11,12], OR, the sum of two draws from the box [1,2,3,4,5,6]. Explain.\n",
      "\n",
      "         It is like the sum of two draws from [1,2,3,4,5,6]. If we used the\n",
      "         other box, the chances would not match (for example when throwing two dice, the\n",
      "         chances the sum is 2 is 1/36 not 1/11).\n",
      "\n",
      "2. Suppose you throw two dice 1000 times and record their sum. Estimate the chance of getting more than 200 outcomes whose sum is 7.\n",
      "\n",
      "         This is like drawing 1000 times with replacement from a box with 30 0's\n",
      "         and 6 1's. We expect 1000 * 6 / 36 = 166 outomes with a sum of 7.\n",
      "         The SE is sqrt(1000) * (1/6 * 5/6).\n",
      "         \n",
      "         In standardized units, 200 is (200 - 166) / 12 or approximately 2.8.\n",
      "         The tail normal table says the chances are roughly 0.2%."
     ]
    },
    {
     "cell_type": "code",
     "collapsed": false,
     "input": [
      "sqrt(1000 * 5 / 36.), (200 - 1000 / 6.) / sqrt(1000 * 5 / 36.)"
     ],
     "language": "python",
     "metadata": {},
     "outputs": [
      {
       "metadata": {},
       "output_type": "pyout",
       "prompt_number": 1,
       "text": [
        "(11.785113019775793, 2.8284271247461907)"
       ]
      }
     ],
     "prompt_number": 1
    },
    {
     "cell_type": "markdown",
     "metadata": {},
     "source": [
      "## 18.7.10\n",
      "\n",
      "Ten thousand draws are made at random with replacement from a box with \n",
      "ninety-nine tickets marked \"`0`\" and one ticket marked \"`1`\".\n",
      "True or false, and explain:\n",
      "\n",
      "1. The sum will be around 100, give or take 10 or so.\n",
      "\n",
      "2. There is about a 68% chance that the sum will be in the range 90 to 100.\n"
     ]
    },
    {
     "cell_type": "code",
     "collapsed": false,
     "input": [],
     "language": "python",
     "metadata": {},
     "outputs": [],
     "prompt_number": 15
    }
   ],
   "metadata": {}
  }
 ]
}
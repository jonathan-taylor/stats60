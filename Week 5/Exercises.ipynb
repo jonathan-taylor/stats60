{
 "metadata": {
  "name": "",
  "signature": "sha256:ddefe01244afada89bd929bc89658308052f0a782f4cc0e4f65c619e25f95cbf"
 },
 "nbformat": 3,
 "nbformat_minor": 0,
 "worksheets": [
  {
   "cells": [
    {
     "cell_type": "markdown",
     "metadata": {},
     "source": [
      "# Chapter 16\n",
      "\n",
      "## 16.5.10\n",
      "\n",
      "Two hundred draws will be made at random with replacement from:"
     ]
    },
    {
     "cell_type": "code",
     "collapsed": false,
     "input": [
      "box =[-3,-2,-1,0,1,2,3]"
     ],
     "language": "python",
     "metadata": {},
     "outputs": [],
     "prompt_number": 1
    },
    {
     "cell_type": "markdown",
     "metadata": {},
     "source": [
      "1. If the sum of the 200 numbers is 30, what is their average?\n",
      "\n",
      "2. If the sum of the 200 numbers drawn is -20, what is their average?\n",
      "\n",
      "3. In general, how can you figure the average of the 200 draws, if you are told their sum?\n",
      "\n",
      "4. There are two alternatives. Which is better? Explain.\n",
      "\n",
      "    - Winning 1\\$ if the sum of the 200 numbers drawn is between -5 and 5.\n",
      "    - Winning 1\\$ if the average of the 200 numbers drawn is between -0.025 and 0.025.\n",
      "    \n",
      "   "
     ]
    },
    {
     "cell_type": "markdown",
     "metadata": {},
     "source": [
      "## Like 17.B.1\n",
      "\n",
      "One hundred draws are going to be made at rando with replacement from \n",
      "the box"
     ]
    },
    {
     "cell_type": "code",
     "collapsed": false,
     "input": [
      "box = [1,3,5,7,9,11,13]"
     ],
     "language": "python",
     "metadata": {},
     "outputs": [],
     "prompt_number": 2
    },
    {
     "cell_type": "markdown",
     "metadata": {},
     "source": [
      "1. Find the expected value and standard error for the sum.\n",
      "\n",
      "2. The sum of the draws will be around ${\\underline{\\ \\ \\ \\ \\    }}$ give or take  ${\\underline{\\ \\ \\ \\ \\    }}$ or so.\n",
      "\n",
      "3. Suppose you had to guess what the sum was going to be. What would you guess? Would you expect to be off by around 2, 4 or 20? \n"
     ]
    },
    {
     "cell_type": "code",
     "collapsed": false,
     "input": [],
     "language": "python",
     "metadata": {},
     "outputs": []
    }
   ],
   "metadata": {}
  }
 ]
}
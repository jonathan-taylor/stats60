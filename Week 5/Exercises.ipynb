{
 "metadata": {
  "name": "",
  "signature": "sha256:e62cf72e99efd8afc6714055d6079a983f06860f2ce43e5cc278a7ad844aa34f"
 },
 "nbformat": 3,
 "nbformat_minor": 0,
 "worksheets": [
  {
   "cells": [
    {
     "cell_type": "markdown",
     "metadata": {},
     "source": [
      "# Chapter 16\n",
      "\n",
      "## 16.5.10\n",
      "\n",
      "Two hundred draws will be made at random with replacement from:"
     ]
    },
    {
     "cell_type": "code",
     "collapsed": false,
     "input": [
      "box = [-3,-2,-1,0,1,2,3]"
     ],
     "language": "python",
     "metadata": {},
     "outputs": [],
     "prompt_number": 12
    },
    {
     "cell_type": "markdown",
     "metadata": {},
     "source": [
      "1. If the sum of the 200 numbers is 30, what is their average?\n",
      "\n",
      "      Average is 30/200.\n",
      "\n",
      "2. If the sum of the 200 numbers drawn is -20, what is their average?\n",
      "\n",
      "      Average is -20/200.\n",
      "      \n",
      "3. In general, how can you figure the average of the 200 draws, if you are told their sum?\n",
      "\n",
      "       Average is total / 200.\n",
      "       \n",
      "4. There are two alternatives. Which is better? Explain.\n",
      "\n",
      "    - Winning 1\\$ if the sum of the 200 numbers drawn is between -5 and 5.\n",
      "    - Winning 1\\$ if the average of the 200 numbers drawn is between -0.025 and 0.025.\n",
      "    \n",
      "      Neither one is better: they are the same game.\n",
      "      \n",
      "5. What is the SE of the sum of the 200 draws? What about the average?\n",
      "\n",
      "\n",
      "       SE(average of n draws) = SE(sum of n draws) / n = sqrt(n) * SD(box) / n = SD(box) / sqrt(n)\n",
      "       \n",
      "       Finally,\n",
      "       \n",
      "       SE(average of n draws) = SD(box) / sqrt(n)"
     ]
    },
    {
     "cell_type": "code",
     "collapsed": false,
     "input": [
      "sqrt(200) * std(box), std(box) / sqrt(200)"
     ],
     "language": "python",
     "metadata": {},
     "outputs": [
      {
       "metadata": {},
       "output_type": "pyout",
       "prompt_number": 13,
       "text": [
        "(28.284271247461902, 0.1414213562373095)"
       ]
      }
     ],
     "prompt_number": 13
    },
    {
     "cell_type": "markdown",
     "metadata": {},
     "source": [
      "## Like 17.B.1\n",
      "\n",
      "One hundred draws are going to be made at random with replacement from \n",
      "the box"
     ]
    },
    {
     "cell_type": "code",
     "collapsed": false,
     "input": [
      "box1 = [1,3,5,7,9,11,13]\n",
      "std(box1), mean(box1)"
     ],
     "language": "python",
     "metadata": {},
     "outputs": [
      {
       "metadata": {},
       "output_type": "pyout",
       "prompt_number": 14,
       "text": [
        "(4.0, 7.0)"
       ]
      }
     ],
     "prompt_number": 14
    },
    {
     "cell_type": "markdown",
     "metadata": {},
     "source": [
      "1. Find the expected value and standard error for the sum.\n",
      "\n",
      "      The expected value is 100 x 7.0 = 700. The standard error is sqrt(100) x 4. = 40.\n",
      "\n",
      "2. The sum of the draws will be around ${\\underline{\\ \\ \\ 700  \\ \\    }}$ give or take  ${\\underline{\\ \\ \\ 40 \\ \\    }}$ or so.\n",
      "\n",
      "3. Suppose you had to guess what the sum was going to be. What would you guess? Would you expect to be off by around 4, 8 or 40? \n",
      "\n",
      "       Our best guess is 700, and we should be off by around 40.\n"
     ]
    },
    {
     "cell_type": "markdown",
     "metadata": {},
     "source": [
      "\n",
      "## 17.6.1\n",
      "\n",
      "One hundred draws will be made at random with replacement from the box:"
     ]
    },
    {
     "cell_type": "code",
     "collapsed": false,
     "input": [
      "box2 = [1,6,7,9,9,10]"
     ],
     "language": "python",
     "metadata": {},
     "outputs": [],
     "prompt_number": 15
    },
    {
     "cell_type": "markdown",
     "metadata": {},
     "source": [
      "1. How small can the sum o the draws be? How large?\n",
      "\n",
      "2. The sum is between 650 and 750 with a chance of about (choose one from): [1%,10%,50%,90%,99%]?\n"
     ]
    },
    {
     "cell_type": "code",
     "collapsed": false,
     "input": [
      "model = BoxModel(box2)\n",
      "sum_100 = SumOfDraws(model, 100)\n",
      "S = sum_100.sample(10000)\n",
      "mean([(s > 650) * (s < 750) for s in S])"
     ],
     "language": "python",
     "metadata": {},
     "outputs": [
      {
       "metadata": {},
       "output_type": "pyout",
       "prompt_number": 16,
       "text": [
        "0.90620000000000001"
       ]
      }
     ],
     "prompt_number": 16
    },
    {
     "cell_type": "markdown",
     "metadata": {},
     "source": [
      "## Like 17.6.8\n",
      "\n",
      "A die is rolled 100 times. The outcome we are interested in is the difference between\n",
      "the number of 1's and the number of 6's. \n",
      "\n",
      "1. Describe the box model for this chance process.\n",
      "\n",
      "       Make box = [1,-1,0,0,0,0]\n",
      "\n",
      "2. Find the expected value and standard error for the difference.\n",
      "\n",
      "       Expected value is 100 x average(box) = 0.\n",
      "       SE is sqrt(100) x SD(box) = 10 * SD(box) = about 5.7\n"
     ]
    },
    {
     "cell_type": "code",
     "collapsed": false,
     "input": [
      "std([1,-1,0,0,0,0])"
     ],
     "language": "python",
     "metadata": {},
     "outputs": [
      {
       "metadata": {},
       "output_type": "pyout",
       "prompt_number": 17,
       "text": [
        "0.57735026918962573"
       ]
      }
     ],
     "prompt_number": 17
    },
    {
     "cell_type": "markdown",
     "metadata": {},
     "source": [
      "## Like 17.6.11\n",
      "\n",
      "One hundred draws are made at random with replacement from the box"
     ]
    },
    {
     "cell_type": "code",
     "collapsed": false,
     "input": [
      "box3 = [-3,-2,0,2,4]"
     ],
     "language": "python",
     "metadata": {},
     "outputs": [],
     "prompt_number": 18
    },
    {
     "cell_type": "markdown",
     "metadata": {},
     "source": [
      "Find the expected value and standard error of the sum of the **positive** numbers."
     ]
    },
    {
     "cell_type": "markdown",
     "metadata": {},
     "source": [
      "              Make box model with box = [0,0,0,2,4].\n",
      "\n",
      "              Expected value is 100 x average([0,0,0,2,4]) = 100 x 6/5. = 120.\n",
      "              SE is sqrt(100) x SD([0,0,0,2,4]) = 10 * 1.6 = 16."
     ]
    },
    {
     "cell_type": "code",
     "collapsed": false,
     "input": [
      "std([0,0,0,2,4])"
     ],
     "language": "python",
     "metadata": {},
     "outputs": [
      {
       "metadata": {},
       "output_type": "pyout",
       "prompt_number": 19,
       "text": [
        "1.6000000000000001"
       ]
      }
     ],
     "prompt_number": 19
    }
   ],
   "metadata": {}
  }
 ]
}
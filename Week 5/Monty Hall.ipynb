{
 "metadata": {
  "celltoolbar": "Slideshow",
  "name": "",
  "signature": "sha256:204ef113ebde3bcf0fb949956c3dc68b30a74c7fd7531273350c92757f5f8c17"
 },
 "nbformat": 3,
 "nbformat_minor": 0,
 "worksheets": [
  {
   "cells": [
    {
     "cell_type": "markdown",
     "metadata": {
      "slideshow": {
       "slide_type": "slide"
      }
     },
     "prompt_number": 1,
     "source": [
      "# Monty Hall Problem (Let's Make a Deal)\n",
      "\n",
      "- A fun and famous little example of probability.\n",
      "\n",
      "- Setup (there are variations):\n",
      "     - Contestant chooses among 3 doors, one of which has a car behind it.\n",
      "     - Host (Monty Hall) opens one of the other two doors and allows the\n",
      "       contestant to change doors if they want.\n",
      "     - Monty ALWAYS opens a door that has no car behind it.\n",
      "     - When choosing among possible doors to open, Monty chooses randomly."
     ]
    },
    {
     "cell_type": "code",
     "collapsed": false,
     "input": [
      "from stats_lectures.stats60 import monty_hall"
     ],
     "language": "python",
     "metadata": {
      "slideshow": {
       "slide_type": "skip"
      }
     },
     "outputs": [],
     "prompt_number": 1
    },
    {
     "cell_type": "code",
     "collapsed": false,
     "input": [
      "monty_hall.examples['noswitch']"
     ],
     "language": "python",
     "metadata": {
      "slideshow": {
       "slide_type": "slide"
      }
     },
     "outputs": [],
     "prompt_number": 2
    },
    {
     "cell_type": "code",
     "collapsed": false,
     "input": [
      "monty_hall.examples['noswitch'].sample_space"
     ],
     "language": "python",
     "metadata": {
      "slideshow": {
       "slide_type": "fragment"
      }
     },
     "outputs": [],
     "prompt_number": 3
    },
    {
     "cell_type": "markdown",
     "metadata": {
      "slideshow": {
       "slide_type": "slide"
      }
     },
     "prompt_number": 4,
     "source": [
      "# Stay-put strategy"
     ]
    },
    {
     "cell_type": "code",
     "collapsed": false,
     "input": [
      "monty_hall.examples['noswitch'].trial()\n",
      "monty_hall.examples['noswitch']"
     ],
     "language": "python",
     "metadata": {
      "slideshow": {
       "slide_type": "fragment"
      }
     },
     "outputs": [],
     "prompt_number": 4
    },
    {
     "cell_type": "code",
     "collapsed": false,
     "input": [
      "monty_hall.examples['noswitch'].sample(5)"
     ],
     "language": "python",
     "metadata": {
      "slideshow": {
       "slide_type": "fragment"
      }
     },
     "outputs": [],
     "prompt_number": 5
    },
    {
     "cell_type": "markdown",
     "metadata": {
      "slideshow": {
       "slide_type": "slide"
      }
     },
     "prompt_number": 6,
     "source": [
      "## How well does the stay-put strategy work?"
     ]
    },
    {
     "cell_type": "code",
     "collapsed": false,
     "input": [
      "mean([r[0] == r[3] for r in monty_hall.examples['noswitch'].sample(5000)])"
     ],
     "language": "python",
     "metadata": {
      "slideshow": {
       "slide_type": "fragment"
      }
     },
     "outputs": [],
     "prompt_number": 6
    },
    {
     "cell_type": "code",
     "collapsed": false,
     "input": [
      "monty_hall.examples['noswitch'].mass_function"
     ],
     "language": "python",
     "metadata": {
      "slideshow": {
       "slide_type": "fragment"
      }
     },
     "outputs": [],
     "prompt_number": 7
    },
    {
     "cell_type": "markdown",
     "metadata": {
      "slideshow": {
       "slide_type": "slide"
      }
     },
     "prompt_number": 8,
     "source": [
      "# Switching strategy"
     ]
    },
    {
     "cell_type": "code",
     "collapsed": false,
     "input": [
      "monty_hall.examples['switch'].trial()\n",
      "monty_hall.examples['switch']"
     ],
     "language": "python",
     "metadata": {
      "slideshow": {
       "slide_type": "fragment"
      }
     },
     "outputs": [],
     "prompt_number": 8
    },
    {
     "cell_type": "code",
     "collapsed": false,
     "input": [
      "mean([r[0] == r[3] for r in monty_hall.examples['switch'].sample(5000)])"
     ],
     "language": "python",
     "metadata": {
      "slideshow": {
       "slide_type": "fragment"
      }
     },
     "outputs": [],
     "prompt_number": 9
    },
    {
     "cell_type": "code",
     "collapsed": false,
     "input": [
      "monty_hall.examples['switch'].mass_function"
     ],
     "language": "python",
     "metadata": {
      "slideshow": {
       "slide_type": "fragment"
      }
     },
     "outputs": [],
     "prompt_number": 10
    },
    {
     "cell_type": "markdown",
     "metadata": {
      "slideshow": {
       "slide_type": "slide"
      }
     },
     "prompt_number": 11,
     "source": [
      "# What's going on here?\n",
      "\n",
      "## Conditional view\n",
      "\n",
      "- The stay put rule is pretty to understand. The contestant wins only\n",
      "when the first pick matches where the car really was.\n",
      "\n",
      "- What about the switching rule?"
     ]
    },
    {
     "cell_type": "markdown",
     "metadata": {
      "slideshow": {
       "slide_type": "slide"
      }
     },
     "prompt_number": 11,
     "source": [
      "# What if the first pick is where the prize is?"
     ]
    },
    {
     "cell_type": "code",
     "collapsed": false,
     "input": [
      "monty_hall.examples['switch_match'].trial()\n",
      "monty_hall.examples['switch_match']"
     ],
     "language": "python",
     "metadata": {
      "slideshow": {
       "slide_type": "fragment"
      }
     },
     "outputs": [],
     "prompt_number": 11
    },
    {
     "cell_type": "code",
     "collapsed": false,
     "input": [
      "mean([r[0] == r[3] for r in monty_hall.examples['switch_match'].sample(5000)])"
     ],
     "language": "python",
     "metadata": {
      "slideshow": {
       "slide_type": "fragment"
      }
     },
     "outputs": [],
     "prompt_number": 12
    },
    {
     "cell_type": "code",
     "collapsed": false,
     "input": [
      "monty_hall.examples['switch_match'].mass_function"
     ],
     "language": "python",
     "metadata": {
      "slideshow": {
       "slide_type": "fragment"
      }
     },
     "outputs": [],
     "prompt_number": 13
    },
    {
     "cell_type": "markdown",
     "metadata": {
      "slideshow": {
       "slide_type": "slide"
      }
     },
     "prompt_number": 14,
     "source": [
      "# What if the first pick is not where the car is?"
     ]
    },
    {
     "cell_type": "code",
     "collapsed": false,
     "input": [
      "monty_hall.examples['switch_nomatch'].trial()\n",
      "monty_hall.examples['switch_nomatch']"
     ],
     "language": "python",
     "metadata": {},
     "outputs": [],
     "prompt_number": 14
    },
    {
     "cell_type": "code",
     "collapsed": false,
     "input": [
      "mean([r[0] == r[3] for r in monty_hall.examples['switch_nomatch'].sample(5000)])"
     ],
     "language": "python",
     "metadata": {
      "slideshow": {
       "slide_type": "fragment"
      }
     },
     "outputs": [],
     "prompt_number": 15
    },
    {
     "cell_type": "code",
     "collapsed": false,
     "input": [
      "monty_hall.examples['switch_nomatch'].mass_function"
     ],
     "language": "python",
     "metadata": {
      "slideshow": {
       "slide_type": "fragment"
      }
     },
     "outputs": [],
     "prompt_number": 16
    },
    {
     "cell_type": "markdown",
     "metadata": {
      "slideshow": {
       "slide_type": "slide"
      }
     },
     "prompt_number": 17,
     "source": [
      "## Summary\n",
      "\n",
      "We have shown that, under the switching strategy\n",
      "$$\n",
      "\\{\\text{contestant == prize}\\} = \\{\\text{final != prize}\\}\n",
      "$$\n",
      "and \n",
      "$$\n",
      "\\{\\text{contestant != prize}\\} = \\{\\text{final == prize}\\}\n",
      "$$\n",
      "\n",
      "Note that $$P(\\text{contestant != prize}) = 2/3.$$\n",
      "\n",
      "This is the chance the switching strategy works."
     ]
    },
    {
     "cell_type": "code",
     "collapsed": false,
     "input": [],
     "language": "python",
     "metadata": {},
     "outputs": [],
     "prompt_number": 17
    }
   ],
   "metadata": {}
  }
 ]
}
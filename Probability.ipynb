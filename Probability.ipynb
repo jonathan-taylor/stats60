{
 "metadata": {
  "name": ""
 },
 "nbformat": 3,
 "nbformat_minor": 0,
 "worksheets": [
  {
   "cells": [
    {
     "cell_type": "heading",
     "level": 3,
     "metadata": {
      "slideshow": {
       "slide_type": "slide"
      }
     },
     "prompt_number": 1,
     "source": [
      "Probability"
     ]
    },
    {
     "cell_type": "markdown",
     "metadata": {},
     "prompt_number": 1,
     "source": [
      "\n",
      "Frequency definition of chances\n",
      "\n",
      "* If you flip a fair coin many times, the long-run proportion of heads will be 50%.\n",
      "* Rolling a fair die, i.e. a cube with faces\n",
      "* \u00a0 \u00a0 \u00a0 \u00a0 \u00a0\n",
      "* will result in a long-run proportion of 1\u2019s of $1/6=16 \\frac{2}{3}\\%$."
     ]
    },
    {
     "cell_type": "heading",
     "level": 3,
     "metadata": {
      "slideshow": {
       "slide_type": "slide"
      }
     },
     "prompt_number": 1,
     "source": [
      "Probability"
     ]
    },
    {
     "cell_type": "markdown",
     "metadata": {},
     "prompt_number": 1,
     "source": [
      "\n",
      "Some rules\n",
      "\n",
      "Range of values * Chances are between 0 % and 100 %.\n",
      "Opposites * The chance of something equals 100 % minus the chance of the opposite thing. Example: the chance of not getting a 1 when rolling a die is $83 \\frac{1}{3} \\%$.\n",
      "Example: drawing marbles from a box\n",
      " You need to choose a blue marble to win. Which box is better?"
     ]
    },
    {
     "cell_type": "heading",
     "level": 3,
     "metadata": {
      "slideshow": {
       "slide_type": "slide"
      }
     },
     "prompt_number": 1,
     "source": [
      "Box # 1: 30 blue, 20 red"
     ]
    },
    {
     "cell_type": "code",
     "collapsed": false,
     "input": [
      "dx = 0.02\n",
      "X, Y = np.mgrid[0:1:5j,0:1:10j]\n",
      "X += np.random.uniform(0,1,X.shape) * dx - dx / 2\n",
      "Y += np.random.uniform(0,1,Y.shape) * dx - dx / 2\n",
      "\n",
      "X.shape = -1; Y.shape = -1\n",
      "\n",
      "g = np.arange(50)\n",
      "np.random.shuffle(g)\n",
      "pylab.scatter(X[g[:30]],Y[g[:30]],s=300, c='b')\n",
      "pylab.scatter(X[g[30:]],Y[g[30:]],s=300, c='r')\n",
      "pylab.gca().set_xticks([])\n",
      "pylab.gca().set_yticks([])\n",
      "pylab.gca().set_xlim([X.min()-0.1,X.max()+0.1])\n",
      "pylab.gca().set_ylim([Y.min()-0.1,Y.max()+0.1])"
     ],
     "language": "python",
     "metadata": {},
     "outputs": [],
     "prompt_number": 1
    },
    {
     "cell_type": "heading",
     "level": 3,
     "metadata": {
      "slideshow": {
       "slide_type": "slide"
      }
     },
     "prompt_number": 2,
     "source": [
      "Box # 2: 3 blue, 2 red"
     ]
    },
    {
     "cell_type": "code",
     "collapsed": false,
     "input": [
      "dx = 0.02\n",
      "X, Y = np.mgrid[0:1:5j,0:1:1j]\n",
      "X += np.random.uniform(0,1,X.shape) * dx - dx / 2\n",
      "Y += np.random.uniform(0,1,Y.shape) * dx - dx / 2\n",
      "\n",
      "X.shape = -1; Y.shape = -1\n",
      "\n",
      "g = np.arange(5)\n",
      "np.random.shuffle(g)\n",
      "pylab.scatter(X[g[:3]],Y[g[:3]],s=300, c='b')\n",
      "pylab.scatter(X[g[3:]],Y[g[3:]],s=300, c='r')\n",
      "pylab.gca().set_xticks([])\n",
      "pylab.gca().set_yticks([])\n",
      "pylab.gca().set_xlim([X.min()-0.1,X.max()+0.1])\n",
      "pylab.gca().set_ylim([Y.min()-0.1,Y.max()+0.1])"
     ],
     "language": "python",
     "metadata": {},
     "outputs": [],
     "prompt_number": 2
    },
    {
     "cell_type": "markdown",
     "metadata": {},
     "prompt_number": 3,
     "source": [
      "\n",
      "They both have the same chance of winning: 0.6"
     ]
    },
    {
     "cell_type": "heading",
     "level": 3,
     "metadata": {
      "slideshow": {
       "slide_type": "slide"
      }
     },
     "prompt_number": 3,
     "source": [
      "Probability"
     ]
    },
    {
     "cell_type": "markdown",
     "metadata": {},
     "prompt_number": 3,
     "source": [
      "\n",
      "Drawing marbles\n",
      "\n",
      "* When drawing one marble, the important number was $\\frac{\\# \\ \\text{{\\color{blue} blue marbles}}}{\\# \\ \\text{marbles}} = 60\\%$\n",
      "* What if you draw 5 marbles without replacement?\n",
      "* With replacement?"
     ]
    },
    {
     "cell_type": "heading",
     "level": 3,
     "metadata": {
      "slideshow": {
       "slide_type": "slide"
      }
     },
     "prompt_number": 3,
     "source": [
      "Box # 2 after drawing a red"
     ]
    },
    {
     "cell_type": "code",
     "collapsed": false,
     "input": [
      "dx = 0.02\n",
      "X, Y = np.mgrid[0:1:5j,0:1:1j]\n",
      "X += np.random.uniform(0,1,X.shape) * dx - dx / 2\n",
      "Y += np.random.uniform(0,1,Y.shape) * dx - dx / 2\n",
      "\n",
      "X.shape = -1; Y.shape = -1\n",
      "\n",
      "g = np.arange(5)\n",
      "np.random.shuffle(g)\n",
      "pylab.scatter(X[g[:3]],Y[g[:3]],s=300, c='b')\n",
      "pylab.scatter(X[g[4:]],Y[g[4:]],s=300, c='r')\n",
      "pylab.gca().set_xticks([])\n",
      "pylab.gca().set_yticks([])\n",
      "pylab.gca().set_xlim([X.min()-0.1,X.max()+0.1])\n",
      "pylab.gca().set_ylim([Y.min()-0.1,Y.max()+0.1])"
     ],
     "language": "python",
     "metadata": {},
     "outputs": [],
     "prompt_number": 3
    },
    {
     "cell_type": "markdown",
     "metadata": {},
     "prompt_number": 4,
     "source": [
      "\n",
      "There are 4 marbles in box, ready to draw without replacement"
     ]
    },
    {
     "cell_type": "heading",
     "level": 3,
     "metadata": {
      "slideshow": {
       "slide_type": "slide"
      }
     },
     "prompt_number": 4,
     "source": [
      "Box # 2 after drawing two reds"
     ]
    },
    {
     "cell_type": "code",
     "collapsed": false,
     "input": [
      "dx = 0.02\n",
      "X, Y = np.mgrid[0:1:5j,0:1:1j]\n",
      "X += np.random.uniform(0,1,X.shape) * dx - dx / 2\n",
      "Y += np.random.uniform(0,1,Y.shape) * dx - dx / 2\n",
      "\n",
      "X.shape = -1; Y.shape = -1\n",
      "\n",
      "g = np.arange(5)\n",
      "np.random.shuffle(g)\n",
      "pylab.scatter(X[g[:3]],Y[g[:3]],s=300, c='b')\n",
      "# pylab.scatter(X[g[4:]],Y[g[4:]],s=300, c='b')\n",
      "pylab.gca().set_xticks([])\n",
      "pylab.gca().set_yticks([])\n",
      "pylab.gca().set_xlim([X.min()-0.1,X.max()+0.1])\n",
      "pylab.gca().set_ylim([Y.min()-0.1,Y.max()+0.1])"
     ],
     "language": "python",
     "metadata": {},
     "outputs": [],
     "prompt_number": 4
    },
    {
     "cell_type": "markdown",
     "metadata": {},
     "prompt_number": 5,
     "source": [
      "\n",
      "Next draw will be a blue!"
     ]
    },
    {
     "cell_type": "heading",
     "level": 3,
     "metadata": {
      "slideshow": {
       "slide_type": "slide"
      }
     },
     "prompt_number": 5,
     "source": [
      "Box # 2 with red replaced"
     ]
    },
    {
     "cell_type": "code",
     "collapsed": false,
     "input": [
      "dx = 0.02\n",
      "X, Y = np.mgrid[0:1:5j,0:1:1j]\n",
      "X += np.random.uniform(0,1,X.shape) * dx - dx / 2\n",
      "Y += np.random.uniform(0,1,Y.shape) * dx - dx / 2\n",
      "\n",
      "X.shape = -1; Y.shape = -1\n",
      "\n",
      "g = np.arange(5)\n",
      "np.random.shuffle(g)\n",
      "pylab.scatter(X[g[:3]],Y[g[:3]],s=300, c='b')\n",
      "pylab.scatter(X[g[3:]],Y[g[3:]],s=300, c='r')\n",
      "pylab.gca().set_xticks([])\n",
      "pylab.gca().set_yticks([])\n",
      "pylab.gca().set_xlim([X.min()-0.1,X.max()+0.1])\n",
      "pylab.gca().set_ylim([Y.min()-0.1,Y.max()+0.1])"
     ],
     "language": "python",
     "metadata": {},
     "outputs": [],
     "prompt_number": 5
    },
    {
     "cell_type": "markdown",
     "metadata": {},
     "prompt_number": 6,
     "source": [
      "\n",
      "There are again 5 marbles, ready to draw with replacement"
     ]
    },
    {
     "cell_type": "heading",
     "level": 3,
     "metadata": {
      "slideshow": {
       "slide_type": "slide"
      }
     },
     "prompt_number": 6,
     "source": [
      "Box # 2"
     ]
    },
    {
     "cell_type": "code",
     "collapsed": false,
     "input": [
      "dx = 0.02\n",
      "X, Y = np.mgrid[0:1:5j,0:1:1j]\n",
      "X += np.random.uniform(0,1,X.shape) * dx - dx / 2\n",
      "Y += np.random.uniform(0,1,Y.shape) * dx - dx / 2\n",
      "\n",
      "X.shape = -1; Y.shape = -1\n",
      "\n",
      "g = np.arange(5)\n",
      "np.random.shuffle(g)\n",
      "pylab.scatter(X[g[:3]],Y[g[:3]],s=300, c='b')\n",
      "pylab.scatter(X[g[3:]],Y[g[3:]],s=300, c='r')\n",
      "pylab.gca().set_xticks([])\n",
      "pylab.gca().set_yticks([])\n",
      "pylab.gca().set_xlim([X.min()-0.1,X.max()+0.1])\n",
      "pylab.gca().set_ylim([Y.min()-0.1,Y.max()+0.1])"
     ],
     "language": "python",
     "metadata": {},
     "outputs": [],
     "prompt_number": 6
    },
    {
     "cell_type": "markdown",
     "metadata": {},
     "prompt_number": 7,
     "source": [
      "\n",
      "The chance is always 60% \u2026"
     ]
    },
    {
     "cell_type": "heading",
     "level": 3,
     "metadata": {
      "slideshow": {
       "slide_type": "slide"
      }
     },
     "prompt_number": 7,
     "source": [
      "Probability"
     ]
    },
    {
     "cell_type": "markdown",
     "metadata": {},
     "prompt_number": 7,
     "source": [
      "\n",
      "Drawing five marbles from Box # 1 or # 2\n",
      "\n",
      "* If drawing without replacement, Box # 2 will be easier to win.\n",
      "* We\u2019re even guaranteed to win with Box # 2."
     ]
    },
    {
     "cell_type": "heading",
     "level": 3,
     "metadata": {
      "slideshow": {
       "slide_type": "slide"
      }
     },
     "prompt_number": 7,
     "source": [
      "Drawing tickets"
     ]
    },
    {
     "cell_type": "code",
     "collapsed": false,
     "input": [
      "\n",
      "def ticket(t,x,y,s):\n",
      "\n",
      "    xf, yf = pylab.poly_between([x-s/2.,x+s/2.],[y-s/2.,y-s/2.],[y+s/2.,y+s/2.])\n",
      "    tt = pylab.text(x,y,t)\n",
      "    return xf, yf, tt\n",
      "\n",
      "for i, c in zip(range(3), ['red', 'blue', 'yellow']):\n",
      "    xf, yf, tt = ticket('',i,0,0.8)\n",
      "    pylab.fill(xf,yf, facecolor=c, edgecolor='black', alpha=0.4, linewidth=2)\n",
      "    tt.set_size(50)\n",
      "\n",
      "pylab.gca().set_xticks([])\n",
      "pylab.gca().set_yticks([])\n",
      "pylab.gca().set_ylim([-0.5,0.5])"
     ],
     "language": "python",
     "metadata": {},
     "outputs": [],
     "prompt_number": 7
    },
    {
     "cell_type": "markdown",
     "metadata": {},
     "prompt_number": 8,
     "source": [
      "\n",
      "Suppose we draw the  blue ticket\n"
     ]
    },
    {
     "cell_type": "heading",
     "level": 3,
     "metadata": {
      "slideshow": {
       "slide_type": "slide"
      }
     },
     "prompt_number": 8,
     "source": [
      "Drawing tickets"
     ]
    },
    {
     "cell_type": "code",
     "collapsed": false,
     "input": [
      "\n",
      "def ticket(t,x,y,s):\n",
      "\n",
      "    xf, yf = pylab.poly_between([x-s/2.,x+s/2.],[y-s/2.,y-s/2.],[y+s/2.,y+s/2.])\n",
      "    tt = pylab.text(x,y,t)\n",
      "    return xf, yf, tt\n",
      "\n",
      "for i, c in zip(range(3), ['red', 'blue', 'yellow']):\n",
      "    if c != 'blue':\n",
      "       xf, yf, tt = ticket('',i,0,0.8)\n",
      "       pylab.fill(xf,yf, facecolor=c, edgecolor='black', alpha=0.4, linewidth=2)\n",
      "       tt.set_size(50)\n",
      "\n",
      "pylab.gca().set_xticks([])\n",
      "pylab.gca().set_yticks([])\n",
      "pylab.gca().set_ylim([-0.5,0.5])"
     ],
     "language": "python",
     "metadata": {},
     "outputs": [],
     "prompt_number": 8
    },
    {
     "cell_type": "markdown",
     "metadata": {},
     "prompt_number": 9,
     "source": [
      "\n",
      "This is the box if we are drawing **without replacement**\n",
      "."
     ]
    },
    {
     "cell_type": "heading",
     "level": 3,
     "metadata": {
      "slideshow": {
       "slide_type": "slide"
      }
     },
     "prompt_number": 9,
     "source": [
      "Drawing tickets"
     ]
    },
    {
     "cell_type": "code",
     "collapsed": false,
     "input": [
      "\n",
      "def ticket(t,x,y,s):\n",
      "\n",
      "    xf, yf = pylab.poly_between([x-s/2.,x+s/2.],[y-s/2.,y-s/2.],[y+s/2.,y+s/2.])\n",
      "    tt = pylab.text(x,y,t)\n",
      "    return xf, yf, tt\n",
      "\n",
      "for i, c in zip(range(3), ['red', 'blue', 'yellow']):\n",
      "    xf, yf, tt = ticket('',i,0,0.8)\n",
      "    pylab.fill(xf,yf, facecolor=c, edgecolor='black', alpha=0.4, linewidth=2)\n",
      "    tt.set_size(50)\n",
      "\n",
      "pylab.gca().set_xticks([])\n",
      "pylab.gca().set_yticks([])\n",
      "pylab.gca().set_ylim([-0.5,0.5])"
     ],
     "language": "python",
     "metadata": {},
     "outputs": [],
     "prompt_number": 9
    },
    {
     "cell_type": "markdown",
     "metadata": {},
     "prompt_number": 10,
     "source": [
      "\n",
      "This is the box if we are drawing **with replacement**\n",
      "."
     ]
    },
    {
     "cell_type": "heading",
     "level": 3,
     "metadata": {
      "slideshow": {
       "slide_type": "slide"
      }
     },
     "prompt_number": 10,
     "source": [
      "Probability"
     ]
    },
    {
     "cell_type": "markdown",
     "metadata": {},
     "prompt_number": 10,
     "source": [
      "\n",
      "Conditional probability\n",
      "\n",
      "* Observing some information can *change*\n",
      "   the chances of something.\n",
      "* Example: if drawing without replacement, suppose the first draw was red. What are the chances a blue marble is drawn on the second draw?\n",
      "* What if we draw with replacement?\n",
      "* In this examples, we are *given*\n",
      "   that the first draw was red. These chances are *conditioned*\n",
      "   on knowing the first draw was red."
     ]
    },
    {
     "cell_type": "heading",
     "level": 3,
     "metadata": {
      "slideshow": {
       "slide_type": "slide"
      }
     },
     "prompt_number": 10,
     "source": [
      "Probability"
     ]
    },
    {
     "cell_type": "markdown",
     "metadata": {},
     "prompt_number": 10,
     "source": [
      "\n",
      "Multiplication rule\n",
      " The chance that two things will both happen equals the chance that the first will happen, multiplied by the chance that the second will happen given the first has happened."
     ]
    },
    {
     "cell_type": "heading",
     "level": 3,
     "metadata": {
      "slideshow": {
       "slide_type": "slide"
      }
     },
     "prompt_number": 10,
     "source": [
      "Probability"
     ]
    },
    {
     "cell_type": "markdown",
     "metadata": {},
     "prompt_number": 10,
     "source": [
      "\n",
      "Example\n",
      "\n",
      "Q * What is the probability the first blue marble drawn is on the second draw?\n",
      "A * If the first blue marble drawn was the second, then we know\n",
      "*     * the first was red;\n",
      "      * the second was blue.\n",
      "* By the multiplication rule $\\text{chances} = \\frac{2}{5} \\times \\frac{3}{4} = \\frac{3}{10}$"
     ]
    },
    {
     "cell_type": "heading",
     "level": 3,
     "metadata": {
      "slideshow": {
       "slide_type": "slide"
      }
     },
     "prompt_number": 10,
     "source": [
      "Probability"
     ]
    },
    {
     "cell_type": "markdown",
     "metadata": {},
     "prompt_number": 10,
     "source": [
      "\n",
      "Mathematical notation\n",
      "\n",
      "* \"first blue drawn is on the second draw\" is called an *event*\n",
      "  ;\n",
      "* \"first draw is red\" and \"second draw is blue\" are also events;\n",
      "* We usually write $P$ for \"chances\". For an event $E$ $$ P(E) = . $$\n",
      "* Conditional probability of an event $A$ given $B$ is written as $$ P(A|B) = . $\\item Multiplication rule$ P() = P(A|B) P(B). $$"
     ]
    },
    {
     "cell_type": "heading",
     "level": 3,
     "metadata": {
      "slideshow": {
       "slide_type": "slide"
      }
     },
     "prompt_number": 10,
     "source": [
      "Probability"
     ]
    },
    {
     "cell_type": "markdown",
     "metadata": {},
     "prompt_number": 10,
     "source": [
      "\n",
      "Law of total mass\n",
      "\n",
      "* The chances of something occuring are 100%.\n",
      "* Example: when we draw marbles, the chances we draw a marble whose color is blue or red is 100 %.\n",
      "* In mathematical notation, we often use $S$ for \"something\" or the \"sample space\" $P(S) = 100\\% \\qquad (= 1)$"
     ]
    },
    {
     "cell_type": "heading",
     "level": 3,
     "metadata": {
      "slideshow": {
       "slide_type": "slide"
      }
     },
     "prompt_number": 10,
     "source": [
      "Probability"
     ]
    },
    {
     "cell_type": "markdown",
     "metadata": {},
     "prompt_number": 10,
     "source": [
      "\n",
      "Example: law of total mass\n",
      "\n",
      "* When drawing from Box # 2 without replacement, we will draw a blue ball within the first three draws. $P(\\text{one of the first three balls is blue}) = 100 \\%$\n",
      "* We can verify the law of total mass $\\begin{aligned}\n",
      "     P(\\text{first blue ball is on draw \\# 1}) &= \\frac{3}{5} \\\\\n",
      "     P(\\text{first blue ball is on draw \\# 2}) &= \\frac{2}{5} \\times \\frac{3}{4} = \\frac{3}{10}  \\\\\n",
      "     P(\\text{first blue ball is on draw \\# 3}) &= \\frac{2}{5} \\times \\frac{1}{4} = \\frac{1}{10}  \\\\\n",
      "     \\end{aligned}$\n",
      "* Summing the probablities $\\frac{3}{5} + \\frac{3}{10} +\n",
      "     \\frac{1}{10} = 1.$"
     ]
    },
    {
     "cell_type": "heading",
     "level": 3,
     "metadata": {
      "slideshow": {
       "slide_type": "slide"
      }
     },
     "prompt_number": 10,
     "source": [
      "Probability"
     ]
    },
    {
     "cell_type": "markdown",
     "metadata": {},
     "prompt_number": 10,
     "source": [
      "\n",
      "Addition rule\n",
      "\n",
      "Q * When can we add probabilities of different events?\n",
      "A * When the events are *disjoint*\n",
      "   or *mutually exclusive*\n",
      "  .\n",
      "Example * When rolling a die, the events $E_1=$roll is , $E_2=$roll is are mutually exclusive because the result of the roll cannot be and simultaneously."
     ]
    },
    {
     "cell_type": "heading",
     "level": 3,
     "metadata": {
      "slideshow": {
       "slide_type": "slide"
      }
     },
     "prompt_number": 10,
     "source": [
      "Mutually exclusive events"
     ]
    },
    {
     "cell_type": "code",
     "collapsed": false,
     "input": [
      "cir = matplotlib.patches.Circle\n",
      "\n",
      "a = pylab.gca()\n",
      "# add a circle\n",
      "E1 = cir((0.5,0.5), 0.4,ec=\"black\", facecolor='yellow',lw=2, alpha=0.4)\n",
      "E2 = cir((-0.2,-0.2), 0.4,ec=\"black\", facecolor='blue',lw=2, alpha=0.4)\n",
      "a.add_patch(E1)\n",
      "a.add_patch(E2)\n",
      "a.set_xticks([])\n",
      "a.set_yticks([])\n",
      "a.set_xlim([-0.7,1])\n",
      "a.set_ylim([-0.7,1])\n",
      "\n",
      "# pylab.draw()"
     ],
     "language": "python",
     "metadata": {},
     "outputs": [],
     "prompt_number": 10
    },
    {
     "cell_type": "heading",
     "level": 3,
     "metadata": {
      "slideshow": {
       "slide_type": "slide"
      }
     },
     "prompt_number": 11,
     "source": [
      "Non-mutually exclusive events"
     ]
    },
    {
     "cell_type": "code",
     "collapsed": false,
     "input": [
      "\n",
      "rc('text', usetex=True)\n",
      "\n",
      "\n",
      "\n",
      "a = pylab.gca()\n",
      "# add a circle\n",
      "E1 = cir((0.5,0.5), 0.4,ec=\"black\", facecolor='yellow',lw=2, alpha=0.4)\n",
      "E2 = cir((0.2,0.2), 0.4,ec=\"black\", facecolor='blue',lw=2, alpha=0.4)\n",
      "a.add_patch(E1)\n",
      "a.add_patch(E2)\n",
      "a.set_xticks([])\n",
      "a.set_yticks([])\n",
      "a.set_xlim([-0.3,1])\n",
      "a.set_ylim([-0.3,1])"
     ],
     "language": "python",
     "metadata": {},
     "outputs": [],
     "prompt_number": 11
    },
    {
     "cell_type": "heading",
     "level": 3,
     "metadata": {
      "slideshow": {
       "slide_type": "slide"
      }
     },
     "prompt_number": 12,
     "source": [
      "Probability"
     ]
    },
    {
     "cell_type": "markdown",
     "metadata": {},
     "prompt_number": 12,
     "source": [
      "\n",
      "Addition rule\n",
      "\n",
      "* If the events $E_1, E_2$ are mutually exclusive, then $$ P() = P(E<sup>1</sup>) + P(E<sup>2</sup>). $$\n",
      "* This rule works for more than two: if $[E_1, \\dots, E_n]$ are mutually exclusive, then $$ P() = <sup>i=1</sup><sup>n</sup> P(E<sup>i</sup>). $$"
     ]
    },
    {
     "cell_type": "heading",
     "level": 3,
     "metadata": {
      "slideshow": {
       "slide_type": "slide"
      }
     },
     "prompt_number": 12,
     "source": [
      "Probability"
     ]
    },
    {
     "cell_type": "markdown",
     "metadata": {},
     "prompt_number": 12,
     "source": [
      "\n",
      "Addition rule\n",
      "\n",
      "* The events $E_1, E_2$ are mutually exclusive if $E_1 \\cap E_2$ is empty.\n",
      "* We often write $\\text{$E<sup>1</sup>$ or $E<sup>2</sup>$}$ as $E_1 \\cup E_2$. $$ P() = P(E<sup>1</sup> E<sup>2</sup>) $\\item From the Venn diagram, we can deduce the general rule$ P(E<sup>1</sup> E<sup>2</sup>) = P(E<sup>1</sup>) + P(E<sup>2</sup>) - P(E<sup>1</sup> E<sup>2</sup>) $\\item There is a rule for more than two events \\dots\n",
      "     \\end{itemize}\n",
      "     \\end{block}\n",
      "     \\end{frame}\n",
      "  \n",
      "  \n",
      "     \\begin{frame}\n",
      "     \\frametitle{Three events}\n",
      "     \\begin{center}\n",
      "  \\begin{verbatim}\n",
      "  from matplotlib import rc\n",
      "  import pylab, numpy as np, sys\n",
      "  np.random.seed(0);import random; random.seed(0)\n",
      "  import matplotlib\n",
      "  cir = matplotlib.patches.Circle\n",
      "  \n",
      "  a = pylab.gca()\n",
      "  # add a circle\n",
      "  E1 = cir((0.5,0.5), 0.4,ec=\"black\", facecolor='yellow',lw=2, alpha=0.4)\n",
      "  E2 = cir((0.2,0.2), 0.4,ec=\"black\", facecolor='blue',lw=2, alpha=0.4)\n",
      "  E3 = cir((0.2,0.5), 0.4,ec=\"black\", facecolor='red',lw=2, alpha=0.4)\n",
      "  a.add_patch(E1)\n",
      "  a.add_patch(E2)\n",
      "  a.add_patch(E3)\n",
      "  a.set_xticks([])\n",
      "  a.set_yticks([])\n",
      "  a.set_xlim([-0.3,1])\n",
      "  a.set_ylim([-0.3,1])\n",
      "  \n",
      "  \\end{verbatim}\n",
      "     \\end{center}\n",
      "     There are 3 2-way intersections and one 3-way intersection...\n",
      "     \\end{frame}\n",
      "  \n",
      "     \n",
      "     \\begin{frame} \\frametitle{Probability}\n",
      "  \n",
      "     \\begin{block}\n",
      "     {Addition rule}\n",
      "     \\begin{itemize}\n",
      "     \\item Because chances (or probabilities) are between 0\\% and 100\\%,\n",
      "     we can deduce$ P(E<sup>1</sup> E<sup>2</sup>) P(E<sup>1</sup>) + P(E<sup>2</sup>). $\\item This rule holds for any number of events$\n",
      "* P() &= P (<sup>i=1</sup><sup>n</sup> E<sup>i</sup> )\n",
      "  & <sup>i=1</sup><sup>n</sup> P(E<sup>i</sup>).\n",
      "* $$"
     ]
    },
    {
     "cell_type": "heading",
     "level": 3,
     "metadata": {
      "slideshow": {
       "slide_type": "slide"
      }
     },
     "prompt_number": 12,
     "source": [
      "Probability"
     ]
    },
    {
     "cell_type": "markdown",
     "metadata": {},
     "prompt_number": 12,
     "source": [
      "\n",
      "Multiplication rule & independence\n",
      "\n",
      "* Intuitively, an event $A$ is independent of $B$ if given $A$, the odds of $B$ are unaffected.\n",
      "* In mathematical notation, we express this notion as $P(B|A)=P(B)$\n",
      "* If this is true, we say $A$ and $B$ are *independent*\n",
      "  .\n",
      "* Otherwise, $A$ and $B$ are *dependent*\n",
      "  .\n",
      "* The multiplication rule, combined with independence tells us $P(A \\cap B) = P(B|A) \\times P(A) = P(B) \\times P(A).$"
     ]
    },
    {
     "cell_type": "heading",
     "level": 3,
     "metadata": {
      "slideshow": {
       "slide_type": "slide"
      }
     },
     "prompt_number": 12,
     "source": [
      "Probability"
     ]
    },
    {
     "cell_type": "markdown",
     "metadata": {},
     "prompt_number": 12,
     "source": [
      "\n",
      "Drawing marbles\n",
      "\n",
      "* When drawing marbles *with replacement*\n",
      "   the events $\\begin{aligned}\n",
      "     A &= \\text{first draw is red} \\\\\n",
      "     B &= \\text{second draw is blue}\n",
      "     \\end{aligned}$ are *independent*\n",
      "  \n",
      "* We can even conclude that the draws are independent in this case.\n",
      "* When drawing *without replacement*\n",
      "   the events $A$ and $B$ are dependent."
     ]
    },
    {
     "cell_type": "heading",
     "level": 3,
     "metadata": {
      "slideshow": {
       "slide_type": "slide"
      }
     },
     "prompt_number": 12,
     "source": [
      "Probability"
     ]
    },
    {
     "cell_type": "markdown",
     "metadata": {},
     "prompt_number": 12,
     "source": [
      "\n",
      "Counting\n",
      "\n",
      "* When performing an experiment where each outcome is equally likely, we can compute probabilities by counting.\n",
      "* Example: when rolling two dice, what is the probability of obtaining a sum of 9?\n",
      "* We call these counting problems *combinatorial*\n",
      "  .\n",
      "* For such experiments $P(E) = \\frac{\\# E}{\\# S}$ where $S$ is the set of all possible outcomes (called the *sample space*\n",
      "  )."
     ]
    },
    {
     "cell_type": "heading",
     "level": 3,
     "metadata": {
      "slideshow": {
       "slide_type": "slide"
      }
     },
     "prompt_number": 12,
     "source": [
      "Probability"
     ]
    },
    {
     "cell_type": "markdown",
     "metadata": {},
     "prompt_number": 12,
     "source": [
      "\n",
      "Rolling two dice: all possible outcomes\n",
      "\n",
      "\n",
      " |  |  |  |  | \n",
      "--- | --- | --- | --- | --- | ---\n",
      " |  |  |  |  | \n",
      " |  |  |  |  | \n",
      " |  |  |  |  | \n",
      " |  |  |  |  | \n",
      " |  |  |  |  | \n",
      " |  |  |  |  | "
     ]
    },
    {
     "cell_type": "heading",
     "level": 3,
     "metadata": {
      "slideshow": {
       "slide_type": "slide"
      }
     },
     "prompt_number": 12,
     "source": [
      "Probability"
     ]
    },
    {
     "cell_type": "markdown",
     "metadata": {},
     "prompt_number": 12,
     "source": [
      "\n",
      "What are the chances the sum will be equal to 9?\n",
      "\n",
      "\n",
      " |  |  |  |  | \n",
      "--- | --- | --- | --- | --- | ---\n",
      " |  |  |  |  | \n",
      " |  |  |  |  | \n",
      " |  |  |  |  |  \n",
      "\n",
      " |  |  |  |  \n",
      " | \n",
      " |  |  |  \n",
      " |  | \n",
      " |  |  \n",
      " |  |  | \n",
      "There are 4 outcomes whose sum is 9. Therefore, the chances are $\\frac{4}{36}=\\frac{1}{9}$."
     ]
    },
    {
     "cell_type": "heading",
     "level": 3,
     "metadata": {
      "slideshow": {
       "slide_type": "slide"
      }
     },
     "prompt_number": 12,
     "source": [
      "Probability"
     ]
    },
    {
     "cell_type": "markdown",
     "metadata": {},
     "prompt_number": 12,
     "source": [
      "\n",
      "What are the chances the sum will be greater than or equal to 7?\n",
      "\n",
      "\n",
      " |  |  |  |  | \n",
      "--- | --- | --- | --- | --- | ---\n",
      " |  |  |  |  |  \n",
      "\n",
      " |  |  |  |  \n",
      " |  \n",
      "\n",
      " |  |  |  \n",
      " |  \n",
      " |  \n",
      "\n",
      " |  |  \n",
      " |  \n",
      " |  \n",
      " |  \n",
      "\n",
      " |  \n",
      " |  \n",
      " |  \n",
      " |  \n",
      " |  \n",
      "\n",
      " \n",
      " |  \n",
      " |  \n",
      " |  \n",
      " |  \n",
      " |  \n",
      "\n",
      "There are 21 outcomes whose sum is greater than or equal to 7. Therefore, the chances are $\\frac{21}{36}=\\frac{7}{12}$."
     ]
    },
    {
     "cell_type": "heading",
     "level": 3,
     "metadata": {
      "slideshow": {
       "slide_type": "slide"
      }
     },
     "prompt_number": 12,
     "source": [
      "Probability"
     ]
    },
    {
     "cell_type": "markdown",
     "metadata": {},
     "prompt_number": 12,
     "source": [
      "\n",
      "What are the chances the sum will be less than 7?\n",
      "\n",
      "\n",
      " |  |  |  |  | \n",
      "--- | --- | --- | --- | --- | ---\n",
      " \n",
      " |  \n",
      " |  \n",
      " |  \n",
      " |  \n",
      " | \n",
      " \n",
      " |  \n",
      " |  \n",
      " |  \n",
      " |  | \n",
      " \n",
      " |  \n",
      " |  \n",
      " |  |  | \n",
      " \n",
      " |  \n",
      " |  |  |  | \n",
      " \n",
      " |  |  |  |  | \n",
      " |  |  |  |  | \n",
      "There chances that the sum is greater than or equal to 7 are $\\frac{7}{12}$. Therefore, by the \"opposite\" rule, the chances are chances are $1-\\frac{7}{12}=\\frac{5}{12}.$"
     ]
    },
    {
     "cell_type": "heading",
     "level": 3,
     "metadata": {
      "slideshow": {
       "slide_type": "slide"
      }
     },
     "prompt_number": 12,
     "source": [
      "Probability"
     ]
    },
    {
     "cell_type": "markdown",
     "metadata": {},
     "prompt_number": 12,
     "source": [
      "\n",
      "Complement of an event\n",
      "\n",
      "* Formally, the \"opposite\" rule is the rule of *complements*\n",
      "  .\n",
      "* We write the complement of an event $E$ as $E^c$ $P(\\text{not} \\, E) = P(E^c).$\n",
      "* The rule of *complements*\n",
      "   says $P(E^c) = 1 - P(E)$"
     ]
    },
    {
     "cell_type": "heading",
     "level": 3,
     "metadata": {
      "slideshow": {
       "slide_type": "slide"
      }
     },
     "prompt_number": 12,
     "source": [
      "An event $E$ and its complement $E^c$"
     ]
    },
    {
     "cell_type": "code",
     "collapsed": false,
     "input": [
      "\n",
      "\n",
      "a = pylab.gca()\n",
      "a.set_alpha(0.4)\n",
      "E1 = cir((0.5,0.5), 0.4,ec=\"black\", facecolor='yellow', lw=2, alpha=0.4)\n",
      "a.add_patch(E1)\n",
      "\n",
      "a.set_xticks([])\n",
      "a.set_yticks([])\n",
      "a.set_xlim([-0.3,1])\n",
      "a.set_ylim([-0.3,1])\n",
      "\n",
      "t = pylab.text(0.5, 0.5, '$E$', size=40, color='black', va='center', ha='center')\n",
      "t = pylab.text(-0.05, -0.05, r'$E^c$', size=40, color='black', va='center', ha='center')\n",
      "f = pylab.gcf()\n",
      "f.text(0.8, 0.04, '$S$', size=40, ha='center', va='center')"
     ],
     "language": "python",
     "metadata": {},
     "outputs": [],
     "prompt_number": 12
    },
    {
     "cell_type": "heading",
     "level": 3,
     "metadata": {
      "slideshow": {
       "slide_type": "slide"
      }
     },
     "prompt_number": 13,
     "source": [
      "Probability"
     ]
    },
    {
     "cell_type": "markdown",
     "metadata": {},
     "prompt_number": 13,
     "source": [
      "\n",
      "Properties of complements\n",
      "\n",
      "* For any event $E$, $E$ and $E^c$ are mutually exclusive.\n",
      "* For any event $E$, $S = E \\cup E^c$.\n",
      "* For any two events $A, B$ $\\begin{aligned}\n",
      "     B &= B \\cap S \\\\\n",
      "     &=   B \\cap (A \\cup A^c) \\\\\n",
      "     &=   (B \\cap A) \\cup (B \\cap A^c)\n",
      "     \\end{aligned}$ where $B \\cap A$ and $B \\cap A^c$ are mutually exclusive."
     ]
    },
    {
     "cell_type": "heading",
     "level": 3,
     "metadata": {
      "slideshow": {
       "slide_type": "slide"
      }
     },
     "prompt_number": 13,
     "source": [
      "Non-mutually exclusive events"
     ]
    },
    {
     "cell_type": "code",
     "collapsed": false,
     "input": [
      "\n",
      "a = pylab.gca()\n",
      "# add a circle\n",
      "E1 = cir((0.5,0.5), 0.4,ec=\"black\", facecolor='yellow',lw=2, alpha=0.4)\n",
      "E2 = cir((0.2,0.2), 0.4,ec=\"black\", facecolor='blue',lw=2, alpha=0.4)\n",
      "a.text(0.25,0.25, r'$A \\cap B$', va='center', ha='center')\n",
      "a.text(0.15,0.15, r'$A \\cap B^c$', va='center', ha='center')\n",
      "a.add_patch(E1)\n",
      "a.add_patch(E2)\n",
      "a.set_xticks([])\n",
      "a.set_yticks([])\n",
      "a.set_xlim([-0.3,1])\n",
      "a.set_ylim([-0.3,1])"
     ],
     "language": "python",
     "metadata": {},
     "outputs": [],
     "prompt_number": 13
    },
    {
     "cell_type": "heading",
     "level": 3,
     "metadata": {
      "slideshow": {
       "slide_type": "slide"
      }
     },
     "prompt_number": 14,
     "source": [
      "Probability"
     ]
    },
    {
     "cell_type": "markdown",
     "metadata": {},
     "prompt_number": 14,
     "source": [
      "\n",
      "Example of using complements\n",
      "\n",
      "* For Box # 2, if we draw with replacement, what are the chances it will take less than 5 draws to draw 1st blue marble?\n",
      "* If $E$={takes less than 5 draws to draw 1st blue marble}, then $\\begin{aligned}\n",
      "     E^c &=\\{\\text{takes 5 or more draws to draw 1st blue marble}\\} \\\\\n",
      "     &=\\{\\text{first 4 draws are red}\\} \\\\\n",
      "     \\end{aligned}$\n",
      "* By independence, $\n",
      "     P(\\text{first 4 draws are red}) = \\left(\\frac{2}{5}\\right)^4\n",
      "     $\n",
      "* Therefore, $P(\\text{takes less than 5 draws to draw 1st blue marble}) = 1 -  \\left(\\frac{2}{5}\\right)^4 = 97\\%$"
     ]
    },
    {
     "cell_type": "heading",
     "level": 3,
     "metadata": {
      "slideshow": {
       "slide_type": "slide"
      }
     },
     "prompt_number": 14,
     "source": [
      "Probability"
     ]
    },
    {
     "cell_type": "markdown",
     "metadata": {},
     "prompt_number": 14,
     "source": [
      "\n",
      "Bayes\u2019 theorem\n",
      "\n",
      "* Given two events $A$ and $B$ $\\begin{aligned}\n",
      "     P(A|B) &= \\frac{P(B \\, \\text{and} \\,  A)}{P(B)} \\\\\n",
      "     &= \\frac{P(B|A)\\times P(A)}{P(B)}\n",
      "     \\end{aligned}$\n",
      "* A consequence of the multiplication rule \u2026"
     ]
    },
    {
     "cell_type": "heading",
     "level": 3,
     "metadata": {
      "slideshow": {
       "slide_type": "slide"
      }
     },
     "prompt_number": 14,
     "source": [
      "Probability"
     ]
    },
    {
     "cell_type": "markdown",
     "metadata": {},
     "prompt_number": 14,
     "source": [
      "\n",
      "Bayes\u2019 theorem\n",
      "\n",
      "* By the properties of complements $\\begin{aligned}\n",
      "     P(B) &= P(B \\cap A) + P(B \\cap A^c) \\\\\n",
      "     &=  P(B|A) \\times P(A) + P(B|A^c) \\times P(A^c)\n",
      "     \\end{aligned}$\n",
      "* Another version of Bayes\u2019 theorem $\\begin{aligned}\n",
      "     P(A|B) &= \\frac{P(B|A) \\times P(A)}{P(B|A) \\times P(A) + P(B|A^c) \\times P(A^c)     } \\\\\n",
      "     \\end{aligned}$"
     ]
    },
    {
     "cell_type": "heading",
     "level": 3,
     "metadata": {
      "slideshow": {
       "slide_type": "slide"
      }
     },
     "prompt_number": 14,
     "source": [
      "Probability"
     ]
    },
    {
     "cell_type": "markdown",
     "metadata": {},
     "prompt_number": 14,
     "source": [
      "\n",
      "Example of Bayes\u2019 theorem: drawing marbles without replacement from Box # 2\n",
      "\n",
      "* Let $\\begin{aligned}\n",
      "     A&=\\{\\text{draw a red marble on first draw}\\} \\\\\n",
      "     B&=\\{\\text{draw a blue marble on second draw}\\} \\\\\n",
      "     \\end{aligned}$ Compute $P(A|B)$.\n",
      "* What do we know? $\\begin{aligned}\n",
      "     P(A) &= \\frac{2}{5} \\\\\n",
      "     P(B|A) &= \\frac{3}{4} \\\\\n",
      "     \\end{aligned}$\n",
      "* We need $P(B) = P(B|A) \\times P(A) + P(B|A^c) \\times P(A^c)$."
     ]
    },
    {
     "cell_type": "heading",
     "level": 3,
     "metadata": {
      "slideshow": {
       "slide_type": "slide"
      }
     },
     "prompt_number": 14,
     "source": [
      "Probability"
     ]
    },
    {
     "cell_type": "markdown",
     "metadata": {},
     "prompt_number": 14,
     "source": [
      "\n",
      "Example (continued)\n",
      "\n",
      "* Note that $A^c=\\{\\text{draw a blue marble on first draw}\\}$.\n",
      "* We know $\\begin{aligned}\n",
      "     P(A^c) &= \\frac{3}{5} \\\\\n",
      "     P(B|A^c) &= \\frac{1}{2} \\\\\n",
      "     \\end{aligned}$\n",
      "* Therefore, $\\begin{aligned}\n",
      "     P(B) &= \\frac{3}{4} \\times \\frac{2}{5}  + \\frac{1}{2} \\times \\frac{3}{5} = \\frac{3}{10}     \\\\\n",
      "     P(A|B) &= \\frac{ \\frac{3}{4} \\times \\frac{2}{5}}{\\frac{3}{4} \\times \\frac{2}{5}  + \\frac{1}{2} \\times \\frac{3}{5}} = \\frac{1}{2}\n",
      "     \\end{aligned}$"
     ]
    },
    {
     "cell_type": "heading",
     "level": 3,
     "metadata": {
      "slideshow": {
       "slide_type": "slide"
      }
     },
     "prompt_number": 14,
     "source": [
      "Probability"
     ]
    },
    {
     "cell_type": "markdown",
     "metadata": {},
     "prompt_number": 14,
     "source": [
      "\n",
      "A second example\n",
      "\n",
      "* Suppose a patient from some population is tested for a disease based on some diagnostic test.\n",
      "* The prevalence of the disease is 0.1% in the population.\n",
      "* If a patient has the disease, the test result is positive with probability 95 %. (*True positive*\n",
      "  )\n",
      "* If a patient does not have the disease, the test result is positive with probability 1 %. (*False positive*\n",
      "  ).\n",
      "* What is the probability a patient has the disease given a positive test result?"
     ]
    },
    {
     "cell_type": "heading",
     "level": 3,
     "metadata": {
      "slideshow": {
       "slide_type": "slide"
      }
     },
     "prompt_number": 14,
     "source": [
      "Probability"
     ]
    },
    {
     "cell_type": "markdown",
     "metadata": {},
     "prompt_number": 14,
     "source": [
      "\n",
      "A second example\n",
      "\n",
      "* Let $\\begin{aligned}\n",
      "     D &= \\{\\text{patient has disease}\\}     \\\\\n",
      "     T^+ &= \\{\\text{test result is positive}\\}     \\\\\n",
      "     \\end{aligned}$\n",
      "* We are given $\\begin{aligned}\n",
      "     P(D) &= 0.001 \\\\\n",
      "     P(T^+|D) &= 0.95 \\\\\n",
      "     P(T^+|D^c) &= 0.01 \\\\\n",
      "     \\end{aligned}$\n",
      "* We want to compute $P(D|T^+)$."
     ]
    },
    {
     "cell_type": "heading",
     "level": 3,
     "metadata": {
      "slideshow": {
       "slide_type": "slide"
      }
     },
     "prompt_number": 14,
     "source": [
      "Probability"
     ]
    },
    {
     "cell_type": "markdown",
     "metadata": {},
     "prompt_number": 14,
     "source": [
      "\n",
      "Example continued\n",
      "\n",
      "* By Bayes\u2019 theorem $\\begin{aligned}\n",
      "     P(D|T^+) &= \\frac{P(T^+|D) \\times P(D)}{P(T^+|D) \\times P(D) + P(T^+|D^c) \\times P(D^c)} \\\\\n",
      "     &= \\frac{0.95 \\times 0.001}{0.95 \\times 0.001 + 0.01 \\times 0.999} \\\\\n",
      "     &= 8.7 \\%\n",
      "     \\end{aligned}$\n",
      "* If the test makers improve their false positive rate to 0.001 then $\\begin{aligned}\n",
      "     P(D|T^+)\n",
      "     &= \\frac{0.95 \\times 0.001}{0.95 \\times 0.001 + 0.001 \\times 0.999} \\\\\n",
      "     &= 48.7 \\%\n",
      "     \\end{aligned}$"
     ]
    }
   ],
   "metadata": {}
  }
 ]
}
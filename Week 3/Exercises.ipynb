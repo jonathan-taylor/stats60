{
 "metadata": {
  "name": "",
  "signature": "sha256:2e099f9b5f8f0c20d7d809c2d37ab9febf38a041d0be6f1e799ccfffedb6bd1c"
 },
 "nbformat": 3,
 "nbformat_minor": 0,
 "worksheets": [
  {
   "cells": [
    {
     "cell_type": "markdown",
     "metadata": {},
     "prompt_number": 1,
     "source": [
      "# Chapter 10\n",
      "\n",
      "## 10.A.2\n",
      "\n",
      "- For the men age 18 and over in HANES5 we have the following\n",
      "information:\n",
      "\n",
      "Variable | Average | SD\n",
      "---------|---------|----\n",
      "Height   | 69in    | 3in\n",
      "Weight   | 190lb   | 42lb\n",
      "\n",
      "The correlation was $r=0.41$.\n",
      "\n",
      "Estimate the average weight of the men whose heights were\n",
      "\n",
      "1. 69in\n",
      "2. 66in\n",
      "3. 24in\n",
      "4. 0in.\n",
      "\n",
      "Comment on 3. and 4.\n",
      "\n",
      "## 10.A.5\n",
      "\n",
      "Suppose $r=-1$. Can you explain why a one-SD increase in $x$ is \n",
      "matched by a one-SD decrease in $y$?\n",
      "\n",
      "## Like  10.6.2\n",
      "\n",
      "In a study of IQ scores, Stanford students had their\n",
      "IQ score recorded at freshman year and they were \n",
      "retested at their 20 year reunions.\n",
      "The following results are obtained\n",
      "\n",
      "Age | Average | SD\n",
      "---------|---------|----\n",
      "Freshman   | 110    | 18\n",
      "20 year alumni   | 110   | 20\n",
      "\n",
      "The correlation was $r=0.8$.\n",
      "\n",
      "1. Estimate the average score as alumni for all the individuals\n",
      "who scored 115 as freshmen.\n",
      "\n",
      "2. Predict the score for an alumni who scored 115 as a freshman.\n",
      "\n",
      "\n"
     ]
    },
    {
     "cell_type": "markdown",
     "metadata": {},
     "prompt_number": 1,
     "source": [
      "## Like 10.D.2\n",
      "\n",
      "An instructor standardizes her midterm and final each\n",
      "semester so the class average is 60 and the SD is 15 on both \n",
      "tests. The correlation between the tests\n",
      "is around 0.50. \n",
      "\n",
      "One semester, she took all the students who scored around\n",
      "30 at the midterm and gave them special tutoring. \n",
      "\n",
      "1. Suppose they all scored around 40 on the final. Can this be\n",
      "explained by the regression effect?\n",
      "\n",
      "2. Suppose they all scored around 60 on the final. Can this be\n",
      "explained by the regression effect?"
     ]
    },
    {
     "cell_type": "markdown",
     "metadata": {},
     "prompt_number": 1,
     "source": [
      "## Like 11.D.3\n",
      "\n",
      "In our wage vs. education plot we have the following information:\n",
      "\n",
      "\n",
      "Variable | Average | SD\n",
      "---------|---------|----\n",
      "wage (1000\\$)  | 10.3    | 4.9\n",
      "education  (years) | 12.7   | 2.0\n",
      "\n",
      "The correlation was $r=0.38$.\n",
      "\n",
      "1. Find the r.m.s. error of the regression for predicting `wage` from\n",
      "`education`.\n",
      "\n",
      "2. Predict the education of someone with 16 years of education.\n",
      "\n",
      "3. This prediction is likely to be of by how much? If more information is needed,\n",
      "say what it is, and why.\n",
      "\n",
      "4. Repeat parts 2. and 3. for someone with 8 years of education.\n"
     ]
    },
    {
     "cell_type": "code",
     "collapsed": false,
     "input": [],
     "language": "python",
     "metadata": {},
     "outputs": [],
     "prompt_number": 1
    }
   ],
   "metadata": {}
  }
 ]
}
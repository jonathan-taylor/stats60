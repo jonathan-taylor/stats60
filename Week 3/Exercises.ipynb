{
 "metadata": {
  "name": "",
  "signature": "sha256:a3fbd662384e2defb64d91bdec613c655f967ea64cebe08084276bd6ea21fb7a"
 },
 "nbformat": 3,
 "nbformat_minor": 0,
 "worksheets": [
  {
   "cells": [
    {
     "cell_type": "code",
     "collapsed": false,
     "input": [],
     "language": "python",
     "metadata": {},
     "outputs": []
    }
   ],
   "metadata": {}
  }
 ]
}
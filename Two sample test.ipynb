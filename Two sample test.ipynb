{
 "metadata": {
  "name": ""
 },
 "nbformat": 3,
 "nbformat_minor": 0,
 "worksheets": [
  {
   "cells": [
    {
     "cell_type": "heading",
     "level": 3,
     "metadata": {
      "slideshow": {
       "slide_type": "slide"
      }
     },
     "source": [
      "Comparing two samples"
     ]
    },
    {
     "cell_type": "markdown",
     "metadata": {},
     "source": [
      "\n",
      "NAEP reading test\n",
      "\n",
      "* In 1990, sample average was 290.\n",
      "* In 2004, sample average was 285.\n",
      "* Is this chance variation, or has something changed?"
     ]
    },
    {
     "cell_type": "heading",
     "level": 3,
     "metadata": {
      "slideshow": {
       "slide_type": "slide"
      }
     },
     "source": [
      "Comparing two samples"
     ]
    },
    {
     "cell_type": "markdown",
     "metadata": {},
     "source": [
      "\n",
      "Two boxes\n",
      "\n",
      "* One box for 1990, average(1990 sample) = 290, SD(2004 sample) = 37.\n",
      "* A second box for 2004, average(2004 sample) = 285, SD(2004 sample) = 40.\n",
      "* So, $\\begin{aligned}\n",
      "     \\text{SE(average(1990 sample))} &\\approx 37 / \\sqrt{1000} \\\\\n",
      "      &\\approx 1.2\\\\\n",
      "     \\text{SE(average(2004 sample))} &\\approx 40 / \\sqrt{1000} \\\\\n",
      "     &\\approx 1.3\\\\\n",
      "     \\end{aligned}$"
     ]
    },
    {
     "cell_type": "heading",
     "level": 3,
     "metadata": {
      "slideshow": {
       "slide_type": "slide"
      }
     },
     "source": [
      "Comparing two samples"
     ]
    },
    {
     "cell_type": "markdown",
     "metadata": {},
     "source": [
      "\n",
      "Two boxes\n",
      "\n",
      "* The null hypothesis is:  \"the average of the 1990 equals (or is less than or equal to) the average of the 2004 box.\"\n",
      "  \n",
      "* The alternative is  \"the average of the 1990 box is greater than the average of the 2004 box.\"\n",
      "  \n",
      "* Our  $z$-score\n",
      "   will have ${\\color{orange}285-290}-{\\color{blue}{0}}={\\color{orange} -5}$ in the numerator. We reject for large ${\\color{orange} |z||}$ values that are negative.\n",
      "* What about the denominator?\n",
      "* We are using ${\\color{orange} \\text{average(2004 sample) - average(1990 sample)}}$ to estimate the difference between the average of the 2004 and 1990 box averages."
     ]
    },
    {
     "cell_type": "heading",
     "level": 3,
     "metadata": {
      "slideshow": {
       "slide_type": "slide"
      }
     },
     "source": [
      "Comparing two samples"
     ]
    },
    {
     "cell_type": "markdown",
     "metadata": {},
     "source": [
      "\n",
      "SE of a difference\n",
      "\n",
      "* So, the denominator should be ${\\color{blue} \\text{SE}}({\\color{orange} \\text{average(2004 sample) -\n",
      "     average(1990 sample)}}).$\n",
      "* The SE of the difference of two **independent**\n",
      "   quantities can be found from the individual SEs.\n",
      "* For our two box model, the  average(1990 sample)\n",
      "   is independent of the  average(2004 sample)\n",
      "  .\n",
      "* The rule is $\\begin{aligned}\n",
      "     \\lefteqn{{\\color{blue} \\text{SE}}({\\color{orange}\n",
      "     \\text{average(2004 sample) -\n",
      "     average(1990 sample)}})} \\\\\n",
      "     & \\qquad \\quad = \\sqrt{{\\color{blue}\\text{SE}}({\\color{orange} \\text{1990 sample}})^2 + {\\color{blue}\\text{SE}}({\\color{orange} \\text{2004 sample}})^2}.\n",
      "     \\end{aligned}$"
     ]
    },
    {
     "cell_type": "heading",
     "level": 3,
     "metadata": {
      "slideshow": {
       "slide_type": "slide"
      }
     },
     "source": [
      "Comparing two samples"
     ]
    },
    {
     "cell_type": "markdown",
     "metadata": {},
     "source": [
      "\n",
      "Example (continued)\n",
      "\n",
      "* Applying the rule, $\\begin{aligned}\n",
      "     \\lefteqn{ {\\color{blue} \\text{SE}}({\\color{orange}\n",
      "     \\text{average(2004 sample)} -}} \\\\\n",
      "     & \\qquad \\quad - \\text{\\color{orange}  average(1990 sample)})  \\\\\n",
      "     & \\qquad \\approx \\sqrt{1.2^2+1.3^2} \\approx 1.8\n",
      "     \\end{aligned}$\n",
      "* The $z$-statistic is ${\\color{orange} z} = \\frac{-5}{1.8} \\approx -2.8$\n",
      "* The one-sided $P$-value is about $0.3\\%$."
     ]
    },
    {
     "cell_type": "heading",
     "level": 3,
     "metadata": {
      "slideshow": {
       "slide_type": "slide"
      }
     },
     "source": [
      "Comparing two samples"
     ]
    },
    {
     "cell_type": "markdown",
     "metadata": {},
     "source": [
      "\n",
      "Example\n",
      "\n",
      "* In 1999, 13% of the 17 year-old students had taken calculus compared to 17% in 2004 according to the NAEP samples. Is the difference real or chance variation?\n",
      "* This question asks us to compare two proportions. We can take the null hypothesis to be \"the proportion of 17 year olds who took calculus in 1999 is equal to (or greater than or equal to) the proportion who took calculus in 2004.\"\n",
      "* The alternative is \"the proportion of 17 year olds who took calculus in 1999 is less than the proportion who took calculus in 2004.\""
     ]
    },
    {
     "cell_type": "heading",
     "level": 3,
     "metadata": {
      "slideshow": {
       "slide_type": "slide"
      }
     },
     "source": [
      "Comparing two samples"
     ]
    },
    {
     "cell_type": "markdown",
     "metadata": {},
     "source": [
      "\n",
      "Example\n",
      "\n",
      "* We could rewrite this as $H_0: p_{1999} \\geq p_{2004}$ vs. $H_a:p_{1999} < p_{2004}$.\n",
      "* Our sample estimates are $\\widehat{p}_{1999}=13\\%, \\widehat{p}_{2004}=17\\%$.\n",
      "* They have estimated standard errors: $\\text{SE}(\\widehat{p}_{1999}) \\approx \\sqrt{0.13 \\times 0.87 / 1000} \\approx 1.1\\%$, $\\text{SE}(\\widehat{p}_{2004}) \\approx \\sqrt{0.17 \\times 0.83 / 1000} = 1.2\\%$,\n",
      "* The of the difference is $\\text{SE}(\\widehat{p}_{1999} - \\widehat{p}_{2004}) \\approx \\sqrt{1.1^2 + 1.2^2} \\approx 1.6\\%.$"
     ]
    },
    {
     "cell_type": "heading",
     "level": 3,
     "metadata": {
      "slideshow": {
       "slide_type": "slide"
      }
     },
     "source": [
      "Comparing two samples"
     ]
    },
    {
     "cell_type": "markdown",
     "metadata": {},
     "source": [
      "\n",
      "Example\n",
      "\n",
      "* The $z$-score is $z = \\frac{13 - 17 - 0}{1.6} \\approx -2.5$\n",
      "* The one-sided $P$-value is about 1%."
     ]
    },
    {
     "cell_type": "heading",
     "level": 3,
     "metadata": {
      "slideshow": {
       "slide_type": "slide"
      }
     },
     "source": [
      "Randomized experiments"
     ]
    },
    {
     "cell_type": "markdown",
     "metadata": {},
     "source": [
      "\n",
      "Randomized experiments\n",
      "\n",
      "* This *two-sample $z$-test*\n",
      "   can also be used for randomized controlled experiments.\n",
      "* Example: 200 subjects are split randomly into treatment and placebo in a study on vitamin C on the number of colds.\n",
      "* In the treatment group average(treatment group)=2.3, SD(treatment group) = 3.1.\n",
      "* In the placebo group average(placebo group)=2.6, SD(placebo group) = 2.9.\n",
      "* Is there a difference in the number of colds in treatment vs. placebo group?"
     ]
    },
    {
     "cell_type": "heading",
     "level": 3,
     "metadata": {
      "slideshow": {
       "slide_type": "slide"
      }
     },
     "source": [
      "Randomized experiments"
     ]
    },
    {
     "cell_type": "markdown",
     "metadata": {},
     "source": [
      "\n",
      "Example (continued)\n",
      "\n",
      "* Naively applying the two sample $z$-test to this situation, yields $z = \\frac{(2.3 - 2.6) - 0}{\\sqrt{\\left(\\frac{3.1}{\\sqrt{100}}\\right)^2 + \\left(\\frac{2.9}{\\sqrt{100}}\\right)^2}} = \\frac{-0.3}{0.42} \\approx -0.7.$\n",
      "* If we had taken a one-sided alternative, this would be a $P$-value of about 25%.\n",
      "* Our two-box model does not apply here because the groups were selected from the same \"box\" of 200 subjects.\n",
      "* The two samples are not independent: if a patient is in treatment, he/she cannot also be in the control group."
     ]
    },
    {
     "cell_type": "heading",
     "level": 3,
     "metadata": {
      "slideshow": {
       "slide_type": "slide"
      }
     },
     "source": [
      "Randomized experiments"
     ]
    },
    {
     "cell_type": "markdown",
     "metadata": {},
     "source": [
      "\n",
      "Box model for experiment\n",
      "\n",
      "* The best box model for this randomized experiment is a box with 200 tickets.\n",
      "* Each ticket has two responses for each subject:\n",
      "*     * ${\\color{green} A}$: the number of colds if they receive the vitamin C;\n",
      "      * ${\\color{red} B}$: the number of colds if they receive the placebo.\n",
      "* In the experiment, we only observe ${\\color{green} A}$ or ${\\color{red} B}$ for each subject.\n",
      "* Which one we see depends on the randomization.\n",
      "* Statistical theory says the $z$-test is applicable if the sample is large enough to test ${\\color{blue} H_0: \\text{average of all {\\color{green} $A$}'s $$ average of all {\\color{red} $B$}'s}}$ against ${\\color{blue} H_a: \\text{average of all {\\color{green} $A$}'s $<$\n",
      "      average of all {\\color{red} $B$}'s}}$"
     ]
    },
    {
     "cell_type": "heading",
     "level": 3,
     "metadata": {
      "slideshow": {
       "slide_type": "slide"
      }
     },
     "source": [
      "Box model (hypothetical data)"
     ]
    },
    {
     "cell_type": "code",
     "collapsed": false,
     "input": [
      "datadir = '/Users/jonathantaylor/stats-lecture-notes/data/'\n",
      "import random\n",
      "X = np.mgrid[0:10:10j,0:20:20j].reshape((2,200))   + np.random.sample((2,200)) * 0.05\n",
      "X = X.T\n",
      "sample = pylab.csv2rec('%s/twosample.csv' % datadir)\n",
      "\n",
      "treatment = sample['treatment'].astype(np.bool)\n",
      "treatment_sample = sample[treatment]['sample1']\n",
      "placebo_sample = sample[~treatment]['sample2']\n",
      "\n",
      "\n",
      "for i in range(200):\n",
      "   pylab.fill_between([X[i,0]-.4,X[i,0]], [X[i,1]-.4,X[i,1]-.4], [X[i,1]+.3,X[i,1]+.3], facecolor='green', alpha=0.3)\n",
      "   pylab.fill_between([X[i,0],X[i,0]+.4], [X[i,1]-.4,X[i,1]-.4], [X[i,1]+.3,X[i,1]+.3], facecolor='red', alpha=0.3)\n",
      "   pylab.text(X[i,0]-0.2, X[i,1], '%d' % sample['sample1'][i], ha='center', va='center', size=10)\n",
      "   pylab.text(X[i,0]+0.2, X[i,1], '%d' % sample['sample2'][i], ha='center', va='center', size=10)\n",
      "   pylab.gca().set_xticks([]);    pylab.gca().set_xlim([-1,11])\n",
      "   pylab.gca().set_yticks([]);    pylab.gca().set_ylim([-1,21])"
     ],
     "language": "python",
     "metadata": {},
     "outputs": [
      {
       "metadata": {},
       "output_type": "display_data",
       "png": "[encoded data removed]",
       "text": [
        "<matplotlib.figure.Figure at 0x10f86c690>"
       ]
      }
     ],
     "prompt_number": 6
    },
    {
     "cell_type": "markdown",
     "metadata": {},
     "source": [
      "\n",
      "The complete data (unobserved)"
     ]
    },
    {
     "cell_type": "heading",
     "level": 3,
     "metadata": {
      "slideshow": {
       "slide_type": "slide"
      }
     },
     "source": [
      "Box model (hypothetical data)"
     ]
    },
    {
     "cell_type": "code",
     "collapsed": false,
     "input": [
      "\n",
      "sample = csv2rec('%s/twosample.csv' % datadir)\n",
      "\n",
      "treatment = sample['treatment'].astype(np.bool)\n",
      "treatment_sample = sample[treatment]['sample1']\n",
      "placebo_sample = sample[~treatment]['sample2']\n",
      "\n",
      "\n",
      "for i in range(200):\n",
      "   if treatment[i]:\n",
      "       pylab.fill_between([X[i,0]-.4,X[i,0]], [X[i,1]-.4,X[i,1]-.4], [X[i,1]+.3,X[i,1]+.3], facecolor='green', alpha=0.3)\n",
      "       pylab.fill_between([X[i,0],X[i,0]+.4], [X[i,1]-.4,X[i,1]-.4], [X[i,1]+.3,X[i,1]+.3], facecolor='red', alpha=0.3)\n",
      "       pylab.text(X[i,0]-0.2, X[i,1], '%d' % sample['sample1'][i], ha='center', va='center', size=10)\n",
      "pylab.gca().set_xticks([]);    pylab.gca().set_xlim([-1,11])\n",
      "pylab.gca().set_yticks([]);    pylab.gca().set_ylim([-1,21])\n",
      "pylab.title(\"average(treatment)=%0.1f, SD(treatment)%0.1f\" % (treatment_sample.mean(), treatment_sample.std()))"
     ],
     "language": "python",
     "metadata": {},
     "outputs": [
      {
       "metadata": {},
       "output_type": "pyout",
       "prompt_number": 9,
       "text": [
        "<matplotlib.text.Text at 0x10f9130d0>"
       ]
      },
      {
       "metadata": {},
       "output_type": "display_data",
       "png": "[encoded data removed]",
       "text": [
        "<matplotlib.figure.Figure at 0x1107d9a50>"
       ]
      }
     ],
     "prompt_number": 9
    },
    {
     "cell_type": "markdown",
     "metadata": {},
     "source": [
      "\n",
      "The treatment sample (observed)."
     ]
    },
    {
     "cell_type": "heading",
     "level": 3,
     "metadata": {
      "slideshow": {
       "slide_type": "slide"
      }
     },
     "source": [
      "Box model (hypothetical data)"
     ]
    },
    {
     "cell_type": "code",
     "collapsed": false,
     "input": [
      "sample = csv2rec('%s/twosample.csv' % datadir)\n",
      "\n",
      "treatment = sample['treatment'].astype(np.bool)\n",
      "treatment_sample = sample[treatment]['sample1']\n",
      "placebo_sample = sample[~treatment]['sample2']\n",
      "\n",
      "\n",
      "for i in range(200):\n",
      "   if not treatment[i]:\n",
      "       pylab.fill_between([X[i,0]-.4,X[i,0]], [X[i,1]-.4,X[i,1]-.4], [X[i,1]+.3,X[i,1]+.3], facecolor='green', alpha=0.3)\n",
      "       pylab.fill_between([X[i,0],X[i,0]+.4], [X[i,1]-.4,X[i,1]-.4], [X[i,1]+.3,X[i,1]+.3], facecolor='red', alpha=0.3)\n",
      "       pylab.text(X[i,0]+0.2, X[i,1], '%d' % sample['sample2'][i], ha='center', va='center', size=10)\n",
      "pylab.gca().set_xticks([]);    pylab.gca().set_xlim([-1,11])\n",
      "pylab.gca().set_yticks([]);    pylab.gca().set_ylim([-1,21])\n",
      "pylab.title(\"average(placebo)=%0.1f, SD(placebo)%0.1f\" % (placebo_sample.mean(), placebo_sample.std()))"
     ],
     "language": "python",
     "metadata": {},
     "outputs": [
      {
       "metadata": {},
       "output_type": "pyout",
       "prompt_number": 10,
       "text": [
        "<matplotlib.text.Text at 0x1103cc490>"
       ]
      },
      {
       "metadata": {},
       "output_type": "display_data",
       "png": "[encoded data removed]",
       "text": [
        "<matplotlib.figure.Figure at 0x10f90bdd0>"
       ]
      }
     ],
     "prompt_number": 10
    },
    {
     "cell_type": "markdown",
     "metadata": {},
     "source": [
      "\n",
      "The placebo sample (observed)."
     ]
    },
    {
     "cell_type": "heading",
     "level": 3,
     "metadata": {
      "slideshow": {
       "slide_type": "slide"
      }
     },
     "source": [
      "Box model (hypothetical data)"
     ]
    },
    {
     "cell_type": "code",
     "collapsed": false,
     "input": [
      "sample = csv2rec('%s/twosample.csv' % datadir)\n",
      "\n",
      "treatment = sample['treatment'].astype(np.bool)\n",
      "treatment_sample = sample[treatment]['sample1']\n",
      "placebo_sample = sample[~treatment]['sample2']\n",
      "\n",
      "\n",
      "for i in range(200):\n",
      "   pylab.fill_between([X[i,0]-.4,X[i,0]], [X[i,1]-.4,X[i,1]-.4], [X[i,1]+.3,X[i,1]+.3], facecolor='green', alpha=0.3)\n",
      "   pylab.fill_between([X[i,0],X[i,0]+.4], [X[i,1]-.4,X[i,1]-.4], [X[i,1]+.3,X[i,1]+.3], facecolor='red', alpha=0.3)\n",
      "   if treatment[i]:\n",
      "       pylab.text(X[i,0]-0.2, X[i,1], '%d' % sample['sample1'][i], ha='center', va='center', size=10)\n",
      "   elif not treatment[i]:\n",
      "       pylab.text(X[i,0]+0.2, X[i,1], '%d' % sample['sample2'][i], ha='center', va='center', size=10)\n",
      "pylab.gca().set_xticks([]);    pylab.gca().set_xlim([-1,11])\n",
      "pylab.gca().set_yticks([]);    pylab.gca().set_ylim([-1,21])"
     ],
     "language": "python",
     "metadata": {},
     "outputs": [
      {
       "metadata": {},
       "output_type": "pyout",
       "prompt_number": 11,
       "text": [
        "(-1, 21)"
       ]
      },
      {
       "metadata": {},
       "output_type": "display_data",
       "png": "[encoded data removed]",
       "text": [
        "<matplotlib.figure.Figure at 0x1101cc550>"
       ]
      }
     ],
     "prompt_number": 11
    },
    {
     "cell_type": "markdown",
     "metadata": {},
     "source": [
      "\n",
      "The entire sample (observed)."
     ]
    },
    {
     "cell_type": "heading",
     "level": 3,
     "metadata": {
      "slideshow": {
       "slide_type": "slide"
      }
     },
     "source": [
      "Box model (hypothetical data)"
     ]
    },
    {
     "cell_type": "markdown",
     "metadata": {},
     "source": [
      "\n",
      "Example (continued)\n",
      "\n",
      "* We know $\\begin{aligned}\n",
      "       \\text{average(treatment)} &= 2.3 \\\\\n",
      "       \\text{SE(average(treatment))} &= 1.6 / \\sqrt{100} = 0.16 \\\\\n",
      "       \\text{average(placebo)} &= 2.5 \\\\\n",
      "       \\text{SE(average(placebo))} &= 1.7 / \\sqrt{100} = 0.17 \\\\\n",
      "       \\end{aligned}$"
     ]
    },
    {
     "cell_type": "heading",
     "level": 3,
     "metadata": {
      "slideshow": {
       "slide_type": "slide"
      }
     },
     "source": [
      "Box model (hypothetical data)"
     ]
    },
    {
     "cell_type": "markdown",
     "metadata": {},
     "source": [
      "\n",
      "Example (continued)\n",
      "\n",
      "* Therefore, $\\begin{aligned}\n",
      "       \\lefteqn{\\text{SE(average(treatment)-average(placebo))}} \\\\\n",
      "       & \\qquad = \\sqrt{0.16^2+0.17^2} \\\\\n",
      "       &= 0.23\n",
      "       \\end{aligned}$ and $z = \\frac{2.3-2.5}{0.23} = -0.9$\n",
      "* The one-sided $P$-value is 18%, when we test $H_0: \\text{average({\\color{green} all treatments})} \\geq \\text{average({\\color{red} all placebos})}$."
     ]
    },
    {
     "cell_type": "heading",
     "level": 3,
     "metadata": {
      "slideshow": {
       "slide_type": "slide"
      }
     },
     "source": [
      "Randomized experiments"
     ]
    },
    {
     "cell_type": "markdown",
     "metadata": {},
     "source": [
      "\n",
      "Binary responses\n",
      "\n",
      "* The randomization model is not applicable only to quantitative things like the number of colds. The tickets can have 0-1 values.\n",
      "* Suppose the experiment tests an experimental cancer treatment and our outcome is whether or not the subject is remission free 5 years after treatment.\n",
      "* Each subject has a  1 or 0\n",
      "   for their outcome if they are treated, and a  1 or 0\n",
      "   for their outcome if they receive placebo (or, more likely, standard of care)."
     ]
    },
    {
     "cell_type": "heading",
     "level": 3,
     "metadata": {
      "slideshow": {
       "slide_type": "slide"
      }
     },
     "source": [
      "Randomized experiments"
     ]
    },
    {
     "cell_type": "markdown",
     "metadata": {},
     "source": [
      "\n",
      "Binary responses\n",
      "\n",
      "* In the experiment, we only observe ${\\color{green} A}$ or ${\\color{red} B}$ for each subject.\n",
      "* Which one we see depends on the randomization.\n",
      "* Statistical theory says the $z$-test is applicable if the sample is large enough to test ${\\color{blue} H_0: \\text{proportion of all {\\color{green} 1}'s $$ proportion of all  {\\color{red} 1}'s}}$ against ${\\color{blue} H_a: \\text{proportion of all {\\color{green} 1}'s $>$ proportion of all  {\\color{red} 1}'s}}$."
     ]
    },
    {
     "cell_type": "heading",
     "level": 3,
     "metadata": {
      "slideshow": {
       "slide_type": "slide"
      }
     },
     "source": [
      "Box model (for binary outcome)"
     ]
    },
    {
     "cell_type": "code",
     "collapsed": false,
     "input": [
      "from matplotlib import rc\n",
      "sample = csv2rec('%s/twosample_binary.csv' % datadir)\n",
      "\n",
      "treatment = sample['treatment'].astype(np.bool)\n",
      "treatment_sample = sample[treatment]['sample1']\n",
      "placebo_sample = sample[~treatment]['sample2']\n",
      "\n",
      "\n",
      "for i in range(200):\n",
      "   pylab.fill_between([X[i,0]-.4,X[i,0]], [X[i,1]-.4,X[i,1]-.4], [X[i,1]+.3,X[i,1]+.3], facecolor='green', alpha=0.3)\n",
      "   pylab.fill_between([X[i,0],X[i,0]+.4], [X[i,1]-.4,X[i,1]-.4], [X[i,1]+.3,X[i,1]+.3], facecolor='red', alpha=0.3)\n",
      "   pylab.text(X[i,0]-0.2, X[i,1], '%d' % sample['sample1'][i], ha='center', va='center', size=10)\n",
      "   pylab.text(X[i,0]+0.2, X[i,1], '%d' % sample['sample2'][i], ha='center', va='center', size=10)\n",
      "   pylab.gca().set_xticks([]);    pylab.gca().set_xlim([-1,11])\n",
      "   pylab.gca().set_yticks([]);    pylab.gca().set_ylim([-1,21])"
     ],
     "language": "python",
     "metadata": {},
     "outputs": [
      {
       "metadata": {},
       "output_type": "display_data",
       "png": "[encoded data removed]",
       "text": [
        "<matplotlib.figure.Figure at 0x1116add90>"
       ]
      }
     ],
     "prompt_number": 13
    },
    {
     "cell_type": "heading",
     "level": 3,
     "metadata": {
      "slideshow": {
       "slide_type": "slide"
      }
     },
     "source": [
      "Box model (for binary outcome)"
     ]
    },
    {
     "cell_type": "code",
     "collapsed": false,
     "input": [
      "\n",
      "treatment = sample['treatment'].astype(np.bool)\n",
      "treatment_sample = sample[treatment]['sample1']\n",
      "placebo_sample = sample[~treatment]['sample2']\n",
      "\n",
      "\n",
      "for i in range(200):\n",
      "   if treatment[i]:\n",
      "       pylab.fill_between([X[i,0]-.4,X[i,0]], [X[i,1]-.4,X[i,1]-.4], [X[i,1]+.3,X[i,1]+.3], facecolor='green', alpha=0.3)\n",
      "       pylab.fill_between([X[i,0],X[i,0]+.4], [X[i,1]-.4,X[i,1]-.4], [X[i,1]+.3,X[i,1]+.3], facecolor='red', alpha=0.3)\n",
      "       pylab.text(X[i,0]-0.2, X[i,1], '%d' % sample['sample1'][i], ha='center', va='center', size=10)\n",
      "   pylab.gca().set_xticks([]);    pylab.gca().set_xlim([-1,11])\n",
      "   pylab.gca().set_yticks([]);    pylab.gca().set_ylim([-1,21])\n",
      "\n",
      "pylab.title(\"proportion(treatment)=%0.2f\" % treatment_sample.mean())"
     ],
     "language": "python",
     "metadata": {},
     "outputs": [
      {
       "metadata": {},
       "output_type": "pyout",
       "prompt_number": 14,
       "text": [
        "<matplotlib.text.Text at 0x1141e62d0>"
       ]
      },
      {
       "metadata": {},
       "output_type": "display_data",
       "png": "[encoded data removed]",
       "text": [
        "<matplotlib.figure.Figure at 0x110ca9b10>"
       ]
      }
     ],
     "prompt_number": 14
    },
    {
     "cell_type": "markdown",
     "metadata": {},
     "source": [
      "\n",
      "Treatment group (observed)."
     ]
    },
    {
     "cell_type": "heading",
     "level": 3,
     "metadata": {
      "slideshow": {
       "slide_type": "slide"
      }
     },
     "source": [
      "Box model (for binary outcome)"
     ]
    },
    {
     "cell_type": "code",
     "collapsed": false,
     "input": [
      "\n",
      "\n",
      "for i in range(200):\n",
      "   if treatment[i]:\n",
      "       pylab.fill_between([X[i,0]-.4,X[i,0]], [X[i,1]-.4,X[i,1]-.4], [X[i,1]+.3,X[i,1]+.3], facecolor='green', alpha=0.3)\n",
      "       pylab.fill_between([X[i,0],X[i,0]+.4], [X[i,1]-.4,X[i,1]-.4], [X[i,1]+.3,X[i,1]+.3], facecolor='red', alpha=0.3)\n",
      "       pylab.text(X[i,0]+0.2, X[i,1], '%d' % sample['sample2'][i], ha='center', va='center', size=10)\n",
      "   pylab.gca().set_xticks([]);    pylab.gca().set_xlim([-1,11])\n",
      "   pylab.gca().set_yticks([]);    pylab.gca().set_ylim([-1,21])\n",
      "\n",
      "pylab.title(\"proportion(standard of care)=%0.2f\" % placebo_sample.mean())"
     ],
     "language": "python",
     "metadata": {},
     "outputs": [
      {
       "metadata": {},
       "output_type": "pyout",
       "prompt_number": 15,
       "text": [
        "<matplotlib.text.Text at 0x1121309d0>"
       ]
      },
      {
       "metadata": {},
       "output_type": "display_data",
       "png": "[encoded data removed]",
       "text": [
        "<matplotlib.figure.Figure at 0x1145c9f10>"
       ]
      }
     ],
     "prompt_number": 15
    },
    {
     "cell_type": "markdown",
     "metadata": {},
     "source": [
      "\n",
      "Standard of care group (observed)."
     ]
    },
    {
     "cell_type": "heading",
     "level": 3,
     "metadata": {
      "slideshow": {
       "slide_type": "slide"
      }
     },
     "source": [
      "Box model (for binary outcome)"
     ]
    },
    {
     "cell_type": "code",
     "collapsed": false,
     "input": [
      "\n",
      "\n",
      "for i in range(200):\n",
      "   pylab.fill_between([X[i,0]-.4,X[i,0]], [X[i,1]-.4,X[i,1]-.4], [X[i,1]+.3,X[i,1]+.3], facecolor='green', alpha=0.3)\n",
      "   pylab.fill_between([X[i,0],X[i,0]+.4], [X[i,1]-.4,X[i,1]-.4], [X[i,1]+.3,X[i,1]+.3], facecolor='red', alpha=0.3)\n",
      "   if treatment[i]:\n",
      "       pylab.text(X[i,0]-0.2, X[i,1], '%d' % sample['sample1'][i], ha='center', va='center', size=10)\n",
      "   elif not treatment[i]:\n",
      "       pylab.text(X[i,0]+0.2, X[i,1], '%d' % sample['sample2'][i], ha='center', va='center', size=10)\n",
      "pylab.gca().set_xticks([]);    pylab.gca().set_xlim([-1,11])\n",
      "pylab.gca().set_yticks([]);    pylab.gca().set_ylim([-1,21])"
     ],
     "language": "python",
     "metadata": {},
     "outputs": [
      {
       "metadata": {},
       "output_type": "pyout",
       "prompt_number": 16,
       "text": [
        "(-1, 21)"
       ]
      },
      {
       "metadata": {},
       "output_type": "display_data",
       "png": "[encoded data removed]",
       "text": [
        "<matplotlib.figure.Figure at 0x1145c9d50>"
       ]
      }
     ],
     "prompt_number": 16
    },
    {
     "cell_type": "markdown",
     "metadata": {},
     "source": [
      "\n",
      "The entire sample (observed)."
     ]
    },
    {
     "cell_type": "heading",
     "level": 3,
     "metadata": {
      "slideshow": {
       "slide_type": "slide"
      }
     },
     "source": [
      "Binary response"
     ]
    },
    {
     "cell_type": "markdown",
     "metadata": {},
     "source": [
      "\n",
      "Example (continued)\n",
      "\n",
      "* We know $$\n",
      "* <sup></sup> &= 82 %\n",
      "   &= = 3.8%\n",
      "  <sup></sup> &= 82 %\n",
      "   &= = 4.7%\n",
      "  \n",
      "* $\\end{itemize}\n",
      "     \\end{block}\n",
      "     \\end{frame}\n",
      "  \n",
      "     \n",
      "     \\begin{frame} \\frametitle{Binary response}\n",
      "  \n",
      "     \\begin{block}\n",
      "     {Example (continued)}\n",
      "  \n",
      "     \\begin{itemize}\n",
      "  \n",
      "     \\item Therefore,$ = = 6.1% $and$ z = = 2.6 $$\n",
      "* The one-sided $P$-value is .5%, when we test $H_0: {\\color{green} {p}_{\\text{treatment}}} \\geq {\\color{red} {p}_{\\text{standard}}}.$"
     ]
    }
   ],
   "metadata": {}
  }
 ]
}
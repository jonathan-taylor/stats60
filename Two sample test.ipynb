{
 "cells": [
  {
   "cell_type": "code",
   "execution_count": null,
   "metadata": {
    "collapsed": false,
    "slideshow": {
     "slide_type": "skip"
    }
   },
   "outputs": [],
   "source": [
    "%matplotlib inline\n",
    "import matplotlib.pyplot as plt\n",
    "from matplotlib.mlab import csv2rec\n",
    "import numpy as np\n",
    "from numpy import mean, std, fabs\n",
    "\n",
    "# stats60 specific\n",
    "\n",
    "figsize = (8,8)"
   ]
  },
  {
   "cell_type": "markdown",
   "metadata": {
    "slideshow": {
     "slide_type": "slide"
    }
   },
   "source": [
    "## NAEP reading test\n",
    "\n",
    "* In 1990, sample average was 290, SD 37 (sample size 1000).\n",
    "* In 2004, sample average was 285, SD 40 (sample size 1000).\n",
    "* Is this chance variation, or has something changed?"
   ]
  },
  {
   "cell_type": "markdown",
   "metadata": {
    "slideshow": {
     "slide_type": "slide"
    }
   },
   "source": [
    "## A two-box model\n",
    "\n",
    "* One box for 1990, average(1990 sample) = 290, SD(1990 sample) = 37.\n",
    "* A second box for 2004, average(2004 sample) = 285, SD(2004 sample) = 40.\n",
    "* So, $$\\begin{aligned}\n",
    "     \\text{SE(average(1990 sample))} &\\approx 37 / \\sqrt{1000} \\\\\n",
    "      &\\approx 1.2\\\\\n",
    "     \\text{SE(average(2004 sample))} &\\approx 40 / \\sqrt{1000} \\\\\n",
    "     &\\approx 1.3\\\\\n",
    "     \\end{aligned}$$"
   ]
  },
  {
   "cell_type": "markdown",
   "metadata": {
    "slideshow": {
     "slide_type": "slide"
    }
   },
   "source": [
    "## Two boxes\n",
    "\n",
    "* The null hypothesis is:  \"the average of the 1990 equals (or is less than or equal to) the average of the 2004 box.\"\n",
    "  \n",
    "* The alternative is  \"the average of the 1990 box is greater than the average of the 2004 box.\"\n",
    "\n",
    "* Again, this is not quite correct to choose the alternative after seeing\n",
    "a decrease.\n",
    "  \n",
    "* Our  $z$-score\n",
    "   should  have numerator\n",
    "   $$285 - 290 - 0.$$\n",
    "\n",
    "* We are using $$ \\text{average(2004 sample) - average(1990 sample)}$$ to estimate the difference between the average of the 2004 and 1990 box averages.\n",
    "\n",
    "* What about the denominator?"
   ]
  },
  {
   "cell_type": "markdown",
   "metadata": {
    "slideshow": {
     "slide_type": "slide"
    }
   },
   "source": [
    "## SE of a difference\n",
    "\n",
    "* The denominator should be \n",
    "$$ \\text{SE[average(2004 sample) -\n",
    "     average(1990 sample)]}.$$\n",
    "* The SE of the difference of two **independent**\n",
    "   quantities can be found from the individual SEs.\n",
    "* For our two box model, the  **average(1990 sample)**\n",
    "   is independent of the  **average(2004 sample)**.\n",
    "* The rule is \n",
    "$$\\begin{aligned}\n",
    "   \\text{SE[average(2004 sample) -\n",
    "     average(1990 sample)]} = \\sqrt{\\text{SE(1990 sample)^2 + SE(2004 sample)^2}}\n",
    "     \\end{aligned}$$"
   ]
  },
  {
   "cell_type": "markdown",
   "metadata": {
    "slideshow": {
     "slide_type": "slide"
    }
   },
   "source": [
    "## Back to the NAEP\n",
    "\n",
    "* Applying the rule, \n",
    "$$\n",
    " \\text{SE[average(2004 sample) -\n",
    "     average(1990 sample)]} = \\sqrt{1.2^2+1.3^2} \\approx 1.8\n",
    "$$\n",
    "\n",
    "* The $z$-statistic is $$z = \\frac{-5}{1.8} \\approx -2.8.$$\n",
    "* The one-sided $P$-value is about 0.3%.\n",
    "* The two-sided $P$-value (the better one to use, in my opinion) is 0.6%."
   ]
  },
  {
   "cell_type": "markdown",
   "metadata": {
    "slideshow": {
     "slide_type": "slide"
    }
   },
   "source": [
    "## An example with proportions\n",
    "\n",
    "* In 1999, 13% of the 17 year-old students had taken calculus compared to 17% in 2004 according to the NAEP samples. Is the difference real or chance variation?\n",
    "* This question asks us to compare two proportions. We can take the null hypothesis to be \"the proportion of 17 year olds who took calculus in 1999 is equal to (or greater than or equal to) the proportion who took calculus in 2004.\"\n",
    "* The alternative is \"the proportion of 17 year olds who took calculus in 1999 is less than the proportion who took calculus in 2004.\"\n",
    "* This is another example of choosing the hypothesis after seeing the data. Bad."
   ]
  },
  {
   "cell_type": "markdown",
   "metadata": {
    "slideshow": {
     "slide_type": "slide"
    }
   },
   "source": [
    "## SE of the difference of two propotions\n",
    "\n",
    "* We could rewrite this as $H_0: p_{1999} \\geq p_{2004}$ vs. $H_a:p_{1999} < p_{2004}$.\n",
    "* Our sample estimates are $\\widehat{p}_{1999}=13\\%, \\widehat{p}_{2004}=17\\%$.\n",
    "* They have estimated standard errors: $$\\text{SE}(\\widehat{p}_{1999}) \\approx \\sqrt{0.13 \\times 0.87 / 1000} = 1.1\\%,$$\n",
    "$$\\text{SE}(\\widehat{p}_{2004}) \\approx \\sqrt{0.17 \\times 0.83 / 1000} = 1.2\\%.$$\n",
    "\n",
    "* The of the difference is $\\text{SE}(\\widehat{p}_{1999} - \\widehat{p}_{2004}) \\approx \\sqrt{1.1^2 + 1.2^2} \\approx 1.6\\%.$\n",
    "\n",
    "* The $z$-score is $$z = \\frac{13 - 17 - 0}{1.6} \\approx -2.5$$\n",
    "* The one-sided $P$-value is about 1%.\n",
    "* The two-sided $P$-value (the better one to use, in my opinion) is about 2%."
   ]
  },
  {
   "cell_type": "markdown",
   "metadata": {
    "slideshow": {
     "slide_type": "slide"
    }
   },
   "source": [
    "## Randomized experiments\n",
    "\n",
    "* This *two-sample $z$-test*\n",
    "   can also be used for randomized controlled experiments.\n",
    "* Example: 200 subjects are split randomly into treatment and placebo in a study on vitamin C on the number of colds.\n",
    "* In the treatment group **average(treatment group)=2.3, SD(treatment group) = 3.1.**\n",
    "* In the placebo group **average(placebo group)=2.6, SD(placebo group) = 2.9.**\n",
    "* Is there a difference in the number of colds in treatment vs. placebo group?"
   ]
  },
  {
   "cell_type": "markdown",
   "metadata": {
    "slideshow": {
     "slide_type": "slide"
    }
   },
   "source": [
    "## Is it OK to use the difference formula here?\n",
    "\n",
    "* Naively applying the two sample $z$-test to this situation, yields $z = \\frac{(2.6 - 2.3) - 0}{\\sqrt{\\left(\\frac{2.9}{\\sqrt{100}}\\right)^2 + \\left(\\frac{3.1}{\\sqrt{100}}\\right)^2}} = \\frac{-0.3}{0.42} \\approx -0.7.$\n",
    "* If we had taken a one-sided alternative, this would be a $P$-value of about 25%.\n",
    "* Our two-box model does not *quite* apply here because the groups were selected from the same \"box\" of 200 subjects.\n",
    "* The two samples are not independent: if a patient is in treatment, he/she cannot also be in the control group.\n",
    "* However, the short answer is **yes, the SE of a difference formula is OK here\n",
    "because this was a randomized controlled experiment.**"
   ]
  },
  {
   "cell_type": "markdown",
   "metadata": {
    "slideshow": {
     "slide_type": "slide"
    }
   },
   "source": [
    "## Box model for experiment\n",
    "\n",
    "* The best box model for this randomized experiment is a box with 200 tickets.\n",
    "* Each ticket has two responses for each subject:\n",
    "*     * $A$: the number of colds if they receive the vitamin C;\n",
    "      * $B$: the number of colds if they receive the placebo.\n",
    "* In the experiment, we only observe $A$ or $B$ for each subject.\n",
    "* Which one we see depends on the randomization.\n",
    "* Statistical theory says the $z$-test is applicable if the sample is large enough to decide between the hypotheses\n",
    "    - $H_0: \\text{average of all $A$'s $\\geq$ average of all $B$'s}$ \n",
    "    - $H_a: \\text{average of all $A$'s $<$ average of all $B$'s}$ \n",
    "    "
   ]
  },
  {
   "cell_type": "markdown",
   "metadata": {
    "slideshow": {
     "slide_type": "slide"
    }
   },
   "source": [
    "## Complete data"
   ]
  },
  {
   "cell_type": "code",
   "execution_count": null,
   "metadata": {
    "collapsed": false,
    "slideshow": {
     "slide_type": "skip"
    }
   },
   "outputs": [],
   "source": [
    "%%capture\n",
    "sample_fig = plt.figure(figsize=figsize)\n",
    "ax = sample_fig.gca()\n",
    "np.random.seed(0)\n",
    "X = np.mgrid[0:10:10j,0:20:20j].reshape((2,200)) + np.random.sample((2,200)) * 0.05\n",
    "X = X.T\n",
    "sample = np.random.sample(200) \n",
    "\n",
    "data = csv2rec('data/vitaminC.csv')\n",
    "treatment_sample = data['treatment']\n",
    "placebo_sample = data['placebo']\n",
    "placebo = np.array([t == 'placebo' for t in data['group']], np.bool)\n",
    "\n",
    "idx = np.arange(200)\n",
    "np.random.shuffle(idx)\n",
    "\n",
    "placebo = placebo[idx]\n",
    "placebo_sample = placebo_sample[idx]\n",
    "treatment_sample = treatment_sample[idx]\n",
    "\n",
    "for i in range(200):\n",
    "   ax.fill_between([X[i,0]-.4,X[i,0]], [X[i,1]-.4,X[i,1]-.4], [X[i,1]+.3,X[i,1]+.3], facecolor='red', alpha=0.3)\n",
    "   ax.fill_between([X[i,0],X[i,0]+.4], [X[i,1]-.4,X[i,1]-.4], [X[i,1]+.3,X[i,1]+.3], facecolor='green', alpha=0.3)\n",
    "   ax.text(X[i,0]-0.2, X[i,1], '%d' % treatment_sample[i], ha='center', va='center', size=10)\n",
    "   ax.text(X[i,0]+0.2, X[i,1], '%d' % placebo_sample[i], ha='center', va='center', size=10)\n",
    "ax.set_xticks([]);    ax.set_xlim([-1,11])\n",
    "ax.set_yticks([]);    ax.set_ylim([-1,21])\n",
    "ax.set_title('Complete data (unobserved)', fontsize=15)"
   ]
  },
  {
   "cell_type": "code",
   "execution_count": null,
   "metadata": {
    "collapsed": false,
    "slideshow": {
     "slide_type": "fragment"
    }
   },
   "outputs": [],
   "source": [
    "sample_fig"
   ]
  },
  {
   "cell_type": "markdown",
   "metadata": {
    "slideshow": {
     "slide_type": "slide"
    }
   },
   "source": [
    "## Placebo group"
   ]
  },
  {
   "cell_type": "code",
   "execution_count": null,
   "metadata": {
    "collapsed": false,
    "slideshow": {
     "slide_type": "skip"
    }
   },
   "outputs": [],
   "source": [
    "%%capture\n",
    "placebo_fig = plt.figure(figsize=figsize)\n",
    "ax = placebo_fig.gca()\n",
    "for i in range(200):\n",
    "   if placebo[i]:\n",
    "       ax.fill_between([X[i,0]-.4,X[i,0]], [X[i,1]-.4,X[i,1]-.4], [X[i,1]+.3,X[i,1]+.3], facecolor='red', alpha=0.3)\n",
    "       ax.fill_between([X[i,0],X[i,0]+.4], [X[i,1]-.4,X[i,1]-.4], [X[i,1]+.3,X[i,1]+.3], facecolor='green', alpha=0.3)\n",
    "       ax.text(X[i,0]-0.2, X[i,1], '%d' % placebo_sample[i], ha='center', va='center', size=10)\n",
    "ax.set_xticks([]);    ax.set_xlim([-1,11])\n",
    "ax.set_yticks([]);    ax.set_ylim([-1,21])\n",
    "plt.title(\"Placebo sample: average(placebo)=%0.1f, SD(placebo)=%0.1f\" % (np.around(placebo_sample[placebo].mean(),1), np.around(placebo_sample[placebo].std(),1)))"
   ]
  },
  {
   "cell_type": "code",
   "execution_count": null,
   "metadata": {
    "collapsed": false,
    "slideshow": {
     "slide_type": "fragment"
    }
   },
   "outputs": [],
   "source": [
    "placebo_fig"
   ]
  },
  {
   "cell_type": "markdown",
   "metadata": {
    "slideshow": {
     "slide_type": "slide"
    }
   },
   "source": [
    "## Treatment group"
   ]
  },
  {
   "cell_type": "code",
   "execution_count": null,
   "metadata": {
    "collapsed": false,
    "slideshow": {
     "slide_type": "skip"
    }
   },
   "outputs": [],
   "source": [
    "%%capture\n",
    "treatment_fig = plt.figure(figsize=figsize)\n",
    "ax = treatment_fig.gca()\n",
    "for i in range(200):\n",
    "   if not placebo[i]:\n",
    "       ax.fill_between([X[i,0]-.4,X[i,0]], [X[i,1]-.4,X[i,1]-.4], [X[i,1]+.3,X[i,1]+.3], facecolor='red', alpha=0.3)\n",
    "       ax.fill_between([X[i,0],X[i,0]+.4], [X[i,1]-.4,X[i,1]-.4], [X[i,1]+.3,X[i,1]+.3], facecolor='green', alpha=0.3)\n",
    "       ax.text(X[i,0]+0.2, X[i,1], '%d' % treatment_sample[i], ha='center', va='center', size=10)\n",
    "ax.set_xticks([]);    ax.set_xlim([-1,11])\n",
    "ax.set_yticks([]);    ax.set_ylim([-1,21])\n",
    "plt.title(\"Treatment sample: average(treatment)=%0.1f, SD(treatment)=%0.1f\" % (treatment_sample[~placebo].mean(), treatment_sample[~placebo].std()))\n"
   ]
  },
  {
   "cell_type": "code",
   "execution_count": null,
   "metadata": {
    "collapsed": false,
    "slideshow": {
     "slide_type": "fragment"
    }
   },
   "outputs": [],
   "source": [
    "treatment_fig"
   ]
  },
  {
   "cell_type": "markdown",
   "metadata": {
    "slideshow": {
     "slide_type": "slide"
    }
   },
   "source": [
    "## Observed data"
   ]
  },
  {
   "cell_type": "code",
   "execution_count": null,
   "metadata": {
    "collapsed": false,
    "slideshow": {
     "slide_type": "skip"
    }
   },
   "outputs": [],
   "source": [
    "%%capture\n",
    "observed_fig = plt.figure(figsize=figsize)\n",
    "ax = observed_fig.gca()\n",
    "for i in range(200):\n",
    "   ax.fill_between([X[i,0]-.4,X[i,0]], [X[i,1]-.4,X[i,1]-.4], [X[i,1]+.3,X[i,1]+.3], facecolor='red', alpha=0.3)\n",
    "   ax.fill_between([X[i,0],X[i,0]+.4], [X[i,1]-.4,X[i,1]-.4], [X[i,1]+.3,X[i,1]+.3], facecolor='green', alpha=0.3)\n",
    "   if not placebo[i]:\n",
    "       ax.text(X[i,0]-0.2, X[i,1], '%d' % treatment_sample[i], ha='center', va='center', size=10)\n",
    "   elif placebo[i]:\n",
    "       ax.text(X[i,0]+0.2, X[i,1], '%d' % placebo_sample[i], ha='center', va='center', size=10)\n",
    "ax.set_xticks([]);    ax.set_xlim([-1,11])\n",
    "ax.set_yticks([]);    ax.set_ylim([-1,21])"
   ]
  },
  {
   "cell_type": "code",
   "execution_count": null,
   "metadata": {
    "collapsed": false,
    "slideshow": {
     "slide_type": "fragment"
    }
   },
   "outputs": [],
   "source": [
    "observed_fig"
   ]
  },
  {
   "cell_type": "markdown",
   "metadata": {
    "slideshow": {
     "slide_type": "slide"
    }
   },
   "source": [
    "## Carrying out the test\n",
    "\n",
    "* We know $$\\begin{aligned}\n",
    "       \\text{average(treatment)} &= 2.6 \\\\\n",
    "       \\text{SE(average(treatment))} &= 2.9 / \\sqrt{100} = 0.29 \\\\\n",
    "       \\text{average(placebo)} &= 2.3 \\\\\n",
    "       \\text{SE(average(placebo))} &= 3.1 / \\sqrt{100} = 0.31 \\\\\n",
    "       \\end{aligned}$$\n",
    "       \n",
    "* Therefore, $$\\begin{aligned}\n",
    "       \\text{SE(average(treatment)-average(placebo))}\n",
    "       & = \\sqrt{0.31^2+0.29^2} \\\\\n",
    "       &= 0.42\n",
    "       \\end{aligned}$$\n",
    " and $$z = \\frac{2.3-2.6}{0.42} = -0.7$$\n",
    "       \n",
    "* The one-sided $P$-value is 18%, when we test $$H_0: \\text{average of all $A$'s $\\geq$ average of all $B$'s}.$$\n"
   ]
  },
  {
   "cell_type": "markdown",
   "metadata": {
    "slideshow": {
     "slide_type": "slide"
    }
   },
   "source": [
    "## Randomized experiments for binary responses\n",
    "\n",
    "* The randomization model is not applicable only to quantitative things like the number of colds. The tickets can have 0-1 values.\n",
    "* In an example discussed in the book, doctors are asked to \n",
    "read information about a surgical procedure and decide whether or\n",
    "not to recommend surgery or radiation.\n",
    "* There are two groups, each given different forms (A and B) which have\n",
    "the same numerical data but worded slightly differently.\n",
    "* We assume that there are two responses for each doctor: one\n",
    "if they had read form A, the other if they had read form B.\n",
    "* In the experiment, we only observe ${A}$ or ${B}$ for each subject.\n",
    "* Which one we see depends on the randomization.\n",
    "* Statistical theory says the $z$-test is applicable if the sample is large enough to test $$H_0: \\text{proportion of all 1's in $A$} \\geq \n",
    " \\text{proportion of all 1's in $B$}$$\n",
    "against the alternative\n",
    " $$H_0: \\text{proportion of all 1's in $A$} < \n",
    " \\text{proportion of all 1's in $B$}$$"
   ]
  },
  {
   "cell_type": "markdown",
   "metadata": {
    "slideshow": {
     "slide_type": "slide"
    }
   },
   "source": [
    "### Box model for binary outcome"
   ]
  },
  {
   "cell_type": "code",
   "execution_count": null,
   "metadata": {
    "collapsed": false,
    "slideshow": {
     "slide_type": "skip"
    }
   },
   "outputs": [],
   "source": [
    "%%capture\n",
    "forms = np.array([1]*80 + [0]*87, np.bool)\n",
    "box_fig = plt.figure(figsize=figsize)\n",
    "ax = box_fig.gca()\n",
    "np.random.seed(0)\n",
    "X = np.mgrid[0:1:2j,0:1:2j].reshape((2,4))  # + np.random.sample((2,4)) * 0.05\n",
    "X = X.T\n",
    "\n",
    "sampleA = np.array([0,0,1,1])\n",
    "sampleB = np.array([0,1,0,1])\n",
    "for i in range(4):\n",
    "    \n",
    "   ax.fill_between([X[i,0]-.4,X[i,0]], [X[i,1]-.4,X[i,1]-.4], [X[i,1]+.4,X[i,1]+.4], facecolor='green', alpha=0.3)\n",
    "   ax.fill_between([X[i,0],X[i,0]+.4], [X[i,1]-.4,X[i,1]-.4], [X[i,1]+.4,X[i,1]+.4], facecolor='red', alpha=0.3)\n",
    "   ax.text(X[i,0]-0.2, X[i,1], '%d' % sampleA[i], ha='center', va='center', size=20)\n",
    "   ax.text(X[i,0]+0.2, X[i,1], '%d' % sampleB[i], ha='center', va='center', size=20)\n",
    "ax.set_xticks([]);    ax.set_xlim([-0.8,1.8])\n",
    "ax.set_yticks([]);    ax.set_ylim([-0.6,1.6])\n",
    "ax.set_title('Box model', fontsize=15)"
   ]
  },
  {
   "cell_type": "code",
   "execution_count": null,
   "metadata": {
    "collapsed": false,
    "slideshow": {
     "slide_type": "fragment"
    }
   },
   "outputs": [],
   "source": [
    "box_fig"
   ]
  },
  {
   "cell_type": "markdown",
   "metadata": {
    "slideshow": {
     "slide_type": "fragment"
    }
   },
   "source": [
    "### Box model\n",
    "\n",
    "- Tickets are drawn repeatedly at random from the above box \n",
    "with **weights**.\n",
    "\n",
    "- Alternatively, box could have many more tickets and the **weights**\n",
    "represent the proportion the above 4 choices appear in the big box."
   ]
  },
  {
   "cell_type": "markdown",
   "metadata": {
    "slideshow": {
     "slide_type": "slide"
    }
   },
   "source": [
    "### Complete data"
   ]
  },
  {
   "cell_type": "code",
   "execution_count": null,
   "metadata": {
    "collapsed": false,
    "slideshow": {
     "slide_type": "skip"
    }
   },
   "outputs": [],
   "source": [
    "%%capture\n",
    "forms = np.array([1]*80 + [0]*87, np.bool)\n",
    "binary_fig = plt.figure(figsize=figsize)\n",
    "ax = binary_fig.gca()\n",
    "np.random.seed(0)\n",
    "X = np.mgrid[0:10:10j,0:20:17j].reshape((2,170))   + np.random.sample((2,170)) * 0.05\n",
    "X = X.T\n",
    "\n",
    "while True:\n",
    "    sample1 = np.random.binomial(1, 0.5, size=80)\n",
    "    sample2 = np.random.binomial(1, 0.84, size=87)\n",
    "    if sample1.sum() == 40 and sample2.sum() == 73:\n",
    "        break\n",
    "sampleA = np.hstack([sample1, np.random.binomial(1,0.6, size=87)])\n",
    "sampleB = np.hstack([np.random.binomial(1,0.6, size=80), sample2])\n",
    "idx = np.arange(sampleA.shape[0])\n",
    "np.random.shuffle(idx)\n",
    "forms = forms[idx]\n",
    "sampleA = sampleA[idx]\n",
    "sampleB = sampleB[idx]\n",
    "\n",
    "for i in range(sampleA.shape[0]):\n",
    "   ax.fill_between([X[i,0]-.4,X[i,0]], [X[i,1]-.4,X[i,1]-.4], [X[i,1]+.3,X[i,1]+.3], facecolor='green', alpha=0.3)\n",
    "   ax.fill_between([X[i,0],X[i,0]+.4], [X[i,1]-.4,X[i,1]-.4], [X[i,1]+.3,X[i,1]+.3], facecolor='red', alpha=0.3)\n",
    "   ax.text(X[i,0]-0.2, X[i,1], '%d' % sampleA[i], ha='center', va='center', size=10)\n",
    "   ax.text(X[i,0]+0.2, X[i,1], '%d' % sampleB[i], ha='center', va='center', size=10)\n",
    "ax.set_xticks([]);    ax.set_xlim([-1,11])\n",
    "ax.set_yticks([]);    ax.set_ylim([-1,21])\n",
    "ax.set_title('Complete data (unobserved)', fontsize=15)"
   ]
  },
  {
   "cell_type": "code",
   "execution_count": null,
   "metadata": {
    "collapsed": false,
    "slideshow": {
     "slide_type": "fragment"
    }
   },
   "outputs": [],
   "source": [
    "binary_fig"
   ]
  },
  {
   "cell_type": "markdown",
   "metadata": {
    "slideshow": {
     "slide_type": "slide"
    }
   },
   "source": [
    "## Doctors receiving form A"
   ]
  },
  {
   "cell_type": "code",
   "execution_count": null,
   "metadata": {
    "collapsed": false,
    "slideshow": {
     "slide_type": "skip"
    }
   },
   "outputs": [],
   "source": [
    "%%capture\n",
    "formA_fig = plt.figure(figsize=figsize)\n",
    "ax = formA_fig.gca()\n",
    "for i in range(forms.shape[0]):\n",
    "   if forms[i]:\n",
    "       ax.fill_between([X[i,0]-.4,X[i,0]], [X[i,1]-.4,X[i,1]-.4], [X[i,1]+.3,X[i,1]+.3], facecolor='green', alpha=0.3)\n",
    "       ax.fill_between([X[i,0],X[i,0]+.4], [X[i,1]-.4,X[i,1]-.4], [X[i,1]+.3,X[i,1]+.3], facecolor='red', alpha=0.3)\n",
    "       ax.text(X[i,0]-0.2, X[i,1], '%d' % sampleA[i], ha='center', va='center', size=10)\n",
    "\n",
    "ax.set_xticks([]);    ax.set_xlim([-1,11])\n",
    "ax.set_yticks([]);    ax.set_ylim([-1,21])\n",
    "ax.set_title(\"Form A: average(surgery)=%0.2f\" % (sampleA[forms].mean()))\n"
   ]
  },
  {
   "cell_type": "code",
   "execution_count": null,
   "metadata": {
    "collapsed": false,
    "slideshow": {
     "slide_type": "fragment"
    }
   },
   "outputs": [],
   "source": [
    "formA_fig"
   ]
  },
  {
   "cell_type": "markdown",
   "metadata": {
    "slideshow": {
     "slide_type": "slide"
    }
   },
   "source": [
    "## Doctors receiving form B"
   ]
  },
  {
   "cell_type": "code",
   "execution_count": null,
   "metadata": {
    "collapsed": false,
    "slideshow": {
     "slide_type": "skip"
    }
   },
   "outputs": [],
   "source": [
    "%%capture\n",
    "formB_fig = plt.figure(figsize=figsize)\n",
    "ax = formB_fig.gca()\n",
    "for i in range(forms.shape[0]):\n",
    "   if not forms[i]:\n",
    "       ax.fill_between([X[i,0]-.4,X[i,0]], [X[i,1]-.4,X[i,1]-.4], [X[i,1]+.3,X[i,1]+.3], facecolor='green', alpha=0.3)\n",
    "       ax.fill_between([X[i,0],X[i,0]+.4], [X[i,1]-.4,X[i,1]-.4], [X[i,1]+.3,X[i,1]+.3], facecolor='red', alpha=0.3)\n",
    "       ax.text(X[i,0]+0.2, X[i,1], '%d' % sampleB[i], ha='center', va='center', size=10)\n",
    "ax.set_xticks([]);    ax.set_xlim([-1,11])\n",
    "ax.set_yticks([]);    ax.set_ylim([-1,21])\n",
    "ax.set_title(\"Form B: average(surgery)=%0.2f\" % (sampleB[~forms].mean()))\n"
   ]
  },
  {
   "cell_type": "code",
   "execution_count": null,
   "metadata": {
    "collapsed": false,
    "slideshow": {
     "slide_type": "fragment"
    }
   },
   "outputs": [],
   "source": [
    "formB_fig"
   ]
  },
  {
   "cell_type": "markdown",
   "metadata": {
    "slideshow": {
     "slide_type": "slide"
    }
   },
   "source": [
    "### Observed data"
   ]
  },
  {
   "cell_type": "code",
   "execution_count": null,
   "metadata": {
    "collapsed": false,
    "slideshow": {
     "slide_type": "skip"
    }
   },
   "outputs": [],
   "source": [
    "%%capture\n",
    "observed_fig = plt.figure(figsize=figsize)\n",
    "ax = observed_fig.gca()\n",
    "for i in range(forms.shape[0]):\n",
    "   ax.fill_between([X[i,0]-.4,X[i,0]], [X[i,1]-.4,X[i,1]-.4], [X[i,1]+.3,X[i,1]+.3], facecolor='green', alpha=0.3)\n",
    "   ax.fill_between([X[i,0],X[i,0]+.4], [X[i,1]-.4,X[i,1]-.4], [X[i,1]+.3,X[i,1]+.3], facecolor='red', alpha=0.3)\n",
    "   if forms[i]:\n",
    "       ax.text(X[i,0]-0.2, X[i,1], '%d' % sampleA[i], ha='center', va='center', size=10)\n",
    "   else:\n",
    "       ax.text(X[i,0]+0.2, X[i,1], '%d' % sampleB[i], ha='center', va='center', size=10)\n",
    "ax.set_xticks([]);    ax.set_xlim([-1,11])\n",
    "ax.set_yticks([]);    ax.set_ylim([-1,21])\n",
    "ax.set_title('Observed data: average(surgery,A), average(surgery, B) = (%0.2f,%0.2f)' % (sampleA[forms].mean(), sampleB[~forms].mean()))"
   ]
  },
  {
   "cell_type": "code",
   "execution_count": null,
   "metadata": {
    "collapsed": false,
    "slideshow": {
     "slide_type": "fragment"
    }
   },
   "outputs": [],
   "source": [
    "observed_fig"
   ]
  },
  {
   "cell_type": "markdown",
   "metadata": {
    "slideshow": {
     "slide_type": "slide"
    }
   },
   "source": [
    "## Carrying out the test\n",
    "\n",
    "* The numerator is $0.84 - 0.5$. What about the denominator?\n",
    "\n",
    "* Our estimate of SE is\n",
    "$$\n",
    "\\sqrt{0.5 * 0.5 / 80 + 0.87 * 0.13 / 87} \\approx 6.7%\n",
    "$$\n",
    "(The book gets 6.8% by doing some different rounding.)\n",
    "\n",
    "    - The quantity $0.5 * 0.5 / 80$ is our bootstrap estimate of the SE (squared)\n",
    "    of those doctors who read form A.\n",
    "    \n",
    "    - The quantity $0.87 * 0.13 / 87$ is our bootstrap estimate of the SE (squared)\n",
    "    of those doctors who read form B.\n",
    "      \n",
    "- Our $z$-score is \n",
    "$$z = \\frac{0.5-0.84 - 0}{0.067} \\approx -5.1$$\n",
    "(The book gets 5 by doing different rounding and using opposite sign for\n",
    "numerator).\n",
    "- The one-sided $P$-value is almost 0 (as is the two-sided $P$-value which is the\n",
    "more appropriate quantity to report here).\n",
    "\n"
   ]
  },
  {
   "cell_type": "markdown",
   "metadata": {
    "slideshow": {
     "slide_type": "slide"
    }
   },
   "source": [
    "## When is the $z$-test OK to use?\n",
    "\n",
    "- The book discusses when it is OK to use the $z$-test.\n",
    "- Here, the book is specifically referring to when the $z$-test can be\n",
    "used for comparing two groups.\n",
    "- It is OK to use the $z$-test to compare two groups\n",
    "where the data are *independent*.\n",
    "- It is also OK to use the $z$-test to compare two groups\n",
    "in a randomized controlled experiment with a treatment and a placebo.\n",
    "- For the randomized problems, the box model is that each ticket has\n",
    "two values: one if the subject receives treatment, a different\n",
    "one if the subject receives placebo.\n"
   ]
  }
 ],
 "metadata": {
  "celltoolbar": "Slideshow",
  "kernelspec": {
   "display_name": "Python 2",
   "language": "python",
   "name": "python2"
  },
  "language_info": {
   "codemirror_mode": {
    "name": "ipython",
    "version": 2
   },
   "file_extension": ".py",
   "mimetype": "text/x-python",
   "name": "python",
   "nbconvert_exporter": "python",
   "pygments_lexer": "ipython2",
   "version": "2.7.11"
  }
 },
 "nbformat": 4,
 "nbformat_minor": 0
}

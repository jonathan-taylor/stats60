{
 "metadata": {
  "name": ""
 },
 "nbformat": 3,
 "nbformat_minor": 0,
 "worksheets": [
  {
   "cells": [
    {
     "cell_type": "heading",
     "level": 3,
     "metadata": {
      "slideshow": {
       "slide_type": "slide"
      }
     },
     "source": [
      "Measurements"
     ]
    },
    {
     "cell_type": "markdown",
     "metadata": {},
     "source": [
      "\n",
      "Measurements and Data\n",
      "\n",
      "* We\u2019ve talked about summaries of a list of numbers so far...\n",
      "* All such numbers come from some *measurement procedure*\n",
      "  .\n",
      "* For example, Stanford frosh SAT scores were *measured*\n",
      "   when you had your best SAT score.\n",
      "* Book uses the example of $K_{20}$ the US national prototype kilogram."
     ]
    },
    {
     "cell_type": "heading",
     "level": 3,
     "metadata": {
      "slideshow": {
       "slide_type": "slide"
      }
     },
     "source": [
      "Measurement"
     ]
    },
    {
     "cell_type": "markdown",
     "metadata": {},
     "source": [
      "\n",
      "Measurement error (excerpt from book)\n",
      " *No matter how carefully it was made, a measurement could have come out a bit differently.*\n",
      "\n",
      "By how much?\n",
      " The best way to find out is to replicate the measurement.\n",
      "The SD of the replicates estimates the likely size of the chance error in a single measurement."
     ]
    },
    {
     "cell_type": "heading",
     "level": 3,
     "metadata": {
      "slideshow": {
       "slide_type": "slide"
      }
     },
     "source": [
      "Measurement"
     ]
    },
    {
     "cell_type": "markdown",
     "metadata": {},
     "source": [
      "\n",
      "Measurement model\n",
      "\n",
      "$\\text{individual measurement} = \\text{exact value} + \\text{chance error}$\n",
      "$\\Sigma$ notation\n",
      "\n",
      "* Call the individual measurement $M$\n",
      "* the exact value $\\mu$\n",
      "* the chance error $\\epsilon$\n",
      "$M = \\mu + \\epsilon$"
     ]
    },
    {
     "cell_type": "heading",
     "level": 3,
     "metadata": {
      "slideshow": {
       "slide_type": "slide"
      }
     },
     "source": [
      "Measurement"
     ]
    },
    {
     "cell_type": "markdown",
     "metadata": {},
     "source": [
      "\n",
      "Several measurements\n",
      "\n",
      "Produces a list with $n$ entries $\\text{individual measurement}_i = \\text{exact value} + \\text{chance error}_i$\n",
      "$\\Sigma$ notation\n",
      "\n",
      "Call our list of measurements $X=[X_1, \\dots, X_n]$. Then, $X_i = \\mu + \\epsilon_i$"
     ]
    },
    {
     "cell_type": "heading",
     "level": 3,
     "metadata": {
      "slideshow": {
       "slide_type": "slide"
      }
     },
     "source": [
      "Measurement"
     ]
    },
    {
     "cell_type": "markdown",
     "metadata": {},
     "source": [
      "\n",
      "Histogram of the measurements\n",
      "\n",
      "* Our measurement model says that the only thing changing between measurements is the chance error.\n",
      "* The histogram of the measurements will be the histogram of the *chance error*\n",
      "  , shifted to the *exact value*\n",
      "  .\n",
      "* In standard units, the histogram of the *measurements*\n",
      "   will look like the histogram of the *chance error*\n",
      "   in standard units.\n",
      "* If the normal curve fits the histogram of the *chance error*\n",
      "   well, it will fit the histogram of the *measurements*\n",
      "   well as well."
     ]
    },
    {
     "cell_type": "heading",
     "level": 3,
     "metadata": {
      "slideshow": {
       "slide_type": "slide"
      }
     },
     "source": [
      "Measurement"
     ]
    },
    {
     "cell_type": "markdown",
     "metadata": {},
     "source": [
      "\n",
      "Example: Weighing an apple\n",
      "\n",
      "* Suppose we have an apple that weights exactly 8 ounces.\n",
      "* Experiment: weigh the apple 100 different times.\n",
      "* If we know the exact weight of the apple is 8 ounces, we can find the chance errors."
     ]
    },
    {
     "cell_type": "heading",
     "level": 3,
     "metadata": {
      "slideshow": {
       "slide_type": "slide"
      }
     },
     "source": [
      "Histogram of apples"
     ]
    },
    {
     "cell_type": "code",
     "collapsed": false,
     "input": [
      "datadir = '/Users/jonathantaylor/stats-lecture-notes/data'\n",
      "data = csv2rec('%s/apples_oranges.csv' % datadir)['apple_errors'] + 8\n",
      "pylab.hist(data, bins=30, facecolor='blue', alpha=0.5)\n",
      "pylab.gca().set_yticks([])\n",
      "pylab.gca().set_xlabel('Weight of apple (ounces)')\n",
      "pylab.gca().set_title('Mean: %0.1f, SD: %0.1f' % (data.mean(), data.std()))"
     ],
     "language": "python",
     "metadata": {},
     "outputs": [
      {
       "metadata": {},
       "output_type": "pyout",
       "prompt_number": 3,
       "text": [
        "<matplotlib.text.Text at 0x10fa88990>"
       ]
      },
      {
       "metadata": {},
       "output_type": "display_data",
       "png": "[encoded data removed]",
       "text": [
        "<matplotlib.figure.Figure at 0x10f497190>"
       ]
      }
     ],
     "prompt_number": 3
    },
    {
     "cell_type": "heading",
     "level": 3,
     "metadata": {
      "slideshow": {
       "slide_type": "slide"
      }
     },
     "source": [
      "Histogram of chance error"
     ]
    },
    {
     "cell_type": "code",
     "collapsed": false,
     "input": [
      "data = csv2rec('%s/apples_oranges.csv' % datadir)['apple_errors']\n",
      "pylab.hist(data, bins=30, facecolor='blue', alpha=0.5)\n",
      "pylab.gca().set_yticks([])\n",
      "pylab.gca().set_xlabel('Chance error (ounces)')\n",
      "pylab.gca().set_title('Mean: %0.1f, SD: %0.1f' % (data.mean(), data.std()))"
     ],
     "language": "python",
     "metadata": {},
     "outputs": [
      {
       "metadata": {},
       "output_type": "pyout",
       "prompt_number": 4,
       "text": [
        "<matplotlib.text.Text at 0x10fab8f10>"
       ]
      },
      {
       "metadata": {},
       "output_type": "display_data",
       "png": "[encoded data removed]",
       "text": [
        "<matplotlib.figure.Figure at 0x10f493bd0>"
       ]
      }
     ],
     "prompt_number": 4
    },
    {
     "cell_type": "heading",
     "level": 3,
     "metadata": {
      "slideshow": {
       "slide_type": "slide"
      }
     },
     "source": [
      "Measurement"
     ]
    },
    {
     "cell_type": "markdown",
     "metadata": {},
     "source": [
      "\n",
      "Outliers\n",
      "\n",
      "* Not all individual measurements fit the normal curve.\n",
      "* This could be because the histogram of measurements *shouldn\u2019t*\n",
      "   fit the normal curve exactly \u2026\n",
      "* Or, an error was made in some of the measurements \u2026\n",
      "* Usually impossible to tell which \u2026"
     ]
    },
    {
     "cell_type": "heading",
     "level": 3,
     "metadata": {
      "slideshow": {
       "slide_type": "slide"
      }
     },
     "source": [
      "Bias: systematic error"
     ]
    },
    {
     "cell_type": "markdown",
     "metadata": {},
     "source": [
      "\n",
      "Conceptual definition (excerpt from book)\n",
      " *Bias affects all measurements the same way, pushing them in the same direction. Chance errors change from measurement to measurement, sometimes up and sometimes down.*\n"
     ]
    },
    {
     "cell_type": "heading",
     "level": 3,
     "metadata": {
      "slideshow": {
       "slide_type": "slide"
      }
     },
     "source": [
      "Measurement"
     ]
    },
    {
     "cell_type": "markdown",
     "metadata": {},
     "source": [
      "\n",
      "Measurement model\n",
      "\n",
      "$\\text{individual measurement} = \\text{exact value} + \\text{bias} + \\text{chance error}$\n",
      "$\\Sigma$ notation\n",
      "\n",
      "* Call the bias $B$\n",
      "$M = \\mu + B + \\epsilon$"
     ]
    },
    {
     "cell_type": "heading",
     "level": 3,
     "metadata": {
      "slideshow": {
       "slide_type": "slide"
      }
     },
     "source": [
      "Measurement with bias"
     ]
    },
    {
     "cell_type": "markdown",
     "metadata": {},
     "source": [
      "\n",
      "Several measurements\n",
      "\n",
      "Produces a list with $n$ entries $\\text{individual measurement}_i = \\text{exact value} + \\text{bias} + \\text{chance error}_i$\n",
      "$\\Sigma$ notation\n",
      "\n",
      "Call our list of measurements $X=[X_1, \\dots, X_n]$. Then, $X_i = \\mu + B + \\epsilon_i$"
     ]
    },
    {
     "cell_type": "heading",
     "level": 3,
     "metadata": {
      "slideshow": {
       "slide_type": "slide"
      }
     },
     "source": [
      "Histogram of apples with bias 2"
     ]
    },
    {
     "cell_type": "code",
     "collapsed": false,
     "input": [
      "data = csv2rec('%s/apples_oranges.csv' % datadir)['apple_errors'] + 8 + 2\n",
      "pylab.hist(data, bins=30, facecolor='blue', alpha=0.5, label='Biased')\n",
      "pylab.hist(data-2, bins=30, facecolor='red', alpha=0.5, label='Unbiased')\n",
      "pylab.legend()\n",
      "pylab.gca().set_yticks([])\n",
      "pylab.gca().set_xlabel('Weight of apple (ounces)')"
     ],
     "language": "python",
     "metadata": {},
     "outputs": [
      {
       "metadata": {},
       "output_type": "pyout",
       "prompt_number": 6,
       "text": [
        "<matplotlib.text.Text at 0x110429550>"
       ]
      },
      {
       "metadata": {},
       "output_type": "display_data",
       "png": "[encoded data removed]",
       "text": [
        "<matplotlib.figure.Figure at 0x10fa225d0>"
       ]
      }
     ],
     "prompt_number": 6
    },
    {
     "cell_type": "heading",
     "level": 3,
     "metadata": {
      "slideshow": {
       "slide_type": "slide"
      }
     },
     "source": [
      "Bias"
     ]
    },
    {
     "cell_type": "markdown",
     "metadata": {},
     "source": [
      "\n",
      "Problems encountered with bias\n",
      "\n",
      "* Bias doesn\u2019t disappear with repeated measurements $\\text{average}(\\text{list with bias}) = \\text{average}(\\text{unbiased list}) + \\text{bias}$\n",
      "* In $\\Sigma$ notation $\\bar{X} = \\mu + B + \\bar{\\epsilon}$\n",
      "* Becomes very worrying when trying to compare two averages."
     ]
    },
    {
     "cell_type": "heading",
     "level": 3,
     "metadata": {
      "slideshow": {
       "slide_type": "slide"
      }
     },
     "source": [
      "Measurement"
     ]
    },
    {
     "cell_type": "markdown",
     "metadata": {},
     "source": [
      "\n",
      "Example: Weighing an apple and an orange\n",
      "\n",
      "* Suppose we also have an orange that weights exactly 8 ounces.\n",
      "* We weigh the apple and orange 100 different times each.\n",
      "* The scale we use for the orange has same SD, but has a positive bias of 2 ounces."
     ]
    },
    {
     "cell_type": "heading",
     "level": 3,
     "metadata": {
      "slideshow": {
       "slide_type": "slide"
      }
     },
     "source": [
      "Histogram of apples and oranges"
     ]
    },
    {
     "cell_type": "code",
     "collapsed": false,
     "input": [
      "data = csv2rec('%s/apples_oranges.csv' % datadir)\n",
      "apples = data['apple_errors'] + 8\n",
      "oranges = data['orange_errors'] + 8 + 2\n",
      "pylab.hist(apples, bins=30, facecolor='blue', alpha=0.5, label='Apples')\n",
      "pylab.hist(oranges, bins=30, facecolor='red', alpha=0.5, label='Oranges')\n",
      "pylab.legend()\n",
      "# pylab.gca().set_yticks([])\n",
      "pylab.gca().set_xlabel('Weight (ounces)')"
     ],
     "language": "python",
     "metadata": {},
     "outputs": [
      {
       "metadata": {},
       "output_type": "pyout",
       "prompt_number": 8,
       "text": [
        "<matplotlib.text.Text at 0x1107f0a50>"
       ]
      },
      {
       "metadata": {},
       "output_type": "display_data",
       "png": "[encoded data removed]",
       "text": [
        "<matplotlib.figure.Figure at 0x110535b90>"
       ]
      }
     ],
     "prompt_number": 8
    },
    {
     "cell_type": "heading",
     "level": 3,
     "metadata": {
      "slideshow": {
       "slide_type": "slide"
      }
     },
     "source": [
      "Bias"
     ]
    },
    {
     "cell_type": "markdown",
     "metadata": {},
     "source": [
      "\n",
      "Dealing with bias\n",
      "\n",
      "* What if we weighed the apple half the time on one scale and half on the other?\n",
      "* And did the same with the oranges \u2026\n",
      "* Will the histogram still look like a normal curve?"
     ]
    },
    {
     "cell_type": "heading",
     "level": 3,
     "metadata": {
      "slideshow": {
       "slide_type": "slide"
      }
     },
     "source": [
      "Histogram of apples on two scales"
     ]
    },
    {
     "cell_type": "code",
     "collapsed": false,
     "input": [
      "apples = data['apple_errors'] + 8\n",
      "oranges = data['orange_errors'] + 8\n",
      "random = data['random']\n",
      "data = apples + random\n",
      "pylab.hist(data[random != 0], bins=30, facecolor='blue', alpha=0.5, label='Scale 2')\n",
      "pylab.hist(data[random == 0], bins=30, facecolor='red', alpha=0.5, label='Scale 1')\n",
      "pylab.legend()\n",
      "pylab.gca().set_title('Mean(scale 1): %0.1f, SD(scale 1): %0.1f; Mean(scale 2)=%0.1f, SD(scale 2)=%0.1f' % ((data[random == 0]).mean(), (data[random == 0]).std(), (data[random != 0]).mean(), (data[random != 0]).std()), size='small')\n",
      "pylab.gca().set_yticks([])\n",
      "pylab.gca().set_xlabel('Weight (ounces)')"
     ],
     "language": "python",
     "metadata": {},
     "outputs": [
      {
       "metadata": {},
       "output_type": "pyout",
       "prompt_number": 9,
       "text": [
        "<matplotlib.text.Text at 0x110ab0350>"
       ]
      },
      {
       "metadata": {},
       "output_type": "display_data",
       "png": "[encoded data removed]",
       "text": [
        "<matplotlib.figure.Figure at 0x110d06690>"
       ]
      }
     ],
     "prompt_number": 9
    },
    {
     "cell_type": "heading",
     "level": 3,
     "metadata": {
      "slideshow": {
       "slide_type": "slide"
      }
     },
     "source": [
      "Histogram of apples combined"
     ]
    },
    {
     "cell_type": "code",
     "collapsed": false,
     "input": [
      "data = csv2rec('%s/apples_oranges.csv' % datadir)\n",
      "apples = data['apple_errors'] + 8\n",
      "oranges = data['orange_errors'] + 8\n",
      "random = data['random']\n",
      "data = apples + random\n",
      "pylab.hist(data, bins=30, facecolor='blue', alpha=0.5, label='Combined')\n",
      "pylab.gca().set_yticks([])\n",
      "pylab.gca().set_xlabel('Weight (ounces)')\n",
      "pylab.gca().set_title('Mean: %0.1f, SD: %0.1f' % (data.mean(), data.std()))"
     ],
     "language": "python",
     "metadata": {},
     "outputs": [
      {
       "metadata": {},
       "output_type": "pyout",
       "prompt_number": 11,
       "text": [
        "<matplotlib.text.Text at 0x11121ba10>"
       ]
      },
      {
       "metadata": {},
       "output_type": "display_data",
       "png": "[encoded data removed]",
       "text": [
        "<matplotlib.figure.Figure at 0x110a74790>"
       ]
      }
     ],
     "prompt_number": 11
    },
    {
     "cell_type": "markdown",
     "metadata": {},
     "source": [
      "\n",
      "Close to a normal curve, but not quite"
     ]
    },
    {
     "cell_type": "heading",
     "level": 3,
     "metadata": {
      "slideshow": {
       "slide_type": "slide"
      }
     },
     "source": [
      "Histogram of apples & oranges with randomization"
     ]
    },
    {
     "cell_type": "code",
     "collapsed": false,
     "input": [
      "data = csv2rec('%s/apples_oranges.csv' % datadir)\n",
      "apples = data['apple_errors'] + 8\n",
      "oranges = data['orange_errors'] + 8\n",
      "random = data['random']\n",
      "data = apples + random\n",
      "pylab.hist(apples + random, bins=30, facecolor='blue', alpha=0.5, label='Apples')\n",
      "pylab.hist(oranges + 2 - random, bins=30, facecolor='red', alpha=0.5, label='Oranges')\n",
      "pylab.legend()\n",
      "pylab.gca().set_yticks([])\n",
      "pylab.gca().set_xlabel('Weight (ounces)')\n",
      "pylab.gca().set_title('Mean(apples): %0.1f, SD(apples): %0.1f; Mean(oranges)=%0.1f, SD(oranges)=%0.1f' % ((apples+random).mean(), (apples+random).std(), (oranges + 2 - random).mean(), (oranges + 2 - random).std()), size='small')"
     ],
     "language": "python",
     "metadata": {},
     "outputs": [
      {
       "metadata": {},
       "output_type": "pyout",
       "prompt_number": 12,
       "text": [
        "<matplotlib.text.Text at 0x111259fd0>"
       ]
      },
      {
       "metadata": {},
       "output_type": "display_data",
       "png": "[encoded data removed]",
       "text": [
        "<matplotlib.figure.Figure at 0x111247d50>"
       ]
      }
     ],
     "prompt_number": 12
    },
    {
     "cell_type": "heading",
     "level": 3,
     "metadata": {
      "slideshow": {
       "slide_type": "slide"
      }
     },
     "source": [
      "Bias"
     ]
    },
    {
     "cell_type": "markdown",
     "metadata": {},
     "source": [
      "\n",
      "Apples and oranges revisited\n",
      "\n",
      "* Randomizing the scale used didn\u2019t eliminate the bias of scale 2.\n",
      "* But, it made the bias the same in Apples and Oranges.\n",
      "* This allows us to compare Apples and Oranges fairly.\n",
      "* The weights of the apples and oranges were *confounded*\n",
      "   by the difference between the scales.\n",
      "* The variable that says which scale was used to make each weight is a *confounding variable*\n",
      "  .\n",
      "* Randomization allowed us to eliminate this confounder."
     ]
    },
    {
     "cell_type": "heading",
     "level": 3,
     "metadata": {
      "slideshow": {
       "slide_type": "slide"
      }
     },
     "source": [
      "Chance errors for apples & oranges with randomization"
     ]
    },
    {
     "cell_type": "code",
     "collapsed": false,
     "input": [
      "data = csv2rec('%s/apples_oranges.csv' % datadir)\n",
      "apples = data['apple_errors']\n",
      "oranges = data['orange_errors']\n",
      "random = data['random']\n",
      "data = apples + random\n",
      "pylab.hist(apples + random, bins=30, facecolor='blue', alpha=0.5, label='Apples')\n",
      "pylab.hist(oranges + 2 - random, bins=30, facecolor='red', alpha=0.5, label='Oranges')\n",
      "pylab.legend()\n",
      "pylab.gca().set_yticks([])\n",
      "pylab.gca().set_xlabel('Chance error (ounces)')\n",
      "pylab.gca().set_title('Mean(apples): %0.1f, SD(apples): %0.1f; Mean(oranges)=%0.1f, SD(oranges)=%0.1f' % ((apples+random).mean(), (apples+random).std(), (oranges + 2 - random).mean(), (oranges + 2 - random).std()), size='small')"
     ],
     "language": "python",
     "metadata": {},
     "outputs": [
      {
       "metadata": {},
       "output_type": "pyout",
       "prompt_number": 13,
       "text": [
        "<matplotlib.text.Text at 0x111787c10>"
       ]
      },
      {
       "metadata": {},
       "output_type": "display_data",
       "png": "[encoded data removed]",
       "text": [
        "<matplotlib.figure.Figure at 0x111251610>"
       ]
      }
     ],
     "prompt_number": 13
    },
    {
     "cell_type": "heading",
     "level": 3,
     "metadata": {
      "slideshow": {
       "slide_type": "slide"
      }
     },
     "source": [
      "Other \"measurements\""
     ]
    },
    {
     "cell_type": "markdown",
     "metadata": {},
     "source": [
      "\n",
      "Examples\n",
      "\n",
      "* Opinion polls. (Does our measurement model work here? What is bias?)\n",
      "* Weighing 100 different apples on Scale 1 instead of 1 apple 100 times. (Would you get the same SD? Would it be larger? Smaller?)\n",
      "* The SAT test is a measurement of \"aptitude\". Each time you take a test, there is a new measurement.\n",
      "* An MRI scan is a measurement (actually, several 100,000 measurements).\n",
      "* Body weight is a measurement."
     ]
    },
    {
     "cell_type": "code",
     "collapsed": false,
     "input": [],
     "language": "python",
     "metadata": {},
     "outputs": []
    }
   ],
   "metadata": {}
  }
 ]
}
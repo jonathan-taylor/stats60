{
 "metadata": {
  "celltoolbar": "Slideshow",
  "name": "",
  "signature": "sha256:fb9980c38323846247a53fe13ac8c640cf80c3c23b7c216583333468f56b1081"
 },
 "nbformat": 3,
 "nbformat_minor": 0,
 "worksheets": [
  {
   "cells": [
    {
     "cell_type": "markdown",
     "metadata": {
      "slideshow": {
       "slide_type": "slide"
      }
     },
     "prompt_number": 1,
     "source": [
      "## Measurements and Data\n",
      "\n",
      "* We\u2019ve talked about summaries of a list of numbers so far...\n",
      "* All such numbers come from some *measurement procedure*.\n",
      "* For example, Stanford frosh SAT scores were *measured*\n",
      "   when you had your best SAT score.\n",
      "* Book uses the example of $K_{20}$ the US national prototype kilogram."
     ]
    },
    {
     "cell_type": "heading",
     "level": 3,
     "metadata": {
      "slideshow": {
       "slide_type": "slide"
      }
     },
     "prompt_number": 1,
     "source": [
      "Measurement"
     ]
    },
    {
     "cell_type": "markdown",
     "metadata": {
      "slideshow": {
       "slide_type": "slide"
      }
     },
     "prompt_number": 1,
     "source": [
      "\n",
      "Measurement error (excerpt from book):\n",
      "\n",
      "      No matter how carefully it was made, \n",
      "      a measurement could have come out a bit differently.\n",
      "\n",
      "**But how much?**\n",
      "\n",
      "\n",
      "- The best way to find out is to replicate the measurement.\n",
      "\n",
      "- The SD of the replicates estimates the likely size of the chance error in a single measurement."
     ]
    },
    {
     "cell_type": "markdown",
     "metadata": {
      "slideshow": {
       "slide_type": "slide"
      }
     },
     "prompt_number": 1,
     "source": [
      "## Measurement model\n",
      "\n",
      "The basic measurement model is\n",
      "\n",
      "     individual measurement = exact value + chance error\n",
      "\n",
      "### Greek notation\n",
      "\n",
      "- Call the individual measurement $M$\n",
      "- the exact value $\\mu$\n",
      "- the chance error $\\epsilon$\n",
      "\n",
      "The measurement model is\n",
      "$$M = \\mu + \\epsilon$$"
     ]
    },
    {
     "cell_type": "markdown",
     "metadata": {
      "slideshow": {
       "slide_type": "slide"
      }
     },
     "prompt_number": 1,
     "source": [
      "### Repeated measurements\n",
      "\n",
      "This is a situation in which an experiment is \n",
      "repeated several times.\n",
      "\n",
      "Produces a list with $n$ entries \n",
      "\n",
      "$$\\text{individual measurement}_i = \\text{exact value} + \\text{chance error}_i$$\n",
      "\n",
      "### Greek notation\n",
      "\n",
      "- Call our list of measurements $[M_1, \\dots, M_n]$. \n",
      "- Then, $$M_i = \\mu + \\epsilon_i$$"
     ]
    },
    {
     "cell_type": "markdown",
     "metadata": {
      "slideshow": {
       "slide_type": "slide"
      }
     },
     "prompt_number": 1,
     "source": [
      "### Histogram of the measurements\n",
      "\n",
      "- Our measurement model says that the only thing changing between measurements is the chance error.\n",
      "-  The histogram of the measurements will be the histogram of the *chance error*\n",
      "  , shifted by the *exact value*.\n",
      "- In standard units, the histogram of the *measurements*\n",
      "   will look like the histogram of the *chance error*\n",
      "   in standard units.\n",
      "- If the normal curve fits the histogram of the *chance error*\n",
      "   well, it will fit the histogram of the *measurements*\n",
      "   well as well."
     ]
    },
    {
     "cell_type": "markdown",
     "metadata": {
      "slideshow": {
       "slide_type": "slide"
      }
     },
     "prompt_number": 1,
     "source": [
      "### Example: Weighing an apple\n",
      "\n",
      "* Suppose we have an apple that weights exactly 8 ounces.\n",
      "* Experiment: weigh the apple 100 different times.\n",
      "* If we know the exact weight of the apple is 8 ounces, we can find the chance errors."
     ]
    },
    {
     "cell_type": "heading",
     "level": 3,
     "metadata": {
      "slideshow": {
       "slide_type": "slide"
      }
     },
     "prompt_number": 1,
     "source": [
      "Histogram of apples"
     ]
    },
    {
     "cell_type": "code",
     "collapsed": false,
     "input": [
      "apple = np.random.standard_normal(5000)*1.2 + 8\n",
      "apple_fig = plt.figure(figsize=(10,10))\n",
      "apple_ax = apple_fig.gca()\n",
      "flat_density(apple, bins=30, ax=apple_ax, alpha=0.5, \n",
      "             facecolor='green')\n",
      "\n",
      "apple_ax.set_yticks([])\n",
      "apple_ax.set_xlabel('Weight of apple (ounces)', fontsize=20)\n",
      "apple_ax.set_title('Mean: %0.1f, SD: %0.1f' % (apple.mean(), apple.std()),\n",
      "                   fontsize=20)"
     ],
     "language": "python",
     "metadata": {},
     "outputs": [],
     "prompt_number": 1
    },
    {
     "cell_type": "heading",
     "level": 3,
     "metadata": {
      "slideshow": {
       "slide_type": "slide"
      }
     },
     "prompt_number": 2,
     "source": [
      "Histogram of chance error"
     ]
    },
    {
     "cell_type": "code",
     "collapsed": false,
     "input": [
      "error = apple - 8\n",
      "error_fig = plt.figure(figsize=(10,10))\n",
      "error_ax = error_fig.gca()\n",
      "flat_density(error, bins=30, ax=error_ax, alpha=0.5, \n",
      "             facecolor='red')\n",
      "\n",
      "error_ax.set_yticks([])\n",
      "error_ax.set_xlabel('Chance error (ounces)', fontsize=20)\n",
      "error_ax.set_title('Mean: %0.1f, SD: %0.1f' % (error.mean(), error.std()),\n",
      "                   fontsize=20)\n"
     ],
     "language": "python",
     "metadata": {
      "slideshow": {
       "slide_type": "skip"
      }
     },
     "outputs": [],
     "prompt_number": 2
    },
    {
     "cell_type": "code",
     "collapsed": false,
     "input": [
      "error_fig"
     ],
     "language": "python",
     "metadata": {
      "slideshow": {
       "slide_type": "subslide"
      }
     },
     "outputs": [],
     "prompt_number": 3
    },
    {
     "cell_type": "markdown",
     "metadata": {
      "slideshow": {
       "slide_type": "fragment"
      }
     },
     "prompt_number": 4,
     "source": [
      "The chance error *averages out* to be about 0."
     ]
    },
    {
     "cell_type": "markdown",
     "metadata": {},
     "prompt_number": 4,
     "source": [
      "## Outliers\n",
      "\n",
      "- Not all individual measurements fit the normal curve.\n",
      "- This could be because the histogram of measurements *shouldn\u2019t*\n",
      "   fit the normal curve exactly ...\n",
      "- Or, an error was made in some of the measurements ...\n",
      "- Usually impossible to tell which ..."
     ]
    },
    {
     "cell_type": "markdown",
     "metadata": {},
     "prompt_number": 4,
     "source": [
      "### Bias or systematic error\n",
      "\n",
      "Conceptual definition (excerpt from book):\n",
      "\n",
      "       Bias affects all measurements the same way, pushing them \n",
      "       in the same direction. Chance errors change from measurement \n",
      "       to measurement, sometimes up and sometimes down.\n"
     ]
    },
    {
     "cell_type": "markdown",
     "metadata": {},
     "prompt_number": 4,
     "source": [
      "## Measurement model\n",
      "\n",
      "In light of the possibility of bias, we should\n",
      "rephrase our measurement model as:\n",
      "\n",
      "     individual measurement = exact value + bias + chance error\n",
      "\n",
      "### Greek notation\n",
      "\n",
      "- Call the bias $B$. Then\n",
      "$$M = \\mu + B + \\epsilon$$"
     ]
    },
    {
     "cell_type": "markdown",
     "metadata": {
      "slideshow": {
       "slide_type": "slide"
      }
     },
     "prompt_number": 4,
     "source": [
      "## Repeated measurements\n",
      "\n",
      "Produces a list with $n$ entries \n",
      "$$\\text{individual measurement}_i = \\text{exact value} + \\text{bias} + \\text{chance error}_i$$\n",
      "\n",
      "### Greek notation\n",
      "\n",
      "Call our list of measurements $[M_1, \\dots, M_n]$. Then, \n",
      "$$M_i = \\mu + B + \\epsilon_i$$"
     ]
    },
    {
     "cell_type": "markdown",
     "metadata": {
      "slideshow": {
       "slide_type": "slide"
      }
     },
     "prompt_number": 4,
     "source": [
      "## Take away\n",
      "\n",
      "** A measurement has three parts:**\n",
      "\n",
      "- **True value.** This is what we care about.\n",
      "- **Chance error.** This is something unavoidable in the measurement process. With many measurements, this should average out.\n",
      "- **Bias.** This is undesirable."
     ]
    },
    {
     "cell_type": "markdown",
     "metadata": {},
     "prompt_number": 4,
     "source": [
      "### Selection bias\n",
      "\n",
      "Suppose that the height of all female freshman at U.S. colleges follows a normal\n",
      "curve with average 68 inches and SD 3 inches.\n",
      "\n",
      "- **What would you expect the histogram to look like if you tried to \n",
      "measure the average height by choosing names at random from [http://stanfordwho.edu](http://stanfordwho.edu)?**\n",
      "\n",
      "- **What if you made your sample by choosing to measure height\n",
      "of all female basketball players?** We will assume that these are chosen from females 72 inches or taller (a gross simplification)."
     ]
    },
    {
     "cell_type": "code",
     "collapsed": false,
     "input": [
      "female_fig = plt.figure(figsize=(10,10))\n",
      "female_ax = female_fig.gca()\n",
      "female_sample = np.random.standard_normal(5000)*3+68\n",
      "flat_density(female_sample,\n",
      "             bins=30, ax=female_ax)\n",
      "female_ax.set_title('Choosing from http://stanfordwho.edu', fontsize=20)"
     ],
     "language": "python",
     "metadata": {},
     "outputs": [],
     "prompt_number": 4
    },
    {
     "cell_type": "code",
     "collapsed": false,
     "input": [
      "female_ax.set_title('Mean: %0.1f, SD: %0.1f' % (female_sample.mean(), \n",
      "                                                female_sample.std()),\n",
      "                   fontsize=20)\n",
      "female_fig"
     ],
     "language": "python",
     "metadata": {},
     "outputs": [],
     "prompt_number": 5
    },
    {
     "cell_type": "code",
     "collapsed": false,
     "input": [
      "biased_sample = np.random.standard_normal(17000)*3+68\n",
      "biased_sample = biased_sample[biased_sample > 72]\n",
      "biased_fig = plt.figure(figsize=(10,10))\n",
      "biased_ax = biased_fig.gca()\n",
      "flat_density(biased_sample, \n",
      "             bins=30, ax=biased_ax, facecolor='gray')\n",
      "biased_ax.set_title('Choosing from basketball players', fontsize=20)\n"
     ],
     "language": "python",
     "metadata": {},
     "outputs": [],
     "prompt_number": 6
    },
    {
     "cell_type": "code",
     "collapsed": false,
     "input": [
      "biased_ax.set_title('Mean: %0.1f, SD: %0.1f' % (biased_sample.mean(), \n",
      "                                                biased_sample.std()),\n",
      "                   fontsize=20)\n",
      "biased_fig"
     ],
     "language": "python",
     "metadata": {},
     "outputs": [],
     "prompt_number": 7
    },
    {
     "cell_type": "markdown",
     "metadata": {},
     "prompt_number": 8,
     "source": [
      "## Take away from basketball example\n",
      "\n",
      "- This way of measuring introduced **bias** in that\n",
      "the average of the gray histogram is roughly 73, about 5 inches\n",
      "larger than the true average of 68.\n",
      "\n",
      "- It also changed the histogram of the **chance error**. It is now *skewed right.*"
     ]
    },
    {
     "cell_type": "code",
     "collapsed": false,
     "input": [
      "biased_fig = plt.figure(figsize=(10,10))\n",
      "biased_ax = biased_fig.gca()\n",
      "biased_error = biased_sample - biased_sample.mean()\n",
      "flat_density(biased_error, \n",
      "             bins=30, ax=biased_ax, facecolor='gray')\n",
      "biased_ax.set_title('Mean: %0.1f, SD: %0.1f' % (biased_error.mean(), \n",
      "                                                biased_error.std()),\n",
      "                   fontsize=20)\n",
      "\n"
     ],
     "language": "python",
     "metadata": {},
     "outputs": [],
     "prompt_number": 8
    },
    {
     "cell_type": "markdown",
     "metadata": {},
     "prompt_number": 9,
     "source": [
      "## Problems encountered with bias\n",
      "\n",
      "* Bias doesn\u2019t disappear with repeated measurements $$\\text{average}(\\text{list with bias}) = \\text{average}(\\text{unbiased list}) + \\text{bias}$$\n",
      "\n",
      "### Greek notation\n",
      "\n",
      "* In this notation $\\bar{M} = \\mu + B + \\bar{\\epsilon}$\n",
      "* Becomes very worrying when trying to compare two averages."
     ]
    },
    {
     "cell_type": "code",
     "collapsed": false,
     "input": [
      "bias = 2 \n",
      "biased_apple = apple + bias\n",
      "biased_apple_fig = plt.figure(figsize=(10,10))\n",
      "biased_apple_ax = biased_apple_fig.gca()\n",
      "flat_density(biased_apple, bins=30, ax=biased_apple_ax, alpha=0.5, \n",
      "             facecolor='blue')\n",
      "\n",
      "biased_apple_ax.set_yticks([])\n",
      "biased_apple_ax.set_xlabel('Weight of apple using biased scale (ounces)', fontsize=20)\n",
      "biased_apple_ax.set_title('Mean: %0.1f, SD: %0.1f' % (biased_apple.mean(), \n",
      "                                                        biased_apple.std()),\n",
      "                   fontsize=20)"
     ],
     "language": "python",
     "metadata": {},
     "outputs": [],
     "prompt_number": 9
    },
    {
     "cell_type": "markdown",
     "metadata": {},
     "prompt_number": 10,
     "source": [
      "## Example: Weighing an apple and an orange with biased scales\n",
      "\n",
      "* Suppose we also have an orange that weighs exactly 8 ounces.\n",
      "* We weigh the apple and orange 100 different times each.\n",
      "* The scale we use for the orange has same SD, but, without knowing\n",
      "it we use our biased scale for the oranges and an unbiased scale for the apples."
     ]
    },
    {
     "cell_type": "heading",
     "level": 3,
     "metadata": {
      "slideshow": {
       "slide_type": "slide"
      }
     },
     "prompt_number": 10,
     "source": [
      "Histogram of apples and oranges"
     ]
    },
    {
     "cell_type": "code",
     "collapsed": false,
     "input": [
      "orange = np.random.standard_normal(5000)*1.4 + 8\n",
      "flat_density(orange + bias, ax=apple_ax, bins=30,\n",
      "            facecolor='orange')\n",
      "apple_ax.set_title('')\n",
      "apple_ax.set_xlabel('Weight (ounces)')\n",
      "apple_fig"
     ],
     "language": "python",
     "metadata": {},
     "outputs": [],
     "prompt_number": 10
    },
    {
     "cell_type": "markdown",
     "metadata": {},
     "prompt_number": 11,
     "source": [
      "### Dealing with bias\n",
      "\n",
      "* What if we weighed the apple half the time on one scale and half on the other?\n",
      "* And did the same with the oranges ...\n",
      "* Will the histogram still look like a normal curve?"
     ]
    },
    {
     "cell_type": "heading",
     "level": 3,
     "metadata": {
      "slideshow": {
       "slide_type": "slide"
      }
     },
     "prompt_number": 11,
     "source": [
      "Histogram of apples on two scales"
     ]
    },
    {
     "cell_type": "code",
     "collapsed": false,
     "input": [
      "apple_random = apple + 2 * np.random.binomial(1, 0.5, size=apple.size)\n",
      "orange_random = orange + 2 * np.random.binomial(1, 0.5, size=apple.size)\n",
      "random_fig = plt.figure(figsize=(10,10))\n",
      "random_ax = random_fig.gca()\n",
      "flat_density(apple_random, ax=random_ax, bins=30,\n",
      "            facecolor='green')\n",
      "flat_density(orange_random, ax=random_ax, bins=30,\n",
      "            facecolor='orange')\n",
      "random_ax.set_xlabel('Weight (ounces)', fontsize=20)"
     ],
     "language": "python",
     "metadata": {},
     "outputs": [],
     "prompt_number": 11
    },
    {
     "cell_type": "markdown",
     "metadata": {},
     "prompt_number": 12,
     "source": [
      "### Take-away from the randomization experiment\n",
      "\n",
      "- Close to a normal curve, but not quite.\n",
      "\n",
      "- Both histograms have had the average shifted by 1 (half the bias).\n",
      "\n",
      "- The bias in the difference we saw when we used one scale exclusively\n",
      "for oranges has been reduced.\n",
      "\n",
      "- The weights of the apples and oranges are said to be *confounded*\n",
      "   by the difference between the scales.\n",
      "- The variable that says which scale was used to make each weight is a *confounding variable*.\n",
      "\n",
      "- Randomization allowed us to eliminate this confounder."
     ]
    },
    {
     "cell_type": "markdown",
     "metadata": {},
     "prompt_number": 12,
     "source": [
      "### Other example of measurements\n",
      "\n",
      "\n",
      "* Opinion polls. (Does our measurement model work here? What is bias?)\n",
      "* Weighing 100 different apples on Scale 1 instead of 1 apple 100 times. (Would you get the same SD? Would it be larger? Smaller?)\n",
      "* The SAT test is a measurement of \"aptitude\". Each time you take a test, there is a new measurement.\n",
      "* An MRI scan is a measurement (actually, several 100,000 measurements).\n",
      "* Body weight is a measurement."
     ]
    }
   ],
   "metadata": {}
  }
 ]
}
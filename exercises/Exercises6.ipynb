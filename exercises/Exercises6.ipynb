{
 "metadata": {
  "name": "",
  "signature": "sha256:139931a752e2f44b1ab80865e9a6c79e37ebfc6ce3a51ec34eb4d121add8ea4b"
 },
 "nbformat": 3,
 "nbformat_minor": 0,
 "worksheets": [
  {
   "cells": [
    {
     "cell_type": "markdown",
     "metadata": {},
     "prompt_number": 1,
     "source": [
      "## 19.6.2\n",
      "\n",
      "Two surveys are conducted to measure the effect of an advertising campaign\n",
      "for a certain brand of detergent. In the first survey, interviewers ask housewives\n",
      "whether they use that brand of detergent. In the second, the interviewers ask\n",
      "to see what detergent is being used. Would you expect the two surveys to reach similar conclusions? Give your reasons.\n",
      "\n",
      "         The surveys may be different because respondents\n",
      "         may be more likely to say they use\n",
      "         the specific detergent in question just\n",
      "         to \"please\" the interviewer."
     ]
    },
    {
     "cell_type": "markdown",
     "metadata": {},
     "prompt_number": 1,
     "source": [
      "## 19.6.4 \n",
      "\n",
      "In one study, it was necessary to draw a representative sample of Japanese-Americans resident in San Francisco. The procedure was as follows.\n",
      "After consultation with representative figures in the Japanese community, the four most representative blocks in the Japanese area of the city were chosen. All persons resident in those four blocks were taken for the sample. However, a comparison with Census data shows that the sample did not include a high-enough proportion of Japanese with college degrees. How can this be explained?\n",
      "\n",
      "          The book ascribes this difference to better educated \n",
      "          Japanese moving to the suburbs of San Francisco \n",
      "          (though these might not be considered part of \n",
      "          the city of San Francisco...).\n",
      "          \n",
      "          This is one possible reason of many. What we can conclude\n",
      "          is that the proportion of Japanese-Americans living in these\n",
      "          4 blocks with college degrees is different than the\n",
      "          reference (which presumably is all Americans but is not\n",
      "          described in the question)."
     ]
    },
    {
     "cell_type": "markdown",
     "metadata": {},
     "prompt_number": 1,
     "source": [
      "## 20.A.5\n",
      "\n",
      "The box below has an average of 0.6 and the SD is 0.8.\n"
     ]
    },
    {
     "cell_type": "code",
     "collapsed": false,
     "input": [
      "box1 = [0, 0, 0, 1, 2]\n",
      "mean(box1), std(box1)"
     ],
     "language": "python",
     "metadata": {},
     "outputs": [],
     "prompt_number": 1
    },
    {
     "cell_type": "markdown",
     "metadata": {},
     "prompt_number": 2,
     "source": [
      "True or false and explain.\n",
      "\n",
      "       The SE for the percentage of 1's in 400 draws\n",
      "       can be found as follows:\n",
      "       \n",
      "       SE(number of 1's) = sqrt(400) * 0.8 = 16\n",
      "       \n",
      "       SE(percentage of 1's) = 16 / 400 = 0.04 = 4%\n",
      "       \n",
      "       \n",
      "       Answer: False. The right box to use is [0,0,0,1,0], \n",
      "       its SD is sqrt(0.2*0.8)."
     ]
    },
    {
     "cell_type": "markdown",
     "metadata": {},
     "prompt_number": 2,
     "source": [
      "## 20.A.6\n",
      "\n",
      "Nine hundred draws are made at random with replacement from a box\n",
      "which has 1 red marble and 9 blue ones. The SE for the percentage of \n",
      "red marbles in the sample is  1%. A sample which is 1 SE above its expected value equal (choose one):\n",
      "\n",
      "1. 10% + 1%\n",
      "\n",
      "2. 1.01 * 10%"
     ]
    },
    {
     "cell_type": "markdown",
     "metadata": {},
     "prompt_number": 2,
     "source": [
      "## 20.B.2\n",
      "\n",
      "In a certain town, there are 30,000 registered voters, of whom 12,000\n",
      "are Democrats. A survey organization is about to take a simple\n",
      "random sample of 1,000 registered voters.\n",
      "\n",
      "1. The expected value for the percentage of Democrats in the sample\n",
      "is $\\bbox[3px,border:2px solid blue]{40\\%}$.\n",
      "\n",
      "2. The percentage of Democrats in the sample is likely to be around $\\bbox[3px,border:2px solid blue]{40\\%}$ give or take $\\bbox[3px,border:2px solid blue]{1.5\\%}$ or so.\n",
      "\n",
      "3. Find the chance that between 39% and 41% of the registered voters in the sample are Democrats."
     ]
    },
    {
     "cell_type": "code",
     "collapsed": false,
     "input": [
      "expected = 0.4;\n",
      "SE_proportion = sqrt(0.4 * 0.6 / 1000)\n",
      "corr_factor = sqrt((30000 - 1000.) / (30000 - 1.))\n",
      "standardized_41 = (.41 - expected) / SE_proportion\n",
      "expected, SE_proportion, corr_factor, standardized_41"
     ],
     "language": "python",
     "metadata": {},
     "outputs": [],
     "prompt_number": 2
    },
    {
     "cell_type": "markdown",
     "metadata": {},
     "prompt_number": 3,
     "source": [
      "The tail normal table says the chances above 41% is roughly 26%. The chances are therefore 100% - 2 * 26% = 48%."
     ]
    },
    {
     "cell_type": "markdown",
     "metadata": {},
     "prompt_number": 3,
     "source": [
      "## Like 20.6.2\n",
      "\n",
      "A pair of dice is rolled one thousand times. The percentage of pairs should be around $\\bbox[3px,border:2px solid blue]{\\hspace{0.7in}}$ give or take\n",
      "$\\bbox[3px,border:2px solid blue]{\\hspace{0.7in}}$  or so.\n",
      "\n",
      "1. The first step in solving this problem is: i) computing the SD of the box;\n",
      "ii) computing the average of the box; iii) setting up the box model. Choose one and explain.\n",
      "\n",
      "2. Now solve the problem."
     ]
    },
    {
     "cell_type": "markdown",
     "metadata": {},
     "prompt_number": 3,
     "source": [
      "## 20.A.7\n",
      "\n",
      "Suppose there is a box of 100,000 tickets, each marker 0 or 1.\n",
      "Suppose that in fact, 20% of the tickets in the box are 1's. Calculate\n",
      "the standard error for the percentage of 1's in 400 draws from the box."
     ]
    },
    {
     "cell_type": "markdown",
     "metadata": {},
     "prompt_number": 3,
     "source": [
      "## 20.A.8\n",
      "\n",
      "Three different people take simple random samples of size 400 from the box in \n",
      "20.A.7, without knowing its contents. The number of 1's in the irst\n",
      "sample is 72. In the second, it is 84. In the third it is 98. \n",
      "Each person estimates the SE by the bootstrap method.\n",
      "\n",
      "1. The first person estimates the percentage of  1's in the box as $\\bbox[3px,border:2px solid blue]{18\\%}$, and figures this estimate is likely\n",
      "to be of by $\\bbox[3px,border:2px solid blue]{1.9\\%}$ or so.\n",
      "\n",
      "2. The second person estimates the percentage of  1's in the box as $\\bbox[3px,border:2px solid blue]{\\hspace{0.7in}}$, and figures this estimate is likely\n",
      "to be of by $\\bbox[3px,border:2px solid blue]{\\hspace{0.7in}}$ or so.\n",
      "\n",
      "3. The third person estimates the percentage of  1's in the box as $\\bbox[3px,border:2px solid blue]{\\hspace{0.7in}}$, and figures this estimate is likely\n",
      "to be of by $\\bbox[3px,border:2px solid blue]{\\hspace{0.7in}}$ or so.\n"
     ]
    },
    {
     "cell_type": "code",
     "collapsed": false,
     "input": [
      "first_sample_proportion = 72. / 400.\n",
      "bootstrap_first = sqrt(first_sample_proportion * (1 - first_sample_proportion) / 400.)\n",
      "first_sample_proportion, bootstrap_first"
     ],
     "language": "python",
     "metadata": {},
     "outputs": [],
     "prompt_number": 3
    },
    {
     "cell_type": "markdown",
     "metadata": {},
     "prompt_number": 4,
     "source": [
      "## Like 21.C.6\n",
      "\n",
      "A simple random sample of 1000 persons is taken to estimate the\n",
      "percentage of Republicans in a large population. It turns out that\n",
      "462 of the people in the sample are Republicans. True or false,\n",
      "and explain:\n",
      "\n",
      "1. The sample percentage is 462/1000=46.2%. The SE for the sample percentage is 1.6%.\n",
      "\n",
      "2. $46.2\\%  \\pm 3.2%$ is a 95% confidence interval for the population\n",
      "percentage.\n",
      "\n",
      "3. $46.2\\%  \\pm 3.2%$ is a 95% confidence interval for the sample\n",
      "percentage.\n",
      "\n",
      "4. There is about a 95% chance for the percentage of Republicans\n",
      "in the population to be in the range $46.2\\%  \\pm 3.2%$.\n",
      "\n",
      "\n"
     ]
    },
    {
     "cell_type": "markdown",
     "metadata": {},
     "prompt_number": 4,
     "source": [
      "### Answers\n",
      "\n",
      "1. True. The bootstrap SE is sqrt(0.462*0.538/1000) about 1.6%. It is close to the true SE.\n",
      "\n",
      "2. True.\n",
      "\n",
      "3. False. The sample percentage is 46.2%, we don't need a confidence interval for this quantity.\n",
      "\n",
      "4. False. The true proportion of Republicans is either in the the range 46.2% plus or minus 3.2 or it is not. This is the common fallacy of confidence intervals."
     ]
    },
    {
     "cell_type": "markdown",
     "metadata": {},
     "prompt_number": 4,
     "source": [
      "## 21.C.7\n",
      "\n",
      "Referring to question above. True or false, and explain. If another\n",
      "survey organization takes a simple random sample of 1000 persons,\n",
      "there is about a 95% chance that the percentage of Republicans\n",
      "in their sample will be in the range $46.2\\%  \\pm 3.2\\%$.\n",
      "\n",
      "       False. The other sample percentage is an estimate of \n",
      "       the true  percentage but is variable. We could construct \n",
      "       an interval to cover the other sample percentage, \n",
      "       but we would have to make our original interval \n",
      "       wider to account for the chance variability\n",
      "       in the other organization's sample percentage.\n",
      "\n",
      "       There is a normal approximation we can use to construct \n",
      "       such an interval, its width would be sqrt{2} * 3.2%.\n",
      "       The normal approximation would be based on the difference,\n",
      "       phat1 - phat2, between the two sample polls.\n",
      "       This variability is sqrt{2} larger than the variability\n",
      "       (phat1 - p) or (phat2 - p).\n",
      "       \n",
      "       Below is a simulation to illustrate this. I am choosing\n",
      "       our example about Governor Brown as an illustration (so the\n",
      "       true proportion is 57%). "
     ]
    },
    {
     "cell_type": "code",
     "collapsed": false,
     "input": [
      "poll1 = Sample(5700, 4300, 1000, draw_fig=False)\n",
      "poll2 = Sample(5700, 4300, 1000, draw_fig=False)\n",
      "sample1 = poll1.sample(1000)\n",
      "sample2 = poll2.sample(1000)\n",
      "std(sample1), std(sample2), std(array(sample1) - array(sample2))"
     ],
     "language": "python",
     "metadata": {},
     "outputs": [],
     "prompt_number": 4
    },
    {
     "cell_type": "code",
     "collapsed": false,
     "input": [
      "std(array(sample1) - array(sample2)) / std(sample1), sqrt(2)"
     ],
     "language": "python",
     "metadata": {},
     "outputs": [],
     "prompt_number": 5
    },
    {
     "cell_type": "markdown",
     "metadata": {},
     "prompt_number": 6,
     "source": [
      "## 21.C.8\n",
      "\n",
      "At a large university, 54.3% of the students are female and 45.7% are male.\n",
      "A simple random sample of 1000 persons is drawn from this population. The SE\n",
      "for the sample percentage of females is figured as 1.6%. True or false: There is about a 95% chance for the percentage of the females in the sample\n",
      "to be in the range $54.3\\% \\pm 3.2\\%$. Explain."
     ]
    },
    {
     "cell_type": "markdown",
     "metadata": {},
     "prompt_number": 6,
     "source": [
      "## 21.6.5\n",
      "\n",
      "The National Assessment of Educational Progress administers\n",
      "standardized achievement tests to nationwide samples of 17 year-olds\n",
      "in school. One year, the tests covered history and literature. You may assume that a simple random sample of size 6000 was taken. Only\n",
      "36.1% of the students in the sample knew that Chaucer wrote \n",
      "*The Canterbury Tales*, but 95.2% knew that Edison invented the\n",
      "light bulb.\n",
      "\n",
      "1. If possible, find a 95%\n",
      "confidence interval for the percentage of all 17 year-olds in school\n",
      "who knew that Chaucer wrote *The Canterbury Tales.* If this is not possible, why not?\n",
      "\n",
      "2. If possible, find a 95%\n",
      "confidence interval for the percentage of all 17 year-olds in school\n",
      "who knew that Edison invented the light bulb. If this is not possible, why not?\n",
      "\n",
      "\n",
      "        Since we are told it is a simple random sample, we can use\n",
      "        our usual 95% confidence interval. If they had used a different\n",
      "        sampling scheme (choosing schools, and then students within schools)\n",
      "        our rule for computing the SE of the sample proportion would\n",
      "        not apply. Chapter 22 discusses some of these issues in sampling\n",
      "        when measuring unemployment.\n"
     ]
    },
    {
     "cell_type": "markdown",
     "metadata": {},
     "prompt_number": 6,
     "source": [
      "## 21.6.9\n",
      "\n",
      "A bank wants to estimate the amount of change people carry. They take\n",
      "a simple random sample of 100 people, and find that on the average,\n",
      "people in the sample carry \\$0.73 in change. They figure the\n",
      "standard error is \\$0.04 because\n",
      "$$\n",
      "\\sqrt{100} * \\sqrt{0.73 * 0.27} \\approx 4, \\qquad 4 / 100 = 0.04.\n",
      "$$\n",
      "Are they right? Answer yes or no, and explain."
     ]
    },
    {
     "cell_type": "code",
     "collapsed": false,
     "input": [],
     "language": "python",
     "metadata": {},
     "outputs": [],
     "prompt_number": 6
    }
   ],
   "metadata": {}
  }
 ]
}
{
 "metadata": {
  "name": "",
  "signature": "sha256:27e2734476f2a5cd1e099f80603cf63cfa4020854962a355189a2f9606abee81"
 },
 "nbformat": 3,
 "nbformat_minor": 0,
 "worksheets": [
  {
   "cells": [
    {
     "cell_type": "markdown",
     "metadata": {},
     "prompt_number": 1,
     "source": [
      "# Chapters 1 and 2\n",
      "\n",
      "## Like 2.6.1 \n",
      "\n",
      "- An investigator compares the incidence of violent crime in the cities of \"Sleepy Suburb\" and in \"Urban Jungle\" in 2010. In \"Sleepy Suburb\", there were 20 \n",
      "reports of violent crime in 2010, while there were 300 reports in \"Urban Giant.\"\n",
      "The officer concludes that the citizens of \"Sleepy Suburb\" are more law-abiding than \"Urban Giant.\" **What do you think?**\n",
      "\n",
      "- An investigator compares the incidence of violent crime in the past decades in \"Urban Jungle.\" In 2000,  there were 350 reports in \"Urban Giant.\"\n",
      "The officer concludes that the citizens of \"Urban Giant\" have become more law-abiding over the past decade. **What do you think?**"
     ]
    },
    {
     "cell_type": "markdown",
     "metadata": {},
     "prompt_number": 1,
     "source": [
      "## 2.6.4\n",
      "\n",
      "The Public Health Service studied the effects of smoking on health, in a large sample of representative households. For men and for women in each age group,\n",
      "those who had never smoked were on average somewhat healthier than the current smokers, but the current smokers were on average much healthier than those who had recently stopped smoking.\n",
      "\n",
      "- Why did they study men and women and the different age groups separately?\n",
      "\n",
      "** They tried to remove the possibility of age and gender confounding.** \n",
      "\n",
      "- The lesson seems to be that you shouldn't start smoking, but once you've started, don't stop. Comment briefly.\n",
      "\n",
      "**It is possible that those who have stopped, stopped due to health reasons (possibly from smoking related causes)."
     ]
    },
    {
     "cell_type": "markdown",
     "metadata": {},
     "prompt_number": 1,
     "source": [
      "# Chapter 6\n",
      "\n",
      "## Like 6.6.3\n",
      "\n",
      "An aptitude test was administered to a group of high school students.\n",
      "Five of the students' scores are shown below. Fill in the blanks\n",
      "\n",
      "Original | Standardized\n",
      "---------|-------------\n",
      "84  | 1.6\n",
      "69  | 0.6\n",
      "    | -0.5\n",
      "54  | \n",
      "    | 1.2\n"
     ]
    },
    {
     "cell_type": "markdown",
     "metadata": {},
     "prompt_number": 1,
     "source": [
      "**The SD is (84-69)/(1.6-0.6) = 15.**"
     ]
    },
    {
     "cell_type": "code",
     "collapsed": false,
     "input": [
      "69 - 0.6*15"
     ],
     "language": "python",
     "metadata": {},
     "outputs": [],
     "prompt_number": 1
    },
    {
     "cell_type": "markdown",
     "metadata": {},
     "prompt_number": 2,
     "source": [
      "**The average was 60.**"
     ]
    },
    {
     "cell_type": "markdown",
     "metadata": {},
     "prompt_number": 2,
     "source": [
      "## Like 6.6.13 \n",
      "\n",
      "To measure the effect of exercise on the risk of heart disease,\n",
      "investigators compared incidence of this disease for two groups\n",
      "of CalTrain employees: people working in the ticket booth at the terminal and \n",
      "conductors collecting fares on the train.\n",
      "\n",
      "The age distributions for the two groups were similar, and most had\n",
      "been at the same position for the last 10 years or so. \n",
      "\n",
      "There was a difference in incidence of heart disease with conductors\n",
      "having a lower rate than those working in the ticket booth. The investigators\n",
      "conclude that exercise prevents heart disease.\n",
      "\n",
      "A second group of investigators were skeptical. They discovered that CalTrain recorded the sizes of uniforms\n",
      "given to employees at time of starting a new position.\n",
      "\n",
      "- Why does it matter that the age distribution is similar?\n",
      "\n",
      "- Why does it matter that all the subjects had been on the job for 10 years or more?\n",
      "\n",
      "- Why did the first group of investigators compare conductors to those working\n",
      "at the terminal instead of, for instance, train riders?\n",
      "\n",
      "- Why were the second group of investigators skeptical?\n",
      "\n",
      "- What could you do with the information on the size of the uniforms?"
     ]
    },
    {
     "cell_type": "markdown",
     "metadata": {},
     "prompt_number": 2,
     "source": [
      "## Like 9.6.6\n",
      "\n",
      "A computer program prints out the correlation $r$ or two data sets below.\n",
      "Is it working correctly?\n",
      "\n",
      "### Dataset 1\n",
      "\n",
      "$r$=0.83\n",
      "\n",
      "Variable | Entry 1 | Entry 2 | Entry 3 | Entry 4 | Entry 5 | Entry 6\n",
      "---------|---------|---------|---------|---------|---------|---------\n",
      "x | 1 | 2 | 3 | 4 | 5 | 7\n",
      "y | 3 | 4 | 3 | 6 | 4 | 9\n",
      "\n",
      "\n",
      "### Dataset 2\n",
      "\n",
      "$r$=0.79\n",
      "\n",
      "Variable | Entry 1 | Entry 2 | Entry 3 | Entry 4 | Entry 5 | Entry 6\n",
      "---------|---------|---------|---------|---------|---------|---------\n",
      "x | 2 | 3 | 4 | 5 | 6 | 8\n",
      "y | 5 | 6 | 5 | 8 | 6 | 11\n"
     ]
    },
    {
     "cell_type": "code",
     "collapsed": false,
     "input": [
      "X = [1,2,3,4,5,7]\n",
      "Y = [3,4,3,6,4,9]\n",
      "avg_prod = mean([x*y for x,y in zip(X,Y)])\n",
      "r = (avg_prod - mean(X) * mean(Y)) / (std(X) * std(Y))\n",
      "r"
     ],
     "language": "python",
     "metadata": {},
     "outputs": [],
     "prompt_number": 2
    },
    {
     "cell_type": "code",
     "collapsed": false,
     "input": [
      "X2 = [x + 1 for x in X]\n",
      "Y2 = [y + 1 for y in Y]\n",
      "X2, Y2"
     ],
     "language": "python",
     "metadata": {},
     "outputs": [],
     "prompt_number": 3
    },
    {
     "cell_type": "code",
     "collapsed": false,
     "input": [
      "avg_prod = mean([x*y for x,y in zip(X2,Y2)])\n",
      "r = (avg_prod - mean(X2) * mean(Y2)) / (std(X2) * std(Y2))\n",
      "r"
     ],
     "language": "python",
     "metadata": {},
     "outputs": [],
     "prompt_number": 4
    },
    {
     "cell_type": "code",
     "collapsed": false,
     "input": [],
     "language": "python",
     "metadata": {},
     "outputs": [],
     "prompt_number": 5
    }
   ],
   "metadata": {}
  }
 ]
}
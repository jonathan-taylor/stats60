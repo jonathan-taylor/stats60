{
 "metadata": {
  "name": "",
  "signature": "sha256:4e59129a7b2f80f41062ad4f3a5361f48b11b9766b19ef9a9a00fbb8747f5b73"
 },
 "nbformat": 3,
 "nbformat_minor": 0,
 "worksheets": [
  {
   "cells": [
    {
     "cell_type": "markdown",
     "metadata": {},
     "prompt_number": 1,
     "source": [
      "# Chapter 13\n",
      "\n",
      "## Like 13.6.5\n",
      "\n",
      "One item will be drawn from the following box. Each item has a color and a number \n",
      "associated to it."
     ]
    },
    {
     "cell_type": "code",
     "collapsed": false,
     "input": [
      "box = [('Red', 1), ('Red', 2), ('Red', 3), \n",
      "       ('Green', 1), ('Green', 2), ('Green', 3)]"
     ],
     "language": "python",
     "metadata": {},
     "outputs": [],
     "prompt_number": 1
    },
    {
     "cell_type": "markdown",
     "metadata": {},
     "prompt_number": 2,
     "source": [
      "Are color and number independent?\n",
      "\n",
      "      Yes. For example, P(('Green', 2)) = P(color 'Green') * P( number 2).\n",
      "\n",
      "What about the following box?"
     ]
    },
    {
     "cell_type": "code",
     "collapsed": false,
     "input": [
      "other_box = [('Red', 1), ('Red', 2), ('Red', 4), \n",
      "             ('Green', 1), ('Green', 2), ('Green', 3)]"
     ],
     "language": "python",
     "metadata": {},
     "outputs": [],
     "prompt_number": 2
    },
    {
     "cell_type": "markdown",
     "metadata": {},
     "prompt_number": 3,
     "source": [
      "      They are dependent. 0= P(('Green', 4)) which is not equal to\n",
      "       P('Green') * P(4) = 1/2 * 1/6 =1/12."
     ]
    },
    {
     "cell_type": "markdown",
     "metadata": {},
     "prompt_number": 3,
     "source": [
      "## Like 13.6.8\n",
      "\n",
      "A die is rolled 5 times. What is the chance that --\n",
      "\n",
      "1. All rolls have 2 or more spots?\n",
      "\n",
      "       (5/6)^5 by multiplication rule and using independence of each roll.\n",
      "\n",
      "2. None of the rolls show exactly 5 spots?\n",
      "\n",
      "       (5/6)^5 same justification as above.\n",
      "\n",
      "3. Not all the rolls show 2 or more spots?\n",
      "\n",
      "       1 - (5/6)^5 by the opposite rule."
     ]
    },
    {
     "cell_type": "markdown",
     "metadata": {},
     "prompt_number": 3,
     "source": [
      "## 13.6.10\n",
      "\n",
      "Which of the two options is better, or are they the same?\n",
      "\n",
      "1. You toss a coin 100 times. On each toss, if the coin lands heads\n",
      "you win 1\\$. If it lands tails, you lose 1\\$.\n",
      "\n",
      "2. You draw 100 times with replacement from the box `[0,1]`. On each draw, \n",
      "you are paid (in dollars) the number on the ticket."
     ]
    },
    {
     "cell_type": "heading",
     "level": 1,
     "metadata": {},
     "prompt_number": 3,
     "source": [
      "Chapter 14"
     ]
    },
    {
     "cell_type": "markdown",
     "metadata": {},
     "prompt_number": 3,
     "source": [
      "## 14.C.4\n",
      "\n",
      "The unconditional probability of event A is 1/2. The unconditional\n",
      "probability of event B is 1/3. Say whether each of the following is true or false, and explain briefly.\n",
      "\n",
      "1. The chance that A and B both happen must be 1/2 x 1/3 = 1/6.\n",
      "\n",
      "2. If A and B are independent, the chance that they both happen must be 1/2 x 1/3 = 1/6.\n",
      "\n",
      "3. If A and B are mutually exclusice, the chance that they both happen must be 1/2 x 1/3 = 1/6.\n",
      "\n",
      "4. The chance that at least one of A or B happens must be 1/2 + 1/3 = 5/6.\n",
      "\n",
      "5. If A and B are independent, the chance that at least one of them happens must be 1/2 + 1/3 = 5/6.\n",
      "\n",
      "6. If A and B are mutually exclusive, the chance that at least one of them happens must be 1/2+1/3=5/6."
     ]
    },
    {
     "cell_type": "markdown",
     "metadata": {},
     "prompt_number": 3,
     "source": [
      "## Like 14.6.9\n",
      "\n",
      "One ticket will be drawn from each of the following two boxes:"
     ]
    },
    {
     "cell_type": "code",
     "collapsed": false,
     "input": [
      "boxA = [1,3,5]\n",
      "boxB = [1,3,5,7,9]"
     ],
     "language": "python",
     "metadata": {},
     "outputs": [],
     "prompt_number": 3
    },
    {
     "cell_type": "markdown",
     "metadata": {},
     "prompt_number": 4,
     "source": [
      "Find the chance that:\n",
      "\n",
      "1. The number drawn from `boxA` is larger than the one from `boxB`.\n",
      "\n",
      "2. The number drawn from `boxA` is equal to the one from `boxB`.\n",
      "\n",
      "3. The number drawn from `boxA` is less than the one from `boxB`."
     ]
    },
    {
     "cell_type": "markdown",
     "metadata": {},
     "prompt_number": 4,
     "source": [
      "## 15.3.6\n",
      "\n",
      "There are 8  people in a club. One person makes up a list of all the possible committees with 2 members. Another person makes up a list of all the possible committees with 5 members. True or false: the second list is longer than the first. Explain.\n",
      "\n",
      "## Like 15.4.20\n",
      "\n",
      "A die is rolled 20 times. Find the chance of getting exactly 4 ones.\n",
      "\n",
      "\n",
      "        n = 20, k = 4, p = 1/6.\n",
      "        \n",
      "        Ans: 20! / (4! * 16!) * (1/6)**4 * (5/6)**16 approx. 20%"
     ]
    },
    {
     "cell_type": "code",
     "collapsed": false,
     "input": [
      "20*19*18*17/(4*3*2*1) * (1/6.)**4 * (5/6.)**16"
     ],
     "language": "python",
     "metadata": {},
     "outputs": [],
     "prompt_number": 4
    }
   ],
   "metadata": {}
  }
 ]
}
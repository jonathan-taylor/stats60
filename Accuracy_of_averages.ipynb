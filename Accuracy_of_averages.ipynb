{
 "cells": [
  {
   "cell_type": "code",
   "execution_count": null,
   "metadata": {
    "collapsed": false,
    "slideshow": {
     "slide_type": "skip"
    }
   },
   "outputs": [],
   "source": [
    "%matplotlib inline\n",
    "import matplotlib.pyplot as plt\n",
    "import numpy as np\n",
    "from numpy import mean, sqrt, std\n",
    "from scipy.stats import norm as ndist\n",
    "\n",
    "# stats60 specific\n",
    "from code.probability import Binomial, BoxModel, RandomVariable\n",
    "from code.utils import probability_histogram\n",
    "from code.week1 import normal_curve\n",
    "import code.roulette as roulette\n",
    "\n",
    "figsize = (8,8)"
   ]
  },
  {
   "cell_type": "markdown",
   "metadata": {
    "slideshow": {
     "slide_type": "slide"
    }
   },
   "source": [
    "## Average of draws\n",
    "\n",
    "- The **average of n draws** (or sample average) is\n",
    "\n",
    "         average of n draws = (sum of n draws) / n\n",
    "         \n",
    "- The expected value of the average of n draws is\n",
    "\n",
    "         expected(average of n draws) = average(box)\n",
    "         \n",
    "- The SE for the average of n draws is\n",
    "\n",
    "         SE(average of n draws) = SD(box) / sqrt(n)\n",
    "- Just like the SE of sample proportion – it decreases as # draws increase."
   ]
  },
  {
   "cell_type": "markdown",
   "metadata": {
    "slideshow": {
     "slide_type": "slide"
    }
   },
   "source": [
    "## Betting 10\\$ on  5\n"
   ]
  },
  {
   "cell_type": "code",
   "execution_count": null,
   "metadata": {
    "collapsed": false,
    "slideshow": {
     "slide_type": "skip"
    }
   },
   "outputs": [],
   "source": [
    "places = {}\n",
    "for i in range(1,37) + ['0','00']:\n",
    "    if i in [5]:\n",
    "        places[i] = roulette.roulette_position(350,\n",
    "                                               facecolor='green',\n",
    "                                               bg_alpha=None,\n",
    "                                               fontsize=90)\n",
    "    else:\n",
    "        places[i] = roulette.roulette_position(-10,\n",
    "                                               facecolor='red',\n",
    "                                               bg_alpha=None,\n",
    "                                               fontsize=90)\n",
    "winnings = roulette.roulette_table(places)\n",
    "from IPython.core.display import HTML"
   ]
  },
  {
   "cell_type": "code",
   "execution_count": null,
   "metadata": {
    "collapsed": false,
    "slideshow": {
     "slide_type": "fragment"
    }
   },
   "outputs": [],
   "source": [
    "HTML(winnings)"
   ]
  },
  {
   "cell_type": "markdown",
   "metadata": {
    "slideshow": {
     "slide_type": "slide"
    }
   },
   "source": [
    "### Probability histogram of successes"
   ]
  },
  {
   "cell_type": "code",
   "execution_count": null,
   "metadata": {
    "collapsed": false,
    "slideshow": {
     "slide_type": "skip"
    }
   },
   "outputs": [],
   "source": [
    "%%capture\n",
    "ntrial = 10\n",
    "bet10_5 = Binomial(10, BoxModel(roulette.sample_space), [5])\n",
    "bet10_5.mass_function\n",
    "bet10_win = plt.figure(figsize=figsize)\n",
    "bet10_ax = probability_histogram(bet10_5,\n",
    "                                    alpha=0.5, facecolor='gray',\n",
    "                                    xlabel='Number of wins',\n",
    "                                    ylabel='% per win')[0]\n",
    "bet10_ax.set_title('Probability histogram for wins in 10 bets', fontsize=13)\n",
    "bet10_ax.set_xlim([-0.6,5.1])"
   ]
  },
  {
   "cell_type": "code",
   "execution_count": null,
   "metadata": {
    "collapsed": false,
    "slideshow": {
     "slide_type": "fragment"
    }
   },
   "outputs": [],
   "source": [
    "bet10_win"
   ]
  },
  {
   "cell_type": "code",
   "execution_count": null,
   "metadata": {
    "collapsed": false,
    "slideshow": {
     "slide_type": "skip"
    }
   },
   "outputs": [],
   "source": [
    "%%capture\n",
    "ntrial = 10\n",
    "bet10_5w = roulette.bet([5], 10, ntrial)\n",
    "bet10_5w.mass_function\n",
    "bet10_earnings = plt.figure(figsize=figsize)\n",
    "bet10_ax_earn = probability_histogram(bet10_5w,\n",
    "                                      alpha=0.5, facecolor='gray',\n",
    "                                      xlabel='Winnings ($)',\n",
    "                                      ylabel='% per $',\n",
    "                                      width=360)[0]\n",
    "bet10_ax_earn.set_title('Probability histogram for earnings in 10 bets', fontsize=13)\n",
    "bet10_ax_earn.set_xlim([-300,1500])"
   ]
  },
  {
   "cell_type": "code",
   "execution_count": null,
   "metadata": {
    "collapsed": false,
    "slideshow": {
     "slide_type": "slide"
    }
   },
   "outputs": [],
   "source": [
    "bet10_earnings"
   ]
  },
  {
   "cell_type": "markdown",
   "metadata": {
    "slideshow": {
     "slide_type": "slide"
    }
   },
   "source": [
    "## Average earnings"
   ]
  },
  {
   "cell_type": "code",
   "execution_count": null,
   "metadata": {
    "collapsed": false,
    "slideshow": {
     "slide_type": "skip"
    }
   },
   "outputs": [],
   "source": [
    "%%capture\n",
    "ntrial = 10\n",
    "mean10_w = RandomVariable(bet10_5w, lambda x: x / (1. * ntrial))\n",
    "bet10_avg_earnings = plt.figure(figsize=figsize)\n",
    "bet10_ax_avg_earn = probability_histogram(mean10_w,\n",
    "                                      alpha=0.5, facecolor='gray',\n",
    "                                      xlabel='Winnings ($)',\n",
    "                                      ylabel='% per $',\n",
    "                                      width=360./ntrial)[0]\n",
    "bet10_ax_avg_earn.set_title('Probability histogram for average earnings in 10 bets', fontsize=13)\n",
    "bet10_ax_avg_earn.set_xlim([-30,150])"
   ]
  },
  {
   "cell_type": "code",
   "execution_count": null,
   "metadata": {
    "collapsed": false,
    "slideshow": {
     "slide_type": "fragment"
    }
   },
   "outputs": [],
   "source": [
    "bet10_avg_earnings"
   ]
  },
  {
   "cell_type": "code",
   "execution_count": null,
   "metadata": {
    "collapsed": false,
    "slideshow": {
     "slide_type": "skip"
    }
   },
   "outputs": [],
   "source": [
    "%%capture\n",
    "ntrial = 100\n",
    "bet100_5w = roulette.bet([5], 10, ntrial)\n",
    "mean100_w = RandomVariable(bet100_5w, lambda x: x / (1. * ntrial))\n",
    "bet100_avg_earnings = plt.figure(figsize=figsize)\n",
    "bet100_ax_avg_earn = probability_histogram(mean100_w,\n",
    "                                      alpha=0.5, facecolor='gray',\n",
    "                                      xlabel='Winnings ($)',\n",
    "                                      ylabel='% per $',\n",
    "                                      width=360./ntrial)[0]\n",
    "bet100_ax_avg_earn.set_title('Probability histogram for average earnings in %d bets' % ntrial, fontsize=13)\n"
   ]
  },
  {
   "cell_type": "code",
   "execution_count": null,
   "metadata": {
    "collapsed": false,
    "slideshow": {
     "slide_type": "slide"
    }
   },
   "outputs": [],
   "source": [
    "bet100_avg_earnings"
   ]
  },
  {
   "cell_type": "code",
   "execution_count": null,
   "metadata": {
    "collapsed": false,
    "slideshow": {
     "slide_type": "skip"
    }
   },
   "outputs": [],
   "source": [
    "%%capture\n",
    "ntrial = 200\n",
    "bet1000_5w = roulette.bet([5], 10, ntrial)\n",
    "mean1000_w = RandomVariable(bet1000_5w, lambda x: x / (1. * ntrial))\n",
    "bet1000_avg_earnings = plt.figure(figsize=figsize)\n",
    "bet1000_ax_avg_earn = probability_histogram(mean1000_w,\n",
    "                                      alpha=0.5, facecolor='gray',\n",
    "                                      xlabel='Winnings ($)',\n",
    "                                      ylabel='% per $',\n",
    "                                      width=360./ntrial)[0]\n",
    "bet1000_ax_avg_earn.set_title('Probability histogram for average earnings in %d bets' % ntrial, fontsize=13)\n"
   ]
  },
  {
   "cell_type": "code",
   "execution_count": null,
   "metadata": {
    "collapsed": false,
    "slideshow": {
     "slide_type": "slide"
    }
   },
   "outputs": [],
   "source": [
    "bet1000_avg_earnings \n"
   ]
  },
  {
   "cell_type": "markdown",
   "metadata": {
    "slideshow": {
     "slide_type": "slide"
    }
   },
   "source": [
    "## Arbitrary boxes\n",
    "\n",
    "- Computing the average of 200 bets, can be represented by drawing with replacement from a box model.\n",
    "\n",
    "- Some chance processes can't be represented so neatly with a box model.\n",
    "\n",
    "- Or, the box might be so large that it is impractical to write it down.\n",
    "\n",
    "- The box might even be infinite.\n",
    "\n",
    "- In this case, we cannot compute SD(box), so we cannot tell how accurate our\n",
    "average is."
   ]
  },
  {
   "cell_type": "markdown",
   "metadata": {
    "slideshow": {
     "slide_type": "slide"
    }
   },
   "source": [
    "## Bootstrap estimate\n",
    "\n",
    "\n",
    "- Given a sample ${[X_1, \\dots, X_n]}$ of $n$ draws, we can compute the {\\em sample mean}\n",
    "   Call this\n",
    "   $$\n",
    "   { \\bar{X}}  = \\frac{{ \\text{ sum of draws}}}{{ \\text{$\\#$ of draws}}}  = \\frac{{ \\sum_{i=1}^n X_i}}{{ n}}\n",
    "   $$\n",
    "   - We know\n",
    "   $$\n",
    "   \\begin{aligned}\n",
    "   { \\text{SE}(\\bar{X})} = \\frac{{\\text{SD( box)}}}{{ \\sqrt{\\text{$\\#$ of draws}}}}\n",
    "   \\end{aligned}\n",
    "   $$\n",
    "\n",
    "   - Unfortunately, we don't know ${\\text{SD( box)}}$.\n",
    "\n",
    "   - Use **plug-in / bootstrap** estimate\n",
    "   $$\n",
    "   {\\widehat{ \\text{SE}(\\bar{X})}} = \\frac{{\\text{SD($[X_1, \\dots, X_n]$)}}}{{\\sqrt{ \\text{$\\#$ of draws}}}} =  \\frac{{ \\sqrt{\\frac{1}{n}\\sum\\\n",
    "_{i=1}^n (X_i - \\bar{X})^2}}}{ \\sqrt{n}}\n",
    "   $$\n",
    "\n",
    "\n"
   ]
  },
  {
   "cell_type": "markdown",
   "metadata": {
    "slideshow": {
     "slide_type": "slide"
    }
   },
   "source": [
    "## Normal approximation\n",
    "\n",
    "- Conversion to average just changes the units.\n",
    "- We can use normal approximation to approximate chances,\n",
    "   as long as we standardize correctly.\n",
    "\n",
    "- For example, there is 90% probability that\n",
    "   $\\bar{X}$ is within ${  \\pm 1.65 \\ \\text{SD( box)} / \\sqrt{n}}$) (i.e.$ \\pm 1.65 \\cdot \\text{SE}(\\bar{X})$ of \n",
    "   $$\\text{average(box)}=\\mu.$$\n",
    "\n",
    "- Or,\n",
    "   $$\n",
    "   P\\left(\\text{$\\bar{X}$ within $1.65 \\ \\text{SD( box)}/\\sqrt{n}$ of $\\mu$} \\right) \\approx 90\\%.\n",
    "   $$\n",
    "\n",
    "- The parameter ${ \\mu}$ is determined by the chance process. It is not random, it is a number.\n",
    "- How can we ``reverse this statement'' to yield a confidence interval\n",
    "   based on a sample of, say, size 100 for ${ \\mu}$?\n",
    "\n"
   ]
  },
  {
   "cell_type": "markdown",
   "metadata": {
    "slideshow": {
     "slide_type": "slide"
    }
   },
   "source": [
    "## Reversing the picture\n",
    "\n",
    "- The normal approximation says, for a sample of size 100\n",
    "   $$\n",
    "   \\begin{aligned}\n",
    "   \\text{P} \\left(\\text{$\\bar{X} > \\mu + \\frac{1.65 \\times \\; \\text{SD( box)}}{\\sqrt{100}}$}\\right) &\\approx 5\\% \\\\\n",
    "   \\text{P} \\left(\\text{$\\bar{X} < \\mu - \\frac{1.65 \\times \\; \\text{SD( box)}}{\\sqrt{100}}$}\\right) &\\approx 5\\% \\\\\n",
    "   \\end{aligned}\n",
    "   $$\n",
    "\n",
    "- This is the same as saying                                                                                                           \n",
    "   $$\n",
    "   \\begin{aligned}\n",
    "   \\text{P} \\left(\\text{$\\mu < \\bar{X} - \\frac{1.65 \\times \\; \\text{SD(box)}}{\\sqrt{100}}$}\\right) &\\approx 5\\% \\\\\n",
    "   \\text{P} \\left(\\text{$ \\mu > \\bar{X} + \\frac{1.65 \\times \\; \\text{SD( box)}}{\\sqrt{100}}$}\\right) &\\approx 5\\% \\\\\n",
    "   \\end{aligned}\n",
    "   $$\n",
    "   \n",
    "- In other words,\n",
    "   $$\n",
    "   \\begin{aligned}\n",
    "   \\text{P} \\left(\\text{$\\mu$ between $\\bar{X} \\pm 1.65 \\times \\frac{\\text{SD( box)}}{\\sqrt{100}}$} \\right) &\\approx 90\\% \\\\\n",
    "   \\end{aligned}\n",
    "   $$   \n"
   ]
  },
  {
   "cell_type": "markdown",
   "metadata": {
    "slideshow": {
     "slide_type": "slide"
    }
   },
   "source": [
    "## Using our bootstrap estimate of SE\n",
    "\n",
    "- Even though we don't know  SD( box) we estimated\n",
    "$$\n",
    "   \\frac{ \\text{SD( box)}}{ \\sqrt{100}}                                                                   $$     \n",
    "   by the bootstrap estimate of SE  \n",
    "   $$ \\frac{\\text{SD}([X_1, \\dots, X_{100}])}{ \\sqrt{100}}$$\n",
    "   \n",
    "   \n",
    "- If we can plug this in (and we can if sample is large enough), we see that\n",
    "   $$\n",
    "   \\begin{aligned}\n",
    "   \\text{P} \\left(\\text{$\\mu$ between ${ \\bar{X} \\pm 1.65 \\times \\; \\text{SD}([X_1, \\dots, X_{100}]) / \\sqrt{100\\\n",
    "}}$}\\right) &\\approx 90\\% \\\\\n",
    "   \\end{aligned}\n",
    "   $$\n"
   ]
  },
  {
   "cell_type": "markdown",
   "metadata": {
    "slideshow": {
     "slide_type": "slide"
    }
   },
   "source": [
    "## Different rules of computing SE\n",
    "\n",
    "- We have seen various different rules for computing SE.\n",
    "\n",
    "         SE(sum of B marbles in n draws) = \\\n",
    "               sqrt(n) * sqrt(p[B] * (1 - p[B])) \n",
    "         \n",
    "         SE(proportion of B marbles in n draws) = \\\n",
    "               sqrt(p[B] * (1 - p[B])) / sqrt(n)\n",
    "         \n",
    "         SE(sum of n draws) = sqrt(n) * SD(box)\n",
    "         \n",
    "         SE(average of n draws) = SD(box) / sqrt(n)\n",
    "         \n",
    "         \n",
    "- They are all examples of the first rule for $\\text{SE( sum of draws)}$ followed by unit conversion.\n",
    "\n",
    "- Once we have figured out the appropriate SE and expected value, we can use normal approximation if # of draws is large enough."
   ]
  },
  {
   "cell_type": "markdown",
   "metadata": {
    "slideshow": {
     "slide_type": "slide"
    }
   },
   "source": [
    "## Normal approximation for $\\bbox[5px,border:2px solid orange]{ \\widehat{\\theta}}$\n",
    "\n",
    "* Suppose we are trying to estimate *something about a chance\n",
    "process*\n",
    "   called $\\bbox[5px,border:2px solid blue]{\\theta}$ with an estimator $\\bbox[5px,border:2px solid orange]{ \\widehat{\\theta}}$.\n",
    "* Under the appropriate conditions, a normal approximation may hold $\\bbox[5px,border:2px solid orange]{ \\widehat{\\theta}}$.\n",
    "* If $E(\\bbox[5px,border:2px solid orange]{\\widehat{\\theta}} )= \\bbox[5px,border:2px solid blue]{ \\theta}$ and the normal approximation holds, then $$P \\left(\\frac{\\bbox[5px,border:2px solid orange]{  \\widehat{\\theta}} - \\bbox[5px,border:2px solid blue]{ \\theta}}{SE(\\bbox[5px,border:2px solid orange] { \\widehat{\\theta}})} \\leq c \\right)$$ \n",
    "can be expressed as the area under the standard normal curve, i.e. it can be computed using table A-104 from the book.\n",
    "* For example, suppose $c=-1.5$, then …"
   ]
  },
  {
   "cell_type": "code",
   "execution_count": null,
   "metadata": {
    "collapsed": false,
    "slideshow": {
     "slide_type": "skip"
    }
   },
   "outputs": [],
   "source": [
    "%%capture\n",
    "normal_fig = plt.figure(figsize=figsize)\n",
    "ax = normal_curve()\n",
    "interval = np.linspace(-4,-1.5,101)\n",
    "ax.fill_between(interval, 0*interval, ndist.pdf(interval), \n",
    "                hatch='+', facecolor='red')\n",
    "ax.set_title('Area is about 6.7%', fontsize=15)\n"
   ]
  },
  {
   "cell_type": "code",
   "execution_count": null,
   "metadata": {
    "collapsed": false,
    "slideshow": {
     "slide_type": "slide"
    }
   },
   "outputs": [],
   "source": [
    "normal_fig"
   ]
  },
  {
   "cell_type": "markdown",
   "metadata": {
    "slideshow": {
     "slide_type": "slide"
    }
   },
   "source": [
    "## Normal approximation and confidence intervals\n",
    "\n",
    "- If a normal approximation holds for \n",
    "$\\bbox[5px,border:2px solid orange]{ \\widehat{\\theta}}$\n",
    " then, for example, \n",
    " $$ \\bbox[5px,border:2px solid orange]{ \\widehat{\\theta}}\n",
    "  \\pm 1.65 \\times SE(\\bbox[5px,border:2px solid orange]{ \\widehat{\\theta}})\n",
    "  $$\n",
    "   is a 90% confidence interval for $\\bbox[5px,border:2px solid blue]{ \\theta}$.\n",
    "- Often, we only have an estimate $\\bbox[5px,border:2px solid orange]\n",
    "{\\widehat{\\text{SE}(\\widehat{\\theta})}}$\n",
    "\n",
    "- We can then compute an approximate 90% confidence interval:\n",
    "$$ \\bbox[5px,border:2px solid orange]{ \\widehat{\\theta}}\n",
    "  \\pm 1.65 \\times \\bbox[5px,border:2px solid orange]\n",
    "{\\widehat{\\text{SE}(\\widehat{\\theta})}}\n",
    "  $$\n",
    "\n",
    "- An approximate 95% confidence interval is:\n",
    "$$ \\bbox[5px,border:2px solid orange]{ \\widehat{\\theta}}\n",
    "  \\pm 2 \\times \\bbox[5px,border:2px solid orange]\n",
    "{\\widehat{\\text{SE}(\\widehat{\\theta})}}\n",
    "  $$\n",
    "  \n",
    "- **Caution: if the normal approximation does not hold, then we cannot use these rules for confidence intervals.**\n",
    "  "
   ]
  },
  {
   "cell_type": "markdown",
   "metadata": {
    "slideshow": {
     "slide_type": "slide"
    }
   },
   "source": [
    "## Example\n",
    "\n",
    "- Suppose you ask a consultant to estimate the the long run average of the daily sales of your business. By some method, he estimates the sales and tells you: \n",
    "\n",
    "         I estimate your long run average of daily sales \n",
    "         to be $2100 give or take $200.\n",
    "\n",
    "- Find a 95% confidence interval for your average daily sales."
   ]
  },
  {
   "cell_type": "markdown",
   "metadata": {
    "slideshow": {
     "slide_type": "fragment"
    }
   },
   "source": [
    "\n",
    "## Answer\n",
    "\n",
    "-  We do not have enough information yet to determine it the method the consultant used is such that a normal approximation holds. When asked, he tells you \n",
    "\n",
    "         My methodology is simple: I just took the sales \n",
    "         from yesterday, which were $2100 and figured $200 \n",
    "         dollars is a reasonable give or take number.\n",
    "         \n",
    "- You respond: \"You're fired.\"\n"
   ]
  },
  {
   "cell_type": "markdown",
   "metadata": {
    "slideshow": {
     "slide_type": "slide"
    }
   },
   "source": [
    "## Continued\n",
    "\n",
    "- The next consultant you hire gives you an estimate of \\$2050 give or take \\$250 (i.e. the estimate of the accuracy of his daily sales estimate is 250\\$) and he assures you that his methodology is such that a normal approximation is reasonable. \n",
    "\n",
    "- Find a 95% confidence interval for the long run average daily sales.\n",
    "\n",
    "## Answer\n",
    "\n",
    "A 95% confidence interval for the long run average daily sales is $\\$ 2050 \\pm 2 \\times \\$ 250.$"
   ]
  }
 ],
 "metadata": {
  "celltoolbar": "Slideshow",
  "kernelspec": {
   "display_name": "Python 2",
   "language": "python",
   "name": "python2"
  },
  "language_info": {
   "codemirror_mode": {
    "name": "ipython",
    "version": 2
   },
   "file_extension": ".py",
   "mimetype": "text/x-python",
   "name": "python",
   "nbconvert_exporter": "python",
   "pygments_lexer": "ipython2",
   "version": "2.7.11"
  }
 },
 "nbformat": 4,
 "nbformat_minor": 0
}

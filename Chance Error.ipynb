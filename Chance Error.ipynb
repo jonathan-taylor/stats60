{
 "metadata": {
  "name": ""
 },
 "nbformat": 3,
 "nbformat_minor": 0,
 "worksheets": [
  {
   "cells": [
    {
     "cell_type": "heading",
     "level": 3,
     "metadata": {
      "slideshow": {
       "slide_type": "slide"
      }
     },
     "prompt_number": 1,
     "source": [
      "Roulette"
     ]
    },
    {
     "cell_type": "markdown",
     "metadata": {},
     "prompt_number": 2,
     "source": [
      "\n",
      "Possible outcomes: balls numbered 1 to 36, plus [0, 00]."
     ]
    },
    {
     "cell_type": "heading",
     "level": 3,
     "metadata": {
      "slideshow": {
       "slide_type": "slide"
      }
     },
     "prompt_number": 2,
     "source": [
      "Roulette"
     ]
    },
    {
     "cell_type": "markdown",
     "metadata": {},
     "prompt_number": 3,
     "source": [
      "\n",
      "Betting on  RED\n",
      ": 18 balls are success."
     ]
    },
    {
     "cell_type": "heading",
     "level": 3,
     "metadata": {
      "slideshow": {
       "slide_type": "slide"
      }
     },
     "prompt_number": 3,
     "source": [
      "Box model for winnings"
     ]
    },
    {
     "cell_type": "markdown",
     "metadata": {},
     "prompt_number": 4,
     "source": [
      "\n",
      "Betting 10$ on  RED\n",
      ": win 10$ with probability 9/19."
     ]
    },
    {
     "cell_type": "heading",
     "level": 3,
     "metadata": {
      "slideshow": {
       "slide_type": "slide"
      }
     },
     "prompt_number": 4,
     "source": [
      "Box model for winnings"
     ]
    },
    {
     "cell_type": "markdown",
     "metadata": {},
     "prompt_number": 5,
     "source": [
      "\n",
      "Betting 10$ on  RED\n",
      ": lose 10$ with probability 10/19."
     ]
    },
    {
     "cell_type": "heading",
     "level": 3,
     "metadata": {
      "slideshow": {
       "slide_type": "slide"
      }
     },
     "prompt_number": 5,
     "source": [
      "The law of averages"
     ]
    },
    {
     "cell_type": "markdown",
     "metadata": {},
     "prompt_number": 5,
     "source": [
      "\n",
      "Example\n",
      "\n",
      "* Suppose we start with 100$ in a Las Vegas casino and bet 10 $ on  RED\n",
      "   100 times.\n",
      "* If the ball lands  RED\n",
      "   we are up 10 $. If not, we are down 10 $.\n",
      "* About how much money should we have after 100 bets?"
     ]
    },
    {
     "cell_type": "heading",
     "level": 3,
     "metadata": {
      "slideshow": {
       "slide_type": "slide"
      }
     },
     "prompt_number": 5,
     "source": [
      "Betting on  RED\n",
      " 100 times, starting with 100$"
     ]
    },
    {
     "cell_type": "markdown",
     "metadata": {},
     "prompt_number": 6,
     "source": [
      "\n",
      "Histogram based on 20000 simulated results."
     ]
    },
    {
     "cell_type": "heading",
     "level": 3,
     "metadata": {
      "slideshow": {
       "slide_type": "slide"
      }
     },
     "prompt_number": 6,
     "source": [
      "Betting on  RED\n",
      " 1000 times, starting with 100$"
     ]
    },
    {
     "cell_type": "markdown",
     "metadata": {},
     "prompt_number": 7,
     "source": [
      "\n",
      "Histogram based on 20000 simulated results."
     ]
    },
    {
     "cell_type": "heading",
     "level": 3,
     "metadata": {
      "slideshow": {
       "slide_type": "slide"
      }
     },
     "prompt_number": 7,
     "source": [
      "The law of averages"
     ]
    },
    {
     "cell_type": "markdown",
     "metadata": {},
     "prompt_number": 7,
     "source": [
      "\n",
      "Average winnings\n",
      "\n",
      "* There is 18/38 chance of winning 10$, and 20/38 chance of losing 10$.\n",
      "* On average, each bet we \"gain\" $\\frac{18}{38} \\times 10\\$ + \\frac{20}{38} \\times (-10\\$) = -\\frac{1}{19} \\times 10\\$ \\approx -0.52\\$$\n",
      "* This is the average of the 38 outcomes in our \"box model\".\n",
      "* Our average winnings after 100 bets is approximately -52$ so we should finish with about 48 $.\n",
      "* Our average winnings after 1000 bets is approximately -520$ so we should finish about 420$ in debt."
     ]
    },
    {
     "cell_type": "heading",
     "level": 3,
     "metadata": {
      "slideshow": {
       "slide_type": "slide"
      }
     },
     "prompt_number": 7,
     "source": [
      "Average and standard deviation"
     ]
    },
    {
     "cell_type": "markdown",
     "metadata": {},
     "prompt_number": 7,
     "source": [
      "\n",
      "Average when drawing from a box\n",
      "\n",
      "* Draw a ticket (with replacement) from a box of balls with values assigned to them (i.e. 10$, -10$).\n",
      "* Repeat this process $n$ times and compute the sum of all the results, calling this the **sum of draws**\n",
      "  .\n",
      "* On average, the **sum of draws**\n",
      "   should be $n \\times \\text{average(values in the box)}$"
     ]
    },
    {
     "cell_type": "heading",
     "level": 3,
     "metadata": {
      "slideshow": {
       "slide_type": "slide"
      }
     },
     "prompt_number": 7,
     "source": [
      "Average and standard deviation"
     ]
    },
    {
     "cell_type": "markdown",
     "metadata": {},
     "prompt_number": 7,
     "source": [
      "\n",
      "Average when drawing from a box\n",
      "\n",
      "* Formula: $\\begin{aligned}\n",
      "       \\text{average({\\bf sum of draws})}\n",
      "       &= n \\times \\text{average(values in the box)}\n",
      "     \\end{aligned}$\n",
      "* We also call the average the expected value $\\text{expected({\\bf sum of draws})} = \\text{average({\\bf sum of draws})}$\n",
      "* Example: when betting  RED\n",
      "   on roulette, the average **sum of 100 bet results**\n",
      "   is -52$."
     ]
    },
    {
     "cell_type": "heading",
     "level": 3,
     "metadata": {
      "slideshow": {
       "slide_type": "slide"
      }
     },
     "prompt_number": 7,
     "source": [
      "Average and standard deviation"
     ]
    },
    {
     "cell_type": "markdown",
     "metadata": {},
     "prompt_number": 7,
     "source": [
      "\n",
      "Chance error\n",
      "\n",
      "* Of course, we don\u2019t always end up with 48$ after one hundred bets.\n",
      "* I simulated the entire experiment 20000 times and recorded the results in **simulation results**\n",
      "  , a reasonable guess for how close to 48$ we would be $\\text{SD({\\bf simulation results})}$\n",
      "* It turns out that this is $\\approx 100 \\$ $.\n",
      "* Even though, on average, we should have 48$ after 100 bets, our winnings can fluctuate on the order of 100$.\n",
      "* Even though, on average, we should have -420$, our winnings can fluctuate on the order of 300$."
     ]
    },
    {
     "cell_type": "heading",
     "level": 3,
     "metadata": {
      "slideshow": {
       "slide_type": "slide"
      }
     },
     "prompt_number": 7,
     "source": [
      "Average and standard deviation"
     ]
    },
    {
     "cell_type": "markdown",
     "metadata": {},
     "prompt_number": 7,
     "source": [
      "\n",
      "Chance error\n",
      "\n",
      "* We define the *chance error*\n",
      "   of the experiment by $\\text{{\\bf sum of draws}} = \\text{expected({\\bf sum of draws})} + \\text{chance error}.$\n",
      "* Example:\n",
      "*     * We are going to flip a fair coin 100 times and record the number of heads.\n",
      "      * After 100 flips we observe 56 heads.\n",
      "      * The chance error is 6 because the expected number of heads is 50."
     ]
    },
    {
     "cell_type": "heading",
     "level": 3,
     "metadata": {
      "slideshow": {
       "slide_type": "slide"
      }
     },
     "prompt_number": 7,
     "source": [
      "Average and standard error"
     ]
    },
    {
     "cell_type": "markdown",
     "metadata": {},
     "prompt_number": 7,
     "source": [
      "\n",
      "Square root rule\n",
      "\n",
      "* Draw a ticket (with replacement) from a box of balls with values assigned to them (i.e. 10$, -10$).\n",
      "* Repeat this process $n$ times and compute the **sum of draws**\n",
      "  .\n",
      "* The **sum of draws**\n",
      "   should be near the average but likely to be off by $\\text{SE({\\bf sum of draws})} = \\sqrt{n} \\times \\text{SD}(\\text{values in the box})$\n",
      "* We call this the *standard error*\n",
      "  . It measures the typical size of *chance error*\n",
      "  ."
     ]
    },
    {
     "cell_type": "heading",
     "level": 3,
     "metadata": {
      "slideshow": {
       "slide_type": "slide"
      }
     },
     "prompt_number": 7,
     "source": [
      "Average and standard error"
     ]
    },
    {
     "cell_type": "markdown",
     "metadata": {},
     "prompt_number": 7,
     "source": [
      "\n",
      "Difference between SD and SE\n",
      "\n",
      "SD is for data * It is a function that take a list of numbers and returns a number.\n",
      "SE is for chance * It takes a chance process like drawing 10 balls from a box of numbers and returns a number."
     ]
    },
    {
     "cell_type": "heading",
     "level": 3,
     "metadata": {
      "slideshow": {
       "slide_type": "slide"
      }
     },
     "prompt_number": 7,
     "source": [
      "Average and standard error"
     ]
    },
    {
     "cell_type": "markdown",
     "metadata": {},
     "prompt_number": 7,
     "source": [
      "\n",
      "Short cut\n",
      "\n",
      "* Suppose there are only two values on the tickets, say, $V_1, V_2$ with proportion $p$ having value $V_1$.\n",
      "* Then $\\text{SD(values in the box)} = |V_1-V_2| \\times \\sqrt{p \\times (1-p)}$"
     ]
    },
    {
     "cell_type": "heading",
     "level": 3,
     "metadata": {
      "slideshow": {
       "slide_type": "slide"
      }
     },
     "prompt_number": 7,
     "source": [
      "Average and standard error"
     ]
    },
    {
     "cell_type": "markdown",
     "metadata": {},
     "prompt_number": 7,
     "source": [
      "\n",
      "Example\n",
      "\n",
      "* In our  RED\n",
      "   roulette example, $V_1=10 \\$, V_2=-10\\$ $ and $p=18/38$.\n",
      "* The shortcut says that $\\text{SD(values in the box)} = 20 \\$ \\times \\sqrt{\\frac{18}{38} \\times \\frac{20}{38}} \\approx 10\\$.$\n",
      "* The square root rule says that $\\text{SE(sum of 100 bet results)} = \\sqrt{100} \\times 10\\$ \\approx 100\\$.$\n",
      "* The square root rule says that $\\text{SE(sum of 1000 bet results)} = \\sqrt{1000} \\times 10\\$ \\approx 300\\$.$"
     ]
    },
    {
     "cell_type": "heading",
     "level": 3,
     "metadata": {
      "slideshow": {
       "slide_type": "slide"
      }
     },
     "prompt_number": 7,
     "source": [
      "Roulette"
     ]
    },
    {
     "cell_type": "markdown",
     "metadata": {},
     "prompt_number": 8,
     "source": [
      "\n",
      "Betting on  5\n",
      ": 1 balls is a success."
     ]
    },
    {
     "cell_type": "heading",
     "level": 3,
     "metadata": {
      "slideshow": {
       "slide_type": "slide"
      }
     },
     "prompt_number": 8,
     "source": [
      "Box model for winnings"
     ]
    },
    {
     "cell_type": "markdown",
     "metadata": {},
     "prompt_number": 9,
     "source": [
      "\n",
      "Betting 10$ on  5\n",
      ": win 350$ with probability 1/38"
     ]
    },
    {
     "cell_type": "heading",
     "level": 3,
     "metadata": {
      "slideshow": {
       "slide_type": "slide"
      }
     },
     "prompt_number": 9,
     "source": [
      "Box model for winnings"
     ]
    },
    {
     "cell_type": "markdown",
     "metadata": {},
     "prompt_number": 10,
     "source": [
      "\n",
      "Betting 10$ on  5\n",
      ": lose 10$ with probability 37/38"
     ]
    },
    {
     "cell_type": "heading",
     "level": 3,
     "metadata": {
      "slideshow": {
       "slide_type": "slide"
      }
     },
     "prompt_number": 10,
     "source": [
      "Betting on  5\n",
      " 10 times, starting with 100$"
     ]
    },
    {
     "cell_type": "markdown",
     "metadata": {},
     "prompt_number": 11,
     "source": [
      "\n",
      "Histogram based on 20000 simulated results."
     ]
    },
    {
     "cell_type": "heading",
     "level": 3,
     "metadata": {
      "slideshow": {
       "slide_type": "slide"
      }
     },
     "prompt_number": 11,
     "source": [
      "Betting on  5\n",
      " 100 times, starting with 100$"
     ]
    },
    {
     "cell_type": "markdown",
     "metadata": {},
     "prompt_number": 12,
     "source": [
      "\n",
      "Histogram based on 20000 simulated results."
     ]
    },
    {
     "cell_type": "heading",
     "level": 3,
     "metadata": {
      "slideshow": {
       "slide_type": "slide"
      }
     },
     "prompt_number": 12,
     "source": [
      "Betting on  5\n",
      " 1000 times, starting with 100$"
     ]
    },
    {
     "cell_type": "markdown",
     "metadata": {},
     "prompt_number": 13,
     "source": [
      "\n",
      "Histogram based on 20000 simulated results."
     ]
    }
   ],
   "metadata": {}
  }
 ]
}
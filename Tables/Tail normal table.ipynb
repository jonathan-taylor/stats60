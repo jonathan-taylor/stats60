{
 "metadata": {
  "celltoolbar": "Slideshow",
  "name": "",
  "signature": "sha256:2bd2715f0f8bea6b89adaae80df629ad4f6379d87a2675be28d2ee511998c394"
 },
 "nbformat": 3,
 "nbformat_minor": 0,
 "worksheets": [
  {
   "cells": [
    {
     "cell_type": "markdown",
     "metadata": {
      "slideshow": {
       "slide_type": "slide"
      }
     },
     "prompt_number": 1,
     "source": [
      "# Tail area normal table"
     ]
    },
    {
     "cell_type": "code",
     "collapsed": false,
     "input": [
      "%%capture\n",
      "with plt.xkcd():\n",
      "    from scipy.stats import norm as ndist\n",
      "    from pylab import fill_between\n",
      "    X = np.linspace(-3.5,3.5,101)\n",
      "    D = ndist.pdf(X)\n",
      "    fig = plt.figure(figsize=(6,6))\n",
      "    ax = fig.gca()\n",
      "    ax.plot(X, D, 'k', linewidth=5)\n",
      "    x = np.linspace(-5,1.3,201)\n",
      "    ax.fill_between(x, 0, ndist.pdf(x), facecolor='gray')\n",
      "    ax.set_xlabel('Standard units', fontsize=15)\n",
      "    ax.set_ylabel('Percent per standard units', fontsize=15)\n",
      "    ax.set_ylim([0,.45])\n",
      "    ax.annotate('Height\\n(%/unit)', xy=(1, 0.5 * ndist.pdf(1.3)),\n",
      "               arrowprops=dict(facecolor='red'), xytext=(2,0.3),\n",
      "               fontsize=15)\n",
      "    ax.annotate('z=1.3', xy=(1.3, 0),\n",
      "               arrowprops=dict(facecolor='red'), xytext=(2,-0.1),\n",
      "               fontsize=15)\n",
      "    ax.annotate('Area (%)', xy=(0, 0.2),\n",
      "               arrowprops=dict(facecolor='red'), xytext=(-3.5,0.3),\n",
      "               fontsize=15)\n",
      "    ax.set_xlim([-4,4])"
     ],
     "language": "python",
     "metadata": {
      "slideshow": {
       "slide_type": "skip"
      }
     },
     "outputs": [],
     "prompt_number": 1
    },
    {
     "cell_type": "code",
     "collapsed": false,
     "input": [
      "fig"
     ],
     "language": "python",
     "metadata": {
      "slideshow": {
       "slide_type": "fragment"
      }
     },
     "outputs": [],
     "prompt_number": 2
    },
    {
     "cell_type": "code",
     "collapsed": false,
     "input": [
      "tail_normal_table(1.3)"
     ],
     "language": "python",
     "metadata": {
      "slideshow": {
       "slide_type": "fragment"
      }
     },
     "outputs": [],
     "prompt_number": 3
    },
    {
     "cell_type": "code",
     "collapsed": false,
     "input": [
      "from ipy_table import make_table\n",
      "Z = zip(np.linspace(-4,-2.05,40), np.linspace(-2,-0.05,40), \n",
      "        np.linspace(0,1.95,40), np.linspace(2,3.95,40))\n",
      "tail = [('$z$', 'Height', 'Area', '')*4] + \\\n",
      "    [('%0.2f' % z1, '%0.2e' % (100*ndist.pdf(z1)), '%0.2e' % (100*ndist.cdf(z1))) + ('',) +\n",
      "     ('%0.2f' % z2, '%0.2f' % (100*ndist.pdf(z2)), '%0.2f' % (100*ndist.cdf(z2)))+ ('',) +\n",
      "     ('%0.2f' % z3, '%0.2e' % (100*ndist.pdf(z3)), '%0.2f' % (100*ndist.cdf(z3))) + ('',) +\n",
      "     ('%0.2f' % z4, '%0.2e' % (100*ndist.pdf(z4)), '%0.3e' % (100*ndist.cdf(z4))) + ('',)\n",
      "                                          for z1, z2, z3, z4 in Z]\n",
      "Tail_Table = make_table(tail)\n"
     ],
     "language": "python",
     "metadata": {
      "slideshow": {
       "slide_type": "skip"
      }
     },
     "outputs": [],
     "prompt_number": 4
    },
    {
     "cell_type": "code",
     "collapsed": false,
     "input": [
      "Tail_Table"
     ],
     "language": "python",
     "metadata": {
      "slideshow": {
       "slide_type": "fragment"
      }
     },
     "outputs": [],
     "prompt_number": 5
    },
    {
     "cell_type": "code",
     "collapsed": false,
     "input": [],
     "language": "python",
     "metadata": {},
     "outputs": [],
     "prompt_number": 6
    }
   ],
   "metadata": {}
  }
 ]
}
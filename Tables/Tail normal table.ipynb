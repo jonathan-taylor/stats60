{
 "cells": [
  {
   "cell_type": "markdown",
   "metadata": {
    "slideshow": {
     "slide_type": "slide"
    }
   },
   "source": [
    "# Tail area normal table"
   ]
  },
  {
   "cell_type": "code",
   "execution_count": null,
   "metadata": {
    "collapsed": false,
    "slideshow": {
     "slide_type": "skip"
    }
   },
   "outputs": [],
   "source": [
    "%%capture\n",
    "%matplotlib inline\n",
    "from pylab import fill_between\n",
    "import matplotlib.pyplot as plt\n",
    "import numpy as np\n",
    "from scipy.stats import norm as ndist\n",
    "from ipy_table import make_table\n",
    "\n",
    "def tail_normal():\n",
    "    \n",
    "    X = np.linspace(-3.5,3.5,101)\n",
    "    D = ndist.pdf(X)\n",
    "    fig = plt.figure(figsize=(6,6))\n",
    "    ax = fig.gca()\n",
    "    ax.plot(X, D, 'k', linewidth=5)\n",
    "    x = np.linspace(-5,1.3,201)\n",
    "    ax.fill_between(x, 0, ndist.pdf(x), facecolor='gray')\n",
    "    ax.set_xlabel('Standard units', fontsize=15)\n",
    "    ax.set_ylabel('Percent per standard units', fontsize=15)\n",
    "    ax.set_ylim([0,.45])\n",
    "    ax.annotate('Height\\n(%/unit)', xy=(1, 0.5 * ndist.pdf(1.3)),\n",
    "               arrowprops=dict(facecolor='red'), xytext=(2,0.3),\n",
    "               fontsize=15)\n",
    "    ax.annotate('z=1.3', xy=(1.3, 0),\n",
    "               arrowprops=dict(facecolor='red'), xytext=(2,-0.1),\n",
    "               fontsize=15)\n",
    "    ax.annotate('Area (%)', xy=(0, 0.2),\n",
    "               arrowprops=dict(facecolor='red'), xytext=(-3.5,0.3),\n",
    "               fontsize=15)\n",
    "    ax.set_xlim([-4,4])\n",
    "    return fig\n",
    "\n",
    "def tail_normal_table(z):\n",
    "    \"\"\"\n",
    "    Produce a row of Table A104\n",
    "    \"\"\"\n",
    "    table = [('$z$', 'Height', 'Area'),\n",
    "             (z, 100*ndist.pdf(z), 100*ndist.cdf(z))]\n",
    "    return make_table(table)\n",
    "\n",
    "\n",
    "with plt.xkcd():\n",
    "    fig = tail_normal()"
   ]
  },
  {
   "cell_type": "code",
   "execution_count": null,
   "metadata": {
    "collapsed": false,
    "slideshow": {
     "slide_type": "fragment"
    }
   },
   "outputs": [],
   "source": [
    "fig"
   ]
  },
  {
   "cell_type": "code",
   "execution_count": null,
   "metadata": {
    "collapsed": false,
    "slideshow": {
     "slide_type": "fragment"
    }
   },
   "outputs": [],
   "source": [
    "tail_normal_table(1.3)"
   ]
  },
  {
   "cell_type": "code",
   "execution_count": null,
   "metadata": {
    "collapsed": false,
    "slideshow": {
     "slide_type": "skip"
    }
   },
   "outputs": [],
   "source": [
    "from ipy_table import make_table\n",
    "Z = zip(np.linspace(-4,-2.05,40), np.linspace(-2,-0.05,40), \n",
    "        np.linspace(0,1.95,40), np.linspace(2,3.95,40))\n",
    "tail = [('$z$', 'Height', 'Area', '')*4] + \\\n",
    "    [('%0.2f' % z1, '%0.3f' % (100*ndist.pdf(z1)), '%0.3f' % (100*ndist.cdf(z1))) + ('',) +\n",
    "     ('%0.2f' % z2, '%0.3f' % (100*ndist.pdf(z2)), '%0.3f' % (100*ndist.cdf(z2)))+ ('',) +\n",
    "     ('%0.2f' % z3, '%0.3f' % (100*ndist.pdf(z3)), '%0.3f' % (100*ndist.cdf(z3))) + ('',) +\n",
    "     ('%0.2f' % z4, '%0.3f' % (100*ndist.pdf(z4)), '%0.4f' % (100*ndist.cdf(z4))) + ('',)\n",
    "                                          for z1, z2, z3, z4 in Z]\n",
    "Tail_Table = make_table(tail)\n",
    "\n",
    "tex_table = r'''\n",
    "\\begin{tabular}{ccc|ccc|ccc|ccc}\n",
    "%s\n",
    "\\end{tabular}\n",
    "''' % '\\n'.join([' & '.join(r[:3] + r[4:7] + r[8:11] + r[12:15] + (r'\\\\',)) for r in tail])\n",
    "file('tail_table.tex', 'w').write(tex_table)"
   ]
  },
  {
   "cell_type": "code",
   "execution_count": null,
   "metadata": {
    "collapsed": false,
    "slideshow": {
     "slide_type": "fragment"
    }
   },
   "outputs": [],
   "source": [
    "Tail_Table"
   ]
  },
  {
   "cell_type": "code",
   "execution_count": null,
   "metadata": {
    "collapsed": false,
    "slideshow": {
     "slide_type": "skip"
    }
   },
   "outputs": [],
   "source": [
    "%%capture\n",
    "import os\n",
    "if not os.path.exists('tail_normal.pdf'):\n",
    "    fig = tail_normal()\n",
    "    fig.savefig('tail_normal.pdf')"
   ]
  },
  {
   "cell_type": "code",
   "execution_count": null,
   "metadata": {
    "collapsed": false
   },
   "outputs": [],
   "source": []
  }
 ],
 "metadata": {
  "celltoolbar": "Slideshow",
  "kernelspec": {
   "display_name": "Python 2",
   "language": "python",
   "name": "python2"
  },
  "language_info": {
   "codemirror_mode": {
    "name": "ipython",
    "version": 2
   },
   "file_extension": ".py",
   "mimetype": "text/x-python",
   "name": "python",
   "nbconvert_exporter": "python",
   "pygments_lexer": "ipython2",
   "version": "2.7.11"
  }
 },
 "nbformat": 4,
 "nbformat_minor": 0
}

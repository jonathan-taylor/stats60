{
 "cells": [
  {
   "cell_type": "markdown",
   "metadata": {
    "slideshow": {
     "slide_type": "slide"
    }
   },
   "source": [
    "# Symmetric normal table"
   ]
  },
  {
   "cell_type": "code",
   "execution_count": null,
   "metadata": {
    "collapsed": false,
    "slideshow": {
     "slide_type": "skip"
    }
   },
   "outputs": [],
   "source": [
    "%%capture\n",
    "from scipy.stats import norm as ndist\n",
    "%matplotlib inline\n",
    "from pylab import fill_between\n",
    "import matplotlib.pyplot as plt\n",
    "import numpy as np\n",
    "from ipy_table import make_table\n",
    "\n",
    "def symmetric_normal():\n",
    "    \n",
    "    X = np.linspace(-3.5,3.5,101)\n",
    "    D = ndist.pdf(X)\n",
    "    z = 1.3\n",
    "    fig = plt.figure(figsize=(6,6))\n",
    "    ax = fig.gca()\n",
    "    ax.plot(X, D, 'k', linewidth=5)\n",
    "    x = np.linspace(-z,z,201)\n",
    "    ax.fill_between(x, 0, ndist.pdf(x), facecolor='gray')\n",
    "    ax.set_xlabel('Standard units', fontsize=15)\n",
    "    ax.set_ylabel('Percent per standard units', fontsize=15)\n",
    "    ax.set_ylim([0,.45])\n",
    "    ax.annotate('Height\\n(%/unit)', xy=(1, 0.5 * ndist.pdf(z)),\n",
    "               arrowprops=dict(facecolor='red'), xytext=(2,0.3),\n",
    "               fontsize=15)\n",
    "    ax.annotate('z=%0.1f' % z, xy=(1.3, 0),\n",
    "               arrowprops=dict(facecolor='red'), xytext=(2,-0.1),\n",
    "               fontsize=15)\n",
    "    ax.annotate('Area (%)', xy=(0, 0.2),\n",
    "               arrowprops=dict(facecolor='red'), xytext=(-3.5,0.3),\n",
    "               fontsize=15)\n",
    "    return fig \n",
    "\n",
    "def symmetric_normal_table(z):\n",
    "    \"\"\"\n",
    "    Produce a row of Table A104\n",
    "    \"\"\"\n",
    "    if z < 0:\n",
    "        raise ValueError('z must be nonnegative')\n",
    "    table = [('$z$', 'Height', 'Area'),\n",
    "             (z, 100*ndist.pdf(z), 100*2*(ndist.cdf(z)-0.5))]\n",
    "    return make_table(table)\n",
    "\n",
    "\n",
    "\n",
    "with plt.xkcd():\n",
    "    fig = symmetric_normal()"
   ]
  },
  {
   "cell_type": "code",
   "execution_count": null,
   "metadata": {
    "collapsed": false,
    "slideshow": {
     "slide_type": "fragment"
    }
   },
   "outputs": [],
   "source": [
    "fig"
   ]
  },
  {
   "cell_type": "code",
   "execution_count": null,
   "metadata": {
    "collapsed": false,
    "slideshow": {
     "slide_type": "fragment"
    }
   },
   "outputs": [],
   "source": [
    "symmetric_normal_table(1.3)"
   ]
  },
  {
   "cell_type": "code",
   "execution_count": null,
   "metadata": {
    "collapsed": false,
    "slideshow": {
     "slide_type": "skip"
    }
   },
   "outputs": [],
   "source": [
    "from ipy_table import make_table\n",
    "Z = zip(np.linspace(0,1.45,30), np.linspace(1.5,2.95,30), np.linspace(3,4.45,30))\n",
    "A104 = [('$z$', 'Height', 'Area', '')*3] + \\\n",
    "    [('%0.2f' % z1, '%0.3f' % (100*ndist.pdf(z1)), '%0.3f' % (100*2*(ndist.cdf(z1)-0.5))) + ('',) +\n",
    "     ('%0.2f' % z2, '%0.3f' % (100*ndist.pdf(z2)), '%0.3f' % (100*2*(ndist.cdf(z2)-0.5)))+ ('',) +\n",
    "     ('%0.2f' % z3, '%0.3f' % (100*ndist.pdf(z3)), '%0.3f' % (100*2*(ndist.cdf(z3)-0.5))) + ('',)\n",
    "                                          for z1, z2, z3 in Z]\n",
    "Symmetric_Table = make_table(A104)\n"
   ]
  },
  {
   "cell_type": "code",
   "execution_count": null,
   "metadata": {
    "collapsed": false,
    "slideshow": {
     "slide_type": "fragment"
    }
   },
   "outputs": [],
   "source": [
    "Symmetric_Table"
   ]
  },
  {
   "cell_type": "code",
   "execution_count": null,
   "metadata": {
    "collapsed": false,
    "slideshow": {
     "slide_type": "skip"
    }
   },
   "outputs": [],
   "source": [
    "%%capture\n",
    "import os\n",
    "if not os.path.exists('symmetric_normal.pdf'):\n",
    "    fig = symmetric_normal()\n",
    "    fig.savefig('symmetric_normal.pdf')"
   ]
  }
 ],
 "metadata": {
  "celltoolbar": "Slideshow",
  "kernelspec": {
   "display_name": "Python 2",
   "language": "python",
   "name": "python2"
  },
  "language_info": {
   "codemirror_mode": {
    "name": "ipython",
    "version": 2
   },
   "file_extension": ".py",
   "mimetype": "text/x-python",
   "name": "python",
   "nbconvert_exporter": "python",
   "pygments_lexer": "ipython2",
   "version": "2.7.11"
  }
 },
 "nbformat": 4,
 "nbformat_minor": 0
}

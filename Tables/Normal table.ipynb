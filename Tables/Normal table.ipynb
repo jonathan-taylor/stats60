{
 "metadata": {
  "celltoolbar": "Slideshow",
  "name": "",
  "signature": "sha256:702712d42ad8bd7b7751bdc1fa9cd18d8accde8101e33cf5aec57b8f26369085"
 },
 "nbformat": 3,
 "nbformat_minor": 0,
 "worksheets": [
  {
   "cells": [
    {
     "cell_type": "markdown",
     "metadata": {
      "slideshow": {
       "slide_type": "slide"
      }
     },
     "prompt_number": 1,
     "source": [
      "# Normal table"
     ]
    },
    {
     "cell_type": "code",
     "collapsed": false,
     "input": [
      "%%capture\n",
      "with plt.xkcd():\n",
      "    from scipy.stats import norm as ndist\n",
      "    from pylab import fill_between\n",
      "    X = np.linspace(-3.5,3.5,101)\n",
      "    D = ndist.pdf(X)\n",
      "    fig = plt.figure(figsize=(6,6))\n",
      "    ax = fig.gca()\n",
      "    ax.plot(X, D, 'k', linewidth=5)\n",
      "    x = np.linspace(-1.3,1.3,201)\n",
      "    ax.fill_between(x, 0, ndist.pdf(x), facecolor='gray')\n",
      "    ax.set_xlabel('Standard units', fontsize=15)\n",
      "    ax.set_ylabel('Percent per standard units', fontsize=15)\n",
      "    ax.set_ylim([0,.45])\n",
      "    ax.annotate('Height\\n(%/unit)', xy=(1, 0.5 * ndist.pdf(1)),\n",
      "               arrowprops=dict(facecolor='red'), xytext=(2,0.3),\n",
      "               fontsize=15)\n",
      "    ax.annotate('z=1.3', xy=(1.3, 0),\n",
      "               arrowprops=dict(facecolor='red'), xytext=(2,-0.1),\n",
      "               fontsize=15)\n",
      "    ax.annotate('Area (%)', xy=(0, 0.2),\n",
      "               arrowprops=dict(facecolor='red'), xytext=(-3.5,0.3),\n",
      "               fontsize=15)\n"
     ],
     "language": "python",
     "metadata": {
      "slideshow": {
       "slide_type": "skip"
      }
     },
     "outputs": [],
     "prompt_number": 1
    },
    {
     "cell_type": "code",
     "collapsed": false,
     "input": [
      "fig"
     ],
     "language": "python",
     "metadata": {
      "slideshow": {
       "slide_type": "fragment"
      }
     },
     "outputs": [],
     "prompt_number": 2
    },
    {
     "cell_type": "code",
     "collapsed": false,
     "input": [
      "table_a104(1.3)"
     ],
     "language": "python",
     "metadata": {
      "slideshow": {
       "slide_type": "fragment"
      }
     },
     "outputs": [],
     "prompt_number": 3
    },
    {
     "cell_type": "code",
     "collapsed": false,
     "input": [
      "from ipy_table import make_table\n",
      "Z = zip(np.linspace(0,1.45,30), np.linspace(1.5,2.95,30), np.linspace(3,4.45,30))\n",
      "A104 = [('$z$', 'Height', 'Area', '')*3] + \\\n",
      "    [('%0.2f' % z1, '%0.2f' % (100*ndist.pdf(z1)), '%0.2f' % (100*2*(ndist.cdf(z1)-0.5))) + ('',) +\n",
      "     ('%0.2f' % z2, '%0.2f' % (100*ndist.pdf(z2)), '%0.2f' % (100*2*(ndist.cdf(z2)-0.5)))+ ('',) +\n",
      "     ('%0.2f' % z3, '%0.2e' % (100*ndist.pdf(z3)), '%0.2f' % (100*2*(ndist.cdf(z3)-0.5))) + ('',)\n",
      "                                          for z1, z2, z3 in Z]\n",
      "Table_A104 = make_table(A104)\n"
     ],
     "language": "python",
     "metadata": {
      "slideshow": {
       "slide_type": "skip"
      }
     },
     "outputs": [],
     "prompt_number": 4
    },
    {
     "cell_type": "code",
     "collapsed": false,
     "input": [
      "Table_A104"
     ],
     "language": "python",
     "metadata": {
      "slideshow": {
       "slide_type": "fragment"
      }
     },
     "outputs": [],
     "prompt_number": 5
    },
    {
     "cell_type": "code",
     "collapsed": false,
     "input": [],
     "language": "python",
     "metadata": {},
     "outputs": [],
     "prompt_number": 6
    }
   ],
   "metadata": {}
  }
 ]
}
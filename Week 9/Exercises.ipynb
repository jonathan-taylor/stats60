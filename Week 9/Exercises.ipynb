{
 "metadata": {
  "name": "",
  "signature": "sha256:f9e9c68ef6610f61bc306fefd125dd9e7f59db7a6f8f4a74a7126d7b825fa3e6"
 },
 "nbformat": 3,
 "nbformat_minor": 0,
 "worksheets": [
  {
   "cells": [
    {
     "cell_type": "markdown",
     "metadata": {},
     "prompt_number": 1,
     "source": [
      "## Like 29.A.3\n",
      "\n",
      "Suppose we roll a 4-sided die 50 times and observe the following \n",
      "in our rolls:\n",
      "\n",
      "Value  | Frequency\n",
      "-------|-----------\n",
      "1   |    24%\n",
      "2   |   34%\n",
      "3   |   20%\n",
      "4   |   22%\n",
      "\n",
      "Can we conclude the die is unfair?"
     ]
    },
    {
     "cell_type": "code",
     "collapsed": false,
     "input": [
      "freq = array([24,34.,20,22.]) / 100.\n",
      "observed = freq * 50\n",
      "expected = array([0.25,0.25,0.25,0.25]) * 50\n",
      "observed, expected\n",
      "diff = observed - expected\n",
      "X2 = sum((observed - expected)**2 / expected)\n",
      "df = 4 - 1\n",
      "observed, expected, (observed-expected)**2, X2, df"
     ],
     "language": "python",
     "metadata": {},
     "outputs": [],
     "prompt_number": 1
    },
    {
     "cell_type": "markdown",
     "metadata": {},
     "prompt_number": 2,
     "source": [
      "              The 5% rejection rule for chi-squared with 3 degrees of freedom\n",
      "              is 7.81. We observed a X^2 of 2.32. We do not reject \n",
      "              H_0: die is fair at level 5%."
     ]
    },
    {
     "cell_type": "markdown",
     "metadata": {},
     "prompt_number": 2,
     "source": [
      "## 29.C.3\n",
      "\n",
      "The table below shows the distribution of marital\n",
      "status by sex for persons of age 25-34 in Wyoming.\n",
      "\n",
      "Question: are the distributions really different for men and women?\n",
      "\n",
      "Status     |    Men   |   Women\n",
      "------|----------|----------\n",
      "Never married |   31.5%   | 19.2%\n",
      "Married       |   60.1%   | 67.3%\n",
      "Widowed, divorced, separated | 8.4%  | 13.5%\n"
     ]
    },
    {
     "cell_type": "markdown",
     "metadata": {},
     "prompt_number": 2,
     "source": [
      "You may assume the data are from a simple random sample\n",
      "of 299 persons, of whom 143 were men and 156 were women. To answer\n",
      "the question, you use:\n",
      "\n",
      "1. the one-sample $z$-test\n",
      "\n",
      "2. the two-sample $z$-test\n",
      "\n",
      "3. the $\\chi^2$-tes with a null hypothesis that tells you the\n",
      "contents of the box;\n",
      "\n",
      "4. the $\\chi^2$ test for independence."
     ]
    },
    {
     "cell_type": "code",
     "collapsed": false,
     "input": [
      "data = array([[31.5,19.2], [60.1, 67.3], [8.4,13.5]])\n",
      "men, women = 143, 156"
     ],
     "language": "python",
     "metadata": {},
     "outputs": [],
     "prompt_number": 2
    },
    {
     "cell_type": "code",
     "collapsed": false,
     "input": [],
     "language": "python",
     "metadata": {},
     "outputs": [],
     "prompt_number": 3
    }
   ],
   "metadata": {}
  }
 ]
}
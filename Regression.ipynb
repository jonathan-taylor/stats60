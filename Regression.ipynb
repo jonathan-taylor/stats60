{
 "cells": [
  {
   "cell_type": "code",
   "execution_count": null,
   "metadata": {
    "collapsed": false
   },
   "outputs": [],
   "source": [
    "%matplotlib inline\n",
    "import matplotlib.pyplot as plt\n",
    "import numpy as np\n",
    "from numpy import mean, std, sqrt\n",
    "from matplotlib.mlab import csv2rec\n",
    "import matplotlib\n",
    "from pylab import poly_between\n",
    "\n",
    "# stats60 specific\n",
    "\n",
    "from code.week2 import pearson_lee\n",
    "figsize = (8,8)"
   ]
  },
  {
   "cell_type": "markdown",
   "metadata": {},
   "source": [
    "# Regression (Chapters 10-12)"
   ]
  },
  {
   "cell_type": "code",
   "execution_count": null,
   "metadata": {
    "collapsed": false,
    "slideshow": {
     "slide_type": "skip"
    }
   },
   "outputs": [],
   "source": [
    "%%capture\n",
    "hfig = plt.figure(figsize=figsize)\n",
    "height = pearson_lee()\n",
    "height._figure = hfig\n",
    "height.strip = 65\n",
    "height.SDline()\n",
    "height.axes.scatter([65], [height.mean_strip], s=300, c='yellow', label='Average(strip)')\n",
    "height.axes.set_title('The average within the strip is %0.1f' % height.mean_strip, fontsize=15)\n",
    "matplotlib.rcParams['legend.scatterpoints'] = 1\n",
    "height.axes.legend(loc='lower right') \n",
    "daughter = height.D\n",
    "mother = height.M"
   ]
  },
  {
   "cell_type": "code",
   "execution_count": null,
   "metadata": {
    "collapsed": false,
    "slideshow": {
     "slide_type": "fragment"
    }
   },
   "outputs": [],
   "source": [
    "height.figure"
   ]
  },
  {
   "cell_type": "markdown",
   "metadata": {
    "slideshow": {
     "slide_type": "fragment"
    }
   },
   "source": [
    "Note that the average in the strip at 65in is below the SD line. Why?\n"
   ]
  },
  {
   "cell_type": "markdown",
   "metadata": {
    "slideshow": {
     "slide_type": "slide"
    }
   },
   "source": [
    "## Regression line\n",
    "\n",
    "- Instead of the SD line we choose a line that minimizes the \"vertical distances\" from each point to the line.\n",
    "- The quality of a line is measured by the r.m.s. of these distances, called ** residuals**.\n",
    "  \n",
    "- Each choice of slope / intercept yields a new set of residuals.\n",
    "- The regression line has the residuals with smallest r.m.s.\n",
    "- This is using the **method of least squares**\n",
    "   to choose the slope and intercept."
   ]
  },
  {
   "cell_type": "code",
   "execution_count": null,
   "metadata": {
    "collapsed": false,
    "slideshow": {
     "slide_type": "fragment"
    }
   },
   "outputs": [],
   "source": [
    "intercept, slope = 20, 0.5\n",
    "residuals = daughter - (intercept + slope * mother)\n",
    "sqrt(sum(residuals**2) / len(mother))"
   ]
  },
  {
   "cell_type": "code",
   "execution_count": null,
   "metadata": {
    "collapsed": false,
    "slideshow": {
     "slide_type": "fragment"
    }
   },
   "outputs": [],
   "source": [
    "intercept, slope = 30, 0.5\n",
    "residuals = daughter - (intercept + slope * mother)\n",
    "sqrt(sum(residuals**2) / len(mother))"
   ]
  },
  {
   "cell_type": "markdown",
   "metadata": {
    "slideshow": {
     "slide_type": "slide"
    }
   },
   "source": [
    "### Intercept=4, Slope=0.3"
   ]
  },
  {
   "cell_type": "code",
   "execution_count": null,
   "metadata": {
    "collapsed": false,
    "slideshow": {
     "slide_type": "skip"
    }
   },
   "outputs": [],
   "source": [
    "%%capture\n",
    "sample_fig = plt.figure(figsize=figsize)\n",
    "sample_ax = sample_fig.gca()\n",
    "D = csv2rec('data/sample_regression.csv')\n",
    "X = D['x']\n",
    "Y = D['y']\n",
    "sample_ax.scatter(X,Y, c='yellow', s=150)\n",
    "sample_ax.set_xlabel('X', fontsize=15)\n",
    "sample_ax.set_ylabel('Y', fontsize=15)\n",
    "del(D)"
   ]
  },
  {
   "cell_type": "code",
   "execution_count": null,
   "metadata": {
    "collapsed": false,
    "slideshow": {
     "slide_type": "fragment"
    }
   },
   "outputs": [],
   "source": [
    "sample_fig"
   ]
  },
  {
   "cell_type": "code",
   "execution_count": null,
   "metadata": {
    "collapsed": false,
    "slideshow": {
     "slide_type": "skip"
    }
   },
   "outputs": [],
   "source": [
    "slope, intercept = 0.3, 4\n",
    "a = slope*X + intercept\n",
    "for i in range(X.shape[0]):\n",
    "    sample_ax.arrow(X[i], Y[i], 0, a[i] - Y[i], color='red')\n",
    "SSE = np.sum((a-Y)**2)\n",
    "sample_ax.plot([X.min(), X.max()],[0.3*X.min()+4,0.3*X.max()+4], 'r-', linewidth=3)\n",
    "sample_ax.set_title('Error(slope=%0.1f, intercept=%0.1f): %0.2f' % (slope, intercept, sqrt(SSE / X.shape[0])),\n",
    "             fontsize=15)"
   ]
  },
  {
   "cell_type": "code",
   "execution_count": null,
   "metadata": {
    "collapsed": false,
    "slideshow": {
     "slide_type": "slide"
    }
   },
   "outputs": [],
   "source": [
    "sample_fig"
   ]
  },
  {
   "cell_type": "markdown",
   "metadata": {
    "slideshow": {
     "slide_type": "fragment"
    }
   },
   "source": [
    "\n",
    "Error is r.m.s. of ** lengths**\n"
   ]
  },
  {
   "cell_type": "code",
   "execution_count": null,
   "metadata": {
    "collapsed": false,
    "slideshow": {
     "slide_type": "fragment"
    }
   },
   "outputs": [],
   "source": [
    "sqrt(sum((Y - (0.3*X + 4))**2) / len(X))"
   ]
  },
  {
   "cell_type": "markdown",
   "metadata": {
    "slideshow": {
     "slide_type": "slide"
    }
   },
   "source": [
    "## SD line"
   ]
  },
  {
   "cell_type": "code",
   "execution_count": null,
   "metadata": {
    "collapsed": false,
    "slideshow": {
     "slide_type": "skip"
    }
   },
   "outputs": [],
   "source": [
    "%%capture\n",
    "SD_fig = plt.figure(figsize=figsize)\n",
    "sample_ax = SD_fig.gca()\n",
    "sample_ax.scatter(X,Y, c='yellow', s=150)\n",
    "sample_ax.set_xlabel('X', fontsize=15)\n",
    "sample_ax.set_ylabel('Y', fontsize=15)\n",
    "SDslope = Y.std() / X.std()\n",
    "SDintercept = Y.mean() - SDslope * X.mean()\n",
    "a = SDslope*X + SDintercept\n",
    "for i in range(X.shape[0]):\n",
    "    sample_ax.arrow(X[i], Y[i], 0, a[i] - Y[i], color='blue')\n",
    "SSE = np.sum((a-Y)**2)\n",
    "sample_ax.plot([X.min(), X.max()],[SDslope*X.min()+SDintercept,SDslope*X.max()+SDintercept], color='blue',\n",
    "               linestyle='-', linewidth=3)\n",
    "sample_ax.set_title('Error(SD line): %0.2f' % np.sqrt(SSE / X.shape[0]), fontsize=15)"
   ]
  },
  {
   "cell_type": "code",
   "execution_count": null,
   "metadata": {
    "collapsed": false,
    "slideshow": {
     "slide_type": "fragment"
    }
   },
   "outputs": [],
   "source": [
    "SD_fig"
   ]
  },
  {
   "cell_type": "markdown",
   "metadata": {
    "slideshow": {
     "slide_type": "slide"
    }
   },
   "source": [
    "## Regression line\n",
    "\n",
    "- The **regression line** is the line whose slope and intercept have the smallest\n",
    "`r.m.s.` for the vertical deviations from that line.\n",
    "\n",
    "- Define the **point of averages** of two lists $X$ and $Y$ as\n",
    "\n",
    "      point of averages(X, Y) = (average(X), average(Y))\n",
    "\n",
    "- The regression line passes through the point of averages and has slope:\n",
    "$$\\text{slope} = r(X,Y) \\times \\frac{SD(Y)}{SD(X)}.$$\n",
    "\n",
    "- The intercept of the regression line is\n",
    " \n",
    "      intercept = average(Y) - slope * average(X)"
   ]
  },
  {
   "cell_type": "code",
   "execution_count": null,
   "metadata": {
    "collapsed": false,
    "slideshow": {
     "slide_type": "skip"
    }
   },
   "outputs": [],
   "source": [
    "point_of_averages = (mean(X), mean(Y))\n",
    "sample_ax.scatter(point_of_averages[0], point_of_averages[1], marker='+', \n",
    "                  color='red', s=500, linewidth=5, label='Point of averages')\n",
    "sample_ax.legend(loc='lower right')\n"
   ]
  },
  {
   "cell_type": "code",
   "execution_count": null,
   "metadata": {
    "collapsed": false,
    "slideshow": {
     "slide_type": "slide"
    }
   },
   "outputs": [],
   "source": [
    "SD_fig"
   ]
  },
  {
   "cell_type": "markdown",
   "metadata": {
    "slideshow": {
     "slide_type": "slide"
    }
   },
   "source": [
    "### Fit for regression line"
   ]
  },
  {
   "cell_type": "code",
   "execution_count": null,
   "metadata": {
    "collapsed": false,
    "slideshow": {
     "slide_type": "skip"
    }
   },
   "outputs": [],
   "source": [
    "%%capture\n",
    "reg_fig = plt.figure(figsize=figsize)\n",
    "sample_ax = reg_fig.gca()\n",
    "sample_ax.scatter(X,Y, c='yellow', s=150)\n",
    "sample_ax.set_xlabel('X', fontsize=15)\n",
    "sample_ax.set_ylabel('Y', fontsize=15)\n",
    "\n",
    "reg_slope = np.corrcoef([X,Y])[0,1] * Y.std() / X.std()\n",
    "reg_intercept = Y.mean() - reg_slope * X.mean()\n",
    "a = reg_slope*X + reg_intercept\n",
    "for i in range(X.shape[0]):\n",
    "    sample_ax.arrow(X[i], Y[i], 0, a[i] - Y[i], color='red')\n",
    "\n",
    "SSE = np.sum((a-Y)**2)\n",
    "sample_ax.plot([X.min(), X.max()],[reg_slope*X.min()+reg_intercept,\n",
    "                                   reg_slope*X.max()+reg_intercept], color='red',\n",
    "               linestyle='-', linewidth=3)\n",
    "sample_ax.set_title('Error(regression line): %0.2f' % np.sqrt(SSE / X.shape[0]), fontsize=15)\n"
   ]
  },
  {
   "cell_type": "code",
   "execution_count": null,
   "metadata": {
    "collapsed": false,
    "slideshow": {
     "slide_type": "fragment"
    }
   },
   "outputs": [],
   "source": [
    "reg_fig"
   ]
  },
  {
   "cell_type": "markdown",
   "metadata": {
    "slideshow": {
     "slide_type": "fragment"
    }
   },
   "source": [
    "The regression line has better `r.m.s.` for the vertical deviations!\n",
    "\n",
    "In this example, the difference is not huge. Let's look back at the \n",
    "mother / daughter heights."
   ]
  },
  {
   "cell_type": "code",
   "execution_count": null,
   "metadata": {
    "collapsed": false,
    "slideshow": {
     "slide_type": "skip"
    }
   },
   "outputs": [],
   "source": [
    "%%capture\n",
    "\n",
    "def error(D,a,b):\n",
    "    F = a*M+b\n",
    "    return np.sqrt(np.sum((D-F)**2)/D.shape[0])\n",
    "\n",
    "D, M = daughter, mother\n",
    "r = np.corrcoef([D,M])[0,1]\n",
    "slope_SD = D.std() / M.std()\n",
    "intercept_SD = D.mean() - slope_SD * M.mean()\n",
    "\n",
    "slope_r = r * D.std() / M.std()\n",
    "intercept_r = D.mean() - slope_r * M.mean()\n",
    "\n",
    "height.axes.set_title('Error(SD line)=%0.1f, Error(regression)=%0.1f' %\n",
    "            (error(D, slope_SD, intercept_SD),\n",
    "            error(D, slope_r, intercept_r)), fontsize=15)\n",
    "height.regline(draw=False)\n",
    "height.axes.legend(loc=('upper left'))\n",
    "del(D); del(M)"
   ]
  },
  {
   "cell_type": "code",
   "execution_count": null,
   "metadata": {
    "collapsed": false,
    "slideshow": {
     "slide_type": "slide"
    }
   },
   "outputs": [],
   "source": [
    "height.figure"
   ]
  },
  {
   "cell_type": "markdown",
   "metadata": {
    "slideshow": {
     "slide_type": "slide"
    }
   },
   "source": [
    "Let's look at those strip averages we computed in the notes on correlation."
   ]
  },
  {
   "cell_type": "code",
   "execution_count": null,
   "metadata": {
    "collapsed": false,
    "slideshow": {
     "slide_type": "skip"
    }
   },
   "outputs": [],
   "source": [
    "mother_heights = range(56,69)\n",
    "averages = []\n",
    "for mother in mother_heights:\n",
    "    height.strip = mother\n",
    "    averages.append(height.mean_strip)\n",
    "height.axes.scatter(mother_heights, averages, s=300, c='yellow')"
   ]
  },
  {
   "cell_type": "code",
   "execution_count": null,
   "metadata": {
    "collapsed": false,
    "slideshow": {
     "slide_type": "fragment"
    }
   },
   "outputs": [],
   "source": [
    "height.figure"
   ]
  },
  {
   "cell_type": "markdown",
   "metadata": {
    "slideshow": {
     "slide_type": "fragment"
    }
   },
   "source": [
    "**The regression line almost sits on top of the strip averages!**\n"
   ]
  },
  {
   "cell_type": "markdown",
   "metadata": {
    "slideshow": {
     "slide_type": "slide"
    }
   },
   "source": [
    "## Working with regression problems\n",
    "\n",
    " The following quantities are enough to do all regression problems\n",
    "* $\\text{average}(X), \\text{SD}(X)$\n",
    "* $\\text{average}(Y), \\text{SD}(Y)$\n",
    "* $r(X,Y)$"
   ]
  },
  {
   "cell_type": "markdown",
   "metadata": {
    "slideshow": {
     "slide_type": "slide"
    }
   },
   "source": [
    "### Blood alcohol example\n",
    "\n",
    "It is believed that the more alcohol there is in a person’s blood stream, the slower is that person’s reaction times. An experiment with 10 subjects yields\n",
    "- average amount of alcohol in blood $0.14\\%$ with SD $0.04\\%$;\n",
    "- average reaction time 0.42 seconds, SD 0.1 seconds;\n",
    "- correlation coefficient 0.8.\n",
    "\n",
    "**Predict the reaction time of a person with an amount of alcohol of 0.22%.**\n",
    "\n",
    "#### Answer\n",
    "\n",
    "- We first compute the slope, intercept \n",
    "    $$\\begin{aligned}\n",
    "     \\text{slope} &= \\frac{0.8 \\times 0.1}{0.04} = 2.0 \\frac{\\text{seconds}}{\\%}     \\\\\n",
    "     \\text{intercept} &= 0.42 - 2. \\times 0.14 = 0.14 \\, \\text{seconds}\n",
    "     \\end{aligned}$$ \n",
    "     \n",
    "     Plugging in an alcohol level of 0.22 yields a predicted time of\n",
    "     $$2 \\times 0.22 + 0.14 = 0.58 \\, \\text{seconds}.$$\n",
    "     \n",
    "- Another way to arrive at the same answer is to note that $(0.14,0.42)$\n",
    "is the point of averages which is on the regression line. For any other value of blood alcohol, $B$, the corresponding point $y$-value of reaction time on the regression line is \n",
    "$$\n",
    "0.42 + (B - 0.14) * 2.\n",
    "$$\n",
    "Substituting $B=0.22$ yields\n",
    "$$\n",
    "0.42 + (0.22-0.14)*2. = 0.42 + 0.16 = 0.58.\n",
    "$$"
   ]
  },
  {
   "cell_type": "markdown",
   "metadata": {
    "slideshow": {
     "slide_type": "slide"
    }
   },
   "source": [
    "### Blood alcohol example\n",
    "\n",
    "**Find the regression line for regressing reaction time on alcohol level.**\n",
    "\n",
    "\n",
    "#### Answer\n",
    "\n",
    "Having already computed the slope and intercept of this line, the regression line is described by the equation\n",
    "\n",
    "       reaction_time = 0.14 + 2 * alcohol level\n"
   ]
  },
  {
   "cell_type": "markdown",
   "metadata": {
    "slideshow": {
     "slide_type": "slide"
    }
   },
   "source": [
    "### Blood alcohol example\n",
    "\n",
    "**Predict the reaction time of a person whose alcohol level is at the 20th percentile. What percentile does that correspond to in reaction time?**\n",
    "\n",
    "#### Answer\n",
    "\n",
    "The 20th percentile of blood alcohol is (using normal approximation\n",
    "and the [tail normal table](http://www.stanford.edu/class/stats60/Tables/Tail%20normal%20table.html)) $$\\begin{aligned}\n",
    "     0.14 + 0.04 \\times \\text{20th percentile of normal}\n",
    "     &  = 0.14 + 0.04 \\times (-0.84) \\\\\n",
    "     & = 0.11\n",
    "     \\end{aligned}$$ \n",
    "     \n",
    "So, we predict a reaction time of **$0.14 + 2 \\times 0.11 = 0.36$.**\n",
    "\n",
    "The second part of the question asks us to find roughly what percentile this corresponds to. We will use the normal approximation. \n",
    "\n",
    "Converting to standardize units, we see a reaction time of 0.36 is\n",
    "$$\n",
    "\\frac{0.36-0.42}{0.1} = -0.6.\n",
    "$$\n",
    "The [tail normal table](http://www.stanford.edu/class/stats60/Tables/Tail%20normal%20table.html)  tells us this is roughly the 27th percentile."
   ]
  },
  {
   "cell_type": "markdown",
   "metadata": {
    "slideshow": {
     "slide_type": "slide"
    }
   },
   "source": [
    "#### Blood alcohol example\n",
    "\n",
    "**Predict the amount of alcohol a person has in her bloodstream if the reaction time is 0.37 seconds.**\n",
    "\n",
    "#### Answer\n",
    "\n",
    "We must find the regression line for regressing `blood_alcohol` on `reaction time.`\n",
    "\n",
    "It passes through the point of averages and has slope\n",
    "\n",
    "       slope = 0.8 * 0.04 / 0.1 = 0.32\n",
    "       \n",
    "The intercept is\n",
    "\n",
    "       intercept = 0.14 - 0.32 * 0.42 = 0.006\n",
    "       \n",
    "Substituting `reaction_time=0.37` yields \n",
    "\n",
    "        blood_alcohol = 0.006 + 0.32 * 0.37 = 0.124."
   ]
  },
  {
   "cell_type": "markdown",
   "metadata": {
    "slideshow": {
     "slide_type": "slide"
    }
   },
   "source": [
    "## Regression fallacy\n",
    "\n",
    "* Note that someone in the 20th percentile of `blood alcohol` had predicted 27th percentile in `reaction time`.\n",
    "\n",
    "* This is a general phenomenon, Galton referred to it as \"regression to mediocrity.\"\n",
    "\n",
    "### Test-retest version of regression fallacy (from book)\n",
    "\n",
    "In a test-retest situation, usually the bottom group on the \n",
    "first test will show some improvement, and the top group will fall back.\n",
    "\n",
    "It can also be seen from the regression of `daughter` on `mother`..."
   ]
  },
  {
   "cell_type": "code",
   "execution_count": null,
   "metadata": {
    "collapsed": false,
    "slideshow": {
     "slide_type": "slide"
    }
   },
   "outputs": [],
   "source": [
    "height.figure"
   ]
  },
  {
   "cell_type": "markdown",
   "metadata": {
    "slideshow": {
     "slide_type": "fragment"
    }
   },
   "source": [
    "The height of a daughter whose mother is 2 SD above the average height of mothers is only $0.49*2 \\approx 1$ SD above the average height of daughters."
   ]
  },
  {
   "cell_type": "markdown",
   "metadata": {
    "slideshow": {
     "slide_type": "slide"
    }
   },
   "source": [
    "## There are two regression lines:\n",
    "\n",
    "- One line has `mother` as independent variable, `daughter` as dependent variable.\n",
    "\n",
    "- The other line has `daughter` as independent variable, `mother` as dependent variable."
   ]
  },
  {
   "cell_type": "code",
   "execution_count": null,
   "metadata": {
    "collapsed": false,
    "slideshow": {
     "slide_type": "skip"
    }
   },
   "outputs": [],
   "source": [
    "%%capture\n",
    "height = pearson_lee()\n",
    "height.SDline()\n",
    "height.regline(draw=False, label='D on M')\n",
    "height.invregline(draw=False, label='M on D')\n",
    "height.axes.legend(loc='lower right')\n"
   ]
  },
  {
   "cell_type": "code",
   "execution_count": null,
   "metadata": {
    "collapsed": false,
    "slideshow": {
     "slide_type": "fragment"
    }
   },
   "outputs": [],
   "source": [
    "height.figure"
   ]
  },
  {
   "cell_type": "markdown",
   "metadata": {
    "slideshow": {
     "slide_type": "slide"
    }
   },
   "source": [
    "## Prediction and regression\n",
    "\n",
    "- While there are two regression lines, the right way to remember which to use is **what do you want to predict?**\n",
    "- The variable you want to predict goes on the vertical axis ($Y$-axis).\n",
    "- The variable you want to base your prediction on goes on the vertical axis ($X$-axis).\n",
    "- In many situations, it will be more natural to predict one variable instead of another."
   ]
  },
  {
   "cell_type": "markdown",
   "metadata": {
    "slideshow": {
     "slide_type": "slide"
    }
   },
   "source": [
    "# Accuracy of prediction (Chapter 11)\n",
    "\n",
    "- In discussing experiments, we discussed the average of a set of measurements.\n",
    "\n",
    "- These can be used to predict a new measurement: our best guess is just the average of the previous meausrements.\n",
    "\n",
    "- A similar calculation is possible with regression."
   ]
  },
  {
   "cell_type": "markdown",
   "metadata": {
    "slideshow": {
     "slide_type": "fragment"
    }
   },
   "source": [
    "## SD as a measure of accuracy\n",
    "\n",
    "- The SD of the set of measurements gives us some idea of how accurate our prediction is \n",
    "$$\\text{SD(list) = r.m.s.(deviations from average)}$$\n",
    "- If our prediction is the average, then \n",
    "$$\\text{SD(list) = r.m.s.(deviations from predictions)}$$\n",
    "- With regression, we have a new way to predict: using the regression line."
   ]
  },
  {
   "cell_type": "markdown",
   "metadata": {
    "slideshow": {
     "slide_type": "slide"
    }
   },
   "source": [
    "## Accuracy of prediction in regression\n",
    "\n",
    "- In regression, we are using more information: the fact that tall mothers tend to give birth to taller daughters (but not quite as tall).\n",
    "- This should improve the accuracy of our prediction of the daughter’s height (which uses the mother’s height).\n",
    "- Our regression line was chosen to minimize\n",
    "   the r.m.s. of the residuals of all ines\n",
    "   $$\n",
    "   \\begin{aligned}\n",
    "   \\text{r.m.s.}(\\text{regression $Y$ on $X$}) &= \\text{r.m.s.(residuals)} \\\\\n",
    "   &= \\sqrt{\\text{average}(\\text{residuals}^2)} \\\\\n",
    "   \\end{aligned}\n",
    "   $$\n",
    "- This r.m.s. is always less than the SD of\n",
    "   the dependent variable ($Y$) alone\n",
    "   $$\n",
    "   \\text{r.m.s.}(\\text{regression $Y$ on $X$}) = \\sqrt{1-r^2} \\times \\text{SD}(Y)\n",
    "   $$\n",
    "- In mother/daughter example, this factor is 2.3 / 2.6 $\\approx$ 87% = $\\sqrt{1 - 0.49^2}$."
   ]
  },
  {
   "cell_type": "markdown",
   "metadata": {
    "slideshow": {
     "slide_type": "slide"
    }
   },
   "source": [
    "### SD is based on residuals"
   ]
  },
  {
   "cell_type": "code",
   "execution_count": null,
   "metadata": {
    "collapsed": false,
    "slideshow": {
     "slide_type": "skip"
    }
   },
   "outputs": [],
   "source": [
    "%%capture\n",
    "mean_fig = plt.figure(figsize=figsize)\n",
    "sample_ax = mean_fig.gca()\n",
    "sample_ax.scatter(X,Y, c='yellow', s=150)\n",
    "sample_ax.set_xlabel('X', fontsize=15)\n",
    "sample_ax.set_ylabel('Y', fontsize=15)\n",
    "\n",
    "meanY = np.mean(Y)\n",
    "for i in range(X.shape[0]):\n",
    "    sample_ax.arrow(X[i], Y[i], 0, meanY - Y[i], color='blue')\n",
    "\n",
    "SSE = np.sum((meanY-Y)**2)\n",
    "sample_ax.plot([X.min(), X.max()],[meanY, meanY], color='blue',\n",
    "               linestyle='-', linewidth=3)\n",
    "sample_ax.set_title('Error(average line): %0.2f' % np.sqrt(SSE / X.shape[0]), fontsize=15)\n"
   ]
  },
  {
   "cell_type": "code",
   "execution_count": null,
   "metadata": {
    "collapsed": false,
    "slideshow": {
     "slide_type": "fragment"
    }
   },
   "outputs": [],
   "source": [
    "mean_fig"
   ]
  },
  {
   "cell_type": "markdown",
   "metadata": {
    "slideshow": {
     "slide_type": "slide"
    }
   },
   "source": [
    "### So is r.m.s.(regression)"
   ]
  },
  {
   "cell_type": "code",
   "execution_count": null,
   "metadata": {
    "collapsed": false,
    "slideshow": {
     "slide_type": "fragment"
    }
   },
   "outputs": [],
   "source": [
    "reg_fig"
   ]
  },
  {
   "cell_type": "markdown",
   "metadata": {
    "slideshow": {
     "slide_type": "slide"
    }
   },
   "source": [
    "## r.m.s. of regression\n",
    "\n",
    "- If the data cloud is football shaped, then the r.m.s.\n",
    "of residuals gives an estimate of the spread in each vertical strip of the regression line.\n",
    "- This is * homoscedastic*\n",
    "   scatter.\n",
    "- If the data cloud has a different shape, this scatter is called * heteroscedastic* and the regression r.m.s. is not useful within a vertical strip"
   ]
  },
  {
   "cell_type": "markdown",
   "metadata": {
    "slideshow": {
     "slide_type": "slide"
    }
   },
   "source": [
    "### Homoscedastic scatter"
   ]
  },
  {
   "cell_type": "code",
   "execution_count": null,
   "metadata": {
    "collapsed": false,
    "slideshow": {
     "slide_type": "skip"
    }
   },
   "outputs": [],
   "source": [
    "%%capture\n",
    "homoscedastic = plt.figure(figsize=figsize)\n",
    "ax = homoscedastic.gca()\n",
    "n = 300\n",
    "Xhomo = np.random.standard_normal(n)\n",
    "Xhomo.sort()\n",
    "w = 3\n",
    "Yhomo = 4.5 * Xhomo + 1 + np.random.standard_normal(n) * w\n",
    "\n",
    "xf, yf = poly_between([-1.25,-0.75], [-20,-20], [20, 20])\n",
    "ax.fill(xf, yf, facecolor='blue', alpha=0.4, hatch='/', label='_nolegend_')\n",
    "\n",
    "xf, yf = poly_between([0.75,1.25], [-20,-20], [20, 20])\n",
    "ax.fill(xf, yf, facecolor='green', alpha=0.4, hatch='/', label='_nolegend_')\n",
    "\n",
    "ax.set_yticks([])\n",
    "ax.set_xticks([])\n",
    "ax.scatter(Xhomo, Yhomo, c='red')\n",
    "ax.set_ylim([-12,17])\n",
    "ax.set_title('Homoscedastic: football shaped', fontsize=15, color='green')"
   ]
  },
  {
   "cell_type": "code",
   "execution_count": null,
   "metadata": {
    "collapsed": false,
    "slideshow": {
     "slide_type": "fragment"
    }
   },
   "outputs": [],
   "source": [
    "homoscedastic"
   ]
  },
  {
   "cell_type": "markdown",
   "metadata": {
    "slideshow": {
     "slide_type": "fragment"
    }
   },
   "source": [
    "Spread (as measured by SD) within green and blue strips are about the same."
   ]
  },
  {
   "cell_type": "markdown",
   "metadata": {
    "slideshow": {
     "slide_type": "slide"
    }
   },
   "source": [
    "### Heteroscedastic scatter"
   ]
  },
  {
   "cell_type": "code",
   "execution_count": null,
   "metadata": {
    "collapsed": false,
    "slideshow": {
     "slide_type": "skip"
    }
   },
   "outputs": [],
   "source": [
    "%%capture\n",
    "n = 300\n",
    "Xhetero = np.random.standard_normal(n)\n",
    "Xhetero.sort()\n",
    "w = np.linspace(1,6,n)\n",
    "Yhetero = 0.5 * Xhetero + 1 + np.random.standard_normal(n) * w\n",
    "\n",
    "heteroscedastic = plt.figure(figsize=figsize)\n",
    "ax = heteroscedastic.gca()\n",
    "\n",
    "xf, yf = poly_between([-1.25,-0.75], [-20,-20], [20, 20])\n",
    "plt.fill(xf, yf, facecolor='blue', alpha=0.4, hatch='/', label='_nolegend_')\n",
    "\n",
    "xf, yf = poly_between([0.75,1.25], [-20,-20], [20, 20])\n",
    "plt.fill(xf, yf, facecolor='green', alpha=0.4, hatch='/', label='_nolegend_')\n",
    "\n",
    "ax.set_yticks([])\n",
    "ax.set_xticks([])\n",
    "ax.scatter(Xhetero, Yhetero, c='red')\n",
    "ax.set_ylim([-10,15])\n",
    "ax.set_title('Heteroscedastic: NOT football shaped', fontsize=15, color='red')"
   ]
  },
  {
   "cell_type": "code",
   "execution_count": null,
   "metadata": {
    "collapsed": false,
    "slideshow": {
     "slide_type": "fragment"
    }
   },
   "outputs": [],
   "source": [
    "heteroscedastic"
   ]
  },
  {
   "cell_type": "markdown",
   "metadata": {
    "slideshow": {
     "slide_type": "fragment"
    }
   },
   "source": [
    "Spread (as measured by SD) is different between green and blue strips."
   ]
  },
  {
   "cell_type": "markdown",
   "metadata": {
    "slideshow": {
     "slide_type": "slide"
    }
   },
   "source": [
    "## Example: using regression r.m.s. in vertical strips\n",
    "\n",
    "* Given the following information:\n",
    "\n",
    "\n",
    "Variable | Average | SD\n",
    "---------|---------|----\n",
    "mother   | 62.4in    | 2.3in\n",
    "daughter   | 63.8in   | 2.6in\n",
    "\n",
    "Correlation $r=0.49$.\n",
    "\n",
    "** Of mothers of height 66in, what percentage of their daughters will have height above 67in?**"
   ]
  },
  {
   "cell_type": "markdown",
   "metadata": {
    "slideshow": {
     "slide_type": "slide"
    }
   },
   "source": [
    "### Answer\n",
    "\n",
    "* Slope of regression line is $$\\text{slope} = 0.49 \\times \\frac{2.6}{2.3} = 0.54$$\n",
    "* The average height of daughters of mothers of height 66in is $$63.8 + 0.54 \\times (66 - 62.4) = 65.7$$\n",
    "* The SD is taken to be r.m.s. of regression $$\\sqrt{1 - 0.49^2} \\times 2.6 = 0.87 \\times 2.6 = 2.3.$$\n",
    "* 67 in corresponds to \n",
    "$$(67-65.7)/2.3=0.6$$ standardized units.\n",
    "* From the normal table (like Table A-104), the percentage is roughly 27%."
   ]
  },
  {
   "cell_type": "markdown",
   "metadata": {
    "slideshow": {
     "slide_type": "slide"
    }
   },
   "source": [
    "### Transforming variables"
   ]
  },
  {
   "cell_type": "code",
   "execution_count": null,
   "metadata": {
    "collapsed": false,
    "slideshow": {
     "slide_type": "skip"
    }
   },
   "outputs": [],
   "source": [
    "%%capture\n",
    "wage_fig = plt.figure(figsize=figsize)\n",
    "wage_ax = wage_fig.gca()\n",
    "wage = csv2rec('data/wage.csv')\n",
    "wage_ax.scatter(wage['education'], np.exp(wage['logwage']), facecolor='red', s=50)\n",
    "wage_ax.set_xlabel('Education (years)', fontsize=20)\n",
    "wage_ax.set_ylabel('Wage ($)', fontsize=20)\n",
    "wage_ax.set_title('SD seems to vary by strips', fontsize=15, color='red')\n"
   ]
  },
  {
   "cell_type": "code",
   "execution_count": null,
   "metadata": {
    "collapsed": false,
    "slideshow": {
     "slide_type": "fragment"
    }
   },
   "outputs": [],
   "source": [
    "wage_fig"
   ]
  },
  {
   "cell_type": "markdown",
   "metadata": {
    "slideshow": {
     "slide_type": "slide"
    }
   },
   "source": [
    "A transformation such as `log` of dependent or independent variable\n",
    "can sometimes make point cloud look more football shaped."
   ]
  },
  {
   "cell_type": "code",
   "execution_count": null,
   "metadata": {
    "collapsed": false,
    "slideshow": {
     "slide_type": "skip"
    }
   },
   "outputs": [],
   "source": [
    "%%capture\n",
    "logwage_fig = plt.figure(figsize=figsize)\n",
    "logwage_ax = logwage_fig.gca()\n",
    "logwage_ax.scatter(wage['education'], wage['logwage'], facecolor='red', s=50)\n",
    "logwage_ax.set_xlabel('Education (years)', fontsize=20)\n",
    "logwage_ax.set_ylabel('log(Wage) (log $)', fontsize=20)\n",
    "logwage_ax.set_title('More football shaped', fontsize=15, color='green')\n"
   ]
  },
  {
   "cell_type": "code",
   "execution_count": null,
   "metadata": {
    "collapsed": false,
    "slideshow": {
     "slide_type": "fragment"
    }
   },
   "outputs": [],
   "source": [
    "logwage_fig"
   ]
  },
  {
   "cell_type": "markdown",
   "metadata": {
    "slideshow": {
     "slide_type": "slide"
    }
   },
   "source": [
    "## Other uses of residuals\n",
    "\n",
    "- Recall that the residuals are the deviations from  the \n",
    "regression line.\n",
    "\n",
    "- Besides taking their r.m.s. to estimate SD within a strip, \n",
    "they tell us whether our regression model is reasonable or not.\n",
    "\n",
    "- With only one independent variable, we can see reasonably well\n",
    "from the scatter plot, but it is possible to have *more than one* independent\n",
    "variable (c.f. [STATS191](http://stats191.stanford.edu)).\n",
    "\n",
    "- A common thing to do is to plot the residuals."
   ]
  },
  {
   "cell_type": "code",
   "execution_count": null,
   "metadata": {
    "collapsed": false,
    "slideshow": {
     "slide_type": "skip"
    }
   },
   "outputs": [],
   "source": [
    "%%capture\n",
    "D = csv2rec('data/quadratic_example.csv')\n",
    "quadratic = plt.figure(figsize=figsize)\n",
    "ax = quadratic.gca()\n",
    "X = D['x']\n",
    "Y = D['y']\n",
    "ax.scatter(X,Y, c='r', s=40)\n",
    "m = Y.std() * np.corrcoef([X,Y])[0,1] / X.std()\n",
    "b = Y.mean() - X.mean() * m\n",
    "\n",
    "r = ((X*Y).mean() - X.mean() * Y.mean()) / (X.std() * Y.std())\n",
    "ax.plot([X.mean()-3.5*X.std(),X.mean()+3.5*X.std()],\n",
    "           [Y.mean()-r*3.5*Y.std(),Y.mean()+r*3.5*Y.std()],\n",
    "           '-', linewidth=3, color='black')\n",
    "ax = quadratic.gca()\n",
    "ax.set_xlabel('X', fontsize=15)\n",
    "ax.set_ylabel('Y', fontsize=15)\n",
    "ax.set_title(\"Regression line doesn't fit point cloud...\", color='red', fontsize=15)"
   ]
  },
  {
   "cell_type": "code",
   "execution_count": null,
   "metadata": {
    "collapsed": false,
    "slideshow": {
     "slide_type": "fragment"
    }
   },
   "outputs": [],
   "source": [
    "quadratic"
   ]
  },
  {
   "cell_type": "markdown",
   "metadata": {
    "slideshow": {
     "slide_type": "slide"
    }
   },
   "source": [
    "Let's look at the residuals"
   ]
  },
  {
   "cell_type": "code",
   "execution_count": null,
   "metadata": {
    "collapsed": false,
    "slideshow": {
     "slide_type": "skip"
    }
   },
   "outputs": [],
   "source": [
    "%%capture\n",
    "quadratic_resid = plt.figure(figsize=figsize)\n",
    "ax =  quadratic_resid.gca()\n",
    "ax.scatter(X, Y-m*X+b, c='r', s=40)\n",
    "ax.set_xlabel('X', fontsize=15)\n",
    "ax.set_ylabel('Residuals after regressing Y on X', fontsize=15)"
   ]
  },
  {
   "cell_type": "code",
   "execution_count": null,
   "metadata": {
    "collapsed": false,
    "slideshow": {
     "slide_type": "fragment"
    }
   },
   "outputs": [],
   "source": [
    "quadratic_resid"
   ]
  },
  {
   "cell_type": "markdown",
   "metadata": {
    "slideshow": {
     "slide_type": "slide"
    }
   },
   "source": [
    "Compare this to residuals in mother-daughter regression"
   ]
  },
  {
   "cell_type": "code",
   "execution_count": null,
   "metadata": {
    "collapsed": false,
    "slideshow": {
     "slide_type": "skip"
    }
   },
   "outputs": [],
   "source": [
    "%%capture\n",
    "resid = plt.figure(figsize=figsize)\n",
    "plt.scatter(height.M, height.D - height.M*slope_r -intercept_r, c='yellow',\n",
    "            s=height.marker_size,\n",
    "            edgecolor='gray')\n",
    "ax = resid.gca()\n",
    "ax.set_xlabel(\"Mother's height (inches)\", fontsize=15)\n",
    "ax.set_ylabel('Residual after regressing Daughter on Mother (inches)', fontsize=15)\n",
    "\n"
   ]
  },
  {
   "cell_type": "code",
   "execution_count": null,
   "metadata": {
    "collapsed": false
   },
   "outputs": [],
   "source": [
    "resid"
   ]
  },
  {
   "cell_type": "code",
   "execution_count": null,
   "metadata": {
    "collapsed": true
   },
   "outputs": [],
   "source": []
  }
 ],
 "metadata": {
  "kernelspec": {
   "display_name": "Python 2",
   "language": "python",
   "name": "python2"
  },
  "language_info": {
   "codemirror_mode": {
    "name": "ipython",
    "version": 2
   },
   "file_extension": ".py",
   "mimetype": "text/x-python",
   "name": "python",
   "nbconvert_exporter": "python",
   "pygments_lexer": "ipython2",
   "version": "2.7.11"
  }
 },
 "nbformat": 4,
 "nbformat_minor": 0
}

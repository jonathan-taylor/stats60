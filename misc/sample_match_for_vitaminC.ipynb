{
 "metadata": {
  "name": "",
  "signature": "sha256:f41890d70eff86c75babbac04be81570f33a36110176c8595c83218a3025c75a"
 },
 "nbformat": 3,
 "nbformat_minor": 0,
 "worksheets": [
  {
   "cells": [
    {
     "cell_type": "code",
     "collapsed": false,
     "input": [
      "import numpy as np\n",
      "\n",
      "def sample(poisson_par, binomial_par, size=1000):\n",
      "    X1 = np.random.poisson(poisson_par, size=size)\n",
      "    X2 = np.random.poisson(3*poisson_par, size=size)\n",
      "    X4 = 4*np.random.poisson(6*poisson_par, size=size)\n",
      "    X5 = np.random.poisson(20*poisson_par, size=size)\n",
      "    X3 = np.random.binomial(20, binomial_par, size=size)\n",
      "    X = np.maximum(X1+X2+X3+X4+X5-10, 0)\n",
      "    #X = X[X>0]\n",
      "    return np.mean(X), np.std(X), X\n",
      "grid = np.mgrid[0:1:51j,0.1:0.9:51j].T.reshape((-1,2))"
     ],
     "language": "python",
     "metadata": {},
     "outputs": [],
     "prompt_number": 6
    },
    {
     "cell_type": "code",
     "collapsed": false,
     "input": [
      "data = []\n",
      "best_placebo_match = np.inf\n",
      "best_placebo = None\n",
      "best_treat_match = np.inf\n",
      "best_treat = None\n",
      "for l, p in grid:\n",
      "    m, s = sample(l, p)[:2]\n",
      "    if np.fabs(m - 2.3) + np.fabs(s-3.1) < best_placebo_match:\n",
      "        best_placebo = (l,p)\n",
      "        best_placebo_match = np.fabs(m - 2.3) + np.fabs(s-3.1)\n",
      "    if np.fabs(m - 2.6) + np.fabs(s-2.9) < best_treat_match:\n",
      "        best_treat = (l,p)\n",
      "        best_treat_match = np.fabs(m - 2.6) + np.fabs(s-2.9)\n",
      "print sample(*best_placebo)[:2]\n",
      "print sample(*best_treat)[:2]"
     ],
     "language": "python",
     "metadata": {},
     "outputs": [
      {
       "output_type": "stream",
       "stream": "stdout",
       "text": [
        "(1.931, 2.7568530972832161)\n",
        "(2.625, 3.2302283201037043)\n"
       ]
      }
     ],
     "prompt_number": 7
    },
    {
     "cell_type": "code",
     "collapsed": false,
     "input": [
      "while True:\n",
      "    Xplacebo = sample(best_placebo[0], best_placebo[1],size=100)[2]\n",
      "    if (np.fabs(np.mean(Xplacebo) - 2.3) < 0.04 and\n",
      "        np.fabs(np.std(Xplacebo) - 3.1) < 0.04):\n",
      "        break\n",
      "        \n",
      "Xplacebo.max(), Xplacebo.mean(), Xplacebo.std()"
     ],
     "language": "python",
     "metadata": {},
     "outputs": [
      {
       "metadata": {},
       "output_type": "pyout",
       "prompt_number": 8,
       "text": [
        "(14, 2.27, 3.1011449498532011)"
       ]
      }
     ],
     "prompt_number": 8
    },
    {
     "cell_type": "code",
     "collapsed": false,
     "input": [
      "while True:\n",
      "    Xtreat = sample(best_treat[0], best_treat[1],size=100)[2]\n",
      "    if (np.fabs(np.mean(Xtreat) - 2.6) < 0.04 and\n",
      "        np.fabs(np.std(Xtreat) - 2.9) < 0.04):\n",
      "        break\n",
      "    \n",
      "Xtreat.max(), Xtreat.mean(), Xtreat.std()"
     ],
     "language": "python",
     "metadata": {},
     "outputs": [
      {
       "metadata": {},
       "output_type": "pyout",
       "prompt_number": 9,
       "text": [
        "(11, 2.6000000000000001, 2.912043955712206)"
       ]
      }
     ],
     "prompt_number": 9
    },
    {
     "cell_type": "code",
     "collapsed": false,
     "input": [
      "Xtreat = np.hstack([Xtreat, sample(best_treat[0], best_treat[1], size=100)[2]])\n",
      "Xplacebo = np.hstack([sample(best_placebo[0], best_placebo[1], size=100)[2], Xplacebo])\n",
      "treatment = ['treatment']*100 + ['placebo']*100\n",
      "import csv\n",
      "\n",
      "with open('vitaminC.csv', 'w') as f:\n",
      "    writer = csv.writer(f)\n",
      "    writer.writerow(['group', 'treatment', 'placebo'])\n",
      "    for i in range(200):\n",
      "        writer.writerow([treatment[i], Xtreat[i], Xplacebo[i]])"
     ],
     "language": "python",
     "metadata": {},
     "outputs": [],
     "prompt_number": 11
    },
    {
     "cell_type": "code",
     "collapsed": false,
     "input": [
      "csv2rec('vitaminC.csv')['group']"
     ],
     "language": "python",
     "metadata": {},
     "outputs": [
      {
       "metadata": {},
       "output_type": "pyout",
       "prompt_number": 13,
       "text": [
        "rec.array(['treatment', 'treatment', 'treatment', 'treatment', 'treatment',\n",
        "       'treatment', 'treatment', 'treatment', 'treatment', 'treatment',\n",
        "       'treatment', 'treatment', 'treatment', 'treatment', 'treatment',\n",
        "       'treatment', 'treatment', 'treatment', 'treatment', 'treatment',\n",
        "       'treatment', 'treatment', 'treatment', 'treatment', 'treatment',\n",
        "       'treatment', 'treatment', 'treatment', 'treatment', 'treatment',\n",
        "       'treatment', 'treatment', 'treatment', 'treatment', 'treatment',\n",
        "       'treatment', 'treatment', 'treatment', 'treatment', 'treatment',\n",
        "       'treatment', 'treatment', 'treatment', 'treatment', 'treatment',\n",
        "       'treatment', 'treatment', 'treatment', 'treatment', 'treatment',\n",
        "       'treatment', 'treatment', 'treatment', 'treatment', 'treatment',\n",
        "       'treatment', 'treatment', 'treatment', 'treatment', 'treatment',\n",
        "       'treatment', 'treatment', 'treatment', 'treatment', 'treatment',\n",
        "       'treatment', 'treatment', 'treatment', 'treatment', 'treatment',\n",
        "       'treatment', 'treatment', 'treatment', 'treatment', 'treatment',\n",
        "       'treatment', 'treatment', 'treatment', 'treatment', 'treatment',\n",
        "       'treatment', 'treatment', 'treatment', 'treatment', 'treatment',\n",
        "       'treatment', 'treatment', 'treatment', 'treatment', 'treatment',\n",
        "       'treatment', 'treatment', 'treatment', 'treatment', 'treatment',\n",
        "       'treatment', 'treatment', 'treatment', 'treatment', 'treatment',\n",
        "       'placebo', 'placebo', 'placebo', 'placebo', 'placebo', 'placebo',\n",
        "       'placebo', 'placebo', 'placebo', 'placebo', 'placebo', 'placebo',\n",
        "       'placebo', 'placebo', 'placebo', 'placebo', 'placebo', 'placebo',\n",
        "       'placebo', 'placebo', 'placebo', 'placebo', 'placebo', 'placebo',\n",
        "       'placebo', 'placebo', 'placebo', 'placebo', 'placebo', 'placebo',\n",
        "       'placebo', 'placebo', 'placebo', 'placebo', 'placebo', 'placebo',\n",
        "       'placebo', 'placebo', 'placebo', 'placebo', 'placebo', 'placebo',\n",
        "       'placebo', 'placebo', 'placebo', 'placebo', 'placebo', 'placebo',\n",
        "       'placebo', 'placebo', 'placebo', 'placebo', 'placebo', 'placebo',\n",
        "       'placebo', 'placebo', 'placebo', 'placebo', 'placebo', 'placebo',\n",
        "       'placebo', 'placebo', 'placebo', 'placebo', 'placebo', 'placebo',\n",
        "       'placebo', 'placebo', 'placebo', 'placebo', 'placebo', 'placebo',\n",
        "       'placebo', 'placebo', 'placebo', 'placebo', 'placebo', 'placebo',\n",
        "       'placebo', 'placebo', 'placebo', 'placebo', 'placebo', 'placebo',\n",
        "       'placebo', 'placebo', 'placebo', 'placebo', 'placebo', 'placebo',\n",
        "       'placebo', 'placebo', 'placebo', 'placebo', 'placebo', 'placebo',\n",
        "       'placebo', 'placebo', 'placebo', 'placebo'], \n",
        "      dtype='|S9')"
       ]
      }
     ],
     "prompt_number": 13
    },
    {
     "cell_type": "code",
     "collapsed": false,
     "input": [],
     "language": "python",
     "metadata": {},
     "outputs": []
    }
   ],
   "metadata": {}
  }
 ]
}
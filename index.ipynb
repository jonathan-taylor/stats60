{
 "metadata": {
  "name": "",
  "signature": "sha256:c102a912f60100adcb8e240624c36ea2f635a7537517736acd4a5edc71e58fa9"
 },
 "nbformat": 3,
 "nbformat_minor": 0,
 "worksheets": [
  {
   "cells": [
    {
     "cell_type": "markdown",
     "metadata": {},
     "source": [
      "# Week 1\n",
      "    \n",
      "- [Graphical Summaries](Graphical Summaries.ipynb)\n",
      "- [Numeric Summaries](Numeric Summaries.ipynb)\n",
      "- [Normal distribution](Normal distribution.ipynb)"
     ]
    },
    {
     "cell_type": "code",
     "collapsed": false,
     "input": [],
     "language": "python",
     "metadata": {},
     "outputs": []
    }
   ],
   "metadata": {}
  }
 ]
}
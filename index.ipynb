{
 "metadata": {
  "name": "",
  "signature": "sha256:1f302b404abe9e3b02bce524f9a227db7bbe27ef78e2b3d6a199b7c51925e36d"
 },
 "nbformat": 3,
 "nbformat_minor": 0,
 "worksheets": [
  {
   "cells": [
    {
     "cell_type": "markdown",
     "metadata": {},
     "source": [
      "## Syllabus\n",
      "\n",
      "### Instructor & TAs\n",
      "\n",
      "\n",
      "#### Instructor\n",
      "\n",
      "[Jonathan Taylor](http://www-stat.stanford.edu/~jtaylor)\n",
      "\n",
      "- Office: Sequoia Hall #137\n",
      "- Phone: 723-9230, \n",
      "- [Email](https://stanfordwho.stanford.edu/auth/lookup?search=Jonathan%20Taylor)\n",
      "- Office hours: Mon Tues 1:15-2:15\n",
      "\n",
      "#### Teaching Assistants\n",
      "\n",
      "Rakesh Achanta\n",
      "\n",
      "-  [Email](https://stanfordwho.stanford.edu/auth/lookup?search=Rakesh%20Achanta)\n",
      "-  Office hours : Thur 2:00-4:00, Sequoia Hall 207\n",
      "\n",
      "Nan Bi\n",
      "\n",
      "-  [Email](https://stanfordwho.stanford.edu/auth/lookup?search=Nan%20Bi)\n",
      "-  Office hours : Fri 2:00-4:00, Sequoia Hall 105.\n",
      "\n",
      "Naftali Harris\n",
      "\n",
      "-  [Email](https://stanfordwho.stanford.edu/auth/lookup?search=Naftali%20Harris)\n",
      "-  Office hours : Tues 2:15-4:15, Sequoia Hall 220\n",
      "\n",
      "Snigdha Panigrahi\n",
      "\n",
      "-  [Email](https://stanfordwho.stanford.edu/auth/lookup?search=Snigdha%20Panigrahi)\n",
      "-  Office hours : Wed 12:00-2:00, Sequoia Hall 105.\n",
      "\n",
      "Nate Randall\n",
      "\n",
      "- [Email](https://stanfordwho.stanford.edu/auth/lookup?search=nrandall)\n",
      "- Office hours : 8:00PM-10:00PM Sunday, Meyer 146\n",
      "\n",
      "Julia Hafer\n",
      "\n",
      "- [Email](https://stanfordwho.stanford.edu/auth/lookup?search=jhafer)\n",
      "- Office hours : Tuesday 7:00PM-9:00PM, Meyer 146\n",
      "\n",
      "Nick Sullivan\n",
      "\n",
      "- [Email](https://stanfordwho.stanford.edu/auth/lookup?search=nsull13)\n",
      "- Office hours : Saturday, 3:00PM-5:00PM, Meyer 2nd Floor.\n",
      "\n",
      "\n",
      "## Email list\n",
      "\n",
      "The course has an email list that reaches all TAs as well as the professor: stats60-spr1314-staff@lists.stanford.edu.\n",
      "\n",
      "**As a general rule, you should send course related to this email list.**\n",
      "\n",
      "## Office hours\n",
      "\n",
      "**As a general rule, we ask students NOT to complete the assignments during TAs' in office hours. This will be easier if students do not use laptops while in TAs' office hours.**\n",
      "\n",
      "## Schedule & Location\n",
      "\n",
      "M-Th 10:00-10:50, Cubberley Auditorium. F 10:00-10:50 session TBA.\n",
      "\n",
      "## Textbook\n",
      "\n",
      "[Statistics](http://www.amazon.com/Statistics-4th-David-Freedman/dp/0393929728), Freedman, Pisani & Purves. *Required*\n",
      "\n",
      "## Prerequisites\n",
      "\n",
      "Some familiarity with elementary algebraic notation at the high school level \n",
      "is assumed, but there is no calculus prerequisite. \n",
      "\n",
      "## Course organization\n",
      "\n",
      "- There will be four lectures per week (M-Th 10:00-10:50). \n",
      "\n",
      "- There will be quizzes every two weeks held on Wednesdays.\n",
      "\n",
      "- Friday's session (F 10:00-10:50) will be devoted to problem sessions held by the TAs. \n",
      "\n",
      "- All relevant class information, such as homework assignments, solutions, and organizational matters, will be posted on the coursework web page.\n",
      "\n",
      "\n",
      "## Evaluation\n",
      "\n",
      "* weekly homework: 10%\n",
      "* peer review on homework: 10%\n",
      "* 5 quizzes: 40%\n",
      "* final exam: 40%\n",
      "\n",
      "### Online homework and peer review \n",
      "\n",
      "Part of your assessment will be based on peer review, done through\n",
      "the [online homework system](http://stats60.stanford.edu/cgi-bin/index.cgi/).\n",
      "\n",
      "#### Peer review breakdown\n",
      "\n",
      "- 4% for completing the peer reviews;\n",
      "- 2% for completing the rating;\n",
      "- 4% for quality of the reviews.\n",
      "\n",
      "This last 4% is subjective, but we will glance at the comments you provided, and take into account students' ratings of your comments and the accuracy of your scores. Don't worry too much about this; if you are reasonably diligent about your peer reviews, you should earn at least 3% and probably 4%.\n",
      "\n",
      "## Homework\n",
      "\n",
      "- There will be weekly homework assignments, run through our [online system](http://stats60.stanford.edu/cgi-bin/index.cgi/).\n",
      "\n",
      "- You may discuss homework problems with other students and with TAs in office hours, but you have to prepare the solutions yourself. \n",
      "\n",
      "- **As a general rule, we ask students NOT to complete the assignments during TAs' in office hours. This will be easier if students do not use laptops while in TAs' office hours.**\n",
      "\n",
      "- Short answer questions on the homework will be graded by [peer review](http://stats60.stanford.edu/cgi-bin/index.cgi/). \n",
      "\n",
      "- You must show your work (where necessary) for full credit (on quizzes as well)."
     ]
    },
    {
     "cell_type": "heading",
     "level": 3,
     "metadata": {},
     "source": [
      "Homework schedule"
     ]
    },
    {
     "cell_type": "markdown",
     "metadata": {},
     "source": [
      "\n",
      "The homeworks will all follow the same schedule every week:\n",
      "\n",
      "- Part A: Assigned Tuesday at 9:00AM. Due Friday at 9:00AM.\n",
      "\n",
      "- Part B: Assigned Tuesday at 9:00AM. Due Monday at 9:00AM.\n",
      "\n",
      "- Peer review: Assigned Monday at 11:00AM. Due Tuesday at 6:00PM."
     ]
    },
    {
     "cell_type": "markdown",
     "metadata": {},
     "source": [
      "## Final Exam\n",
      "\n",
      "According to the [exam schedule](http://studentaffairs.stanford.edu/registrar/students/spring-exams) our exam is to be held on June 10, at 8:30 AM.\n",
      "\n",
      "## Practice Quizzes\n",
      "\n",
      "- [Practice Quiz 1](practice_quizzes/practice_quiz1.pdf), ([solution](practice_quizzes/practice_quiz1_solution.pdf)).\n",
      "\n",
      "- [Practice Quiz 2](practice_quizzes/practice_quiz2.pdf), ([solution](practice_quizzes/practice_quiz2_solution.pdf)).\n",
      "\n",
      "- [Practice Quiz 3](practice_quizzes/practice_quiz3.pdf), ([solution](practice_quizzes/practice_quiz3_solution.pdf))."
     ]
    },
    {
     "cell_type": "markdown",
     "metadata": {},
     "source": [
      "## Notes"
     ]
    },
    {
     "cell_type": "markdown",
     "metadata": {},
     "source": [
      "### Week 1 \n",
      "\n",
      "- [Chapter 3: Graphical Summaries & Histogram](Week 1/Graphical Summaries.html) ([slides](Week 1/Graphical Summaries.slides.html), [pdf](Week 1/Graphical Summaries.pdf)).\n",
      "- [Chapter 4: Average, SD and Numeric Summaries](Week 1/Numeric Summaries.html) ([slides](Week 1/Numeric Summaries.slides.html), [pdf](Week 1/Numeric Summaries.pdf)).\n",
      "- [Chapter 5: Normal distribution for data](Week 1/Normal distribution.html) ([slides](Week 1/Normal distribution.slides.html), [pdf](Week 1/Normal distribution.pdf)).\n",
      "- [Exercises](Week 1/Exercises.html)."
     ]
    },
    {
     "cell_type": "markdown",
     "metadata": {},
     "source": [
      "### Week 2 \n",
      "\n",
      "- [Chapters 1 and 2: Experiments](Week 2/Experiments.html) ([slides](Week 2/Experiments.slides.html), [pdf](Week 2/Experiments.pdf)).\n",
      "- [Chapter 6: Measurement](Week 2/Measurement.html) ([slides](Week 2/Measurement.slides.html), [pdf](Week 2/Measurement.pdf)).\n",
      "- [Chapters 8 and 9: Correlation](Week 2/Correlation.html) ([slides](Week 2/Correlation.slides.html), [pdf](Week 2/Correlation.pdf)).\n",
      "- [Exercises](Week 2/Exercises.html)."
     ]
    },
    {
     "cell_type": "markdown",
     "metadata": {},
     "source": [
      "### Week 3 \n",
      "\n",
      "- [Chapters 10-12: Regression](Week 3/Regression.html) ([slides](Week 3/Regression.slides.html), [pdf](Week 3/Regression.pdf)).\n",
      "- [Chapter 13: Probability](Week 3/Probability.html) ([slides](Week 3/Probability.slides.html), [pdf](Week 3/Probability.pdf)).\n",
      "- [Exercises](Week 3/Exercises.html)."
     ]
    },
    {
     "cell_type": "markdown",
     "metadata": {},
     "source": [
      "### Week 4\n",
      "\n",
      "- [Chapter 15: Binomial formula](Week 4/Binomial.html) \n",
      "([slides](Week 4/Binomial.slides.html), [pdf](Week 4/Binomial.pdf)).\n",
      "- [Exercises](Week 4/Exercises.html)."
     ]
    },
    {
     "cell_type": "markdown",
     "metadata": {},
     "source": [
      "### Week 5\n",
      "\n",
      "- [Monty Hall](Week 5/Monty Hall.html) ([slides](Week 5/Monty.slides.html), [pdf](Week 5/Monty Hall.pdf)).\n",
      "- [Chapters 16-17: Chance variability](Week 5/Chance variability.html) \n",
      "([slides](Week 5/Chance variability.slides.html), [pdf](Week 5/Chance variability.pdf)).\n",
      "- [Chapters 18: Probability Histogram](Week 5/Probability Histogram.html) \n",
      "([slides](Week 5/Probability Histogram.slides.html), [pdf](Week 5/Probability Histogram.pdf)).\n",
      "- [Exercises](Week 5/Exercises.html)."
     ]
    },
    {
     "cell_type": "markdown",
     "metadata": {},
     "source": [
      "### Week 6\n",
      "\n",
      "- [Chapters 19-20: Sample surveys](Week 6/Sampling.html) \n",
      "([slides](Week 6/Sampling.slides.html), [pdf](Week 6/Sampling.pdf)).\n",
      "- [Chapter 21: Accuracy of percentages](Week 6/Confidence Intervals.html) \n",
      "([slides](Week 6/Confidence Intervals.slides.html), [pdf](Week 6/Confidence Intervals.pdf)).\n",
      "- [Exercises](Week 6/Exercises.html)."
     ]
    },
    {
     "cell_type": "markdown",
     "metadata": {},
     "source": [
      "## Tables\n",
      "\n",
      "- [Symmetric normal table](Tables/Symmetric normal table.html)\n",
      "- [Tail normal table](Tables/Tail normal table.html)"
     ]
    },
    {
     "cell_type": "code",
     "collapsed": false,
     "input": [],
     "language": "python",
     "metadata": {},
     "outputs": []
    }
   ],
   "metadata": {}
  }
 ]
}
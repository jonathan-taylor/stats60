{
 "cells": [
  {
   "cell_type": "markdown",
   "metadata": {},
   "source": [
    "## Syllabus\n",
    "\n",
    "### Instructor & TAs\n",
    "\n",
    "\n",
    "#### Instructors\n",
    "\n",
    "[Jonathan Taylor](http://statweb.stanford.edu/~jtaylor)\n",
    "\n",
    "- Office: Sequoia Hall #137\n",
    "- Phone: 723-9230, \n",
    "- [Email](https://stanfordwho.stanford.edu/auth/lookup?search=Jonathan%20Taylor)\n",
    "- Office hours: TBA\n",
    "\n",
    "Lucy Xia\n",
    "\n",
    "- Office: Sequoia Hall #244\n",
    "- Phone: 497-8146\n",
    "- [Email](https://stanfordwho.stanford.edu/auth/lookup?search=Lucy%20Xia)\n",
    "- Office hours: TBA\n",
    "\n",
    "#### Teaching Assistants\n",
    "\n",
    "TBA1\n",
    "\n",
    "-  [Email](https://stanfordwho.stanford.edu/auth/lookup?search=TBA1)\n",
    "-  Office hours : TBA\n",
    "\n",
    "TBA2\n",
    "\n",
    "-  [Email](https://stanfordwho.stanford.edu/auth/lookup?search=TBA2)\n",
    "-  Office hours : TBA\n",
    "\n",
    "\n",
    "\n",
    "## Email list\n",
    "\n",
    "The course has an email list that reaches all TAs as well as the professor: stats60-spr1516-staff@lists.stanford.edu.\n",
    "\n",
    "**As a general rule, you should send course related to this email list.**\n",
    "\n",
    "## Office hours\n",
    "\n",
    "**As a general rule, we ask students NOT to complete the assignments during TAs' in office hours. This will be easier if students do not use laptops while in TAs' office hours.**\n",
    "\n",
    "## Schedule & Location\n",
    "\n",
    "M-Th 9:30-10:20, 420-040. F 9:30-10:20 TBA.\n",
    "\n",
    "## Textbook\n",
    "\n",
    "[Statistics](http://www.amazon.com/Statistics-4th-David-Freedman/dp/0393929728), Freedman, Pisani & Purves. *Required*\n",
    "\n",
    "## Prerequisites\n",
    "\n",
    "Some familiarity with elementary algebraic notation at the high school level \n",
    "is assumed, but there is no calculus prerequisite. \n",
    "\n",
    "## Course organization\n",
    "\n",
    "- There will be four lectures per week (M-Th 9:30-10:20). \n",
    "\n",
    "- There will be quizzes every two weeks held on Wednesdays.\n",
    "\n",
    "- Friday's session (F 9:30-10:20) will be devoted to problem sessions held by the TAs. \n",
    "\n",
    "- All relevant class information, such as homework assignments, solutions, and organizational matters, will be posted on the coursework web page.\n",
    "\n",
    "\n",
    "## Evaluation\n",
    "\n",
    "* weekly homework: 20%\n",
    "* 5 quizzes: 40%\n",
    "* final exam: 40%\n",
    "\n",
    "### Online homework and peer review \n",
    "\n",
    "Part of your assessment will be based on peer review, done through\n",
    "the [online homework system](http://stats60.stanford.edu/cgi-bin/index.cgi/).\n",
    "\n",
    "#### Peer review breakdown\n",
    "\n",
    "- 4% for completing the peer reviews;\n",
    "- 2% for completing the rating;\n",
    "- 4% for quality of the reviews.\n",
    "\n",
    "This last 4% is subjective, but we will glance at the comments you provided, and take into account students' ratings of your comments and the accuracy of your scores. Don't worry too much about this; if you are reasonably diligent about your peer reviews, you should earn at least 3% and probably 4%.\n",
    "\n",
    "## Homework\n",
    "\n",
    "- There will be weekly homework assignments, run through our [online system](http://stats60.stanford.edu/cgi-bin/index.cgi/).\n",
    "\n",
    "- You may discuss homework problems with other students and with TAs in office hours, but you have to prepare the solutions yourself. \n",
    "\n",
    "- **As a general rule, we ask students NOT to complete the assignments during TAs' in office hours. This will be easier if students do not use laptops while in TAs' office hours.**\n",
    "\n",
    "- Short answer questions on the homework will be graded by [peer review](http://stats60.stanford.edu/cgi-bin/index.cgi/). \n",
    "\n",
    "- You must show your work (where necessary) for full credit (on quizzes as well)."
   ]
  },
  {
   "cell_type": "markdown",
   "metadata": {},
   "source": [
    "### Homework schedule"
   ]
  },
  {
   "cell_type": "markdown",
   "metadata": {},
   "source": [
    "\n",
    "The homeworks will all follow the same schedule every week:\n",
    "\n",
    "- Part A: Assigned Tuesday at 9:00AM. Due Friday at 9:00AM.\n",
    "\n",
    "- Part B: Assigned Tuesday at 9:00AM. Due Monday at 9:00AM.\n",
    "\n",
    "- Peer review: Assigned Monday at 11:00AM. Due Tuesday at 6:00PM."
   ]
  },
  {
   "cell_type": "markdown",
   "metadata": {},
   "source": [
    "## Final Exam\n",
    "\n",
    "According to the [exam schedule](http://studentaffairs.stanford.edu/registrar/students/spring-exams) our exam is to be held on Saturday June 4, at 8:30 AM. \n",
    "\n",
    "Here is a  [practice final](practice_final.pdf), ([solution](practice_final_solution.pdf)).\n",
    "\n",
    "## Practice Quizzes\n",
    "\n",
    "- [Practice Quiz 1](practice_quizzes/practice_quiz1.pdf), ([solution](practice_quizzes/practice_quiz1_solution.pdf)).\n",
    "\n",
    "- [Practice Quiz 2](practice_quizzes/practice_quiz2.pdf), ([solution](practice_quizzes/practice_quiz2_solution.pdf)).\n",
    "\n",
    "- [Practice Quiz 3](practice_quizzes/practice_quiz3.pdf), ([solution](practice_quizzes/practice_quiz3_solution.pdf)).\n",
    "\n",
    "- [Practice Quiz 4](practice_quizzes/practice_quiz4.pdf), ([solution](practice_quizzes/practice_quiz4_solution.pdf)).\n",
    "\n",
    "- [Practice Quiz 5](practice_quizzes/practice_quiz5.pdf), ([solution](practice_quizzes/practice_quiz5_solution.pdf)).\n",
    "\n"
   ]
  },
  {
   "cell_type": "markdown",
   "metadata": {},
   "source": [
    "## Notes"
   ]
  },
  {
   "cell_type": "markdown",
   "metadata": {},
   "source": [
    "### Week 1 \n",
    "\n",
    "- [Chapter 3: Graphical Summaries & Histogram](http://nbviewer.jupyter.org/format/slides/url/statweb.stanford.edu/~jtaylo/stats60/notebooks/Week%201/Graphical%20Summaries.ipynb)\n",
    "\n",
    "- [Chapter 4: Average, SD and Numeric Summaries](http://nbviewer.jupyter.org/format/slides/url/statweb.stanford.edu/~jtaylo/stats60/notebooks/Week%201/Numeric%20Summaries.ipynb)\n",
    "\n",
    "- [Chapter 5: Normal distribution for data](http://nbviewer.jupyter.org/format/slides/url/statweb.stanford.edu/~jtaylo/stats60/notebooks/Week%201/Normal%20distribution.ipynb)\n",
    "\n",
    "- [Exercises](http://nbviewer.jupyter.org/format/slides/url/statweb.stanford.edu/~jtaylo/stats60/notebooks/Week%201/Exercises.ipynb)\n"
   ]
  },
  {
   "cell_type": "markdown",
   "metadata": {},
   "source": [
    "### Week 2 \n",
    "\n",
    "- [Chapters 1 and 2: Experiments](http://nbviewer.jupyter.org/format/slides/url/statweb.stanford.edu/~jtaylo/stats60/notebooks/Week%202/Experiments.ipynb)\n",
    "\n",
    "- [Chapter 6: Measurement](http://nbviewer.jupyter.org/format/slides/url/statweb.stanford.edu/~jtaylo/stats60/notebooks/Week%202/Measurement.ipynb)\n",
    "\n",
    "- [Chapters 8 and 9: Correlation](http://nbviewer.jupyter.org/format/slides/url/statweb.stanford.edu/~jtaylo/stats60/notebooks/Week%202/Correlation.ipynb)\n",
    "\n",
    "- [Exercises](http://nbviewer.jupyter.org/format/slides/url/statweb.stanford.edu/~jtaylo/stats60/notebooks/Week%202/Exercises.ipynb)\n",
    "\n"
   ]
  },
  {
   "cell_type": "markdown",
   "metadata": {},
   "source": [
    "### Week 3 \n",
    "\n",
    "- [Chapters 10-12: Regression](Week 3/Regression.html) ([slides](Week 3/Regression.slides.html), [pdf](Week 3/Regression.pdf)).\n",
    "- [Chapter 13: Probability](Week 3/Probability.html) ([slides](Week 3/Probability.slides.html), [pdf](Week 3/Probability.pdf)).\n",
    "- [Exercises](Week 3/Exercises.html)."
   ]
  },
  {
   "cell_type": "markdown",
   "metadata": {},
   "source": [
    "### Week 4\n",
    "\n",
    "- [Chapter 15: Binomial formula](Week 4/Binomial.html) \n",
    "([slides](Week 4/Binomial.slides.html), [pdf](Week 4/Binomial.pdf)).\n",
    "- [Exercises](Week 4/Exercises.html)."
   ]
  },
  {
   "cell_type": "markdown",
   "metadata": {},
   "source": [
    "### Week 5\n",
    "\n",
    "- [Monty Hall](Week 5/Monty Hall.html) ([slides](Week 5/Monty.slides.html), [pdf](Week 5/Monty Hall.pdf)).\n",
    "- [Chapters 16-17: Chance variability](Week 5/Chance variability.html) \n",
    "([slides](Week 5/Chance variability.slides.html), [pdf](Week 5/Chance variability.pdf)).\n",
    "- [Chapters 18: Probability Histogram](Week 5/Probability Histogram.html) \n",
    "([slides](Week 5/Probability Histogram.slides.html), [pdf](Week 5/Probability Histogram.pdf)).\n",
    "- [Exercises](Week 5/Exercises.html)."
   ]
  },
  {
   "cell_type": "markdown",
   "metadata": {},
   "source": [
    "### Week 6\n",
    "\n",
    "- [Chapters 19-20: Sample surveys](Week 6/Sampling.html) \n",
    "([slides](Week 6/Sampling.slides.html), [pdf](Week 6/Sampling.pdf)).\n",
    "- [Chapter 21: Accuracy of percentages](Week 6/Confidence Intervals.html) \n",
    "([slides](Week 6/Confidence Intervals.slides.html), [pdf](Week 6/Confidence Intervals.pdf)).\n",
    "- [Exercises](Week 6/Exercises.html)."
   ]
  },
  {
   "cell_type": "markdown",
   "metadata": {},
   "source": [
    "### Week 7\n",
    "\n",
    "- [Chapter 23: Accuracy of averages](Week 7/Accuracy of averages.html) \n",
    "([slides](Week 7/Accuracy of averages.slides.html), [pdf](Week 7/Accuracy of averages.pdf)).\n",
    "- [Chapter 24: Gauss model](Week 7/Gauss model.html) \n",
    "([slides](Week 7/Gauss model.slides.html), [pdf](Week 7/Gauss model.pdf)).\n",
    "- [Chapter 26: Hypothesis tests](Week 7/Hypothesis tests.html) \n",
    "([slides](Week 7/Hypothesis tests.slides.html), [pdf](Week 7/Hypothesis tests.pdf)).\n",
    "\n",
    "- [Exercises](Week 7/Exercises.html)."
   ]
  },
  {
   "cell_type": "markdown",
   "metadata": {},
   "source": [
    "### Week 8\n",
    "\n",
    "- [Chapter 26: Hypothesis tests](Week 7/Hypothesis tests.html) \n",
    "([slides](Week 7/Hypothesis tests.slides.html), [pdf](Week 7/Hypothesis tests.pdf)).\n",
    "- [Chapter 27: Two sample tests](Week 8/Two sample test.html) \n",
    "([slides](Week 8/Two sample test.slides.html), [pdf](Week 8/Two sample test.pdf)).\n",
    "\n",
    "- [Exercises](Week 8/Exercises.html)."
   ]
  },
  {
   "cell_type": "markdown",
   "metadata": {},
   "source": [
    "### Week 9\n",
    "\n",
    "- [Chapter 28: Chi-squared tests](Week 9/Chisquared.html) \n",
    "([slides](Week 9/Chisquared.slides.html), [pdf](Week 9/Chisquared.pdf)).\n",
    "\n",
    "- [Regression revisited](Week 9/Regression revisited.html) \n",
    "([slides](Week 9/Regression revisited.slides.html), [pdf](Week 9/Regression revisited.pdf)).\n",
    "\n",
    "- [Exercises](Week 9/Exercises.html)."
   ]
  },
  {
   "cell_type": "markdown",
   "metadata": {},
   "source": [
    "### Week 10\n",
    "\n",
    "- [Review I](Week 10/ReviewI.html) \n",
    "([slides](Week 10/ReviewI.slides.html)).\n",
    "\n",
    "- [Review II](Week 10/ReviewII.html) \n",
    "([slides](Week 10/ReviewII.slides.html)).\n"
   ]
  },
  {
   "cell_type": "markdown",
   "metadata": {},
   "source": [
    "## Tables\n",
    "\n",
    "- [Symmetric normal table](Tables/Symmetric normal table.html)\n",
    "- [Tail normal table](Tables/Tail normal table.html)\n",
    "- [Tail T table](Tables/Tail T table.html)\n",
    "- [Tail Chisquared table](Tables/Tail Chi-squared table.html)"
   ]
  }
 ],
 "metadata": {
  "kernelspec": {
   "display_name": "Python 2",
   "language": "python",
   "name": "python2"
  },
  "language_info": {
   "codemirror_mode": {
    "name": "ipython",
    "version": 2
   },
   "file_extension": ".py",
   "mimetype": "text/x-python",
   "name": "python",
   "nbconvert_exporter": "python",
   "pygments_lexer": "ipython2",
   "version": "2.7.11"
  }
 },
 "nbformat": 4,
 "nbformat_minor": 0
}

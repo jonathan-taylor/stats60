{
 "metadata": {
  "name": "",
  "signature": "sha256:e6f4921ffc35749ff82c83eadf1fc9d5dad9151e8c76a7f3c6b993036f50af8a"
 },
 "nbformat": 3,
 "nbformat_minor": 0,
 "worksheets": [
  {
   "cells": [
    {
     "cell_type": "markdown",
     "metadata": {},
     "source": [
      "# Chapters 1 and 2\n",
      "\n",
      "## Like 2.6.1 \n",
      "\n",
      "- An investigator compares the incidence of violent crime in the cities of \"Sleepy Suburb\" and in \"Urban Jungle\" in 2010. In \"Sleepy Suburb\", there were 20 \n",
      "reports of violent crime in 2010, while there were 300 reports in \"Urban Giant.\"\n",
      "The officer concludes that the citizens of \"Sleepy Suburb\" are more law-abiding than \"Urban Giant.\" **What do you think?**\n",
      "\n",
      "- An investigator compares the incidence of violent crime in the past decades in \"Urban Jungle.\" In 2000,  there were 350 reports in \"Urban Giant.\"\n",
      "The officer concludes that the citizens of \"Urban Giant\" have become more law-abiding over the past decade. **What do you think?**"
     ]
    },
    {
     "cell_type": "markdown",
     "metadata": {},
     "source": [
      "## 2.6.4\n",
      "\n",
      "The Public Health Service studied the effects of smoking on health, in a large sample of representative households. For men and for women in each age group,\n",
      "those who had never smoked were on average somewhat healthier than the current smokers, but the current smokers were on average much healthier than those who had recently stopped smoking.\n",
      "\n",
      "- Why did they study men an dwomen and the different age groups separately?\n",
      "\n",
      "- The lesson seems to be that you shouldn't start smoking, but once you've started, don't stop. Comment briefly."
     ]
    },
    {
     "cell_type": "code",
     "collapsed": false,
     "input": [],
     "language": "python",
     "metadata": {},
     "outputs": []
    }
   ],
   "metadata": {}
  }
 ]
}
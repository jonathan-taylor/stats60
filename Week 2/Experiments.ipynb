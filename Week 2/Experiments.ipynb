{
 "metadata": {
  "celltoolbar": "Slideshow",
  "name": "",
  "signature": "sha256:97a37b9dae9cb8caea4a516ee340f8d815d3c14ff49ed99301e3a557c17f0b68"
 },
 "nbformat": 3,
 "nbformat_minor": 0,
 "worksheets": [
  {
   "cells": [
    {
     "cell_type": "markdown",
     "metadata": {
      "slideshow": {
       "slide_type": "slide"
      }
     },
     "source": [
      "## Experiments (Chapter 1)\n",
      "\n",
      "* Does smoking cause lung cancer?\n",
      "* How can this be established \u2013 by comparing smokers to non-smokers?\n",
      "* Is a vaccine effective against some infectious disease?"
     ]
    },
    {
     "cell_type": "markdown",
     "metadata": {
      "slideshow": {
       "slide_type": "slide"
      }
     },
     "source": [
      "### Treatment and control groups\n",
      "\n",
      "* In the smoking study: ** treatment = smokers**, ** control = non-smokers**\n",
      "  .\n",
      "* In a vaccine study: ** treatment = patients who are vaccinated**, ** control = non-vaccinated**.\n",
      "\n",
      "* Ideally, the only difference between ** treatment**\n",
      "   and ** control**\n",
      "   is whether or not they receive the treatment."
     ]
    },
    {
     "cell_type": "markdown",
     "metadata": {
      "slideshow": {
       "slide_type": "slide"
      }
     },
     "source": [
      "### Randomized controlled experiments\n",
      "\n",
      "* The best way to establish smoking causes lung cancer is a *randomized controlled* experiment.\n",
      "* In such a study, patients would be assigned randomly to smoking or non-smoking group.\n",
      "* Obviously, these experiments are not always possible: we can't force people to smoke."
     ]
    },
    {
     "cell_type": "markdown",
     "metadata": {
      "slideshow": {
       "slide_type": "slide"
      }
     },
     "source": [
      "### Why randomize?\n",
      "\n",
      "* In the polio vaccine example described in the book, wealthy families whose children were more vulnerable to polio also were more likely to volunteer for vaccination.\n",
      "* If ** treatment**\n",
      "   is assigned based on whoever volunteers, this biases the experiment against the vaccine, i.e. its apparent effectiveness is diminished.\n",
      "\n",
      "* This means there will be differences between ** treatment**\n",
      "   and ** control**\n",
      "   groups other than just the vaccine."
     ]
    },
    {
     "cell_type": "markdown",
     "metadata": {
      "slideshow": {
       "slide_type": "slide"
      }
     },
     "source": [
      "### Placebo effect and blinding\n",
      "\n",
      "* Subjects in the ** control**\n",
      "   group should be given a \"treatment\" with no effect. That is, they should ideally be *blinded*.\n",
      "* Why? So the response is not due to the idea of a vaccine, but the vaccine itself.\n",
      "* In the vaccination example, children were given an injection of salt and water.\n",
      "* This treatment is called a ** placebo**."
     ]
    },
    {
     "cell_type": "markdown",
     "metadata": {
      "slideshow": {
       "slide_type": "slide"
      }
     },
     "source": [
      "### Why randomize?\n",
      "\n",
      "* In the polio vaccine example described in the book, wealthy families whose children were more vulnerable to polio also were more likely to volunteer for vaccination.\n",
      "* If treatment is assigned based on whoever volunteers, this would bias the experiment against the vaccine, i.e. its apparent effectiveness is diminished."
     ]
    },
    {
     "cell_type": "markdown",
     "metadata": {
      "slideshow": {
       "slide_type": "slide"
      }
     },
     "source": [
      "## Double blinding\n",
      "\n",
      "* If the doctors know who receives treatment and who receives placebo, they may also bias the results by their reporting.\n",
      "* For example, polio diagnosis is not perfect, a doctor with interest in the success of the vaccine may declare a treated child with mild polio as healthy; or an untreated (placebo) child who is close to healthy as having mild polio.\n",
      "* This bias may be conscious or unconscious on the doctors\u2019 part."
     ]
    },
    {
     "cell_type": "markdown",
     "metadata": {
      "slideshow": {
       "slide_type": "slide"
      }
     },
     "source": [
      "## NFIP study\n",
      "\n",
      "\n",
      "Group | Size | Rate\n",
      "--- | --- | ---\n",
      "Treatment | 225,000 | 25\n",
      "Control | 725,000 | 54\n",
      "No consent | 125,000 | 44\n",
      "\n",
      "\n",
      "## Double-blind study\n",
      "\n",
      "\n",
      "Group | Size | Rate\n",
      "--- | --- | ---\n",
      "Treatment | 200,000 | 28\n",
      "Control | 200,000 | 71\n",
      "No consent | 350,000 | 46"
     ]
    },
    {
     "cell_type": "markdown",
     "metadata": {
      "slideshow": {
       "slide_type": "slide"
      }
     },
     "source": [
      "## Another advantage\n",
      "\n",
      "- As we\u2019ll see later, the other advantage of the randomized controlled experiment is that the only thing that the difference in rates between ** treatment**\n",
      "   and ** control**\n",
      "   is randomness.\n",
      "- We will compute the chances seeing a difference\n",
      "in rate as largs as 71 - 28 *assuming the vaccine has no effect*. \n",
      "- **The chances will be very small.**"
     ]
    },
    {
     "cell_type": "markdown",
     "metadata": {
      "slideshow": {
       "slide_type": "slide"
      }
     },
     "source": [
      "## Observational studies (Chapter 2)\n",
      "\n",
      "* Unlike in randomized controlled experiments, in *observational studies*\n",
      "  , the subjects are assigned to ** treatment**\n",
      "   or ** control**\n",
      "   by an *uncontrolled*\n",
      "   mechanism.\n",
      "* In a smoking / lung cancer study, subjects choose to smoke or not.\n",
      "* Very often ** treatment**\n",
      "   or ** control**\n",
      "   groups differ by more than just the treatment."
     ]
    },
    {
     "cell_type": "markdown",
     "metadata": {
      "slideshow": {
       "slide_type": "slide"
      }
     },
     "source": [
      "## Smoking & socio-economic status\n",
      "\n",
      "Smoking is related to socio-economic status. \n",
      "\n",
      "As a consequence, smokers:\n",
      "* tend to be in  lower socio-economic status groups with less access to medical care;\n",
      "* will tend to have higher incidence of some diseases based on this fact alone."
     ]
    },
    {
     "cell_type": "markdown",
     "metadata": {
      "slideshow": {
       "slide_type": "slide"
      }
     },
     "source": [
      "## Association is not causation\n",
      "\n",
      "* In children, shoe size is associated to reading ability.\n",
      "* However, having big feet does not cause children to score high on reading tests."
     ]
    },
    {
     "cell_type": "markdown",
     "metadata": {
      "slideshow": {
       "slide_type": "slide"
      }
     },
     "source": [
      "## Confounding\n",
      "\n",
      "The big problem with observational studies is **confounding**\n",
      "\n",
      "      Confounding means there is a difference between \n",
      "      the treatment and control groups \u2013 other than treatment \u2013 \n",
      "      which affects the response being studied. \n",
      "      \n",
      "      A confounder is a third variable, associated with \n",
      "      exposure and with disease.\n"
     ]
    },
    {
     "cell_type": "markdown",
     "metadata": {
      "slideshow": {
       "slide_type": "slide"
      }
     },
     "source": [
      "## Confounding in reading ability\n",
      "\n",
      "In our example with show size and reading ability, **age is a confounder.**\n",
      "\n",
      "- Both reading and ability are associated to age.\n",
      "- As children age, their feet grow.\n",
      "- As children age, their reading improves."
     ]
    },
    {
     "cell_type": "markdown",
     "metadata": {
      "slideshow": {
       "slide_type": "slide"
      }
     },
     "source": [
      "### The problem with confounding\n",
      "\n",
      "- It is generally impossible to rule out all possible confounding variables.\n",
      "\n",
      "- Therefore establishing a causal link between two observed variables, e.g. smoking and lung cancer can be difficult.\n",
      "\n",
      "- Fisher, one of the greatest statisticians believed there was a confounding variable in the case of lung cancer and cigarettes. Modern medicine would say he was wrong..."
     ]
    },
    {
     "cell_type": "markdown",
     "metadata": {
      "slideshow": {
       "slide_type": "slide"
      }
     },
     "source": [
      "## Sex bias in admissions to graduate school\n",
      "\n",
      "A study from UC Berkeley:\n",
      "\n",
      "\n",
      "Major | # (Male) | % (Male) | # (Female) | % (Female)\n",
      "--- | --- | --- | --- | ---\n",
      "A | 825 | 62 | 108 | 82\n",
      "B | 560 | 63 | 25 | 68\n",
      "C | 325 | 37 | 593 | 34\n",
      "D | 417 | 33 | 375 | 35\n",
      "E | 191 | 28 | 393 | 24\n",
      "F | 373 | 6 | 341 | 7\n",
      "Total | 2691 | <font color=\"red\">44</font>| 1835 | <font color=\"red\">35</font>\n",
      "\n",
      "Female admission rates are almost as good or better in all of these majors,\n",
      "but the overall rate is lower.\n",
      "\n",
      "**Is this evidence of bias against female applicants?**\n",
      "\n",
      "No, but it is confusing. It is a phenomenon known as [Simpson's paradox](http://en.wikipedia.org/wiki/Simpson's_paradox)."
     ]
    },
    {
     "cell_type": "markdown",
     "metadata": {
      "slideshow": {
       "slide_type": "slide"
      }
     },
     "source": [
      "### Females were applying to more competitive majors"
     ]
    },
    {
     "cell_type": "code",
     "collapsed": false,
     "input": [
      "%%capture\n",
      "from stats_lectures.stats60.gender_bias import UCB, UCB_female, UCB_male\n",
      "UCB_male.sample(10000)\n",
      "male = UCB_male.mean\n",
      "UCB_female.sample(1000)\n",
      "female = UCB_female.mean\n",
      "male_major = np.sum(male, 1)\n",
      "female_major = np.sum(female, 1)\n",
      "\n",
      "major_fig = plt.figure(figsize=(10,10))\n",
      "major_ax = major_fig.gca()\n",
      "major_ax.bar(range(female_major.shape[0]), 100 * female_major, alpha=0.5, facecolor='blue', label='Female')\n",
      "major_ax.bar(range(male_major.shape[0]), 100 * male_major, alpha=0.5, facecolor='yellow', label='Male')\n",
      "major_ax.legend()\n",
      "major_ax.set_xticklabels(['A','B','C','D','E','F'])\n",
      "major_ax.set_xlabel('Major', fontsize=20)\n",
      "major_ax.set_ylabel('Percentage', fontsize=20)\n",
      "major_ax.set_title('Breakdown of Major by Gender', fontsize=20)"
     ],
     "language": "python",
     "metadata": {
      "slideshow": {
       "slide_type": "skip"
      }
     },
     "outputs": [
      {
       "metadata": {},
       "output_type": "pyout",
       "prompt_number": 21,
       "text": [
        "<matplotlib.text.Text at 0x10c116dd0>"
       ]
      }
     ],
     "prompt_number": 21
    },
    {
     "cell_type": "code",
     "collapsed": false,
     "input": [
      "major_fig"
     ],
     "language": "python",
     "metadata": {
      "slideshow": {
       "slide_type": "fragment"
      }
     },
     "outputs": [
      {
       "metadata": {},
       "output_type": "pyout",
       "png": "[encoded data removed]",
       "prompt_number": 22,
       "text": [
        "<matplotlib.figure.Figure at 0x10c1f9610>"
       ]
      }
     ],
     "prompt_number": 22
    },
    {
     "cell_type": "markdown",
     "metadata": {
      "slideshow": {
       "slide_type": "fragment"
      }
     },
     "source": [
      "In other words, *Major* was a *confounder* for the relationship\n",
      "between  *Gender* and *Admission status.*\n",
      "\n"
     ]
    },
    {
     "cell_type": "markdown",
     "metadata": {
      "slideshow": {
       "slide_type": "slide"
      }
     },
     "source": [
      "### Resolving the paradox\n",
      "\n",
      "A clearer picture can be found by computing a weighted average of the \n",
      "admission rate. \n",
      "\n",
      "The average will be weighted by the total number of people applying to each major.\n",
      "\n",
      " $$\\begin{aligned}\n",
      "   \\text{Male} &= \\frac{0.62 \\times 933 + 0.63 \\times 585 + 0.37 \\times 918}{4526} \\\\\n",
      "   & \\qquad  +  \\ \\frac{0.33 \\times 792 + 0.28 \\times 584 + 0.06 \\times 714}{4526} \\\\\n",
      "   &= 39 \\% \\\\\n",
      "   \\end{aligned}\n",
      "   $$\n",
      "   \n",
      "   $$\n",
      "   \\begin{aligned}\n",
      "   \\text{Female} &= \\frac{0.82 \\times 933 + 0.68 \\times 585 + 0.34 \\times 918}{4526} \\\\\n",
      "   & \\qquad + \\  \\frac{0.35 \\times 792 + 0.24 \\times 584 + 0.07 \\times 714}{4526} \\\\\n",
      "   &= 43 \\%\n",
      "   \\end{aligned}$$\n",
      "\n"
     ]
    }
   ],
   "metadata": {}
  }
 ]
}
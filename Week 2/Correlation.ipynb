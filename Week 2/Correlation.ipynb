{
 "metadata": {
  "celltoolbar": "Slideshow",
  "name": "",
  "signature": "sha256:e615b63c227d90a914ef68cfe6e3a4afca62637a70400a9f9181ea9be5c9b733"
 },
 "nbformat": 3,
 "nbformat_minor": 0,
 "worksheets": [
  {
   "cells": [
    {
     "cell_type": "markdown",
     "metadata": {
      "slideshow": {
       "slide_type": "slide"
      }
     },
     "prompt_number": 1,
     "source": [
      "## Correlation (Chapters 8 and 9)\n",
      "\n",
      "In the early 1900s Karl Pearson collected data on [heights](http://www.stat.cmu.edu/~roeder/stat707/=data/=data/data/Rlibraries/alr3/html/heights.html) of mothers\n",
      "and daughters."
     ]
    },
    {
     "cell_type": "code",
     "collapsed": false,
     "input": [
      "height = pearson_lee()\n",
      "height.draw()\n"
     ],
     "language": "python",
     "metadata": {
      "slideshow": {
       "slide_type": "skip"
      }
     },
     "outputs": [],
     "prompt_number": 1
    },
    {
     "cell_type": "code",
     "collapsed": false,
     "input": [
      "height.figure"
     ],
     "language": "python",
     "metadata": {
      "slideshow": {
       "slide_type": "fragment"
      }
     },
     "outputs": [],
     "prompt_number": 2
    },
    {
     "cell_type": "markdown",
     "metadata": {
      "slideshow": {
       "slide_type": "fragment"
      }
     },
     "prompt_number": 3,
     "source": [
      "\n",
      "There is a *positive association* between the two.\n"
     ]
    },
    {
     "cell_type": "markdown",
     "metadata": {
      "slideshow": {
       "slide_type": "slide"
      }
     },
     "prompt_number": 3,
     "source": [
      "### Drawing a scatter plot\n",
      "\n",
      "What we saw above, is an example of a **scatter plot**.\n",
      "\n",
      "- Given two lists: $X, Y$ of length $n$\n",
      "- Draw a coordinate system between roughly $[\\min(X), \\max(X)]$ on the $x$-axis and between roughly $[\\min(Y), \\max(Y)]$ on the $y$-axis.\n",
      "- Each pair $(X_i, Y_i)$ gets a point with those corresponding coordinates."
     ]
    },
    {
     "cell_type": "code",
     "collapsed": false,
     "input": [
      "fig = plt.figure(figsize=(6,6))\n",
      "ax = fig.gca()\n",
      "X = [1,4,6,9,3]\n",
      "Y = [-2,2,8,0,1]\n",
      "ax.scatter(X, Y, c='r', s=100)\n",
      "ax.set_xlabel('X', fontsize=15)\n",
      "ax.set_ylabel('Y', fontsize=15)"
     ],
     "language": "python",
     "metadata": {
      "slideshow": {
       "slide_type": "slide"
      }
     },
     "outputs": [],
     "prompt_number": 3
    },
    {
     "cell_type": "markdown",
     "metadata": {
      "slideshow": {
       "slide_type": "slide"
      }
     },
     "prompt_number": 4,
     "source": [
      "### Dependent and independent variables\n",
      "\n",
      "- The $X$ axis is called the *independent variable.*\n",
      "\n",
      "- The $Y$ axis is called the *dependent variable.*"
     ]
    },
    {
     "cell_type": "code",
     "collapsed": false,
     "input": [
      "ax.set_xlabel('Independent', fontsize=15)\n",
      "ax.set_ylabel('Dependent', fontsize=15)\n",
      "ax.figure"
     ],
     "language": "python",
     "metadata": {
      "slideshow": {
       "slide_type": "fragment"
      }
     },
     "outputs": [],
     "prompt_number": 4
    },
    {
     "cell_type": "markdown",
     "metadata": {
      "slideshow": {
       "slide_type": "slide"
      }
     },
     "prompt_number": 5,
     "source": [
      "\n",
      "### What can correlation tell us? \n",
      "\n",
      "- From the plot, daughters born to taller mothers tend to be taller. \n",
      "\n",
      "- It has more concrete information that allows us to estimate\n",
      "the *average* height of daughters born to mothers of a *given height*."
     ]
    },
    {
     "cell_type": "code",
     "collapsed": false,
     "input": [
      "height.strip = 65\n",
      "height.draw()\n",
      "height.figure"
     ],
     "language": "python",
     "metadata": {
      "slideshow": {
       "slide_type": "slide"
      }
     },
     "outputs": [],
     "prompt_number": 5
    },
    {
     "cell_type": "markdown",
     "metadata": {
      "slideshow": {
       "slide_type": "fragment"
      }
     },
     "prompt_number": 6,
     "source": [
      "\n",
      "What if we want to guess daughter\u2019s height when mother = 65 in?"
     ]
    },
    {
     "cell_type": "heading",
     "level": 3,
     "metadata": {
      "slideshow": {
       "slide_type": "slide"
      }
     },
     "prompt_number": 6,
     "source": [
      "Average within a strip"
     ]
    },
    {
     "cell_type": "code",
     "collapsed": false,
     "input": [
      "height.axes.set_xlim([64.5,65.5])\n",
      "height.axes.set_title('Zooming in on the strip...', color='red', fontsize=15)\n",
      "height.figure"
     ],
     "language": "python",
     "metadata": {
      "slideshow": {
       "slide_type": "slide"
      }
     },
     "outputs": [],
     "prompt_number": 6
    },
    {
     "cell_type": "markdown",
     "metadata": {
      "slideshow": {
       "slide_type": "slide"
      }
     },
     "prompt_number": 7,
     "source": [
      "\n",
      "We see some variability within the strip: the scatter plot is not exactly a line.\n",
      "\n",
      "However, we can compute the average height within a given strip."
     ]
    },
    {
     "cell_type": "code",
     "collapsed": false,
     "input": [
      "height.axes.set_title('The average within the strip is %0.1f' % height.mean_strip, fontsize=15)\n",
      "height.figure"
     ],
     "language": "python",
     "metadata": {
      "slideshow": {
       "slide_type": "fragment"
      }
     },
     "outputs": [],
     "prompt_number": 7
    },
    {
     "cell_type": "code",
     "collapsed": false,
     "input": [
      "height.axes.set_xlim([54,72])\n",
      "height.figure"
     ],
     "language": "python",
     "metadata": {
      "slideshow": {
       "slide_type": "slide"
      }
     },
     "outputs": [],
     "prompt_number": 8
    },
    {
     "cell_type": "markdown",
     "metadata": {
      "slideshow": {
       "slide_type": "slide"
      }
     },
     "prompt_number": 9,
     "source": [
      "Let's collect these averages within many strips"
     ]
    },
    {
     "cell_type": "code",
     "collapsed": false,
     "input": [
      "%%capture\n",
      "averages = []\n",
      "height.draw()\n",
      "mother_heights = range(56,69)\n",
      "for mother in mother_heights:\n",
      "    height.strip = mother\n",
      "    averages.append(height.mean_strip)\n",
      "\n",
      "height.strip = None\n",
      "height.axes.plot(mother_heights, averages, linewidth=5, c='k')\n",
      "height.axes.set_title(\"Relationship is almost a straight line.\", fontsize=15)\n",
      "height.axes.scatter(mother_heights, averages, s=300, c='yellow', label='Average(strip)')\n",
      "#matplotlib.rcParams['legend.scatterpoints'] = 1\n",
      "height.axes.legend(loc='lower right') "
     ],
     "language": "python",
     "metadata": {
      "slideshow": {
       "slide_type": "skip"
      }
     },
     "outputs": [],
     "prompt_number": 9
    },
    {
     "cell_type": "code",
     "collapsed": false,
     "input": [
      "height.figure"
     ],
     "language": "python",
     "metadata": {
      "slideshow": {
       "slide_type": "slide"
      }
     },
     "outputs": [],
     "prompt_number": 10
    },
    {
     "cell_type": "code",
     "collapsed": false,
     "input": [
      "height.axes.set_title('Slope of the line is predicted by correlation...', fontsize=15)\n",
      "height.axes.figure"
     ],
     "language": "python",
     "metadata": {
      "slideshow": {
       "slide_type": "slide"
      }
     },
     "outputs": [],
     "prompt_number": 11
    },
    {
     "cell_type": "markdown",
     "metadata": {
      "slideshow": {
       "slide_type": "slide"
      }
     },
     "prompt_number": 12,
     "source": [
      "## Correlation\n",
      "\n",
      "### Conceptual definition\n",
      "\n",
      "- A numerical summary of a scatterplot, i.e. a pair of lists.\n",
      "- If there is a strong association between two variables, then knowing one helps a lot in predicting the other. But when there is a weak association, information about one variable does not help much in guessing the other.\n",
      "\n",
      "The *correlation coefficient*\n",
      "  , $r$ is a measure of the strength of this association.\n",
      "* $r=+1$ if the variables are perfectly positively associated.\n",
      "* $r=-1$ if the variables are perfectly negatively associated."
     ]
    },
    {
     "cell_type": "heading",
     "level": 3,
     "metadata": {
      "slideshow": {
       "slide_type": "slide"
      }
     },
     "prompt_number": 12,
     "source": [
      "Perfectly positively correlated"
     ]
    },
    {
     "cell_type": "code",
     "collapsed": false,
     "input": [
      "%%capture\n",
      "positive = plt.figure(figsize=(8,8))\n",
      "ax = positive.gca()\n",
      "X = np.random.standard_normal(50)\n",
      "ax.scatter(X, X, c='red', s=100)\n",
      "ax.set_xticks([])\n",
      "ax.set_yticks([])\n",
      "ax.set_title('$r=+1$', fontsize=20)"
     ],
     "language": "python",
     "metadata": {
      "slideshow": {
       "slide_type": "skip"
      }
     },
     "outputs": [],
     "prompt_number": 12
    },
    {
     "cell_type": "code",
     "collapsed": false,
     "input": [
      "positive"
     ],
     "language": "python",
     "metadata": {
      "slideshow": {
       "slide_type": "fragment"
      }
     },
     "outputs": [],
     "prompt_number": 13
    },
    {
     "cell_type": "heading",
     "level": 3,
     "metadata": {
      "slideshow": {
       "slide_type": "slide"
      }
     },
     "prompt_number": 14,
     "source": [
      "Perfectly negatively correlated, $r=-1$"
     ]
    },
    {
     "cell_type": "code",
     "collapsed": false,
     "input": [
      "%%capture\n",
      "negative = plt.figure(figsize=(8,8))\n",
      "ax = negative.gca()\n",
      "X = np.random.standard_normal(50)\n",
      "ax.scatter(X, -X, c='red', s=100)\n",
      "ax.set_xticks([])\n",
      "ax.set_yticks([])\n",
      "ax.set_title('$r=-1$', fontsize=20)\n"
     ],
     "language": "python",
     "metadata": {
      "slideshow": {
       "slide_type": "skip"
      }
     },
     "outputs": [],
     "prompt_number": 14
    },
    {
     "cell_type": "code",
     "collapsed": false,
     "input": [
      "negative"
     ],
     "language": "python",
     "metadata": {
      "slideshow": {
       "slide_type": "fragment"
      }
     },
     "outputs": [],
     "prompt_number": 15
    },
    {
     "cell_type": "heading",
     "level": 3,
     "metadata": {
      "slideshow": {
       "slide_type": "slide"
      }
     },
     "prompt_number": 16,
     "source": [
      "Uncorrelated variables (no relation) $r=0$"
     ]
    },
    {
     "cell_type": "code",
     "collapsed": false,
     "input": [
      "%%capture\n",
      "uncorrelated = plt.figure(figsize=(8,8))\n",
      "ax = uncorrelated.gca()\n",
      "X = np.random.standard_normal(50)\n",
      "Y = np.random.standard_normal(50)\n",
      "ax.scatter(X, Y, c='red', s=100)\n",
      "ax.set_xticks([])\n",
      "ax.set_yticks([])\n",
      "ax.set_title('$r=0$', fontsize=20)\n"
     ],
     "language": "python",
     "metadata": {
      "slideshow": {
       "slide_type": "skip"
      }
     },
     "outputs": [],
     "prompt_number": 16
    },
    {
     "cell_type": "code",
     "collapsed": false,
     "input": [
      "uncorrelated"
     ],
     "language": "python",
     "metadata": {
      "slideshow": {
       "slide_type": "fragment"
      }
     },
     "outputs": [],
     "prompt_number": 17
    },
    {
     "cell_type": "heading",
     "level": 3,
     "metadata": {
      "slideshow": {
       "slide_type": "slide"
      }
     },
     "prompt_number": 18,
     "source": [
      "Positive and negative correlation"
     ]
    },
    {
     "cell_type": "code",
     "collapsed": false,
     "input": [
      "%%capture\n",
      "def c_from_r(r):\n",
      "   return np.sqrt(r**2 / (1.-r**2)) * np.sign(r)\n",
      "mixture = plt.figure(figsize=(8,8))\n",
      "\n",
      "X = np.random.standard_normal(50)\n",
      "Y = np.random.standard_normal(50)\n",
      "for i, r in zip([1,2,3,4], [0.4,0.9,-0.4,-0.9]):\n",
      "   ax = plt.subplot(2,2,i)\n",
      "   ax.scatter(X, Y + c_from_r(r) * X, c='red', s=50)\n",
      "   ax.set_xticks([])\n",
      "   ax.set_yticks([]);\n",
      "   ax.set_title('r=%0.1f' % r)"
     ],
     "language": "python",
     "metadata": {
      "slideshow": {
       "slide_type": "skip"
      }
     },
     "outputs": [],
     "prompt_number": 18
    },
    {
     "cell_type": "code",
     "collapsed": false,
     "input": [
      "mixture"
     ],
     "language": "python",
     "metadata": {
      "slideshow": {
       "slide_type": "fragment"
      }
     },
     "outputs": [],
     "prompt_number": 19
    },
    {
     "cell_type": "markdown",
     "metadata": {
      "slideshow": {
       "slide_type": "slide"
      }
     },
     "prompt_number": 20,
     "source": [
      "## Computing $r$, the correlation coefficient\n",
      "\n",
      "* Given two lists, $X, Y$, convert them each to standardized units. Call these new lists $Z_X, Z_Y$.\n",
      "* Make a new list $Z_{XY}$ whose entries are the products of the entries of $Z_X, Z_Y$.\n",
      "* Then, $r = \\text{average}(Z_{XY}).$\n",
      "* Another way:\n",
      "$$\n",
      "   r = \\frac{\\text{average(products $X, Y$)} - \\text{average}(X) \\times \\text{average}(Y)}{\\text{SD}(X) \\times \\text{SD}(Y)}.\n",
      "   $$\n",
      "   "
     ]
    },
    {
     "cell_type": "markdown",
     "metadata": {
      "slideshow": {
       "slide_type": "slide"
      }
     },
     "prompt_number": 20,
     "source": [
      "### In Greek notation\n",
      "\n",
      "- The entries of the lists $Z_X, Z_Y, Z_{XY}$ are: \n",
      "$$\\begin{aligned}\n",
      "     Z_{X,i} &= \\frac{X_i - \\bar{X}}{\\text{SD}(X)} \\\\\n",
      "     Z_{Y,i} &= \\frac{Y_i - \\bar{Y}}{\\text{SD}(Y)} \\\\\n",
      "     Z_{XY,i} &= Z_{X,i} \\times Z_{Y,i}\n",
      "     \\end{aligned}$$\n",
      "- Then, $$r = r(X,Y) = \\bar{Z}_{XY} = \\frac{1}{n} \\sum_{i=1}^n Z_{XY,i}.$$\n",
      "\n",
      "- The other way above can be written as:\n",
      "     * If $XY$ is the list with entries $X_i \\times Y_i$, then $$r = \\frac{\\overline{XY} - \\bar{X} \\times \\bar{Y}}{\\text{SD}(X) \\times \\text{SD}(y)}.$$"
     ]
    },
    {
     "cell_type": "markdown",
     "metadata": {
      "slideshow": {
       "slide_type": "slide"
      }
     },
     "prompt_number": 20,
     "source": [
      "## Example\n",
      "\n",
      "Take X = [1,4,6,9,3],\n",
      "Y = [-2,2,8,0,1].\n",
      "\n",
      " $$\\begin{aligned}\n",
      "   \\bar{X} &= 4.6 & \\text{SD}(X) &= 2.72 \\\\\n",
      "   \\bar{Y} &= 1.8 & \\text{SD}(Y) &= 3.37 \\\\\n",
      "   \\end{aligned}$$\n",
      "   \n",
      "The only thing new to compute is $\\overline{XY}$. \n",
      "$$XY = [-2,8,48,0,3], \\qquad \\overline{XY}=(-2+8+48+3)/5=11.4$$\n",
      "\n",
      "Therefore\n",
      "$$ r = \\frac{11.4 - 4.6 * 1.8}{2.72 * 3.37} \\approx 0.34$$"
     ]
    },
    {
     "cell_type": "code",
     "collapsed": false,
     "input": [
      "X = [1,4,6,9,3]\n",
      "Y = [-2,2,8,0,1]\n",
      "print (mean(X), mean(Y), std(X), std(Y), mean([x*y for x,y in zip(X,Y)]))\n",
      "R = (mean([x*y for x,y in zip(X,Y)]) - mean(X) * mean(Y)) / (std(X) * std(Y))\n",
      "R, (11.4 - 4.6 * 1.8)/(2.72 * 3.37)"
     ],
     "language": "python",
     "metadata": {
      "slideshow": {
       "slide_type": "fragment"
      }
     },
     "outputs": [],
     "prompt_number": 20
    },
    {
     "cell_type": "markdown",
     "metadata": {
      "slideshow": {
       "slide_type": "slide"
      }
     },
     "prompt_number": 21,
     "source": [
      "### Properties of correlation\n",
      "\n",
      "* Correlation is unitless.\n",
      "* Changing units of $X$ or $Y$ does not change the correlation.\n",
      "* Correlation does not change if we interchange $X$ and $Y$: it is *symmetric*."
     ]
    },
    {
     "cell_type": "code",
     "collapsed": false,
     "input": [
      "height.draw()\n",
      "height.axes.set_title(\"$r=%0.2f$\" % np.corrcoef([height.D, height.M])[0,1], fontsize=20)"
     ],
     "language": "python",
     "metadata": {
      "slideshow": {
       "slide_type": "skip"
      }
     },
     "outputs": [],
     "prompt_number": 21
    },
    {
     "cell_type": "markdown",
     "metadata": {
      "slideshow": {
       "slide_type": "slide"
      }
     },
     "prompt_number": 22,
     "source": [
      "## Correlation in Pearson's data"
     ]
    },
    {
     "cell_type": "code",
     "collapsed": false,
     "input": [
      "height.figure"
     ],
     "language": "python",
     "metadata": {
      "slideshow": {
       "slide_type": "fragment"
      }
     },
     "outputs": [],
     "prompt_number": 22
    },
    {
     "cell_type": "markdown",
     "metadata": {
      "slideshow": {
       "slide_type": "slide"
      }
     },
     "prompt_number": 23,
     "source": [
      "## Correlation is symmetric"
     ]
    },
    {
     "cell_type": "code",
     "collapsed": false,
     "input": [
      "%%capture\n",
      "swapped = plt.figure(figsize=(8,8))\n",
      "ax = swapped.gca()\n",
      "ax.scatter(height.D, height.M, c='red', s=100, edgecolor='gray')\n",
      "ax.set_ylabel(\"Mother's height (inches)\", fontsize=15)\n",
      "ax.set_xlabel(\"Daughter's height (inches)\", fontsize=15)\n",
      "ax.set_title(\"$r=%0.2f$\" % np.corrcoef([height.D, height.M])[0,1], fontsize=20)"
     ],
     "language": "python",
     "metadata": {
      "slideshow": {
       "slide_type": "skip"
      }
     },
     "outputs": [],
     "prompt_number": 23
    },
    {
     "cell_type": "code",
     "collapsed": false,
     "input": [
      "swapped"
     ],
     "language": "python",
     "metadata": {
      "slideshow": {
       "slide_type": "fragment"
      }
     },
     "outputs": [],
     "prompt_number": 24
    },
    {
     "cell_type": "markdown",
     "metadata": {
      "slideshow": {
       "slide_type": "fragment"
      }
     },
     "prompt_number": 25,
     "source": [
      "**This plot also illustrates the important principle:**\n",
      "\n",
      "     Correlation is not causality!\n",
      "     \n",
      "Why?\n"
     ]
    },
    {
     "cell_type": "markdown",
     "metadata": {
      "slideshow": {
       "slide_type": "slide"
      }
     },
     "prompt_number": 25,
     "source": [
      "## Correlation\n",
      "\n",
      "Like mean and SD, outliers can greatly affect the correlation."
     ]
    },
    {
     "cell_type": "code",
     "collapsed": false,
     "input": [
      "%%capture\n",
      "outlier_fig = plt.figure(figsize=(8,8))\n",
      "ax = outlier_fig.gca()\n",
      "X = np.random.standard_normal(30)\n",
      "X.sort()\n",
      "e = np.random.standard_normal(30)\n",
      "Y = 2 + 2.5 * X + 0.5 * e\n",
      "Z = Y * 1.\n",
      "Z[-1] = -3\n",
      "ax.scatter(X[-1],Z[-1], s=200, c='r')\n",
      "ax.scatter(X[:-1],Y[:-1], s=200)\n",
      "ax.set_title('r=%0.2f with outlier, %0.2f without' % (np.corrcoef(X,Z)[0,1], np.corrcoef(X[:-1],Y[:-1])[0,1]),\n",
      "             fontsize=15, color='red')\n",
      "ax.set_xlim([1.1*X.min(),1.1*X.max()])"
     ],
     "language": "python",
     "metadata": {
      "slideshow": {
       "slide_type": "skip"
      }
     },
     "outputs": [],
     "prompt_number": 25
    },
    {
     "cell_type": "code",
     "collapsed": false,
     "input": [
      "outlier_fig"
     ],
     "language": "python",
     "metadata": {
      "slideshow": {
       "slide_type": "fragment"
      }
     },
     "outputs": [],
     "prompt_number": 26
    },
    {
     "cell_type": "markdown",
     "metadata": {
      "slideshow": {
       "slide_type": "slide"
      }
     },
     "prompt_number": 27,
     "source": [
      "## Correlation\n",
      "\n",
      "- Correlation is a linear measure of association.\n",
      "\n",
      "- Variables can be associated without being *linearly associated.*"
     ]
    },
    {
     "cell_type": "code",
     "collapsed": false,
     "input": [
      "%%capture \n",
      "quadratic_fig = plt.figure(figsize=(8,8))\n",
      "ax = quadratic_fig.gca()\n",
      "X = np.linspace(-2,2,50)\n",
      "X += 0.1 * np.random.uniform(0,0.1,(50,)) - 0.05\n",
      "X.sort()\n",
      "e = np.random.standard_normal(50)\n",
      "Y = - 1.5 * X**2 + 0.5 * e\n",
      "ax.scatter(X,Y, c='r', s=200)\n",
      "ax.set_title('r=%0.2f' % np.corrcoef(X,Y)[0,1], color='red', fontsize=20)"
     ],
     "language": "python",
     "metadata": {
      "slideshow": {
       "slide_type": "skip"
      }
     },
     "outputs": [],
     "prompt_number": 27
    },
    {
     "cell_type": "code",
     "collapsed": false,
     "input": [
      "quadratic_fig"
     ],
     "language": "python",
     "metadata": {
      "slideshow": {
       "slide_type": "fragment"
      }
     },
     "outputs": [],
     "prompt_number": 28
    },
    {
     "cell_type": "heading",
     "level": 3,
     "metadata": {
      "slideshow": {
       "slide_type": "slide"
      }
     },
     "prompt_number": 29,
     "source": [
      "Correlation"
     ]
    },
    {
     "cell_type": "markdown",
     "metadata": {
      "slideshow": {
       "slide_type": "slide"
      }
     },
     "prompt_number": 29,
     "source": [
      "### The SD line\n",
      "\n",
      "* The SD line passes through the point of averages $(\\bar{X}, \\bar{Y})$ and has $\\text{slope(SD line)} = \\frac{\\text{SD}(Y)}{\\text{SD}(X)} \\times \\text{sign}(r(X,Y))$\n",
      "* For every one standardized unit increase of $X$, the SD line changes by one standardized unit of $Y$. The direction of change is positive if $X$ and $Y$ are positively correlated, and negative if they are negatively correlated."
     ]
    },
    {
     "cell_type": "heading",
     "level": 3,
     "metadata": {
      "slideshow": {
       "slide_type": "slide"
      }
     },
     "prompt_number": 29,
     "source": [
      "Correlation"
     ]
    },
    {
     "cell_type": "code",
     "collapsed": false,
     "input": [
      "height.SDline()\n",
      "height.figure\n"
     ],
     "language": "python",
     "metadata": {
      "slideshow": {
       "slide_type": "fragment"
      }
     },
     "outputs": [],
     "prompt_number": 29
    },
    {
     "cell_type": "markdown",
     "metadata": {
      "slideshow": {
       "slide_type": "fragment"
      }
     },
     "prompt_number": 30,
     "source": [
      "The point cloud seems to cluster around the SD line"
     ]
    },
    {
     "cell_type": "markdown",
     "metadata": {
      "slideshow": {
       "slide_type": "slide"
      }
     },
     "prompt_number": 30,
     "source": [
      "Let's look at those means we computed within each strip above.\n",
      "\n",
      "While the points are almost on a line, **they do not lie on the SD line.**"
     ]
    },
    {
     "cell_type": "code",
     "collapsed": false,
     "input": [
      "height.axes.plot(mother_heights, averages, linewidth=5, c='k', label='Strip averages')\n",
      "height.axes.scatter(mother_heights, averages, s=300, c='yellow', label='Average(strip)')\n",
      "matplotlib.rcParams['legend.scatterpoints'] = 1\n",
      "height.axes.legend(loc='lower right') "
     ],
     "language": "python",
     "metadata": {
      "slideshow": {
       "slide_type": "skip"
      }
     },
     "outputs": [],
     "prompt_number": 30
    },
    {
     "cell_type": "code",
     "collapsed": false,
     "input": [
      "height.figure"
     ],
     "language": "python",
     "metadata": {
      "slideshow": {
       "slide_type": "fragment"
      }
     },
     "outputs": [],
     "prompt_number": 31
    },
    {
     "cell_type": "markdown",
     "metadata": {
      "slideshow": {
       "slide_type": "slide"
      }
     },
     "prompt_number": 32,
     "source": [
      "### Ecological correlations\n",
      "\n",
      "* Plots of averages vs. averages can exaggerate correlations.\n",
      "* This is because this is a plot of averages of X versus averages of Y, so the points are less variable.\n",
      "* In the next Figure, I divided heights into groups based on mother\u2019s height, then averaged both mother\u2019s height and daughter\u2019s height within that group."
     ]
    },
    {
     "cell_type": "code",
     "collapsed": false,
     "input": [
      "%%capture\n",
      "maverages = []\n",
      "for mother in mother_heights:\n",
      "    maverages.append(height.M[(height.M >= mother-0.5) \n",
      "                              * (height.M <= mother+0.5)].mean())\n",
      "\n",
      "ecological_plot = plt.figure(figsize=(8,8))\n",
      "ax = ecological_plot.gca()\n",
      "ax.scatter(maverages, averages, s=100, c='yellow', edgecolor='gray')\n",
      "ax.set_xlabel(\"Average mother's height within strip (inches)\", fontsize=15)\n",
      "ax.set_ylabel(\"Average daughter's height within strip (inches)\", fontsize=15)\n",
      "ax.set_title('r=%0.2f' % np.corrcoef(maverages,averages)[0,1])\n"
     ],
     "language": "python",
     "metadata": {
      "slideshow": {
       "slide_type": "skip"
      }
     },
     "outputs": [],
     "prompt_number": 32
    },
    {
     "cell_type": "code",
     "collapsed": false,
     "input": [
      "ecological_plot"
     ],
     "language": "python",
     "metadata": {
      "slideshow": {
       "slide_type": "fragment"
      }
     },
     "outputs": [],
     "prompt_number": 33
    },
    {
     "cell_type": "markdown",
     "metadata": {
      "slideshow": {
       "slide_type": "fragment"
      }
     },
     "prompt_number": 34,
     "source": [
      "\n",
      "Ecological correlations ignore variability \u2026"
     ]
    },
    {
     "cell_type": "markdown",
     "metadata": {
      "slideshow": {
       "slide_type": "slide"
      }
     },
     "prompt_number": 34,
     "source": [
      "## Correlation\n",
      "\n",
      "- Just as in measuring a single variable, correlation\n",
      "is susceptible to *selection bias.*\n",
      "\n",
      "- When the correlation is truly 0, selection bias can\n",
      "cause us to think there is some correlation.\n",
      "\n",
      "- The next figure shows points randomly scattered in the square."
     ]
    },
    {
     "cell_type": "code",
     "collapsed": false,
     "input": [
      "%%capture\n",
      "X, Y = np.random.standard_normal((2,2000))  # * 8 - 4\n",
      "independent = plt.figure(figsize=(8,8))\n",
      "ax = independent.gca()\n",
      "ax.scatter(X,Y, c='r', s=100, edgecolor='gray')\n",
      "ax.set_title('$r=%0.2f$' % np.corrcoef([X,Y])[0,1], fontsize=20)\n",
      "ax.set_xlim([-4,4])\n",
      "ax.set_ylim([-4,4])"
     ],
     "language": "python",
     "metadata": {
      "slideshow": {
       "slide_type": "skip"
      }
     },
     "outputs": [],
     "prompt_number": 34
    },
    {
     "cell_type": "code",
     "collapsed": false,
     "input": [
      "independent"
     ],
     "language": "python",
     "metadata": {
      "slideshow": {
       "slide_type": "fragment"
      }
     },
     "outputs": [],
     "prompt_number": 35
    },
    {
     "cell_type": "markdown",
     "metadata": {
      "slideshow": {
       "slide_type": "slide"
      }
     },
     "prompt_number": 36,
     "source": [
      "However, suppose we collected data for our study in a particular fashion.\n",
      "Without knowing it, we collected all pairs such that their sum is in\n"
     ]
    },
    {
     "cell_type": "code",
     "collapsed": false,
     "input": [
      "xf, yf = poly_between([-4,4], [3,-5], [5, -3])\n",
      "g = (X + Y >= -1) * (X + Y <= 1)\n",
      "ax.fill(xf, yf, facecolor='yellow', alpha=0.4, hatch='/')\n",
      "ax.set_xlim([-4,4])\n",
      "ax.set_ylim([-4,4])"
     ],
     "language": "python",
     "metadata": {
      "slideshow": {
       "slide_type": "skip"
      }
     },
     "outputs": [],
     "prompt_number": 36
    },
    {
     "cell_type": "code",
     "collapsed": false,
     "input": [
      "independent"
     ],
     "language": "python",
     "metadata": {
      "slideshow": {
       "slide_type": "fragment"
      }
     },
     "outputs": [],
     "prompt_number": 37
    },
    {
     "cell_type": "markdown",
     "metadata": {
      "slideshow": {
       "slide_type": "slide"
      }
     },
     "prompt_number": 38,
     "source": [
      "We have introduced a strong correlation between $X$ and $Y$ where\n",
      "previously there wasn't.\n",
      "\n",
      "This is an unrealistic example of how bias might be introduced\n",
      "in correlation, but still..."
     ]
    },
    {
     "cell_type": "code",
     "collapsed": false,
     "input": [
      "%%capture\n",
      "sampled = plt.figure(figsize=(8,8))\n",
      "ax = sampled.gca()\n",
      "ax.scatter(X[g],Y[g], c='r', s=100, edgecolor='gray')\n",
      "ax.set_title('$r=%0.2f$' % np.corrcoef([X[g],Y[g]])[0,1], fontsize=20)\n",
      "ax.set_xlim([-4,4])\n",
      "ax.set_ylim([-4,4])\n",
      "ax.fill(xf, yf, facecolor='yellow', alpha=0.4, hatch='/')"
     ],
     "language": "python",
     "metadata": {
      "slideshow": {
       "slide_type": "skip"
      }
     },
     "outputs": [],
     "prompt_number": 38
    },
    {
     "cell_type": "code",
     "collapsed": false,
     "input": [
      "sampled"
     ],
     "language": "python",
     "metadata": {
      "slideshow": {
       "slide_type": "fragment"
      }
     },
     "outputs": [],
     "prompt_number": 39
    }
   ],
   "metadata": {}
  }
 ]
}
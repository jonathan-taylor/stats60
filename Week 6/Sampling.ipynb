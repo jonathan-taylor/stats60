{
 "metadata": {
  "name": "",
  "signature": "sha256:a1931e9643966bdd9a1ff10c0790c427eb3d91d9ed50c2e10b46667540bff011"
 },
 "nbformat": 3,
 "nbformat_minor": 0,
 "worksheets": [
  {
   "cells": [
    {
     "cell_type": "heading",
     "level": 3,
     "metadata": {
      "slideshow": {
       "slide_type": "slide"
      }
     },
     "prompt_number": 1,
     "source": [
      "Opinion polls"
     ]
    },
    {
     "cell_type": "markdown",
     "metadata": {},
     "prompt_number": 1,
     "source": [
      "\n",
      "Presidential approval ratings\n",
      "\n",
      "* [ Rasmussen\n",
      "  ](http://www.rasmussenreports.com/public\\string_content/politics/obama\\string_administration/daily\\string_presidential\\string_tracking\\string_poll)\n",
      "* [ Gallup\n",
      "  ](http://www.gallup.com/poll/113980/gallup-daily-obama-job-approval.aspx)\n",
      "* Both polls are trying to measure the same thing.\n",
      "* Why don\u2019t they agree?\n",
      "* Polls are sometimes wrong: [ Truman / Dewey 1948\n",
      "  ](http://www.chicagotribune.com/news/politics/chi-chicagodays-deweydefeats-story,0,6484067.story)"
     ]
    },
    {
     "cell_type": "heading",
     "level": 3,
     "metadata": {
      "slideshow": {
       "slide_type": "slide"
      }
     },
     "prompt_number": 1,
     "source": [
      "Opinion polls"
     ]
    },
    {
     "cell_type": "markdown",
     "metadata": {},
     "prompt_number": 1,
     "source": [
      "\n",
      "Sources of bias\n",
      "\n",
      "* Often difficult to identify bias.\n",
      "* Some examples:\n",
      "*     * If what you measure differs from employed and unemployed, then calling during the daytime can bias sample towards unemployed.\n",
      "      * If what you measure differs from cell-phone users and land line user then using a telephone book can bias sample towards land-line owners.\n",
      "* Can often be (partly) remedied by *randomness*\n",
      "  .\n",
      "* Cannot be remedied by taking a bigger poll: see [ 1936 election\n",
      "  ](http://en.wikipedia.org/wiki/United_States_presidential_election,_1936)."
     ]
    },
    {
     "cell_type": "heading",
     "level": 3,
     "metadata": {
      "slideshow": {
       "slide_type": "slide"
      }
     },
     "prompt_number": 1,
     "source": [
      "Opinion polls & percentages"
     ]
    },
    {
     "cell_type": "markdown",
     "metadata": {},
     "prompt_number": 1,
     "source": [
      "Model for percentages\n",
      "\n",
      "* An opinion poll to estimate a percentage is based on a sample of size $N$. We assume this is a *simple random sample*\n",
      "  : a sample of size $N$ without replacement.\n",
      "* The sample is from a box with one ball per population member, each having a 0-1 label.\n",
      "* The estimated percentage is $$ = $\\end{itemize}\n",
      "     \\end{block}\n",
      "     \\end{frame}\n",
      "  \n",
      "  \n",
      "     \\begin{frame}\n",
      "     \\frametitle{Box with {\\color{red} 4800}, {\\color{blue} 5200}}\n",
      "     \\begin{center}\n",
      "  \\begin{verbatim}\n",
      "  from matplotlib import rc\n",
      "  import pylab, numpy as np, sys\n",
      "  np.random.seed(0);import random; random.seed(0)\n",
      "  X = np.random.sample((10000,2))\n",
      "  pylab.scatter(X[:4800,0], X[:4800,1], s=5, color='red', alpha=.5)\n",
      "  pylab.scatter(X[4800:,0], X[4800:,1], s=5, color='blue', alpha=.5)\n",
      "  pylab.gca().set_xticks([]);    pylab.gca().set_xlim([-0.01,1.01])\n",
      "  pylab.gca().set_yticks([]);    pylab.gca().set_ylim([-0.01,1.01])\n",
      "  \n",
      "  \\end{verbatim}\n",
      "     \\end{center}\n",
      "  \n",
      "     \\end{frame}\n",
      "  \n",
      "  "
     ]
    },
    {
     "cell_type": "markdown",
     "metadata": {},
     "prompt_number": 1,
     "source": [
      "## 4800 Red, 5200 Blue"
     ]
    },
    {
     "cell_type": "code",
     "collapsed": false,
     "input": [
      "%pylab inline\n",
      "X = np.random.sample((10000,2))                                              \n",
      "plt.scatter(X[:4800,0], X[:4800,1], s=5, color='red', alpha=.2)            \n",
      "plt.scatter(X[4800:,0], X[4800:,1], s=5, color='blue', alpha=.2)           \n",
      "plt.gca().set_xticks([]);    pylab.gca().set_xlim([-0.01,1.01])            \n",
      "plt.gca().set_yticks([]);    pylab.gca().set_ylim([-0.01,1.01])            \n",
      "plt.scatter(X[:20,0], X[:20,1], s=60, color='red', alpha=.8)            \n",
      "plt.scatter(X[-20:,0], X[-20:,1], s=60, color='blue', alpha=.8)           \n"
     ],
     "language": "python",
     "metadata": {},
     "outputs": [],
     "prompt_number": 1
    },
    {
     "cell_type": "code",
     "collapsed": false,
     "input": [
      "X = np.random.sample((100000,2))                                              \n",
      "plt.scatter(X[:48000,0], X[:48000,1], s=5, color='red', alpha=.05)            \n",
      "plt.scatter(X[48000:,0], X[48000:,1], s=5, color='blue', alpha=.05)           \n",
      "plt.gca().set_xticks([]);    pylab.gca().set_xlim([-0.01,1.01])            \n",
      "plt.gca().set_yticks([]);    pylab.gca().set_ylim([-0.01,1.01])            \n",
      "plt.scatter(X[:20,0], X[:20,1], s=60, color='red', alpha=.8)            \n",
      "plt.scatter(X[-20:,0], X[-20:,1], s=60, color='blue', alpha=.8)           \n"
     ],
     "language": "python",
     "metadata": {},
     "outputs": [],
     "prompt_number": 2
    },
    {
     "cell_type": "markdown",
     "metadata": {},
     "prompt_number": 3,
     "source": [
      "  \n",
      "  \n",
      "  \n",
      "  \n",
      "     \\begin{frame}\n",
      "     \\frametitle{Sampling variability: (N=4800, Y=5200)}\n",
      "     \\begin{center}\n",
      "  \\begin{verbatim}\n",
      "  from matplotlib import rc\n",
      "  import pylab, numpy as np, sys\n",
      "  np.random.seed(0);import random; random.seed(0)\n",
      "  import random\n",
      "  n = 10000\n",
      "  s = 500\n",
      "  X = np.ones(n, np.float)\n",
      "  X[:int(.48*n)] = 0.\n",
      "  data = [100 * np.array(random.sample(X, s)).sum() / s for _ in range(2000)]\n",
      "  pylab.hist(data, color='orange')\n",
      "  pylab.gca().set_xlabel('Support (pylab.gca().set_ylabel('Count (out of 2000)')\n",
      "  pylab.title(\"average=\n",
      "  \\end{verbatim}\n",
      "     \\end{center}\n",
      "     Drawing 500 with 2000 repeats\n",
      "     \\end{frame}\n",
      "  \n",
      "  \n",
      "     \\begin{frame}\n",
      "     \\frametitle{Sampling variability: (N=48000, Y=52000)}\n",
      "     \\begin{center}\n",
      "  \\begin{verbatim}\n",
      "  from matplotlib import rc\n",
      "  import pylab, numpy as np, sys\n",
      "  np.random.seed(0);import random; random.seed(0)\n",
      "  import random\n",
      "  n = 100000\n",
      "  s = 500\n",
      "  X = np.ones(n, np.float)\n",
      "  X[:int(.48*n)] = 0.\n",
      "  data = [100 * np.array(random.sample(X, s)).sum() / s for _ in range(2000)]\n",
      "  pylab.hist(data, color='orange')\n",
      "  pylab.gca().set_xlabel('Support (pylab.gca().set_ylabel('Count (out of 2000)')\n",
      "  pylab.title(\"average=\n",
      "  \\end{verbatim}\n",
      "     \\end{center}\n",
      "     Drawing 500 with 2000 repeats\n",
      "     \\end{frame}\n",
      "  \n",
      "  \n",
      "     \\begin{frame}\n",
      "     \\frametitle{Sampling variability: (N=4800, Y=5200)}\n",
      "     \\begin{center}\n",
      "  \\begin{verbatim}\n",
      "  from matplotlib import rc\n",
      "  import pylab, numpy as np, sys\n",
      "  np.random.seed(0);import random; random.seed(0)\n",
      "  import random\n",
      "  n = 10000\n",
      "  s = 1000\n",
      "  X = np.ones(n, np.float)\n",
      "  X[:int(.48*n)] = 0.\n",
      "  data = [100 * np.array(random.sample(X, s)).sum() / s for _ in range(2000)]\n",
      "  pylab.hist(data, color='orange')\n",
      "  pylab.gca().set_xlabel('Support (pylab.gca().set_ylabel('Count (out of 2000)')\n",
      "  pylab.title(\"average=\n",
      "  \\end{verbatim}\n",
      "     \\end{center}\n",
      "     Drawing 1000 with 2000 repeats\n",
      "     \\end{frame}\n",
      "  \n",
      "  \n",
      "     \\begin{frame}\n",
      "     \\frametitle{Sampling variability: (N=48000, Y=52000)}\n",
      "     \\begin{center}\n",
      "  \\begin{verbatim}\n",
      "  from matplotlib import rc\n",
      "  import pylab, numpy as np, sys\n",
      "  np.random.seed(0);import random; random.seed(0)\n",
      "  import random\n",
      "  n = 100000\n",
      "  s = 1000\n",
      "  X = np.ones(n, np.float)\n",
      "  X[:int(.48*n)] = 0.\n",
      "  data = [100 * np.array(random.sample(X, s)).sum() / s for _ in range(2000)]\n",
      "  pylab.hist(data, color='orange')\n",
      "  pylab.gca().set_xlabel('Support (pylab.gca().set_ylabel('Count (out of 2000)')\n",
      "  pylab.title(\"average=\n",
      "  \\end{verbatim}\n",
      "     \\end{center}\n",
      "     Drawing 1000 with 2000 repeats\n",
      "     \\end{frame}\n",
      "  "
     ]
    },
    {
     "cell_type": "markdown",
     "metadata": {},
     "prompt_number": 3,
     "source": [
      "     \n",
      "     \\begin{frame} \\frametitle{Percentages}\n",
      "  \n",
      "     \\begin{block}\n",
      "     {Estimating a percentage}\n",
      "     \\begin{itemize}\n",
      "     \\item In our boxes, the proportion of blue to red is fixed: there\n",
      "     are 52\\% blue and 48 \\% red. Our goal is to estimate\n",
      "     the proportion of blue (this is a {\\em \\color{blue} parameter})\n",
      "     \\item When we sample, we don't recover exactly 52\\%. Our observed\n",
      "     proportion is a {\\em \\color{orange} statistic}.\n",
      "     \\item A model:$\n",
      "*  \n",
      "   &=  \n",
      "   +\n",
      "  &=  52%\n",
      "   +\n",
      "  \n",
      "* $\\item {\\bf Note:} If poll is biased$\n",
      "*  \n",
      "   &=  \n",
      "   +  \n",
      "   +\n",
      "  &=  52%\n",
      "   +  \n",
      "   +\n",
      "  \n",
      "* $\\end{itemize}\n",
      "     \\end{block}\n",
      "     \\end{frame}\n",
      "  \n",
      "     \n",
      "     \\begin{frame} \\frametitle{Percentages}\n",
      "  \n",
      "     \\begin{block}\n",
      "     {Accuracy of percentages}\n",
      "     \\begin{itemize}\n",
      "     \\item Since the observed proportion is random, it has its own SE.\n",
      "     \\item The rule for computing the SE of a percentage\n",
      "     for a simple random sample is related to SE of drawing\n",
      "     from a box of 0's and 1's.$\n",
      "* \n",
      "  &  \n",
      "  \n",
      "* $$\n",
      "* **Note:**\n",
      "   the SE does not depend on how many tickets are in the box.\n",
      "* **Note:**\n",
      "   the  $\\approxeq$\n",
      "   is there because we are sampling without replacement."
     ]
    },
    {
     "cell_type": "heading",
     "level": 3,
     "metadata": {
      "slideshow": {
       "slide_type": "slide"
      }
     },
     "prompt_number": 3,
     "source": [
      "Percentages"
     ]
    },
    {
     "cell_type": "markdown",
     "metadata": {},
     "prompt_number": 3,
     "source": [
      "\n",
      "Correction factor for SE\n",
      "\n",
      "* To get the actual SE, we should multiply by a correction factor.\n",
      "* If there are $N_{pop}$ people in the population and we sample $N_{sample}$ $\\text{{\\bf correction factor}} = \\sqrt{\\frac{N_{pop}-N_{sample}}{N_{pop}-1}}.$\n",
      "* For example, in our two boxes\n",
      "*     * $N_{pop}=10000, N_{sample}=500$, correction = 0.97\n",
      "      * $N_{pop}=100000, N_{sample}=500$, correction = 0.99"
     ]
    },
    {
     "cell_type": "heading",
     "level": 3,
     "metadata": {
      "slideshow": {
       "slide_type": "slide"
      }
     },
     "prompt_number": 3,
     "source": [
      "Percentages"
     ]
    },
    {
     "cell_type": "markdown",
     "metadata": {},
     "prompt_number": 3,
     "source": [
      "\n",
      "Example\n",
      "\n",
      "Q * Suppose Brown 52% of voting age Californians approve of Governorn Brown\u2019s job performance. If we sample 100 voting age Californians at random, we expect the percentage who approve of Brown\u2019s performance to be give or take ."
     ]
    },
    {
     "cell_type": "heading",
     "level": 3,
     "metadata": {
      "slideshow": {
       "slide_type": "slide"
      }
     },
     "prompt_number": 3,
     "source": [
      "Percentages"
     ]
    },
    {
     "cell_type": "markdown",
     "metadata": {},
     "prompt_number": 3,
     "source": [
      "\n",
      "Example\n",
      "\n",
      "A * The expected percentage or proportion is 52%. The SE is (ignoring the correction factor) $\\begin{aligned}\n",
      "     \\text{SE({\\bf percentage})} &= \\frac{1}{100} \\sqrt{100} \\times \\sqrt{0.52 \\times 0.48} \\\\\n",
      "     & \\approx 5\\%\n",
      "     \\end{aligned}$\n",
      "* We expect the percentage to be 52% give or take 5%."
     ]
    },
    {
     "cell_type": "heading",
     "level": 3,
     "metadata": {
      "slideshow": {
       "slide_type": "slide"
      }
     },
     "prompt_number": 3,
     "source": [
      "Percentages"
     ]
    },
    {
     "cell_type": "markdown",
     "metadata": {},
     "prompt_number": 3,
     "source": [
      "\n",
      "Example (continued)\n",
      "\n",
      "Q * What if we had sampled 1000 voting age Californians?\n",
      "A * The expected proportion is the same. The SE is now (ignoring the correction factor) $\\begin{aligned}\n",
      "     \\text{SE({\\bf percentage})}\n",
      "     & = \\frac{1}{1000} \\sqrt{1000} \\sqrt{0.52 \\times 0.48} \\\\\n",
      "     & \\approx 1.5\\%.\n",
      "     \\end{aligned}$"
     ]
    },
    {
     "cell_type": "heading",
     "level": 3,
     "metadata": {
      "slideshow": {
       "slide_type": "slide"
      }
     },
     "prompt_number": 3,
     "source": [
      "Percentages"
     ]
    },
    {
     "cell_type": "markdown",
     "metadata": {},
     "prompt_number": 3,
     "source": [
      "\n",
      "A more realistic picture\n",
      "\n",
      "* In practice, when a poll is carried out, we don\u2019t know how many  red\n",
      "   /  blue\n",
      "   there are.\n",
      "* Taking a sample of size 500, say, gives us information on 500 of this population.\n",
      "* Our goal, as statisticians, is to give the politicians some idea of the *true*\n",
      "   proportion of  red\n",
      "   /  blue\n",
      "   in the box \u2026\n",
      "* This is our first true *statistics*\n",
      "   problem \u2026"
     ]
    },
    {
     "cell_type": "heading",
     "level": 3,
     "metadata": {
      "slideshow": {
       "slide_type": "slide"
      }
     },
     "prompt_number": 3,
     "source": [
      "Box we will poll \u2026"
     ]
    },
    {
     "cell_type": "code",
     "collapsed": false,
     "input": [
      "datadir = '/Users/jonathantaylor/stats-lecture-notes/data/'\n",
      "X = np.load(\"%s/sample_10000.npy\" % datadir)\n",
      "pylab.scatter(X[:4800,0], X[:4800,1], s=5, color='gray', alpha=.5)\n",
      "pylab.scatter(X[4800:,0], X[4800:,1], s=5, color='gray', alpha=.5)\n",
      "pylab.gca().set_xticks([]);    pylab.gca().set_xlim([-0.01,1.01])\n",
      "pylab.gca().set_yticks([]);    pylab.gca().set_ylim([-0.01,1.01])"
     ],
     "language": "python",
     "metadata": {},
     "outputs": [],
     "prompt_number": 3
    },
    {
     "cell_type": "heading",
     "level": 3,
     "metadata": {
      "slideshow": {
       "slide_type": "slide"
      }
     },
     "prompt_number": 4,
     "source": [
      "Poll sample"
     ]
    },
    {
     "cell_type": "code",
     "collapsed": false,
     "input": [
      "X = np.load(\"%s/sample_10000.npy\" % datadir)\n",
      "c2 = ['red'] * 4800 + ['blue'] * 5200\n",
      "c = ['gray'] * 10000\n",
      "sizes = [5]*10000\n",
      "s = [ss for ss in np.load(\"%s/sampled.npy\" % datadir)]\n",
      "for ss in s:\n",
      "    c[ss] = c2[ss]; sizes[ss] = 100\n",
      "\n",
      "for col, marker in zip(['red', 'blue'], ['>', '<']):\n",
      "   subs = [i for i in xrange(10000) if c[i] == col]\n",
      "   pylab.scatter(X[subs,0], X[subs,1], s=[sizes[i] for i in subs], color=[c[i] for i in subs], alpha=.5, marker=marker)\n",
      "\n",
      "\n",
      "pylab.gca().set_xticks([]);    pylab.gca().set_xlim([-0.01,1.01])\n",
      "pylab.gca().set_yticks([]);    pylab.gca().set_ylim([-0.01,1.01])"
     ],
     "language": "python",
     "metadata": {},
     "outputs": [],
     "prompt_number": 4
    },
    {
     "cell_type": "markdown",
     "metadata": {},
     "prompt_number": 5,
     "source": [
      "\n",
      "Sample of 500 with replacement"
     ]
    },
    {
     "cell_type": "heading",
     "level": 3,
     "metadata": {
      "slideshow": {
       "slide_type": "slide"
      }
     },
     "prompt_number": 5,
     "source": [
      "What we know after polling \u2026"
     ]
    },
    {
     "cell_type": "code",
     "collapsed": false,
     "input": [
      "c2 = ['red'] * 4800 + ['blue'] * 5200\n",
      "c = ['gray'] * 10000\n",
      "sizes = [5]*10000\n",
      "s = [ss for ss in np.load(\"%s/sampled.npy\" % datadir)]\n",
      "for ss in s:\n",
      "    c[ss] = c2[ss]; sizes[ss] = 100\n",
      "\n",
      "for col, marker in zip(['gray', 'red', 'blue'], ['o', '>', '<']):\n",
      "   subs = [i for i in xrange(10000) if c[i] == col]\n",
      "   pylab.scatter(X[subs,0], X[subs,1], s=[sizes[i] for i in subs], color=[c[i] for i in subs], alpha=.5, marker=marker)\n",
      "\n",
      "\n",
      "pylab.gca().set_xticks([]);    pylab.gca().set_xlim([-0.01,1.01])\n",
      "pylab.gca().set_yticks([]);    pylab.gca().set_ylim([-0.01,1.01])"
     ],
     "language": "python",
     "metadata": {},
     "outputs": [],
     "prompt_number": 5
    },
    {
     "cell_type": "markdown",
     "metadata": {},
     "prompt_number": 6,
     "source": [
      "\n",
      "Sample of 500 with replacement"
     ]
    },
    {
     "cell_type": "heading",
     "level": 3,
     "metadata": {
      "slideshow": {
       "slide_type": "slide"
      }
     },
     "prompt_number": 6,
     "source": [
      "Estimating SE when proportions unknown"
     ]
    },
    {
     "cell_type": "markdown",
     "metadata": {},
     "prompt_number": 6,
     "source": [
      "\n",
      "A second statistic\n",
      "\n",
      "* Given a poll, we can work out the *observed*\n",
      "   proportion of 1\u2019s. Call this ${\\color{orange} \\widehat{p}} = \\text{\\bf observed proportion} = \\frac{\\text{\\# 1's in sample}}{\\text{\\# in sample}}$\n",
      "* We can estimate the SE of observed proportion of 1\u2019s $\\begin{aligned}\n",
      "     {\\color{blue} \\text{SE}(\\widehat{p})}& \\approx {\\color{purple} \\frac{1}{\\text{\\# in sample}}}  \\times  \\sqrt{\\text{\\# in sample}} \\times\n",
      "     {\\color{orange} \\sqrt{\\widehat{p} \\times (1 - \\widehat{p})}} \\\\\n",
      "     & = \\frac{1}{\\sqrt{\\text{\\# in sample}}} \\times\n",
      "     {\\color{orange} \\sqrt{\\widehat{p} \\times (1 - \\widehat{p})}} \\\\\n",
      "     \\end{aligned}$\n",
      "* We call the estimate ${\\color{orange} \\sqrt{\\widehat{p} \\times (1 - \\widehat{p})}}$ of the SD of the box a  *bootstrap*\n",
      "  \n",
      "   estimate (among other things)."
     ]
    },
    {
     "cell_type": "heading",
     "level": 3,
     "metadata": {
      "slideshow": {
       "slide_type": "slide"
      }
     },
     "prompt_number": 6,
     "source": [
      "Estimating percentages"
     ]
    },
    {
     "cell_type": "markdown",
     "metadata": {},
     "prompt_number": 6,
     "source": [
      "\n",
      "Example\n",
      "\n",
      "Q * A poll is undertaken to measure Governor Brown\u2019s job approval rating: 1000 Californians of voting age are polled, of whom 539 approve of his job performance. What is the estimated approval rating? Estimate its SE.\n",
      "A * The estimated approval rating is 53.9%. We can estimate its SE as $\\begin{aligned}\n",
      "     {\\color{blue} \\text{SE({\\bf approval rating})}} & \\approx \\frac{1}{\\sqrt{1000}} \\sqrt{0.539 \\times 0.461} \\\\\n",
      "     & \\approx 1.6 \\% = {\\color{orange} 1.6\\%}.\n",
      "     \\end{aligned}$"
     ]
    },
    {
     "cell_type": "heading",
     "level": 3,
     "metadata": {
      "slideshow": {
       "slide_type": "slide"
      }
     },
     "prompt_number": 6,
     "source": [
      "Estimating percentages"
     ]
    },
    {
     "cell_type": "markdown",
     "metadata": {},
     "prompt_number": 6,
     "source": [
      "\n",
      "Normal approximation\n",
      "\n",
      "* Conversion to percentage points just changes the units.\n",
      "* We can use normal approximation to approximate chances, as long as we standardize correctly.\n",
      "Example\n",
      "\n",
      "Q * What are the chances a poll of 1000 voting age Californians would show an estimated approval rating for Brown less than 50%? (Remember, his true approval is  52%\n",
      "  )"
     ]
    },
    {
     "cell_type": "heading",
     "level": 3,
     "metadata": {
      "slideshow": {
       "slide_type": "slide"
      }
     },
     "prompt_number": 6,
     "source": [
      "Estimating percentages"
     ]
    },
    {
     "cell_type": "markdown",
     "metadata": {},
     "prompt_number": 6,
     "source": [
      "\n",
      "Example (continued)\n",
      "\n",
      "A * In standardized units, 50% converts to $\\frac{50-52}{1.6} \\approx -1.3$ We need area under normal curve from $(-\\infty,-1.3]$ (continuity correction could be used on raw counts, but won\u2019t make much difference here)."
     ]
    },
    {
     "cell_type": "heading",
     "level": 3,
     "metadata": {
      "slideshow": {
       "slide_type": "slide"
      }
     },
     "prompt_number": 6,
     "source": [
      "Normal approximation"
     ]
    },
    {
     "cell_type": "code",
     "collapsed": false,
     "input": [
      "x = np.linspace(-4,4,101)\n",
      "y = np.exp(-x**2/2) / np.sqrt(2*np.pi)\n",
      "x2 = np.linspace(-4,-1.3,101)\n",
      "y2 = np.exp(-x2**2/2) / np.sqrt(2*np.pi)\n",
      "pylab.plot(x,y*100, linewidth=2)\n",
      "xf, yf = pylab.poly_between(x2, 0*x2, y2*100)\n",
      "pylab.fill(xf, yf, facecolor='red', hatch='\\\\', alpha=0.5)\n",
      "pylab.gca().set_xlabel('standardized units')\n",
      "pylab.gca().set_ylabel('% per standardized unit')\n",
      "#pylab.gca().set_xlim([-2,4])\n",
      "#pylab.gca().set_yticks([])"
     ],
     "language": "python",
     "metadata": {},
     "outputs": [],
     "prompt_number": 6
    },
    {
     "cell_type": "markdown",
     "metadata": {},
     "prompt_number": 7,
     "source": [
      "\n",
      "From A-104, chances are approximately 10%"
     ]
    },
    {
     "cell_type": "heading",
     "level": 3,
     "metadata": {
      "slideshow": {
       "slide_type": "slide"
      }
     },
     "prompt_number": 7,
     "source": [
      "Confidence intervals"
     ]
    },
    {
     "cell_type": "markdown",
     "metadata": {},
     "prompt_number": 7,
     "source": [
      "\n",
      "A new statistical concept\n",
      "\n",
      "* If we knew Governor Brown\u2019s true approval rating (52%), we know that when we poll 1000 voting age Californians, we expect a 52% approval rating give or take ${\\color{blue} \\sqrt{0.52 \\times 0.48} /  \\sqrt{1000} \\approx 1.6\\%}$.\n",
      "* Using the normal curve, there is 95% probability that a poll of 1000 voting age Californians will yield an estimated approval rating in the interval ${\\color{blue} [48.8,55.2]}$.\n",
      "* Now reverse this picture, given a poll of 1000 voting age Californians, what can we say about Governor Brown\u2019s true approval rating?"
     ]
    },
    {
     "cell_type": "heading",
     "level": 3,
     "metadata": {
      "slideshow": {
       "slide_type": "slide"
      }
     },
     "prompt_number": 7,
     "source": [
      "Confidence intervals"
     ]
    },
    {
     "cell_type": "markdown",
     "metadata": {},
     "prompt_number": 7,
     "source": [
      "\n",
      "Reversing the picture\n",
      "\n",
      "* Recall our model ${\\color{orange} \\text{observed proportion}} = {\\color{blue} \\text{true proportion}} + \\text{chance error}.$\n",
      "* Let\u2019s call ${\\color{blue} \\text{true proportion}=p}$, and recall ${\\color{orange} \\text{observed proportion}} = {\\color{orange} \\widehat{p}}$.\n",
      "* We know (if we have a simple random sample):\n",
      "*     * $\\text{E}({\\color{orange} \\text{observed proportion}}) = \\text{E}({\\widehat{p}}) = {\\color{blue} \\text{true proportion}}={ p}$\n",
      "      * $\\text{SE}({\\color{orange} \\text{observed proportion}}) = \\text{SE}({ \\widehat{p}}) =  \\frac{1}{\\sqrt{1000}} \\sqrt{{\\color{blue} \\text{true proportion}}(1-{\\color{blue} \\text{true proportion}})} = \\frac{1}{\\sqrt{1000}} \\sqrt{p(1-p)}$"
     ]
    },
    {
     "cell_type": "heading",
     "level": 3,
     "metadata": {
      "slideshow": {
       "slide_type": "slide"
      }
     },
     "prompt_number": 7,
     "source": [
      "Confidence intervals"
     ]
    },
    {
     "cell_type": "markdown",
     "metadata": {},
     "prompt_number": 7,
     "source": [
      "\n",
      "Reversing the picture\n",
      "\n",
      "* The normal approximation says: $$\n",
      "* () &2.5%\n",
      "   () &2.5%\n",
      "  \n",
      "* $\\item This is the same as saying$\n",
      "* () &2.5%\n",
      "   () &2.5%\n",
      "  \n",
      "* $\\end{itemize}\n",
      "     \\end{block}\n",
      "     \\end{frame}\n",
      "  \n",
      "     \n",
      "     \\begin{frame} \\frametitle{Confidence intervals}\n",
      "  \n",
      "     \\begin{block}\n",
      "     {Reversing the picture}\n",
      "     \\begin{itemize}\n",
      "     \\item In other words,$\n",
      "* () &95%\n",
      "  \n",
      "* $\\item Or, color-coded$\n",
      "* () &95%\n",
      "  \n",
      "* $$\n",
      "* If we knew ${\\color{blue} p}$ we would have an interval on the right based on the  observed proportion\n",
      "   that says something about  true proportion\n",
      "  . But we don\u2019t know ${\\color{blue} p}$ \u2026"
     ]
    },
    {
     "cell_type": "heading",
     "level": 3,
     "metadata": {
      "slideshow": {
       "slide_type": "slide"
      }
     },
     "prompt_number": 7,
     "source": [
      "Confidence intervals"
     ]
    },
    {
     "cell_type": "markdown",
     "metadata": {},
     "prompt_number": 7,
     "source": [
      "\n",
      "Using our bootstrap estimate of SE\n",
      "\n",
      "* Even though we don\u2019t know ${\\color{blue} p}$ we estimated $\\frac{\\sqrt{{\\color{blue} p} \\times (1-{\\color{blue} p})}}{\\sqrt{1000}}$ by the bootstrap estimate of SE $\\frac{\\sqrt{{\\color{orange} \\widehat{p}} \\times (1-{\\color{orange} \\widehat{p}})}}{\\sqrt{1000}}$\n",
      "* If we can plug this in (and we can), we see that $$\n",
      "* () &95%\n",
      "  \n",
      "* $\\end{itemize}\n",
      "     \\end{block}\n",
      "     \\end{frame}\n",
      "  \n",
      "     \n",
      "     \\begin{frame} \\frametitle{Confidence intervals}\n",
      "  \n",
      "     \\begin{block}\n",
      "     {Our first confidence interval}\n",
      "     \\begin{itemize}\n",
      "     \\item We call the interval$\n",
      "* \n",
      "  & =  \n",
      "  \n",
      "* $$ an (approximate) 95% confidence interval for the  true proportion, $p$\n",
      "  .\n",
      "* The chances that the true ${\\color{blue} p}$ is in this  random interval\n",
      "   are about 95%.\n",
      "* **Note:**\n",
      "   I will often drop the *approximate*\n",
      "   when we talk about confidence intervals."
     ]
    },
    {
     "cell_type": "heading",
     "level": 3,
     "metadata": {
      "slideshow": {
       "slide_type": "slide"
      }
     },
     "prompt_number": 7,
     "source": [
      "Confidence intervals"
     ]
    },
    {
     "cell_type": "markdown",
     "metadata": {},
     "prompt_number": 7,
     "source": [
      "\n",
      "Example\n",
      "\n",
      "Q * Find a 95% confidence interval for Governor Brown\u2019s approval rating given 539 out of 1000 voting age Californians polled approved of his job performance.\n",
      "A * We already saw the SE of the proportion was approximately 1.6%. A 95% confidence interval is therefore $[53.9-2 \\times 1.6, 53.9+2\\times 1.6] = [50.7,57.1]$"
     ]
    },
    {
     "cell_type": "heading",
     "level": 3,
     "metadata": {
      "slideshow": {
       "slide_type": "slide"
      }
     },
     "prompt_number": 7,
     "source": [
      "Confidence intervals"
     ]
    },
    {
     "cell_type": "markdown",
     "metadata": {},
     "prompt_number": 7,
     "source": [
      "\n",
      "Example\n",
      "\n",
      "Note * This interval does include the 52% (which is his  true approval\n",
      "  , this interval \"covers\" the true parameter. Not all 95% confidence intervals do: only about 95% of them do \u2026\n",
      "Note * Recall the other interval we computed $[48.8,55.2]$: this was an interval in which there is a 95% probability the  observed proportion\n",
      "   would be in if the  true proportion\n",
      "   was  52%\n",
      "  . These intervals are different: one is based on an  observed proportion\n",
      "  , the other is based on a box model with a  true proportion\n",
      "  ."
     ]
    },
    {
     "cell_type": "heading",
     "level": 3,
     "metadata": {
      "slideshow": {
       "slide_type": "slide"
      }
     },
     "prompt_number": 7,
     "source": [
      "An illustration of confidence intervals"
     ]
    },
    {
     "cell_type": "code",
     "collapsed": false,
     "input": [
      "approval = [0] * 48000 + [1] * 52000\n",
      "from random import sample as random_sample\n",
      "\n",
      "def interval(box=approval, nsample=1000):\n",
      "    prop = np.array(random_sample(approval, nsample)).mean()\n",
      "    SE = np.sqrt(prop * (1 - prop) / nsample)\n",
      "    return 100 * (prop-2*SE), 100 * (prop+2*SE)\n",
      "\n",
      "intervals = []\n",
      "missed = 0\n",
      "for i in range(200):\n",
      "    L, U = interval()\n",
      "    in_interval = (L <= 52) * (U >= 52)\n",
      "    if in_interval:\n",
      "        pylab.plot([L,U], [i,i], color='gray')\n",
      "    else:\n",
      "        missed += 1\n",
      "        pylab.plot([L,U], [i,i], color='red', linewidth=10)\n",
      "\n",
      "pylab.plot([52,52],[0,200], linestyle='--', linewidth=4, color='blue')\n",
      "pylab.gca().set_yticks([])\n",
      "pylab.title(\"# covering 52%%=%d, # not covering 52%%=%d\" % (200-missed, missed))"
     ],
     "language": "python",
     "metadata": {},
     "outputs": [],
     "prompt_number": 7
    },
    {
     "cell_type": "markdown",
     "metadata": {},
     "prompt_number": 8,
     "source": [
      "\n",
      "The  true proportion\n",
      " doesn\u2019t change."
     ]
    },
    {
     "cell_type": "heading",
     "level": 3,
     "metadata": {
      "slideshow": {
       "slide_type": "slide"
      }
     },
     "prompt_number": 8,
     "source": [
      "200 more"
     ]
    },
    {
     "cell_type": "code",
     "collapsed": false,
     "input": [
      "approval = [0] * 48000 + [1] * 52000\n",
      "\n",
      "def interval(box=approval, nsample=1000):\n",
      "    prop = np.array(random_sample(approval, nsample)).mean()\n",
      "    SE = np.sqrt(prop * (1 - prop) / nsample)\n",
      "    return 100 * (prop-2*SE), 100 * (prop+2*SE)\n",
      "\n",
      "intervals = []\n",
      "missed = 0\n",
      "for i in range(200):\n",
      "    L, U = interval()\n",
      "    in_interval = (L <= 52) * (U >= 52)\n",
      "    if in_interval:\n",
      "        pylab.plot([L,U], [i,i], color='gray')\n",
      "    else:\n",
      "        missed += 1\n",
      "        pylab.plot([L,U], [i,i], color='red', linewidth=10)\n",
      "\n",
      "pylab.plot([52,52],[0,200], linestyle='--', linewidth=4, color='blue')\n",
      "pylab.gca().set_yticks([])\n",
      "pylab.title(\"# covering 52%%=%d, # not covering 52%%=%d\" % (200-missed, missed))"
     ],
     "language": "python",
     "metadata": {},
     "outputs": [],
     "prompt_number": 8
    },
    {
     "cell_type": "markdown",
     "metadata": {},
     "prompt_number": 9,
     "source": [
      "\n",
      "Each  random interval\n",
      " either covers  true proportion\n",
      " or not."
     ]
    },
    {
     "cell_type": "code",
     "collapsed": false,
     "input": [],
     "language": "python",
     "metadata": {},
     "outputs": [],
     "prompt_number": 9
    },
    {
     "cell_type": "code",
     "collapsed": false,
     "input": [],
     "language": "python",
     "metadata": {},
     "outputs": [],
     "prompt_number": 10
    },
    {
     "cell_type": "code",
     "collapsed": false,
     "input": [],
     "language": "python",
     "metadata": {},
     "outputs": [],
     "prompt_number": 11
    }
   ],
   "metadata": {}
  }
 ]
}
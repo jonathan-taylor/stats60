{
 "metadata": {
  "name": "",
  "signature": "sha256:4aea8e2ffecafa0d07fdadb669e32a77d8b05f065e69708f9dc42833d426e006"
 },
 "nbformat": 3,
 "nbformat_minor": 0,
 "worksheets": [
  {
   "cells": [
    {
     "cell_type": "markdown",
     "metadata": {},
     "prompt_number": 1,
     "source": [
      "## 19.6.2\n",
      "\n",
      "Two surveys are conducted to measure the effect of an advertising campaign\n",
      "for a certain brand of detergent. In the first survey, interviewers ask housewives\n",
      "whether they use that brand of detergent. In the second, the interviewers ask\n",
      "to see what detergent is being used. Would you expect the two surveys to reach similar conclusions? Give your reasons.\n",
      "\n",
      "         The surveys may be different because respondents\n",
      "         may be more likely to say they use\n",
      "         the specific detergent in question just\n",
      "         to \"please\" the interviewer."
     ]
    },
    {
     "cell_type": "markdown",
     "metadata": {},
     "prompt_number": 1,
     "source": [
      "## 19.6.4 \n",
      "\n",
      "In one study, it was necessary to draw a representative sample of Japanese-Americans resident in San Francisco. The procedure was as follows.\n",
      "After consultation with representative figures in the Japanese community, the four most representative blocks in the Japanese area of the city were chosen. All persons resident in those four blocks were taken for the sample. However, a comparison with Census data shows that the sample did not include a high-enough proportion of Japanese with college degrees. How can this be explained?\n",
      "\n",
      "          The book ascribes this difference to better educated Japanese\n",
      "          moving to the suburbs of San Francisco (those these might not\n",
      "          be considered part of the city of San Francisco...).\n",
      "          \n",
      "          This is one possible reason of many. What we can conclude\n",
      "          is that the proportion of Japanese-Americans living in these\n",
      "          4 blocks with college degrees is different than the\n",
      "          reference (which presumably is all Americans but is not\n",
      "          described in the question)."
     ]
    },
    {
     "cell_type": "markdown",
     "metadata": {},
     "prompt_number": 1,
     "source": [
      "## 20.A.5\n",
      "\n",
      "The box below has an average of 0.6 and the SD is 0.8.\n"
     ]
    },
    {
     "cell_type": "code",
     "collapsed": false,
     "input": [
      "box1 = [0, 0, 0, 1, 2]\n",
      "mean(box1), std(box1)"
     ],
     "language": "python",
     "metadata": {},
     "outputs": [],
     "prompt_number": 1
    },
    {
     "cell_type": "markdown",
     "metadata": {},
     "prompt_number": 2,
     "source": [
      "True or false and explain.\n",
      "\n",
      "       The SE for the percentage of 1's in 400 draws\n",
      "       can be found as follows:\n",
      "       \n",
      "       SE(number of 1's) = sqrt(400) * 0.8 = 16\n",
      "       \n",
      "       SE(percentage of 1's) = 16 / 400 = 0.04 = 4%"
     ]
    },
    {
     "cell_type": "markdown",
     "metadata": {},
     "prompt_number": 2,
     "source": [
      "## 20.A.6\n",
      "\n",
      "Nine hundred draws are made at random with replacement from a box\n",
      "which has 1 red marble and 9 blue ones. The SE for the percentage of \n",
      "red marbles in the sample is  1%. A sample which is 1 SE above its expected value equal (choose one):\n",
      "\n",
      "1. 10% + 1%\n",
      "\n",
      "2. 1.01 * 10%"
     ]
    },
    {
     "cell_type": "markdown",
     "metadata": {},
     "prompt_number": 2,
     "source": [
      "## 20.B.2\n",
      "\n",
      "In a certain town, there are 30,000 registered voters, of whom 12,000\n",
      "are Democrats. A survey organization is about to take a simple\n",
      "random sample of 1,000 registered voters.\n",
      "\n",
      "1. The expected value for the percentage of Democrats in the sample\n",
      "is $\\bbox[3px,border:2px solid blue]{\\hspace{0.7in}}$.\n",
      "\n",
      "2. The percentage of Democrats in the sample is likely to be around $\\bbox[3px,border:2px solid blue]{\\hspace{0.7in}}$ give or take $\\bbox[3px,border:2px solid blue]{\\hspace{0.7in}}$ or so.\n",
      "\n",
      "3. Find the chance that between 39% and 41% of the registered voters in the sample are Democrats."
     ]
    },
    {
     "cell_type": "markdown",
     "metadata": {},
     "prompt_number": 2,
     "source": [
      "## Like 20.6.2\n",
      "\n",
      "A pair of dice is rolled one thousand times. The percentage of pairs should be around $\\bbox[3px,border:2px solid blue]{\\hspace{0.7in}}$ give or take\n",
      "$\\bbox[3px,border:2px solid blue]{\\hspace{0.7in}}$  or so.\n",
      "\n",
      "1. The first step in solving this problem is: i) computing the SD of the box;\n",
      "ii) computing the average of the box; iii) setting up the box model. Choose one and explain.\n",
      "\n",
      "2. Now solve the problem."
     ]
    },
    {
     "cell_type": "code",
     "collapsed": false,
     "input": [],
     "language": "python",
     "metadata": {},
     "outputs": [],
     "prompt_number": 2
    }
   ],
   "metadata": {}
  }
 ]
}
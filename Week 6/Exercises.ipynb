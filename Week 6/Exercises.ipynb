{
 "metadata": {
  "name": "",
  "signature": "sha256:b0da72297f6d1a02a7a6d26b834150a307f374e4c6483d700e6f2a60c340cb05"
 },
 "nbformat": 3,
 "nbformat_minor": 0,
 "worksheets": [
  {
   "cells": [
    {
     "cell_type": "markdown",
     "metadata": {},
     "source": [
      "## 20.A.5\n",
      "\n",
      "The box below has an average of 0.6 and the SD is 0.8.\n"
     ]
    },
    {
     "cell_type": "code",
     "collapsed": false,
     "input": [
      "box1 = [0, 0, 0, 1, 2]\n",
      "mean(box1), std(box1)"
     ],
     "language": "python",
     "metadata": {},
     "outputs": [
      {
       "metadata": {},
       "output_type": "pyout",
       "prompt_number": 1,
       "text": [
        "(0.59999999999999998, 0.80000000000000004)"
       ]
      }
     ],
     "prompt_number": 1
    },
    {
     "cell_type": "markdown",
     "metadata": {},
     "source": [
      "True or false and explain.\n",
      "\n",
      "       The SE for the percentage of 1's in 400 draws\n",
      "       can be found as follows:\n",
      "       \n",
      "       SE(number of 1's) = sqrt(400) * 0.8 = 16\n",
      "       \n",
      "       SE(percentage of 1's) = 16 / 400 = 0.04 = 4%"
     ]
    },
    {
     "cell_type": "markdown",
     "metadata": {},
     "source": [
      "## 20.A.6\n",
      "\n",
      "Nine hundred draws are made at random with replacement from a box\n",
      "which has 1 red marble and 9 blue ones. The SE for the percentage of \n",
      "red marbles in the sample is  1%. A sample which is 1 SE above its expected value equal (choose one):\n",
      "\n",
      "1. 10% + 1%\n",
      "\n",
      "2. 1.01 * 10%"
     ]
    },
    {
     "cell_type": "markdown",
     "metadata": {},
     "source": [
      "## 20.B.2\n",
      "\n",
      "In a certain town, there are 30,000 registered votres, of whom 12,000\n",
      "are Democrats. A survey organization is about to take a simple\n",
      "random sample of 1,000 registered voters.\n",
      "\n",
      "1. The expected value for the percentage of Democrats in the sample\n",
      "is $\\bbox[3px,border:2px solid blue]{\\hspace{0.7in}}$.\n",
      "\n",
      "2. The percentage of Democrats in the sample is likely to be around $\\bbox[3px,border:2px solid blue]{\\hspace{0.7in}}$ give or take $\\bbox[3px,border:2px solid blue]{\\hspace{0.7in}}$ or so.\n",
      "\n",
      "3. Find the chance that between 39% and 41% of the registered voters in the sample are Democrats."
     ]
    },
    {
     "cell_type": "markdown",
     "metadata": {},
     "source": [
      "## Like 20.6.2\n",
      "\n",
      "A pair of dice is rolled one thousand times. The percentage of pairs should be around $\\bbox[3px,border:2px solid blue]{\\hspace{0.7in}}$ give or take\n",
      "$\\bbox[3px,border:2px solid blue]{\\hspace{0.7in}}$  or so.\n",
      "\n",
      "1. The first step in solving this problem is: i) computing the SD of the box;\n",
      "ii) computing the average of the box; iii) setting up the box model. Choose one and explain.\n",
      "\n",
      "2. Now solve the problem."
     ]
    },
    {
     "cell_type": "code",
     "collapsed": false,
     "input": [],
     "language": "python",
     "metadata": {},
     "outputs": []
    }
   ],
   "metadata": {}
  }
 ]
}
{
 "metadata": {
  "celltoolbar": "Slideshow",
  "name": "",
  "signature": "sha256:c76f5e6ba0aaf5009d848192f2b6646870892295f5979d1975b39902faaa6aef"
 },
 "nbformat": 3,
 "nbformat_minor": 0,
 "worksheets": [
  {
   "cells": [
    {
     "cell_type": "markdown",
     "metadata": {
      "slideshow": {
       "slide_type": "slide"
      }
     },
     "prompt_number": 1,
     "source": [
      "## A more realistic picture\n",
      "\n",
      "* In practice, when a poll is carried out, we don\u2019t know how many `B` or `R`\n",
      "there are in the population.\n",
      "\n",
      "* Taking a sample of size 500, say, gives us information on 500 of this population.\n",
      "* Our goal, as statisticians, is to give the politicians some idea of the *true*\n",
      "   proportion of `B` vs. `R` \n",
      "   in the box\n",
      "\n",
      "* This is our first true *statistics*\n",
      "   problem...\n",
      "   \n"
     ]
    },
    {
     "cell_type": "markdown",
     "metadata": {
      "slideshow": {
       "slide_type": "slide"
      }
     },
     "prompt_number": 1,
     "source": [
      "## Box we will poll: 53% support Gov. Brown\n",
      "\n",
      "- But we don't know which are his supporters.\n",
      "\n",
      "- A sample of 1000 should estimate the percentage with an SE of\n",
      "$$\n",
      "\\sqrt{.53 * .47 / 1000.} \\approx 1.6\\%.\n",
      "$$"
     ]
    },
    {
     "cell_type": "code",
     "collapsed": false,
     "input": [
      "%%capture\n",
      "brown_approval = Sample(5300, 4700, 500)\n",
      "brown_approval.alpha = 0.1\n",
      "brown_approval.ptsize = 10\n",
      "brown_approval.draw(color={'R':'gray','B':'gray'})\n"
     ],
     "language": "python",
     "metadata": {
      "slideshow": {
       "slide_type": "skip"
      }
     },
     "outputs": [],
     "prompt_number": 1
    },
    {
     "cell_type": "code",
     "collapsed": false,
     "input": [
      "brown_approval.figure"
     ],
     "language": "python",
     "metadata": {
      "slideshow": {
       "slide_type": "fragment"
      }
     },
     "outputs": [],
     "prompt_number": 2
    },
    {
     "cell_type": "heading",
     "level": 3,
     "metadata": {
      "slideshow": {
       "slide_type": "slide"
      }
     },
     "prompt_number": 3,
     "source": [
      "Poll sample"
     ]
    },
    {
     "cell_type": "code",
     "collapsed": false,
     "input": [
      "prop = brown_approval.trial(bgcolor={'R':'gray','B':'gray'},\n",
      "                            color={'R':'red','B':'blue'})\n",
      "brown_approval.figure\n"
     ],
     "language": "python",
     "metadata": {
      "slideshow": {
       "slide_type": "fragment"
      }
     },
     "outputs": [],
     "prompt_number": 3
    },
    {
     "cell_type": "markdown",
     "metadata": {
      "slideshow": {
       "slide_type": "slide"
      }
     },
     "prompt_number": 4,
     "source": [
      "## Normal approximation for estimated percentages\n",
      "\n",
      "- Estimated percentages are just averaes.\n",
      "\n",
      "- We can use the normal approximation on them: we need to know the\n",
      "**expected(estimated percentage)** and **SE(estimated percentage)**.\n",
      "\n",
      "\n",
      "- What are the chances a poll of 1000 voting age Californians would show an estimated approval rating for Brown less than 50%? (Remember, his true approval is  53% for the purposes of these notes.)"
     ]
    },
    {
     "cell_type": "code",
     "collapsed": false,
     "input": [
      "%%capture\n",
      "with plt.xkcd():\n",
      "    fig = plt.figure(figsize=(10,3))\n",
      "    ax = fig.gca() \n",
      "    standardize_left(50, 53, sqrt(53*47./1000), data=False, standardized=True)"
     ],
     "language": "python",
     "metadata": {
      "slideshow": {
       "slide_type": "skip"
      }
     },
     "outputs": [],
     "prompt_number": 4
    },
    {
     "cell_type": "code",
     "collapsed": false,
     "input": [
      "fig"
     ],
     "language": "python",
     "metadata": {
      "slideshow": {
       "slide_type": "fragment"
      }
     },
     "outputs": [],
     "prompt_number": 5
    },
    {
     "cell_type": "code",
     "collapsed": false,
     "input": [
      "%%capture\n",
      "normal_fig = plt.figure(figsize=(10,10))\n",
      "ax = normal_curve()\n",
      "interval = np.linspace(-4,-1.9,101)\n",
      "ax.fill_between(interval, 0*interval, ndist.pdf(interval), \n",
      "                hatch='+', facecolor='red')\n",
      "ax.set_title('Area is about 2.9%', fontsize=15)\n"
     ],
     "language": "python",
     "metadata": {
      "slideshow": {
       "slide_type": "skip"
      }
     },
     "outputs": [],
     "prompt_number": 6
    },
    {
     "cell_type": "code",
     "collapsed": false,
     "input": [
      "normal_fig"
     ],
     "language": "python",
     "metadata": {
      "slideshow": {
       "slide_type": "slide"
      }
     },
     "outputs": [],
     "prompt_number": 7
    },
    {
     "cell_type": "markdown",
     "metadata": {
      "slideshow": {
       "slide_type": "slide"
      }
     },
     "prompt_number": 8,
     "source": [
      "## Estimating SE when proportions unknown\n",
      "\n",
      "\n",
      "- Given a poll, we can work out the *observed*\n",
      "   proportion of 1\u2019s. Call this \n",
      "   $$\\bbox[5px,border:2px solid orange]{\\widehat{p}} = \\text{observed proportion} = \\frac{\\text{$\\#$ B's in sample}}{\\text{$\\#$ in sample}}$$\n",
      "\n",
      "- If we knew the true proportion of Brown's supportors, say, $p$ we would use\n",
      "$$\n",
      " \\text{SE}(\\bbox[5px,border:2px solid orange]{\\widehat{p}}) \\approx  \\sqrt{\\bbox[5px,border:2px solid blue]{p} \\times (1 - \\bbox[5px,border:2px solid blue]{p})} / \\sqrt{\\text{$\\#$ in sample}}.\n",
      "$$\n",
      "\n",
      "- We do not know $p$. BUT we can **estimate** the SE of observed proportion of B\u2019s \n",
      "$$\\begin{aligned}\n",
      "     \\text{SE}(\\bbox[5px,border:2px solid orange]{\\widehat{p}})& \\approx  \\sqrt{\\bbox[5px,border:2px solid orange]{\\widehat{p}} \\times (1 - \\bbox[5px,border:2px solid orange]{ \\widehat{p}})} / \\sqrt{\\text{$\\#$ in sample}} \\\\\n",
      "         \\end{aligned}$$\n",
      "\n",
      "- The quantity $\\sqrt{\\widehat{p} \\times (1 - \\widehat{p})}$ is an estimate of the SD of the box. \n",
      "\n",
      "     - It depends on the poll we used to estimate $\\bbox[5px,border:2px solid blue]{p}$. \n",
      "     - It is not a number because it changes with the poll.\n",
      "\n",
      "\n",
      "- We call this the **bootstrap** estimate of the SD of the box.\n",
      "\n"
     ]
    },
    {
     "cell_type": "markdown",
     "metadata": {
      "slideshow": {
       "slide_type": "slide"
      }
     },
     "prompt_number": 8,
     "source": [
      "\n",
      "## Example\n",
      "\n",
      "-  A poll is undertaken to measure Governor Brown\u2019s job approval rating: 1000 Californians of voting age are polled, of whom 539 approve of his job performance. What is the estimated approval rating? Estimate its SE.\n",
      "\n",
      "- The estimated approval rating is 53.9%. We can estimate its SE as $$\\bbox[5px,border:2px solid red]{\\begin{aligned}\n",
      "      \\text{SE( approval rating)} & \\approx \\frac{\\sqrt{0.539 \\times 0.461} }{\\sqrt{1000}} \n",
      "     & \\approx 1.6 \\%.\n",
      "     \\end{aligned}}$$\n",
      "     \n",
      "- Note that this is *very close* to the actual SE which is $\\sqrt{.53 * .47 / 1000}$.\n",
      "\n",
      "- If we were to compute the area under the normal curve above using the *estimated SE* our answer would be almost the same!"
     ]
    },
    {
     "cell_type": "markdown",
     "metadata": {
      "slideshow": {
       "slide_type": "slide"
      }
     },
     "prompt_number": 8,
     "source": [
      "## A new statistical concept: confidence intervals\n",
      "\n",
      "- If we knew Governor Brown\u2019s true approval rating (53%), we know that when we poll 1000 voting age Californians, we expect a 53% approval rating give or take 1.6%.\n",
      "\n",
      "- Using the normal curve, there is 95% probability that a poll of 1000 voting age Californians will yield an estimated approval rating in the interval $\\bbox[2px,border:2px solid red]{[49.8,56.2]}$.\n",
      "\n",
      "- A confidence interval reverses this process: **given a poll of 1000 voting age Californians, what can we say about Governor Brown\u2019s true approval rating?**"
     ]
    },
    {
     "cell_type": "markdown",
     "metadata": {},
     "prompt_number": 8,
     "source": [
      "## Reversing the picture\n",
      "\n",
      "- Recall our model \n",
      "\n",
      "$$\\text{observed proportion} =  \\text{true proportion} + \\text{chance error}.$$\n",
      "      \n",
      "- Or, \n",
      "\n",
      "$$ \\bbox[5px,border:2px solid orange]{\\widehat{p}} = \\bbox[5px,border:2px solid blue]{p} + \\text{chance error}.\n",
      "$$\n",
      "\n",
      "- We know (if we have a simple random sample):\n",
      "     - $\\text{expected}(\\bbox[5px,border:2px solid orange]{\\widehat{p}}) = E(\\bbox[5px,border:2px solid orange]{\\widehat{p}}) = \\bbox[5px,border:2px solid blue]{p}.$\n",
      "     - $\\text{SE}(\\bbox[5px,border:2px solid orange]{\\widehat{p}}) = \\sqrt{\\bbox[5px,border:2px solid blue]{p} * (1-\\bbox[5px,border:2px solid blue]{p}) / 1000}.$"
     ]
    },
    {
     "cell_type": "markdown",
     "metadata": {
      "slideshow": {
       "slide_type": "slide"
      }
     },
     "prompt_number": 8,
     "source": [
      "## Reversing the picture\n",
      "\n",
      "- The normal approximation says:\n",
      "\n",
      "$$\n",
      "   \\begin{aligned}\n",
      "   \\text{P} \\left(\\text{$\\widehat{p}$ greater than $p + \\frac{2\\sqrt{p \\times (1-p)}}{\\sqrt{1000}}$}\\right) &\\approx 2.5\\% \\\\\n",
      "   \\text{P} \\left(\\text{$\\widehat{p}$ less than $p - \\frac{2\\sqrt{p \\times (1-p)}}{\\sqrt{1000}}$}\\right) &\\approx 2.5\\% \\\\\n",
      "   \\end{aligned}\n",
      "   $$\n",
      "   \n",
      "- This is the same as saying                                                                                                                                                \n",
      "   $$\n",
      "   \\begin{aligned}\n",
      "   \\text{P} \\left(\\text{$p$ less than $\\widehat{p} - \\frac{2\\sqrt{p \\times (1-p)}}{\\sqrt{1000}}$}\\right) &\\approx 2.5\\% \\\\\n",
      "   \\text{P} \\left(\\text{$p$ greater than $\\widehat{p} - \\frac{2\\sqrt{p \\times (1-p)}}{\\sqrt{1000}}$}\\right) &\\approx 2.5\\% \\\\\n",
      "   \\end{aligned}\n",
      "   $$\n",
      "   \n",
      "- Or,\n",
      "in other words,\n",
      "   $$\n",
      "   \\begin{aligned}\n",
      "   \\text{P} \\left(\\text{$p$ between $\\widehat{p} \\pm \\frac{2\\sqrt{p \\times (1-p)}}{\\sqrt{1000}}$}\\right) &\\approx 95\\% \\\\\n",
      "   \\end{aligned}\n",
      "   $$   \n",
      "   \n",
      "- If we knew $\\bbox[2px,border:2px solid blue]{p}$ we would have an interval on the right based on the  observed proportion\n",
      "   that says something about  true proportion.\n",
      "\n",
      "- But we don't know $\\bbox[2px,border:2px solid blue]{p}$."
     ]
    },
    {
     "cell_type": "markdown",
     "metadata": {
      "slideshow": {
       "slide_type": "slide"
      }
     },
     "prompt_number": 8,
     "source": [
      "## Our first confidence interval\n",
      "\n",
      "- Since we don't know $\\bbox[2px,border:2px solid blue]{p}$, we can't compute \n",
      "$SE(\\widehat{p})$.\n",
      "\n",
      "- We use the **boostrap estimate** instead.\n",
      "\n",
      "- We call the interval:\n",
      "$$\n",
      "\\bbox[2px,border:2px solid red]{\n",
      "\\left[\\widehat{p} - \\frac{2\\sqrt{\\widehat{p}(1-\\widehat{p})}}{\\sqrt{1000}},                                                                                            \n",
      "    \\widehat{p} + \\frac{2\\sqrt{\\widehat{p}(1-\\widehat{p})}}{\\sqrt{1000}}\\right] }\n",
      "$$\n",
      "an (approximate) 95% confidence interval for the true proportion  $\\bbox[2px,border:2px solid blue]{p}$.\n",
      " \n",
      "- We emphasize that this depends only on the estimated proportion and not the true proportion:\n",
      "$$\n",
      "\\bbox[2px,border:2px solid red]{\n",
      "\\left[\\bbox[2px,border:2px solid orange]{\\widehat{p}} - \\frac{2\\sqrt{\\bbox[2px,border:2px solid orange]{\\widehat{p}}(1-\\bbox[2px,border:2px solid orange]{\\widehat{p}})}}{\\sqrt{1000}},   \n",
      "\\bbox[2px,border:2px solid orange]{\\widehat{p}} + \\frac{2\\sqrt{\\bbox[2px,border:2px solid orange]{\\widehat{p}}(1-\\bbox[2px,border:2px solid orange]{\\widehat{p}})}}{\\sqrt{1000}} \\right] }\n",
      "$$\n",
      "\n",
      "- The chances that the true $\\bbox[2px,border:2px solid blue]{p}$ is in this  random interval\n",
      "   are about 95%.\n",
      "   \n",
      "- **Note:**\n",
      "   I will often drop the *approximate*\n",
      "   when we talk about confidence intervals."
     ]
    },
    {
     "cell_type": "markdown",
     "metadata": {
      "slideshow": {
       "slide_type": "slide"
      }
     },
     "prompt_number": 8,
     "source": [
      "## Example\n",
      "\n",
      "- Find a 95% confidence interval for Governor Brown\u2019s approval rating given 539 out of 1000 voting age Californians polled approved of his job performance.\n",
      "\n",
      "\n",
      "         We already saw the SE of the proportion \n",
      "         was approximately 1.6%.\n",
      "         \n",
      "         A 95% confidence interval is therefore: \n",
      "         \n",
      " $$\\bbox[5px,border:2px solid red]{[53.9-2 \\times 1.6, 53.9+2\\times 1.6] = [50.7,57.1]}$$\n",
      " \n",
      "- This interval does include the 53% (which is his  true approval).\n",
      "We say this interval \"covers\" the true proportion. \n",
      "\n",
      "- Not all 95% confidence intervals do: only about 95% of them do.\n",
      "\n",
      "- Recall the other interval we computed $[49.8,56.2]$: this was an interval in which there is a 95% probability the  observed proportion\n",
      "   would be in if the  true proportion\n",
      "   was  53%.\n",
      "- These intervals are different: one is based on an  observed proportion, the other is based on a box model with the true proportion known to be 53%."
     ]
    },
    {
     "cell_type": "heading",
     "level": 3,
     "metadata": {
      "slideshow": {
       "slide_type": "slide"
      }
     },
     "prompt_number": 8,
     "source": [
      "An illustration of confidence intervals"
     ]
    },
    {
     "cell_type": "code",
     "collapsed": false,
     "input": [
      "%%capture\n",
      "from random import sample as random_sample\n",
      "\n",
      "def interval(approval, nsample=1000):\n",
      "    prop = np.array(random_sample(approval, nsample)).mean()\n",
      "    SE = np.sqrt(prop * (1 - prop) / nsample)\n",
      "    return 100 * (prop-2*SE), 100 * (prop+2*SE)\n",
      "\n",
      "def confidence_intervals(num_intervals=100, true_proportion=.53,\n",
      "                         npop=100000,\n",
      "                         nsample=1000):\n",
      "    blue = int(npop*true_proportion)\n",
      "    approval = [0] * (npop-blue) + [1] * blue\n",
      "\n",
      "    confidence_intervals = plt.figure(figsize=stats60_figsize)\n",
      "    ax = confidence_intervals.gca()\n",
      "    intervals = []\n",
      "    missed = 0\n",
      "    for i in range(num_intervals):\n",
      "        L, U = interval(approval, nsample=nsample)\n",
      "        in_interval = (L <= 100*true_proportion) * (U >= 100*true_proportion)\n",
      "        if in_interval:\n",
      "            pylab.plot([L,U], [i,i], color='gray', linewidth=2)\n",
      "        else:\n",
      "            missed += 1\n",
      "            ax.plot([L,U], [i,i], color='red', linewidth=5)\n",
      "        \n",
      "\n",
      "    ax.plot([100*true_proportion]*2,[0,num_intervals], 'k--', linewidth=4)\n",
      "    ax.set_yticks([])\n",
      "    ax.set_ylabel('Different polls of size 1000', rotation='vertical', fontsize=15)\n",
      "    ax.set_xlabel('Percent who support Governorn Brown', fontsize=15)\n",
      "    ax.set_title(\"# covering 53%%=%d, # not covering 53%%=%d\" % (num_intervals-missed, missed))"
     ],
     "language": "python",
     "metadata": {
      "slideshow": {
       "slide_type": "skip"
      }
     },
     "outputs": [],
     "prompt_number": 8
    },
    {
     "cell_type": "code",
     "collapsed": false,
     "input": [
      "confidence_intervals()"
     ],
     "language": "python",
     "metadata": {
      "slideshow": {
       "slide_type": "fragment"
      }
     },
     "outputs": [],
     "prompt_number": 9
    },
    {
     "cell_type": "markdown",
     "metadata": {
      "slideshow": {
       "slide_type": "fragment"
      }
     },
     "prompt_number": 10,
     "source": [
      "- The  true proportion\n",
      " doesn\u2019t change for each poll.\n",
      " \n",
      "- The interval changes with each poll. **The confidence intervals are random.**\n",
      "\n",
      "\n",
      "- Each  random interval\n",
      " either covers  true proportion\n",
      " or not."
     ]
    }
   ],
   "metadata": {}
  }
 ]
}
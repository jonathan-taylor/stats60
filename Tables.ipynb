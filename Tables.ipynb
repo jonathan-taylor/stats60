{
 "metadata": {
  "name": ""
 },
 "nbformat": 3,
 "nbformat_minor": 0,
 "worksheets": [
  {
   "cells": [
    {
     "cell_type": "heading",
     "level": 3,
     "metadata": {
      "slideshow": {
       "slide_type": "slide"
      }
     },
     "prompt_number": 1,
     "source": [
      "Student\u2019s $T$"
     ]
    },
    {
     "cell_type": "code",
     "collapsed": false,
     "input": [
      "import scipy.stats\n",
      "\n",
      "df = 6\n",
      "\n",
      "# The t region\n",
      "\n",
      "x = np.linspace(-4,4,101)\n",
      "pylab.plot(x,scipy.stats.t.pdf(x, df)*100, linewidth=2, label=r'$T$, df=%d, 10%%' % df, color='black')\n",
      "x2 = np.linspace(scipy.stats.t.isf(0.10,df),4, 101)\n",
      "y2 = scipy.stats.t.pdf(x2, df)\n",
      "xf, yf = pylab.poly_between(x2, 0*x2, y2*100)\n",
      "pylab.fill(xf, yf, facecolor='gray', hatch='\\\\', alpha=0.5)\n",
      "pylab.text(scipy.stats.t.isf(0.10,df), -3, r'$t$', size=20)\n",
      "# pylab.gca().set_xlabel('standardized units')\n",
      "# pylab.gca().set_ylabel('% per standardized unit')\n",
      "# pylab.legend()\n",
      "pylab.gca().set_yticks([])\n",
      "pylab.gca().set_xticks([])\n",
      "pylab.gca().set_xlim([-3,3])"
     ],
     "language": "python",
     "metadata": {},
     "outputs": [],
     "prompt_number": 1
    },
    {
     "cell_type": "markdown",
     "metadata": {},
     "prompt_number": 2,
     "source": [
      "\n",
      "Comparison of two-sided  5% rejection rule\n",
      ", df=4"
     ]
    },
    {
     "cell_type": "heading",
     "level": 3,
     "metadata": {
      "slideshow": {
       "slide_type": "slide"
      }
     },
     "prompt_number": 2,
     "source": [
      "Student\u2019s $T$"
     ]
    },
    {
     "cell_type": "code",
     "collapsed": false,
     "input": [
      "\n",
      "# The z region\n",
      "\n",
      "x = np.linspace(-4,4,101)\n",
      "pylab.plot(x,scipy.stats.norm.pdf(x)*100, linewidth=2, label=r'$Z$', color='black')\n",
      "q = scipy.stats.norm.isf(0.1)\n",
      "x2 = np.linspace(-q, q, 201)\n",
      "y2 = scipy.stats.norm.pdf(x2)\n",
      "xf, yf = pylab.poly_between(x2, 0*x2, y2*100)\n",
      "pylab.fill(xf, yf, facecolor='gray', hatch='\\\\', alpha=0.5)\n",
      "pylab.text(-q, -3, r'$-z$', size=20)\n",
      "pylab.text(q, -3, r'$z$', size=20)\n",
      "# pylab.gca().set_xlabel('standardized units')\n",
      "# pylab.gca().set_ylabel('% per standardized unit')\n",
      "# pylab.legend()\n",
      "pylab.gca().set_xlim([-3,3])\n",
      "pylab.gca().set_yticks([])\n",
      "pylab.gca().set_xticks([])\n",
      "\n",
      "import pylab, numpy as np\n",
      "import scipy.stats\n",
      "\n",
      "# The X2 region\n",
      "\n",
      "x = np.linspace(0,10,101)\n",
      "pylab.plot(x,scipy.stats.norm.pdf(x)*100, linewidth=2, label=r'$Z$', color='black')\n",
      "q = scipy.stats.norm.isf(0.1)\n",
      "x2 = np.linspace(-q, q, 201)\n",
      "y2 = scipy.stats.norm.pdf(x2)\n",
      "xf, yf = pylab.poly_between(x2, 0*x2, y2*100)\n",
      "pylab.fill(xf, yf, facecolor='gray', hatch='\\\\', alpha=0.5)\n",
      "pylab.text(-q, -3, r'$-z$', size=20)\n",
      "pylab.text(q, -3, r'$z$', size=20)\n",
      "# pylab.gca().set_xlabel('standardized units')\n",
      "# pylab.gca().set_ylabel('% per standardized unit')\n",
      "# pylab.legend()\n",
      "pylab.gca().set_xlim([-3,3])\n",
      "pylab.gca().set_yticks([])\n",
      "pylab.gca().set_xticks([])"
     ],
     "language": "python",
     "metadata": {},
     "outputs": [],
     "prompt_number": 2
    },
    {
     "cell_type": "markdown",
     "metadata": {},
     "prompt_number": 3,
     "source": [
      "\n",
      "Comparison of two-sided  5% rejection rule\n",
      ", df=4"
     ]
    },
    {
     "cell_type": "heading",
     "level": 3,
     "metadata": {
      "slideshow": {
       "slide_type": "slide"
      }
     },
     "prompt_number": 3,
     "source": [
      "$\\chi^2$ curves"
     ]
    },
    {
     "cell_type": "code",
     "collapsed": false,
     "input": [
      "df = 5\n",
      "x = np.linspace(0,20,501)\n",
      "y = scipy.stats.chi2.pdf(x, df)\n",
      "q = scipy.stats.chi2.isf(0.25, df)\n",
      "x2 = np.linspace(q,20,501)\n",
      "y2 = scipy.stats.chi2.pdf(x2, df)\n",
      "pylab.plot(x,y*100, linewidth=2, color='black')\n",
      "xf, yf = pylab.poly_between(x2, 0*x2, y2*100)\n",
      "pylab.fill(xf, yf, facecolor='gray', hatch='\\\\', alpha=0.5)\n",
      "#pylab.gca().set_xlabel('standardized units')\n",
      "#pylab.gca().set_ylabel('% per standardized unit')\n",
      "pylab.gca().set_xticks([])\n",
      "pylab.gca().set_yticks([])\n",
      "pylab.gca().set_xlim([0,15])\n",
      "\n",
      "pylab.text(q, -1.5, r'$\\chi^2$', size=20)"
     ],
     "language": "python",
     "metadata": {},
     "outputs": [],
     "prompt_number": 3
    },
    {
     "cell_type": "markdown",
     "metadata": {},
     "prompt_number": 4,
     "source": [
      "\n",
      "The 5% rejection rule for $\\chi^2_5$"
     ]
    }
   ],
   "metadata": {}
  }
 ]
}
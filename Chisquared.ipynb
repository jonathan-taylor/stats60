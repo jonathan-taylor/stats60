{
 "metadata": {
  "name": ""
 },
 "nbformat": 3,
 "nbformat_minor": 0,
 "worksheets": [
  {
   "cells": [
    {
     "cell_type": "heading",
     "level": 3,
     "metadata": {
      "slideshow": {
       "slide_type": "slide"
      }
     },
     "source": [
      "Goodness of fit"
     ]
    },
    {
     "cell_type": "markdown",
     "metadata": {},
     "source": [
      "\n",
      "Is the game fair?\n",
      "\n",
      "* In our quiz, we had a question about the number of pairs when two dice were rolled.\n",
      "* In an earlier example, we considered the question about whether a roulette wheel was rigged based on the results from betting in  RED\n",
      "  .\n",
      "* In both of these cases, we came up with a test of \"rigged\" or \"not rigged\" based on one \"feature\" of the experiments.\n",
      "* But, we could have looked at more than just these features, we could have looked at all of the outcomes \u2026\n",
      "* These are called \"goodness of fit\" tests."
     ]
    },
    {
     "cell_type": "heading",
     "level": 3,
     "metadata": {
      "slideshow": {
       "slide_type": "slide"
      }
     },
     "source": [
      "Goodness of fit tests"
     ]
    },
    {
     "cell_type": "markdown",
     "metadata": {},
     "source": [
      "\n",
      "A simpler example\n",
      "\n",
      "* Suppose a die is rolled 60 times. These are the outcomes:\n",
      "* \n",
      "  Value | Observed Count\n",
      "  --- | ---\n",
      "  1 | 4\n",
      "  2 | 6\n",
      "  3 | 17\n",
      "  4 | 16\n",
      "  5 | 8\n",
      "  6 | 9\n",
      "  Total | 60"
     ]
    },
    {
     "cell_type": "heading",
     "level": 3,
     "metadata": {
      "slideshow": {
       "slide_type": "slide"
      }
     },
     "source": [
      "Goodness of fit tests"
     ]
    },
    {
     "cell_type": "markdown",
     "metadata": {},
     "source": [
      "\n",
      "A simpler example\n",
      "\n",
      "* If the die were fair, we could add another column (OK, two columns).\n",
      "* c|c|c|p1in\n",
      "  \n",
      "   Value\n",
      "   & Observed Count\n",
      "   & Expected Count\n",
      "   & Observed - Expected\n",
      "  \n",
      "  1 & 4 & 10 & -6\n",
      "  2 & 6 & 10 & -4\n",
      "  3 & 17 & 10 & 7\n",
      "  4 & 16 & 10 & 6\n",
      "  5 & 8 & 10 & -2\n",
      "  6 & 9 & 10 & -1\n",
      "  Total & 60 & 60 & 0\n",
      "  \n",
      "* It seems there are too many 3\u2019s, and too few 1\u2019s..."
     ]
    },
    {
     "cell_type": "heading",
     "level": 3,
     "metadata": {
      "slideshow": {
       "slide_type": "slide"
      }
     },
     "source": [
      "Goodness of fit tests"
     ]
    },
    {
     "cell_type": "markdown",
     "metadata": {},
     "source": [
      "\n",
      "$\\chi^2$ statistic\n",
      "\n",
      "* To get an overall tests, we combine the rows into *Pearson\u2019s $\\chi^2$*\n",
      "   $$\n",
      "*  <sup>2</sup>\n",
      "   &=  ()\n",
      "   =  <sup>i=1</sup><sup>6</sup> \n",
      "  \n",
      "* $\\item In the die example,$\n",
      "*  <sup>2</sup>\n",
      "   &=  + + + + + \n",
      "  \n",
      "  &=  \n",
      "  \n",
      "  &=  14.2\n",
      "  \n",
      "* $$"
     ]
    },
    {
     "cell_type": "heading",
     "level": 3,
     "metadata": {
      "slideshow": {
       "slide_type": "slide"
      }
     },
     "source": [
      "What are the chances?"
     ]
    },
    {
     "cell_type": "code",
     "collapsed": false,
     "input": [
      "import scipy.stats\n",
      "x = np.linspace(0,20,101)\n",
      "y = scipy.stats.chi2.pdf(x, 5)\n",
      "x2 = np.linspace(14.2,20,101)\n",
      "y2 = scipy.stats.chi2.pdf(x2, 5)\n",
      "pylab.plot(x,y*100, linewidth=2)\n",
      "xf, yf = pylab.poly_between(x2, 0*x2, y2*100)\n",
      "pylab.fill(xf, yf, facecolor='red', hatch='\\\\', alpha=0.5)\n",
      "pylab.gca().set_xlabel('standardized units')\n",
      "pylab.gca().set_ylabel('% per standardized unit')"
     ],
     "language": "python",
     "metadata": {},
     "outputs": [
      {
       "metadata": {},
       "output_type": "pyout",
       "prompt_number": 1,
       "text": [
        "<matplotlib.text.Text at 0x110c8c5d0>"
       ]
      },
      {
       "metadata": {},
       "output_type": "display_data",
       "png": "[encoded data removed]",
       "text": [
        "<matplotlib.figure.Figure at 0x10f34ed50>"
       ]
      }
     ],
     "prompt_number": 1
    },
    {
     "cell_type": "markdown",
     "metadata": {},
     "source": [
      "\n",
      "The $\\chi^2_5$ probability histogram, the area is 1.4%"
     ]
    },
    {
     "cell_type": "heading",
     "level": 3,
     "metadata": {
      "slideshow": {
       "slide_type": "slide"
      }
     },
     "source": [
      "$\\chi^2$ tables"
     ]
    },
    {
     "cell_type": "markdown",
     "metadata": {},
     "source": [
      "\n",
      "What was that last histogram?\n",
      "\n",
      "* It is a new kind of probability histogram, called a $\\chi^2$ probability histogram or curve.\n",
      "* The $\\chi^2$ probability histogram or curve also has *degrees of freedom*\n",
      "   associated to it.\n",
      "* To figure out the degrees of freedom, we need a box."
     ]
    },
    {
     "cell_type": "heading",
     "level": 3,
     "metadata": {
      "slideshow": {
       "slide_type": "slide"
      }
     },
     "source": [
      "$\\chi^2$ curves"
     ]
    },
    {
     "cell_type": "markdown",
     "metadata": {},
     "source": [
      "\n",
      "Degrees of freedom\n",
      "\n",
      "* Our box is\n",
      "* \n",
      "* Our goal is to see if our fit the box. Our data is supposed to be 60 draws with replacement from our box.\n",
      "* There are 6 different objects in the box and we have an observation for each object. Maybe the degrees of freedom is 6?\n",
      "* Not quite, it is 6-1=5. Why the -1? Because when we roll 60 times, the observed counts must sum to 60 \u2013 there are only 5 free variables."
     ]
    },
    {
     "cell_type": "heading",
     "level": 3,
     "metadata": {
      "slideshow": {
       "slide_type": "slide"
      }
     },
     "source": [
      "$\\chi^2$ curves"
     ]
    },
    {
     "cell_type": "markdown",
     "metadata": {},
     "source": [
      "\n",
      "The $\\chi^2$ curve\n",
      "\n",
      "* Even if the die is fair, the $\\chi^2$ statistic will have some variability in it.\n",
      "* The $\\chi^2_5$ probability histogram describes this variability under ${\\color{blue} H_0: \\text{the die is fair}}$.\n",
      "* The 1.4% is the  $P$-value\n",
      "  , or the observed significance level.\n",
      "* It is the probability we would observe a $\\chi^2$ statistic as large as our observed  $\\chi^2$\n",
      "   if ${\\color{blue} H_0}$ is true.\n",
      "* ** It is not the probability $H_0$ is true.**\n",
      "  "
     ]
    },
    {
     "cell_type": "heading",
     "level": 3,
     "metadata": {
      "slideshow": {
       "slide_type": "slide"
      }
     },
     "source": [
      "$\\chi^2$ curves"
     ]
    },
    {
     "cell_type": "code",
     "collapsed": false,
     "input": [
      "x = np.linspace(0,30,201)\n",
      "y = scipy.stats.chi2.pdf(x, 5)\n",
      "y2 = scipy.stats.chi2.pdf(x, 10)\n",
      "pylab.plot(x,y*100, linewidth=2)\n",
      "pylab.plot(x,y2*100, linewidth=2)\n",
      "pylab.gca().set_xlabel('standardized units')\n",
      "pylab.gca().set_ylabel('% per standardized unit')"
     ],
     "language": "python",
     "metadata": {},
     "outputs": [
      {
       "metadata": {},
       "output_type": "pyout",
       "prompt_number": 2,
       "text": [
        "<matplotlib.text.Text at 0x110cad710>"
       ]
      },
      {
       "metadata": {},
       "output_type": "display_data",
       "png": "[encoded data removed]",
       "text": [
        "<matplotlib.figure.Figure at 0x111178e50>"
       ]
      }
     ],
     "prompt_number": 2
    },
    {
     "cell_type": "markdown",
     "metadata": {},
     "source": [
      "\n",
      "The $\\chi^2_5$, $\\chi^2_{10}$ probability histograms."
     ]
    },
    {
     "cell_type": "heading",
     "level": 3,
     "metadata": {
      "slideshow": {
       "slide_type": "slide"
      }
     },
     "source": [
      "$\\chi^2$ curves"
     ]
    },
    {
     "cell_type": "code",
     "collapsed": false,
     "input": [
      "df = 5\n",
      "x = np.linspace(0,20,101)\n",
      "y = scipy.stats.chi2.pdf(x, df)\n",
      "x2 = np.linspace(scipy.stats.chi2.isf(0.05, df),20,101)\n",
      "y2 = scipy.stats.chi2.pdf(x2, df)\n",
      "pylab.plot(x,y*100, linewidth=2)\n",
      "xf, yf = pylab.poly_between(x2, 0*x2, y2*100)\n",
      "pylab.fill(xf, yf, facecolor='red', hatch='\\\\', alpha=0.5)\n",
      "pylab.gca().set_xlabel('standardized units')\n",
      "pylab.gca().set_ylabel('% per standardized unit')\n",
      "pylab.title('Reject $H_0$ for $\\chi^2_{%d}$ greater than %0.2f' % (df, scipy.stats.chi2.isf(0.05, df)))"
     ],
     "language": "python",
     "metadata": {},
     "outputs": [
      {
       "metadata": {},
       "output_type": "pyout",
       "prompt_number": 3,
       "text": [
        "<matplotlib.text.Text at 0x1111d33d0>"
       ]
      },
      {
       "metadata": {},
       "output_type": "display_data",
       "png": "[encoded data removed]",
       "text": [
        "<matplotlib.figure.Figure at 0x11118ded0>"
       ]
      }
     ],
     "prompt_number": 3
    },
    {
     "cell_type": "markdown",
     "metadata": {},
     "source": [
      "\n",
      "The 5% rejection rule for $\\chi^2_5$"
     ]
    },
    {
     "cell_type": "heading",
     "level": 3,
     "metadata": {
      "slideshow": {
       "slide_type": "slide"
      }
     },
     "source": [
      "$\\chi^2$ curves"
     ]
    },
    {
     "cell_type": "code",
     "collapsed": false,
     "input": [
      "df = 10\n",
      "x = np.linspace(0,30,101)\n",
      "y = scipy.stats.chi2.pdf(x, df)\n",
      "x2 = np.linspace(scipy.stats.chi2.isf(0.05, df),30,101)\n",
      "y2 = scipy.stats.chi2.pdf(x2, df)\n",
      "pylab.plot(x,y*100, linewidth=2)\n",
      "xf, yf = pylab.poly_between(x2, 0*x2, y2*100)\n",
      "pylab.fill(xf, yf, facecolor='red', hatch='\\\\', alpha=0.5)\n",
      "pylab.gca().set_xlabel('standardized units')\n",
      "pylab.gca().set_ylabel('% per standardized unit')\n",
      "pylab.title('Reject $H_0$ for $\\chi^2_{%d}$ greater than %0.2f' % (df, scipy.stats.chi2.isf(0.05, df)))"
     ],
     "language": "python",
     "metadata": {},
     "outputs": [
      {
       "metadata": {},
       "output_type": "pyout",
       "prompt_number": 4,
       "text": [
        "<matplotlib.text.Text at 0x111679750>"
       ]
      },
      {
       "metadata": {},
       "output_type": "display_data",
       "png": "[encoded data removed]",
       "text": [
        "<matplotlib.figure.Figure at 0x111198090>"
       ]
      }
     ],
     "prompt_number": 4
    },
    {
     "cell_type": "markdown",
     "metadata": {},
     "source": [
      "\n",
      "The 5% rejection rule for $\\chi^2_{10}$"
     ]
    },
    {
     "cell_type": "heading",
     "level": 3,
     "metadata": {
      "slideshow": {
       "slide_type": "slide"
      }
     },
     "source": [
      "$\\chi^2$ curves"
     ]
    },
    {
     "cell_type": "markdown",
     "metadata": {},
     "source": [
      "\n",
      "Using the $\\chi^2$ test\n",
      "\n",
      "* A general rule of thumb: every expected value should be 5 or more for the $\\chi^2$ curve to approximate the probability histogram of the ${\\color{orange} \\chi^2}$ statistic.\n",
      "* Would not apply to 100 draws from $\\fbox{ \\fbox{1} \\ \\fbox{2} \\  \\fbox{3} \\ \\ 96 \\fbox{4}'s}$\n",
      "Difference between $\\chi^2$ test and $z$ test\n",
      "\n",
      "* The $z$ test is a statement about the average of the box.\n",
      "* The $\\chi^2$ is a test whether the observed data follow the box model.\n",
      "* If there are only two values in the box, then the $\\chi^2$ test is identical to the (two-sided) $z$ test."
     ]
    },
    {
     "cell_type": "heading",
     "level": 3,
     "metadata": {
      "slideshow": {
       "slide_type": "slide"
      }
     },
     "source": [
      "$\\chi^2$ curves"
     ]
    },
    {
     "cell_type": "markdown",
     "metadata": {},
     "source": [
      "\n",
      "Example\n",
      "\n",
      "* Suppose the box is .\n",
      "* In 100 draws with replacement, we observe 46 \u2019s (and 54 \u2019s).\n",
      "* The $\\chi^2$ test statistic is ${\\color{orange} \\chi^2} = \\frac{(46-40)^2}{40} + \\frac{(54-60)^2}{60} = 1.5$\n",
      "* The $z$ statistic for the proportion of \u2019s is ${\\color{orange} z} = \\frac{0.46-0.40}{\\sqrt{0.4 \\times 0.6} / \\sqrt{100}} = 1.224$\n",
      "* And, ${\\color{orange} z}^2 = (1.224)^2 = 1.5$. This is not a coincidence \u2026"
     ]
    },
    {
     "cell_type": "heading",
     "level": 3,
     "metadata": {
      "slideshow": {
       "slide_type": "slide"
      }
     },
     "source": [
      "$\\chi^2$ curves"
     ]
    },
    {
     "cell_type": "code",
     "collapsed": false,
     "input": [
      "df = 1\n",
      "x = np.linspace(0,30,401)\n",
      "y = scipy.stats.chi2.pdf(x, df)\n",
      "x2 = np.linspace(scipy.stats.chi2.isf(0.05, df),30,401)\n",
      "y2 = scipy.stats.chi2.pdf(x2, df)\n",
      "pylab.plot(x,y*100, linewidth=2)\n",
      "xf, yf = pylab.poly_between(x2, 0*x2, y2*100)\n",
      "pylab.fill(xf, yf, facecolor='red', hatch='\\\\', alpha=0.5)\n",
      "pylab.gca().set_xlabel('standardized units')\n",
      "pylab.gca().set_ylabel('% per standardized unit')\n",
      "pylab.gca().set_xlim([0,7])\n",
      "pylab.title('Reject $H_0$ for $\\chi^2_{%d}$ greater than %0.2f' % (df, scipy.stats.chi2.isf(0.05, df)))"
     ],
     "language": "python",
     "metadata": {},
     "outputs": [
      {
       "metadata": {},
       "output_type": "pyout",
       "prompt_number": 5,
       "text": [
        "<matplotlib.text.Text at 0x1116259d0>"
       ]
      },
      {
       "metadata": {},
       "output_type": "display_data",
       "png": "[encoded data removed]",
       "text": [
        "<matplotlib.figure.Figure at 0x11167a310>"
       ]
      }
     ],
     "prompt_number": 5
    },
    {
     "cell_type": "markdown",
     "metadata": {},
     "source": [
      "\n",
      "The 5% rejection rule for $\\chi^2_{1}$"
     ]
    },
    {
     "cell_type": "heading",
     "level": 3,
     "metadata": {
      "slideshow": {
       "slide_type": "slide"
      }
     },
     "source": [
      "$z$ test"
     ]
    },
    {
     "cell_type": "code",
     "collapsed": false,
     "input": [
      "x = np.linspace(-4,4,101)\n",
      "y = np.exp(-x**2/2) / np.sqrt(2*np.pi)\n",
      "\n",
      "q = scipy.stats.norm.isf(0.025)\n",
      "x2 = np.linspace(q,4,101)\n",
      "y2 = np.exp(-x2**2/2) / np.sqrt(2*np.pi)\n",
      "xf, yf = pylab.poly_between(x2, 0*x2, y2*100)\n",
      "pylab.fill(xf, yf, facecolor='red', hatch='\\\\', alpha=0.5)\n",
      "\n",
      "\n",
      "x2 = np.linspace(-4,-q,101)\n",
      "y2 = np.exp(-x2**2/2) / np.sqrt(2*np.pi)\n",
      "xf, yf = pylab.poly_between(x2, 0*x2, y2*100)\n",
      "pylab.fill(xf, yf, facecolor='red', hatch='\\\\', alpha=0.5)\n",
      "\n",
      "pylab.plot(x,y*100, linewidth=2)\n",
      "pylab.gca().set_xlabel('standardized units')\n",
      "pylab.gca().set_ylabel('% per standardized unit')\n",
      "pylab.title('Reject $H_0$ for $|z|$ greater than %0.2f' % q)"
     ],
     "language": "python",
     "metadata": {},
     "outputs": [
      {
       "metadata": {},
       "output_type": "pyout",
       "prompt_number": 6,
       "text": [
        "<matplotlib.text.Text at 0x110e1f990>"
       ]
      },
      {
       "metadata": {},
       "output_type": "display_data",
       "png": "[encoded data removed]",
       "text": [
        "<matplotlib.figure.Figure at 0x110e06750>"
       ]
      }
     ],
     "prompt_number": 6
    },
    {
     "cell_type": "markdown",
     "metadata": {},
     "source": [
      "\n",
      " Two-sided 5% rejection rule\n",
      ", (Note: $1.96^2 = 3.84$)"
     ]
    },
    {
     "cell_type": "heading",
     "level": 3,
     "metadata": {
      "slideshow": {
       "slide_type": "slide"
      }
     },
     "source": [
      "$\\chi^2$ tests"
     ]
    },
    {
     "cell_type": "markdown",
     "metadata": {},
     "source": [
      "\n",
      "Structure of a $\\chi^2$ test\n",
      "\n",
      "Basic Data * The number of draws, $N$ and the resulting draws.\n",
      "* \n",
      "  Value | Observed Count\n",
      "  --- | ---\n",
      "  1 | 4\n",
      "  2 | 6\n",
      "  3 | 17\n",
      "  4 | 16\n",
      "  5 | 8\n",
      "  6 | 9\n",
      "  Total | 60 (=$N$)\n",
      "Box * In this example:"
     ]
    },
    {
     "cell_type": "heading",
     "level": 3,
     "metadata": {
      "slideshow": {
       "slide_type": "slide"
      }
     },
     "source": [
      "$\\chi^2$ tests"
     ]
    },
    {
     "cell_type": "markdown",
     "metadata": {},
     "source": [
      "\n",
      "Structure of a $\\chi^2$ test\n",
      "\n",
      "Frequency table * The basic data, along with the expected counts.\n",
      "* c|c|c|p1in\n",
      "  \n",
      "   Value\n",
      "   & Observed Count\n",
      "   & Expected Count\n",
      "  \n",
      "  1 & 4 & 10\n",
      "  2 & 6 & 10\n",
      "  3 & 17 & 10\n",
      "  4 & 16 & 10\n",
      "  5 & 8 & 10\n",
      "  6 & 9 & 10\n",
      "  Total & 60 & 60\n",
      "  \n",
      " $\\chi^2$\n",
      " statistic * In this example, we computed it to be 14.2."
     ]
    },
    {
     "cell_type": "heading",
     "level": 3,
     "metadata": {
      "slideshow": {
       "slide_type": "slide"
      }
     },
     "source": [
      "$\\chi^2$ tests"
     ]
    },
    {
     "cell_type": "markdown",
     "metadata": {},
     "source": [
      "\n",
      "Structure of a $\\chi^2$ test\n",
      "\n",
      "Degrees of freedom * In our example, this was 5 which was the number of \"free parameters.\" Call this number $df$.\n",
      "$P$-value * Are from our observed $\\chi^2$ statistic out to $\\infty$ under the $\\chi^2_{df}$ probability histogram. This was about 1.4% in our example."
     ]
    },
    {
     "cell_type": "heading",
     "level": 3,
     "metadata": {
      "slideshow": {
       "slide_type": "slide"
      }
     },
     "source": [
      "Testing independence: another $\\chi^2$ test"
     ]
    },
    {
     "cell_type": "markdown",
     "metadata": {},
     "source": [
      "\n",
      "Handedness and gender\n",
      "\n",
      "* Data example in book\n",
      "* \n",
      "  Handedness | Male | Female\n",
      "  --- | --- | ---\n",
      "  Right | 934 | 1070\n",
      "  Left | 113 | 92\n",
      "  Ambidextrous | 20 | 8\n",
      "* Is handedness related to gender (or not)?"
     ]
    },
    {
     "cell_type": "heading",
     "level": 3,
     "metadata": {
      "slideshow": {
       "slide_type": "slide"
      }
     },
     "source": [
      "Testing independence: another $\\chi^2$ test"
     ]
    },
    {
     "cell_type": "markdown",
     "metadata": {},
     "source": [
      "\n",
      "Handedness and gender\n",
      "\n",
      "* There are two \"totals\" \u2026, these are called *marginals*\n",
      "  \n",
      "* \n",
      "  Handedness | Male | Female | Total$_H$\n",
      "  --- | --- | --- | ---\n",
      "  Right | 934 | 1070 | 2004\n",
      "  Left | 113 | 92 | 205\n",
      "  Ambidextrous | 20 | 8 | 28\n",
      "  Total$_G$ | 1067 | 1170 | 2237"
     ]
    },
    {
     "cell_type": "heading",
     "level": 3,
     "metadata": {
      "slideshow": {
       "slide_type": "slide"
      }
     },
     "source": [
      "Testing independence: another $\\chi^2$ test"
     ]
    },
    {
     "cell_type": "markdown",
     "metadata": {},
     "source": [
      "\n",
      "Handedness and gender\n",
      "\n",
      "* The null hypothesis is  $H_0$: handedness is independent from gender\n",
      "  .\n",
      "* This means that the probability a person (drawn at random) from the population is, say, a left-handed male, is the product of two probabilities: the probability a person is left-handed and the probability a person is male.\n",
      "* Or, $P(\\text{left-handed \\& male}) = P(\\text{left-handed}) \\times P(\\text{male})$"
     ]
    },
    {
     "cell_type": "heading",
     "level": 3,
     "metadata": {
      "slideshow": {
       "slide_type": "slide"
      }
     },
     "source": [
      "Testing independence: another $\\chi^2$ test"
     ]
    },
    {
     "cell_type": "code",
     "collapsed": false,
     "input": [
      "import random\n",
      "\n",
      "x = [195.66312, 221.61052, 157.35352, 231.13815, 13.34680, 110.02011,\n",
      "     38.88158, 220.78335, 146.52131, 15.03196, 158.56636, 186.31249,\n",
      "     152.84395, 54.18120, 42.15905,  43.25318, 187.95021]\n",
      "y = [221.318958, 59.505313, 191.099571, 52.122050, 6.808426, 241.603658,\n",
      "     76.207370, 162.056604, 140.111931, 102.609925, 24.479454, 75.126427,\n",
      "     215.454302, 103.887709, 141.970066, 84.014976, 21.444533]\n",
      "n=len(x)\n",
      "X = np.array([x,y])\n",
      "X = X.T\n",
      "\n",
      "def sample_hand():\n",
      "    x = ['L', 'R', 'A']\n",
      "    np.random.shuffle(x)\n",
      "    return x[0]\n",
      "\n",
      "def sample_gender():\n",
      "    x = ['M', 'F']\n",
      "    np.random.shuffle(x)\n",
      "    return x[0]\n",
      "\n",
      "d = 8.\n",
      "for i in range(15):\n",
      "    pylab.fill_between([X[i,0]-d,X[i,0]], [X[i,1]-d,X[i,1]-d], [X[i,1]+.75*d,X[i,1]+.75*d], facecolor='green', alpha=0.5)\n",
      "    pylab.fill_between([X[i,0],X[i,0]+d], [X[i,1]-d,X[i,1]-d], [X[i,1]+.75*d,X[i,1]+.75*d], facecolor='red', alpha=0.5)\n",
      "    pylab.text(X[i,0]-d/2, X[i,1], sample_gender(), ha='center', va='center', size=10)\n",
      "    pylab.text(X[i,0]+d/2, X[i,1], sample_hand(), ha='center', va='center', size=10)\n",
      "pylab.gca().set_xticks([]); #   pylab.gca().set_xlim([-0.1,1.1])\n",
      "pylab.gca().set_yticks([]); #   pylab.gca().set_ylim([-0.1,1.1])"
     ],
     "language": "python",
     "metadata": {},
     "outputs": [
      {
       "metadata": {},
       "output_type": "pyout",
       "prompt_number": 7,
       "text": [
        "[]"
       ]
      },
      {
       "metadata": {},
       "output_type": "display_data",
       "png": "[encoded data removed]",
       "text": [
        "<matplotlib.figure.Figure at 0x1116305d0>"
       ]
      }
     ],
     "prompt_number": 7
    },
    {
     "cell_type": "markdown",
     "metadata": {},
     "source": [
      "\n",
      "A sample of 17 from a large population"
     ]
    },
    {
     "cell_type": "heading",
     "level": 3,
     "metadata": {
      "slideshow": {
       "slide_type": "slide"
      }
     },
     "source": [
      "Testing independence: another $\\chi^2$ test"
     ]
    },
    {
     "cell_type": "markdown",
     "metadata": {},
     "source": [
      "\n",
      "Handedness and gender\n",
      "\n",
      "* Having specified the box, we can express ${\\color{blue} H_0}$ via some equalities about the tickets in the box: $\\begin{aligned}\n",
      "       p_{L,M} &= p_L \\times p_M \\\\\n",
      "       p_{R,M} &= p_R \\times p_M \\\\\n",
      "       p_{A,M} &= p_A \\times p_M \\\\\n",
      "       p_{L,F} &= p_L \\times p_F \\\\\n",
      "       p_{R,F} &= p_R \\times p_F \\\\\n",
      "       p_{A,F} &= p_A \\times p_F \\\\\n",
      "       \\end{aligned}$\n",
      "* Some of these equalities are redundant. This affects the degrees of freedom."
     ]
    },
    {
     "cell_type": "heading",
     "level": 3,
     "metadata": {
      "slideshow": {
       "slide_type": "slide"
      }
     },
     "source": [
      "Testing independence: another $\\chi^2$ test"
     ]
    },
    {
     "cell_type": "markdown",
     "metadata": {},
     "source": [
      "\n",
      "Handedness and gender\n",
      "\n",
      "* If $H_0$ is true, the observed counts should follow a similar structure: the proportion of left-handed males should be close to the proportion of left-handed females, etc.\n",
      "* This is our model for the Expected\n",
      "   or $E$ part of the $\\chi^2$ statistic which we use to construct the frequency table.\n",
      "* The sample proportion of men is  48%\n",
      "  , the sample proportion of left-handed is  9.2%\n",
      "  .\n",
      "* Under $H_0$, the independence model, we estimate that, in a sample of size 2237, we would see $2237 \\times 0.48 \\times 0.092 \\approx 98$ left handed males."
     ]
    },
    {
     "cell_type": "heading",
     "level": 3,
     "metadata": {
      "slideshow": {
       "slide_type": "slide"
      }
     },
     "source": [
      "Testing independence: another $\\chi^2$ test"
     ]
    },
    {
     "cell_type": "markdown",
     "metadata": {},
     "source": [
      "\n",
      "Handedness and gender\n",
      "\n",
      "* Continuing for all 6 cases yields a table of \"Expected Counts\"\n",
      "* \n",
      "  Handedness | Male | Female | Total$_H$\n",
      "  --- | --- | --- | ---\n",
      "  Right | 956 | 1048 | 2004\n",
      "  Left | 98 | 107 | 205\n",
      "  Ambidextrous | 13 | 15 | 28\n",
      "  Total$_G$ | 1067 | 1170 | 2237"
     ]
    },
    {
     "cell_type": "heading",
     "level": 3,
     "metadata": {
      "slideshow": {
       "slide_type": "slide"
      }
     },
     "source": [
      "Testing independence: another $\\chi^2$ test"
     ]
    },
    {
     "cell_type": "markdown",
     "metadata": {},
     "source": [
      "\n",
      "Handedness and gender\n",
      "\n",
      "* The $\\chi^2$ statistic is computed in exactly the same way $\\begin{aligned}\n",
      "           \\chi^2 &= \\frac{(934-956)^2}{956} + \\frac{(1070-1048)^2}{1048} +\n",
      "            \\frac{(113-98)^2}{98} \\\\\n",
      "           & \\qquad +  \\frac{(92-107)^2}{107} + \\frac{(20-13)^2}{13} + \\frac{(8-15)^2}{15}  \\\\\n",
      "           &\\approx 12\n",
      "         \\end{aligned}$\n",
      "* In symbols, $\\chi^2 = \\sum_{i=1}^3 \\sum_{j=1}^2 \\frac{(O_{ij}-E_{ij})^2}{E_{ij}}$"
     ]
    },
    {
     "cell_type": "heading",
     "level": 3,
     "metadata": {
      "slideshow": {
       "slide_type": "slide"
      }
     },
     "source": [
      "Testing independence: another $\\chi^2$ test"
     ]
    },
    {
     "cell_type": "markdown",
     "metadata": {},
     "source": [
      "\n",
      "Handedness and gender\n",
      "\n",
      "* This leaves the last two parts of the $\\chi^2$ test: degrees of freedom and the $P$-value.\n",
      "* The degrees of freedom for this test are actually only 2. This can be seen in the difference table\n",
      "* \n",
      "  Handedness | Male | Female | Total$_H$\n",
      "  --- | --- | --- | ---\n",
      "  Right | -22 | 22 | 0\n",
      "  Left | 15 | -15 | 0\n",
      "  Ambidextrous | 7 | -7 | 0\n",
      "  Total$_G$ | 0 | 0 | 0\n",
      "* By construction all the marginal totals of the difference table are 0. So, we can set two of the values freely \u2026"
     ]
    },
    {
     "cell_type": "heading",
     "level": 3,
     "metadata": {
      "slideshow": {
       "slide_type": "slide"
      }
     },
     "source": [
      "$\\chi^2_2$ probability histogram"
     ]
    },
    {
     "cell_type": "code",
     "collapsed": false,
     "input": [
      "df = 2\n",
      "x = np.linspace(10,20,101)\n",
      "y = scipy.stats.chi2.pdf(x, df)\n",
      "x2 = np.linspace(12,20,101)\n",
      "y2 = scipy.stats.chi2.pdf(x2, df)\n",
      "pylab.plot(x,y*100, linewidth=2)\n",
      "xf, yf = pylab.poly_between(x2, 0*x2, y2*100)\n",
      "pylab.fill(xf, yf, facecolor='red', hatch='\\\\', alpha=0.5)\n",
      "pylab.gca().set_xlabel('standardized units')\n",
      "pylab.gca().set_ylabel('% per standardized unit')\n",
      "pylab.title('The area is about %0.1f%%' % (100 * scipy.stats.chi2.sf(12, df)))"
     ],
     "language": "python",
     "metadata": {},
     "outputs": [
      {
       "metadata": {},
       "output_type": "pyout",
       "prompt_number": 8,
       "text": [
        "<matplotlib.text.Text at 0x111a34c10>"
       ]
      },
      {
       "metadata": {},
       "output_type": "display_data",
       "png": "[encoded data removed]",
       "text": [
        "<matplotlib.figure.Figure at 0x110e0d990>"
       ]
      }
     ],
     "prompt_number": 8
    }
   ],
   "metadata": {}
  }
 ]
}
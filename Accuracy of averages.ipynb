{
 "metadata": {
  "name": ""
 },
 "nbformat": 3,
 "nbformat_minor": 0,
 "worksheets": [
  {
   "cells": [
    {
     "cell_type": "heading",
     "level": 3,
     "metadata": {
      "slideshow": {
       "slide_type": "slide"
      }
     },
     "prompt_number": 1,
     "source": [
      "Average of draws from a box"
     ]
    },
    {
     "cell_type": "markdown",
     "metadata": {},
     "prompt_number": 1,
     "source": [
      "\n",
      "Average of draws\n",
      "\n",
      "* Earlier, we saw how to compute the SE for the sum of draws from a box.\n",
      "* The *average of the draws*\n",
      "   is $$ = $$\n",
      "* Dividing by the $\\#$ of draws changes the expected value and the SE."
     ]
    },
    {
     "cell_type": "heading",
     "level": 3,
     "metadata": {
      "slideshow": {
       "slide_type": "slide"
      }
     },
     "prompt_number": 1,
     "source": [
      "Average of draws from a box"
     ]
    },
    {
     "cell_type": "markdown",
     "metadata": {},
     "prompt_number": 1,
     "source": [
      "\n",
      "Accuracy of **average of draws**\n",
      "\n",
      "\n",
      "* The expected value is the average of the box $\\text{E({\\bf average of draws})} = \\text{\\bf average of box}$\n",
      "* The SE is $$\n",
      "* &=\n",
      "  &=\n",
      "  &=\n",
      "  \n",
      "* $$\n",
      "* Just like the SE of sample proportion \u2013 it decreases as # draws increase."
     ]
    },
    {
     "cell_type": "heading",
     "level": 3,
     "metadata": {
      "slideshow": {
       "slide_type": "slide"
      }
     },
     "prompt_number": 1,
     "source": [
      "Example of a box model"
     ]
    },
    {
     "cell_type": "markdown",
     "metadata": {},
     "prompt_number": 1,
     "source": [
      "\n",
      "Betting 10$ on  5\n",
      ": win 350$ with probability 1/38"
     ]
    },
    {
     "cell_type": "heading",
     "level": 3,
     "metadata": {
      "slideshow": {
       "slide_type": "slide"
      }
     },
     "prompt_number": 1,
     "source": [
      "Probability histogram of successes"
     ]
    },
    {
     "cell_type": "markdown",
     "metadata": {},
     "prompt_number": 1,
     "source": [
      "\n",
      "Betting on  5\n",
      " 10 times, total earnings."
     ]
    },
    {
     "cell_type": "heading",
     "level": 3,
     "metadata": {
      "slideshow": {
       "slide_type": "slide"
      }
     },
     "prompt_number": 1,
     "source": [
      "Probability histogram of successes"
     ]
    },
    {
     "cell_type": "markdown",
     "metadata": {},
     "prompt_number": 1,
     "source": [
      "\n",
      "Betting on  5\n",
      " 10 times, average earnings."
     ]
    },
    {
     "cell_type": "heading",
     "level": 3,
     "metadata": {
      "slideshow": {
       "slide_type": "slide"
      }
     },
     "prompt_number": 1,
     "source": [
      "Probability histogram of successes"
     ]
    },
    {
     "cell_type": "markdown",
     "metadata": {},
     "prompt_number": 1,
     "source": [
      "\n",
      "Betting on  5\n",
      " 100 times, total earnings."
     ]
    },
    {
     "cell_type": "heading",
     "level": 3,
     "metadata": {
      "slideshow": {
       "slide_type": "slide"
      }
     },
     "prompt_number": 1,
     "source": [
      "Probability histogram of successes"
     ]
    },
    {
     "cell_type": "markdown",
     "metadata": {},
     "prompt_number": 1,
     "source": [
      "\n",
      "Betting on  5\n",
      " 100 times, average earnings"
     ]
    },
    {
     "cell_type": "heading",
     "level": 3,
     "metadata": {
      "slideshow": {
       "slide_type": "slide"
      }
     },
     "prompt_number": 1,
     "source": [
      "Probability histogram of successes"
     ]
    },
    {
     "cell_type": "markdown",
     "metadata": {},
     "prompt_number": 1,
     "source": [
      "\n",
      "Betting on  5\n",
      " 1000 times, total earnings."
     ]
    },
    {
     "cell_type": "heading",
     "level": 3,
     "metadata": {
      "slideshow": {
       "slide_type": "slide"
      }
     },
     "prompt_number": 1,
     "source": [
      "Probability histogram of successes"
     ]
    },
    {
     "cell_type": "markdown",
     "metadata": {},
     "prompt_number": 1,
     "source": [
      "\n",
      "Betting on  5\n",
      " 1000 times, average earnings"
     ]
    },
    {
     "cell_type": "heading",
     "level": 3,
     "metadata": {
      "slideshow": {
       "slide_type": "slide"
      }
     },
     "prompt_number": 1,
     "source": [
      "Probability histogram of successes"
     ]
    },
    {
     "cell_type": "markdown",
     "metadata": {},
     "prompt_number": 1,
     "source": [
      "\n",
      "Betting on  5\n",
      " 10000 times, total earnings."
     ]
    },
    {
     "cell_type": "heading",
     "level": 3,
     "metadata": {
      "slideshow": {
       "slide_type": "slide"
      }
     },
     "prompt_number": 1,
     "source": [
      "Probability histogram of successes"
     ]
    },
    {
     "cell_type": "markdown",
     "metadata": {},
     "prompt_number": 1,
     "source": [
      "\n",
      "Betting on  5\n",
      " 10000 times, average earnings."
     ]
    },
    {
     "cell_type": "heading",
     "level": 3,
     "metadata": {
      "slideshow": {
       "slide_type": "slide"
      }
     },
     "prompt_number": 1,
     "source": [
      "Box we actually sample from \u2026"
     ]
    },
    {
     "cell_type": "markdown",
     "metadata": {},
     "prompt_number": 1,
     "source": [
      "\n",
      "We may not even know how many balls there are \u2026"
     ]
    },
    {
     "cell_type": "heading",
     "level": 3,
     "metadata": {
      "slideshow": {
       "slide_type": "slide"
      }
     },
     "prompt_number": 1,
     "source": [
      "Sample of 10 with replacement"
     ]
    },
    {
     "cell_type": "markdown",
     "metadata": {},
     "prompt_number": 1,
     "source": [
      "\n",
      "Average of 10 draws with replacement, repeated 20000 times"
     ]
    },
    {
     "cell_type": "heading",
     "level": 3,
     "metadata": {
      "slideshow": {
       "slide_type": "slide"
      }
     },
     "prompt_number": 1,
     "source": [
      "Sample of 100 with replacement"
     ]
    },
    {
     "cell_type": "markdown",
     "metadata": {},
     "prompt_number": 1,
     "source": [
      "\n",
      "Average of 100 draws with replacement, repeated 20000 times"
     ]
    },
    {
     "cell_type": "heading",
     "level": 3,
     "metadata": {
      "slideshow": {
       "slide_type": "slide"
      }
     },
     "prompt_number": 1,
     "source": [
      "Sample of 1000 with replacement"
     ]
    },
    {
     "cell_type": "markdown",
     "metadata": {},
     "prompt_number": 1,
     "source": [
      "\n",
      "Average of 1000 draws with replacement, repeated 20000 times"
     ]
    },
    {
     "cell_type": "heading",
     "level": 3,
     "metadata": {
      "slideshow": {
       "slide_type": "slide"
      }
     },
     "prompt_number": 1,
     "source": [
      "Sample of 10000 with replacement"
     ]
    },
    {
     "cell_type": "markdown",
     "metadata": {},
     "prompt_number": 1,
     "source": [
      "\n",
      "Average of 10000 draws with replacement, repeated 20000 times"
     ]
    },
    {
     "cell_type": "heading",
     "level": 3,
     "metadata": {
      "slideshow": {
       "slide_type": "slide"
      }
     },
     "prompt_number": 1,
     "source": [
      "Estimating SE when content of box is unknown"
     ]
    },
    {
     "cell_type": "markdown",
     "metadata": {},
     "prompt_number": 1,
     "source": [
      "\n",
      "Accuracy of averages second statistic\n",
      "\n",
      "* Given a sample ${\\color{orange}[X_1, \\dots, X_n]}$ of $n$ draws, we can compute the *sample mean*\n",
      "   Call this $$  |X\n",
      "  \n",
      "   = = $\\item We know$\n",
      "*  (|X\n",
      "  )\n",
      "   =\n",
      "* $$\n",
      "* Unfortunately, we don\u2019t know ${\\color{blue}\\text{SD({\\bf box})}}$.\n",
      "* Use  plug-in / bootstrap\n",
      "   estimate $$ = = $$"
     ]
    },
    {
     "cell_type": "heading",
     "level": 3,
     "metadata": {
      "slideshow": {
       "slide_type": "slide"
      }
     },
     "prompt_number": 1,
     "source": [
      "Estimating  average(**box**\n",
      ")\n"
     ]
    },
    {
     "cell_type": "markdown",
     "metadata": {},
     "prompt_number": 1,
     "source": [
      "\n",
      "Normal approximation\n",
      "\n",
      "* Conversion to average just changes the units.\n",
      "* We can use normal approximation to approximate chances, as long as we standardize correctly.\n",
      "* For example, there is 90% probability that $\\color{orange}\\bar{X}$ is within ${ \\color{blue} \\pm 1.65 \\ \\color{blue}\\text{SD({\\bf box})} / \\sqrt{n}}$ of  average(**box**\n",
      "  )\n",
      "  .\n",
      "* Call ${\\color{blue} \\text{average}({\\bf box})= \\mu}$, the  population average\n",
      "  .\n",
      "* The parameter ${\\color{blue} \\mu}$ is determined by the chance process. It is not random, it is a number.\n",
      "* How can we \"reverse this statement\" to yield a confidence interval based on a sample of, say, size 100 for ${\\color{blue} \\mu}$?"
     ]
    },
    {
     "cell_type": "heading",
     "level": 3,
     "metadata": {
      "slideshow": {
       "slide_type": "slide"
      }
     },
     "prompt_number": 1,
     "source": [
      "Confidence interval for  average(**box**\n",
      ")\n"
     ]
    },
    {
     "cell_type": "markdown",
     "metadata": {},
     "prompt_number": 1,
     "source": [
      "\n",
      "Reversing the picture\n",
      "\n",
      "* The normal approximation says, for a sample of size 100 $$\n",
      "* () &5%\n",
      "   () &5%\n",
      "  \n",
      "* $\\item This is the same as saying$\n",
      "* () &5%\n",
      "   () &5%\n",
      "  \n",
      "* $\\end{itemize}\n",
      "     \\end{block}\n",
      "     \\end{frame}\n",
      "  \n",
      "     \n",
      "     \\begin{frame} \\frametitle{Confidence intervals}\n",
      "  \n",
      "     \\begin{block}\n",
      "     {Reversing the picture}\n",
      "     \\begin{itemize}\n",
      "     \\item In other words,$\n",
      "* ( ) &90%\n",
      "  \n",
      "* $\\item Or, color-coded$\n",
      "* ( ) &90%\n",
      "  \n",
      "* $$\n",
      "* If we knew ${\\color{blue} \\text{SD}({\\bf box})}$ we would have an interval on the right based on the  sample mean\n",
      "   that says something about  $\\mu$=average(**box**\n",
      "  )\n",
      "  ."
     ]
    },
    {
     "cell_type": "heading",
     "level": 3,
     "metadata": {
      "slideshow": {
       "slide_type": "slide"
      }
     },
     "prompt_number": 1,
     "source": [
      "Confidence intervals"
     ]
    },
    {
     "cell_type": "markdown",
     "metadata": {},
     "prompt_number": 1,
     "source": [
      "\n",
      "Using our bootstrap estimate of SE\n",
      "\n",
      "* Even though we don\u2019t know ${\\color{blue} SD({\\bf box})}$ we estimated $\\frac{\\color{blue} \\text{SD}({\\bf box})}{{\\color{blue} \\sqrt{100}}}$ by the bootstrap estimate of SE $\\frac{{\\color{orange} \\text{SD}([X_1, \\dots, X_{100}])}}{{\\color{orange} \\sqrt{100}}} = \\frac{{\\color{orange} \\sqrt{\\frac{1}{100}\\sum_{i=1}^{100} (X_i - \\bar{X})^2}}}{\\color{orange} \\sqrt{100}}$\n",
      "* If we can plug this in (and we can if sample is large enough), we see that $$\n",
      "* () &90%\n",
      "  \n",
      "* $$"
     ]
    },
    {
     "cell_type": "heading",
     "level": 3,
     "metadata": {
      "slideshow": {
       "slide_type": "slide"
      }
     },
     "prompt_number": 1,
     "source": [
      "Different SE"
     ]
    },
    {
     "cell_type": "markdown",
     "metadata": {},
     "prompt_number": 1,
     "source": [
      "\n",
      "Different SE\n",
      "\n",
      "* We have seen various different rules for computing SE.\n",
      "*     * $\\text{SE({\\bf sum of draws})} = \\sqrt{\\text{$#$ of draws}} \\times \\text{SD}({\\bf box})$\n",
      "      * $\\text{SE({\\bf average of draws})} = \\text{SE({\\bf sum of draws})} / \\text{$#$ of draws}$\n",
      "      * $\\text{SE}({\\bf count}) =  \\text{SE({\\bf sum of draws from 0-1 box})}$\n",
      "      * $\\text{SE({\\bf proportion})} =  \\text{SE({\\bf sum of draws from 0-1 box})} / {\\text{$#$ of draws}}$\n",
      "* They are all examples of the first $\\text{SE({\\bf sum of draws})}$ followed by unit conversion.\n",
      "* Once we have figured out the appropriate SE and expected value, we can use normal approximation if $\\#$ of draws is large enough."
     ]
    },
    {
     "cell_type": "heading",
     "level": 3,
     "metadata": {
      "slideshow": {
       "slide_type": "slide"
      }
     },
     "prompt_number": 1,
     "source": [
      "Normal approximation"
     ]
    },
    {
     "cell_type": "markdown",
     "metadata": {},
     "prompt_number": 1,
     "source": [
      "\n",
      "Normal approximation for ${\\color{orange} \\widehat{\\theta}}$\n",
      "\n",
      "* Suppose we are trying to estimate *something*\n",
      "   called ${\\color{blue} \\theta}$ with an estimator ${\\color{orange} \\widehat{\\theta}}$.\n",
      "* Under the appropriate conditions, a normal approximation may hold ${\\color{orange} \\widehat{\\theta}}$.\n",
      "* If ${\\color{orange} \\widehat{\\theta}} = {\\color{blue} \\theta}$ and the normal approximation holds, then $P \\left(\\frac{{\\color{orange}  \\widehat{\\theta}} - {\\color{blue} \\theta}}{{{\\color{blue} \\text{SE}}} ({\\color{orange} \\widehat{\\theta}})} \\leq c \\right)$ can be expressed as the area under the standard normal curve, i.e. it can be computed using table A-104 from the book.\n",
      "* For example, suppose $c=-1.5$, then \u2026"
     ]
    },
    {
     "cell_type": "heading",
     "level": 3,
     "metadata": {
      "slideshow": {
       "slide_type": "slide"
      }
     },
     "prompt_number": 1,
     "source": [
      "Normal approximation"
     ]
    },
    {
     "cell_type": "markdown",
     "metadata": {},
     "prompt_number": 1,
     "source": [
      "\n",
      "From A-104, chances are approximately 6.7%"
     ]
    },
    {
     "cell_type": "heading",
     "level": 3,
     "metadata": {
      "slideshow": {
       "slide_type": "slide"
      }
     },
     "prompt_number": 1,
     "source": [
      "Normal approximation"
     ]
    },
    {
     "cell_type": "markdown",
     "metadata": {},
     "prompt_number": 1,
     "source": [
      "\n",
      "Normal approximation and confidence intervals\n",
      "\n",
      "* If a normal approximation holds for ${\\color{orange} \\widehat{\\theta}}$ then, for example, ${\\color{orange} \\widehat{\\theta}} \\pm 1.65 \\times {\\color{blue} \\text{SE}}({\\color{orange} \\widehat{\\theta}})$ is a 90% confidence interval for ${\\color{blue} \\theta}=E({\\color{orange} \\widehat{\\theta}})$.\n",
      "* Often, we only have an estimate ${\\color{orange} \\widehat{ \\text{SE}(\\widehat{\\theta})}}$ of ${\\color{blue} SE}({\\color{orange} \\widehat{\\theta}})$.\n",
      "* We can then compute an approximate 90% confidence interval: ${\\color{orange} \\widehat{\\theta}} \\pm 1.65 \\times {\\color{orange} \\widehat{ \\text{SE}(\\widehat{\\theta})}}$\n",
      "*  **Caution: if the normal approximation does not hold, then we cannot use these rules for confidence intervals.**\n",
      "  "
     ]
    },
    {
     "cell_type": "heading",
     "level": 3,
     "metadata": {
      "slideshow": {
       "slide_type": "slide"
      }
     },
     "prompt_number": 1,
     "source": [
      "Normal approximation"
     ]
    },
    {
     "cell_type": "markdown",
     "metadata": {},
     "prompt_number": 1,
     "source": [
      "\n",
      "Example\n",
      "\n",
      "Q * Suppose you ask a consultant to estimate the the long run average of the daily sales of your business. By some method, he estimates the sales and tells you: \"*I estimate your long run average of daily sales to be $ 2100 give or take $ 200.*\n",
      "  \" Find a 95% confidence interval for your average daily sales."
     ]
    },
    {
     "cell_type": "heading",
     "level": 3,
     "metadata": {
      "slideshow": {
       "slide_type": "slide"
      }
     },
     "prompt_number": 1,
     "source": [
      "Normal approximation"
     ]
    },
    {
     "cell_type": "markdown",
     "metadata": {},
     "prompt_number": 1,
     "source": [
      "\n",
      "Example\n",
      "\n",
      "A * We do not have enough information yet to determine it the method the consultant used is such that a normal approximation holds. When asked, he tells you \"*My methodology is simple: I just took the sales from yesterday, which were $2100 and figured $200 dollars is a reasonable give or take number*\n",
      "  .\"\n",
      "* Your response:\n",
      "* You\u2019re fired \u2026"
     ]
    },
    {
     "cell_type": "heading",
     "level": 3,
     "metadata": {
      "slideshow": {
       "slide_type": "slide"
      }
     },
     "prompt_number": 1,
     "source": [
      "Normal approximation"
     ]
    },
    {
     "cell_type": "markdown",
     "metadata": {},
     "prompt_number": 1,
     "source": [
      "\n",
      "Example\n",
      "\n",
      "Q * The next consultant you hire gives you an estimate of $ 2050 give or take $ 250 and he assures you that his methodology is such that a normal approximation is reasonable. Find a 95% confidence interval for the long run average daily sales.\n",
      "A * A 95% confidence interval for the long run average daily sales is $\\$ 2050 \\pm 2 \\times \\$ 250.$"
     ]
    },
    {
     "cell_type": "heading",
     "level": 3,
     "metadata": {
      "slideshow": {
       "slide_type": "slide"
      }
     },
     "prompt_number": 1,
     "source": [
      "Gauss model"
     ]
    },
    {
     "cell_type": "markdown",
     "metadata": {},
     "prompt_number": 1,
     "source": [
      "\n",
      "Measurement models and draws from a box\n",
      "\n",
      "* We have seen how to deal with average from a box.\n",
      "* Not all measurements in reality fit this model, so our SE rules do not apply.\n",
      "* Examples:\n",
      "*     * Population of U.S. by year: it is always increasing.\n",
      "      * Daily max temperature in Palo Alto: there is a seasonal trend in it."
     ]
    },
    {
     "cell_type": "heading",
     "level": 3,
     "metadata": {
      "slideshow": {
       "slide_type": "slide"
      }
     },
     "prompt_number": 1,
     "source": [
      "US Population"
     ]
    },
    {
     "cell_type": "markdown",
     "metadata": {},
     "prompt_number": 1,
     "source": [
      "\n",
      "[BBC](http://news.bbc.co.uk/2/hi/6057004.stm)"
     ]
    },
    {
     "cell_type": "heading",
     "level": 3,
     "metadata": {
      "slideshow": {
       "slide_type": "slide"
      }
     },
     "prompt_number": 1,
     "source": [
      "Average Max Temp in Palo Alto"
     ]
    },
    {
     "cell_type": "heading",
     "level": 3,
     "metadata": {
      "slideshow": {
       "slide_type": "slide"
      }
     },
     "prompt_number": 1,
     "source": [
      "Gauss model"
     ]
    },
    {
     "cell_type": "markdown",
     "metadata": {},
     "prompt_number": 1,
     "source": [
      "\n",
      "Gauss model\n",
      "\n",
      "* The Gauss model assume that each measurement has the form ${\\color{orange} \\text{measurement}} = {\\color{blue} \\text{true value}} + {\\color{orange} \\text{chance error}}$\n",
      "* When the Gauss model holds, taking a measurement corresponds to drawing from an  error box\n",
      "   and adding a  true value\n",
      "  .\n",
      "* If the measurement is biased, the Gauss model is ${\\color{orange} \\text{measurement}} = {\\color{blue} \\text{true value}} + {\\color{purple} \\text{bias}} + {\\color{orange} \\text{chance error}}$"
     ]
    },
    {
     "cell_type": "heading",
     "level": 3,
     "metadata": {
      "slideshow": {
       "slide_type": "slide"
      }
     },
     "prompt_number": 1,
     "source": [
      "Gauss model"
     ]
    },
    {
     "cell_type": "markdown",
     "metadata": {},
     "prompt_number": 1,
     "source": [
      "\n",
      "Gauss model\n",
      "\n",
      "* Suppose we observe ${\\color{orange} [X_1, \\dots, X_n]}$ from the Gauss model.\n",
      "* Then, $\\begin{aligned}\n",
      "       E({\\color{orange} \\bar{X}}) &= {\\color{blue} \\text{true value}} \\\\\n",
      "       \\text{SE}({\\color{orange} X_1}) &= \\text{SE}({\\color{orange} \\text{one draw from error box}}) \\\\\n",
      "       \\text{SE}({\\color{orange} \\bar{X}}) &= \\frac{1}{\\sqrt{n}} \\text{SE}({\\color{orange} \\text{one draw from error box}}) \\\\\n",
      "       \\end{aligned}$\n",
      "* A reasonable estimate of $\\text{SE}({\\color{orange} \\bar{X}})$ is ${\\color{orange} \\widehat{SE({\\color{orange} \\bar{X}})}} = \\frac{1}{\\sqrt{n}} \\text{SD}({\\color{orange} [X_1, \\dots, X_n]}).$"
     ]
    },
    {
     "cell_type": "heading",
     "level": 3,
     "metadata": {
      "slideshow": {
       "slide_type": "slide"
      }
     },
     "prompt_number": 1,
     "source": [
      "Gauss model"
     ]
    },
    {
     "cell_type": "markdown",
     "metadata": {},
     "prompt_number": 1,
     "source": [
      "\n",
      "No box, no inference\n",
      "\n",
      "* If you can\u2019t accurately describe your chance process as drawing from a box you can\u2019t use these formulae for SE because they were all based on drawing from a box.\n",
      "* Example: suppose that you have some problem with your computer and instead of inserting the draw from a box only once in your list, it inserts it twice. You draw until you reach a fixed number of elements in the list, say, 100."
     ]
    },
    {
     "cell_type": "heading",
     "level": 3,
     "metadata": {
      "slideshow": {
       "slide_type": "slide"
      }
     },
     "prompt_number": 1,
     "source": [
      "Gauss model"
     ]
    },
    {
     "cell_type": "markdown",
     "metadata": {},
     "prompt_number": 1,
     "source": [
      "\n",
      "Example (continued)\n",
      "\n",
      "* Suppose the box is [1,3,5] and you observe $[1,1,3,3,5,5]$. The usual estimate for the SE for a sum of 6 draws will yield an estimated ${\\color{blue} \\text{SD(box)}}$ of ${\\color{orange} \\widehat{\\text{SD(box)}}} = \\sqrt{\\frac{1}{6} (2 \\times (-2)^2 + 2 \\times 0^2 + 2 \\times 2^2)} = 1.63$\n",
      "* The bootstrap rule for estimating  SE(sum of 6 draws from box)\n",
      "   will yield ${\\color{orange} \\widehat{\\text{SE(sum of 6 draws)}}} = \\sqrt{6} \\times 1.63 = \\sqrt{6} \\times \\sqrt{\\frac{16}{6}} = 4.$"
     ]
    },
    {
     "cell_type": "heading",
     "level": 3,
     "metadata": {
      "slideshow": {
       "slide_type": "slide"
      }
     },
     "prompt_number": 1,
     "source": [
      "Gauss model"
     ]
    },
    {
     "cell_type": "markdown",
     "metadata": {},
     "prompt_number": 1,
     "source": [
      "\n",
      "Example (continued)\n",
      "\n",
      "* ** But**\n",
      "  , the sum of these 6 draws is actually like twice the sum of 3 draws. So its SE is $2 \\times \\sqrt{3} \\times {\\color{blue} \\text{SD(box)}} = 2 \\times \\sqrt{3} \\times \\sqrt{8} = 5.65$ So we will have underestimated the actual SE.\n",
      "* This is not an artifact of only taking 6 draws.\n",
      "* Ignoring the duplicates will yield an estimate that is too small by a factor of $1/\\sqrt{2}$.\n",
      "* The normal approximation will still hold for the sum of draws with duplicates, but we will have the wrong SE.\n",
      "* Our confidence intervals will be too small!"
     ]
    },
    {
     "cell_type": "heading",
     "level": 3,
     "metadata": {
      "slideshow": {
       "slide_type": "slide"
      }
     },
     "prompt_number": 1,
     "source": [
      "Gauss model"
     ]
    },
    {
     "cell_type": "markdown",
     "metadata": {},
     "prompt_number": 1,
     "source": [
      "\n",
      "Standard error estimated in duplicates model"
     ]
    }
   ],
   "metadata": {}
  }
 ]
}
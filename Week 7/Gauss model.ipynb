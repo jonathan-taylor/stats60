{
 "metadata": {
  "name": "",
  "signature": "sha256:286c1efc1b1c15312973b6a043b44f9e0282fc062d50914db998786544857957"
 },
 "nbformat": 3,
 "nbformat_minor": 0,
 "worksheets": [
  {
   "cells": [
    {
     "cell_type": "markdown",
     "metadata": {
      "slideshow": {
       "slide_type": "slide"
      }
     },
     "prompt_number": 1,
     "source": [
      "## Measurement models and draws from a box\n",
      "\n",
      "- We have seen how to deal with average from a box.\n",
      "- Not all measurements in reality fit this model, so our SE rules do not apply.\n",
      "- Examples for which our rule does not apply:\n",
      "     - [Population of U.S.](http://www.census.gov/popclock/) by year: it is always increasing.\n",
      "     - Daily max temperature in Palo Alto: there is a seasonal trend in it."
     ]
    },
    {
     "cell_type": "code",
     "collapsed": false,
     "input": [
      "%%R -h 800 -w 800\n",
      "PA.temp <- read.table('http://stats191.stanford.edu/data/paloaltoT.table', header=F, skip=2)\n",
      "plot(PA.temp[,3], xlab='Day', ylab='Average Max Temp (F)', pch=23, bg='orange')"
     ],
     "language": "python",
     "metadata": {
      "slideshow": {
       "slide_type": "slide"
      }
     },
     "outputs": [],
     "prompt_number": 1
    },
    {
     "cell_type": "markdown",
     "metadata": {
      "slideshow": {
       "slide_type": "slide"
      }
     },
     "prompt_number": 2,
     "source": [
      "## Gauss model\n",
      "\n",
      "- The Gauss model assume that each measurement has the form\n",
      "\n",
      "         measurement = true value + chance error\n",
      "         \n",
      "      \n",
      "- When the Gauss model holds, taking a measurement corresponds to drawing from an  error box and adding a  true value.\n",
      "\n",
      "- If the measurement is biased, the Gauss model is\n",
      "\n",
      "\n",
      "         measurement = bias + true value\n",
      "                       + chance error\n"
     ]
    },
    {
     "cell_type": "markdown",
     "metadata": {
      "slideshow": {
       "slide_type": "slide"
      }
     },
     "prompt_number": 2,
     "source": [
      "## Sampling from the Gauss model\n",
      "\n",
      "- Suppose we observe a sample of $n$ draws $[X_1, \\dots, X_n]$ from the Gauss model.\n",
      "- Then, $$\\begin{aligned}\n",
      "       E(\\bar{X}) &= \\text{true value} \\\\\n",
      "       \\text{SE}(X_1) &= \\text{SE(one draw from error box)} \\\\\n",
      "       \\text{SE}(\\bar{X}) &= \\frac{1}{\\sqrt{n}}  \\text{SE(one draw from error box)}\n",
      "       \\end{aligned}$$\n",
      "- A reasonable estimate of $\\text{SE}(\\bar{X})$ is\n",
      "$$\n",
      "\\text{SE}(\\bar{X}) \\approx \\frac{1}{\\sqrt{n}} \\text{SD}([X_1, \\dots, X_n]).\n",
      "$$"
     ]
    },
    {
     "cell_type": "markdown",
     "metadata": {
      "slideshow": {
       "slide_type": "slide"
      }
     },
     "prompt_number": 2,
     "source": [
      "## No box, no inference\n",
      "\n",
      "- If you can\u2019t accurately describe your chance process as drawing from a box you can\u2019t use these formulae for SE because they were all based on drawing from a box.\n",
      "- Example: suppose that you have some problem with your computer and instead of inserting the draw from a box only once in your list, it inserts it twice. \n",
      "- Suppose the box is [1,3,5,7] and you observe $[1,1,3,3,5,5]$. The usual estimate for the SE for a sum of 6 draws will yield an estimated SD(box) of \n",
      "of \n",
      "$$\\widehat{\\text{SD(box)}} = \\sqrt{\\frac{1}{6} (2 \\times (-2)^2 + 2 \\times 0^2 + 2 \\times 2^2)} = 1.63$$\n",
      "- The bootstrap rule for estimating  SE(sum of 6 draws from box)\n",
      "   will yield $$\\widehat{\\text{SE(sum of 6 draws)}} = \\sqrt{6} \\times 1.63 = \\sqrt{6} \\times \\sqrt{\\frac{16}{6}} = 4.$$"
     ]
    },
    {
     "cell_type": "markdown",
     "metadata": {
      "slideshow": {
       "slide_type": "slide"
      }
     },
     "prompt_number": 2,
     "source": [
      "## Example (continued)\n",
      "\n",
      "- **But**, the sum of these 6 draws is actually like twice the sum of 3 draws. So its SE is $$2 \\times \\sqrt{3} \\times  \\text{SD(box)} = 2 \\times \\sqrt{3} \\times \\sqrt{8} = 5.65$$\n",
      "- So we will have underestimated the actual SE.\n",
      "- This is not an artifact of only taking 6 draws.\n",
      "- Ignoring the duplicates will yield an estimate that is too small by a factor of $1/\\sqrt{2}$.\n",
      "- The normal approximation will still hold for the sum of draws with duplicates, but we will have the wrong SE.\n",
      "- Our confidence intervals will be too small!"
     ]
    },
    {
     "cell_type": "code",
     "collapsed": false,
     "input": [],
     "language": "python",
     "metadata": {},
     "outputs": [],
     "prompt_number": 2
    }
   ],
   "metadata": {}
  }
 ]
}
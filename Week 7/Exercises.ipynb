{
 "metadata": {
  "name": "",
  "signature": "sha256:a01f8c7e8d08f48e2ab554a8e23a761828d2648d0c10719a10398812b6f9361a"
 },
 "nbformat": 3,
 "nbformat_minor": 0,
 "worksheets": [
  {
   "cells": [
    {
     "cell_type": "markdown",
     "metadata": {},
     "prompt_number": 1,
     "source": [
      "# Chapter 23\n",
      "\n",
      "## Like 23.A.9\n",
      "\n",
      "Two hundred draws are made at random with replacement from [3,4,4,5]. True or False. Explain.\n",
      "\n",
      "1. The expected value for the average of the draws is exactly 4.\n",
      "\n",
      "             True, the average of the box is 4.\n",
      "\n",
      "2. The expected value for the average of the draws is around 4, give or take\n",
      "0.05 or so.\n",
      "\n",
      "              False. The expected value of the average is not random so \n",
      "              there is no \"give or take.\"\n",
      "\n",
      "3. The average of the draws will be around 4, give or take 0.05 or so.\n",
      "\n",
      "               True. The expected value is 4, and the SE is 0.05.\n",
      "\n",
      "4. The average of the draws will be exactly 4.\n",
      "\n",
      "               False. The average of the draws is a chance process, it\n",
      "               will not be exactly 4.\n",
      "\n",
      "5. The average of the box is exactly 4.\n",
      "\n",
      "               True.\n",
      "\n",
      "6. The average of the box is around 4, give or take 0.05 or so.\n",
      "\n",
      "               False. The average of the box is not random."
     ]
    },
    {
     "cell_type": "code",
     "collapsed": false,
     "input": [
      "se_200 = std([3,4,4,5]) / sqrt(200)\n",
      "se_200"
     ],
     "language": "python",
     "metadata": {},
     "outputs": [],
     "prompt_number": 1
    },
    {
     "cell_type": "markdown",
     "metadata": {},
     "prompt_number": 2,
     "source": [
      "## Like 23.A.10\n",
      "\n",
      "The figure below is a probability histogrm for the sum of 25 draws from the box [2,3,4]. However, an investigator needs the probability\n",
      "histogram for the average of these draws, by midnight. A research\n",
      "assistant sys, \"There's nothing to it. All we have to do is change the\n",
      "numbers on the horizontal axis.\" Is that right? If so, the\n",
      "assistant should change 65 to $\\bbox[5px,border:2px solid red]{ }$,\n",
      "75 to $\\bbox[5px,border:2px solid red]{ }$ and 80 to $\\bbox[5px,border:2px solid red]{ }$."
     ]
    },
    {
     "cell_type": "code",
     "collapsed": false,
     "input": [
      "box = [2,3,4]\n",
      "ax = probability_histogram(SumIntegerRV([0,0,1/3.,1/3.,1/3.], 25))[0]\n",
      "ax.set_xlabel('Value of the sum')"
     ],
     "language": "python",
     "metadata": {},
     "outputs": [],
     "prompt_number": 2
    },
    {
     "cell_type": "markdown",
     "metadata": {},
     "prompt_number": 3,
     "source": [
      "## Like 23.C.4\n",
      "\n",
      "Forty draws are made at random with replacement from the box [2,3,4,6].\n",
      "Fill in the blanks with a word or phrase: the SE for the\n",
      "$\\bbox[5px,border:2px solid red]{  }$ is 9.4, and the SE for the\n",
      "$\\bbox[5px,border:2px solid red]{ }$ is 0.23.\n",
      "\n",
      "What is the expected value of the sum of the draws?"
     ]
    },
    {
     "cell_type": "markdown",
     "metadata": {},
     "prompt_number": 3,
     "source": [
      "## 23.B.6\n",
      "\n",
      "A university has 30,000 registered students. As part of a survey, 900 of these students are chosen at random. The average age of the sample students\n",
      "turns out to be 22.3 years, and the SD is 4.5 years.\n",
      "\n",
      "1. The average age of all 30,000 students is estimated as $\\bbox[5px,border:2px solid red]{  }$  . This estimate is likely to be off by $\\bbox[5px,border:2px solid red]{  }$  or so.\n",
      "\n",
      "2. Find a 95% confidence interval for the average age of all 30,000 registered students."
     ]
    },
    {
     "cell_type": "markdown",
     "metadata": {},
     "source": [
      "## Like 23.5.6 \n",
      "\n",
      "The NAEP periodically administers tests on different subjects to high school\n",
      "students. In 2000, the grade 12 students in the sample averaged 301 on the\n",
      "mathematics test, the SD was 30. The likely size of the chance error\n",
      "in the 301 is about $\\bbox[5px,border:2px solid red]{}$.\n",
      "\n",
      "1. Can you fill in the blank if a simple random sample of 1,000 students was tested? If so, what is the answer? If not, why not?\n",
      "\n",
      "          Yes, we can fill it in. The SE is 30 / sqrt(1000).\n",
      "          \n",
      "2. Can you fill in the blank if a cluster sample of 1,000 students was tested (Cluster sampling is a different type of sampling described in Chapter 22). If so, what is the answer? If not, why not?\n",
      "\n",
      "          Because cluster sampling is not the same as simple random sampling,\n",
      "          our SE formula might not apply. We cannot fill in the blank.\n",
      "          "
     ]
    },
    {
     "cell_type": "markdown",
     "metadata": {},
     "prompt_number": 3,
     "source": [
      "## 23.5.12\n",
      "\n",
      "One term at the University of California, Berkeley, 400 students\n",
      "took the final in Statistics 2. Their scores averaged 65.3 out of 100, and the SD was 25. Now,\n",
      "$$\n",
      "\\sqrt{400} \\times 25 = 500, \\qquad 500/400 = 1.25.\n",
      "$$\n",
      "Is $65.3 \\pm 2.5$ a 95% confidence interval? If so, for what? If not, why not?"
     ]
    },
    {
     "cell_type": "markdown",
     "metadata": {},
     "source": [
      "## 24.B.2\n",
      "\n",
      "In San Francisco, it rains on about 17% of the days in an average year.\n",
      "Someone proposes the following chance model for the sequence of dry\n",
      "and rainy days: draw with replacement from a box containing\n",
      "one card marked \"rainy\" and five cards marked \"dry\". Is this a good model?"
     ]
    },
    {
     "cell_type": "markdown",
     "metadata": {},
     "source": [
      "## 24.C.5\n",
      "\n",
      "The Bureau is about to weigh a one-kilogram checkweight 100 times,\n",
      "and take the average of the measurements. They are willing to assume\n",
      "the Gauss model, with no bias, and on the basis of past experience\n",
      "they estimate the SD of the error box to be 50 micrograms.\n",
      "\n",
      "1. The average of all 100 measurements is likely to be off the exact\n",
      "weight by $\\bbox[5px,border:2px solid red]{  }$  or so.\n",
      "\n",
      "2. The SD of all 100 measurements is likely to be around $\\bbox[5px,border:2px solid red]{  }$ .\n",
      "\n",
      "3. Estimate the probability that the average of all 100 measurements\n",
      "will be within 10 micrograms of the exact weight."
     ]
    },
    {
     "cell_type": "markdown",
     "metadata": {},
     "source": [
      "## 24.5.6\n",
      "\n",
      "In 2005, the average of the daily maximum temperature at San Francisco airport was 65.8 degrees, and the SD was 7.0 degrees. Now,\n",
      "$$\n",
      "\\sqrt{365} \\times 7.0 \\approx 134, \\qquad 134 / 365 \\approx 0.4.\n",
      "$$\n",
      "True or false: a 95% confidence interval for the average daily maximum temperature at San Francisco airport is $65.8 \\pm 0.8$ degrees. Explain briefly."
     ]
    },
    {
     "cell_type": "markdown",
     "metadata": {},
     "source": [
      "## Like 24.5.9\n",
      "\n",
      "A machine makes chocolate bars whose average weight is 4.0 ounces, the SD of the weights is 0.1 ounces. There is no trend or pattern in the data.\n",
      "There are 2 bars to a box.\n",
      "\n",
      "1. A package weighs $\\bbox[5px,border:2px solid red]{  }$  give or take $\\bbox[5px,border:2px solid red]{  }$  or so.\n",
      "\n",
      "2. A store buys 100 packages. Estimate the chance taht they get 50 pounds of chocolate, to within 2 ounces."
     ]
    },
    {
     "cell_type": "code",
     "collapsed": false,
     "input": [],
     "language": "python",
     "metadata": {},
     "outputs": [],
     "prompt_number": 3
    }
   ],
   "metadata": {}
  }
 ]
}
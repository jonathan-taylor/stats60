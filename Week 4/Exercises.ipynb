{
 "metadata": {
  "name": "",
  "signature": "sha256:088e7b90a5ad62b4018a7b4462b61959d171b679d16686a3eeda0b5889e4be27"
 },
 "nbformat": 3,
 "nbformat_minor": 0,
 "worksheets": [
  {
   "cells": [
    {
     "cell_type": "markdown",
     "metadata": {},
     "source": [
      "# Chapter 13\n",
      "\n",
      "## Like 13.6.5\n",
      "\n",
      "One item will be drawn from the following box. Each item has a color and a number \n",
      "associated to it."
     ]
    },
    {
     "cell_type": "code",
     "collapsed": false,
     "input": [
      "box = [('Red', 1), ('Red', 2), ('Red', 3), ('Green', 1), ('Green', 2), ('Green', 3)]"
     ],
     "language": "python",
     "metadata": {},
     "outputs": [],
     "prompt_number": 1
    },
    {
     "cell_type": "markdown",
     "metadata": {},
     "source": [
      "Are color and number independent?\n",
      "\n",
      "What about the following box?"
     ]
    },
    {
     "cell_type": "code",
     "collapsed": false,
     "input": [
      "other_box = [('Red', 1), ('Red', 2), ('Red', 4), ('Green', 1), ('Green', 2), ('Green', 3)]"
     ],
     "language": "python",
     "metadata": {},
     "outputs": [],
     "prompt_number": 2
    },
    {
     "cell_type": "markdown",
     "metadata": {},
     "source": [
      "## Like 13.6.8\n",
      "\n",
      "A die is rolled 5 times. What is the chance that --\n",
      "\n",
      "1. All rolls have 2 or more spots?\n",
      "\n",
      "2. None of the rolls show exactly 5 spots?\n",
      "\n",
      "3. Not all the rolls show 2 or more spots?"
     ]
    },
    {
     "cell_type": "markdown",
     "metadata": {},
     "source": [
      "## 13.6.10\n",
      "\n",
      "Which of the two options is better, or are they the same?\n",
      "\n",
      "1. You toss a coin 100 times. On each toss, if the coin lands heads\n",
      "you win 1\\$. If it lands tails, you lose 1\\$.\n",
      "\n",
      "2. You draw 100 times with replacement from the box `[0,1]`. On each draw, \n",
      "you are paid (in dollars) the number on the ticket."
     ]
    }
   ],
   "metadata": {}
  }
 ]
}
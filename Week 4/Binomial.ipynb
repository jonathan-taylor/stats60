{
 "metadata": {
  "celltoolbar": "Slideshow",
  "name": "",
  "signature": "sha256:31b58d5a8d8230c9a0e560467eb6c3e48dd567a7e0eea0ae9644c103bb892a99"
 },
 "nbformat": 3,
 "nbformat_minor": 0,
 "worksheets": [
  {
   "cells": [
    {
     "cell_type": "markdown",
     "metadata": {
      "slideshow": {
       "slide_type": "slide"
      }
     },
     "prompt_number": 1,
     "source": [
      "# Binomial (Chapter 15)\n",
      "\n",
      "In this chapter, we talk about tools and tricks for counting in probability \n",
      "calculations."
     ]
    },
    {
     "cell_type": "markdown",
     "metadata": {
      "slideshow": {
       "slide_type": "fragment"
      }
     },
     "prompt_number": 1,
     "source": [
      "## Box with 4 red balls\n",
      "\n",
      "Here is our usual box."
     ]
    },
    {
     "cell_type": "code",
     "collapsed": false,
     "input": [
      "from IPython.core.display import HTML\n",
      "unlabelled = marbles._html_box(['R','R','R', 'R'], grid=(2,2))\n",
      "labelled = marbles._html_box([marbles.numbered_marble('red',i) for i in range(1,5)], \n",
      "                             grid=(2,2))"
     ],
     "language": "python",
     "metadata": {
      "slideshow": {
       "slide_type": "skip"
      }
     },
     "outputs": [],
     "prompt_number": 1
    },
    {
     "cell_type": "code",
     "collapsed": false,
     "input": [
      "HTML(unlabelled)"
     ],
     "language": "python",
     "metadata": {
      "slideshow": {
       "slide_type": "slide"
      }
     },
     "outputs": [],
     "prompt_number": 2
    },
    {
     "cell_type": "markdown",
     "metadata": {
      "slideshow": {
       "slide_type": "slide"
      }
     },
     "prompt_number": 3,
     "source": [
      "In reality, these balls are actually different.\n",
      "\n",
      "Let's emphasize this by putting numbers on them."
     ]
    },
    {
     "cell_type": "code",
     "collapsed": false,
     "input": [
      "HTML(labelled)"
     ],
     "language": "python",
     "metadata": {
      "slideshow": {
       "slide_type": "fragment"
      }
     },
     "outputs": [],
     "prompt_number": 3
    },
    {
     "cell_type": "markdown",
     "metadata": {
      "slideshow": {
       "slide_type": "fragment"
      }
     },
     "prompt_number": 4,
     "source": [
      "Suppose we draw all 4 balls from this box without replacement and record the numbers on the balls.\n",
      "\n",
      "How many ways of doing this are there?"
     ]
    },
    {
     "cell_type": "code",
     "collapsed": false,
     "input": [
      "from itertools import permutations, combinations\n",
      "values = []\n",
      "for comb in permutations(range(1,5), 4):\n",
      "    values += [marbles.numbered_marble('red', i) for i in comb] \n",
      "\n",
      "orderings = marbles._html_box(values, grid=(24,4))"
     ],
     "language": "python",
     "metadata": {
      "slideshow": {
       "slide_type": "skip"
      }
     },
     "outputs": [],
     "prompt_number": 4
    },
    {
     "cell_type": "code",
     "collapsed": false,
     "input": [
      "HTML(orderings)\n"
     ],
     "language": "python",
     "metadata": {
      "slideshow": {
       "slide_type": "slide"
      }
     },
     "outputs": [],
     "prompt_number": 5
    },
    {
     "cell_type": "markdown",
     "metadata": {
      "slideshow": {
       "slide_type": "fragment"
      }
     },
     "prompt_number": 6,
     "source": [
      "\n",
      "There are 24 possible ways to order the 4 balls."
     ]
    },
    {
     "cell_type": "markdown",
     "metadata": {
      "slideshow": {
       "slide_type": "slide"
      }
     },
     "prompt_number": 6,
     "source": [
      "## Binomial formula\n",
      "\n",
      "### Counting the ways of ordering the balls\n",
      " \n",
      "We arrive at 24 as follows:\n",
      "- Draw 1: There are 4 choices.\n",
      "- Draw 2: There are 3 choices.\n",
      "- Draw 3: There are 2 choices.\n",
      "- Draw 4: There is only one choice.\n",
      "\n",
      "Therefore, there are $4 \\times 3 \\times 2 \\times 1 = 24$ ways of ordering the balls."
     ]
    },
    {
     "cell_type": "markdown",
     "metadata": {
      "slideshow": {
       "slide_type": "slide"
      }
     },
     "prompt_number": 6,
     "source": [
      "## Factorial\n",
      "\n",
      "For an integer, $n$ its *factorial* is \n",
      "$$n! = n \\times (n-1) \\times (n-2) \\times \\dots \\times 3 \\times 2 \\times 1.$$\n",
      "\n",
      "Example: $5! = 5 \\times 4 \\times 3 \\times 2 \\times 1 = 120$.\n",
      "\n",
      "** There are $n!$ orderings of $n$ distinct objects.**"
     ]
    },
    {
     "cell_type": "heading",
     "level": 3,
     "metadata": {
      "slideshow": {
       "slide_type": "slide"
      }
     },
     "prompt_number": 6,
     "source": [
      "Box with 4 red balls"
     ]
    },
    {
     "cell_type": "code",
     "collapsed": false,
     "input": [
      "HTML(labelled)"
     ],
     "language": "python",
     "metadata": {
      "slideshow": {
       "slide_type": "fragment"
      }
     },
     "outputs": [],
     "prompt_number": 6
    },
    {
     "cell_type": "markdown",
     "metadata": {
      "slideshow": {
       "slide_type": "slide"
      }
     },
     "prompt_number": 7,
     "source": [
      "What if we only draw two balls?"
     ]
    },
    {
     "cell_type": "code",
     "collapsed": false,
     "input": [
      "values = []\n",
      "for comb in permutations(range(1,5), 2):\n",
      "    values += [marbles.numbered_marble('red', i) for i in comb] \n",
      "\n",
      "draw_two_ordered = marbles._html_box(values, grid=(12,2))"
     ],
     "language": "python",
     "metadata": {
      "slideshow": {
       "slide_type": "skip"
      }
     },
     "outputs": [],
     "prompt_number": 7
    },
    {
     "cell_type": "code",
     "collapsed": false,
     "input": [
      "HTML(draw_two_ordered)"
     ],
     "language": "python",
     "metadata": {
      "slideshow": {
       "slide_type": "fragment"
      }
     },
     "outputs": [],
     "prompt_number": 8
    },
    {
     "cell_type": "markdown",
     "metadata": {
      "slideshow": {
       "slide_type": "fragment"
      }
     },
     "prompt_number": 9,
     "source": [
      "\n",
      "There are 12 possible ways to draw two balls in order."
     ]
    },
    {
     "cell_type": "markdown",
     "metadata": {
      "slideshow": {
       "slide_type": "slide"
      }
     },
     "prompt_number": 9,
     "source": [
      "## Counting the ways of ordering the balls\n",
      "\n",
      "We arrive at 12 as follows:\n",
      "- Draw 1: There are 4 choices.\n",
      "- Draw 2: There are 3 choices.\n",
      "\n",
      "Hence, there are $$4 \\times 3 = 12 = 4! / 2!$$ ways of ordering the balls."
     ]
    },
    {
     "cell_type": "markdown",
     "metadata": {
      "slideshow": {
       "slide_type": "slide"
      }
     },
     "prompt_number": 9,
     "source": [
      "## Drawing $k$ balls out of $n$, in order\n",
      "\n",
      "The number of ways of drawing $k$ balls without replacement (in order) from $n$ is $$\\frac{n!}{(n-k)!}$$\n",
      "\n",
      "Example: the number of ways of choosing 5 balls from 7 in order is \n",
      "$$\\frac{7!}{ 5!} = 7 \\times 6 = 42.$$"
     ]
    },
    {
     "cell_type": "heading",
     "level": 3,
     "metadata": {
      "slideshow": {
       "slide_type": "slide"
      }
     },
     "prompt_number": 9,
     "source": [
      "Box with 4 red balls"
     ]
    },
    {
     "cell_type": "code",
     "collapsed": false,
     "input": [
      "values = []\n",
      "for comb in combinations(range(1,5), 2):\n",
      "    values += [marbles.numbered_marble('red', i) for i in comb] \n",
      "\n",
      "draw_two_unordered = marbles._html_box(values, grid=(12,2))"
     ],
     "language": "python",
     "metadata": {
      "slideshow": {
       "slide_type": "skip"
      }
     },
     "outputs": [],
     "prompt_number": 9
    },
    {
     "cell_type": "code",
     "collapsed": false,
     "input": [
      "HTML(draw_two_unordered)"
     ],
     "language": "python",
     "metadata": {
      "slideshow": {
       "slide_type": "fragment"
      }
     },
     "outputs": [],
     "prompt_number": 10
    },
    {
     "cell_type": "markdown",
     "metadata": {
      "slideshow": {
       "slide_type": "fragment"
      }
     },
     "prompt_number": 11,
     "source": [
      "\n",
      "There are 6 possible ways to draw two balls ignoring order."
     ]
    },
    {
     "cell_type": "markdown",
     "metadata": {
      "slideshow": {
       "slide_type": "slide"
      }
     },
     "prompt_number": 11,
     "source": [
      "## Counting \n",
      "\n",
      "We arrive at 6 as follows:\n",
      "- Draw 1: There are 4 choices.\n",
      "- Draw 2: There are 3 choices.\n",
      "\n",
      "### Ignoring order \n",
      "\n",
      "When we ignore the order, each possible unordered draw of 2 corresponds to 2! ordered draws.\n",
      "Hence, there are $$\\frac{4 \\times 3}{ 2!} = \\frac{12}{2} = 6$$ ways of drawing 2 balls out of 4, ignoring order."
     ]
    },
    {
     "cell_type": "markdown",
     "metadata": {
      "slideshow": {
       "slide_type": "slide"
      }
     },
     "prompt_number": 11,
     "source": [
      "## Binomial coefficient\n",
      "\n",
      "The number of ways of drawing $k$ balls without replacement and ignoring order from $n$ is \n",
      "$$\\frac{n!}{k! \\times (n-k)!}$$\n",
      "\n",
      "Example: the number of ways of choosing 5 balls from 7 ignoring order is \n",
      "$$\\frac{7!}{5! 2!} = \\frac{7 \\times 6 }{2}  = 21.$$\n",
      "\n",
      "We define the **binomial coefficient** as\n",
      "$$\\binom{n}{k} = \\binom{n}{n-k} \\frac{n!}{k! \\times (n-k)!}.$$"
     ]
    },
    {
     "cell_type": "markdown",
     "metadata": {
      "slideshow": {
       "slide_type": "slide"
      }
     },
     "prompt_number": 11,
     "source": [
      "### Example\n",
      "\n",
      "- When flipping a coin 10 times, how many outcomes are there with 7 heads?\n",
      "\n",
      "- We can represent this as drawing 7 out of a possible 10 slots for the heads, without order. There are $\\binom{10}{7} = \\frac{10 \\times 9 \\times 8}{3 \\times 2 \\times 1} = 120 \\\n",
      "     \\text{outcomes}$"
     ]
    },
    {
     "cell_type": "markdown",
     "metadata": {
      "slideshow": {
       "slide_type": "slide"
      }
     },
     "prompt_number": 11,
     "source": [
      "## Example \n",
      "\n",
      "- What are the chances when flipping a coin 10 times that there are 7 heads?\n",
      "\n",
      "- We know that there are 120 such outcomes and each has probability $(1/2)^{10}$ (Why?). \n",
      "\n",
      "- The chances are therefore $120 \\times \\left(\\frac{1}{2} \\right)^{10} \\approx 11 \\%.$"
     ]
    },
    {
     "cell_type": "markdown",
     "metadata": {
      "slideshow": {
       "slide_type": "slide"
      }
     },
     "prompt_number": 11,
     "source": [
      "## Example\n",
      "\n",
      "When rolling a fair die 20 times, what are the chances that you will roll exactly 5 1s?"
     ]
    },
    {
     "cell_type": "code",
     "collapsed": false,
     "input": [
      "five_ones = '''\n",
      "<table>\n",
      "<tr>%s</tr>\n",
      "</table>''' % ' '.join(['<td>%s</td>' % dice.die_html(1, height=100, width=100)]*5)\n"
     ],
     "language": "python",
     "metadata": {
      "slideshow": {
       "slide_type": "skip"
      }
     },
     "outputs": [],
     "prompt_number": 11
    },
    {
     "cell_type": "code",
     "collapsed": false,
     "input": [
      "HTML(five_ones)"
     ],
     "language": "python",
     "metadata": {
      "slideshow": {
       "slide_type": "fragment"
      }
     },
     "outputs": [],
     "prompt_number": 12
    },
    {
     "cell_type": "markdown",
     "metadata": {
      "slideshow": {
       "slide_type": "fragment"
      }
     },
     "prompt_number": 13,
     "source": [
      "- There are $\\binom{20}{5} = 15504$ such outcomes (use a calculator). \n",
      "\n",
      "- Each outcome has probability $$\\left(\\frac{1}{6} \\right)^5 \\left(\\frac{5}{6}\\right)^{15}.$$\n",
      "\n",
      "- Therefore, the chances are \n",
      "$$\\binom{20}{5} \\left(\\frac{1}{6} \\right)^5 \\left(\\frac{5}{6} \\right)^{15} \\approx 13\\%.$$"
     ]
    },
    {
     "cell_type": "markdown",
     "metadata": {
      "slideshow": {
       "slide_type": "slide"
      }
     },
     "prompt_number": 13,
     "source": [
      "## Independent trials\n",
      "\n",
      "1. A **trial**  is an experiment with two possible outcomes:  **success**\n",
      "    or  **failure**.\n",
      "2. The same experiment is repeated *independently*.\n",
      "3. Each time the experiment is repeated, the chances of success are the same: $p$."
     ]
    },
    {
     "cell_type": "markdown",
     "metadata": {
      "slideshow": {
       "slide_type": "slide"
      }
     },
     "prompt_number": 13,
     "source": [
      "## Binomial formula for computing probabilities\n",
      "\n",
      "When performing $n$ independent trials, each with probability of success $p$, the probability of observing exactly $k$ successes is \n",
      "$$\\binom{n}{ k} { p^k} {(1-p)^ {n-k}}.$$"
     ]
    },
    {
     "cell_type": "markdown",
     "metadata": {},
     "prompt_number": 13,
     "source": [
      "## Roulette\n",
      "\n",
      "<img src=\"http://introductorystats.files.wordpress.com/2010/11/roulette-wheel.jpg\">\n",
      "\n",
      "Source: http://introductorystats.wordpress.com."
     ]
    },
    {
     "cell_type": "markdown",
     "metadata": {
      "slideshow": {
       "slide_type": "slide"
      }
     },
     "prompt_number": 13,
     "source": [
      "## Example\n",
      "\n",
      "- Suppose we bet on  5\n",
      "   for 6 spins of the roulette wheel. \n",
      "   \n",
      "- What are the chances we win exactly 3 times?\n",
      "\n",
      "1. Make a box model.\n",
      "2. For your box, compute the probability of success of each trial. Call this $p$.\n",
      "3.  **The answer is $\\binom{6}{3} p^3 (1-p)^3.$**"
     ]
    },
    {
     "cell_type": "code",
     "collapsed": false,
     "input": [
      "roulette.five"
     ],
     "language": "python",
     "metadata": {
      "slideshow": {
       "slide_type": "fragment"
      }
     },
     "outputs": [],
     "prompt_number": 13
    },
    {
     "cell_type": "code",
     "collapsed": false,
     "input": [
      "roulette.five.mass_function"
     ],
     "language": "python",
     "metadata": {
      "slideshow": {
       "slide_type": "fragment"
      }
     },
     "outputs": [],
     "prompt_number": 14
    },
    {
     "cell_type": "code",
     "collapsed": false,
     "input": [
      "p = roulette.five.mass_function[True]\n",
      "6*5*4 / (3*2*1) * p**3 * (1 - p)**3"
     ],
     "language": "python",
     "metadata": {
      "slideshow": {
       "slide_type": "slide"
      }
     },
     "outputs": [],
     "prompt_number": 15
    },
    {
     "cell_type": "markdown",
     "metadata": {
      "slideshow": {
       "slide_type": "slide"
      }
     },
     "prompt_number": 16,
     "source": [
      "## Filling in the details\n",
      "\n",
      "- From the box model, we see that $p = \\frac{1}{38}$\n",
      "- The answer is $$\\binom{6}{3} \\times \\left(\\frac{1}{38}\\right)^3 \\times \\left( \\frac{37}{38} \\right)^3 \\approx 0.03\\%$$\n",
      "- We could ask the chances of any number of successes."
     ]
    },
    {
     "cell_type": "code",
     "collapsed": false,
     "input": [
      "roulette.sixplays_five.mass_function"
     ],
     "language": "python",
     "metadata": {
      "slideshow": {
       "slide_type": "fragment"
      }
     },
     "outputs": [],
     "prompt_number": 16
    },
    {
     "cell_type": "code",
     "collapsed": false,
     "input": [],
     "language": "python",
     "metadata": {},
     "outputs": [],
     "prompt_number": 17
    },
    {
     "cell_type": "markdown",
     "metadata": {
      "slideshow": {
       "slide_type": "slide"
      }
     },
     "prompt_number": 18,
     "source": [
      "## Example\n",
      "\n",
      " Suppose we bet on  RED\n",
      " for 8 spins of the roulette wheel. What are the chances we win exactly 2 times?\n"
     ]
    },
    {
     "cell_type": "code",
     "collapsed": false,
     "input": [
      "roulette.red"
     ],
     "language": "python",
     "metadata": {
      "slideshow": {
       "slide_type": "fragment"
      }
     },
     "outputs": [],
     "prompt_number": 18
    },
    {
     "cell_type": "markdown",
     "metadata": {
      "slideshow": {
       "slide_type": "slide"
      }
     },
     "prompt_number": 19,
     "source": [
      "## Filling in the details\n",
      "\n",
      "- From the box model, we see that $p = \\frac{18}{38}$\n",
      "- **The answer is** $$\\binom{8}{2} \\times \\left(\\frac{18}{38}\\right)^2 \\times \\left( \\frac{20}{38} \\right)^6 \\approx 13\\%$$"
     ]
    },
    {
     "cell_type": "code",
     "collapsed": false,
     "input": [
      "roulette.eightplays_red.mass_function[2]"
     ],
     "language": "python",
     "metadata": {
      "slideshow": {
       "slide_type": "fragment"
      }
     },
     "outputs": [],
     "prompt_number": 19
    },
    {
     "cell_type": "markdown",
     "metadata": {
      "slideshow": {
       "slide_type": "slide"
      }
     },
     "prompt_number": 20,
     "source": [
      "## Eight bets on red continued\n",
      "\n",
      "- Suppose we bet on  RED\n",
      "   for 8 spins of the roulette wheel. What are the chances we win less than or equal to 2 times?\n",
      "- To win less than or equal to 2 times, we can win 0, 1 or 2 times. These events are mutually exclusive. So the chances are \n",
      "$$\\begin{aligned}\n",
      "\\text{chances we win 2 or less times} &=    \\binom{8}{2} \\times \\left(\\frac{18}{38}\\right)^2 \\times \\left( \\frac{20}{38} \\right)^6\\\\\n",
      "     & + \\ \\binom{8}{1} \\times \\left(\\frac{18}{38}\\right)^1 \\times \\left( \\frac{20}{38} \\right)^7 \\\\\n",
      "     & + \\ \\binom{8}{0} \\times \\left(\\frac{18}{38}\\right)^0 \\times \\left( \\frac{20}{38} \\right)^8 \\\\\n",
      "     & \\approx 18 \\%\n",
      "     \\end{aligned}$$"
     ]
    },
    {
     "cell_type": "code",
     "collapsed": false,
     "input": [
      "E = roulette.eightplays_red\n",
      "E.mass_function[0] + E.mass_function[1] + E.mass_function[2]"
     ],
     "language": "python",
     "metadata": {
      "slideshow": {
       "slide_type": "fragment"
      }
     },
     "outputs": [],
     "prompt_number": 20
    },
    {
     "cell_type": "heading",
     "level": 3,
     "metadata": {
      "slideshow": {
       "slide_type": "slide"
      }
     },
     "prompt_number": 21,
     "source": [
      "Box model for winnings"
     ]
    },
    {
     "cell_type": "markdown",
     "metadata": {},
     "prompt_number": 21,
     "source": [
      "\n",
      "Betting 10$ on  RED\n",
      ": win 10$ with probability 9/19."
     ]
    },
    {
     "cell_type": "heading",
     "level": 3,
     "metadata": {
      "slideshow": {
       "slide_type": "slide"
      }
     },
     "prompt_number": 21,
     "source": [
      "Binomial formula"
     ]
    },
    {
     "cell_type": "markdown",
     "metadata": {},
     "prompt_number": 21,
     "source": [
      "\n",
      "Drawing without replacement\n",
      "\n",
      "Q * Suppose we go back to Box # 1 with 30 blue balls and 20 red balls. When drawing 5 balls without replacement, what are the chances that we draw 3 red balls?\n",
      "A * Let\u2019s count the number of subsets of size 5 of the balls with exactly 3 red balls in them. Call this number $N$. The answer is then $\\frac{N}{\\text{number of subsets of size 5 from 50 balls}} = \\frac{N}{\\binom{50}{5}}$"
     ]
    },
    {
     "cell_type": "heading",
     "level": 3,
     "metadata": {
      "slideshow": {
       "slide_type": "slide"
      }
     },
     "prompt_number": 21,
     "source": [
      "Box # 1: 30 blue, 20 red"
     ]
    },
    {
     "cell_type": "heading",
     "level": 3,
     "metadata": {
      "slideshow": {
       "slide_type": "slide"
      }
     },
     "prompt_number": 21,
     "source": [
      "Box # 1: 30 blue, 20 red"
     ]
    },
    {
     "cell_type": "markdown",
     "metadata": {},
     "prompt_number": 21,
     "source": [
      "\n",
      "Let\u2019s number the balls to emphasize they\u2019re distinct."
     ]
    },
    {
     "cell_type": "heading",
     "level": 3,
     "metadata": {
      "slideshow": {
       "slide_type": "slide"
      }
     },
     "prompt_number": 21,
     "source": [
      "Binomial formula"
     ]
    },
    {
     "cell_type": "markdown",
     "metadata": {},
     "prompt_number": 21,
     "source": [
      "\n",
      "Drawing without replacement\n",
      "\n",
      "Step 1 * There are ${\\color{red} \\binom{20}{3}}$ ways of choosing 3 of the red balls, i.e. 3 of the balls numbered 31 to 50.\n",
      "Step 2 * There are ${\\color{blue} \\binom{30}{2}}$ ways of choosing 2 of the blue balls, i.e. 2 of the balls numbered 1 to 30.\n",
      "Step 3 * The answer is $\\frac{{\\color{red} \\binom{20}{3}}{\\color{blue} \\binom{30}{2}}}{\\binom{50}{5}} \\approx  23\\%$"
     ]
    }
   ],
   "metadata": {}
  }
 ]
}
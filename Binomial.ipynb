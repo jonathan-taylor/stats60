{
 "metadata": {
  "name": ""
 },
 "nbformat": 3,
 "nbformat_minor": 0,
 "worksheets": [
  {
   "cells": [
    {
     "cell_type": "heading",
     "level": 3,
     "metadata": {
      "slideshow": {
       "slide_type": "slide"
      }
     },
     "prompt_number": 2,
     "source": [
      "Box with 4 red balls"
     ]
    },
    {
     "cell_type": "heading",
     "level": 3,
     "metadata": {
      "slideshow": {
       "slide_type": "slide"
      }
     },
     "prompt_number": 3,
     "source": [
      "Box with 4 red balls"
     ]
    },
    {
     "cell_type": "markdown",
     "metadata": {},
     "prompt_number": 4,
     "source": [
      "\n",
      "There are 24 possible ways to order the 4 balls."
     ]
    },
    {
     "cell_type": "heading",
     "level": 3,
     "metadata": {
      "slideshow": {
       "slide_type": "slide"
      }
     },
     "prompt_number": 4,
     "source": [
      "Binomial formula"
     ]
    },
    {
     "cell_type": "markdown",
     "metadata": {},
     "prompt_number": 4,
     "source": [
      "\n",
      "Counting the ways of ordering the balls\n",
      " We arrive at 24 as follows:\n",
      "Draw 1 * There are 4 choices.\n",
      "Draw 2 * There are 3 choices.\n",
      "Draw 3 * There are 2 choices.\n",
      "Draw 4 * There is only one choice.\n",
      "Hence, there are $4 \\times 3 \\times 2 \\times 1 = 24$ ways of ordering the balls.\n",
      "Factorial\n",
      "\n",
      "For an integer, $n$ $n! = n \\times (n-1) \\times (n-2) \\times \\dots \\times 3 \\times 2 \\times 1.$\n",
      "Example: $5! = 5 \\times 4 \\times 3 \\times 2 \\times 1 = 120$."
     ]
    },
    {
     "cell_type": "heading",
     "level": 3,
     "metadata": {
      "slideshow": {
       "slide_type": "slide"
      }
     },
     "prompt_number": 4,
     "source": [
      "Box with 4 red balls"
     ]
    },
    {
     "cell_type": "markdown",
     "metadata": {},
     "prompt_number": 5,
     "source": [
      "\n",
      "There are 12 possible ways to draw two balls in order."
     ]
    },
    {
     "cell_type": "heading",
     "level": 3,
     "metadata": {
      "slideshow": {
       "slide_type": "slide"
      }
     },
     "prompt_number": 5,
     "source": [
      "Binomial formula"
     ]
    },
    {
     "cell_type": "markdown",
     "metadata": {},
     "prompt_number": 5,
     "source": [
      "\n",
      "Counting the ways of ordering the balls\n",
      " We arrive at 12 as follows:\n",
      "Draw 1 * There are 4 choices.\n",
      "Draw 2 * There are 3 choices.\n",
      "Hence, there are $4 \\times 3 = 12 = 4! / 2!$ ways of ordering the balls.\n",
      "Drawing $k$ balls out of $n$, in order\n",
      "\n",
      "The number of ways of drawing $k$ balls without replacement (in order) from $n$ is $\\frac{n!}{(n-k)!}$\n",
      "Example: the number of ways of choosing 5 balls from 7 in order is $7! / 5! = 7 \\times 6 = 42.$"
     ]
    },
    {
     "cell_type": "heading",
     "level": 3,
     "metadata": {
      "slideshow": {
       "slide_type": "slide"
      }
     },
     "prompt_number": 5,
     "source": [
      "Box with 4 red balls"
     ]
    },
    {
     "cell_type": "markdown",
     "metadata": {},
     "prompt_number": 6,
     "source": [
      "\n",
      "There are 6 possible ways to draw two balls ignoring order."
     ]
    },
    {
     "cell_type": "heading",
     "level": 3,
     "metadata": {
      "slideshow": {
       "slide_type": "slide"
      }
     },
     "prompt_number": 6,
     "source": [
      "Binomial formula"
     ]
    },
    {
     "cell_type": "markdown",
     "metadata": {},
     "prompt_number": 6,
     "source": [
      "\n",
      "Counting the ways of ordering the balls\n",
      " We arrive at 6 as follows:\n",
      "Draw 1 * There are 4 choices.\n",
      "Draw 2 * There are 3 choices.\n",
      "Ignoring order * When we ignore the order, each possible unordered draw corresponds to 2! ordered draws.\n",
      "Hence, there are $4 \\times 3 / 2! = 12 / 2 = 6$ ways of drawing 2 balls out of 4, ignoring order."
     ]
    },
    {
     "cell_type": "heading",
     "level": 3,
     "metadata": {
      "slideshow": {
       "slide_type": "slide"
      }
     },
     "prompt_number": 6,
     "source": [
      "Binomial formula"
     ]
    },
    {
     "cell_type": "markdown",
     "metadata": {},
     "prompt_number": 6,
     "source": [
      "\n",
      "Drawing $k$ balls out of $n$, ignoring order\n",
      "\n",
      "The number of ways of drawing $k$ balls without replacement (ignoring order) from $n$ is $\\frac{n!}{k! \\times (n-k)!}$\n",
      "Example: the number of ways of choosing 5 balls from 7 ignoring order is $7! / (5! 2!) = 7 \\times 6 /2  = 21.$\n",
      "Binomial coefficient\n",
      "\n",
      "Defined as $\\binom{n}{k} = \\frac{n!}{k! \\times (n-k)!} \\quad \\left(= \\binom{n}{n-k} \\right)$"
     ]
    },
    {
     "cell_type": "heading",
     "level": 3,
     "metadata": {
      "slideshow": {
       "slide_type": "slide"
      }
     },
     "prompt_number": 6,
     "source": [
      "Binomial formula"
     ]
    },
    {
     "cell_type": "markdown",
     "metadata": {},
     "prompt_number": 6,
     "source": [
      "\n",
      "Example\n",
      "\n",
      "Q * When flipping a coin 10 times, how many outcomes are there with 7 heads?\n",
      "A * We can represent this as drawing 7 out of a possible 10 slots for the heads, without order. There are $\\binom{10}{7} = \\frac{10 \\times 9 \\times 8}{3 \\times 2 \\times 1} = 120 \\\n",
      "     \\text{outcomes}$"
     ]
    },
    {
     "cell_type": "heading",
     "level": 3,
     "metadata": {
      "slideshow": {
       "slide_type": "slide"
      }
     },
     "prompt_number": 6,
     "source": [
      "Binomial formula"
     ]
    },
    {
     "cell_type": "markdown",
     "metadata": {},
     "prompt_number": 6,
     "source": [
      "\n",
      "Example (continued)\n",
      "\n",
      "Q * What are the chances when flipping a coin 10 times that there are 7 heads?\n",
      "A * We know that there are 120 such outcomes and each has probability $(1/2)^{10}$ (Why?). The chances are therefore $120 \\times \\left(\\frac{1}{2} \\right)^{10} \\approx 11 \\%.$"
     ]
    },
    {
     "cell_type": "heading",
     "level": 3,
     "metadata": {
      "slideshow": {
       "slide_type": "slide"
      }
     },
     "prompt_number": 6,
     "source": [
      "Binomial formula"
     ]
    },
    {
     "cell_type": "markdown",
     "metadata": {},
     "prompt_number": 6,
     "source": [
      "\n",
      "Example\n",
      "\n",
      "Q * When rolling a fair die 20 times, what are the chances that you will roll exactly 5 $\\epsdice{1}$\u2019s?\n",
      "A * There are $\\binom{20}{5} = 15504$ such outcomes (use a calculator). Each outcome has probability $(\\frac{1}{6})^5 (\\frac{5}{6})^{15}$. Therefore, the chances are $\\binom{20}{5} \\left(\\frac{1}{6} \\right)^5 \\left(\\frac{5}{6} \\right)^{15} \\approx 12\\%.$"
     ]
    },
    {
     "cell_type": "heading",
     "level": 3,
     "metadata": {
      "slideshow": {
       "slide_type": "slide"
      }
     },
     "prompt_number": 6,
     "source": [
      "Binomial formula"
     ]
    },
    {
     "cell_type": "markdown",
     "metadata": {},
     "prompt_number": 6,
     "source": [
      "\n",
      "Independent trials\n",
      "\n",
      "1. A *trial*\n",
      "    is an experiment with two possible outcomes:  *success*\n",
      "    or  *failure*\n",
      "   .\n",
      "1. The same experiment is repeated *independently*\n",
      "   .\n",
      "1. Each time the experiment is repeated, the chances of success are the same: ${\\color{pink} p}$.\n",
      "Binomial formula for computing probabilities\n",
      " When performing $n$ independent trials, each with probability of success $p$, the probability of observing exactly $k$ successes is $\\binom{n}{ k} { p^k} {(1-p)^ {n-k}} = \\binom{n}{{\\color{pink} k}} {\\color{pink} p^k} {\\color{yellow}(1-p)^ {n-k}}$"
     ]
    },
    {
     "cell_type": "heading",
     "level": 3,
     "metadata": {
      "slideshow": {
       "slide_type": "slide"
      }
     },
     "prompt_number": 6,
     "source": [
      "Roulette"
     ]
    },
    {
     "cell_type": "heading",
     "level": 3,
     "metadata": {
      "slideshow": {
       "slide_type": "slide"
      }
     },
     "prompt_number": 6,
     "source": [
      "Binomial formula"
     ]
    },
    {
     "cell_type": "markdown",
     "metadata": {},
     "prompt_number": 6,
     "source": [
      "\n",
      "Example\n",
      "\n",
      "Q * Suppose we bet on  5\n",
      "   for 6 spins of the roulette wheel. What are the chances we win exactly 3 times?\n",
      "Step 1 * Make a box model.\n",
      "Step 2 * For your box, compute the probability of success of each trial. Call this $p$.\n",
      "A * The answer is $\\binom{6}{3} p^3 (1-p)^3.$"
     ]
    },
    {
     "cell_type": "heading",
     "level": 3,
     "metadata": {
      "slideshow": {
       "slide_type": "slide"
      }
     },
     "prompt_number": 6,
     "source": [
      "Roulette"
     ]
    },
    {
     "cell_type": "markdown",
     "metadata": {},
     "prompt_number": 7,
     "source": [
      "\n",
      "Possible outcomes: balls numbered 1 to 36, plus [0, 00]."
     ]
    },
    {
     "cell_type": "heading",
     "level": 3,
     "metadata": {
      "slideshow": {
       "slide_type": "slide"
      }
     },
     "prompt_number": 7,
     "source": [
      "Roulette"
     ]
    },
    {
     "cell_type": "markdown",
     "metadata": {},
     "prompt_number": 8,
     "source": [
      "\n",
      "Betting on  5\n",
      ": only one ball is a success."
     ]
    },
    {
     "cell_type": "heading",
     "level": 3,
     "metadata": {
      "slideshow": {
       "slide_type": "slide"
      }
     },
     "prompt_number": 8,
     "source": [
      "Binomial formula"
     ]
    },
    {
     "cell_type": "markdown",
     "metadata": {},
     "prompt_number": 8,
     "source": [
      "\n",
      "Example (continued)\n",
      "\n",
      "Q * Suppose we bet on  5\n",
      "   for 6 spins of the roulette wheel. What are the chances we win exactly 3 times?\n",
      "Step 1 * Make a box model.\n",
      "Step 2 * From the box model, we see that $p = \\frac{1}{38}$\n",
      "A * The answer is $\\binom{6}{3} \\times \\left(\\frac{1}{38}\\right)^3 \\times \\left( \\frac{37}{38} \\right)^3 \\approx 0.03\\%$"
     ]
    },
    {
     "cell_type": "heading",
     "level": 3,
     "metadata": {
      "slideshow": {
       "slide_type": "slide"
      }
     },
     "prompt_number": 8,
     "source": [
      "Binomial formula"
     ]
    },
    {
     "cell_type": "markdown",
     "metadata": {},
     "prompt_number": 8,
     "source": [
      "\n",
      "Example\n",
      "\n",
      "Q * Suppose we bet on  RED\n",
      "   for 8 spins of the roulette wheel. What are the chances we win exactly 2 times?\n",
      "Step 1 * Make a box model.\n",
      "Step 2 * For your box, compute the probability of success of each trial. Call this $p$.\n",
      "A * The answer is $\\binom{8}{2} p^2 (1-p)^6.$"
     ]
    },
    {
     "cell_type": "heading",
     "level": 3,
     "metadata": {
      "slideshow": {
       "slide_type": "slide"
      }
     },
     "prompt_number": 8,
     "source": [
      "Roulette"
     ]
    },
    {
     "cell_type": "markdown",
     "metadata": {},
     "prompt_number": 9,
     "source": [
      "\n",
      "Betting on  RED\n",
      ": 18 balls are success."
     ]
    },
    {
     "cell_type": "heading",
     "level": 3,
     "metadata": {
      "slideshow": {
       "slide_type": "slide"
      }
     },
     "prompt_number": 9,
     "source": [
      "Binomial formula"
     ]
    },
    {
     "cell_type": "markdown",
     "metadata": {},
     "prompt_number": 9,
     "source": [
      "\n",
      "Example (continued)\n",
      "\n",
      "Q * Suppose we bet on  RED\n",
      "   for 8 spins of the roulette wheel. What are the chances we win exactly 2 times?\n",
      "Step 1 * Make a box model.\n",
      "Step 2 * From the box model, we see that $p = \\frac{18}{38}$\n",
      "A * The answer is $\\binom{8}{2} \\times \\left(\\frac{18}{38}\\right)^2 \\times \\left( \\frac{20}{38} \\right)^6 \\approx 13\\%$"
     ]
    },
    {
     "cell_type": "heading",
     "level": 3,
     "metadata": {
      "slideshow": {
       "slide_type": "slide"
      }
     },
     "prompt_number": 9,
     "source": [
      "Binomial formula"
     ]
    },
    {
     "cell_type": "markdown",
     "metadata": {},
     "prompt_number": 9,
     "source": [
      "\n",
      "Example (continued)\n",
      "\n",
      "Q * Suppose we bet on  RED\n",
      "   for 8 spins of the roulette wheel. What are the chances we win less than or equal to 2 times?\n",
      "A * To win less than or equal to 2 times, we can win 0, 1 or 2 times. These events are mutually exclusive. So the chances are $\\begin{aligned}\n",
      "     \\lefteqn{\\binom{8}{2} \\times \\left(\\frac{18}{38}\\right)^2 \\times \\left( \\frac{20}{38} \\right)^6} \\\\\n",
      "     & \\qquad + \\ \\binom{8}{1} \\times \\left(\\frac{18}{38}\\right)^1 \\times \\left( \\frac{20}{38} \\right)^7 \\\\\n",
      "     & \\qquad + \\ \\binom{8}{0} \\times \\left(\\frac{18}{38}\\right)^0 \\times \\left( \\frac{20}{38} \\right)^8 \\\\\n",
      "     & \\approx 18 \\%\n",
      "     \\end{aligned}$"
     ]
    },
    {
     "cell_type": "heading",
     "level": 3,
     "metadata": {
      "slideshow": {
       "slide_type": "slide"
      }
     },
     "prompt_number": 9,
     "source": [
      "Box model for winnings"
     ]
    },
    {
     "cell_type": "markdown",
     "metadata": {},
     "prompt_number": 10,
     "source": [
      "\n",
      "Betting 10$ on  RED\n",
      ": win 10$ with probability 9/19."
     ]
    },
    {
     "cell_type": "heading",
     "level": 3,
     "metadata": {
      "slideshow": {
       "slide_type": "slide"
      }
     },
     "prompt_number": 10,
     "source": [
      "Binomial formula"
     ]
    },
    {
     "cell_type": "markdown",
     "metadata": {},
     "prompt_number": 10,
     "source": [
      "\n",
      "Drawing without replacement\n",
      "\n",
      "Q * Suppose we go back to Box # 1 with 30 blue balls and 20 red balls. When drawing 5 balls without replacement, what are the chances that we draw 3 red balls?\n",
      "A * Let\u2019s count the number of subsets of size 5 of the balls with exactly 3 red balls in them. Call this number $N$. The answer is then $\\frac{N}{\\text{number of subsets of size 5 from 50 balls}} = \\frac{N}{\\binom{50}{5}}$"
     ]
    },
    {
     "cell_type": "heading",
     "level": 3,
     "metadata": {
      "slideshow": {
       "slide_type": "slide"
      }
     },
     "prompt_number": 10,
     "source": [
      "Box # 1: 30 blue, 20 red"
     ]
    },
    {
     "cell_type": "heading",
     "level": 3,
     "metadata": {
      "slideshow": {
       "slide_type": "slide"
      }
     },
     "prompt_number": 11,
     "source": [
      "Box # 1: 30 blue, 20 red"
     ]
    },
    {
     "cell_type": "markdown",
     "metadata": {},
     "prompt_number": 12,
     "source": [
      "\n",
      "Let\u2019s number the balls to emphasize they\u2019re distinct."
     ]
    },
    {
     "cell_type": "heading",
     "level": 3,
     "metadata": {
      "slideshow": {
       "slide_type": "slide"
      }
     },
     "prompt_number": 12,
     "source": [
      "Binomial formula"
     ]
    },
    {
     "cell_type": "markdown",
     "metadata": {},
     "prompt_number": 12,
     "source": [
      "\n",
      "Drawing without replacement\n",
      "\n",
      "Step 1 * There are ${\\color{red} \\binom{20}{3}}$ ways of choosing 3 of the red balls, i.e. 3 of the balls numbered 31 to 50.\n",
      "Step 2 * There are ${\\color{blue} \\binom{30}{2}}$ ways of choosing 2 of the blue balls, i.e. 2 of the balls numbered 1 to 30.\n",
      "Step 3 * The answer is $\\frac{{\\color{red} \\binom{20}{3}}{\\color{blue} \\binom{30}{2}}}{\\binom{50}{5}} \\approx  23\\%$"
     ]
    }
   ],
   "metadata": {}
  }
 ]
}
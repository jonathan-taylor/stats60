{
 "metadata": {
  "name": "",
  "signature": "sha256:057d0df9c1dea237298c4e8814cd6a1cbe280f218e45b5d564124c384e4883d7"
 },
 "nbformat": 3,
 "nbformat_minor": 0,
 "worksheets": [
  {
   "cells": [
    {
     "cell_type": "markdown",
     "metadata": {},
     "prompt_number": 1,
     "source": [
      "## 27.D.2\n",
      "\n",
      "In the Salk vaccine trial, 400,000 children were part of a randomized\n",
      "controlled double-blind experiment. Just about half of them\n",
      "were assigned at random to the vaccine group, and the other half\n",
      "to the placebo. In the vaccine group, there were 57\n",
      "cases of polio, compared to 142 in the placebo group.\n",
      "\n",
      "Is this difference due to chance? If not, what explains it?"
     ]
    }
   ],
   "metadata": {}
  }
 ]
}
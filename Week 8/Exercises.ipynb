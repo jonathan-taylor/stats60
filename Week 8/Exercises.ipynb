{
 "metadata": {
  "name": "",
  "signature": "sha256:fed3e5580425f3783796e3fe2a2bbd49ce2c5945682614136d345d92d3239e18"
 },
 "nbformat": 3,
 "nbformat_minor": 0,
 "worksheets": [
  {
   "cells": [
    {
     "cell_type": "markdown",
     "metadata": {},
     "prompt_number": 1,
     "source": [
      "## 26.F.3\n",
      "\n",
      "True or False. To make a $t$-test with 4 measurements, use \n",
      "Student's curve with 4 degrees of freedom.\n",
      "\n",
      "\n",
      "       False. With 4 measurements, we should use 3 degrees of freedom."
     ]
    },
    {
     "cell_type": "markdown",
     "metadata": {},
     "prompt_number": 1,
     "source": [
      "## 26.C.2\n",
      "\n",
      "Is Wheaties a power breakfast? A study is done in an elementary\n",
      "statistics class; 499 students agree to participate.\n",
      "After the midterm, 250 are randomized to the treatment group and \n",
      "249 to the control group. The treatment group is fed Wheaties\n",
      "for breakfast 7 days a week. The control group gets Sugar Pops.\n",
      "\n",
      "1. Final scores averaged 66 for the treatment group; the SD was 21.\n",
      "For the control group, the figures were 59 and 20. What do you conclude?\n",
      "\n",
      "       The Z-score is 3.81, at 1% significance we reject the null hypothesis\n",
      "       H_0: Wheaties = Sugar Pops and conclude H_a: Wheaties >= Sugar Pops.\n"
     ]
    },
    {
     "cell_type": "code",
     "collapsed": false,
     "input": [
      "SE_W = 21 / sqrt(250)\n",
      "SE_S = 20 / sqrt(249)\n",
      "SE_diff = sqrt(SE_W**2 + SE_S**2)\n",
      "Z = (66 - 59) / SE_diff\n",
      "SE_W, SE_S, SE_diff, Z"
     ],
     "language": "python",
     "metadata": {},
     "outputs": [],
     "prompt_number": 1
    },
    {
     "cell_type": "markdown",
     "metadata": {},
     "prompt_number": 2,
     "source": [
      "## 26.C.5\n",
      "\n",
      "In the box below, each ticket has a left-hand number and a right-hand number:"
     ]
    },
    {
     "cell_type": "code",
     "collapsed": false,
     "input": [
      "box = array([(0,4), (2,0), (3,6), (4,12), (6,8)])"
     ],
     "language": "python",
     "metadata": {},
     "outputs": [],
     "prompt_number": 2
    },
    {
     "cell_type": "markdown",
     "metadata": {},
     "prompt_number": 3,
     "source": [
      "(For instance, the left hand number on `(0,4)` is 0 and the right hand number is 4). One hundred draws are made at random with replacement from this box.\n",
      "One investigator computes the average of the left-hand numbers. A second \n",
      "investigator computes the average of the right-hand numbers. True or false, and explain:\n",
      "\n",
      "1. The SE for the first average is 0.2.\n",
      "\n",
      "        True.\n",
      "\n",
      "2. The SE for the second average is 0.4.\n",
      "\n",
      "\n",
      "         True.\n",
      "\n",
      "3. The SE for the difference of the two averages is $\\sqrt{0.2^2+0.4^2}$.\n",
      "\n",
      "\n",
      "          False. The samples `left` and `right` are not \n",
      "          independent because they came from the same 100 tickets. \n",
      "          Square root rule does not apply.\n",
      "          The SE for the difference can be found by looking\n",
      "          at the SD of the box of differences. Below,\n",
      "          we calculated that the SE of the difference of averages \n",
      "          is 0.32."
     ]
    },
    {
     "cell_type": "code",
     "collapsed": false,
     "input": [
      "left = box[:,0]\n",
      "left, std(left) / sqrt(100)"
     ],
     "language": "python",
     "metadata": {},
     "outputs": [],
     "prompt_number": 3
    },
    {
     "cell_type": "code",
     "collapsed": false,
     "input": [
      "right = box[:,1]\n",
      "right, std(right) / sqrt(100)"
     ],
     "language": "python",
     "metadata": {},
     "outputs": [],
     "prompt_number": 4
    },
    {
     "cell_type": "code",
     "collapsed": false,
     "input": [
      "diff = box[:,0] - box[:,1]\n",
      "diff, std(diff) / sqrt(100), sqrt(0.2**2 + 0.4**2)"
     ],
     "language": "python",
     "metadata": {},
     "outputs": [],
     "prompt_number": 5
    },
    {
     "cell_type": "markdown",
     "metadata": {},
     "prompt_number": 6,
     "source": [
      "## Example of a $t$-test\n",
      "\n",
      "A new device is being calibrated by weighing a 100g weight. Based on previous work, the errors\n",
      "follow the normal curve quite closely. The measurements are:"
     ]
    },
    {
     "cell_type": "code",
     "collapsed": false,
     "input": [
      "measurements = [101.,   96.,  101.,  102.,  102.,  103.,  108.,   99.,   97.,  103.]"
     ],
     "language": "python",
     "metadata": {},
     "outputs": [],
     "prompt_number": 6
    },
    {
     "cell_type": "markdown",
     "metadata": {},
     "prompt_number": 7,
     "source": [
      "Is the device biased? Set the problem up as a hypothesis test.\n",
      "\n",
      "1. What is the null hypothesis? The alternative?\n",
      "\n",
      "       H_0: true value (i.e. expected(measurement)) =100,\n",
      "       H_a: expected(measurement) != 100\n",
      "\n",
      "2. Compute the $t$-statistic and your conclusion."
     ]
    },
    {
     "cell_type": "code",
     "collapsed": false,
     "input": [
      "sample_average = mean(measurements)\n",
      "bootstrap_SE = std(measurements) / sqrt(10)\n",
      "Z = (sample_average - 100) / bootstrap_SE\n",
      "T_SE = (std(measurements) * sqrt(10. / 9) / sqrt(10))\n",
      "T = (sample_average - 100) / T_SE\n",
      "sample_average, bootstrap_SE, Z, T, T_SE, T/Z, sqrt(9/10.)\n"
     ],
     "language": "python",
     "metadata": {},
     "outputs": [],
     "prompt_number": 7
    },
    {
     "cell_type": "markdown",
     "metadata": {},
     "prompt_number": 8,
     "source": [
      "For degrees of freedom =9, the 5% cutoff is 2.26 in absolute value. We do not reject H_0 at the 5% level.\n",
      "\n",
      "What if we wanted to form a 95% confidence interval for the expected measurement\n",
      "based on our sample?\n",
      "\n",
      "A 95% confidence interval is $101.2 \\pm 2.26 * 1.07$."
     ]
    },
    {
     "cell_type": "markdown",
     "metadata": {},
     "prompt_number": 8,
     "source": [
      "## 27.D.2\n",
      "\n",
      "In the Salk vaccine trial, 400,000 children were part of a randomized\n",
      "controlled double-blind experiment. Just about half of them\n",
      "were assigned at random to the vaccine group, and the other half\n",
      "to the placebo. In the vaccine group, there were 57\n",
      "cases of polio, compared to 142 in the placebo group.\n",
      "\n",
      "Is this difference due to chance? If not, what explains it?"
     ]
    },
    {
     "cell_type": "code",
     "collapsed": false,
     "input": [
      "p_V = 57 / 200000.\n",
      "p_P = 142 / 200000.\n",
      "\n",
      "SE_V = sqrt(p_V * (1-p_V) / 200000)\n",
      "SE_P = sqrt(p_P * (1-p_P) / 200000)\n",
      "SE_diff = sqrt(SE_V**2 + SE_P**2)\n",
      "Z = (p_V - p_P) / SE_diff\n",
      "p_V, p_P, SE_V, SE_P, SE_diff, Z"
     ],
     "language": "python",
     "metadata": {},
     "outputs": [],
     "prompt_number": 8
    },
    {
     "cell_type": "markdown",
     "metadata": {},
     "prompt_number": 9,
     "source": [
      "                   Our $z$-score 6. This cannot be attributed to chance.\n",
      "                   Because it was a double-blinded randomized experiment,\n",
      "                   the only statistical difference between the groups was\n",
      "                   the vaccine. So we conclude the vaccine worked!"
     ]
    },
    {
     "cell_type": "markdown",
     "metadata": {},
     "prompt_number": 9,
     "source": [
      "## 27.D.5\n",
      "\n",
      "A geography test was given to a simple random sample of 250\n",
      "high-school students in a certain large school district.\n",
      "One question involved an outline of a map of Europe, with\n",
      "the countries identified only by number. As it turned out,\n",
      "65.6% could find France, compared to 70.4% or Great Britain.\n",
      "Is the difference statistically significant? Or can this be determined\n",
      "from the information given?"
     ]
    },
    {
     "cell_type": "code",
     "collapsed": false,
     "input": [],
     "language": "python",
     "metadata": {},
     "outputs": [],
     "prompt_number": 9
    }
   ],
   "metadata": {}
  }
 ]
}
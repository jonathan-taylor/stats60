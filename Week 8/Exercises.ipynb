{
 "metadata": {
  "name": "",
  "signature": "sha256:c9df2e332dbf3f2e4b42044dc6d6bcf80bd91c3661f00c1d6e8b13f0c9347b64"
 },
 "nbformat": 3,
 "nbformat_minor": 0,
 "worksheets": [
  {
   "cells": [
    {
     "cell_type": "markdown",
     "metadata": {},
     "prompt_number": 1,
     "source": [
      "## 26.F.3\n",
      "\n",
      "True or False. To make a $t$-test with 4 measurements, use \n",
      "Student's curve with 4 degrees of freedom.\n"
     ]
    },
    {
     "cell_type": "markdown",
     "metadata": {},
     "prompt_number": 1,
     "source": [
      "## Example of a $t$-test\n",
      "\n",
      "A new device is being calibrated by weighing a 100g weight. Based on previous work, the errors\n",
      "follow the normal curve quite closely. The measurements are:"
     ]
    },
    {
     "cell_type": "code",
     "collapsed": false,
     "input": [
      "measurements = [101.,   96.,  101.,  102.,  102.,  103.,  108.,   99.,   97.,  103.]"
     ],
     "language": "python",
     "metadata": {},
     "outputs": [],
     "prompt_number": 1
    },
    {
     "cell_type": "markdown",
     "metadata": {},
     "prompt_number": 2,
     "source": [
      "Is the device biased? Set the problem up as a hypothesis test.\n",
      "\n",
      "1. What is the null hypothesis? The alternative?\n",
      "\n",
      "       H_0: true value (expected(measurement)=100),\n",
      "       H_a: expected(measurement) != 100\n",
      "\n",
      "2. Compute the $t$-statistic and your conclusion."
     ]
    },
    {
     "cell_type": "code",
     "collapsed": false,
     "input": [
      "sample_average = mean(measurements)\n",
      "bootstrap_SE = std(measurements) / sqrt(10)\n",
      "Z = (sample_average - 100) / bootstrap_SE\n",
      "T_SE = (std(measurements) * sqrt(10. / 9) / sqrt(10))\n",
      "T = (sample_average - 100) / T_SE\n",
      "sample_average, bootstrap_SE, Z, T, T_SE, T/Z, sqrt(9/10.)\n"
     ],
     "language": "python",
     "metadata": {},
     "outputs": [],
     "prompt_number": 2
    },
    {
     "cell_type": "markdown",
     "metadata": {},
     "prompt_number": 3,
     "source": [
      "For degrees of freedom =9, the 5% cutoff is 2.26 in absolute value. We do not reject H_0 at the 5% level.\n",
      "\n",
      "What if we wanted to form a 95% confidence interval for the expected measurement\n",
      "based on our sample?\n",
      "\n",
      "A 95% confidence interval is $101.2 \\pm 2.26 * 1.07$."
     ]
    },
    {
     "cell_type": "markdown",
     "metadata": {},
     "prompt_number": 3,
     "source": [
      "## 27.D.2\n",
      "\n",
      "In the Salk vaccine trial, 400,000 children were part of a randomized\n",
      "controlled double-blind experiment. Just about half of them\n",
      "were assigned at random to the vaccine group, and the other half\n",
      "to the placebo. In the vaccine group, there were 57\n",
      "cases of polio, compared to 142 in the placebo group.\n",
      "\n",
      "Is this difference due to chance? If not, what explains it?"
     ]
    },
    {
     "cell_type": "markdown",
     "metadata": {},
     "prompt_number": 3,
     "source": [
      "## 27.D.6\n",
      "\n",
      "A geography test was given to a simple random sample of 250\n",
      "high-school students in a certain large school district.\n",
      "One question involved an outline of a map of Europe, with\n",
      "the countries identified only by number. As it turned out,\n",
      "65.6% could find France, compared to 70.4% or Great Britain.\n",
      "Is the difference statistically significant? Or can this be determined\n",
      "from the information given?"
     ]
    },
    {
     "cell_type": "code",
     "collapsed": false,
     "input": [],
     "language": "python",
     "metadata": {},
     "outputs": [],
     "prompt_number": 3
    }
   ],
   "metadata": {}
  }
 ]
}
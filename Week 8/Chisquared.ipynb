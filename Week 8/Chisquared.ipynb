{
 "metadata": {
  "name": "",
  "signature": "sha256:4fe5d86381d7fa42782e12dcd6f2d94c406ca3f2d5f348984b6021e6e20be6f5"
 },
 "nbformat": 3,
 "nbformat_minor": 0,
 "worksheets": [
  {
   "cells": [
    {
     "cell_type": "markdown",
     "metadata": {
      "slideshow": {
       "slide_type": "slide"
      }
     },
     "prompt_number": 1,
     "source": [
      "\n",
      "## Is the roulette game fair?\n",
      "\n",
      "* In an earlier example, we considered the question about whether a roulette wheel was rigged based on the results from betting in  RED.\n",
      "* We came up with a test of \"rigged\" or \"not rigged\" based on one bet on the wheel.\n",
      "* But, we could have looked at more than just this bet, we could have looked at all of the outcomes.\n",
      "* Tests like this are called \"goodness of fit\" tests."
     ]
    },
    {
     "cell_type": "markdown",
     "metadata": {
      "slideshow": {
       "slide_type": "slide"
      }
     },
     "prompt_number": 1,
     "source": [
      "## A simpler example than roulette\n",
      "\n",
      "* Suppose we have a die and we want to\n",
      "decide whether it is fair or not.\n",
      "\n",
      "* We roll the die 60 times. These are the outcomes:"
     ]
    },
    {
     "cell_type": "code",
     "collapsed": false,
     "input": [
      "%%capture\n",
      "data_table = make_table([('Value', 'Observed'), (1,4), (2,6), (3,17), (4,16), (5,8), (6,9), ('Total', 60)])"
     ],
     "language": "python",
     "metadata": {
      "slideshow": {
       "slide_type": "skip"
      }
     },
     "outputs": [],
     "prompt_number": 1
    },
    {
     "cell_type": "code",
     "collapsed": false,
     "input": [
      "data_table"
     ],
     "language": "python",
     "metadata": {
      "slideshow": {
       "slide_type": "fragment"
      }
     },
     "outputs": [],
     "prompt_number": 2
    },
    {
     "cell_type": "markdown",
     "metadata": {
      "slideshow": {
       "slide_type": "fragment"
      }
     },
     "prompt_number": 3,
     "source": [
      "\n",
      "* Looks like the number of 3's and 4's might be a little high (though\n",
      "we already decided we were going to form this test...)"
     ]
    },
    {
     "cell_type": "markdown",
     "metadata": {
      "slideshow": {
       "slide_type": "slide"
      }
     },
     "prompt_number": 3,
     "source": [
      "## Comparing to expected\n",
      "\n",
      "* We can add another column: the expected\n",
      "counts **if the die is fair**.\n",
      "* This is the null hypothesis: $H_0: \\text{die is fair}$."
     ]
    },
    {
     "cell_type": "code",
     "collapsed": false,
     "input": [
      "%%capture\n",
      "data_table2 = make_table([('Value', 'Observed', 'Expected'), (1,4,10), (2,6,10), (3,17,10), (4,16,10), (5,8,10), (6,9,10), ('Total', 60,60)])"
     ],
     "language": "python",
     "metadata": {
      "slideshow": {
       "slide_type": "skip"
      }
     },
     "outputs": [],
     "prompt_number": 3
    },
    {
     "cell_type": "code",
     "collapsed": false,
     "input": [
      "data_table2"
     ],
     "language": "python",
     "metadata": {
      "slideshow": {
       "slide_type": "fragment"
      }
     },
     "outputs": [],
     "prompt_number": 4
    },
    {
     "cell_type": "markdown",
     "metadata": {
      "slideshow": {
       "slide_type": "slide"
      }
     },
     "prompt_number": 5,
     "source": [
      "## Comparison to expected\n",
      "\n",
      "* If the die is unfair, the expected\n",
      "counts in some cells might be higher or lower.\n",
      "\n",
      "* We use the square of the difference instead of the difference.\n",
      "  "
     ]
    },
    {
     "cell_type": "code",
     "collapsed": false,
     "input": [
      "%%capture\n",
      "data_table3 = make_table([('Value', 'Observed', 'Expected', '(Observed - Expected)^2'), \n",
      "                          (1,4,10, '(4-10)^2=36'), \n",
      "                          (2,6,10, '(6-10)^2=16'), \n",
      "                          (3,17,10, '(17-10)^2=49'), \n",
      "                          (4,16,10, '(16-10)^2=36'), \n",
      "                          (5,8,10, '(8-10)^2=4'), \n",
      "                          (6,9,10, '(9-10)^2=1'), ('Total', 60,60, '' )])"
     ],
     "language": "python",
     "metadata": {
      "slideshow": {
       "slide_type": "skip"
      }
     },
     "outputs": [],
     "prompt_number": 5
    },
    {
     "cell_type": "code",
     "collapsed": false,
     "input": [
      "data_table3"
     ],
     "language": "python",
     "metadata": {
      "slideshow": {
       "slide_type": "fragment"
      }
     },
     "outputs": [],
     "prompt_number": 6
    },
    {
     "cell_type": "heading",
     "level": 3,
     "metadata": {
      "slideshow": {
       "slide_type": "slide"
      }
     },
     "prompt_number": 7,
     "source": [
      "Goodness of fit tests"
     ]
    },
    {
     "cell_type": "markdown",
     "metadata": {
      "slideshow": {
       "slide_type": "slide"
      }
     },
     "prompt_number": 7,
     "source": [
      "## Pearson's $X^2$ statistic\n",
      "\n",
      "* To get an overall tests, we combine the rows into *Pearson\u2019s $X^2$*\n",
      "   $$\n",
      "   \\begin{aligned}\n",
      "X^2 &= \\sum_i \\frac{\\text{(observed_i-expected_i)}^2}{\\text{expected_i}}\\\\\n",
      " &= \\sum_i \\frac{(O_i-E_i)^2}{E_i}\\\\\n",
      "\\end{aligned}\n",
      "$$\n",
      "* In our die example,\n",
      "$$\n",
      "\\begin{aligned}\n",
      "X^2 &= \\frac{36}{10} + \\frac{16}{10} + \\frac{49}{10} + \\frac{36}{10} + \\frac{4}{10} + \\frac{1}{10} \\\\\n",
      "&= \\frac{142}{10} \\\\\n",
      "&= 14.2\n",
      "\\end{aligned}\n",
      "$$\n",
      "\n",
      "* Is this big, or could the statistic be this big by chance?"
     ]
    },
    {
     "cell_type": "code",
     "collapsed": false,
     "input": [
      "%%capture\n",
      "from scipy.stats import chi2\n",
      "from pylab import fill_between\n",
      "\n",
      "def tail_chi2(observed, df, upper_lim=None):\n",
      "    if upper_lim is None:\n",
      "        upper_lim = 10*df\n",
      "\n",
      "    X = np.linspace(1.e-10, upper_lim, 201)\n",
      "    D = chi2.pdf(X, df)\n",
      "    fig = plt.figure(figsize=(6,6))\n",
      "    ax = fig.gca()\n",
      "    ax.plot(X, D, 'k', linewidth=5)\n",
      "    x = np.linspace(observed, upper_lim, 501)\n",
      "    ax.fill_between(x, 0, chi2.pdf(x, df), hatch='\\\\', facecolor='green')\n",
      "    ax.set_xlabel('$\\chi^2$ units', fontsize=15)\n",
      "    ax.set_ylabel('Percent per $\\chi^2$ units', fontsize=15)\n",
      "    ax.set_xlim([0, upper_lim])\n",
      "    return fig, ax\n",
      "\n",
      "die_fig, die_ax = tail_chi2(14.2, 5, upper_lim=20)"
     ],
     "language": "python",
     "metadata": {
      "slideshow": {
       "slide_type": "skip"
      }
     },
     "outputs": [],
     "prompt_number": 7
    },
    {
     "cell_type": "heading",
     "level": 3,
     "metadata": {
      "slideshow": {
       "slide_type": "slide"
      }
     },
     "prompt_number": 8,
     "source": [
      "What are the chances?"
     ]
    },
    {
     "cell_type": "code",
     "collapsed": false,
     "input": [
      "die_fig"
     ],
     "language": "python",
     "metadata": {
      "slideshow": {
       "slide_type": "fragment"
      }
     },
     "outputs": [],
     "prompt_number": 8
    },
    {
     "cell_type": "markdown",
     "metadata": {
      "slideshow": {
       "slide_type": "fragment"
      }
     },
     "prompt_number": 9,
     "source": [
      "\n",
      "The $\\chi^2_5$ probability histogram, the area is 1.4%"
     ]
    },
    {
     "cell_type": "markdown",
     "metadata": {
      "slideshow": {
       "slide_type": "fragment"
      }
     },
     "prompt_number": 9,
     "source": [
      "## What was that last histogram?\n",
      "\n",
      "* It is a new kind of probability histogram, called a $\\chi^2$ probability histogram or curve.\n",
      "* The $\\chi^2$ probability histogram or curve also has *degrees of freedom*\n",
      "   associated to it.\n",
      "* To figure out the degrees of freedom, we need a box."
     ]
    },
    {
     "cell_type": "markdown",
     "metadata": {
      "slideshow": {
       "slide_type": "slide"
      }
     },
     "prompt_number": 9,
     "source": [
      "## Degrees of freedom\n",
      "\n",
      "* Our box is [1,2,3,4,5,6].\n",
      "* Our goal is to see if our fit the box. Our data is supposed to be 60 draws with replacement from our box.\n",
      "* There are 6 different objects in the box and we have an observation for each object. Maybe the degrees of freedom is 6?\n",
      "* Not quite, it is 6-1=5. Why the -1? Because when we roll 60 times, the observed counts must sum to 60 \u2013 there are only 5 free variables."
     ]
    },
    {
     "cell_type": "markdown",
     "metadata": {
      "slideshow": {
       "slide_type": "slide"
      }
     },
     "prompt_number": 9,
     "source": [
      "## The $\\chi^2$ curve\n",
      "\n",
      "* Even if the die is fair, the $\\chi^2$ statistic will have some variability in it.\n",
      "* The $\\chi^2_5$ probability histogram describes this variability under $${H_0: \\text{the die is fair}}.$$\n",
      "* The 1.4% is the  $P$-value, or the observed significance level.\n",
      "* It is the probability we would observe a $\\chi^2$ statistic as large as our observed  $\\chi^2$\n",
      "   if ${H_0}$ is true.\n",
      "* **It is not the probability $H_0$ is true.**\n",
      "  "
     ]
    },
    {
     "cell_type": "heading",
     "level": 3,
     "metadata": {
      "slideshow": {
       "slide_type": "slide"
      }
     },
     "prompt_number": 9,
     "source": [
      "$\\chi^2$ curves"
     ]
    },
    {
     "cell_type": "code",
     "collapsed": false,
     "input": [
      "%%capture\n",
      "df5_fig, df5_ax = tail_chi2(chi2.ppf(0.95,5), 5, upper_lim=20)\n",
      "df5_ax.set_title(r'5%% rejection rule for $\\chi^2_5$: %0.1f' % chi2.ppf(0.95,5),\n",
      "                  fontsize=15)"
     ],
     "language": "python",
     "metadata": {
      "slideshow": {
       "slide_type": "skip"
      }
     },
     "outputs": [],
     "prompt_number": 9
    },
    {
     "cell_type": "code",
     "collapsed": false,
     "input": [
      "df5_fig"
     ],
     "language": "python",
     "metadata": {
      "slideshow": {
       "slide_type": "fragment"
      }
     },
     "outputs": [],
     "prompt_number": 10
    },
    {
     "cell_type": "code",
     "collapsed": false,
     "input": [
      "%%capture\n",
      "df10_fig, df10_ax = tail_chi2(chi2.ppf(0.95,10), 10, upper_lim=30)\n",
      "df10_ax.set_title(r'5%% rejection rule for $\\chi^2_{10}: %0.1f$' % chi2.ppf(0.95,10),\n",
      "                  fontsize=15)"
     ],
     "language": "python",
     "metadata": {
      "slideshow": {
       "slide_type": "skip"
      }
     },
     "outputs": [],
     "prompt_number": 11
    },
    {
     "cell_type": "code",
     "collapsed": false,
     "input": [
      "df10_fig"
     ],
     "language": "python",
     "metadata": {
      "slideshow": {
       "slide_type": "slide"
      }
     },
     "outputs": [],
     "prompt_number": 12
    },
    {
     "cell_type": "markdown",
     "metadata": {
      "slideshow": {
       "slide_type": "slide"
      }
     },
     "prompt_number": 13,
     "source": [
      "## Using the $\\chi^2$ test\n",
      "\n",
      "* A general rule of thumb: every expected value should be 5 or more for the $\\chi^2$ curve to approximate the probability histogram of the ${\\chi^2}$ statistic.\n",
      "* Would not apply to 100 draws from the box below:"
     ]
    },
    {
     "cell_type": "code",
     "collapsed": false,
     "input": [
      "box = [0,1,2,3] + [4]*96"
     ],
     "language": "python",
     "metadata": {
      "slideshow": {
       "slide_type": "fragment"
      }
     },
     "outputs": [],
     "prompt_number": 13
    },
    {
     "cell_type": "markdown",
     "metadata": {
      "slideshow": {
       "slide_type": "slide"
      }
     },
     "prompt_number": 14,
     "source": [
      "## Difference between $\\chi^2$ test and $z$ test\n",
      "\n",
      "* The $z$ test is a statement about the average of the box.\n",
      "* The $\\chi^2$ is a test whether the observed data follow the box model.\n",
      "* If there are only two values in the box, then the $\\chi^2$ test is identical to the (two-sided) $z$ test."
     ]
    },
    {
     "cell_type": "markdown",
     "metadata": {
      "slideshow": {
       "slide_type": "slide"
      }
     },
     "prompt_number": 14,
     "source": [
      "## Example\n",
      "\n",
      "* Suppose the box is `[A,A,B,B,B]`.\n",
      "* In 100 draws with replacement, we observe 46 `A`\u2019s (and 54 `B`\u2019s).\n",
      "* The $X^2$ test statistic is \n",
      "$$X^2 = \\frac{(46-40)^2}{40} + \\frac{(54-60)^2}{60} = 1.5$$\n",
      "* The $z$ statistic for testing $H_0:$ the expected proportion of `A`\u2019s = 0.4 is\n",
      "$$z = \\frac{0.46-0.40}{\\sqrt{0.4 \\times 0.6} / \\sqrt{100}} = 1.224$\n",
      "* Finally, $z^2 = (1.224)^2 = 1.5$. This is not a coincidence..."
     ]
    },
    {
     "cell_type": "code",
     "collapsed": false,
     "input": [
      "%%capture\n",
      "df1_fig, df1_ax = tail_chi2(chi2.ppf(0.95, 1), 1, upper_lim=5)\n",
      "df1_ax.set_title(r'5%% rejection rule for $\\chi^2_{1}: %0.2f$' % chi2.ppf(0.95,1),\n",
      "                  fontsize=15)\n",
      "df1_ax.set_ylim([0,.3])"
     ],
     "language": "python",
     "metadata": {
      "slideshow": {
       "slide_type": "skip"
      }
     },
     "outputs": [],
     "prompt_number": 14
    },
    {
     "cell_type": "code",
     "collapsed": false,
     "input": [
      "df1_fig"
     ],
     "language": "python",
     "metadata": {
      "slideshow": {
       "slide_type": "fragment"
      }
     },
     "outputs": [],
     "prompt_number": 15
    },
    {
     "cell_type": "code",
     "collapsed": false,
     "input": [
      "1.96**2, chi2.ppf(0.95,1)"
     ],
     "language": "python",
     "metadata": {
      "slideshow": {
       "slide_type": "fragment"
      }
     },
     "outputs": [],
     "prompt_number": 16
    },
    {
     "cell_type": "markdown",
     "metadata": {
      "slideshow": {
       "slide_type": "slide"
      }
     },
     "prompt_number": 17,
     "source": [
      "## Structure of a $\\chi^2$ test\n",
      "\n",
      "### Basic Data \n",
      "\n",
      "- The number of draws, $N$ and the resulting draws.\n",
      "\n",
      "- Data: \n",
      "\n",
      "Value | Observed Count\n",
      "----|----\n",
      "  1 | 4\n",
      "  2 | 6\n",
      "  3 | 17\n",
      "  4 | 16\n",
      "  5 | 8\n",
      "  6 | 9\n",
      "  Total | 60 (=$N$)\n",
      "\n",
      "- Box: [1,2,3,4,5,6]\n",
      "\n",
      "- Degrees of freedom: In our example, this was 5 which was the number of \"free parameters.\" Call this number\n",
      "`df`.\n",
      "\n",
      "- $P$-value: Computed using the $\\chi^2_{df}$ curve. This was about 1.4% in our example."
     ]
    },
    {
     "cell_type": "markdown",
     "metadata": {
      "slideshow": {
       "slide_type": "slide"
      }
     },
     "prompt_number": 17,
     "source": [
      "## Testing independence: another $\\chi^2$ test\n",
      "\n",
      "### Handedness and gender\n",
      "\n",
      "* Data example from book:\n",
      " \n",
      "Handedness   | Male | Female\n",
      "-------------|------|-------\n",
      "Right        | 934  | 1070\n",
      "Left         | 113  | 92\n",
      "Ambidextrous | 20   | 8\n",
      "\n",
      "* Is handedness related to gender (or not)?"
     ]
    },
    {
     "cell_type": "markdown",
     "metadata": {
      "slideshow": {
       "slide_type": "slide"
      }
     },
     "prompt_number": 17,
     "source": [
      "## Marginal totals\n",
      "\n",
      "* There are both \"row totals\" and \"column totals\", these are called *marginals*.\n",
      "   \n",
      "\n",
      "Handedness   | Male | Female | Total(Handedness)\n",
      "-------------|------|--------|----------\n",
      "Right        | 934  | 1070   | 2004\n",
      "Left         | 113  | 92     | 205\n",
      "Ambidextrous | 20   | 8      |   28\n",
      "Total(Gender)| 1067 | 1170   | 2237\n"
     ]
    },
    {
     "cell_type": "markdown",
     "metadata": {
      "slideshow": {
       "slide_type": "slide"
      }
     },
     "prompt_number": 17,
     "source": [
      "## Test of independence\n",
      "\n",
      "* The null hypothesis is  **$H_0$: handedness is independent from gender.**\n",
      "* This means that the probability a person (drawn at random) from the population is, say, a left-handed male, is the product of two probabilities: the probability a person is left-handed and the probability a person is male.\n",
      "* Or, \n",
      "$$P(\\text{left-handed and male}) = P(\\text{left-handed}) \\times P(\\text{male})$$"
     ]
    },
    {
     "cell_type": "markdown",
     "metadata": {
      "slideshow": {
       "slide_type": "slide"
      }
     },
     "prompt_number": 17,
     "source": [
      "## Expected value under $H_0$\n",
      "\n",
      "* Having specified the box, we can express ${H_0}$ via some equalities about the tickets in the box: $$\\begin{aligned}\n",
      "       p_{L,M} &= p_L \\times p_M \\\\\n",
      "       p_{R,M} &= p_R \\times p_M \\\\\n",
      "       p_{A,M} &= p_A \\times p_M \\\\\n",
      "       p_{L,F} &= p_L \\times p_F \\\\\n",
      "       p_{R,F} &= p_R \\times p_F \\\\\n",
      "       p_{A,F} &= p_A \\times p_F \\\\\n",
      "       \\end{aligned}$$\n",
      "* Some of these equalities are redundant. This affects the degrees of freedom."
     ]
    },
    {
     "cell_type": "markdown",
     "metadata": {
      "slideshow": {
       "slide_type": "slide"
      }
     },
     "prompt_number": 17,
     "source": [
      "## Idea behind the test of independence\n",
      "\n",
      "* If $H_0$ is true, the observed counts should follow a similar structure: the proportion of left-handed males should be close to the proportion of left-handed females, etc.\n",
      "* This is our model for the Expected\n",
      "   or $E$ part of the $\\chi^2$ statistic which we use to construct the frequency table.\n",
      "* The sample proportion of men is  48%\n",
      "  , the sample proportion of left-handed is  9.2%\n",
      "  .\n",
      "* Under $H_0$, the independence model, we estimate that, in a sample of size 2237, we would see $2237 \\times 0.48 \\times 0.092 \\approx 98$ left handed males."
     ]
    },
    {
     "cell_type": "markdown",
     "metadata": {
      "slideshow": {
       "slide_type": "slide"
      }
     },
     "prompt_number": 17,
     "source": [
      "## Expected counts under $H_0$\n",
      "\n",
      "* Continuing for all 6 cases yields a table of \"Expected Counts\"\n",
      "\n",
      "\n",
      "\n",
      "\n",
      "Handedness   | Male | Female | Total(Handedness)\n",
      "-------------|------|--------|----------\n",
      "Right        | 956  | 1048   | 2004\n",
      "Left         | 98   | 107    | 205\n",
      "Ambidextrous | 13   | 15     |   28\n",
      "Total(Gender)| 1067 | 1170   | 2237\n",
      "\n"
     ]
    },
    {
     "cell_type": "markdown",
     "metadata": {
      "slideshow": {
       "slide_type": "slide"
      }
     },
     "prompt_number": 17,
     "source": [
      "## Computing the $X^2$ statistic\n",
      "\n",
      "* The $X^2$ statistic is computed in exactly the same way $\\begin{aligned}\n",
      "           \\chi^2 &= \\frac{(934-956)^2}{956} + \\frac{(1070-1048)^2}{1048} +\n",
      "            \\frac{(113-98)^2}{98} \\\\\n",
      "           & \\qquad +  \\frac{(92-107)^2}{107} + \\frac{(20-13)^2}{13} + \\frac{(8-15)^2}{15}  \\\\\n",
      "           &\\approx 12\n",
      "         \\end{aligned}$\n",
      "* In symbols, $\\chi^2 = \\sum_{i=1}^3 \\sum_{j=1}^2 \\frac{(O_{ij}-E_{ij})^2}{E_{ij}}$"
     ]
    },
    {
     "cell_type": "markdown",
     "metadata": {
      "slideshow": {
       "slide_type": "slide"
      }
     },
     "prompt_number": 17,
     "source": [
      "### Degrees of freedom and $P$-value\n",
      "\n",
      "* This leaves the last two parts of the $\\chi^2$ test: degrees of freedom and the $P$-value.\n",
      "* The degrees of freedom for this test are actually only 2. This can be seen in the difference table\n",
      "* \n",
      "\n",
      "\n",
      "Handedness   | Male | Female | Total(Handedness)\n",
      "-------------|------|--------|----------\n",
      "Right        | -22  | 22     | 0\n",
      "Left         | 15   | -15    | 0\n",
      "Ambidextrous | 7    | 7      | 0\n",
      "Total(Gender)| 0    | 0      | 0\n",
      "\n",
      "\n",
      "* By construction all the marginal totals of the difference table are 0. So, we can only set two of the values freely."
     ]
    },
    {
     "cell_type": "heading",
     "level": 3,
     "metadata": {
      "slideshow": {
       "slide_type": "slide"
      }
     },
     "prompt_number": 17,
     "source": [
      "$\\chi^2_2$ probability histogram"
     ]
    },
    {
     "cell_type": "code",
     "collapsed": false,
     "input": [
      "%%capture\n",
      "df2_fig, df2_ax = tail_chi2(chi2.ppf(0.95, 2), 2, upper_lim=8)\n",
      "df2_ax.set_title(r'5%% rejection rule for $\\chi^2_{2}: %0.1f$' % chi2.ppf(0.95,2),\n",
      "                  fontsize=15)\n",
      "df2_ax.set_ylim([0,.3])"
     ],
     "language": "python",
     "metadata": {
      "slideshow": {
       "slide_type": "skip"
      }
     },
     "outputs": [],
     "prompt_number": 17
    },
    {
     "cell_type": "code",
     "collapsed": false,
     "input": [
      "df2_fig"
     ],
     "language": "python",
     "metadata": {
      "slideshow": {
       "slide_type": "fragment"
      }
     },
     "outputs": [],
     "prompt_number": 18
    },
    {
     "cell_type": "markdown",
     "metadata": {
      "slideshow": {
       "slide_type": "fragment"
      }
     },
     "prompt_number": 19,
     "source": [
      "At level 5%, we reject the independence null hypothesis and conclude\n",
      "that handedness is related to gender (in this population)."
     ]
    }
   ],
   "metadata": {}
  }
 ]
}